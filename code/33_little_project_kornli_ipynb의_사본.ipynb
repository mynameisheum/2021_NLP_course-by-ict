{
  "nbformat": 4,
  "nbformat_minor": 0,
  "metadata": {
    "colab": {
      "name": "33-little_project-kornli.ipynb의 사본",
      "provenance": [],
      "collapsed_sections": [
        "ffFq5_Avbsq-",
        "yeMJGOp6rWqA",
        "ybu6dgSsrWqH",
        "QMv_B7verWqI",
        "jqzSYTPGrWqK"
      ]
    },
    "kernelspec": {
      "name": "python3",
      "display_name": "Python 3"
    },
    "language_info": {
      "name": "python"
    },
    "widgets": {
      "application/vnd.jupyter.widget-state+json": {
        "060c3f39bea84359bfb508bdda3c3250": {
          "model_module": "@jupyter-widgets/controls",
          "model_name": "HBoxModel",
          "state": {
            "_view_name": "HBoxView",
            "_dom_classes": [],
            "_model_name": "HBoxModel",
            "_view_module": "@jupyter-widgets/controls",
            "_model_module_version": "1.5.0",
            "_view_count": null,
            "_view_module_version": "1.5.0",
            "box_style": "",
            "layout": "IPY_MODEL_2abb46f78c8444e896a06942a62e16be",
            "_model_module": "@jupyter-widgets/controls",
            "children": [
              "IPY_MODEL_55dbe76105bc42ea92d99e9b92e707d7",
              "IPY_MODEL_415bf0b30cab4edf9683b2dd7d362a8c"
            ]
          }
        },
        "2abb46f78c8444e896a06942a62e16be": {
          "model_module": "@jupyter-widgets/base",
          "model_name": "LayoutModel",
          "state": {
            "_view_name": "LayoutView",
            "grid_template_rows": null,
            "right": null,
            "justify_content": null,
            "_view_module": "@jupyter-widgets/base",
            "overflow": null,
            "_model_module_version": "1.2.0",
            "_view_count": null,
            "flex_flow": null,
            "width": null,
            "min_width": null,
            "border": null,
            "align_items": null,
            "bottom": null,
            "_model_module": "@jupyter-widgets/base",
            "top": null,
            "grid_column": null,
            "overflow_y": null,
            "overflow_x": null,
            "grid_auto_flow": null,
            "grid_area": null,
            "grid_template_columns": null,
            "flex": null,
            "_model_name": "LayoutModel",
            "justify_items": null,
            "grid_row": null,
            "max_height": null,
            "align_content": null,
            "visibility": null,
            "align_self": null,
            "height": null,
            "min_height": null,
            "padding": null,
            "grid_auto_rows": null,
            "grid_gap": null,
            "max_width": null,
            "order": null,
            "_view_module_version": "1.2.0",
            "grid_template_areas": null,
            "object_position": null,
            "object_fit": null,
            "grid_auto_columns": null,
            "margin": null,
            "display": null,
            "left": null
          }
        },
        "55dbe76105bc42ea92d99e9b92e707d7": {
          "model_module": "@jupyter-widgets/controls",
          "model_name": "FloatProgressModel",
          "state": {
            "_view_name": "ProgressView",
            "style": "IPY_MODEL_abf2e52311f8493cac61309cccda5d7a",
            "_dom_classes": [],
            "description": "100%",
            "_model_name": "FloatProgressModel",
            "bar_style": "success",
            "max": 10,
            "_view_module": "@jupyter-widgets/controls",
            "_model_module_version": "1.5.0",
            "value": 10,
            "_view_count": null,
            "_view_module_version": "1.5.0",
            "orientation": "horizontal",
            "min": 0,
            "description_tooltip": null,
            "_model_module": "@jupyter-widgets/controls",
            "layout": "IPY_MODEL_a38c563346f247d8abec4bab399625a3"
          }
        },
        "415bf0b30cab4edf9683b2dd7d362a8c": {
          "model_module": "@jupyter-widgets/controls",
          "model_name": "HTMLModel",
          "state": {
            "_view_name": "HTMLView",
            "style": "IPY_MODEL_28e7336d35af49e1b729cc4d9deb55a0",
            "_dom_classes": [],
            "description": "",
            "_model_name": "HTMLModel",
            "placeholder": "​",
            "_view_module": "@jupyter-widgets/controls",
            "_model_module_version": "1.5.0",
            "value": " 10/10 [03:15&lt;00:00, 19.52s/it]",
            "_view_count": null,
            "_view_module_version": "1.5.0",
            "description_tooltip": null,
            "_model_module": "@jupyter-widgets/controls",
            "layout": "IPY_MODEL_a10bb06384834d4c86feb0a94622b54d"
          }
        },
        "abf2e52311f8493cac61309cccda5d7a": {
          "model_module": "@jupyter-widgets/controls",
          "model_name": "ProgressStyleModel",
          "state": {
            "_view_name": "StyleView",
            "_model_name": "ProgressStyleModel",
            "description_width": "initial",
            "_view_module": "@jupyter-widgets/base",
            "_model_module_version": "1.5.0",
            "_view_count": null,
            "_view_module_version": "1.2.0",
            "bar_color": null,
            "_model_module": "@jupyter-widgets/controls"
          }
        },
        "a38c563346f247d8abec4bab399625a3": {
          "model_module": "@jupyter-widgets/base",
          "model_name": "LayoutModel",
          "state": {
            "_view_name": "LayoutView",
            "grid_template_rows": null,
            "right": null,
            "justify_content": null,
            "_view_module": "@jupyter-widgets/base",
            "overflow": null,
            "_model_module_version": "1.2.0",
            "_view_count": null,
            "flex_flow": null,
            "width": null,
            "min_width": null,
            "border": null,
            "align_items": null,
            "bottom": null,
            "_model_module": "@jupyter-widgets/base",
            "top": null,
            "grid_column": null,
            "overflow_y": null,
            "overflow_x": null,
            "grid_auto_flow": null,
            "grid_area": null,
            "grid_template_columns": null,
            "flex": null,
            "_model_name": "LayoutModel",
            "justify_items": null,
            "grid_row": null,
            "max_height": null,
            "align_content": null,
            "visibility": null,
            "align_self": null,
            "height": null,
            "min_height": null,
            "padding": null,
            "grid_auto_rows": null,
            "grid_gap": null,
            "max_width": null,
            "order": null,
            "_view_module_version": "1.2.0",
            "grid_template_areas": null,
            "object_position": null,
            "object_fit": null,
            "grid_auto_columns": null,
            "margin": null,
            "display": null,
            "left": null
          }
        },
        "28e7336d35af49e1b729cc4d9deb55a0": {
          "model_module": "@jupyter-widgets/controls",
          "model_name": "DescriptionStyleModel",
          "state": {
            "_view_name": "StyleView",
            "_model_name": "DescriptionStyleModel",
            "description_width": "",
            "_view_module": "@jupyter-widgets/base",
            "_model_module_version": "1.5.0",
            "_view_count": null,
            "_view_module_version": "1.2.0",
            "_model_module": "@jupyter-widgets/controls"
          }
        },
        "a10bb06384834d4c86feb0a94622b54d": {
          "model_module": "@jupyter-widgets/base",
          "model_name": "LayoutModel",
          "state": {
            "_view_name": "LayoutView",
            "grid_template_rows": null,
            "right": null,
            "justify_content": null,
            "_view_module": "@jupyter-widgets/base",
            "overflow": null,
            "_model_module_version": "1.2.0",
            "_view_count": null,
            "flex_flow": null,
            "width": null,
            "min_width": null,
            "border": null,
            "align_items": null,
            "bottom": null,
            "_model_module": "@jupyter-widgets/base",
            "top": null,
            "grid_column": null,
            "overflow_y": null,
            "overflow_x": null,
            "grid_auto_flow": null,
            "grid_area": null,
            "grid_template_columns": null,
            "flex": null,
            "_model_name": "LayoutModel",
            "justify_items": null,
            "grid_row": null,
            "max_height": null,
            "align_content": null,
            "visibility": null,
            "align_self": null,
            "height": null,
            "min_height": null,
            "padding": null,
            "grid_auto_rows": null,
            "grid_gap": null,
            "max_width": null,
            "order": null,
            "_view_module_version": "1.2.0",
            "grid_template_areas": null,
            "object_position": null,
            "object_fit": null,
            "grid_auto_columns": null,
            "margin": null,
            "display": null,
            "left": null
          }
        },
        "a5afdce990f14c4db7623e5c232a50c9": {
          "model_module": "@jupyter-widgets/controls",
          "model_name": "HBoxModel",
          "state": {
            "_view_name": "HBoxView",
            "_dom_classes": [],
            "_model_name": "HBoxModel",
            "_view_module": "@jupyter-widgets/controls",
            "_model_module_version": "1.5.0",
            "_view_count": null,
            "_view_module_version": "1.5.0",
            "box_style": "",
            "layout": "IPY_MODEL_1fe74c0ec4b944d4aed8bd5d5c03d8b5",
            "_model_module": "@jupyter-widgets/controls",
            "children": [
              "IPY_MODEL_d2b781b317ba4a08993a829b68be6976",
              "IPY_MODEL_df3c1336c7bb4ccd8e81145a5e565dd4"
            ]
          }
        },
        "1fe74c0ec4b944d4aed8bd5d5c03d8b5": {
          "model_module": "@jupyter-widgets/base",
          "model_name": "LayoutModel",
          "state": {
            "_view_name": "LayoutView",
            "grid_template_rows": null,
            "right": null,
            "justify_content": null,
            "_view_module": "@jupyter-widgets/base",
            "overflow": null,
            "_model_module_version": "1.2.0",
            "_view_count": null,
            "flex_flow": null,
            "width": null,
            "min_width": null,
            "border": null,
            "align_items": null,
            "bottom": null,
            "_model_module": "@jupyter-widgets/base",
            "top": null,
            "grid_column": null,
            "overflow_y": null,
            "overflow_x": null,
            "grid_auto_flow": null,
            "grid_area": null,
            "grid_template_columns": null,
            "flex": null,
            "_model_name": "LayoutModel",
            "justify_items": null,
            "grid_row": null,
            "max_height": null,
            "align_content": null,
            "visibility": null,
            "align_self": null,
            "height": null,
            "min_height": null,
            "padding": null,
            "grid_auto_rows": null,
            "grid_gap": null,
            "max_width": null,
            "order": null,
            "_view_module_version": "1.2.0",
            "grid_template_areas": null,
            "object_position": null,
            "object_fit": null,
            "grid_auto_columns": null,
            "margin": null,
            "display": null,
            "left": null
          }
        },
        "d2b781b317ba4a08993a829b68be6976": {
          "model_module": "@jupyter-widgets/controls",
          "model_name": "FloatProgressModel",
          "state": {
            "_view_name": "ProgressView",
            "style": "IPY_MODEL_f43ba8c475ec499fb5669aae9d6ed615",
            "_dom_classes": [],
            "description": "100%",
            "_model_name": "FloatProgressModel",
            "bar_style": "success",
            "max": 10,
            "_view_module": "@jupyter-widgets/controls",
            "_model_module_version": "1.5.0",
            "value": 10,
            "_view_count": null,
            "_view_module_version": "1.5.0",
            "orientation": "horizontal",
            "min": 0,
            "description_tooltip": null,
            "_model_module": "@jupyter-widgets/controls",
            "layout": "IPY_MODEL_3527cc964702471a80d3d62e15c88be1"
          }
        },
        "df3c1336c7bb4ccd8e81145a5e565dd4": {
          "model_module": "@jupyter-widgets/controls",
          "model_name": "HTMLModel",
          "state": {
            "_view_name": "HTMLView",
            "style": "IPY_MODEL_8f2e783fdad7442aa9fc33ebd1aab77f",
            "_dom_classes": [],
            "description": "",
            "_model_name": "HTMLModel",
            "placeholder": "​",
            "_view_module": "@jupyter-widgets/controls",
            "_model_module_version": "1.5.0",
            "value": " 10/10 [00:05&lt;00:00,  1.96it/s]",
            "_view_count": null,
            "_view_module_version": "1.5.0",
            "description_tooltip": null,
            "_model_module": "@jupyter-widgets/controls",
            "layout": "IPY_MODEL_eb91a69aa25741cda123ac8f6dd232ee"
          }
        },
        "f43ba8c475ec499fb5669aae9d6ed615": {
          "model_module": "@jupyter-widgets/controls",
          "model_name": "ProgressStyleModel",
          "state": {
            "_view_name": "StyleView",
            "_model_name": "ProgressStyleModel",
            "description_width": "initial",
            "_view_module": "@jupyter-widgets/base",
            "_model_module_version": "1.5.0",
            "_view_count": null,
            "_view_module_version": "1.2.0",
            "bar_color": null,
            "_model_module": "@jupyter-widgets/controls"
          }
        },
        "3527cc964702471a80d3d62e15c88be1": {
          "model_module": "@jupyter-widgets/base",
          "model_name": "LayoutModel",
          "state": {
            "_view_name": "LayoutView",
            "grid_template_rows": null,
            "right": null,
            "justify_content": null,
            "_view_module": "@jupyter-widgets/base",
            "overflow": null,
            "_model_module_version": "1.2.0",
            "_view_count": null,
            "flex_flow": null,
            "width": null,
            "min_width": null,
            "border": null,
            "align_items": null,
            "bottom": null,
            "_model_module": "@jupyter-widgets/base",
            "top": null,
            "grid_column": null,
            "overflow_y": null,
            "overflow_x": null,
            "grid_auto_flow": null,
            "grid_area": null,
            "grid_template_columns": null,
            "flex": null,
            "_model_name": "LayoutModel",
            "justify_items": null,
            "grid_row": null,
            "max_height": null,
            "align_content": null,
            "visibility": null,
            "align_self": null,
            "height": null,
            "min_height": null,
            "padding": null,
            "grid_auto_rows": null,
            "grid_gap": null,
            "max_width": null,
            "order": null,
            "_view_module_version": "1.2.0",
            "grid_template_areas": null,
            "object_position": null,
            "object_fit": null,
            "grid_auto_columns": null,
            "margin": null,
            "display": null,
            "left": null
          }
        },
        "8f2e783fdad7442aa9fc33ebd1aab77f": {
          "model_module": "@jupyter-widgets/controls",
          "model_name": "DescriptionStyleModel",
          "state": {
            "_view_name": "StyleView",
            "_model_name": "DescriptionStyleModel",
            "description_width": "",
            "_view_module": "@jupyter-widgets/base",
            "_model_module_version": "1.5.0",
            "_view_count": null,
            "_view_module_version": "1.2.0",
            "_model_module": "@jupyter-widgets/controls"
          }
        },
        "eb91a69aa25741cda123ac8f6dd232ee": {
          "model_module": "@jupyter-widgets/base",
          "model_name": "LayoutModel",
          "state": {
            "_view_name": "LayoutView",
            "grid_template_rows": null,
            "right": null,
            "justify_content": null,
            "_view_module": "@jupyter-widgets/base",
            "overflow": null,
            "_model_module_version": "1.2.0",
            "_view_count": null,
            "flex_flow": null,
            "width": null,
            "min_width": null,
            "border": null,
            "align_items": null,
            "bottom": null,
            "_model_module": "@jupyter-widgets/base",
            "top": null,
            "grid_column": null,
            "overflow_y": null,
            "overflow_x": null,
            "grid_auto_flow": null,
            "grid_area": null,
            "grid_template_columns": null,
            "flex": null,
            "_model_name": "LayoutModel",
            "justify_items": null,
            "grid_row": null,
            "max_height": null,
            "align_content": null,
            "visibility": null,
            "align_self": null,
            "height": null,
            "min_height": null,
            "padding": null,
            "grid_auto_rows": null,
            "grid_gap": null,
            "max_width": null,
            "order": null,
            "_view_module_version": "1.2.0",
            "grid_template_areas": null,
            "object_position": null,
            "object_fit": null,
            "grid_auto_columns": null,
            "margin": null,
            "display": null,
            "left": null
          }
        },
        "249ca02dd71a4128aa98efa8eb8b5585": {
          "model_module": "@jupyter-widgets/controls",
          "model_name": "HBoxModel",
          "state": {
            "_view_name": "HBoxView",
            "_dom_classes": [],
            "_model_name": "HBoxModel",
            "_view_module": "@jupyter-widgets/controls",
            "_model_module_version": "1.5.0",
            "_view_count": null,
            "_view_module_version": "1.5.0",
            "box_style": "",
            "layout": "IPY_MODEL_994f0618a3f345ec9b00f711e7d71442",
            "_model_module": "@jupyter-widgets/controls",
            "children": [
              "IPY_MODEL_04a33898a82445be8d26e02bd358f5f6",
              "IPY_MODEL_6471e6c508c54daaa10b2d4d98931612"
            ]
          }
        },
        "994f0618a3f345ec9b00f711e7d71442": {
          "model_module": "@jupyter-widgets/base",
          "model_name": "LayoutModel",
          "state": {
            "_view_name": "LayoutView",
            "grid_template_rows": null,
            "right": null,
            "justify_content": null,
            "_view_module": "@jupyter-widgets/base",
            "overflow": null,
            "_model_module_version": "1.2.0",
            "_view_count": null,
            "flex_flow": null,
            "width": null,
            "min_width": null,
            "border": null,
            "align_items": null,
            "bottom": null,
            "_model_module": "@jupyter-widgets/base",
            "top": null,
            "grid_column": null,
            "overflow_y": null,
            "overflow_x": null,
            "grid_auto_flow": null,
            "grid_area": null,
            "grid_template_columns": null,
            "flex": null,
            "_model_name": "LayoutModel",
            "justify_items": null,
            "grid_row": null,
            "max_height": null,
            "align_content": null,
            "visibility": null,
            "align_self": null,
            "height": null,
            "min_height": null,
            "padding": null,
            "grid_auto_rows": null,
            "grid_gap": null,
            "max_width": null,
            "order": null,
            "_view_module_version": "1.2.0",
            "grid_template_areas": null,
            "object_position": null,
            "object_fit": null,
            "grid_auto_columns": null,
            "margin": null,
            "display": null,
            "left": null
          }
        },
        "04a33898a82445be8d26e02bd358f5f6": {
          "model_module": "@jupyter-widgets/controls",
          "model_name": "FloatProgressModel",
          "state": {
            "_view_name": "ProgressView",
            "style": "IPY_MODEL_6f0de3da40c94c64b22cb2f0f8bf7a1f",
            "_dom_classes": [],
            "description": "100%",
            "_model_name": "FloatProgressModel",
            "bar_style": "success",
            "max": 10,
            "_view_module": "@jupyter-widgets/controls",
            "_model_module_version": "1.5.0",
            "value": 10,
            "_view_count": null,
            "_view_module_version": "1.5.0",
            "orientation": "horizontal",
            "min": 0,
            "description_tooltip": null,
            "_model_module": "@jupyter-widgets/controls",
            "layout": "IPY_MODEL_6978f8445bd14fd48d58800d0be5197a"
          }
        },
        "6471e6c508c54daaa10b2d4d98931612": {
          "model_module": "@jupyter-widgets/controls",
          "model_name": "HTMLModel",
          "state": {
            "_view_name": "HTMLView",
            "style": "IPY_MODEL_7eb005f64d404007a6649e75f8a6cf75",
            "_dom_classes": [],
            "description": "",
            "_model_name": "HTMLModel",
            "placeholder": "​",
            "_view_module": "@jupyter-widgets/controls",
            "_model_module_version": "1.5.0",
            "value": " 10/10 [00:07&lt;00:00,  1.38it/s]",
            "_view_count": null,
            "_view_module_version": "1.5.0",
            "description_tooltip": null,
            "_model_module": "@jupyter-widgets/controls",
            "layout": "IPY_MODEL_dca68b57af4e498fa899c5ea0fc13db0"
          }
        },
        "6f0de3da40c94c64b22cb2f0f8bf7a1f": {
          "model_module": "@jupyter-widgets/controls",
          "model_name": "ProgressStyleModel",
          "state": {
            "_view_name": "StyleView",
            "_model_name": "ProgressStyleModel",
            "description_width": "initial",
            "_view_module": "@jupyter-widgets/base",
            "_model_module_version": "1.5.0",
            "_view_count": null,
            "_view_module_version": "1.2.0",
            "bar_color": null,
            "_model_module": "@jupyter-widgets/controls"
          }
        },
        "6978f8445bd14fd48d58800d0be5197a": {
          "model_module": "@jupyter-widgets/base",
          "model_name": "LayoutModel",
          "state": {
            "_view_name": "LayoutView",
            "grid_template_rows": null,
            "right": null,
            "justify_content": null,
            "_view_module": "@jupyter-widgets/base",
            "overflow": null,
            "_model_module_version": "1.2.0",
            "_view_count": null,
            "flex_flow": null,
            "width": null,
            "min_width": null,
            "border": null,
            "align_items": null,
            "bottom": null,
            "_model_module": "@jupyter-widgets/base",
            "top": null,
            "grid_column": null,
            "overflow_y": null,
            "overflow_x": null,
            "grid_auto_flow": null,
            "grid_area": null,
            "grid_template_columns": null,
            "flex": null,
            "_model_name": "LayoutModel",
            "justify_items": null,
            "grid_row": null,
            "max_height": null,
            "align_content": null,
            "visibility": null,
            "align_self": null,
            "height": null,
            "min_height": null,
            "padding": null,
            "grid_auto_rows": null,
            "grid_gap": null,
            "max_width": null,
            "order": null,
            "_view_module_version": "1.2.0",
            "grid_template_areas": null,
            "object_position": null,
            "object_fit": null,
            "grid_auto_columns": null,
            "margin": null,
            "display": null,
            "left": null
          }
        },
        "7eb005f64d404007a6649e75f8a6cf75": {
          "model_module": "@jupyter-widgets/controls",
          "model_name": "DescriptionStyleModel",
          "state": {
            "_view_name": "StyleView",
            "_model_name": "DescriptionStyleModel",
            "description_width": "",
            "_view_module": "@jupyter-widgets/base",
            "_model_module_version": "1.5.0",
            "_view_count": null,
            "_view_module_version": "1.2.0",
            "_model_module": "@jupyter-widgets/controls"
          }
        },
        "dca68b57af4e498fa899c5ea0fc13db0": {
          "model_module": "@jupyter-widgets/base",
          "model_name": "LayoutModel",
          "state": {
            "_view_name": "LayoutView",
            "grid_template_rows": null,
            "right": null,
            "justify_content": null,
            "_view_module": "@jupyter-widgets/base",
            "overflow": null,
            "_model_module_version": "1.2.0",
            "_view_count": null,
            "flex_flow": null,
            "width": null,
            "min_width": null,
            "border": null,
            "align_items": null,
            "bottom": null,
            "_model_module": "@jupyter-widgets/base",
            "top": null,
            "grid_column": null,
            "overflow_y": null,
            "overflow_x": null,
            "grid_auto_flow": null,
            "grid_area": null,
            "grid_template_columns": null,
            "flex": null,
            "_model_name": "LayoutModel",
            "justify_items": null,
            "grid_row": null,
            "max_height": null,
            "align_content": null,
            "visibility": null,
            "align_self": null,
            "height": null,
            "min_height": null,
            "padding": null,
            "grid_auto_rows": null,
            "grid_gap": null,
            "max_width": null,
            "order": null,
            "_view_module_version": "1.2.0",
            "grid_template_areas": null,
            "object_position": null,
            "object_fit": null,
            "grid_auto_columns": null,
            "margin": null,
            "display": null,
            "left": null
          }
        },
        "2da4a320d2ca4da2a783b269c5edf357": {
          "model_module": "@jupyter-widgets/controls",
          "model_name": "HBoxModel",
          "state": {
            "_view_name": "HBoxView",
            "_dom_classes": [],
            "_model_name": "HBoxModel",
            "_view_module": "@jupyter-widgets/controls",
            "_model_module_version": "1.5.0",
            "_view_count": null,
            "_view_module_version": "1.5.0",
            "box_style": "",
            "layout": "IPY_MODEL_8010f8a3521b441e94b9657acd2682f0",
            "_model_module": "@jupyter-widgets/controls",
            "children": [
              "IPY_MODEL_3771670072af4952aa28d502e1fe8528",
              "IPY_MODEL_c14e50871d07497783c2161e38d6d54a"
            ]
          }
        },
        "8010f8a3521b441e94b9657acd2682f0": {
          "model_module": "@jupyter-widgets/base",
          "model_name": "LayoutModel",
          "state": {
            "_view_name": "LayoutView",
            "grid_template_rows": null,
            "right": null,
            "justify_content": null,
            "_view_module": "@jupyter-widgets/base",
            "overflow": null,
            "_model_module_version": "1.2.0",
            "_view_count": null,
            "flex_flow": null,
            "width": null,
            "min_width": null,
            "border": null,
            "align_items": null,
            "bottom": null,
            "_model_module": "@jupyter-widgets/base",
            "top": null,
            "grid_column": null,
            "overflow_y": null,
            "overflow_x": null,
            "grid_auto_flow": null,
            "grid_area": null,
            "grid_template_columns": null,
            "flex": null,
            "_model_name": "LayoutModel",
            "justify_items": null,
            "grid_row": null,
            "max_height": null,
            "align_content": null,
            "visibility": null,
            "align_self": null,
            "height": null,
            "min_height": null,
            "padding": null,
            "grid_auto_rows": null,
            "grid_gap": null,
            "max_width": null,
            "order": null,
            "_view_module_version": "1.2.0",
            "grid_template_areas": null,
            "object_position": null,
            "object_fit": null,
            "grid_auto_columns": null,
            "margin": null,
            "display": null,
            "left": null
          }
        },
        "3771670072af4952aa28d502e1fe8528": {
          "model_module": "@jupyter-widgets/controls",
          "model_name": "FloatProgressModel",
          "state": {
            "_view_name": "ProgressView",
            "style": "IPY_MODEL_b68b962213054002ae5c603c6fcfd662",
            "_dom_classes": [],
            "description": "100%",
            "_model_name": "FloatProgressModel",
            "bar_style": "success",
            "max": 10,
            "_view_module": "@jupyter-widgets/controls",
            "_model_module_version": "1.5.0",
            "value": 10,
            "_view_count": null,
            "_view_module_version": "1.5.0",
            "orientation": "horizontal",
            "min": 0,
            "description_tooltip": null,
            "_model_module": "@jupyter-widgets/controls",
            "layout": "IPY_MODEL_889c66eb91174957b9b7f7d687421815"
          }
        },
        "c14e50871d07497783c2161e38d6d54a": {
          "model_module": "@jupyter-widgets/controls",
          "model_name": "HTMLModel",
          "state": {
            "_view_name": "HTMLView",
            "style": "IPY_MODEL_79cc0f9a3616417ca2064e8b87395d60",
            "_dom_classes": [],
            "description": "",
            "_model_name": "HTMLModel",
            "placeholder": "​",
            "_view_module": "@jupyter-widgets/controls",
            "_model_module_version": "1.5.0",
            "value": " 10/10 [00:05&lt;00:00,  1.88it/s]",
            "_view_count": null,
            "_view_module_version": "1.5.0",
            "description_tooltip": null,
            "_model_module": "@jupyter-widgets/controls",
            "layout": "IPY_MODEL_28f7bbd987df43b799f464b1c6e8911a"
          }
        },
        "b68b962213054002ae5c603c6fcfd662": {
          "model_module": "@jupyter-widgets/controls",
          "model_name": "ProgressStyleModel",
          "state": {
            "_view_name": "StyleView",
            "_model_name": "ProgressStyleModel",
            "description_width": "initial",
            "_view_module": "@jupyter-widgets/base",
            "_model_module_version": "1.5.0",
            "_view_count": null,
            "_view_module_version": "1.2.0",
            "bar_color": null,
            "_model_module": "@jupyter-widgets/controls"
          }
        },
        "889c66eb91174957b9b7f7d687421815": {
          "model_module": "@jupyter-widgets/base",
          "model_name": "LayoutModel",
          "state": {
            "_view_name": "LayoutView",
            "grid_template_rows": null,
            "right": null,
            "justify_content": null,
            "_view_module": "@jupyter-widgets/base",
            "overflow": null,
            "_model_module_version": "1.2.0",
            "_view_count": null,
            "flex_flow": null,
            "width": null,
            "min_width": null,
            "border": null,
            "align_items": null,
            "bottom": null,
            "_model_module": "@jupyter-widgets/base",
            "top": null,
            "grid_column": null,
            "overflow_y": null,
            "overflow_x": null,
            "grid_auto_flow": null,
            "grid_area": null,
            "grid_template_columns": null,
            "flex": null,
            "_model_name": "LayoutModel",
            "justify_items": null,
            "grid_row": null,
            "max_height": null,
            "align_content": null,
            "visibility": null,
            "align_self": null,
            "height": null,
            "min_height": null,
            "padding": null,
            "grid_auto_rows": null,
            "grid_gap": null,
            "max_width": null,
            "order": null,
            "_view_module_version": "1.2.0",
            "grid_template_areas": null,
            "object_position": null,
            "object_fit": null,
            "grid_auto_columns": null,
            "margin": null,
            "display": null,
            "left": null
          }
        },
        "79cc0f9a3616417ca2064e8b87395d60": {
          "model_module": "@jupyter-widgets/controls",
          "model_name": "DescriptionStyleModel",
          "state": {
            "_view_name": "StyleView",
            "_model_name": "DescriptionStyleModel",
            "description_width": "",
            "_view_module": "@jupyter-widgets/base",
            "_model_module_version": "1.5.0",
            "_view_count": null,
            "_view_module_version": "1.2.0",
            "_model_module": "@jupyter-widgets/controls"
          }
        },
        "28f7bbd987df43b799f464b1c6e8911a": {
          "model_module": "@jupyter-widgets/base",
          "model_name": "LayoutModel",
          "state": {
            "_view_name": "LayoutView",
            "grid_template_rows": null,
            "right": null,
            "justify_content": null,
            "_view_module": "@jupyter-widgets/base",
            "overflow": null,
            "_model_module_version": "1.2.0",
            "_view_count": null,
            "flex_flow": null,
            "width": null,
            "min_width": null,
            "border": null,
            "align_items": null,
            "bottom": null,
            "_model_module": "@jupyter-widgets/base",
            "top": null,
            "grid_column": null,
            "overflow_y": null,
            "overflow_x": null,
            "grid_auto_flow": null,
            "grid_area": null,
            "grid_template_columns": null,
            "flex": null,
            "_model_name": "LayoutModel",
            "justify_items": null,
            "grid_row": null,
            "max_height": null,
            "align_content": null,
            "visibility": null,
            "align_self": null,
            "height": null,
            "min_height": null,
            "padding": null,
            "grid_auto_rows": null,
            "grid_gap": null,
            "max_width": null,
            "order": null,
            "_view_module_version": "1.2.0",
            "grid_template_areas": null,
            "object_position": null,
            "object_fit": null,
            "grid_auto_columns": null,
            "margin": null,
            "display": null,
            "left": null
          }
        },
        "8ff395f1392d4ca6bb242914a702415a": {
          "model_module": "@jupyter-widgets/controls",
          "model_name": "HBoxModel",
          "state": {
            "_view_name": "HBoxView",
            "_dom_classes": [],
            "_model_name": "HBoxModel",
            "_view_module": "@jupyter-widgets/controls",
            "_model_module_version": "1.5.0",
            "_view_count": null,
            "_view_module_version": "1.5.0",
            "box_style": "",
            "layout": "IPY_MODEL_7cc0c8128a114218983f14011f7f494e",
            "_model_module": "@jupyter-widgets/controls",
            "children": [
              "IPY_MODEL_9e7444b192f241fabeea829dd0c414d5",
              "IPY_MODEL_0b5b4485bb9145e3a06ddd1befbf19e5"
            ]
          }
        },
        "7cc0c8128a114218983f14011f7f494e": {
          "model_module": "@jupyter-widgets/base",
          "model_name": "LayoutModel",
          "state": {
            "_view_name": "LayoutView",
            "grid_template_rows": null,
            "right": null,
            "justify_content": null,
            "_view_module": "@jupyter-widgets/base",
            "overflow": null,
            "_model_module_version": "1.2.0",
            "_view_count": null,
            "flex_flow": null,
            "width": null,
            "min_width": null,
            "border": null,
            "align_items": null,
            "bottom": null,
            "_model_module": "@jupyter-widgets/base",
            "top": null,
            "grid_column": null,
            "overflow_y": null,
            "overflow_x": null,
            "grid_auto_flow": null,
            "grid_area": null,
            "grid_template_columns": null,
            "flex": null,
            "_model_name": "LayoutModel",
            "justify_items": null,
            "grid_row": null,
            "max_height": null,
            "align_content": null,
            "visibility": null,
            "align_self": null,
            "height": null,
            "min_height": null,
            "padding": null,
            "grid_auto_rows": null,
            "grid_gap": null,
            "max_width": null,
            "order": null,
            "_view_module_version": "1.2.0",
            "grid_template_areas": null,
            "object_position": null,
            "object_fit": null,
            "grid_auto_columns": null,
            "margin": null,
            "display": null,
            "left": null
          }
        },
        "9e7444b192f241fabeea829dd0c414d5": {
          "model_module": "@jupyter-widgets/controls",
          "model_name": "FloatProgressModel",
          "state": {
            "_view_name": "ProgressView",
            "style": "IPY_MODEL_688ca4c0ba084e66a3f97cadb6787bad",
            "_dom_classes": [],
            "description": "100%",
            "_model_name": "FloatProgressModel",
            "bar_style": "success",
            "max": 10,
            "_view_module": "@jupyter-widgets/controls",
            "_model_module_version": "1.5.0",
            "value": 10,
            "_view_count": null,
            "_view_module_version": "1.5.0",
            "orientation": "horizontal",
            "min": 0,
            "description_tooltip": null,
            "_model_module": "@jupyter-widgets/controls",
            "layout": "IPY_MODEL_ef7eaf40fa0f4bcda40601995ee8283d"
          }
        },
        "0b5b4485bb9145e3a06ddd1befbf19e5": {
          "model_module": "@jupyter-widgets/controls",
          "model_name": "HTMLModel",
          "state": {
            "_view_name": "HTMLView",
            "style": "IPY_MODEL_058d368486bb475781dacddd132660fe",
            "_dom_classes": [],
            "description": "",
            "_model_name": "HTMLModel",
            "placeholder": "​",
            "_view_module": "@jupyter-widgets/controls",
            "_model_module_version": "1.5.0",
            "value": " 10/10 [00:05&lt;00:00,  1.90it/s]",
            "_view_count": null,
            "_view_module_version": "1.5.0",
            "description_tooltip": null,
            "_model_module": "@jupyter-widgets/controls",
            "layout": "IPY_MODEL_2035a11c01bc404fb796837c3f164d33"
          }
        },
        "688ca4c0ba084e66a3f97cadb6787bad": {
          "model_module": "@jupyter-widgets/controls",
          "model_name": "ProgressStyleModel",
          "state": {
            "_view_name": "StyleView",
            "_model_name": "ProgressStyleModel",
            "description_width": "initial",
            "_view_module": "@jupyter-widgets/base",
            "_model_module_version": "1.5.0",
            "_view_count": null,
            "_view_module_version": "1.2.0",
            "bar_color": null,
            "_model_module": "@jupyter-widgets/controls"
          }
        },
        "ef7eaf40fa0f4bcda40601995ee8283d": {
          "model_module": "@jupyter-widgets/base",
          "model_name": "LayoutModel",
          "state": {
            "_view_name": "LayoutView",
            "grid_template_rows": null,
            "right": null,
            "justify_content": null,
            "_view_module": "@jupyter-widgets/base",
            "overflow": null,
            "_model_module_version": "1.2.0",
            "_view_count": null,
            "flex_flow": null,
            "width": null,
            "min_width": null,
            "border": null,
            "align_items": null,
            "bottom": null,
            "_model_module": "@jupyter-widgets/base",
            "top": null,
            "grid_column": null,
            "overflow_y": null,
            "overflow_x": null,
            "grid_auto_flow": null,
            "grid_area": null,
            "grid_template_columns": null,
            "flex": null,
            "_model_name": "LayoutModel",
            "justify_items": null,
            "grid_row": null,
            "max_height": null,
            "align_content": null,
            "visibility": null,
            "align_self": null,
            "height": null,
            "min_height": null,
            "padding": null,
            "grid_auto_rows": null,
            "grid_gap": null,
            "max_width": null,
            "order": null,
            "_view_module_version": "1.2.0",
            "grid_template_areas": null,
            "object_position": null,
            "object_fit": null,
            "grid_auto_columns": null,
            "margin": null,
            "display": null,
            "left": null
          }
        },
        "058d368486bb475781dacddd132660fe": {
          "model_module": "@jupyter-widgets/controls",
          "model_name": "DescriptionStyleModel",
          "state": {
            "_view_name": "StyleView",
            "_model_name": "DescriptionStyleModel",
            "description_width": "",
            "_view_module": "@jupyter-widgets/base",
            "_model_module_version": "1.5.0",
            "_view_count": null,
            "_view_module_version": "1.2.0",
            "_model_module": "@jupyter-widgets/controls"
          }
        },
        "2035a11c01bc404fb796837c3f164d33": {
          "model_module": "@jupyter-widgets/base",
          "model_name": "LayoutModel",
          "state": {
            "_view_name": "LayoutView",
            "grid_template_rows": null,
            "right": null,
            "justify_content": null,
            "_view_module": "@jupyter-widgets/base",
            "overflow": null,
            "_model_module_version": "1.2.0",
            "_view_count": null,
            "flex_flow": null,
            "width": null,
            "min_width": null,
            "border": null,
            "align_items": null,
            "bottom": null,
            "_model_module": "@jupyter-widgets/base",
            "top": null,
            "grid_column": null,
            "overflow_y": null,
            "overflow_x": null,
            "grid_auto_flow": null,
            "grid_area": null,
            "grid_template_columns": null,
            "flex": null,
            "_model_name": "LayoutModel",
            "justify_items": null,
            "grid_row": null,
            "max_height": null,
            "align_content": null,
            "visibility": null,
            "align_self": null,
            "height": null,
            "min_height": null,
            "padding": null,
            "grid_auto_rows": null,
            "grid_gap": null,
            "max_width": null,
            "order": null,
            "_view_module_version": "1.2.0",
            "grid_template_areas": null,
            "object_position": null,
            "object_fit": null,
            "grid_auto_columns": null,
            "margin": null,
            "display": null,
            "left": null
          }
        }
      }
    }
  },
  "cells": [
    {
      "cell_type": "markdown",
      "metadata": {
        "id": "6dfJPT-2XMTB"
      },
      "source": [
        "# Install*"
      ]
    },
    {
      "cell_type": "code",
      "metadata": {
        "colab": {
          "base_uri": "https://localhost:8080/"
        },
        "id": "U4FIhzGtkVZJ",
        "outputId": "197bd5a3-7771-4866-bdb2-8b347298eb53"
      },
      "source": [
        "# Tokenizer library 설치\n",
        "!pip install sentencepiece"
      ],
      "execution_count": null,
      "outputs": [
        {
          "output_type": "stream",
          "text": [
            "Collecting sentencepiece\n",
            "\u001b[?25l  Downloading https://files.pythonhosted.org/packages/f5/99/e0808cb947ba10f575839c43e8fafc9cc44e4a7a2c8f79c60db48220a577/sentencepiece-0.1.95-cp37-cp37m-manylinux2014_x86_64.whl (1.2MB)\n",
            "\r\u001b[K     |▎                               | 10kB 12.9MB/s eta 0:00:01\r\u001b[K     |▌                               | 20kB 18.5MB/s eta 0:00:01\r\u001b[K     |▉                               | 30kB 22.5MB/s eta 0:00:01\r\u001b[K     |█                               | 40kB 25.9MB/s eta 0:00:01\r\u001b[K     |█▍                              | 51kB 27.8MB/s eta 0:00:01\r\u001b[K     |█▋                              | 61kB 29.6MB/s eta 0:00:01\r\u001b[K     |██                              | 71kB 28.9MB/s eta 0:00:01\r\u001b[K     |██▏                             | 81kB 28.9MB/s eta 0:00:01\r\u001b[K     |██▌                             | 92kB 28.1MB/s eta 0:00:01\r\u001b[K     |██▊                             | 102kB 29.4MB/s eta 0:00:01\r\u001b[K     |███                             | 112kB 29.4MB/s eta 0:00:01\r\u001b[K     |███▎                            | 122kB 29.4MB/s eta 0:00:01\r\u001b[K     |███▌                            | 133kB 29.4MB/s eta 0:00:01\r\u001b[K     |███▉                            | 143kB 29.4MB/s eta 0:00:01\r\u001b[K     |████                            | 153kB 29.4MB/s eta 0:00:01\r\u001b[K     |████▍                           | 163kB 29.4MB/s eta 0:00:01\r\u001b[K     |████▋                           | 174kB 29.4MB/s eta 0:00:01\r\u001b[K     |█████                           | 184kB 29.4MB/s eta 0:00:01\r\u001b[K     |█████▏                          | 194kB 29.4MB/s eta 0:00:01\r\u001b[K     |█████▌                          | 204kB 29.4MB/s eta 0:00:01\r\u001b[K     |█████▊                          | 215kB 29.4MB/s eta 0:00:01\r\u001b[K     |██████                          | 225kB 29.4MB/s eta 0:00:01\r\u001b[K     |██████▎                         | 235kB 29.4MB/s eta 0:00:01\r\u001b[K     |██████▌                         | 245kB 29.4MB/s eta 0:00:01\r\u001b[K     |██████▉                         | 256kB 29.4MB/s eta 0:00:01\r\u001b[K     |███████                         | 266kB 29.4MB/s eta 0:00:01\r\u001b[K     |███████▍                        | 276kB 29.4MB/s eta 0:00:01\r\u001b[K     |███████▋                        | 286kB 29.4MB/s eta 0:00:01\r\u001b[K     |████████                        | 296kB 29.4MB/s eta 0:00:01\r\u001b[K     |████████▏                       | 307kB 29.4MB/s eta 0:00:01\r\u001b[K     |████████▍                       | 317kB 29.4MB/s eta 0:00:01\r\u001b[K     |████████▊                       | 327kB 29.4MB/s eta 0:00:01\r\u001b[K     |█████████                       | 337kB 29.4MB/s eta 0:00:01\r\u001b[K     |█████████▎                      | 348kB 29.4MB/s eta 0:00:01\r\u001b[K     |█████████▌                      | 358kB 29.4MB/s eta 0:00:01\r\u001b[K     |█████████▉                      | 368kB 29.4MB/s eta 0:00:01\r\u001b[K     |██████████                      | 378kB 29.4MB/s eta 0:00:01\r\u001b[K     |██████████▍                     | 389kB 29.4MB/s eta 0:00:01\r\u001b[K     |██████████▋                     | 399kB 29.4MB/s eta 0:00:01\r\u001b[K     |███████████                     | 409kB 29.4MB/s eta 0:00:01\r\u001b[K     |███████████▏                    | 419kB 29.4MB/s eta 0:00:01\r\u001b[K     |███████████▍                    | 430kB 29.4MB/s eta 0:00:01\r\u001b[K     |███████████▊                    | 440kB 29.4MB/s eta 0:00:01\r\u001b[K     |████████████                    | 450kB 29.4MB/s eta 0:00:01\r\u001b[K     |████████████▎                   | 460kB 29.4MB/s eta 0:00:01\r\u001b[K     |████████████▌                   | 471kB 29.4MB/s eta 0:00:01\r\u001b[K     |████████████▉                   | 481kB 29.4MB/s eta 0:00:01\r\u001b[K     |█████████████                   | 491kB 29.4MB/s eta 0:00:01\r\u001b[K     |█████████████▍                  | 501kB 29.4MB/s eta 0:00:01\r\u001b[K     |█████████████▋                  | 512kB 29.4MB/s eta 0:00:01\r\u001b[K     |█████████████▉                  | 522kB 29.4MB/s eta 0:00:01\r\u001b[K     |██████████████▏                 | 532kB 29.4MB/s eta 0:00:01\r\u001b[K     |██████████████▍                 | 542kB 29.4MB/s eta 0:00:01\r\u001b[K     |██████████████▊                 | 552kB 29.4MB/s eta 0:00:01\r\u001b[K     |███████████████                 | 563kB 29.4MB/s eta 0:00:01\r\u001b[K     |███████████████▎                | 573kB 29.4MB/s eta 0:00:01\r\u001b[K     |███████████████▌                | 583kB 29.4MB/s eta 0:00:01\r\u001b[K     |███████████████▉                | 593kB 29.4MB/s eta 0:00:01\r\u001b[K     |████████████████                | 604kB 29.4MB/s eta 0:00:01\r\u001b[K     |████████████████▍               | 614kB 29.4MB/s eta 0:00:01\r\u001b[K     |████████████████▋               | 624kB 29.4MB/s eta 0:00:01\r\u001b[K     |████████████████▉               | 634kB 29.4MB/s eta 0:00:01\r\u001b[K     |█████████████████▏              | 645kB 29.4MB/s eta 0:00:01\r\u001b[K     |█████████████████▍              | 655kB 29.4MB/s eta 0:00:01\r\u001b[K     |█████████████████▊              | 665kB 29.4MB/s eta 0:00:01\r\u001b[K     |██████████████████              | 675kB 29.4MB/s eta 0:00:01\r\u001b[K     |██████████████████▎             | 686kB 29.4MB/s eta 0:00:01\r\u001b[K     |██████████████████▌             | 696kB 29.4MB/s eta 0:00:01\r\u001b[K     |██████████████████▉             | 706kB 29.4MB/s eta 0:00:01\r\u001b[K     |███████████████████             | 716kB 29.4MB/s eta 0:00:01\r\u001b[K     |███████████████████▎            | 727kB 29.4MB/s eta 0:00:01\r\u001b[K     |███████████████████▋            | 737kB 29.4MB/s eta 0:00:01\r\u001b[K     |███████████████████▉            | 747kB 29.4MB/s eta 0:00:01\r\u001b[K     |████████████████████▏           | 757kB 29.4MB/s eta 0:00:01\r\u001b[K     |████████████████████▍           | 768kB 29.4MB/s eta 0:00:01\r\u001b[K     |████████████████████▊           | 778kB 29.4MB/s eta 0:00:01\r\u001b[K     |█████████████████████           | 788kB 29.4MB/s eta 0:00:01\r\u001b[K     |█████████████████████▎          | 798kB 29.4MB/s eta 0:00:01\r\u001b[K     |█████████████████████▌          | 808kB 29.4MB/s eta 0:00:01\r\u001b[K     |█████████████████████▉          | 819kB 29.4MB/s eta 0:00:01\r\u001b[K     |██████████████████████          | 829kB 29.4MB/s eta 0:00:01\r\u001b[K     |██████████████████████▎         | 839kB 29.4MB/s eta 0:00:01\r\u001b[K     |██████████████████████▋         | 849kB 29.4MB/s eta 0:00:01\r\u001b[K     |██████████████████████▉         | 860kB 29.4MB/s eta 0:00:01\r\u001b[K     |███████████████████████▏        | 870kB 29.4MB/s eta 0:00:01\r\u001b[K     |███████████████████████▍        | 880kB 29.4MB/s eta 0:00:01\r\u001b[K     |███████████████████████▊        | 890kB 29.4MB/s eta 0:00:01\r\u001b[K     |████████████████████████        | 901kB 29.4MB/s eta 0:00:01\r\u001b[K     |████████████████████████▎       | 911kB 29.4MB/s eta 0:00:01\r\u001b[K     |████████████████████████▌       | 921kB 29.4MB/s eta 0:00:01\r\u001b[K     |████████████████████████▊       | 931kB 29.4MB/s eta 0:00:01\r\u001b[K     |█████████████████████████       | 942kB 29.4MB/s eta 0:00:01\r\u001b[K     |█████████████████████████▎      | 952kB 29.4MB/s eta 0:00:01\r\u001b[K     |█████████████████████████▋      | 962kB 29.4MB/s eta 0:00:01\r\u001b[K     |█████████████████████████▉      | 972kB 29.4MB/s eta 0:00:01\r\u001b[K     |██████████████████████████▏     | 983kB 29.4MB/s eta 0:00:01\r\u001b[K     |██████████████████████████▍     | 993kB 29.4MB/s eta 0:00:01\r\u001b[K     |██████████████████████████▊     | 1.0MB 29.4MB/s eta 0:00:01\r\u001b[K     |███████████████████████████     | 1.0MB 29.4MB/s eta 0:00:01\r\u001b[K     |███████████████████████████▎    | 1.0MB 29.4MB/s eta 0:00:01\r\u001b[K     |███████████████████████████▌    | 1.0MB 29.4MB/s eta 0:00:01\r\u001b[K     |███████████████████████████▊    | 1.0MB 29.4MB/s eta 0:00:01\r\u001b[K     |████████████████████████████    | 1.1MB 29.4MB/s eta 0:00:01\r\u001b[K     |████████████████████████████▎   | 1.1MB 29.4MB/s eta 0:00:01\r\u001b[K     |████████████████████████████▋   | 1.1MB 29.4MB/s eta 0:00:01\r\u001b[K     |████████████████████████████▉   | 1.1MB 29.4MB/s eta 0:00:01\r\u001b[K     |█████████████████████████████▏  | 1.1MB 29.4MB/s eta 0:00:01\r\u001b[K     |█████████████████████████████▍  | 1.1MB 29.4MB/s eta 0:00:01\r\u001b[K     |█████████████████████████████▊  | 1.1MB 29.4MB/s eta 0:00:01\r\u001b[K     |██████████████████████████████  | 1.1MB 29.4MB/s eta 0:00:01\r\u001b[K     |██████████████████████████████▏ | 1.1MB 29.4MB/s eta 0:00:01\r\u001b[K     |██████████████████████████████▌ | 1.1MB 29.4MB/s eta 0:00:01\r\u001b[K     |██████████████████████████████▊ | 1.2MB 29.4MB/s eta 0:00:01\r\u001b[K     |███████████████████████████████ | 1.2MB 29.4MB/s eta 0:00:01\r\u001b[K     |███████████████████████████████▎| 1.2MB 29.4MB/s eta 0:00:01\r\u001b[K     |███████████████████████████████▋| 1.2MB 29.4MB/s eta 0:00:01\r\u001b[K     |███████████████████████████████▉| 1.2MB 29.4MB/s eta 0:00:01\r\u001b[K     |████████████████████████████████| 1.2MB 29.4MB/s \n",
            "\u001b[?25hInstalling collected packages: sentencepiece\n",
            "Successfully installed sentencepiece-0.1.95\n"
          ],
          "name": "stdout"
        }
      ]
    },
    {
      "cell_type": "markdown",
      "metadata": {
        "id": "JHkHg6XAXoyK"
      },
      "source": [
        "# Evn*"
      ]
    },
    {
      "cell_type": "code",
      "metadata": {
        "id": "CcB6_wDTknsz"
      },
      "source": [
        "import matplotlib\n",
        "import numpy as np\n",
        "import pandas as pd\n",
        "import tensorflow as tf\n",
        "\n",
        "import os\n",
        "import random"
      ],
      "execution_count": null,
      "outputs": []
    },
    {
      "cell_type": "code",
      "metadata": {
        "colab": {
          "base_uri": "https://localhost:8080/"
        },
        "id": "f6jzM14zml7W",
        "outputId": "f79729f0-6470-49c4-8da9-70a7cf7c1828"
      },
      "source": [
        "# google drive mount\n",
        "from google.colab import drive\n",
        "drive.mount('/content/drive')"
      ],
      "execution_count": null,
      "outputs": [
        {
          "output_type": "stream",
          "text": [
            "Mounted at /content/drive\n"
          ],
          "name": "stdout"
        }
      ]
    },
    {
      "cell_type": "code",
      "metadata": {
        "colab": {
          "base_uri": "https://localhost:8080/"
        },
        "id": "eJ6hBgQMmrHE",
        "outputId": "7646b740-564b-4f5b-b3d0-1b8b35b78be2"
      },
      "source": [
        "!ls\n",
        "data_dir = '/content/drive/MyDrive/ict-ai-복합고급언어-nlp/data'\n",
        "os.listdir(data_dir)"
      ],
      "execution_count": null,
      "outputs": [
        {
          "output_type": "stream",
          "text": [
            "drive  sample_data\n"
          ],
          "name": "stdout"
        },
        {
          "output_type": "execute_result",
          "data": {
            "text/plain": [
              "['data-20210420T111231Z-001.zip',\n",
              " 'kowiki',\n",
              " 'kowiki_32000.model',\n",
              " 'kowiki_32000.vocab',\n",
              " 'kowiki_mecab_32000.model',\n",
              " 'kowiki_mecab_32000.vocab',\n",
              " 'nsmc',\n",
              " 'question_pair',\n",
              " 'songys-chat',\n",
              " 'kornli',\n",
              " 'kornli.model',\n",
              " 'kornli.vocab',\n",
              " 'xnli.dev.ko.tsv',\n",
              " 'xnli.test.ko.tsv',\n",
              " 'multinli.train.ko.tsv',\n",
              " 'snli_1.0_train.ko.tsv',\n",
              " 'ner']"
            ]
          },
          "metadata": {
            "tags": []
          },
          "execution_count": 4
        }
      ]
    },
    {
      "cell_type": "code",
      "metadata": {
        "colab": {
          "base_uri": "https://localhost:8080/"
        },
        "id": "Rxgg4x5enQeN",
        "outputId": "e26da8a5-86c4-45b8-ee69-e984d05f9f0f"
      },
      "source": [
        "kornli_dir = os.path.join(data_dir, 'kornli')\n",
        "if not os.path.isdir(kornli_dir):\n",
        "    os.makedirs(kornli_dir)\n",
        "os.listdir(kornli_dir)"
      ],
      "execution_count": null,
      "outputs": [
        {
          "output_type": "execute_result",
          "data": {
            "text/plain": [
              "['abc.model', 'abc.vocab', 'baseline.hdf5', 'baseline.csv']"
            ]
          },
          "metadata": {
            "tags": []
          },
          "execution_count": 5
        }
      ]
    },
    {
      "cell_type": "markdown",
      "metadata": {
        "id": "097BJVHG_QfR"
      },
      "source": [
        "# Data*"
      ]
    },
    {
      "cell_type": "code",
      "metadata": {
        "colab": {
          "base_uri": "https://localhost:8080/"
        },
        "id": "qUPakZUrmXeL",
        "outputId": "2fc86812-19c3-4bec-c0b3-03066a84d10d"
      },
      "source": [
        "!wget https://raw.githubusercontent.com/kakaobrain/KorNLUDatasets/master/KorNLI/multinli.train.ko.tsv\n",
        "# !wget https://raw.githubusercontent.com/kakaobrain/KorNLUDatasets/master/KorNLI/snli_1.0_train.ko.tsv\n",
        "!wget https://raw.githubusercontent.com/kakaobrain/KorNLUDatasets/master/KorNLI/snli_1.0_train.ko.tsv\n",
        "!wget https://raw.githubusercontent.com/kakaobrain/KorNLUDatasets/master/KorNLI/xnli.dev.ko.tsv\n",
        "!wget https://raw.githubusercontent.com/kakaobrain/KorNLUDatasets/master/KorNLI/xnli.test.ko.tsv"
      ],
      "execution_count": null,
      "outputs": [
        {
          "output_type": "stream",
          "text": [
            "--2021-06-09 10:25:17--  https://raw.githubusercontent.com/kakaobrain/KorNLUDatasets/master/KorNLI/multinli.train.ko.tsv\n",
            "Resolving raw.githubusercontent.com (raw.githubusercontent.com)... 185.199.108.133, 185.199.109.133, 185.199.110.133, ...\n",
            "Connecting to raw.githubusercontent.com (raw.githubusercontent.com)|185.199.108.133|:443... connected.\n",
            "HTTP request sent, awaiting response... 200 OK\n",
            "Length: 83550821 (80M) [text/plain]\n",
            "Saving to: ‘multinli.train.ko.tsv’\n",
            "\n",
            "multinli.train.ko.t 100%[===================>]  79.68M   196MB/s    in 0.4s    \n",
            "\n",
            "2021-06-09 10:25:18 (196 MB/s) - ‘multinli.train.ko.tsv’ saved [83550821/83550821]\n",
            "\n",
            "--2021-06-09 10:25:18--  https://raw.githubusercontent.com/kakaobrain/KorNLUDatasets/master/KorNLI/snli_1.0_train.ko.tsv\n",
            "Resolving raw.githubusercontent.com (raw.githubusercontent.com)... 185.199.108.133, 185.199.109.133, 185.199.110.133, ...\n",
            "Connecting to raw.githubusercontent.com (raw.githubusercontent.com)|185.199.108.133|:443... connected.\n",
            "HTTP request sent, awaiting response... 200 OK\n",
            "Length: 78486224 (75M) [text/plain]\n",
            "Saving to: ‘snli_1.0_train.ko.tsv’\n",
            "\n",
            "snli_1.0_train.ko.t 100%[===================>]  74.85M   149MB/s    in 0.5s    \n",
            "\n",
            "2021-06-09 10:25:19 (149 MB/s) - ‘snli_1.0_train.ko.tsv’ saved [78486224/78486224]\n",
            "\n",
            "--2021-06-09 10:25:19--  https://raw.githubusercontent.com/kakaobrain/KorNLUDatasets/master/KorNLI/xnli.dev.ko.tsv\n",
            "Resolving raw.githubusercontent.com (raw.githubusercontent.com)... 185.199.108.133, 185.199.109.133, 185.199.110.133, ...\n",
            "Connecting to raw.githubusercontent.com (raw.githubusercontent.com)|185.199.108.133|:443... connected.\n",
            "HTTP request sent, awaiting response... 200 OK\n",
            "Length: 511383 (499K) [text/plain]\n",
            "Saving to: ‘xnli.dev.ko.tsv’\n",
            "\n",
            "xnli.dev.ko.tsv     100%[===================>] 499.40K  --.-KB/s    in 0.007s  \n",
            "\n",
            "2021-06-09 10:25:19 (66.6 MB/s) - ‘xnli.dev.ko.tsv’ saved [511383/511383]\n",
            "\n",
            "--2021-06-09 10:25:19--  https://raw.githubusercontent.com/kakaobrain/KorNLUDatasets/master/KorNLI/xnli.test.ko.tsv\n",
            "Resolving raw.githubusercontent.com (raw.githubusercontent.com)... 185.199.108.133, 185.199.109.133, 185.199.110.133, ...\n",
            "Connecting to raw.githubusercontent.com (raw.githubusercontent.com)|185.199.108.133|:443... connected.\n",
            "HTTP request sent, awaiting response... 200 OK\n",
            "Length: 1032430 (1008K) [text/plain]\n",
            "Saving to: ‘xnli.test.ko.tsv’\n",
            "\n",
            "xnli.test.ko.tsv    100%[===================>]   1008K  --.-KB/s    in 0.02s   \n",
            "\n",
            "2021-06-09 10:25:20 (55.7 MB/s) - ‘xnli.test.ko.tsv’ saved [1032430/1032430]\n",
            "\n"
          ],
          "name": "stdout"
        }
      ]
    },
    {
      "cell_type": "code",
      "metadata": {
        "colab": {
          "base_uri": "https://localhost:8080/"
        },
        "id": "Igbzlrpmn40g",
        "outputId": "59e55876-e173-4e11-f75d-0322b2b39334"
      },
      "source": [
        "!ls\n",
        "# drive.mount('/content/drive/MyDrive/ict-ai-복합고급언어-nlp/data')\n"
      ],
      "execution_count": null,
      "outputs": [
        {
          "output_type": "stream",
          "text": [
            "multinli.train.ko.tsv  snli_1.0_train.ko.tsv  xnli.test.ko.tsv\n",
            "sample_data\t       xnli.dev.ko.tsv\n"
          ],
          "name": "stdout"
        }
      ]
    },
    {
      "cell_type": "code",
      "metadata": {
        "colab": {
          "base_uri": "https://localhost:8080/",
          "height": 134
        },
        "id": "XvNNxfUYM_K9",
        "outputId": "8ff0a9ad-04cd-41a8-d041-49bae8e57ba4"
      },
      "source": [
        "# /content/drive/MyDrive/ict-ai-복합고급언어-nlp/data/multinli.train.ko.tsv"
      ],
      "execution_count": null,
      "outputs": [
        {
          "output_type": "error",
          "ename": "SyntaxError",
          "evalue": "ignored",
          "traceback": [
            "\u001b[0;36m  File \u001b[0;32m\"<ipython-input-59-0c642de81ae9>\"\u001b[0;36m, line \u001b[0;32m1\u001b[0m\n\u001b[0;31m    content(/drive/MyDrive/ict-ai-복합고급언어-nlp/data/multinli.train.ko.tsv)\u001b[0m\n\u001b[0m            ^\u001b[0m\n\u001b[0;31mSyntaxError\u001b[0m\u001b[0;31m:\u001b[0m invalid syntax\n"
          ]
        }
      ]
    },
    {
      "cell_type": "markdown",
      "metadata": {
        "id": "0TyJlt-k7yzW"
      },
      "source": [
        "# Vocabulary 학습 (참고 Day-06 실습)"
      ]
    },
    {
      "cell_type": "code",
      "metadata": {
        "colab": {
          "base_uri": "https://localhost:8080/"
        },
        "id": "wG7kvviMoSl3",
        "outputId": "e2390586-1e7b-4089-cfe7-04fee2596ea3"
      },
      "source": [
        "# df_train = pd.read_csv('/content/drive/MyDrive/ict-ai-복합고급언어-nlp/data/multinli.train.ko.tsv', sep='\\t',error_bad_lines=False)\n",
        "# df_train2 = pd.read_csv('/content/drive/MyDrive/ict-ai-복합고급언어-nlp/data/snli_1.0_train.ko.tsv', sep='\\t', error_bad_lines = False)\n",
        "# df_val = pd.read_csv('/content/drive/MyDrive/ict-ai-복합고급언어-nlp/data/xnli.dev.ko.tsv', sep='\\t', error_bad_lines = False)\n",
        "# df_test = pd.read_csv('/content/drive/MyDrive/ict-ai-복합고급언어-nlp/data/xnli.test.ko.tsv', sep='\\t', error_bad_lines = False)\n",
        "\n",
        "df_train = pd.read_csv('multinli.train.ko.tsv', sep='\\t',error_bad_lines=False)\n",
        "df_train2 = pd.read_csv('snli_1.0_train.ko.tsv', sep='\\t', error_bad_lines = False)\n",
        "df_val = pd.read_csv('xnli.dev.ko.tsv', sep='\\t', error_bad_lines = False)\n",
        "df_test = pd.read_csv('xnli.test.ko.tsv', sep='\\t', error_bad_lines = False)"
      ],
      "execution_count": null,
      "outputs": [
        {
          "output_type": "stream",
          "text": [
            "b'Skipping line 24426: expected 3 fields, saw 4\\nSkipping line 156343: expected 3 fields, saw 4\\nSkipping line 218766: expected 3 fields, saw 4\\nSkipping line 232318: expected 3 fields, saw 4\\nSkipping line 253493: expected 3 fields, saw 4\\n'\n",
            "b'Skipping line 265734: expected 3 fields, saw 4\\nSkipping line 282588: expected 3 fields, saw 4\\nSkipping line 350969: expected 3 fields, saw 4\\n'\n"
          ],
          "name": "stderr"
        }
      ]
    },
    {
      "cell_type": "code",
      "metadata": {
        "colab": {
          "base_uri": "https://localhost:8080/",
          "height": 534
        },
        "id": "GrgbI7zyI5Ec",
        "outputId": "4b5ee9a0-b9a1-4b96-9be4-621c811686be"
      },
      "source": [
        "df_val"
      ],
      "execution_count": null,
      "outputs": [
        {
          "output_type": "execute_result",
          "data": {
            "text/html": [
              "<div>\n",
              "<style scoped>\n",
              "    .dataframe tbody tr th:only-of-type {\n",
              "        vertical-align: middle;\n",
              "    }\n",
              "\n",
              "    .dataframe tbody tr th {\n",
              "        vertical-align: top;\n",
              "    }\n",
              "\n",
              "    .dataframe thead th {\n",
              "        text-align: right;\n",
              "    }\n",
              "</style>\n",
              "<table border=\"1\" class=\"dataframe\">\n",
              "  <thead>\n",
              "    <tr style=\"text-align: right;\">\n",
              "      <th></th>\n",
              "      <th>sentence1</th>\n",
              "      <th>sentence2</th>\n",
              "      <th>gold_label</th>\n",
              "    </tr>\n",
              "  </thead>\n",
              "  <tbody>\n",
              "    <tr>\n",
              "      <th>0</th>\n",
              "      <td>그리고 그가 말했다, \"엄마, 저 왔어요.\"</td>\n",
              "      <td>그는 학교 버스가 그를 내려주자마자 엄마에게 전화를 걸었다.</td>\n",
              "      <td>neutral</td>\n",
              "    </tr>\n",
              "    <tr>\n",
              "      <th>1</th>\n",
              "      <td>그리고 그가 말했다, \"엄마, 저 왔어요.\"</td>\n",
              "      <td>그는 한마디도 하지 않았다.</td>\n",
              "      <td>contradiction</td>\n",
              "    </tr>\n",
              "    <tr>\n",
              "      <th>2</th>\n",
              "      <td>그리고 그가 말했다, \"엄마, 저 왔어요.\"</td>\n",
              "      <td>그는 엄마에게 집에 갔다고 말했다.</td>\n",
              "      <td>entailment</td>\n",
              "    </tr>\n",
              "    <tr>\n",
              "      <th>3</th>\n",
              "      <td>내가 무엇을 위해 가고 있는지 또는 어떤 것을 위해 있는지 몰랐기 때문에 워싱턴의 ...</td>\n",
              "      <td>나는 워싱턴에 가본 적이 없어서 거기 배정을 받았을 때 그 장소를 찾으려다가 길을 ...</td>\n",
              "      <td>neutral</td>\n",
              "    </tr>\n",
              "    <tr>\n",
              "      <th>4</th>\n",
              "      <td>내가 무엇을 위해 가고 있는지 또는 어떤 것을 위해 있는지 몰랐기 때문에 워싱턴의 ...</td>\n",
              "      <td>워싱턴으로 진군하면서 해야 할 일이 무엇인지 정확히 알고 있었다.</td>\n",
              "      <td>contradiction</td>\n",
              "    </tr>\n",
              "    <tr>\n",
              "      <th>...</th>\n",
              "      <td>...</td>\n",
              "      <td>...</td>\n",
              "      <td>...</td>\n",
              "    </tr>\n",
              "    <tr>\n",
              "      <th>1566</th>\n",
              "      <td>피스티는 피즐처럼 중간 영어의 피스틴으로 시작되어 방귀를 뀌기 위해 주먹을 쥐었다.</td>\n",
              "      <td>Fiesty는 100년 동안 존재해 왔다.</td>\n",
              "      <td>neutral</td>\n",
              "    </tr>\n",
              "    <tr>\n",
              "      <th>1567</th>\n",
              "      <td>피스티는 피즐처럼 중간 영어의 피스틴으로 시작되어 방귀를 뀌기 위해 주먹을 쥐었다.</td>\n",
              "      <td>Fiesty는 주먹질과는 무관하다.</td>\n",
              "      <td>contradiction</td>\n",
              "    </tr>\n",
              "    <tr>\n",
              "      <th>1568</th>\n",
              "      <td>진술이 더 나은 반면, 대답은 완성의 정신적 그림을 준다.</td>\n",
              "      <td>진술은 더 자세한 내용을 알려준다.</td>\n",
              "      <td>neutral</td>\n",
              "    </tr>\n",
              "    <tr>\n",
              "      <th>1569</th>\n",
              "      <td>진술이 더 나은 반면, 대답은 완성의 정신적 그림을 준다.</td>\n",
              "      <td>진술이 더 나은 것은 아니다.</td>\n",
              "      <td>contradiction</td>\n",
              "    </tr>\n",
              "    <tr>\n",
              "      <th>1570</th>\n",
              "      <td>진술이 더 나은 반면, 대답은 완성의 정신적 그림을 준다.</td>\n",
              "      <td>진술이 더 좋다.</td>\n",
              "      <td>entailment</td>\n",
              "    </tr>\n",
              "  </tbody>\n",
              "</table>\n",
              "<p>1571 rows × 3 columns</p>\n",
              "</div>"
            ],
            "text/plain": [
              "                                              sentence1  ...     gold_label\n",
              "0                              그리고 그가 말했다, \"엄마, 저 왔어요.\"  ...        neutral\n",
              "1                              그리고 그가 말했다, \"엄마, 저 왔어요.\"  ...  contradiction\n",
              "2                              그리고 그가 말했다, \"엄마, 저 왔어요.\"  ...     entailment\n",
              "3     내가 무엇을 위해 가고 있는지 또는 어떤 것을 위해 있는지 몰랐기 때문에 워싱턴의 ...  ...        neutral\n",
              "4     내가 무엇을 위해 가고 있는지 또는 어떤 것을 위해 있는지 몰랐기 때문에 워싱턴의 ...  ...  contradiction\n",
              "...                                                 ...  ...            ...\n",
              "1566     피스티는 피즐처럼 중간 영어의 피스틴으로 시작되어 방귀를 뀌기 위해 주먹을 쥐었다.  ...        neutral\n",
              "1567     피스티는 피즐처럼 중간 영어의 피스틴으로 시작되어 방귀를 뀌기 위해 주먹을 쥐었다.  ...  contradiction\n",
              "1568                   진술이 더 나은 반면, 대답은 완성의 정신적 그림을 준다.  ...        neutral\n",
              "1569                   진술이 더 나은 반면, 대답은 완성의 정신적 그림을 준다.  ...  contradiction\n",
              "1570                   진술이 더 나은 반면, 대답은 완성의 정신적 그림을 준다.  ...     entailment\n",
              "\n",
              "[1571 rows x 3 columns]"
            ]
          },
          "metadata": {
            "tags": []
          },
          "execution_count": 8
        }
      ]
    },
    {
      "cell_type": "code",
      "metadata": {
        "colab": {
          "base_uri": "https://localhost:8080/"
        },
        "id": "MWMoI-ShwMVI",
        "outputId": "287fc5d5-3ce8-4472-f797-1615e3be120d"
      },
      "source": [
        "df_train.shape, df_train2.shape, df_val.shape, df_test.shape"
      ],
      "execution_count": null,
      "outputs": [
        {
          "output_type": "execute_result",
          "data": {
            "text/plain": [
              "((385494, 3), (550152, 3), (1571, 3), (4954, 3))"
            ]
          },
          "metadata": {
            "tags": []
          },
          "execution_count": 9
        }
      ]
    },
    {
      "cell_type": "code",
      "metadata": {
        "id": "HjF6esVcwJ13"
      },
      "source": [
        "df_train = df_train.dropna()\n",
        "df_train2 = df_train2.dropna()\n",
        "df_val = df_val.dropna()\n",
        "df_test = df_test.dropna()\n"
      ],
      "execution_count": null,
      "outputs": []
    },
    {
      "cell_type": "code",
      "metadata": {
        "colab": {
          "base_uri": "https://localhost:8080/"
        },
        "id": "LAYP3dqywWdy",
        "outputId": "29489098-66ee-463b-b900-1c21ef23a3f3"
      },
      "source": [
        "df_train.shape,df_train2.shape,df_val.shape,df_test.shape"
      ],
      "execution_count": null,
      "outputs": [
        {
          "output_type": "execute_result",
          "data": {
            "text/plain": [
              "((385391, 3), (550146, 3), (1570, 3), (4954, 3))"
            ]
          },
          "metadata": {
            "tags": []
          },
          "execution_count": 11
        }
      ]
    },
    {
      "cell_type": "code",
      "metadata": {
        "colab": {
          "base_uri": "https://localhost:8080/"
        },
        "id": "GyQKb8XBpxKw",
        "outputId": "17fb6469-194f-49cc-f893-04b2fb6fd382"
      },
      "source": [
        "df_train.head(),df_train2.head(), df_val.head(), df_test.head()"
      ],
      "execution_count": null,
      "outputs": [
        {
          "output_type": "execute_result",
          "data": {
            "text/plain": [
              "(                                           sentence1  ...  gold_label\n",
              " 0         개념적으로 크림 스키밍은 제품과 지리라는 두 가지 기본 차원을 가지고 있다.  ...     neutral\n",
              " 1  시즌 중에 알고 있는 거 알아? 네 레벨에서 다음 레벨로 잃어버리는 거야 브레이브스...  ...  entailment\n",
              " 2                  우리 번호 중 하나가 당신의 지시를 세밀하게 수행할 것이다.  ...  entailment\n",
              " 3                       어떻게 아세요? 이 모든 것이 다시 그들의 정보다.  ...  entailment\n",
              " 4  그래, 만약 네가 테니스화 몇 개를 사러 간다면, 나는 왜 그들이 100달러대에서 ...  ...     neutral\n",
              " \n",
              " [5 rows x 3 columns],\n",
              "                     sentence1                  sentence2     gold_label\n",
              " 0  말을 탄 사람이 고장난 비행기 위로 뛰어오른다.  한 사람이 경쟁을 위해 말을 훈련시키고 있다.        neutral\n",
              " 1  말을 탄 사람이 고장난 비행기 위로 뛰어오른다.   한 사람이 식당에서 오믈렛을 주문하고 있다.  contradiction\n",
              " 2  말을 탄 사람이 고장난 비행기 위로 뛰어오른다.         사람은 야외에서 말을 타고 있다.     entailment\n",
              " 3          카메라에 웃고 손을 흔드는 아이들          그들은 부모님을 보고 웃고 있다        neutral\n",
              " 4          카메라에 웃고 손을 흔드는 아이들                    아이들이 있다     entailment,\n",
              "                                            sentence1  ...     gold_label\n",
              " 0                           그리고 그가 말했다, \"엄마, 저 왔어요.\"  ...        neutral\n",
              " 1                           그리고 그가 말했다, \"엄마, 저 왔어요.\"  ...  contradiction\n",
              " 2                           그리고 그가 말했다, \"엄마, 저 왔어요.\"  ...     entailment\n",
              " 3  내가 무엇을 위해 가고 있는지 또는 어떤 것을 위해 있는지 몰랐기 때문에 워싱턴의 ...  ...        neutral\n",
              " 4  내가 무엇을 위해 가고 있는지 또는 어떤 것을 위해 있는지 몰랐기 때문에 워싱턴의 ...  ...  contradiction\n",
              " \n",
              " [5 rows x 3 columns],\n",
              "                                            sentence1  ...     gold_label\n",
              " 0  글쎄, 나는 그것에 관해 생각조차 하지 않았지만, 나는 너무 좌절했고, 결국 그에게...  ...  contradiction\n",
              " 1  글쎄, 나는 그것에 관해 생각조차 하지 않았지만, 나는 너무 좌절했고, 결국 그에게...  ...     entailment\n",
              " 2  글쎄, 나는 그것에 관해 생각조차 하지 않았지만, 나는 너무 좌절했고, 결국 그에게...  ...        neutral\n",
              " 3  그리고 저는 그것이 특권이라고 생각했습니다, 그리고 여전히, 여전히, 당시 저는 A...  ...        neutral\n",
              " 4  그리고 저는 그것이 특권이라고 생각했습니다, 그리고 여전히, 여전히, 당시 저는 A...  ...     entailment\n",
              " \n",
              " [5 rows x 3 columns])"
            ]
          },
          "metadata": {
            "tags": []
          },
          "execution_count": 12
        }
      ]
    },
    {
      "cell_type": "code",
      "metadata": {
        "colab": {
          "base_uri": "https://localhost:8080/"
        },
        "id": "JPmFAf0MwAxg",
        "outputId": "56e81555-5b38-407f-8e1a-bd746ed05819"
      },
      "source": [
        "a= pd.concat([df_train, df_train2,df_val, df_test])\n",
        "a\n",
        "aa = a['sentence1'] \n",
        "bb = a['sentence2']\n",
        "corpus = pd.Series(aa+bb)\n",
        "corpus"
      ],
      "execution_count": null,
      "outputs": [
        {
          "output_type": "execute_result",
          "data": {
            "text/plain": [
              "0       개념적으로 크림 스키밍은 제품과 지리라는 두 가지 기본 차원을 가지고 있다.제품과 ...\n",
              "1       시즌 중에 알고 있는 거 알아? 네 레벨에서 다음 레벨로 잃어버리는 거야 브레이브스...\n",
              "2       우리 번호 중 하나가 당신의 지시를 세밀하게 수행할 것이다.우리 팀의 일원이 당신의...\n",
              "3              어떻게 아세요? 이 모든 것이 다시 그들의 정보다.이 정보는 그들의 것이다.\n",
              "4       그래, 만약 네가 테니스화 몇 개를 사러 간다면, 나는 왜 그들이 100달러대에서 ...\n",
              "                              ...                        \n",
              "4949    데이비슨은 스콘의 발음을 '뼈'와 운을 맞추기 위해 채택해서는 안 된다. 어쨌든 그...\n",
              "4950    데이비슨은 스콘의 발음을 '뼈'와 운을 맞추기 위해 채택해서는 안 된다. 어쨌든 그...\n",
              "4951    25달러에 20만 단어의 평균 소설은 달러당 8,000단어로 적용된다.25달러짜리 ...\n",
              "4952    25달러에 20만 단어의 평균 소설은 달러당 8,000단어로 적용된다.25달러짜리 ...\n",
              "4953    25달러에 20만 단어의 평균 소설은 달러당 8,000단어로 적용된다.25달러짜리 ...\n",
              "Length: 942061, dtype: object"
            ]
          },
          "metadata": {
            "tags": []
          },
          "execution_count": 134
        }
      ]
    },
    {
      "cell_type": "code",
      "metadata": {
        "id": "afjH6St-6OBm"
      },
      "source": [
        "count = 0\n",
        "with open('corpus.txt', 'w') as f:\n",
        "    for i,w in enumerate(corpus):\n",
        "        f.write(w)\n",
        "        f.write('\\n')\n",
        "        count += 1\n",
        "        # print(i,w)\n",
        "        # if i > 10:\n",
        "        #     break"
      ],
      "execution_count": null,
      "outputs": []
    },
    {
      "cell_type": "code",
      "metadata": {
        "colab": {
          "base_uri": "https://localhost:8080/"
        },
        "id": "17rDZ11w-NUH",
        "outputId": "db48cb1b-ee95-4dc2-a65d-cc1593fa485a"
      },
      "source": [
        "count"
      ],
      "execution_count": null,
      "outputs": [
        {
          "output_type": "execute_result",
          "data": {
            "text/plain": [
              "942061"
            ]
          },
          "metadata": {
            "tags": []
          },
          "execution_count": 136
        }
      ]
    },
    {
      "cell_type": "code",
      "metadata": {
        "id": "0dxs2rGbzefn"
      },
      "source": [
        "import sentencepiece as spm\n",
        "\n",
        "#sentence pieace로 vocab을 만드는 함수\n",
        "# 말뭉치, 저장할 파일(profix.model: 학습이 완료된 파일, profix.vobad:확인할수있는 파일)\n",
        "# vocab_size\n",
        "\n",
        "def train_sentencepiece(corpus, prefix, vocab_size=32000):\n",
        "    \"\"\"\n",
        "    sentencepiece를 이용해 vocab 학습\n",
        "    :param corpus: 학습할 말뭉치\n",
        "    :param prefix: 저장할 vocab 이름\n",
        "    :param vocab_size: vocab 개수\n",
        "    \"\"\"\n",
        "    spm.SentencePieceTrainer.train(\n",
        "        f\"--input={corpus} --model_prefix={prefix} --vocab_size={vocab_size + 7}\" +  # 7은 특수문자 개수\n",
        "        \" --model_type=unigram\" + # 학습 방법으로 unigram ( BPE보다 조금더 조음)( 통계기반)\n",
        "        \" --max_sentence_length=999999\" +  # 문장 최대 길이\n",
        "        \" --pad_id=0 --pad_piece=[PAD]\" +  # pad token 및 id 지정\n",
        "        \" --unk_id=1 --unk_piece=[UNK]\" +  # unknown token 및 id 지정\n",
        "        \" --bos_id=2 --bos_piece=[BOS]\" +  # begin of sequence token 및 id 지정\n",
        "        \" --eos_id=3 --eos_piece=[EOS]\" +  # end of sequence token 및 id 지정\n",
        "        \" --user_defined_symbols=[SEP],[CLS],[MASK]\" +  # 기타 추가 토큰 SEP: 4, CLS: 5, MASK: 6 => BERT 때문에 일단 넣음거, 지금은 아직 상관없음\n",
        "        \" --input_sentence_size=100000\" +  # 말뭉치에서 셈플링해서 학습 # 일부분만 학습하라는거지# 이거 없으면 전체 다 하는거지\n",
        "        \" --shuffle_input_sentence=true\")  # 셈플링한 말뭉치 shuffle"
      ],
      "execution_count": null,
      "outputs": []
    },
    {
      "cell_type": "code",
      "metadata": {
        "id": "nFMOtkIIJSYG"
      },
      "source": [
        "# train_sentencepiece('corpus.txt', 'abc') # 만든 파일, 이름\n",
        "# 이때 출력값은 abc.model, abc, vocab이 나옴"
      ],
      "execution_count": null,
      "outputs": []
    },
    {
      "cell_type": "code",
      "metadata": {
        "colab": {
          "base_uri": "https://localhost:8080/",
          "height": 35
        },
        "id": "ilS0Yru2OzR3",
        "outputId": "57aeb6ef-eed7-4ca9-b025-3b1b574cd13a"
      },
      "source": [
        "# import shutil\n",
        "\n",
        "# shutil.copy(\"abc.model\", kornli_dir)\n",
        "# shutil.copy(\"abc.vocab\", kornli_dir) \n",
        "# 자기가 원하는 파일로 복사"
      ],
      "execution_count": null,
      "outputs": [
        {
          "output_type": "execute_result",
          "data": {
            "application/vnd.google.colaboratory.intrinsic+json": {
              "type": "string"
            },
            "text/plain": [
              "'/content/drive/MyDrive/ict-ai-복합고급언어-nlp/data/kornli/abc.vocab'"
            ]
          },
          "metadata": {
            "tags": []
          },
          "execution_count": 139
        }
      ]
    },
    {
      "cell_type": "code",
      "metadata": {
        "colab": {
          "base_uri": "https://localhost:8080/"
        },
        "id": "Gvq00HY9K-ON",
        "outputId": "4e71f985-1da4-4fd7-aec1-57941cf8f087"
      },
      "source": [
        "!ls"
      ],
      "execution_count": null,
      "outputs": [
        {
          "output_type": "stream",
          "text": [
            "drive  multinli.train.ko.tsv  multinli.train.ko.tsv.1  sample_data\n"
          ],
          "name": "stdout"
        }
      ]
    },
    {
      "cell_type": "code",
      "metadata": {
        "id": "tZ-LGYprzevd"
      },
      "source": [
        "# 가장 작은 단위-> 글자단위 \n",
        "# 나는 /학생 /입니다 -> 3개 -> 띄어쓰기 단위\n",
        "# 나/는/학/생/입/니/다 -> 7개 -> 글자 단위\n",
        "\n",
        "# 요즘엔 3만개 이상\n",
        "# 보통 3천개"
      ],
      "execution_count": null,
      "outputs": []
    },
    {
      "cell_type": "markdown",
      "metadata": {
        "id": "Xur3d8B1mDtq"
      },
      "source": [
        "# Vocabulary*"
      ]
    },
    {
      "cell_type": "code",
      "metadata": {
        "colab": {
          "base_uri": "https://localhost:8080/"
        },
        "id": "3EkAlfg9zc7o",
        "outputId": "7eaee2b8-dc4e-4f63-a041-5c36c2bfef92"
      },
      "source": [
        "vocab = spm.SentencePieceProcessor()\n",
        "vocab.load(os.path.join(kornli_dir, \"abc.model\"))\n",
        "\n",
        "# vocab = spm.SentencePieceProcessor()\n",
        "# vocab.load(os.path.join(kornli_dir, \"kornli_16000.model\"))\n",
        "\n",
        "vocab.encode_as_pieces(\"아 이건좀 아닌거 같은데\")"
      ],
      "execution_count": null,
      "outputs": [
        {
          "output_type": "execute_result",
          "data": {
            "text/plain": [
              "['▁아', '▁', '이건', '좀', '▁아닌', '거', '▁같은데']"
            ]
          },
          "metadata": {
            "tags": []
          },
          "execution_count": 14
        }
      ]
    },
    {
      "cell_type": "code",
      "metadata": {
        "colab": {
          "base_uri": "https://localhost:8080/"
        },
        "id": "5tKLDsyiEdFT",
        "outputId": "77c90d2c-c919-43e8-820e-943371d834ea"
      },
      "source": [
        "len(vocab)\n",
        "\n",
        "# vocab size는\n",
        "# 글자 < subward,BPE < 단어(띄어쓰기)  -> 순서로 커진다\n",
        "# token은  <- 순서로 커진다"
      ],
      "execution_count": null,
      "outputs": [
        {
          "output_type": "execute_result",
          "data": {
            "text/plain": [
              "32007"
            ]
          },
          "metadata": {
            "tags": []
          },
          "execution_count": 15
        }
      ]
    },
    {
      "cell_type": "markdown",
      "metadata": {
        "id": "FDOF4yLnIOS7"
      },
      "source": [
        "# EDA\n",
        "- 보통 train만 함\n",
        "- 데이터 분석중 하나\n",
        "- - max length를 고려하는 부분중 하나"
      ]
    },
    {
      "cell_type": "markdown",
      "metadata": {
        "id": "7qRvYetZKQqG"
      },
      "source": [
        "## token length"
      ]
    },
    {
      "cell_type": "code",
      "metadata": {
        "colab": {
          "base_uri": "https://localhost:8080/",
          "height": 568
        },
        "id": "LmyFPfSh_ZwE",
        "outputId": "030f92a6-3d49-44ee-9874-0273c21f9a7c"
      },
      "source": [
        "df_total_train = pd.concat([df_train, df_train2], ignore_index=True)\n",
        "df_total_train = df_total_train.dropna()\n",
        "df_total_train"
      ],
      "execution_count": null,
      "outputs": [
        {
          "output_type": "execute_result",
          "data": {
            "text/html": [
              "<div>\n",
              "<style scoped>\n",
              "    .dataframe tbody tr th:only-of-type {\n",
              "        vertical-align: middle;\n",
              "    }\n",
              "\n",
              "    .dataframe tbody tr th {\n",
              "        vertical-align: top;\n",
              "    }\n",
              "\n",
              "    .dataframe thead th {\n",
              "        text-align: right;\n",
              "    }\n",
              "</style>\n",
              "<table border=\"1\" class=\"dataframe\">\n",
              "  <thead>\n",
              "    <tr style=\"text-align: right;\">\n",
              "      <th></th>\n",
              "      <th>sentence1</th>\n",
              "      <th>sentence2</th>\n",
              "      <th>gold_label</th>\n",
              "    </tr>\n",
              "  </thead>\n",
              "  <tbody>\n",
              "    <tr>\n",
              "      <th>0</th>\n",
              "      <td>개념적으로 크림 스키밍은 제품과 지리라는 두 가지 기본 차원을 가지고 있다.</td>\n",
              "      <td>제품과 지리학은 크림 스키밍을 작동시키는 것이다.</td>\n",
              "      <td>neutral</td>\n",
              "    </tr>\n",
              "    <tr>\n",
              "      <th>1</th>\n",
              "      <td>시즌 중에 알고 있는 거 알아? 네 레벨에서 다음 레벨로 잃어버리는 거야 브레이브스...</td>\n",
              "      <td>사람들이 기억하면 다음 수준으로 물건을 잃는다.</td>\n",
              "      <td>entailment</td>\n",
              "    </tr>\n",
              "    <tr>\n",
              "      <th>2</th>\n",
              "      <td>우리 번호 중 하나가 당신의 지시를 세밀하게 수행할 것이다.</td>\n",
              "      <td>우리 팀의 일원이 당신의 명령을 엄청나게 정확하게 실행할 것이다.</td>\n",
              "      <td>entailment</td>\n",
              "    </tr>\n",
              "    <tr>\n",
              "      <th>3</th>\n",
              "      <td>어떻게 아세요? 이 모든 것이 다시 그들의 정보다.</td>\n",
              "      <td>이 정보는 그들의 것이다.</td>\n",
              "      <td>entailment</td>\n",
              "    </tr>\n",
              "    <tr>\n",
              "      <th>4</th>\n",
              "      <td>그래, 만약 네가 테니스화 몇 개를 사러 간다면, 나는 왜 그들이 100달러대에서 ...</td>\n",
              "      <td>테니스화의 가격은 다양하다.</td>\n",
              "      <td>neutral</td>\n",
              "    </tr>\n",
              "    <tr>\n",
              "      <th>...</th>\n",
              "      <td>...</td>\n",
              "      <td>...</td>\n",
              "      <td>...</td>\n",
              "    </tr>\n",
              "    <tr>\n",
              "      <th>935641</th>\n",
              "      <td>네 명의 더러운 맨발의 아이들.</td>\n",
              "      <td>4명의 아이들이 '가장 깨끗한 발'로 상을 받았다</td>\n",
              "      <td>contradiction</td>\n",
              "    </tr>\n",
              "    <tr>\n",
              "      <th>935642</th>\n",
              "      <td>네 명의 더러운 맨발의 아이들.</td>\n",
              "      <td>네 명의 노숙자 아이들이 신발을 도둑맞아서 그들의 발이 더러워졌다.</td>\n",
              "      <td>neutral</td>\n",
              "    </tr>\n",
              "    <tr>\n",
              "      <th>935643</th>\n",
              "      <td>한 남자가 아름다운 푸른 물에서 바디슈트를 입고 서핑을 하고 있다.</td>\n",
              "      <td>바디슈트를 입은 남자가 서핑 대회에 참가하고 있다.</td>\n",
              "      <td>neutral</td>\n",
              "    </tr>\n",
              "    <tr>\n",
              "      <th>935644</th>\n",
              "      <td>한 남자가 아름다운 푸른 물에서 바디슈트를 입고 서핑을 하고 있다.</td>\n",
              "      <td>비즈니스 슈트를 입은 남자가 이사회로 향하고 있다.</td>\n",
              "      <td>contradiction</td>\n",
              "    </tr>\n",
              "    <tr>\n",
              "      <th>935645</th>\n",
              "      <td>한 남자가 아름다운 푸른 물에서 바디슈트를 입고 서핑을 하고 있다.</td>\n",
              "      <td>아름다운 푸른 물 위에는 바디슈트를 입은 남자가 서핑을 하고 있다.</td>\n",
              "      <td>entailment</td>\n",
              "    </tr>\n",
              "  </tbody>\n",
              "</table>\n",
              "<p>935537 rows × 3 columns</p>\n",
              "</div>"
            ],
            "text/plain": [
              "                                                sentence1  ...     gold_label\n",
              "0              개념적으로 크림 스키밍은 제품과 지리라는 두 가지 기본 차원을 가지고 있다.  ...        neutral\n",
              "1       시즌 중에 알고 있는 거 알아? 네 레벨에서 다음 레벨로 잃어버리는 거야 브레이브스...  ...     entailment\n",
              "2                       우리 번호 중 하나가 당신의 지시를 세밀하게 수행할 것이다.  ...     entailment\n",
              "3                            어떻게 아세요? 이 모든 것이 다시 그들의 정보다.  ...     entailment\n",
              "4       그래, 만약 네가 테니스화 몇 개를 사러 간다면, 나는 왜 그들이 100달러대에서 ...  ...        neutral\n",
              "...                                                   ...  ...            ...\n",
              "935641                                  네 명의 더러운 맨발의 아이들.  ...  contradiction\n",
              "935642                                  네 명의 더러운 맨발의 아이들.  ...        neutral\n",
              "935643              한 남자가 아름다운 푸른 물에서 바디슈트를 입고 서핑을 하고 있다.  ...        neutral\n",
              "935644              한 남자가 아름다운 푸른 물에서 바디슈트를 입고 서핑을 하고 있다.  ...  contradiction\n",
              "935645              한 남자가 아름다운 푸른 물에서 바디슈트를 입고 서핑을 하고 있다.  ...     entailment\n",
              "\n",
              "[935537 rows x 3 columns]"
            ]
          },
          "metadata": {
            "tags": []
          },
          "execution_count": 7
        }
      ]
    },
    {
      "cell_type": "code",
      "metadata": {
        "colab": {
          "base_uri": "https://localhost:8080/"
        },
        "id": "xa0PgghnMXFD",
        "outputId": "e087ee26-d1fd-49fe-8196-40dfb80c1c21"
      },
      "source": [
        "aa = df_total_train['sentence1'] \n",
        "bb = df_total_train['sentence2']\n",
        "\n",
        "q = pd.Series(aa+bb)\n",
        "q\n",
        "# A sep B 로 data를 만드는게 아니면 큰 의미는 없다"
      ],
      "execution_count": null,
      "outputs": [
        {
          "output_type": "execute_result",
          "data": {
            "text/plain": [
              "0         개념적으로 크림 스키밍은 제품과 지리라는 두 가지 기본 차원을 가지고 있다.제품과 ...\n",
              "1         시즌 중에 알고 있는 거 알아? 네 레벨에서 다음 레벨로 잃어버리는 거야 브레이브스...\n",
              "2         우리 번호 중 하나가 당신의 지시를 세밀하게 수행할 것이다.우리 팀의 일원이 당신의...\n",
              "3                어떻게 아세요? 이 모든 것이 다시 그들의 정보다.이 정보는 그들의 것이다.\n",
              "4         그래, 만약 네가 테니스화 몇 개를 사러 간다면, 나는 왜 그들이 100달러대에서 ...\n",
              "                                ...                        \n",
              "935641         네 명의 더러운 맨발의 아이들.4명의 아이들이 '가장 깨끗한 발'로 상을 받았다\n",
              "935642    네 명의 더러운 맨발의 아이들.네 명의 노숙자 아이들이 신발을 도둑맞아서 그들의 발...\n",
              "935643    한 남자가 아름다운 푸른 물에서 바디슈트를 입고 서핑을 하고 있다.바디슈트를 입은 ...\n",
              "935644    한 남자가 아름다운 푸른 물에서 바디슈트를 입고 서핑을 하고 있다.비즈니스 슈트를 ...\n",
              "935645    한 남자가 아름다운 푸른 물에서 바디슈트를 입고 서핑을 하고 있다.아름다운 푸른 물...\n",
              "Length: 935537, dtype: object"
            ]
          },
          "metadata": {
            "tags": []
          },
          "execution_count": 8
        }
      ]
    },
    {
      "cell_type": "code",
      "metadata": {
        "colab": {
          "base_uri": "https://localhost:8080/"
        },
        "id": "rLXgAG78Q349",
        "outputId": "375f4263-fc78-40a7-df09-9c8bb70ea726"
      },
      "source": [
        "q = q.apply(len)\n",
        "q"
      ],
      "execution_count": null,
      "outputs": [
        {
          "output_type": "execute_result",
          "data": {
            "text/plain": [
              "0          69\n",
              "1         160\n",
              "2          69\n",
              "3          42\n",
              "4          85\n",
              "         ... \n",
              "935641     44\n",
              "935642     54\n",
              "935643     65\n",
              "935644     65\n",
              "935645     74\n",
              "Length: 935537, dtype: int64"
            ]
          },
          "metadata": {
            "tags": []
          },
          "execution_count": 9
        }
      ]
    },
    {
      "cell_type": "code",
      "metadata": {
        "colab": {
          "base_uri": "https://localhost:8080/"
        },
        "id": "SQSjSfQ6AvFX",
        "outputId": "b9991c51-4595-458d-c8e1-63969f7ca584"
      },
      "source": [
        "a = pd.Series(df_total_train['sentence1'].tolist() + df_total_train['sentence2'].tolist()).astype(str)\n",
        "a = a.apply(len)\n",
        "a"
      ],
      "execution_count": null,
      "outputs": [
        {
          "output_type": "execute_result",
          "data": {
            "text/plain": [
              "0           42\n",
              "1          134\n",
              "2           33\n",
              "3           28\n",
              "4           70\n",
              "          ... \n",
              "1871069     27\n",
              "1871070     37\n",
              "1871071     28\n",
              "1871072     28\n",
              "1871073     37\n",
              "Length: 1871074, dtype: int64"
            ]
          },
          "metadata": {
            "tags": []
          },
          "execution_count": 10
        }
      ]
    },
    {
      "cell_type": "code",
      "metadata": {
        "colab": {
          "base_uri": "https://localhost:8080/",
          "height": 350
        },
        "id": "bTqa188CCKe6",
        "outputId": "89c0f8ce-4e3c-485e-c11b-fda3bdada915"
      },
      "source": [
        "import matplotlib.pyplot as plt\n",
        "\n",
        "\n",
        "plt.figure(figsize = (5,5))\n",
        "plt.hist(a, bins=300, range=[0, 300], facecolor='r', label='char')\n",
        "plt.title('Lengh of char')\n",
        "plt.xlabel('Number of char')\n",
        "plt.ylabel('Count of review')\n",
        "plt.show()"
      ],
      "execution_count": null,
      "outputs": [
        {
          "output_type": "display_data",
          "data": {
            "image/png": "[encoded data removed]",
            "text/plain": [
              "<Figure size 360x360 with 1 Axes>"
            ]
          },
          "metadata": {
            "tags": [],
            "needs_background": "light"
          }
        }
      ]
    },
    {
      "cell_type": "markdown",
      "metadata": {
        "id": "cCfnbJ5uK3sS"
      },
      "source": [
        "## Label Count"
      ]
    },
    {
      "cell_type": "code",
      "metadata": {
        "colab": {
          "base_uri": "https://localhost:8080/"
        },
        "id": "U2o2vwfqD-sW",
        "outputId": "3a9edb51-42c3-4859-bd04-5a96344b368e"
      },
      "source": [
        "print('평균 : {0}'.format(a.mean()))\n",
        "print('최대 : {0}'.format(a.max()))\n",
        "print('최소 : {0}'.format(a.min()))\n",
        "print('표준편차 : {0}'.format(a.std()))\n"
      ],
      "execution_count": null,
      "outputs": [
        {
          "output_type": "stream",
          "text": [
            "평균 : 32.98515077436809\n",
            "최대 : 16542\n",
            "최소 : 1\n",
            "표준편차 : 46.12002572635075\n"
          ],
          "name": "stdout"
        }
      ]
    },
    {
      "cell_type": "code",
      "metadata": {
        "colab": {
          "base_uri": "https://localhost:8080/"
        },
        "id": "P1OYWfTqRioa",
        "outputId": "40a6e3d6-f713-40f8-e125-5ef993cb0650"
      },
      "source": [
        "percentile25 = np.percentile(a, 25)\n",
        "percentile50 = np.percentile(a, 50)\n",
        "percentile75 = np.percentile(a, 75)\n",
        "percentileIQR = percentile75 - percentile25\n",
        "percentileMAX = percentile75 + percentileIQR * 1.5\n",
        "print(f\"char 25/100분위:  {percentile25:7.2f}\")\n",
        "print(f\"char 50/100분위:  {percentile50:7.2f}\")\n",
        "print(f\"char 75/100분위:  {percentile75:7.2f}\")\n",
        "print(f\"char IQR:        {percentileIQR:7.2f}\")\n",
        "print(f\"char MAX/100분위: {percentileMAX:7.2f}\")"
      ],
      "execution_count": null,
      "outputs": [
        {
          "output_type": "stream",
          "text": [
            "char 25/100분위:    19.00\n",
            "char 50/100분위:    26.00\n",
            "char 75/100분위:    39.00\n",
            "char IQR:          20.00\n",
            "char MAX/100분위:   69.00\n"
          ],
          "name": "stdout"
        }
      ]
    },
    {
      "cell_type": "code",
      "metadata": {
        "colab": {
          "base_uri": "https://localhost:8080/",
          "height": 374
        },
        "id": "b8hzPiDaRwP1",
        "outputId": "b69132f9-1324-4b6c-f043-6bf959d64ce0"
      },
      "source": [
        "plt.figure(figsize=(4, 6))\n",
        "plt.boxplot(a, labels=['char counts'], showmeans=True)\n",
        "plt.show()"
      ],
      "execution_count": null,
      "outputs": [
        {
          "output_type": "display_data",
          "data": {
            "image/png": "[encoded data removed]",
            "text/plain": [
              "<Figure size 288x432 with 1 Axes>"
            ]
          },
          "metadata": {
            "tags": [],
            "needs_background": "light"
          }
        }
      ]
    },
    {
      "cell_type": "markdown",
      "metadata": {
        "id": "LvylK3P37t6w"
      },
      "source": [
        "# Small Data Project (참고 Day-18 실습)"
      ]
    },
    {
      "cell_type": "markdown",
      "metadata": {
        "id": "Vwjo-BxiCiki"
      },
      "source": [
        "## Train, Dev, Test 데이터 생성"
      ]
    },
    {
      "cell_type": "code",
      "metadata": {
        "colab": {
          "base_uri": "https://localhost:8080/"
        },
        "id": "NU01RiXGR6Hp",
        "outputId": "4c9a34be-909b-493d-c664-2f01cd28b84b"
      },
      "source": [
        "# df_train = pd.read_csv('multinli.train.ko.tsv', sep='\\t',error_bad_lines=False)\n",
        "# df_train2 = pd.read_csv('snli_1.0_train.ko.tsv', sep='\\t', error_bad_lines = False)\n",
        "# df_val = pd.read_csv('xnli.dev.ko.tsv', sep='\\t', error_bad_lines = False)\n",
        "# df_test = pd.read_csv('xnli.test.ko.tsv', sep='\\t', error_bad_lines = False)\n",
        "\n",
        "df_train = pd.read_csv('/content/drive/MyDrive/ict-ai-복합고급언어-nlp/data/multinli.train.ko.tsv', sep='\\t',error_bad_lines=False)\n",
        "df_train2 = pd.read_csv('/content/drive/MyDrive/ict-ai-복합고급언어-nlp/data/snli_1.0_train.ko.tsv', sep='\\t', error_bad_lines = False)\n",
        "df_val = pd.read_csv('/content/drive/MyDrive/ict-ai-복합고급언어-nlp/data/xnli.dev.ko.tsv', sep='\\t', error_bad_lines = False)\n",
        "df_test = pd.read_csv('/content/drive/MyDrive/ict-ai-복합고급언어-nlp/data/xnli.test.ko.tsv', sep='\\t', error_bad_lines = False)"
      ],
      "execution_count": null,
      "outputs": [
        {
          "output_type": "stream",
          "text": [
            "b'Skipping line 24426: expected 3 fields, saw 4\\nSkipping line 156343: expected 3 fields, saw 4\\nSkipping line 218766: expected 3 fields, saw 4\\nSkipping line 232318: expected 3 fields, saw 4\\nSkipping line 253493: expected 3 fields, saw 4\\n'\n",
            "b'Skipping line 265734: expected 3 fields, saw 4\\nSkipping line 282588: expected 3 fields, saw 4\\nSkipping line 350969: expected 3 fields, saw 4\\n'\n"
          ],
          "name": "stderr"
        }
      ]
    },
    {
      "cell_type": "code",
      "metadata": {
        "id": "dNv7Gm23UGZc"
      },
      "source": [
        "# df_train = df_train.dropna()\n",
        "# df_train2 = df_train2.dropna()\n",
        "# df_val= df_val.dropna()\n",
        "# df_test = df_test.dropna()\n",
        "\n",
        "df_train = df_train.sample(10)\n",
        "df_train2 = df_train2.sample(10)\n",
        "df_val = df_val.sample(10)\n",
        "df_test = df_test.sample(10)\n"
      ],
      "execution_count": null,
      "outputs": []
    },
    {
      "cell_type": "code",
      "metadata": {
        "colab": {
          "base_uri": "https://localhost:8080/",
          "height": 543
        },
        "id": "DA3-aUZLUk_n",
        "outputId": "d8f67969-775a-42ed-8e9b-d10278ad58fb"
      },
      "source": [
        "df_train"
      ],
      "execution_count": null,
      "outputs": [
        {
          "output_type": "execute_result",
          "data": {
            "text/html": [
              "<div>\n",
              "<style scoped>\n",
              "    .dataframe tbody tr th:only-of-type {\n",
              "        vertical-align: middle;\n",
              "    }\n",
              "\n",
              "    .dataframe tbody tr th {\n",
              "        vertical-align: top;\n",
              "    }\n",
              "\n",
              "    .dataframe thead th {\n",
              "        text-align: right;\n",
              "    }\n",
              "</style>\n",
              "<table border=\"1\" class=\"dataframe\">\n",
              "  <thead>\n",
              "    <tr style=\"text-align: right;\">\n",
              "      <th></th>\n",
              "      <th>sentence1</th>\n",
              "      <th>sentence2</th>\n",
              "      <th>gold_label</th>\n",
              "    </tr>\n",
              "  </thead>\n",
              "  <tbody>\n",
              "    <tr>\n",
              "      <th>122737</th>\n",
              "      <td>그렇지 않으면 관광 명소가 풍부하지 않은 시나가와에는 센가쿠지가 되어서는 안 되는 ...</td>\n",
              "      <td>시나가와는 유명한 센가쿠지 사원을 넘어 인기 있는 관광 명소로 넘쳐나고 있다.</td>\n",
              "      <td>contradiction</td>\n",
              "    </tr>\n",
              "    <tr>\n",
              "      <th>154407</th>\n",
              "      <td>당신에게 어울리는 곳인지 의심스럽지만요, 선생님.</td>\n",
              "      <td>나는 이곳이 너를 위한 곳이라고 생각하지 않아.</td>\n",
              "      <td>entailment</td>\n",
              "    </tr>\n",
              "    <tr>\n",
              "      <th>133535</th>\n",
              "      <td>다음은 보고할 수 있는 사항의 예다.</td>\n",
              "      <td>다음 예는 보고할 수 있습니다.</td>\n",
              "      <td>entailment</td>\n",
              "    </tr>\n",
              "    <tr>\n",
              "      <th>68423</th>\n",
              "      <td>반복적인 위험 평가를 수행함으로써 조직은 부적절한 지불을 줄이기 위한 노력의 상태와...</td>\n",
              "      <td>위험 평가는 반복해서 수행되어야 한다.</td>\n",
              "      <td>entailment</td>\n",
              "    </tr>\n",
              "    <tr>\n",
              "      <th>104025</th>\n",
              "      <td>사람들이 그러한 범민족 대륙족에 대해 말할 때, 그들은 단지 인종에 대한 미국의 정...</td>\n",
              "      <td>사람들이 그런 범민족 대륙족에 대해 말할 때, 그들은 정말로 아시아 인종에 대해 이...</td>\n",
              "      <td>contradiction</td>\n",
              "    </tr>\n",
              "    <tr>\n",
              "      <th>4319</th>\n",
              "      <td>브릿팩은 새로운 정통성을 상징한다고 월스트리트저널의 폴 레비는 말한다.</td>\n",
              "      <td>월스트리트저널의 폴 레비는 브릿팩은 새로운 정교회라고 말한다.</td>\n",
              "      <td>entailment</td>\n",
              "    </tr>\n",
              "    <tr>\n",
              "      <th>243829</th>\n",
              "      <td>예를 들어, VBA는 사람, 기술, 프로세스 및 재원의 효과적인 관리를 통해 참전용...</td>\n",
              "      <td>2001 회계연도 VBA가 정한 국가 목표는 72%였다.</td>\n",
              "      <td>entailment</td>\n",
              "    </tr>\n",
              "    <tr>\n",
              "      <th>63750</th>\n",
              "      <td>인디애나 주의 또 다른 무료 법률 원조의 원천은 인디애나 대법원장이 설립한 지역 프...</td>\n",
              "      <td>이 프로그램에 따라 제공되는 법적 지원은 미끄럼 급여 규모에 기초하며 무료가 아니다.</td>\n",
              "      <td>contradiction</td>\n",
              "    </tr>\n",
              "    <tr>\n",
              "      <th>116818</th>\n",
              "      <td>Blea Tarn에서 도로는 급격히 내려가서 Wrynose Pass로 가는 표지판이...</td>\n",
              "      <td>Wrynose Pass를 가리키는 표지판은 Blea Tarn에서 오는 T-Junct...</td>\n",
              "      <td>entailment</td>\n",
              "    </tr>\n",
              "    <tr>\n",
              "      <th>133031</th>\n",
              "      <td>EPA의 이해 관계자 중 다수는 환경 규제의 절차 비용과 같은 문제를 해결하기를 원...</td>\n",
              "      <td>규제 하에 있는 기업과 다른 단체들은 EPA의 많은 이해당사자들을 설명한다.</td>\n",
              "      <td>entailment</td>\n",
              "    </tr>\n",
              "  </tbody>\n",
              "</table>\n",
              "</div>"
            ],
            "text/plain": [
              "                                                sentence1  ...     gold_label\n",
              "122737  그렇지 않으면 관광 명소가 풍부하지 않은 시나가와에는 센가쿠지가 되어서는 안 되는 ...  ...  contradiction\n",
              "154407                        당신에게 어울리는 곳인지 의심스럽지만요, 선생님.  ...     entailment\n",
              "133535                               다음은 보고할 수 있는 사항의 예다.  ...     entailment\n",
              "68423   반복적인 위험 평가를 수행함으로써 조직은 부적절한 지불을 줄이기 위한 노력의 상태와...  ...     entailment\n",
              "104025  사람들이 그러한 범민족 대륙족에 대해 말할 때, 그들은 단지 인종에 대한 미국의 정...  ...  contradiction\n",
              "4319              브릿팩은 새로운 정통성을 상징한다고 월스트리트저널의 폴 레비는 말한다.  ...     entailment\n",
              "243829  예를 들어, VBA는 사람, 기술, 프로세스 및 재원의 효과적인 관리를 통해 참전용...  ...     entailment\n",
              "63750   인디애나 주의 또 다른 무료 법률 원조의 원천은 인디애나 대법원장이 설립한 지역 프...  ...  contradiction\n",
              "116818  Blea Tarn에서 도로는 급격히 내려가서 Wrynose Pass로 가는 표지판이...  ...     entailment\n",
              "133031  EPA의 이해 관계자 중 다수는 환경 규제의 절차 비용과 같은 문제를 해결하기를 원...  ...     entailment\n",
              "\n",
              "[10 rows x 3 columns]"
            ]
          },
          "metadata": {
            "tags": []
          },
          "execution_count": 9
        }
      ]
    },
    {
      "cell_type": "code",
      "metadata": {
        "id": "bIErzcMeW4pd"
      },
      "source": [
        "# 같은 질문 0\n",
        "# 다른 질문 1 \n",
        "\n",
        "# distance가 가까울수록 0// 멀수록 무한대\n",
        "\n",
        "\n",
        "# my LSTM이 유사도라서\n",
        "\n",
        "# 비슷하게 \n",
        "# 0이 될수록 다른 질문\n",
        "# 1이 될수록 같은 질문\n",
        "\n",
        "\n",
        "# for i, row in tqdm(df_train.iterrows(), total = len(df_train)):\n",
        "#     is_duplicate = 1 - row['is_duplicate'] #분류문제라면 안바꿔도 되지만, 유사도 문제니까 exp가 분모에 있으니까 바꾼것임\n",
        "    \n"
      ],
      "execution_count": null,
      "outputs": []
    },
    {
      "cell_type": "code",
      "metadata": {
        "colab": {
          "base_uri": "https://localhost:8080/"
        },
        "id": "dVos_ygVZsDC",
        "outputId": "f879809b-72ac-4adf-d922-1c27a41765a3"
      },
      "source": [
        "# label_to_id = {'contradiction': 0, 'neutral': 1, 'entailment': 2}\n",
        "# id_to_label = {_id:label for label, _id in label_to_id.items()}\n",
        "\n",
        "# label_to_id, id_to_label\n",
        "\n",
        "label_to_id = {'contradiction' : 0, 'neutral' : 1, 'entailment' : 2}    \n",
        "id_to_label = {id:label for label, id in label_to_id.items()}\n",
        "id_to_label"
      ],
      "execution_count": null,
      "outputs": [
        {
          "output_type": "execute_result",
          "data": {
            "text/plain": [
              "{0: 'contradiction', 1: 'neutral', 2: 'entailment'}"
            ]
          },
          "metadata": {
            "tags": []
          },
          "execution_count": 16
        }
      ]
    },
    {
      "cell_type": "code",
      "metadata": {
        "colab": {
          "base_uri": "https://localhost:8080/"
        },
        "id": "gpVBT3GDbTyP",
        "outputId": "38dd3102-2ce1-484b-a1b9-52da2b1e978c"
      },
      "source": [
        "# vocab.encode_as_ids('기분이 딱 좋다')\n",
        "vocab.piece_to_id('[SEP]')\n",
        "\n",
        "# encode_As _pieces\n",
        "# 안녕하세요 -> 안녕,하,세요 -> [1, 18,23]\n",
        "\n",
        "# piece to id\n",
        "# 안녕하세요 -> 토큰화 -> id"
      ],
      "execution_count": null,
      "outputs": [
        {
          "output_type": "execute_result",
          "data": {
            "text/plain": [
              "4"
            ]
          },
          "metadata": {
            "tags": []
          },
          "execution_count": 17
        }
      ]
    },
    {
      "cell_type": "code",
      "metadata": {
        "id": "56wjSwEaUGjD"
      },
      "source": [
        "# input이 한개일때!!!!!!!!!!\n",
        "# ppt의 type 3유형\n",
        "\n",
        "from tqdm.notebook import tqdm, trange\n",
        "\n",
        "def make_data_1(df,vocab, n_seq):\n",
        "\n",
        "    inputs, labels = [], []\n",
        "    # n_seq = 128\n",
        "    n_max = n_seq -1 # sep\n",
        "\n",
        "    for i, row in tqdm(df_train.iterrows(), total = len(df_train)): # tqdm을 통해서/ 어떤 데이터를/ 몇번 반복할건지//i, row는 데이터에서 다 나오는값임\n",
        "        # print(row,row['gold_label'])\n",
        "        # print(label_to_id[row['gold_label']])\n",
        "        gold_label = label_to_id[row['gold_label']]\n",
        "        sentence1 = row['sentence1']\n",
        "        sentence2 = row['sentence2']\n",
        "\n",
        "        # print(vocab.encode_as_ids(sentence1))\n",
        "        token1 = vocab.encode_as_ids(sentence1)\n",
        "        token2 = vocab.encode_as_ids(sentence2)\n",
        "\n",
        "        while n_max < len(token1) + len(token2):\n",
        "            if len(token1) > len(token2):\n",
        "                del token1[-1]\n",
        "            else:\n",
        "                del token2[-1]\n",
        "\n",
        "        token = token1 + [vocab.piece_to_id('[SEP]')] + token2 # sep 넣어줘서 ppt 3 type유형에 어울리는 data로 만들어주고\n",
        "        # print(token)\n",
        "        token = token + [0] * (n_seq - len(token)) #  padding 넣고\n",
        "        # print(token)\n",
        "        assert len(token) == n_seq # 한번 방지턱\n",
        "\n",
        "        print(gold_label, len(token), token)\n",
        "        inputs.append(token)\n",
        "        labels.append(gold_label)\n",
        "\n",
        "    inputs = np.array(inputs)\n",
        "    labels = np.array(labels)\n",
        "    return inputs, labels"
      ],
      "execution_count": null,
      "outputs": []
    },
    {
      "cell_type": "code",
      "metadata": {
        "colab": {
          "base_uri": "https://localhost:8080/",
          "height": 1000,
          "referenced_widgets": [
            "060c3f39bea84359bfb508bdda3c3250",
            "2abb46f78c8444e896a06942a62e16be",
            "55dbe76105bc42ea92d99e9b92e707d7",
            "415bf0b30cab4edf9683b2dd7d362a8c",
            "abf2e52311f8493cac61309cccda5d7a",
            "a38c563346f247d8abec4bab399625a3",
            "28e7336d35af49e1b729cc4d9deb55a0",
            "a10bb06384834d4c86feb0a94622b54d"
          ]
        },
        "id": "iEyBxWDqJEOS",
        "outputId": "4f7b5701-2686-4a7a-f21d-6797302778ea"
      },
      "source": [
        "train_inputs, train_labels = make_data_1(df_train, vocab,64)\n",
        "train_inputs, train_labels"
      ],
      "execution_count": null,
      "outputs": [
        {
          "output_type": "display_data",
          "data": {
            "application/vnd.jupyter.widget-view+json": {
              "model_id": "060c3f39bea84359bfb508bdda3c3250",
              "version_minor": 0,
              "version_major": 2
            },
            "text/plain": [
              "HBox(children=(FloatProgress(value=0.0, max=10.0), HTML(value='')))"
            ]
          },
          "metadata": {
            "tags": []
          }
        },
        {
          "output_type": "stream",
          "text": [
            "1 64 [131, 35, 9, 24024, 12, 28526, 84, 4, 236, 20847, 374, 10, 20, 597, 5351, 84, 0, 0, 0, 0, 0, 0, 0, 0, 0, 0, 0, 0, 0, 0, 0, 0, 0, 0, 0, 0, 0, 0, 0, 0, 0, 0, 0, 0, 0, 0, 0, 0, 0, 0, 0, 0, 0, 0, 0, 0, 0, 0, 0, 0, 0, 0, 0, 0]\n",
            "1 64 [441, 6050, 465, 11, 16433, 1111, 7742, 456, 8, 858, 47, 50, 7, 4, 114, 270, 136, 180, 4495, 104, 482, 2668, 2968, 7, 0, 0, 0, 0, 0, 0, 0, 0, 0, 0, 0, 0, 0, 0, 0, 0, 0, 0, 0, 0, 0, 0, 0, 0, 0, 0, 0, 0, 0, 0, 0, 0, 0, 0, 0, 0, 0, 0, 0, 0]\n",
            "2 64 [4157, 1634, 288, 627, 11, 1416, 26, 294, 11, 1395, 2223, 8204, 105, 2216, 4357, 11, 1416, 15, 875, 11, 640, 672, 4721, 17, 627, 8, 2072, 9, 1175, 5937, 249, 50, 7, 4, 294, 15, 936, 961, 2216, 4357, 8, 1395, 2223, 8204, 101, 7, 0, 0, 0, 0, 0, 0, 0, 0, 0, 0, 0, 0, 0, 0, 0, 0, 0, 0]\n",
            "0 64 [107, 3125, 1, 260, 35, 17928, 1923, 6032, 2613, 437, 4, 57, 3154, 23, 64, 1427, 13, 292, 7, 57, 386, 7340, 1220, 128, 43, 14609, 9, 7114, 8, 1688, 7, 0, 0, 0, 0, 0, 0, 0, 0, 0, 0, 0, 0, 0, 0, 0, 0, 0, 0, 0, 0, 0, 0, 0, 0, 0, 0, 0, 0, 0, 0, 0, 0, 0]\n",
            "1 64 [185, 7643, 28, 795, 14, 1178, 106, 3658, 17, 117, 9342, 20225, 3838, 12, 661, 53, 359, 10816, 29, 5341, 128, 3078, 11, 4520, 189, 1908, 26031, 13, 810, 7, 4, 10816, 1378, 37, 3838, 13, 496, 138, 21612, 34, 7, 0, 0, 0, 0, 0, 0, 0, 0, 0, 0, 0, 0, 0, 0, 0, 0, 0, 0, 0, 0, 0, 0, 0]\n",
            "2 64 [168, 9083, 11, 1758, 29, 2476, 3389, 2095, 2635, 23, 96, 1089, 53, 54, 1406, 134, 28598, 34, 7, 4, 168, 2476, 9083, 29, 1321, 103, 3389, 2095, 1127, 11, 8512, 11, 29, 53, 54, 571, 8, 134, 28598, 34, 7, 0, 0, 0, 0, 0, 0, 0, 0, 0, 0, 0, 0, 0, 0, 0, 0, 0, 0, 0, 0, 0, 0, 0]\n",
            "2 64 [721, 1840, 138, 2508, 7658, 122, 7, 4, 140, 2508, 7658, 122, 7, 0, 0, 0, 0, 0, 0, 0, 0, 0, 0, 0, 0, 0, 0, 0, 0, 0, 0, 0, 0, 0, 0, 0, 0, 0, 0, 0, 0, 0, 0, 0, 0, 0, 0, 0, 0, 0, 0, 0, 0, 0, 0, 0, 0, 0, 0, 0, 0, 0, 0, 0]\n",
            "2 64 [916, 11, 423, 3469, 73, 505, 17, 169, 1616, 8756, 142, 13174, 1771, 896, 2427, 683, 12094, 12, 524, 14260, 21, 7718, 1065, 771, 577, 19, 52, 1636, 3466, 509, 327, 1610, 10690, 1123, 83, 1579, 10, 7, 4, 169, 1616, 8756, 12, 14260, 21, 7718, 1065, 771, 577, 10, 7, 0, 0, 0, 0, 0, 0, 0, 0, 0, 0, 0, 0, 0]\n",
            "2 64 [120, 638, 14, 2722, 13, 15743, 37, 323, 3368, 970, 9, 11286, 17, 3185, 9, 770, 10, 440, 20, 178, 7, 52, 2911, 17, 19038, 748, 11, 2045, 11656, 13, 1201, 8, 10091, 7, 4, 57, 6624, 13, 970, 9, 11286, 3364, 1972, 132, 7, 0, 0, 0, 0, 0, 0, 0, 0, 0, 0, 0, 0, 0, 0, 0, 0, 0, 0, 0]\n",
            "0 64 [1583, 3441, 1250, 8034, 86, 15117, 104, 3435, 104, 2243, 103, 695, 4112, 2577, 94, 5954, 9, 5882, 7, 4, 3441, 1250, 8034, 86, 94, 231, 8, 4590, 986, 4112, 30, 24320, 7, 0, 0, 0, 0, 0, 0, 0, 0, 0, 0, 0, 0, 0, 0, 0, 0, 0, 0, 0, 0, 0, 0, 0, 0, 0, 0, 0, 0, 0, 0, 0]\n",
            "\n"
          ],
          "name": "stdout"
        },
        {
          "output_type": "execute_result",
          "data": {
            "text/plain": [
              "(array([[  131,    35,     9, 24024,    12, 28526,    84,     4,   236,\n",
              "         20847,   374,    10,    20,   597,  5351,    84,     0,     0,\n",
              "             0,     0,     0,     0,     0,     0,     0,     0,     0,\n",
              "             0,     0,     0,     0,     0,     0,     0,     0,     0,\n",
              "             0,     0,     0,     0,     0,     0,     0,     0,     0,\n",
              "             0,     0,     0,     0,     0,     0,     0,     0,     0,\n",
              "             0,     0,     0,     0,     0,     0,     0,     0,     0,\n",
              "             0],\n",
              "        [  441,  6050,   465,    11, 16433,  1111,  7742,   456,     8,\n",
              "           858,    47,    50,     7,     4,   114,   270,   136,   180,\n",
              "          4495,   104,   482,  2668,  2968,     7,     0,     0,     0,\n",
              "             0,     0,     0,     0,     0,     0,     0,     0,     0,\n",
              "             0,     0,     0,     0,     0,     0,     0,     0,     0,\n",
              "             0,     0,     0,     0,     0,     0,     0,     0,     0,\n",
              "             0,     0,     0,     0,     0,     0,     0,     0,     0,\n",
              "             0],\n",
              "        [ 4157,  1634,   288,   627,    11,  1416,    26,   294,    11,\n",
              "          1395,  2223,  8204,   105,  2216,  4357,    11,  1416,    15,\n",
              "           875,    11,   640,   672,  4721,    17,   627,     8,  2072,\n",
              "             9,  1175,  5937,   249,    50,     7,     4,   294,    15,\n",
              "           936,   961,  2216,  4357,     8,  1395,  2223,  8204,   101,\n",
              "             7,     0,     0,     0,     0,     0,     0,     0,     0,\n",
              "             0,     0,     0,     0,     0,     0,     0,     0,     0,\n",
              "             0],\n",
              "        [  107,  3125,     1,   260,    35, 17928,  1923,  6032,  2613,\n",
              "           437,     4,    57,  3154,    23,    64,  1427,    13,   292,\n",
              "             7,    57,   386,  7340,  1220,   128,    43, 14609,     9,\n",
              "          7114,     8,  1688,     7,     0,     0,     0,     0,     0,\n",
              "             0,     0,     0,     0,     0,     0,     0,     0,     0,\n",
              "             0,     0,     0,     0,     0,     0,     0,     0,     0,\n",
              "             0,     0,     0,     0,     0,     0,     0,     0,     0,\n",
              "             0],\n",
              "        [  185,  7643,    28,   795,    14,  1178,   106,  3658,    17,\n",
              "           117,  9342, 20225,  3838,    12,   661,    53,   359, 10816,\n",
              "            29,  5341,   128,  3078,    11,  4520,   189,  1908, 26031,\n",
              "            13,   810,     7,     4, 10816,  1378,    37,  3838,    13,\n",
              "           496,   138, 21612,    34,     7,     0,     0,     0,     0,\n",
              "             0,     0,     0,     0,     0,     0,     0,     0,     0,\n",
              "             0,     0,     0,     0,     0,     0,     0,     0,     0,\n",
              "             0],\n",
              "        [  168,  9083,    11,  1758,    29,  2476,  3389,  2095,  2635,\n",
              "            23,    96,  1089,    53,    54,  1406,   134, 28598,    34,\n",
              "             7,     4,   168,  2476,  9083,    29,  1321,   103,  3389,\n",
              "          2095,  1127,    11,  8512,    11,    29,    53,    54,   571,\n",
              "             8,   134, 28598,    34,     7,     0,     0,     0,     0,\n",
              "             0,     0,     0,     0,     0,     0,     0,     0,     0,\n",
              "             0,     0,     0,     0,     0,     0,     0,     0,     0,\n",
              "             0],\n",
              "        [  721,  1840,   138,  2508,  7658,   122,     7,     4,   140,\n",
              "          2508,  7658,   122,     7,     0,     0,     0,     0,     0,\n",
              "             0,     0,     0,     0,     0,     0,     0,     0,     0,\n",
              "             0,     0,     0,     0,     0,     0,     0,     0,     0,\n",
              "             0,     0,     0,     0,     0,     0,     0,     0,     0,\n",
              "             0,     0,     0,     0,     0,     0,     0,     0,     0,\n",
              "             0,     0,     0,     0,     0,     0,     0,     0,     0,\n",
              "             0],\n",
              "        [  916,    11,   423,  3469,    73,   505,    17,   169,  1616,\n",
              "          8756,   142, 13174,  1771,   896,  2427,   683, 12094,    12,\n",
              "           524, 14260,    21,  7718,  1065,   771,   577,    19,    52,\n",
              "          1636,  3466,   509,   327,  1610, 10690,  1123,    83,  1579,\n",
              "            10,     7,     4,   169,  1616,  8756,    12, 14260,    21,\n",
              "          7718,  1065,   771,   577,    10,     7,     0,     0,     0,\n",
              "             0,     0,     0,     0,     0,     0,     0,     0,     0,\n",
              "             0],\n",
              "        [  120,   638,    14,  2722,    13, 15743,    37,   323,  3368,\n",
              "           970,     9, 11286,    17,  3185,     9,   770,    10,   440,\n",
              "            20,   178,     7,    52,  2911,    17, 19038,   748,    11,\n",
              "          2045, 11656,    13,  1201,     8, 10091,     7,     4,    57,\n",
              "          6624,    13,   970,     9, 11286,  3364,  1972,   132,     7,\n",
              "             0,     0,     0,     0,     0,     0,     0,     0,     0,\n",
              "             0,     0,     0,     0,     0,     0,     0,     0,     0,\n",
              "             0],\n",
              "        [ 1583,  3441,  1250,  8034,    86, 15117,   104,  3435,   104,\n",
              "          2243,   103,   695,  4112,  2577,    94,  5954,     9,  5882,\n",
              "             7,     4,  3441,  1250,  8034,    86,    94,   231,     8,\n",
              "          4590,   986,  4112,    30, 24320,     7,     0,     0,     0,\n",
              "             0,     0,     0,     0,     0,     0,     0,     0,     0,\n",
              "             0,     0,     0,     0,     0,     0,     0,     0,     0,\n",
              "             0,     0,     0,     0,     0,     0,     0,     0,     0,\n",
              "             0]]), array([1, 1, 2, 0, 1, 2, 2, 2, 2, 0]))"
            ]
          },
          "metadata": {
            "tags": []
          },
          "execution_count": 31
        }
      ]
    },
    {
      "cell_type": "code",
      "metadata": {
        "colab": {
          "base_uri": "https://localhost:8080/"
        },
        "id": "NoSjK5A-UGmn",
        "outputId": "6136d47d-f805-432a-a490-7f3a4210d549"
      },
      "source": [
        "# input이 2개일떄!!!!!!!!!!!1\n",
        "# ppt의 type 2유형"
      ],
      "execution_count": null,
      "outputs": [
        {
          "output_type": "execute_result",
          "data": {
            "text/plain": [
              "10"
            ]
          },
          "metadata": {
            "tags": []
          },
          "execution_count": 169
        }
      ]
    },
    {
      "cell_type": "code",
      "metadata": {
        "id": "xd_sv1dWUGr8"
      },
      "source": [
        "def make_data_2(df, vocab, n_seq):\n",
        "\n",
        "    inputs_1, inputs_2, labels = [], [], []\n",
        "    # n_seq = 128\n",
        "\n",
        "    for i ,row in tqdm(df_train.iterrows(), total = len(df_train)):\n",
        "        gold_label = label_to_id[row['gold_label']]\n",
        "        sentence1 = row['sentence1']\n",
        "        sentence2 = row['sentence2']\n",
        "\n",
        "        token1 = vocab.encode_as_ids(sentence1)[:n_seq] # limit 128 까지\n",
        "        # print(token1)\n",
        "        token1 = token1 + [0] * (n_seq-len(token1))\n",
        "        # print(token1)\n",
        "        token2 = vocab.encode_as_ids(sentence2)[:n_seq]\n",
        "        token2 = token2 + [0] * (n_seq - len(token2))\n",
        "\n",
        "        assert len(token1) == n_seq\n",
        "        assert len(token2) == n_seq\n",
        "\n",
        "        # print(gold_label, len(token1), token1, len(token2), token2)\n",
        "        inputs_1.append(token1)\n",
        "        inputs_2.append(token2)\n",
        "        labels.append(gold_label)\n",
        "\n",
        "    inputs_1 = np.array(inputs_1)\n",
        "    inputs_2 = np.array(inputs_2)\n",
        "    labels = np.array(labels)\n",
        "\n",
        "    return inputs_1, inputs_2, labels\n"
      ],
      "execution_count": null,
      "outputs": []
    },
    {
      "cell_type": "code",
      "metadata": {
        "colab": {
          "base_uri": "https://localhost:8080/",
          "height": 1000,
          "referenced_widgets": [
            "a5afdce990f14c4db7623e5c232a50c9",
            "1fe74c0ec4b944d4aed8bd5d5c03d8b5",
            "d2b781b317ba4a08993a829b68be6976",
            "df3c1336c7bb4ccd8e81145a5e565dd4",
            "f43ba8c475ec499fb5669aae9d6ed615",
            "3527cc964702471a80d3d62e15c88be1",
            "8f2e783fdad7442aa9fc33ebd1aab77f",
            "eb91a69aa25741cda123ac8f6dd232ee"
          ]
        },
        "id": "EgZURy8MUGu1",
        "outputId": "47cb7804-4203-420b-871c-aefe6b89f526"
      },
      "source": [
        "make_data_2(df_train, vocab, 64)"
      ],
      "execution_count": null,
      "outputs": [
        {
          "output_type": "display_data",
          "data": {
            "application/vnd.jupyter.widget-view+json": {
              "model_id": "a5afdce990f14c4db7623e5c232a50c9",
              "version_minor": 0,
              "version_major": 2
            },
            "text/plain": [
              "HBox(children=(FloatProgress(value=0.0, max=10.0), HTML(value='')))"
            ]
          },
          "metadata": {
            "tags": []
          }
        },
        {
          "output_type": "stream",
          "text": [
            "\n"
          ],
          "name": "stdout"
        },
        {
          "output_type": "execute_result",
          "data": {
            "text/plain": [
              "(array([[ 1731,  2150,  1907,  1731,  2150,   131,    85,    11,  2690,\n",
              "             9,  9211,    47,    87,   131,   809,   117,   131, 13609,\n",
              "         20629,     8,  1227,    11, 10822,     8, 13980,    93,   171,\n",
              "          1553,     1,  1239,   142,   515,     9,  1010,    50,     7,\n",
              "             0,     0,     0,     0,     0,     0,     0,     0,     0,\n",
              "             0,     0,     0,     0,     0,     0,     0,     0,     0,\n",
              "             0,     0,     0,     0,     0,     0,     0,     0,     0,\n",
              "             0],\n",
              "        [ 8574,  2032,  1237,  4526,   473,    97,   805,  1160,     9,\n",
              "          4526,   473,    23,  2721,    15,   657,    14,   381,    11,\n",
              "          4639,   381,    11, 23495,     9,   286,  5444,  1175,   385,\n",
              "             9,  2889,     7,   296,   212,  1848,  5487,    17,   751,\n",
              "         32000,   122,     7,     0,     0,     0,     0,     0,     0,\n",
              "             0,     0,     0,     0,     0,     0,     0,     0,     0,\n",
              "             0,     0,     0,     0,     0,     0,     0,     0,     0,\n",
              "             0],\n",
              "        [   52,  4273,   539,  6400,  2289,  6277,    26,  4021,   563,\n",
              "         10298,   189, 17788,  1323,  7747,    50,     7,     0,     0,\n",
              "             0,     0,     0,     0,     0,     0,     0,     0,     0,\n",
              "             0,     0,     0,     0,     0,     0,     0,     0,     0,\n",
              "             0,     0,     0,     0,     0,     0,     0,     0,     0,\n",
              "             0,     0,     0,     0,     0,     0,     0,     0,     0,\n",
              "             0,     0,     0,     0,     0,     0,     0,     0,     0,\n",
              "             0],\n",
              "        [ 8567,    23,    19,    85,  1780,    14,   362,    11,  2042,\n",
              "          2215,   439,    14,    89,   334,     1,    15,  3197,    20,\n",
              "            14,  3596,    24,  9704,    20,    14,     0,     0,     0,\n",
              "             0,     0,     0,     0,     0,     0,     0,     0,     0,\n",
              "             0,     0,     0,     0,     0,     0,     0,     0,     0,\n",
              "             0,     0,     0,     0,     0,     0,     0,     0,     0,\n",
              "             0,     0,     0,     0,     0,     0,     0,     0,     0,\n",
              "             0],\n",
              "        [ 5661,  3177,     7,     0,     0,     0,     0,     0,     0,\n",
              "             0,     0,     0,     0,     0,     0,     0,     0,     0,\n",
              "             0,     0,     0,     0,     0,     0,     0,     0,     0,\n",
              "             0,     0,     0,     0,     0,     0,     0,     0,     0,\n",
              "             0,     0,     0,     0,     0,     0,     0,     0,     0,\n",
              "             0,     0,     0,     0,     0,     0,     0,     0,     0,\n",
              "             0,     0,     0,     0,     0,     0,     0,     0,     0,\n",
              "             0],\n",
              "        [  592,   799,  1111,   130,  1988,   619,    76, 15571, 13170,\n",
              "           832,    29,   162,   565,    17,  3461,   271,     7,     0,\n",
              "             0,     0,     0,     0,     0,     0,     0,     0,     0,\n",
              "             0,     0,     0,     0,     0,     0,     0,     0,     0,\n",
              "             0,     0,     0,     0,     0,     0,     0,     0,     0,\n",
              "             0,     0,     0,     0,     0,     0,     0,     0,     0,\n",
              "             0,     0,     0,     0,     0,     0,     0,     0,     0,\n",
              "             0],\n",
              "        [ 2898,    15, 17229,  2052,     9,   739,    47,    87,  2725,\n",
              "           832,  2258,     8, 12728,    58,   388,   569,   340,  2864,\n",
              "             9, 10183,   218, 10876,  2111,   287,   704,     7,     0,\n",
              "             0,     0,     0,     0,     0,     0,     0,     0,     0,\n",
              "             0,     0,     0,     0,     0,     0,     0,     0,     0,\n",
              "             0,     0,     0,     0,     0,     0,     0,     0,     0,\n",
              "             0,     0,     0,     0,     0,     0,     0,     0,     0,\n",
              "             0],\n",
              "        [   76,    85,    11,  8529,    14,  1321,   103,   462,   173,\n",
              "         20429,   243,  1067,    14,    35,  1057,    11,  1238,  5291,\n",
              "            13,   359,   207,   229,  1817,    14,  9571,    14, 26912,\n",
              "            34,     7,     0,     0,     0,     0,     0,     0,     0,\n",
              "             0,     0,     0,     0,     0,     0,     0,     0,     0,\n",
              "             0,     0,     0,     0,     0,     0,     0,     0,     0,\n",
              "             0,     0,     0,     0,     0,     0,     0,     0,     0,\n",
              "             0],\n",
              "        [   52,   763,    11,   422,  3486,   423,  4093,    73,  6012,\n",
              "          8685,   111,    23,   808,   896,    83,    15,    27,  9538,\n",
              "          9297,    59,   215,     1,    34,     7,     0,     0,     0,\n",
              "             0,     0,     0,     0,     0,     0,     0,     0,     0,\n",
              "             0,     0,     0,     0,     0,     0,     0,     0,     0,\n",
              "             0,     0,     0,     0,     0,     0,     0,     0,     0,\n",
              "             0,     0,     0,     0,     0,     0,     0,     0,     0,\n",
              "             0],\n",
              "        [  864,    93,    36,   168,  3262,    13,   115,   100,   592,\n",
              "           340,   867,   936,   987,    72,   134,   597,     8,   115,\n",
              "           100,  2214,  2798,   565,    17,  1641,    14,  6373,    14,\n",
              "         23156,    14,  4155,  1997,     8, 15486,     7,     0,     0,\n",
              "             0,     0,     0,     0,     0,     0,     0,     0,     0,\n",
              "             0,     0,     0,     0,     0,     0,     0,     0,     0,\n",
              "             0,     0,     0,     0,     0,     0,     0,     0,     0,\n",
              "             0]]),\n",
              " array([[ 8452,    15,  1779,     8,   134,    87,  5380,  1322,   276,\n",
              "             7,     0,     0,     0,     0,     0,     0,     0,     0,\n",
              "             0,     0,     0,     0,     0,     0,     0,     0,     0,\n",
              "             0,     0,     0,     0,     0,     0,     0,     0,     0,\n",
              "             0,     0,     0,     0,     0,     0,     0,     0,     0,\n",
              "             0,     0,     0,     0,     0,     0,     0,     0,     0,\n",
              "             0,     0,     0,     0,     0,     0,     0,     0,     0,\n",
              "             0],\n",
              "        [  407,    12,  2288,  2032,  1237,   224, 21690,     7,     0,\n",
              "             0,     0,     0,     0,     0,     0,     0,     0,     0,\n",
              "             0,     0,     0,     0,     0,     0,     0,     0,     0,\n",
              "             0,     0,     0,     0,     0,     0,     0,     0,     0,\n",
              "             0,     0,     0,     0,     0,     0,     0,     0,     0,\n",
              "             0,     0,     0,     0,     0,     0,     0,     0,     0,\n",
              "             0,     0,     0,     0,     0,     0,     0,     0,     0,\n",
              "             0],\n",
              "        [ 2642,  6400,    11, 14254,  3080,    15,   757,   342,     7,\n",
              "             0,     0,     0,     0,     0,     0,     0,     0,     0,\n",
              "             0,     0,     0,     0,     0,     0,     0,     0,     0,\n",
              "             0,     0,     0,     0,     0,     0,     0,     0,     0,\n",
              "             0,     0,     0,     0,     0,     0,     0,     0,     0,\n",
              "             0,     0,     0,     0,     0,     0,     0,     0,     0,\n",
              "             0,     0,     0,     0,     0,     0,     0,     0,     0,\n",
              "             0],\n",
              "        [  159,   144,  4986,    11,  4328,     9,    62,    10,     7,\n",
              "             0,     0,     0,     0,     0,     0,     0,     0,     0,\n",
              "             0,     0,     0,     0,     0,     0,     0,     0,     0,\n",
              "             0,     0,     0,     0,     0,     0,     0,     0,     0,\n",
              "             0,     0,     0,     0,     0,     0,     0,     0,     0,\n",
              "             0,     0,     0,     0,     0,     0,     0,     0,     0,\n",
              "             0,     0,     0,     0,     0,     0,     0,     0,     0,\n",
              "             0],\n",
              "        [   35, 10911,    15,  3177,    24,  2370,     7,     0,     0,\n",
              "             0,     0,     0,     0,     0,     0,     0,     0,     0,\n",
              "             0,     0,     0,     0,     0,     0,     0,     0,     0,\n",
              "             0,     0,     0,     0,     0,     0,     0,     0,     0,\n",
              "             0,     0,     0,     0,     0,     0,     0,     0,     0,\n",
              "             0,     0,     0,     0,     0,     0,     0,     0,     0,\n",
              "             0,     0,     0,     0,     0,     0,     0,     0,     0,\n",
              "             0],\n",
              "        [ 3461,  2558,  1088,   129,   271,    13,  1527,  1348,     7,\n",
              "             0,     0,     0,     0,     0,     0,     0,     0,     0,\n",
              "             0,     0,     0,     0,     0,     0,     0,     0,     0,\n",
              "             0,     0,     0,     0,     0,     0,     0,     0,     0,\n",
              "             0,     0,     0,     0,     0,     0,     0,     0,     0,\n",
              "             0,     0,     0,     0,     0,     0,     0,     0,     0,\n",
              "             0,     0,     0,     0,     0,     0,     0,     0,     0,\n",
              "             0],\n",
              "        [  599,    11, 13738,  2864,    11,  2034,     9,  2453,    12,\n",
              "           117,   231,  5210,    34,     7,     0,     0,     0,     0,\n",
              "             0,     0,     0,     0,     0,     0,     0,     0,     0,\n",
              "             0,     0,     0,     0,     0,     0,     0,     0,     0,\n",
              "             0,     0,     0,     0,     0,     0,     0,     0,     0,\n",
              "             0,     0,     0,     0,     0,     0,     0,     0,     0,\n",
              "             0,     0,     0,     0,     0,     0,     0,     0,     0,\n",
              "             0],\n",
              "        [   85,    11,  8529,    41,  5044,  2970, 15330,     7,     0,\n",
              "             0,     0,     0,     0,     0,     0,     0,     0,     0,\n",
              "             0,     0,     0,     0,     0,     0,     0,     0,     0,\n",
              "             0,     0,     0,     0,     0,     0,     0,     0,     0,\n",
              "             0,     0,     0,     0,     0,     0,     0,     0,     0,\n",
              "             0,     0,     0,     0,     0,     0,     0,     0,     0,\n",
              "             0,     0,     0,     0,     0,     0,     0,     0,     0,\n",
              "             0],\n",
              "        [  763,    11,   422,    12, 25518,   276,     7,     0,     0,\n",
              "             0,     0,     0,     0,     0,     0,     0,     0,     0,\n",
              "             0,     0,     0,     0,     0,     0,     0,     0,     0,\n",
              "             0,     0,     0,     0,     0,     0,     0,     0,     0,\n",
              "             0,     0,     0,     0,     0,     0,     0,     0,     0,\n",
              "             0,     0,     0,     0,     0,     0,     0,     0,     0,\n",
              "             0,     0,     0,     0,     0,     0,     0,     0,     0,\n",
              "             0],\n",
              "        [  168,  3262,    13,   115,   100,    43,    90,   790,   132,\n",
              "             7,   340,   867,   936,   987,    72,   134,   597,     8,\n",
              "            33,    10,     7,     0,     0,     0,     0,     0,     0,\n",
              "             0,     0,     0,     0,     0,     0,     0,     0,     0,\n",
              "             0,     0,     0,     0,     0,     0,     0,     0,     0,\n",
              "             0,     0,     0,     0,     0,     0,     0,     0,     0,\n",
              "             0,     0,     0,     0,     0,     0,     0,     0,     0,\n",
              "             0]]),\n",
              " array([0, 0, 1, 1, 2, 0, 0, 0, 0, 2]))"
            ]
          },
          "metadata": {
            "tags": []
          },
          "execution_count": 23
        }
      ]
    },
    {
      "cell_type": "code",
      "metadata": {
        "colab": {
          "base_uri": "https://localhost:8080/",
          "height": 166,
          "referenced_widgets": [
            "249ca02dd71a4128aa98efa8eb8b5585",
            "994f0618a3f345ec9b00f711e7d71442",
            "04a33898a82445be8d26e02bd358f5f6",
            "6471e6c508c54daaa10b2d4d98931612",
            "6f0de3da40c94c64b22cb2f0f8bf7a1f",
            "6978f8445bd14fd48d58800d0be5197a",
            "7eb005f64d404007a6649e75f8a6cf75",
            "dca68b57af4e498fa899c5ea0fc13db0",
            "2da4a320d2ca4da2a783b269c5edf357",
            "8010f8a3521b441e94b9657acd2682f0",
            "3771670072af4952aa28d502e1fe8528",
            "c14e50871d07497783c2161e38d6d54a",
            "b68b962213054002ae5c603c6fcfd662",
            "889c66eb91174957b9b7f7d687421815",
            "79cc0f9a3616417ca2064e8b87395d60",
            "28f7bbd987df43b799f464b1c6e8911a",
            "8ff395f1392d4ca6bb242914a702415a",
            "7cc0c8128a114218983f14011f7f494e",
            "9e7444b192f241fabeea829dd0c414d5",
            "0b5b4485bb9145e3a06ddd1befbf19e5",
            "688ca4c0ba084e66a3f97cadb6787bad",
            "ef7eaf40fa0f4bcda40601995ee8283d",
            "058d368486bb475781dacddd132660fe",
            "2035a11c01bc404fb796837c3f164d33"
          ]
        },
        "id": "0q8jgv4XUG4R",
        "outputId": "d521487a-26d9-4874-a037-a301e1143e45"
      },
      "source": [
        "train_inputs_1, train_inputs_2, train_label = make_data_2(df_train, vocab , 64)\n",
        "val_inputs_1, val_inputs_2, val_label = make_data_2(df_val, vocab , 64)\n",
        "test_inputs_1, test_inputs_2, test_label = make_data_2(df_test, vocab , 64)"
      ],
      "execution_count": null,
      "outputs": [
        {
          "output_type": "display_data",
          "data": {
            "application/vnd.jupyter.widget-view+json": {
              "model_id": "249ca02dd71a4128aa98efa8eb8b5585",
              "version_minor": 0,
              "version_major": 2
            },
            "text/plain": [
              "HBox(children=(FloatProgress(value=0.0, max=10.0), HTML(value='')))"
            ]
          },
          "metadata": {
            "tags": []
          }
        },
        {
          "output_type": "stream",
          "text": [
            "\n"
          ],
          "name": "stdout"
        },
        {
          "output_type": "display_data",
          "data": {
            "application/vnd.jupyter.widget-view+json": {
              "model_id": "2da4a320d2ca4da2a783b269c5edf357",
              "version_minor": 0,
              "version_major": 2
            },
            "text/plain": [
              "HBox(children=(FloatProgress(value=0.0, max=10.0), HTML(value='')))"
            ]
          },
          "metadata": {
            "tags": []
          }
        },
        {
          "output_type": "stream",
          "text": [
            "\n"
          ],
          "name": "stdout"
        },
        {
          "output_type": "display_data",
          "data": {
            "application/vnd.jupyter.widget-view+json": {
              "model_id": "8ff395f1392d4ca6bb242914a702415a",
              "version_minor": 0,
              "version_major": 2
            },
            "text/plain": [
              "HBox(children=(FloatProgress(value=0.0, max=10.0), HTML(value='')))"
            ]
          },
          "metadata": {
            "tags": []
          }
        },
        {
          "output_type": "stream",
          "text": [
            "\n"
          ],
          "name": "stdout"
        }
      ]
    },
    {
      "cell_type": "code",
      "metadata": {
        "colab": {
          "base_uri": "https://localhost:8080/"
        },
        "id": "0YQ1tgxORWeb",
        "outputId": "1bec09ec-d267-4261-a630-f8eb353d30fe"
      },
      "source": [
        "print(train_inputs_1.shape, train_inputs_2.shape, train_label.shape)"
      ],
      "execution_count": null,
      "outputs": [
        {
          "output_type": "stream",
          "text": [
            "(10, 64) (10, 64) (10,)\n"
          ],
          "name": "stdout"
        }
      ]
    },
    {
      "cell_type": "markdown",
      "metadata": {
        "id": "UcCJTiPNKwMD"
      },
      "source": [
        "## Modeling"
      ]
    },
    {
      "cell_type": "code",
      "metadata": {
        "colab": {
          "base_uri": "https://localhost:8080/"
        },
        "id": "Jt4Nx5n6bDeE",
        "outputId": "320c0d07-608a-4f11-ed58-b0e3fedefd87"
      },
      "source": [
        "# 환경 설정\n",
        "\n",
        "import argparse\n",
        "\n",
        "args = {\n",
        "    # random seed value\n",
        "    \"seed\": 1234\n",
        "}\n",
        "args = argparse.Namespace(**args)\n",
        "\n",
        "print(args)\n",
        "args.n_vocab = len(vocab)\n",
        "args.d_model = 256\n",
        "args.n_out = 3\n",
        "args"
      ],
      "execution_count": null,
      "outputs": [
        {
          "output_type": "stream",
          "text": [
            "Namespace(seed=1234)\n"
          ],
          "name": "stdout"
        },
        {
          "output_type": "execute_result",
          "data": {
            "text/plain": [
              "Namespace(d_model=256, n_out=3, n_vocab=32007, seed=1234)"
            ]
          },
          "metadata": {
            "tags": []
          },
          "execution_count": 26
        }
      ]
    },
    {
      "cell_type": "code",
      "metadata": {
        "id": "NI-YLCXrR6vx"
      },
      "source": [
        "def build_model(args):\n",
        "    inputs_1 = tf.keras.layers.Input((None,), name = 'input_ 1') # (bs, n_seq) # 토큰의 숫자지 [ 0,1,20,15,36]\n",
        "    inputs_2 = tf.keras.layers.Input((None,), name = 'input_ 2') # (bs,n_seq)\n",
        "    \n",
        "\n",
        "    embedding = tf.keras.layers.Embedding(args.n_vocab, args.d_model, name = 'embedding')\n",
        "    hidden_1 = embedding(inputs_1) # (bs, n_seq, ,d_model)\n",
        "    hidden_2 = embedding(inputs_2) # (bs,n_seq, d_model)\n",
        "\n",
        "    lstm = tf.keras.layers.LSTM(units = args.d_model, go_backwards = True, name = 'LSTM') # return sequence가 성ㅄ으니까 n_seq가 없지! // 요고 fixed vector 뽑아낸 거잖아\n",
        "\n",
        "    hidden_1 = lstm(hidden_1) #(bs, d_model ) # day 12 실습\n",
        "    hidden_2 = lstm(hidden_2) #(bs, d_model)\n",
        "\n",
        "    concat_hidden = tf.concat([hidden_1,hidden_2], axis = 1)\n",
        "\n",
        "    linear = tf.keras.layers.Dense(args.n_out, activation=tf.nn.softmax, name = 'out_linear')\n",
        "    y_pred = linear(concat_hidden)\n",
        "\n",
        "    model = tf.keras.Model(inputs = (inputs_1, inputs_2), outputs=y_pred)\n",
        "    return model\n",
        "\n",
        "    # encoder, decoder 형태 아님\n",
        "    # similarity 모델임"
      ],
      "execution_count": null,
      "outputs": []
    },
    {
      "cell_type": "code",
      "metadata": {
        "colab": {
          "base_uri": "https://localhost:8080/",
          "height": 468
        },
        "id": "OyghWliUnIdk",
        "outputId": "814edd05-4e89-42d8-fe4e-171970cac41f"
      },
      "source": [
        "model = build_model(args)\n",
        "tf.keras.utils.plot_model(model, 'model.png', show_shapes = True)"
      ],
      "execution_count": null,
      "outputs": [
        {
          "output_type": "execute_result",
          "data": {
            "image/png": "[encoded data removed]",
            "text/plain": [
              "<IPython.core.display.Image object>"
            ]
          },
          "metadata": {
            "tags": []
          },
          "execution_count": 28
        }
      ]
    },
    {
      "cell_type": "markdown",
      "metadata": {
        "id": "gWkJRJPUUVnu"
      },
      "source": [
        "## Train"
      ]
    },
    {
      "cell_type": "code",
      "metadata": {
        "id": "yCkEoabZs7Pr"
      },
      "source": [
        "# model.compile(loss=\"sparse_categorical_crossentropy\", optimizer=\"adam\", metrics=[\"accuracy\"])\n",
        "model.compile(loss = 'sparse_categorical_crossentropy', optimizer = 'adam', metrics = ['accuracy'])"
      ],
      "execution_count": null,
      "outputs": []
    },
    {
      "cell_type": "code",
      "metadata": {
        "id": "jsOBuCqJtK90"
      },
      "source": [
        "early_stopping = tf.keras.callbacks.EarlyStopping(monitor = 'val_accuracy', patience = 20)\n",
        "save_weights = tf.keras.callbacks.ModelCheckpoint(os.path.join(kornli_dir , 'baseline.hdf5'),\n",
        "                                                   monitor = 'val_accuracy',\n",
        "                                                   verbose = 1,\n",
        "                                                   save_best_only = True,\n",
        "                                                   mode = 'max',\n",
        "                                                   save_freq = 'epoch',\n",
        "                                                   save_weights_only = True)\n",
        "csv_logger = tf.keras.callbacks.CSVLogger(os.path.join(kornli_dir, 'baseline.csv'))\n",
        "                                                    "
      ],
      "execution_count": null,
      "outputs": []
    },
    {
      "cell_type": "code",
      "metadata": {
        "colab": {
          "base_uri": "https://localhost:8080/"
        },
        "id": "QPtJI5SFt8SA",
        "outputId": "1be8c729-d5e6-4737-fd57-16ae672eb0b5"
      },
      "source": [
        "history = model.fit((train_inputs_1, train_inputs_2), train_label,\n",
        "                    epochs = 100,\n",
        "                    batch_size = 64,\n",
        "                    validation_data = ((val_inputs_1, val_inputs_2), val_label),\n",
        "                    callbacks = [early_stopping, save_weights, csv_logger])\n",
        "\n"
      ],
      "execution_count": null,
      "outputs": [
        {
          "output_type": "stream",
          "text": [
            "Epoch 1/100\n",
            "2338/6022 [==========>...................] - ETA: 50:29 - loss: 0.9944 - accuracy: 0.5022"
          ],
          "name": "stdout"
        }
      ]
    },
    {
      "cell_type": "markdown",
      "metadata": {
        "id": "mUww_hyZaSnH"
      },
      "source": [
        "## 평가"
      ]
    },
    {
      "cell_type": "code",
      "metadata": {
        "id": "EhTWBx5stJOZ"
      },
      "source": [
        ""
      ],
      "execution_count": null,
      "outputs": []
    },
    {
      "cell_type": "markdown",
      "metadata": {
        "id": "ffFq5_Avbsq-"
      },
      "source": [
        "## 배포"
      ]
    },
    {
      "cell_type": "markdown",
      "metadata": {
        "id": "P-3hoS1UrWp-"
      },
      "source": [
        "# All Data Project"
      ]
    },
    {
      "cell_type": "markdown",
      "metadata": {
        "id": "yeMJGOp6rWqA"
      },
      "source": [
        "## Train, Test 데이터 생성"
      ]
    },
    {
      "cell_type": "markdown",
      "metadata": {
        "id": "ncsIasKerWqG"
      },
      "source": [
        "## Modeling"
      ]
    },
    {
      "cell_type": "code",
      "metadata": {
        "id": "C60x-pEeyyPU"
      },
      "source": [
        "# attention\n",
        "def get_pad_mask(token, i_pad = 0):\n",
        "    \"\"\"\n",
        "    pad mask 계산하는 함수\n",
        "    :param tokens: tokens (bs, n_seq)\n",
        "    :param i_pad: id of pad\n",
        "    :return mask: pad mask (pad: 1, other: 0)\n",
        "    \"\"\"\n",
        "    # 0인 부분을 True로\n",
        "    mask = tf.math.equal(token, i_pad)\n",
        "    # print(mask)\n",
        "\n",
        "    #boolean -> float32\n",
        "    mask = tf.cast(mask, tf.float32)\n",
        "    # print(mask)\n",
        "    \n",
        "    #expand dimension for n_seq\n",
        "    mask = tf.expand_dims(mask, axis = 1) # (bs,n_seq)였는데 expand로 dimension 1확장해야지 안그럼 브로드 캐스팅(아래로 쭉 복사) 못하지!\n",
        "    # print(mask)\n",
        "    return mask\n"
      ],
      "execution_count": null,
      "outputs": []
    },
    {
      "cell_type": "code",
      "metadata": {
        "colab": {
          "base_uri": "https://localhost:8080/"
        },
        "id": "GDAC_wsIYh3T",
        "outputId": "c27d42a7-7d39-41ec-f09e-efd4041c18c7"
      },
      "source": [
        "train_inputs_1[0]\n",
        "get_pad_mask(train_inputs_1[0])"
      ],
      "execution_count": null,
      "outputs": [
        {
          "output_type": "execute_result",
          "data": {
            "text/plain": [
              "<tf.Tensor: shape=(64, 1), dtype=float32, numpy=\n",
              "array([[0.],\n",
              "       [0.],\n",
              "       [0.],\n",
              "       [0.],\n",
              "       [0.],\n",
              "       [0.],\n",
              "       [0.],\n",
              "       [0.],\n",
              "       [0.],\n",
              "       [0.],\n",
              "       [0.],\n",
              "       [0.],\n",
              "       [0.],\n",
              "       [0.],\n",
              "       [0.],\n",
              "       [0.],\n",
              "       [0.],\n",
              "       [0.],\n",
              "       [0.],\n",
              "       [0.],\n",
              "       [0.],\n",
              "       [0.],\n",
              "       [0.],\n",
              "       [0.],\n",
              "       [0.],\n",
              "       [0.],\n",
              "       [0.],\n",
              "       [0.],\n",
              "       [0.],\n",
              "       [0.],\n",
              "       [0.],\n",
              "       [0.],\n",
              "       [0.],\n",
              "       [0.],\n",
              "       [0.],\n",
              "       [0.],\n",
              "       [1.],\n",
              "       [1.],\n",
              "       [1.],\n",
              "       [1.],\n",
              "       [1.],\n",
              "       [1.],\n",
              "       [1.],\n",
              "       [1.],\n",
              "       [1.],\n",
              "       [1.],\n",
              "       [1.],\n",
              "       [1.],\n",
              "       [1.],\n",
              "       [1.],\n",
              "       [1.],\n",
              "       [1.],\n",
              "       [1.],\n",
              "       [1.],\n",
              "       [1.],\n",
              "       [1.],\n",
              "       [1.],\n",
              "       [1.],\n",
              "       [1.],\n",
              "       [1.],\n",
              "       [1.],\n",
              "       [1.],\n",
              "       [1.],\n",
              "       [1.]], dtype=float32)>"
            ]
          },
          "metadata": {
            "tags": []
          },
          "execution_count": 30
        }
      ]
    },
    {
      "cell_type": "code",
      "metadata": {
        "id": "oqhV-2UuZm_I"
      },
      "source": [
        "class ScaleDotProductAttention(tf.keras.layers.Layer):\n",
        "    \"\"\"\n",
        "    Scale Dot Product Attention Class\n",
        "    \"\"\"\n",
        "    def __init__(self, name = \"scale_dot_product_attention\"):\n",
        "        \"\"\"\n",
        "        생성자\n",
        "        :param name: layer name\n",
        "        \"\"\"\n",
        "        super().__init__(name = name)\n",
        "\n",
        "    def call(self, inputs):\n",
        "        \"\"\"\n",
        "        layer 실행\n",
        "        :param inputs : Q ,K ,V ,attn_mask tuple\n",
        "        :return attn_out : attention 실행결과\n",
        "        \"\"\"\n",
        "        Q,K,V,attn_mask = inputs\n",
        "        # print(Q,K,V,attn_mask)\n",
        "\n",
        "        #matmul Q, K (transpose_b = True)\n",
        "        attn_score = tf.matmul(Q, K, transpose_b = True) # QxK.T\n",
        "        # print(attn_score)\n",
        "\n",
        "        #get scale = d_model ** 0.5\n",
        "        scale = tf.math.sqrt(tf.cast(tf.shape(K)[-1], tf.float32)) # k의 shape은 (bs, vocab_size, d_model)이니까\n",
        "\n",
        "        #divide by scale\n",
        "        attn_scale = tf.math.divide(attn_score, scale) # 스케일로 나눠주기\n",
        "        # print(attn_scale)\n",
        "    \n",
        "        # do mask (subtract 1e-9 for masked value)\n",
        "        attn_scale -= 1.e9 * attn_mask # 1인부분에 엄청 큰 음수를 곱하면 이되고 0파트는 오히려 그대로지\n",
        "                                        # softmax에는  엄청 큰 음수만 0에 가깝고\n",
        "                                        # 나머지 값 scale은 -1~ 1사이에 있으니까 마치 패딩, graident가 안흘러서 학습이 안된것과 마찬가지로 되는거지\n",
        "        # print(attn_scale)\n",
        "\n",
        "        #calculate attention prob\n",
        "        attn_prob = tf.nn.softmax(attn_scale, axis = -1) # softmax(QxK.T/sclae) with mask\n",
        "        # print(attn_prob)\n",
        "\n",
        "        # weighted sum of V\n",
        "        attn_out = tf.matmul(attn_prob, V)\n",
        "        return attn_out\n"
      ],
      "execution_count": null,
      "outputs": []
    },
    {
      "cell_type": "code",
      "metadata": {
        "colab": {
          "base_uri": "https://localhost:8080/"
        },
        "id": "BJ9w0f6pcC_s",
        "outputId": "189c173f-bdae-43c8-e978-7b3ebc3b0091"
      },
      "source": [
        "embed_weight = np.random.randint(-90, 100, (args.n_vocab, args.d_model)) /100\n",
        "embed = tf.keras.layers.Embedding(args.n_vocab, args.d_model, weights=[embed_weight]) # 위에 설정한 weight로 초기값을 시작할려고\n",
        "test = embed(train_inputs_1[0])# (64,128) = (n_seq, d_model) # 지금은 단일data하나니까 bs = 1인거임\n",
        "test"
      ],
      "execution_count": null,
      "outputs": [
        {
          "output_type": "execute_result",
          "data": {
            "text/plain": [
              "<tf.Tensor: shape=(64, 256), dtype=float32, numpy=\n",
              "array([[-0.17, -0.06,  0.6 , ..., -0.15,  0.74,  0.08],\n",
              "       [ 0.97, -0.07, -0.63, ...,  0.92,  0.56, -0.67],\n",
              "       [ 0.19,  0.96,  0.2 , ...,  0.86, -0.28,  0.33],\n",
              "       ...,\n",
              "       [ 0.6 ,  0.87, -0.48, ...,  0.66, -0.49, -0.33],\n",
              "       [ 0.6 ,  0.87, -0.48, ...,  0.66, -0.49, -0.33],\n",
              "       [ 0.6 ,  0.87, -0.48, ...,  0.66, -0.49, -0.33]], dtype=float32)>"
            ]
          },
          "metadata": {
            "tags": []
          },
          "execution_count": 32
        }
      ]
    },
    {
      "cell_type": "code",
      "metadata": {
        "colab": {
          "base_uri": "https://localhost:8080/"
        },
        "id": "ewSJ4WWOdVT9",
        "outputId": "47a4f34a-7744-45ab-f83f-ce56b93d715b"
      },
      "source": [
        "Q = test\n",
        "K = test\n",
        "V = test\n",
        "\n",
        "enc_self_mask = get_pad_mask(train_inputs_1[0])\n",
        "enc_self_mask\n",
        "\n",
        "attention = ScaleDotProductAttention()\n",
        "attn_out = attention((Q, K, V, enc_self_mask)) # input이 4개의 tuple이지\n",
        "attn_out"
      ],
      "execution_count": null,
      "outputs": [
        {
          "output_type": "execute_result",
          "data": {
            "text/plain": [
              "<tf.Tensor: shape=(64, 256), dtype=float32, numpy=\n",
              "array([[-0.26081   , -0.35116974,  0.20361385, ...,  0.20892493,\n",
              "        -0.08148408, -0.31986496],\n",
              "       [-0.49430597, -0.49705282, -0.06697787, ..., -0.25813207,\n",
              "        -0.22261111,  0.39269346],\n",
              "       [ 0.09000347, -0.36161047,  0.13173635, ...,  0.64433223,\n",
              "         0.23506327,  0.13578482],\n",
              "       ...,\n",
              "       [-0.09078124, -0.18312494,  0.16765617, ...,  0.12953126,\n",
              "         0.10640622, -0.08515626],\n",
              "       [-0.09078124, -0.18312494,  0.16765617, ...,  0.12953126,\n",
              "         0.10640622, -0.08515626],\n",
              "       [-0.09078124, -0.18312494,  0.16765617, ...,  0.12953126,\n",
              "         0.10640622, -0.08515626]], dtype=float32)>"
            ]
          },
          "metadata": {
            "tags": []
          },
          "execution_count": 128
        }
      ]
    },
    {
      "cell_type": "code",
      "metadata": {
        "id": "9jVp2PMvtPuT"
      },
      "source": [
        "# mask2,1 헷갈림\n",
        "# 최종 shape은 GMP에 의해서 (bs,d_model)이  밎나, (bs,n_seq)는 아닌지"
      ],
      "execution_count": null,
      "outputs": []
    },
    {
      "cell_type": "code",
      "metadata": {
        "id": "-r6HsDjgpzj8"
      },
      "source": [
        "def build_model_type2(args):\n",
        "    inputs_1 = tf.keras.layers.Input((None,), name = 'input_1') # (bs, n_Seq)\n",
        "    inputs_2 = tf.keras.layers.Input((None,), name = 'input_2') # (bs, n_seq)\n",
        "\n",
        "    mask_1 = get_pad_mask(inputs_1)\n",
        "    mask_2 = get_pad_mask(inputs_2)\n",
        "    print(mask_1.shape)  # (bs,1,n_seq)\n",
        "    print(mask_2.shape)  # \n",
        "\n",
        "    embedding = tf.keras.layers.Embedding(args.n_vocab, args.d_model, name = 'embedding')\n",
        "    hidden_1 = embedding(inputs_1) # (bs,n_Seq, d_model)\n",
        "    hidden_2 = embedding(inputs_2) # (bs,n_seq, d_model)\n",
        "    print(hidden_1.shape)\n",
        "    print(hidden_2.shape)\n",
        "    \n",
        "    lstm = tf.keras.layers.LSTM(units = args.d_model, return_sequences=True, go_backwards=True, name=\"LSTM\")\n",
        "    hidden_1 = lstm(hidden_1) #(bs, n_seq, d_model) # return _sequences = True로 했으니까 \n",
        "    hidden_2 = lstm(hidden_2) # (bs, n_seq, d_model)\n",
        "\n",
        "    attention = ScaleDotProductAttention()\n",
        "    attention_1 = attention((hidden_1, hidden_2, hidden_2, mask_2)) # mask2 -> pad인 부분을 학습 안하게 하려고 \n",
        "                                                                    # s부분, 즉 hidden2부분의 \n",
        "    attention_2 = attention((hidden_2, hidden_1, hidden_1, mask_1))\n",
        " \n",
        "    pooling = tf.keras.layers.GlobalMaxPooling1D()    # 지금 size가 (bs, n_seq, d_model)이니까 concat하려면 pooling을 해야되지\n",
        "    hidden_1 = pooling(hidden_1)\n",
        "    hidden_2 = pooling(hidden_2)\n",
        "    attention_1 = pooling(attention_1)\n",
        "    attention_2 = pooling(attention_2) # 총 4개를 concat하려나봐, attention 이전 2개, 이후 2개\n",
        "                                        # 지금 shape은 GMP이후 니까 (bs, d_model)이지? 맞나?\n",
        "                                        # 아 concat하려면 fix_vecter가 되어야 하니까 (Bs, d_model)이 맞는거 같은데\n",
        "\n",
        "    hidden = tf.concat([hidden_1, hidden_2, attention_1, attention_2], axis =-1) # (bs, 4 * unit) = (bs, 4* d_model)\n",
        "    linear = tf.keras.layers.Dense(args.d_model, activation  = 'relu')\n",
        "    hidden = linear(hidden)\n",
        "\n",
        "    linear = tf.keras.layers.Dense(args.n_out, activation = 'softmax', name = 'out_linear')\n",
        "    y_pred = linear(hidden) # (bs, n_out)\n",
        "\n",
        "    model = tf.keras.Model( inputs = (inputs_1, inputs_2), outputs= y_pred)\n",
        "    return model"
      ],
      "execution_count": null,
      "outputs": []
    },
    {
      "cell_type": "code",
      "metadata": {
        "colab": {
          "base_uri": "https://localhost:8080/",
          "height": 1000
        },
        "id": "mEIMf5nduUEh",
        "outputId": "0a7f6264-3285-4677-d453-22eba8795aca"
      },
      "source": [
        "model =build_model_type2(args)\n",
        "tf.keras.utils.plot_model(model, 'model.png', show_shapes = True)"
      ],
      "execution_count": null,
      "outputs": [
        {
          "output_type": "stream",
          "text": [
            "(None, 1, None)\n",
            "(None, 1, None)\n",
            "(None, None, 256)\n",
            "(None, None, 256)\n"
          ],
          "name": "stdout"
        },
        {
          "output_type": "execute_result",
          "data": {
            "image/png": "[encoded data removed]",
            "text/plain": [
              "<IPython.core.display.Image object>"
            ]
          },
          "metadata": {
            "tags": []
          },
          "execution_count": 37
        }
      ]
    },
    {
      "cell_type": "code",
      "metadata": {
        "colab": {
          "base_uri": "https://localhost:8080/"
        },
        "id": "icc5shxNwB-v",
        "outputId": "867d01e6-bc50-4fa1-ca07-270116a8fc5f"
      },
      "source": [
        ""
      ],
      "execution_count": null,
      "outputs": [
        {
          "output_type": "execute_result",
          "data": {
            "text/plain": [
              "Namespace(d_model=256, n_out=3, n_vocab=32007, seed=1234)"
            ]
          },
          "metadata": {
            "tags": []
          },
          "execution_count": 108
        }
      ]
    },
    {
      "cell_type": "markdown",
      "metadata": {
        "id": "ybu6dgSsrWqH"
      },
      "source": [
        "## Train"
      ]
    },
    {
      "cell_type": "markdown",
      "metadata": {
        "id": "QMv_B7verWqI"
      },
      "source": [
        "## 평가"
      ]
    },
    {
      "cell_type": "markdown",
      "metadata": {
        "id": "jqzSYTPGrWqK"
      },
      "source": [
        "## 배포"
      ]
    }
  ]
}