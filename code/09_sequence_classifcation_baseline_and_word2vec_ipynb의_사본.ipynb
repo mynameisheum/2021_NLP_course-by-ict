{
  "nbformat": 4,
  "nbformat_minor": 0,
  "metadata": {
    "colab": {
      "name": "9-sequence-classifcation-baseline and word2vec.ipynb의 사본",
      "provenance": [],
      "collapsed_sections": [
        "qrLHpteG7Ui_",
        "097BJVHG_QfR",
        "46KoI5zMBaA5",
        "Vwjo-BxiCiki",
        "UcCJTiPNKwMD",
        "gWkJRJPUUVnu",
        "mUww_hyZaSnH",
        "ffFq5_Avbsq-"
      ]
    },
    "kernelspec": {
      "name": "python3",
      "display_name": "Python 3"
    },
    "language_info": {
      "name": "python"
    }
  },
  "cells": [
    {
      "cell_type": "markdown",
      "metadata": {
        "id": "qrLHpteG7Ui_"
      },
      "source": [
        "# 한글폰트"
      ]
    },
    {
      "cell_type": "code",
      "metadata": {
        "id": "SBb2dcDv7T_3",
        "colab": {
          "base_uri": "https://localhost:8080/"
        },
        "outputId": "11a114da-604f-4011-855b-c11715f78f64"
      },
      "source": [
        "# 폰트 설치\n",
        "!apt-get update -qq # 나눔고딕 설치\n",
        "!apt-get install fonts-nanum* -qq\n",
        "\n",
        "import matplotlib as mpl\n",
        "import matplotlib.pyplot as plt\n",
        "import matplotlib.font_manager as fm\n",
        "\n",
        "fontpath = '/usr/share/fonts/truetype/nanum/NanumBarunGothic.ttf'\n",
        "font = fm.FontProperties(fname=fontpath, size=9)\n",
        "plt.rc('font', family='NanumBarunGothic') \n",
        "mpl.font_manager._rebuild()\n",
        "# 여기까지 실행 후 \"런타임 다시 시작...\" 실행 (이 부분은 실행할 필요 없음)"
      ],
      "execution_count": null,
      "outputs": [
        {
          "output_type": "stream",
          "text": [
            "Selecting previously unselected package fonts-nanum.\n",
            "(Reading database ... 160690 files and directories currently installed.)\n",
            "Preparing to unpack .../fonts-nanum_20170925-1_all.deb ...\n",
            "Unpacking fonts-nanum (20170925-1) ...\n",
            "Selecting previously unselected package fonts-nanum-eco.\n",
            "Preparing to unpack .../fonts-nanum-eco_1.000-6_all.deb ...\n",
            "Unpacking fonts-nanum-eco (1.000-6) ...\n",
            "Selecting previously unselected package fonts-nanum-extra.\n",
            "Preparing to unpack .../fonts-nanum-extra_20170925-1_all.deb ...\n",
            "Unpacking fonts-nanum-extra (20170925-1) ...\n",
            "Selecting previously unselected package fonts-nanum-coding.\n",
            "Preparing to unpack .../fonts-nanum-coding_2.5-1_all.deb ...\n",
            "Unpacking fonts-nanum-coding (2.5-1) ...\n",
            "Setting up fonts-nanum-extra (20170925-1) ...\n",
            "Setting up fonts-nanum (20170925-1) ...\n",
            "Setting up fonts-nanum-coding (2.5-1) ...\n",
            "Setting up fonts-nanum-eco (1.000-6) ...\n",
            "Processing triggers for fontconfig (2.12.6-0ubuntu2) ...\n"
          ],
          "name": "stdout"
        }
      ]
    },
    {
      "cell_type": "markdown",
      "metadata": {
        "id": "6dfJPT-2XMTB"
      },
      "source": [
        "# Install"
      ]
    },
    {
      "cell_type": "code",
      "metadata": {
        "id": "a193aGJWVaqb",
        "colab": {
          "base_uri": "https://localhost:8080/"
        },
        "outputId": "2eced59e-7218-46f6-d820-6bbf0b762867"
      },
      "source": [
        "# Tokenizer library 설치\n",
        "!pip install sentencepiece"
      ],
      "execution_count": null,
      "outputs": [
        {
          "output_type": "stream",
          "text": [
            "Collecting sentencepiece\n",
            "\u001b[?25l  Downloading https://files.pythonhosted.org/packages/f5/99/e0808cb947ba10f575839c43e8fafc9cc44e4a7a2c8f79c60db48220a577/sentencepiece-0.1.95-cp37-cp37m-manylinux2014_x86_64.whl (1.2MB)\n",
            "\r\u001b[K     |▎                               | 10kB 14.2MB/s eta 0:00:01\r\u001b[K     |▌                               | 20kB 12.2MB/s eta 0:00:01\r\u001b[K     |▉                               | 30kB 7.8MB/s eta 0:00:01\r\u001b[K     |█                               | 40kB 3.6MB/s eta 0:00:01\r\u001b[K     |█▍                              | 51kB 4.2MB/s eta 0:00:01\r\u001b[K     |█▋                              | 61kB 5.0MB/s eta 0:00:01\r\u001b[K     |██                              | 71kB 5.1MB/s eta 0:00:01\r\u001b[K     |██▏                             | 81kB 5.4MB/s eta 0:00:01\r\u001b[K     |██▌                             | 92kB 5.1MB/s eta 0:00:01\r\u001b[K     |██▊                             | 102kB 5.6MB/s eta 0:00:01\r\u001b[K     |███                             | 112kB 5.6MB/s eta 0:00:01\r\u001b[K     |███▎                            | 122kB 5.6MB/s eta 0:00:01\r\u001b[K     |███▌                            | 133kB 5.6MB/s eta 0:00:01\r\u001b[K     |███▉                            | 143kB 5.6MB/s eta 0:00:01\r\u001b[K     |████                            | 153kB 5.6MB/s eta 0:00:01\r\u001b[K     |████▍                           | 163kB 5.6MB/s eta 0:00:01\r\u001b[K     |████▋                           | 174kB 5.6MB/s eta 0:00:01\r\u001b[K     |█████                           | 184kB 5.6MB/s eta 0:00:01\r\u001b[K     |█████▏                          | 194kB 5.6MB/s eta 0:00:01\r\u001b[K     |█████▌                          | 204kB 5.6MB/s eta 0:00:01\r\u001b[K     |█████▊                          | 215kB 5.6MB/s eta 0:00:01\r\u001b[K     |██████                          | 225kB 5.6MB/s eta 0:00:01\r\u001b[K     |██████▎                         | 235kB 5.6MB/s eta 0:00:01\r\u001b[K     |██████▌                         | 245kB 5.6MB/s eta 0:00:01\r\u001b[K     |██████▉                         | 256kB 5.6MB/s eta 0:00:01\r\u001b[K     |███████                         | 266kB 5.6MB/s eta 0:00:01\r\u001b[K     |███████▍                        | 276kB 5.6MB/s eta 0:00:01\r\u001b[K     |███████▋                        | 286kB 5.6MB/s eta 0:00:01\r\u001b[K     |████████                        | 296kB 5.6MB/s eta 0:00:01\r\u001b[K     |████████▏                       | 307kB 5.6MB/s eta 0:00:01\r\u001b[K     |████████▍                       | 317kB 5.6MB/s eta 0:00:01\r\u001b[K     |████████▊                       | 327kB 5.6MB/s eta 0:00:01\r\u001b[K     |█████████                       | 337kB 5.6MB/s eta 0:00:01\r\u001b[K     |█████████▎                      | 348kB 5.6MB/s eta 0:00:01\r\u001b[K     |█████████▌                      | 358kB 5.6MB/s eta 0:00:01\r\u001b[K     |█████████▉                      | 368kB 5.6MB/s eta 0:00:01\r\u001b[K     |██████████                      | 378kB 5.6MB/s eta 0:00:01\r\u001b[K     |██████████▍                     | 389kB 5.6MB/s eta 0:00:01\r\u001b[K     |██████████▋                     | 399kB 5.6MB/s eta 0:00:01\r\u001b[K     |███████████                     | 409kB 5.6MB/s eta 0:00:01\r\u001b[K     |███████████▏                    | 419kB 5.6MB/s eta 0:00:01\r\u001b[K     |███████████▍                    | 430kB 5.6MB/s eta 0:00:01\r\u001b[K     |███████████▊                    | 440kB 5.6MB/s eta 0:00:01\r\u001b[K     |████████████                    | 450kB 5.6MB/s eta 0:00:01\r\u001b[K     |████████████▎                   | 460kB 5.6MB/s eta 0:00:01\r\u001b[K     |████████████▌                   | 471kB 5.6MB/s eta 0:00:01\r\u001b[K     |████████████▉                   | 481kB 5.6MB/s eta 0:00:01\r\u001b[K     |█████████████                   | 491kB 5.6MB/s eta 0:00:01\r\u001b[K     |█████████████▍                  | 501kB 5.6MB/s eta 0:00:01\r\u001b[K     |█████████████▋                  | 512kB 5.6MB/s eta 0:00:01\r\u001b[K     |█████████████▉                  | 522kB 5.6MB/s eta 0:00:01\r\u001b[K     |██████████████▏                 | 532kB 5.6MB/s eta 0:00:01\r\u001b[K     |██████████████▍                 | 542kB 5.6MB/s eta 0:00:01\r\u001b[K     |██████████████▊                 | 552kB 5.6MB/s eta 0:00:01\r\u001b[K     |███████████████                 | 563kB 5.6MB/s eta 0:00:01\r\u001b[K     |███████████████▎                | 573kB 5.6MB/s eta 0:00:01\r\u001b[K     |███████████████▌                | 583kB 5.6MB/s eta 0:00:01\r\u001b[K     |███████████████▉                | 593kB 5.6MB/s eta 0:00:01\r\u001b[K     |████████████████                | 604kB 5.6MB/s eta 0:00:01\r\u001b[K     |████████████████▍               | 614kB 5.6MB/s eta 0:00:01\r\u001b[K     |████████████████▋               | 624kB 5.6MB/s eta 0:00:01\r\u001b[K     |████████████████▉               | 634kB 5.6MB/s eta 0:00:01\r\u001b[K     |█████████████████▏              | 645kB 5.6MB/s eta 0:00:01\r\u001b[K     |█████████████████▍              | 655kB 5.6MB/s eta 0:00:01\r\u001b[K     |█████████████████▊              | 665kB 5.6MB/s eta 0:00:01\r\u001b[K     |██████████████████              | 675kB 5.6MB/s eta 0:00:01\r\u001b[K     |██████████████████▎             | 686kB 5.6MB/s eta 0:00:01\r\u001b[K     |██████████████████▌             | 696kB 5.6MB/s eta 0:00:01\r\u001b[K     |██████████████████▉             | 706kB 5.6MB/s eta 0:00:01\r\u001b[K     |███████████████████             | 716kB 5.6MB/s eta 0:00:01\r\u001b[K     |███████████████████▎            | 727kB 5.6MB/s eta 0:00:01\r\u001b[K     |███████████████████▋            | 737kB 5.6MB/s eta 0:00:01\r\u001b[K     |███████████████████▉            | 747kB 5.6MB/s eta 0:00:01\r\u001b[K     |████████████████████▏           | 757kB 5.6MB/s eta 0:00:01\r\u001b[K     |████████████████████▍           | 768kB 5.6MB/s eta 0:00:01\r\u001b[K     |████████████████████▊           | 778kB 5.6MB/s eta 0:00:01\r\u001b[K     |█████████████████████           | 788kB 5.6MB/s eta 0:00:01\r\u001b[K     |█████████████████████▎          | 798kB 5.6MB/s eta 0:00:01\r\u001b[K     |█████████████████████▌          | 808kB 5.6MB/s eta 0:00:01\r\u001b[K     |█████████████████████▉          | 819kB 5.6MB/s eta 0:00:01\r\u001b[K     |██████████████████████          | 829kB 5.6MB/s eta 0:00:01\r\u001b[K     |██████████████████████▎         | 839kB 5.6MB/s eta 0:00:01\r\u001b[K     |██████████████████████▋         | 849kB 5.6MB/s eta 0:00:01\r\u001b[K     |██████████████████████▉         | 860kB 5.6MB/s eta 0:00:01\r\u001b[K     |███████████████████████▏        | 870kB 5.6MB/s eta 0:00:01\r\u001b[K     |███████████████████████▍        | 880kB 5.6MB/s eta 0:00:01\r\u001b[K     |███████████████████████▊        | 890kB 5.6MB/s eta 0:00:01\r\u001b[K     |████████████████████████        | 901kB 5.6MB/s eta 0:00:01\r\u001b[K     |████████████████████████▎       | 911kB 5.6MB/s eta 0:00:01\r\u001b[K     |████████████████████████▌       | 921kB 5.6MB/s eta 0:00:01\r\u001b[K     |████████████████████████▊       | 931kB 5.6MB/s eta 0:00:01\r\u001b[K     |█████████████████████████       | 942kB 5.6MB/s eta 0:00:01\r\u001b[K     |█████████████████████████▎      | 952kB 5.6MB/s eta 0:00:01\r\u001b[K     |█████████████████████████▋      | 962kB 5.6MB/s eta 0:00:01\r\u001b[K     |█████████████████████████▉      | 972kB 5.6MB/s eta 0:00:01\r\u001b[K     |██████████████████████████▏     | 983kB 5.6MB/s eta 0:00:01\r\u001b[K     |██████████████████████████▍     | 993kB 5.6MB/s eta 0:00:01\r\u001b[K     |██████████████████████████▊     | 1.0MB 5.6MB/s eta 0:00:01\r\u001b[K     |███████████████████████████     | 1.0MB 5.6MB/s eta 0:00:01\r\u001b[K     |███████████████████████████▎    | 1.0MB 5.6MB/s eta 0:00:01\r\u001b[K     |███████████████████████████▌    | 1.0MB 5.6MB/s eta 0:00:01\r\u001b[K     |███████████████████████████▊    | 1.0MB 5.6MB/s eta 0:00:01\r\u001b[K     |████████████████████████████    | 1.1MB 5.6MB/s eta 0:00:01\r\u001b[K     |████████████████████████████▎   | 1.1MB 5.6MB/s eta 0:00:01\r\u001b[K     |████████████████████████████▋   | 1.1MB 5.6MB/s eta 0:00:01\r\u001b[K     |████████████████████████████▉   | 1.1MB 5.6MB/s eta 0:00:01\r\u001b[K     |█████████████████████████████▏  | 1.1MB 5.6MB/s eta 0:00:01\r\u001b[K     |█████████████████████████████▍  | 1.1MB 5.6MB/s eta 0:00:01\r\u001b[K     |█████████████████████████████▊  | 1.1MB 5.6MB/s eta 0:00:01\r\u001b[K     |██████████████████████████████  | 1.1MB 5.6MB/s eta 0:00:01\r\u001b[K     |██████████████████████████████▏ | 1.1MB 5.6MB/s eta 0:00:01\r\u001b[K     |██████████████████████████████▌ | 1.1MB 5.6MB/s eta 0:00:01\r\u001b[K     |██████████████████████████████▊ | 1.2MB 5.6MB/s eta 0:00:01\r\u001b[K     |███████████████████████████████ | 1.2MB 5.6MB/s eta 0:00:01\r\u001b[K     |███████████████████████████████▎| 1.2MB 5.6MB/s eta 0:00:01\r\u001b[K     |███████████████████████████████▋| 1.2MB 5.6MB/s eta 0:00:01\r\u001b[K     |███████████████████████████████▉| 1.2MB 5.6MB/s eta 0:00:01\r\u001b[K     |████████████████████████████████| 1.2MB 5.6MB/s \n",
            "\u001b[?25hInstalling collected packages: sentencepiece\n",
            "Successfully installed sentencepiece-0.1.95\n"
          ],
          "name": "stdout"
        }
      ]
    },
    {
      "cell_type": "markdown",
      "metadata": {
        "id": "JHkHg6XAXoyK"
      },
      "source": [
        "# Evn"
      ]
    },
    {
      "cell_type": "code",
      "metadata": {
        "id": "WkYXFwcBXJDG"
      },
      "source": [
        "# imports\n",
        "import argparse\n",
        "import os\n",
        "import random\n",
        "import shutil\n",
        "import json\n",
        "import zipfile\n",
        "import math\n",
        "import copy\n",
        "import collections\n",
        "import re\n",
        "\n",
        "import matplotlib.pyplot as plt\n",
        "import pandas as pd\n",
        "import numpy as np\n",
        "# import sentencepiece as spm\n",
        "import tensorflow as tf\n",
        "import tensorflow.keras.backend as K\n",
        "\n",
        "from tqdm.notebook import tqdm, trange"
      ],
      "execution_count": null,
      "outputs": []
    },
    {
      "cell_type": "code",
      "metadata": {
        "id": "BF-NLGZTGvTR",
        "colab": {
          "base_uri": "https://localhost:8080/"
        },
        "outputId": "5571ca0a-2a33-492c-edfc-b57d11099fe8"
      },
      "source": [
        "# 환경 설정\n",
        "args = {\n",
        "    # random seed value\n",
        "    \"seed\": 1234\n",
        "}\n",
        "args = argparse.Namespace(**args)\n",
        "\n",
        "print(args)"
      ],
      "execution_count": null,
      "outputs": [
        {
          "output_type": "stream",
          "text": [
            "Namespace(seed=1234)\n"
          ],
          "name": "stdout"
        }
      ]
    },
    {
      "cell_type": "code",
      "metadata": {
        "id": "nvjyruUlXtlR"
      },
      "source": [
        "# random seed 설정\n",
        "random.seed(args.seed)\n",
        "np.random.seed(args.seed)\n",
        "tf.random.set_seed(args.seed)"
      ],
      "execution_count": null,
      "outputs": []
    },
    {
      "cell_type": "code",
      "metadata": {
        "id": "BC3fXkhdYcYt",
        "colab": {
          "base_uri": "https://localhost:8080/"
        },
        "outputId": "1037086b-14c6-44d0-ea4d-eae465c56f39"
      },
      "source": [
        "# gpu 사용량 확인\n",
        "!nvidia-smi"
      ],
      "execution_count": null,
      "outputs": [
        {
          "output_type": "stream",
          "text": [
            "NVIDIA-SMI has failed because it couldn't communicate with the NVIDIA driver. Make sure that the latest NVIDIA driver is installed and running.\n",
            "\n"
          ],
          "name": "stdout"
        }
      ]
    },
    {
      "cell_type": "code",
      "metadata": {
        "id": "xVRdxYReYeQj",
        "colab": {
          "base_uri": "https://localhost:8080/"
        },
        "outputId": "ca6c4c9f-8d4d-4edb-c2c5-3442494839e9"
      },
      "source": [
        "# google drive mount\n",
        "from google.colab import drive\n",
        "drive.mount('/content/drive')"
      ],
      "execution_count": null,
      "outputs": [
        {
          "output_type": "stream",
          "text": [
            "Mounted at /content/drive\n"
          ],
          "name": "stdout"
        }
      ]
    },
    {
      "cell_type": "code",
      "metadata": {
        "id": "byCIiLJBbFHh",
        "colab": {
          "base_uri": "https://localhost:8080/"
        },
        "outputId": "edc53a85-4aed-4cd7-9808-32c9a4d108c4"
      },
      "source": [
        "# data dir\n",
        "# data_dir = '/content/drive/MyDrive/Data/nlp'\n",
        "data_dir = '/content/drive/MyDrive/ict-ai-복합고급언어-nlp/data'\n",
        "os.listdir(data_dir)"
      ],
      "execution_count": null,
      "outputs": [
        {
          "output_type": "execute_result",
          "data": {
            "text/plain": [
              "['data-20210420T111231Z-001.zip', 'kowiki']"
            ]
          },
          "metadata": {
            "tags": []
          },
          "execution_count": 11
        }
      ]
    },
    {
      "cell_type": "markdown",
      "metadata": {
        "id": "EiUWjYcXnPRh"
      },
      "source": [
        "# word2Vec"
      ]
    },
    {
      "cell_type": "markdown",
      "metadata": {
        "id": "wfpCkKfwnSzy"
      },
      "source": [
        "## Tutorial"
      ]
    },
    {
      "cell_type": "code",
      "metadata": {
        "id": "eUntqI6gnoio"
      },
      "source": [
        "sentences = [\n",
        "            \"나는 학생 입니다\",\n",
        "            \"당신은 수학 선생님 입니다\",\n",
        "            \"나는 선생님 입니다\",\n",
        "            \"당신은 수학 학생 입니다\"\n",
        "]"
      ],
      "execution_count": null,
      "outputs": []
    },
    {
      "cell_type": "code",
      "metadata": {
        "colab": {
          "base_uri": "https://localhost:8080/"
        },
        "id": "HlWNwVavn3-r",
        "outputId": "2cf6fe07-e37e-4b39-c1ed-328bdb231f73"
      },
      "source": [
        "words = []\n",
        "for line in sentences:\n",
        "    for w in line.split():\n",
        "        words.append(w)\n",
        "\n",
        "words = list(dict.fromkeys(words))\n",
        "words"
      ],
      "execution_count": null,
      "outputs": [
        {
          "output_type": "execute_result",
          "data": {
            "text/plain": [
              "['나는', '학생', '입니다', '당신은', '수학', '선생님']"
            ]
          },
          "metadata": {
            "tags": []
          },
          "execution_count": 14
        }
      ]
    },
    {
      "cell_type": "code",
      "metadata": {
        "colab": {
          "base_uri": "https://localhost:8080/"
        },
        "id": "vDI-VGY-oDSs",
        "outputId": "61ba8070-da24-4545-8710-804cd52edf9a"
      },
      "source": [
        "word_to_id = {}\n",
        "for w in words:\n",
        "    if w not in word_to_id:\n",
        "        word_to_id[w] = len(word_to_id)\n",
        "word_to_id"
      ],
      "execution_count": null,
      "outputs": [
        {
          "output_type": "execute_result",
          "data": {
            "text/plain": [
              "{'나는': 0, '당신은': 3, '선생님': 5, '수학': 4, '입니다': 2, '학생': 1}"
            ]
          },
          "metadata": {
            "tags": []
          },
          "execution_count": 15
        }
      ]
    },
    {
      "cell_type": "code",
      "metadata": {
        "colab": {
          "base_uri": "https://localhost:8080/"
        },
        "id": "5eUF1F4loDdi",
        "outputId": "0b1b7260-a2e1-4047-aef6-38569e67a1dc"
      },
      "source": [
        "inputs = np.array([word_to_id['수학']])\n",
        "labels = np.array([word_to_id['학생']])\n",
        "inputs, labels\n",
        "\n",
        "# 중심단어 ;수학\n",
        "# 주변단어 ;학생\n"
      ],
      "execution_count": null,
      "outputs": [
        {
          "output_type": "execute_result",
          "data": {
            "text/plain": [
              "(array([4]), array([1]))"
            ]
          },
          "metadata": {
            "tags": []
          },
          "execution_count": 16
        }
      ]
    },
    {
      "cell_type": "code",
      "metadata": {
        "id": "x8F9ejkCrAlH"
      },
      "source": [
        "n_vocab = len(word_to_id)\n"
      ],
      "execution_count": null,
      "outputs": []
    },
    {
      "cell_type": "code",
      "metadata": {
        "colab": {
          "base_uri": "https://localhost:8080/"
        },
        "id": "rMkMuYHupUHm",
        "outputId": "28b62592-388f-4a09-9b87-97aefc2a5541"
      },
      "source": [
        "v = tf.keras.layers.Embedding(n_vocab, 4)\n",
        "v_c = v(inputs)\n",
        "v_c\n",
        "# v"
      ],
      "execution_count": null,
      "outputs": [
        {
          "output_type": "execute_result",
          "data": {
            "text/plain": [
              "<tf.Tensor: shape=(1, 4), dtype=float32, numpy=\n",
              "array([[-0.00491802,  0.00032756,  0.04579724,  0.00764621]],\n",
              "      dtype=float32)>"
            ]
          },
          "metadata": {
            "tags": []
          },
          "execution_count": 42
        }
      ]
    },
    {
      "cell_type": "code",
      "metadata": {
        "colab": {
          "base_uri": "https://localhost:8080/"
        },
        "id": "QckU2r5qoDkl",
        "outputId": "0bcc5b49-8bfa-4a1c-ae63-fe2524f92f3c"
      },
      "source": [
        "v.get_weights()"
      ],
      "execution_count": null,
      "outputs": [
        {
          "output_type": "execute_result",
          "data": {
            "text/plain": [
              "[array([[-0.03675799,  0.03582847,  0.00036023,  0.02038616],\n",
              "        [-0.00766131,  0.02614349, -0.03912008,  0.00675068],\n",
              "        [-0.01005335, -0.00819764, -0.04357652, -0.04311752],\n",
              "        [ 0.0485138 ,  0.00025751, -0.021448  , -0.01007477],\n",
              "        [-0.00491802,  0.00032756,  0.04579724,  0.00764621],\n",
              "        [-0.03826857, -0.01651722,  0.04418433, -0.03888126]],\n",
              "       dtype=float32)]"
            ]
          },
          "metadata": {
            "tags": []
          },
          "execution_count": 43
        }
      ]
    },
    {
      "cell_type": "code",
      "metadata": {
        "colab": {
          "base_uri": "https://localhost:8080/"
        },
        "id": "Z2HgyPexrH00",
        "outputId": "97a8580f-a446-4cac-c19d-1dd6505a4339"
      },
      "source": [
        "U = tf.keras.layers.Dense(n_vocab, use_bias = False)\n",
        "# U.shape\n",
        "vU = U(v_c)\n",
        "vU\n",
        "# v와 u의 내적을 구함"
      ],
      "execution_count": null,
      "outputs": [
        {
          "output_type": "execute_result",
          "data": {
            "text/plain": [
              "<tf.Tensor: shape=(1, 6), dtype=float32, numpy=\n",
              "array([[-0.00990729,  0.01676563, -0.02054315, -0.02264868, -0.02898233,\n",
              "        -0.00279342]], dtype=float32)>"
            ]
          },
          "metadata": {
            "tags": []
          },
          "execution_count": 44
        }
      ]
    },
    {
      "cell_type": "code",
      "metadata": {
        "colab": {
          "base_uri": "https://localhost:8080/"
        },
        "id": "WAW9RsZerH81",
        "outputId": "30d93187-345a-4528-ab07-03b81815fca8"
      },
      "source": [
        "U.get_weights()[0].shape\n",
        "\n"
      ],
      "execution_count": null,
      "outputs": [
        {
          "output_type": "execute_result",
          "data": {
            "text/plain": [
              "(4, 6)"
            ]
          },
          "metadata": {
            "tags": []
          },
          "execution_count": 45
        }
      ]
    },
    {
      "cell_type": "code",
      "metadata": {
        "colab": {
          "base_uri": "https://localhost:8080/"
        },
        "id": "Wv_SqE8nrH_0",
        "outputId": "be3cd83d-d4d2-4f11-d869-fe45e0f90937"
      },
      "source": [
        "# 내적했으니까 (1,4) * (4,6) = (1,6)\n",
        "vU.shape"
      ],
      "execution_count": null,
      "outputs": [
        {
          "output_type": "execute_result",
          "data": {
            "text/plain": [
              "TensorShape([1, 6])"
            ]
          },
          "metadata": {
            "tags": []
          },
          "execution_count": 46
        }
      ]
    },
    {
      "cell_type": "code",
      "metadata": {
        "colab": {
          "base_uri": "https://localhost:8080/"
        },
        "id": "wE1OZhFDrIEG",
        "outputId": "68499517-4a2c-440d-ebdd-c442b0e7bc6e"
      },
      "source": [
        "# 이제 확률분포로 바꿔부께 cross entropy? softmax?\n",
        "# \n",
        "\n",
        "vU_exp = tf.exp(vU)\n",
        "vU_exp\n"
      ],
      "execution_count": null,
      "outputs": [
        {
          "output_type": "execute_result",
          "data": {
            "text/plain": [
              "<tf.Tensor: shape=(1, 6), dtype=float32, numpy=\n",
              "array([[0.99014163, 1.016907  , 0.9796664 , 0.9776059 , 0.97143364,\n",
              "        0.9972105 ]], dtype=float32)>"
            ]
          },
          "metadata": {
            "tags": []
          },
          "execution_count": 47
        }
      ]
    },
    {
      "cell_type": "code",
      "metadata": {
        "colab": {
          "base_uri": "https://localhost:8080/"
        },
        "id": "6xT9ft6erIIE",
        "outputId": "e1004bd1-4a9b-4987-f3fb-5a58698f4e5c"
      },
      "source": [
        "# 이제 썸해서 분모 구해야지\n",
        "vU_sum  = tf.reduce_sum(vU_exp, axis = 1)\n",
        "vU_sum"
      ],
      "execution_count": null,
      "outputs": [
        {
          "output_type": "execute_result",
          "data": {
            "text/plain": [
              "<tf.Tensor: shape=(1,), dtype=float32, numpy=array([5.9329653], dtype=float32)>"
            ]
          },
          "metadata": {
            "tags": []
          },
          "execution_count": 52
        }
      ]
    },
    {
      "cell_type": "code",
      "metadata": {
        "colab": {
          "base_uri": "https://localhost:8080/"
        },
        "id": "ZjHi3CfCrILS",
        "outputId": "19c548d8-7673-4194-b76b-ade0e69cef8a"
      },
      "source": [
        "y_prob = vU_exp / vU_sum\n",
        "y_prob\n",
        "\n",
        "# 각각의 확률이 일케된다"
      ],
      "execution_count": null,
      "outputs": [
        {
          "output_type": "execute_result",
          "data": {
            "text/plain": [
              "<tf.Tensor: shape=(1, 6), dtype=float32, numpy=\n",
              "array([[0.16688816, 0.17139944, 0.16512255, 0.16477525, 0.16373493,\n",
              "        0.16807961]], dtype=float32)>"
            ]
          },
          "metadata": {
            "tags": []
          },
          "execution_count": 53
        }
      ]
    },
    {
      "cell_type": "code",
      "metadata": {
        "colab": {
          "base_uri": "https://localhost:8080/"
        },
        "id": "-CIFu-07tvbV",
        "outputId": "50e5da87-180c-474f-d48f-f1b8d3988473"
      },
      "source": [
        "# 이걸 한번에 하면 이걸 쓰면 되지\n",
        "tf.nn.softmax(vU)"
      ],
      "execution_count": null,
      "outputs": [
        {
          "output_type": "execute_result",
          "data": {
            "text/plain": [
              "<tf.Tensor: shape=(1, 6), dtype=float32, numpy=\n",
              "array([[0.16688816, 0.17139946, 0.16512257, 0.16477527, 0.16373494,\n",
              "        0.16807961]], dtype=float32)>"
            ]
          },
          "metadata": {
            "tags": []
          },
          "execution_count": 54
        }
      ]
    },
    {
      "cell_type": "code",
      "metadata": {
        "colab": {
          "base_uri": "https://localhost:8080/"
        },
        "id": "x44W0hGDup9F",
        "outputId": "f4b7a554-b8f2-4bf7-f2ce-3cb4092f907d"
      },
      "source": [
        "y_true = tf.one_hot(labels, n_vocab)\n",
        "y_true\n",
        "# (labels, n_vocab)"
      ],
      "execution_count": null,
      "outputs": [
        {
          "output_type": "execute_result",
          "data": {
            "text/plain": [
              "<tf.Tensor: shape=(1, 6), dtype=float32, numpy=array([[0., 1., 0., 0., 0., 0.]], dtype=float32)>"
            ]
          },
          "metadata": {
            "tags": []
          },
          "execution_count": 56
        }
      ]
    },
    {
      "cell_type": "code",
      "metadata": {
        "colab": {
          "base_uri": "https://localhost:8080/"
        },
        "id": "57vYYRaGuqBW",
        "outputId": "4c299273-17cc-4b1e-f8fa-8d72bbbfb261"
      },
      "source": [
        "loss = -y_true * tf.math.log(y_prob)\n",
        "loss"
      ],
      "execution_count": null,
      "outputs": [
        {
          "output_type": "execute_result",
          "data": {
            "text/plain": [
              "<tf.Tensor: shape=(1, 6), dtype=float32, numpy=\n",
              "array([[0.       , 1.7637585, 0.       , 0.       , 0.       , 0.       ]],\n",
              "      dtype=float32)>"
            ]
          },
          "metadata": {
            "tags": []
          },
          "execution_count": 57
        }
      ]
    },
    {
      "cell_type": "code",
      "metadata": {
        "colab": {
          "base_uri": "https://localhost:8080/"
        },
        "id": "Z2DnS0y_uqFS",
        "outputId": "a7b4a4d6-0c42-43de-9911-fe089bf369ea"
      },
      "source": [
        "loss = tf.reduce_sum(loss,axis = 1)\n",
        "loss"
      ],
      "execution_count": null,
      "outputs": [
        {
          "output_type": "execute_result",
          "data": {
            "text/plain": [
              "<tf.Tensor: shape=(1,), dtype=float32, numpy=array([1.7637585], dtype=float32)>"
            ]
          },
          "metadata": {
            "tags": []
          },
          "execution_count": 59
        }
      ]
    },
    {
      "cell_type": "code",
      "metadata": {
        "colab": {
          "base_uri": "https://localhost:8080/"
        },
        "id": "V7cmqhYFvDgo",
        "outputId": "9796df84-8285-49a4-f955-75ec7c269a11"
      },
      "source": [
        "# 한줄로 loss 구하려면\n",
        "tf.keras.losses.SparseCategoricalCrossentropy()(labels, y_prob)"
      ],
      "execution_count": null,
      "outputs": [
        {
          "output_type": "execute_result",
          "data": {
            "text/plain": [
              "<tf.Tensor: shape=(), dtype=float32, numpy=1.7637584>"
            ]
          },
          "metadata": {
            "tags": []
          },
          "execution_count": 60
        }
      ]
    },
    {
      "cell_type": "markdown",
      "metadata": {
        "id": "097BJVHG_QfR"
      },
      "source": [
        "## Data"
      ]
    },
    {
      "cell_type": "code",
      "metadata": {
        "id": "uchiwDt--yPY"
      },
      "source": [
        "# 입력 문장\n",
        "sentences = [\n",
        "    \"나는 학생 입니다\",\n",
        "    \"당신은 수학 선생님 입니다\",\n",
        "    \"나는 선생님 입니다\",\n",
        "    \"당신은 수학 학생 입니다\"\n",
        "]\n",
        "\n",
        "# 출력 정답\n",
        "targets = [[0, 1, 0],\n",
        "          [0, 1, 1, 0],\n",
        "          [0, 1, 0],\n",
        "          [0, 1, 1, 0]]  # 기타(0), 명사(1)"
      ],
      "execution_count": null,
      "outputs": []
    },
    {
      "cell_type": "code",
      "metadata": {
        "id": "7fXLc2Yl_ULF"
      },
      "source": [
        "id_to_label = {0: \"기타\", 1: \"명사\"}"
      ],
      "execution_count": null,
      "outputs": []
    },
    {
      "cell_type": "code",
      "metadata": {
        "id": "-rlbq9sn_W82"
      },
      "source": [
        "train_src = sentences[:2]\n",
        "train_tgt = targets[:2]\n",
        "\n",
        "train_src, train_tgt"
      ],
      "execution_count": null,
      "outputs": []
    },
    {
      "cell_type": "code",
      "metadata": {
        "id": "rjJUH0CoAW8H"
      },
      "source": [
        "valid_src = sentences[2:3]\n",
        "valid_tgt = targets[2:3]\n",
        "\n",
        "valid_src, valid_tgt"
      ],
      "execution_count": null,
      "outputs": []
    },
    {
      "cell_type": "code",
      "metadata": {
        "colab": {
          "base_uri": "https://localhost:8080/"
        },
        "id": "UbsEs2nWAjl5",
        "outputId": "49a4d432-456f-4bb3-c9ea-62ead1678017"
      },
      "source": [
        "test_src = sentences[3:]\n",
        "test_tgt = targets[3:]\n",
        "\n",
        "test_src, test_tgt"
      ],
      "execution_count": null,
      "outputs": [
        {
          "output_type": "execute_result",
          "data": {
            "text/plain": [
              "(['당신은 수학 학생 입니다'], [[0, 1, 1, 0]])"
            ]
          },
          "metadata": {
            "tags": []
          },
          "execution_count": 13
        }
      ]
    },
    {
      "cell_type": "markdown",
      "metadata": {
        "id": "46KoI5zMBaA5"
      },
      "source": [
        "## vocabulary"
      ]
    },
    {
      "cell_type": "code",
      "metadata": {
        "colab": {
          "base_uri": "https://localhost:8080/"
        },
        "id": "G8-m53e2Atxf",
        "outputId": "b6b284cf-ea38-410e-cdb4-adca3bfb4c17"
      },
      "source": [
        "words = []\n",
        "for line in sentences:\n",
        "    for w in line.split():\n",
        "        words.append(w)\n",
        "\n",
        "words = list(dict.fromkeys(words))\n",
        "# words = dict.fromkeys(words)\n",
        "words"
      ],
      "execution_count": null,
      "outputs": [
        {
          "output_type": "execute_result",
          "data": {
            "text/plain": [
              "['나는', '학생', '입니다', '당신은', '수학', '선생님']"
            ]
          },
          "metadata": {
            "tags": []
          },
          "execution_count": 45
        }
      ]
    },
    {
      "cell_type": "code",
      "metadata": {
        "id": "F5Kp3wZzKFwR"
      },
      "source": [
        ""
      ],
      "execution_count": null,
      "outputs": []
    },
    {
      "cell_type": "code",
      "metadata": {
        "id": "HLtsaSARBoD0"
      },
      "source": [
        "word_to_id = {\"[PAD]\": 0, \"[UNK]\": 1}\n",
        "for w in words:\n",
        "    if w not in word_to_id:\n",
        "        word_to_id[w] = len(word_to_id)\n",
        "word_to_id"
      ],
      "execution_count": null,
      "outputs": []
    },
    {
      "cell_type": "code",
      "metadata": {
        "colab": {
          "base_uri": "https://localhost:8080/"
        },
        "id": "UdqpiulDB5Wj",
        "outputId": "0fd1014a-44f4-42dc-c757-1e0eb31fc410"
      },
      "source": [
        "id_to_word = {_id:w for w, _id in word_to_id.items()}\n",
        "id_to_word"
      ],
      "execution_count": null,
      "outputs": [
        {
          "output_type": "execute_result",
          "data": {
            "text/plain": [
              "{0: '[PAD]',\n",
              " 1: '[UNK]',\n",
              " 2: '나는',\n",
              " 3: '학생',\n",
              " 4: '입니다',\n",
              " 5: '당신은',\n",
              " 6: '수학',\n",
              " 7: '선생님'}"
            ]
          },
          "metadata": {
            "tags": []
          },
          "execution_count": 51
        }
      ]
    },
    {
      "cell_type": "markdown",
      "metadata": {
        "id": "Vwjo-BxiCiki"
      },
      "source": [
        "## Train, Valid, Test 데이터 생성"
      ]
    },
    {
      "cell_type": "code",
      "metadata": {
        "id": "tt5fab4cCBrN"
      },
      "source": [
        "def make_data(src, tgt, n_seq):\n",
        "    inputs, labels = [], []\n",
        "\n",
        "    for s, t in zip(src, tgt):\n",
        "        print(s)\n",
        "        print(t)\n",
        "        _input = [word_to_id[w] for w in s.split()]\n",
        "        _input = _input[:n_seq]\n",
        "        _input = _input + [0] * (n_seq - len(_input))\n",
        "        inputs.append(_input)\n",
        "\n",
        "        _label = [n for n in t]\n",
        "        _label = _label[:n_seq]\n",
        "        _label = _label + [0] * (n_seq - len(_label))\n",
        "        labels.append(_label)\n",
        "\n",
        "    inputs = np.array(inputs)\n",
        "    labels = np.array(labels)\n",
        "    return inputs, labels"
      ],
      "execution_count": null,
      "outputs": []
    },
    {
      "cell_type": "code",
      "metadata": {
        "colab": {
          "base_uri": "https://localhost:8080/"
        },
        "id": "3GbH-piGC3tJ",
        "outputId": "3bfdfc9f-996e-4d10-9f5d-815ff0a44981"
      },
      "source": [
        "train_inputs, train_labels = make_data(train_src, train_tgt, 5)\n",
        "train_inputs, train_labels"
      ],
      "execution_count": null,
      "outputs": [
        {
          "output_type": "stream",
          "text": [
            "나는 학생 입니다\n",
            "[0, 1, 0]\n",
            "당신은 수학 선생님 입니다\n",
            "[0, 1, 1, 0]\n"
          ],
          "name": "stdout"
        },
        {
          "output_type": "execute_result",
          "data": {
            "text/plain": [
              "(array([[2, 3, 4, 0, 0],\n",
              "        [5, 6, 7, 4, 0]]), array([[0, 1, 0, 0, 0],\n",
              "        [0, 1, 1, 0, 0]]))"
            ]
          },
          "metadata": {
            "tags": []
          },
          "execution_count": 103
        }
      ]
    },
    {
      "cell_type": "code",
      "metadata": {
        "colab": {
          "base_uri": "https://localhost:8080/"
        },
        "id": "ybmN4VVWDDZ0",
        "outputId": "ef893de5-5339-4c20-de48-7506c5b7e1d0"
      },
      "source": [
        "valid_inputs, valid_labels = make_data(valid_src, valid_tgt, 6)\n",
        "valid_inputs, valid_labels"
      ],
      "execution_count": null,
      "outputs": [
        {
          "output_type": "stream",
          "text": [
            "나는 선생님 입니다\n",
            "[0, 1, 0]\n"
          ],
          "name": "stdout"
        },
        {
          "output_type": "execute_result",
          "data": {
            "text/plain": [
              "(array([[2, 7, 4, 0, 0, 0]]), array([[0, 1, 0, 0, 0, 0]]))"
            ]
          },
          "metadata": {
            "tags": []
          },
          "execution_count": 104
        }
      ]
    },
    {
      "cell_type": "code",
      "metadata": {
        "colab": {
          "base_uri": "https://localhost:8080/"
        },
        "id": "ZFQN6ZI_IP9j",
        "outputId": "dc336544-60bd-476b-f251-5ac2a4bf1d6d"
      },
      "source": [
        "test_inputs, test_labels = make_data(test_src, test_tgt, 4)\n",
        "test_inputs, test_labels"
      ],
      "execution_count": null,
      "outputs": [
        {
          "output_type": "stream",
          "text": [
            "당신은 수학 학생 입니다\n",
            "[0, 1, 1, 0]\n"
          ],
          "name": "stdout"
        },
        {
          "output_type": "execute_result",
          "data": {
            "text/plain": [
              "(array([[5, 6, 3, 4]]), array([[0, 1, 1, 0]]))"
            ]
          },
          "metadata": {
            "tags": []
          },
          "execution_count": 105
        }
      ]
    },
    {
      "cell_type": "markdown",
      "metadata": {
        "id": "UcCJTiPNKwMD"
      },
      "source": [
        "## Modeling"
      ]
    },
    {
      "cell_type": "code",
      "metadata": {
        "colab": {
          "base_uri": "https://localhost:8080/"
        },
        "id": "MVMPR8KiLv7x",
        "outputId": "646ae6cc-15ef-4173-a09c-0bd59bba3a7d"
      },
      "source": [
        "train_inputs = np.random.randint(0, 8, (2, 5))\n",
        "train_labels = np.random.randint(0, 2, (2, 5))\n",
        "train_inputs, train_labels"
      ],
      "execution_count": null,
      "outputs": [
        {
          "output_type": "execute_result",
          "data": {
            "text/plain": [
              "(array([[7, 3, 0, 1, 3],\n",
              "        [0, 3, 2, 3, 4]]), array([[1, 1, 1, 1, 0],\n",
              "        [1, 0, 1, 1, 0]]))"
            ]
          },
          "metadata": {
            "tags": []
          },
          "execution_count": 55
        }
      ]
    },
    {
      "cell_type": "code",
      "metadata": {
        "colab": {
          "base_uri": "https://localhost:8080/"
        },
        "id": "TgwlZ956Mk2k",
        "outputId": "442ba29d-30f8-4a88-b6fd-745ac9c8b99c"
      },
      "source": [
        "valid_inputs = np.random.randint(0, 8, (1, 6))\n",
        "valid_labels = np.random.randint(0, 2, (1, 6))\n",
        "valid_inputs, valid_labels"
      ],
      "execution_count": null,
      "outputs": [
        {
          "output_type": "execute_result",
          "data": {
            "text/plain": [
              "(array([[2, 3, 6, 4, 1, 7]]), array([[1, 0, 0, 0, 1, 1]]))"
            ]
          },
          "metadata": {
            "tags": []
          },
          "execution_count": 59
        }
      ]
    },
    {
      "cell_type": "code",
      "metadata": {
        "colab": {
          "base_uri": "https://localhost:8080/"
        },
        "id": "agDgckejMuBE",
        "outputId": "b84b53ca-6d14-4553-dc97-dcd7c822aece"
      },
      "source": [
        "test_inputs = np.random.randint(0, 8, (1, 4))\n",
        "test_labels = np.random.randint(0, 2, (1, 4))\n",
        "test_inputs, test_labels"
      ],
      "execution_count": null,
      "outputs": [
        {
          "output_type": "execute_result",
          "data": {
            "text/plain": [
              "(array([[7, 1, 2, 5]]), array([[0, 0, 1, 1]]))"
            ]
          },
          "metadata": {
            "tags": []
          },
          "execution_count": 83
        }
      ]
    },
    {
      "cell_type": "code",
      "metadata": {
        "id": "i5-p1TjVIdaK"
      },
      "source": [
        "embedding = tf.keras.layers.Embedding(len(word_to_id), 3)\n",
        "hidden = embedding(train_inputs)\n",
        "hidden"
      ],
      "execution_count": null,
      "outputs": []
    },
    {
      "cell_type": "code",
      "metadata": {
        "id": "beher0USLHf4"
      },
      "source": [
        "weight = embedding.get_weights()[0]\n",
        "weight"
      ],
      "execution_count": null,
      "outputs": []
    },
    {
      "cell_type": "code",
      "metadata": {
        "id": "UibTcnNHLQnw"
      },
      "source": [
        "weight[train_inputs]"
      ],
      "execution_count": null,
      "outputs": []
    },
    {
      "cell_type": "code",
      "metadata": {
        "id": "tgZGkDItLnBk"
      },
      "source": [
        "# RNN, CNN, Attention"
      ],
      "execution_count": null,
      "outputs": []
    },
    {
      "cell_type": "code",
      "metadata": {
        "id": "xdwWdpzHNigH"
      },
      "source": [
        "linear = tf.keras.layers.Dense(2)\n",
        "logits = linear(hidden)\n",
        "logits"
      ],
      "execution_count": null,
      "outputs": []
    },
    {
      "cell_type": "code",
      "metadata": {
        "id": "5BxNFmG8NwnR"
      },
      "source": [
        "# y = Wx + b\n",
        "weight, bias = linear.get_weights()\n",
        "weight, bias"
      ],
      "execution_count": null,
      "outputs": []
    },
    {
      "cell_type": "code",
      "metadata": {
        "id": "JquoTv2qOCVe"
      },
      "source": [
        "tf.matmul(hidden, weight) + bias"
      ],
      "execution_count": null,
      "outputs": []
    },
    {
      "cell_type": "code",
      "metadata": {
        "id": "l-CsGz44OLud"
      },
      "source": [
        "y_pred = tf.nn.softmax(logits, axis=-1)\n",
        "y_pred"
      ],
      "execution_count": null,
      "outputs": []
    },
    {
      "cell_type": "code",
      "metadata": {
        "id": "wN7M4a5UOV41"
      },
      "source": [
        "linear = tf.keras.layers.Dense(2, activation=tf.nn.softmax)\n",
        "y_pred = linear(hidden)\n",
        "y_pred"
      ],
      "execution_count": null,
      "outputs": []
    },
    {
      "cell_type": "code",
      "metadata": {
        "colab": {
          "base_uri": "https://localhost:8080/"
        },
        "id": "7kihVICBPQwN",
        "outputId": "99a9dddc-ca90-4617-8484-4c14f6b36e56"
      },
      "source": [
        "args.n_vocab = len(word_to_id)\n",
        "args.d_model = 32\n",
        "args.n_out = 2\n",
        "args"
      ],
      "execution_count": null,
      "outputs": [
        {
          "output_type": "execute_result",
          "data": {
            "text/plain": [
              "Namespace(d_model=32, n_out=2, n_vocab=8, seed=1234)"
            ]
          },
          "metadata": {
            "tags": []
          },
          "execution_count": 71
        }
      ]
    },
    {
      "cell_type": "code",
      "metadata": {
        "id": "C91Ciiz-PDGf"
      },
      "source": [
        "def build_model(args):\n",
        "    inputs = tf.keras.layers.Input((None,))\n",
        "\n",
        "    embedding = tf.keras.layers.Embedding(args.n_vocab, args.d_model)\n",
        "    hidden = embedding(inputs)\n",
        "    #\n",
        "    # RNN, CNN, Attention, Linear\n",
        "    #\n",
        "    linear = tf.keras.layers.Dense(args.n_out, activation=tf.nn.softmax)\n",
        "    y_pred = linear(hidden)\n",
        "\n",
        "    model = tf.keras.Model(inputs=inputs, outputs=y_pred)\n",
        "    return model"
      ],
      "execution_count": null,
      "outputs": []
    },
    {
      "cell_type": "code",
      "metadata": {
        "colab": {
          "base_uri": "https://localhost:8080/"
        },
        "id": "eiRF0EalPi3K",
        "outputId": "b4672686-6362-4782-c3ee-899d0bd6a36a"
      },
      "source": [
        "model = build_model(args)\n",
        "tf.keras.utils.plot_model(model, 'model.png', show_shapes=True)"
      ],
      "execution_count": null,
      "outputs": [
        {
          "output_type": "execute_result",
          "data": {
            "image/png": "[encoded data removed]",
            "text/plain": [
              "<IPython.core.display.Image object>"
            ]
          },
          "metadata": {
            "tags": []
          },
          "execution_count": 90
        }
      ]
    },
    {
      "cell_type": "code",
      "metadata": {
        "id": "Y6YINRMmQQ8H"
      },
      "source": [
        "model.predict(train_inputs)"
      ],
      "execution_count": null,
      "outputs": []
    },
    {
      "cell_type": "code",
      "metadata": {
        "id": "evtGsxdrRQWU"
      },
      "source": [
        "model.predict(valid_inputs)"
      ],
      "execution_count": null,
      "outputs": []
    },
    {
      "cell_type": "code",
      "metadata": {
        "id": "p_2EGl1cRTlK"
      },
      "source": [
        "model.predict(test_inputs)"
      ],
      "execution_count": null,
      "outputs": []
    },
    {
      "cell_type": "markdown",
      "metadata": {
        "id": "gWkJRJPUUVnu"
      },
      "source": [
        "## Train"
      ]
    },
    {
      "cell_type": "code",
      "metadata": {
        "colab": {
          "base_uri": "https://localhost:8080/",
          "height": 312
        },
        "id": "o694YCd8RYmR",
        "outputId": "959f8492-4695-4710-f424-71f74b7ebbbb"
      },
      "source": [
        "model = build_model(args)\n",
        "tf.keras.utils.plot_model(model, 'model.png', show_shapes=True)"
      ],
      "execution_count": null,
      "outputs": [
        {
          "output_type": "execute_result",
          "data": {
            "image/png": "[encoded data removed]",
            "text/plain": [
              "<IPython.core.display.Image object>"
            ]
          },
          "metadata": {
            "tags": []
          },
          "execution_count": 149
        }
      ]
    },
    {
      "cell_type": "code",
      "metadata": {
        "id": "l6VXTtmTUXnR"
      },
      "source": [
        "model.compile(loss=\"sparse_categorical_crossentropy\", optimizer=\"adam\", metrics=[\"accuracy\"])"
      ],
      "execution_count": null,
      "outputs": []
    },
    {
      "cell_type": "code",
      "metadata": {
        "colab": {
          "base_uri": "https://localhost:8080/"
        },
        "id": "Ld1CJ0W6WW2-",
        "outputId": "bbe59424-a238-42e4-c860-a9d181f453bd"
      },
      "source": [
        "train_inputs.shape, train_labels.shape, valid_inputs.shape, valid_labels.shape"
      ],
      "execution_count": null,
      "outputs": [
        {
          "output_type": "execute_result",
          "data": {
            "text/plain": [
              "((2, 5), (2, 5), (1, 6), (1, 6))"
            ]
          },
          "metadata": {
            "tags": []
          },
          "execution_count": 151
        }
      ]
    },
    {
      "cell_type": "code",
      "metadata": {
        "id": "lGZkY40DXnRP"
      },
      "source": [
        "early_stopping = tf.keras.callbacks.EarlyStopping(monitor='val_accuracy', patience=20)\n",
        "save_weights = tf.keras.callbacks.ModelCheckpoint(\"stub.hdf5\",\n",
        "                                                  monitor='val_accuracy',\n",
        "                                                  verbose=1,\n",
        "                                                  save_best_only=True,\n",
        "                                                  mode=\"max\",\n",
        "                                                  save_freq=\"epoch\",\n",
        "                                                  save_weights_only=True)\n",
        "csv_logger = tf.keras.callbacks.CSVLogger(\"stub.csv\")"
      ],
      "execution_count": null,
      "outputs": []
    },
    {
      "cell_type": "code",
      "metadata": {
        "id": "J3-azx5XUtaR"
      },
      "source": [
        "history = model.fit(train_inputs, train_labels,\n",
        "                    epochs=100,\n",
        "                    batch_size=8,\n",
        "                    validation_data=(valid_inputs, valid_labels),\n",
        "                    callbacks=[early_stopping, save_weights, csv_logger])"
      ],
      "execution_count": null,
      "outputs": []
    },
    {
      "cell_type": "code",
      "metadata": {
        "colab": {
          "base_uri": "https://localhost:8080/",
          "height": 265
        },
        "id": "1cTSE4OyVHbD",
        "outputId": "7806ae23-c6a7-4e7c-b362-d98e5b8ebf5f"
      },
      "source": [
        "plt.figure(figsize=(12, 4))\n",
        "\n",
        "plt.subplot(1, 2, 1)\n",
        "plt.plot(history.history['loss'], 'b-', label='loss')\n",
        "plt.plot(history.history['val_loss'], 'r--', label='val_loss')\n",
        "\n",
        "plt.subplot(1, 2, 2)\n",
        "plt.plot(history.history['accuracy'], 'g-', label='accuracy')\n",
        "plt.plot(history.history['val_accuracy'], 'k--', label='val_accuracy')\n",
        "\n",
        "plt.show()"
      ],
      "execution_count": null,
      "outputs": [
        {
          "output_type": "display_data",
          "data": {
            "image/png": "[encoded data removed]",
            "text/plain": [
              "<Figure size 864x288 with 2 Axes>"
            ]
          },
          "metadata": {
            "tags": [],
            "needs_background": "light"
          }
        }
      ]
    },
    {
      "cell_type": "markdown",
      "metadata": {
        "id": "mUww_hyZaSnH"
      },
      "source": [
        "## 평가"
      ]
    },
    {
      "cell_type": "code",
      "metadata": {
        "id": "_bX2Yv0caUnO"
      },
      "source": [
        "model = build_model(args)\n",
        "model.load_weights(\"stub.hdf5\")"
      ],
      "execution_count": null,
      "outputs": []
    },
    {
      "cell_type": "code",
      "metadata": {
        "id": "HVJl8AVJaUnP"
      },
      "source": [
        "model.compile(loss=\"sparse_categorical_crossentropy\", optimizer=\"adam\", metrics=[\"accuracy\"])"
      ],
      "execution_count": null,
      "outputs": []
    },
    {
      "cell_type": "code",
      "metadata": {
        "colab": {
          "base_uri": "https://localhost:8080/"
        },
        "id": "Xxp1VLSVabrh",
        "outputId": "facb0b06-3dfd-4ea1-c738-693aebfbc9a5"
      },
      "source": [
        "model.evaluate(test_inputs, test_labels)"
      ],
      "execution_count": null,
      "outputs": [
        {
          "output_type": "stream",
          "text": [
            "1/1 [==============================] - 0s 256ms/step - loss: 0.6612 - accuracy: 0.5000\n"
          ],
          "name": "stdout"
        },
        {
          "output_type": "execute_result",
          "data": {
            "text/plain": [
              "[0.6612246036529541, 0.5]"
            ]
          },
          "metadata": {
            "tags": []
          },
          "execution_count": 133
        }
      ]
    },
    {
      "cell_type": "markdown",
      "metadata": {
        "id": "ffFq5_Avbsq-"
      },
      "source": [
        "# 배포"
      ]
    },
    {
      "cell_type": "code",
      "metadata": {
        "id": "TNaP7jXrfhxa"
      },
      "source": [
        "model = build_model(args)\n",
        "model.load_weights(\"stub.hdf5\")"
      ],
      "execution_count": null,
      "outputs": []
    },
    {
      "cell_type": "code",
      "metadata": {
        "id": "gW2zniiaafwi"
      },
      "source": [
        "string = \"수학 당신은 선생님 입니다\""
      ],
      "execution_count": null,
      "outputs": []
    },
    {
      "cell_type": "code",
      "metadata": {
        "colab": {
          "base_uri": "https://localhost:8080/"
        },
        "id": "un7tDdUTbzg2",
        "outputId": "094728ca-c5d7-4126-b499-a71eca466c0c"
      },
      "source": [
        "infer_input = [word_to_id[w] for w in string.split()]\n",
        "infer_input = np.array([infer_input])\n",
        "infer_input"
      ],
      "execution_count": null,
      "outputs": [
        {
          "output_type": "execute_result",
          "data": {
            "text/plain": [
              "array([[6, 5, 7, 4]])"
            ]
          },
          "metadata": {
            "tags": []
          },
          "execution_count": 155
        }
      ]
    },
    {
      "cell_type": "code",
      "metadata": {
        "colab": {
          "base_uri": "https://localhost:8080/"
        },
        "id": "l8PnzyH6cDa2",
        "outputId": "193ba7b2-5fa7-48bf-a3dd-76e1e29554de"
      },
      "source": [
        "train_inputs.shape, infer_input.shape"
      ],
      "execution_count": null,
      "outputs": [
        {
          "output_type": "execute_result",
          "data": {
            "text/plain": [
              "((2, 5), (1, 4))"
            ]
          },
          "metadata": {
            "tags": []
          },
          "execution_count": 156
        }
      ]
    },
    {
      "cell_type": "code",
      "metadata": {
        "colab": {
          "base_uri": "https://localhost:8080/"
        },
        "id": "unqdoXkNb6XQ",
        "outputId": "ac4c421d-2c9a-4f5d-b769-343940bfef8b"
      },
      "source": [
        "y_pred = model.predict(infer_input)\n",
        "y_pred"
      ],
      "execution_count": null,
      "outputs": [
        {
          "output_type": "stream",
          "text": [
            "WARNING:tensorflow:8 out of the last 9 calls to <function Model.make_predict_function.<locals>.predict_function at 0x7f541166b830> triggered tf.function retracing. Tracing is expensive and the excessive number of tracings could be due to (1) creating @tf.function repeatedly in a loop, (2) passing tensors with different shapes, (3) passing Python objects instead of tensors. For (1), please define your @tf.function outside of the loop. For (2), @tf.function has experimental_relax_shapes=True option that relaxes argument shapes that can avoid unnecessary retracing. For (3), please refer to https://www.tensorflow.org/guide/function#controlling_retracing and https://www.tensorflow.org/api_docs/python/tf/function for  more details.\n"
          ],
          "name": "stdout"
        },
        {
          "output_type": "execute_result",
          "data": {
            "text/plain": [
              "array([[[0.43229845, 0.5677016 ],\n",
              "        [0.5931056 , 0.40689442],\n",
              "        [0.458534  , 0.541466  ],\n",
              "        [0.5983461 , 0.40165392]]], dtype=float32)"
            ]
          },
          "metadata": {
            "tags": []
          },
          "execution_count": 157
        }
      ]
    },
    {
      "cell_type": "code",
      "metadata": {
        "colab": {
          "base_uri": "https://localhost:8080/"
        },
        "id": "HrSv52ZlcTlX",
        "outputId": "c2523730-c16d-4829-9c43-379664c780ae"
      },
      "source": [
        "y_class = np.argmax(y_pred, axis=-1)\n",
        "y_class"
      ],
      "execution_count": null,
      "outputs": [
        {
          "output_type": "execute_result",
          "data": {
            "text/plain": [
              "array([[1, 0, 1, 0]])"
            ]
          },
          "metadata": {
            "tags": []
          },
          "execution_count": 158
        }
      ]
    },
    {
      "cell_type": "code",
      "metadata": {
        "colab": {
          "base_uri": "https://localhost:8080/"
        },
        "id": "sNHvIQ56fw-I",
        "outputId": "a3f8e0d2-6342-429e-86c6-444d722609cb"
      },
      "source": [
        "for row in y_class:\n",
        "    for val in row:\n",
        "        print(f\"{val} : {id_to_label[val]}\")"
      ],
      "execution_count": null,
      "outputs": [
        {
          "output_type": "stream",
          "text": [
            "1 : 명사\n",
            "0 : 기타\n",
            "1 : 명사\n",
            "0 : 기타\n"
          ],
          "name": "stdout"
        }
      ]
    },
    {
      "cell_type": "code",
      "metadata": {
        "id": "YCnuHYzMgBf7"
      },
      "source": [
        "def do_predict(model, string):\n",
        "    tokens = string.split()\n",
        "    infer_input = []\n",
        "    for w in tokens:\n",
        "        infer_input.append(word_to_id.get(w, 1))\n",
        "    infer_input = np.array([infer_input])\n",
        "    y_pred = model.predict(infer_input)\n",
        "    y_class = np.argmax(y_pred, axis=-1)[0]\n",
        "    result = []\n",
        "    for w, c in zip(tokens, y_class):\n",
        "        result.append([w, id_to_label[c]])\n",
        "    return result"
      ],
      "execution_count": null,
      "outputs": []
    },
    {
      "cell_type": "code",
      "metadata": {
        "colab": {
          "base_uri": "https://localhost:8080/"
        },
        "id": "bxVuQxtAh0jv",
        "outputId": "26246e5e-07cf-4f72-96e0-7bd09a6c7415"
      },
      "source": [
        "do_predict(model, \"수학 당신은 과학 선생님 입니다\")"
      ],
      "execution_count": null,
      "outputs": [
        {
          "output_type": "execute_result",
          "data": {
            "text/plain": [
              "[['수학', '명사'], ['당신은', '기타'], ['과학', '기타'], ['선생님', '명사'], ['입니다', '기타']]"
            ]
          },
          "metadata": {
            "tags": []
          },
          "execution_count": 184
        }
      ]
    },
    {
      "cell_type": "code",
      "metadata": {
        "colab": {
          "base_uri": "https://localhost:8080/"
        },
        "id": "sPqa_Z2Oh3hU",
        "outputId": "4eb32d1d-6c5d-492c-90f6-5ada1d8c1d8a"
      },
      "source": [
        "while True:\n",
        "    print(\"input> \", end=\"\")\n",
        "    string = str(input())\n",
        "    if len(string) == 0:\n",
        "        break\n",
        "    result = do_predict(model, string)\n",
        "    print(result)"
      ],
      "execution_count": null,
      "outputs": [
        {
          "output_type": "stream",
          "text": [
            "input> 나는 중학생 입니다\n",
            "WARNING:tensorflow:7 out of the last 11 calls to <function Model.make_predict_function.<locals>.predict_function at 0x7f541166b830> triggered tf.function retracing. Tracing is expensive and the excessive number of tracings could be due to (1) creating @tf.function repeatedly in a loop, (2) passing tensors with different shapes, (3) passing Python objects instead of tensors. For (1), please define your @tf.function outside of the loop. For (2), @tf.function has experimental_relax_shapes=True option that relaxes argument shapes that can avoid unnecessary retracing. For (3), please refer to https://www.tensorflow.org/guide/function#controlling_retracing and https://www.tensorflow.org/api_docs/python/tf/function for  more details.\n",
            "[['나는', '기타'], ['중학생', '기타'], ['입니다', '기타']]\n",
            "input> 당신은 우리학교 선생님 입니다.\n",
            "[['당신은', '기타'], ['우리학교', '기타'], ['선생님', '명사'], ['입니다.', '기타']]\n",
            "input> \n"
          ],
          "name": "stdout"
        }
      ]
    },
    {
      "cell_type": "code",
      "metadata": {
        "id": "MFRFpb7diRrw"
      },
      "source": [
        ""
      ],
      "execution_count": null,
      "outputs": []
    }
  ]
}