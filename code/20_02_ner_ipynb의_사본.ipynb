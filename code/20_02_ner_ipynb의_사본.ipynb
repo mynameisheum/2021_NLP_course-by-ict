{
  "nbformat": 4,
  "nbformat_minor": 0,
  "metadata": {
    "colab": {
      "name": "20-02-ner.ipynb의 사본",
      "provenance": [],
      "collapsed_sections": [
        "LvylK3P37t6w"
      ]
    },
    "kernelspec": {
      "name": "python3",
      "display_name": "Python 3"
    },
    "language_info": {
      "name": "python"
    },
    "accelerator": "GPU",
    "widgets": {
      "application/vnd.jupyter.widget-state+json": {
        "3aede970438647edbe5e2240ae191480": {
          "model_module": "@jupyter-widgets/controls",
          "model_name": "HBoxModel",
          "state": {
            "_view_name": "HBoxView",
            "_dom_classes": [],
            "_model_name": "HBoxModel",
            "_view_module": "@jupyter-widgets/controls",
            "_model_module_version": "1.5.0",
            "_view_count": null,
            "_view_module_version": "1.5.0",
            "box_style": "",
            "layout": "IPY_MODEL_ed48da4d1e7c4fd2aa1831fbcd0c4b19",
            "_model_module": "@jupyter-widgets/controls",
            "children": [
              "IPY_MODEL_c8cdc2269c6544859577c068e80511b3",
              "IPY_MODEL_b19f0d022434471da47d0dc3753ac9f4"
            ]
          }
        },
        "ed48da4d1e7c4fd2aa1831fbcd0c4b19": {
          "model_module": "@jupyter-widgets/base",
          "model_name": "LayoutModel",
          "state": {
            "_view_name": "LayoutView",
            "grid_template_rows": null,
            "right": null,
            "justify_content": null,
            "_view_module": "@jupyter-widgets/base",
            "overflow": null,
            "_model_module_version": "1.2.0",
            "_view_count": null,
            "flex_flow": null,
            "width": null,
            "min_width": null,
            "border": null,
            "align_items": null,
            "bottom": null,
            "_model_module": "@jupyter-widgets/base",
            "top": null,
            "grid_column": null,
            "overflow_y": null,
            "overflow_x": null,
            "grid_auto_flow": null,
            "grid_area": null,
            "grid_template_columns": null,
            "flex": null,
            "_model_name": "LayoutModel",
            "justify_items": null,
            "grid_row": null,
            "max_height": null,
            "align_content": null,
            "visibility": null,
            "align_self": null,
            "height": null,
            "min_height": null,
            "padding": null,
            "grid_auto_rows": null,
            "grid_gap": null,
            "max_width": null,
            "order": null,
            "_view_module_version": "1.2.0",
            "grid_template_areas": null,
            "object_position": null,
            "object_fit": null,
            "grid_auto_columns": null,
            "margin": null,
            "display": null,
            "left": null
          }
        },
        "c8cdc2269c6544859577c068e80511b3": {
          "model_module": "@jupyter-widgets/controls",
          "model_name": "FloatProgressModel",
          "state": {
            "_view_name": "ProgressView",
            "style": "IPY_MODEL_03b8760ba6c8410fbb35d8e7519abba8",
            "_dom_classes": [],
            "description": "100%",
            "_model_name": "FloatProgressModel",
            "bar_style": "success",
            "max": 19170,
            "_view_module": "@jupyter-widgets/controls",
            "_model_module_version": "1.5.0",
            "value": 19170,
            "_view_count": null,
            "_view_module_version": "1.5.0",
            "orientation": "horizontal",
            "min": 0,
            "description_tooltip": null,
            "_model_module": "@jupyter-widgets/controls",
            "layout": "IPY_MODEL_fd4801e02d93413b820cf3e0ed3007f3"
          }
        },
        "b19f0d022434471da47d0dc3753ac9f4": {
          "model_module": "@jupyter-widgets/controls",
          "model_name": "HTMLModel",
          "state": {
            "_view_name": "HTMLView",
            "style": "IPY_MODEL_e3f4d104a0de4eb98f9aaa536278a295",
            "_dom_classes": [],
            "description": "",
            "_model_name": "HTMLModel",
            "placeholder": "​",
            "_view_module": "@jupyter-widgets/controls",
            "_model_module_version": "1.5.0",
            "value": " 19170/19170 [00:56&lt;00:00, 341.06it/s]",
            "_view_count": null,
            "_view_module_version": "1.5.0",
            "description_tooltip": null,
            "_model_module": "@jupyter-widgets/controls",
            "layout": "IPY_MODEL_d82b61da32ad48679e3bfcef838d84d8"
          }
        },
        "03b8760ba6c8410fbb35d8e7519abba8": {
          "model_module": "@jupyter-widgets/controls",
          "model_name": "ProgressStyleModel",
          "state": {
            "_view_name": "StyleView",
            "_model_name": "ProgressStyleModel",
            "description_width": "initial",
            "_view_module": "@jupyter-widgets/base",
            "_model_module_version": "1.5.0",
            "_view_count": null,
            "_view_module_version": "1.2.0",
            "bar_color": null,
            "_model_module": "@jupyter-widgets/controls"
          }
        },
        "fd4801e02d93413b820cf3e0ed3007f3": {
          "model_module": "@jupyter-widgets/base",
          "model_name": "LayoutModel",
          "state": {
            "_view_name": "LayoutView",
            "grid_template_rows": null,
            "right": null,
            "justify_content": null,
            "_view_module": "@jupyter-widgets/base",
            "overflow": null,
            "_model_module_version": "1.2.0",
            "_view_count": null,
            "flex_flow": null,
            "width": null,
            "min_width": null,
            "border": null,
            "align_items": null,
            "bottom": null,
            "_model_module": "@jupyter-widgets/base",
            "top": null,
            "grid_column": null,
            "overflow_y": null,
            "overflow_x": null,
            "grid_auto_flow": null,
            "grid_area": null,
            "grid_template_columns": null,
            "flex": null,
            "_model_name": "LayoutModel",
            "justify_items": null,
            "grid_row": null,
            "max_height": null,
            "align_content": null,
            "visibility": null,
            "align_self": null,
            "height": null,
            "min_height": null,
            "padding": null,
            "grid_auto_rows": null,
            "grid_gap": null,
            "max_width": null,
            "order": null,
            "_view_module_version": "1.2.0",
            "grid_template_areas": null,
            "object_position": null,
            "object_fit": null,
            "grid_auto_columns": null,
            "margin": null,
            "display": null,
            "left": null
          }
        },
        "e3f4d104a0de4eb98f9aaa536278a295": {
          "model_module": "@jupyter-widgets/controls",
          "model_name": "DescriptionStyleModel",
          "state": {
            "_view_name": "StyleView",
            "_model_name": "DescriptionStyleModel",
            "description_width": "",
            "_view_module": "@jupyter-widgets/base",
            "_model_module_version": "1.5.0",
            "_view_count": null,
            "_view_module_version": "1.2.0",
            "_model_module": "@jupyter-widgets/controls"
          }
        },
        "d82b61da32ad48679e3bfcef838d84d8": {
          "model_module": "@jupyter-widgets/base",
          "model_name": "LayoutModel",
          "state": {
            "_view_name": "LayoutView",
            "grid_template_rows": null,
            "right": null,
            "justify_content": null,
            "_view_module": "@jupyter-widgets/base",
            "overflow": null,
            "_model_module_version": "1.2.0",
            "_view_count": null,
            "flex_flow": null,
            "width": null,
            "min_width": null,
            "border": null,
            "align_items": null,
            "bottom": null,
            "_model_module": "@jupyter-widgets/base",
            "top": null,
            "grid_column": null,
            "overflow_y": null,
            "overflow_x": null,
            "grid_auto_flow": null,
            "grid_area": null,
            "grid_template_columns": null,
            "flex": null,
            "_model_name": "LayoutModel",
            "justify_items": null,
            "grid_row": null,
            "max_height": null,
            "align_content": null,
            "visibility": null,
            "align_self": null,
            "height": null,
            "min_height": null,
            "padding": null,
            "grid_auto_rows": null,
            "grid_gap": null,
            "max_width": null,
            "order": null,
            "_view_module_version": "1.2.0",
            "grid_template_areas": null,
            "object_position": null,
            "object_fit": null,
            "grid_auto_columns": null,
            "margin": null,
            "display": null,
            "left": null
          }
        },
        "32743ff115d24f79b6420a6278a0595c": {
          "model_module": "@jupyter-widgets/controls",
          "model_name": "HBoxModel",
          "state": {
            "_view_name": "HBoxView",
            "_dom_classes": [],
            "_model_name": "HBoxModel",
            "_view_module": "@jupyter-widgets/controls",
            "_model_module_version": "1.5.0",
            "_view_count": null,
            "_view_module_version": "1.5.0",
            "box_style": "",
            "layout": "IPY_MODEL_77eceea76efd4fee8734ac6c39de6513",
            "_model_module": "@jupyter-widgets/controls",
            "children": [
              "IPY_MODEL_dcf4395249d44aa1870ed2460bded9b8",
              "IPY_MODEL_5762855ddb014979b602d0ec2dc140ff"
            ]
          }
        },
        "77eceea76efd4fee8734ac6c39de6513": {
          "model_module": "@jupyter-widgets/base",
          "model_name": "LayoutModel",
          "state": {
            "_view_name": "LayoutView",
            "grid_template_rows": null,
            "right": null,
            "justify_content": null,
            "_view_module": "@jupyter-widgets/base",
            "overflow": null,
            "_model_module_version": "1.2.0",
            "_view_count": null,
            "flex_flow": null,
            "width": null,
            "min_width": null,
            "border": null,
            "align_items": null,
            "bottom": null,
            "_model_module": "@jupyter-widgets/base",
            "top": null,
            "grid_column": null,
            "overflow_y": null,
            "overflow_x": null,
            "grid_auto_flow": null,
            "grid_area": null,
            "grid_template_columns": null,
            "flex": null,
            "_model_name": "LayoutModel",
            "justify_items": null,
            "grid_row": null,
            "max_height": null,
            "align_content": null,
            "visibility": null,
            "align_self": null,
            "height": null,
            "min_height": null,
            "padding": null,
            "grid_auto_rows": null,
            "grid_gap": null,
            "max_width": null,
            "order": null,
            "_view_module_version": "1.2.0",
            "grid_template_areas": null,
            "object_position": null,
            "object_fit": null,
            "grid_auto_columns": null,
            "margin": null,
            "display": null,
            "left": null
          }
        },
        "dcf4395249d44aa1870ed2460bded9b8": {
          "model_module": "@jupyter-widgets/controls",
          "model_name": "FloatProgressModel",
          "state": {
            "_view_name": "ProgressView",
            "style": "IPY_MODEL_f2d998bf30a049359a02345bf2f6b8a8",
            "_dom_classes": [],
            "description": "100%",
            "_model_name": "FloatProgressModel",
            "bar_style": "success",
            "max": 19170,
            "_view_module": "@jupyter-widgets/controls",
            "_model_module_version": "1.5.0",
            "value": 19170,
            "_view_count": null,
            "_view_module_version": "1.5.0",
            "orientation": "horizontal",
            "min": 0,
            "description_tooltip": null,
            "_model_module": "@jupyter-widgets/controls",
            "layout": "IPY_MODEL_ad1b055f48294a21a81fb5a71b5a06f4"
          }
        },
        "5762855ddb014979b602d0ec2dc140ff": {
          "model_module": "@jupyter-widgets/controls",
          "model_name": "HTMLModel",
          "state": {
            "_view_name": "HTMLView",
            "style": "IPY_MODEL_d9fdeca867504e5684cbd860cb37480d",
            "_dom_classes": [],
            "description": "",
            "_model_name": "HTMLModel",
            "placeholder": "​",
            "_view_module": "@jupyter-widgets/controls",
            "_model_module_version": "1.5.0",
            "value": " 19170/19170 [02:40&lt;00:00, 119.21it/s]",
            "_view_count": null,
            "_view_module_version": "1.5.0",
            "description_tooltip": null,
            "_model_module": "@jupyter-widgets/controls",
            "layout": "IPY_MODEL_f3e24823ecc2443f8420070b7d193e31"
          }
        },
        "f2d998bf30a049359a02345bf2f6b8a8": {
          "model_module": "@jupyter-widgets/controls",
          "model_name": "ProgressStyleModel",
          "state": {
            "_view_name": "StyleView",
            "_model_name": "ProgressStyleModel",
            "description_width": "initial",
            "_view_module": "@jupyter-widgets/base",
            "_model_module_version": "1.5.0",
            "_view_count": null,
            "_view_module_version": "1.2.0",
            "bar_color": null,
            "_model_module": "@jupyter-widgets/controls"
          }
        },
        "ad1b055f48294a21a81fb5a71b5a06f4": {
          "model_module": "@jupyter-widgets/base",
          "model_name": "LayoutModel",
          "state": {
            "_view_name": "LayoutView",
            "grid_template_rows": null,
            "right": null,
            "justify_content": null,
            "_view_module": "@jupyter-widgets/base",
            "overflow": null,
            "_model_module_version": "1.2.0",
            "_view_count": null,
            "flex_flow": null,
            "width": null,
            "min_width": null,
            "border": null,
            "align_items": null,
            "bottom": null,
            "_model_module": "@jupyter-widgets/base",
            "top": null,
            "grid_column": null,
            "overflow_y": null,
            "overflow_x": null,
            "grid_auto_flow": null,
            "grid_area": null,
            "grid_template_columns": null,
            "flex": null,
            "_model_name": "LayoutModel",
            "justify_items": null,
            "grid_row": null,
            "max_height": null,
            "align_content": null,
            "visibility": null,
            "align_self": null,
            "height": null,
            "min_height": null,
            "padding": null,
            "grid_auto_rows": null,
            "grid_gap": null,
            "max_width": null,
            "order": null,
            "_view_module_version": "1.2.0",
            "grid_template_areas": null,
            "object_position": null,
            "object_fit": null,
            "grid_auto_columns": null,
            "margin": null,
            "display": null,
            "left": null
          }
        },
        "d9fdeca867504e5684cbd860cb37480d": {
          "model_module": "@jupyter-widgets/controls",
          "model_name": "DescriptionStyleModel",
          "state": {
            "_view_name": "StyleView",
            "_model_name": "DescriptionStyleModel",
            "description_width": "",
            "_view_module": "@jupyter-widgets/base",
            "_model_module_version": "1.5.0",
            "_view_count": null,
            "_view_module_version": "1.2.0",
            "_model_module": "@jupyter-widgets/controls"
          }
        },
        "f3e24823ecc2443f8420070b7d193e31": {
          "model_module": "@jupyter-widgets/base",
          "model_name": "LayoutModel",
          "state": {
            "_view_name": "LayoutView",
            "grid_template_rows": null,
            "right": null,
            "justify_content": null,
            "_view_module": "@jupyter-widgets/base",
            "overflow": null,
            "_model_module_version": "1.2.0",
            "_view_count": null,
            "flex_flow": null,
            "width": null,
            "min_width": null,
            "border": null,
            "align_items": null,
            "bottom": null,
            "_model_module": "@jupyter-widgets/base",
            "top": null,
            "grid_column": null,
            "overflow_y": null,
            "overflow_x": null,
            "grid_auto_flow": null,
            "grid_area": null,
            "grid_template_columns": null,
            "flex": null,
            "_model_name": "LayoutModel",
            "justify_items": null,
            "grid_row": null,
            "max_height": null,
            "align_content": null,
            "visibility": null,
            "align_self": null,
            "height": null,
            "min_height": null,
            "padding": null,
            "grid_auto_rows": null,
            "grid_gap": null,
            "max_width": null,
            "order": null,
            "_view_module_version": "1.2.0",
            "grid_template_areas": null,
            "object_position": null,
            "object_fit": null,
            "grid_auto_columns": null,
            "margin": null,
            "display": null,
            "left": null
          }
        }
      }
    }
  },
  "cells": [
    {
      "cell_type": "markdown",
      "metadata": {
        "id": "6dfJPT-2XMTB"
      },
      "source": [
        "# Install*"
      ]
    },
    {
      "cell_type": "markdown",
      "metadata": {
        "id": "ePdwv4GVRRkG"
      },
      "source": [
        "# Evn*"
      ]
    },
    {
      "cell_type": "code",
      "metadata": {
        "id": "WkYXFwcBXJDG"
      },
      "source": [
        "# imports\n",
        "import argparse\n",
        "import os\n",
        "import random\n",
        "import shutil\n",
        "import json\n",
        "import zipfile\n",
        "import math\n",
        "import copy\n",
        "import collections\n",
        "import re\n",
        "\n",
        "import matplotlib.pyplot as plt\n",
        "import pandas as pd\n",
        "import numpy as np\n",
        "# import sentencepiece as spm\n",
        "import tensorflow as tf\n",
        "import tensorflow.keras.backend as K\n",
        "\n",
        "from tqdm.notebook import tqdm, trange"
      ],
      "execution_count": null,
      "outputs": []
    },
    {
      "cell_type": "code",
      "metadata": {
        "id": "BF-NLGZTGvTR",
        "colab": {
          "base_uri": "https://localhost:8080/"
        },
        "outputId": "22222a1c-d836-467d-c579-b73c27a2596b"
      },
      "source": [
        "# 환경 설정\n",
        "args = {\n",
        "    # random seed value\n",
        "    \"seed\": 1234\n",
        "}\n",
        "args = argparse.Namespace(**args)\n",
        "\n",
        "print(args)"
      ],
      "execution_count": null,
      "outputs": [
        {
          "output_type": "stream",
          "text": [
            "Namespace(seed=1234)\n"
          ],
          "name": "stdout"
        }
      ]
    },
    {
      "cell_type": "code",
      "metadata": {
        "id": "nvjyruUlXtlR"
      },
      "source": [
        "# random seed 설정\n",
        "random.seed(args.seed)\n",
        "np.random.seed(args.seed)\n",
        "tf.random.set_seed(args.seed)"
      ],
      "execution_count": null,
      "outputs": []
    },
    {
      "cell_type": "code",
      "metadata": {
        "id": "BC3fXkhdYcYt",
        "colab": {
          "base_uri": "https://localhost:8080/"
        },
        "outputId": "1cb232dd-9d15-454b-eb78-cdb612e5ea9e"
      },
      "source": [
        "# gpu 사용량 확인\n",
        "!nvidia-smi"
      ],
      "execution_count": null,
      "outputs": [
        {
          "output_type": "stream",
          "text": [
            "Wed Jun 16 10:13:42 2021       \n",
            "+-----------------------------------------------------------------------------+\n",
            "| NVIDIA-SMI 465.27       Driver Version: 460.32.03    CUDA Version: 11.2     |\n",
            "|-------------------------------+----------------------+----------------------+\n",
            "| GPU  Name        Persistence-M| Bus-Id        Disp.A | Volatile Uncorr. ECC |\n",
            "| Fan  Temp  Perf  Pwr:Usage/Cap|         Memory-Usage | GPU-Util  Compute M. |\n",
            "|                               |                      |               MIG M. |\n",
            "|===============================+======================+======================|\n",
            "|   0  Tesla T4            Off  | 00000000:00:04.0 Off |                    0 |\n",
            "| N/A   51C    P8    10W /  70W |      0MiB / 15109MiB |      0%      Default |\n",
            "|                               |                      |                  N/A |\n",
            "+-------------------------------+----------------------+----------------------+\n",
            "                                                                               \n",
            "+-----------------------------------------------------------------------------+\n",
            "| Processes:                                                                  |\n",
            "|  GPU   GI   CI        PID   Type   Process name                  GPU Memory |\n",
            "|        ID   ID                                                   Usage      |\n",
            "|=============================================================================|\n",
            "|  No running processes found                                                 |\n",
            "+-----------------------------------------------------------------------------+\n"
          ],
          "name": "stdout"
        }
      ]
    },
    {
      "cell_type": "code",
      "metadata": {
        "id": "xVRdxYReYeQj",
        "colab": {
          "base_uri": "https://localhost:8080/"
        },
        "outputId": "bf490c04-f716-4efb-e81f-14dc8dbfe0b3"
      },
      "source": [
        "# google drive mount\n",
        "from google.colab import drive\n",
        "drive.mount('/content/drive')"
      ],
      "execution_count": null,
      "outputs": [
        {
          "output_type": "stream",
          "text": [
            "Mounted at /content/drive\n"
          ],
          "name": "stdout"
        }
      ]
    },
    {
      "cell_type": "code",
      "metadata": {
        "id": "byCIiLJBbFHh",
        "colab": {
          "base_uri": "https://localhost:8080/"
        },
        "outputId": "6f905152-13e2-4205-e5b3-472eff0876e6"
      },
      "source": [
        "# data dir\n",
        "\n",
        "data_dir = '/content/drive/MyDrive/ict-ai-복합고급언어-nlp/data'\n",
        "os.listdir(data_dir)\n",
        "# ner_dir = os.path.join(data_dir)"
      ],
      "execution_count": null,
      "outputs": [
        {
          "output_type": "execute_result",
          "data": {
            "text/plain": [
              "['data-20210420T111231Z-001.zip',\n",
              " 'kowiki',\n",
              " 'kowiki_32000.model',\n",
              " 'kowiki_32000.vocab',\n",
              " 'kowiki_mecab_32000.model',\n",
              " 'kowiki_mecab_32000.vocab',\n",
              " 'nsmc',\n",
              " 'question_pair',\n",
              " 'songys-chat',\n",
              " 'kornli',\n",
              " 'kornli.model',\n",
              " 'kornli.vocab',\n",
              " 'xnli.dev.ko.tsv',\n",
              " 'xnli.test.ko.tsv',\n",
              " 'multinli.train.ko.tsv',\n",
              " 'snli_1.0_train.ko.tsv',\n",
              " 'ner']"
            ]
          },
          "metadata": {
            "tags": []
          },
          "execution_count": 6
        }
      ]
    },
    {
      "cell_type": "code",
      "metadata": {
        "colab": {
          "base_uri": "https://localhost:8080/"
        },
        "id": "_4rnIO-Bgqef",
        "outputId": "064f4da4-2ce1-428a-d1e4-2d3037510ddb"
      },
      "source": [
        "ner_dir = os.path.join(data_dir, \"ner\") # 폴더를 ner로 만들게\n",
        "if not os.path.isdir(ner_dir):\n",
        "    os.makedirs(ner_dir)\n",
        "os.listdir(ner_dir)"
      ],
      "execution_count": null,
      "outputs": [
        {
          "output_type": "execute_result",
          "data": {
            "text/plain": [
              "['ner.csv_modi', 'vocab_pos.txt', 'vocab_word.txt', 'vocab_tag.txt']"
            ]
          },
          "metadata": {
            "tags": []
          },
          "execution_count": 7
        }
      ]
    },
    {
      "cell_type": "markdown",
      "metadata": {
        "id": "097BJVHG_QfR"
      },
      "source": [
        "# Data*"
      ]
    },
    {
      "cell_type": "code",
      "metadata": {
        "colab": {
          "base_uri": "https://localhost:8080/"
        },
        "id": "6EdLq0CWR6au",
        "outputId": "a558b171-99c8-44d1-f086-facfbba8fe14"
      },
      "source": [
        "!git clone https://github.com/kmounlp/NER.git"
      ],
      "execution_count": null,
      "outputs": [
        {
          "output_type": "stream",
          "text": [
            "Cloning into 'NER'...\n",
            "remote: Enumerating objects: 1770, done.\u001b[K\n",
            "remote: Counting objects: 100% (43/43), done.\u001b[K\n",
            "remote: Compressing objects: 100% (42/42), done.\u001b[K\n",
            "remote: Total 1770 (delta 0), reused 42 (delta 0), pack-reused 1727\u001b[K\n",
            "Receiving objects: 100% (1770/1770), 20.69 MiB | 24.47 MiB/s, done.\n",
            "Resolving deltas: 100% (146/146), done.\n"
          ],
          "name": "stdout"
        }
      ]
    },
    {
      "cell_type": "markdown",
      "metadata": {
        "id": "2Tl8V7th4Kuo"
      },
      "source": [
        "# Morph*"
      ]
    },
    {
      "cell_type": "code",
      "metadata": {
        "colab": {
          "base_uri": "https://localhost:8080/"
        },
        "id": "XwXN_kfEW9Xl",
        "outputId": "e279a68a-694d-48dd-dc08-a69ed2cf2000"
      },
      "source": [
        "!ls"
      ],
      "execution_count": null,
      "outputs": [
        {
          "output_type": "stream",
          "text": [
            "drive  NER  sample_data\n"
          ],
          "name": "stdout"
        }
      ]
    },
    {
      "cell_type": "code",
      "metadata": {
        "id": "UJGQHaE5XL-J",
        "colab": {
          "base_uri": "https://localhost:8080/"
        },
        "outputId": "f520d021-bfd8-4f1f-a7da-b97ad26382fd"
      },
      "source": [
        "files = os.listdir('/content/NER/말뭉치 - 형태소_개체명') # 경로복사해주고\n",
        "files\n"
      ],
      "execution_count": null,
      "outputs": [
        {
          "output_type": "execute_result",
          "data": {
            "text/plain": [
              "['20255_NER.txt',\n",
              " '32507_NER.txt',\n",
              " '10020_NER.txt',\n",
              " '00236_NER.txt',\n",
              " '32608_NER.txt',\n",
              " '10223_NER.txt',\n",
              " '10232_NER.txt',\n",
              " '00026_NER.txt',\n",
              " '00002_NER.txt',\n",
              " '00083_NER.txt',\n",
              " '32746_NER.txt',\n",
              " '00850_NER.txt',\n",
              " '10242_NER.txt',\n",
              " '32595_NER.txt',\n",
              " '32535_NER.txt',\n",
              " '00825_NER.txt',\n",
              " '00268_NER.txt',\n",
              " '00805_NER.txt',\n",
              " '00791_NER.txt',\n",
              " '00076_NER.txt',\n",
              " '20165_NER.txt',\n",
              " '20082_NER.txt',\n",
              " '32622_NER.txt',\n",
              " '00743_NER.txt',\n",
              " '00124_NER.txt',\n",
              " '00041_NER.txt',\n",
              " '00202_NER.txt',\n",
              " '20071_NER.txt',\n",
              " '20030_NER.txt',\n",
              " '10215_NER.txt',\n",
              " '00792_NER.txt',\n",
              " '00687_NER.txt',\n",
              " '00093_NER.txt',\n",
              " '00046_NER.txt',\n",
              " '32545_NER.txt',\n",
              " '10098_NER.txt',\n",
              " '00677_NER.txt',\n",
              " '10071_NER.txt',\n",
              " '10136_NER.txt',\n",
              " '00172_NER.txt',\n",
              " '10086_NER.txt',\n",
              " '00809_NER.txt',\n",
              " '32707_NER.txt',\n",
              " '32541_NER.txt',\n",
              " '00084_NER.txt',\n",
              " '00613_NER.txt',\n",
              " '00156_NER.txt',\n",
              " '20117_NER.txt',\n",
              " '32601_NER.txt',\n",
              " '00031_NER.txt',\n",
              " '32665_NER.txt',\n",
              " '10244_NER.txt',\n",
              " '00619_NER.txt',\n",
              " '00813_NER.txt',\n",
              " '10238_NER.txt',\n",
              " '10143_NER.txt',\n",
              " '32585_NER.txt',\n",
              " '20152_NER.txt',\n",
              " '00856_NER.txt',\n",
              " '32521_NER.txt',\n",
              " '32625_NER.txt',\n",
              " '00732_NER.txt',\n",
              " '00064_NER.txt',\n",
              " '00608_NER.txt',\n",
              " '00801_NER.txt',\n",
              " '00035_NER.txt',\n",
              " '00114_NER.txt',\n",
              " '10105_NER.txt',\n",
              " '00234_NER.txt',\n",
              " '10052_NER.txt',\n",
              " '32611_NER.txt',\n",
              " '32597_NER.txt',\n",
              " '20104_NER.txt',\n",
              " '10099_NER.txt',\n",
              " '00284_NER.txt',\n",
              " '00169_NER.txt',\n",
              " '20006_NER.txt',\n",
              " '32693_NER.txt',\n",
              " '32718_NER.txt',\n",
              " '32574_NER.txt',\n",
              " '10120_NER.txt',\n",
              " '00705_NER.txt',\n",
              " '20219_NER.txt',\n",
              " '00183_NER.txt',\n",
              " '32703_NER.txt',\n",
              " '10075_NER.txt',\n",
              " '20253_NER.txt',\n",
              " '32530_NER.txt',\n",
              " '00085_NER.txt',\n",
              " '00071_NER.txt',\n",
              " '20100_NER.txt',\n",
              " '00122_NER.txt',\n",
              " '00279_NER.txt',\n",
              " '32569_NER.txt',\n",
              " '00836_NER.txt',\n",
              " '10131_NER.txt',\n",
              " '00022_NER.txt',\n",
              " '00852_NER.txt',\n",
              " '00260_NER.txt',\n",
              " '20125_NER.txt',\n",
              " '20063_NER.txt',\n",
              " '00294_NER.txt',\n",
              " '32573_NER.txt',\n",
              " '10181_NER.txt',\n",
              " '20072_NER.txt',\n",
              " '32654_NER.txt',\n",
              " '00782_NER.txt',\n",
              " '00647_NER.txt',\n",
              " '00819_NER.txt',\n",
              " '32739_NER.txt',\n",
              " '10104_NER.txt',\n",
              " '20083_NER.txt',\n",
              " '00721_NER.txt',\n",
              " '00639_NER.txt',\n",
              " '20097_NER.txt',\n",
              " '10166_NER.txt',\n",
              " '32669_NER.txt',\n",
              " '00214_NER.txt',\n",
              " '00759_NER.txt',\n",
              " '32617_NER.txt',\n",
              " '00243_NER.txt',\n",
              " '32657_NER.txt',\n",
              " '00614_NER.txt',\n",
              " '20208_NER.txt',\n",
              " '00138_NER.txt',\n",
              " '00210_NER.txt',\n",
              " '00814_NER.txt',\n",
              " '32548_NER.txt',\n",
              " '00842_NER.txt',\n",
              " '20169_NER.txt',\n",
              " '20041_NER.txt',\n",
              " '20143_NER.txt',\n",
              " '00728_NER.txt',\n",
              " '20129_NER.txt',\n",
              " '32604_NER.txt',\n",
              " '32702_NER.txt',\n",
              " '00166_NER.txt',\n",
              " '00240_NER.txt',\n",
              " '00646_NER.txt',\n",
              " '20146_NER.txt',\n",
              " '32557_NER.txt',\n",
              " '00121_NER.txt',\n",
              " '20136_NER.txt',\n",
              " '00073_NER.txt',\n",
              " '20054_NER.txt',\n",
              " '00668_NER.txt',\n",
              " '20050_NER.txt',\n",
              " '20028_NER.txt',\n",
              " '32485_NER.txt',\n",
              " '00237_NER.txt',\n",
              " '00245_NER.txt',\n",
              " '00299_NER.txt',\n",
              " '00056_NER.txt',\n",
              " '20240_NER.txt',\n",
              " '32533_NER.txt',\n",
              " '10178_NER.txt',\n",
              " '00248_NER.txt',\n",
              " '00302_NER.txt',\n",
              " '10110_NER.txt',\n",
              " '32686_NER.txt',\n",
              " '32489_NER.txt',\n",
              " '00623_NER.txt',\n",
              " '00164_NER.txt',\n",
              " '10025_NER.txt',\n",
              " '00200_NER.txt',\n",
              " '00702_NER.txt',\n",
              " '00658_NER.txt',\n",
              " '20234_NER.txt',\n",
              " '00012_NER.txt',\n",
              " '10205_NER.txt',\n",
              " '20047_NER.txt',\n",
              " '32689_NER.txt',\n",
              " '10043_NER.txt',\n",
              " '00686_NER.txt',\n",
              " '00691_NER.txt',\n",
              " '20086_NER.txt',\n",
              " '32610_NER.txt',\n",
              " '00828_NER.txt',\n",
              " '20158_NER.txt',\n",
              " '10008_NER.txt',\n",
              " 'EXOBRAIN_NE_CORPUS_010.txt',\n",
              " '01473_NER.txt',\n",
              " '00706_NER.txt',\n",
              " '32685_NER.txt',\n",
              " 'EXOBRAIN_NE_CORPUS_009.txt',\n",
              " '10200_NER.txt',\n",
              " '00873_NER.txt',\n",
              " '00045_NER.txt',\n",
              " '32554_NER.txt',\n",
              " '10171_NER.txt',\n",
              " '00719_NER.txt',\n",
              " '00081_NER.txt',\n",
              " '32744_NER.txt',\n",
              " '32640_NER.txt',\n",
              " '00282_NER.txt',\n",
              " '00829_NER.txt',\n",
              " '00253_NER.txt',\n",
              " '20231_NER.txt',\n",
              " '00778_NER.txt',\n",
              " '10148_NER.txt',\n",
              " '01493_NER.txt',\n",
              " '10246_NER.txt',\n",
              " '10155_NER.txt',\n",
              " '10235_NER.txt',\n",
              " '00211_NER.txt',\n",
              " '00173_NER.txt',\n",
              " '20251_NER.txt',\n",
              " '32656_NER.txt',\n",
              " '32648_NER.txt',\n",
              " '00659_NER.txt',\n",
              " '20233_NER.txt',\n",
              " '00142_NER.txt',\n",
              " '32510_NER.txt',\n",
              " 'EXOBRAIN_NE_CORPUS_007.txt',\n",
              " '00213_NER.txt',\n",
              " '20140_NER.txt',\n",
              " '00816_NER.txt',\n",
              " '00714_NER.txt',\n",
              " '10126_NER.txt',\n",
              " '00021_NER.txt',\n",
              " '32607_NER.txt',\n",
              " '10059_NER.txt',\n",
              " '00257_NER.txt',\n",
              " '00848_NER.txt',\n",
              " '10041_NER.txt',\n",
              " '00700_NER.txt',\n",
              " '20259_NER.txt',\n",
              " '00054_NER.txt',\n",
              " '32649_NER.txt',\n",
              " '32694_NER.txt',\n",
              " '00632_NER.txt',\n",
              " '00058_NER.txt',\n",
              " '20179_NER.txt',\n",
              " '20188_NER.txt',\n",
              " '00643_NER.txt',\n",
              " '00037_NER.txt',\n",
              " '10151_NER.txt',\n",
              " '00862_NER.txt',\n",
              " '20227_NER.txt',\n",
              " '10183_NER.txt',\n",
              " '10011_NER.txt',\n",
              " '00837_NER.txt',\n",
              " '10144_NER.txt',\n",
              " '10237_NER.txt',\n",
              " '00067_NER.txt',\n",
              " '32756_NER.txt',\n",
              " '32646_NER.txt',\n",
              " '00103_NER.txt',\n",
              " '10000_NER.txt',\n",
              " '10153_NER.txt',\n",
              " '10058_NER.txt',\n",
              " '20078_NER.txt',\n",
              " '00208_NER.txt',\n",
              " '20089_NER.txt',\n",
              " '00097_NER.txt',\n",
              " '10063_NER.txt',\n",
              " '00822_NER.txt',\n",
              " '00601_NER.txt',\n",
              " '00112_NER.txt',\n",
              " '00129_NER.txt',\n",
              " '10208_NER.txt',\n",
              " '10207_NER.txt',\n",
              " '01477_NER.txt',\n",
              " '32605_NER.txt',\n",
              " '20124_NER.txt',\n",
              " '32603_NER.txt',\n",
              " '00197_NER.txt',\n",
              " '32709_NER.txt',\n",
              " '00698_NER.txt',\n",
              " '00784_NER.txt',\n",
              " '32502_NER.txt',\n",
              " '32691_NER.txt',\n",
              " '20224_NER.txt',\n",
              " '10082_NER.txt',\n",
              " '00060_NER.txt',\n",
              " '32549_NER.txt',\n",
              " '20202_NER.txt',\n",
              " '20021_NER.txt',\n",
              " '00057_NER.txt',\n",
              " '10184_NER.txt',\n",
              " '10188_NER.txt',\n",
              " '00033_NER.txt',\n",
              " '10109_NER.txt',\n",
              " '10096_NER.txt',\n",
              " '00032_NER.txt',\n",
              " '00786_NER.txt',\n",
              " '00751_NER.txt',\n",
              " '00678_NER.txt',\n",
              " '00087_NER.txt',\n",
              " '20020_NER.txt',\n",
              " '00624_NER.txt',\n",
              " '00838_NER.txt',\n",
              " '10162_NER.txt',\n",
              " '20000_NER.txt',\n",
              " '10017_NER.txt',\n",
              " '00720_NER.txt',\n",
              " '32753_NER.txt',\n",
              " '00068_NER.txt',\n",
              " '00631_NER.txt',\n",
              " '20108_NER.txt',\n",
              " '00144_NER.txt',\n",
              " '01476_NER.txt',\n",
              " '00224_NER.txt',\n",
              " '32724_NER.txt',\n",
              " '00133_NER.txt',\n",
              " '32580_NER.txt',\n",
              " '00063_NER.txt',\n",
              " '20066_NER.txt',\n",
              " '10036_NER.txt',\n",
              " '20001_NER.txt',\n",
              " '00242_NER.txt',\n",
              " '32730_NER.txt',\n",
              " '00754_NER.txt',\n",
              " '00290_NER.txt',\n",
              " '10074_NER.txt',\n",
              " '00682_NER.txt',\n",
              " '00286_NER.txt',\n",
              " '10116_NER.txt',\n",
              " '20057_NER.txt',\n",
              " '10028_NER.txt',\n",
              " '00220_NER.txt',\n",
              " '10132_NER.txt',\n",
              " '00256_NER.txt',\n",
              " '20156_NER.txt',\n",
              " '10102_NER.txt',\n",
              " '00105_NER.txt',\n",
              " '10029_NER.txt',\n",
              " '32644_NER.txt',\n",
              " '32763_NER.txt',\n",
              " '01491_NER.txt',\n",
              " '00040_NER.txt',\n",
              " '20084_NER.txt',\n",
              " '00812_NER.txt',\n",
              " '00636_NER.txt',\n",
              " '32743_NER.txt',\n",
              " '20113_NER.txt',\n",
              " '00604_NER.txt',\n",
              " '00205_NER.txt',\n",
              " '32532_NER.txt',\n",
              " '20051_NER.txt',\n",
              " '00641_NER.txt',\n",
              " '10245_NER.txt',\n",
              " '00207_NER.txt',\n",
              " '20116_NER.txt',\n",
              " '32556_NER.txt',\n",
              " '00139_NER.txt',\n",
              " '01478_NER.txt',\n",
              " '00645_NER.txt',\n",
              " '32678_NER.txt',\n",
              " '00222_NER.txt',\n",
              " '20105_NER.txt',\n",
              " '32701_NER.txt',\n",
              " '20195_NER.txt',\n",
              " '00799_NER.txt',\n",
              " '32547_NER.txt',\n",
              " '00113_NER.txt',\n",
              " '32681_NER.txt',\n",
              " '32696_NER.txt',\n",
              " '32688_NER.txt',\n",
              " '00790_NER.txt',\n",
              " '32506_NER.txt',\n",
              " '20004_NER.txt',\n",
              " '32643_NER.txt',\n",
              " '32553_NER.txt',\n",
              " '10160_NER.txt',\n",
              " '00845_NER.txt',\n",
              " '10135_NER.txt',\n",
              " '32563_NER.txt',\n",
              " '00606_NER.txt',\n",
              " '10186_NER.txt',\n",
              " '00147_NER.txt',\n",
              " '10180_NER.txt',\n",
              " '20099_NER.txt',\n",
              " '32687_NER.txt',\n",
              " '10243_NER.txt',\n",
              " '10009_NER.txt',\n",
              " '10103_NER.txt',\n",
              " '10049_NER.txt',\n",
              " '20186_NER.txt',\n",
              " '32619_NER.txt',\n",
              " '00674_NER.txt',\n",
              " '20014_NER.txt',\n",
              " '00182_NER.txt',\n",
              " '20230_NER.txt',\n",
              " '00667_NER.txt',\n",
              " '00859_NER.txt',\n",
              " '10100_NER.txt',\n",
              " '00209_NER.txt',\n",
              " '10019_NER.txt',\n",
              " '32598_NER.txt',\n",
              " '00730_NER.txt',\n",
              " '00871_NER.txt',\n",
              " '32766_NER.txt',\n",
              " '00670_NER.txt',\n",
              " '32704_NER.txt',\n",
              " '32613_NER.txt',\n",
              " '10195_NER.txt',\n",
              " '10015_NER.txt',\n",
              " '00269_NER.txt',\n",
              " '20011_NER.txt',\n",
              " '00165_NER.txt',\n",
              " '32559_NER.txt',\n",
              " '32664_NER.txt',\n",
              " '01465_NER.txt',\n",
              " '20244_NER.txt',\n",
              " '10076_NER.txt',\n",
              " '00233_NER.txt',\n",
              " '00185_NER.txt',\n",
              " '00020_NER.txt',\n",
              " '10173_NER.txt',\n",
              " '00697_NER.txt',\n",
              " '01487_NER.txt',\n",
              " '10045_NER.txt',\n",
              " '20183_NER.txt',\n",
              " '00798_NER.txt',\n",
              " '32755_NER.txt',\n",
              " '00130_NER.txt',\n",
              " '20148_NER.txt',\n",
              " '00174_NER.txt',\n",
              " '00628_NER.txt',\n",
              " '10112_NER.txt',\n",
              " '00872_NER.txt',\n",
              " '10001_NER.txt',\n",
              " '01461_NER.txt',\n",
              " '32520_NER.txt',\n",
              " '10062_NER.txt',\n",
              " '20075_NER.txt',\n",
              " '00831_NER.txt',\n",
              " '00708_NER.txt',\n",
              " '00263_NER.txt',\n",
              " '32567_NER.txt',\n",
              " '00120_NER.txt',\n",
              " '00671_NER.txt',\n",
              " '32544_NER.txt',\n",
              " '32700_NER.txt',\n",
              " '00789_NER.txt',\n",
              " '00311_NER.txt',\n",
              " '00010_NER.txt',\n",
              " '32673_NER.txt',\n",
              " '00069_NER.txt',\n",
              " '00695_NER.txt',\n",
              " '00135_NER.txt',\n",
              " '20149_NER.txt',\n",
              " '00304_NER.txt',\n",
              " '32570_NER.txt',\n",
              " '00223_NER.txt',\n",
              " '32624_NER.txt',\n",
              " '32710_NER.txt',\n",
              " '20029_NER.txt',\n",
              " '20025_NER.txt',\n",
              " '32679_NER.txt',\n",
              " '00119_NER.txt',\n",
              " '10142_NER.txt',\n",
              " '00612_NER.txt',\n",
              " '00039_NER.txt',\n",
              " '00673_NER.txt',\n",
              " '00126_NER.txt',\n",
              " '20042_NER.txt',\n",
              " '32602_NER.txt',\n",
              " '32699_NER.txt',\n",
              " '10111_NER.txt',\n",
              " '10094_NER.txt',\n",
              " '00863_NER.txt',\n",
              " '00810_NER.txt',\n",
              " '10139_NER.txt',\n",
              " '32719_NER.txt',\n",
              " '00616_NER.txt',\n",
              " '01469_NER.txt',\n",
              " '20215_NER.txt',\n",
              " '10129_NER.txt',\n",
              " '10005_NER.txt',\n",
              " '10233_NER.txt',\n",
              " '10240_NER.txt',\n",
              " '32599_NER.txt',\n",
              " '00758_NER.txt',\n",
              " '10210_NER.txt',\n",
              " '00091_NER.txt',\n",
              " 'EXOBRAIN_NE_CORPUS_002.txt',\n",
              " '00241_NER.txt',\n",
              " '00141_NER.txt',\n",
              " '32651_NER.txt',\n",
              " '10176_NER.txt',\n",
              " '00688_NER.txt',\n",
              " '00296_NER.txt',\n",
              " '00244_NER.txt',\n",
              " '00108_NER.txt',\n",
              " '00663_NER.txt',\n",
              " '20176_NER.txt',\n",
              " '10069_NER.txt',\n",
              " '00137_NER.txt',\n",
              " '00739_NER.txt',\n",
              " '32486_NER.txt',\n",
              " '01467_NER.txt',\n",
              " '32765_NER.txt',\n",
              " '10201_NER.txt',\n",
              " '00818_NER.txt',\n",
              " '10038_NER.txt',\n",
              " '32620_NER.txt',\n",
              " '10225_NER.txt',\n",
              " '00023_NER.txt',\n",
              " '10168_NER.txt',\n",
              " '32529_NER.txt',\n",
              " '20132_NER.txt',\n",
              " '20038_NER.txt',\n",
              " '32498_NER.txt',\n",
              " '10141_NER.txt',\n",
              " '10121_NER.txt',\n",
              " '00301_NER.txt',\n",
              " '00704_NER.txt',\n",
              " '00642_NER.txt',\n",
              " '10204_NER.txt',\n",
              " '10150_NER.txt',\n",
              " '10056_NER.txt',\n",
              " '10216_NER.txt',\n",
              " '32501_NER.txt',\n",
              " '10113_NER.txt',\n",
              " '00161_NER.txt',\n",
              " '20161_NER.txt',\n",
              " '00711_NER.txt',\n",
              " '20055_NER.txt',\n",
              " '00190_NER.txt',\n",
              " '00746_NER.txt',\n",
              " '00866_NER.txt',\n",
              " '10079_NER.txt',\n",
              " 'EXOBRAIN_NE_CORPUS_004.txt',\n",
              " '00657_NER.txt',\n",
              " '00725_NER.txt',\n",
              " '00228_NER.txt',\n",
              " '10236_NER.txt',\n",
              " '10163_NER.txt',\n",
              " '32672_NER.txt',\n",
              " '00779_NER.txt',\n",
              " '20194_NER.txt',\n",
              " '20119_NER.txt',\n",
              " '00603_NER.txt',\n",
              " '00804_NER.txt',\n",
              " '32692_NER.txt',\n",
              " '00281_NER.txt',\n",
              " '20145_NER.txt',\n",
              " '10241_NER.txt',\n",
              " '32745_NER.txt',\n",
              " '00192_NER.txt',\n",
              " '32590_NER.txt',\n",
              " '20040_NER.txt',\n",
              " '20166_NER.txt',\n",
              " '32674_NER.txt',\n",
              " '00157_NER.txt',\n",
              " '00198_NER.txt',\n",
              " '10123_NER.txt',\n",
              " '10093_NER.txt',\n",
              " '00861_NER.txt',\n",
              " '10227_NER.txt',\n",
              " '00736_NER.txt',\n",
              " '32741_NER.txt',\n",
              " '10016_NER.txt',\n",
              " '32671_NER.txt',\n",
              " '01494_NER.txt',\n",
              " '32616_NER.txt',\n",
              " '20252_NER.txt',\n",
              " '00028_NER.txt',\n",
              " '00321_NER.txt',\n",
              " '00094_NER.txt',\n",
              " '00227_NER.txt',\n",
              " '10202_NER.txt',\n",
              " '00151_NER.txt',\n",
              " '00607_NER.txt',\n",
              " '00651_NER.txt',\n",
              " '20103_NER.txt',\n",
              " '20207_NER.txt',\n",
              " '20213_NER.txt',\n",
              " '00722_NER.txt',\n",
              " '20235_NER.txt',\n",
              " '32534_NER.txt',\n",
              " '20110_NER.txt',\n",
              " '20142_NER.txt',\n",
              " '20180_NER.txt',\n",
              " '32690_NER.txt',\n",
              " '00266_NER.txt',\n",
              " '00622_NER.txt',\n",
              " '32524_NER.txt',\n",
              " '32706_NER.txt',\n",
              " '20232_NER.txt',\n",
              " '00844_NER.txt',\n",
              " '10077_NER.txt',\n",
              " '00637_NER.txt',\n",
              " '32653_NER.txt',\n",
              " '32509_NER.txt',\n",
              " '20032_NER.txt',\n",
              " '10174_NER.txt',\n",
              " '32759_NER.txt',\n",
              " '20120_NER.txt',\n",
              " '32515_NER.txt',\n",
              " '32500_NER.txt',\n",
              " '32734_NER.txt',\n",
              " '00029_NER.txt',\n",
              " '10095_NER.txt',\n",
              " '00776_NER.txt',\n",
              " '00052_NER.txt',\n",
              " '10119_NER.txt',\n",
              " '32519_NER.txt',\n",
              " '32513_NER.txt',\n",
              " '10122_NER.txt',\n",
              " '10124_NER.txt',\n",
              " '20135_NER.txt',\n",
              " '00620_NER.txt',\n",
              " '00797_NER.txt',\n",
              " '10229_NER.txt',\n",
              " '00729_NER.txt',\n",
              " '00072_NER.txt',\n",
              " '10046_NER.txt',\n",
              " '00217_NER.txt',\n",
              " '01475_NER.txt',\n",
              " '00696_NER.txt',\n",
              " '00771_NER.txt',\n",
              " '32540_NER.txt',\n",
              " '32697_NER.txt',\n",
              " '00723_NER.txt',\n",
              " '00734_NER.txt',\n",
              " '00602_NER.txt',\n",
              " '10106_NER.txt',\n",
              " '32636_NER.txt',\n",
              " '00796_NER.txt',\n",
              " '00319_NER.txt',\n",
              " '00709_NER.txt',\n",
              " '00008_NER.txt',\n",
              " '32658_NER.txt',\n",
              " '20061_NER.txt',\n",
              " '00065_NER.txt',\n",
              " '32578_NER.txt',\n",
              " '00115_NER.txt',\n",
              " '32754_NER.txt',\n",
              " '10193_NER.txt',\n",
              " '10118_NER.txt',\n",
              " '00034_NER.txt',\n",
              " '00741_NER.txt',\n",
              " '32606_NER.txt',\n",
              " '20012_NER.txt',\n",
              " '00724_NER.txt',\n",
              " '10091_NER.txt',\n",
              " '01468_NER.txt',\n",
              " '20069_NER.txt',\n",
              " '10047_NER.txt',\n",
              " '32757_NER.txt',\n",
              " '32583_NER.txt',\n",
              " '20036_NER.txt',\n",
              " '10170_NER.txt',\n",
              " '10196_NER.txt',\n",
              " '32572_NER.txt',\n",
              " '32546_NER.txt',\n",
              " '32538_NER.txt',\n",
              " '10165_NER.txt',\n",
              " '20007_NER.txt',\n",
              " '00662_NER.txt',\n",
              " '32682_NER.txt',\n",
              " '20220_NER.txt',\n",
              " '10213_NER.txt',\n",
              " '00635_NER.txt',\n",
              " '10149_NER.txt',\n",
              " '20226_NER.txt',\n",
              " '10042_NER.txt',\n",
              " '20250_NER.txt',\n",
              " '00857_NER.txt',\n",
              " '00685_NER.txt',\n",
              " '32587_NER.txt',\n",
              " '32660_NER.txt',\n",
              " '00752_NER.txt',\n",
              " '32695_NER.txt',\n",
              " '10167_NER.txt',\n",
              " '10248_NER.txt',\n",
              " '00755_NER.txt',\n",
              " '00291_NER.txt',\n",
              " '10088_NER.txt',\n",
              " '10159_NER.txt',\n",
              " '00664_NER.txt',\n",
              " '10030_NER.txt',\n",
              " '32764_NER.txt',\n",
              " '32738_NER.txt',\n",
              " '20062_NER.txt',\n",
              " '32728_NER.txt',\n",
              " '20059_NER.txt',\n",
              " '00740_NER.txt',\n",
              " '10211_NER.txt',\n",
              " '32550_NER.txt',\n",
              " '00262_NER.txt',\n",
              " '32484_NER.txt',\n",
              " '10152_NER.txt',\n",
              " '20205_NER.txt',\n",
              " '00795_NER.txt',\n",
              " '01497_NER.txt',\n",
              " '00204_NER.txt',\n",
              " '00756_NER.txt',\n",
              " '20109_NER.txt',\n",
              " '01466_NER.txt',\n",
              " '00638_NER.txt',\n",
              " '00775_NER.txt',\n",
              " '32748_NER.txt',\n",
              " '00218_NER.txt',\n",
              " '32492_NER.txt',\n",
              " '20246_NER.txt',\n",
              " '32621_NER.txt',\n",
              " '20137_NER.txt',\n",
              " '20090_NER.txt',\n",
              " '00322_NER.txt',\n",
              " '20184_NER.txt',\n",
              " '00254_NER.txt',\n",
              " '00251_NER.txt',\n",
              " '00750_NER.txt',\n",
              " '00191_NER.txt',\n",
              " '20217_NER.txt',\n",
              " '20181_NER.txt',\n",
              " '00649_NER.txt',\n",
              " '20070_NER.txt',\n",
              " '00232_NER.txt',\n",
              " '00088_NER.txt',\n",
              " '20023_NER.txt',\n",
              " '10145_NER.txt',\n",
              " '00306_NER.txt',\n",
              " '32490_NER.txt',\n",
              " '10021_NER.txt',\n",
              " '20024_NER.txt',\n",
              " '00030_NER.txt',\n",
              " '10035_NER.txt',\n",
              " 'EXOBRAIN_NE_CORPUS_003.txt',\n",
              " '10175_NER.txt',\n",
              " '00078_NER.txt',\n",
              " '20256_NER.txt',\n",
              " '32584_NER.txt',\n",
              " '20016_NER.txt',\n",
              " '00159_NER.txt',\n",
              " '32736_NER.txt',\n",
              " '20162_NER.txt',\n",
              " '00053_NER.txt',\n",
              " '00059_NER.txt',\n",
              " '00110_NER.txt',\n",
              " '20178_NER.txt',\n",
              " '32528_NER.txt',\n",
              " '32737_NER.txt',\n",
              " '00009_NER.txt',\n",
              " '32568_NER.txt',\n",
              " '00148_NER.txt',\n",
              " '00855_NER.txt',\n",
              " '32667_NER.txt',\n",
              " '32630_NER.txt',\n",
              " '00324_NER.txt',\n",
              " '00212_NER.txt',\n",
              " '32666_NER.txt',\n",
              " '00048_NER.txt',\n",
              " '00016_NER.txt',\n",
              " '00265_NER.txt',\n",
              " '00264_NER.txt',\n",
              " '32632_NER.txt',\n",
              " '32543_NER.txt',\n",
              " '20130_NER.txt',\n",
              " '00276_NER.txt',\n",
              " '00680_NER.txt',\n",
              " '32662_NER.txt',\n",
              " '32762_NER.txt',\n",
              " '00136_NER.txt',\n",
              " '00629_NER.txt',\n",
              " '00820_NER.txt',\n",
              " '20151_NER.txt',\n",
              " '00042_NER.txt',\n",
              " '00868_NER.txt',\n",
              " '32564_NER.txt',\n",
              " '00050_NER.txt',\n",
              " '10138_NER.txt',\n",
              " '10199_NER.txt',\n",
              " '32647_NER.txt',\n",
              " '00098_NER.txt',\n",
              " '00312_NER.txt',\n",
              " '20013_NER.txt',\n",
              " '00038_NER.txt',\n",
              " '10115_NER.txt',\n",
              " '00689_NER.txt',\n",
              " '10107_NER.txt',\n",
              " '20094_NER.txt',\n",
              " '32761_NER.txt',\n",
              " '32726_NER.txt',\n",
              " '20035_NER.txt',\n",
              " '10161_NER.txt',\n",
              " '00027_NER.txt',\n",
              " '20223_NER.txt',\n",
              " '20034_NER.txt',\n",
              " '10027_NER.txt',\n",
              " '00274_NER.txt',\n",
              " '20044_NER.txt',\n",
              " '20003_NER.txt',\n",
              " '00285_NER.txt',\n",
              " '00153_NER.txt',\n",
              " '32561_NER.txt',\n",
              " '20133_NER.txt',\n",
              " '32740_NER.txt',\n",
              " '00318_NER.txt',\n",
              " '32683_NER.txt',\n",
              " '00043_NER.txt',\n",
              " '20153_NER.txt',\n",
              " '00044_NER.txt',\n",
              " '32676_NER.txt',\n",
              " '10055_NER.txt',\n",
              " '00609_NER.txt',\n",
              " '20077_NER.txt',\n",
              " '32725_NER.txt',\n",
              " '00821_NER.txt',\n",
              " '20239_NER.txt',\n",
              " '00066_NER.txt',\n",
              " '00277_NER.txt',\n",
              " '32494_NER.txt',\n",
              " '00745_NER.txt',\n",
              " '10114_NER.txt',\n",
              " '32555_NER.txt',\n",
              " '01471_NER.txt',\n",
              " '32496_NER.txt',\n",
              " '00283_NER.txt',\n",
              " '32635_NER.txt',\n",
              " '00853_NER.txt',\n",
              " '20027_NER.txt',\n",
              " '20045_NER.txt',\n",
              " '10157_NER.txt',\n",
              " '00615_NER.txt',\n",
              " '00738_NER.txt',\n",
              " '00143_NER.txt',\n",
              " '00194_NER.txt',\n",
              " '20209_NER.txt',\n",
              " '00079_NER.txt',\n",
              " '00176_NER.txt',\n",
              " '20080_NER.txt',\n",
              " '00618_NER.txt',\n",
              " '00731_NER.txt',\n",
              " '32558_NER.txt',\n",
              " '20204_NER.txt',\n",
              " '00600_NER.txt',\n",
              " '10230_NER.txt',\n",
              " '10234_NER.txt',\n",
              " '20018_NER.txt',\n",
              " '20228_NER.txt',\n",
              " '00189_NER.txt',\n",
              " '00718_NER.txt',\n",
              " '00280_NER.txt',\n",
              " '32588_NER.txt',\n",
              " '32639_NER.txt',\n",
              " '00255_NER.txt',\n",
              " '10073_NER.txt',\n",
              " '00075_NER.txt',\n",
              " '00239_NER.txt',\n",
              " '00292_NER.txt',\n",
              " '10051_NER.txt',\n",
              " '00681_NER.txt',\n",
              " '20191_NER.txt',\n",
              " '32735_NER.txt',\n",
              " '20102_NER.txt',\n",
              " '20141_NER.txt',\n",
              " '20015_NER.txt',\n",
              " '00047_NER.txt',\n",
              " '32767_NER.txt',\n",
              " '32523_NER.txt',\n",
              " '00249_NER.txt',\n",
              " '00201_NER.txt',\n",
              " '00128_NER.txt',\n",
              " '20206_NER.txt',\n",
              " '00860_NER.txt',\n",
              " '20189_NER.txt',\n",
              " '10220_NER.txt',\n",
              " '20237_NER.txt',\n",
              " '32577_NER.txt',\n",
              " '00875_NER.txt',\n",
              " '20216_NER.txt',\n",
              " '00096_NER.txt',\n",
              " '20147_NER.txt',\n",
              " '10012_NER.txt',\n",
              " '00100_NER.txt',\n",
              " '20073_NER.txt',\n",
              " '00154_NER.txt',\n",
              " '00666_NER.txt',\n",
              " '32542_NER.txt',\n",
              " '00270_NER.txt',\n",
              " '00748_NER.txt',\n",
              " '01485_NER.txt',\n",
              " '20060_NER.txt',\n",
              " '00652_NER.txt',\n",
              " '10070_NER.txt',\n",
              " '00744_NER.txt',\n",
              " '20033_NER.txt',\n",
              " '32729_NER.txt',\n",
              " '10203_NER.txt',\n",
              " '20222_NER.txt',\n",
              " '00261_NER.txt',\n",
              " '00815_NER.txt',\n",
              " '32566_NER.txt',\n",
              " '10090_NER.txt',\n",
              " '10192_NER.txt',\n",
              " '10146_NER.txt',\n",
              " '32698_NER.txt',\n",
              " '10214_NER.txt',\n",
              " '10156_NER.txt',\n",
              " '00692_NER.txt',\n",
              " '00080_NER.txt',\n",
              " '00699_NER.txt',\n",
              " '10018_NER.txt',\n",
              " '01463_NER.txt',\n",
              " '00025_NER.txt',\n",
              " '20091_NER.txt',\n",
              " '32517_NER.txt',\n",
              " '32551_NER.txt',\n",
              " '32634_NER.txt',\n",
              " '00621_NER.txt',\n",
              " '00323_NER.txt',\n",
              " '10172_NER.txt',\n",
              " '00710_NER.txt',\n",
              " '20168_NER.txt',\n",
              " '00005_NER.txt',\n",
              " '00247_NER.txt',\n",
              " '00298_NER.txt',\n",
              " '00679_NER.txt',\n",
              " '00013_NER.txt',\n",
              " '01479_NER.txt',\n",
              " '20039_NER.txt',\n",
              " '00317_NER.txt',\n",
              " '32487_NER.txt',\n",
              " '01486_NER.txt',\n",
              " '20174_NER.txt',\n",
              " '20193_NER.txt',\n",
              " '00846_NER.txt',\n",
              " '00634_NER.txt',\n",
              " '10092_NER.txt',\n",
              " '10065_NER.txt',\n",
              " '10209_NER.txt',\n",
              " '32749_NER.txt',\n",
              " '20254_NER.txt',\n",
              " '00229_NER.txt',\n",
              " '32518_NER.txt',\n",
              " '00203_NER.txt',\n",
              " '32495_NER.txt',\n",
              " '00774_NER.txt',\n",
              " '10130_NER.txt',\n",
              " '20221_NER.txt',\n",
              " '10221_NER.txt',\n",
              " '00854_NER.txt',\n",
              " '20114_NER.txt',\n",
              " '00219_NER.txt',\n",
              " '20164_NER.txt',\n",
              " '00131_NER.txt',\n",
              " '00177_NER.txt',\n",
              " '32503_NER.txt',\n",
              " '20157_NER.txt',\n",
              " '32596_NER.txt',\n",
              " '20238_NER.txt',\n",
              " '32708_NER.txt',\n",
              " '01492_NER.txt',\n",
              " '32536_NER.txt',\n",
              " '00259_NER.txt',\n",
              " '00305_NER.txt',\n",
              " 'EXOBRAIN_NE_CORPUS_006.txt',\n",
              " '20177_NER.txt',\n",
              " '00781_NER.txt',\n",
              " '10002_NER.txt',\n",
              " '00252_NER.txt',\n",
              " '01472_NER.txt',\n",
              " '20167_NER.txt',\n",
              " '00186_NER.txt',\n",
              " '00648_NER.txt',\n",
              " '10061_NER.txt',\n",
              " '00170_NER.txt',\n",
              " '00017_NER.txt',\n",
              " '00150_NER.txt',\n",
              " '10239_NER.txt',\n",
              " '32733_NER.txt',\n",
              " '00195_NER.txt',\n",
              " '01489_NER.txt',\n",
              " '00095_NER.txt',\n",
              " '10013_NER.txt',\n",
              " '00246_NER.txt',\n",
              " '00099_NER.txt',\n",
              " '20009_NER.txt',\n",
              " '00865_NER.txt',\n",
              " '01490_NER.txt',\n",
              " '20196_NER.txt',\n",
              " '32626_NER.txt',\n",
              " '00733_NER.txt',\n",
              " '20065_NER.txt',\n",
              " '32512_NER.txt',\n",
              " '00783_NER.txt',\n",
              " '10158_NER.txt',\n",
              " '00727_NER.txt',\n",
              " '32722_NER.txt',\n",
              " '00802_NER.txt',\n",
              " '10010_NER.txt',\n",
              " '00808_NER.txt',\n",
              " '00712_NER.txt',\n",
              " '00644_NER.txt',\n",
              " '32482_NER.txt',\n",
              " '20096_NER.txt',\n",
              " '32511_NER.txt',\n",
              " '20031_NER.txt',\n",
              " '32711_NER.txt',\n",
              " '32576_NER.txt',\n",
              " '00111_NER.txt',\n",
              " '32491_NER.txt',\n",
              " '32586_NER.txt',\n",
              " '20187_NER.txt',\n",
              " '10169_NER.txt',\n",
              " ...]"
            ]
          },
          "metadata": {
            "tags": []
          },
          "execution_count": 10
        }
      ]
    },
    {
      "cell_type": "code",
      "metadata": {
        "id": "zVYlyVOriQhU"
      },
      "source": [
        "# files = os.listdir('/content/drive/MyDrive/ict-ai-복합고급언어-nlp/data/ner') # 경로복사해주고\n",
        "# files\n"
      ],
      "execution_count": null,
      "outputs": []
    },
    {
      "cell_type": "code",
      "metadata": {
        "colab": {
          "base_uri": "https://localhost:8080/"
        },
        "id": "m7d8TTmsX0ZQ",
        "outputId": "563de213-8b30-410b-c293-16d141a956ca"
      },
      "source": [
        "with open(os.path.join('/content/NER/말뭉치 - 형태소_개체명', files[0])) as f:\n",
        "    for i ,line in enumerate(f):\n",
        "        line = line.strip() #strip안하면 개행문자가 되니까 2줄이 되지\n",
        "        print(line)\n",
        "        if i > 100:\n",
        "             break\n",
        "\n",
        "#음 앞에 ## 을 잘 처리해보자"
      ],
      "execution_count": null,
      "outputs": [
        {
          "output_type": "stream",
          "text": [
            "## 1\n",
            "## 그는 자신과 함께 ‘박 남매’로 불렸던 더불어민주당 박영선 의원을 예로 들며 “앵커 출신이라 전달력이 좋다”며 “박 의원이 야성(野性)에다 미모를 갖춰 법제사법위원회에서 항상 히트를 쳤다.\n",
            "## 그는 자신과 함께 ‘<박:PER> 남매’로 불렸던 <더불어민주당:ORG> <박영선:PER> 의원을 예로 들며 “앵커 출신이라 전달력이 좋다”며 “<박:PER> 의원이 야성(野性)에다 미모를 갖춰 <법제사법위원회:ORG>에서 항상 히트를 쳤다.\n",
            "그\t그\tNP\tO\n",
            "는\t는\tJX\tO\n",
            "_\t_\t_\tO\n",
            "자신\t자신\tNNG\tO\n",
            "과\t과\tJKB\tO\n",
            "_\t_\t_\tO\n",
            "함께\t함께\tMAG\tO\n",
            "_\t_\t_\tO\n",
            "‘\t‘\tSS\tO\n",
            "박\t박\tNNP\tB-PER\n",
            "_\t_\t_\tO\n",
            "남매\t남매\tNNG\tO\n",
            "’\t’\tSS\tO\n",
            "로\t로\tJKB\tO\n",
            "_\t_\t_\tO\n",
            "불\t불리\tVV\tO\n",
            "렸\t었\tEP\tO\n",
            "던\t던\tETM\tO\n",
            "_\t_\t_\tO\n",
            "더불\t더불\tVV\tB-ORG\n",
            "어\t어\tEC\tI-ORG\n",
            "민주당\t민주당\tNNP\tI-ORG\n",
            "_\t_\t_\tO\n",
            "박영선\t박영선\tNNP\tB-PER\n",
            "_\t_\t_\tO\n",
            "의원\t의원\tNNG\tO\n",
            "을\t을\tJKO\tO\n",
            "_\t_\t_\tO\n",
            "예\t예\tNNG\tO\n",
            "로\t로\tJKB\tO\n",
            "_\t_\t_\tO\n",
            "들\t들\tVV\tO\n",
            "며\t며\tEC\tO\n",
            "_\t_\t_\tO\n",
            "“\t“\tSS\tO\n",
            "앵커\t앵커\tNNG\tO\n",
            "_\t_\t_\tO\n",
            "출신\t출신\tNNG\tO\n",
            "이\t이\tVCP\tO\n",
            "라\t라\tEC\tO\n",
            "_\t_\t_\tO\n",
            "전달\t전달\tNNG\tO\n",
            "력\t력\tXSN\tO\n",
            "이\t이\tJKS\tO\n",
            "_\t_\t_\tO\n",
            "좋\t좋\tVA\tO\n",
            "다\t다\tEF\tO\n",
            "”\t”\tSS\tO\n",
            "며\t며\tEC\tO\n",
            "_\t_\t_\tO\n",
            "“\t“\tSS\tO\n",
            "박\t박\tNNP\tB-PER\n",
            "_\t_\t_\tO\n",
            "의원\t의원\tNNG\tO\n",
            "이\t이\tJKS\tO\n",
            "_\t_\t_\tO\n",
            "야성\t야성\tNNG\tO\n",
            "(\t(\tSS\tO\n",
            "野性\t野性\tSH\tO\n",
            ")\t)\tSS\tO\n",
            "에다\t에다\tJKB\tO\n",
            "_\t_\t_\tO\n",
            "미모\t미모\tNNG\tO\n",
            "를\t를\tJKO\tO\n",
            "_\t_\t_\tO\n",
            "갖춰\t갖추+어\tVV+EC\tO\n",
            "_\t_\t_\tO\n",
            "법제\t법제\tNNG\tB-ORG\n",
            "사법\t사법\tNNG\tI-ORG\n",
            "위원회\t위원회\tNNG\tI-ORG\n",
            "에서\t에서\tJKB\tO\n",
            "_\t_\t_\tO\n",
            "항상\t항상\tMAG\tO\n",
            "_\t_\t_\tO\n",
            "히트\t히트\tNNG\tO\n",
            "를\t를\tJKO\tO\n",
            "_\t_\t_\tO\n",
            "쳤\t+었\t+EP\tO\n",
            "다\t다\tEF\tO\n",
            ".\t.\tSF\tO\n",
            "\n",
            "## 2\n",
            "## 링컨은 이날 경쟁차로 메르세데스-벤츠 S클래스, BMW 7시리즈 같은 대형 세단을 꼽았다.\n",
            "## <링컨:PER>은 이날 경쟁차로 <메르세데스-벤츠:ORG> <S클래스:POH>, <BMW 7시리즈:POH> 같은 대형 세단을 꼽았다.\n",
            "링컨\t링컨\tNNP\tB-PER\n",
            "은\t은\tJX\tO\n",
            "_\t_\t_\tO\n",
            "이날\t이날\tNNG\tO\n",
            "_\t_\t_\tO\n",
            "경쟁\t경쟁\tNNG\tO\n",
            "차\t차\tNNG\tO\n",
            "로\t로\tJKB\tO\n",
            "_\t_\t_\tO\n",
            "메르세데스\t메르세데스\tNNP\tB-ORG\n",
            "-\t-\tSO\tI-ORG\n",
            "벤츠\t벤츠\tNNP\tI-ORG\n",
            "_\t_\t_\tO\n",
            "S\tS\tSL\tB-POH\n",
            "클래스\t클래스\tNNG\tI-POH\n"
          ],
          "name": "stdout"
        }
      ]
    },
    {
      "cell_type": "code",
      "metadata": {
        "id": "1agBwkPXYQ5L"
      },
      "source": [
        "def get_raw_data(filepath):\n",
        "    texts, labels = [], []\n",
        "    with open(filepath) as f:\n",
        "        sharp_count = 0\n",
        "        # text, label = '',''\n",
        "        for line in f:\n",
        "            line = line.strip()\n",
        "            # print(line)\n",
        "            if line.startswith('##'):\n",
        "                sharp_count += 1\n",
        "                # print(sharp_count,line)\n",
        "                if sharp_count == 1:\n",
        "                    pass\n",
        "                elif sharp_count ==2:\n",
        "                    text = ' '.join(line[3:].split()) # 띄어쓰기가 2,3개 이상으로 오타날수 잇잖아\n",
        "                elif sharp_count == 3:\n",
        "                    label = ' '.join(line[3:].split()) # 띄어쓰기가 2,3개 이상으로 오타날수 잇잖아\n",
        "                    texts.append(text)\n",
        "                    labels.append(label)\n",
        "                    # print(text)\n",
        "                    # print(label)\n",
        "            else:\n",
        "                sharp_count = 0\n",
        "                text, label = '',''\n",
        "            # print(sharp_count, line)\n",
        "                \n",
        "    return texts, labels"
      ],
      "execution_count": null,
      "outputs": []
    },
    {
      "cell_type": "code",
      "metadata": {
        "colab": {
          "base_uri": "https://localhost:8080/"
        },
        "id": "V0bWY9aaYgUI",
        "outputId": "85bd11bd-33cc-4f31-bb93-c01b77192394"
      },
      "source": [
        "get_raw_data(os.path.join('/content/NER/말뭉치 - 형태소_개체명', files[1]))"
      ],
      "execution_count": null,
      "outputs": [
        {
          "output_type": "execute_result",
          "data": {
            "text/plain": [
              "(['루비오에 대해서도 “왜 (폭스뉴스 같은) 주류 언론이 루비오 같은 친구가 승리했다고 치켜세우는지 모르겠다.',\n",
              "  '미셸 위는 지난 2014년 메이저 대회인 US여자오픈을 비롯해 시즌 2승을 거두며 최고의 해를 보냈다.',\n",
              "  '‘힐스테이트 태전’은 지하 3층, 지상 최고 23층 40개 동 전용면적 59∼84m² 총 3146채로 이뤄졌다.',\n",
              "  '25.7㎡(약 7.8평) 크기인 김씨의 새집은 추석 전인 오는 20일 완공될 예정이다.',\n",
              "  '장타를 앞세워 많은 타수를 줄이는 박성현의 화끈한 공격골프를 가장 잘 보여주는 대목이기도 하다.',\n",
              "  '그러나콘래드 힐튼의 변호인 측은 \"수면제로 인한 폭력적 성향의 부작용\"이라고 적극 해명했다.',\n",
              "  '이번 행사는 오는 7일까지 진행된다.',\n",
              "  '목타는 가뭄과 폭염이 계속되는 가운데 제7호 태풍 「월트」가 22일 진로를 바꾸어 한반도를 향해 접근하고 있다.'],\n",
              " ['<루비오:PER>에 대해서도 “왜 (<폭스뉴스:ORG> 같은) 주류 언론이 <루비오:PER> 같은 친구가 승리했다고 치켜세우는지 모르겠다.',\n",
              "  '<미셸 위:PER>는 지난 <2014년:DAT> 메이저 대회인 <US여자오픈:POH>을 비롯해 시즌 <2승:NOH>을 거두며 최고의 해를 보냈다.',\n",
              "  '‘<힐스테이트 태전:LOC>’은 지하 <3층:NOH>, 지상 최고 <23층:NOH> <40개:NOH> 동 전용면적 <59:NOH>∼<84m²:NOH> 총 <3146채:NOH>로 이뤄졌다.',\n",
              "  '<25.7㎡:NOH>(약 <7.8평:NOH>) 크기인 <김:PER>씨의 새집은 <추석:DAT> 전인 오는 <20일:DAT> 완공될 예정이다.',\n",
              "  '장타를 앞세워 많은 타수를 줄이는 <박성현:PER>의 화끈한 공격골프를 가장 잘 보<여주:LOC>는 대목이기도 하다.',\n",
              "  '그러나<콘래드 힐튼:PER>의 변호인 측은 \"수면제로 인한 폭력적 성향의 부작용\"이라고 적극 해명했다.',\n",
              "  '이번 행사는 오는 <7일:DAT>까지 진행된다.',\n",
              "  '목타는 가뭄과 폭염이 계속되는 가운데 <제7호:NOH> 태풍 「<월트:POH>」가 <22일:DAT> 진로를 바꾸어 <한반도:LOC>를 향해 접근하고 있다.'])"
            ]
          },
          "metadata": {
            "tags": []
          },
          "execution_count": 14
        }
      ]
    },
    {
      "cell_type": "code",
      "metadata": {
        "id": "z0tIMedXaMIt"
      },
      "source": [
        "all_texts, all_labels = [],[]\n",
        "for each_file in files:\n",
        "    texts, labels = get_raw_data(os.path.join('/content/NER/말뭉치 - 형태소_개체명', each_file))\n",
        "    all_texts.extend(texts)\n",
        "    all_labels.extend(labels) \n",
        "\n",
        "# append => [] append [1,2,3] append [4,5,6] => [[1,2,3],[4,5,6]]\n",
        "# expand => [] extend [1,2,3] extend [4,5,6] => [1,2,3,4,5,6]\n",
        "\n",
        "# for 문을 돌리려면 expand로 집어넣어야 하나씩 나오지  append로 돌리면 더미로 나온다\n"
      ],
      "execution_count": null,
      "outputs": []
    },
    {
      "cell_type": "code",
      "metadata": {
        "colab": {
          "base_uri": "https://localhost:8080/"
        },
        "id": "s5PqvzWbacKm",
        "outputId": "8fbe1f71-a588-4291-8872-7bf52f6e97bd"
      },
      "source": [
        "data = {'text' : all_texts, 'label' : all_labels}\n",
        "# data['text']\n",
        "# df = pd.pandas(columns = [input, label])\n",
        "df = pd.DataFrame(data)\n",
        "df"
      ],
      "execution_count": null,
      "outputs": [
        {
          "output_type": "execute_result",
          "data": {
            "text/html": [
              "<div>\n",
              "<style scoped>\n",
              "    .dataframe tbody tr th:only-of-type {\n",
              "        vertical-align: middle;\n",
              "    }\n",
              "\n",
              "    .dataframe tbody tr th {\n",
              "        vertical-align: top;\n",
              "    }\n",
              "\n",
              "    .dataframe thead th {\n",
              "        text-align: right;\n",
              "    }\n",
              "</style>\n",
              "<table border=\"1\" class=\"dataframe\">\n",
              "  <thead>\n",
              "    <tr style=\"text-align: right;\">\n",
              "      <th></th>\n",
              "      <th>text</th>\n",
              "      <th>label</th>\n",
              "    </tr>\n",
              "  </thead>\n",
              "  <tbody>\n",
              "    <tr>\n",
              "      <th>0</th>\n",
              "      <td>그는 자신과 함께 ‘박 남매’로 불렸던 더불어민주당 박영선 의원을 예로 들며 “앵커...</td>\n",
              "      <td>그는 자신과 함께 ‘&lt;박:PER&gt; 남매’로 불렸던 &lt;더불어민주당:ORG&gt; &lt;박영선:...</td>\n",
              "    </tr>\n",
              "    <tr>\n",
              "      <th>1</th>\n",
              "      <td>링컨은 이날 경쟁차로 메르세데스-벤츠 S클래스, BMW 7시리즈 같은 대형 세단을 ...</td>\n",
              "      <td>&lt;링컨:PER&gt;은 이날 경쟁차로 &lt;메르세데스-벤츠:ORG&gt; &lt;S클래스:POH&gt;, &lt;...</td>\n",
              "    </tr>\n",
              "    <tr>\n",
              "      <th>2</th>\n",
              "      <td>앞으로 3년안엔 유인점포(현재 3백50여개)보다 더 많은 무인점포망을 갖춘다는게 조...</td>\n",
              "      <td>앞으로 &lt;3년:DAT&gt;안엔 유인점포(현재 &lt;3백50여개:NOH&gt;)보다 더 많은 무인...</td>\n",
              "    </tr>\n",
              "    <tr>\n",
              "      <th>3</th>\n",
              "      <td>또 교직원이 성신학원을 상대로 제기한 손해배상청구 소송 관련 성공보수금과 착수금 등...</td>\n",
              "      <td>또 교직원이 &lt;성신학원:ORG&gt;을 상대로 제기한 손해배상청구 소송 관련 성공보수금과...</td>\n",
              "    </tr>\n",
              "    <tr>\n",
              "      <th>4</th>\n",
              "      <td>엘 나세르 장관은 대구에서 열린 2015 세계 물포럼(12∼17일) 참석차 방한했다.</td>\n",
              "      <td>&lt;엘 나세르:PER&gt; 장관은 &lt;대구:LOC&gt;에서 열린 &lt;2015:DAT&gt; &lt;세계 물...</td>\n",
              "    </tr>\n",
              "    <tr>\n",
              "      <th>...</th>\n",
              "      <td>...</td>\n",
              "      <td>...</td>\n",
              "    </tr>\n",
              "    <tr>\n",
              "      <th>23958</th>\n",
              "      <td>개인보다는 비즈니스호텔이나 기업을 덱스의 주요 타깃층으로 보고 있다.</td>\n",
              "      <td>개인보다는 비즈니스호텔이나 기업을 &lt;덱스:ORG&gt;의 주요 타깃층으로 보고 있다.</td>\n",
              "    </tr>\n",
              "    <tr>\n",
              "      <th>23959</th>\n",
              "      <td>개그맨 송준근이 췌장암 말기 아버지를 둔 한 학생의 사연을 듣고, 아버지의 마지막 ...</td>\n",
              "      <td>개그맨 &lt;송준근:PER&gt;이 췌장암 말기 아버지를 둔 &lt;한 학생:NOH&gt;의 사연을 듣...</td>\n",
              "    </tr>\n",
              "    <tr>\n",
              "      <th>23960</th>\n",
              "      <td>4일 사우디아라비아와의 평가전에서 출전시간이 길었던 선수들은 컨디션 회복에 집중했다.</td>\n",
              "      <td>&lt;4일:DAT&gt; &lt;사우디아라비아:ORG&gt;와의 평가전에서 출전시간이 길었던 선수들은 ...</td>\n",
              "    </tr>\n",
              "    <tr>\n",
              "      <th>23961</th>\n",
              "      <td>서울의 뉴타운 및 재개발 지역은 총 683곳이 선정됐으나 경기 악화, 주민 이견 등...</td>\n",
              "      <td>&lt;서울:LOC&gt;의 뉴타운 및 재개발 지역은 총 &lt;683곳:NOH&gt;이 선정됐으나 경기...</td>\n",
              "    </tr>\n",
              "    <tr>\n",
              "      <th>23962</th>\n",
              "      <td>에잇세컨즈, 중국 상하이에 첫 매장</td>\n",
              "      <td>&lt;에잇세컨즈:ORG&gt;, &lt;중국 상하이:LOC&gt;에 첫 매장</td>\n",
              "    </tr>\n",
              "  </tbody>\n",
              "</table>\n",
              "<p>23963 rows × 2 columns</p>\n",
              "</div>"
            ],
            "text/plain": [
              "                                                    text                                              label\n",
              "0      그는 자신과 함께 ‘박 남매’로 불렸던 더불어민주당 박영선 의원을 예로 들며 “앵커...  그는 자신과 함께 ‘<박:PER> 남매’로 불렸던 <더불어민주당:ORG> <박영선:...\n",
              "1      링컨은 이날 경쟁차로 메르세데스-벤츠 S클래스, BMW 7시리즈 같은 대형 세단을 ...  <링컨:PER>은 이날 경쟁차로 <메르세데스-벤츠:ORG> <S클래스:POH>, <...\n",
              "2      앞으로 3년안엔 유인점포(현재 3백50여개)보다 더 많은 무인점포망을 갖춘다는게 조...  앞으로 <3년:DAT>안엔 유인점포(현재 <3백50여개:NOH>)보다 더 많은 무인...\n",
              "3      또 교직원이 성신학원을 상대로 제기한 손해배상청구 소송 관련 성공보수금과 착수금 등...  또 교직원이 <성신학원:ORG>을 상대로 제기한 손해배상청구 소송 관련 성공보수금과...\n",
              "4        엘 나세르 장관은 대구에서 열린 2015 세계 물포럼(12∼17일) 참석차 방한했다.  <엘 나세르:PER> 장관은 <대구:LOC>에서 열린 <2015:DAT> <세계 물...\n",
              "...                                                  ...                                                ...\n",
              "23958             개인보다는 비즈니스호텔이나 기업을 덱스의 주요 타깃층으로 보고 있다.       개인보다는 비즈니스호텔이나 기업을 <덱스:ORG>의 주요 타깃층으로 보고 있다.\n",
              "23959  개그맨 송준근이 췌장암 말기 아버지를 둔 한 학생의 사연을 듣고, 아버지의 마지막 ...  개그맨 <송준근:PER>이 췌장암 말기 아버지를 둔 <한 학생:NOH>의 사연을 듣...\n",
              "23960    4일 사우디아라비아와의 평가전에서 출전시간이 길었던 선수들은 컨디션 회복에 집중했다.  <4일:DAT> <사우디아라비아:ORG>와의 평가전에서 출전시간이 길었던 선수들은 ...\n",
              "23961  서울의 뉴타운 및 재개발 지역은 총 683곳이 선정됐으나 경기 악화, 주민 이견 등...  <서울:LOC>의 뉴타운 및 재개발 지역은 총 <683곳:NOH>이 선정됐으나 경기...\n",
              "23962                                에잇세컨즈, 중국 상하이에 첫 매장                    <에잇세컨즈:ORG>, <중국 상하이:LOC>에 첫 매장\n",
              "\n",
              "[23963 rows x 2 columns]"
            ]
          },
          "metadata": {
            "tags": []
          },
          "execution_count": 16
        }
      ]
    },
    {
      "cell_type": "code",
      "metadata": {
        "colab": {
          "base_uri": "https://localhost:8080/"
        },
        "id": "uLie-k7UiQ2X",
        "outputId": "018e3a24-95c2-494f-ce80-5b4d0c697678"
      },
      "source": [
        "df.iloc[0,0]"
      ],
      "execution_count": null,
      "outputs": [
        {
          "output_type": "execute_result",
          "data": {
            "application/vnd.google.colaboratory.intrinsic+json": {
              "type": "string"
            },
            "text/plain": [
              "'그는 자신과 함께 ‘박 남매’로 불렸던 더불어민주당 박영선 의원을 예로 들며 “앵커 출신이라 전달력이 좋다”며 “박 의원이 야성(野性)에다 미모를 갖춰 법제사법위원회에서 항상 히트를 쳤다.'"
            ]
          },
          "metadata": {
            "tags": []
          },
          "execution_count": 17
        }
      ]
    },
    {
      "cell_type": "code",
      "metadata": {
        "id": "MfY68ZLvaibq"
      },
      "source": [
        "df.to_csv(os.path.join(ner_dir,'ner.csv_modi'))\n",
        "# df"
      ],
      "execution_count": null,
      "outputs": []
    },
    {
      "cell_type": "code",
      "metadata": {
        "colab": {
          "base_uri": "https://localhost:8080/"
        },
        "id": "cbE7oVJqal2A",
        "outputId": "862263b0-ecb4-47a0-c43d-e8163f6b30e4"
      },
      "source": [
        "os.listdir(ner_dir)"
      ],
      "execution_count": null,
      "outputs": [
        {
          "output_type": "execute_result",
          "data": {
            "text/plain": [
              "['ner.csv_modi', 'vocab_pos.txt', 'vocab_word.txt', 'vocab_tag.txt']"
            ]
          },
          "metadata": {
            "tags": []
          },
          "execution_count": 19
        }
      ]
    },
    {
      "cell_type": "code",
      "metadata": {
        "colab": {
          "base_uri": "https://localhost:8080/"
        },
        "id": "q1Tl1Xmzanq8",
        "outputId": "744317b4-572a-4140-bd54-1c772cc2f668"
      },
      "source": [
        "df = pd.read_csv(os.path.join(ner_dir, 'ner.csv_modi')).iloc[:,1:]\n",
        "df"
      ],
      "execution_count": null,
      "outputs": [
        {
          "output_type": "execute_result",
          "data": {
            "text/html": [
              "<div>\n",
              "<style scoped>\n",
              "    .dataframe tbody tr th:only-of-type {\n",
              "        vertical-align: middle;\n",
              "    }\n",
              "\n",
              "    .dataframe tbody tr th {\n",
              "        vertical-align: top;\n",
              "    }\n",
              "\n",
              "    .dataframe thead th {\n",
              "        text-align: right;\n",
              "    }\n",
              "</style>\n",
              "<table border=\"1\" class=\"dataframe\">\n",
              "  <thead>\n",
              "    <tr style=\"text-align: right;\">\n",
              "      <th></th>\n",
              "      <th>text</th>\n",
              "      <th>label</th>\n",
              "    </tr>\n",
              "  </thead>\n",
              "  <tbody>\n",
              "    <tr>\n",
              "      <th>0</th>\n",
              "      <td>그는 자신과 함께 ‘박 남매’로 불렸던 더불어민주당 박영선 의원을 예로 들며 “앵커...</td>\n",
              "      <td>그는 자신과 함께 ‘&lt;박:PER&gt; 남매’로 불렸던 &lt;더불어민주당:ORG&gt; &lt;박영선:...</td>\n",
              "    </tr>\n",
              "    <tr>\n",
              "      <th>1</th>\n",
              "      <td>링컨은 이날 경쟁차로 메르세데스-벤츠 S클래스, BMW 7시리즈 같은 대형 세단을 ...</td>\n",
              "      <td>&lt;링컨:PER&gt;은 이날 경쟁차로 &lt;메르세데스-벤츠:ORG&gt; &lt;S클래스:POH&gt;, &lt;...</td>\n",
              "    </tr>\n",
              "    <tr>\n",
              "      <th>2</th>\n",
              "      <td>앞으로 3년안엔 유인점포(현재 3백50여개)보다 더 많은 무인점포망을 갖춘다는게 조...</td>\n",
              "      <td>앞으로 &lt;3년:DAT&gt;안엔 유인점포(현재 &lt;3백50여개:NOH&gt;)보다 더 많은 무인...</td>\n",
              "    </tr>\n",
              "    <tr>\n",
              "      <th>3</th>\n",
              "      <td>또 교직원이 성신학원을 상대로 제기한 손해배상청구 소송 관련 성공보수금과 착수금 등...</td>\n",
              "      <td>또 교직원이 &lt;성신학원:ORG&gt;을 상대로 제기한 손해배상청구 소송 관련 성공보수금과...</td>\n",
              "    </tr>\n",
              "    <tr>\n",
              "      <th>4</th>\n",
              "      <td>엘 나세르 장관은 대구에서 열린 2015 세계 물포럼(12∼17일) 참석차 방한했다.</td>\n",
              "      <td>&lt;엘 나세르:PER&gt; 장관은 &lt;대구:LOC&gt;에서 열린 &lt;2015:DAT&gt; &lt;세계 물...</td>\n",
              "    </tr>\n",
              "    <tr>\n",
              "      <th>...</th>\n",
              "      <td>...</td>\n",
              "      <td>...</td>\n",
              "    </tr>\n",
              "    <tr>\n",
              "      <th>23958</th>\n",
              "      <td>개인보다는 비즈니스호텔이나 기업을 덱스의 주요 타깃층으로 보고 있다.</td>\n",
              "      <td>개인보다는 비즈니스호텔이나 기업을 &lt;덱스:ORG&gt;의 주요 타깃층으로 보고 있다.</td>\n",
              "    </tr>\n",
              "    <tr>\n",
              "      <th>23959</th>\n",
              "      <td>개그맨 송준근이 췌장암 말기 아버지를 둔 한 학생의 사연을 듣고, 아버지의 마지막 ...</td>\n",
              "      <td>개그맨 &lt;송준근:PER&gt;이 췌장암 말기 아버지를 둔 &lt;한 학생:NOH&gt;의 사연을 듣...</td>\n",
              "    </tr>\n",
              "    <tr>\n",
              "      <th>23960</th>\n",
              "      <td>4일 사우디아라비아와의 평가전에서 출전시간이 길었던 선수들은 컨디션 회복에 집중했다.</td>\n",
              "      <td>&lt;4일:DAT&gt; &lt;사우디아라비아:ORG&gt;와의 평가전에서 출전시간이 길었던 선수들은 ...</td>\n",
              "    </tr>\n",
              "    <tr>\n",
              "      <th>23961</th>\n",
              "      <td>서울의 뉴타운 및 재개발 지역은 총 683곳이 선정됐으나 경기 악화, 주민 이견 등...</td>\n",
              "      <td>&lt;서울:LOC&gt;의 뉴타운 및 재개발 지역은 총 &lt;683곳:NOH&gt;이 선정됐으나 경기...</td>\n",
              "    </tr>\n",
              "    <tr>\n",
              "      <th>23962</th>\n",
              "      <td>에잇세컨즈, 중국 상하이에 첫 매장</td>\n",
              "      <td>&lt;에잇세컨즈:ORG&gt;, &lt;중국 상하이:LOC&gt;에 첫 매장</td>\n",
              "    </tr>\n",
              "  </tbody>\n",
              "</table>\n",
              "<p>23963 rows × 2 columns</p>\n",
              "</div>"
            ],
            "text/plain": [
              "                                                    text                                              label\n",
              "0      그는 자신과 함께 ‘박 남매’로 불렸던 더불어민주당 박영선 의원을 예로 들며 “앵커...  그는 자신과 함께 ‘<박:PER> 남매’로 불렸던 <더불어민주당:ORG> <박영선:...\n",
              "1      링컨은 이날 경쟁차로 메르세데스-벤츠 S클래스, BMW 7시리즈 같은 대형 세단을 ...  <링컨:PER>은 이날 경쟁차로 <메르세데스-벤츠:ORG> <S클래스:POH>, <...\n",
              "2      앞으로 3년안엔 유인점포(현재 3백50여개)보다 더 많은 무인점포망을 갖춘다는게 조...  앞으로 <3년:DAT>안엔 유인점포(현재 <3백50여개:NOH>)보다 더 많은 무인...\n",
              "3      또 교직원이 성신학원을 상대로 제기한 손해배상청구 소송 관련 성공보수금과 착수금 등...  또 교직원이 <성신학원:ORG>을 상대로 제기한 손해배상청구 소송 관련 성공보수금과...\n",
              "4        엘 나세르 장관은 대구에서 열린 2015 세계 물포럼(12∼17일) 참석차 방한했다.  <엘 나세르:PER> 장관은 <대구:LOC>에서 열린 <2015:DAT> <세계 물...\n",
              "...                                                  ...                                                ...\n",
              "23958             개인보다는 비즈니스호텔이나 기업을 덱스의 주요 타깃층으로 보고 있다.       개인보다는 비즈니스호텔이나 기업을 <덱스:ORG>의 주요 타깃층으로 보고 있다.\n",
              "23959  개그맨 송준근이 췌장암 말기 아버지를 둔 한 학생의 사연을 듣고, 아버지의 마지막 ...  개그맨 <송준근:PER>이 췌장암 말기 아버지를 둔 <한 학생:NOH>의 사연을 듣...\n",
              "23960    4일 사우디아라비아와의 평가전에서 출전시간이 길었던 선수들은 컨디션 회복에 집중했다.  <4일:DAT> <사우디아라비아:ORG>와의 평가전에서 출전시간이 길었던 선수들은 ...\n",
              "23961  서울의 뉴타운 및 재개발 지역은 총 683곳이 선정됐으나 경기 악화, 주민 이견 등...  <서울:LOC>의 뉴타운 및 재개발 지역은 총 <683곳:NOH>이 선정됐으나 경기...\n",
              "23962                                에잇세컨즈, 중국 상하이에 첫 매장                    <에잇세컨즈:ORG>, <중국 상하이:LOC>에 첫 매장\n",
              "\n",
              "[23963 rows x 2 columns]"
            ]
          },
          "metadata": {
            "tags": []
          },
          "execution_count": 20
        }
      ]
    },
    {
      "cell_type": "markdown",
      "metadata": {
        "id": "0TyJlt-k7yzW"
      },
      "source": [
        "# Vocabulary 학습"
      ]
    },
    {
      "cell_type": "code",
      "metadata": {
        "id": "mXCbqXL0jHzU"
      },
      "source": [
        "# token_counter = collections.Counter()\n",
        "# morph_counter = collections.Counter()"
      ],
      "execution_count": null,
      "outputs": []
    },
    {
      "cell_type": "code",
      "metadata": {
        "id": "O8CW6L6ri7TJ",
        "colab": {
          "base_uri": "https://localhost:8080/"
        },
        "outputId": "61a7171d-fef7-42e7-8544-08b0f992d102"
      },
      "source": [
        "!pip install konlpy"
      ],
      "execution_count": null,
      "outputs": [
        {
          "output_type": "stream",
          "text": [
            "Requirement already satisfied: konlpy in /usr/local/lib/python3.7/dist-packages (0.5.2)\n",
            "Requirement already satisfied: numpy>=1.6 in /usr/local/lib/python3.7/dist-packages (from konlpy) (1.19.5)\n",
            "Requirement already satisfied: tweepy>=3.7.0 in /usr/local/lib/python3.7/dist-packages (from konlpy) (3.10.0)\n",
            "Requirement already satisfied: colorama in /usr/local/lib/python3.7/dist-packages (from konlpy) (0.4.4)\n",
            "Requirement already satisfied: lxml>=4.1.0 in /usr/local/lib/python3.7/dist-packages (from konlpy) (4.2.6)\n",
            "Requirement already satisfied: JPype1>=0.7.0 in /usr/local/lib/python3.7/dist-packages (from konlpy) (1.3.0)\n",
            "Requirement already satisfied: beautifulsoup4==4.6.0 in /usr/local/lib/python3.7/dist-packages (from konlpy) (4.6.0)\n",
            "Requirement already satisfied: requests-oauthlib>=0.7.0 in /usr/local/lib/python3.7/dist-packages (from tweepy>=3.7.0->konlpy) (1.3.0)\n",
            "Requirement already satisfied: six>=1.10.0 in /usr/local/lib/python3.7/dist-packages (from tweepy>=3.7.0->konlpy) (1.15.0)\n",
            "Requirement already satisfied: requests[socks]>=2.11.1 in /usr/local/lib/python3.7/dist-packages (from tweepy>=3.7.0->konlpy) (2.23.0)\n",
            "Requirement already satisfied: typing-extensions; python_version < \"3.8\" in /usr/local/lib/python3.7/dist-packages (from JPype1>=0.7.0->konlpy) (3.7.4.3)\n",
            "Requirement already satisfied: oauthlib>=3.0.0 in /usr/local/lib/python3.7/dist-packages (from requests-oauthlib>=0.7.0->tweepy>=3.7.0->konlpy) (3.1.1)\n",
            "Requirement already satisfied: idna<3,>=2.5 in /usr/local/lib/python3.7/dist-packages (from requests[socks]>=2.11.1->tweepy>=3.7.0->konlpy) (2.10)\n",
            "Requirement already satisfied: chardet<4,>=3.0.2 in /usr/local/lib/python3.7/dist-packages (from requests[socks]>=2.11.1->tweepy>=3.7.0->konlpy) (3.0.4)\n",
            "Requirement already satisfied: certifi>=2017.4.17 in /usr/local/lib/python3.7/dist-packages (from requests[socks]>=2.11.1->tweepy>=3.7.0->konlpy) (2021.5.30)\n",
            "Requirement already satisfied: urllib3!=1.25.0,!=1.25.1,<1.26,>=1.21.1 in /usr/local/lib/python3.7/dist-packages (from requests[socks]>=2.11.1->tweepy>=3.7.0->konlpy) (1.24.3)\n",
            "Requirement already satisfied: PySocks!=1.5.7,>=1.5.6; extra == \"socks\" in /usr/local/lib/python3.7/dist-packages (from requests[socks]>=2.11.1->tweepy>=3.7.0->konlpy) (1.7.1)\n"
          ],
          "name": "stdout"
        }
      ]
    },
    {
      "cell_type": "code",
      "metadata": {
        "id": "XQ3y1d8Wlmg6"
      },
      "source": [
        "import konlpy"
      ],
      "execution_count": null,
      "outputs": []
    },
    {
      "cell_type": "code",
      "metadata": {
        "id": "aWQjvlW0oHkK"
      },
      "source": [
        "# 형태소분석기 설치\n",
        "# !set -x \\\n",
        "# && pip install konlpy \\\n",
        "# && curl -s https://raw.githubusercontent.com/konlpy/konlpy/master/scripts/mecab.sh | bash -x"
      ],
      "execution_count": null,
      "outputs": []
    },
    {
      "cell_type": "code",
      "metadata": {
        "id": "1QeSYXvjlrA3"
      },
      "source": [
        "# 형태소 분석기\n",
        "hannanum = konlpy.tag.Hannanum()\n",
        "kkma = konlpy.tag.Kkma()\n",
        "komoran = konlpy.tag.Komoran()\n",
        "# mecab = konlpy.tag.Mecab()\n",
        "okt = konlpy.tag.Okt()"
      ],
      "execution_count": null,
      "outputs": []
    },
    {
      "cell_type": "code",
      "metadata": {
        "id": "iFgZGo6Wj2j4"
      },
      "source": [
        ""
      ],
      "execution_count": null,
      "outputs": []
    },
    {
      "cell_type": "code",
      "metadata": {
        "id": "vEXnEk7eqzZg",
        "colab": {
          "base_uri": "https://localhost:8080/",
          "height": 365
        },
        "outputId": "2d50062c-ec16-41ea-a2e5-d0f3faf37a4b"
      },
      "source": [
        "token_counter = collections.defaultdict(int)\n",
        "morph_counter = collections.defaultdict(int)\n",
        "\n",
        "for text in df['text']:\n",
        "    # print(text)\n",
        "    poses = okt.pos(text)\n",
        "    for t, p in poses:\n",
        "        # print(t)\n",
        "        # print(p)\n",
        "        token_counter[t] += 1\n",
        "        morph_counter[p] += 1\n",
        "\n",
        "    # print(poses)"
      ],
      "execution_count": null,
      "outputs": [
        {
          "output_type": "error",
          "ename": "KeyboardInterrupt",
          "evalue": "ignored",
          "traceback": [
            "\u001b[0;31m---------------------------------------------------------------------------\u001b[0m",
            "\u001b[0;31mKeyboardInterrupt\u001b[0m                         Traceback (most recent call last)",
            "\u001b[0;32m<ipython-input-27-fb4a21c1cb85>\u001b[0m in \u001b[0;36m<module>\u001b[0;34m()\u001b[0m\n\u001b[1;32m      4\u001b[0m \u001b[0;32mfor\u001b[0m \u001b[0mtext\u001b[0m \u001b[0;32min\u001b[0m \u001b[0mdf\u001b[0m\u001b[0;34m[\u001b[0m\u001b[0;34m'text'\u001b[0m\u001b[0;34m]\u001b[0m\u001b[0;34m:\u001b[0m\u001b[0;34m\u001b[0m\u001b[0;34m\u001b[0m\u001b[0m\n\u001b[1;32m      5\u001b[0m     \u001b[0;31m# print(text)\u001b[0m\u001b[0;34m\u001b[0m\u001b[0;34m\u001b[0m\u001b[0;34m\u001b[0m\u001b[0m\n\u001b[0;32m----> 6\u001b[0;31m     \u001b[0mposes\u001b[0m \u001b[0;34m=\u001b[0m \u001b[0mokt\u001b[0m\u001b[0;34m.\u001b[0m\u001b[0mpos\u001b[0m\u001b[0;34m(\u001b[0m\u001b[0mtext\u001b[0m\u001b[0;34m)\u001b[0m\u001b[0;34m\u001b[0m\u001b[0;34m\u001b[0m\u001b[0m\n\u001b[0m\u001b[1;32m      7\u001b[0m     \u001b[0;32mfor\u001b[0m \u001b[0mt\u001b[0m\u001b[0;34m,\u001b[0m \u001b[0mp\u001b[0m \u001b[0;32min\u001b[0m \u001b[0mposes\u001b[0m\u001b[0;34m:\u001b[0m\u001b[0;34m\u001b[0m\u001b[0;34m\u001b[0m\u001b[0m\n\u001b[1;32m      8\u001b[0m         \u001b[0;31m# print(t)\u001b[0m\u001b[0;34m\u001b[0m\u001b[0;34m\u001b[0m\u001b[0;34m\u001b[0m\u001b[0m\n",
            "\u001b[0;32m/usr/local/lib/python3.7/dist-packages/konlpy/tag/_okt.py\u001b[0m in \u001b[0;36mpos\u001b[0;34m(self, phrase, norm, stem, join)\u001b[0m\n\u001b[1;32m     61\u001b[0m                     \u001b[0mphrase\u001b[0m\u001b[0;34m,\u001b[0m\u001b[0;34m\u001b[0m\u001b[0;34m\u001b[0m\u001b[0m\n\u001b[1;32m     62\u001b[0m                     \u001b[0mjpype\u001b[0m\u001b[0;34m.\u001b[0m\u001b[0mjava\u001b[0m\u001b[0;34m.\u001b[0m\u001b[0mlang\u001b[0m\u001b[0;34m.\u001b[0m\u001b[0mBoolean\u001b[0m\u001b[0;34m(\u001b[0m\u001b[0mnorm\u001b[0m\u001b[0;34m)\u001b[0m\u001b[0;34m,\u001b[0m\u001b[0;34m\u001b[0m\u001b[0;34m\u001b[0m\u001b[0m\n\u001b[0;32m---> 63\u001b[0;31m                     jpype.java.lang.Boolean(stem)).toArray()\n\u001b[0m\u001b[1;32m     64\u001b[0m         \u001b[0;32mif\u001b[0m \u001b[0mjoin\u001b[0m\u001b[0;34m:\u001b[0m\u001b[0;34m\u001b[0m\u001b[0;34m\u001b[0m\u001b[0m\n\u001b[1;32m     65\u001b[0m             \u001b[0;32mreturn\u001b[0m \u001b[0;34m[\u001b[0m\u001b[0mt\u001b[0m \u001b[0;32mfor\u001b[0m \u001b[0mt\u001b[0m \u001b[0;32min\u001b[0m \u001b[0mtokens\u001b[0m\u001b[0;34m]\u001b[0m\u001b[0;34m\u001b[0m\u001b[0;34m\u001b[0m\u001b[0m\n",
            "\u001b[0;31mKeyboardInterrupt\u001b[0m: "
          ]
        }
      ]
    },
    {
      "cell_type": "code",
      "metadata": {
        "id": "qqx8_LkEz99d"
      },
      "source": [
        "len(token_counter), len(morph_counter)"
      ],
      "execution_count": null,
      "outputs": []
    },
    {
      "cell_type": "code",
      "metadata": {
        "id": "x04gFopywNVu"
      },
      "source": [
        "token_sorted = sorted(token_counter.items(), key = lambda x : x[1])\n",
        "len(token_sorted)"
      ],
      "execution_count": null,
      "outputs": []
    },
    {
      "cell_type": "code",
      "metadata": {
        "id": "NfUVMHMz0FnY"
      },
      "source": [
        "# 만약 길이를 줄이고 싶다?\n",
        "len([(k,v) for k,v in token_counter.items() if v > 1]) # 빈도수가 1이상인 것들\n",
        "#  한번 발생한 친구들은 그냥 버릴래 하면 이렇게 하면 되는거지"
      ],
      "execution_count": null,
      "outputs": []
    },
    {
      "cell_type": "code",
      "metadata": {
        "id": "uiyCy6HO0X8Z"
      },
      "source": [
        "\n",
        "# len(token_counter.items())\n",
        "sorted(token_counter.items())\n",
        "# token_sorted"
      ],
      "execution_count": null,
      "outputs": []
    },
    {
      "cell_type": "code",
      "metadata": {
        "id": "Yr1618-4wbar"
      },
      "source": [
        "token_sorted[:10]"
      ],
      "execution_count": null,
      "outputs": []
    },
    {
      "cell_type": "code",
      "metadata": {
        "id": "atDzwGzLwe0e"
      },
      "source": [
        "token_sorted[-10:]"
      ],
      "execution_count": null,
      "outputs": []
    },
    {
      "cell_type": "code",
      "metadata": {
        "id": "aMIQuge1whhn"
      },
      "source": [
        "vocab_word = {'[PAD]' : 0, '[UNK]': 1, '[BOS]':2, '[EOS]' : 3}\n",
        "vocab_pos = {'[PAD]' : 0, '[UNK]' : 1} # position\n",
        "\n",
        "for w,v in token_counter.items():\n",
        "    if w not in vocab_word: # vocab에 안들어 가 있으면 추가\n",
        "        vocab_word[w] = len(vocab_word)\n",
        "\n",
        "for w,v in morph_counter.items():\n",
        "    if w not in vocab_pos: # pos에 안들어가 있으면 추가\n",
        "        vocab_pos[w] = len(vocab_pos)\n",
        "\n",
        "len(vocab_word), len(vocab_pos)\n",
        "\n",
        "# vocab 2개 만들어야지\n",
        "# sentence piece 에서 32000 이거랑 같지\n",
        "\n",
        "# 22개에 2개 추가\n",
        "# 49939에 4개 추가 "
      ],
      "execution_count": null,
      "outputs": []
    },
    {
      "cell_type": "code",
      "metadata": {
        "id": "s8AO7QMuxLsV"
      },
      "source": [
        "with open(os.path.join(ner_dir, 'vocab_word.txt'), 'w') as f: #write 모드로 열고\n",
        "    for w, _id in vocab_word.items(): # 번호를 저장하기 않고\n",
        "        f.write(w)\n",
        "        f.write('\\n')"
      ],
      "execution_count": null,
      "outputs": []
    },
    {
      "cell_type": "code",
      "metadata": {
        "id": "z8BIdcdtlGuv"
      },
      "source": [
        "with open(os.path.join(ner_dir, 'vocab_pos.txt'), 'w') as f: #write 모드로 열고\n",
        "    for p, _id in vocab_pos.items(): # 번호를 저장하기 않고\n",
        "        f.write(p)\n",
        "        f.write('\\n')"
      ],
      "execution_count": null,
      "outputs": []
    },
    {
      "cell_type": "code",
      "metadata": {
        "id": "Vffb_o7YlnSQ"
      },
      "source": [
        ""
      ],
      "execution_count": null,
      "outputs": []
    },
    {
      "cell_type": "code",
      "metadata": {
        "id": "NuFX2T4DyB9L"
      },
      "source": [
        "def get_tag_data(filepath):\n",
        "    tags = []\n",
        "\n",
        "    with open(filepath) as f:\n",
        "      \n",
        "        for line in f:\n",
        "            line = line.strip()\n",
        "            # print(line)\n",
        "            if line.startswith('##'):\n",
        "                pass\n",
        "\n",
        "            else:\n",
        "                tokens = line.split()\n",
        "                # print(tokens)\n",
        "                if len(tokens) == 4:\n",
        "                    tags.append(tokens[3])\n",
        "    return tags"
      ],
      "execution_count": null,
      "outputs": []
    },
    {
      "cell_type": "code",
      "metadata": {
        "id": "0NiUkX3zyUE4"
      },
      "source": [
        "get_tag_data(os.path.join('/content/NER/말뭉치 - 형태소_개체명', files[1]))"
      ],
      "execution_count": null,
      "outputs": []
    },
    {
      "cell_type": "code",
      "metadata": {
        "id": "scp4R4UnyUE6"
      },
      "source": [
        "# tag중에 어떤게 많은지 확인해보려고\n",
        "\n",
        "tag_counter = collections.defaultdict(int)\n",
        "\n",
        "for each_file in files:\n",
        "    tags = get_tag_data(os.path.join('/content/NER/말뭉치 - 형태소_개체명', each_file))\n",
        "    for tag in tags:\n",
        "        tag_counter[tag] += 1\n",
        "tag_counter\n"
      ],
      "execution_count": null,
      "outputs": []
    },
    {
      "cell_type": "code",
      "metadata": {
        "id": "T9Dqtn_JzU-y"
      },
      "source": [
        "vocab_tag = {'[PAD]' : 0, '[UNK]' : 1}\n",
        "for w, _id in tag_counter.items():\n",
        "    if w not in vocab_tag:\n",
        "        vocab_tag[w] = len(vocab_tag)\n",
        "vocab_tag"
      ],
      "execution_count": null,
      "outputs": []
    },
    {
      "cell_type": "code",
      "metadata": {
        "id": "qOsU8z5KzypA"
      },
      "source": [
        "with open(os.path.join(ner_dir, 'vocab_tag.txt'), 'w') as f:\n",
        "    for w, _id in vocab_tag.items():\n",
        "        f.write(w)\n",
        "        f.write('\\n')"
      ],
      "execution_count": null,
      "outputs": []
    },
    {
      "cell_type": "code",
      "metadata": {
        "id": "4yD1rGOjf8zD"
      },
      "source": [
        "with open(os.path.join(ner_dir, 'vocab_tag.txt')) as f:\n",
        "    # print(f)\n",
        "    for w in f:\n",
        "        w = w.strip()\n",
        "        print(w)"
      ],
      "execution_count": null,
      "outputs": []
    },
    {
      "cell_type": "code",
      "metadata": {
        "id": "HsiVngc1hCjU"
      },
      "source": [
        "file_1 = os.listdir('/content/drive/MyDrive/ict-ai-복합고급언어-nlp/data/ner')\n",
        "file_1"
      ],
      "execution_count": null,
      "outputs": []
    },
    {
      "cell_type": "code",
      "metadata": {
        "id": "fx28BtzEqF4c"
      },
      "source": [
        "ner_dir"
      ],
      "execution_count": null,
      "outputs": []
    },
    {
      "cell_type": "code",
      "metadata": {
        "id": "T-KP9Qogfa5X"
      },
      "source": [
        "with open(os.path.join(ner_dir , file_1[0])) as f:\n",
        "    for i ,line in enumerate(f):\n",
        "        line = line.strip() #strip안하면 개행문자가 되니까 2줄이 되지\n",
        "        print(line)\n",
        "        if i > 100:\n",
        "             break"
      ],
      "execution_count": null,
      "outputs": []
    },
    {
      "cell_type": "code",
      "metadata": {
        "id": "EYu4lBJ002QW"
      },
      "source": [
        "## 챗보이나 고객의 need를 알아서 "
      ],
      "execution_count": null,
      "outputs": []
    },
    {
      "cell_type": "code",
      "metadata": {
        "id": "0Wvz8Q1Mx6SO"
      },
      "source": [
        "# 이제 label 꺼내야지!"
      ],
      "execution_count": null,
      "outputs": []
    },
    {
      "cell_type": "markdown",
      "metadata": {
        "id": "Xur3d8B1mDtq"
      },
      "source": [
        "# Vocabulary*"
      ]
    },
    {
      "cell_type": "code",
      "metadata": {
        "colab": {
          "base_uri": "https://localhost:8080/",
          "height": 241
        },
        "id": "jR-gvm6DUYSt",
        "outputId": "de42a467-7ad3-482c-eee2-762f752d9fef"
      },
      "source": [
        "vocab_tag = {'[PAD]': 0, 'O': 1}\n",
        "for w, v in tag_counter.items():\n",
        "    if w not in vocab_tag:\n",
        "        vocab_tag[w] = len(vocab_tag)\n",
        "vocab_tag"
      ],
      "execution_count": null,
      "outputs": [
        {
          "output_type": "error",
          "ename": "NameError",
          "evalue": "ignored",
          "traceback": [
            "\u001b[0;31m---------------------------------------------------------------------------\u001b[0m",
            "\u001b[0;31mNameError\u001b[0m                                 Traceback (most recent call last)",
            "\u001b[0;32m<ipython-input-28-2f62355c4693>\u001b[0m in \u001b[0;36m<module>\u001b[0;34m()\u001b[0m\n\u001b[1;32m      1\u001b[0m \u001b[0mvocab_tag\u001b[0m \u001b[0;34m=\u001b[0m \u001b[0;34m{\u001b[0m\u001b[0;34m'[PAD]'\u001b[0m\u001b[0;34m:\u001b[0m \u001b[0;36m0\u001b[0m\u001b[0;34m,\u001b[0m \u001b[0;34m'O'\u001b[0m\u001b[0;34m:\u001b[0m \u001b[0;36m1\u001b[0m\u001b[0;34m}\u001b[0m\u001b[0;34m\u001b[0m\u001b[0;34m\u001b[0m\u001b[0m\n\u001b[0;32m----> 2\u001b[0;31m \u001b[0;32mfor\u001b[0m \u001b[0mw\u001b[0m\u001b[0;34m,\u001b[0m \u001b[0mv\u001b[0m \u001b[0;32min\u001b[0m \u001b[0mtag_counter\u001b[0m\u001b[0;34m.\u001b[0m\u001b[0mitems\u001b[0m\u001b[0;34m(\u001b[0m\u001b[0;34m)\u001b[0m\u001b[0;34m:\u001b[0m\u001b[0;34m\u001b[0m\u001b[0;34m\u001b[0m\u001b[0m\n\u001b[0m\u001b[1;32m      3\u001b[0m     \u001b[0;32mif\u001b[0m \u001b[0mw\u001b[0m \u001b[0;32mnot\u001b[0m \u001b[0;32min\u001b[0m \u001b[0mvocab_tag\u001b[0m\u001b[0;34m:\u001b[0m\u001b[0;34m\u001b[0m\u001b[0;34m\u001b[0m\u001b[0m\n\u001b[1;32m      4\u001b[0m         \u001b[0mvocab_tag\u001b[0m\u001b[0;34m[\u001b[0m\u001b[0mw\u001b[0m\u001b[0;34m]\u001b[0m \u001b[0;34m=\u001b[0m \u001b[0mlen\u001b[0m\u001b[0;34m(\u001b[0m\u001b[0mvocab_tag\u001b[0m\u001b[0;34m)\u001b[0m\u001b[0;34m\u001b[0m\u001b[0;34m\u001b[0m\u001b[0m\n\u001b[1;32m      5\u001b[0m \u001b[0mvocab_tag\u001b[0m\u001b[0;34m\u001b[0m\u001b[0;34m\u001b[0m\u001b[0m\n",
            "\u001b[0;31mNameError\u001b[0m: name 'tag_counter' is not defined"
          ]
        }
      ]
    },
    {
      "cell_type": "code",
      "metadata": {
        "colab": {
          "base_uri": "https://localhost:8080/"
        },
        "id": "oGRW5oy8bBE6",
        "outputId": "15c473a4-8ee2-4a19-a8f6-60d0ea334c21"
      },
      "source": [
        "vocab_word = {}\n",
        "with open(os.path.join(ner_dir, 'vocab_word.txt')) as f:\n",
        "    for line in f :\n",
        "        line = line.strip()\n",
        "        if line: # line이 존재하면\n",
        "            # print(line)\n",
        "            vocab_word[line] = len(vocab_word)\n",
        "len(vocab_word)"
      ],
      "execution_count": null,
      "outputs": [
        {
          "output_type": "execute_result",
          "data": {
            "text/plain": [
              "49943"
            ]
          },
          "metadata": {
            "tags": []
          },
          "execution_count": 29
        }
      ]
    },
    {
      "cell_type": "code",
      "metadata": {
        "colab": {
          "base_uri": "https://localhost:8080/"
        },
        "id": "sB34BieXm3Xk",
        "outputId": "7a98142e-9784-417d-912e-95ab82abe965"
      },
      "source": [
        "vocab_pos = {}\n",
        "with open(os.path.join(ner_dir, 'vocab_pos.txt')) as f:\n",
        "    for line in f :\n",
        "        line = line.strip()\n",
        "        if line: # line이 존재하면\n",
        "            vocab_pos[line] = len(vocab_pos)\n",
        "len(vocab_pos)"
      ],
      "execution_count": null,
      "outputs": [
        {
          "output_type": "execute_result",
          "data": {
            "text/plain": [
              "24"
            ]
          },
          "metadata": {
            "tags": []
          },
          "execution_count": 30
        }
      ]
    },
    {
      "cell_type": "code",
      "metadata": {
        "colab": {
          "base_uri": "https://localhost:8080/"
        },
        "id": "sUZLdgaxm31z",
        "outputId": "a15cef46-1df1-4c71-929f-688841911d98"
      },
      "source": [
        "vocab_tag = {}\n",
        "with open(os.path.join(ner_dir, 'vocab_tag.txt')) as f:\n",
        "    for line in f :\n",
        "        line = line.strip()\n",
        "        if line: # line이 존재하면\n",
        "            vocab_tag[line] = len(vocab_tag)\n",
        "len(vocab_tag)"
      ],
      "execution_count": null,
      "outputs": [
        {
          "output_type": "execute_result",
          "data": {
            "text/plain": [
              "23"
            ]
          },
          "metadata": {
            "tags": []
          },
          "execution_count": 31
        }
      ]
    },
    {
      "cell_type": "markdown",
      "metadata": {
        "id": "FDOF4yLnIOS7"
      },
      "source": [
        "# EDA\n",
        "- 사실 토큰만 보면 됨"
      ]
    },
    {
      "cell_type": "markdown",
      "metadata": {
        "id": "caQEMB-bncT5"
      },
      "source": [
        "# EDA\n",
        "- 사실 토큰만 보면 됨"
      ]
    },
    {
      "cell_type": "code",
      "metadata": {
        "colab": {
          "base_uri": "https://localhost:8080/"
        },
        "id": "R4EnI2HkspcU",
        "outputId": "927a2fe9-ab11-45dc-866b-0199955835e1"
      },
      "source": [
        "os.listdir(ner_dir)\n",
        "!ls"
      ],
      "execution_count": null,
      "outputs": [
        {
          "output_type": "stream",
          "text": [
            "drive  NER  sample_data\n"
          ],
          "name": "stdout"
        }
      ]
    },
    {
      "cell_type": "code",
      "metadata": {
        "id": "rqjRi-x6qiB2",
        "colab": {
          "base_uri": "https://localhost:8080/",
          "height": 568
        },
        "outputId": "0cf4a8c0-8774-4268-bccd-950e9be6d448"
      },
      "source": [
        "df = pd.read_csv('/content/drive/MyDrive/ict-ai-복합고급언어-nlp/data/ner/ner.csv_modi', error_bad_lines=False)\n",
        "df = df.dropna()\n",
        "df = df.iloc[:,1:]\n",
        "df"
      ],
      "execution_count": null,
      "outputs": [
        {
          "output_type": "execute_result",
          "data": {
            "text/html": [
              "<div>\n",
              "<style scoped>\n",
              "    .dataframe tbody tr th:only-of-type {\n",
              "        vertical-align: middle;\n",
              "    }\n",
              "\n",
              "    .dataframe tbody tr th {\n",
              "        vertical-align: top;\n",
              "    }\n",
              "\n",
              "    .dataframe thead th {\n",
              "        text-align: right;\n",
              "    }\n",
              "</style>\n",
              "<table border=\"1\" class=\"dataframe\">\n",
              "  <thead>\n",
              "    <tr style=\"text-align: right;\">\n",
              "      <th></th>\n",
              "      <th>text</th>\n",
              "      <th>label</th>\n",
              "    </tr>\n",
              "  </thead>\n",
              "  <tbody>\n",
              "    <tr>\n",
              "      <th>0</th>\n",
              "      <td>지원 요건 등 모집 세부 사항은 롯데 액셀러레이터 홈페이지(www.lotteacc....</td>\n",
              "      <td>지원 요건 등 모집 세부 사항은 &lt;롯데 액셀러레이터 홈페이지:POH&gt;(&lt;www.lo...</td>\n",
              "    </tr>\n",
              "    <tr>\n",
              "      <th>1</th>\n",
              "      <td>역사 교과서 국정화 논란을 두고 청와대 여당 야당이 벌이는 시대착오의 퍼레이드 말이다.</td>\n",
              "      <td>역사 교과서 국정화 논란을 두고 &lt;청와대:ORG&gt; 여당 야당이 벌이는 시대착오의 퍼...</td>\n",
              "    </tr>\n",
              "    <tr>\n",
              "      <th>2</th>\n",
              "      <td>한 응답자는 “출장 때문에 생리일을 조절해야 할 땐 참담한 기분이다.</td>\n",
              "      <td>&lt;한:NOH&gt; 응답자는 “출장 때문에 생리일을 조절해야 할 땐 참담한 기분이다.</td>\n",
              "    </tr>\n",
              "    <tr>\n",
              "      <th>3</th>\n",
              "      <td>이들은 80년의 5·17 비상계엄 전국확대, 5·20 임시국회 봉쇄 등을 거쳐 80...</td>\n",
              "      <td>이들은 &lt;80년:DAT&gt;의 &lt;5·17 비상계엄 전국확대:POH&gt;, &lt;5·20 임시국...</td>\n",
              "    </tr>\n",
              "    <tr>\n",
              "      <th>4</th>\n",
              "      <td>이를 듣던 MC 김제동은 \"크게 욕먹은 경험들이 변하게 만들었냐\"고 물었고, 정형돈...</td>\n",
              "      <td>이를 듣던 MC &lt;김제동:PER&gt;은 \"크게 욕먹은 경험들이 변하게 만들었냐\"고 물었...</td>\n",
              "    </tr>\n",
              "    <tr>\n",
              "      <th>...</th>\n",
              "      <td>...</td>\n",
              "      <td>...</td>\n",
              "    </tr>\n",
              "    <tr>\n",
              "      <th>23958</th>\n",
              "      <td>그리고 이들은 취재 여행 중에 오랜 기간 마음 속에 있던 사과를 건넨 것으로 알고 ...</td>\n",
              "      <td>그리고 이들은 취재 여행 중에 오랜 기간 마음 속에 있던 사과를 건넨 것으로 알고 ...</td>\n",
              "    </tr>\n",
              "    <tr>\n",
              "      <th>23959</th>\n",
              "      <td>새로 출범하는 차이잉원 정부의 고민은 중국이 내미는 당근을 덥석 물 수도 없지만 그...</td>\n",
              "      <td>새로 출범하는 &lt;차이잉원 정부:ORG&gt;의 고민은 &lt;중국:ORG&gt;이 내미는 당근을 덥...</td>\n",
              "    </tr>\n",
              "    <tr>\n",
              "      <th>23960</th>\n",
              "      <td>포천은 12월 삼성이 이 회장의 건강 상태에 관계없이 이 부회장을 대표이사로 선임하...</td>\n",
              "      <td>&lt;포천:LOC&gt;은 &lt;12월:DAT&gt; &lt;삼성:ORG&gt;이 &lt;이:PER&gt; 회장의 건강 상...</td>\n",
              "    </tr>\n",
              "    <tr>\n",
              "      <th>23961</th>\n",
              "      <td>여기서 우리는 이미 150년 전, 자본주의의 참상을 노동자의 소외를 통해 갈파한 선...</td>\n",
              "      <td>여기서 우리는 이미 &lt;150년:DAT&gt; 전, 자본주의의 참상을 노동자의 소외를 통해...</td>\n",
              "    </tr>\n",
              "    <tr>\n",
              "      <th>23962</th>\n",
              "      <td>“원래는 청담동에 조그만 땅이 있어 거기에 지으려 했다.</td>\n",
              "      <td>“원래는 &lt;청담동:LOC&gt;에 조그만 땅이 있어 거기에 지으려 했다.</td>\n",
              "    </tr>\n",
              "  </tbody>\n",
              "</table>\n",
              "<p>23963 rows × 2 columns</p>\n",
              "</div>"
            ],
            "text/plain": [
              "                                                    text                                              label\n",
              "0      지원 요건 등 모집 세부 사항은 롯데 액셀러레이터 홈페이지(www.lotteacc....  지원 요건 등 모집 세부 사항은 <롯데 액셀러레이터 홈페이지:POH>(<www.lo...\n",
              "1       역사 교과서 국정화 논란을 두고 청와대 여당 야당이 벌이는 시대착오의 퍼레이드 말이다.  역사 교과서 국정화 논란을 두고 <청와대:ORG> 여당 야당이 벌이는 시대착오의 퍼...\n",
              "2                 한 응답자는 “출장 때문에 생리일을 조절해야 할 땐 참담한 기분이다.       <한:NOH> 응답자는 “출장 때문에 생리일을 조절해야 할 땐 참담한 기분이다.\n",
              "3      이들은 80년의 5·17 비상계엄 전국확대, 5·20 임시국회 봉쇄 등을 거쳐 80...  이들은 <80년:DAT>의 <5·17 비상계엄 전국확대:POH>, <5·20 임시국...\n",
              "4      이를 듣던 MC 김제동은 \"크게 욕먹은 경험들이 변하게 만들었냐\"고 물었고, 정형돈...  이를 듣던 MC <김제동:PER>은 \"크게 욕먹은 경험들이 변하게 만들었냐\"고 물었...\n",
              "...                                                  ...                                                ...\n",
              "23958  그리고 이들은 취재 여행 중에 오랜 기간 마음 속에 있던 사과를 건넨 것으로 알고 ...  그리고 이들은 취재 여행 중에 오랜 기간 마음 속에 있던 사과를 건넨 것으로 알고 ...\n",
              "23959  새로 출범하는 차이잉원 정부의 고민은 중국이 내미는 당근을 덥석 물 수도 없지만 그...  새로 출범하는 <차이잉원 정부:ORG>의 고민은 <중국:ORG>이 내미는 당근을 덥...\n",
              "23960  포천은 12월 삼성이 이 회장의 건강 상태에 관계없이 이 부회장을 대표이사로 선임하...  <포천:LOC>은 <12월:DAT> <삼성:ORG>이 <이:PER> 회장의 건강 상...\n",
              "23961  여기서 우리는 이미 150년 전, 자본주의의 참상을 노동자의 소외를 통해 갈파한 선...  여기서 우리는 이미 <150년:DAT> 전, 자본주의의 참상을 노동자의 소외를 통해...\n",
              "23962                    “원래는 청담동에 조그만 땅이 있어 거기에 지으려 했다.              “원래는 <청담동:LOC>에 조그만 땅이 있어 거기에 지으려 했다.\n",
              "\n",
              "[23963 rows x 2 columns]"
            ]
          },
          "metadata": {
            "tags": []
          },
          "execution_count": 20
        }
      ]
    },
    {
      "cell_type": "code",
      "metadata": {
        "colab": {
          "base_uri": "https://localhost:8080/"
        },
        "id": "Njx2S-oura8V",
        "outputId": "2dfc72f0-d608-48dd-e4a9-d9a826128b94"
      },
      "source": [
        "# data 합치기\n",
        "# q_train = pd.Series(df_train['sentence1'].tolist() + df_train['sentence2'].tolist()).astype(str)\n",
        "# len(q_train), q_train.head(10)"
      ],
      "execution_count": null,
      "outputs": [
        {
          "output_type": "execute_result",
          "data": {
            "text/plain": [
              "(1871074, 0           개념적으로 크림 스키밍은 제품과 지리라는 두 가지 기본 차원을 가지고 있다.\n",
              " 1    시즌 중에 알고 있는 거 알아? 네 레벨에서 다음 레벨로 잃어버리는 거야 브레이브스...\n",
              " 2                    우리 번호 중 하나가 당신의 지시를 세밀하게 수행할 것이다.\n",
              " 3                         어떻게 아세요? 이 모든 것이 다시 그들의 정보다.\n",
              " 4    그래, 만약 네가 테니스화 몇 개를 사러 간다면, 나는 왜 그들이 100달러대에서 ...\n",
              " 5              내 워커가 고장나서 지금 화가 났어. 스테레오를 정말 크게 틀어야 해.\n",
              " 6    그러나 apse 위에서 살아남은 기독교 모자이크 몇 개는 아기 예수와 함께 성모인데...\n",
              " 7                     (슬레이트에 대한 읽기는 잭슨의 연구 결과를 받아들인다.)\n",
              " 8                                          게이들과 레즈비언들.\n",
              " 9    Rue des Francs-Bourgeois의 끝에는 많은 사람들이 돌과 붉은 벽돌...\n",
              " dtype: object)"
            ]
          },
          "metadata": {
            "tags": []
          },
          "execution_count": 52
        }
      ]
    },
    {
      "cell_type": "markdown",
      "metadata": {
        "id": "QEWYzCnwIxdd"
      },
      "source": [
        "## char length"
      ]
    },
    {
      "cell_type": "code",
      "metadata": {
        "colab": {
          "base_uri": "https://localhost:8080/"
        },
        "id": "9MSy9WxLI0PS",
        "outputId": "09c8b50b-1f4e-4f46-fbe2-75cd0ebb0cc5"
      },
      "source": [
        "# char 길이 데이터\n",
        "train_length = df.iloc[:,0].apply(len)\n",
        "train_length.head(10)"
      ],
      "execution_count": null,
      "outputs": [
        {
          "output_type": "execute_result",
          "data": {
            "text/plain": [
              "0     60\n",
              "1     48\n",
              "2     38\n",
              "3    118\n",
              "4     53\n",
              "5     73\n",
              "6     74\n",
              "7     34\n",
              "8     15\n",
              "9     52\n",
              "Name: text, dtype: int64"
            ]
          },
          "metadata": {
            "tags": []
          },
          "execution_count": 21
        }
      ]
    },
    {
      "cell_type": "code",
      "metadata": {
        "colab": {
          "base_uri": "https://localhost:8080/",
          "height": 295
        },
        "id": "EQr9jGodJAER",
        "outputId": "f184b591-c8e4-43fc-bd02-0812b76927ae"
      },
      "source": [
        "plt.figure(figsize=(8, 4))\n",
        "plt.hist(train_length, bins=200, range=[0, 200], facecolor='r', label='char')\n",
        "plt.title('Lengh of char')\n",
        "plt.xlabel('Number of char')\n",
        "plt.ylabel('Count of review')\n",
        "plt.show()"
      ],
      "execution_count": null,
      "outputs": [
        {
          "output_type": "display_data",
          "data": {
            "image/png": "[encoded data removed]",
            "text/plain": [
              "<Figure size 576x288 with 1 Axes>"
            ]
          },
          "metadata": {
            "tags": [],
            "needs_background": "light"
          }
        }
      ]
    },
    {
      "cell_type": "code",
      "metadata": {
        "colab": {
          "base_uri": "https://localhost:8080/"
        },
        "id": "edNf9KmcJTvX",
        "outputId": "0dffa268-3144-4554-a3fa-1f2464cc8a4d"
      },
      "source": [
        "# 데이터 길이\n",
        "print(f\"char 길이 최대:    {np.max(train_length):4d}\")\n",
        "print(f\"char 길이 최소:    {np.min(train_length):4d}\")\n",
        "print(f\"char 길이 평균:    {np.mean(train_length):7.2f}\")\n",
        "print(f\"char 길이 표준편차: {np.std(train_length):7.2f}\")"
      ],
      "execution_count": null,
      "outputs": [
        {
          "output_type": "stream",
          "text": [
            "char 길이 최대:    1970\n",
            "char 길이 최소:       4\n",
            "char 길이 평균:      63.57\n",
            "char 길이 표준편차:   37.59\n"
          ],
          "name": "stdout"
        }
      ]
    },
    {
      "cell_type": "code",
      "metadata": {
        "colab": {
          "base_uri": "https://localhost:8080/"
        },
        "id": "KqgC3VinJMSn",
        "outputId": "6648be18-6368-451f-f41a-0b76dde570d1"
      },
      "source": [
        "percentile25 = np.percentile(train_length, 25)\n",
        "percentile50 = np.percentile(train_length, 50)\n",
        "percentile75 = np.percentile(train_length, 75)\n",
        "percentileIQR = percentile75 - percentile25\n",
        "percentileMAX = percentile75 + percentileIQR * 1.5\n",
        "print(f\"char 25/100분위:  {percentile25:7.2f}\")\n",
        "print(f\"char 50/100분위:  {percentile50:7.2f}\")\n",
        "print(f\"char 75/100분위:  {percentile75:7.2f}\")\n",
        "print(f\"char IQR:        {percentileIQR:7.2f}\")\n",
        "print(f\"char MAX/100분위: {percentileMAX:7.2f}\")"
      ],
      "execution_count": null,
      "outputs": [
        {
          "output_type": "stream",
          "text": [
            "char 25/100분위:    38.00\n",
            "char 50/100분위:    57.00\n",
            "char 75/100분위:    81.00\n",
            "char IQR:          43.00\n",
            "char MAX/100분위:  145.50\n"
          ],
          "name": "stdout"
        }
      ]
    },
    {
      "cell_type": "code",
      "metadata": {
        "colab": {
          "base_uri": "https://localhost:8080/",
          "height": 374
        },
        "id": "vlBMo18GJbSG",
        "outputId": "9fb49de7-8446-497c-d284-050f341b03a8"
      },
      "source": [
        "plt.figure(figsize=(4, 6))\n",
        "plt.boxplot(train_length, labels=['char counts'], showmeans=True)\n",
        "plt.show()"
      ],
      "execution_count": null,
      "outputs": [
        {
          "output_type": "display_data",
          "data": {
            "image/png": "[encoded data removed]",
            "text/plain": [
              "<Figure size 288x432 with 1 Axes>"
            ]
          },
          "metadata": {
            "tags": [],
            "needs_background": "light"
          }
        }
      ]
    },
    {
      "cell_type": "markdown",
      "metadata": {
        "id": "5J7mKomVJrcR"
      },
      "source": [
        "## word length"
      ]
    },
    {
      "cell_type": "code",
      "metadata": {
        "colab": {
          "base_uri": "https://localhost:8080/"
        },
        "id": "pTn7llNmJrcS",
        "outputId": "774a7ed2-7aa6-4d0f-b168-8a5b3d32c309"
      },
      "source": [
        "# word 길이 데이터\n",
        "train_length = df.iloc[:,0].apply(lambda x:len(x.split()))\n",
        "train_length.head(10)"
      ],
      "execution_count": null,
      "outputs": [
        {
          "output_type": "execute_result",
          "data": {
            "text/plain": [
              "0    11\n",
              "1    12\n",
              "2    10\n",
              "3    26\n",
              "4    12\n",
              "5    15\n",
              "6    18\n",
              "7     6\n",
              "8     3\n",
              "9    12\n",
              "Name: text, dtype: int64"
            ]
          },
          "metadata": {
            "tags": []
          },
          "execution_count": 23
        }
      ]
    },
    {
      "cell_type": "code",
      "metadata": {
        "colab": {
          "base_uri": "https://localhost:8080/",
          "height": 295
        },
        "id": "UxTIm3_sJrcS",
        "outputId": "ab044cfb-0b2e-440f-a53b-b9a3d4f2a9b5"
      },
      "source": [
        "plt.figure(figsize=(8, 4))\n",
        "plt.hist(train_length, bins=50, range=[0, 50], facecolor='r', label='word')\n",
        "plt.title('Lengh of word')\n",
        "plt.xlabel('Number of word')\n",
        "plt.ylabel('Count of review')\n",
        "plt.show()"
      ],
      "execution_count": null,
      "outputs": [
        {
          "output_type": "display_data",
          "data": {
            "image/png": "[encoded data removed]",
            "text/plain": [
              "<Figure size 576x288 with 1 Axes>"
            ]
          },
          "metadata": {
            "tags": [],
            "needs_background": "light"
          }
        }
      ]
    },
    {
      "cell_type": "code",
      "metadata": {
        "colab": {
          "base_uri": "https://localhost:8080/"
        },
        "id": "mc_09rgGJrcT",
        "outputId": "c27a8d4e-d4b5-4d55-ac3c-b5bfcd5c1d9a"
      },
      "source": [
        "# 데이터 길이\n",
        "print(f\"word 길이 최대:    {np.max(train_length):4d}\")\n",
        "print(f\"word 길이 최소:    {np.min(train_length):4d}\")\n",
        "print(f\"word 길이 평균:    {np.mean(train_length):7.2f}\")\n",
        "print(f\"word 길이 표준편차: {np.std(train_length):7.2f}\")"
      ],
      "execution_count": null,
      "outputs": [
        {
          "output_type": "stream",
          "text": [
            "word 길이 최대:     344\n",
            "word 길이 최소:       1\n",
            "word 길이 평균:      14.43\n",
            "word 길이 표준편차:    8.26\n"
          ],
          "name": "stdout"
        }
      ]
    },
    {
      "cell_type": "code",
      "metadata": {
        "colab": {
          "base_uri": "https://localhost:8080/"
        },
        "id": "JenJCAxLJrcT",
        "outputId": "54b8f727-190f-46ac-a859-3c390b2b2a43"
      },
      "source": [
        "percentile25 = np.percentile(train_length, 25)\n",
        "percentile50 = np.percentile(train_length, 50)\n",
        "percentile75 = np.percentile(train_length, 75)\n",
        "percentileIQR = percentile75 - percentile25\n",
        "percentileMAX = percentile75 + percentileIQR * 1.5\n",
        "print(f\"word 25/100분위:  {percentile25:7.2f}\")\n",
        "print(f\"word 50/100분위:  {percentile50:7.2f}\")\n",
        "print(f\"word 75/100분위:  {percentile75:7.2f}\")\n",
        "print(f\"word IQR:        {percentileIQR:7.2f}\")\n",
        "print(f\"word MAX/100분위: {percentileMAX:7.2f}\")"
      ],
      "execution_count": null,
      "outputs": [
        {
          "output_type": "stream",
          "text": [
            "word 25/100분위:     9.00\n",
            "word 50/100분위:    13.00\n",
            "word 75/100분위:    18.00\n",
            "word IQR:           9.00\n",
            "word MAX/100분위:   31.50\n"
          ],
          "name": "stdout"
        }
      ]
    },
    {
      "cell_type": "code",
      "metadata": {
        "colab": {
          "base_uri": "https://localhost:8080/",
          "height": 374
        },
        "id": "i2v4jJp6JrcT",
        "outputId": "178940d6-f41a-45bc-9a57-77b513ec2a52"
      },
      "source": [
        "plt.figure(figsize=(4, 6))\n",
        "plt.boxplot(train_length, labels=['word counts'], showmeans=True)\n",
        "plt.show()"
      ],
      "execution_count": null,
      "outputs": [
        {
          "output_type": "display_data",
          "data": {
            "image/png": "[encoded data removed]",
            "text/plain": [
              "<Figure size 288x432 with 1 Axes>"
            ]
          },
          "metadata": {
            "tags": [],
            "needs_background": "light"
          }
        }
      ]
    },
    {
      "cell_type": "markdown",
      "metadata": {
        "id": "MueuVweArNg5"
      },
      "source": [
        "## token length"
      ]
    },
    {
      "cell_type": "code",
      "metadata": {
        "id": "pP2YapoX1-Fw"
      },
      "source": [
        "def get_tag_data(filepath):\n",
        "    tags = []\n",
        "\n",
        "    with open(filepath) as f:\n",
        "      \n",
        "        for line in f:\n",
        "            line = line.strip()\n",
        "            # print(line)\n",
        "            if line.startswith('##'):\n",
        "                pass\n",
        "\n",
        "            else:\n",
        "                tokens = line.split()\n",
        "                # print(tokens)\n",
        "                if len(tokens) == 4:\n",
        "                    tags.append(tokens[3])\n",
        "    return tags"
      ],
      "execution_count": null,
      "outputs": []
    },
    {
      "cell_type": "code",
      "metadata": {
        "id": "yvcw0m9C4wUu"
      },
      "source": [
        "# for file in files:\n",
        "#     with open(os.path.join('/content/NER/말뭉치 - 형태소_개체명', files[0])) as f:\n",
        "#         for i ,line in enumerate(f):\n",
        "#             line = line.strip() #strip안하면 개행문자가 되니까 2줄이 되지\n",
        "#             print(line)\n",
        "#             if i > 100:\n",
        "#                 break\n"
      ],
      "execution_count": null,
      "outputs": []
    },
    {
      "cell_type": "code",
      "metadata": {
        "colab": {
          "base_uri": "https://localhost:8080/"
        },
        "id": "_8qv0cMCw_0F",
        "outputId": "c7ada20e-6cb7-42c0-d149-71a47d4f7d0a"
      },
      "source": [
        "label_counter = collections.defaultdict(int)\n",
        "\n",
        "for file in files:\n",
        "    tags = get_tag_data(os.path.join('/content/NER/말뭉치 - 형태소_개체명', file))\n",
        "    for tag in tags:\n",
        "        label_counter[tag] += 1\n",
        "\n",
        "label_counter"
      ],
      "execution_count": null,
      "outputs": [
        {
          "output_type": "execute_result",
          "data": {
            "text/plain": [
              "defaultdict(int,\n",
              "            {'B-DAT': 6689,\n",
              "             'B-DUR': 1586,\n",
              "             'B-LOC': 7873,\n",
              "             'B-MNY': 1619,\n",
              "             'B-NOH': 16227,\n",
              "             'B-ORG': 17208,\n",
              "             'B-PER': 18544,\n",
              "             'B-PNT': 1905,\n",
              "             'B-POH': 8387,\n",
              "             'B-TIM': 483,\n",
              "             'I-DAT': 8381,\n",
              "             'I-DUR': 3424,\n",
              "             'I-LOC': 4467,\n",
              "             'I-MNY': 4308,\n",
              "             'I-NOH': 18563,\n",
              "             'I-ORG': 11721,\n",
              "             'I-PER': 5946,\n",
              "             'I-PNT': 1977,\n",
              "             'I-POH': 18449,\n",
              "             'I-TIM': 1716,\n",
              "             'O': 887860})"
            ]
          },
          "metadata": {
            "tags": []
          },
          "execution_count": 93
        }
      ]
    },
    {
      "cell_type": "code",
      "metadata": {
        "colab": {
          "base_uri": "https://localhost:8080/",
          "height": 241
        },
        "id": "QpesFTiX5p3P",
        "outputId": "0990efd6-f3a4-4e60-c92e-7db0816ca468"
      },
      "source": [
        "label_counter = sorted(label_counter.items(), key = lambda x : x[1])\n",
        "\n",
        "for i in label_counter:\n",
        "    print(i)\n",
        "    # key = lambda x : x[1]"
      ],
      "execution_count": null,
      "outputs": [
        {
          "output_type": "error",
          "ename": "AttributeError",
          "evalue": "ignored",
          "traceback": [
            "\u001b[0;31m---------------------------------------------------------------------------\u001b[0m",
            "\u001b[0;31mAttributeError\u001b[0m                            Traceback (most recent call last)",
            "\u001b[0;32m<ipython-input-103-7823feb1cec1>\u001b[0m in \u001b[0;36m<module>\u001b[0;34m()\u001b[0m\n\u001b[0;32m----> 1\u001b[0;31m \u001b[0mlabel_counter\u001b[0m \u001b[0;34m=\u001b[0m \u001b[0msorted\u001b[0m\u001b[0;34m(\u001b[0m\u001b[0mlabel_counter\u001b[0m\u001b[0;34m.\u001b[0m\u001b[0mitems\u001b[0m\u001b[0;34m(\u001b[0m\u001b[0;34m)\u001b[0m\u001b[0;34m,\u001b[0m \u001b[0mkey\u001b[0m \u001b[0;34m=\u001b[0m \u001b[0;32mlambda\u001b[0m \u001b[0mx\u001b[0m \u001b[0;34m:\u001b[0m \u001b[0mx\u001b[0m\u001b[0;34m[\u001b[0m\u001b[0;36m1\u001b[0m\u001b[0;34m]\u001b[0m\u001b[0;34m,\u001b[0m \u001b[0mreverse\u001b[0m \u001b[0;34m=\u001b[0m \u001b[0;32mTrue\u001b[0m\u001b[0;34m)\u001b[0m\u001b[0;34m\u001b[0m\u001b[0;34m\u001b[0m\u001b[0m\n\u001b[0m\u001b[1;32m      2\u001b[0m \u001b[0;34m\u001b[0m\u001b[0m\n\u001b[1;32m      3\u001b[0m \u001b[0;32mfor\u001b[0m \u001b[0mi\u001b[0m \u001b[0;32min\u001b[0m \u001b[0mlabel_counter\u001b[0m\u001b[0;34m:\u001b[0m\u001b[0;34m\u001b[0m\u001b[0;34m\u001b[0m\u001b[0m\n\u001b[1;32m      4\u001b[0m     \u001b[0mprint\u001b[0m\u001b[0;34m(\u001b[0m\u001b[0mi\u001b[0m\u001b[0;34m)\u001b[0m\u001b[0;34m\u001b[0m\u001b[0;34m\u001b[0m\u001b[0m\n\u001b[1;32m      5\u001b[0m     \u001b[0;31m# key = lambda x : x[1]\u001b[0m\u001b[0;34m\u001b[0m\u001b[0;34m\u001b[0m\u001b[0;34m\u001b[0m\u001b[0m\n",
            "\u001b[0;31mAttributeError\u001b[0m: 'list' object has no attribute 'items'"
          ]
        }
      ]
    },
    {
      "cell_type": "code",
      "metadata": {
        "id": "zbs235C4KQqH",
        "colab": {
          "base_uri": "https://localhost:8080/",
          "height": 354
        },
        "outputId": "7924745e-9b1e-4bc8-931c-11c0c9edd429"
      },
      "source": [
        "# document 길이 데이터\n",
        "train_length = df_train.iloc[:,0].apply(lambda x:len(vocab.encode_as_pieces(x)))\n",
        "train_length.head(10)"
      ],
      "execution_count": null,
      "outputs": [
        {
          "output_type": "error",
          "ename": "NameError",
          "evalue": "ignored",
          "traceback": [
            "\u001b[0;31m---------------------------------------------------------------------------\u001b[0m",
            "\u001b[0;31mNameError\u001b[0m                                 Traceback (most recent call last)",
            "\u001b[0;32m<ipython-input-55-55b8f5b1e5d2>\u001b[0m in \u001b[0;36m<module>\u001b[0;34m()\u001b[0m\n\u001b[1;32m      1\u001b[0m \u001b[0;31m# document 길이 데이터\u001b[0m\u001b[0;34m\u001b[0m\u001b[0;34m\u001b[0m\u001b[0;34m\u001b[0m\u001b[0m\n\u001b[0;32m----> 2\u001b[0;31m \u001b[0mtrain_length\u001b[0m \u001b[0;34m=\u001b[0m \u001b[0mdf_train\u001b[0m\u001b[0;34m.\u001b[0m\u001b[0miloc\u001b[0m\u001b[0;34m[\u001b[0m\u001b[0;34m:\u001b[0m\u001b[0;34m,\u001b[0m\u001b[0;36m0\u001b[0m\u001b[0;34m]\u001b[0m\u001b[0;34m.\u001b[0m\u001b[0mapply\u001b[0m\u001b[0;34m(\u001b[0m\u001b[0;32mlambda\u001b[0m \u001b[0mx\u001b[0m\u001b[0;34m:\u001b[0m\u001b[0mlen\u001b[0m\u001b[0;34m(\u001b[0m\u001b[0mvocab\u001b[0m\u001b[0;34m.\u001b[0m\u001b[0mencode_as_pieces\u001b[0m\u001b[0;34m(\u001b[0m\u001b[0mx\u001b[0m\u001b[0;34m)\u001b[0m\u001b[0;34m)\u001b[0m\u001b[0;34m)\u001b[0m\u001b[0;34m\u001b[0m\u001b[0;34m\u001b[0m\u001b[0m\n\u001b[0m\u001b[1;32m      3\u001b[0m \u001b[0mtrain_length\u001b[0m\u001b[0;34m.\u001b[0m\u001b[0mhead\u001b[0m\u001b[0;34m(\u001b[0m\u001b[0;36m10\u001b[0m\u001b[0;34m)\u001b[0m\u001b[0;34m\u001b[0m\u001b[0;34m\u001b[0m\u001b[0m\n",
            "\u001b[0;32m/usr/local/lib/python3.7/dist-packages/pandas/core/series.py\u001b[0m in \u001b[0;36mapply\u001b[0;34m(self, func, convert_dtype, args, **kwds)\u001b[0m\n\u001b[1;32m   4211\u001b[0m             \u001b[0;32melse\u001b[0m\u001b[0;34m:\u001b[0m\u001b[0;34m\u001b[0m\u001b[0;34m\u001b[0m\u001b[0m\n\u001b[1;32m   4212\u001b[0m                 \u001b[0mvalues\u001b[0m \u001b[0;34m=\u001b[0m \u001b[0mself\u001b[0m\u001b[0;34m.\u001b[0m\u001b[0mastype\u001b[0m\u001b[0;34m(\u001b[0m\u001b[0mobject\u001b[0m\u001b[0;34m)\u001b[0m\u001b[0;34m.\u001b[0m\u001b[0m_values\u001b[0m\u001b[0;34m\u001b[0m\u001b[0;34m\u001b[0m\u001b[0m\n\u001b[0;32m-> 4213\u001b[0;31m                 \u001b[0mmapped\u001b[0m \u001b[0;34m=\u001b[0m \u001b[0mlib\u001b[0m\u001b[0;34m.\u001b[0m\u001b[0mmap_infer\u001b[0m\u001b[0;34m(\u001b[0m\u001b[0mvalues\u001b[0m\u001b[0;34m,\u001b[0m \u001b[0mf\u001b[0m\u001b[0;34m,\u001b[0m \u001b[0mconvert\u001b[0m\u001b[0;34m=\u001b[0m\u001b[0mconvert_dtype\u001b[0m\u001b[0;34m)\u001b[0m\u001b[0;34m\u001b[0m\u001b[0;34m\u001b[0m\u001b[0m\n\u001b[0m\u001b[1;32m   4214\u001b[0m \u001b[0;34m\u001b[0m\u001b[0m\n\u001b[1;32m   4215\u001b[0m         \u001b[0;32mif\u001b[0m \u001b[0mlen\u001b[0m\u001b[0;34m(\u001b[0m\u001b[0mmapped\u001b[0m\u001b[0;34m)\u001b[0m \u001b[0;32mand\u001b[0m \u001b[0misinstance\u001b[0m\u001b[0;34m(\u001b[0m\u001b[0mmapped\u001b[0m\u001b[0;34m[\u001b[0m\u001b[0;36m0\u001b[0m\u001b[0;34m]\u001b[0m\u001b[0;34m,\u001b[0m \u001b[0mSeries\u001b[0m\u001b[0;34m)\u001b[0m\u001b[0;34m:\u001b[0m\u001b[0;34m\u001b[0m\u001b[0;34m\u001b[0m\u001b[0m\n",
            "\u001b[0;32mpandas/_libs/lib.pyx\u001b[0m in \u001b[0;36mpandas._libs.lib.map_infer\u001b[0;34m()\u001b[0m\n",
            "\u001b[0;32m<ipython-input-55-55b8f5b1e5d2>\u001b[0m in \u001b[0;36m<lambda>\u001b[0;34m(x)\u001b[0m\n\u001b[1;32m      1\u001b[0m \u001b[0;31m# document 길이 데이터\u001b[0m\u001b[0;34m\u001b[0m\u001b[0;34m\u001b[0m\u001b[0;34m\u001b[0m\u001b[0m\n\u001b[0;32m----> 2\u001b[0;31m \u001b[0mtrain_length\u001b[0m \u001b[0;34m=\u001b[0m \u001b[0mdf_train\u001b[0m\u001b[0;34m.\u001b[0m\u001b[0miloc\u001b[0m\u001b[0;34m[\u001b[0m\u001b[0;34m:\u001b[0m\u001b[0;34m,\u001b[0m\u001b[0;36m0\u001b[0m\u001b[0;34m]\u001b[0m\u001b[0;34m.\u001b[0m\u001b[0mapply\u001b[0m\u001b[0;34m(\u001b[0m\u001b[0;32mlambda\u001b[0m \u001b[0mx\u001b[0m\u001b[0;34m:\u001b[0m\u001b[0mlen\u001b[0m\u001b[0;34m(\u001b[0m\u001b[0mvocab\u001b[0m\u001b[0;34m.\u001b[0m\u001b[0mencode_as_pieces\u001b[0m\u001b[0;34m(\u001b[0m\u001b[0mx\u001b[0m\u001b[0;34m)\u001b[0m\u001b[0;34m)\u001b[0m\u001b[0;34m)\u001b[0m\u001b[0;34m\u001b[0m\u001b[0;34m\u001b[0m\u001b[0m\n\u001b[0m\u001b[1;32m      3\u001b[0m \u001b[0mtrain_length\u001b[0m\u001b[0;34m.\u001b[0m\u001b[0mhead\u001b[0m\u001b[0;34m(\u001b[0m\u001b[0;36m10\u001b[0m\u001b[0;34m)\u001b[0m\u001b[0;34m\u001b[0m\u001b[0;34m\u001b[0m\u001b[0m\n",
            "\u001b[0;31mNameError\u001b[0m: name 'vocab' is not defined"
          ]
        }
      ]
    },
    {
      "cell_type": "code",
      "metadata": {
        "colab": {
          "base_uri": "https://localhost:8080/",
          "height": 295
        },
        "id": "coLzU6iZKQqI",
        "outputId": "81983a1b-152c-43c6-89d4-69b7be814c66"
      },
      "source": [
        "plt.figure(figsize=(8, 4))\n",
        "plt.hist(train_length, bins=100, range=[0, 100], facecolor='r', label='word')\n",
        "plt.title('Lengh of word')\n",
        "plt.xlabel('Number of word')\n",
        "plt.ylabel('Count of review')\n",
        "plt.show()"
      ],
      "execution_count": null,
      "outputs": [
        {
          "output_type": "display_data",
          "data": {
            "image/png": "[encoded data removed]",
            "text/plain": [
              "<Figure size 576x288 with 1 Axes>"
            ]
          },
          "metadata": {
            "tags": [],
            "needs_background": "light"
          }
        }
      ]
    },
    {
      "cell_type": "code",
      "metadata": {
        "colab": {
          "base_uri": "https://localhost:8080/"
        },
        "id": "i8J-abm_KQqI",
        "outputId": "1c24fd18-1aa8-401a-f44f-cb4368656cfc"
      },
      "source": [
        "# 데이터 길이\n",
        "print(f\"token 길이 최대:    {np.max(train_length):4d}\")\n",
        "print(f\"token 길이 최소:    {np.min(train_length):4d}\")\n",
        "print(f\"token 길이 평균:    {np.mean(train_length):7.2f}\")\n",
        "print(f\"token 길이 표준편차: {np.std(train_length):7.2f}\")"
      ],
      "execution_count": null,
      "outputs": [
        {
          "output_type": "stream",
          "text": [
            "token 길이 최대:     344\n",
            "token 길이 최소:       1\n",
            "token 길이 평균:      14.43\n",
            "token 길이 표준편차:    8.26\n"
          ],
          "name": "stdout"
        }
      ]
    },
    {
      "cell_type": "code",
      "metadata": {
        "colab": {
          "base_uri": "https://localhost:8080/"
        },
        "id": "ktpCiXJnKQqJ",
        "outputId": "f5a3c229-2530-4caa-84c6-abcc33470c99"
      },
      "source": [
        "percentile25 = np.percentile(train_length, 25)\n",
        "percentile50 = np.percentile(train_length, 50)\n",
        "percentile75 = np.percentile(train_length, 75)\n",
        "percentileIQR = percentile75 - percentile25\n",
        "percentileMAX = percentile75 + percentileIQR * 1.5\n",
        "print(f\"token 25/100분위:  {percentile25:7.2f}\")\n",
        "print(f\"token 50/100분위:  {percentile50:7.2f}\")\n",
        "print(f\"token 75/100분위:  {percentile75:7.2f}\")\n",
        "print(f\"token IQR:        {percentileIQR:7.2f}\")\n",
        "print(f\"token MAX/100분위: {percentileMAX:7.2f}\")"
      ],
      "execution_count": null,
      "outputs": [
        {
          "output_type": "stream",
          "text": [
            "token 25/100분위:     9.00\n",
            "token 50/100분위:    13.00\n",
            "token 75/100분위:    18.00\n",
            "token IQR:           9.00\n",
            "token MAX/100분위:   31.50\n"
          ],
          "name": "stdout"
        }
      ]
    },
    {
      "cell_type": "code",
      "metadata": {
        "colab": {
          "base_uri": "https://localhost:8080/",
          "height": 374
        },
        "id": "Zxe6wfX_KQqJ",
        "outputId": "c5034db6-941d-43a2-dbf3-45c00f6daa5e"
      },
      "source": [
        "plt.figure(figsize=(4, 6))\n",
        "plt.boxplot(train_length, labels=['token counts'], showmeans=True)\n",
        "plt.show()"
      ],
      "execution_count": null,
      "outputs": [
        {
          "output_type": "display_data",
          "data": {
            "image/png": "[encoded data removed]",
            "text/plain": [
              "<Figure size 288x432 with 1 Axes>"
            ]
          },
          "metadata": {
            "tags": [],
            "needs_background": "light"
          }
        }
      ]
    },
    {
      "cell_type": "markdown",
      "metadata": {
        "id": "uSs8BOkarNg7"
      },
      "source": [
        "## Label Count"
      ]
    },
    {
      "cell_type": "code",
      "metadata": {
        "colab": {
          "base_uri": "https://localhost:8080/"
        },
        "id": "LaygcvJoK7ez",
        "outputId": "a6f496c7-17bd-4fb5-bc4c-93dae440a801"
      },
      "source": [
        "label_count = df_train['gold_label'].value_counts()\n",
        "label_count"
      ],
      "execution_count": null,
      "outputs": [
        {
          "output_type": "execute_result",
          "data": {
            "text/plain": [
              "contradiction    311870\n",
              "neutral          311847\n",
              "entailment       311820\n",
              "Name: gold_label, dtype: int64"
            ]
          },
          "metadata": {
            "tags": []
          },
          "execution_count": 42
        }
      ]
    },
    {
      "cell_type": "code",
      "metadata": {
        "colab": {
          "base_uri": "https://localhost:8080/",
          "height": 265
        },
        "id": "KAqNfqYiLOFA",
        "outputId": "f1b34df1-a74b-4133-bc83-270a74ed773a"
      },
      "source": [
        "plt.bar([\"contradiction\", \"neutral\", \"entailment\"], label_count)\n",
        "plt.show()"
      ],
      "execution_count": null,
      "outputs": [
        {
          "output_type": "display_data",
          "data": {
            "image/png": "[encoded data removed]",
            "text/plain": [
              "<Figure size 432x288 with 1 Axes>"
            ]
          },
          "metadata": {
            "tags": [],
            "needs_background": "light"
          }
        }
      ]
    },
    {
      "cell_type": "markdown",
      "metadata": {
        "id": "Dz46hzvf61B6"
      },
      "source": [
        "\n",
        "# tra, test 데이터 생성"
      ]
    },
    {
      "cell_type": "code",
      "metadata": {
        "colab": {
          "base_uri": "https://localhost:8080/"
        },
        "id": "w_C-_3_R64Gz",
        "outputId": "0fd037b6-0de3-4f88-8047-33b84817ac37"
      },
      "source": [
        "len(df) "
      ],
      "execution_count": null,
      "outputs": [
        {
          "output_type": "execute_result",
          "data": {
            "text/plain": [
              "23963"
            ]
          },
          "metadata": {
            "tags": []
          },
          "execution_count": 86
        }
      ]
    },
    {
      "cell_type": "code",
      "metadata": {
        "colab": {
          "base_uri": "https://localhost:8080/"
        },
        "id": "p6V3SBNX7EFe",
        "outputId": "0d8b4de7-06ef-4c6f-fc6d-f1eff7883602"
      },
      "source": [
        "n_train = int(len(df) * 0.8)\n",
        "n_test = len(df) - n_train\n",
        "\n",
        "len(df), n_train, n_test"
      ],
      "execution_count": null,
      "outputs": [
        {
          "output_type": "execute_result",
          "data": {
            "text/plain": [
              "(23963, 19170, 4793)"
            ]
          },
          "metadata": {
            "tags": []
          },
          "execution_count": 87
        }
      ]
    },
    {
      "cell_type": "code",
      "metadata": {
        "colab": {
          "base_uri": "https://localhost:8080/"
        },
        "id": "yHxcrV7q7TuB",
        "outputId": "b463a266-8315-4eed-c61a-9eea39130ecb"
      },
      "source": [
        "df_train = df.iloc[:n_train]\n",
        "df_test = df.iloc[n_train:]\n",
        "\n",
        "df_train.shape, df_test.shape"
      ],
      "execution_count": null,
      "outputs": [
        {
          "output_type": "execute_result",
          "data": {
            "text/plain": [
              "((19170, 2), (4793, 2))"
            ]
          },
          "metadata": {
            "tags": []
          },
          "execution_count": 88
        }
      ]
    },
    {
      "cell_type": "code",
      "metadata": {
        "id": "zu5Ng9eJ7vUj"
      },
      "source": [
        "df_train = df_train.sample(3)\n",
        "df_test = df_test.sample(3)"
      ],
      "execution_count": null,
      "outputs": []
    },
    {
      "cell_type": "code",
      "metadata": {
        "id": "Yyenoisus_iw"
      },
      "source": [
        "def arrange_pos(text):\n",
        "    poses = okt.pos(text)\n",
        "    # print(poses) # 아직까진 띄어쓰기에 대한 정보가 없지\n",
        "    # print(text)\n",
        "    index = 0\n",
        "    pos_list = []\n",
        "    for w, p in poses:\n",
        "        # print(w,p, index)\n",
        "        if text[index] == ' ':\n",
        "            index += 1 # 이제야 공백처리가 됐네\n",
        "        w_len = len(w)\n",
        "        # print(text[index: index + w_len]) # 이게 text의 시작점 위치 저장\n",
        "        # print()\n",
        "        assert w == text[index:index + w_len] #혹시모를 방어 코드\n",
        "        pos_list.append([w, p , 'O', index, index + w_len]) # (단어, 품사종류, label값의 자리를 만드는(일단 기본으로 넣고), 그단어의 시작점, 그단어의 끝점)\n",
        "        index += w_len # 아직도 공백처리가 안되네\n",
        "    return pos_list"
      ],
      "execution_count": null,
      "outputs": []
    },
    {
      "cell_type": "code",
      "metadata": {
        "colab": {
          "base_uri": "https://localhost:8080/"
        },
        "id": "gLPilICbtZLh",
        "outputId": "429fbae4-7981-4210-c670-5dbbbc144230"
      },
      "source": [
        "arrange_pos('용인 시민축구단 : 서울 파벌FC (용인종합운동장)')"
      ],
      "execution_count": null,
      "outputs": [
        {
          "output_type": "execute_result",
          "data": {
            "text/plain": [
              "[['용인', 'Noun', 'O', 0, 2],\n",
              " ['시민', 'Noun', 'O', 3, 5],\n",
              " ['축구단', 'Noun', 'O', 5, 8],\n",
              " [':', 'Punctuation', 'O', 9, 10],\n",
              " ['서울', 'Noun', 'O', 11, 13],\n",
              " ['파벌', 'Noun', 'O', 14, 16],\n",
              " ['FC', 'Alpha', 'O', 16, 18],\n",
              " ['(', 'Punctuation', 'O', 19, 20],\n",
              " ['용인', 'Noun', 'O', 20, 22],\n",
              " ['종합', 'Noun', 'O', 22, 24],\n",
              " ['운동장', 'Noun', 'O', 24, 27],\n",
              " [')', 'Punctuation', 'O', 27, 28]]"
            ]
          },
          "metadata": {
            "tags": []
          },
          "execution_count": 50
        }
      ]
    },
    {
      "cell_type": "code",
      "metadata": {
        "id": "Q5qj5WXGvGLb"
      },
      "source": [
        "def arrange_label(text, label):\n",
        "    pattern = re.compile(\"<([^<]+):([A-Z]{3})>\")\n",
        "    matchs = pattern.finditer(label) # 이런 꺽새가 여러개 있으니까 finditer로 뽑아낼게\n",
        "\n",
        "    n_match = 0\n",
        "    label_list = []\n",
        "    for match in matchs:\n",
        "\n",
        "        w = match[1]\n",
        "        t = match[2]\n",
        "        s = match.start()\n",
        "        e = match.end()\n",
        "        # print(match)\n",
        "        # print(w)\n",
        "        # print(t)\n",
        "        # print(s)\n",
        "        # print(e)\n",
        "        i1 = s - 6 * n_match  # 이게 시작점 (처음은0)# 한번 돌아갈때마다 <>:OPG 총 6개 들어가니까 6n으로 index자리를 빼겠다는거지\n",
        "        i2 = e - 6 * n_match -6# 이거는 text의 마지막 index에서 -6해야지 위에 특별문자 6개 때문에\n",
        "        # print( i1,i2)\n",
        "        assert w == text[i1:i2]\n",
        "        label_list.append([w,t,i1,i2])\n",
        "        n_match += 1\n",
        "    return label_list\n"
      ],
      "execution_count": null,
      "outputs": []
    },
    {
      "cell_type": "code",
      "metadata": {
        "colab": {
          "base_uri": "https://localhost:8080/"
        },
        "id": "N0pmdFCUvjHI",
        "outputId": "a50cf815-f7f5-45a3-f0e7-c504845a6cd6"
      },
      "source": [
        "arrange_label('용인 시민축구단 : 서울 파발FC (용인종합운동장)', '<용인 시민축구단:ORG> : <서울 파발FC:ORG> (<용인종합운동장:LOC>)')"
      ],
      "execution_count": null,
      "outputs": [
        {
          "output_type": "execute_result",
          "data": {
            "text/plain": [
              "[['용인 시민축구단', 'ORG', 0, 8],\n",
              " ['서울 파발FC', 'ORG', 11, 18],\n",
              " ['용인종합운동장', 'LOC', 20, 27]]"
            ]
          },
          "metadata": {
            "tags": []
          },
          "execution_count": 52
        }
      ]
    },
    {
      "cell_type": "code",
      "metadata": {
        "id": "ISj-e58IxZVu"
      },
      "source": [
        "def arrange_data(text, label):\n",
        "    pos_list = arrange_pos(text)\n",
        "    label_list = arrange_label(text,label)\n",
        "    # print(text)\n",
        "    # print(label)\n",
        "\n",
        "    for pos in pos_list:\n",
        "        flag = False\n",
        "        for label in label_list:\n",
        "            if pos[3] < label[3] and pos[4] >label[2]: # text와 label의 시작점과 끝점을 비교!\n",
        "                pos[2] = f'I-{label[1]}' if flag else f'B-{label[1]}' # 아까 label 자리를 만들어줬으니까 오른쪽과 비교해서 걸리는 족거는 label을 바꾸는 거지\n",
        "                # print(flag,label,pos)  ## flag가 true면 왼쪽 아니면 오른쪽!\n",
        "                flag = True\n",
        "    return pos_list\n",
        "            \n",
        "    # print()"
      ],
      "execution_count": null,
      "outputs": []
    },
    {
      "cell_type": "code",
      "metadata": {
        "id": "P8IktGwGxpJR"
      },
      "source": [
        "def make_data(df,vocab_word, vocab_pos, vocab_tag, okt, n_seq):\n",
        "    inputs_1, inputs_2,labels = [], [], []\n",
        "\n",
        "    for i , row in tqdm(df_train.iterrows(), total = len(df_train)):\n",
        "        input_1, input_2, label = [], [] ,[]\n",
        "        pos_list = arrange_data(row['text'], row['label'])\n",
        "\n",
        "        # print(pos_list)\n",
        "        for pos in pos_list:\n",
        "            input_1.append(vocab_word.get(pos[0],1))\n",
        "            input_2.append(vocab_pos.get(pos[1],1))\n",
        "            label.append(vocab_tag.get(pos[2],2))\n",
        "        # print(input_1,input_2,label)\n",
        "\n",
        "    input_1 = input_1[:n_seq]\n",
        "    input_1 = input_1 + [0] * (n_seq - len(input_1))\n",
        "    inputs_1.append(input_1)\n",
        "\n",
        "    input_2 = input_2[:n_seq]\n",
        "    input_2 = input_2 + [0] * (n_seq - len(input_2))\n",
        "    inputs_2.append(input_2)\n",
        "\n",
        "    label = label[:n_seq]\n",
        "    label = label + [0] * (n_seq - len(label))\n",
        "    labels.append(label)\n",
        "\n",
        "    inputs_1 = np.array(inputs_1)\n",
        "    inputs_2 = np.array(inputs_2)\n",
        "    labels = np.array(labels)\n",
        "\n",
        "    return inputs_1, inputs_2, labels"
      ],
      "execution_count": null,
      "outputs": []
    },
    {
      "cell_type": "code",
      "metadata": {
        "id": "yIm0Uzex7Hm-"
      },
      "source": [
        "# vocab_word\n",
        "# vocab_pos.txt\n",
        "# vocab_tag"
      ],
      "execution_count": null,
      "outputs": []
    },
    {
      "cell_type": "code",
      "metadata": {
        "colab": {
          "base_uri": "https://localhost:8080/",
          "height": 404,
          "referenced_widgets": [
            "3aede970438647edbe5e2240ae191480",
            "ed48da4d1e7c4fd2aa1831fbcd0c4b19",
            "c8cdc2269c6544859577c068e80511b3",
            "b19f0d022434471da47d0dc3753ac9f4",
            "03b8760ba6c8410fbb35d8e7519abba8",
            "fd4801e02d93413b820cf3e0ed3007f3",
            "e3f4d104a0de4eb98f9aaa536278a295",
            "d82b61da32ad48679e3bfcef838d84d8"
          ]
        },
        "id": "5_1rMXIe6-mv",
        "outputId": "3cf8fd8d-e673-46b1-d7b6-b00ba46f970b"
      },
      "source": [
        "inputs_1 , inputs_2, labels = make_data(df_train, vocab_word, vocab_pos, vocab_tag, okt , 80)\n",
        "inputs_1 , inputs_2, labels"
      ],
      "execution_count": null,
      "outputs": [
        {
          "output_type": "display_data",
          "data": {
            "application/vnd.jupyter.widget-view+json": {
              "model_id": "3aede970438647edbe5e2240ae191480",
              "version_minor": 0,
              "version_major": 2
            },
            "text/plain": [
              "HBox(children=(FloatProgress(value=0.0, max=19170.0), HTML(value='')))"
            ]
          },
          "metadata": {
            "tags": []
          }
        },
        {
          "output_type": "stream",
          "text": [
            "\n"
          ],
          "name": "stdout"
        },
        {
          "output_type": "execute_result",
          "data": {
            "text/plain": [
              "(array([[  697,    53,  4284,    19, 44364, 44365,    58,  4223,    32,\n",
              "          1861,  7264,    12,  6826,    37,  1006,  3711,   225,  3677,\n",
              "            79,   809,   396,    53,  7899, 17596,  1216,  3958, 44366,\n",
              "          3636,    37, 19195,   560,  1216,   112,   128,  1515,  6567,\n",
              "           396,     7,   328,   328,  1716,   347, 19913,  4406,  1407,\n",
              "         11471,    21,     7,   809,    14,   128, 44367,   740,   418,\n",
              "         44368,    21,  9281,   546,    19, 44369, 44370,  1924,    79,\n",
              "         19245,   187, 44371,   187,  2538,  2189, 44372,    21,  8873,\n",
              "            56,    24, 11429, 44373, 44374,   108, 22935,   143]]),\n",
              " array([[ 3,  4,  3,  4,  6,  3,  4,  3,  4, 10,  3,  4,  3,  4,  3,  6,\n",
              "          3,  4,  7,  3, 12,  4,  3,  3,  4,  3,  4,  3,  4,  6,  3,  4,\n",
              "          3,  4,  6,  3, 12,  4,  3,  3,  3,  4,  3,  4, 10,  6,  7,  3,\n",
              "          3,  3,  4,  3,  3,  4, 10,  7, 11,  3,  4,  3,  7,  3,  7,  3,\n",
              "          7,  9,  7,  6,  6,  6,  7,  3,  4,  9,  3,  6,  3,  4,  6,  3]]),\n",
              " array([[14,  4,  4,  4,  4,  4,  4,  4,  4,  4,  4,  4,  4,  4,  4,  4,\n",
              "          4,  4,  4,  4,  4,  4,  4,  4,  4,  4,  4,  4,  4,  4,  4,  4,\n",
              "          4,  4,  4,  4,  4,  4,  4,  4,  4,  4,  4,  4,  4,  4,  4,  4,\n",
              "          4,  4,  4, 13,  4,  4,  4,  4,  4,  4,  4,  4,  4,  4,  4,  4,\n",
              "          4,  4,  4,  4,  4,  4,  4,  4,  4,  4,  4,  4,  4,  4,  4,  4]]))"
            ]
          },
          "metadata": {
            "tags": []
          },
          "execution_count": 89
        }
      ]
    },
    {
      "cell_type": "code",
      "metadata": {
        "colab": {
          "base_uri": "https://localhost:8080/",
          "height": 404,
          "referenced_widgets": [
            "32743ff115d24f79b6420a6278a0595c",
            "77eceea76efd4fee8734ac6c39de6513",
            "dcf4395249d44aa1870ed2460bded9b8",
            "5762855ddb014979b602d0ec2dc140ff",
            "f2d998bf30a049359a02345bf2f6b8a8",
            "ad1b055f48294a21a81fb5a71b5a06f4",
            "d9fdeca867504e5684cbd860cb37480d",
            "f3e24823ecc2443f8420070b7d193e31"
          ]
        },
        "id": "9unF2Q45tn_x",
        "outputId": "07b53a8c-580e-41fc-b4cd-8ff028563d24"
      },
      "source": [
        "inputs_11 , inputs_22, labelss = make_data(df_test, vocab_word, vocab_pos, vocab_tag, okt , 80)\n",
        "inputs_11 , inputs_22, labelss"
      ],
      "execution_count": null,
      "outputs": [
        {
          "output_type": "display_data",
          "data": {
            "application/vnd.jupyter.widget-view+json": {
              "model_id": "32743ff115d24f79b6420a6278a0595c",
              "version_minor": 0,
              "version_major": 2
            },
            "text/plain": [
              "HBox(children=(FloatProgress(value=0.0, max=19170.0), HTML(value='')))"
            ]
          },
          "metadata": {
            "tags": []
          }
        },
        {
          "output_type": "stream",
          "text": [
            "\n"
          ],
          "name": "stdout"
        },
        {
          "output_type": "execute_result",
          "data": {
            "text/plain": [
              "(array([[  697,    53,  4284,    19, 44364, 44365,    58,  4223,    32,\n",
              "          1861,  7264,    12,  6826,    37,  1006,  3711,   225,  3677,\n",
              "            79,   809,   396,    53,  7899, 17596,  1216,  3958, 44366,\n",
              "          3636,    37, 19195,   560,  1216,   112,   128,  1515,  6567,\n",
              "           396,     7,   328,   328,  1716,   347, 19913,  4406,  1407,\n",
              "         11471,    21,     7,   809,    14,   128, 44367,   740,   418,\n",
              "         44368,    21,  9281,   546,    19, 44369, 44370,  1924,    79,\n",
              "         19245,   187, 44371,   187,  2538,  2189, 44372,    21,  8873,\n",
              "            56,    24, 11429, 44373, 44374,   108, 22935,   143]]),\n",
              " array([[ 3,  4,  3,  4,  6,  3,  4,  3,  4, 10,  3,  4,  3,  4,  3,  6,\n",
              "          3,  4,  7,  3, 12,  4,  3,  3,  4,  3,  4,  3,  4,  6,  3,  4,\n",
              "          3,  4,  6,  3, 12,  4,  3,  3,  3,  4,  3,  4, 10,  6,  7,  3,\n",
              "          3,  3,  4,  3,  3,  4, 10,  7, 11,  3,  4,  3,  7,  3,  7,  3,\n",
              "          7,  9,  7,  6,  6,  6,  7,  3,  4,  9,  3,  6,  3,  4,  6,  3]]),\n",
              " array([[14,  4,  4,  4,  4,  4,  4,  4,  4,  4,  4,  4,  4,  4,  4,  4,\n",
              "          4,  4,  4,  4,  4,  4,  4,  4,  4,  4,  4,  4,  4,  4,  4,  4,\n",
              "          4,  4,  4,  4,  4,  4,  4,  4,  4,  4,  4,  4,  4,  4,  4,  4,\n",
              "          4,  4,  4, 13,  4,  4,  4,  4,  4,  4,  4,  4,  4,  4,  4,  4,\n",
              "          4,  4,  4,  4,  4,  4,  4,  4,  4,  4,  4,  4,  4,  4,  4,  4]]))"
            ]
          },
          "metadata": {
            "tags": []
          },
          "execution_count": 90
        }
      ]
    },
    {
      "cell_type": "code",
      "metadata": {
        "id": "ST3CACqd_n8q"
      },
      "source": [
        "# inputs_1\n",
        "# inputs_2\n",
        "# label"
      ],
      "execution_count": null,
      "outputs": []
    },
    {
      "cell_type": "code",
      "metadata": {
        "colab": {
          "base_uri": "https://localhost:8080/"
        },
        "id": "vYzF0QJNqXF_",
        "outputId": "e50b7178-7987-4332-9c10-4d629cfa33b3"
      },
      "source": [
        "# 내가 하던중\n",
        "# 이 단어가 어디의 위치에 있는지 알아냈지\n",
        "\n",
        "import re\n",
        "\n",
        "for i, row in df_train.iterrows():\n",
        "    text = row['text']\n",
        "    label = row['label']\n",
        "    poses = okt.pos(text)\n",
        "\n",
        "    print(text)\n",
        "    print(poses)\n",
        "    # print(label)\n",
        "\n",
        "    index = 0\n",
        "    data = []\n",
        "    for w, p in poses:\n",
        "        if text[index] == ' ':\n",
        "            index += 1\n",
        "        w_len = len(w)\n",
        "        data.append([w,p,index, index + w_len])\n",
        "        index += w_len\n",
        "    print(data)"
      ],
      "execution_count": null,
      "outputs": [
        {
          "output_type": "stream",
          "text": [
            "북한 6차 핵실험 임박?…사용 안 한 3번 갱도에 위장막 설치\n",
            "[('북한', 'Noun'), ('6', 'Number'), ('차', 'Noun'), ('핵실험', 'Noun'), ('임박', 'Noun'), ('?…', 'Punctuation'), ('사용', 'Noun'), ('안', 'Noun'), ('한', 'Verb'), ('3', 'Number'), ('번', 'Noun'), ('갱도', 'Noun'), ('에', 'Josa'), ('위장', 'Noun'), ('막', 'Noun'), ('설치', 'Noun')]\n",
            "[['북한', 'Noun', 0, 2], ['6', 'Number', 3, 4], ['차', 'Noun', 4, 5], ['핵실험', 'Noun', 6, 9], ['임박', 'Noun', 10, 12], ['?…', 'Punctuation', 12, 14], ['사용', 'Noun', 14, 16], ['안', 'Noun', 17, 18], ['한', 'Verb', 19, 20], ['3', 'Number', 21, 22], ['번', 'Noun', 22, 23], ['갱도', 'Noun', 24, 26], ['에', 'Josa', 26, 27], ['위장', 'Noun', 28, 30], ['막', 'Noun', 30, 31], ['설치', 'Noun', 32, 34]]\n",
            "가격은 4만8000원(세금 및 봉사료 포함). 기간은 3월 28일까지다.\n",
            "[('가격', 'Noun'), ('은', 'Josa'), ('4만', 'Number'), ('8000원', 'Number'), ('(', 'Punctuation'), ('세금', 'Noun'), ('및', 'Noun'), ('봉사', 'Noun'), ('료', 'Noun'), ('포함', 'Noun'), (').', 'Punctuation'), ('기간', 'Noun'), ('은', 'Josa'), ('3월', 'Number'), ('28일', 'Number'), ('까지다', 'Foreign'), ('.', 'Punctuation')]\n",
            "[['가격', 'Noun', 0, 2], ['은', 'Josa', 2, 3], ['4만', 'Number', 4, 6], ['8000원', 'Number', 6, 11], ['(', 'Punctuation', 11, 12], ['세금', 'Noun', 12, 14], ['및', 'Noun', 15, 16], ['봉사', 'Noun', 17, 19], ['료', 'Noun', 19, 20], ['포함', 'Noun', 21, 23], [').', 'Punctuation', 23, 25], ['기간', 'Noun', 26, 28], ['은', 'Josa', 28, 29], ['3월', 'Number', 30, 32], ['28일', 'Number', 33, 36], ['까지다', 'Foreign', 36, 39], ['.', 'Punctuation', 39, 40]]\n",
            "\"개성 넘치는 숙박시설·음식점 제주 매력 느끼는 박물관·체험장 전망 좋은 맛집·카페 곳곳에\"우리나라에서 가장 큰 보물섬 제주도. 예로부터 돌·바람·여자가 많고, 도둑·대문·거지가 없다고 해서 육지와는 다른 독창적인 문화를 지졌다.\n",
            "[('\"', 'Punctuation'), ('개성', 'Noun'), ('넘치는', 'Adjective'), ('숙박시설', 'Noun'), ('·', 'Punctuation'), ('음식점', 'Noun'), ('제주', 'Noun'), ('매력', 'Noun'), ('느끼는', 'Verb'), ('박물관', 'Noun'), ('·', 'Punctuation'), ('체험', 'Noun'), ('장', 'Suffix'), ('전망', 'Noun'), ('좋은', 'Adjective'), ('맛집', 'Noun'), ('·', 'Punctuation'), ('카페', 'Noun'), ('곳곳', 'Noun'), ('에', 'Josa'), ('\"', 'Punctuation'), ('우리나라', 'Noun'), ('에서', 'Josa'), ('가장', 'Noun'), ('큰', 'Verb'), ('보물섬', 'Noun'), ('제주도', 'Noun'), ('.', 'Punctuation'), ('예', 'Modifier'), ('로부터', 'Noun'), ('돌', 'Noun'), ('·', 'Punctuation'), ('바람', 'Noun'), ('·', 'Punctuation'), ('여자', 'Noun'), ('가', 'Josa'), ('많고', 'Adjective'), (',', 'Punctuation'), ('도둑', 'Noun'), ('·', 'Punctuation'), ('대문', 'Noun'), ('·', 'Punctuation'), ('거지', 'Noun'), ('가', 'Josa'), ('없다고', 'Adjective'), ('해서', 'Verb'), ('육지', 'Noun'), ('와는', 'Josa'), ('다른', 'Noun'), ('독창', 'Noun'), ('적', 'Suffix'), ('인', 'Josa'), ('문화', 'Noun'), ('를', 'Josa'), ('지졌다', 'Verb'), ('.', 'Punctuation')]\n",
            "[['\"', 'Punctuation', 0, 1], ['개성', 'Noun', 1, 3], ['넘치는', 'Adjective', 4, 7], ['숙박시설', 'Noun', 8, 12], ['·', 'Punctuation', 12, 13], ['음식점', 'Noun', 13, 16], ['제주', 'Noun', 17, 19], ['매력', 'Noun', 20, 22], ['느끼는', 'Verb', 23, 26], ['박물관', 'Noun', 27, 30], ['·', 'Punctuation', 30, 31], ['체험', 'Noun', 31, 33], ['장', 'Suffix', 33, 34], ['전망', 'Noun', 35, 37], ['좋은', 'Adjective', 38, 40], ['맛집', 'Noun', 41, 43], ['·', 'Punctuation', 43, 44], ['카페', 'Noun', 44, 46], ['곳곳', 'Noun', 47, 49], ['에', 'Josa', 49, 50], ['\"', 'Punctuation', 50, 51], ['우리나라', 'Noun', 51, 55], ['에서', 'Josa', 55, 57], ['가장', 'Noun', 58, 60], ['큰', 'Verb', 61, 62], ['보물섬', 'Noun', 63, 66], ['제주도', 'Noun', 67, 70], ['.', 'Punctuation', 70, 71], ['예', 'Modifier', 72, 73], ['로부터', 'Noun', 73, 76], ['돌', 'Noun', 77, 78], ['·', 'Punctuation', 78, 79], ['바람', 'Noun', 79, 81], ['·', 'Punctuation', 81, 82], ['여자', 'Noun', 82, 84], ['가', 'Josa', 84, 85], ['많고', 'Adjective', 86, 88], [',', 'Punctuation', 88, 89], ['도둑', 'Noun', 90, 92], ['·', 'Punctuation', 92, 93], ['대문', 'Noun', 93, 95], ['·', 'Punctuation', 95, 96], ['거지', 'Noun', 96, 98], ['가', 'Josa', 98, 99], ['없다고', 'Adjective', 100, 103], ['해서', 'Verb', 104, 106], ['육지', 'Noun', 107, 109], ['와는', 'Josa', 109, 111], ['다른', 'Noun', 112, 114], ['독창', 'Noun', 115, 117], ['적', 'Suffix', 117, 118], ['인', 'Josa', 118, 119], ['문화', 'Noun', 120, 122], ['를', 'Josa', 122, 123], ['지졌다', 'Verb', 124, 127], ['.', 'Punctuation', 127, 128]]\n"
          ],
          "name": "stdout"
        }
      ]
    },
    {
      "cell_type": "code",
      "metadata": {
        "colab": {
          "base_uri": "https://localhost:8080/"
        },
        "id": "wjuLb8tm8F6n",
        "outputId": "1090c55e-5bf1-4a14-95b2-56d4eccbee38"
      },
      "source": [
        "# 이 단어가 어디의 위치에 있는지 알아냈지\n",
        "\n",
        "import re\n",
        "\n",
        "for i, row in df_train.iterrows():\n",
        "    text = row['text']\n",
        "    label = row['label']\n",
        "    poses = okt.pos(text)\n",
        "\n",
        "    print(text)\n",
        "    # print(poses)\n",
        "    print(label)\n",
        "\n",
        "    index = 0\n",
        "    data = []\n",
        "    for w, p in poses:\n",
        "        # print(w,p)\n",
        "        if text[index] == ' ': # 띄어쓰기 조심해주고\n",
        "            index += 1\n",
        "        w_len = len(w)\n",
        "        # print(w, ':', text[index:index + w_len])\n",
        "        assert w == text[index:index + w_len]\n",
        "        data.append([w,p, index, index + w_len])\n",
        "        index += w_len\n",
        "    # print(data)\n",
        "    pattern = re.compile(\"<([^<]+):([A-Z]{3})>\")\n",
        "    matchs = pattern.finditer(label)\n",
        "\n",
        "    n_match = 0\n",
        "    for match in matchs:\n",
        "        # print(match)\n",
        "        # print(match[1])\n",
        "        # print(match[2])\n",
        "        # print(match.start())\n",
        "        # print(match.end())\n",
        "\n",
        "        w = match[1]\n",
        "        t = match[2]\n",
        "        s = match.start()\n",
        "        e = match.end()\n",
        "        i1 = s - 6 * n_match\n",
        "        i2 = e - 6 * n_match -6\n",
        "        assert w == text[i1:i2]\n",
        "        n_match += 1\n",
        "\n",
        "        print()\n",
        "        print(w,t,s,e)\n",
        "        print(label[s:e]) # label의 위치를 뽑았지? -> 이제 text에서 뽑아볼게?"
      ],
      "execution_count": null,
      "outputs": [
        {
          "output_type": "stream",
          "text": [
            "북한 6차 핵실험 임박?…사용 안 한 3번 갱도에 위장막 설치\n",
            "<북한:ORG> <6차:NOH> 핵실험 임박?…사용 안 한 <3번:NOH> 갱도에 위장막 설치\n",
            "\n",
            "북한 ORG 0 8\n",
            "<북한:ORG>\n",
            "\n",
            "6차 NOH 9 17\n",
            "<6차:NOH>\n",
            "\n",
            "3번 NOH 33 41\n",
            "<3번:NOH>\n",
            "가격은 4만8000원(세금 및 봉사료 포함). 기간은 3월 28일까지다.\n",
            "가격은 <4만8000원:MNY>(세금 및 봉사료 포함). 기간은 <3월 28일:DAT>까지다.\n",
            "\n",
            "4만8000원 MNY 4 17\n",
            "<4만8000원:MNY>\n",
            "\n",
            "3월 28일 DAT 36 48\n",
            "<3월 28일:DAT>\n",
            "\"개성 넘치는 숙박시설·음식점 제주 매력 느끼는 박물관·체험장 전망 좋은 맛집·카페 곳곳에\"우리나라에서 가장 큰 보물섬 제주도. 예로부터 돌·바람·여자가 많고, 도둑·대문·거지가 없다고 해서 육지와는 다른 독창적인 문화를 지졌다.\n",
            "\"개성 넘치는 숙박시설·음식점 <제주:LOC> 매력 느끼는 박물관·체험장 전망 좋은 맛집·카페 곳곳에\"우리나라에서 가장 큰 보물섬 <제주도:LOC>. 예로부터 돌·바람·여자가 많고, 도둑·대문·거지가 없다고 해서 육지와는 다른 독창적인 문화를 지졌다.\n",
            "\n",
            "제주 LOC 17 25\n",
            "<제주:LOC>\n",
            "\n",
            "제주도 LOC 73 82\n",
            "<제주도:LOC>\n"
          ],
          "name": "stdout"
        }
      ]
    },
    {
      "cell_type": "markdown",
      "metadata": {
        "id": "i_kaEgEGG0E2"
      },
      "source": [
        "\n",
        "# modeling"
      ]
    },
    {
      "cell_type": "code",
      "metadata": {
        "colab": {
          "base_uri": "https://localhost:8080/"
        },
        "id": "D6ZPZoJeG1zq",
        "outputId": "e8f5f571-753e-4e9d-f9bb-4180b51a6fde"
      },
      "source": [
        "args.n_vocab_word = len(vocab_word)\n",
        "args.n_vocab_pos = len(vocab_pos)\n",
        "args.d_model = 4\n",
        "args.n_out = len(vocab_tag)\n",
        "args"
      ],
      "execution_count": null,
      "outputs": [
        {
          "output_type": "execute_result",
          "data": {
            "text/plain": [
              "Namespace(d_model=4, n_out=23, n_vocab_pos=24, n_vocab_word=49943, seed=1234)"
            ]
          },
          "metadata": {
            "tags": []
          },
          "execution_count": 60
        }
      ]
    },
    {
      "cell_type": "code",
      "metadata": {
        "colab": {
          "base_uri": "https://localhost:8080/"
        },
        "id": "mVpx9ugBHDGr",
        "outputId": "4560ca74-1cec-407b-df68-531ea363ea95"
      },
      "source": [
        "inputs_1 = np.random.randint(0,10, (1,8))\n",
        "inputs_2 = np.random.randint(0,10 ,(1,8))\n",
        "labels= np.random.randint(0,10, (1,8))\n",
        "\n",
        "inputs_1, inputs_2, labels"
      ],
      "execution_count": null,
      "outputs": [
        {
          "output_type": "execute_result",
          "data": {
            "text/plain": [
              "(array([[5, 1, 5, 3, 3, 9, 2, 3]]),\n",
              " array([[3, 0, 4, 2, 8, 1, 7, 0]]),\n",
              " array([[3, 2, 2, 0, 2, 0, 7, 9]]))"
            ]
          },
          "metadata": {
            "tags": []
          },
          "execution_count": 61
        }
      ]
    },
    {
      "cell_type": "code",
      "metadata": {
        "id": "kt4O9UotHJc6"
      },
      "source": [
        "embed_word = tf.keras.layers.Embedding(args.n_vocab_word, args.d_model)\n",
        "embed_pos = tf.keras.layers.Embedding(args.n_vocab_pos, args.d_model)"
      ],
      "execution_count": null,
      "outputs": []
    },
    {
      "cell_type": "code",
      "metadata": {
        "colab": {
          "base_uri": "https://localhost:8080/"
        },
        "id": "FXHrLkH5Hd8O",
        "outputId": "7577d931-a86b-497d-a06f-dcbf2af952c7"
      },
      "source": [
        "hidden_word = embed_word(inputs_1) # 단어\n",
        "hidden_pos = embed_pos(inputs_2) # 형태소\n",
        "\n",
        "hidden_word, hidden_pos"
      ],
      "execution_count": null,
      "outputs": [
        {
          "output_type": "execute_result",
          "data": {
            "text/plain": [
              "(<tf.Tensor: shape=(1, 8, 4), dtype=float32, numpy=\n",
              " array([[[-0.02798697, -0.00110071,  0.0133124 ,  0.00637371],\n",
              "         [-0.00696643,  0.04061912,  0.00072207, -0.01411822],\n",
              "         [-0.02798697, -0.00110071,  0.0133124 ,  0.00637371],\n",
              "         [ 0.00873896, -0.04772998, -0.00643448,  0.04782395],\n",
              "         [ 0.00873896, -0.04772998, -0.00643448,  0.04782395],\n",
              "         [-0.01256046,  0.0343336 , -0.02595751,  0.03221213],\n",
              "         [ 0.02788493,  0.00853021,  0.02688133, -0.00167429],\n",
              "         [ 0.00873896, -0.04772998, -0.00643448,  0.04782395]]],\n",
              "       dtype=float32)>, <tf.Tensor: shape=(1, 8, 4), dtype=float32, numpy=\n",
              " array([[[-0.02956598,  0.03029363,  0.0141835 ,  0.04274947],\n",
              "         [-0.01746353, -0.03612994,  0.01480493, -0.01959816],\n",
              "         [ 0.00848954,  0.0289362 ,  0.02202288, -0.01791685],\n",
              "         [-0.01098528,  0.0306937 , -0.00226969,  0.00098121],\n",
              "         [ 0.03756353,  0.00737777,  0.0342937 ,  0.00782709],\n",
              "         [-0.01632367, -0.03698195,  0.02057973,  0.02185966],\n",
              "         [-0.02934433,  0.03379652,  0.00654628,  0.02580747],\n",
              "         [-0.01746353, -0.03612994,  0.01480493, -0.01959816]]],\n",
              "       dtype=float32)>)"
            ]
          },
          "metadata": {
            "tags": []
          },
          "execution_count": 63
        }
      ]
    },
    {
      "cell_type": "code",
      "metadata": {
        "colab": {
          "base_uri": "https://localhost:8080/"
        },
        "id": "gzmj-sRjHsXH",
        "outputId": "a4703132-4cde-4da9-9d53-6e020abd4198"
      },
      "source": [
        "hidden =  hidden_word + hidden_pos # transformer의 방법\n",
        "hidden"
      ],
      "execution_count": null,
      "outputs": [
        {
          "output_type": "execute_result",
          "data": {
            "text/plain": [
              "<tf.Tensor: shape=(1, 8, 4), dtype=float32, numpy=\n",
              "array([[[-0.05755295,  0.02919292,  0.0274959 ,  0.04912318],\n",
              "        [-0.02442996,  0.00448918,  0.01552701, -0.03371638],\n",
              "        [-0.01949743,  0.02783549,  0.03533528, -0.01154313],\n",
              "        [-0.00224632, -0.01703628, -0.00870416,  0.04880517],\n",
              "        [ 0.04630249, -0.04035221,  0.02785922,  0.05565105],\n",
              "        [-0.02888414, -0.00264835, -0.00537778,  0.05407178],\n",
              "        [-0.0014594 ,  0.04232673,  0.03342761,  0.02413317],\n",
              "        [-0.00872457, -0.08385992,  0.00837046,  0.02822579]]],\n",
              "      dtype=float32)>"
            ]
          },
          "metadata": {
            "tags": []
          },
          "execution_count": 64
        }
      ]
    },
    {
      "cell_type": "code",
      "metadata": {
        "colab": {
          "base_uri": "https://localhost:8080/"
        },
        "id": "f2nSl6XhH3_R",
        "outputId": "d081e44e-b784-4e92-f8f1-319cf85655a2"
      },
      "source": [
        "hidden = tf.concat([hidden_word, hidden_pos] ,axis = -1) #  concatenate 의 방법\n",
        "hidden"
      ],
      "execution_count": null,
      "outputs": [
        {
          "output_type": "execute_result",
          "data": {
            "text/plain": [
              "<tf.Tensor: shape=(1, 8, 8), dtype=float32, numpy=\n",
              "array([[[-0.01826397, -0.03069841,  0.03251565,  0.00923193,\n",
              "         -0.02606037, -0.04369395, -0.00189743, -0.02968305],\n",
              "        [ 0.00380393, -0.01353813,  0.00816301, -0.02561716,\n",
              "          0.00848954,  0.0289362 ,  0.02202288, -0.01791685],\n",
              "        [-0.00696643,  0.04061912,  0.00072207, -0.01411822,\n",
              "          0.04709952,  0.03384167,  0.0277797 ,  0.04307822],\n",
              "        [-0.02798697, -0.00110071,  0.0133124 ,  0.00637371,\n",
              "         -0.02956598,  0.03029363,  0.0141835 ,  0.04274947],\n",
              "        [-0.00544795, -0.04431503, -0.02540476, -0.0194685 ,\n",
              "          0.04709952,  0.03384167,  0.0277797 ,  0.04307822],\n",
              "        [ 0.00873896, -0.04772998, -0.00643448,  0.04782395,\n",
              "          0.03756353,  0.00737777,  0.0342937 ,  0.00782709],\n",
              "        [-0.01256046,  0.0343336 , -0.02595751,  0.03221213,\n",
              "          0.03824272, -0.00190289, -0.01223388, -0.045441  ],\n",
              "        [ 0.00380393, -0.01353813,  0.00816301, -0.02561716,\n",
              "         -0.02606037, -0.04369395, -0.00189743, -0.02968305]]],\n",
              "      dtype=float32)>"
            ]
          },
          "metadata": {
            "tags": []
          },
          "execution_count": 170
        }
      ]
    },
    {
      "cell_type": "code",
      "metadata": {
        "colab": {
          "base_uri": "https://localhost:8080/"
        },
        "id": "tbTJ1Gf8ITJm",
        "outputId": "f283001f-ec9f-496d-a5da-e4d03c8dc2b2"
      },
      "source": [
        "lstm = tf.keras.layers.Bidirectional(tf.keras.layers.LSTM(units = 3, return_sequences = True))\n",
        "hidden = lstm(hidden)\n",
        "hidden\n",
        "\n",
        "# 한 라인의 앞 3개는  forward, 연속으로 뒤 3개는 backwoard"
      ],
      "execution_count": null,
      "outputs": [
        {
          "output_type": "execute_result",
          "data": {
            "text/plain": [
              "<tf.Tensor: shape=(1, 8, 6), dtype=float32, numpy=\n",
              "array([[[ 0.01119458,  0.00386365, -0.01900268, -0.0200532 ,\n",
              "          0.01412361,  0.01295322],\n",
              "        [ 0.00663345,  0.00144801, -0.01329303, -0.00523397,\n",
              "          0.0070113 ,  0.00516357],\n",
              "        [ 0.01052282, -0.00425318, -0.0141709 , -0.01085733,\n",
              "          0.00346468,  0.00995352],\n",
              "        [ 0.01261455, -0.0004417 , -0.01541479, -0.00843041,\n",
              "         -0.00680656,  0.01314576],\n",
              "        [ 0.02109461, -0.00906169, -0.0098762 , -0.00609809,\n",
              "         -0.0044841 ,  0.01417515],\n",
              "        [ 0.02149547, -0.00205709, -0.01698249, -0.01367218,\n",
              "          0.00132788,  0.01122548],\n",
              "        [ 0.02782848, -0.01057183, -0.01961453, -0.00656649,\n",
              "          0.00165898,  0.00795364],\n",
              "        [ 0.0212374 , -0.0047496 , -0.0106509 ,  0.00730262,\n",
              "         -0.00875642,  0.0056292 ]]], dtype=float32)>"
            ]
          },
          "metadata": {
            "tags": []
          },
          "execution_count": 65
        }
      ]
    },
    {
      "cell_type": "code",
      "metadata": {
        "colab": {
          "base_uri": "https://localhost:8080/"
        },
        "id": "0EPOcNOyIm-q",
        "outputId": "1f58b734-216d-4c3c-ad45-65152c62f63e"
      },
      "source": [
        "linear = tf.keras.layers.Dense(args.n_out, activation = tf.nn.softmax)\n",
        "y_pred = linear(hidden)\n",
        "y_pred"
      ],
      "execution_count": null,
      "outputs": [
        {
          "output_type": "execute_result",
          "data": {
            "text/plain": [
              "<tf.Tensor: shape=(1, 8, 23), dtype=float32, numpy=\n",
              "array([[[0.04395939, 0.04344675, 0.04371439, 0.042808  , 0.043603  ,\n",
              "         0.04300277, 0.04359424, 0.04345811, 0.04357734, 0.04300072,\n",
              "         0.04407805, 0.04331717, 0.04336938, 0.0428451 , 0.04329093,\n",
              "         0.04432363, 0.04404587, 0.04355692, 0.04343066, 0.04270465,\n",
              "         0.04340398, 0.04370025, 0.04376869],\n",
              "        [0.04379249, 0.04347576, 0.04349188, 0.04318433, 0.04365001,\n",
              "         0.04323081, 0.04350236, 0.04355814, 0.04339131, 0.04316129,\n",
              "         0.04377589, 0.04334446, 0.04333544, 0.04316236, 0.04333924,\n",
              "         0.04385624, 0.04372881, 0.04352093, 0.04357167, 0.04307847,\n",
              "         0.04339673, 0.04373412, 0.04371728],\n",
              "        [0.04388374, 0.04328251, 0.04355641, 0.04307757, 0.04345727,\n",
              "         0.04308127, 0.04357451, 0.04364635, 0.04338774, 0.04324247,\n",
              "         0.0438393 , 0.04336772, 0.04345888, 0.04322118, 0.0435493 ,\n",
              "         0.04409183, 0.04375797, 0.04354826, 0.04327986, 0.04300493,\n",
              "         0.04322601, 0.04375534, 0.04370962],\n",
              "        [0.04372751, 0.04315218, 0.04361711, 0.04322895, 0.04327591,\n",
              "         0.04313947, 0.04368174, 0.04377102, 0.0434687 , 0.0432067 ,\n",
              "         0.04369228, 0.04349683, 0.04351566, 0.0432964 , 0.04362436,\n",
              "         0.04417063, 0.04358856, 0.04341819, 0.04323333, 0.04306234,\n",
              "         0.04294731, 0.04387039, 0.0438144 ],\n",
              "        [0.04393221, 0.0431019 , 0.04360588, 0.04337676, 0.04317554,\n",
              "         0.04315643, 0.0435041 , 0.04379598, 0.04329313, 0.04339379,\n",
              "         0.04371474, 0.0432687 , 0.04367502, 0.04345823, 0.04382102,\n",
              "         0.0442716 , 0.04348492, 0.04356527, 0.04301194, 0.04296145,\n",
              "         0.04280956, 0.04389158, 0.04373023],\n",
              "        [0.0439217 , 0.04315438, 0.04369792, 0.04308055, 0.04331645,\n",
              "         0.04307791, 0.04359114, 0.04366564, 0.04336812, 0.04321173,\n",
              "         0.04384568, 0.04321879, 0.04361005, 0.04317915, 0.04366114,\n",
              "         0.04437325, 0.04364224, 0.04350987, 0.04319926, 0.04281585,\n",
              "         0.04298277, 0.04394059, 0.04393589],\n",
              "        [0.04415683, 0.04307794, 0.04351432, 0.04316435, 0.04339658,\n",
              "         0.04302976, 0.04346231, 0.0438265 , 0.04301208, 0.04327125,\n",
              "         0.04385018, 0.04299973, 0.04360492, 0.04332476, 0.04379009,\n",
              "         0.04434237, 0.04352148, 0.04360637, 0.04318386, 0.04278983,\n",
              "         0.04286008, 0.0441715 , 0.04404287],\n",
              "        [0.04379276, 0.04316965, 0.04344621, 0.04367442, 0.0433187 ,\n",
              "         0.0433791 , 0.0434292 , 0.04386483, 0.04311215, 0.04335721,\n",
              "         0.04347935, 0.04319421, 0.04358959, 0.04357856, 0.04373563,\n",
              "         0.04394246, 0.04319563, 0.04347513, 0.04333554, 0.04315584,\n",
              "         0.04277111, 0.04409126, 0.04391146]]], dtype=float32)>"
            ]
          },
          "metadata": {
            "tags": []
          },
          "execution_count": 66
        }
      ]
    },
    {
      "cell_type": "code",
      "metadata": {
        "colab": {
          "base_uri": "https://localhost:8080/"
        },
        "id": "mxwRj_GYI2qk",
        "outputId": "fa39bf3a-e4e9-42dc-c1ec-d96e675f6c16"
      },
      "source": [
        "loss_fn = tf.keras.losses.SparseCategoricalCrossentropy()\n",
        "loss = loss_fn(labels, y_pred)\n",
        "loss"
      ],
      "execution_count": null,
      "outputs": [
        {
          "output_type": "execute_result",
          "data": {
            "text/plain": [
              "<tf.Tensor: shape=(), dtype=float32, numpy=3.1341743>"
            ]
          },
          "metadata": {
            "tags": []
          },
          "execution_count": 67
        }
      ]
    },
    {
      "cell_type": "markdown",
      "metadata": {
        "id": "fnczWuQChJ-p"
      },
      "source": [
        "# all data"
      ]
    },
    {
      "cell_type": "code",
      "metadata": {
        "colab": {
          "base_uri": "https://localhost:8080/"
        },
        "id": "E0ieHZxphMod",
        "outputId": "7758e14f-72d7-4f3e-865d-c19473352828"
      },
      "source": [
        "args.n_vocab_word = len(vocab_word)\n",
        "args.n_vocab_pos = len(vocab_pos)\n",
        "args.d_model = 256\n",
        "args.n_out = len(vocab_tag)\n",
        "args"
      ],
      "execution_count": null,
      "outputs": [
        {
          "output_type": "execute_result",
          "data": {
            "text/plain": [
              "Namespace(d_model=256, n_out=23, n_vocab_pos=24, n_vocab_word=49943, seed=1234)"
            ]
          },
          "metadata": {
            "tags": []
          },
          "execution_count": 68
        }
      ]
    },
    {
      "cell_type": "code",
      "metadata": {
        "id": "c93hyrWchZz5"
      },
      "source": [
        "def build_model(args):\n",
        "    inputs_word = tf.keras.layers.Input((None,), name = 'inputs_word')\n",
        "    inputs_pos = tf.keras.layers.Input((None,), name = 'inputs_pos')\n",
        "\n",
        "    embed_word = tf.keras.layers.Embedding(args.n_vocab_word, args.d_model, name = 'embed_word')\n",
        "    hidden_word = embed_word(inputs_word)\n",
        "\n",
        "    embed_pos = tf.keras.layers.Embedding(args.n_vocab_word, args.d_model, name = 'embed_pos')\n",
        "    hidden_pos = embed_pos(inputs_pos)\n",
        "\n",
        "    concat_hidden = tf.concat([hidden_word, hidden_pos], axis = -1)\n",
        "    \n",
        "    bilstm_1 = tf.keras.layers.Bidirectional(tf.keras.layers.LSTM(units = args.d_model, return_sequences = True, return_state= True), name = 'bi-lstm')\n",
        "    hidden, fw_h,fw_c, bw_h,bw_c = bilstm_1(concat_hidden)\n",
        "\n",
        "    bilstm_2 = tf.keras.layers.Bidirectional(tf.keras.layers.LSTM(units = args.d_model, return_sequences = True),name = 'bi-lstm2')\n",
        "    hidden =     bilstm_2(hidden, initial_state = (fw_h, fw_c, bw_h,bw_c))\n",
        "\n",
        "    linear = tf.keras.layers.Dense(args.n_out, activation = tf.nn.softmax)\n",
        "    y_pred = linear(hidden)\n",
        "\n",
        "    model = tf.keras.Model(inputs = (inputs_word, inputs_pos), outputs = y_pred)\n",
        "    return model"
      ],
      "execution_count": null,
      "outputs": []
    },
    {
      "cell_type": "code",
      "metadata": {
        "colab": {
          "base_uri": "https://localhost:8080/",
          "height": 474
        },
        "id": "Z9VrZupCkNx3",
        "outputId": "632e6095-c4fb-4e39-edd0-e9d5ae960240"
      },
      "source": [
        "model = build_model(args)\n",
        "tf.keras.utils.plot_model(model, 'model.png', show_shapes = True)"
      ],
      "execution_count": null,
      "outputs": [
        {
          "output_type": "execute_result",
          "data": {
            "image/png": "[encoded data removed]",
            "text/plain": [
              "<IPython.core.display.Image object>"
            ]
          },
          "metadata": {
            "tags": []
          },
          "execution_count": 80
        }
      ]
    },
    {
      "cell_type": "code",
      "metadata": {
        "id": "hzBEpbFgsw8y"
      },
      "source": [
        "model.compile(loss='sparse_categorical_crossentropy',\n",
        "              optimizer = 'adam',\n",
        "              metrics = ['accuracy'])"
      ],
      "execution_count": null,
      "outputs": []
    },
    {
      "cell_type": "code",
      "metadata": {
        "id": "1EtsnguBtQ8h"
      },
      "source": [
        ""
      ],
      "execution_count": null,
      "outputs": []
    },
    {
      "cell_type": "code",
      "metadata": {
        "colab": {
          "base_uri": "https://localhost:8080/"
        },
        "id": "vzWo417qs6Zp",
        "outputId": "426f6af4-7ec5-438d-bca3-217c30ed9dc0"
      },
      "source": [
        "history = model.fit((inputs_1, inputs_2),labels,\n",
        "                    epochs = 10,\n",
        "                    batch_size = 256,\n",
        "                    validation_data =((inputs_11,inputs_22), labelss))"
      ],
      "execution_count": null,
      "outputs": [
        {
          "output_type": "stream",
          "text": [
            "Epoch 1/10\n",
            "1/1 [==============================] - 14s 14s/step - loss: 3.1512 - accuracy: 0.0000e+00 - val_loss: 2.8634 - val_accuracy: 0.9750\n",
            "Epoch 2/10\n",
            "1/1 [==============================] - 0s 454ms/step - loss: 2.8634 - accuracy: 0.9750 - val_loss: 2.3009 - val_accuracy: 0.9750\n",
            "Epoch 3/10\n",
            "1/1 [==============================] - 0s 286ms/step - loss: 2.3009 - accuracy: 0.9750 - val_loss: 0.8695 - val_accuracy: 0.9750\n",
            "Epoch 4/10\n",
            "1/1 [==============================] - 0s 286ms/step - loss: 0.8695 - accuracy: 0.9750 - val_loss: 0.2010 - val_accuracy: 0.9750\n",
            "Epoch 5/10\n",
            "1/1 [==============================] - 0s 293ms/step - loss: 0.2010 - accuracy: 0.9750 - val_loss: 0.2607 - val_accuracy: 0.9750\n",
            "Epoch 6/10\n",
            "1/1 [==============================] - 0s 297ms/step - loss: 0.2607 - accuracy: 0.9750 - val_loss: 0.2643 - val_accuracy: 0.9750\n",
            "Epoch 7/10\n",
            "1/1 [==============================] - 0s 286ms/step - loss: 0.2643 - accuracy: 0.9750 - val_loss: 0.2371 - val_accuracy: 0.9750\n",
            "Epoch 8/10\n",
            "1/1 [==============================] - 0s 283ms/step - loss: 0.2371 - accuracy: 0.9750 - val_loss: 0.1965 - val_accuracy: 0.9750\n",
            "Epoch 9/10\n",
            "1/1 [==============================] - 0s 285ms/step - loss: 0.1965 - accuracy: 0.9750 - val_loss: 0.1518 - val_accuracy: 0.9750\n",
            "Epoch 10/10\n",
            "1/1 [==============================] - 0s 298ms/step - loss: 0.1518 - accuracy: 0.9750 - val_loss: 0.1117 - val_accuracy: 0.9750\n"
          ],
          "name": "stdout"
        }
      ]
    },
    {
      "cell_type": "code",
      "metadata": {
        "id": "SFw9TtDys6yK"
      },
      "source": [
        "def do_predict(model, text):\n",
        "    poses = okt.pos(text)\n",
        "    input_word, input_pos = [], []\n",
        "    for pos in poses:\n",
        "        input_word.append(vocab_word.get(pos[0],1))\n",
        "        inputs_pos.append(vocab_pos.get(pos[1],1))\n",
        "    inputs_word = np.array([input_word])\n",
        "    inputs_pos = np.array([input_pos])\n",
        "\n",
        "    y_pred = model.predict((inputs_word, inputs_pos))\n",
        "    print(y_pred.shape) # (bs, 6)\n",
        "    y_class = np.argmax(y_pred, axis = -1)[0]\n",
        "    print(y_class.shape)\n",
        "\n",
        "    result = []\n",
        "    for pos, _id in zip(poses, y_class):\n",
        "        result.append((pos[0], id_to_label[_id]))\n",
        "    return result"
      ],
      "execution_count": null,
      "outputs": []
    },
    {
      "cell_type": "markdown",
      "metadata": {
        "id": "WB0cfrHoGOKX"
      },
      "source": [
        "# Loss & Acc*"
      ]
    },
    {
      "cell_type": "markdown",
      "metadata": {
        "id": "LvylK3P37t6w"
      },
      "source": [
        "# Small Data Project"
      ]
    },
    {
      "cell_type": "markdown",
      "metadata": {
        "id": "gaytdbuXU7CY"
      },
      "source": [
        "- PAD:  # PAD\n",
        "- O:  # other\n",
        "- B_DAT  # 날짜\n",
        "- I_DAT\n",
        "- B_DUR  # 기간\n",
        "- I_DUR\n",
        "- B_LOC  # 위치\n",
        "- I_LOC\n",
        "- B_MNY  # 통화\n",
        "- I_MNY\n",
        "- B_NOH  # 수량\n",
        "- I_NOH\n",
        "- B_ORG  # 기관\n",
        "- I_ORG\n",
        "- B_PER  # 사람\n",
        "- I_PER\n",
        "- B_PNT  # 비율\n",
        "- I_PNT\n",
        "- B_POH  # 기타\n",
        "- I_POH\n",
        "- B_TIM  # 시간\n",
        "- I_TIM"
      ]
    },
    {
      "cell_type": "markdown",
      "metadata": {
        "id": "Vwjo-BxiCiki"
      },
      "source": [
        "## Train, Test 데이터 생성"
      ]
    },
    {
      "cell_type": "markdown",
      "metadata": {
        "id": "UcCJTiPNKwMD"
      },
      "source": [
        "## Modeling"
      ]
    },
    {
      "cell_type": "markdown",
      "metadata": {
        "id": "gWkJRJPUUVnu"
      },
      "source": [
        "## Train"
      ]
    },
    {
      "cell_type": "markdown",
      "metadata": {
        "id": "mUww_hyZaSnH"
      },
      "source": [
        "## 평가"
      ]
    },
    {
      "cell_type": "markdown",
      "metadata": {
        "id": "ffFq5_Avbsq-"
      },
      "source": [
        "## 배포"
      ]
    }
  ]
}