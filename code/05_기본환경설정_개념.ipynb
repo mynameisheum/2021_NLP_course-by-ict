{
  "nbformat": 4,
  "nbformat_minor": 0,
  "metadata": {
    "colab": {
      "name": "5-기본환경설정 개념",
      "provenance": [],
      "collapsed_sections": [
        "WEuPCJj4Rn_I",
        "uV6DtdNv1D8C",
        "mUCl87GuJmBA",
        "i2v2CT_dasSs",
        "5vY6fIoRa_CG",
        "cY8fOkQKg49O",
        "YW_IIahqkFyN",
        "zyOuNeuij9Az"
      ]
    },
    "kernelspec": {
      "name": "python3",
      "display_name": "Python 3"
    },
    "language_info": {
      "name": "python"
    },
    "widgets": {
      "application/vnd.jupyter.widget-state+json": {
        "19cc80cfa0104bf6a120717b19558a28": {
          "model_module": "@jupyter-widgets/controls",
          "model_name": "HBoxModel",
          "state": {
            "_view_name": "HBoxView",
            "_dom_classes": [],
            "_model_name": "HBoxModel",
            "_view_module": "@jupyter-widgets/controls",
            "_model_module_version": "1.5.0",
            "_view_count": null,
            "_view_module_version": "1.5.0",
            "box_style": "",
            "layout": "IPY_MODEL_9f3613a0d71241bc932f1d067b7ee1e8",
            "_model_module": "@jupyter-widgets/controls",
            "children": [
              "IPY_MODEL_1f37c5608e6e490298a705e55336c30b",
              "IPY_MODEL_aabcc099a3fa4c6c9109e607e40ccc11"
            ]
          }
        },
        "9f3613a0d71241bc932f1d067b7ee1e8": {
          "model_module": "@jupyter-widgets/base",
          "model_name": "LayoutModel",
          "state": {
            "_view_name": "LayoutView",
            "grid_template_rows": null,
            "right": null,
            "justify_content": null,
            "_view_module": "@jupyter-widgets/base",
            "overflow": null,
            "_model_module_version": "1.2.0",
            "_view_count": null,
            "flex_flow": null,
            "width": null,
            "min_width": null,
            "border": null,
            "align_items": null,
            "bottom": null,
            "_model_module": "@jupyter-widgets/base",
            "top": null,
            "grid_column": null,
            "overflow_y": null,
            "overflow_x": null,
            "grid_auto_flow": null,
            "grid_area": null,
            "grid_template_columns": null,
            "flex": null,
            "_model_name": "LayoutModel",
            "justify_items": null,
            "grid_row": null,
            "max_height": null,
            "align_content": null,
            "visibility": null,
            "align_self": null,
            "height": null,
            "min_height": null,
            "padding": null,
            "grid_auto_rows": null,
            "grid_gap": null,
            "max_width": null,
            "order": null,
            "_view_module_version": "1.2.0",
            "grid_template_areas": null,
            "object_position": null,
            "object_fit": null,
            "grid_auto_columns": null,
            "margin": null,
            "display": null,
            "left": null
          }
        },
        "1f37c5608e6e490298a705e55336c30b": {
          "model_module": "@jupyter-widgets/controls",
          "model_name": "FloatProgressModel",
          "state": {
            "_view_name": "ProgressView",
            "style": "IPY_MODEL_bca3bd4bc1d4481d98f1caf5a8c37772",
            "_dom_classes": [],
            "description": "value=199: 100%",
            "_model_name": "FloatProgressModel",
            "bar_style": "success",
            "max": 200,
            "_view_module": "@jupyter-widgets/controls",
            "_model_module_version": "1.5.0",
            "value": 200,
            "_view_count": null,
            "_view_module_version": "1.5.0",
            "orientation": "horizontal",
            "min": 0,
            "description_tooltip": null,
            "_model_module": "@jupyter-widgets/controls",
            "layout": "IPY_MODEL_c5be5656ae0d4eb4a402b7bcca01680f"
          }
        },
        "aabcc099a3fa4c6c9109e607e40ccc11": {
          "model_module": "@jupyter-widgets/controls",
          "model_name": "HTMLModel",
          "state": {
            "_view_name": "HTMLView",
            "style": "IPY_MODEL_91a97e68930a4117a7fff932821ee3f6",
            "_dom_classes": [],
            "description": "",
            "_model_name": "HTMLModel",
            "placeholder": "​",
            "_view_module": "@jupyter-widgets/controls",
            "_model_module_version": "1.5.0",
            "value": " 200/200 [00:20&lt;00:00,  9.70it/s]",
            "_view_count": null,
            "_view_module_version": "1.5.0",
            "description_tooltip": null,
            "_model_module": "@jupyter-widgets/controls",
            "layout": "IPY_MODEL_d492d674f2e0457397ac6a637603905b"
          }
        },
        "bca3bd4bc1d4481d98f1caf5a8c37772": {
          "model_module": "@jupyter-widgets/controls",
          "model_name": "ProgressStyleModel",
          "state": {
            "_view_name": "StyleView",
            "_model_name": "ProgressStyleModel",
            "description_width": "initial",
            "_view_module": "@jupyter-widgets/base",
            "_model_module_version": "1.5.0",
            "_view_count": null,
            "_view_module_version": "1.2.0",
            "bar_color": null,
            "_model_module": "@jupyter-widgets/controls"
          }
        },
        "c5be5656ae0d4eb4a402b7bcca01680f": {
          "model_module": "@jupyter-widgets/base",
          "model_name": "LayoutModel",
          "state": {
            "_view_name": "LayoutView",
            "grid_template_rows": null,
            "right": null,
            "justify_content": null,
            "_view_module": "@jupyter-widgets/base",
            "overflow": null,
            "_model_module_version": "1.2.0",
            "_view_count": null,
            "flex_flow": null,
            "width": null,
            "min_width": null,
            "border": null,
            "align_items": null,
            "bottom": null,
            "_model_module": "@jupyter-widgets/base",
            "top": null,
            "grid_column": null,
            "overflow_y": null,
            "overflow_x": null,
            "grid_auto_flow": null,
            "grid_area": null,
            "grid_template_columns": null,
            "flex": null,
            "_model_name": "LayoutModel",
            "justify_items": null,
            "grid_row": null,
            "max_height": null,
            "align_content": null,
            "visibility": null,
            "align_self": null,
            "height": null,
            "min_height": null,
            "padding": null,
            "grid_auto_rows": null,
            "grid_gap": null,
            "max_width": null,
            "order": null,
            "_view_module_version": "1.2.0",
            "grid_template_areas": null,
            "object_position": null,
            "object_fit": null,
            "grid_auto_columns": null,
            "margin": null,
            "display": null,
            "left": null
          }
        },
        "91a97e68930a4117a7fff932821ee3f6": {
          "model_module": "@jupyter-widgets/controls",
          "model_name": "DescriptionStyleModel",
          "state": {
            "_view_name": "StyleView",
            "_model_name": "DescriptionStyleModel",
            "description_width": "",
            "_view_module": "@jupyter-widgets/base",
            "_model_module_version": "1.5.0",
            "_view_count": null,
            "_view_module_version": "1.2.0",
            "_model_module": "@jupyter-widgets/controls"
          }
        },
        "d492d674f2e0457397ac6a637603905b": {
          "model_module": "@jupyter-widgets/base",
          "model_name": "LayoutModel",
          "state": {
            "_view_name": "LayoutView",
            "grid_template_rows": null,
            "right": null,
            "justify_content": null,
            "_view_module": "@jupyter-widgets/base",
            "overflow": null,
            "_model_module_version": "1.2.0",
            "_view_count": null,
            "flex_flow": null,
            "width": null,
            "min_width": null,
            "border": null,
            "align_items": null,
            "bottom": null,
            "_model_module": "@jupyter-widgets/base",
            "top": null,
            "grid_column": null,
            "overflow_y": null,
            "overflow_x": null,
            "grid_auto_flow": null,
            "grid_area": null,
            "grid_template_columns": null,
            "flex": null,
            "_model_name": "LayoutModel",
            "justify_items": null,
            "grid_row": null,
            "max_height": null,
            "align_content": null,
            "visibility": null,
            "align_self": null,
            "height": null,
            "min_height": null,
            "padding": null,
            "grid_auto_rows": null,
            "grid_gap": null,
            "max_width": null,
            "order": null,
            "_view_module_version": "1.2.0",
            "grid_template_areas": null,
            "object_position": null,
            "object_fit": null,
            "grid_auto_columns": null,
            "margin": null,
            "display": null,
            "left": null
          }
        },
        "1053b23356bd4762b8af57be89b2e19e": {
          "model_module": "@jupyter-widgets/controls",
          "model_name": "HBoxModel",
          "state": {
            "_view_name": "HBoxView",
            "_dom_classes": [],
            "_model_name": "HBoxModel",
            "_view_module": "@jupyter-widgets/controls",
            "_model_module_version": "1.5.0",
            "_view_count": null,
            "_view_module_version": "1.5.0",
            "box_style": "",
            "layout": "IPY_MODEL_370b35c717b24d83b55edf68380cd25a",
            "_model_module": "@jupyter-widgets/controls",
            "children": [
              "IPY_MODEL_9db0e1e3c9b446c3b82da3207421f334",
              "IPY_MODEL_3b3392b2ee8b48b895057e464c9c5234"
            ]
          }
        },
        "370b35c717b24d83b55edf68380cd25a": {
          "model_module": "@jupyter-widgets/base",
          "model_name": "LayoutModel",
          "state": {
            "_view_name": "LayoutView",
            "grid_template_rows": null,
            "right": null,
            "justify_content": null,
            "_view_module": "@jupyter-widgets/base",
            "overflow": null,
            "_model_module_version": "1.2.0",
            "_view_count": null,
            "flex_flow": null,
            "width": null,
            "min_width": null,
            "border": null,
            "align_items": null,
            "bottom": null,
            "_model_module": "@jupyter-widgets/base",
            "top": null,
            "grid_column": null,
            "overflow_y": null,
            "overflow_x": null,
            "grid_auto_flow": null,
            "grid_area": null,
            "grid_template_columns": null,
            "flex": null,
            "_model_name": "LayoutModel",
            "justify_items": null,
            "grid_row": null,
            "max_height": null,
            "align_content": null,
            "visibility": null,
            "align_self": null,
            "height": null,
            "min_height": null,
            "padding": null,
            "grid_auto_rows": null,
            "grid_gap": null,
            "max_width": null,
            "order": null,
            "_view_module_version": "1.2.0",
            "grid_template_areas": null,
            "object_position": null,
            "object_fit": null,
            "grid_auto_columns": null,
            "margin": null,
            "display": null,
            "left": null
          }
        },
        "9db0e1e3c9b446c3b82da3207421f334": {
          "model_module": "@jupyter-widgets/controls",
          "model_name": "FloatProgressModel",
          "state": {
            "_view_name": "ProgressView",
            "style": "IPY_MODEL_5935d21fdd5b4bf0ab7f7ef2e504fc24",
            "_dom_classes": [],
            "description": "value=19: ",
            "_model_name": "FloatProgressModel",
            "bar_style": "success",
            "max": 10,
            "_view_module": "@jupyter-widgets/controls",
            "_model_module_version": "1.5.0",
            "value": 10,
            "_view_count": null,
            "_view_module_version": "1.5.0",
            "orientation": "horizontal",
            "min": 0,
            "description_tooltip": null,
            "_model_module": "@jupyter-widgets/controls",
            "layout": "IPY_MODEL_428e76a68ceb48c588ba800fe755490d"
          }
        },
        "3b3392b2ee8b48b895057e464c9c5234": {
          "model_module": "@jupyter-widgets/controls",
          "model_name": "HTMLModel",
          "state": {
            "_view_name": "HTMLView",
            "style": "IPY_MODEL_222f16aa6f69498bab16274a7aa56d5c",
            "_dom_classes": [],
            "description": "",
            "_model_name": "HTMLModel",
            "placeholder": "​",
            "_view_module": "@jupyter-widgets/controls",
            "_model_module_version": "1.5.0",
            "value": " 20/? [00:20&lt;00:00,  1.01s/it]",
            "_view_count": null,
            "_view_module_version": "1.5.0",
            "description_tooltip": null,
            "_model_module": "@jupyter-widgets/controls",
            "layout": "IPY_MODEL_7f9a62a068494fc1888349d436642e81"
          }
        },
        "5935d21fdd5b4bf0ab7f7ef2e504fc24": {
          "model_module": "@jupyter-widgets/controls",
          "model_name": "ProgressStyleModel",
          "state": {
            "_view_name": "StyleView",
            "_model_name": "ProgressStyleModel",
            "description_width": "initial",
            "_view_module": "@jupyter-widgets/base",
            "_model_module_version": "1.5.0",
            "_view_count": null,
            "_view_module_version": "1.2.0",
            "bar_color": null,
            "_model_module": "@jupyter-widgets/controls"
          }
        },
        "428e76a68ceb48c588ba800fe755490d": {
          "model_module": "@jupyter-widgets/base",
          "model_name": "LayoutModel",
          "state": {
            "_view_name": "LayoutView",
            "grid_template_rows": null,
            "right": null,
            "justify_content": null,
            "_view_module": "@jupyter-widgets/base",
            "overflow": null,
            "_model_module_version": "1.2.0",
            "_view_count": null,
            "flex_flow": null,
            "width": null,
            "min_width": null,
            "border": null,
            "align_items": null,
            "bottom": null,
            "_model_module": "@jupyter-widgets/base",
            "top": null,
            "grid_column": null,
            "overflow_y": null,
            "overflow_x": null,
            "grid_auto_flow": null,
            "grid_area": null,
            "grid_template_columns": null,
            "flex": null,
            "_model_name": "LayoutModel",
            "justify_items": null,
            "grid_row": null,
            "max_height": null,
            "align_content": null,
            "visibility": null,
            "align_self": null,
            "height": null,
            "min_height": null,
            "padding": null,
            "grid_auto_rows": null,
            "grid_gap": null,
            "max_width": null,
            "order": null,
            "_view_module_version": "1.2.0",
            "grid_template_areas": null,
            "object_position": null,
            "object_fit": null,
            "grid_auto_columns": null,
            "margin": null,
            "display": null,
            "left": null
          }
        },
        "222f16aa6f69498bab16274a7aa56d5c": {
          "model_module": "@jupyter-widgets/controls",
          "model_name": "DescriptionStyleModel",
          "state": {
            "_view_name": "StyleView",
            "_model_name": "DescriptionStyleModel",
            "description_width": "",
            "_view_module": "@jupyter-widgets/base",
            "_model_module_version": "1.5.0",
            "_view_count": null,
            "_view_module_version": "1.2.0",
            "_model_module": "@jupyter-widgets/controls"
          }
        },
        "7f9a62a068494fc1888349d436642e81": {
          "model_module": "@jupyter-widgets/base",
          "model_name": "LayoutModel",
          "state": {
            "_view_name": "LayoutView",
            "grid_template_rows": null,
            "right": null,
            "justify_content": null,
            "_view_module": "@jupyter-widgets/base",
            "overflow": null,
            "_model_module_version": "1.2.0",
            "_view_count": null,
            "flex_flow": null,
            "width": null,
            "min_width": null,
            "border": null,
            "align_items": null,
            "bottom": null,
            "_model_module": "@jupyter-widgets/base",
            "top": null,
            "grid_column": null,
            "overflow_y": null,
            "overflow_x": null,
            "grid_auto_flow": null,
            "grid_area": null,
            "grid_template_columns": null,
            "flex": null,
            "_model_name": "LayoutModel",
            "justify_items": null,
            "grid_row": null,
            "max_height": null,
            "align_content": null,
            "visibility": null,
            "align_self": null,
            "height": null,
            "min_height": null,
            "padding": null,
            "grid_auto_rows": null,
            "grid_gap": null,
            "max_width": null,
            "order": null,
            "_view_module_version": "1.2.0",
            "grid_template_areas": null,
            "object_position": null,
            "object_fit": null,
            "grid_auto_columns": null,
            "margin": null,
            "display": null,
            "left": null
          }
        },
        "77a6129619e74daa8e36dd1538ec3776": {
          "model_module": "@jupyter-widgets/controls",
          "model_name": "HBoxModel",
          "state": {
            "_view_name": "HBoxView",
            "_dom_classes": [],
            "_model_name": "HBoxModel",
            "_view_module": "@jupyter-widgets/controls",
            "_model_module_version": "1.5.0",
            "_view_count": null,
            "_view_module_version": "1.5.0",
            "box_style": "",
            "layout": "IPY_MODEL_4fcf5489e61b412f8dbbc107bb8dac9f",
            "_model_module": "@jupyter-widgets/controls",
            "children": [
              "IPY_MODEL_9e78213aeb8345fdbc0b283399e54893",
              "IPY_MODEL_e1494549738248a6b1a61b95fcb0c5e2"
            ]
          }
        },
        "4fcf5489e61b412f8dbbc107bb8dac9f": {
          "model_module": "@jupyter-widgets/base",
          "model_name": "LayoutModel",
          "state": {
            "_view_name": "LayoutView",
            "grid_template_rows": null,
            "right": null,
            "justify_content": null,
            "_view_module": "@jupyter-widgets/base",
            "overflow": null,
            "_model_module_version": "1.2.0",
            "_view_count": null,
            "flex_flow": null,
            "width": null,
            "min_width": null,
            "border": null,
            "align_items": null,
            "bottom": null,
            "_model_module": "@jupyter-widgets/base",
            "top": null,
            "grid_column": null,
            "overflow_y": null,
            "overflow_x": null,
            "grid_auto_flow": null,
            "grid_area": null,
            "grid_template_columns": null,
            "flex": null,
            "_model_name": "LayoutModel",
            "justify_items": null,
            "grid_row": null,
            "max_height": null,
            "align_content": null,
            "visibility": null,
            "align_self": null,
            "height": null,
            "min_height": null,
            "padding": null,
            "grid_auto_rows": null,
            "grid_gap": null,
            "max_width": null,
            "order": null,
            "_view_module_version": "1.2.0",
            "grid_template_areas": null,
            "object_position": null,
            "object_fit": null,
            "grid_auto_columns": null,
            "margin": null,
            "display": null,
            "left": null
          }
        },
        "9e78213aeb8345fdbc0b283399e54893": {
          "model_module": "@jupyter-widgets/controls",
          "model_name": "FloatProgressModel",
          "state": {
            "_view_name": "ProgressView",
            "style": "IPY_MODEL_5dca008385cf47c2be525fcd8a5d7800",
            "_dom_classes": [],
            "description": "value=19:  20%",
            "_model_name": "FloatProgressModel",
            "bar_style": "danger",
            "max": 100,
            "_view_module": "@jupyter-widgets/controls",
            "_model_module_version": "1.5.0",
            "value": 20,
            "_view_count": null,
            "_view_module_version": "1.5.0",
            "orientation": "horizontal",
            "min": 0,
            "description_tooltip": null,
            "_model_module": "@jupyter-widgets/controls",
            "layout": "IPY_MODEL_a2a7a3b347034fa1845136d43091bd81"
          }
        },
        "e1494549738248a6b1a61b95fcb0c5e2": {
          "model_module": "@jupyter-widgets/controls",
          "model_name": "HTMLModel",
          "state": {
            "_view_name": "HTMLView",
            "style": "IPY_MODEL_07154b5b1a9f46889b12e2c489f13fb4",
            "_dom_classes": [],
            "description": "",
            "_model_name": "HTMLModel",
            "placeholder": "​",
            "_view_module": "@jupyter-widgets/controls",
            "_model_module_version": "1.5.0",
            "value": " 20/100 [00:20&lt;01:20,  1.01s/it]",
            "_view_count": null,
            "_view_module_version": "1.5.0",
            "description_tooltip": null,
            "_model_module": "@jupyter-widgets/controls",
            "layout": "IPY_MODEL_1b139227f37b434cb84a8e3fb5442602"
          }
        },
        "5dca008385cf47c2be525fcd8a5d7800": {
          "model_module": "@jupyter-widgets/controls",
          "model_name": "ProgressStyleModel",
          "state": {
            "_view_name": "StyleView",
            "_model_name": "ProgressStyleModel",
            "description_width": "initial",
            "_view_module": "@jupyter-widgets/base",
            "_model_module_version": "1.5.0",
            "_view_count": null,
            "_view_module_version": "1.2.0",
            "bar_color": null,
            "_model_module": "@jupyter-widgets/controls"
          }
        },
        "a2a7a3b347034fa1845136d43091bd81": {
          "model_module": "@jupyter-widgets/base",
          "model_name": "LayoutModel",
          "state": {
            "_view_name": "LayoutView",
            "grid_template_rows": null,
            "right": null,
            "justify_content": null,
            "_view_module": "@jupyter-widgets/base",
            "overflow": null,
            "_model_module_version": "1.2.0",
            "_view_count": null,
            "flex_flow": null,
            "width": null,
            "min_width": null,
            "border": null,
            "align_items": null,
            "bottom": null,
            "_model_module": "@jupyter-widgets/base",
            "top": null,
            "grid_column": null,
            "overflow_y": null,
            "overflow_x": null,
            "grid_auto_flow": null,
            "grid_area": null,
            "grid_template_columns": null,
            "flex": null,
            "_model_name": "LayoutModel",
            "justify_items": null,
            "grid_row": null,
            "max_height": null,
            "align_content": null,
            "visibility": null,
            "align_self": null,
            "height": null,
            "min_height": null,
            "padding": null,
            "grid_auto_rows": null,
            "grid_gap": null,
            "max_width": null,
            "order": null,
            "_view_module_version": "1.2.0",
            "grid_template_areas": null,
            "object_position": null,
            "object_fit": null,
            "grid_auto_columns": null,
            "margin": null,
            "display": null,
            "left": null
          }
        },
        "07154b5b1a9f46889b12e2c489f13fb4": {
          "model_module": "@jupyter-widgets/controls",
          "model_name": "DescriptionStyleModel",
          "state": {
            "_view_name": "StyleView",
            "_model_name": "DescriptionStyleModel",
            "description_width": "",
            "_view_module": "@jupyter-widgets/base",
            "_model_module_version": "1.5.0",
            "_view_count": null,
            "_view_module_version": "1.2.0",
            "_model_module": "@jupyter-widgets/controls"
          }
        },
        "1b139227f37b434cb84a8e3fb5442602": {
          "model_module": "@jupyter-widgets/base",
          "model_name": "LayoutModel",
          "state": {
            "_view_name": "LayoutView",
            "grid_template_rows": null,
            "right": null,
            "justify_content": null,
            "_view_module": "@jupyter-widgets/base",
            "overflow": null,
            "_model_module_version": "1.2.0",
            "_view_count": null,
            "flex_flow": null,
            "width": null,
            "min_width": null,
            "border": null,
            "align_items": null,
            "bottom": null,
            "_model_module": "@jupyter-widgets/base",
            "top": null,
            "grid_column": null,
            "overflow_y": null,
            "overflow_x": null,
            "grid_auto_flow": null,
            "grid_area": null,
            "grid_template_columns": null,
            "flex": null,
            "_model_name": "LayoutModel",
            "justify_items": null,
            "grid_row": null,
            "max_height": null,
            "align_content": null,
            "visibility": null,
            "align_self": null,
            "height": null,
            "min_height": null,
            "padding": null,
            "grid_auto_rows": null,
            "grid_gap": null,
            "max_width": null,
            "order": null,
            "_view_module_version": "1.2.0",
            "grid_template_areas": null,
            "object_position": null,
            "object_fit": null,
            "grid_auto_columns": null,
            "margin": null,
            "display": null,
            "left": null
          }
        },
        "39d6c63ac2974c42ad3ae439683122a5": {
          "model_module": "@jupyter-widgets/controls",
          "model_name": "HBoxModel",
          "state": {
            "_view_name": "HBoxView",
            "_dom_classes": [],
            "_model_name": "HBoxModel",
            "_view_module": "@jupyter-widgets/controls",
            "_model_module_version": "1.5.0",
            "_view_count": null,
            "_view_module_version": "1.5.0",
            "box_style": "",
            "layout": "IPY_MODEL_2fa50f6c829a42338b5a7e97ac6a8eab",
            "_model_module": "@jupyter-widgets/controls",
            "children": [
              "IPY_MODEL_b06fa17c02fc4c218b30f3eb6ec694a1",
              "IPY_MODEL_9d9949d8acac47b18d86da0dd648ca39"
            ]
          }
        },
        "2fa50f6c829a42338b5a7e97ac6a8eab": {
          "model_module": "@jupyter-widgets/base",
          "model_name": "LayoutModel",
          "state": {
            "_view_name": "LayoutView",
            "grid_template_rows": null,
            "right": null,
            "justify_content": null,
            "_view_module": "@jupyter-widgets/base",
            "overflow": null,
            "_model_module_version": "1.2.0",
            "_view_count": null,
            "flex_flow": null,
            "width": null,
            "min_width": null,
            "border": null,
            "align_items": null,
            "bottom": null,
            "_model_module": "@jupyter-widgets/base",
            "top": null,
            "grid_column": null,
            "overflow_y": null,
            "overflow_x": null,
            "grid_auto_flow": null,
            "grid_area": null,
            "grid_template_columns": null,
            "flex": null,
            "_model_name": "LayoutModel",
            "justify_items": null,
            "grid_row": null,
            "max_height": null,
            "align_content": null,
            "visibility": null,
            "align_self": null,
            "height": null,
            "min_height": null,
            "padding": null,
            "grid_auto_rows": null,
            "grid_gap": null,
            "max_width": null,
            "order": null,
            "_view_module_version": "1.2.0",
            "grid_template_areas": null,
            "object_position": null,
            "object_fit": null,
            "grid_auto_columns": null,
            "margin": null,
            "display": null,
            "left": null
          }
        },
        "b06fa17c02fc4c218b30f3eb6ec694a1": {
          "model_module": "@jupyter-widgets/controls",
          "model_name": "FloatProgressModel",
          "state": {
            "_view_name": "ProgressView",
            "style": "IPY_MODEL_19fef8de8b774f4b950516e33ddc822a",
            "_dom_classes": [],
            "description": "value=29: 100%",
            "_model_name": "FloatProgressModel",
            "bar_style": "success",
            "max": 29,
            "_view_module": "@jupyter-widgets/controls",
            "_model_module_version": "1.5.0",
            "value": 29,
            "_view_count": null,
            "_view_module_version": "1.5.0",
            "orientation": "horizontal",
            "min": 0,
            "description_tooltip": null,
            "_model_module": "@jupyter-widgets/controls",
            "layout": "IPY_MODEL_8caa2223697b44879a9e345bfd62b62e"
          }
        },
        "9d9949d8acac47b18d86da0dd648ca39": {
          "model_module": "@jupyter-widgets/controls",
          "model_name": "HTMLModel",
          "state": {
            "_view_name": "HTMLView",
            "style": "IPY_MODEL_0a97d8d2334044979c6a9d123972e64e",
            "_dom_classes": [],
            "description": "",
            "_model_name": "HTMLModel",
            "placeholder": "​",
            "_view_module": "@jupyter-widgets/controls",
            "_model_module_version": "1.5.0",
            "value": " 29/29 [00:29&lt;00:00,  1.00s/it]",
            "_view_count": null,
            "_view_module_version": "1.5.0",
            "description_tooltip": null,
            "_model_module": "@jupyter-widgets/controls",
            "layout": "IPY_MODEL_419e209f41d34ce58a601837ff9249e5"
          }
        },
        "19fef8de8b774f4b950516e33ddc822a": {
          "model_module": "@jupyter-widgets/controls",
          "model_name": "ProgressStyleModel",
          "state": {
            "_view_name": "StyleView",
            "_model_name": "ProgressStyleModel",
            "description_width": "initial",
            "_view_module": "@jupyter-widgets/base",
            "_model_module_version": "1.5.0",
            "_view_count": null,
            "_view_module_version": "1.2.0",
            "bar_color": null,
            "_model_module": "@jupyter-widgets/controls"
          }
        },
        "8caa2223697b44879a9e345bfd62b62e": {
          "model_module": "@jupyter-widgets/base",
          "model_name": "LayoutModel",
          "state": {
            "_view_name": "LayoutView",
            "grid_template_rows": null,
            "right": null,
            "justify_content": null,
            "_view_module": "@jupyter-widgets/base",
            "overflow": null,
            "_model_module_version": "1.2.0",
            "_view_count": null,
            "flex_flow": null,
            "width": null,
            "min_width": null,
            "border": null,
            "align_items": null,
            "bottom": null,
            "_model_module": "@jupyter-widgets/base",
            "top": null,
            "grid_column": null,
            "overflow_y": null,
            "overflow_x": null,
            "grid_auto_flow": null,
            "grid_area": null,
            "grid_template_columns": null,
            "flex": null,
            "_model_name": "LayoutModel",
            "justify_items": null,
            "grid_row": null,
            "max_height": null,
            "align_content": null,
            "visibility": null,
            "align_self": null,
            "height": null,
            "min_height": null,
            "padding": null,
            "grid_auto_rows": null,
            "grid_gap": null,
            "max_width": null,
            "order": null,
            "_view_module_version": "1.2.0",
            "grid_template_areas": null,
            "object_position": null,
            "object_fit": null,
            "grid_auto_columns": null,
            "margin": null,
            "display": null,
            "left": null
          }
        },
        "0a97d8d2334044979c6a9d123972e64e": {
          "model_module": "@jupyter-widgets/controls",
          "model_name": "DescriptionStyleModel",
          "state": {
            "_view_name": "StyleView",
            "_model_name": "DescriptionStyleModel",
            "description_width": "",
            "_view_module": "@jupyter-widgets/base",
            "_model_module_version": "1.5.0",
            "_view_count": null,
            "_view_module_version": "1.2.0",
            "_model_module": "@jupyter-widgets/controls"
          }
        },
        "419e209f41d34ce58a601837ff9249e5": {
          "model_module": "@jupyter-widgets/base",
          "model_name": "LayoutModel",
          "state": {
            "_view_name": "LayoutView",
            "grid_template_rows": null,
            "right": null,
            "justify_content": null,
            "_view_module": "@jupyter-widgets/base",
            "overflow": null,
            "_model_module_version": "1.2.0",
            "_view_count": null,
            "flex_flow": null,
            "width": null,
            "min_width": null,
            "border": null,
            "align_items": null,
            "bottom": null,
            "_model_module": "@jupyter-widgets/base",
            "top": null,
            "grid_column": null,
            "overflow_y": null,
            "overflow_x": null,
            "grid_auto_flow": null,
            "grid_area": null,
            "grid_template_columns": null,
            "flex": null,
            "_model_name": "LayoutModel",
            "justify_items": null,
            "grid_row": null,
            "max_height": null,
            "align_content": null,
            "visibility": null,
            "align_self": null,
            "height": null,
            "min_height": null,
            "padding": null,
            "grid_auto_rows": null,
            "grid_gap": null,
            "max_width": null,
            "order": null,
            "_view_module_version": "1.2.0",
            "grid_template_areas": null,
            "object_position": null,
            "object_fit": null,
            "grid_auto_columns": null,
            "margin": null,
            "display": null,
            "left": null
          }
        }
      }
    }
  },
  "cells": [
    {
      "cell_type": "markdown",
      "metadata": {
        "id": "qrLHpteG7Ui_"
      },
      "source": [
        "# 한글폰트"
      ]
    },
    {
      "cell_type": "code",
      "metadata": {
        "id": "SBb2dcDv7T_3",
        "colab": {
          "base_uri": "https://localhost:8080/"
        },
        "outputId": "72755839-8bda-4072-b582-555d24760a2c"
      },
      "source": [
        "# 폰트 설치\n",
        "!apt-get update -qq # 나눔고딕 설치\n",
        "!apt-get install fonts-nanum* -qq\n",
        "\n",
        "import matplotlib as mpl\n",
        "import matplotlib.pyplot as plt\n",
        "import matplotlib.font_manager as fm\n",
        "\n",
        "fontpath = '/usr/share/fonts/truetype/nanum/NanumBarunGothic.ttf'\n",
        "font = fm.FontProperties(fname=fontpath, size=9)\n",
        "plt.rc('font', family='NanumBarunGothic') \n",
        "mpl.font_manager._rebuild()\n",
        "# 여기까지 실행 후 \"런타임 다시 시작...\" 실행 (이 부분은 실행할 필요 없음)"
      ],
      "execution_count": null,
      "outputs": [
        {
          "output_type": "stream",
          "text": [
            "Selecting previously unselected package fonts-nanum.\n",
            "(Reading database ... 160690 files and directories currently installed.)\n",
            "Preparing to unpack .../fonts-nanum_20170925-1_all.deb ...\n",
            "Unpacking fonts-nanum (20170925-1) ...\n",
            "Selecting previously unselected package fonts-nanum-eco.\n",
            "Preparing to unpack .../fonts-nanum-eco_1.000-6_all.deb ...\n",
            "Unpacking fonts-nanum-eco (1.000-6) ...\n",
            "Selecting previously unselected package fonts-nanum-extra.\n",
            "Preparing to unpack .../fonts-nanum-extra_20170925-1_all.deb ...\n",
            "Unpacking fonts-nanum-extra (20170925-1) ...\n",
            "Selecting previously unselected package fonts-nanum-coding.\n",
            "Preparing to unpack .../fonts-nanum-coding_2.5-1_all.deb ...\n",
            "Unpacking fonts-nanum-coding (2.5-1) ...\n",
            "Setting up fonts-nanum-extra (20170925-1) ...\n",
            "Setting up fonts-nanum (20170925-1) ...\n",
            "Setting up fonts-nanum-coding (2.5-1) ...\n",
            "Setting up fonts-nanum-eco (1.000-6) ...\n",
            "Processing triggers for fontconfig (2.12.6-0ubuntu2) ...\n"
          ],
          "name": "stdout"
        }
      ]
    },
    {
      "cell_type": "markdown",
      "metadata": {
        "id": "6dfJPT-2XMTB"
      },
      "source": [
        "# Install"
      ]
    },
    {
      "cell_type": "code",
      "metadata": {
        "id": "a193aGJWVaqb",
        "colab": {
          "base_uri": "https://localhost:8080/"
        },
        "outputId": "22e6c681-719b-434e-aba7-0edaf5417f57"
      },
      "source": [
        "# Tokenizer library 설치\n",
        "!pip install sentencepiece"
      ],
      "execution_count": null,
      "outputs": [
        {
          "output_type": "stream",
          "text": [
            "Collecting sentencepiece\n",
            "\u001b[?25l  Downloading https://files.pythonhosted.org/packages/f5/99/e0808cb947ba10f575839c43e8fafc9cc44e4a7a2c8f79c60db48220a577/sentencepiece-0.1.95-cp37-cp37m-manylinux2014_x86_64.whl (1.2MB)\n",
            "\r\u001b[K     |▎                               | 10kB 15.1MB/s eta 0:00:01\r\u001b[K     |▌                               | 20kB 21.5MB/s eta 0:00:01\r\u001b[K     |▉                               | 30kB 10.2MB/s eta 0:00:01\r\u001b[K     |█                               | 40kB 9.7MB/s eta 0:00:01\r\u001b[K     |█▍                              | 51kB 4.1MB/s eta 0:00:01\r\u001b[K     |█▋                              | 61kB 4.6MB/s eta 0:00:01\r\u001b[K     |██                              | 71kB 4.7MB/s eta 0:00:01\r\u001b[K     |██▏                             | 81kB 5.2MB/s eta 0:00:01\r\u001b[K     |██▌                             | 92kB 5.5MB/s eta 0:00:01\r\u001b[K     |██▊                             | 102kB 4.0MB/s eta 0:00:01\r\u001b[K     |███                             | 112kB 4.0MB/s eta 0:00:01\r\u001b[K     |███▎                            | 122kB 4.0MB/s eta 0:00:01\r\u001b[K     |███▌                            | 133kB 4.0MB/s eta 0:00:01\r\u001b[K     |███▉                            | 143kB 4.0MB/s eta 0:00:01\r\u001b[K     |████                            | 153kB 4.0MB/s eta 0:00:01\r\u001b[K     |████▍                           | 163kB 4.0MB/s eta 0:00:01\r\u001b[K     |████▋                           | 174kB 4.0MB/s eta 0:00:01\r\u001b[K     |█████                           | 184kB 4.0MB/s eta 0:00:01\r\u001b[K     |█████▏                          | 194kB 4.0MB/s eta 0:00:01\r\u001b[K     |█████▌                          | 204kB 4.0MB/s eta 0:00:01\r\u001b[K     |█████▊                          | 215kB 4.0MB/s eta 0:00:01\r\u001b[K     |██████                          | 225kB 4.0MB/s eta 0:00:01\r\u001b[K     |██████▎                         | 235kB 4.0MB/s eta 0:00:01\r\u001b[K     |██████▌                         | 245kB 4.0MB/s eta 0:00:01\r\u001b[K     |██████▉                         | 256kB 4.0MB/s eta 0:00:01\r\u001b[K     |███████                         | 266kB 4.0MB/s eta 0:00:01\r\u001b[K     |███████▍                        | 276kB 4.0MB/s eta 0:00:01\r\u001b[K     |███████▋                        | 286kB 4.0MB/s eta 0:00:01\r\u001b[K     |████████                        | 296kB 4.0MB/s eta 0:00:01\r\u001b[K     |████████▏                       | 307kB 4.0MB/s eta 0:00:01\r\u001b[K     |████████▍                       | 317kB 4.0MB/s eta 0:00:01\r\u001b[K     |████████▊                       | 327kB 4.0MB/s eta 0:00:01\r\u001b[K     |█████████                       | 337kB 4.0MB/s eta 0:00:01\r\u001b[K     |█████████▎                      | 348kB 4.0MB/s eta 0:00:01\r\u001b[K     |█████████▌                      | 358kB 4.0MB/s eta 0:00:01\r\u001b[K     |█████████▉                      | 368kB 4.0MB/s eta 0:00:01\r\u001b[K     |██████████                      | 378kB 4.0MB/s eta 0:00:01\r\u001b[K     |██████████▍                     | 389kB 4.0MB/s eta 0:00:01\r\u001b[K     |██████████▋                     | 399kB 4.0MB/s eta 0:00:01\r\u001b[K     |███████████                     | 409kB 4.0MB/s eta 0:00:01\r\u001b[K     |███████████▏                    | 419kB 4.0MB/s eta 0:00:01\r\u001b[K     |███████████▍                    | 430kB 4.0MB/s eta 0:00:01\r\u001b[K     |███████████▊                    | 440kB 4.0MB/s eta 0:00:01\r\u001b[K     |████████████                    | 450kB 4.0MB/s eta 0:00:01\r\u001b[K     |████████████▎                   | 460kB 4.0MB/s eta 0:00:01\r\u001b[K     |████████████▌                   | 471kB 4.0MB/s eta 0:00:01\r\u001b[K     |████████████▉                   | 481kB 4.0MB/s eta 0:00:01\r\u001b[K     |█████████████                   | 491kB 4.0MB/s eta 0:00:01\r\u001b[K     |█████████████▍                  | 501kB 4.0MB/s eta 0:00:01\r\u001b[K     |█████████████▋                  | 512kB 4.0MB/s eta 0:00:01\r\u001b[K     |█████████████▉                  | 522kB 4.0MB/s eta 0:00:01\r\u001b[K     |██████████████▏                 | 532kB 4.0MB/s eta 0:00:01\r\u001b[K     |██████████████▍                 | 542kB 4.0MB/s eta 0:00:01\r\u001b[K     |██████████████▊                 | 552kB 4.0MB/s eta 0:00:01\r\u001b[K     |███████████████                 | 563kB 4.0MB/s eta 0:00:01\r\u001b[K     |███████████████▎                | 573kB 4.0MB/s eta 0:00:01\r\u001b[K     |███████████████▌                | 583kB 4.0MB/s eta 0:00:01\r\u001b[K     |███████████████▉                | 593kB 4.0MB/s eta 0:00:01\r\u001b[K     |████████████████                | 604kB 4.0MB/s eta 0:00:01\r\u001b[K     |████████████████▍               | 614kB 4.0MB/s eta 0:00:01\r\u001b[K     |████████████████▋               | 624kB 4.0MB/s eta 0:00:01\r\u001b[K     |████████████████▉               | 634kB 4.0MB/s eta 0:00:01\r\u001b[K     |█████████████████▏              | 645kB 4.0MB/s eta 0:00:01\r\u001b[K     |█████████████████▍              | 655kB 4.0MB/s eta 0:00:01\r\u001b[K     |█████████████████▊              | 665kB 4.0MB/s eta 0:00:01\r\u001b[K     |██████████████████              | 675kB 4.0MB/s eta 0:00:01\r\u001b[K     |██████████████████▎             | 686kB 4.0MB/s eta 0:00:01\r\u001b[K     |██████████████████▌             | 696kB 4.0MB/s eta 0:00:01\r\u001b[K     |██████████████████▉             | 706kB 4.0MB/s eta 0:00:01\r\u001b[K     |███████████████████             | 716kB 4.0MB/s eta 0:00:01\r\u001b[K     |███████████████████▎            | 727kB 4.0MB/s eta 0:00:01\r\u001b[K     |███████████████████▋            | 737kB 4.0MB/s eta 0:00:01\r\u001b[K     |███████████████████▉            | 747kB 4.0MB/s eta 0:00:01\r\u001b[K     |████████████████████▏           | 757kB 4.0MB/s eta 0:00:01\r\u001b[K     |████████████████████▍           | 768kB 4.0MB/s eta 0:00:01\r\u001b[K     |████████████████████▊           | 778kB 4.0MB/s eta 0:00:01\r\u001b[K     |█████████████████████           | 788kB 4.0MB/s eta 0:00:01\r\u001b[K     |█████████████████████▎          | 798kB 4.0MB/s eta 0:00:01\r\u001b[K     |█████████████████████▌          | 808kB 4.0MB/s eta 0:00:01\r\u001b[K     |█████████████████████▉          | 819kB 4.0MB/s eta 0:00:01\r\u001b[K     |██████████████████████          | 829kB 4.0MB/s eta 0:00:01\r\u001b[K     |██████████████████████▎         | 839kB 4.0MB/s eta 0:00:01\r\u001b[K     |██████████████████████▋         | 849kB 4.0MB/s eta 0:00:01\r\u001b[K     |██████████████████████▉         | 860kB 4.0MB/s eta 0:00:01\r\u001b[K     |███████████████████████▏        | 870kB 4.0MB/s eta 0:00:01\r\u001b[K     |███████████████████████▍        | 880kB 4.0MB/s eta 0:00:01\r\u001b[K     |███████████████████████▊        | 890kB 4.0MB/s eta 0:00:01\r\u001b[K     |████████████████████████        | 901kB 4.0MB/s eta 0:00:01\r\u001b[K     |████████████████████████▎       | 911kB 4.0MB/s eta 0:00:01\r\u001b[K     |████████████████████████▌       | 921kB 4.0MB/s eta 0:00:01\r\u001b[K     |████████████████████████▊       | 931kB 4.0MB/s eta 0:00:01\r\u001b[K     |█████████████████████████       | 942kB 4.0MB/s eta 0:00:01\r\u001b[K     |█████████████████████████▎      | 952kB 4.0MB/s eta 0:00:01\r\u001b[K     |█████████████████████████▋      | 962kB 4.0MB/s eta 0:00:01\r\u001b[K     |█████████████████████████▉      | 972kB 4.0MB/s eta 0:00:01\r\u001b[K     |██████████████████████████▏     | 983kB 4.0MB/s eta 0:00:01\r\u001b[K     |██████████████████████████▍     | 993kB 4.0MB/s eta 0:00:01\r\u001b[K     |██████████████████████████▊     | 1.0MB 4.0MB/s eta 0:00:01\r\u001b[K     |███████████████████████████     | 1.0MB 4.0MB/s eta 0:00:01\r\u001b[K     |███████████████████████████▎    | 1.0MB 4.0MB/s eta 0:00:01\r\u001b[K     |███████████████████████████▌    | 1.0MB 4.0MB/s eta 0:00:01\r\u001b[K     |███████████████████████████▊    | 1.0MB 4.0MB/s eta 0:00:01\r\u001b[K     |████████████████████████████    | 1.1MB 4.0MB/s eta 0:00:01\r\u001b[K     |████████████████████████████▎   | 1.1MB 4.0MB/s eta 0:00:01\r\u001b[K     |████████████████████████████▋   | 1.1MB 4.0MB/s eta 0:00:01\r\u001b[K     |████████████████████████████▉   | 1.1MB 4.0MB/s eta 0:00:01\r\u001b[K     |█████████████████████████████▏  | 1.1MB 4.0MB/s eta 0:00:01\r\u001b[K     |█████████████████████████████▍  | 1.1MB 4.0MB/s eta 0:00:01\r\u001b[K     |█████████████████████████████▊  | 1.1MB 4.0MB/s eta 0:00:01\r\u001b[K     |██████████████████████████████  | 1.1MB 4.0MB/s eta 0:00:01\r\u001b[K     |██████████████████████████████▏ | 1.1MB 4.0MB/s eta 0:00:01\r\u001b[K     |██████████████████████████████▌ | 1.1MB 4.0MB/s eta 0:00:01\r\u001b[K     |██████████████████████████████▊ | 1.2MB 4.0MB/s eta 0:00:01\r\u001b[K     |███████████████████████████████ | 1.2MB 4.0MB/s eta 0:00:01\r\u001b[K     |███████████████████████████████▎| 1.2MB 4.0MB/s eta 0:00:01\r\u001b[K     |███████████████████████████████▋| 1.2MB 4.0MB/s eta 0:00:01\r\u001b[K     |███████████████████████████████▉| 1.2MB 4.0MB/s eta 0:00:01\r\u001b[K     |████████████████████████████████| 1.2MB 4.0MB/s \n",
            "\u001b[?25hInstalling collected packages: sentencepiece\n",
            "Successfully installed sentencepiece-0.1.95\n"
          ],
          "name": "stdout"
        }
      ]
    },
    {
      "cell_type": "markdown",
      "metadata": {
        "id": "JHkHg6XAXoyK"
      },
      "source": [
        "# Evn"
      ]
    },
    {
      "cell_type": "code",
      "metadata": {
        "id": "WkYXFwcBXJDG"
      },
      "source": [
        "# imports\n",
        "import argparse\n",
        "import os\n",
        "import random\n",
        "import shutil\n",
        "import json\n",
        "import zipfile\n",
        "import math\n",
        "import copy\n",
        "import collections\n",
        "import re\n",
        "\n",
        "import matplotlib.pyplot as plt\n",
        "import pandas as pd\n",
        "import numpy as np\n",
        "import sentencepiece as spm\n",
        "import tensorflow as tf\n",
        "import tensorflow.keras.backend as K\n",
        "\n",
        "from tqdm.notebook import tqdm, trange"
      ],
      "execution_count": null,
      "outputs": []
    },
    {
      "cell_type": "code",
      "metadata": {
        "id": "BF-NLGZTGvTR",
        "colab": {
          "base_uri": "https://localhost:8080/"
        },
        "outputId": "1d4acceb-0c28-4898-a133-6a420d46cf6b"
      },
      "source": [
        "# 환경 설정\n",
        "args = {\n",
        "    # random seed value\n",
        "    \"seed\": 1234\n",
        "}\n",
        "args = argparse.Namespace(**args)\n",
        "\n",
        "print(args)"
      ],
      "execution_count": null,
      "outputs": [
        {
          "output_type": "stream",
          "text": [
            "Namespace(seed=1234)\n"
          ],
          "name": "stdout"
        }
      ]
    },
    {
      "cell_type": "code",
      "metadata": {
        "id": "nvjyruUlXtlR"
      },
      "source": [
        "# random seed 설정\n",
        "random.seed(args.seed)\n",
        "np.random.seed(args.seed)\n",
        "tf.random.set_seed(args.seed)"
      ],
      "execution_count": null,
      "outputs": []
    },
    {
      "cell_type": "code",
      "metadata": {
        "id": "BC3fXkhdYcYt",
        "colab": {
          "base_uri": "https://localhost:8080/"
        },
        "outputId": "7c131c56-bee1-4056-ec1b-d4c441676f42"
      },
      "source": [
        "# gpu 사용량 확인\n",
        "!nvidia-smi"
      ],
      "execution_count": null,
      "outputs": [
        {
          "output_type": "stream",
          "text": [
            "NVIDIA-SMI has failed because it couldn't communicate with the NVIDIA driver. Make sure that the latest NVIDIA driver is installed and running.\n",
            "\n"
          ],
          "name": "stdout"
        }
      ]
    },
    {
      "cell_type": "code",
      "metadata": {
        "id": "xVRdxYReYeQj",
        "colab": {
          "base_uri": "https://localhost:8080/"
        },
        "outputId": "c99a8dde-7c73-4ab8-9e2d-3bce3c6cdbdf"
      },
      "source": [
        "# google drive mount\n",
        "from google.colab import drive\n",
        "drive.mount('/content/drive')"
      ],
      "execution_count": null,
      "outputs": [
        {
          "output_type": "stream",
          "text": [
            "Mounted at /content/drive\n"
          ],
          "name": "stdout"
        }
      ]
    },
    {
      "cell_type": "code",
      "metadata": {
        "id": "byCIiLJBbFHh",
        "colab": {
          "base_uri": "https://localhost:8080/"
        },
        "outputId": "ea40106f-32d4-4b4d-af22-f42d79314bbe"
      },
      "source": [
        "# data dir\n",
        "data_dir = '/content/drive/MyDrive/ict-ai-복합고급언어-nlp/data'\n",
        "\n",
        "os.listdir(data_dir)"
      ],
      "execution_count": null,
      "outputs": [
        {
          "output_type": "execute_result",
          "data": {
            "text/plain": [
              "['data-20210420T111231Z-001.zip', 'kowiki']"
            ]
          },
          "metadata": {
            "tags": []
          },
          "execution_count": 7
        }
      ]
    },
    {
      "cell_type": "code",
      "metadata": {
        "colab": {
          "base_uri": "https://localhost:8080/"
        },
        "id": "KH6TOl3gPbFk",
        "outputId": "98f4cdcb-f320-4f84-bfce-fffd7ed729fd"
      },
      "source": [
        "args.corpus = os.path.join(data_dir, 'kowiki', 'kowiki.txt.zip')\n",
        "args"
      ],
      "execution_count": null,
      "outputs": [
        {
          "output_type": "execute_result",
          "data": {
            "text/plain": [
              "Namespace(corpus='/content/drive/MyDrive/ict-ai-복합고급언어-nlp/data/kowiki/kowiki.txt.zip', seed=1234)"
            ]
          },
          "metadata": {
            "tags": []
          },
          "execution_count": 8
        }
      ]
    },
    {
      "cell_type": "code",
      "metadata": {
        "colab": {
          "base_uri": "https://localhost:8080/"
        },
        "id": "3JHR7mrzPnvr",
        "outputId": "74bb9493-e95d-4de7-916c-03d04edd074e"
      },
      "source": [
        "# 파일 라인수 확인\n",
        "# 이 파일 안에 있는 줄 갯수\n",
        "\n",
        "count = 0\n",
        "with zipfile.ZipFile(args.corpus) as z:\n",
        "    with z.open(\"kowiki.txt\") as f:\n",
        "        for i, line in enumerate(f):\n",
        "            count += 1\n",
        "            # print(i)\n",
        "count"
      ],
      "execution_count": null,
      "outputs": [
        {
          "output_type": "execute_result",
          "data": {
            "text/plain": [
              "3724301"
            ]
          },
          "metadata": {
            "tags": []
          },
          "execution_count": 18
        }
      ]
    },
    {
      "cell_type": "code",
      "metadata": {
        "colab": {
          "base_uri": "https://localhost:8080/"
        },
        "id": "KV4l9y1WP_u6",
        "outputId": "10aae56c-4b61-4fd6-987d-a05645fc716c"
      },
      "source": [
        "# 파일 내용 확인\n",
        "# 파일 라인수 확인\n",
        "\n",
        "with zipfile.ZipFile(args.corpus) as z:\n",
        "    with z.open(\"kowiki.txt\") as f:\n",
        "        for i, line in enumerate(f):\n",
        "            if i >= 50 :\n",
        "                break\n",
        "            line = line.decode('utf-8').strip() #다시 utf-8로 맞춰준다?\n",
        "            print(line)\n"
      ],
      "execution_count": null,
      "outputs": [
        {
          "output_type": "stream",
          "text": [
            "지미 카터\n",
            "제임스 얼 \"지미\" 카터 주니어(, 1924년 10월 1일 ~ )는 민주당 출신 미국 39번째 대통령 (1977년 ~ 1981년)이다.\n",
            "지미 카터는 조지아주 섬터 카운티 플레인스 마을에서 태어났다. 조지아 공과대학교를 졸업하였다. 그 후 해군에 들어가 전함·원자력·잠수함의 승무원으로 일하였다. 1953년 미국 해군 대위로 예편하였고 이후 땅콩·면화 등을 가꿔 많은 돈을 벌었다. 그의 별명이 \"땅콩 농부\" (Peanut Farmer)로 알려졌다.\n",
            "1962년 조지아 주 상원 의원 선거에서 낙선하나 그 선거가 부정선거 였음을 입증하게 되어 당선되고, 1966년 조지아 주 지사 선거에 낙선하지만 1970년 조지아 주 지사를 역임했다. 대통령이 되기 전 조지아주 상원의원을 두번 연임했으며, 1971년부터 1975년까지 조지아 지사로 근무했다. 조지아 주지사로 지내면서, 미국에 사는 흑인 등용법을 내세웠다.\n",
            "1976년 대통령 선거에 민주당 후보로 출마하여 도덕주의 정책으로 내세워, 포드를 누르고 당선되었다.\n",
            "카터 대통령은 에너지 개발을 촉구했으나 공화당의 반대로 무산되었다.\n",
            "카터는 이집트와 이스라엘을 조정하여, 캠프 데이비드에서 안와르 사다트 대통령과 메나헴 베긴 수상과 함께 중동 평화를 위한 캠프데이비드 협정을 체결했다.\n",
            "그러나 이것은 공화당과 미국의 유대인 단체의 반발을 일으켰다. 1979년 백악관에서 양국 간의 평화조약으로 이끌어졌다. 또한 소련과 제2차 전략 무기 제한 협상에 조인했다.\n",
            "카터는 1970년대 후반 당시 대한민국 등 인권 후진국의 국민들의 인권을 지키기 위해 노력했으며, 취임 이후 계속해서 도덕정치를 내세웠다.\n",
            "그러나 주 이란 미국 대사관 인질 사건에서 인질 구출 실패를 이유로 1980년 대통령 선거에서 공화당의 로널드 레이건 후보에게 져 결국 재선에 실패했다. 또한 임기 말기에 터진 소련의 아프가니스탄 침공 사건으로 인해 1980년 하계 올림픽에 반공국가들의 보이콧을 내세웠다.\n",
            "지미 카터는 대한민국과의 관계에서도 중요한 영향을 미쳤던 대통령 중 하나다. 인권 문제와 주한미군 철수 문제로 한때 한미 관계가 불편하기도 했다. 1978년 대한민국에 대한 북한의 위협에 대비해 한미연합사를 창설하면서, 1982년까지 3단계에 걸쳐 주한미군을 철수하기로 했다. 그러나 주한미군사령부와 정보기관·의회의 반대에 부딪혀 주한미군은 완전철수 대신 6,000명을 감축하는 데 그쳤다. 또한 박정희 정권의 인권 문제 등과의 논란으로 불협화음을 냈으나, 1979년 6월 하순, 대한민국을 방문하여 관계가 다소 회복되었다.\n",
            "1979년 ~ 1980년 대한민국의 정치적 격변기 당시의 대통령이었던 그는 이에 대해 애매한 태도를 보였고, 이는 후에 대한민국 내에서 고조되는 반미 운동의 한 원인이 됐다. 10월 26일, 박정희 대통령이 김재규 중앙정보부장에 의해 살해된 것에 대해 그는 이 사건으로 큰 충격을 받았으며, 사이러스 밴스 국무장관을 조문사절로 파견했다. 12·12 군사 반란과 5.17 쿠데타에 대해 초기에는 강하게 비난했으나, 미국 정부가 신군부를 설득하는데, 한계가 있었고 결국 묵인하는 듯한 태도를 보이게 됐다.\n",
            "퇴임 이후 민간 자원을 적극 활용한 비영리 기구인 카터 재단을 설립한 뒤 민주주의 실현을 위해 제 3세계의 선거 감시 활동 및 기니 벌레에 의한 드라쿤쿠르스 질병 방재를 위해 힘썼다. 미국의 빈곤층 지원 활동, 사랑의 집짓기 운동, 국제 분쟁 중재 등의 활동도 했다.\n",
            "카터는 카터 행정부 이후 미국이 북핵 위기, 코소보 전쟁, 이라크 전쟁과 같이 미국이 군사적 행동을 최후로 선택하는 전통적 사고를 버리고 군사적 행동을 선행하는 행위에 대해 깊은 유감을 표시 하며 미국의 군사적 활동에 강한 반대 입장을 보이고 있다.\n",
            "특히 국제 분쟁 조정을 위해 북한의 김일성, 아이티의 세드라스 장군, 팔레인스타인의 하마스, 보스니아의 세르비아계 정권 같이 미국 정부에 대해 협상을 거부하면서 사태의 위기를 초래한 인물 및 단체를 직접 만나 분쟁의 원인을 근본적으로 해결하기 위해 힘썼다. 이 과정에서 미국 행정부와 갈등을 보이기도 했지만, 전직 대통령의 권한과 재야 유명 인사들의 활약으로 해결해 나갔다.\n",
            "1978년에 채결된 캠프데이비드 협정의 이행이 지지부진 하자 중동 분쟁 분제를 해결하기 위해 1993년 퇴임 후 직접 이스라엘과 팔레인스타인의 오슬로 협정을 이끌어 내는 데도 성공했다.\n",
            "1993년 1차 북핵 위기 당시 북한에 대한 미국의 군사적 행동이 임박했으나, 미국 전직 대통령으로는 처음으로 북한을 방문하고 미국과 북 양국의 중재에 큰 기여를 해 위기를 해결했다는 평가를 받았다. 또한 이 때 김영삼 대통령과 김일성 주석의 만남을 주선했다. 하지만 그로부터 수주일 후 김일성이 갑자기 사망하여 김일성과 김영삼의 정상회담은 이루어지지 못했다.\n",
            "미국의 관타나모 수용소 문제, 세계의 인권문제에서도 관심이 깊어 유엔에 유엔인권고등판무관의 제도를 시행하도록 노력하여 독재자들의 인권 유린에 대해 제약을 하고, 국제형사재판소를 만드는 데 기여하여 독재자들 같은 인권유린범죄자를 재판소로 회부하여 국제적인 처벌을 받게 하는 등 인권 신장에 크나 큰 기여를 했다.\n",
            "2011년 4월 26일부터 29일까지 북한을 3일간 방문했다.\n",
            "경제문제를 해결하지 못하고 주 이란 미국 대사관 인질 사건에 발목이 잡혀 실패한 대통령으로 평가를 받지만 이란 사태는 미국 내 이란 재산을 풀어주겠다는 조건을 내세워서 사실상 카터가 해결한 것이었고, 사랑의 집짓기 운동 등으로 퇴임 후에 훨씬 더 존경받는 미국 대통령 중에 특이한 인물로 남았다.\n",
            "그는 2002년 말 인권과 중재 역할에 대한 공로를 인정받아 노벨 평화상을 받게 되었다.\n",
            "\n",
            "\n",
            "\n",
            "수학\n",
            "수학(數學, ) 은 양, 구조, 공간, 변화, 미적분 등의 개념을 다루는 학문이다. 현대 수학은 형식 논리를 이용해서 공리로 구성된 추상적 구조를 연구하는 학문으로 여겨지기도 한다. 수학은 그 구조와 발전 과정에서는 자연과학에 속하는 물리학을 비롯한 다른 학문들과 깊은 연관을 맺고 있다. 하지만, 어느 과학의 분야들과는 달리, 자연계에서 관측되지 않는 개념들에 대해서까지 이론을 일반화 및 추상화시킬 수 있다는 차이가 있다고 한다. 수학자들은 그러한 개념들에 대해서 추측을 하고, 적절하게 선택된 정의와 공리로부터의 엄밀한 연역을 통해서 추측들의 진위를 파악한다.\n",
            "수학은 숫자 세기, 계산, 측정 및 물리적 대상의 모양과 움직임을 추상화하고, 이에 논리적 추론을 적용하여 나타났다. 이런 기본 개념들은 고대 이집트, 메소포타미아, 고대 인도, 고대 중국 및 고대 그리스의 수학책에서 찾아볼 수 있다. 그리고, 유클리드의 원론에서는 엄밀한 논증이 발견된다. 이런 발전은 그 뒤로도 계속되어, 16세기의 르네상스에 이르러서는 수학적 발전과 과학적 방법들의 상호 작용이 일어나, 혁명적인 연구들이 진행되며 인류 문명에 큰 영향을 미치게 되었다. 그리고, 이는 현재까지도 계속되고 있다.\n",
            "오늘날 수학은 자연과학, 공학, 의학뿐만 아니라, 경제학 등의 사회과학에서도 중요한 도구로서도 사용된다. 수학을 이런 분야들에 적용한 응용수학은 그 결과로써 수학 자체의 발전을 이끌고 새로운 분야들을 낳았다. 응용이 아닌 수학 자체의 아름다움과 재미를 추구하며 연구하는 것을 순수수학이라 하는데, 긴 시간이 지난 뒤에 순수수학적 연구를 다른 분야에 응용할 방법이 발견된 경우도 많았다고 한다.\n",
            "대부분 자료를 보면, \"mathematics\"는 \"수리적인\"이라는 뜻을 가진 라틴어 mathmaticus와 그리스어 mathematikos에서 유래되었거나, \"학식있는\"을 뜻하는 mathema와 \"배우다\"를 뜻하는 manthanein에서 유래되었다고 한다. 줄여서 \"math\"라고 표현하기도 한다.\n",
            "수학은 기원전 600년 경에 살았던 탈레스로부터 시작됐다. 하지만 탈레스가 태어나기 전에도 수학을 연구한 사람이 있을 수도 있기 때문에, 인류의 역사와 더불어 시작되었다고 할 수 있다. 교역•분배•과세 등의 인류의 사회 생활에 필요한 모든 계산을 수학이 담당해 왔고, 농경 생활에 필수적인 천문 관측과 달력의 제정, 토지의 측량 또한 수학이 직접적으로 관여한 분야이다. 고대 수학을 크게 발전시킨 나라로는 이집트, 인도, 그리스, 중국 등이 있다. 그 중에서도 그리스는 처음으로 수학의 방정식에서 변수를 문자로 쓴 나라이다.\n",
            "한국의 수학은 약 1,500년 전부터 기록으로 보이기 시작한다. 신라 시대에 수학을 가르쳤으며, 탈레스가 최초로 발견한 일식과 월식을 예측할 정도로 발달했다. 조선 시대에 훈민정음을 창제한 세종 대왕은 집현전 학자들에게 수학 연구를 명하는 등, 조선의 수학 수준을 향상시키기 위해서 많은 노력을 기울였다. 하지만 임진왜란으로 많은 서적들이 불타고, 천문학 분야에서 큰 손실을 입었다. 조선 후기의 한국의 수학은 실학자들을 중심으로 다시 발전하였고, 새로운 결과도 성취되었다.\n",
            "수학의 각 분야들은 상업에 필요한 계산을 하기 위해, 숫자들의 관계를 이해하기 위해, 토지를 측량하기 위해, 그리고 천문학적 사건들을 예견하기 위해 발전되어왔다. 이 네 가지 목적은 대략적으로 수학이 다루는 대상인 양, 구조, 공간 및 변화에 대응되며, 이들을 다루는 수학의 분야를 각각 산술, 대수학, 기하학, 해석학이라 한다. 또한 이 밖에도 근대 이후에 나타난 수학기초론과 이산수학 및 응용수학 등이 있다.\n",
            "산술은 자연수와 정수 및 이에 대한 사칙연산에 대한 연구로서 시작했다. 수론은 이런 주제들을 보다 깊게 다루는 학문으로, 그 결과로는 페르마의 마지막 정리 등이 유명하다. 또한 쌍둥이 소수 추측과 골드바흐 추측 등을 비롯해 오랜 세월 동안 해결되지 않고 남아있는 문제들도 여럿 있다.\n",
            "수의 체계가 보다 발전하면서, 정수의 집합을 유리수의 집합의 부분집합으로 여기게 되었다. 또한 유리수의 집합은 실수의 집합의 부분집합이며, 이는 또다시 복소수 집합의 일부분으로 볼 수 있다. 여기에서 더 나아가면 사원수와 팔원수 등의 개념을 생각할 수도 있다. 이와는 약간 다른 방향으로, 자연수를 무한대까지 세어나간다는 개념을 형식화하여 순서수의 개념을 얻으며, 집합의 크기 비교를 이용하여 무한대를 다루기 위한 또다른 방법으로는 기수의 개념도 있다.\n",
            "수 대신 문자를 써서 문제해결을 쉽게 하는 것과, 마찬가지로 수학적 법칙을 일반적이고 간명하게 나타내는 것을 포함한다. 고전대수학은 대수방정식 및 연립방정식의 해법에서 시작하여 군, 환, 체 등의 추상대수학을 거쳐 현대에 와서는 대수계의 구조를 보는 것을 중심으로 하는 선형대수학으로 전개되었다. 수의 집합이나 함수와 같은 많은 수학적 대상들은 내재적인 구조를 보인다. 이러한 대상들의 구조적 특성들이 군론, 환론, 체론 그리고 그 외의 수많은 대수적 구조들을 연구하면서 다루어지며, 그것들 하나하나가 내재적 구조를 지닌 수학적 대상이다. 이 분야에서 중요한 개념은 벡터, 벡터 공간으로의 일반화, 그리고 선형대수학에서의 지식들이다. 벡터의 연구에는 산술, 대수, 기하라는 수학의 중요한 세개의 분야가 조합되어 있다. 벡터 미적분학은 여기에 해석학의 영역이 추가된다. 텐서 미적분학은 대칭성과 회전축의 영향 아래에서 벡터의 움직임을 연구한다. 눈금없는 자와 컴퍼스와 관련된 많은 고대의 미해결 문제들이 갈루아 이론을 사용하여 비로소 해결되었다.\n",
            "공간에 대한 연구는 기하학에서 시작되었고, 특히 유클리드 기하학에서 비롯되었다. 삼각법은 공간과 수들을 결합하였고, 잘 알려진 피타고라스의 정리를 포함한다. 현대에 와서 공간에 대한 연구는, 이러한 개념들은 더 높은 차원의 기하학을 다루기 위해 비유클리드 기하학(상대성이론에서 핵심적인 역할을 함)과 위상수학으로 일반화되었다. 수론과 공간에 대한 이해는 모두 해석 기하학, 미분기하학, 대수기하학에 중요한 역할을 한다. 리 군도 공간과 구조, 변화를 다루는데 사용된다. 위상수학은 20세기 수학의 다양한 지류속에서 괄목할만한 성장을 한 분야이며, 푸앵카레 추측과 인간에 의해서 증명되지 못하고 오직 컴퓨터로만 증명된 4색정리를 포함한다.\n",
            "변화에 대한 이해와 묘사는 자연과학에 있어서 일반적인 주제이며, 미적분학은 변화를 탐구하는 강력한 도구로서 발전되었다. 함수는 변화하는 양을 묘사함에 있어서 중추적인 개념으로써 떠오르게 된다. 실수와 실변수로 구성된 함수의 엄밀한 탐구가 실해석학이라는 분야로 알려지게 되었고, 복소수에 대한 이와 같은 탐구 분야는 복소해석학이라고 한다. 함수해석학은 함수의 공간(특히 무한차원)의 탐구에 주목한다. 함수해석학의 많은 응용분야 중 하나가 양자역학이다. 많은 문제들이 자연스럽게 양과 그 양의 변화율의 관계로 귀착되고, 이러한 문제들이 미분방정식으로 다루어진다. 자연의 많은 현상들이 동역학계로 기술될 수 있다. 혼돈 이론은 이러한 예측 불가능한 현상을 탐구하는 데 상당한 기여를 한다.\n",
            "수학의 기초를 확실히 세우기 위해, 수리논리학과 집합론이 발전하였고, 이와 더불어 범주론이 최근에도 발전되고 있다. “근본 위기”라는 말은 대략 1900년에서 1930년 사이에 일어난, 수학의 엄밀한 기초에 대한 탐구를 상징적으로 보여주는 말이다. 수학의 엄밀한 기초에 대한 몇 가지 의견 불일치는 오늘날에도 계속되고 있다. 수학의 기초에 대한 위기는 그 당시 수많은 논쟁에 의해 촉발되었으며, 그 논쟁에는 칸토어의 집합론과 브라우어-힐베르트 논쟁이 포함되었다.\n",
            "\n",
            "\n",
            "\n",
            "수학 상수\n",
            "수학에서 상수란 그 값이 변하지 않는 불변량으로, 변수의 반대말이다. 물리 상수와는 달리, 수학 상수는 물리적 측정과는 상관없이 정의된다.\n",
            "수학 상수는 대개 실수체나 복소수체의 원소이다. 우리가 이야기할 수 있는 상수는 (거의 대부분 계산 가능한) 정의가능한 수이다.\n",
            "특정 수학 상수, 예를 들면 골롬-딕맨 상수, 프랑세즈-로빈슨 상수, formula_1, 레비 상수같은 상수는 다른 수학상수 또는 함수와 약한 상관관계 또는 강한 상관관계를 갖는다.\n",
            "\n",
            "\n",
            "\n",
            "문학\n",
            "문학(文學)은 언어를 예술적 표현의 제재로 삼아 새로운 의미를 창출하여, 인간과 사회를 진실되게 묘사하는 예술의 하위분야이다. 간단하게 설명하면, 언어를 통해 인간의 삶을 미적(美的)으로 형상화한 것이라고 볼 수 있다. 문학은 원래 문예(文藝)라고 부르는 것이 옳으며, 문학을 학문의 대상으로서 탐구하는 학문의 명칭 역시 문예학이다. 문예학은 음악사학, 미술사학 등과 함께 예술학의 핵심분야로서 인문학의 하위범주에 포함된다.\n"
          ],
          "name": "stdout"
        }
      ]
    },
    {
      "cell_type": "markdown",
      "metadata": {
        "id": "WEuPCJj4Rn_I"
      },
      "source": [
        "# char Tokenizer"
      ]
    },
    {
      "cell_type": "code",
      "metadata": {
        "colab": {
          "base_uri": "https://localhost:8080/"
        },
        "id": "NTJmvF4-Rq0I",
        "outputId": "49df80d4-3e83-4785-a76c-18fb7de08a70"
      },
      "source": [
        "char_counter = collections.defaultdict(int)\n",
        "\n",
        "# char 개수 확인\n",
        "with zipfile.ZipFile(args.corpus) as z:\n",
        "    with z.open(\"kowiki.txt\") as f:\n",
        "        for i, line in enumerate(f):\n",
        "            line = line.decode('utf-8').strip() #다시 utf-8로 맞춰준다?\n",
        "            for c in line:\n",
        "                char_counter[c] += 1\n",
        "\n",
        "len(char_counter)"
      ],
      "execution_count": null,
      "outputs": [
        {
          "output_type": "execute_result",
          "data": {
            "text/plain": [
              "15581"
            ]
          },
          "metadata": {
            "tags": []
          },
          "execution_count": 20
        }
      ]
    },
    {
      "cell_type": "code",
      "metadata": {
        "colab": {
          "base_uri": "https://localhost:8080/"
        },
        "id": "8DcP6s6RSbOR",
        "outputId": "4093f600-f9d4-4a23-bc0c-a1ea8b5b03f7"
      },
      "source": [
        "char_counter.items()\n",
        "# 딕셔너리 형태로...아닌가 리스트 형태로.."
      ],
      "execution_count": null,
      "outputs": [
        {
          "output_type": "execute_result",
          "data": {
            "text/plain": [
              "dict_items([('지', 2166697), ('미', 562050), (' ', 55863103), ('카', 344244), ('터', 458779), ('제', 922179), ('임', 271815), ('스', 1507615), ('얼', 36806), ('\"', 442631), ('주', 957932), ('니', 387945), ('어', 1212226), ('(', 1694211), (',', 3110187), ('1', 2670379), ('9', 1222223), ('2', 1660309), ('4', 684814), ('년', 1556495), ('0', 1825000), ('월', 704972), ('일', 1284035), ('~', 158425), (')', 1694892), ('는', 3848984), ('민', 385830), ('당', 400224), ('출', 276510), ('신', 542831), ('국', 1008970), ('3', 787550), ('번', 191694), ('째', 79742), ('대', 1643852), ('통', 345404), ('령', 129183), ('7', 601185), ('8', 703091), ('이', 5799143), ('다', 5291578), ('.', 4395303), ('조', 621701), ('아', 1259539), ('섬', 48282), ('운', 308499), ('티', 170759), ('플', 94315), ('레', 360531), ('인', 1457894), ('마', 628976), ('을', 2617935), ('에', 4313327), ('서', 2119585), ('태', 219759), ('났', 53798), ('공', 655730), ('과', 995883), ('학', 584039), ('교', 576686), ('를', 1586322), ('졸', 25490), ('업', 218867), ('하', 2989928), ('였', 655952), ('그', 1094927), ('후', 481253), ('해', 977819), ('군', 410746), ('들', 863267), ('가', 2270753), ('전', 1078888), ('함', 256501), ('·', 149621), ('원', 680734), ('자', 1239861), ('력', 204709), ('잠', 26185), ('수', 1160853), ('의', 4228709), ('승', 224241), ('무', 406107), ('으', 1687027), ('로', 3112533), ('5', 707274), ('위', 700962), ('예', 192305), ('편', 145761), ('고', 2196120), ('땅', 15346), ('콩', 16449), ('면', 488439), ('화', 582906), ('등', 473420), ('꿔', 1993), ('많', 120801), ('은', 2009210), ('돈', 20015), ('벌', 60779), ('었', 949639), ('별', 115112), ('명', 502662), ('농', 48385), ('부', 1106607), ('P', 142097), ('e', 735595), ('a', 681913), ('n', 488356), ('u', 293948), ('t', 418742), ('F', 153963), ('r', 547270), ('m', 377670), ('알', 165457), ('려', 248440), ('졌', 93613), ('6', 630425), ('상', 765018), ('선', 664505), ('거', 366327), ('낙', 17632), ('나', 1129308), ('정', 1037665), ('음', 383483), ('입', 207517), ('증', 100984), ('게', 659410), ('되', 1049589), ('사', 1661399), ('만', 627339), ('역', 478512), ('했', 708492), ('기', 1855825), ('두', 261103), ('연', 476403), ('며', 609671), ('까', 211210), ('근', 128097), ('내', 325111), ('흑', 14621), ('용', 449678), ('법', 231546), ('세', 554268), ('웠', 20787), ('보', 627183), ('여', 769904), ('도', 1523500), ('덕', 43635), ('책', 76722), ('워', 86259), ('포', 324708), ('드', 599961), ('누', 60578), ('르', 514813), ('너', 81054), ('개', 503827), ('발', 425387), ('촉', 17554), ('구', 780817), ('반', 332365), ('산', 401323), ('집', 147209), ('트', 613142), ('와', 696769), ('라', 1182856), ('엘', 44197), ('캠', 11205), ('프', 424580), ('데', 378210), ('비', 545579), ('안', 331333), ('메', 174447), ('헴', 587), ('베', 174755), ('긴', 40870), ('께', 92727), ('중', 610416), ('동', 747240), ('평', 156351), ('한', 2102410), ('협', 71463), ('체', 329742), ('결', 250544), ('러', 401728), ('것', 462899), ('유', 561463), ('단', 376403), ('켰', 28952), ('백', 98545), ('악', 105853), ('관', 476585), ('양', 284563), ('간', 346959), ('약', 185608), ('끌', 26586), ('또', 197441), ('소', 566490), ('련', 83804), ('차', 329303), ('략', 24524), ('시', 1630906), ('권', 183981), ('진', 459567), ('키', 236471), ('노', 304186), ('취', 63858), ('계', 487325), ('속', 275086), ('치', 514951), ('란', 158318), ('질', 127055), ('건', 209912), ('실', 271885), ('패', 89503), ('널', 54691), ('져', 95782), ('재', 393702), ('말', 178152), ('탄', 81994), ('침', 57782), ('올', 120928), ('림', 90956), ('픽', 44585), ('콧', 2933), ('요', 282414), ('영', 451378), ('향', 136861), ('쳤', 23118), ('던', 253678), ('문', 520738), ('철', 117486), ('때', 281925), ('불', 207933), ('북', 161820), ('합', 200453), ('창', 106109), ('설', 251240), ('걸', 47653), ('쳐', 58441), ('회', 471590), ('딪', 1565), ('혀', 28540), ('완', 73196), ('감', 159607), ('축', 121281), ('박', 117203), ('희', 51606), ('논', 49884), ('냈', 37005), ('순', 95593), ('방', 390583), ('복', 141999), ('적', 751377), ('격', 167913), ('변', 134427), ('애', 90303), ('매', 190543), ('됐', 32100), ('김', 123115), ('규', 89931), ('앙', 58893), ('장', 794204), ('살', 112184), ('된', 461202), ('큰', 53194), ('충', 80579), ('받', 190998), ('았', 187275), ('밴', 20663), ('절', 100670), ('파', 291145), ('견', 85982), ('쿠', 100607), ('타', 388297), ('초', 229227), ('강', 251550), ('난', 127259), ('득', 49079), ('있', 1191238), ('묵', 7140), ('듯', 12173), ('퇴', 46100), ('극', 86063), ('활', 155375), ('리', 1630897), ('립', 170140), ('뒤', 74398), ('현', 311151), ('및', 99126), ('쿤', 2147), ('병', 133013), ('힘', 26454), ('썼', 8885), ('빈', 35946), ('곤', 22039), ('층', 44694), ('랑', 124792), ('짓', 14211), ('분', 341963), ('쟁', 84988), ('행', 326540), ('핵', 28842), ('코', 232796), ('크', 325376), ('같', 190228), ('최', 193153), ('택', 45088), ('버', 203622), ('깊', 11803), ('표', 246070), ('특', 148344), ('히', 236728), ('성', 797393), ('팔', 34567), ('래', 206730), ('물', 288695), ('직', 215868), ('접', 76126), ('본', 312521), ('갈', 59443), ('야', 263893), ('갔', 33365), ('채', 69077), ('오', 535893), ('슬', 60861), ('처', 160124), ('삼', 83427), ('석', 142844), ('남', 297303), ('갑', 25015), ('망', 90298), ('담', 70428), ('루', 249130), ('못', 73825), ('모', 453606), ('심', 169951), ('엔', 61134), ('판', 170727), ('록', 200801), ('독', 219182), ('린', 148769), ('형', 254394), ('범', 86817), ('죄', 25751), ('경', 588037), ('목', 165877), ('잡', 52238), ('풀', 24604), ('겠', 18732), ('훨', 5174), ('씬', 6169), ('더', 162681), ('존', 121107), ('할', 292227), ('벨', 36625), ('數', 1525), ('學', 15675), ('념', 43017), ('식', 311697), ('추', 157495), ('겨', 61328), ('롯', 26646), ('른', 185569), ('맺', 12670), ('느', 46401), ('달', 156315), ('측', 65036), ('않', 192721), ('론', 114589), ('킬', 17405), ('엄', 35394), ('밀', 69100), ('숫', 6324), ('움', 50245), ('런', 68953), ('찾', 29409), ('볼', 55512), ('클', 83639), ('네', 152446), ('호', 313064), ('작', 394998), ('혁', 40190), ('류', 134589), ('늘', 40527), ('날', 85433), ('뿐', 27820), ('응', 52310), ('써', 40362), ('새', 95290), ('낳', 8297), ('닌', 35085), ('름', 130843), ('우', 563976), ('료', 98773), ('h', 202032), ('i', 532719), ('c', 236445), ('s', 354357), ('뜻', 59894), ('틴', 22241), ('k', 131430), ('o', 586811), ('배', 204868), ('줄', 43530), ('탈', 87072), ('람', 123366), ('•', 1945), ('생', 331996), ('필', 92941), ('든', 90821), ('왔', 44863), ('천', 184145), ('토', 251821), ('량', 94618), ('킨', 40038), ('쓴', 11478), ('훈', 35703), ('종', 295287), ('왕', 179128), ('준', 139572), ('울', 116976), ('왜', 17439), ('손', 80053), ('각', 235409), ('술', 117186), ('밖', 22879), ('칙', 26039), ('페', 121610), ('막', 77111), ('쌍', 14851), ('둥', 20939), ('골', 65203), ('바', 330586), ('흐', 29066), ('랜', 79090), ('럿', 2975), ('얻', 34388), ('쉽', 12338), ('찬', 41629), ('환', 108613), ('외', 152850), ('벡', 7452), ('텐', 18711), ('칭', 61457), ('눈', 24622), ('금', 166144), ('없', 159333), ('컴', 28911), ('퍼', 70782), ('잘', 38807), ('피', 188543), ('높', 58337), ('괄', 6727), ('푸', 30188), ('앵', 5521), ('퓨', 19385), ('색', 87671), ('묘', 38162), ('탐', 18214), ('떠', 28707), ('럽', 62868), ('율', 39795), ('귀', 61445), ('착', 53011), ('될', 43697), ('혼', 64811), ('능', 117870), ('확', 90277), ('“', 33829), ('”', 33710), ('징', 50611), ('몇', 35443), ('칸', 33106), ('브', 165286), ('-', 251453), ('힐', 9018), ('값', 14568), ('롬', 9554), ('딕', 4522), ('맨', 24296), ('즈', 137355), ('슨', 36284), ('f', 154212), ('l', 403445), ('_', 77975), ('갖', 40877), ('文', 12026), ('언', 144857), ('삶', 8439), ('美', 2181), ('的', 2032), ('藝', 819), ('옳', 1439), ('텍', 10657), ('떤', 17991), ('흔', 16111), ('묶', 4344), ('헌', 52341), ('좀', 6822), ('곡', 100664), ('족', 127914), ('띨', 55), ('닐', 8035), ('템', 28917), ('테', 138828), ('꼭', 5270), ('디', 208640), ('털', 21370), ('점', 199407), ('허', 57286), ('품', 103209), ('찰', 60506), ('떨', 26770), ('투', 160380), ('뢰', 13647), ('따', 149971), ('즉', 45054), ('춤', 5916), ('춘', 24828), ('演', 591), ('劇', 755), ('詩', 1665), ('散', 554), ('뉜', 4296), ('즘', 13961), ('흥', 36545), ('씌', 1431), ('雜', 546), ('짜', 12184), ('書', 7290), ('簡', 566), ('험', 61098), ('特', 802), ('定', 3524), ('時', 3117), ('傳', 1959), ('記', 3587), ('評', 389), ('論', 2900), ('띠', 6982), ('냥', 8124), ('욕', 26775), ('저', 148660), ('므', 32736), ('황', 123532), ('켜', 24546), ('열', 151428), ('뉘', 8448), ('엮', 1202), ('렵', 13912), ('길', 66924), ('락', 52539), ('몬', 27158), ('참', 115281), ('化', 3373), ('광', 135602), ('맞', 42832), ('효', 55634), ('염', 32938), ('<', 38428), ('w', 54565), ('>', 39177), ('*', 2785), ('/', 66310), (':', 93822), ('B', 161995), ('C', 242508), ('굴', 26600), ('검', 50571), ('빛', 15890), ('끓', 1854), ('벽', 25084), ('돌', 94442), ('녹', 22138), ('급', 124266), ('R', 107795), ('b', 88952), ('y', 121365), ('뿌', 6631), ('님', 19729), ('온', 105462), ('폐', 44041), ('쇄', 13710), ('압', 44329), ('례', 51070), ('《', 170254), ('》', 170239), ('획', 54482), ('믿', 10892), ('낸', 28935), ('é', 5848), ('D', 137692), ('컬', 22988), ('펌', 2238), ('컨', 19501), ('핑', 11012), ('죽', 57261), ('턴', 38895), ('엽', 10127), ('p', 127280), ('붙', 30137), ('낼', 7369), ('붕', 16978), ('괴', 31621), ('S', 255249), ('A', 242960), ('K', 95237), ('렬', 17162), ('혹', 29122), ('겪', 8738), ('끊', 6628), ('흡', 12543), ('Δ', 456), ('H', 81795), ('눌', 4150), ('띤', 2391), ('륨', 5113), ('N', 105967), ('렇', 22418), ('액', 27997), ('겹', 4208), ('큼', 10964), ('청', 165054), ('O', 99730), ('욱', 18571), ('넓', 18362), ('송', 123404), ('믹', 7654), ('램', 38114), ('끼', 23979), ('커', 59216), ('X', 31238), ('틱', 10215), ('첸', 4097), ('캅', 1294), ('룹', 27470), ('섞', 4247), ('%', 46186), ('잉', 24261), ('슈', 58271), ('젊', 8276), ('맹', 35669), ('맥', 31420), ('웰', 5879), ('M', 171199), ('x', 27469), ('方', 3279), ('程', 480), ('式', 1914), ('츠', 67447), ('펴', 4531), ('쿨', 6753), ('롱', 11268), ('밝', 35361), ('혔', 19554), ('앞', 41582), ('힌', 14694), ('척', 25326), ('닭', 3303), ('샤', 28472), ('틀', 46943), ('곱', 9850), ('웨', 58434), ('W', 63115), ('뜨', 10525), ('놓', 27899), ('둘', 29094), ('홀', 19553), ('力', 1204), ('線', 1621), ('먼', 42706), ('헤', 43624), ('윌', 13743), ('폭', 51209), ('쓰', 97023), ('덧', 4864), ('場', 1365), ('멕', 10166), ('렸', 50894), ('칼', 31840), ('케', 89897), ('µ', 177), ('멀', 11509), ('훗', 4819), ('첫', 57921), ('G', 93822), ('超', 487), ('越', 852), ('항', 159081), ('빌', 35285), ('폰', 21422), ('겔', 5064), ('앨', 36353), ('音', 1934), ('階', 378), ('v', 72077), ('d', 199722), ('半', 947), ('뜸', 1036), ('솔', 20464), ('黃', 2559), ('鍾', 1179), ('♭', 105), ('太', 5300), ('蔟', 1), ('仲', 1061), ('呂', 916), ('林', 4093), ('無', 4425), ('射', 757), ('궁', 36011), ('變', 917), ('徵', 305), ('宮', 3151), ('뽑', 5601), ('즌', 56420), ('몽', 22047), ('총', 117163), ('넷', 19638), ('친', 80978), ('혜', 21466), ('십', 26618), ('끄', 11120), ('\\xa0', 42974), ('렀', 20023), ('잃', 11992), ('륜', 6378), ('봉', 79072), (\"'\", 298720), ('풍', 47183), ('홍', 47268), ('럼', 46367), ('‘', 58953), ('’', 59694), ('습', 65899), ('컵', 33965), ('혈', 19320), ('냐', 19163), ('답', 14653), ('긍', 3956), ('꾸', 21338), ('싸', 26101), ('빨', 10255), ('낮', 19094), ('좋', 31227), ('씩', 12915), ('텔', 32661), ('앤', 19107), ('섰', 7274), ('밤', 13559), ('껴', 2083), ('끝', 45212), ('썩', 974), ('몰', 30782), ('咸', 1083), ('錫', 1445), ('憲', 1904), ('릉', 13990), ('江', 3816), ('陵', 2585), ('信', 3117), ('天', 8143), ('씨', 60508), ('육', 101664), ('숙', 34302), ('一', 6536), ('亨', 639), ('三', 9067), ('遷', 230), ('齋', 1564), ('德', 5304), ('小', 3318), ('校', 9706), ('숭', 12380), ('촌', 23903), ('州', 12174), ('五', 3875), ('山', 17256), ('곳', 63193), ('內', 2552), ('村', 2054), ('鑑', 455), ('金', 17651), ('敎', 4058), ('臣', 3819), ('宋', 2146), ('斗', 833), ('用', 1518), ('鄭', 3750), ('相', 4066), ('勳', 915), ('柳', 2347), ('東', 9250), ('楊', 1442), ('仁', 4752), ('性', 3530), ('聖', 3895), ('朝', 3563), ('鮮', 1884), ('객', 36205), ('글', 88673), ('〈', 40428), ('〉', 40420), ('옥', 34269), ('松', 3236), ('赫', 310), ('鷄', 279), ('友', 836), ('會', 5359), ('事', 7608), ('件', 649), ('弔', 79), ('蛙', 33), ('둑', 5826), ('Y', 23442), ('휴', 23572), ('익', 40096), ('놀', 15579), ('빙', 11749), ('떻', 6177), ('랄', 7974), ('빚', 3352), ('퀘', 4597), ('Q', 10364), ('派', 2333), ('좌', 46512), ('폈', 612), ('윤', 43607), ('뷰', 10239), ('?', 19695), ('닙', 377), ('옛', 12768), ('납', 12818), ('섭', 15910), ('암', 61136), ('읍', 17942), ('곧', 15525), ('듭', 4570), ('뤄', 6945), ('윈', 19284), ('뮤', 22033), ('줍', 332), ('놈', 2453), ('빼', 8182), ('먹', 24639), ('넌', 3788), ('센', 54108), ('맸', 68), ('白', 3884), ('南', 8498), ('準', 615), ('水', 4755), ('原', 5333), ('뉴', 54080), ('쾰', 1220), ('쿄', 19962), ('머', 89627), ('녀', 67493), ('덴', 30593), ('쇤', 380), ('뮌', 4440), ('헨', 18349), ('옮', 16152), ('션', 70166), ('릴', 28215), ('탁', 22070), ('콜', 30993), ('숨', 11910), ('넥', 3976), ('낭', 8861), ('젠', 12767), ('묻', 6091), ('셉', 3997), ('럭', 8939), ('벤', 23076), ('튜', 13584), ('T', 169293), ('V', 79048), ('탕', 20754), ('갤', 4483), ('덤', 10563), ('슐', 4046), ('릭', 39171), ('젖', 2344), ('킹', 14601), ('펼', 10599), ('큐', 13777), ('팅', 19620), ('봇', 4918), ('팩', 6115), ('촬', 8830), ('첼', 6177), ('샬', 2501), ('넣', 16052), ('섹', 3557), ('붓', 2651), ('휘', 35479), ('E', 126238), ('꾀', 2100), ('굿', 2833), ('닝', 15180), ('퐁', 2086), ('샌', 6636), ('링', 36590), ('[', 42992), ('草', 1301), ('月', 2816), (']', 43108), ('콘', 35642), ('I', 148961), ('늑', 3760), ('엇', 7139), ('쮜', 3), ('폴', 45090), ('틸', 9575), ('렉', 22922), ('닉', 13340), ('뇌', 16053), ('겐', 14890), ('눠', 1513), ('쪽', 120846), ('헝', 8432), ('튀', 6992), ('늄', 5835), ('段', 346), ('狀', 690), ('鑛', 141), ('泉', 1154), ('솟', 2305), ('²', 3730), ('텝', 1478), ('흘', 8513), ('빠', 29173), ('젬', 556), ('켈', 8778), ('륙', 21512), ('덜', 16219), ('덥', 551), ('д', 1122), ('е', 2799), ('к', 1996), ('а', 4302), ('и', 3420), ('м', 1142), ('т', 1782), ('о', 3627), ('У', 125), ('р', 2565), ('н', 2765), ('ѓ', 6), ('с', 2227), ('л', 1841), ('в', 1902), ('п', 527), ('у', 1093), ('ш', 349), ('з', 439), ('ч', 519), ('„', 114), ('г', 650), ('б', 520), ('ј', 84), ('얇', 2127), ('끈', 5178), ('옷', 8137), ('삭', 9707), ('늬', 6057), ('톱', 7876), ('렛', 3780), ('둔', 19188), ('元', 6773), ('支', 1167), ('點', 546), ('先', 1453), ('잎', 10799), ('綱', 716), ('꽃', 17936), ('잔', 22970), ('튼', 12759), ('理', 3828), ('容', 1257), ('깎', 1527), ('쇠', 9892), ('짧', 9768), ('탑', 27150), ('웹', 10990), ('ˈ', 238), ('꼽', 5618), ('얽', 1371), ('돕', 3675), ('칠', 23032), ('읽', 7988), ('L', 107539), ('윅', 1329), ('훼', 3669), ('쉬', 13864), ('넘', 31433), ('챌', 1919), ('g', 142621), ('겼', 20918), ('地', 5257), ('球', 782), ('科', 2200), ('섯', 12007), ('젝', 11879), ('쇼', 32742), ('J', 49465), ('롭', 14449), ('멸', 21222), ('춰', 4586), ('캐', 47674), ('正', 6717), ('待', 211), ('ち', 578), ('멈', 3071), ('맡', 41524), ('本', 4959), ('の', 3573), ('未', 564), ('来', 181), ('基', 2572), ('z', 26307), ('꿈', 8232), ('삽', 4408), ('｜', 22), ('ぶ', 198), ('ん', 1188), ('こ', 563), ('庫', 494), ('쓸', 5753), ('j', 11614), ('핀', 25235), ('딩', 14992), ('셀', 19696), ('첩', 8279), ('和', 3746), ('歌', 1691), ('光', 5384), ('源', 2162), ('氏', 8531), ('깝', 3712), ('귄', 1272), ('얘', 2130), ('쥐', 28493), ('팽', 6461), ('넙', 203), ('品', 1097), ('델', 36052), ('혐', 8974), ('般', 356), ('對', 1462), ('률', 27821), ('닥', 12348), ('쏘', 3172), ('셜', 7644), ('−', 853), ('+', 11575), ('덱', 1979), ('캘', 8710), ('켄', 8379), ('톰', 5837), ('U', 69911), ('핸', 3460), ('밍', 10387), ('週', 116), ('期', 751), ('律', 876), ('表', 1039), ('멘', 15736), ('즐', 11082), ('균', 35636), ('슘', 2113), ('튬', 1281), ('슷', 16610), ('딘', 8393), ('긋', 2115), ('웃', 11862), ('뀌', 10264), ('헬', 15018), ('깥', 3922), ('껍', 3140), ('몸', 24666), ('=', 14340), ('α', 3032), ('롤', 18191), ('릿', 9067), ('곁', 2152), (';', 9357), ('랫', 11990), ('変', 120), ('体', 159), ('仮', 53), ('名', 2527), ('룬', 15114), ('뤼', 5808), ('뷔', 31619), ('꼬', 11532), ('굳', 3486), ('벗', 8342), ('옹', 16327), ('젤', 14241), ('앗', 6789), ('돼', 10401), ('듣', 8023), ('뵐', 189), ('ö', 1517), ('『', 10060), ('』', 10081), ('블', 64732), ('룸', 4801), ('펜', 16533), ('≪', 1353), ('≫', 1352), ('듬', 16086), ('덟', 2209), ('벳', 2980), ('겸', 20763), ('多', 1550), ('項', 414), ('꼴', 4313), ('次', 1171), ('푼', 3116), ('\\\\', 669), ('^', 496), ('≠', 57), ('±', 658), ('√', 28), ('角', 1020), ('函', 348), ('恒', 618), ('等', 4957), ('셈', 5842), ('꾼', 4821), ('깔', 5589), ('끔', 4911), ('츰', 967), ('뫼', 1172), ('盧', 1122), ('武', 4972), ('鉉', 588), ('뛰', 23000), ('휩', 2054), ('좁', 5162), ('햇', 1840), ('볕', 475), ('밑', 8774), ('엉', 3166), ('덩', 5157), ('뒷', 7205), ('맏', 1546), ('잦', 1755), ('딸', 20397), ('쌓', 8647), ('쏜', 625), ('葬', 361), ('봤', 2282), ('잇', 11285), ('걱', 2260), ('붐', 1590), ('볐', 76), ('뎌', 404), ('챙', 1155), ('싼', 4426), ('둬', 799), ('넉', 905), ('…', 2631), ('쩍', 564), ('룩', 7663), ('쁜', 2574), ('쁨', 903), ('짐', 10416), ('쁩', 18), ('風', 1569), ('꺾', 4434), ('싶', 8274), ('쪼', 910), ('줬', 2704), ('親', 1754), ('反', 1456), ('非', 1198), ('걀', 1457), ('녁', 3920), ('낀', 2349), ('랍', 8915), ('싱', 42505), ('넬', 6182), ('껄', 159), ('됨', 7890), ('ㆍ', 4689), ('잖', 579), ('쾌', 5916), ('튿', 390), ('앉', 5307), ('낡', 772), ('쯤', 2787), ('죠', 2830), ('쏟', 2063), ('홈', 23461), ('찍', 10855), ('촛', 999), ('댓', 1803), ('쨌', 554), ('쌀', 4323), ('숲', 7181), ('흠', 2330), ('첨', 9244), ('쁘', 1846), ('억', 35844), ('찮', 1156), ('횡', 5342), ('팀', 88306), ('갚', 995), ('랐', 18658), ('융', 16260), ('∼', 6023), ('늦', 5449), ('렁', 2017), ('떡', 1886), ('멱', 735), ('벼', 7110), ('뜯', 777), ('빅', 10463), ('뀐', 1812), ('픔', 1685), ('뜰', 911), ('븐', 6811), ('궐', 4342), ('훌', 4166), ('륭', 4382), ('똥', 774), ('굽', 3089), ('앴', 196), ('앰', 1195), ('촘', 773), ('九', 2286), ('깨', 15734), ('끗', 1403), ('깜', 1053), ('릇', 2640), ('맛', 6554), ('愛', 1334), ('憎', 24), ('줘', 1509), ('딤', 685), ('닷', 3609), ('윽', 802), ('맵', 2144), ('괜', 709), ('봐', 3008), ('띄', 4132), ('低', 180), ('냄', 2297), ('뚜', 4574), ('렷', 2871), ('웅', 13664), ('샀', 1106), ('얏', 348), ('泰', 1976), ('꿨', 1155), ('쩔', 1142), ('왈', 2673), ('竹', 1239), ('島', 3568), ('찌', 6040), ('몫', 1466), ('낱', 2642), ('톨', 18845), ('꺼', 5255), ('옆', 8778), ('틈', 3579), ('大', 22892), ('花', 2090), ('毘', 258), ('殿', 2381), ('셔', 17069), ('윗', 4853), ('탓', 2807), ('폄', 368), ('算', 344), ('術', 1175), ('完', 920), ('全', 3672), ('닫', 5380), ('Ч', 87), ('ы', 661), ('ё', 125), ('짝', 5897), ('팡', 3289), ('딴', 2986), ('삿', 2428), ('π', 708), ('法', 7705), ('則', 571), ('셋', 7041), ('第', 1213), ('面', 3350), ('二', 2955), ('雙', 694), ('曲', 1082), ('렴', 5554), ('빗', 4192), ('空', 1753), ('間', 1561), ('實', 1802), ('複', 247), ('素', 765), ('部', 4970), ('分', 2346), ('룰', 4760), ('셰', 10435), ('物', 2607), ('常', 1511), ('굵', 2108), ('代', 3017), ('켤', 393), ('{', 1240), ('}', 1114), ('!', 21143), ('規', 380), ('布', 700), ('ß', 389), ('Z', 11879), ('攻', 183), ('殻', 18), ('機', 1178), ('動', 1994), ('隊', 734), ('∞', 209), ('級', 313), ('펙', 4607), ('手', 1029), ('Γ', 111), ('γ', 697), ('澄', 256), ('堂', 3344), ('主', 4893), ('人', 8490), ('我', 1179), ('鬼', 383), ('「', 18748), ('」', 18775), ('蜘', 9), ('蛛', 10), ('糸', 27), ('杜', 630), ('子', 9676), ('春', 2223), ('新', 4901), ('敏', 619), ('フ', 402), ('ク', 636), ('辰', 594), ('年', 3002), ('日', 4928), ('龍', 4460), ('之', 3320), ('介', 457), ('助', 648), ('싫', 2550), ('は', 705), ('つ', 514), ('ひ', 283), ('さ', 652), ('쵸', 819), ('キ', 402), ('芥', 25), ('川', 6870), ('道', 9039), ('章', 2086), ('士', 3280), ('族', 1852), ('寄', 150), ('屋', 616), ('坊', 475), ('乙', 896), ('類', 1123), ('井', 1617), ('恭', 983), ('久', 858), ('米', 376), ('雄', 1207), ('思', 1895), ('潮', 257), ('隆', 809), ('봄', 7338), ('帝', 3552), ('國', 11781), ('羅', 3455), ('生', 4472), ('門', 4632), ('鈴', 207), ('木', 2677), ('重', 2672), ('吉', 2482), ('멤', 14403), ('鼻', 231), ('浅', 146), ('野', 2025), ('郎', 1349), ('皇', 3643), ('畔', 24), ('舟', 287), ('市', 2631), ('河', 3195), ('喜', 824), ('煙', 131), ('と', 1003), ('悪', 41), ('魔', 344), ('田', 4854), ('学', 881), ('政', 4589), ('똑', 3637), ('由', 659), ('比', 665), ('ガ', 246), ('浜', 181), ('町', 825), ('誉', 32), ('司', 4440), ('横', 118), ('須', 307), ('賀', 658), ('海', 5872), ('客', 629), ('外', 1962), ('近', 819), ('藤', 1501), ('浩', 746), ('路', 2117), ('永', 3780), ('見', 2159), ('徳', 555), ('上', 5325), ('遊', 571), ('加', 1243), ('志', 1446), ('湯', 263), ('保', 1753), ('も', 500), ('퀴', 7222), ('歯', 23), ('車', 1448), ('갓', 2307), ('童', 478), ('궤', 12399), ('핫', 3020), ('塚', 315), ('八', 2784), ('洲', 499), ('鵠', 36), ('沼', 197), ('也', 442), ('寸', 94), ('家', 4999), ('を', 518), ('借', 140), ('り', 930), ('て', 633), ('か', 1151), ('ら', 808), ('雑', 64), ('簿', 484), ('富', 1022), ('녔', 3941), ('柴', 272), ('悠', 26), ('々', 140), ('荘', 68), ('岸', 298), ('劉', 2802), ('国', 1802), ('虎', 983), ('斎', 115), ('茂', 676), ('土', 1659), ('明', 5863), ('葛', 612), ('巻', 47), ('義', 6626), ('섣', 178), ('믐', 158), ('端', 591), ('西', 5379), ('豊', 1324), ('芸', 135), ('な', 1122), ('、', 2352), ('余', 191), ('に', 813), ('平', 7751), ('麻', 740), ('續', 544), ('続', 58), ('ぼ', 84), ('や', 331), ('し', 1194), ('た', 1026), ('不', 3240), ('安', 8861), ('戒', 684), ('懿', 569), ('院', 6184), ('崇', 1108), ('居', 1171), ('区', 476), ('巣', 15), ('鴨', 110), ('慈', 762), ('眼', 635), ('寺', 7607), ('邪', 560), ('宗', 7156), ('뚱', 1263), ('붉', 6944), ('与', 98), ('햣', 15), ('内', 704), ('百', 1331), ('杖', 191), ('孁', 3), ('貴', 869), ('몹', 959), ('現', 1300), ('亞', 693), ('電', 956), ('視', 357), ('鰐', 11), ('魚', 1033), ('淚', 51), ('浣', 54), ('洗', 176), ('劍', 337), ('錄', 1702), ('情', 990), ('箭', 146), ('寵', 119), ('倪', 29), ('蓓', 1), ('팬', 15029), ('딱', 3570), ('統', 1401), ('計', 660), ('調', 1183), ('査', 327), ('標', 370), ('q', 8575), ('述', 405), ('`', 1820), ('\\u200e', 409), ('뉠', 205), ('펀', 3612), ('컫', 3628), ('꼈', 1445), ('탠', 4270), ('픈', 7365), ('ñ', 426), ('팰', 1203), ('랙', 16085), ('뀜', 169), ('잭', 6869), ('탭', 995), ('횟', 1747), ('젯', 788), ('펄', 3934), ('눅', 2706), ('렌', 33008), ('땄', 1644), ('前', 3620), ('者', 2155), ('쿼', 4566), ('갬', 223), ('죈', 38), ('ε', 1039), ('同', 3197), ('値', 133), ('關', 1314), ('係', 217), ('集', 2384), ('合', 2461), ('自', 2489), ('然', 663), ('哲', 917), ('핼', 862), ('켓', 14255), ('옙', 426), ('ν', 1346), ('λ', 1059), ('깁', 921), ('콥', 3038), ('뺀', 482), ('윳', 368), ('φ', 333), ('積', 505), ('測', 220), ('弦', 59), ('餘', 663), ('切', 458), ('닮', 2793), ('렐', 5388), ('Č', 95), ('킴', 4106), ('行', 4991), ('챔', 14598), ('딥', 885), ('模', 364), ('型', 626), ('렙', 1047), ('톤', 19768), ('둠', 2094), ('힉', 498), ('½', 235), ('겁', 3305), ('⅓', 105), ('⅔', 89), ('×', 4230), ('뀔', 441), ('→', 3498), ('깬', 401), ('깰', 99), ('뱅', 6881), ('왼', 8199), ('婦', 291), ('船', 874), ('色', 1716), ('荷', 213), ('홑', 368), ('갱', 3473), ('形', 1698), ('應', 1862), ('탱', 5755), ('콰', 3417), ('흩', 2130), ('群', 1013), ('結', 982), ('波', 1000), ('速', 456), ('펠', 11484), ('긁', 382), ('왓', 1977), ('웻', 83), ('앱', 1907), ('얹', 1612), ('툴', 3568), ('킷', 3288), ('줌', 1675), ('컷', 7996), ('쉰', 658), ('잊', 2244), ('밌', 246), ('뭔', 599), ('Ω', 116), ('쐐', 609), ('∈', 87), ('∇', 6), ('К', 411), ('И', 241), ('Н', 226), ('О', 162), ('팝', 5273), ('쉐', 2239), ('짙', 2054), ('쿰', 904), ('콤', 8640), ('엑', 7457), ('微', 319), ('細', 583), ('構', 434), ('造', 1951), ('公', 7938), ('列', 715), ('↵', 11), ('座', 790), ('系', 1084), ('四', 3053), ('邊', 891), ('量', 696), ('퀀', 613), ('換', 269), ('在', 1742), ('像', 2834), ('앎', 226), ('훔', 1931), ('確', 114), ('냉', 7814), ('뻔', 1294), ('伏', 335), ('羲', 157), ('神', 4815), ('農', 997), ('女', 2710), ('媧', 7), ('軒', 530), ('轅', 29), ('顓', 12), ('頊', 32), ('高', 8635), ('陽', 5680), ('嚳', 5), ('辛', 654), ('堯', 187), ('放', 726), ('陶', 455), ('唐', 1749), ('舜', 368), ('華', 2782), ('有', 3401), ('虞', 226), ('秦', 1201), ('夏', 1278), ('商', 1282), ('殷', 527), ('周', 2245), ('紂', 55), ('王', 11762), ('秋', 1151), ('戰', 1813), ('齊', 1031), ('桓', 558), ('晉', 1255), ('楚', 420), ('莊', 834), ('吳', 1887), ('闔', 13), ('閭', 252), ('勾', 36), ('踐', 67), ('韓', 4891), ('魏', 1239), ('趙', 3389), ('燕', 899), ('漢', 4017), ('後', 2830), ('北', 5047), ('蜀', 309), ('흉', 5155), ('뤘', 1759), ('十', 3261), ('六', 2310), ('中', 12268), ('套', 13), ('成', 5940), ('涼', 118), ('隋', 207), ('梁', 1711), ('陳', 1532), ('遼', 502), ('淸', 3215), ('民', 3880), ('쑨', 785), ('돤', 167), ('펑', 3755), ('궈', 1204), ('쭤', 327), ('옌', 4327), ('獨', 712), ('秀', 1623), ('쩌', 1994), ('毛', 799), ('澤', 799), ('共', 1104), ('劃', 133), ('育', 1087), ('是', 315), ('口', 1495), ('史', 3710), ('発', 78), ('展', 276), ('必', 277), ('⟨', 30), ('⟩', 30), ('|', 9954), ('ψ', 122), ('—', 850), ('꺽', 355), ('–', 5939), ('듦', 232), ('닿', 2506), ('汗', 212), ('꽤', 1692), ('춥', 316), ('℃', 3448), ('곰', 3526), ('멧', 1527), ('꿩', 296), ('텃', 320), ('石', 5962), ('灰', 109), ('工', 1646), ('業', 2582), ('캤', 12), ('텅', 745), ('걷', 2438), ('뼈', 5297), ('얄', 2188), ('촨', 1802), ('땃', 1589), ('떼', 2869), ('깡', 552), ('팎', 703), ('괌', 940), ('탔', 837), ('옴', 2171), ('럴', 9020), ('・', 5403), ('軍', 7130), ('릎', 2633), ('옵', 3134), ('빵', 3825), ('캄', 6560), ('얀', 7901), ('릅', 925), ('諺', 148), ('廳', 1152), ('ㅡ', 386), ('ㅣ', 290), ('&', 11631), ('技', 583), ('流', 1566), ('랭', 12220), ('尹', 3444), ('致', 1028), ('瑛', 96), ('닳', 196), ('맘', 1712), ('´', 110), ('朴', 4343), ('圭', 673), ('丑', 220), ('拜', 222), ('쉴', 1142), ('賞', 358), ('뢴', 331), ('톡', 3290), ('륀', 338), ('益', 1246), ('號', 2114), ('李', 16377), ('京', 3244), ('粉', 204), ('別', 1924), ('首', 999), ('都', 4835), ('城', 9492), ('府', 6148), ('師', 3046), ('兆', 178), ('善', 3623), ('徐', 1695), ('蔚', 365), ('け', 401), ('い', 1881), ('じ', 359), ('ょ', 248), ('う', 1102), ('쎄', 333), ('°', 4149), ('′', 431), ('룡', 14360), ('뻗', 3059), ('鞍', 98), ('곽', 8847), ('돗', 1099), ('뚝', 1937), ('節', 2049), ('슭', 1774), ('峴', 520), ('治', 2024), ('泥', 243), ('桂', 702), ('洞', 4116), ('觀', 2091), ('象', 1001), ('監', 2290), ('孟', 642), ('紅', 555), ('梨', 280), ('쾨', 1001), ('뿜', 922), ('맑', 1519), ('쬐', 154), ('덮', 6477), ('㎍', 45), ('藏', 1517), ('뚫', 2555), ('Ü', 106), ('랏', 1165), ('뿔', 3748), ('Á', 195), ('κ', 843), ('υ', 492), ('ρ', 1203), ('닻', 149), ('폼', 9166), ('싹', 1106), ('ı', 373), ('띈', 632), ('Ç', 54), ('ç', 592), ('ş', 211), ('펫', 1653), ('벅', 1630), ('Ş', 50), ('İ', 75), ('밋', 1597), ('괵', 152), ('첵', 208), ('쉔', 95), ('ü', 1828), ('츨', 708), ('ğ', 128), ('度', 2213), ('運', 1523), ('볍', 1216), ('윙', 4339), ('깐', 1362), ('짱', 1723), ('뭘', 158), ('벵', 1475), ('읊', 506), ('ぎ', 111), ('く', 675), ('휠', 1863), ('夢', 640), ('濊', 68), ('貊', 48), ('扶', 568), ('古', 3171), ('儉', 203), ('刀', 373), ('錢', 354), ('壤', 429), ('慶', 3798), ('弁', 121), ('룽', 3205), ('失', 406), ('쏠', 649), ('冠', 682), ('帽', 153), ('峰', 959), ('故', 909), ('夫', 3895), ('ㄱ', 514), ('ㅋ', 177), ('ㄲ', 69), ('ㅏ', 142), ('ㅑ', 55), ('ㅐ', 73), ('ㅒ', 34), ('訓', 787), ('字', 2575), ('兩', 640), ('班', 303), ('異', 1208), ('意', 1282), ('語', 1829), ('略', 545), ('ㅿ', 45), ('ㆆ', 33), ('읗', 22), ('ㆁ', 40), ('―', 1185), ('圓', 1046), ('率', 398), ('ι', 1321), ('η', 610), ('ή', 245), ('ς', 1311), ('ί', 510), ('μ', 1162), ('τ', 1131), ('ο', 1660), ('샹', 2673), ('逸', 486), ('∝', 4), ('밟', 1952), ('ア', 641), ('イ', 950), ('ウ', 322), ('片', 249), ('カ', 464), ('タ', 561), ('ナ', 343), ('ヴ', 86), ('ァ', 144), ('ィ', 269), ('ェ', 163), ('ォ', 69), ('헵', 283), ('点', 88), ('ヲ', 36), ('コ', 375), ('ト', 749), ('맣', 149), ('컸', 1854), ('宇', 1079), ('津', 1654), ('譲', 17), ('伴', 195), ('堤', 338), ('納', 458), ('言', 1570), ('虫', 29), ('め', 262), ('づ', 63), ('る', 916), ('姫', 191), ('君', 5484), ('英', 2128), ('햅', 142), ('樣', 190), ('體', 2293), ('局', 1079), ('所', 3935), ('峨', 89), ('흙', 3559), ('껏', 1027), ('낄', 1087), ('턱', 3053), ('흰', 7221), ('胎', 262), ('兒', 693), ('嬰', 73), ('幼', 184), ('身', 2128), ('長', 6158), ('헐', 2426), ('탤', 2046), ('캔', 5451), ('使', 5340), ('許', 1481), ('可', 906), ('팜', 2061), ('듈', 2472), ('펩', 721), ('臭', 13), ('味', 292), ('띰', 3), ('듐', 944), ('ω', 485), ('³', 250), ('샘', 5434), ('갇', 1576), ('뱉', 366), ('꿀', 2830), ('씻', 866), ('界', 1698), ('갸', 646), ('ㅗ', 130), ('ㅛ', 40), ('ㅓ', 84), ('ㅕ', 55), ('ㅇ', 468), ('揭', 25), ('示', 288), ('板', 897), ('뎀', 679), ('報', 1201), ('息', 183), ('밸', 3023), ('從', 1281), ('瓣', 57), ('倍', 177), ('裝', 348), ('置', 421), ('似', 144), ('〔', 267), ('〕', 274), ('－', 994), ('렘', 4875), ('葉', 717), ('軸', 186), ('搖', 25), ('뮬', 3159), ('엠', 5537), ('캣', 1103), ('샵', 986), ('퍠', 2), ('#', 1885), ('\\u3000', 1269), ('«', 909), ('»', 922), ('通', 3075), ('솨', 22), ('츄', 1344), ('햏', 34), ('뷁', 4), ('網', 190), ('햄', 4671), ('랗', 349), ('쭉', 1295), ('뭉', 1951), ('밥', 5355), ('戱', 353), ('剩', 36), ('精', 787), ('說', 1780), ('乳', 232), ('玩', 61), ('具', 815), ('잣', 799), ('郞', 2136), ('①', 804), ('②', 784), ('想', 1233), ('③', 543), ('描', 88), ('畵', 1176), ('④', 314), ('受', 1158), ('⑤', 181), ('⑥', 107), ('經', 4429), ('過', 465), ('댄', 6212), ('밈', 636), ('헉', 186), ('탬', 1134), ('랠', 647), ('팸', 407), ('쉘', 471), ('뤽', 283), ('눗', 378), ('뺄', 196), ('房', 966), ('쥬', 2134), ('낵', 264), ('勞', 517), ('組', 487), ('숍', 907), ('딜', 4267), ('헷', 252), ('榮', 1301), ('愚', 348), ('礎', 89), ('溫', 911), ('議', 2257), ('博', 954), ('郡', 5154), ('嘉', 1268), ('뺨', 486), ('뇨', 2974), ('私', 767), ('財', 584), ('툼', 2566), ('썬', 1604), ('칩', 2610), ('홉', 2695), ('）', 1284), ('＋', 130), ('（', 1186), ('홋', 4735), ('낌', 3746), ('す', 485), ('み', 543), ('ず', 179), ('き', 767), ('ね', 152), ('虛', 419), ('核', 201), ('心', 3531), ('껐', 51), ('켬', 5), ('넨', 3591), ('숏', 258), ('닦', 1432), ('맷', 3331), ('셸', 3355), ('샷', 869), ('핟', 4), ('왑', 151), ('킥', 3480), ('깃', 4731), ('≥', 77), ('σ', 962), ('際', 500), ('務', 1363), ('器', 1297), ('社', 3070), ('勢', 482), ('뭇', 1417), ('낯', 697), ('쥘', 741), ('맴', 804), ('⑦', 75), ('⑧', 53), ('멜', 11381), ('렝', 1128), ('÷', 50), ('總', 1010), ('聯', 719), ('利', 1856), ('敵', 300), ('뮨', 39), ('텼', 152), ('△', 960), ('奇', 813), ('怪', 123), ('竟', 88), ('췌', 902), ('댐', 2558), ('삐', 1076), ('旻', 91), ('낚', 1220), ('듀', 12421), ('整', 241), ('陰', 952), ('汎', 79), ('ℕ', 8), ('뛴', 542), ('닛', 7906), ('뱃', 1236), ('벙', 816), ('캡', 2600), ('쒸', 7), ('솝', 339), ('갯', 935), ('區', 950), ('開', 1946), ('閉', 118), ('限', 348), ('≤', 142), ('겉', 3114), ('絶', 279), ('條', 770), ('퓰', 743), ('쫓', 5414), ('世', 5033), ('誦', 86), ('優', 309), ('趣', 133), ('假', 572), ('戈', 49), ('至', 691), ('距', 80), ('離', 659), ('位', 1666), ('纖', 56), ('層', 815), ('냅', 976), ('@', 858), ('選', 599), ('擇', 192), ('依', 524), ('存', 427), ('域', 934), ('佛', 3154), ('싯', 1617), ('祖', 2758), ('ā', 1569), ('迦', 402), ('修', 1793), ('覺', 984), ('갠', 402), ('ī', 625), ('康', 2007), ('낫', 1383), ('釋', 658), ('랴', 3542), ('륵', 2070), ('備', 754), ('疲', 14), ('짊', 231), ('뜬', 1248), ('찢', 941), ('핍', 1727), ('父', 864), ('뒀', 1690), ('눴', 198), ('췄', 952), ('팟', 1469), ('셱', 32), ('헛', 1046), ('짚', 948), ('典', 1948), ('æ', 353), ('ἐ', 62), ('ύ', 228), ('δ', 639), ('講', 584), ('談', 299), ('習', 430), ('硏', 544), ('究', 603), ('凡', 221), ('館', 2089), ('園', 1290), ('極', 1006), ('出', 1366), ('版', 506), ('←', 468), ('솜', 2117), ('겟', 930), ('早', 229), ('マ', 460), ('ジ', 444), ('ン', 1765), ('副', 1967), ('題', 549), ('譯', 452), ('蔑', 16), ('稱', 294), ('섀', 1104), ('먀', 586), ('멋', 2058), ('팻', 702), ('숀', 1001), ('딧', 944), ('뷸', 258), ('엣', 2392), ('튕', 283), ('잰', 276), ('콕', 3073), ('θ', 514), ('赤', 831), ('征', 513), ('늙', 1080), ('쯔', 1956), ('쑹', 610), ('셴', 1023), ('녠', 80), ('톈', 2128), ('連', 894), ('켐', 704), ('▽', 14), ('七', 1590), ('퀸', 3932), ('活', 399), ('氣', 1272), ('稀', 36), ('單', 654), ('쥔', 676), ('쩐', 730), ('쑥', 477), ('넞', 2), ('م', 570), ('ح', 218), ('د', 435), ('ي', 656), ('ا', 1636), ('س', 298), ('ر', 575), ('ع', 277), ('ب', 397), ('ل', 1059), ('ن', 678), ('ؤ', 7), ('و', 593), ('ف', 184), ('ت', 280), ('ق', 181), ('ة', 158), ('千', 1231), ('円', 124), ('庚', 353), ('申', 1768), ('漱', 30), ('枕', 76), ('徊', 4), ('앓', 1621), ('宣', 2104), ('建', 2228), ('委', 641), ('員', 1322), ('㎞', 201), ('黨', 1173), ('領', 1222), ('導', 383), ('疎', 54), ('遠', 1255), ('롄', 830), ('빩', 2), ('곶', 1438), ('웜', 648), ('˚', 308), ('˝', 16), ('狼', 96), ('脈', 313), ('狄', 134), ('踰', 52), ('嶺', 684), ('妙', 540), ('香', 1027), ('彦', 1033), ('眞', 2098), ('滅', 570), ('惡', 804), ('鏡', 646), ('赴', 62), ('툰', 3629), ('굶', 921), ('엌', 606), ('굉', 2663), ('퉁', 2803), ('냇', 397), ('伊', 1218), ('桑', 145), ('죤', 100), ('슴', 6596), ('冷', 172), ('麵', 58), ('參', 1593), ('緯', 168), ('塘', 202), ('浦', 1751), ('ϕ', 7), ('녜', 938), ('潽', 25), ('敬', 1714), ('葦', 36), ('昭', 1124), ('載', 818), ('鳳', 1449), ('範', 936), ('淑', 944), ('埰', 29), ('謙', 698), ('녕', 6307), ('潑', 36), ('得', 1103), ('엿', 1624), ('塾', 174), ('댔', 266), ('承', 2309), ('晩', 467), ('쏙', 147), ('싣', 1071), ('졔', 30), ('챈', 1041), ('旺', 125), ('댁', 547), ('求', 613), ('姬', 509), ('肺', 47), ('炎', 234), ('協', 938), ('暎', 92), ('퍽', 598), ('孔', 648), ('崔', 3290), ('巨', 531), ('昌', 3581), ('根', 2000), ('뻐', 1230), ('丁', 1125), ('쑤', 2655), ('셨', 2568), ('閔', 771), ('寬', 514), ('植', 1286), ('任', 1477), ('興', 4206), ('淳', 850), ('炳', 545), ('玉', 1887), ('鶴', 903), ('뭐', 832), ('햐', 278), ('熙', 1339), ('洪', 2597), ('팍', 1366), ('칵', 510), ('萬', 2066), ('랬', 1058), ('死', 885), ('衆', 860), ('놨', 304), ('ᆞ', 177), ('꿎', 24), ('訪', 217), ('註', 230), ('兵', 2383), ('벚', 804), ('깍', 364), ('˙', 17), ('꼼', 748), ('뜩', 304), ('돋', 2194), ('팥', 594), ('稻', 75), ('孫', 2597), ('彬', 167), ('뽕', 424), ('火', 1161), ('星', 2120), ('熒', 9), ('惑', 325), ('멍', 4695), ('옅', 472), ('껑', 793), ('※', 2156), ('푹', 876), ('쿽', 8), ('윔', 620), ('탯', 236), ('$', 1588), ('캇', 709), ('텟', 370), ('磁', 433), ('誘', 122), ('퀄', 871), ('Φ', 161), ('å', 200), ('。', 1273), ('옐', 1802), ('†', 179), ('歷', 433), ('ἱ', 5), ('Π', 211), ('Τ', 84), ('ά', 488), ('Ζ', 35), ('Ι', 79), ('ó', 1504), ('賢', 1759), ('ἵ', 3), ('í', 1425), ('ō', 266), ('î', 150), ('뭄', 1088), ('헥', 1437), ('웸', 434), ('랩', 4678), ('漫', 125), ('땡', 382), ('딛', 537), ('튤', 183), ('땀', 723), ('露', 422), ('洋', 771), ('質', 688), ('웁', 470), ('찔', 1450), ('놉', 501), ('둡', 786), ('팁', 413), ('귤', 1215), ('ἄ', 27), ('ό', 476), ('잴', 96), ('Λ', 116), ('짢', 42), ('빴', 300), ('웬', 2229), ('授', 315), ('寫', 498), ('收', 297), ('斂', 41), ('偏', 161), ('郵', 306), ('母', 1006), ('料', 438), ('젓', 719), ('숟', 158), ('浙', 143), ('菜', 234), ('淡', 225), ('杯', 74), ('볶', 848), ('热', 4), ('炒', 13), ('샥', 166), ('짠', 621), ('\\u200b', 2138), ('쟝', 161), ('몐', 153), ('老', 1684), ('炸', 11), ('醬', 68), ('苦', 683), ('둣', 69), ('짬', 160), ('훑', 88), ('礪', 123), ('熱', 387), ('帶', 648), ('壓', 171), ('壁', 396), ('雲', 2524), ('寒', 299), ('潛', 158), ('찹', 312), ('盛', 727), ('阪', 162), ('医', 47), ('専', 70), ('チ', 287), ('ャ', 293), ('帳', 111), ('少', 991), ('聞', 635), ('酒', 589), ('馬', 3782), ('寶', 1876), ('鉄', 147), ('腕', 34), ('ム', 243), ('グ', 256), ('ル', 930), ('リ', 776), ('ボ', 138), ('騎', 565), ('ブ', 230), ('ラ', 840), ('ッ', 679), ('目', 1094), ('が', 502), ('お', 668), ('ダ', 192), ('だ', 567), ('ま', 821), ('樹', 624), ('ド', 507), ('告', 375), ('ぐ', 96), ('様', 78), ('ノ', 299), ('森', 302), ('輝', 387), ('矢', 182), ('萩', 32), ('尾', 615), ('望', 657), ('能', 1035), ('粲', 54), ('県', 444), ('辺', 93), ('宝', 282), ('箕', 308), ('気', 95), ('軌', 250), ('団', 91), ('ミ', 306), ('ー', 2281), ('温', 65), ('パ', 187), ('ホ', 89), ('テ', 304), ('倶', 28), ('楽', 231), ('鳥', 616), ('よ', 444), ('池', 1103), ('丘', 743), ('景', 2190), ('雪', 517), ('附', 335), ('属', 27), ('教', 316), ('잽', 121), ('ヂ', 11), ('쨩', 232), ('ピ', 118), ('那', 722), ('夜', 484), ('寿', 109), ('찜', 278), ('実', 288), ('淀', 46), ('橋', 1287), ('店', 229), ('種', 834), ('昆', 180), ('蟲', 246), ('図', 88), ('譜', 675), ('オ', 363), ('サ', 284), ('シ', 529), ('立', 2525), ('会', 613), ('誌', 592), ('甲', 1463), ('圖', 2686), ('紙', 461), ('砦', 68), ('ど', 177), ('れ', 462), ('舊', 824), ('制', 2194), ('浪', 348), ('숴', 187), ('消', 491), ('去', 290), ('旣', 89), ('約', 652), ('燁', 131), ('뛸', 489), ('뽐', 295), ('헹', 275), ('靜', 686), ('歳', 35), ('勝', 1300), ('戦', 673), ('陣', 288), ('彌', 869), ('咤', 5), ('亜', 41), ('観', 140), ('ヶ', 143), ('祭', 1242), ('票', 123), ('靖', 909), ('総', 166), ('鐵', 1280), ('驛', 2450), ('쿳', 68), ('圈', 169), ('짖', 998), ('陀', 791), ('畿', 405), ('輿', 262), ('補', 639), ('此', 151), ('感', 491), ('ゲ', 61), ('芳', 423), ('里', 4215), ('ネ', 133), ('茨', 28), ('尋', 229), ('笹', 15), ('良', 1789), ('黒', 170), ('宅', 602), ('壮', 9), ('谷', 2269), ('蔵', 280), ('豆', 343), ('顕', 102), ('彰', 232), ('今', 726), ('슌', 909), ('説', 110), ('岡', 691), ('佐', 1380), ('索', 161), ('鹿', 396), ('紋', 372), ('付', 149), ('羽', 680), ('織', 422), ('袴', 19), ('孤', 275), ('饒', 48), ('舌', 314), ('ã', 274), ('빔', 1654), ('ê', 408), ('ô', 337), ('ㅍ', 110), ('밧', 662), ('睡', 123), ('眠', 373), ('逆', 286), ('藥', 641), ('솥', 603), ('씹', 409), ('發', 1026), ('達', 1493), ('認', 197), ('知', 3438), ('엷', 462), ('態', 196), ('遺', 1205), ('돔', 3902), ('얗', 267), ('텀', 1809), ('Å', 138), ('洙', 771), ('麟', 609), ('厚', 578), ('判', 2396), ('莢', 10), ('暻', 22), ('祺', 61), ('뼘', 21), ('莘', 76), ('坪', 371), ('繼', 497), ('翼', 899), ('瑞', 1015), ('儀', 1308), ('落', 438), ('膽', 36), ('命', 1808), ('煥', 792), ('延', 1602), ('季', 526), ('蒙', 469), ('崗', 107), ('鼎', 457), ('柱', 1168), ('湖', 1278), ('駿', 229), ('엎', 880), ('來', 1696), ('蘇', 1000), ('蓮', 939), ('庵', 951), ('텁', 303), ('識', 1373), ('鎭', 2435), ('禹', 833), ('錦', 651), ('豫', 338), ('材', 325), ('培', 267), ('養', 755), ('濟', 2034), ('暢', 39), ('鴻', 342), ('靈', 1420), ('갉', 121), ('福', 2042), ('團', 1347), ('娥', 68), ('珠', 656), ('涉', 160), ('泳', 415), ('孝', 2744), ('삯', 77), ('넸', 128), ('喆', 321), ('鎬', 532), ('幹', 289), ('臨', 810), ('뵙', 100), ('ŏ', 8), ('麗', 1340), ('張', 3728), ('軾', 103), ('琪', 72), ('創', 317), ('改', 684), ('警', 764), ('察', 1320), ('迫', 71), ('害', 358), ('維', 416), ('持', 690), ('曺', 592), ('珪', 202), ('閏', 62), ('筋', 99), ('紀', 1123), ('念', 734), ('떳', 158), ('칫', 635), ('씀', 1854), ('貫', 350), ('他', 263), ('밭', 3995), ('뚤', 179), ('샐', 1152), ('눕', 521), ('梗', 18), ('塞', 123), ('臟', 74), ('痲', 26), ('痺', 13), ('邱', 547), ('廣', 2392), ('․', 1977), ('右', 1587), ('左', 2010), ('号', 314), ('偉', 149), ('崑', 76), ('崐', 4), ('謨', 175), ('將', 3504), ('剛', 630), ('콴', 547), ('쟈', 1392), ('砲', 248), ('忠', 4046), ('旗', 516), ('괘', 1741), ('御', 1746), ('靑', 2322), ('繫', 149), ('辭', 351), ('卦', 117), ('爲', 810), ('下', 3109), ('爻', 42), ('ӕ', 4), ('ə', 310), ('ɪ', 94), ('ð', 163), ('깅', 671), ('牛', 753), ('若', 681), ('朔', 260), ('練', 152), ('留', 631), ('守', 2803), ('㏊', 79), ('倉', 913), ('넋', 283), ('冊', 289), ('勃', 115), ('퀵', 433), ('웍', 1122), ('펭', 897), ('뮐', 862), ('堅', 375), ('뎠', 169), ('맬', 890), ('샨', 1509), ('댈', 989), ('入', 950), ('떴', 280), ('難', 528), ('짤', 378), ('杏', 130), ('헿', 4), ('핳', 2), ('흫', 2), ('ㅎ', 177), ('땐', 484), ('資', 1074), ('營', 1079), ('↔', 164), ('쿡', 1048), ('俊', 1131), ('腦', 106), ('뎃', 332), ('⋅', 141), ('琥', 23), ('珀', 11), ('束', 172), ('密', 1457), ('透', 70), ('쬔', 10), ('꽉', 370), ('接', 314), ('抵', 67), ('抗', 217), ('戸', 385), ('紫', 466), ('レ', 412), ('港', 847), ('飛', 661), ('丈', 255), ('普', 915), ('專', 398), ('沙', 1200), ('鉢', 204), ('覽', 245), ('塔', 1713), ('喊', 9), ('聲', 731), ('默', 270), ('順', 2334), ('彩', 314), ('億', 188), ('乏', 27), ('廬', 118), ('起', 1232), ('進', 1709), ('后', 1858), ('最', 495), ('毅', 428), ('權', 2717), ('弼', 718), ('健', 506), ('卯', 292), ('增', 568), ('試', 1052), ('뮈', 1085), ('契', 501), ('：', 1412), ('舒', 183), ('勛', 42), ('찼', 379), ('敦', 559), ('啓', 588), ('沿', 161), ('謀', 192), ('俄', 29), ('嚴', 1107), ('燮', 484), ('斷', 576), ('指', 582), ('印', 1383), ('哈', 195), ('尔', 54), ('滨', 23), ('爾', 496), ('濱', 117), ('蔡', 961), ('溝', 223), ('秉', 490), ('瓚', 100), ('鎌', 215), ('旅', 491), ('逼', 19), ('甚', 62), ('已', 139), ('寧', 2486), ('亡', 193), ('於', 412), ('忍', 336), ('辱', 43), ('湧', 35), ('腑', 19), ('驅', 97), ('矣', 88), ('漸', 111), ('꿰', 821), ('擧', 542), ('墨', 386), ('讀', 338), ('荊', 218), ('棘', 50), ('慧', 1050), ('果', 1121), ('仔', 83), ('哥', 90), ('飼', 23), ('芽', 73), ('む', 142), ('撃', 42), ('奢', 42), ('わ', 329), ('セ', 157), ('個', 113), ('験', 31), ('풋', 3285), ('뷜', 185), ('쨋', 32), ('뺐', 98), ('쁠', 167), ('幻', 127), ('影', 606), ('잿', 281), ('괼', 38), ('욀', 82), ('쎈', 71), ('俗', 504), ('病', 496), ('偶', 93), ('耗', 21), ('好', 603), ('産', 1015), ('믈', 1008), ('푀', 255), ('뱀', 5857), ('鱗', 101), ('爬', 10), ('羊', 287), ('膜', 132), ('胚', 39), ('뇽', 920), ('両', 38), ('棲', 93), ('얜', 17), ('糖', 137), ('왁', 623), ('β', 1044), ('蛋', 44), ('₂', 71), ('屬', 900), ('鋼', 99), ('妃', 1041), ('즙', 970), ('뺏', 583), ('훤', 1014), ('펨', 323), ('ú', 532), ('뭍', 134), ('퀜', 84), ('뻑', 111), ('늪', 941), ('묽', 119), ('큘', 983), ('硬', 103), ('骨', 563), ('鰭', 20), ('吻', 15), ('軟', 86), ('뾰', 1163), ('耕', 201), ('銀', 901), ('핥', 258), ('넴', 583), ('牧', 981), ('皮', 491), ('肉', 318), ('境', 845), ('銑', 44), ('鄕', 1317), ('愁', 57), ('競', 197), ('뜀', 101), ('꽂', 1067), ('徒', 435), ('操', 344), ('蹴', 59), ('躑', 5), ('踢', 1), ('─', 293), ('슛', 1508), ('늠', 548), ('希', 697), ('臘', 77), ('얕', 1089), ('浸', 42), ('潤', 475), ('Ε', 148), ('Ο', 102), ('Σ', 206), ('đ', 78), ('χ', 251), ('Κ', 176), ('Α', 238), ('ώ', 93), ('á', 2090), ('ý', 155), ('濠', 43), ('斯', 438), ('剌', 75), ('刑', 737), ('邦', 482), ('訴', 225), ('撓', 13), ('壘', 62), ('央', 551), ('渗', 4), ('被', 217), ('賦', 270), ('楯', 31), ('臺', 1892), ('캥', 682), ('疏', 422), ('固', 511), ('因', 997), ('回', 564), ('廊', 134), ('綿', 142), ('油', 295), ('駐', 266), ('歲', 333), ('鏞', 188), ('ć', 322), ('ṓ', 4), ('ē', 256), ('歐', 128), ('巴', 280), ('됭', 345), ('솅', 357), ('宀', 6), ('壇', 873), ('攵', 4), ('仰', 210), ('禮', 2779), ('畏', 101), ('怖', 62), ('巫', 275), ('覡', 15), ('憑', 39), ('淨', 725), ('供', 195), ('犧', 25), ('呪', 173), ('寓', 68), ('話', 556), ('辨', 223), ('悲', 216), ('作', 1735), ('轉', 769), ('移', 379), ('瞥', 2), ('智', 1788), ('唯', 285), ('秘', 354), ('沒', 144), ('婆', 272), ('救', 294), ('解', 1280), ('脫', 303), ('昧', 220), ('幕', 347), ('笑', 153), ('縮', 87), ('笏', 78), ('멓', 18), ('촐', 729), ('螺', 98), ('峯', 395), ('ệ', 153), ('찐', 1271), ('ấ', 27), ('ạ', 88), ('ì', 115), ('讖', 82), ('ộ', 49), ('â', 508), ('潘', 288), ('佩', 51), ('꿘', 11), ('툭', 492), ('쯩', 63), ('à', 589), ('Đ', 215), ('똔', 35), ('省', 1653), ('껀', 123), ('눙', 202), ('綴', 56), ('쭈', 390), ('쩨', 103), ('뗏', 154), ('훙', 1084), ('넵', 359), ('令', 1932), ('숱', 299), ('室', 1101), ('꿇', 422), ('퀼', 879), ('擬', 126), ('官', 4465), ('衒', 4), ('航', 254), ('눔', 983), ('請', 302), ('託', 114), ('ä', 1263), ('À', 27), ('엥', 1125), ('핌', 506), ('É', 524), ('퓔', 72), ('읜', 88), ('뵈', 792), ('è', 904), ('奏', 395), ('走', 191), ('句', 567), ('쳄', 115), ('短', 240), ('遮', 144), ('初', 1985), ('末', 649), ('슝', 829), ('格', 598), ('箴', 45), ('댑', 362), ('願', 506), ('案', 345), ('純', 834), ('粹', 131), ('魂', 201), ('繪', 66), ('遲', 103), ('墳', 393), ('墓', 1254), ('棺', 108), ('肖', 247), ('復', 851), ('歸', 526), ('醇', 45), ('嗜', 15), ('濃', 203), ('暗', 187), ('什', 105), ('塗', 73), ('償', 99), ('各', 209), ('向', 616), ('岩', 1149), ('窟', 178), ('奔', 35), ('障', 324), ('價', 272), ('쭐', 105), ('諦', 486), ('底', 248), ('製', 680), ('橫', 287), ('錯', 75), ('縱', 119), ('찻', 498), ('再', 465), ('始', 1132), ('誇', 12), ('直', 2183), ('截', 24), ('稚', 78), ('拙', 53), ('止', 440), ('苑', 202), ('卽', 188), ('頂', 330), ('配', 393), ('飾', 114), ('櫛', 26), ('抽', 56), ('于', 665), ('男', 1022), ('괭', 212), ('繁', 110), ('殖', 77), ('艦', 215), ('Æ', 38), ('‑', 12), ('ǣ', 1), ('塊', 82), ('炭', 214), ('氷', 211), ('蝕', 69), ('沖', 197), ('灣', 407), ('뚠', 26), ('貨', 266), ('穫', 11), ('械', 88), ('輸', 356), ('ἀ', 76), ('躍', 43), ('革', 539), ('鋒', 77), ('鄧', 183), ('諸', 1300), ('曉', 230), ('댜', 299), ('볜', 274), ('벋', 28), ('援', 376), ('淮', 287), ('麥', 86), ('茶', 560), ('陜', 195), ('徽', 374), ('包', 305), ('頭', 1394), ('瀋', 86), ('賓', 386), ('蘭', 741), ('楡', 65), ('洛', 677), ('廈', 35), ('좡', 731), ('邯', 79), ('鄲', 30), ('烏', 612), ('魯', 772), ('拉', 156), ('蚌', 4), ('埠', 17), ('交', 1094), ('贫', 4), ('战', 31), ('争', 56), ('賣', 207), ('协', 18), ('兰', 21), ('爱', 33), ('务', 21), ('员', 15), ('团', 42), ('督', 850), ('运', 31), ('动', 40), ('護', 1499), ('₄', 19), ('₃', 30), ('Р', 273), ('샾', 22), ('♯', 54), ('Õ', 7), ('킵', 697), ('ㅅ', 240), ('ㅈ', 183), ('⟪', 273), ('⟫', 281), ('凋', 8), ('冶', 103), ('狹', 65), ('녘', 250), ('篇', 319), ('廷', 579), ('좇', 272), ('臆', 7), ('侍', 1933), ('醫', 733), ('꿉', 301), ('證', 575), ('遍', 218), ('饗', 11), ('宴', 201), ('攝', 307), ('燃', 91), ('拂', 45), ('拭', 15), ('惟', 451), ('滑', 85), ('否', 108), ('庸', 233), ('詭', 16), ('辯', 119), ('宜', 556), ('曆', 497), ('ㄏ', 4), ('ㄢ', 3), ('ˋ', 16), ('ㄩ', 6), ('ˇ', 12), ('閩', 81), ('粵', 28), ('了', 259), ('뮴', 489), ('쫑', 74), ('樵', 38), ('翠', 114), ('眉', 180), ('烈', 1340), ('均', 787), ('討', 231), ('伐', 308), ('韶', 92), ('钊', 1), ('陸', 977), ('帥', 381), ('滿', 621), ('除', 231), ('撻', 5), ('虜', 90), ('恢', 37), ('狗', 102), ('干', 381), ('蕩', 71), ('茅', 70), ('盾', 45), ('雁', 76), ('沈', 1429), ('損', 162), ('玄', 1502), ('璧', 89), ('甫', 641), ('防', 998), ('쿵', 604), ('沚', 4), ('矛', 46), ('됩', 614), ('틔', 76), ('祈', 120), ('禱', 47), ('詞', 488), ('頌', 198), ('祝', 231), ('樂', 2823), ('駕', 171), ('갰', 33), ('튐', 9), ('썹', 452), ('핏', 1156), ('郭', 823), ('勉', 122), ('～', 882), ('％', 190), ('翰', 588), ('壽', 1909), ('需', 105), ('髙', 34), ('춧', 411), ('츼', 3), ('챗', 215), ('힙', 3617), ('캉', 1939), ('얌', 530), ('쫄', 151), ('넛', 1041), ('ズ', 258), ('ユ', 79), ('ザ', 95), ('썰', 793), ('食', 582), ('쫀', 23), ('쪄', 142), ('갹', 40), ('臄', 1), ('韻', 310), ('盤', 455), ('腸', 122), ('雌', 31), ('э', 188), ('ц', 253), ('ᄃ', 5), ('ᆡ', 41), ('要', 740), ('饀', 1), ('猪', 78), ('砂', 202), ('烹', 8), ('蒸', 60), ('謏', 3), ('퇘', 55), ('돝', 19), ('빻', 113), ('ᄌ', 8), ('ᆫ', 6), ('뎅', 511), ('串', 112), ('젭', 209), ('쌌', 277), ('앳', 504), ('땜', 307), ('ば', 255), ('챠', 591), ('욘', 1211), ('汝', 652), ('広', 254), ('足', 779), ('ㄹ', 364), ('ㅘ', 28), ('壬', 367), ('誓', 91), ('癸', 253), ('亥', 289), ('冬', 376), ('竝', 66), ('腹', 274), ('籒', 9), ('篆', 164), ('獄', 378), ('吏', 1007), ('邈', 31), ('隸', 112), ('蝌', 1), ('蚪', 2), ('鐘', 451), ('楷', 102), ('筆', 568), ('愼', 715), ('姓', 1063), ('ë', 222), ('뱡', 41), ('킁', 25), ('雷', 212), ('或', 53), ('쏱', 7), ('맙', 264), ('編', 443), ('輯', 106), ('짦', 45), ('誤', 136), ('빤', 163), ('ě', 119), ('Ž', 45), ('ž', 145), ('셍', 225), ('젋', 90), ('ř', 71), ('耳', 363), ('鳴', 394), ('ㅸ', 26), ('龜', 768), ('玆', 48), ('鳩', 129), ('摩', 580), ('拘', 105), ('耆', 224), ('奘', 44), ('訳', 14), ('真', 388), ('経', 278), ('乘', 597), ('纂', 131), ('姚', 149), ('阿', 1727), ('껭', 9), ('旬', 88), ('猶', 109), ('张', 50), ('俺', 24), ('开', 33), ('封', 653), ('犹', 2), ('赐', 3), ('乐', 39), ('业', 40), ('，', 1606), ('藍', 216), ('忽', 167), ('吾', 357), ('朱', 1366), ('乎', 76), ('璋', 154), ('婚', 205), ('욤', 742), ('숯', 271), ('ï', 160), ('曜', 135), ('퓌', 836), ('ø', 313), ('뵘', 78), ('뱌', 624), ('몄', 672), ('묜', 64), ('됸', 27), ('В', 315), ('Е', 93), ('꿋', 266), ('씐', 9), ('П', 332), ('Б', 279), ('Т', 220), ('́', 325), ('й', 995), ('엡', 773), ('街', 410), ('샴', 836), ('何', 385), ('瑜', 128), ('振', 523), ('藩', 718), ('鄒', 106), ('懷', 467), ('兄', 325), ('搗', 11), ('ʊ', 36), ('デ', 212), ('냘', 119), ('破', 315), ('壞', 117), ('問', 625), ('㎏', 182), ('擴', 69), ('播', 177), ('켑', 75), ('븀', 209), ('適', 150), ('룻', 929), ('텨', 164), ('텡', 418), ('έ', 281), ('ὶ', 49), ('놋', 224), ('밉', 92), ('黑', 595), ('薄', 104), ('卍', 60), ('貞', 2002), ('廏', 1), ('署', 1014), ('丞', 596), ('禪', 1386), ('奉', 1876), ('飮', 105), ('曹', 2218), ('琳', 125), ('盟', 510), ('旨', 774), ('덫', 223), ('及', 230), ('煩', 591), ('悶', 17), ('悔', 112), ('譚', 133), ('聚', 164), ('妻', 253), ('詐', 45), ('取', 742), ('亂', 669), ('賊', 369), ('훅', 655), ('닢', 60), ('覇', 145), ('役', 591), ('ℓ', 1342), ('я', 655), ('ь', 614), ('鍵', 72), ('打', 254), ('絃', 148), ('\\xad', 211), ('胴', 32), ('銅', 661), ('泌', 35), ('晶', 183), ('놔', 290), ('ł', 429), ('∙', 381), ('큅', 56), ('퀠', 25), ('匠', 275), ('旋', 130), ('職', 847), ('例', 273), ('Ⅱ', 732), ('Ⅲ', 142), ('썸', 626), ('渴', 51), ('款', 59), ('詢', 43), ('遵', 126), ('勁', 27), ('顔', 305), ('卿', 1016), ('絿', 16), ('濩', 32), ('匡', 461), ('謄', 34), ('晋', 600), ('帖', 330), ('碑', 1626), ('乾', 526), ('飜', 61), ('刻', 494), ('跡', 185), ('拓', 246), ('如', 1494), ('綏', 155), ('讓', 287), ('考', 627), ('翁', 517), ('紹', 336), ('董', 301), ('其', 350), ('爭', 378), ('獸', 180), ('銘', 520), ('塡', 49), ('序', 452), ('莽', 57), ('隷', 82), ('押', 166), ('邕', 79), ('執', 749), ('側', 196), ('勒', 406), ('努', 27), ('策', 516), ('掠', 12), ('啄', 16), ('架', 163), ('穗', 45), ('俯', 15), ('易', 629), ('而', 409), ('聽', 88), ('嚮', 7), ('僧', 890), ('窺', 42), ('觸', 717), ('欲', 671), ('蘊', 438), ('處', 1191), ('옝', 31), ('ę', 83), ('Ⅵ', 20), ('Ⅴ', 40), ('Ⅰ', 264), ('終', 293), ('뗀', 159), ('功', 2400), ('뱄', 4), ('곪', 24), ('搬', 14), ('稼', 30), ('費', 198), ('採', 103), ('स', 46), ('ं', 16), ('घ', 2), ('ṃ', 47), ('ṅ', 14), ('ṇ', 38), ('輪', 545), ('Ó', 59), ('Ú', 45), ('ő', 64), ('ű', 11), ('넒', 29), ('텄', 65), ('멩', 786), ('奧', 117), ('ש', 80), ('ו', 195), ('א', 146), ('ה', 179), ('옉', 7), ('Ł', 41), ('쳉', 112), ('‧', 605), ('ś', 150), ('；', 100), ('说', 3), ('又', 175), ('爆', 99), ('Ǫ', 3), ('Ø', 68), ('ʀ', 3), ('ㄴ', 328), ('ᚹ', 2), ('Ꝩ', 1), ('Ð', 9), ('ȝ', 4), ('Þ', 36), ('ƿ', 2), ('뒬', 113), ('掃', 43), ('č', 214), ('š', 443), ('œ', 52), ('묠', 73), ('候', 343), ('祹', 3), ('莫', 239), ('睿', 316), ('徙', 25), ('輔', 823), ('僚', 88), ('廢', 307), ('降', 331), ('篤', 96), ('牒', 102), ('勇', 416), ('背', 397), ('浮', 438), ('腫', 95), ('症', 454), ('疾', 148), ('婢', 134), ('渾', 221), ('漏', 493), ('壺', 208), ('欽', 506), ('閣', 913), ('寅', 630), ('丙', 556), ('管', 1238), ('尺', 271), ('銃', 174), ('筒', 158), ('慣', 59), ('踶', 7), ('卞', 500), ('楔', 19), ('循', 136), ('檣', 21), ('詳', 166), ('稅', 397), ('撰', 375), ('휼', 370), ('恤', 45), ('凉', 461), ('囚', 64), ('諭', 179), ('刺', 537), ('絞', 33), ('貢', 365), ('負', 166), ('셌', 88), ('諡', 323), ('服', 571), ('殯', 35), ('響', 100), ('括', 252), ('驗', 184), ('禁', 804), ('凝', 120), ('\\ufeff', 143), ('髓', 68), ('솁', 121), ('Ö', 170), ('댕', 742), ('뜷', 18), ('뗄', 105), ('욥', 118), ('뺌', 37), ('탰', 103), ('席', 185), ('썽', 237), ('꽝', 644), ('궂', 193), ('돛', 570), ('ὐ', 33), ('唱', 320), ('決', 359), ('看', 140), ('ㄷ', 362), ('檢', 703), ('ἰ', 30), ('胞', 216), ('尙', 2699), ('洽', 49), ('攴', 3), ('氵', 6), ('台', 854), ('己', 597), ('ю', 137), ('Ц', 74), ('С', 556), ('굼', 247), ('х', 437), ('貿', 132), ('籠', 85), ('徹', 113), ('悅', 198), ('炯', 219), ('旭', 265), ('▣', 4), ('Ж', 56), ('Ю', 43), ('縣', 4716), ('撫', 330), ('떄', 23), ('돐', 13), ('遇', 202), ('祥', 595), ('샅', 139), ('괸', 50), ('듫', 3), ('찧', 107), ('빡', 274), ('謝', 351), ('顚', 50), ('覆', 272), ('꿍', 102), ('ǐ', 31), ('仙', 953), ('漆', 219), ('威', 609), ('惠', 1173), ('恬', 38), ('騈', 12), ('땔', 127), ('Œ', 12), ('빽', 914), ('튈', 115), ('뇰', 648), ('켠', 141), ('륌', 120), ('º', 87), ('渡', 372), ('倂', 108), ('嵯', 52), ('満', 135), ('割', 127), ('據', 95), ('築', 252), ('鎖', 107), ('祿', 655), ('尊', 946), ('攘', 46), ('夷', 616), ('侯', 2544), ('戶', 1005), ('勅', 222), ('凍', 51), ('緊', 33), ('閥', 67), ('排', 192), ('郷', 200), ('덞', 38), ('殊', 238), ('꼰', 331), ('뽁', 36), ('貝', 138), ('苗', 94), ('꿴', 26), ('垂', 198), ('繩', 37), ('Ἀ', 61), ('ㅜ', 90), ('皆', 134), ('環', 598), ('돎', 3), ('衣', 818), ('哀', 316), ('珍', 863), ('施', 414), ('崙', 106), ('潼', 63), ('雅', 552), ('熹', 114), ('奴', 420), ('薰', 202), ('湜', 117), ('雨', 769), ('肅', 691), ('裸', 60), ('踏', 83), ('耀', 93), ('墟', 84), ('홧', 90), ('윷', 111), ('充', 172), ('俱', 277), ('樺', 43), ('才', 446), ('黎', 291), ('喪', 343), ('熏', 33), ('綠', 367), ('嫄', 7), ('審', 283), ('椿', 88), ('潭', 376), ('狂', 126), ('＜', 793), ('＞', 794), ('뿍', 58), ('綸', 59), ('횃', 463), ('驀', 2), ('줏', 234), ('琴', 487), ('닯', 14), ('⑴', 30), ('⑵', 29), ('⑶', 20), ('⑷', 13), ('깽', 83), ('슾', 8), ('삵', 60), ('쟀', 29), ('ㅊ', 127), ('ŋ', 134), ('옻', 270), ('ẚ', 1), ('힝', 342), ('씽', 272), ('蹟', 371), ('僕', 478), ('呼', 187), ('声', 32), ('ヨ', 67), ('メ', 236), ('抱', 123), ('裏', 128), ('聴', 5), ('せ', 184), ('で', 354), ('튠', 802), ('疇', 107), ('零', 132), ('遁', 54), ('裁', 241), ('衛', 2286), ('卑', 200), ('酋', 30), ('槎', 12), ('잼', 772), ('푄', 67), ('챤', 159), ('흄', 234), ('免', 177), ('疫', 97), ('缺', 67), ('㎖', 35), ('漿', 15), ('圍', 108), ('腔', 70), ('隔', 58), ('尖', 71), ('腱', 6), ('똘', 224), ('斜', 122), ('왠', 165), ('脆', 6), ('舍', 1088), ('吟', 68), ('젱', 287), ('募', 66), ('傭', 48), ('蕃', 189), ('宦', 62), ('巢', 100), ('閑', 209), ('清', 604), ('住', 795), ('弘', 1749), ('麿', 39), ('随', 21), ('窮', 103), ('勤', 355), ('꾐', 35), ('♣', 21), ('溶', 112), ('媒', 91), ('燒', 130), ('갛', 129), ('옇', 33), ('ｍ', 459), ('勵', 49), ('效', 193), ('照', 352), ('殺', 444), ('멎', 108), ('痛', 92), ('齒', 297), ('ὄ', 5), ('ζ', 96), ('●', 219), ('¹', 70), ('⁵', 2), ('⁸', 3), ('⁶', 2), ('깆', 4), ('괗', 1), ('옂', 1), ('斤', 141), ('厘', 7), ('步', 377), ('升', 226), ('斛', 37), ('咫', 11), ('儒', 739), ('낟', 61), ('쌉', 26), ('£', 332), ('酸', 249), ('血', 359), ('液', 105), ('弱', 101), ('吸', 81), ('蒼', 146), ('宿', 397), ('羈', 23), ('廟', 769), ('追', 456), ('酌', 47), ('獻', 942), ('焚', 47), ('祀', 241), ('齎', 26), ('穆', 677), ('凸', 49), ('樓', 619), ('幣', 101), ('愍', 264), ('庭', 505), ('枋', 26), ('窓', 95), ('ㅁ', 324), ('툇', 240), ('退', 295), ('享', 350), ('薦', 67), ('謁', 108), ('舞', 823), ('佾', 34), ('登', 523), ('쌈', 349), ('床', 190), ('늉', 188), ('晟', 125), ('迎', 205), ('鼓', 357), ('꽹', 91), ('伽', 344), ('倻', 101), ('岳', 729), ('簫', 27), ('吹', 141), ('廻', 120), ('茄', 14), ('箏', 41), ('阮', 281), ('笛', 82), ('苛', 12), ('醮', 97), ('伎', 125), ('琵', 74), ('琶', 66), ('笙', 29), ('腰', 65), ('履', 208), ('靴', 33), ('抄', 219), ('奈', 349), ('勿', 187), ('稽', 127), ('注', 488), ('梵', 480), ('唄', 36), ('詠', 108), ('丸', 508), ('酉', 274), ('拍', 84), ('鞨', 39), ('倒', 116), ('邑', 979), ('溟', 144), ('芩', 5), ('夕', 92), ('幽', 212), ('克', 618), ('巡', 417), ('歡', 105), ('嶽', 161), ('燈', 374), ('毬', 68), ('每', 91), ('○', 1273), ('戀', 107), ('危', 93), ('瓜', 85), ('亭', 1442), ('艶', 36), ('霞', 145), ('杵', 51), ('深', 462), ('凰', 108), ('呈', 72), ('抛', 33), ('桃', 296), ('竿', 128), ('妓', 109), ('引', 367), ('牙', 305), ('▩', 22), ('抑', 57), ('揚', 379), ('刪', 27), ('與', 392), ('俔', 36), ('暴', 224), ('覲', 29), ('誠', 744), ('憶', 56), ('稍', 6), ('襲', 149), ('勺', 10), ('醉', 98), ('卒', 196), ('掌', 433), ('僉', 570), ('慢', 273), ('謠', 113), ('瑩', 108), ('隍', 41), ('飯', 179), ('設', 521), ('檀', 317), ('恩', 1212), ('飭', 5), ('弄', 49), ('僿', 11), ('勸', 131), ('鷗', 44), ('襄', 532), ('還', 307), ('貧', 86), ('枝', 229), ('膺', 136), ('邏', 24), ('絲', 196), ('叔', 573), ('祚', 387), ('蓑', 8), ('胤', 345), ('謹', 197), ('稿', 250), ('慕', 621), ('渠', 161), ('簧', 12), ('懋', 50), ('午', 355), ('更', 192), ('提', 1088), ('課', 173), ('雉', 88), ('伯', 1372), ('姜', 1320), ('沅', 28), ('株', 505), ('快', 115), ('顧', 154), ('冀', 137), ('奎', 757), ('差', 378), ('柄', 105), ('玟', 51), ('坰', 21), ('兌', 68), ('便', 263), ('贊', 926), ('裕', 562), ('捺', 22), ('采', 206), ('珉', 125), ('廉', 521), ('碩', 420), ('坡', 479), ('允', 815), ('鳶', 20), ('映', 316), ('翡', 15), ('淵', 865), ('Ｆ', 15), ('Ｃ', 8), ('Ｓ', 33), ('畫', 140), ('鉛', 61), ('雀', 149), ('瀝', 10), ('캬', 473), ('窒', 51), ('粘', 49), ('稠', 53), ('燥', 20), ('着', 238), ('褪', 1), ('剝', 40), ('忌', 150), ('硫', 27), ('脂', 109), ('揮', 149), ('栓', 16), ('劑', 153), ('彫', 225), ('諧', 72), ('衝', 171), ('牢', 42), ('빳', 121), ('뻘', 407), ('쉼', 399), ('推', 440), ('倫', 381), ('慮', 137), ('甁', 204), ('裳', 83), ('捕', 145), ('逢', 103), ('ج', 171), ('ك', 124), ('涓', 30), ('뺑', 135), ('賜', 520), ('劦', 11), ('苩', 28), ('藜', 38), ('昔', 123), ('裵', 654), ('薛', 328), ('賤', 129), ('弓', 362), ('訛', 16), ('杉', 221), ('卜', 195), ('僭', 20), ('彭', 262), ('玹', 64), ('籍', 543), ('強', 286), ('避', 123), ('諱', 184), ('娜', 41), ('姸', 26), ('讚', 131), ('筍', 41), ('큔', 49), ('玲', 40), ('别', 9), ('澎', 18), ('轄', 70), ('稷', 329), ('丕', 92), ('婁', 130), ('灌', 152), ('紇', 26), ('尉', 1019), ('巖', 947), ('薩', 1004), ('毌', 44), ('賑', 45), ('貸', 90), ('挹', 10), ('衢', 45), ('黠', 3), ('敷', 102), ('肇', 126), ('蓋', 462), ('鹵', 18), ('突', 233), ('厥', 51), ('臧', 91), ('沛', 113), ('皁', 4), ('鬱', 89), ('折', 246), ('雛', 11), ('褥', 10), ('扃', 8), ('豪', 211), ('給', 270), ('租', 197), ('隧', 38), ('穴', 213), ('穀', 211), ('牟', 248), ('掘', 48), ('瑠', 44), ('璃', 74), ('弗', 95), ('刹', 144), ('楹', 5), ('鬪', 319), ('踊', 69), ('狩', 52), ('獵', 51), ('咨', 47), ('曇', 88), ('挾', 24), ('찡', 81), ('謐', 17), ('堵', 33), ('摂', 73), ('関', 310), ('権', 186), ('衙', 236), ('遣', 126), ('嶼', 63), ('紘', 17), ('倭', 514), ('岐', 407), ('条', 512), ('崩', 82), ('朕', 27), ('當', 405), ('僞', 185), ('奕', 68), ('昱', 78), ('챘', 148), ('敗', 91), ('벰', 173), ('팠', 158), ('뻬', 79), ('펐', 23), ('釜', 576), ('㎧', 5), ('侵', 72), ('寇', 159), ('ἔ', 12), ('Ἑ', 19), ('挽', 13), ('訂', 46), ('到', 83), ('粒', 90), ('醒', 52), ('샛', 419), ('煉', 32), ('숄', 382), ('횔', 123), ('뽀', 637), ('꺅', 13), ('屈', 133), ('菊', 239), ('亀', 121), ('¥', 17), ('Ұ', 3), ('뇬', 42), ('券', 231), ('慰', 166), ('蛇', 142), ('郁', 138), ('瑕', 57), ('腊', 3), ('額', 222), ('滸', 56), ('懇', 16), ('걍', 20), ('퍈', 17), ('撤', 59), ('퉈', 116), ('圏', 15), ('겅', 153), ('랸', 275), ('훠', 155), ('ū', 354), ('覈', 9), ('削', 75), ('稗', 32), ('礼', 57), ('継', 90), ('辞', 38), ('荻', 24), ('売', 44), ('兼', 716), ('隅', 110), ('幡', 236), ('稲', 89), ('垝', 2), ('獲', 104), ('弖', 9), ('豐', 169), ('渟', 11), ('尼', 423), ('并', 24), ('蝦', 78), ('跪', 15), ('幸', 376), ('ほ', 160), ('っ', 381), ('ぽ', 33), ('崎', 398), ('弥', 110), ('云', 184), ('峻', 137), ('恪', 124), ('緣', 739), ('按', 193), ('😘', 1), ('ἴ', 11), ('륄', 377), ('燦', 176), ('帯', 63), ('鵜', 11), ('葺', 15), ('瀬', 180), ('橿', 19), ('漑', 66), ('險', 163), ('樊', 152), ('奚', 64), ('碧', 299), ('畜', 124), ('漁', 295), ('槨', 64), ('殉', 119), ('쇳', 82), ('佟', 35), ('佳', 229), ('柔', 148), ('耶', 344), ('以', 731), ('渤', 117), ('丹', 896), ('乞', 145), ('靺', 37), ('休', 515), ('顯', 1033), ('諲', 6), ('譔', 8), ('庶', 505), ('孼', 34), ('占', 244), ('뒹', 71), ('쳇', 217), ('濁', 74), ('溪', 1620), ('釣', 53), ('ῆ', 29), ('ῖ', 44), ('퉜', 30), ('捧', 32), ('摸', 16), ('敞', 128), ('昕', 82), ('嗣', 358), ('蠻', 86), ('爵', 269), ('綬', 137), ('殼', 52), ('斧', 48), ('隱', 725), ('倣', 25), ('鈕', 41), ('銖', 45), ('耽', 143), ('胡', 702), ('屯', 277), ('Ê', 10), ('꽁', 557), ('숑', 134), ('Β', 92), ('罵', 12), ('ȳ', 3), ('쏴', 334), ('짰', 125), ('鷹', 171), ('磔', 5), ('垣', 174), ('減', 135), ('쾡', 86), ('沃', 243), ('累', 68), ('傾', 61), ('蘆', 141), ('拏', 25), ('峙', 111), ('況', 55), ('潟', 50), ('肢', 61), ('窪', 21), ('晝', 52), ('藪', 32), ('垈', 84), ('裂', 106), ('礫', 29), ('蟻', 12), ('卵', 130), ('ῶ', 40), ('Ῥ', 16), ('ΐ', 8), ('撒', 31), ('菻', 3), ('ط', 91), ('ه', 245), ('Ν', 61), ('ἡ', 11), ('糧', 114), ('泗', 245), ('批', 91), ('椽', 37), ('趨', 11), ('坐', 1190), ('宰', 596), ('幢', 202), ('画', 120), ('朗', 226), ('솽', 167), ('廆', 16), ('皝', 24), ('\\ue650', 1), ('滋', 104), ('蔓', 36), ('焉', 55), ('倮', 4), ('隣', 139), ('慎', 59), ('隙', 12), ('匈', 34), ('肩', 121), ('槐', 233), ('軻', 21), ('俎', 15), ('妬', 10), ('罪', 496), ('蹄', 73), ('凶', 105), ('闕', 127), ('暑', 37), ('駱', 72), ('芝', 335), ('擲', 16), ('毋', 30), ('ⴷ', 4), ('ⵣ', 8), ('ⴰ', 14), ('ⵢ', 3), ('ⴻ', 5), ('ⵔ', 3), ('㎘', 9), ('幾', 155), ('甑', 55), ('萊', 288), ('枾', 15), ('炊', 26), ('巿', 9), ('寂', 285), ('쾅', 70), ('쐈', 84), ('筑', 163), ('柵', 79), ('弟', 380), ('穢', 48), ('旱', 43), ('龕', 83), ('箔', 19), ('杭', 110), ('쏨', 53), ('急', 186), ('瓦', 175), ('敍', 229), ('患', 106), ('聘', 45), ('答', 175), ('刷', 80), ('Я', 79), ('蜂', 68), ('虐', 54), ('빕', 76), ('뷴', 160), ('┼', 1), ('┬', 13), ('│', 15), ('├', 1), ('賴', 212), ('駁', 14), ('混', 168), ('訟', 159), ('控', 29), ('赦', 57), ('買', 177), ('召', 236), ('邵', 118), ('짭', 75), ('궬', 61), ('刊', 424), ('脩', 114), ('諫', 584), ('叛', 35), ('褒', 109), ('貶', 33), ('増', 75), ('将', 339), ('並', 59), ('奨', 4), ('ὖ', 6), ('Χ', 68), ('휜', 224), ('Ẋ', 5), ('헀', 52), ('Ὀ', 7), ('쫒', 248), ('ㄸ', 48), ('ㅃ', 51), ('ㅆ', 63), ('ㅉ', 51), ('ㅖ', 38), ('ㄳ', 11), ('ㅔ', 73), ('₩', 21), ('ㅠ', 48), ('ㅌ', 101), ('ㅢ', 37), ('ㅝ', 19), ('ㅞ', 15), ('ㅙ', 18), ('ㅚ', 31), ('ㅟ', 30), ('ㄿ', 10), ('ㅵ', 5), ('ㅱ', 18), ('ᄴ', 3), ('ㅂ', 212), ('乱', 189), ('燭', 41), ('伝', 164), ('参', 144), ('断', 54), ('替', 71), ('匝', 2), ('尸', 85), ('柒', 28), ('隨', 777), ('繞', 14), ('皐', 128), ('仕', 280), ('摠', 631), ('番', 272), ('衞', 38), ('停', 238), ('俸', 30), ('鋪', 46), ('廛', 40), ('把', 72), ('沓', 26), ('絹', 84), ('巧', 52), ('札', 109), ('湘', 161), ('涅', 208), ('槃', 224), ('聰', 113), ('瞻', 166), ('妹', 80), ('抒', 14), ('儷', 18), ('剎', 26), ('衿', 113), ('矩', 64), ('娑', 61), ('ʌ', 15), ('蘿', 40), ('爀', 99), ('ᄇ', 25), ('ᆰ', 2), ('瓠', 12), ('沮', 91), ('雞', 33), ('閼', 77), ('忒', 8), ('巳', 261), ('ὼ', 3), ('Ὁ', 1), ('ὲ', 18), ('춪', 1), ('ᆢ', 11), ('弩', 68), ('朶', 25), ('耐', 64), ('觜', 9), ('彼', 109), ('祇', 87), ('瓢', 31), ('嵒', 18), ('祉', 132), ('仇', 253), ('乃', 214), ('仍', 56), ('旀', 1), ('吐', 133), ('娘', 136), ('戚', 157), ('烽', 175), ('甘', 461), ('緩', 44), ('柰', 9), ('災', 218), ('悉', 55), ('汁', 37), ('兮', 64), ('谿', 48), ('只', 144), ('瘧', 4), ('鹽', 253), ('沸', 46), ('熊', 439), ('섶', 80), ('扞', 5), ('綢', 5), ('垓', 30), ('柯', 56), ('叱', 91), ('呑', 33), ('且', 58), ('鋌', 7), ('솃', 18), ('냔', 111), ('祗', 114), ('넜', 195), ('湌', 43), ('･', 345), ('輒', 12), ('灼', 32), ('壻', 30), ('飲', 18), ('冢', 15), ('徑', 68), ('歩', 46), ('俾', 3), ('梯', 55), ('儁', 56), ('檄', 34), ('橘', 151), ('箸', 6), ('迹', 40), ('媛', 120), ('Έ', 9), ('畢', 127), ('臼', 58), ('裨', 67), ('胥', 78), ('鑿', 19), ('裴', 118), ('揖', 20), ('韋', 158), ('豢', 4), ('齿', 1), ('缶', 28), ('賁', 81), ('獐', 51), ('슙', 21), ('曷', 22), ('淥', 7), ('鐸', 123), ('彗', 14), ('融', 300), ('往', 154), ('庾', 199), ('怨', 71), ('兜', 68), ('盲', 47), ('芬', 85), ('悼', 141), ('万', 236), ('礬', 10), ('暖', 39), ('艇', 48), ('璞', 23), ('蚩', 21), ('尤', 109), ('魃', 8), ('荀', 166), ('曼', 90), ('倩', 18), ('厭', 98), ('責', 92), ('禖', 1), ('屛', 153), ('柏', 99), ('羿', 6), ('浞', 3), ('ɨ', 52), ('稜', 44), ('煕', 46), ('媵', 3), ('妾', 84), ('嫡', 224), ('戌', 220), ('痴', 28), ('廠', 40), ('耿', 48), ('爺', 25), ('塽', 4), ('琅', 60), ('琿', 26), ('澳', 51), ('靳', 11), ('礽', 16), ('禔', 20), ('毓', 44), ('儲', 47), ('禩', 8), ('禵', 2), ('叟', 78), ('騰', 77), ('訊', 27), ('鞠', 93), ('盡', 188), ('붇', 23), ('雍', 264), ('י', 262), ('ֶ', 12), ('פ', 37), ('ת', 77), ('遂', 260), ('驪', 312), ('峽', 113), ('Ά', 19), ('Ἄ', 6), ('沾', 8), ('翊', 470), ('瀛', 104), ('［', 45), ('牽', 50), ('］', 47), ('蓬', 86), ('祠', 833), ('朋', 114), ('濫', 31), ('栗', 342), ('訖', 17), ('欣', 81), ('⇒', 47), ('煌', 60), ('Ί', 4), ('緋', 31), ('疆', 79), ('彈', 217), ('稟', 44), ('汙', 2), ('傀', 21), ('ɣ', 15), ('曳', 29), ('粟', 58), ('震', 503), ('旦', 129), ('统', 15), ('罗', 27), ('較', 25), ('″', 165), ('ṣ', 91), ('û', 58), ('А', 372), ('븡', 32), ('붜', 10), ('ː', 223), ('ɹ', 17), ('ʁ', 29), ('ɔ', 61), ('잤', 82), ('¼', 52), ('＝', 173), ('좨', 109), ('亮', 437), ('濬', 257), ('兪', 367), ('瑢', 54), ('瑀', 80), ('玧', 10), ('霜', 68), ('昇', 545), ('塤', 16), ('깻', 76), ('冥', 171), ('푯', 44), ('壹', 68), ('귓', 187), ('곯', 7), ('滴', 29), ('措', 22), ('圜', 28), ('긑', 13), ('귈', 263), ('뱁', 61), ('脊', 33), ('椎', 57), ('膈', 1), ('衡', 579), ('羌', 119), ('卓', 298), ('袁', 430), ('符', 313), ('甕', 81), ('霸', 66), ('浚', 204), ('諰', 11), ('鑴', 50), ('㈜', 823), ('㎡', 359), ('菴', 295), ('톳', 99), ('壊', 14), ('鐏', 2), ('콱', 7), ('□', 262), ('溯', 10), ('倡', 71), ('牌', 242), ('輩', 45), ('梅', 596), ('曰', 248), ('傍', 85), ('儺', 46), ('投', 193), ('乭', 40), ('兎', 100), ('鼈', 11), ('釗', 23), ('鞭', 63), ('衰', 93), ('먕', 4), ('넹', 141), ('妖', 73), ('帛', 59), ('宙', 223), ('쐬', 48), ('笠', 219), ('珖', 14), ('瀞', 10), ('堀', 151), ('寛', 185), ('暄', 28), ('㎥', 43), ('㎢', 85), ('酪', 19), ('撈', 16), ('浿', 47), ('恥', 40), ('拒', 40), ('㠱', 1), ('懸', 150), ('菌', 164), ('趾', 122), ('絳', 29), ('脚', 142), ('奮', 180), ('禧', 316), ('曮', 8), ('絅', 34), ('漕', 48), ('藷', 17), ('喬', 178), ('揆', 120), ('崖', 249), ('茗', 13), ('涿', 28), ('晏', 69), ('綰', 16), ('唊', 4), ('塹', 24), ('戊', 264), ('颱', 7), ('≒', 31), ('擾', 44), ('迷', 154), ('巾', 110), ('陛', 37), ('뵌', 29), ('倧', 35), ('宬', 5), ('綾', 219), ('諿', 13), ('賈', 226), ('堉', 26), ('孽', 15), ('贖', 35), ('筵', 239), ('棩', 7), ('㏏', 12), ('燾', 56), ('囑', 8), ('奭', 213), ('冕', 91), ('僴', 3), ('樞', 972), ('䎘', 6), ('翎', 58), ('繕', 80), ('뗐', 51), ('箚', 67), ('另', 8), ('辦', 147), ('遐', 27), ('咳', 4), ('嗽', 1), ('柩', 9), ('垠', 46), ('鍝', 10), ('땠', 45), ('憤', 39), ('嘎', 14), ('呀', 7), ('蔘', 81), ('們', 26), ('勘', 84), ('昖', 3), ('鈞', 103), ('岹', 6), ('薨', 57), ('逝', 59), ('嬪', 402), ('濮', 59), ('奪', 57), ('彧', 55), ('誣', 79), ('鎰', 105), ('禍', 235), ('斬', 122), ('遞', 207), ('琢', 47), ('盆', 123), ('扈', 208), ('适', 45), ('儆', 29), ('游', 133), ('澗', 95), ('밞', 22), ('訥', 153), ('臥', 96), ('虹', 94), ('漲', 4), ('舖', 18), ('鍊', 303), ('墩', 93), ('甬', 12), ('竇', 85), ('甓', 1), ('垛', 1), ('戎', 172), ('畎', 6), ('籤', 25), ('欄', 56), ('謬', 39), ('殘', 91), ('腥', 3), ('塵', 139), ('訣', 140), ('輳', 3), ('跋', 290), ('針', 102), ('謂', 69), ('囯', 5), ('𡆮', 1), ('浥', 1), ('晦', 148), ('睦', 393), ('頃', 177), ('拈', 22), ('叢', 113), ('著', 279), ('©', 11), ('埃', 15), ('ṛ', 32), ('ˁ', 2), ('莎', 29), ('ḥ', 116), ('מ', 111), ('ִ', 42), ('צ', 22), ('ְ', 57), ('ר', 168), ('ַ', 46), ('ם', 51), ('귑', 7), ('ṭ', 108), ('ὑ', 10), ('岬', 54), ('裔', 86), ('紡', 46), ('岫', 9), ('郊', 88), ('瀑', 93), ('焞', 5), ('爌', 2), ('恊', 19), ('昀', 25), ('璜', 74), ('頤', 78), ('就', 232), ('僖', 130), ('禦', 200), ('욜', 565), ('犬', 171), ('봅', 453), ('묄', 279), ('ĝ', 18), ('ɑ', 57), ('ɛ', 73), ('ɶ', 1), ('ɤ', 9), ('ɯ', 17), ('ɒ', 17), ('暐', 23), ('誥', 80), ('沢', 213), ('詮', 107), ('析', 120), ('갗', 49), ('ɸ', 5), ('þ', 43), ('促', 32), ('巘', 10), ('廂', 31), ('魴', 17), ('傘', 55), ('쑈', 57), ('挺', 117), ('髮', 178), ('屆', 5), ('昊', 209), ('鎔', 186), ('胄', 97), ('斌', 73), ('庄', 322), ('賭', 36), ('菱', 67), ('갭', 214), ('毗', 55), ('訶', 73), ('惱', 684), ('盒', 43), ('銍', 7), ('罰', 89), ('浄', 61), ('禄', 122), ('頼', 365), ('奥', 170), ('箱', 83), ('含', 178), ('Ā', 39), ('喻', 17), ('ň', 29), ('妄', 118), ('菩', 931), ('蜜', 170), ('雩', 24), ('訢', 25), ('枯', 38), ('졍', 20), ('뭣', 18), ('＂', 38), ('엾', 50), ('怒', 85), ('峘', 4), ('迪', 173), ('樑', 161), ('懌', 15), ('洵', 59), ('汀', 129), ('沆', 90), ('찿', 18), ('忘', 170), ('敕', 4), ('堆', 68), ('堰', 53), ('郫', 3), ('陝', 104), ('鹹', 8), ('譙', 47), ('緃', 1), ('涪', 32), ('黔', 102), ('青', 346), ('壩', 6), ('礱', 3), ('岷', 19), ('沱', 13), ('冰', 29), ('邛', 15), ('瀘', 8), ('沽', 21), ('蓉', 55), ('户', 14), ('门', 46), ('图', 28), ('锦', 14), ('托', 57), ('举', 1), ('变', 6), ('脸', 2), ('喷', 1), ('吃', 33), ('腐', 64), ('双', 52), ('兔', 10), ('头', 33), ('担', 15), ('龙', 91), ('钟', 5), ('饺', 1), ('韩', 10), ('炮', 14), ('赖', 1), ('汤', 18), ('圆', 5), ('岭', 38), ('沟', 17), ('园', 41), ('寨', 29), ('萨', 8), ('桥', 56), ('芒', 31), ('亚', 20), ('丽', 19), ('护', 12), ('单', 10), ('阳', 107), ('庙', 11), ('庞', 4), ('换', 2), ('马', 40), ('凤', 13), ('坟', 2), ('诸', 7), ('绝', 6), ('蓥', 2), ('华', 84), ('风', 35), ('胜', 23), ('猫', 91), ('웡', 330), ('丝', 11), ('猴', 24), ('顶', 6), ('뤈', 2), ('剑', 9), ('崴', 2), ('东', 159), ('艺', 16), ('术', 25), ('瑰', 10), ('类', 7), ('结', 5), ('旌', 370), ('现', 6), ('娱', 4), ('黄', 186), ('继', 5), ('红', 47), ('观', 24), ('刚', 4), ('场', 112), ('攀', 41), ('甸', 69), ('坝', 10), ('雕', 134), ('钢', 7), ('苏', 46), ('铁', 116), ('级', 32), ('树', 12), ('氡', 1), ('气', 12), ('滩', 3), ('峡', 33), ('长', 69), ('漂', 45), ('玛', 6), ('瑙', 11), ('砚', 2), ('苴', 9), ('却', 59), ('节', 20), ('泼', 1), ('筝', 3), ('咽', 29), ('喉', 50), ('绵', 2), ('环', 24), ('线', 124), ('梓', 85), ('酥', 7), ('饼', 7), ('卷', 582), ('镶', 1), ('碗', 22), ('罐', 11), ('疋', 8), ('鸡', 23), ('锅', 14), ('魁', 35), ('雾', 2), ('险', 2), ('挂', 2), ('鹰', 8), ('爪', 38), ('稳', 2), ('诺', 7), ('临', 13), ('氧', 2), ('吧', 14), ('纪', 19), ('馆', 21), ('库', 21), ('汉', 24), ('鹄', 1), ('鱼', 23), ('糕', 9), ('汪', 66), ('镇', 149), ('宫', 24), ('枇', 9), ('杷', 5), ('肘', 8), ('稣', 1), ('脐', 1), ('橙', 10), ('优', 5), ('甜', 10), ('鸭', 4), ('椒', 90), ('绿', 5), ('种', 16), ('餐', 25), ('烤', 7), ('椪', 3), ('柑', 34), ('棱', 6), ('冻', 1), ('粑', 2), ('刘', 27), ('车', 77), ('渝', 17), ('资', 18), ('绕', 1), ('简', 4), ('陈', 41), ('飞', 9), ('营', 66), ('报', 29), ('砻', 1), ('唇', 8), ('湾', 71), ('伍', 77), ('须', 2), ('泸', 13), ('经', 85), ('跑', 8), ('碉', 2), ('达', 31), ('乡', 37), ('枢', 10), ('纽', 2), ('洁', 14), ('规', 6), ('范', 221), ('畅', 5), ('货', 3), ('奖', 4), ('综', 4), ('诗', 12), ('书', 24), ('广', 148), ('灵', 18), ('瓷', 38), ('脏', 1), ('捷', 103), ('济', 37), ('跃', 4), ('荣', 12), ('젹', 16), ('毯', 5), ('绣', 3), ('绸', 2), ('橄', 14), ('榄', 3), ('蕨', 11), ('菇', 2), ('荪', 1), ('药', 8), ('苍', 4), ('猕', 1), ('柚', 15), ('朵', 8), ('쏸', 6), ('饭', 2), ('禽', 54), ('兽', 1), ('莲', 6), ('稹', 12), ('县', 237), ('萼', 11), ('卫', 26), ('遗', 5), ('址', 781), ('维', 9), ('阙', 2), ('汇', 3), ('韵', 4), ('똣', 11), ('载', 5), ('盐', 5), ('恐', 123), ('灯', 25), ('龚', 4), ('扇', 163), ('扎', 15), ('染', 412), ('剪', 31), ('纸', 2), ('姐', 28), ('贡', 3), ('间', 13), ('传', 22), ('骄', 1), ('傲', 34), ('窖', 4), ('荆', 11), ('纳', 5), ('尧', 2), ('蟾', 33), ('辣', 34), ('酱', 3), ('醋', 26), ('银', 16), ('针', 5), ('荔', 7), ('儿', 45), ('耙', 2), ('蔺', 1), ('醪', 3), ('糟', 11), ('伞', 2), ('泡', 37), ('卤', 1), ('邓', 5), ('锋', 5), ('邻', 3), ('幅', 92), ('铜', 4), ('锣', 2), ('첮', 2), ('谢', 2), ('时', 14), ('宁', 54), ('彝', 22), ('叶', 16), ('姑', 123), ('丧', 1), ('嫁', 36), ('娶', 21), ('箐', 1), ('楼', 43), ('砣', 9), ('杆', 30), ('毕', 4), ('뚯', 4), ('珙', 21), ('桐', 231), ('际', 31), ('鬥', 14), ('씰', 149), ('奬', 64), ('苾', 32), ('蒲', 175), ('臚', 22), ('蕭', 290), ('傷', 151), ('驍', 45), ('龐', 120), ('攷', 43), ('隤', 3), ('霍', 83), ('菟', 25), ('傑', 205), ('馳', 26), ('虯', 7), ('髥', 16), ('迅', 41), ('謊', 3), ('겋', 26), ('뻣', 253), ('蠶', 103), ('撮', 52), ('畀', 2), ('㷩', 1), ('晃', 94), ('巍', 17), ('坤', 226), ('壯', 323), ('搢', 14), ('紳', 76), ('昏', 46), ('軫', 67), ('蹕', 8), ('昰', 22), ('厨', 18), ('璿', 131), ('娼', 32), ('閤', 121), ('汽', 75), ('堡', 144), ('斥', 135), ('霆', 11), ('兇', 18), ('馨', 134), ('寢', 60), ('頑', 12), ('飽', 23), ('嵋', 28), ('坧', 4), ('堈', 39), ('悟', 198), ('邸', 116), ('憂', 162), ('綺', 59), ('偸', 14), ('盜', 135), ('誕', 98), ('晙', 31), ('凱', 96), ('匪', 58), ('梧', 232), ('衫', 53), ('उ', 3), ('प', 35), ('न', 76), ('ि', 50), ('ष', 13), ('द', 37), ('्', 130), ('溥', 98), ('炤', 29), ('쉈', 39), ('匣', 34), ('怛', 16), ('忉', 14), ('燧', 139), ('辻', 72), ('添', 65), ('緖', 172), ('淺', 80), ('稙', 71), ('詔', 159), ('槿', 77), ('楣', 7), ('譏', 12), ('恨', 98), ('ù', 124), ('秒', 15), ('甄', 173), ('萱', 150), ('棟', 114), ('앟', 4), ('詵', 77), ('灘', 173), ('袍', 67), ('띔', 45), ('誡', 35), ('療', 141), ('떢', 1), ('▲', 325), ('汶', 75), ('뤌', 2), ('汾', 56), ('祁', 81), ('斐', 73), ('晴', 191), ('当', 91), ('諏', 40), ('塩', 72), ('尻', 34), ('峠', 29), ('砥', 35), ('曽', 37), ('桶', 41), ('狭', 44), ('騨', 8), ('柿', 23), ('坂', 349), ('俣', 27), ('篠', 40), ('駒', 118), ('恵', 107), ('碁', 28), ('躅', 5), ('読', 34), ('ビ', 189), ('禰', 57), ('寮', 83), ('栖', 59), ('栃', 20), ('滝', 40), ('埴', 21), ('荒', 203), ('虚', 11), ('盃', 35), ('堺', 33), ('犀', 49), ('裾', 5), ('巌', 20), ('髻', 92), ('裡', 59), ('舘', 21), ('厩', 18), ('縄', 42), ('駄', 34), ('状', 58), ('샜', 12), ('簗', 8), ('尚', 210), ('畠', 111), ('そ', 192), ('歴', 46), ('홰', 90), ('鈐', 20), ('纜', 11), ('亦', 106), ('쳔', 35), ('楞', 99), ('惺', 76), ('圃', 127), ('拾', 95), ('傅', 305), ('頓', 168), ('碣', 64), ('ą', 71), ('ń', 126), ('陪', 66), ('瑟', 66), ('歃', 13), ('菁', 37), ('罡', 18), ('績', 102), ('璉', 36), ('琉', 128), ('佑', 293), ('芚', 18), ('爰', 18), ('餠', 47), ('䭏', 1), ('멥', 67), ('탉', 218), ('摘', 23), ('擦', 71), ('匏', 4), ('컹', 274), ('柢', 2), ('喩', 54), ('檮', 7), ('杌', 29), ('｢', 424), ('｣', 425), ('濤', 64), ('쟌', 82), ('≡', 34), ('≢', 1), ('棒', 88), ('⦁', 52), ('磨', 420), ('堊', 10), ('콸', 187), ('送', 497), ('셧', 158), ('룅', 41), ('ῃ', 8), ('魟', 1), ('閱', 109), ('贈', 487), ('瓘', 69), ('滎', 37), ('蹈', 30), ('鷺', 48), ('穡', 95), ('奫', 18), ('륍', 10), ('罷', 67), ('姦', 45), ('悳', 90), ('휨', 137), ('俠', 79), ('陟', 179), ('擊', 220), ('Г', 211), ('准', 45), ('狙', 10), ('ּ', 68), ('ד', 58), ('ָ', 63), ('ק', 58), ('ל', 103), ('ⓐ', 16), ('ⓑ', 14), ('ⓒ', 14), ('ⓓ', 5), ('ⓔ', 3), ('預', 123), ('숩', 53), ('꾹', 155), ('疑', 293), ('獅', 132), ('꿸', 3), ('ش', 128), ('ی', 184), ('哺', 10), ('☞', 33), ('푈', 161), ('푓', 1), ('룀', 478), ('훍', 2), ('豹', 86), ('．', 208), ('旿', 33), ('璣', 29), ('悌', 158), ('옭', 32), ('瀅', 38), ('捉', 21), ('벱', 38), ('瓉', 1), ('餓', 44), ('袖', 68), ('佞', 5), ('酷', 15), ('혓', 74), ('잧', 2), ('茸', 24), ('輕', 258), ('삘', 12), ('鯨', 39), ('麒', 79), ('꼿', 151), ('쉿', 47), ('胸', 82), ('頸', 55), ('쮠', 8), ('쩡', 303), ('ò', 146), ('쌔', 250), ('豚', 25), ('毒', 203), ('麞', 4), ('羔', 2), ('捻', 16), ('駝', 25), ('ᾶ', 10), ('낑', 29), ('슥', 39), ('엹', 9), ('쥰', 187), ('쟘', 2), ('च', 12), ('त', 46), ('र', 130), ('य', 46), ('顆', 28), ('덪', 5), ('돠', 31), ('뻤', 78), ('귐', 39), ('棋', 124), ('爛', 27), ('囲', 7), ('ご', 109), ('薪', 52), ('볏', 259), ('섕', 60), ('폿', 113), ('握', 16), ('胃', 33), ('尿', 49), ('腺', 95), ('濾', 24), ('蝗', 6), ('脣', 112), ('끽', 143), ('頒', 31), ('肝', 56), ('횬', 29), ('앏', 12), ('些', 10), ('鰱', 4), ('へ', 128), ('飡', 82), ('遜', 117), ('戩', 24), ('斡', 38), ('Х', 84), ('چ', 9), ('غ', 60), ('Ṭ', 3), ('셩', 110), ('젼', 303), ('黍', 18), ('娛', 22), ('逐', 70), ('豎', 8), ('襟', 24), ('悽', 1), ('淫', 64), ('佚', 9), ('氈', 19), ('竈', 21), ('爐', 167), ('僑', 76), ('샙', 19), ('予', 106), ('捨', 202), ('쪘', 18), ('齧', 4), ('쥣', 11), ('솎', 44), ('撥', 58), ('站', 459), ('藻', 118), ('뵨', 7), ('∠', 37), ('쳅', 158), ('珥', 113), ('衍', 311), ('途', 59), ('輓', 27), ('晨', 35), ('낻', 5), ('淄', 50), ('糾', 60), ('葵', 37), ('嘗', 33), ('匽', 1), ('郾', 4), ('杼', 11), ('莒', 47), ('紺', 77), ('嬴', 54), ('犨', 5), ('臏', 17), ('雎', 13), ('瑶', 11), ('煖', 32), ('崍', 2), ('渼', 29), ('曦', 55), ('칡', 128), ('넝', 180), ('楓', 86), ('袈', 41), ('覓', 34), ('４', 16), ('ע', 62), ('ב', 108), ('ן', 57), ('ס', 44), ('ף', 6), ('艾', 79), ('菖', 20), ('粧', 58), ('醍', 54), ('醐', 53), ('祛', 2), ('痰', 13), ('痙', 8), ('띌', 55), ('畸', 10), ('闢', 44), ('渦', 35), ('哨', 50), ('鏑', 14), ('♥', 68), ('깼', 410), ('肆', 28), ('섐', 104), ('葡', 47), ('萄', 37), ('桿', 11), ('簇', 11), ('鈸', 3), ('懶', 45), ('暲', 9), ('漣', 72), ('／', 184), ('ふ', 203), ('牡', 87), ('⑨', 36), ('⑩', 27), ('⑪', 17), ('⑫', 14), ('肥', 180), ('潢', 33), ('嵌', 96), ('塼', 66), ('乇', 4), ('粗', 47), ('碎', 33), ('屑', 12), ('㎱', 3), ('賠', 18), ('뙤', 5), ('薔', 23), ('薇', 60), ('榴', 35), ('芷', 6), ('揷', 50), ('뇔', 2), ('횰', 2), ('ḓ', 3), ('े', 30), ('ा', 116), ('ल', 29), ('跳', 33), ('읻', 17), ('쭘', 4), ('붑', 60), ('퀭', 5), ('ແ', 1), ('ຂ', 1), ('ວ', 12), ('ງ', 12), ('ນ', 29), ('ະ', 39), ('ຄ', 2), ('ອ', 11), ('ຫ', 11), ('ລ', 12), ('ķ', 6), ('〜', 397), ('ņ', 43), ('ė', 59), ('궜', 42), ('枓', 31), ('煜', 60), ('쳬', 24), ('俳', 51), ('岑', 129), ('匹', 49), ('瓮', 10), ('隩', 3), ('喙', 11), ('靡', 31), ('楨', 61), ('鵲', 36), ('鷲', 67), ('枚', 39), ('喘', 2), ('ἅ', 2), ('痘', 30), ('瘡', 40), ('媽', 11), ('痔', 5), ('碍', 85), ('礙', 131), ('躁', 9), ('њ', 10), ('힛', 120), ('渫', 13), ('ţ', 37), ('윰', 103), ('ħ', 37), ('М', 333), ('먄', 79), ('짯', 12), ('淹', 16), ('荇', 22), ('罹', 4), ('沫', 54), ('癌', 42), ('묫', 10), ('蒡', 1), ('苞', 74), ('腎', 46), ('淋', 15), ('痳', 1), ('疱', 9), ('疹', 30), ('ʃ', 56), ('촙', 33), ('켕', 82), ('佝', 1), ('僂', 2), ('膝', 37), ('蟯', 3), ('暫', 19), ('懲', 43), ('崒', 1), ('鑄', 148), ('떽', 4), ('劭', 13), ('齡', 340), ('穎', 65), ('欠', 31), ('逋', 8), ('怡', 127), ('삥', 21), ('哉', 94), ('艸', 13), ('朞', 26), ('蔣', 231), ('昻', 51), ('琬', 63), ('璇', 43), ('毆', 12), ('炁', 2), ('筮', 27), ('懐', 46), ('釈', 20), ('劫', 72), ('顗', 39), ('譬', 18), ('橡', 16), ('槪', 79), ('劣', 55), ('剖', 31), ('顎', 40), ('伸', 156), ('翔', 136), ('帙', 19), ('瓿', 5), ('藁', 51), ('蝟', 12), ('뉼', 41), ('遙', 73), ('竺', 113), ('猿', 112), ('眷', 30), ('욈', 5), ('猥', 4), ('懺', 91), ('뭥', 1), ('™', 64), ('儡', 16), ('冽', 5), ('翻', 24), ('룟', 10), ('탸', 265), ('㎐', 11), ('뷘', 71), ('猛', 135), ('옘', 82), ('戲', 37), ('̍', 4), ('넗', 3), ('粱', 14), ('\\U000f0854', 49), ('\\U000f0855', 49), ('互', 127), ('碼', 11), ('쓱', 29), ('Ⅳ', 71), ('戴', 245), ('핬', 12), ('Ţ', 2), ('ă', 226), ('頻', 31), ('겜', 177), ('Д', 197), ('钱', 14), ('ै', 5), ('പ', 2), ('ണ', 1), ('ം', 1), ('ṁ', 5), ('ө', 53), ('ề', 30), ('웩', 95), ('讎', 9), ('풰', 19), ('驥', 55), ('瞋', 331), ('瀾', 27), ('猷', 61), ('曾', 315), ('鬚', 21), ('慾', 50), ('愈', 52), ('顥', 47), ('隻', 11), ('씁', 106), ('歪', 15), ('컥', 52), ('õ', 48), ('Ⓐ', 30), ('諜', 24), ('携', 24), ('膠', 59), ('攣', 31), ('€', 760), ('ʿ', 96), ('얖', 3), ('ㆅ', 9), ('ㆄ', 8), ('ㅹ', 7), ('ᄼ', 4), ('ᄽ', 3), ('ᅎ', 3), ('ᅔ', 4), ('ᅏ', 2), ('ᄾ', 4), ('ᄿ', 3), ('ᅐ', 4), ('ᅕ', 4), ('ᅑ', 3), ('雖', 38), ('ㅭ', 11), ('搄', 1), ('觥', 1), ('肱', 20), ('ㆊ', 7), ('ㆋ', 4), ('蟹', 45), ('彆', 4), ('漠', 60), ('솦', 2), ('㎾', 76), ('ʻ', 75), ('큽', 15), ('틍', 82), ('熟', 207), ('꽅', 5), ('潁', 84), ('횐', 11), ('栢', 148), ('瑪', 49), ('楕', 26), ('븥', 2), ('癡', 308), ('呆', 8), ('墴', 1), ('嗚', 21), ('끙', 27), ('繇', 33), ('擺', 13), ('企', 194), ('輛', 71), ('販', 32), ('燐', 38), ('扮', 25), ('ខ', 4), ('េ', 4), ('ត', 11), ('្', 23), ('얍', 75), ('ز', 117), ('ゆ', 195), ('ソ', 122), ('厲', 57), ('벛', 9), ('彅', 6), ('薙', 18), ('餌', 16), ('㎛', 63), ('룔', 82), ('吽', 13), ('哆', 17), ('哩', 16), ('㖿', 2), ('巽', 45), ('蠣', 11), ('軽', 53), ('紛', 40), ('溢', 26), ('ㆎ', 6), ('죌', 35), ('똬', 16), ('潔', 82), ('禿', 104), ('樸', 31), ('鶻', 21), ('赭', 5), ('엵', 3), ('럇', 6), ('璘', 77), ('宥', 35), ('曔', 3), ('旽', 41), ('珦', 39), ('瑈', 6), ('籬', 40), ('磐', 89), ('癩', 18), ('凌', 98), ('珣', 35), ('鞫', 26), ('誅', 48), ('寃', 77), ('晄', 1), ('澮', 67), ('娎', 2), ('乽', 5), ('琮', 80), ('桀', 23), ('峼', 1), ('墉', 20), ('졋', 6), ('淏', 14), ('讐', 27), ('洬', 2), ('犯', 201), ('⊆', 11), ('⊊', 1), ('膚', 18), ('껫', 118), ('繹', 26), ('櫓', 51), ('濡', 65), ('昑', 4), ('激', 31), ('坦', 97), ('飢', 27), ('籌', 50), ('밎', 9), ('祘', 2), ('敢', 46), ('晸', 13), ('艱', 9), ('憺', 5), ('禎', 259), ('玜', 1), ('僻', 30), ('꾿', 3), ('烉', 1), ('昪', 10), ('裀', 4), ('壙', 32), ('釐', 84), ('憐', 45), ('紗', 108), ('兢', 93), ('瞞', 15), ('俶', 17), ('濕', 81), ('伷', 12), ('杓', 129), ('챕', 316), ('Ъ', 16), ('І', 27), ('Ѥ', 1), ('Ѩ', 1), ('Ѭ', 1), ('Ї', 1), ('Ѡ', 2), ('Ѻ', 1), ('Ѹ', 2), ('Ѿ', 1), ('仟', 3), ('촹', 6), ('貘', 3), ('貔', 1), ('貅', 1), ('퇀', 26), ('Ä', 60), ('珽', 15), ('ヌ', 40), ('幌', 21), ('静', 72), ('Š', 132), ('佗', 27), ('旉', 2), ('辟', 94), ('黏', 5), ('囊', 80), ('℉', 26), ('ɾ', 28), ('ɜ', 7), ('ɡ', 34), ('웽', 94), ('ů', 20), ('Ё', 26), ('ᄉ', 6), ('ᄂ', 15), ('ᄆ', 12), ('ᆯ', 6), ('ᆨ', 5), ('ᆷ', 6), ('듸', 35), ('ᄒ', 9), ('ᇝ', 4), ('Ď', 4), ('ď', 5), ('Ľ', 7), ('ľ', 10), ('Ě', 4), ('Ĺ', 2), ('ĺ', 3), ('Ň', 3), ('Ť', 1), ('ť', 9), ('Ý', 5), ('Ŕ', 1), ('ŕ', 1), ('Ů', 4), ('Ô', 16), ('謔', 17), ('禑', 69), ('蟬', 11), ('碌', 13), ('磻', 38), ('뮹', 3), ('べ', 92), ('嫌', 32), ('鍛', 39), ('몴', 1), ('ң', 31), ('귿', 12), ('헙', 63), ('卨', 58), ('酲', 3), ('荏', 24), ('碏', 4), ('灸', 20), ('鍼', 39), ('繡', 113), ('呉', 52), ('ツ', 167), ('ハ', 241), ('ュ', 264), ('滉', 111), ('瀣', 13), ('聃', 80), ('瓆', 4), ('堣', 12), ('겊', 92), ('暇', 49), ('芑', 27), ('招', 170), ('嘆', 19), ('戡', 37), ('鼠', 45), ('逑', 44), ('檜', 116), ('擢', 18), ('顒', 33), ('晛', 9), ('濂', 79), ('羹', 13), ('墻', 49), ('맗', 2), ('隕', 18), ('Ⅸ', 9), ('Ⅹ', 6), ('Ⅷ', 6), ('駆', 18), ('埋', 78), ('퀌', 8), ('윕', 167), ('Ȝ', 3), ('뗑', 3), ('ʼ', 52), ('ġ', 20), ('گ', 29), ('塏', 12), ('擘', 7), ('璽', 105), ('礩', 12), ('劒', 39), ('崝', 1), ('催', 38), ('誰', 39), ('違', 143), ('叩', 17), ('霑', 6), ('愧', 95), ('徠', 6), ('淇', 29), ('渚', 57), ('硯', 44), ('縉', 30), ('毫', 35), ('歧', 8), ('乂', 46), ('杞', 123), ('喧', 12), ('呵', 14), ('蘖', 4), ('哭', 57), ('昨', 12), ('蝶', 57), ('咏', 7), ('棠', 38), ('郢', 48), ('樽', 26), ('陲', 2), ('錘', 61), ('语', 26), ('ニ', 382), ('ɵ', 8), ('璡', 20), ('祐', 543), ('沔', 89), ('왐', 144), ('툉', 39), ('쭝', 171), ('ủ', 14), ('ị', 73), ('ư', 236), ('ớ', 25), ('ϊ', 20), ('ξ', 114), ('Η', 31), ('Θ', 92), ('Μ', 116), ('Ξ', 23), ('Ρ', 42), ('Υ', 28), ('Ψ', 12), ('Ἰ', 8), ('Ἱ', 5), ('対', 140), ('泊', 83), ('斑', 54), ('壱', 33), ('獣', 18), ('ヒ', 101), ('バ', 295), ('ゴ', 101), ('モ', 256), ('舶', 43), ('え', 475), ('鶏', 26), ('旧', 67), ('鍬', 2), ('鉱', 6), ('酘', 2), ('鎮', 203), ('槻', 15), ('弐', 80), ('庁', 73), ('党', 158), ('応', 166), ('葳', 11), ('糠', 16), ('済', 77), ('従', 120), ('酊', 12), ('禅', 57), ('検', 71), ('鈍', 25), ('詰', 25), ('芋', 21), ('尽', 10), ('騒', 24), ('厳', 72), ('廃', 14), ('潴', 5), ('税', 24), ('繙', 3), ('ὅ', 9), ('큉', 37), ('뎐', 68), ('昶', 81), ('뭡', 15), ('蛟', 14), ('Ы', 19), ('Э', 50), ('Й', 24), ('ж', 208), ('騏', 17), ('נ', 55), ('闓', 11), ('擒', 4), ('楙', 9), ('郃', 25), ('謖', 10), ('郝', 27), ('擁', 22), ('矜', 11), ('惇', 74), ('岱', 50), ('鄴', 92), ('脾', 11), ('蒯', 18), ('瑁', 37), ('琦', 94), ('璝', 7), ('緜', 9), ('恂', 70), ('蓼', 21), ('冏', 18), ('掾', 94), ('虔', 46), ('邽', 23), ('蛾', 8), ('翅', 40), ('渢', 2), ('彊', 71), ('麴', 49), ('歆', 37), ('洮', 31), ('隴', 88), ('枹', 13), ('罕', 49), ('柝', 2), ('郪', 4), ('Ⅶ', 18), ('겝', 9), ('씸', 58), ('쿱', 128), ('劾', 28), ('웟', 18), ('痕', 18), ('硅', 28), ('綜', 188), ('ὁ', 32), ('籃', 8), ('酵', 40), ('ヤ', 128), ('醱', 13), ('榜', 124), ('蔗', 8), ('ख', 6), ('ण', 13), ('ड', 8), ('溜', 25), ('馥', 52), ('¸', 5), ('Û', 6), ('嶠', 42), ('槍', 84), ('ろ', 229), ('！', 119), ('膾', 8), ('渭', 113), ('꽌', 45), ('拼', 11), ('ʲ', 61), ('ɕ', 19), ('薊', 42), ('‰', 92), ('滬', 12), ('许', 5), ('霧', 86), ('隠', 45), ('櫃', 28), ('筧', 3), ('뎬', 314), ('畝', 38), ('頁', 3), ('큠', 8), ('獬', 5), ('廌', 1), ('豸', 4), ('奸', 82), ('벧', 26), ('〃', 11), ('⁄', 33), ('츅', 2), ('ф', 116), ('כ', 45), ('ῦ', 42), ('쌩', 61), ('묀', 308), ('飴', 7), ('爽', 54), ('沘', 23), ('勣', 47), ('愷', 35), ('麾', 8), ('尒', 16), ('肹', 9), ('賻', 33), ('鉗', 14), ('侃', 63), ('戍', 35), ('폽', 28), ('ḏ', 18), ('숌', 29), ('쯕', 42), ('팹', 136), ('Ώ', 1), ('児', 69), ('빰', 56), ('뽄', 12), ('‚', 100), ('⌀', 3), ('∅', 3), ('唾', 10), ('ṯ', 16), ('寡', 57), ('箇', 22), ('鑰', 6), ('琛', 71), ('昺', 12), ('筠', 54), ('侮', 49), ('泓', 76), ('鋏', 7), ('隄', 10), ('熻', 1), ('煒', 21), ('谕', 1), ('絪', 9), ('詗', 4), ('틋', 107), ('ᆖ', 3), ('ᆜ', 3), ('읒', 8), ('읓', 5), ('졩', 1), ('ᅌ', 7), ('ᇰ', 7), ('읏', 14), ('ᅀ', 5), ('ᅵ', 2), ('ᇫ', 3), ('ざ', 73), ('ᅡ', 5), ('穰', 45), ('〮', 4), ('〯', 1), ('鄉', 41), ('膣', 9), ('죗', 12), ('츈', 55), ('疊', 27), ('쎅', 7), ('∃', 6), ('ㄺ', 13), ('ㄼ', 11), ('̃', 39), ('冗', 10), ('ス', 1043), ('强', 159), ('욧', 217), ('錚', 22), ('馮', 177), ('錕', 9), ('孚', 77), ('霖', 86), ('辉', 6), ('왬', 23), ('籙', 7), ('玖', 32), ('怙', 2), ('ĭ', 7), ('큄', 41), ('＆', 76), ('焦', 59), ('粛', 19), ('邁', 33), ('婉', 24), ('鄂', 56), ('繍', 8), ('彪', 72), ('緝', 37), ('叡', 79), ('妊', 18), ('錐', 39), ('톄', 120), ('满', 24), ('鲜', 10), ('锡', 8), ('侗', 11), ('畲', 4), ('傣', 4), ('颇', 2), ('孜', 17), ('仫', 3), ('佬', 4), ('仡', 3), ('伦', 10), ('珞', 31), ('咄', 31), ('扑', 3), ('戏', 6), ('撩', 1), ('拔', 113), ('喇', 45), ('嘛', 5), ('关', 34), ('爷', 3), ('灶', 6), ('硕', 10), ('郑', 9), ('亲', 7), ('ㆉ', 4), ('貯', 45), ('硼', 8), ('₣', 2), ('騷', 32), ('翟', 129), ('扁', 64), ('珏', 39), ('醴', 109), ('霓', 19), ('栱', 13), ('覃', 17), ('秭', 10), ('穿', 32), ('汕', 35), ('ゅ', 128), ('嬖', 9), ('§', 84), ('ח', 52), ('ֹ', 34), ('ḍ', 19), ('أ', 142), ('ض', 25), ('為', 192), ('弧', 65), ('ϝ', 2), ('ʹ', 14), ('ϛ', 2), ('ϟ', 2), ('ϡ', 2), ('⋀', 1), ('⋁', 1), ('쫙', 12), ('ᗐ', 2), ('Ɔ', 7), ('ↀ', 3), ('̯', 19), ('믜', 7), ('볘', 22), ('녓', 79), ('ế', 140), ('ứ', 29), ('ắ', 28), ('棍', 23), ('퓐', 52), ('但', 31), ('讃', 44), ('鎚', 11), ('浴', 81), ('録', 108), ('絡', 53), ('鑞', 5), ('霹', 10), ('靂', 7), ('柘', 8), ('釵', 16), ('釧', 17), ('淝', 17), ('賃', 43), ('萇', 28), ('蕙', 46), ('攬', 10), ('袋', 44), ('〇', 20), ('卄', 5), ('廾', 1), ('腆', 17), ('碟', 4), ('굄', 67), ('먾', 1), ('བ', 76), ('ཀ', 13), ('ྲ', 37), ('་', 322), ('ཤ', 8), ('ི', 67), ('ས', 94), ('ཆ', 8), ('ོ', 85), ('ར', 67), ('ྫ', 2), ('ང', 41), ('樋', 17), ('舎', 62), ('渋', 52), ('瑋', 38), ('雋', 17), ('弊', 48), ('濚', 14), ('潗', 14), ('埈', 71), ('芮', 62), ('鈔', 38), ('긱', 201), ('姻', 33), ('姙', 30), ('蔭', 173), ('鯉', 30), ('恆', 29), ('縫', 20), ('沌', 13), ('Ш', 78), ('袞', 46), ('屎', 13), ('棄', 78), ('됴', 40), ('̞', 4), ('ぢ', 24), ('ʒ', 33), ('敱', 2), ('氐', 42), ('頥', 2), ('珈', 4), ('琲', 3), ('鋸', 20), ('삔', 28), ('あ', 603), ('ゑ', 17), ('刃', 29), ('瞰', 16), ('Ś', 65), ('匿', 21), ('ब', 18), ('ो', 15), ('ध', 15), ('پ', 45), ('롣', 1), ('볈', 1), ('驚', 46), ('蟄', 6), ('ک', 48), ('ﺓ', 2), ('氹', 3), ('ㅺ', 6), ('⊃', 3), ('纛', 16), ('禾', 93), ('杻', 9), ('욺', 6), ('鳧', 10), ('荑', 9), ('繒', 10), ('Ѫ', 1), ('Ѣ', 2), ('Ã', 8), ('Í', 45), ('瀨', 28), ('狎', 16), ('✓', 1), ('꽆', 5), ('⁻', 9), ('弛', 11), ('弑', 14), ('諮', 34), ('筏', 25), ('㎚', 10), ('آ', 31), ('\\u200c', 13), ('خ', 63), ('솀', 101), ('뵤', 220), ('ℤ', 23), ('楮', 59), ('嚆', 6), ('棧', 25), ('顫', 11), ('䀹', 2), ('夾', 58), ('㚒', 6), ('鿃', 2), ('⋯', 3), ('≈', 56), ('鞅', 15), ('凹', 40), ('㎲', 3), ('ẞ', 6), ('셤', 158), ('♇', 1), ('閻', 120), ('ơ', 147), ('옯', 17), ('雯', 8), ('봍', 2), ('넢', 4), ('陂', 53), ('烟', 41), ('☧', 3), ('겇', 5), ('횝', 1), ('♒', 2), ('♈', 1), ('亢', 23), ('♑', 2), ('♊', 1), ('♌', 1), ('秤', 31), ('♎', 2), ('♓', 2), ('♐', 2), ('♏', 2), ('♉', 1), ('昴', 7), ('뎁', 147), ('騫', 14), ('漬', 27), ('牀', 9), ('㎑', 190), ('莖', 80), ('⅖', 1), ('ὴ', 26), ('槽', 52), ('捲', 20), ('鸞', 76), ('蕆', 13), ('廩', 14), ('囹', 3), ('圄', 3), ('崧', 19), ('澣', 24), ('濯', 53), ('鰌', 3), ('鰒', 5), ('蛤', 22), ('皿', 10), ('쎙', 3), ('攪', 15), ('汨', 5), ('捊', 2), ('麪', 4), ('蕫', 1), ('ܡ', 10), ('ܪ', 12), ('ܝ', 13), ('琰', 53), ('璬', 1), ('曌', 3), ('璵', 12), ('嵬', 6), ('罌', 6), ('蒴', 6), ('맟', 25), ('礁', 30), ('艮', 54), ('脇', 71), ('唎', 16), ('鑪', 13), ('探', 181), ('滯', 33), ('苧', 32), ('据', 7), ('熬', 3), ('鰲', 56), ('ʰ', 21), ('͈', 4), ('떫', 61), ('ĸ', 2), ('荼', 19), ('煮', 16), ('덖', 20), ('揉', 3), ('萎', 9), ('渥', 23), ('鮨', 2), ('醢', 14), ('ẓ', 11), ('닸', 3), ('釦', 2), ('楪', 6), ('宏', 183), ('칰', 2), ('麓', 50), ('쓿', 2), ('筰', 5), ('蠟', 30), ('晷', 37), ('？', 138), ('邇', 42), ('稔', 21), ('聡', 21), ('暉', 96), ('拿', 21), ('穌', 3), ('¿', 13), ('ص', 55), ('ء', 41), ('暾', 29), ('澈', 155), ('狐', 72), ('뼛', 79), ('阜', 156), ('끎', 17), ('掛', 166), ('倚', 31), ('∑', 1), ('肤', 1), ('ɲ', 14), ('ર', 2), ('જ', 2), ('હ', 2), ('ૂ', 1), ('ી', 1), ('ૃ', 1), ('樔', 1), ('噴', 43), ('閃', 18), ('뇜', 1), ('糲', 2), ('⑸', 11), ('Ғ', 6), ('ғ', 4), ('З', 93), ('Л', 175), ('Ң', 4), ('Ө', 10), ('Ӯ', 1), ('ӯ', 2), ('Ү', 9), ('ү', 42), ('Ф', 93), ('Ҳ', 2), ('ҳ', 7), ('Ҷ', 3), ('ҷ', 3), ('ъ', 134), ('Ӣ', 3), ('ӣ', 2), ('Қ', 13), ('짇', 39), ('苅', 5), ('♆', 1), ('켁', 104), ('ḫ', 16), ('ǧ', 18), ('Ḥ', 29), ('إ', 40), ('셑', 3), ('俘', 29), ('걲', 7), ('∎', 3), ('\\u2009', 52), ('È', 21), ('갼', 14), ('㎒', 556), ('㎓', 7), ('ḇ', 6), ('믾', 3), ('щ', 84), ('펍', 166), ('냑', 174), ('欧', 18), ('욌', 1), ('蓄', 34), ('叉', 105), ('늴', 12), ('蟣', 1), ('虱', 2), ('穬', 1), ('섄', 48), ('แ', 41), ('ม', 85), ('่', 60), ('น', 143), ('้', 50), ('ำ', 26), ('鉃', 4), ('プ', 247), ('営', 42), ('び', 160), ('ロ', 425), ('∴', 18), ('ḱ', 3), ('ǵ', 4), ('ʷ', 15), ('齵', 1), ('診', 28), ('瘍', 26), ('莞', 86), ('땋', 80), ('倬', 33), ('萌', 63), ('흗', 13), ('湛', 123), ('撑', 13), ('踞', 7), ('麝', 12), ('熔', 14), ('팼', 19), ('篁', 7), ('拱', 71), ('螢', 17), ('鴛', 11), ('鴦', 19), ('泠', 15), ('榧', 6), ('蟠', 22), ('磧', 14), ('麽', 2), ('뤠', 16), ('＇', 54), ('茯', 7), ('鵑', 7), ('Î', 27), ('뿡', 11), ('瓊', 133), ('繆', 40), ('彛', 51), ('醜', 49), ('寥', 6), ('澾', 2), ('瑾', 81), ('쮸', 45), ('䄉', 1), ('禟', 4), ('欺', 32), ('狴', 1), ('愿', 18), ('涇', 50), ('掖', 50), ('势', 9), ('迭', 17), ('鞘', 17), ('鍋', 54), ('鬃', 3), ('챵', 18), ('婿', 11), ('崆', 2), ('峒', 7), ('逵', 57), ('研', 95), ('併', 6), ('屍', 66), ('圣', 7), ('无', 40), ('设', 9), ('没', 19), ('话', 16), ('昼', 5), ('盘', 6), ('卢', 10), ('炉', 11), ('忧', 4), ('鬧', 8), ('闹', 3), ('发', 24), ('∋', 1), ('៧', 2), ('២', 3), ('詝', 2), ('姨', 13), ('祜', 61), ('漪', 14), ('薈', 12), ('冒', 58), ('亶', 36), ('珅', 5), ('歹', 10), ('믄', 83), ('牲', 53), ('詛', 7), ('嫩', 14), ('緑', 25), ('\\u2003', 6), ('ǎ', 60), ('饅', 21), ('廚', 23), ('饌', 31), ('녑', 9), ('ʾ', 40), ('辖', 5), ('拟', 1), ('查', 16), ('臍', 6), ('ย', 59), ('ไ', 24), ('ข', 25), ('ด', 49), ('ง', 95), ('桜', 74), ('瀆', 25), ('ُ', 46), ('ِ', 51), ('ذ', 45), ('َ', 120), ('斉', 64), ('埕', 4), ('띵', 73), ('캑', 36), ('剣', 49), ('炫', 110), ('댠', 16), ('☆', 983), ('亻', 6), ('陞', 73), ('蕓', 9), ('鮑', 53), ('仗', 30), ('춍', 15), ('㎈', 6), ('ɫ', 4), ('엤', 4), ('∨', 20), ('¬', 31), ('数', 67), ('∧', 18), ('⇔', 16), ('휀', 15), ('®', 115), ('ゃ', 224), ('썻', 28), ('ぁ', 38), ('ゼ', 49), ('ョ', 165), ('エ', 282), ('產', 34), ('த', 12), ('ம', 20), ('ி', 30), ('ழ', 1), ('்', 62), ('ப', 20), ('ெ', 4), ('ண', 5), ('ட', 12), ('ர', 33), ('ே', 6), ('ஏ', 1), ('ஃ', 2), ('க', 13), ('ல', 9), ('ṉ', 3), ('ன', 15), ('ṟ', 1), ('ற', 3), ('ḻ', 4), ('வ', 9), ('ா', 18), ('ந', 9), ('ய', 9), ('ள', 6), ('இ', 3), ('ை', 6), ('அ', 1), ('ொ', 1), ('ு', 15), ('ூ', 3), ('ḷ', 5), ('炙', 16), ('骼', 2), ('퓸', 80), ('砍', 1), ('猇', 10), ('驤', 61), ('ギ', 96), ('왱', 12), ('膳', 57), ('刈', 20), ('闇', 36), ('ぞ', 62), ('돟', 6), ('뤵', 1), ('Ē', 12), ('뒴', 41), ('밨', 2), ('멉', 3), ('幇', 18), ('툠', 45), ('瑭', 29), ('肄', 9), ('銓', 111), ('澍', 33), ('耔', 7), ('返', 44), ('塢', 21), ('瀟', 25), ('灑', 16), ('冤', 9), ('몔', 1), ('츳', 39), ('錬', 13), ('偽', 14), ('咎', 29), ('뗬', 3), ('銭', 40), ('偃', 65), ('邳', 34), ('곗', 25), ('뻥', 61), ('閹', 1), ('惜', 35), ('■', 1307), ('皓', 106), ('綝', 24), ('𩅦', 7), ('𩃙', 4), ('壾', 2), ('𠅨', 4), ('俅', 9), ('昚', 4), ('侂', 7), ('藺', 17), ('錮', 41), ('厓', 33), ('屠', 186), ('榕', 11), ('ポ', 102), ('∩', 41), ('★', 495), ('◆', 83), ('⋂', 1), ('∪', 22), ('∖', 1), ('赣', 3), ('紆', 18), ('它', 6), ('馹', 44), ('蔬', 12), ('戮', 18), ('慇', 5), ('湫', 22), ('쳥', 21), ('璐', 7), ('붸', 15), ('쌤', 35), ('☉', 4), ('क', 44), ('ी', 52), ('듄', 159), ('츌', 6), ('뢸', 96), ('鉀', 8), ('곂', 3), ('椵', 10), ('拷', 6), ('摯', 52), ('嗹', 1), ('熾', 74), ('姿', 21), ('繧', 1), ('繝', 1), ('縁', 28), ('畳', 3), ('頬', 1), ('残', 11), ('雇', 61), ('묑', 26), ('奠', 73), ('嵎', 7), ('毁', 40), ('☷', 3), ('☶', 3), ('☵', 3), ('☴', 3), ('☳', 3), ('☲', 3), ('☱', 3), ('☰', 4), ('箋', 85), ('◦', 76), ('췐', 15), ('️', 22), ('湊', 29), ('Ӄ', 1), ('ӄ', 10), ('Ӈ', 2), ('ӈ', 5), ('军', 43), ('拌', 8), ('ญ', 6), ('ล', 50), ('ภ', 19), ('า', 211), ('ษ', 17), ('ช', 44), ('ๆ', 3), ('粕', 8), ('芙', 53), ('薬', 60), ('츤', 100), ('♂', 50), ('嫉', 51), ('妒', 6), ('麼', 8), ('抹', 37), ('뽈', 18), ('쉭', 18), ('컽', 13), ('떵', 36), ('쏭', 62), ('อ', 93), ('เ', 80), ('ต', 60), ('캎', 1), ('ǂ', 17), ('툐', 41), ('栄', 93), ('緒', 48), ('Ż', 20), ('Ć', 13), ('Ź', 7), ('쎴', 1), ('妥', 27), ('購', 16), ('肸', 5), ('膏', 29), ('曙', 79), ('儂', 13), ('얐', 6), ('碻', 2), ('貳', 52), ('ἶ', 2), ('鵬', 142), ('祕', 57), ('誹', 5), ('訕', 2), ('讒', 13), ('韌', 2), ('頹', 23), ('浹', 17), ('兑', 4), ('該', 33), ('怯', 17), ('貌', 37), ('滄', 95), ('鶯', 26), ('뚧', 11), ('焰', 50), ('驕', 21), ('淞', 10), ('狠', 3), ('솰', 1), ('沂', 70), ('췰', 3), ('頫', 9), ('昂', 22), ('絢', 14), ('ぺ', 12), ('澁', 27), ('秩', 108), ('淙', 20), ('积', 4), ('睨', 5), ('泛', 22), ('ƒ', 47), ('瞬', 19), ('윘', 2), ('ᑭ', 1), ('ᓯ', 2), ('ᐢ', 1), ('ᑳ', 1), ('ᒋ', 1), ('ᐘ', 1), ('ᓂ', 1), ('ᐱ', 1), ('ᐩ', 1), ('烋', 17), ('菅', 84), ('毖', 17), ('逃', 37), ('陌', 7), ('ケ', 154), ('껌', 231), ('뉨', 17), ('湄', 17), ('鴉', 28), ('🄓', 1), ('ቀ', 3), ('ይ', 5), ('ሕ', 6), ('ባ', 1), ('ሪ', 3), ('툅', 1), ('뎨', 22), ('茲', 24), ('罽', 8), ('몉', 1), ('獞', 2), ('犭', 2), ('僮', 22), ('岛', 47), ('禺', 10), ('怀', 8), ('钦', 6), ('圳', 26), ('儋', 13), ('贛', 20), ('粤', 14), ('蝨', 9), ('湞', 4), ('粥', 21), ('埔', 53), ('쭌', 62), ('连', 16), ('胶', 8), ('蓝', 10), ('兖', 5), ('牆', 22), ('潍', 1), ('濰', 5), ('亳', 23), ('隶', 4), ('皖', 20), ('滇', 15), ('跤', 1), ('爨', 9), ('棣', 22), ('煬', 58), ('鸟', 2), ('职', 4), ('漳', 38), ('厦', 41), ('詹', 92), ('聿', 10), ('栲', 4), ('甌', 11), ('鹅', 2), ('獼', 2), ('髭', 5), ('铸', 1), ('玻', 3), ('蜡', 3), ('砖', 2), ('压', 4), ('电', 104), ('癀', 1), ('莆', 9), ('巷', 54), ('誼', 89), ('勗', 23), ('沧', 3), ('厂', 9), ('丰', 24), ('宽', 2), ('围', 12), ('滦', 6), ('缕', 1), ('评', 4), ('剧', 10), ('绥', 17), ('冯', 4), ('陆', 13), ('两', 17), ('№', 16), ('쩬', 15), ('匯', 17), ('佘', 7), ('嘴', 14), ('窩', 115), ('澱', 12), ('쌴', 4), ('죵', 10), ('扒', 4), ('实', 10), ('验', 3), ('㎎', 32), ('汐', 22), ('팃', 64), ('ว', 64), ('쑷', 1), ('쌋', 11), ('낏', 33), ('\\u202f', 17), ('銶', 3), ('矮', 23), ('穹', 24), ('远', 10), ('犁', 33), ('绪', 4), ('杨', 35), ('缵', 1), ('锐', 1), ('专', 34), ('盈', 119), ('遯', 27), ('敖', 53), ('簾', 36), ('哪', 18), ('吒', 32), ('睛', 4), ('觔', 1), ('箍', 1), ('姮', 4), ('釘', 26), ('鈀', 7), ('霄', 16), ('뼉', 34), ('ू', 15), ('ờ', 61), ('ỏ', 5), ('肪', 26), ('뱟', 11), ('흭', 21), ('륑', 28), ('겍', 18), ('轍', 75), ('튄', 71), ('橢', 2), ('珂', 20), ('譽', 32), ('硝', 27), ('฿', 1), ('猊', 4), ('묭', 5), ('乗', 43), ('ظ', 18), ('贝', 8), ('欢', 11), ('妮', 15), ('你', 85), ('咱', 1), ('舛', 3), ('杋', 2), ('繭', 5), ('択', 9), ('휫', 66), ('豈', 17), ('縶', 2), ('贍', 43), ('潾', 18), ('婷', 6), ('襦', 11), ('瑊', 7), ('杠', 4), ('駙', 68), ('묏', 25), ('輊', 2), ('⧵', 1), ('ℝ', 18), ('勲', 66), ('某', 80), ('岔', 4), ('擐', 1), ('녈', 10), ('郅', 9), ('羯', 22), ('鞮', 38), ('雒', 40), ('邙', 11), ('奄', 19), ('兗', 53), ('둏', 1), ('봔', 2), ('謳', 3), ('𐤀', 2), ('𐤂', 1), ('ℛ', 3), ('ℳ', 5), ('ﻱ', 1), ('몆', 21), ('垕', 25), ('堧', 10), ('磬', 21), ('汲', 47), ('縡', 14), ('閘', 14), ('灃', 15), ('慘', 28), ('죔', 10), ('栮', 3), ('ᅄ', 7), ('ᅋ', 7), ('랼', 16), ('\\u200f', 9), ('ڈ', 1), ('ى', 71), ('ਲ', 2), ('ਾ', 2), ('ਹ', 1), ('ੌ', 1), ('ਰ', 3), ('媤', 10), ('읃', 5), ('ᇚ', 11), ('몌', 24), ('겿', 4), ('処', 31), ('잋', 3), ('困', 29), ('鸕', 2), ('麁', 12), ('隈', 32), ('杙', 5), ('悰', 21), ('竜', 76), ('戯', 10), ('딨', 31), ('ज', 27), ('ु', 40), ('₨', 1), ('舆', 5), ('坼', 3), ('剋', 28), ('ृ', 6), ('쌰', 11), ('ट', 8), ('ह', 21), ('़', 7), ('Ñ', 14), ('恋', 90), ('裙', 42), ('簪', 17), ('墺', 10), ('ĩ', 35), ('‣', 9), ('Ｅ', 6), ('쟤', 11), ('힜', 2), ('Ἕ', 4), ('Ἔ', 7), ('व', 37), ('ग', 34), ('अ', 13), ('悦', 12), ('璦', 2), ('闡', 46), ('Щ', 19), ('밂', 47), ('胖', 17), ('拳', 259), ('�', 7), ('ᅇ', 2), ('駅', 107), ('卐', 2), ('펏', 30), ('澶', 16), ('暦', 124), ('冑', 36), ('挙', 34), ('叙', 40), ('¾', 8), ('翹', 13), ('ῳ', 6), ('ῷ', 4), ('ῴ', 4), ('ὸ', 29), ('带', 6), ('ワ', 180), ('ペ', 65), ('涙', 19), ('匂', 7), ('ぬ', 107), ('װ', 1), ('ײ', 1), ('ז', 42), ('砕', 5), ('耉', 53), ('禋', 1), ('杰', 61), ('壎', 17), ('彤', 10), ('瀉', 16), ('枰', 31), ('暠', 20), ('頔', 17), ('姆', 9), ('梔', 3), ('瑤', 54), ('泟', 4), ('殤', 32), ('闊', 23), ('磾', 14), ('俁', 5), ('晧', 22), ('旼', 59), ('禳', 4), ('晫', 7), ('碓', 9), ('韺', 1), ('珹', 11), ('祦', 4), ('菙', 1), ('皞', 9), ('竩', 12), ('歟', 7), ('倎', 7), ('淐', 10), ('昛', 1), ('諶', 54), ('賰', 2), ('忙', 9), ('顏', 27), ('胝', 6), ('佇', 25), ('賄', 5), ('賂', 18), ('徭', 13), ('絵', 84), ('戻', 8), ('윟', 3), ('뉵', 10), ('閲', 6), ('覧', 31), ('珊', 30), ('瑚', 40), ('Ә', 9), ('１', 45), ('６', 9), ('퍄', 89), ('髪', 27), ('엶', 5), ('囃', 8), ('瘦', 13), ('⑹', 6), ('⑺', 6), ('⑻', 5), ('⑼', 3), ('⑽', 3), ('⑾', 2), ('⑿', 2), ('欖', 14), ('▪', 43), ('沁', 26), ('ʔ', 28), ('覚', 65), ('鎗', 4), ('笞', 18), ('翕', 35), ('頀', 4), ('ӹ', 2), ('げ', 134), ('긷', 18), ('麦', 7), ('杢', 4), ('逞', 13), ('溺', 4), ('単', 14), ('徇', 6), ('飫', 4), ('夔', 39), ('庆', 18), ('柠', 1), ('吞', 3), ('暨', 8), ('师', 17), ('贸', 7), ('农', 11), ('闐', 11), ('曠', 24), ('惶', 9), ('逕', 5), ('냠', 79), ('솬', 15), ('鮫', 9), ('鯊', 3), ('躄', 1), ('ồ', 52), ('嵩', 76), ('棗', 43), ('矯', 77), ('宛', 77), ('詡', 34), ('庠', 13), ('陇', 5), ('汴', 37), ('寑', 1), ('觉', 4), ('俭', 1), ('츙', 4), ('萃', 14), ('璥', 22), ('佃', 26), ('昞', 19), ('苣', 2), ('蕂', 1), ('嵛', 2), ('楂', 1), ('㎜', 51), ('㏖', 2), ('紐', 19), ('軀', 38), ('菓', 29), ('惣', 40), ('쥠', 15), ('滔', 12), ('梟', 34), ('賚', 24), ('棨', 25), ('貂', 17), ('裘', 6), ('舅', 46), ('坑', 53), ('鬐', 10), ('拯', 48), ('烇', 11), ('搏', 30), ('쉡', 3), ('Ӏ', 19), ('ț', 24), ('毎', 31), ('輻', 19), ('霽', 61), ('祷', 4), ('鈿', 20), ('猨', 2), ('独', 45), ('禊', 7), ('装', 47), ('襠', 3), ('喫', 7), ('摺', 18), ('⌛', 1), ('줴', 43), ('磯', 55), ('晁', 28), ('陷', 27), ('佰', 18), ('佺', 27), ('틑', 12), ('읠', 8), ('휏', 2), ('픕', 6), ('晳', 42), ('薫', 14), ('铉', 1), ('㼁', 4), ('⇄', 7), ('慄', 45), ('暮', 44), ('嶸', 12), ('劔', 1), ('幟', 15), ('薲', 2), ('諄', 13), ('筳', 1), ('暹', 80), ('鏤', 9), ('⇌', 7), ('₁', 8), ('鹷', 1), ('▶', 53), ('懼', 19), ('鼗', 1), ('薺', 16), ('헸', 13), ('喃', 3), ('梪', 3), ('偵', 45), ('檍', 16), ('瑗', 52), ('諒', 40), ('珩', 47), ('璟', 74), ('霙', 7), ('劤', 1), ('孺', 55), ('ⓜ', 2), ('膓', 1), ('鷰', 10), ('苻', 114), ('窯', 135), ('귬', 34), ('价', 24), ('剃', 7), ('捜', 10), ('渕', 10), ('놰', 2), ('룝', 52), ('瞎', 2), ('ў', 12), ('５', 18), ('曝', 12), ('ᄅ', 9), ('낛', 1), ('輦', 51), ('穩', 44), ('羨', 35), ('俵', 5), ('歎', 38), ('洸', 25), ('茹', 13), ('迥', 12), ('邗', 8), ('蛹', 3), ('됀', 7), ('肜', 8), ('荅', 7), ('皂', 9), ('渪', 1), ('彘', 10), ('頎', 16), ('孥', 3), ('頡', 25), ('狛', 9), ('驃', 32), ('麤', 74), ('臂', 35), ('腳', 15), ('Ğ', 6), ('祢', 6), ('寔', 51), ('墮', 27), ('薯', 14), ('篩', 6), ('ḳ', 2), ('ܕ', 7), ('ܣ', 5), ('ܘ', 8), ('ܩ', 2), ('尭', 6), ('檎', 6), ('枉', 5), ('盖', 29), ('읺', 8), ('鞑', 1), ('읔', 8), ('♮', 3), ('孛', 23), ('个', 16), ('奐', 46), ('侶', 38), ('륩', 8), ('綵', 16), ('暈', 7), ('膨', 20), ('脹', 14), ('꾜', 8), ('櫻', 24), ('磚', 8), ('慌', 14), ('ї', 22), ('꽈', 106), ('舵', 11), ('穂', 64), ('藿', 15), ('굣', 16), ('乍', 2), ('猩', 7), ('큹', 1), ('閒', 24), ('탼', 13), ('耄', 2), ('耋', 5), ('牘', 16), ('鄰', 31), ('祔', 21), ('綃', 17), ('밪', 10), ('甎', 1), ('躬', 26), ('厠', 8), ('摛', 4), ('轎', 16), ('饔', 54), ('偰', 66), ('꼇', 2), ('∵', 2), ('勖', 16), ('澀', 3), ('諳', 3), ('劄', 2), ('昃', 1), ('倅', 3), ('颭', 1), ('堇', 6), ('圉', 35), ('赧', 3), ('瘠', 4), ('黧', 1), ('侏', 4), ('耘', 27), ('牴', 1), ('懣', 2), ('兀', 56), ('朮', 7), ('靨', 1), ('溲', 2), ('謾', 8), ('謌', 1), ('騃', 1), ('賽', 18), ('銳', 31), ('闍', 27), ('槌', 5), ('桉', 1), ('孰', 20), ('硃', 4), ('盞', 32), ('蒂', 3), ('仝', 38), ('舉', 57), ('跆', 13), ('∫', 5), ('鬲', 6), ('鬹', 1), ('櫶', 18), ('秊', 18), ('凯', 18), ('鮓', 1), ('贓', 11), ('釀', 16), ('皼', 1), ('‒', 2), ('芦', 18), ('ǔ', 21), ('싈', 2), ('◇', 48), ('▷', 37), ('璠', 19), ('∀', 31), ('㎝', 943), ('２', 47), ('３', 28), ('Ｖ', 10), ('Ｍ', 74), ('８', 6), ('７', 10), ('Ｒ', 8), ('Ｘ', 9), ('９', 7), ('ｋ', 2), ('Ｇ', 4), ('Ɵ', 4), ('姒', 22), ('皋', 24), ('ⁿ', 15), ('秕', 2), ('畯', 14), ('뎰', 4), ('Ř', 8), ('녤', 57), ('餉', 19), ('қ', 17), ('ĕ', 13), ('ベ', 126), ('հ', 14), ('ա', 140), ('յ', 30), ('ե', 58), ('ր', 80), ('ն', 80), ('ث', 36), ('쑬', 8), ('і', 113), ('偕', 17), ('珤', 4), ('壕', 32), ('롑', 2), ('琹', 1), ('灝', 39), ('柞', 7), ('ċ', 10), ('𪸛', 3), ('啟', 16), ('擎', 36), ('畧', 7), ('ҕ', 2), ('뗼', 1), ('Һ', 4), ('ӧ', 8), ('ә', 39), ('ӱ', 3), ('穉', 26), ('烙', 25), ('債', 132), ('愃', 8), ('琔', 6), ('夭', 19), ('䄄', 3), ('跟', 2), ('栫', 1), ('熤', 6), ('莉', 25), ('茉', 16), ('㼅', 3), ('釉', 77), ('禶', 7), ('䄙', 4), ('峸', 4), ('爔', 11), ('烻', 1), ('욍', 3), ('𪸠', 2), ('椐', 1), ('緬', 13), ('妨', 23), ('煊', 11), ('寀', 10), ('禛', 19), ('娣', 6), ('彥', 18), ('嗟', 3), ('鵩', 1), ('泣', 20), ('唏', 2), ('噫', 2), ('憾', 3), ('鐫', 7), ('紓', 3), ('恫', 3), ('昍', 9), ('焜', 12), ('眂', 1), ('珘', 9), ('駉', 3), ('ŭ', 35), ('砧', 17), ('澔', 22), ('塋', 28), ('蘂', 19), ('凞', 11), ('寯', 7), ('砒', 6), ('瞳', 17), ('澯', 16), ('뒸', 2), ('泮', 38), ('Ꭰ', 1), ('ᄀ', 12), ('ښ', 3), ('ʂ', 22), ('̪', 5), ('Ѱ', 1), ('쌘', 67), ('彷', 2), ('徨', 3), ('ᐃ', 4), ('ᖃ', 1), ('ᓗ', 1), ('ᑦ', 2), ('愾', 40), ('庇', 72), ('擄', 5), ('猜', 9), ('猝', 3), ('廐', 15), ('掄', 1), ('慜', 6), ('葟', 1), ('泂', 21), ('獎', 18), ('嘲', 8), ('簒', 14), ('謗', 14), ('軼', 13), ('蓀', 21), ('碔', 1), ('紬', 21), ('侈', 10), ('倨', 6), ('쉥', 65), ('햘', 86), ('閨', 19), ('壼', 6), ('曄', 84), ('霊', 80), ('Ь', 15), ('Ӝ', 1), ('ӝ', 1), ('Ӟ', 3), ('ӟ', 2), ('Ӥ', 1), ('ӥ', 1), ('Ӵ', 1), ('ӵ', 1), ('ӑ', 5), ('ӗ', 2), ('Ӑ', 3), ('Ӗ', 1), ('Ҫ', 3), ('ҫ', 2), ('Ӳ', 1), ('ӳ', 1), ('↑', 84), ('욷', 4), ('繘', 1), ('貽', 13), ('Ӧ', 5), ('ῥ', 5), ('拝', 19), ('汞', 2), ('ད', 43), ('ྷ', 3), ('མ', 38), ('ལ', 50), ('涵', 89), ('俌', 13), ('洑', 29), ('̥', 2), ('ἁ', 3), ('귝', 2), ('̄', 12), ('嬉', 26), ('楠', 83), ('埼', 27), ('戢', 6), ('琇', 22), ('逗', 8), ('珌', 8), ('搜', 53), ('ꡖ', 1), ('ꡍ', 1), ('ꡂ', 1), ('ꡛ', 1), ('ꡌ', 1), ('ぴ', 37), ('饑', 11), ('蕤', 13), ('鶉', 3), ('蜩', 2), ('姤', 1), ('闞', 11), ('坎', 18), ('ÿ', 16), ('芹', 17), ('締', 21), ('徴', 8), ('榎', 6), ('股', 60), ('巂', 12), ('嶲', 11), ('롸', 27), ('湔', 3), ('Â', 24), ('韦', 7), ('ợ', 20), ('Ƿ', 3), ('趺', 96), ('扉', 19), ('ẋ', 17), ('̇', 9), ('ƶ', 4), ('롈', 2), ('姈', 4), ('◎', 45), ('煇', 17), ('⠚', 1), ('⠒', 1), ('⠈', 1), ('⠮', 1), ('⠨', 2), ('⠎', 1), ('⠢', 1), ('ㅲ', 4), ('ㅼ', 5), ('ź', 22), ('熺', 18), ('称', 26), ('叨', 1), ('披', 23), ('佔', 16), ('苟', 14), ('銜', 17), ('暱', 1), ('卹', 2), ('眾', 43), ('쎌', 20), ('⌬', 1), ('⏣', 1), ('ĥ', 18), ('ს', 41), ('ა', 100), ('ქ', 14), ('რ', 42), ('თ', 29), ('ვ', 24), ('ე', 56), ('ლ', 33), ('ო', 38), ('ბ', 14), ('ჭ', 2), ('ც', 4), ('ი', 93), ('ტ', 8), ('უ', 14), ('პ', 3), ('კ', 13), ('뚬', 23), ('竪', 59), ('楒', 2), ('姪', 48), ('烱', 10), ('螽', 1), ('娩', 13), ('癤', 1), ('蠱', 20), ('攸', 79), ('緦', 2), ('싾', 2), ('湺', 2), ('栁', 1), ('ゥ', 19), ('惹', 9), ('좐', 15), ('絕', 15), ('ș', 36), ('Ċ', 6), ('葆', 11), ('滓', 8), ('幫', 5), ('햔', 7), ('ῑ', 1), ('ỉ', 13), ('ặ', 8), ('ố', 83), ('ự', 21), ('롹', 4), ('汚', 91), ('ㄶ', 8), ('ㅀ', 11), ('ễ', 122), ('ọ', 32), ('圻', 14), ('መ', 6), ('ን', 10), ('ግ', 7), ('ሥ', 2), ('ተ', 5), ('፡', 11), ('ኢ', 4), ('ት', 26), ('ዮ', 6), ('ጵ', 4), ('ያ', 5), ('睢', 18), ('쭙', 5), ('戟', 32), ('ћ', 34), ('鹤', 15), ('网', 20), ('ّ', 39), ('ْ', 42), ('幷', 91), ('甥', 22), ('叅', 60), ('쟂', 4), ('枺', 1), ('宵', 25), ('↕', 2), ('ወ', 2), ('ደ', 6), ('ፊ', 1), ('ገ', 3), ('ስ', 8), ('ሺ', 1), ('ው', 2), ('ድ', 4), ('እ', 6), ('ና', 6), ('皙', 1), ('癖', 20), ('臾', 6), ('盎', 12), ('骑', 4), ('况', 2), ('孙', 6), ('椅', 42), ('萍', 18), ('昡', 4), ('뒈', 4), ('逍', 49), ('遥', 20), ('ゞ', 3), ('鴎', 3), ('맇', 1), ('웳', 1), ('괃', 1), ('‥', 15), ('곌', 1), ('緈', 3), ('挑', 16), ('돍', 1), ('덝', 3), ('둙', 1), ('Ĥ', 6), ('鋳', 4), ('逾', 5), ('嶋', 48), ('弉', 4), ('諾', 61), ('勍', 6), ('Ҁ', 2), ('ҁ', 1), ('Ꙗ', 3), ('Ѧ', 2), ('份', 35), ('忻', 24), ('炘', 3), ('侁', 7), ('Ꙟ', 1), ('ѡ', 2), ('ꙋ', 2), ('賡', 3), ('峪', 3), ('霰', 2), ('畓', 28), ('滾', 11), ('憙', 34), ('Ｌ', 8), ('殆', 16), ('ẍ', 1), ('洌', 12), ('縛', 192), ('苔', 46), ('驄', 6), ('沉', 9), ('愉', 28), ('瀁', 6), ('輅', 30), ('陋', 20), ('聾', 34), ('뗴', 3), ('쟉', 6), ('졈', 1), ('텬', 6), ('듕', 6), ('듁', 6), ('셕', 4), ('뎝', 1), ('豺', 6), ('凄', 4), ('몃', 3), ('巒', 17), ('徘', 2), ('迂', 24), ('긔', 20), ('셥', 14), ('駭', 7), ('엊', 10), ('琨', 18), ('碖', 5), ('腧', 1), ('黜', 69), ('澂', 13), ('瀰', 5), ('瑱', 19), ('潝', 10), ('姉', 46), ('肌', 8), ('嬢', 3), ('∂', 17), ('靱', 2), ('쬠', 3), ('邢', 80), ('垢', 73), ('獒', 19), ('ɦ', 2), ('樟', 15), ('姞', 5), ('Җ', 3), ('җ', 17), ('Ў', 9), ('陕', 14), ('ﺣ', 3), ('ﺎ', 5), ('ۆ', 1), ('ڭ', 1), ('苳', 4), ('崁', 9), ('埤', 13), ('厝', 9), ('贅', 16), ('뱐', 45), ('♪', 117), ('Є', 4), ('ℵ', 2), ('岦', 17), ('楫', 33), ('냡', 1), ('娠', 11), ('词', 1), ('弇', 4), ('炆', 5), ('矴', 4), ('鄱', 21), ('饕', 5), ('餮', 5), ('鏐', 6), ('諍', 96), ('↓', 52), ('咬', 16), ('꼳', 8), ('偈', 70), ('沐', 19), ('擥', 10), ('鋈', 4), ('紊', 6), ('즁', 5), ('隹', 2), ('愕', 2), ('Ń', 1), ('ｔ', 9), ('ব', 9), ('া', 23), ('ং', 6), ('ল', 9), ('ಕ', 5), ('ನ', 9), ('್', 15), ('ಡ', 2), ('ଓ', 1), ('ଡ', 1), ('଼', 1), ('ି', 5), ('ଆ', 1), ('ڌ', 2), ('،', 7), ('ھ', 6), ('ⵜ', 8), ('ⵎ', 3), ('ⵉ', 12), ('ⵖ', 2), ('ⵝ', 2), ('ⵗ', 4), ('ਪ', 1), ('ੰ', 1), ('ਜ', 1), ('ਬ', 2), ('ੀ', 4), ('ਗ', 1), ('ੁ', 2), ('ਮ', 1), ('ਖ', 1), ('ہ', 12), ('귁', 15), ('孃', 14), ('Ὄ', 1), ('챨', 6), ('辧', 1), ('厖', 11), ('苯', 48), ('尨', 6), ('菡', 13), ('瀹', 9), ('磊', 8), ('涯', 35), ('宕', 20), ('韜', 39), ('挫', 6), ('鋭', 3), ('堪', 76), ('瀜', 4), ('癃', 1), ('謫', 21), ('啣', 4), ('鉞', 27), ('貪', 528), ('泝', 2), ('凜', 5), ('冲', 80), ('恃', 20), ('慟', 5), ('宸', 36), ('寞', 6), ('濛', 8), ('壟', 8), ('筌', 17), ('酬', 26), ('懈', 47), ('怠', 47), ('捐', 17), ('擔', 75), ('疵', 24), ('쇽', 24), ('湮', 6), ('筬', 10), ('屝', 2), ('鍮', 25), ('渓', 143), ('竣', 9), ('म', 59), ('भ', 10), ('늡', 15), ('遒', 4), ('囈', 2), ('萠', 1), ('棚', 32), ('楗', 19), ('楺', 6), ('璹', 13), ('쥴', 142), ('쨍', 31), ('萁', 2), ('漉', 2), ('菽', 3), ('煎', 39), ('创', 3), ('崂', 4), ('泽', 10), ('栈', 3), ('览', 5), ('봌', 1), ('帰', 27), ('悝', 12), ('熲', 7), ('糜', 20), ('舡', 2), ('綎', 8), ('ۍ', 2), ('؋', 1), ('箜', 6), ('篌', 6), ('闖', 7), ('賎', 1), ('鍠', 26), ('殃', 10), ('쿈', 97), ('亏', 4), ('莂', 2), ('頗', 18), ('崿', 3), ('嵓', 11), ('簽', 35), ('蚊', 23), ('㴭', 8), ('楸', 46), ('亇', 3), ('宷', 4), ('愊', 10), ('畦', 2), ('瘴', 5), ('溱', 12), ('贇', 24), ('꺄', 10), ('銕', 2), ('謚', 12), ('嘯', 17), ('쌕', 33), ('秥', 1), ('篈', 7), ('亘', 52), ('磏', 4), ('ҧ', 4), ('ფ', 10), ('ხ', 15), ('ზ', 11), ('ჟ', 2), ('촤', 9), ('恕', 77), ('퇼', 35), ('侅', 3), ('詣', 27), ('誾', 31), ('寝', 12), ('嚼', 8), ('잛', 9), ('Ŏ', 1), ('几', 44), ('ℂ', 3), ('ℙ', 1), ('ɐ', 21), ('菲', 11), ('ສ', 13), ('າ', 21), ('ທ', 9), ('ັ', 11), ('ດ', 6), ('ປ', 6), ('ຊ', 11), ('ິ', 11), ('ໄ', 9), ('ຕ', 5), ('ົ', 6), ('ພ', 7), ('ບ', 4), ('ເ', 4), ('ກ', 6), ('ຖ', 2), ('찟', 49), ('ژ', 2), ('ـ', 4), ('ږ', 3), ('ړ', 7), ('ډ', 2), ('ㄊ', 5), ('ㄞ', 3), ('ˊ', 14), ('ㄅ', 8), ('ㄟ', 6), ('ㄉ', 7), ('ㄚ', 7), ('ㄓ', 6), ('ㄨ', 17), ('ㄥ', 13), ('ㄐ', 6), ('ㄝ', 5), ('ㄣ', 10), ('ㄒ', 8), ('ㄍ', 6), ('ㄙ', 4), ('貓', 19), ('閬', 16), ('盱', 10), ('眙', 8), ('畇', 5), ('裟', 44), ('斫', 4), ('♍', 1), ('㏄', 8), ('邨', 6), ('肃', 10), ('坚', 2), ('巩', 4), ('鄜', 15), ('琯', 36), ('媚', 15), ('彠', 2), ('蟒', 2), ('깟', 118), ('洹', 29), ('喀', 18), ('誨', 33), ('奵', 2), ('燉', 17), ('ශ', 7), ('්', 28), ('\\u200d', 24), ('ර', 29), ('ී', 15), ('ල', 15), ('ං', 7), ('ක', 19), ('ා', 48), ('ජ', 12), ('ත', 24), ('ි', 30), ('ග', 8), ('ය', 21), ('ම', 44), ('අ', 17), ('ප', 26), ('න', 45), ('ෝ', 18), ('ස', 11), ('ු', 18), ('ද', 11), ('බ', 10), ('ැ', 9), ('ඳ', 1), ('ධ', 3), ('ෙ', 5), ('භ', 4), ('හ', 6), ('ට', 1), ('ව', 22), ('ේ', 12), ('ළ', 2), ('ූ', 2), ('ඔ', 6), ('ආ', 1), ('ණ', 1), ('ඥ', 1), ('ඩ', 2), ('එ', 1), ('ො', 2), ('琈', 4), ('【', 171), ('】', 171), ('↘', 7), ('↗', 5), ('၏', 1), ('煐', 12), ('视', 59), ('藕', 10), ('諝', 18), ('諹', 3), ('倜', 10), ('₈', 10), ('ሸ', 1), ('ዋ', 4), ('뉙', 12), ('괍', 1), ('Ë', 3), ('Ј', 17), ('Ђ', 7), ('ђ', 10), ('ｒ', 2), ('駔', 2), ('ሆ', 1), ('በ', 4), ('ል', 11), ('ሽ', 1), ('ṗ', 2), ('灐', 4), ('譿', 5), ('菆', 2), ('췬', 185), ('ǒ', 11), ('晚', 22), ('磵', 15), ('岊', 10), ('Ș', 8), ('捒', 1), ('跨', 9), ('肚', 10), ('笼', 1), ('鄄', 14), ('鉅', 45), ('掎', 5), ('傕', 16), ('汜', 22), ('煨', 4), ('邾', 38), ('緱', 3), ('檻', 6), ('潞', 28), ('벴', 5), ('峭', 5), ('撾', 1), ('輜', 6), ('━', 17), ('盪', 15), ('斄', 6), ('郿', 21), ('瓌', 7), ('黽', 6), ('鄠', 3), ('鄙', 31), ('玠', 7), ('忿', 60), ('葭', 19), ('豲', 1), ('蠋', 2), ('罾', 2), ('\\x7f', 11), ('ㄽ', 9), ('㉾', 3), ('쓔', 4), ('¡', 52), ('ⓛ', 2), ('ﾞ', 1), ('゚', 2), ('ﾟ', 7), ('श', 26), ('뵉', 1), ('؛', 1), ('џ', 3), ('љ', 14), ('Њ', 11), ('တ', 28), ('ရ', 1), ('ာ', 23), ('း', 21), ('မ', 33), ('ျ', 8), ('ှ', 4), ('လ', 10), ('ွ', 9), ('်', 50), ('ပ', 17), ('ခ', 9), ('ြ', 24), ('င', 14), ('န', 10), ('ဲ', 3), ('့', 22), ('သ', 7), ('ေ', 29), ('၊', 15), ('ိ', 33), ('ု', 31), ('ည', 15), ('ူ', 3), ('စ', 12), ('ဖ', 3), ('ီ', 2), ('ဝ', 3), ('ါ', 4), ('ဒ', 3), ('ထ', 4), ('အ', 12), ('ံ', 3), ('ဓ', 1), ('ဋ', 1), ('္', 2), ('ဌ', 1), ('။', 4), ('က', 11), ('ဘ', 4), ('ယ', 1), ('ဆ', 1), ('进', 16), ('ச', 14), ('ங', 3), ('맽', 7), ('깉', 2), ('蠡', 18), ('潦', 2), ('拐', 8), ('乖', 18), ('█', 210), ('궃', 23), ('罔', 10), ('օ', 2), ('ֆ', 2), ('갘', 2), ('睟', 16), ('墜', 19), ('磼', 4), ('𢈴', 2), ('舫', 8), ('仏', 62), ('棉', 26), ('彙', 40), ('멨', 5), ('꽥', 18), ('韬', 3), ('养', 8), ('阵', 2), ('应', 11), ('决', 8), ('为', 10), ('跛', 8), ('蠢', 3), ('튝', 1), ('쓩', 2), ('暘', 7), ('햤', 5), ('ㅄ', 17), ('똠', 47), ('홥', 3), ('뜽', 5), ('赳', 4), ('삑', 16), ('Į', 4), ('盼', 8), ('縢', 2), ('鑫', 2), ('鬆', 2), ('飇', 3), ('飚', 1), ('迟', 3), ('옸', 6), ('冉', 58), ('褊', 6), ('＊', 189), ('𛀁', 3), ('ゐ', 26), ('褐', 19), ('쇨', 25), ('掩', 14), ('뀨', 5), ('嗀', 1), ('䀹', 1), ('⿰', 8), ('骸', 22), ('牝', 4), ('込', 23), ('忭', 10), ('晥', 14), ('晊', 3), ('囿', 8), ('謡', 14), ('ở', 4), ('縞', 4), ('琄', 4), ('糞', 29), ('葩', 3), ('훵', 31), ('ئ', 30), ('軋', 1), ('蝸', 10), ('螔', 1), ('蝓', 2), ('蚹', 1), ('蠃', 1), ('\\ue38f', 1), ('얆', 3), ('쨈', 8), ('敘', 5), ('ᄯ', 4), ('ᅩ', 2), ('〖', 3), ('〗', 3), ('ұ', 2), ('恁', 8), ('叭', 12), ('빋', 3), ('㎟', 8), ('縦', 11), ('옰', 4), ('곬', 16), ('絨', 11), ('ぜ', 38), ('ヰ', 13), ('ヱ', 6), ('ヅ', 8), ('ᄻ', 2), ('ㄵ', 8), ('읖', 8), ('ㄾ', 8), ('홅', 2), ('埗', 3), ('荃', 9), ('鱲', 2), ('磡', 9), ('蜺', 5), ('ㄻ', 10), ('풂', 13), ('퐝', 1), ('羣', 13), ('粳', 1), ('큭', 16), ('읕', 10), ('湍', 46), ('ᄛ', 3), ('幀', 327), ('磎', 37), ('侑', 21), ('ׁ', 22), ('ぱ', 39), ('弾', 31), ('ᄚ', 2), ('빱', 4), ('걔', 20), ('ĉ', 8), ('ĵ', 9), ('ŝ', 7), ('厅', 12), ('쨔', 11), ('慵', 19), ('黙', 35), ('狸', 8), ('홛', 3), ('貰', 10), ('则', 6), ('续', 2), ('机', 33), ('ㅳ', 5), ('丨', 9), ('丶', 9), ('丿', 8), ('亅', 5), ('亠', 5), ('冂', 4), ('冖', 4), ('冫', 5), ('凵', 4), ('勹', 2), ('卩', 2), ('屮', 1), ('巛', 1), ('幺', 2), ('龠', 7), ('琫', 19), ('ữ', 16), ('ổ', 13), ('煞', 25), ('ֱ', 3), ('\\uea2e', 1), ('\\uea7f', 1), ('슯', 3), ('冪', 25), ('ֻ', 5), ('־', 3), ('ֲ', 9), ('钅', 3), ('琻', 4), ('鍂', 3), ('螵', 2), ('蛸', 3), ('唆', 17), ('Ա', 18), ('զ', 4), ('տ', 22), ('ո', 54), ('ւ', 37), ('կ', 21), ('խ', 6), ('ց', 10), ('Ք', 5), ('մ', 14), ('ը', 2), ('ի', 36), ('ք', 21), ('Պ', 4), ('թ', 10), ('Մ', 9), ('ս', 17), ('բ', 16), ('։', 4), ('Դ', 3), ('դ', 6), ('ռ', 9), ('Բ', 4), ('ձ', 1), ('վ', 15), ('ծ', 2), ('ժ', 2), ('լ', 12), ('Ե', 2), ('պ', 10), ('շ', 6), ('ղ', 11), ('Ղ', 2), ('ջ', 3), ('Թ', 2), ('՝', 1), ('∘', 10), ('𛀆', 2), ('薝', 1), ('褙', 7), ('￥', 4), ('涌', 14), ('¢', 22), ('龑', 3), ('倖', 5), ('Ĉ', 10), ('Ĝ', 7), ('Ĵ', 6), ('Ŝ', 6), ('Ŭ', 4), ('⠠', 1), ('⠉', 1), ('⠩', 1), ('⠛', 1), ('⠻', 1), ('⠬', 1), ('⠥', 1), ('⠺', 1), ('⠾', 1), ('喝', 27), ('挟', 3), ('蛍', 3), ('桟', 4), ('壌', 4), ('挿', 3), ('眺', 8), ('搭', 10), ('瓶', 5), ('雰', 1), ('塀', 6), ('厄', 26), ('癒', 10), ('枠', 6), ('遡', 25), ('毀', 13), ('憚', 6), ('挨', 3), ('曖', 7), ('嵐', 44), ('潰', 18), ('嗅', 12), ('僅', 7), ('惧', 1), ('憬', 21), ('桁', 5), ('舷', 7), ('拶', 3), ('恣', 15), ('𠮟', 1), ('羞', 27), ('憧', 10), ('芯', 7), ('痩', 3), ('踪', 15), ('汰', 25), ('綻', 3), ('緻', 17), ('酎', 6), ('貼', 16), ('捗', 2), ('丼', 14), ('謎', 15), ('氾', 13), ('訃', 20), ('蔽', 20), ('餅', 15), ('頰', 5), ('麺', 14), ('瞭', 6), ('匁', 2), ('싵', 1), ('٪', 1), ('淘', 8), ('냤', 1), ('鑲', 34), ('圀', 11), ('掟', 2), ('槇', 4), ('塙', 8), ('籾', 1), ('圧', 6), ('撲', 13), ('疙', 1), ('롓', 1), ('盗', 24), ('Ấ', 5), ('Ṝ', 1), ('롳', 1), ('쫌', 9), ('ʤ', 7), ('扯', 3), ('惕', 13), ('ŵ', 10), ('逈', 16), ('轘', 6), ('旃', 14), ('̀', 2), ('뎦', 2), ('겯', 5), ('鑼', 8), ('蜉', 2), ('蝣', 2), ('ゾ', 21), ('纏', 121), ('橐', 7), ('櫜', 2), ('♀', 14), ('怊', 1), ('叫', 19), ('ᡩ', 1), ('ᠠ', 3), ('ᡳ', 1), ('聊', 14), ('덨', 1), ('স', 8), ('ত', 8), ('্', 7), ('য', 7), ('জ', 7), ('ি', 8), ('ৎ', 2), ('র', 8), ('়', 6), ('륐', 1), ('蠕', 7), ('왭', 1), ('ǫ', 23), ('퍌', 21), ('夸', 5), ('됙', 15), ('梣', 13), ('蚨', 1), ('弃', 3), ('轼', 2), ('问', 5), ('祯', 2), ('龄', 5), ('趵', 3), ('塑', 92), ('쳰', 16), ('阁', 11), ('轩', 6), ('极', 9), ('诰', 2), ('贞', 3), ('兴', 23), ('鱉', 5), ('Ѓ', 4), ('ɟ', 7), ('ʑ', 8), ('є', 12), ('袗', 9), ('🇸', 1), ('🇬', 1), ('ˆ', 1), ('ส', 65), ('ิ', 71), ('บ', 31), ('ป', 17), ('ั', 80), ('鰓', 23), ('寐', 9), ('陁', 25), ('泚', 4), ('땟', 7), ('쟐', 6), ('큇', 26), ('馭', 7), ('ˠ', 7), ('肋', 21), ('昉', 45), ('伅', 2), ('襃', 6), ('烔', 1), ('틂', 42), ('훓', 4), ('闘', 36), ('吠', 8), ('孩', 16), ('惰', 8), ('肴', 1), ('⭕', 2), ('❌', 2), ('癎', 6), ('鏛', 12), ('ż', 37), ('뭏', 1), ('梶', 19), ('枣', 4), ('沭', 2), ('鐥', 29), ('湟', 41), ('硡', 6), ('礗', 2), ('櫬', 1), ('🔑', 1), ('뎡', 10), ('栽', 40), ('♦', 44), ('𛀇', 1), ('𛀈', 1), ('𛀉', 1), ('涑', 14), ('屏', 30), ('冄', 1), ('ḗ', 3), ('轝', 3), ('泫', 13), ('砬', 10), ('莩', 1), ('乫', 2), ('Ὑ', 2), ('烘', 17), ('舂', 12), ('淯', 7), ('隗', 20), ('껶', 4), ('蘋', 5), ('🔒', 1), ('吝', 14), ('쏫', 4), ('页', 4), ('总', 24), ('醵', 1), ('芾', 3), ('♠', 18), ('佈', 11), ('拮', 1), ('檉', 4), ('寰', 11), ('鈺', 44), ('縊', 2), ('☜', 2), ('蔿', 18), ('＄', 8), ('漎', 1), ('媼', 7), ('噲', 10), ('甯', 21), ('碭', 7), ('酈', 27), ('嶢', 7), ('緞', 30), ('퇸', 10), ('쫏', 6), ('証', 35), ('耦', 4), ('ⓤ', 4), ('♬', 4), ('肯', 62), ('♡', 61), ('蓴', 5), ('꼍', 7), ('雫', 1), ('冨', 7), ('樫', 11), ('畷', 16), ('ぃ', 42), ('ג', 26), ('魅', 21), ('蘗', 8), ('ก', 105), ('โ', 15), ('ท', 62), ('ร', 163), ('ี', 51), ('จ', 27), ('๕', 1), ('켱', 1), ('∥', 8), ('焄', 13), ('짹', 45), ('彞', 1), ('憘', 10), ('泄', 20), ('턔', 8), ('沇', 13), ('劧', 1), ('潧', 2), ('槺', 3), ('럻', 1), ('玏', 7), ('澐', 14), ('褧', 10), ('澥', 5), ('屹', 34), ('튱', 3), ('墾', 24), ('摇', 1), ('滚', 1), ('衷', 41), ('戇', 5), ('잍', 8), ('侊', 5), ('폔', 2), ('闌', 7), ('瑄', 32), ('柶', 2), ('윶', 2), ('眀', 1), ('駹', 2), ('莋', 5), ('醸', 3), ('ヘ', 45), ('搥', 1), ('겄', 5), ('ㄈ', 3), ('ㄜ', 3), ('쩜', 27), ('燔', 9), ('첯', 1), ('閎', 13), ('摹', 30), ('嶝', 8), ('寳', 5), ('龎', 1), ('꿕', 1), ('♚', 1), ('♛', 1), ('♜', 1), ('♞', 1), ('♝', 1), ('♟', 1), ('兕', 2), ('욋', 6), ('廓', 78), ('撞', 25), ('Ｋ', 6), ('Ｏ', 6), ('Ｐ', 9), ('卻', 3), ('阯', 5), ('廋', 1), ('楛', 4), ('砮', 5), ('椁', 1), ('傉', 4), ('⊻', 2), ('⊕', 11), ('㏅', 2), ('켯', 7), ('쬘', 12), ('㣴', 1), ('〒', 10), ('麹', 5), ('豬', 14), ('樾', 5), ('笮', 6), ('騶', 10), ('晞', 6), ('墡', 3), ('￣', 4), ('￢', 8), ('庖', 4), ('‿', 5), ('郰', 4), ('♃', 1), ('瀏', 9), ('Ÿ', 9), ('Ï', 5), ('¨', 10), ('Ə', 8), ('ǝ', 4), ('Ǝ', 5), ('ᵊ', 1), ('ɚ', 12), ('鵂', 6), ('炅', 47), ('啞', 19), ('琓', 15), ('畱', 2), ('攺', 1), ('权', 4), ('䴡', 2), ('\\uf09f', 1), ('蠍', 3), ('넚', 2), ('邀', 12), ('旁', 14), ('剰', 3), ('亙', 3), ('엳', 2), ('蹶', 10), ('륏', 8), ('☠', 1), ('盂', 27), ('洧', 4), ('抚', 8), ('驢', 12), ('嶷', 17), ('髦', 25), ('濳', 1), ('眇', 1), ('＼', 35), ('ﻴ', 2), ('ﺒ', 1), ('獷', 2), ('隃', 3), ('麋', 13), ('汧', 9), ('禕', 29), ('鄳', 2), ('褘', 4), ('𗴂', 1), ('𗹭', 1), ('𗂧', 1), ('𘜶', 1), ('ậ', 75), ('灊', 4), ('騭', 10), ('淩', 15), ('䔉', 3), ('辽', 20), ('ヵ', 3), ('襪', 11), ('禯', 2), ('穠', 3), ('┳', 11), ('┗', 18), ('朐', 16), ('≧', 9), ('醞', 27), ('▨', 56), ('訏', 1), ('纊', 1), ('ꜹ', 1), ('앝', 9), ('蒺', 6), ('껸', 7), ('Ț', 2), ('飣', 2), ('樁', 8), ('숸', 2), ('庥', 8), ('繚', 10), ('醯', 11), ('跏', 83), ('釿', 1), ('菀', 3), ('髢', 6), ('竭', 21), ('襴', 6), ('螭', 32), ('蟋', 2), ('蟀', 4), ('錠', 12), ('瀧', 19), ('瑎', 6), ('ẩ', 7), ('읨', 1), ('푤', 32), ('좆', 38), ('伋', 20), ('咲', 20), ('衜', 4), ('藉', 8), ('旒', 8), ('旄', 4), ('邴', 5), ('靚', 23), ('瑯', 22), ('琊', 16), ('騄', 3), ('鞏', 34), ('₤', 4), ('郤', 29), ('鯤', 10), ('겡', 53), ('≦', 4), ('稈', 2), ('侧', 2), ('윾', 19), ('싀', 4), ('튽', 1), ('젔', 17), ('壥', 1), ('岾', 25), ('땝', 29), ('쫍', 3), ('剮', 2), ('譞', 4), ('湉', 1), ('₱', 1), ('胆', 12), ('槙', 1), ('宍', 9), ('捄', 8), ('쨰', 9), ('씃', 6), ('鯖', 3), ('贄', 20), ('亰', 1), ('鵝', 43), ('榆', 12), ('澆', 5), ('鄯', 15), ('इ', 3), ('錧', 1), ('呎', 1), ('齦', 4), ('帆', 33), ('匕', 5), ('峩', 1), ('吁', 2), ('訔', 24), ('很', 7), ('嗎', 1), ('怕', 6), ('蝴', 10), ('呸', 1), ('怎', 3), ('仉', 1), ('惻', 9), ('릐', 25), ('갣', 3), ('깯', 3), ('Ό', 9), ('☡', 1), ('擣', 1), ('莧', 1), ('枸', 10), ('櫞', 3), ('繅', 1), ('鍫', 1), ('앧', 4), ('歚', 2), ('祏', 7), ('鸚', 11), ('鵡', 9), ('슽', 2), ('脛', 3), ('鄢', 13), ('妲', 16), ('😓', 1), ('΄', 27), ('縷', 5), ('Ō', 19), ('惲', 19), ('玢', 8), ('瑨', 17), ('츕', 2), ('겻', 6), ('닺', 2), ('项', 3), ('癥', 1), ('ט', 31), ('뭴', 1), ('糊', 6), ('俏', 1), ('乌', 13), ('힁', 4), ('ङ', 3), ('仃', 2), ('丠', 1), ('萧', 13), ('煦', 22), ('懹', 2), ('揀', 6), ('伉', 8), ('儼', 43), ('鰍', 7), ('娃', 18), ('섥', 8), ('励', 7), ('ầ', 75), ('岺', 4), ('ნ', 31), ('㏓', 2), ('坛', 6), ('蘑', 2), ('餜', 2), ('甛', 8), ('脑', 4), ('莱', 11), ('蕪', 23), ('罘', 4), ('崳', 1), ('斋', 5), ('韰', 1), ('騖', 1), ('㏈', 10), ('做', 9), ('뒨', 42), ('뙈', 6), ('搾', 7), ('娟', 14), ('殮', 11), ('羑', 2), ('랕', 1), ('왙', 1), ('컅', 1), ('Ī', 7), ('ً', 9), ('윁', 1), ('蒜', 20), ('℧', 2), ('瘤', 8), ('転', 34), ('濔', 1), ('呰', 2), ('畑', 35), ('헣', 1), ('⚽', 1), ('駟', 16), ('裊', 2), ('濞', 3), ('槥', 5), ('肛', 9), ('Կ', 3), ('滞', 1), ('㏃', 9), ('☭', 1), ('夻', 1), ('롼', 64), ('钰', 4), ('볓', 9), ('አ', 5), ('ክ', 6), ('ሱ', 3), ('ም', 10), ('咀', 13), ('≃', 1), ('뚼', 1), ('僊', 10), ('鑒', 34), ('吴', 38), ('饋', 7), ('鰈', 4), ('韙', 12), ('䏰', 2), ('賨', 3), ('墊', 2), ('孕', 4), ('翌', 16), ('햑', 12), ('蕘', 1), ('퐅', 1), ('맻', 9), ('⚊', 1), ('⚋', 1), ('랖', 20), ('ゔ', 2), ('゛', 8), ('ヷ', 1), ('ヸ', 1), ('ヹ', 1), ('ヺ', 1), ('眩', 12), ('ぷ', 19), ('☫', 1), ('탙', 3), ('鏜', 6), ('鉈', 1), ('鐡', 1), ('鏢', 4), ('扣', 3), ('▼', 18), ('ᆝ', 5), ('膿', 11), ('㈁', 1), ('㈃', 1), ('㈄', 1), ('읭', 1), ('맜', 3), ('\\u202c', 4), ('Ἐ', 12), ('魑', 2), ('魍', 3), ('魎', 3), ('騮', 3), ('‽', 2), ('ֵ', 21), ('滁', 7), ('憫', 9), ('惘', 1), ('喚', 23), ('픜', 1), ('滕', 25), ('腾', 8), ('绮', 1), ('Ｗ', 3), ('ｉ', 3), ('Ｕ', 5), ('燎', 9), ('蛻', 2), ('ⅱ', 9), ('ⅰ', 5), ('찯', 1), ('😙', 1), ('緡', 10), ('聶', 34), ('袱', 2), ('ぇ', 12), ('鍪', 5), ('旲', 1), ('礒', 3), ('蔥', 17), ('怱', 1), ('瀷', 40), ('Ḳ', 1), ('琠', 14), ('竅', 3), ('脉', 5), ('壅', 6), ('剿', 13), ('컾', 2), ('잆', 1), ('楢', 5), ('痢', 12), ('糺', 4), ('榊', 12), ('Հ', 11), ('Ս', 11), ('գ', 5), ('븨', 8), ('瑃', 6), ('瓛', 11), ('訸', 1), ('榘', 9), ('俟', 22), ('籜', 1), ('轆', 5), ('轤', 2), ('璚', 1), ('裰', 1), ('쉑', 19), ('옲', 2), ('澪', 4), ('隼', 13), ('刁', 8), ('转', 5), ('ǽ', 6), ('깢', 2), ('揃', 3), ('艘', 2), ('鞆', 6), ('姝', 8), ('逮', 15), ('匱', 31), ('惪', 1), ('漯', 6), ('譎', 1), ('遹', 4), ('践', 4), ('喰', 12), ('渲', 18), ('ᇘ', 4), ('ᅟ', 7), ('ᅠ', 10), ('茜', 10), ('鯱', 5), ('桝', 2), ('챰', 4), ('靏', 2), ('昤', 1), ('鱎', 1), ('嵆', 5), ('伶', 18), ('댤', 1), ('捫', 1), ('氓', 5), ('搓', 2), ('饉', 10), ('鱒', 4), ('齐', 11), ('늗', 3), ('\\uf1fe', 12), ('뇩', 13), ('抜', 24), ('隰', 6), ('膀', 7), ('胱', 7), ('ỳ', 8), ('넡', 2), ('弋', 29), ('慨', 11), ('玫', 9), ('笨', 14), ('褈', 4), ('綽', 41), ('偁', 19), ('枡', 7), ('佶', 32), ('⊂', 17), ('㵧', 2), ('蠾', 1), ('얶', 5), ('蘄', 20), ('ﺗ', 3), ('ﻮ', 3), ('ﺧ', 2), ('ﺘ', 2), ('ﻰ', 2), ('ﯘ', 2), ('ﻧ', 1), ('ﯩ', 1), ('ﺯ', 2), ('ﻣ', 1), ('ﺋ', 1), ('ﺭ', 1), ('ﺕ', 1), ('膵', 3), ('菫', 4), ('銹', 4), ('㺚', 3), ('獺', 21), ('櫽', 1), ('ㅽ', 4), ('ㅾ', 4), ('ᅁ', 3), ('ᅅ', 3), ('ᅂ', 3), ('琸', 2), ('璨', 32), ('鐧', 1), ('鄆', 14), ('渉', 10), ('諷', 23), ('㶏', 6), ('櫝', 1), ('逯', 4), ('即', 22), ('藳', 1), ('艹', 3), ('羡', 4), ('褚', 24), ('葯', 3), ('綦', 4), ('嘔', 6), ('짼', 145), ('ག', 70), ('ཁ', 16), ('འ', 45), ('ཙ', 18), ('ན', 64), ('ྟ', 9), ('ཡ', 5), ('ུ', 45), ('༌', 1), ('།', 38), ('ྡ', 14), ('佯', 6), ('噶', 8), ('赞', 2), ('扬', 14), ('ᄸ', 2), ('ㅶ', 3), ('ㅴ', 4), ('ᄥ', 2), ('朽', 26), ('鬨', 3), ('ˌ', 9), ('献', 26), ('渙', 20), ('쾍', 10), ('讌', 9), ('彀', 2), ('賛', 28), ('잚', 1), ('뉸', 9), ('芻', 11), ('⑬', 8), ('⑭', 6), ('⑮', 6), ('秧', 4), ('犍', 17), ('鞬', 11), ('緄', 6), ('쵹', 4), ('酔', 6), ('穣', 1), ('凧', 1), ('驱', 1), ('论', 6), ('Ū', 9), ('榛', 16), ('纲', 10), ('濒', 1), ('顺', 13), ('泻', 1), ('补', 3), ('떯', 1), ('湿', 4), ('敛', 1), ('涩', 1), ('杀', 4), ('恶', 1), ('鄚', 7), ('┣', 39), ('瓔', 34), ('廖', 25), ('蕈', 3), ('슁', 7), ('럈', 1), ('釴', 6), ('匙', 16), ('玳', 8), ('惃', 2), ('漒', 2), ('妣', 16), ('啜', 10), ('컁', 4), ('嫪', 4), ('毐', 4), ('颺', 7), ('议', 3), ('筹', 2), ('备', 7), ('众', 9), ('赵', 25), ('蕾', 11), ('㦕', 1), ('渰', 3), ('斮', 1), ('𣠶', 1), ('𣋀', 1), ('効', 13), ('塭', 1), ('岁', 5), ('煤', 15), ('赏', 1), ('辑', 2), ('揽', 3), ('攒', 1), ('轴', 1), ('檗', 8), ('飈', 1), ('璄', 1), ('暁', 21), ('앋', 3), ('뫠', 1), ('퐂', 1), ('嫠', 1), ('嫦', 6), ('អ', 2), ('ង', 4), ('គ', 1), ('រ', 23), ('ធ', 1), ('ំ', 5), ('ᆃ', 4), ('싦', 1), ('봘', 2), ('봬', 8), ('쟙', 3), ('빎', 6), ('脳', 10), ('Ϛ', 4), ('ᅶ', 3), ('蹠', 2), ('籀', 7), ('텉', 4), ('뙨', 1), ('褓', 20), ('ⅳ', 3), ('륻', 1), ('￦', 14), ('떰', 12), ('茛', 1), ('ᅮ', 5), ('椰', 9), ('쉣', 1), ('榻', 5), ('폘', 5), ('ʧ', 3), ('歿', 7), ('햠', 6), ('炬', 16), ('뭅', 2), ('鰕', 3), ('轢', 2), ('ך', 2), ('瘟', 23), ('Ḫ', 1), ('듥', 2), ('찝', 13), ('👓', 1), ('🕶', 1), ('竄', 13), ('艤', 5), ('労', 30), ('笈', 4), ('훜', 1), ('㎉', 4), ('㜷', 1), ('깸', 6), ('旟', 1), ('旝', 1), ('饂', 2), ('飩', 6), ('빝', 4), ('₦', 1), ('🏈', 1), ('翦', 7), ('倗', 2), ('㫆', 1), ('粮', 8), ('ʐ', 6), ('͡', 23), ('联', 22), ('璁', 3), ('姥', 6), ('簸', 1), ('焼', 44), ('蓍', 35), ('큎', 1), ('鐙', 9), ('靭', 11), ('魋', 3), ('紒', 2), ('幞', 19), ('秬', 1), ('滃', 2), ('뫂', 1), ('컺', 1), ('왯', 4), ('肠', 1), ('㎠', 5), ('탣', 1), ('훽', 3), ('樗', 19), ('剤', 2), ('撚', 2), ('Ķ', 4), ('囍', 8), ('鄛', 1), ('髑', 2), ('髏', 3), ('玦', 4), ('┌', 4), ('╣', 1), ('鄔', 7), ('⛄', 1), ('⛇', 1), ('巪', 2), ('檃', 7), ('눼', 6), ('һ', 2), ('馴', 13), ('嶪', 5), ('嶙', 2), ('烓', 3), ('魄', 9), ('穽', 2), ('痒', 3), ('俑', 5), ('馣', 9), ('쟛', 5), ('卉', 9), ('왰', 1), ('갶', 1), ('뱆', 2), ('鎣', 4), ('‐', 18), ('Ｊ', 4), ('乀', 2), ('乁', 1), ('＿', 3), ('ព', 11), ('ះ', 7), ('ប', 2), ('ម', 11), ('ា', 15), ('ជ', 5), ('វ', 13), ('ច', 6), ('ុ', 5), ('ទ', 7), ('ី', 5), ('ន', 8), ('ិ', 4), ('ឆ', 1), ('័', 8), ('យ', 5), ('ហ', 2), ('ក', 10), ('ែ', 5), ('ᅷ', 3), ('ᅸ', 3), ('胰', 1), ('臓', 3), ('พ', 46), ('ะ', 34), ('ห', 41), ('갂', 2), ('笳', 4), ('刮', 9), ('酃', 3), ('孱', 7), ('痂', 2), ('琺', 3), ('栞', 8), ('脅', 7), ('₲', 1), ('깂', 2), ('햿', 1), ('ぉ', 2), ('怏', 1), ('茱', 4), ('萸', 4), ('홱', 4), ('딷', 3), ('ⓝ', 2), ('磺', 3), ('諪', 3), ('栂', 1), ('塁', 6), ('険', 18), ('҃', 1), ('蛭', 5), ('轟', 3), ('韮', 4), ('믠', 2), ('梢', 5), ('豉', 9), ('戣', 2), ('淪', 9), ('墍', 6), ('硈', 3), ('藎', 21), ('鉦', 11), ('汭', 3), ('豁', 7), ('嫏', 1), ('邰', 9), ('蛮', 14), ('猟', 6), ('幄', 5), ('轡', 2), ('獯', 3), ('獫', 7), ('蚋', 1), ('衽', 2), ('荐', 2), ('鬢', 1), ('啖', 3), ('躡', 1), ('踵', 1), ('插', 2), ('贤', 7), ('领', 1), ('阶', 2), ('锷', 1), ('ʏ', 1), ('妸', 3), ('淽', 2), ('뗌', 2), ('捶', 2), ('伢', 1), ('芭', 28), ('蕉', 29), ('頴', 6), ('拗', 4), ('穳', 1), ('嶬', 1), ('쎼', 1), ('瀱', 1), ('Ѕ', 12), ('ѕ', 9), ('ꙅ', 1), ('ꙃ', 1), ('Ӡ', 4), ('Ⰷ', 2), ('ѣ', 5), ('Ϝ', 4), ('볿', 1), ('ɰ', 2), ('\\ue560', 4), ('\\ue1a7', 1), ('\\uf85e', 1), ('퐃', 1), ('簑', 4), ('绍', 3), ('횄', 2), ('ꦫ', 2), ('ꦗ', 1), ('ꦺ', 1), ('ꦴ', 1), ('ꦁ', 2), ('ꦒ', 1), ('ꦿ', 1), ('낍', 10), ('ׂ', 3), ('쎕', 1), ('맄', 2), ('렆', 1), ('휙', 24), ('Ụ', 1), ('Ạ', 1), ('쉅', 1), ('嫂', 10), ('桔', 10), ('︶', 2), ('︿', 1), ('宓', 12), ('熈', 6), ('혅', 2), ('Ⱓ', 1), ('Ⱆ', 1), ('燻', 9), ('鯀', 2), ('紮', 2), ('튭', 2), ('嬿', 8), ('＠', 2), ('埇', 1), ('璈', 1), ('쳑', 4), ('鮭', 1), ('굔', 2), ('땨', 3), ('줫', 3), ('쩃', 2), ('蹋', 9), ('횩', 5), ('褶', 14), ('鵙', 1), ('廿', 4), ('约', 5), ('羂', 3), ('臻', 7), ('纓', 23), ('湑', 5), ('髄', 2), ('얅', 2), ('宪', 3), ('젏', 1), ('籩', 3), ('脯', 6), ('膋', 1), ('ㅦ', 4), ('ᇋ', 3), ('ꥸ', 2), ('ퟗ', 1), ('响', 4), ('坖', 1), ('衎', 6), ('雴', 8), ('芿', 4), ('唜', 10), ('翮', 16), ('爕', 2), ('鏶', 11), ('翯', 1), ('峋', 6), ('灦', 2), ('澩', 1), ('𣴴', 1), ('𨥭', 2), ('昈', 2), ('栻', 12), ('潚', 16), ('㵓', 2), ('鏈', 1), ('瀚', 24), ('鍰', 1), ('瑍', 3), ('㴤', 1), ('斆', 1), ('岌', 7), ('邠', 10), ('Ĕ', 1), ('玶', 5), ('휭', 12), ('艙', 4), ('贺', 7), ('檔', 25), ('뻴', 8), ('坵', 21), ('羋', 8), ('𒊩', 1), ('𒌆', 1), ('𒉺', 1), ('𒂅', 1), ('暊', 3), ('꿧', 5), ('ힱ', 2), ('玕', 2), ('鐔', 7), ('㮨', 1), ('玵', 1), ('𣷣', 1), ('琡', 8), ('稑', 1), ('榏', 1), ('榟', 3), ('珵', 2), ('滈', 3), ('䘥', 1), ('䅅', 1), ('紞', 4), ('襐', 1), ('㷽', 1), ('僐', 7), ('鋉', 1), ('烒', 4), ('扆', 1), ('絍', 1), ('㻋', 5), ('㬛', 1), ('橝', 1), ('墢', 1), ('鑌', 4), ('𤫙', 1), ('灄', 2), ('綄', 1), ('錙', 4), ('鞋', 22), ('㑧', 1), ('冈', 6), ('ả', 75), ('珷', 4), ('艷', 4), ('㬀', 1), ('轂', 3), ('衮', 4), ('텽', 2), ('譴', 7), ('剡', 11), ('晬', 6), ('阻', 15), ('輈', 2), ('帑', 5), ('顾', 6), ('蠲', 4), ('ϵ', 5), ('⌊', 1), ('⌋', 2), ('⌈', 2), ('⌉', 1), ('箪', 2), ('晒', 1), ('檳', 7), ('榔', 9), ('猒', 1), ('廡', 29), ('뿅', 13), ('┘', 2), ('ڑ', 1), ('軶', 4), ('밣', 2), ('写', 15), ('粋', 6), ('腋', 4), ('ퟴ', 1), ('‹', 62), ('›', 62), ('倹', 8), ('悊', 4), ('扠', 1), ('ퟻ', 2), ('ꥶ', 2), ('몯', 3), ('怍', 1), ('ᇺ', 2), ('ە', 7), ('ۇ', 2), ('틉', 26), ('郕', 10), ('戾', 18), ('窴', 1), ('昬', 2), ('窈', 3), ('窕', 2), ('茞', 1), ('袐', 1), ('遭', 18), ('옜', 6), ('欒', 25), ('┏', 1), ('虻', 1), ('⊿', 8), ('ɬ', 4), ('脱', 18), ('伺', 107), ('閟', 3), ('篪', 5), ('籥', 3), ('篴', 1), ('ฝ', 2), ('廄', 4), ('擅', 7), ('Ę', 5), ('뇓', 1), ('맕', 1), ('𦳣', 2), ('낢', 9), ('𤲟', 1), ('銇', 1), ('羕', 2), ('댱', 4), ('즛', 3), ('犂', 1), ('犢', 28), ('桧', 2), ('閇', 3), ('珎', 4), ('薿', 2), ('梱', 1), ('嵂', 4), ('鴫', 1), ('鷦', 5), ('鷯', 3), ('黛', 9), ('筐', 2), ('鰹', 2), ('絜', 1), ('咩', 1), ('既', 9), ('淤', 3), ('簀', 1), ('纒', 1), ('這', 13), ('梭', 10), ('鬘', 17), ('饮', 2), ('曁', 9), ('뀝', 2), ('豨', 4), ('蹏', 2), ('菑', 21), ('秣', 10), ('敾', 21), ('夙', 10), ('ེ', 41), ('枛', 1), ('酢', 7), ('枳', 17), ('▵', 8), ('龟', 3), ('兹', 1), ('蹇', 6), ('ល', 5), ('ឃ', 1), ('阴', 8), ('歓', 8), ('懽', 14), ('沪', 23), ('记', 11), ('妈', 4), ('爸', 7), ('们', 6), ('导', 4), ('飄', 9), ('咒', 5), ('屢', 7), ('丱', 1), ('跱', 1), ('喈', 1), ('ϑ', 1), ('뺘', 6), ('Ｙ', 2), ('Ｔ', 12), ('偫', 2), ('瓏', 2), ('埵', 6), ('帕', 9), ('渺', 2), ('径', 5), ('梦', 15), ('盩', 2), ('厔', 2), ('钭', 1), ('픙', 6), ('黥', 6), ('竊', 11), ('麯', 12), ('氛', 2), ('諟', 5), ('놃', 1), ('馰', 1), ('蕰', 4), ('泖', 1), ('掬', 2), ('苓', 11), ('獠', 5), ('澧', 12), ('薗', 2), ('谦', 4), ('廁', 3), ('嬀', 24), ('轨', 14), ('릘', 1), ('蠧', 2), ('秫', 3), ('榭', 2), ('鸳', 1), ('鸯', 1), ('听', 3), ('谁', 3), ('晖', 3), ('袒', 27), ('黟', 5), ('勧', 11), ('澹', 27), ('覬', 2), ('啼', 8), ('墯', 1), ('齲', 1), ('輧', 1), ('幘', 3), ('旂', 1), ('嚬', 3), ('絫', 4), ('嬙', 2), ('횽', 1), ('燼', 3), ('ܢ', 8), ('ܐ', 15), ('鮎', 7), ('垾', 3), ('龔', 27), ('质', 8), ('产', 19), ('縑', 3), ('𝐼', 1), ('触', 11), ('眭', 7), ('紱', 1), ('晤', 8), ('彜', 3), ('嫘', 2), ('싪', 1), ('梆', 3), ('澉', 2), ('籟', 1), ('錡', 20), ('阊', 2), ('寻', 3), ('燿', 5), ('璆', 12), ('复', 13), ('瓓', 2), ('怜', 8), ('긓', 1), ('娄', 1), ('仓', 5), ('闸', 6), ('历', 7), ('甪', 1), ('པ', 31), ('ྨ', 4), ('ྱ', 39), ('𗼎', 1), ('𗾧', 1), ('̱', 2), ('𗼇', 1), ('𘓐', 1), ('閶', 1), ('烜', 8), ('穈', 1), ('罫', 4), ('夹', 6), ('贯', 2), ('澡', 5), ('啸', 1), ('搂', 2), ('읐', 1), ('攽', 3), ('鏘', 3), ('软', 2), ('臙', 5), ('얉', 48), ('鑡', 4), ('➡', 9), ('葫', 17), ('औ', 4), ('＾', 2), ('｀', 5), ('˘', 1), ('˛', 2), ('⁂', 1), ('￠', 1), ('￡', 3), ('¤', 4), ('㎕', 2), ('㎗', 2), ('㎣', 3), ('㎤', 2), ('㎦', 2), ('㎙', 1), ('㎨', 1), ('㎰', 1), ('㎳', 1), ('㎴', 1), ('㎵', 1), ('㎶', 1), ('㎷', 1), ('㎸', 1), ('㎹', 1), ('㎀', 1), ('㎁', 1), ('㎂', 1), ('㎃', 2), ('㎄', 1), ('㎺', 1), ('㎻', 1), ('㎼', 1), ('㎽', 1), ('㎿', 9), ('㎔', 5), ('㏀', 1), ('㏁', 1), ('㎊', 1), ('㎋', 1), ('㎌', 1), ('㎭', 1), ('㎮', 2), ('㎯', 1), ('㏛', 1), ('㎩', 1), ('㎪', 1), ('㎫', 1), ('㎬', 1), ('㏝', 1), ('㏐', 1), ('㏉', 1), ('㏜', 2), ('㏆', 1), ('＃', 8), ('〓', 1), ('◁', 1), ('◀', 1), ('♤', 7), ('♧', 3), ('⊙', 65), ('◈', 36), ('◐', 1), ('◑', 1), ('▒', 1), ('▤', 1), ('▥', 1), ('▧', 1), ('▦', 1), ('♨', 2), ('☏', 1), ('☎', 3), ('¶', 7), ('‡', 27), ('↙', 4), ('↖', 2), ('♩', 5), ('㉿', 1), ('㏇', 1), ('㏂', 2), ('㏘', 2), ('℡', 1), ('ª', 2), ('ⓕ', 1), ('ⓖ', 1), ('ⓗ', 1), ('ⓘ', 1), ('ⓙ', 1), ('ⓚ', 1), ('ⓞ', 1), ('ⓟ', 1), ('ⓠ', 1), ('ⓡ', 1), ('ⓢ', 1), ('ⓣ', 1), ('ⓥ', 1), ('ⓦ', 1), ('ⓧ', 1), ('ⓨ', 1), ('ⓩ', 1), ('⒜', 3), ('⒝', 3), ('⒞', 3), ('⒟', 3), ('⒠', 3), ('⒡', 2), ('⒢', 2), ('⒣', 2), ('⒤', 2), ('⒥', 1), ('⒦', 1), ('⒧', 1), ('⒨', 1), ('⒩', 1), ('⒪', 1), ('⒫', 1), ('⒬', 1), ('⒭', 1), ('⒮', 1), ('⒯', 1), ('⒰', 1), ('⒱', 1), ('⒲', 1), ('⒳', 1), ('⒴', 1), ('⒵', 1), ('⒀', 1), ('⒁', 1), ('⒂', 1), ('０', 12), ('ⅲ', 2), ('ⅴ', 1), ('ⅵ', 1), ('ⅶ', 1), ('ⅷ', 1), ('ⅸ', 1), ('ⅹ', 4), ('⅛', 1), ('⅜', 2), ('⅝', 1), ('⅞', 1), ('⁴', 2), ('ㅥ', 6), ('ㅧ', 2), ('ㅨ', 2), ('ㅩ', 3), ('ㅪ', 2), ('ㅫ', 2), ('ㅬ', 2), ('ㅮ', 2), ('ㅯ', 2), ('ㅰ', 2), ('ㅷ', 2), ('ㅻ', 2), ('ㆀ', 2), ('ㆂ', 2), ('ㆃ', 2), ('ㆇ', 4), ('ㆈ', 2), ('ㆌ', 4), ('Ａ', 14), ('Ｂ', 2), ('Ｄ', 11), ('Ｈ', 3), ('Ｉ', 6), ('Ｎ', 5), ('Ｑ', 1), ('Ｚ', 4), ('ａ', 1), ('ｂ', 1), ('ｃ', 1), ('ｄ', 1), ('ｅ', 1), ('ｆ', 1), ('ｇ', 6), ('ｈ', 1), ('ｊ', 1), ('ｌ', 1), ('ｎ', 1), ('ｏ', 1), ('ｐ', 1), ('ｑ', 1), ('ｓ', 1), ('ｕ', 1), ('ｖ', 1), ('ｗ', 1), ('ｘ', 1), ('ｙ', 2), ('ｚ', 1), ('Ħ', 5), ('Ĳ', 1), ('Ŀ', 1), ('Ŧ', 5), ('Ŋ', 6), ('ĳ', 1), ('ŀ', 1), ('ŧ', 4), ('ŉ', 1), ('ぅ', 5), ('ゎ', 10), ('ヮ', 2), ('ᠲ', 2), ('ᠣ', 1), ('ᠭ', 2), ('洼', 5), ('蝋', 3), ('ˀ', 1), ('ዕ', 4), ('ዝ', 1), ('ʕ', 6), ('ὺ', 10), ('ྒ', 16), ('ཞ', 11), ('ស', 4), ('ណ', 1), ('劈', 4), ('ូ', 2), ('笒', 4), ('疽', 12), ('蛆', 5), ('꾄', 5), ('藹', 4), ('鱹', 1), ('푕', 9), ('臈', 3), ('嫗', 2), ('衾', 5), ('锺', 1), ('拨', 1), ('埥', 1), ('甦', 1), ('ཉ', 3), ('勻', 5), ('섿', 2), ('렡', 2), ('혿', 2), ('솓', 6), ('쿹', 1), ('噛', 2), ('熜', 6), ('杬', 6), ('ठ', 5), ('आ', 2), ('ञ', 3), ('樘', 3), ('韃', 4), ('靼', 5), ('ې', 3), ('亐', 2), ('拋', 1), ('欌', 17), ('樻', 2), ('Ṣ', 8), ('쒀', 20), ('蓚', 1), ('춋', 1), ('먁', 13), ('넀', 2), ('볻', 3), ('瑺', 10), ('柹', 2), ('蔕', 4), ('㾐', 1), ('싄', 1), ('牋', 2), ('愭', 4), ('墀', 10), ('灡', 1), ('\\ued30', 1), ('\\uf136', 1), ('\\uf05c', 1), ('妺', 1), ('챦', 2), ('箒', 3), ('雹', 1), ('溧', 7), ('𡸫', 1), ('𪚰', 1), ('龝', 2), ('◉', 8), ('◯', 50), ('✝', 2), ('觴', 7), ('姁', 4), ('剽', 4), ('悍', 33), ('অ', 1), ('আ', 1), ('ই', 1), ('ঈ', 1), ('উ', 1), ('ঊ', 1), ('ঋ', 1), ('এ', 1), ('ঐ', 1), ('ও', 1), ('ঔ', 1), ('ক', 4), ('খ', 2), ('গ', 1), ('ঘ', 2), ('ঙ', 1), ('চ', 1), ('ছ', 2), ('ঝ', 1), ('ঞ', 1), ('ট', 6), ('ঠ', 2), ('ড', 3), ('ঢ', 2), ('ণ', 1), ('থ', 1), ('দ', 11), ('ধ', 4), ('ন', 11), ('প', 2), ('ফ', 1), ('ভ', 2), ('ম', 5), ('ৰ', 1), ('ৱ', 1), ('শ', 5), ('ষ', 1), ('হ', 1), ('ঃ', 1), ('ঁ', 1), ('Գ', 3), ('Զ', 1), ('Է', 2), ('Ը', 1), ('Ժ', 1), ('Ի', 5), ('Լ', 1), ('Խ', 4), ('Ծ', 2), ('Ձ', 1), ('Ճ', 1), ('Յ', 1), ('Ն', 1), ('Շ', 1), ('Ո', 1), ('Չ', 1), ('Ջ', 1), ('Ռ', 2), ('Վ', 6), ('Տ', 1), ('Ր', 1), ('Ց', 1), ('Ւ', 1), ('Փ', 1), ('Օ', 1), ('Ֆ', 1), ('ܒ', 5), ('ܓ', 2), ('ܗ', 4), ('ܙ', 4), ('ܚ', 1), ('ܛ', 2), ('ܟ', 3), ('ܠ', 2), ('ܥ', 4), ('ܦ', 1), ('ܨ', 2), ('ܫ', 4), ('ܬ', 9), ('გ', 16), ('დ', 11), ('მ', 21), ('ღ', 4), ('ყ', 8), ('შ', 5), ('ჩ', 2), ('ძ', 7), ('წ', 6), ('ჯ', 2), ('ჰ', 1), ('ㄆ', 1), ('ㄇ', 5), ('ㄋ', 1), ('ㄌ', 1), ('ㄎ', 1), ('ㄑ', 1), ('ㄔ', 2), ('ㄕ', 1), ('ㄖ', 1), ('ㄗ', 3), ('ㄘ', 1), ('ㄛ', 2), ('ㄠ', 1), ('ㄡ', 1), ('ㄤ', 5), ('ㄦ', 1), ('ㄧ', 8), ('ㄭ', 1), ('\\u1680', 11), ('ᚁ', 3), ('ᚂ', 1), ('ᚃ', 1), ('ᚄ', 1), ('ᚅ', 1), ('ᚆ', 2), ('ᚇ', 1), ('ᚈ', 1), ('ᚉ', 1), ('ᚊ', 1), ('ᚋ', 1), ('ᚌ', 1), ('ᚍ', 2), ('ᚎ', 2), ('ᚏ', 1), ('ᚐ', 1), ('ᚑ', 1), ('ᚒ', 1), ('ᚓ', 1), ('ᚔ', 1), ('ᚕ', 1), ('ᚖ', 1), ('ᚗ', 1), ('ᚘ', 1), ('ᚙ', 1), ('ᚚ', 1), ('᚛', 1), ('᚜', 1), ('ሀ', 1), ('ለ', 4), ('ሐ', 1), ('ሠ', 1), ('ረ', 2), ('ሰ', 3), ('ኀ', 1), ('ነ', 5), ('ከ', 2), ('ዐ', 1), ('ዘ', 4), ('የ', 2), ('ጠ', 1), ('ጰ', 1), ('ጸ', 2), ('ፀ', 1), ('ፈ', 1), ('ፐ', 1), ('拵', 5), ('蔔', 5), ('섦', 6), ('貉', 5), ('薉', 1), ('岗', 14), ('㪍', 1), ('浑', 5), ('卧', 3), ('钂', 2), ('ὀ', 5), ('榥', 6), ('攤', 1), ('퐷', 1), ('糶', 3), ('糴', 2), ('埜', 6), ('㶞', 2), ('剔', 7), ('샇', 1), ('몀', 6), ('憁', 2), ('粔', 1), ('籹', 1), ('餦', 1), ('餭', 1), ('餳', 1), ('稛', 11), ('仞', 7), ('뿟', 3), ('馝', 4), ('縟', 2), ('븃', 1), ('￼', 11), ('ἥ', 3), ('邉', 374), ('毳', 1), ('袵', 1), ('箫', 3), ('嶮', 3), ('耇', 2), ('綁', 1), ('殂', 2), ('鲍', 2), ('启', 6), ('濶', 5), ('瞽', 1), ('⌃', 1), ('鋤', 17), ('砭', 3), ('棓', 2), ('Ṛ', 1), ('葶', 4), ('藶', 3), ('롖', 1), ('욯', 4), ('烺', 1), ('냣', 13), ('缸', 13), ('譟', 2), ('莭', 1), ('ẵ', 4), ('濙', 1), ('앆', 1), ('箙', 1), ('郯', 18), ('碝', 1), ('纘', 47), ('礏', 1), ('𢙯', 2), ('溎', 2), ('炷', 2), ('컀', 1), ('蝙', 6), ('蝠', 7), ('骷', 1), ('蜥', 2), ('蜴', 1), ('殭', 3), ('ʎ', 6), ('鋿', 1), ('Ћ', 3), ('₯', 2), ('甀', 2), ('湣', 14), ('淖', 8), ('虧', 3), ('吮', 2), ('痤', 2), ('漵', 3), ('奶', 5), ('檸', 3), ('檬', 1), ('閈', 11), ('嘏', 8), ('럄', 4), ('侖', 4), ('黁', 2), ('廞', 5), ('刦', 3), ('㖯', 1), ('乻', 1), ('猗', 13), ('瑆', 1), ('玝', 2), ('廼', 2), ('睹', 2), ('邃', 12), ('觚', 4), ('㮒', 3), ('岵', 3), ('賾', 6), ('蓨', 2), ('滏', 6), ('鵾', 2), ('婺', 14), ('붔', 1), ('劌', 2), ('艅', 7), ('膂', 4), ('褫', 1), ('셖', 3), ('葎', 1), ('鋹', 4), ('鼾', 1), ('异', 3), ('蚕', 6), ('鞱', 2), ('俚', 7), ('묾', 8), ('Ἵ', 1), ('竑', 8), ('禥', 1), ('㬎', 1), ('碙', 1), ('윱', 9), ('廝', 1), ('앹', 1), ('炡', 10), ('뤨', 1), ('俞', 10), ('뺵', 2), ('牖', 3), ('섁', 7), ('뼤', 2), ('딈', 1), ('뵷', 2), ('둄', 2), ('먓', 1), ('働', 23), ('鸿', 7), ('癬', 7), ('鉾', 7), ('倸', 1), ('彔', 3), ('鲁', 18), ('탘', 6), ('掯', 1), ('桎', 5), ('梏', 4), ('离', 16), ('齕', 10), ('蜿', 2), ('蜒', 2), ('囂', 10), ('嬌', 9), ('鏃', 8), ('迺', 4), ('榙', 1), ('慤', 14), ('薑', 20), ('翽', 4), ('颜', 5), ('跌', 4), ('䵍', 1), ('翳', 9), ('棹', 9), ('蒨', 9), ('軹', 9), ('洺', 9), ('闥', 12), ('葱', 8), ('迴', 19), ('嬾', 1), ('咥', 4), ('妍', 5), ('㙉', 9), ('耈', 5), ('꾕', 3), ('Ő', 2), ('萝', 1), ('桦', 4), ('饶', 2), ('辮', 5), ('絆', 13), ('詁', 10), ('㦳', 4), ('疥', 4), ('뫔', 1), ('犒', 1), ('廨', 14), ('聳', 16), ('橒', 6), ('芍', 10), ('虢', 29), ('鄶', 2), ('菔', 1), ('츔', 6), ('㺶', 1), ('┃', 39), ('鵄', 11), ('珚', 5), ('鵺', 1), ('裿', 3), ('悖', 13), ('虬', 3), ('恮', 17), ('恰', 12), ('衱', 1), ('𣉞', 1), ('襻', 1), ('忱', 30), ('縯', 4), ('袡', 1), ('𤎱', 1), ('僶', 1), ('붴', 1), ('玗', 10), ('莪', 4), ('嘘', 3), ('噂', 1), ('矗', 7), ('篳', 1), ('枫', 4), ('泾', 1), ('吓', 1), ('对', 8), ('瘪', 1), ('铺', 4), ('负', 1), ('责', 2), ('处', 7), ('祸', 1), ('鮪', 9), ('卬', 18), ('佻', 3), ('蓩', 2), ('掫', 1), ('碕', 4), ('苒', 4), ('㵜', 1), ('㴢', 1), ('篦', 2), ('搠', 2), ('퇑', 1), ('둚', 2), ('觱', 1), ('篥', 1), ('歙', 19), ('籐', 3), ('ㇼ', 3), ('瑅', 7), ('洩', 6), ('첬', 5), ('齢', 7), ('緘', 6), ('錆', 2), ('蜃', 2), ('鰤', 1), ('倞', 3), ('ℎ', 1), ('笥', 5), ('닽', 4), ('珝', 8), ('繊', 1), ('収', 9), ('튁', 7), ('磋', 5), ('މ', 5), ('ު', 6), ('ހ', 2), ('ަ', 5), ('އ', 3), ('ް', 4), ('ދ', 3), ('ނ', 1), ('ޝ', 1), ('ީ', 2), ('졀', 5), ('縕', 7), ('洤', 3), ('熽', 4), ('垍', 2), ('茝', 2), ('ˑ', 5), ('橃', 18), ('잗', 3), ('鯇', 1), ('鼇', 11), ('諴', 27), ('屺', 1), ('잏', 3), ('滌', 15), ('㷁', 2), ('蘚', 3), ('赁', 2), ('耨', 10), ('藐', 8), ('腻', 2), ('潙', 17), ('锜', 2), ('輗', 5), ('蒹', 3), ('亹', 4), ('蓊', 2), ('櫟', 21), ('鰥', 3), ('噪', 1), ('簷', 11), ('赬', 1), ('筯', 1), ('瑬', 17), ('瀗', 4), ('\\ue85a', 1), ('壑', 9), ('悛', 5), ('瑥', 2), ('綧', 7), ('㠉', 1), ('册', 11), ('霂', 2), ('眈', 5), ('盥', 2), ('餞', 12), ('黿', 11), ('槩', 4), ('覯', 2), ('斃', 4), ('袳', 5), ('鍈', 6), ('癯', 2), ('柟', 4), ('壄', 2), ('俙', 2), ('餃', 7), ('휑', 4), ('茁', 5), ('褂', 1), ('枏', 3), ('翱', 3), ('ᆍ', 4), ('逡', 5), ('輞', 5), ('愔', 9), ('垞', 2), ('坳', 2), ('欹', 2), ('沜', 2), ('朼', 2), ('玔', 1), ('磌', 3), ('\\ue8ec', 1), ('룐', 2), ('歇', 7), ('銒', 2), ('坯', 1), ('嗾', 2), ('琜', 2), ('襁', 1), ('黯', 10), ('굇', 1), ('皎', 15), ('聆', 2), ('忸', 3), ('檠', 3), ('杲', 21), ('槼', 1), ('棐', 4), ('禫', 1), ('渻', 3), ('쐰', 1), ('☐', 3), ('魘', 2), ('믓', 1), ('늇', 2), ('羚', 4), ('슉', 8), ('篔', 2), ('墅', 16), ('蛔', 3), ('쿙', 5), ('蠹', 11), ('祧', 21), ('彎', 18), ('嵇', 5), ('焕', 2), ('橈', 11), ('岏', 3), ('薱', 1), ('㝓', 7), ('寤', 5), ('譓', 6), ('獤', 1), ('萆', 1), ('俛', 5), ('吊', 8), ('悒', 1), ('揲', 2), ('璔', 6), ('崛', 18), ('弸', 1), ('竦', 4), ('櫂', 2), ('珓', 1), ('皴', 10), ('鉤', 29), ('㑳', 1), ('梳', 16), ('崵', 1), ('慍', 1), ('핶', 1), ('錞', 5), ('堦', 2), ('窘', 5), ('豌', 6), ('芎', 5), ('蘼', 1), ('薏', 3), ('苡', 3), ('隘', 10), ('捽', 1), ('떥', 1), ('嬅', 2), ('靷', 6), ('鎧', 9), ('鐎', 4), ('鴟', 5), ('ः', 1), ('諛', 1), ('馱', 11), ('勰', 4), ('☣', 1), ('齮', 4), ('畤', 8), ('遬', 3), ('窋', 2), ('諂', 34), ('囷', 2), ('灢', 1), ('辜', 3), ('翩', 5), ('鋐', 3), ('澕', 13), ('逓', 2), ('愰', 2), ('鄹', 2), ('偪', 5), ('垸', 20), ('슳', 1), ('ᄔ', 3), ('蒿', 3), ('駢', 5), ('簣', 1), ('Ή', 2), ('偓', 1), ('縠', 8), ('秺', 7), ('顙', 3), ('堞', 7), ('荳', 16), ('蔲', 11), ('鴕', 1), ('녯', 2), ('朧', 2), ('翺', 2), ('谭', 3), ('頲', 10), ('笵', 7), ('窿', 5), ('紵', 6), ('旴', 3), ('篋', 11), ('沄', 7), ('굘', 11), ('嗇', 10), ('룍', 1), ('瞿', 17), ('ퟳ', 1), ('ᆠ', 3), ('ꥹ', 2), ('彖', 4), ('巹', 4), ('帔', 3), ('턀', 3), ('鑢', 5), ('檓', 1), ('璱', 2), ('柬', 16), ('蔀', 2), ('蝀', 1), ('敔', 2), ('璩', 8), ('麚', 10), ('゜', 2), ('瘞', 5), ('髷', 2), ('笄', 3), ('褌', 3), ('击', 7), ('켸', 10), ('丫', 4), ('胛', 1), ('坫', 2), ('颪', 1), ('鯛', 3), ('嫇', 1), ('虍', 2), ('늿', 1), ('摭', 3), ('蘘', 3), ('萹', 1), ('兟', 1), ('곹', 2), ('菾', 1), ('쐼', 1), ('핱', 2), ('椶', 4), ('櫚', 7), ('棕', 6), ('暿', 3), ('㫜', 3), ('닜', 2), ('昫', 5), ('邆', 3), ('賧', 3), ('몪', 1), ('鍞', 1), ('𣞗', 1), ('概', 5), ('ਕ', 2), ('֖', 1), ('ᄙ', 3), ('鵯', 1), ('賈', 1), ('偷', 8), ('婬', 22), ('誑', 38), ('䟽', 15), ('읆', 3), ('ឡ', 2), ('縻', 5), ('靉', 1), ('跫', 1), ('栳', 1), ('泪', 5), ('蕷', 1), ('ᆀ', 3), ('媯', 3), ('Ļ', 4), ('뒁', 2), ('簞', 5), ('讜', 9), ('깓', 1), ('ử', 18), ('菘', 2), ('쎔', 2), ('箓', 1), ('鵞', 2), ('揺', 3), ('唵', 7), ('襑', 2), ('ǃ', 66), ('ǀ', 4), ('쾀', 4), ('ے', 1), ('淶', 2), ('닠', 1), ('\\u2028', 35), ('쵣', 1), ('瑣', 7), ('쉉', 1), ('餾', 2), ('鍑', 2), ('潜', 13), ('玀', 1), ('猓', 1), ('\\uf06c', 2), ('洱', 7), ('仄', 5), ('喂', 1), ('銋', 2), ('抢', 1), ('烧', 2), ('礖', 4), ('즑', 1), ('츺', 1), ('瞮', 1), ('酇', 20), ('鵰', 4), ('樅', 1), ('睾', 10), ('綖', 1), ('鍒', 2), ('琭', 1), ('襫', 2), ('炕', 3), ('錥', 5), ('螳', 2), ('螂', 2), ('찱', 1), ('Ὠ', 2), ('ꥼ', 2), ('ퟠ', 1), ('巓', 1), ('贵', 18), ('寏', 2), ('鞸', 1), ('덙', 1), ('庐', 3), ('浊', 2), ('滹', 2), ('郸', 1), ('态', 4), ('誢', 2), ('黌', 6), ('駣', 1), ('茫', 6), ('꼅', 1), ('쨴', 1), ('ཝ', 1), ('犛', 8), ('扱', 3), ('嚈', 1), ('噠', 1), ('栍', 11), ('䴥', 1), ('憔', 1), ('悴', 1), ('툽', 54), ('ἑ', 8), ('थ', 7), ('吼', 14), ('污', 86), ('恚', 58), ('顛', 26), ('逻', 1), ('₮', 1), ('袂', 3), ('裄', 1), ('慷', 9), ('☤', 1), ('耜', 1), ('侠', 6), ('鍍', 22), ('畬', 2), ('僩', 5), ('漓', 2), ('𨍭', 1), ('鲤', 2), ('仪', 6), ('邮', 5), ('调', 4), ('扌', 1), ('谓', 1), ('侨', 4), ('炀', 1), ('镜', 6), ('鉴', 5), ('笔', 5), ('骆', 1), ('宾', 1), ('牂', 11), ('弭', 1), ('愖', 3), ('𤨒', 3), ('諤', 1), ('繻', 7), ('笋', 2), ('缅', 1), ('佖', 6), ('ὔ', 3), ('˨', 3), ('˩', 2), ('阗', 1), ('ྩ', 3), ('阡', 3), ('瞼', 17), ('獜', 4), ('樠', 2), ('橪', 1), ('칳', 1), ('푣', 2), ('괂', 2), ('줓', 1), ('튻', 1), ('싲', 3), ('礡', 3), ('蓂', 7), ('鉸', 1), ('襖', 6), ('衲', 10), ('罇', 2), ('鋧', 6), ('憍', 30), ('銙', 6), ('鰼', 1), ('牁', 2), ('荄', 1), ('蹲', 9), ('䇳', 1), ('埅', 3), ('敭', 2), ('错', 1), ('鈗', 2), ('㕀', 1), ('朦', 1), ('\\ue97d', 1), ('归', 6), ('邂', 5), ('逅', 6), ('灞', 6), ('渷', 4), ('옺', 2), ('窄', 10), ('氅', 5), ('絮', 4), ('胙', 2), ('舃', 1), ('쏩', 2), ('銷', 4), ('죕', 2), ('襆', 1), ('昝', 1), ('茴', 5), ('跬', 2), ('埯', 1), ('瑔', 5), ('얊', 2), ('杳', 2), ('撝', 7), ('壜', 2), ('润', 2), ('驟', 3), ('菰', 2), ('蕊', 2), ('懃', 6), ('珇', 6), ('欞', 2), ('캴', 35), ('눞', 9), ('讲', 5), ('灤', 12), ('ὤ', 11), ('闈', 3), ('⁎', 11), ('덛', 3), ('悤', 6), ('裪', 1), ('琚', 10), ('Ͷ', 1), ('ͷ', 1), ('Ͱ', 2), ('ͱ', 1), ('Ϻ', 2), ('ϻ', 1), ('Ϸ', 3), ('ϸ', 1), ('Ϙ', 2), ('ϙ', 1), ('Ϟ', 1), ('Ͳ', 2), ('ͳ', 1), ('Ϡ', 1), ('翥', 4), ('皚', 1), ('₹', 6), ('ଟ', 3), ('ଙ', 1), ('୍', 1), ('କ', 1), ('ା', 1), ('॰', 1), ('缾', 3), ('婕', 16), ('妤', 15), ('쒜', 1), ('赢', 1), ('劲', 1), ('闵', 11), ('髆', 1), ('ˤ', 9), ('锟', 4), ('狁', 8), ('荈', 1), ('镌', 1), ('误', 2), ('傒', 11), ('桱', 2), ('编', 7), ('犖', 2), ('ⵟ', 2), ('ⵡ', 1), ('ⵏ', 5), ('辫', 1), ('읅', 3), ('焃', 2), ('炟', 2), ('偘', 3), ('匐', 3), ('闽', 6), ('歼', 2), ('屿', 2), ('깠', 3), ('칲', 4), ('嶁', 1), ('窆', 4), ('鋥', 22), ('恺', 2), ('萭', 2), ('\\x99', 1), ('涛', 4), ('뢱', 8), ('昷', 12), ('緇', 22), ('髡', 11), ('蜚', 3), ('涬', 2), ('钧', 3), ('툥', 2), ('햝', 2), ('蚧', 2), ('ṽ', 2), ('綫', 10), ('卡', 17), ('敲', 6), ('翫', 5), ('쾁', 1), ('쾃', 41), ('鄖', 6), ('掉', 63), ('쒼', 1), ('恙', 3), ('鬣', 1), ('疼', 3), ('鄣', 10), ('柤', 3), ('晅', 3), ('ʋ', 3), ('ᐨ', 10), ('숳', 2), ('顱', 1), ('Ἠ', 4), ('Ἤ', 1), ('Ἅ', 2), ('늅', 1), ('螓', 1), ('웆', 1), ('탶', 1), ('믁', 1), ('蒔', 7), ('곷', 2), ('帮', 3), ('皜', 2), ('韉', 1), ('愴', 11), ('遏', 8), ('酣', 1), ('填', 3), ('仅', 3), ('窝', 5), ('檯', 1), ('囎', 1), ('唹', 2), ('霅', 1), ('眜', 2), ('皃', 1), ('姊', 7), ('ܶ', 1), ('ܺ', 1), ('ẽ', 4), ('꺌', 1), ('逖', 7), ('戳', 2), ('灒', 1), ('憩', 66), ('劝', 1), ('帷', 2), ('欑', 1), ('밷', 6), ('鴿', 2), ('涂', 5), ('棵', 2), ('렜', 3), ('뭬', 1), ('瑒', 3), ('悏', 1), ('츩', 2), ('䜌', 3), ('钜', 2), ('薤', 2), ('뱔', 7), ('ڤ', 7), ('믕', 8), ('컈', 2), ('쵼', 4), ('湳', 6), ('葍', 1), ('绛', 3), ('寗', 16), ('堝', 3), ('𝄆', 3), ('𝄇', 3), ('㡣', 1), ('睺', 7), ('फ', 2), ('뫄', 4), ('岢', 2), ('艽', 3), ('ụ', 26), ('煽', 4), ('쐉', 1), ('搦', 2), ('Ǟ', 1), ('ǟ', 1), ('Ḑ', 3), ('ḑ', 3), ('ļ', 14), ('Ņ', 1), ('Ȯ', 1), ('ȯ', 1), ('Ȱ', 1), ('ȱ', 1), ('Ȭ', 1), ('ȭ', 1), ('Ŗ', 3), ('ŗ', 2), ('划', 6), ('罢', 1), ('掲', 3), ('洭', 1), ('窃', 1), ('敌', 1), ('蒋', 4), ('詧', 2), ('뻡', 3), ('뭋', 1), ('吕', 3), ('烝', 5), ('둰', 3), ('톼', 3), ('抓', 1), ('虾', 4), ('儈', 1), ('蒐', 9), ('鄞', 5), ('鄮', 1), ('捌', 8), ('軛', 67), ('Ἡ', 6), ('溤', 1), ('槀', 4), ('濉', 3), ('枞', 1), ('谯', 1), ('͘', 2), ('삠', 3), ('ຈ', 3), ('ູ', 3), ('ມ', 13), ('ີ', 5), ('ຍ', 7), ('湓', 2), ('潯', 3), ('洨', 9), ('逌', 5), ('ู', 17), ('墙', 2), ('馪', 5), ('埁', 4), ('馦', 2), ('邹', 3), ('鼐', 7), ('䵼', 1), ('灇', 1), ('矶', 1), ('慝', 1), ('밫', 2), ('蕢', 1), ('䂮', 1), ('괕', 1), ('蠅', 6), ('栴', 3), ('冼', 4), ('졘', 6), ('斅', 3), ('껼', 1), ('薮', 1), ('桄', 2), ('꽐', 3), ('캰', 18), ('洈', 1), ('鳜', 1), ('边', 4), ('显', 4), ('弈', 2), ('蕲', 1), ('⊞', 1), ('\\uf000', 4), ('拇', 2), ('凢', 1), ('郴', 12), ('濵', 1), ('礐', 1), ('ų', 13), ('ũ', 38), ('茵', 6), ('瘀', 3), ('叮', 4), ('噹', 2), ('啦', 4), ('ো', 1), ('ে', 11), ('膩', 3), ('駮', 1), ('哇', 1), ('琼', 6), ('섈', 48), ('尟', 1), ('鱻', 1), ('𠄩', 2), ('乶', 4), ('乷', 3), ('兺', 1), ('哛', 1), ('焙', 4), ('拠', 7), ('̈', 8), ('义', 9), ('蕖', 2), ('ȟ', 8), ('暆', 1), ('蜈', 3), ('蚣', 3), ('窗', 3), ('錍', 1), ('鉚', 1), ('僰', 2), ('ὕ', 4), ('严', 7), ('쏳', 2), ('栩', 4), ('짔', 4), ('攖', 2), ('딫', 6), ('⊥', 4), ('瞑', 4), ('痼', 1), ('ḵ', 3), ('勐', 1), ('씼', 6), ('껠', 1), ('槟', 3), ('澜', 4), ('狒', 2), ('젇', 5), ('鸣', 2), ('왝', 8), ('髠', 3), ('멂', 3), ('귯', 2), ('檫', 2), ('芼', 8), ('鼂', 4), ('坮', 14), ('䁐', 1), ('싁', 1), ('ڬ', 4), ('习', 6), ('웤', 6), ('뤗', 2), ('瘇', 3), ('롐', 4), ('甗', 1), ('哮', 1), ('歜', 1), ('鄋', 2), ('ሃ', 2), ('ኤ', 12), ('ር', 18), ('ራ', 15), ('𐤌', 1), ('𐤁', 1), ('걈', 3), ('쑴', 2), ('聂', 1), ('梴', 2), ('궉', 27), ('鴌', 7), ('苇', 3), ('涝', 1), ('즞', 1), ('塲', 6), ('樒', 1), ('佼', 5), ('苐', 1), ('嘖', 2), ('逶', 1), ('迤', 1), ('磅', 2), ('祊', 3), ('姱', 1), ('濆', 5), ('웇', 1), ('崢', 1), ('竱', 3), ('蓆', 1), ('鑅', 3), ('蓽', 2), ('뵛', 1), ('寘', 2), ('韭', 1), ('杂', 2), ('韂', 1), ('夋', 2), ('滂', 3), ('翬', 8), ('廙', 5), ('贋', 1), ('ἕ', 2), ('鑠', 3), ('넎', 2), ('譫', 3), ('ྗ', 9), ('郙', 1), ('矬', 1), ('袤', 6), ('儚', 1), ('ៅ', 1), ('̑', 1), ('ʝ', 2), ('ں', 1), ('翖', 1), ('孀', 5), ('仿', 2), ('싰', 1), ('蘴', 2), ('‱', 3), ('䎙', 2), ('𦐄', 1), ('梃', 4), ('Ĭ', 1), ('霔', 4), ('昐', 2), ('衖', 1), ('㥠', 8), ('愹', 2), ('侙', 5), ('趕', 5), ('錟', 1), ('Ґ', 3), ('ґ', 2), ('宲', 1), ('藼', 1), ('̆', 2), ('ᄊ', 3), ('ᵻ', 1), ('ᵿ', 1), ('햡', 1), ('瀕', 7), ('퀏', 1), ('Ⓚ', 1), ('ฺ', 1), ('훕', 9), ('ẻ', 7), ('旛', 2), ('簔', 2), ('杣', 5), ('쵤', 11), ('ẹ', 2), ('껜', 2), ('̊', 1), ('끠', 3), ('𝒩', 8), ('ỗ', 9), ('劻', 6), ('ᓄ', 1), ('Ư', 8), ('彡', 5), ('ỹ', 17), ('衤', 4), ('衄', 1), ('₫', 16), ('畹', 3), ('饃', 5), ('盔', 1), ('麫', 1), ('馒', 2), ('蹊', 3), ('儘', 2), ('穏', 3), ('抃', 13), ('銚', 4), ('₅', 2), ('₆', 15), ('쿌', 26), ('瑳', 1), ('콙', 1), ('焔', 1), ('ื', 10), ('ุ', 40), ('ใ', 9), ('ผ', 10), ('ฒ', 2), ('ธ', 11), ('ศ', 22), ('ถ', 7), ('ค', 31), ('〟', 2), ('긜', 1), ('뇐', 2), ('쿸', 1), ('퐈', 2), ('溏', 5), ('遾', 5), ('ณ', 13), ('埏', 7), ('\\x92', 1), ('熠', 8), ('ฎ', 2), ('侄', 4), ('浻', 3), ('墠', 1), ('ڠ', 8), ('曒', 2), ('ฟ', 4), ('瀿', 4), ('็', 7), ('์', 33), ('潡', 12), ('仐', 1), ('釰', 5), ('饁', 5), ('笭', 2), ('넑', 1), ('抉', 1), ('쪤', 1), ('촥', 4), ('堗', 1), ('珒', 3), ('돚', 2), ('稶', 6), ('蠑', 1), ('蚖', 1), ('嶨', 1), ('蕡', 2), ('𨯶', 3), ('鑂', 2), ('泑', 1), ('싡', 1), ('絛', 2), ('喁', 1), ('鏻', 5), ('腿', 8), ('䜤', 1), ('㤨', 1), ('哄', 1), ('쯊', 1), ('暒', 1), ('遘', 5), ('憓', 1), ('鱓', 1), ('둴', 2), ('뢨', 4), ('䦬', 1), ('蕟', 2), ('棖', 2), ('烿', 1), ('狷', 7), ('峕', 2), ('橚', 5), ('烷', 3), ('탖', 1), ('韠', 2), ('ᆂ', 3), ('槁', 1), ('愬', 2), ('菏', 2), ('긾', 1), ('妠', 2), ('볠', 2), ('⁺', 11), ('㉮', 2), ('㉯', 2), ('㉰', 2), ('\\uea4b', 1), ('ཕ', 17), ('崤', 2), ('玃', 2), ('浤', 3), ('湥', 1), ('勑', 3), ('晠', 1), ('癘', 6), ('砐', 3), ('鮒', 8), ('渇', 1), ('鴈', 5), ('喟', 3), ('釩', 3), ('薳', 3), ('帤', 1), ('㒚', 2), ('㺪', 2), ('鍔', 6), ('㻑', 3), ('㝡', 10), ('帿', 1), ('窠', 3), ('푱', 3), ('褆', 2), ('㴐', 3), ('眄', 1), ('淃', 5), ('倀', 2), ('顴', 2), ('臗', 2), ('懊', 2), ('娍', 1), ('濈', 4), ('漹', 5), ('넖', 3), ('洊', 2), ('篯', 1), ('妘', 4), ('昩', 2), ('祬', 4), ('憼', 3), ('榶', 1), ('茳', 3), ('頵', 4), ('삡', 3), ('薖', 1), ('燊', 2), ('终', 3), ('闅', 1), ('芪', 3), ('☮', 1), ('勀', 3), ('괏', 1), ('̡', 3), ('謜', 2), ('碾', 3), ('磑', 1), ('儞', 1), ('呢', 2), ('咪', 1), ('啊', 2), ('哦', 1), ('咿', 1), ('唔', 4), ('풔', 1), ('ᅒ', 4), ('ᅯ', 2), ('紉', 2), ('孑', 1), ('챱', 5), ('Ƕ', 2), ('ƕ', 1), ('𐍈', 1), ('酆', 10), ('斶', 1), ('涍', 4), ('淅', 4), ('纥', 1), ('𥙿', 1), ('縝', 9), ('柷', 2), ('漼', 2), ('儇', 2), ('槊', 7), ('攜', 6), ('熅', 1), ('瀍', 3), ('阎', 2), ('Ꮝ', 1), ('Ꮟ', 2), ('Ꮙ', 1), ('Ꮿ', 1), ('詺', 1), ('ᛃ', 2), ('ᛜ', 2), ('ᚷ', 1), ('ᚲ', 1), ('耣', 1), ('䎩', 2), ('暋', 2), ('鈇', 2), ('墰', 4), ('漈', 2), ('ἠ', 1), ('ஷ', 3), ('澺', 2), ('𥘉', 1), ('𥙆', 1), ('𥚻', 2), ('‛', 1), ('玿', 2), ('暝', 2), ('䄇', 1), ('裎', 1), ('蓁', 5), ('徂', 4), ('囀', 1), ('걋', 1), ('븅', 1), ('ٍ', 3), ('憨', 6), ('躋', 6), ('뤀', 1), ('햋', 2), ('傻', 1), ('誧', 4), ('煚', 3), ('쇡', 1), ('艀', 2), ('찣', 2), ('ฐ', 4), ('ซ', 3), ('ฬ', 1), ('ฉ', 4), ('崃', 2), ('ዓ', 6), ('ማ', 5), ('ሲ', 1), ('ታ', 2), ('ብ', 8), ('ሓ', 3), ('ቢ', 3), ('።', 5), ('ኺ', 1), ('ሳ', 2), ('ኣ', 4), ('ላ', 4), ('ቲ', 1), ('ጽ', 3), ('ኰ', 1), ('ኑ', 1), ('ዛ', 1), ('ዉ', 1), ('ጹ', 1), ('ኪ', 2), ('ቂ', 1), ('ጨ', 2), ('ጣ', 3), ('ቶ', 2), ('ቡ', 3), ('ኦ', 1), ('ዑ', 1), ('ኒ', 1), ('ህ', 1), ('ጻ', 1), ('ጃ', 1), ('읿', 2), ('ㅤ', 5), ('饍', 2), ('ҹ', 1), ('鄃', 2), ('溍', 9), ('刎', 6), ('澠', 4), ('鄗', 4), ('粁', 1), ('𐍐', 1), ('𐍑', 1), ('깩', 2), ('糀', 1), ('劳', 10), ('蝮', 2), ('ᇧ', 2), ('襸', 2), ('𡐔', 2), ('梠', 1), ('㥽', 2), ('䫨', 3), ('賱', 1), ('枻', 1), ('춉', 17), ('䟆', 1), ('趂', 1), ('鰻', 3), ('酩', 3), ('癲', 3), ('挚', 3), ('穷', 1), ('摰', 1), ('蟜', 4), ('̩', 2), ('斟', 2), ('\\u3130', 1), ('\\u318f', 1), ('ᄁ', 1), ('ᄄ', 1), ('ᄈ', 1), ('ᄋ', 3), ('ᄍ', 2), ('ᄎ', 1), ('ᄏ', 1), ('ᄐ', 1), ('ᄑ', 1), ('ᄓ', 1), ('ᄕ', 1), ('ᄖ', 1), ('ᄗ', 1), ('ᄘ', 1), ('ᄜ', 1), ('ᄝ', 1), ('ᄞ', 1), ('ᄟ', 1), ('ᄠ', 1), ('ᄡ', 1), ('ᄢ', 1), ('ᄣ', 1), ('ᄤ', 1), ('ᄦ', 1), ('ᄧ', 1), ('ᄨ', 1), ('ᄩ', 1), ('ᄪ', 1), ('ᄫ', 1), ('ᄬ', 1), ('ᄭ', 1), ('ᄮ', 1), ('ᄰ', 1), ('ᄱ', 1), ('ᄲ', 1), ('ᄳ', 1), ('ᄵ', 1), ('ᄶ', 1), ('ᄷ', 1), ('ᄹ', 1), ('ᄺ', 1), ('ᅓ', 1), ('ᅖ', 1), ('ᅗ', 1), ('ᅘ', 1), ('ᅙ', 1), ('ᅚ', 1), ('ᅛ', 1), ('ᅜ', 1), ('ᅝ', 1), ('ᅞ', 1), ('ᅢ', 1), ('ᅣ', 1), ('ᅤ', 1), ('ᅥ', 1), ('ᅦ', 1), ('ᅧ', 1), ('ᅨ', 1), ('ᅪ', 1), ('ᅫ', 1), ('ᅬ', 1), ('ᅭ', 1), ('ᅰ', 1), ('ᅱ', 1), ('ᅲ', 1), ('ᅳ', 2), ('ᅴ', 1), ('ᅹ', 1), ('ᅺ', 1), ('ᅻ', 1), ('ᅼ', 1), ('ᅽ', 2), ('ᅾ', 1), ('ᅿ', 1), ('ᆁ', 1), ('ᆄ', 1), ('ᆅ', 1), ('ᆆ', 1), ('ᆇ', 1), ('ᆈ', 1), ('ᆉ', 1), ('ᆊ', 1), ('ᆋ', 3), ('ᆌ', 1), ('ᆎ', 1), ('ᆏ', 1), ('ᆐ', 1), ('ᆑ', 1), ('ᆒ', 1), ('ᆓ', 1), ('ᆔ', 1), ('ᆕ', 1), ('ᆗ', 1), ('ᆘ', 1), ('ᆙ', 1), ('ᆚ', 3), ('ᆛ', 1), ('ᆟ', 1), ('ᆩ', 1), ('ᆪ', 1), ('ᆬ', 1), ('ᆭ', 1), ('ᆮ', 1), ('ᆱ', 1), ('ᆲ', 1), ('ᆳ', 1), ('ᆴ', 1), ('ᆵ', 1), ('ᆶ', 1), ('ᆸ', 1), ('ᆹ', 1), ('ᆺ', 1), ('ᆻ', 3), ('ᆼ', 1), ('ᆽ', 1), ('ᆾ', 1), ('ᆿ', 1), ('ᇀ', 1), ('ᇁ', 1), ('ᇂ', 1), ('ᇃ', 2), ('ᇄ', 1), ('ᇅ', 1), ('ᇆ', 1), ('ᇇ', 1), ('ᇈ', 1), ('ᇉ', 1), ('ᇊ', 1), ('ᇌ', 1), ('ᇍ', 1), ('ᇎ', 1), ('ᇏ', 1), ('ᇐ', 1), ('ᇑ', 1), ('ᇒ', 1), ('ᇓ', 1), ('ᇔ', 1), ('ᇕ', 1), ('ᇖ', 1), ('ᇗ', 1), ('ᇙ', 1), ('ᇛ', 1), ('ᇜ', 1), ('ᇞ', 1), ('ᇟ', 1), ('ᇠ', 1), ('ᇡ', 1), ('ᇢ', 1), ('ᇣ', 1), ('ᇤ', 1), ('ᇥ', 1), ('ᇦ', 1), ('ᇨ', 1), ('ᇩ', 1), ('ᇪ', 1), ('ᇬ', 1), ('ᇭ', 1), ('ᇮ', 1), ('ᇯ', 1), ('ᇱ', 1), ('ᇲ', 1), ('ᇳ', 1), ('ᇴ', 1), ('ᇵ', 1), ('ᇶ', 1), ('ᇷ', 1), ('ᇸ', 1), ('ᇹ', 1), ('ᇻ', 1), ('ᇼ', 1), ('ᇽ', 1), ('ᇾ', 1), ('ᇿ', 2), ('廑', 2), ('곻', 1), ('玘', 4), ('隞', 3), ('戔', 4), ('颂', 2), ('廪', 1), ('嚣', 1), ('沬', 1), ('娀', 3), ('繄', 1), ('囏', 3), ('玁', 4), ('繰', 3), ('蚡', 6), ('匄', 3), ('丐', 5), ('摎', 1), ('\\uf0a7', 1), ('袢', 1), ('頽', 1), ('逨', 1), ('墭', 1), ('殄', 3), ('泵', 2), ('艋', 6), ('舺', 6), ('吶', 3), ('鉝', 1), ('塉', 1), ('嶂', 3), ('墘', 4), ('놘', 16), ('碇', 4), ('嵙', 3), ('捩', 1), ('怵', 2), ('惴', 2), ('澟', 1), ('荖', 5), ('粄', 2), ('巔', 3), ('頚', 2), ('莿', 4), ('圮', 3), ('蝾', 3), ('螈', 3), ('擂', 1), ('ϒ', 1), ('芇', 1), ('懂', 3), ('遴', 5), ('挖', 1), ('壢', 5), ('陥', 2), ('蔴', 3), ('壠', 1), ('囉', 5), ('嘓', 2), ('漚', 2), ('噍', 1), ('哖', 1), ('駰', 6), ('塱', 2), ('洄', 1), ('푁', 31), ('咖', 2), ('啡', 2), ('梀', 1), ('댗', 1), ('咯', 1), ('鰂', 2), ('筲', 2), ('脷', 1), ('鑽', 5), ('滘', 3), ('잌', 15), ('⁰', 5), ('쇵', 4), ('巄', 2), ('屽', 1), ('휄', 3), ('쀼', 6), ('뀠', 1), ('傈', 1), ('僳', 1), ('윥', 1), ('盋', 1), ('螟', 4), ('噉', 1), ('儛', 1), ('擡', 1), ('🇷', 1), ('🇺', 1), ('칱', 1), ('궨', 7), ('煳', 1), ('韞', 3), ('趟', 1), ('让', 1), ('窦', 2), ('闼', 1), ('辅', 1), ('纯', 3), ('叠', 4), ('ᨣ', 1), ('ᩴ', 1), ('ᩤ', 1), ('ᨾ', 1), ('ᩮ', 1), ('ᩥ', 1), ('ᩬ', 1), ('ᨦ', 1), ('喦', 1), ('ừ', 19), ('ằ', 10), ('篙', 3), ('땁', 2), ('涮', 1), ('쾻', 1), ('썅', 4), ('ฯ', 1), ('葷', 4), ('ǰ', 3), ('蘐', 1), ('粢', 1), ('鯗', 1), ('Ă', 7), ('椷', 2), ('蜆', 5), ('蚬', 1), ('㺩', 2), ('壷', 11), ('苫', 3), ('홤', 3), ('𩇕', 2), ('焠', 1), ('걺', 3), ('罃', 6), ('騑', 1), ('絺', 2), ('圂', 2), ('陘', 6), ('芈', 6), ('黶', 3), ('躒', 2), ('遅', 6), ('羆', 1), ('薷', 2), ('驩', 7), ('絰', 3), ('핮', 4), ('덭', 2), ('헰', 2), ('젆', 1), ('늕', 1), ('윛', 2), ('뮺', 1), ('맆', 2), ('팯', 2), ('늒', 1), ('找', 4), ('棊', 2), ('淆', 5), ('穝', 1), ('惛', 63), ('濸', 1), ('燝', 1), ('雚', 1), ('弹', 1), ('舰', 4), ('贴', 1), ('郳', 5), ('駘', 4), ('岠', 1), ('蠆', 3), ('🐍', 1), ('乸', 1), ('ǩ', 2), ('偲', 1), ('輟', 9), ('㡯', 1), ('쫗', 2), ('娵', 1), ('孖', 2), ('봣', 1), ('滲', 3), ('쐑', 1), ('삻', 2), ('粦', 1), ('팑', 1), ('궷', 1), ('湕', 2), ('\\u2061', 9), ('Ą', 2), ('놧', 1), ('ჳ', 1), ('ჲ', 3), ('뺴', 6), ('└', 4), ('┐', 1), ('嫖', 3), ('筽', 5), ('轰', 1), ('鑣', 1), ('蹤', 4), ('㩼', 1), ('ʱ', 1), ('ʈ', 5), ('췡', 1), ('孊', 1), ('袷', 2), ('唳', 1), ('监', 3), ('స', 1), ('ర', 3), ('్', 5), ('వ', 1), ('ే', 1), ('ప', 1), ('ల', 4), ('ి', 2), ('ా', 4), ('ధ', 1), ('క', 2), ('ృ', 1), ('ష', 1), ('ణ', 1), ('醂', 1), ('ץ', 5), ('잂', 1), ('Ӷ', 1), ('ӷ', 1), ('暅', 2), ('ҟ', 1), ('涸', 1), ('舗', 5), ('餺', 1), ('飥', 1), ('ŷ', 2), ('骜', 1), ('ҥ', 2), ('ӡ', 2), ('Ǯ', 1), ('ǯ', 1), ('Ҥ', 1), ('꿏', 2), ('狃', 4), ('琂', 4), ('ể', 23), ('얠', 5), ('旵', 4), ('啚', 2), ('霬', 1), ('䃤', 1), ('巚', 2), ('溆', 1), ('鷫', 1), ('𤦛', 1), ('玎', 10), ('滮', 1), ('澋', 1), ('𤂿', 1), ('𧝀', 1), ('䃏', 2), ('侹', 5), ('摶', 1), ('倓', 2), ('磷', 6), ('裒', 2), ('儐', 2), ('𡷗', 1), ('㠎', 2), ('傪', 1), ('棪', 3), ('驌', 1), ('驊', 1), ('涀', 1), ('銊', 1), ('柅', 1), ('楀', 1), ('𤇜', 1), ('埞', 1), ('𥖭', 1), ('鉐', 3), ('赛', 15), ('组', 9), ('췽', 1), ('諵', 1), ('𤍅', 1), ('输', 4), ('嗄', 2), ('맃', 1), ('钓', 3), ('Ằ', 1), ('Ắ', 1), ('Ẳ', 1), ('ẳ', 2), ('Ẵ', 1), ('Ặ', 1), ('炖', 3), ('왹', 8), ('蛞', 1), ('̝', 5), ('싻', 4), ('뻰', 2), ('頠', 5), ('\\ue8fc', 1), ('蘧', 1), ('\\uf0f0', 1), ('遽', 10), ('굥', 3), ('쳘', 2), ('譁', 1), ('郖', 1), ('卅', 1), ('歂', 3), ('庲', 2), ('郗', 5), ('悺', 1), ('嫻', 2), ('詒', 3), ('愨', 1), ('⑲', 2), ('嶹', 1), ('鑾', 5), ('ẫ', 4), ('ὰ', 11), ('숔', 1), ('☓', 2), ('銢', 1), ('诚', 2), ('睧', 1), ('俰', 1), ('渶', 4), ('쨀', 1), ('褱', 1), ('梂', 1), ('埬', 4), ('栘', 4), ('麊', 2), ('ỷ', 5), ('逴', 2), ('Ứ', 6), ('昵', 3), ('簠', 8), ('簋', 5), ('뇻', 3), ('꺠', 2), ('깖', 1), ('່', 3), ('닞', 1), ('熑', 1), ('픝', 1), ('ٌ', 4), ('𨇗', 1), ('얭', 22), ('됏', 2), ('熿', 3), ('疸', 3), ('虺', 3), ('푠', 10), ('럐', 2), ('殲', 6), ('鑊', 8), ('䧄', 1), ('澅', 2), ('鶹', 1), ('檐', 10), ('榦', 2), ('僥', 1), ('묹', 2), ('옞', 1), ('먽', 2), ('곙', 4), ('팦', 1), ('ฆ', 5), ('洢', 1), ('Ƶ', 1), ('畋', 1), ('瑑', 3), ('褻', 2), ('坽', 2), ('锲', 1), ('뜹', 1), ('垵', 1), ('쟬', 1), ('𢓜', 2), ('詻', 3), ('欚', 2), ('芄', 2), ('芃', 2), ('戬', 1), ('쥑', 1), ('陬', 4), ('燇', 1), ('鑵', 1), ('鮟', 2), ('鱇', 2), ('̣', 1), ('蜷', 4), ('槹', 10), ('砺', 1), ('鴞', 1), ('蕁', 2), ('Ǧ', 5), ('苹', 3), ('犼', 1), ('甍', 1), ('嚥', 4), ('㹜', 2), ('쩩', 1), ('鹦', 1), ('鹉', 1), ('栅', 2), ('雳', 2), ('ڨ', 1), ('頏', 1), ('ʽ', 1), ('봊', 1), ('络', 6), ('எ', 1), ('큥', 16), ('㈎', 2), ('㈏', 1), ('㈐', 1), ('饲', 1), ('囧', 2), ('囗', 4), ('ຼ', 1), ('້', 6), ('ໍ', 5), ('Ẽ', 3), ('Ầ', 1), ('Ẩ', 2), ('Ẫ', 1), ('Ậ', 1), ('Ĩ', 2), ('Ũ', 2), ('搔', 6), ('Ɖ', 2), ('ɖ', 5), ('̧', 10), ('న', 2), ('గ', 1), ('జ', 1), ('ు', 1), ('ొ', 1), ('ం', 1), ('డ', 1), ('腯', 2), ('珑', 1), ('畺', 2), ('į', 6), ('Ỹ', 3), ('녬', 11), ('袾', 1), ('慳', 46), ('흝', 2), ('㈔', 5), ('Ṽ', 2), ('뮝', 1), ('ฤ', 2), ('˥', 1), ('˦', 1), ('˧', 1), ('纔', 8), ('駛', 4), ('ģ', 3), ('戛', 3), ('禸', 1), ('鐤', 1), ('㖋', 1), ('悙', 1), ('ᚦ', 2), ('讞', 3), ('Ė', 3), ('峇', 1), ('轮', 2), ('选', 2), ('ſ', 6), ('Ǎ', 3), ('Ǌ', 2), ('ǋ', 1), ('ǌ', 1), ('輾', 7), ('Ģ', 2), ('⊲', 1), ('냬', 3), ('嗒', 2), ('됬', 4), ('憸', 1), ('盅', 1), ('쎆', 1), ('𢢜', 5), ('軔', 1), ('Ȧ', 2), ('ȧ', 1), ('涎', 2), ('謇', 7), ('Ẃ', 2), ('ẃ', 1), ('穙', 1), ('閖', 1), ('닾', 1), ('Ɨ', 3), ('Џ', 3), ('癢', 2), ('璭', 2), ('𧪚', 1), ('鐳', 2), ('臯', 2), ('㯋', 1), ('貟', 1), ('旰', 3), ('慊', 3), ('鐺', 1), ('Ѵ', 1), ('Ԝ', 1), ('鬻', 3), ('궴', 1), ('羗', 2), ('鷥', 1), ('붏', 1), ('檥', 5), ('𢢝', 1), ('ⵍ', 1), ('ἢ', 6), ('ὧ', 1), ('盝', 2), ('梡', 4), ('𥘺', 1), ('柜', 1), ('盯', 1), ('喋', 3), ('莅', 7), ('抔', 3), ('裶', 3), ('彄', 2), ('☢', 1), ('庈', 1), ('郜', 2), ('寪', 1), ('鄑', 1), ('価', 9), ('矽', 1), ('刕', 3), ('眯', 1), ('禘', 2), ('燽', 3), ('俀', 2), ('̂', 2), ('燬', 1), ('谐', 2), ('裯', 1), ('郈', 1), ('嘿', 1), ('Ԁ', 2), ('ԁ', 1), ('讙', 2), ('Ӹ', 2), ('㳣', 2), ('啾', 2), ('粿', 1), ('Ԅ', 2), ('ԅ', 1), ('Ӕ', 3), ('鞌', 1), ('妟', 2), ('奻', 2), ('鉬', 1), ('夂', 4), ('仌', 1), ('\\ue46c', 1), ('𪊷', 1), ('餒', 1), ('卭', 1), ('Ӻ', 2), ('ӻ', 1), ('Ҙ', 2), ('ҙ', 1), ('Љ', 2), ('👍', 2), ('殳', 3), ('疄', 1), ('鄎', 1), ('砌', 15), ('峀', 2), ('驁', 3), ('嗤', 1), ('煲', 1), ('珲', 5), ('额', 2), ('瑷', 2), ('鸥', 1), ('逊', 2), ('盍', 2), ('ゝ', 1), ('㥛', 1), ('闋', 1), ('泺', 1), ('赉', 2), ('胪', 1), ('뵬', 24), ('Ҝ', 2), ('ҝ', 1), ('엩', 1), ('媳', 1), ('̌', 1), ('懦', 2), ('䆃', 4), ('떪', 1), ('쟇', 1), ('ẗ', 2), ('쇰', 1), ('腩', 1), ('逄', 4), ('ẟ', 2), ('Ǵ', 3), ('Ҭ', 2), ('ҭ', 1), ('瑫', 1), ('璲', 4), ('轑', 3), ('얫', 1), ('Ӽ', 3), ('ӽ', 1), ('Ӿ', 2), ('ӿ', 1), ('է', 4), ('蝂', 1), ('俐', 1), ('盨', 1), ('➜', 1), ('秔', 1), ('\\uf538', 1), ('蘅', 4), ('㵒', 2), ('Ҕ', 2), ('Ҩ', 2), ('ҩ', 1), ('ɥ', 3), ('Ҽ', 2), ('ҽ', 1), ('Ҿ', 1), ('ኔ', 1), ('袉', 1), ('衦', 1), ('Ⱌ', 1), ('Ɯ', 2), ('₇', 7), ('拡', 2), ('届', 6), ('炻', 1), ('옽', 1), ('噜', 1), ('嚕', 1), ('ು', 4), ('ಲ', 4), ('킽', 1), ('矺', 1), ('១', 1), ('혯', 1), ('霌', 1), ('𤣰', 1), ('앛', 1), ('탒', 1), ('់', 2), ('蟇', 1), ('瀦', 2), ('᾽', 4), ('먗', 1), ('உ', 1), ('ஊ', 1), ('‼', 1), ('潏', 1), ('ٹ', 3), ('삳', 2), ('༄', 2), ('ླ', 5), ('걜', 2), ('ཏ', 1), ('ཐ', 8), ('ྣ', 5), ('ཛ', 2), ('ྐ', 7), ('꾱', 2), ('ཚ', 6), ('쾬', 7), ('켭', 1), ('ཅ', 3), ('ྦ', 1), ('ཟ', 5), ('蕎', 1), ('塐', 1), ('郇', 4), ('텦', 4), ('翛', 3), ('褎', 2), ('珛', 2), ('럲', 1), ('餡', 1), ('繃', 1), ('刲', 1), ('곈', 4), ('舳', 7), ('艫', 1), ('筦', 3), ('椧', 4), ('壶', 1), ('횻', 4), ('昣', 1), ('鰾', 1), ('퍙', 6), ('謩', 2), ('坩', 1), ('⁽', 5), ('둿', 2), ('볌', 1), ('흴', 5), ('䌙', 4), ('⫶', 1), ('뎗', 1), ('钁', 1), ('晢', 1), ('댛', 5), ('挻', 3), ('㽔', 2), ('迨', 2), ('ἆ', 1), ('豳', 7), ('쾩', 2), ('핢', 1), ('䌖', 2), ('龢', 2), ('絟', 2), ('忞', 2), ('벹', 1), ('붘', 1), ('翶', 1), ('傚', 1), ('檝', 2), ('쳣', 5), ('璛', 3), ('𤪤', 1), ('熀', 3), ('𣈫', 1), ('嵱', 1), ('鏷', 1), ('焯', 3), ('澓', 1), ('瀡', 1), ('筭', 1), ('傛', 2), ('졶', 2), ('콛', 3), ('慙', 6), ('猌', 1), ('樀', 2), ('㯙', 1), ('梲', 4), ('綮', 2), ('늣', 6), ('㗡', 2), ('𤐌', 1), ('釆', 1), ('𠍱', 2), ('㴒', 3), ('㮋', 1), ('𤋺', 1), ('콀', 4), ('疣', 4), ('噤', 1), ('뻭', 1), ('臀', 2), ('獳', 2), ('黴', 1), ('菤', 2), ('朓', 3), ('喵', 3), ('욎', 1), ('崟', 2), ('壖', 1), ('玒', 1), ('𤥽', 3), ('㤚', 2), ('㦀', 1), ('𪬦', 1), ('밓', 1), ('𩔇', 1), ('癭', 4), ('琁', 1), ('伟', 6), ('϶', 1), ('鋮', 2), ('倔', 1), ('㝅', 1), ('鱣', 2), ('퀑', 10), ('Ơ', 1), ('ຸ', 3), ('¯', 1), ('逷', 1), ('讷', 1), ('皡', 1), ('楱', 1), ('鳃', 2), ('핃', 1), ('夛', 1), ('胠', 1), ('膅', 1), ('荂', 1), ('迗', 1), ('㷃', 1), ('奣', 1), ('😳', 1), ('뤳', 1), ('뻇', 1), ('ई', 2), ('걑', 2), ('耭', 3), ('ຳ', 2), ('煆', 1), ('璖', 2), ('ⵓ', 1), ('隲', 2), ('싨', 1), ('싢', 1), ('핛', 1), ('싮', 1), ('馼', 1), ('ῇ', 1), ('ὡ', 5), ('ὠ', 2), ('ἂ', 2), ('ἃ', 2), ('叺', 3), ('惀', 3), ('璍', 1), ('㬇', 1), ('焌', 2), ('餈', 2), ('熩', 2), ('떱', 2), ('ỡ', 1), ('쌥', 2), ('裹', 2), ('嫣', 2), ('媖', 1), ('鵷', 1), ('鳞', 2), ('鱵', 1), ('鴆', 7), ('뺙', 1), ('頞', 3), ('哳', 1), ('嗢', 5), ('蠔', 1), ('鮞', 1), ('Ἥ', 1), ('ϲ', 2), ('渽', 4), ('녅', 1), ('鈎', 2), ('팈', 2), ('ರ', 4), ('ಜ', 2), ('ೀ', 1), ('ಾ', 5), ('ಂ', 1), ('ತ', 1), ('쾽', 1), ('팉', 2), ('踕', 1), ('찎', 1), ('菎', 3), ('蒻', 4), ('蒟', 1), ('淊', 1), ('薜', 1), ('鄀', 2), ('뜁', 1), ('棼', 1), ('葂', 1), ('쯘', 4), ('㻂', 1), ('慚', 91), ('\\uf0e0', 6), ('珆', 3), ('宖', 1), ('𪣢', 1), ('捿', 3), ('쬬', 2), ('慂', 2), ('榰', 3), ('貲', 1), ('㟓', 2), ('잩', 2), ('菉', 6), ('㻩', 2), ('蜻', 1), ('蛉', 1), ('㸂', 2), ('ྔ', 1), ('𝕡', 1), ('ꜩ', 1), ('ꜭ', 1), ('ꜫ', 1), ('暟', 2), ('㶨', 2), ('淰', 3), ('챡', 9), ('偦', 2), ('罠', 1), ('🎼', 1), ('핦', 1), ('㵑', 1), ('栯', 5), ('झ', 1), ('𡵻', 1), ('卸', 1), ('侾', 3), ('痹', 2), ('濺', 3), ('囁', 1), ('嗓', 2), ('俪', 1), ('凛', 2), ('꽛', 6), ('妞', 2), ('瘋', 4), ('怗', 1), ('曬', 2), ('蜎', 1), ('鷼', 1), ('焱', 1), ('贏', 2), ('靠', 4), ('搆', 15), ('ℏ', 2), ('鄺', 1), ('咁', 2), ('짫', 7), ('嘢', 1), ('撬', 4), ('됫', 3), ('夠', 2), ('젴', 1), ('콫', 1), ('밗', 1), ('狡', 1), ('劬', 5), ('姹', 1), ('叻', 1), ('扼', 5), ('誐', 3), ('嚩', 3), ('㝹', 4), ('곲', 1), ('⁷', 2), ('坌', 1), ('뱜', 2), ('텛', 1), ('릍', 3), ('𐰆', 2), ('𐱃', 4), ('𐰕', 1), ('𐰺', 1), ('佷', 3), ('悷', 1), ('靄', 2), ('爍', 1), ('鞴', 3), ('颯', 7), ('옄', 2), ('栐', 2), ('鞞', 6), ('∆', 9), ('澲', 2), ('澰', 1), ('潒', 1), ('篾', 9), ('𥛚', 1), ('핒', 1), ('凁', 1), ('죳', 1), ('昢', 1), ('椄', 6), ('卮', 1), ('箂', 1), ('릏', 1), ('钉', 1), ('솑', 1), ('娸', 1), ('溙', 1), ('汃', 1), ('璾', 1), ('㫾', 1), ('槲', 1), ('瑴', 9), ('븟', 1), ('땍', 1), ('陴', 1), ('淍', 4), ('筺', 2), ('靫', 2), ('솩', 1), ('嚏', 1), ('塯', 2), ('鐄', 1), ('䈲', 1), ('墷', 1), ('垚', 1), ('곘', 1), ('咕', 1), ('喱', 1), ('ʙ', 1), ('揶', 1), ('揄', 1), ('佉', 2), ('絙', 2), ('紾', 1), ('払', 10), ('♋', 1), ('蝎', 1), ('Ύ', 1), ('𧺝', 2), ('璫', 11), ('ோ', 2), ('⛎', 2), ('̴', 1), ('蕣', 1), ('됌', 1), ('刱', 4), ('圩', 1), ('睔', 1), ('쟃', 1), ('̲', 5), ('̨', 4), ('犫', 1), ('郟', 7), ('笁', 3), ('缽', 3), ('悬', 1), ('∉', 2), ('⊇', 1), ('좍', 1), ('雘', 3), ('킈', 1), ('呟', 1), ('攢', 2), ('臶', 1), ('Ꮵ', 1), ('Ᏻ', 1), ('Ꭶ', 1), ('Ꮕ', 1), ('Ꮒ', 1), ('霏', 1), ('嘸', 1), ('这', 3), ('过', 3), ('队', 5), ('见', 5), ('섻', 1), ('슿', 1), ('☊', 2), ('☋', 2), ('℞', 2), ('恍', 1), ('惚', 1), ('痍', 4), ('ὥ', 1), ('쩝', 3), ('녙', 1), ('慼', 2), ('摞', 1), ('녝', 1), ('剥', 2), ('摄', 1), ('◕', 7), ('猾', 2), ('鸠', 1), ('嗶', 2), ('瀲', 1), ('鶿', 1), ('⟶', 1), ('泯', 3), ('됢', 1), ('冴', 2), ('豔', 2), ('瞯', 1), ('ḡ', 1), ('嗔', 7), ('☌', 1), ('☍', 1), ('匋', 1), ('ˣ', 19), ('ὒ', 2), ('㴠', 1), ('얬', 2), ('瀯', 5), ('谱', 5), ('姃', 2), ('얾', 4), ('盺', 1), ('ী', 8), ('ু', 2), ('撼', 2), ('퍁', 1), ('룯', 1), ('搋', 2), ('썪', 1), ('혱', 1), ('拕', 3), ('拖', 2), ('晓', 5), ('ಮ', 3), ('ೈ', 1), ('ಸ', 4), ('ೂ', 1), ('ಯ', 1), ('从', 1), ('갏', 1), ('얺', 2), ('\\U0010be72', 2), ('嘬', 1), ('抳', 2), ('閡', 1), ('덯', 1), ('뱓', 1), ('娯', 2), ('옾', 2), ('忝', 5), ('迊', 4), ('垄', 1), ('伙', 2), ('财', 14), ('缻', 2), ('珮', 1), ('闫', 2), ('艳', 2), ('뜼', 1), ('训', 2), ('孵', 2), ('檛', 1), ('頣', 2), ('뻿', 1), ('样', 4), ('㘾', 1), ('壔', 1), ('喎', 2), ('攫', 1), ('폳', 2), ('읳', 1), ('륱', 1), ('沕', 1), ('椙', 1), ('鋗', 1), ('\\uf09e', 5), ('礦', 3), ('坨', 1), ('樭', 1), ('륫', 1), ('籁', 2), ('閠', 1), ('刖', 1), ('촣', 1), ('薀', 1), ('숡', 2), ('迵', 1), ('떙', 2), ('邟', 1), ('䧹', 1), ('蚠', 1), ('鬷', 3), ('鄩', 3), ('訾', 7), ('嚚', 2), ('雈', 1), ('鄏', 1), ('鄻', 1), ('蕕', 1), ('撐', 1), ('屐', 4), ('嚭', 1), ('湩', 2), ('椓', 2), ('聵', 1), ('釁', 2), ('祎', 1), ('㶱', 1), ('㖨', 1), ('钗', 1), ('褾', 2), ('襈', 1), ('骻', 1), ('騙', 2), ('Ⓕ', 1), ('鷂', 4), ('㺹', 1), ('䵣', 1), ('럅', 2), ('髸', 1), ('딯', 2), ('퓬', 1), ('耷', 1), ('㵮', 1), ('瀠', 1), ('䄷', 1), ('斁', 1), ('隽', 2), ('핝', 1), ('郄', 1), ('晗', 1), ('㽥', 1), ('맠', 1), ('릫', 1), ('싿', 1), ('垜', 1), ('鈒', 3), ('颖', 3), ('咐', 2), ('≲', 2), ('覸', 1), ('鷳', 2), ('ٔ', 1), ('ƣ', 7), ('鄅', 4), ('牼', 1), ('貙', 1), ('愆', 1), ('妵', 1), ('鼬', 1), ('溷', 1), ('賸', 1), ('茷', 3), ('鉏', 5), ('졷', 1), ('盌', 1), ('襬', 1), ('ќ', 1), ('轓', 1), ('宺', 1), ('穼', 1), ('窙', 1), ('狻', 1), ('筅', 4), ('鎲', 3), ('减', 1), ('阤', 1), ('玪', 1), ('➝', 2), ('솏', 1), ('혠', 11), ('掏', 1), ('쪗', 1), ('莔', 1), ('𧟨', 1), ('㷏', 1), ('咺', 2), ('穨', 1), ('题', 2), ('审', 2), ('试', 3), ('办', 3), ('卖', 1), ('颁', 1), ('释', 3), ('嚢', 1), ('霮', 1), ('봥', 1), ('좧', 1), ('랒', 1), ('娙', 1), ('净', 3), ('倦', 3), ('麏', 2), ('潺', 3), ('湲', 2), ('滙', 1), ('彿', 5), ('뒥', 2), ('竴', 3), ('稧', 23), ('庳', 1), ('섧', 1), ('迿', 1), ('燄', 3), ('쎾', 1), ('翃', 1), ('큣', 1), ('궇', 1), ('섡', 2), ('딲', 1), ('譖', 1), ('禨', 1), ('嶻', 1), ('㒤', 1), ('栒', 4), ('穟', 1), ('逿', 1), ('詎', 1), ('詖', 1), ('牔', 1), ('殴', 2), ('芘', 1), ('揔', 1), ('훝', 2), ('眚', 3), ('汩', 1), ('亟', 6), ('\\ue3a8', 2), ('蚤', 4), ('閫', 4), ('獦', 1), ('瓴', 1), ('獍', 1), ('慠', 1), ('졉', 3), ('秏', 1), ('궅', 1), ('戺', 1), ('艧', 1), ('栿', 2), ('柎', 4), ('櫡', 2), ('좃', 2), ('偗', 1), ('峑', 3), ('婧', 1), ('薍', 1), ('㞳', 1), ('堕', 2), ('緤', 1), ('虡', 3), ('皥', 1), ('鋕', 1), ('扭', 2), ('\\uec05', 1), ('鄫', 1), ('‴', 1), ('誴', 1), ('㙫', 4), ('伾', 2), ('ᆣ', 2), ('馧', 2), ('畛', 5), ('椗', 1), ('楘', 1), ('湝', 1), ('祟', 1), ('馀', 1), ('腄', 2), ('荡', 2), ('褋', 1), ('誄', 4), ('홯', 2), ('켙', 1), ('鋾', 1), ('🧙', 1), ('朸', 1), ('扐', 1), ('𡪿', 1), ('㫻', 1), ('ꕜ', 1), ('礝', 1), ('ℶ', 1), ('㥔', 1), ('骝', 1), ('猖', 1), ('ए', 2), ('鏊', 1), ('昙', 2), ('惔', 1), ('泇', 1), ('标', 3), ('椀', 2), ('밒', 2), ('湙', 3), ('溵', 5), ('譢', 1), ('𧬪', 1), ('멪', 1), ('쳠', 1), ('块', 3), ('贒', 1), ('艎', 5), ('㑽', 1), ('滫', 1), ('㙐', 2), ('鎏', 1), ('戭', 1), ('죨', 1), ('띅', 1), ('궡', 1), ('텥', 2), ('␣', 12), ('鹏', 3), ('计', 10), ('销', 2), ('绘', 1), ('辆', 2), ('测', 1), ('篮', 2), ('奋', 2), ('谨', 1), ('喾', 1), ('չ', 4), ('闟', 3), ('愽', 1), ('𩡝', 1), ('霦', 1), ('沍', 1), ('箎', 1), ('睆', 1), ('鈑', 2), ('숖', 1), ('騵', 1), ('騟', 2), ('툘', 1), ('쐇', 2), ('ἷ', 1), ('睒', 1), ('徯', 1), ('鍹', 1), ('浔', 1), ('슼', 1), ('悸', 1), ('ᾷ', 2), ('ᾴ', 2), ('ῄ', 1), ('璂', 4), ('溭', 3), ('巋', 1), ('¦', 27), ('댇', 1), ('흼', 1), ('罍', 3), ('犴', 2), ('쳡', 1), ('䤴', 1), ('黝', 1), ('짮', 1), ('鮈', 1), ('睃', 1), ('郚', 2), ('뫙', 1), ('瘉', 1), ('䘙', 1), ('愓', 1), ('Ǚ', 1), ('噬', 3), ('嗑', 1), ('굦', 1), ('殇', 1), ('骘', 2), ('聟', 1), ('揅', 1), ('넏', 1), ('겂', 1), ('뉩', 3), ('𐰪', 1), ('𐰸', 2), ('邡', 3), ('䑸', 1), ('䎱', 1), ('辵', 2), ('忄', 7), ('㣺', 1), ('🎉', 1), ('脃', 1), ('赟', 1), ('滢', 1), ('铎', 1), ('얔', 2), ('蘤', 1), ('맫', 1), ('\\u200a', 2), ('걘', 1), ('闺', 2), ('㉠', 2), ('㉡', 2), ('㉢', 1), ('쩄', 3), ('릌', 1), ('ᐅ', 1), ('䶵', 1), ('龡', 1), ('퀍', 5), ('쎘', 1), ('섵', 1), ('杹', 1), ('㬦', 1), ('∓', 2), ('悫', 1), ('枘', 1), ('㵙', 1), ('뇍', 1), ('댸', 1), ('깄', 1), ('豕', 1), ('ᾳ', 1), ('醓', 1), ('凪', 1), ('ℷ', 1), ('滭', 1), ('銲', 1), ('쟎', 1), ('∗', 2), ('傜', 2), ('迸', 1), ('殽', 2), ('谋', 1), ('뿝', 1), ('ȃ', 1), ('曘', 3), ('㥌', 1), ('慥', 1), ('墵', 1), ('瀓', 3), ('檼', 1), ('趼', 1), ('鶚', 2), ('厮', 1), ('쭹', 1), ('嶔', 1), ('𡼾', 1), ('筞', 1), ('爚', 1), ('豰', 1), ('騤', 1), ('蕴', 1), ('ֽ', 2), ('錤', 2), ('瑲', 10), ('〝', 1), ('岉', 2), ('薆', 4), ('硢', 1), ('핲', 1), ('䇏', 1), ('樛', 1), ('譼', 1), ('𧫷', 1), ('ʗ', 1), ('ǁ', 2), ('娡', 1), ('嶚', 1), ('淦', 3), ('ꡒ', 2), ('ꡓ', 1), ('쥤', 1), ('閿', 1), ('떘', 1), ('뢀', 1), ('层', 2), ('频', 11), ('앃', 2), ('돵', 3), ('娫', 2), ('⊔', 1), ('钩', 1), ('듹', 1), ('哱', 2), ('鏗', 2), ('慱', 1), ('𣲲', 1), ('㬐', 1), ('嶈', 1), ('釪', 1), ('禌', 2), ('뷕', 2), ('埱', 1), ('繋', 1), ('鏟', 2), ('贾', 1), ('贼', 1), ('请', 1), ('赇', 1), ('讯', 2), ('狱', 1), ('违', 1), ('㕎', 1), ('馺', 1), ('뷀', 1), ('ɳ', 2), ('끕', 2), ('퇌', 2), ('핔', 2), ('횢', 1), ('묺', 2), ('붛', 1), ('ǖ', 1), ('㰒', 1), ('煃', 1), ('㻶', 3), ('煓', 2), ('忼', 1), ('졜', 2), ('咊', 1), ('𝒮', 2), ('𢈻', 1), ('ῤ', 1), ('鳯', 1), ('㼀', 1), ('栝', 1), ('礿', 1), ('嫕', 1), ('翀', 1), ('拪', 1), ('놂', 2), ('갃', 1), ('佥', 1), ('录', 2), ('读', 1), ('堥', 1), ('삜', 1), ('☃', 12), ('觟', 1), ('阖', 1), ('闾', 1), ('鶩', 2), ('䪸', 1), ('ȵ', 1), ('稺', 1), ('浯', 5), ('懁', 1), ('ᜊ', 5), ('ᜌ', 3), ('ᜒ', 3), ('᜔', 4), ('ᜈ', 1), ('ᜇ', 1), ('ᜎ', 1), ('ᜆ', 1), ('氂', 1), ('벉', 1), ('蝉', 2), ('䋋', 1), ('纉', 1), ('奅', 1), ('𫢓', 3), ('̻', 4), ('Ẓ', 2), ('紈', 2), ('嬛', 2), ('읁', 2), ('뫁', 1), ('칞', 1), ('렂', 1), ('놄', 1), ('椋', 2), ('钮', 2), ('폏', 1), ('拊', 4), ('椴', 3), ('徼', 4), ('闻', 2), ('漷', 1), ('媲', 1), ('섨', 1), ('敺', 1), ('淓', 1), ('⸮', 1), ('؟', 1), ('憖', 1), ('斾', 1), ('邲', 2), ('筥', 1), ('徧', 3), ('斿', 3), ('𨮁', 1), ('榑', 1), ('蘓', 2), ('鯢', 1), ('螴', 1), ('蜳', 1), ('黼', 1), ('黻', 1), ('漙', 1), ('딭', 1), ('𣴓', 1), ('〠', 1), ('⁈', 1), ('⁉', 1), ('ᚨ', 2), ('ᛚ', 1), ('ᚺ', 1), ('ᛉ', 1), ('竢', 2), ('캪', 6), ('寉', 1), ('ሁ', 1), ('ዊ', 1), ('״', 1), ('씜', 1), ('콭', 1), ('晪', 2), ('旕', 1), ('霣', 1), ('雊', 1), ('忔', 1), ('𤈎', 1), ('㷜', 1), ('阝', 2), ('胊', 4), ('𤍤', 2), ('╲', 1), ('晑', 1), ('焴', 1), ('燀', 1), ('狦', 2), ('撣', 2), ('曩', 1), ('숰', 3), ('橑', 1), ('瘣', 1), ('뽓', 2), ('椺', 1), ('柊', 1), ('̟', 6), ('̠', 5), ('ʉ', 1), ('蝿', 1), ('勋', 1), ('杅', 3), ('𣜬', 1), ('堿', 1), ('蘟', 1), ('돽', 2), ('嶰', 1), ('垰', 1), ('喣', 2), ('❍', 3), ('쩽', 2), ('➁', 6), ('➂', 4), ('➃', 2), ('➄', 1), ('渣', 6), ('䕺', 1), ('錀', 1), ('桴', 4), ('裲', 2), ('糹', 1), ('熢', 6), ('嘩', 1), ('焘', 2), ('ڃ', 1), ('ۉ', 1), ('竫', 3), ('媦', 1), ('髒', 1), ('맀', 1), ('㻇', 2), ('冾', 3), ('㞐', 1), ('𨋀', 2), ('瘻', 2), ('帐', 1), ('硤', 1), ('籞', 3), ('㒠', 3), ('짗', 1), ('蓐', 1), ('糿', 1), ('䊵', 1), ('筱', 4), ('吿', 1), ('ᚠ', 1), ('ᚢ', 1), ('ᚬ', 1), ('ᚱ', 1), ('ᚴ', 1), ('뒵', 1), ('豷', 1), ('佸', 3), ('禬', 1), ('㳟', 2), ('娚', 1), ('隳', 1), ('飪', 1), ('瓡', 1), ('앜', 1), ('혤', 4), ('猎', 3), ('筷', 1), ('巇', 1), ('縈', 1), ('ໂ', 4), ('ຣ', 5), ('ໃ', 1), ('ຽ', 2), ('硖', 1), ('帅', 2), ('剉', 3), ('좽', 1), ('톺', 2), ('咋', 2), ('๊', 2), ('嗧', 1), ('㶊', 1), ('茌', 1), ('嬗', 1), ('軑', 4), ('姶', 3), ('﨟', 1), ('嵜', 1), ('﨑', 2), ('穐', 1), ('儻', 2), ('谊', 1), ('ٰ', 3), ('췩', 1), ('굑', 2), ('祫', 1), ('씉', 1), ('롲', 1), ('髀', 1), ('𣈶', 1), ('鱠', 3), ('婸', 1), ('涷', 1), ('ɘ', 1), ('颤', 2), ('齁', 1), ('钵', 2), ('ʅ', 1), ('鳝', 1), ('搞', 3), ('翘', 1), ('屄', 1), ('謱', 1), ('謰', 1), ('崽', 4), ('壳', 1), ('跍', 1), ('酽', 1), ('估', 2), ('谙', 1), ('讨', 1), ('耍', 1), ('给', 3), ('裤', 1), ('还', 2), ('啬', 1), ('㧯', 1), ('𢭃', 1), ('𤆵', 1), ('𨈓', 1), ('𡘧', 1), ('嫑', 1), ('돴', 3), ('섓', 3), ('멏', 1), ('뺩', 2), ('\\U000f0851', 3), ('瘼', 1), ('ꡕ', 9), ('摟', 1), ('篭', 1), ('Ì', 1), ('䃴', 1), ('竀', 2), ('ѧ', 1), ('겆', 1), ('䭔', 1), ('ګ', 3), ('疳', 2), ('➀', 3), ('⇐', 1), ('埮', 1), ('궎', 1), ('ஜ', 1), ('埒', 2), ('泞', 1), ('鯡', 1), ('쨘', 7), ('澬', 1), ('惦', 1), ('她', 1), ('癮', 2), ('飆', 1), ('耒', 2), ('褍', 2), ('鍚', 1), ('읫', 1), ('玽', 1), ('鄨', 1), ('뚸', 1), ('嶌', 1), ('蹻', 2), ('샞', 1), ('쩸', 1), ('젙', 1), ('蘩', 2), ('畨', 1), ('栶', 1), ('怤', 1), ('肰', 1), ('噌', 3), ('룁', 4), ('嶫', 1), ('闲', 2), ('鲨', 1), ('沰', 1), ('Ġ', 2), ('쁌', 1), ('ಫ', 2), ('ೇ', 2), ('ಬ', 2), ('ಗ', 1), ('ೊ', 1), ('ಪ', 1), ('첀', 1), ('짛', 1), ('됮', 2), ('鵓', 1), ('얨', 1), ('\\U000f0852', 5), ('\\U000f0853', 6), ('\\u202a', 1), ('鱟', 1), ('裱', 2), ('轸', 1), ('鬬', 2), ('构', 1), ('皈', 1), ('棅', 1), ('儧', 1), ('寜', 2), ('釷', 1), ('殞', 1), ('琤', 1), ('諼', 1), ('🥈', 1), ('騅', 3), ('邘', 5), ('嚧', 1), ('婀', 1), ('鋎', 2), ('鋺', 3), ('售', 1), ('佲', 1), ('烍', 2), ('熳', 1), ('됟', 1), ('购', 5), ('扰', 1), ('ݢ', 2), ('ቆ', 1), ('ሴ', 1), ('胯', 1), ('綉', 2), ('⌒', 1), ('⍁', 1), ('쵝', 3), ('㧾', 1), ('쓘', 1), ('槧', 1), ('嶧', 4), ('웝', 2), ('ֿ', 1), ('짥', 1), ('픞', 1), ('柂', 1), ('傔', 1), ('杪', 1), ('븍', 1), ('톹', 1), ('샊', 1), ('认', 1), ('钺', 3), ('蹯', 1), ('虒', 1), ('卲', 1), ('眴', 1), ('څ', 1), ('咢', 1), ('﹐', 1), ('葒', 1), ('灏', 1), ('鴇', 1), ('蔷', 1), ('宠', 1), ('乔', 2), ('ၵ', 1), ('ႈ', 1), ('ႆ', 1), ('⨼', 1), ('謵', 2), ('𤉇', 2), ('띳', 2), ('㥄', 1), ('蟆', 3), ('赋', 1), ('陡', 1), ('錣', 1), ('玊', 1), ('嘐', 2), ('돰', 1), ('\\U000f0850', 1), ('軆', 7), ('俉', 2), ('㕙', 1), ('ዶ', 1), ('矼', 1), ('竗', 3), ('𡦗', 1), ('酺', 1), ('慹', 1), ('붊', 1), ('㥧', 1), ('糓', 1), ('糙', 2), ('Ѐ', 1), ('ѐ', 1), ('Ȟ', 2), ('ꟾ', 1), ('Ǐ', 2), ('駥', 1), ('\\U000b0854', 2), ('\\U000b0855', 1), ('렣', 1), ('▴', 18), ('绾', 1), ('诛', 1), ('炼', 2), ('⇨', 3), ('좔', 1), ('뺢', 1), ('棭', 1), ('撸', 1), ('줃', 2), ('㖙', 2), ('癜', 1), ('ɝ', 1), ('嬈', 2), ('ῡ', 1), ('倾', 1), ('𢒰', 2), ('赜', 2), ('⚬', 1), ('۞', 1), ('쟨', 1), ('젗', 1), ('姍', 1), ('ϖ', 1), ('閗', 1), ('粃', 1), ('럔', 2), ('퉤', 1), ('🤡', 1), ('쵀', 1), ('앖', 1), ('ㄪ', 1), ('ㄫ', 1), ('ㄬ', 1), ('둟', 1), ('쩰', 2), ('嫺', 1), ('洒', 2), ('⓵', 1), ('⓶', 1), ('⓷', 1), ('⓸', 1), ('⓹', 1), ('鉆', 1), ('죡', 1), ('⊨', 1), ('鬳', 1), ('᾿', 1), ('̰', 2), ('癰', 2), ('\\U000f0848', 3), ('儔', 1), ('ʬ', 2), ('ʭ', 1), ('臉', 1), ('拄', 1), ('욨', 1), ('뭰', 1), ('ⴼ', 3), ('攄', 3), ('奌', 1), ('蓖', 1), ('녋', 1), ('馗', 5), ('茎', 1), ('𢱿', 3), ('褲', 1), ('ꡔ', 8), ('깹', 2), ('삣', 2), ('择', 1), ('拆', 2), ('苽', 1), ('浟', 1), ('\\ue668', 1), ('\\uf448', 1), ('鏦', 1), ('뱍', 1), ('쨉', 2), ('鐰', 1), ('騧', 2), ('밚', 1), ('綯', 1), ('买', 1), ('뉫', 2), ('\\u2060', 5), ('羘', 1), ('巀', 1), ('椏', 1), ('娳', 1), ('諗', 1), ('눋', 1), ('颿', 1), ('⊋', 1), ('霫', 2), ('궝', 1), ('꽦', 1), ('ˉ', 1), ('퀩', 1), ('餛', 2), ('藫', 3), ('렃', 1), ('븜', 1), ('枦', 1), ('↦', 1), ('㷞', 1), ('縹', 1), ('衉', 1), ('⊖', 1), ('𡸇', 1), ('牯', 1), ('ճ', 2), ('葴', 1), ('䄔', 1), ('鲛', 1), ('湃', 1), ('悩', 3), ('闷', 1), ('仑', 5), ('꼮', 1), ('춭', 2), ('폅', 1), ('訒', 1), ('뇸', 4), ('睍', 1), ('籇', 1), ('麩', 3), ('橓', 1), ('𦨭', 1), ('롶', 3), ('Ϲ', 2), ('厢', 1), ('궘', 1), ('飘', 1), ('值', 2), ('桕', 1), ('⚳', 1), ('⚴', 1), ('⚵', 1), ('Ố', 1), ('﹣', 1), ('ោ', 1), ('Ɛ', 1), ('矧', 2), ('盦', 1), ('뻩', 1), ('惤', 1), ('绒', 2), ('閾', 1), ('Ⅎ', 1), ('ֳ', 1), ('缚', 1), ('놐', 1), ('痞', 1), ('茀', 1), ('妝', 3), ('𤖙', 3), ('𠂤', 3), ('鬴', 1), ('畊', 2), ('ㇺ', 1), ('鏋', 1), ('ㇰ', 1), ('⌜', 1), ('⌟', 1), ('𐩪', 1), ('𐩨', 1), ('𐩱', 1), ('忩', 1), ('茘', 1), ('폶', 1), ('\\U00103867', 1), ('\\U00103911', 1), ('멵', 1), ('뙡', 5), ('溈', 1), ('廮', 1), ('厶', 1), ('𫟉', 1), ('垻', 1), ('伤', 1), ('鹳', 1), ('苺', 1), ('齪', 1), ('涞', 1), ('濼', 4), ('糯', 1), ('夯', 1), ('욿', 1), ('﹒', 1), ('ἤ', 1), ('亿', 1), ('읶', 1), ('疃', 1), ('藨', 1), ('絁', 6), ('莨', 1), ('莠', 1), ('Ḃ', 1), ('ḃ', 1), ('Ḋ', 1), ('ḋ', 1), ('Ḟ', 1), ('ḟ', 1), ('Ṁ', 1), ('Ṗ', 1), ('Ṡ', 1), ('ṡ', 1), ('Ṫ', 1), ('ṫ', 1), ('⁊', 1), ('朷', 1), ('ﻳ', 1), ('ﻗ', 1), ('ﺷ', 1), ('ﯿ', 1), ('琙', 1), ('❰', 2), ('❱', 2), ('媾', 1), ('蔞', 6), ('盭', 1), ('蓯', 2), ('痧', 1), ('椇', 1), ('栏', 1), ('铛', 2), ('껙', 2), ('趮', 1), ('ཨ', 3), ('揵', 1), ('쯧', 1), ('㱈', 1), ('蒭', 1), ('늚', 1), ('픨', 1), ('샆', 1), ('馘', 1), ('骏', 2), ('储', 1), ('抖', 2), ('𨜐', 1), ('垃', 1), ('圾', 1), ('麂', 1), ('ྕ', 1), ('ཧ', 1), ('隁', 1), ('壒', 1), ('乆', 2), ('茇', 1), ('荗', 1), ('𦆭', 3), ('ໜ', 1), ('ື', 1), ('恞', 2), ('ौ', 1), ('˪', 2), ('炔', 1), ('㫝', 2), ('鱘', 1), ('鰉', 1), ('仆', 4), ('苿', 1), ('💎', 1), ('疝', 1), ('鷴', 3), ('蒧', 1), ('툿', 2), ('㷉', 1), ('첟', 1), ('榷', 1), ('塬', 1), ('崕', 1), ('벏', 1), ('刓', 3), ('മ', 1), ('ത', 2), ('്', 3), ('ാ', 1), ('യ', 1), ('ി', 3), ('\\U000f0811', 1), ('\\U000f081a', 2), ('\\U000f0818', 1), ('\\U000f0813', 1), ('໕', 1), ('罈', 1), ('冓', 4), ('㥅', 1), ('䪷', 2), ('桹', 1), ('揤', 5), ('嘠', 1), ('愜', 1), ('諉', 1), ('鏇', 1), ('덣', 2), ('葀', 1), ('疌', 1), ('낲', 1), ('簟', 2), ('騾', 1), ('겣', 1), ('嫈', 1), ('伻', 2), ('湵', 1), ('ި', 2), ('ބ', 1), ('ރ', 1), ('ާ', 2), ('ޙ', 2), ('ޞ', 1), ('ލ', 1), ('幁', 1), ('徃', 1), ('옫', 3), ('쫃', 1), ('빧', 2), ('뻠', 1), ('렫', 2), ('녇', 1), ('샏', 1), ('랟', 2), ('핻', 1), ('찓', 2), ('퇻', 1), ('닏', 2), ('뒫', 1), ('뉻', 2), ('𣫙', 1), ('冧', 1), ('섟', 1), ('낣', 1), ('Ḗ', 1), ('֥', 2), ('छ', 1), ('ਿ', 1), ('ੜ', 1), ('ଝ', 1), ('ପ', 1), ('ഗ', 1), ('വ', 1), ('ള', 1), ('ല', 2), ('బ', 1), ('ಹ', 1), ('ಿ', 1), ('ꠀ', 1), ('ꠟ', 1), ('ꠤ', 1), ('슦', 1), ('릳', 1), ('늰', 1), ('뀍', 10), ('ᛒ', 1), ('𐌁', 1), ('贔', 1), ('屭', 1), ('嗕', 1), ('挴', 1), ('垽', 1), ('呴', 1), ('և', 1), ('띡', 5), ('𣛧', 1), ('𤅷', 2), ('鷓', 1), ('鴣', 1), ('尫', 1), ('糨', 1), ('傰', 1), ('嫋', 1), ('縐', 1), ('璮', 1), ('烦', 1), ('识', 2), ('啤', 1), ('哔', 2), ('\\u206a', 1), ('藭', 1), ('辶', 1), ('疐', 1), ('祋', 1), ('祤', 1), ('毼', 2), ('\\x95', 1), ('賔', 1), ('Ƣ', 2), ('ꝛ', 2), ('Ꝛ', 1), ('譡', 1), ('釭', 2), ('鞰', 1), ('埶', 1), ('繓', 1), ('襜', 1), ('襤', 1), ('匜', 2), ('‖', 1), ('ۈ', 1), ('敝', 1), ('廧', 1), ('⠀', 38), ('韑', 1), ('妫', 1), ('跷', 1), ('勱', 1), ('稾', 1), ('𡾊', 1), ('巑', 1), ('𡶲', 1), ('嵰', 1), ('寊', 1), ('瑂', 1), ('庀', 1), ('麀', 1), ('廘', 1), ('迓', 1), ('쩟', 2), ('Ʒ', 1), ('楃', 1), ('晭', 1), ('臒', 1), ('䊸', 1), ('핧', 1), ('噩', 1), ('蘌', 1), ('핓', 1), ('坏', 1), ('骠', 1), ('茠', 1), ('郧', 1), ('呦', 2), ('밠', 2), ('捞', 1), ('篒', 1), ('揜', 1), ('ㇷ', 1), ('詑', 1), ('绢', 2), ('绫', 1), ('洟', 1), ('₀', 1), ('▮', 3), ('该', 1), ('么', 2), ('ゟ', 4), ('覩', 1), ('琩', 1), ('桢', 1), ('๋', 1), ('虏', 1), ('檭', 1), ('簃', 1), ('莹', 1), ('订', 1), ('屨', 1), ('轔', 1), ('嵕', 1), ('𩢍', 1), ('沴', 1), ('媄', 1), ('颐', 1), ('ํ', 1), ('銛', 1), ('렗', 1), ('皺', 1), ('諠', 1), ('゠', 1), ('짎', 1), ('硐', 2), ('㫕', 1), ('覿', 1), ('蠙', 3), ('頙', 1), ('䥃', 2), ('ɭ', 1), ('夘', 1), ('绑', 1), ('档', 2), ('唖', 1), ('冣', 1), ('藂', 1), ('倏', 1), ('槓', 1), ('ɓ', 1), ('ɗ', 1), ('ฌ', 1), ('铭', 1), ('剂', 1), ('缟', 1), ('辕', 2), ('엗', 1), ('젃', 1), ('挥', 2), ('蹬', 2), ('攔', 1), ('证', 1), ('鏽', 1), ('瑡', 1), ('齣', 1), ('𠐔', 1), ('㫒', 1), ('㮈', 1), ('餙', 1), ('织', 1), ('渊', 1), ('颛', 1), ('跶', 1), ('堃', 1), ('땸', 3), ('섷', 1), ('뷋', 2), ('墑', 1), ('칢', 1), ('币', 1), ('驿', 2), ('费', 1), ('纹', 1), ('ʸ', 2), ('ɻ', 1), ('桭', 1), ('噺', 1), ('覗', 1), ('弯', 1), ('澷', 1), ('왿', 1), ('漾', 2), ('坍', 2), ('砵', 1), ('仛', 1), ('紲', 1), ('숮', 1), ('赠', 1), ('驾', 1), ('ʇ', 1), ('𣱆', 1), ('칯', 1), ('湸', 3), ('嬃', 1), ('牵', 1), ('搶', 1), ('촞', 1), ('謮', 1), ('摧', 1), ('䮕', 1), ('髫', 1), ('慫', 1), ('歛', 1), ('忤', 1), ('殫', 1), ('擠', 1), ('ᱥ', 1), ('ᱟ', 2), ('ᱱ', 1), ('ᱛ', 1), ('ᱲ', 1), ('ᱤ', 1), ('楳', 1), ('崋', 4), ('鴃', 2), ('ຢ', 1), ('辩', 1), ('孪', 1), ('ึ', 1), ('纵', 1), ('矿', 1), ('𢀛', 1), ('𠭯', 1), ('ꡆ', 1), ('ꡃ', 1), ('뗘', 1), ('閦', 1), ('毦', 1), ('곺', 1), ('맔', 1), ('㤙', 1), ('膊', 1), ('ᶍ', 6), ('ǘ', 1), ('徬', 1), ('捍', 1), ('🔰', 1), ('앚', 1), ('𤆬', 1), ('薌', 1), ('缓', 1), ('峦', 2), ('꿑', 1), ('ힰ', 1), ('ힵ', 1), ('ힴ', 1), ('섩', 1), ('٠', 1), ('֛', 1), ('傶', 1), ('菠', 1), ('\\uf204', 1), ('夤', 1), ('٭', 3), ('俒', 1), ('먈', 2), ('ஸ', 1), ('ீ', 1), ('椹', 1)])"
            ]
          },
          "metadata": {
            "tags": []
          },
          "execution_count": 22
        }
      ]
    },
    {
      "cell_type": "markdown",
      "metadata": {
        "id": "MdyUAGMZWo5O"
      },
      "source": [
        ""
      ]
    },
    {
      "cell_type": "markdown",
      "metadata": {
        "id": "Ez0Y5lopWmkN"
      },
      "source": [
        "## 빈도수 많은 글자"
      ]
    },
    {
      "cell_type": "code",
      "metadata": {
        "colab": {
          "base_uri": "https://localhost:8080/"
        },
        "id": "-bD35gJjRq_U",
        "outputId": "aa895ab9-9b8a-421c-ee0f-5414c9a48758"
      },
      "source": [
        "# 빈도수 많은 글자\n",
        "# lambda는 내장함수 \n",
        "\n",
        "most_freq = sorted(char_counter.items(), key = lambda item: item[1], reverse = True)\n",
        "most_freq[:20]"
      ],
      "execution_count": null,
      "outputs": [
        {
          "output_type": "execute_result",
          "data": {
            "text/plain": [
              "[(' ', 55863103),\n",
              " ('이', 5799143),\n",
              " ('다', 5291578),\n",
              " ('.', 4395303),\n",
              " ('에', 4313327),\n",
              " ('의', 4228709),\n",
              " ('는', 3848984),\n",
              " ('로', 3112533),\n",
              " (',', 3110187),\n",
              " ('하', 2989928),\n",
              " ('1', 2670379),\n",
              " ('을', 2617935),\n",
              " ('가', 2270753),\n",
              " ('고', 2196120),\n",
              " ('지', 2166697),\n",
              " ('서', 2119585),\n",
              " ('한', 2102410),\n",
              " ('은', 2009210),\n",
              " ('기', 1855825),\n",
              " ('0', 1825000)]"
            ]
          },
          "metadata": {
            "tags": []
          },
          "execution_count": 26
        }
      ]
    },
    {
      "cell_type": "code",
      "metadata": {
        "colab": {
          "base_uri": "https://localhost:8080/",
          "height": 275
        },
        "id": "KcZzP17OS5mm",
        "outputId": "0121f29b-df23-4a2e-eea8-603183fc4a1f"
      },
      "source": [
        "top_20 = most_freq[:20]\n",
        "\n",
        "plt.rc('font', family=\"NanumBarunGothic\")\n",
        "plt.rcParams[\"axes.unicode_minus\"] = False # 한글 폰트 사용시 - 깨지는 문제 해결\n",
        "plt.bar(range(len(top_20)), [val[1] for val in top_20]) # counter\n",
        "plt.xticks(range(len(top_20)), [val[0] for val in top_20])\n",
        "plt.show()"
      ],
      "execution_count": null,
      "outputs": [
        {
          "output_type": "display_data",
          "data": {
            "image/png": "[encoded data removed]",
            "text/plain": [
              "<Figure size 432x288 with 1 Axes>"
            ]
          },
          "metadata": {
            "tags": [],
            "needs_background": "light"
          }
        }
      ]
    },
    {
      "cell_type": "markdown",
      "metadata": {
        "id": "VL2CP_A5Rreu"
      },
      "source": [
        "## 빈도수 적은 글자"
      ]
    },
    {
      "cell_type": "code",
      "metadata": {
        "colab": {
          "base_uri": "https://localhost:8080/"
        },
        "id": "wfnDW0S-Wsok",
        "outputId": "af881c8d-3efd-45c3-c90c-5fb36f98a82a"
      },
      "source": [
        "most_freq = sorted(char_counter.items(), key = lambda item: item[1], reverse = False)\n",
        "most_freq[:20]"
      ],
      "execution_count": null,
      "outputs": [
        {
          "output_type": "execute_result",
          "data": {
            "text/plain": [
              "[('蔟', 1),\n",
              " ('蓓', 1),\n",
              " ('踢', 1),\n",
              " ('ǣ', 1),\n",
              " ('钊', 1),\n",
              " ('臄', 1),\n",
              " ('饀', 1),\n",
              " ('蝌', 1),\n",
              " ('廏', 1),\n",
              " ('Ꝩ', 1),\n",
              " ('ẚ', 1),\n",
              " ('괗', 1),\n",
              " ('옂', 1),\n",
              " ('褪', 1),\n",
              " ('😘', 1),\n",
              " ('\\ue650', 1),\n",
              " ('┼', 1),\n",
              " ('├', 1),\n",
              " ('Ὁ', 1),\n",
              " ('춪', 1)]"
            ]
          },
          "metadata": {
            "tags": []
          },
          "execution_count": 33
        }
      ]
    },
    {
      "cell_type": "markdown",
      "metadata": {
        "id": "EAllJ8x_Wstb"
      },
      "source": [
        "## token 개수\n",
        "- char_to_id 만들기"
      ]
    },
    {
      "cell_type": "code",
      "metadata": {
        "colab": {
          "base_uri": "https://localhost:8080/"
        },
        "id": "lVslbO_tXBsB",
        "outputId": "ea55aa18-6c9d-4ed4-957e-437e841bb4e8"
      },
      "source": [
        "count = 0\n",
        "for c,cnt in char_counter.items():\n",
        "    count += cnt\n",
        "count"
      ],
      "execution_count": null,
      "outputs": [
        {
          "output_type": "execute_result",
          "data": {
            "text/plain": [
              "267502382"
            ]
          },
          "metadata": {
            "tags": []
          },
          "execution_count": 34
        }
      ]
    },
    {
      "cell_type": "code",
      "metadata": {
        "colab": {
          "base_uri": "https://localhost:8080/"
        },
        "id": "FKscKSEmWsww",
        "outputId": "04c7e668-6563-448a-d55a-31ab3146bd3e"
      },
      "source": [
        "# char_vcab\n",
        "char_to_id = {'[PAD]' : 0, '[UNK]' : 1}\n",
        "# len(char_to_id)\n",
        "for c, cnt in char_counter.items():\n",
        "    char_to_id[c] = len(char_to_id) \n",
        "len(char_to_id)"
      ],
      "execution_count": null,
      "outputs": [
        {
          "output_type": "execute_result",
          "data": {
            "text/plain": [
              "15583"
            ]
          },
          "metadata": {
            "tags": []
          },
          "execution_count": 46
        }
      ]
    },
    {
      "cell_type": "code",
      "metadata": {
        "colab": {
          "base_uri": "https://localhost:8080/"
        },
        "id": "g5U0-wxvbIPe",
        "outputId": "d398e6ab-006b-40b8-d4e0-fe94942b52ee"
      },
      "source": [
        "char_to_id = {'[PAD]' : 0, '[UNK]' : 1}\n",
        "\n",
        "for c, cnt in char_counter.items():\n",
        "    char_to_id[c] = len(char_to_id) \n",
        "    if len(char_to_id) < 10:\n",
        "        print(char_to_id)\n",
        "len(char_to_id)"
      ],
      "execution_count": null,
      "outputs": [
        {
          "output_type": "stream",
          "text": [
            "{'[PAD]': 0, '[UNK]': 1, '지': 2}\n",
            "{'[PAD]': 0, '[UNK]': 1, '지': 2, '미': 3}\n",
            "{'[PAD]': 0, '[UNK]': 1, '지': 2, '미': 3, ' ': 4}\n",
            "{'[PAD]': 0, '[UNK]': 1, '지': 2, '미': 3, ' ': 4, '카': 5}\n",
            "{'[PAD]': 0, '[UNK]': 1, '지': 2, '미': 3, ' ': 4, '카': 5, '터': 6}\n",
            "{'[PAD]': 0, '[UNK]': 1, '지': 2, '미': 3, ' ': 4, '카': 5, '터': 6, '제': 7}\n",
            "{'[PAD]': 0, '[UNK]': 1, '지': 2, '미': 3, ' ': 4, '카': 5, '터': 6, '제': 7, '임': 8}\n"
          ],
          "name": "stdout"
        },
        {
          "output_type": "execute_result",
          "data": {
            "text/plain": [
              "15583"
            ]
          },
          "metadata": {
            "tags": []
          },
          "execution_count": 47
        }
      ]
    },
    {
      "cell_type": "code",
      "metadata": {
        "colab": {
          "base_uri": "https://localhost:8080/"
        },
        "id": "Bw7rKGVDaiW-",
        "outputId": "af9db275-5759-415e-9ebc-c36b107ea37e"
      },
      "source": [
        "char_to_id"
      ],
      "execution_count": null,
      "outputs": [
        {
          "output_type": "execute_result",
          "data": {
            "text/plain": [
              "{'[PAD]': 0,\n",
              " '[UNK]': 1,\n",
              " '지': 2,\n",
              " '미': 3,\n",
              " ' ': 4,\n",
              " '카': 5,\n",
              " '터': 6,\n",
              " '제': 7,\n",
              " '임': 8,\n",
              " '스': 9,\n",
              " '얼': 10,\n",
              " '\"': 11,\n",
              " '주': 12,\n",
              " '니': 13,\n",
              " '어': 14,\n",
              " '(': 15,\n",
              " ',': 16,\n",
              " '1': 17,\n",
              " '9': 18,\n",
              " '2': 19,\n",
              " '4': 20,\n",
              " '년': 21,\n",
              " '0': 22,\n",
              " '월': 23,\n",
              " '일': 24,\n",
              " '~': 25,\n",
              " ')': 26,\n",
              " '는': 27,\n",
              " '민': 28,\n",
              " '당': 29,\n",
              " '출': 30,\n",
              " '신': 31,\n",
              " '국': 32,\n",
              " '3': 33,\n",
              " '번': 34,\n",
              " '째': 35,\n",
              " '대': 36,\n",
              " '통': 37,\n",
              " '령': 38,\n",
              " '7': 39,\n",
              " '8': 40,\n",
              " '이': 41,\n",
              " '다': 42,\n",
              " '.': 43,\n",
              " '조': 44,\n",
              " '아': 45,\n",
              " '섬': 46,\n",
              " '운': 47,\n",
              " '티': 48,\n",
              " '플': 49,\n",
              " '레': 50,\n",
              " '인': 51,\n",
              " '마': 52,\n",
              " '을': 53,\n",
              " '에': 54,\n",
              " '서': 55,\n",
              " '태': 56,\n",
              " '났': 57,\n",
              " '공': 58,\n",
              " '과': 59,\n",
              " '학': 60,\n",
              " '교': 61,\n",
              " '를': 62,\n",
              " '졸': 63,\n",
              " '업': 64,\n",
              " '하': 65,\n",
              " '였': 66,\n",
              " '그': 67,\n",
              " '후': 68,\n",
              " '해': 69,\n",
              " '군': 70,\n",
              " '들': 71,\n",
              " '가': 72,\n",
              " '전': 73,\n",
              " '함': 74,\n",
              " '·': 75,\n",
              " '원': 76,\n",
              " '자': 77,\n",
              " '력': 78,\n",
              " '잠': 79,\n",
              " '수': 80,\n",
              " '의': 81,\n",
              " '승': 82,\n",
              " '무': 83,\n",
              " '으': 84,\n",
              " '로': 85,\n",
              " '5': 86,\n",
              " '위': 87,\n",
              " '예': 88,\n",
              " '편': 89,\n",
              " '고': 90,\n",
              " '땅': 91,\n",
              " '콩': 92,\n",
              " '면': 93,\n",
              " '화': 94,\n",
              " '등': 95,\n",
              " '꿔': 96,\n",
              " '많': 97,\n",
              " '은': 98,\n",
              " '돈': 99,\n",
              " '벌': 100,\n",
              " '었': 101,\n",
              " '별': 102,\n",
              " '명': 103,\n",
              " '농': 104,\n",
              " '부': 105,\n",
              " 'P': 106,\n",
              " 'e': 107,\n",
              " 'a': 108,\n",
              " 'n': 109,\n",
              " 'u': 110,\n",
              " 't': 111,\n",
              " 'F': 112,\n",
              " 'r': 113,\n",
              " 'm': 114,\n",
              " '알': 115,\n",
              " '려': 116,\n",
              " '졌': 117,\n",
              " '6': 118,\n",
              " '상': 119,\n",
              " '선': 120,\n",
              " '거': 121,\n",
              " '낙': 122,\n",
              " '나': 123,\n",
              " '정': 124,\n",
              " '음': 125,\n",
              " '입': 126,\n",
              " '증': 127,\n",
              " '게': 128,\n",
              " '되': 129,\n",
              " '사': 130,\n",
              " '만': 131,\n",
              " '역': 132,\n",
              " '했': 133,\n",
              " '기': 134,\n",
              " '두': 135,\n",
              " '연': 136,\n",
              " '며': 137,\n",
              " '까': 138,\n",
              " '근': 139,\n",
              " '내': 140,\n",
              " '흑': 141,\n",
              " '용': 142,\n",
              " '법': 143,\n",
              " '세': 144,\n",
              " '웠': 145,\n",
              " '보': 146,\n",
              " '여': 147,\n",
              " '도': 148,\n",
              " '덕': 149,\n",
              " '책': 150,\n",
              " '워': 151,\n",
              " '포': 152,\n",
              " '드': 153,\n",
              " '누': 154,\n",
              " '르': 155,\n",
              " '너': 156,\n",
              " '개': 157,\n",
              " '발': 158,\n",
              " '촉': 159,\n",
              " '구': 160,\n",
              " '반': 161,\n",
              " '산': 162,\n",
              " '집': 163,\n",
              " '트': 164,\n",
              " '와': 165,\n",
              " '라': 166,\n",
              " '엘': 167,\n",
              " '캠': 168,\n",
              " '프': 169,\n",
              " '데': 170,\n",
              " '비': 171,\n",
              " '안': 172,\n",
              " '메': 173,\n",
              " '헴': 174,\n",
              " '베': 175,\n",
              " '긴': 176,\n",
              " '께': 177,\n",
              " '중': 178,\n",
              " '동': 179,\n",
              " '평': 180,\n",
              " '한': 181,\n",
              " '협': 182,\n",
              " '체': 183,\n",
              " '결': 184,\n",
              " '러': 185,\n",
              " '것': 186,\n",
              " '유': 187,\n",
              " '단': 188,\n",
              " '켰': 189,\n",
              " '백': 190,\n",
              " '악': 191,\n",
              " '관': 192,\n",
              " '양': 193,\n",
              " '간': 194,\n",
              " '약': 195,\n",
              " '끌': 196,\n",
              " '또': 197,\n",
              " '소': 198,\n",
              " '련': 199,\n",
              " '차': 200,\n",
              " '략': 201,\n",
              " '시': 202,\n",
              " '권': 203,\n",
              " '진': 204,\n",
              " '키': 205,\n",
              " '노': 206,\n",
              " '취': 207,\n",
              " '계': 208,\n",
              " '속': 209,\n",
              " '치': 210,\n",
              " '란': 211,\n",
              " '질': 212,\n",
              " '건': 213,\n",
              " '실': 214,\n",
              " '패': 215,\n",
              " '널': 216,\n",
              " '져': 217,\n",
              " '재': 218,\n",
              " '말': 219,\n",
              " '탄': 220,\n",
              " '침': 221,\n",
              " '올': 222,\n",
              " '림': 223,\n",
              " '픽': 224,\n",
              " '콧': 225,\n",
              " '요': 226,\n",
              " '영': 227,\n",
              " '향': 228,\n",
              " '쳤': 229,\n",
              " '던': 230,\n",
              " '문': 231,\n",
              " '철': 232,\n",
              " '때': 233,\n",
              " '불': 234,\n",
              " '북': 235,\n",
              " '합': 236,\n",
              " '창': 237,\n",
              " '설': 238,\n",
              " '걸': 239,\n",
              " '쳐': 240,\n",
              " '회': 241,\n",
              " '딪': 242,\n",
              " '혀': 243,\n",
              " '완': 244,\n",
              " '감': 245,\n",
              " '축': 246,\n",
              " '박': 247,\n",
              " '희': 248,\n",
              " '논': 249,\n",
              " '냈': 250,\n",
              " '순': 251,\n",
              " '방': 252,\n",
              " '복': 253,\n",
              " '적': 254,\n",
              " '격': 255,\n",
              " '변': 256,\n",
              " '애': 257,\n",
              " '매': 258,\n",
              " '됐': 259,\n",
              " '김': 260,\n",
              " '규': 261,\n",
              " '앙': 262,\n",
              " '장': 263,\n",
              " '살': 264,\n",
              " '된': 265,\n",
              " '큰': 266,\n",
              " '충': 267,\n",
              " '받': 268,\n",
              " '았': 269,\n",
              " '밴': 270,\n",
              " '절': 271,\n",
              " '파': 272,\n",
              " '견': 273,\n",
              " '쿠': 274,\n",
              " '타': 275,\n",
              " '초': 276,\n",
              " '강': 277,\n",
              " '난': 278,\n",
              " '득': 279,\n",
              " '있': 280,\n",
              " '묵': 281,\n",
              " '듯': 282,\n",
              " '퇴': 283,\n",
              " '극': 284,\n",
              " '활': 285,\n",
              " '리': 286,\n",
              " '립': 287,\n",
              " '뒤': 288,\n",
              " '현': 289,\n",
              " '및': 290,\n",
              " '쿤': 291,\n",
              " '병': 292,\n",
              " '힘': 293,\n",
              " '썼': 294,\n",
              " '빈': 295,\n",
              " '곤': 296,\n",
              " '층': 297,\n",
              " '랑': 298,\n",
              " '짓': 299,\n",
              " '분': 300,\n",
              " '쟁': 301,\n",
              " '행': 302,\n",
              " '핵': 303,\n",
              " '코': 304,\n",
              " '크': 305,\n",
              " '같': 306,\n",
              " '최': 307,\n",
              " '택': 308,\n",
              " '버': 309,\n",
              " '깊': 310,\n",
              " '표': 311,\n",
              " '특': 312,\n",
              " '히': 313,\n",
              " '성': 314,\n",
              " '팔': 315,\n",
              " '래': 316,\n",
              " '물': 317,\n",
              " '직': 318,\n",
              " '접': 319,\n",
              " '본': 320,\n",
              " '갈': 321,\n",
              " '야': 322,\n",
              " '갔': 323,\n",
              " '채': 324,\n",
              " '오': 325,\n",
              " '슬': 326,\n",
              " '처': 327,\n",
              " '삼': 328,\n",
              " '석': 329,\n",
              " '남': 330,\n",
              " '갑': 331,\n",
              " '망': 332,\n",
              " '담': 333,\n",
              " '루': 334,\n",
              " '못': 335,\n",
              " '모': 336,\n",
              " '심': 337,\n",
              " '엔': 338,\n",
              " '판': 339,\n",
              " '록': 340,\n",
              " '독': 341,\n",
              " '린': 342,\n",
              " '형': 343,\n",
              " '범': 344,\n",
              " '죄': 345,\n",
              " '경': 346,\n",
              " '목': 347,\n",
              " '잡': 348,\n",
              " '풀': 349,\n",
              " '겠': 350,\n",
              " '훨': 351,\n",
              " '씬': 352,\n",
              " '더': 353,\n",
              " '존': 354,\n",
              " '할': 355,\n",
              " '벨': 356,\n",
              " '數': 357,\n",
              " '學': 358,\n",
              " '념': 359,\n",
              " '식': 360,\n",
              " '추': 361,\n",
              " '겨': 362,\n",
              " '롯': 363,\n",
              " '른': 364,\n",
              " '맺': 365,\n",
              " '느': 366,\n",
              " '달': 367,\n",
              " '측': 368,\n",
              " '않': 369,\n",
              " '론': 370,\n",
              " '킬': 371,\n",
              " '엄': 372,\n",
              " '밀': 373,\n",
              " '숫': 374,\n",
              " '움': 375,\n",
              " '런': 376,\n",
              " '찾': 377,\n",
              " '볼': 378,\n",
              " '클': 379,\n",
              " '네': 380,\n",
              " '호': 381,\n",
              " '작': 382,\n",
              " '혁': 383,\n",
              " '류': 384,\n",
              " '늘': 385,\n",
              " '날': 386,\n",
              " '뿐': 387,\n",
              " '응': 388,\n",
              " '써': 389,\n",
              " '새': 390,\n",
              " '낳': 391,\n",
              " '닌': 392,\n",
              " '름': 393,\n",
              " '우': 394,\n",
              " '료': 395,\n",
              " 'h': 396,\n",
              " 'i': 397,\n",
              " 'c': 398,\n",
              " 's': 399,\n",
              " '뜻': 400,\n",
              " '틴': 401,\n",
              " 'k': 402,\n",
              " 'o': 403,\n",
              " '배': 404,\n",
              " '줄': 405,\n",
              " '탈': 406,\n",
              " '람': 407,\n",
              " '•': 408,\n",
              " '생': 409,\n",
              " '필': 410,\n",
              " '든': 411,\n",
              " '왔': 412,\n",
              " '천': 413,\n",
              " '토': 414,\n",
              " '량': 415,\n",
              " '킨': 416,\n",
              " '쓴': 417,\n",
              " '훈': 418,\n",
              " '종': 419,\n",
              " '왕': 420,\n",
              " '준': 421,\n",
              " '울': 422,\n",
              " '왜': 423,\n",
              " '손': 424,\n",
              " '각': 425,\n",
              " '술': 426,\n",
              " '밖': 427,\n",
              " '칙': 428,\n",
              " '페': 429,\n",
              " '막': 430,\n",
              " '쌍': 431,\n",
              " '둥': 432,\n",
              " '골': 433,\n",
              " '바': 434,\n",
              " '흐': 435,\n",
              " '랜': 436,\n",
              " '럿': 437,\n",
              " '얻': 438,\n",
              " '쉽': 439,\n",
              " '찬': 440,\n",
              " '환': 441,\n",
              " '외': 442,\n",
              " '벡': 443,\n",
              " '텐': 444,\n",
              " '칭': 445,\n",
              " '눈': 446,\n",
              " '금': 447,\n",
              " '없': 448,\n",
              " '컴': 449,\n",
              " '퍼': 450,\n",
              " '잘': 451,\n",
              " '피': 452,\n",
              " '높': 453,\n",
              " '괄': 454,\n",
              " '푸': 455,\n",
              " '앵': 456,\n",
              " '퓨': 457,\n",
              " '색': 458,\n",
              " '묘': 459,\n",
              " '탐': 460,\n",
              " '떠': 461,\n",
              " '럽': 462,\n",
              " '율': 463,\n",
              " '귀': 464,\n",
              " '착': 465,\n",
              " '될': 466,\n",
              " '혼': 467,\n",
              " '능': 468,\n",
              " '확': 469,\n",
              " '“': 470,\n",
              " '”': 471,\n",
              " '징': 472,\n",
              " '몇': 473,\n",
              " '칸': 474,\n",
              " '브': 475,\n",
              " '-': 476,\n",
              " '힐': 477,\n",
              " '값': 478,\n",
              " '롬': 479,\n",
              " '딕': 480,\n",
              " '맨': 481,\n",
              " '즈': 482,\n",
              " '슨': 483,\n",
              " 'f': 484,\n",
              " 'l': 485,\n",
              " '_': 486,\n",
              " '갖': 487,\n",
              " '文': 488,\n",
              " '언': 489,\n",
              " '삶': 490,\n",
              " '美': 491,\n",
              " '的': 492,\n",
              " '藝': 493,\n",
              " '옳': 494,\n",
              " '텍': 495,\n",
              " '떤': 496,\n",
              " '흔': 497,\n",
              " '묶': 498,\n",
              " '헌': 499,\n",
              " '좀': 500,\n",
              " '곡': 501,\n",
              " '족': 502,\n",
              " '띨': 503,\n",
              " '닐': 504,\n",
              " '템': 505,\n",
              " '테': 506,\n",
              " '꼭': 507,\n",
              " '디': 508,\n",
              " '털': 509,\n",
              " '점': 510,\n",
              " '허': 511,\n",
              " '품': 512,\n",
              " '찰': 513,\n",
              " '떨': 514,\n",
              " '투': 515,\n",
              " '뢰': 516,\n",
              " '따': 517,\n",
              " '즉': 518,\n",
              " '춤': 519,\n",
              " '춘': 520,\n",
              " '演': 521,\n",
              " '劇': 522,\n",
              " '詩': 523,\n",
              " '散': 524,\n",
              " '뉜': 525,\n",
              " '즘': 526,\n",
              " '흥': 527,\n",
              " '씌': 528,\n",
              " '雜': 529,\n",
              " '짜': 530,\n",
              " '書': 531,\n",
              " '簡': 532,\n",
              " '험': 533,\n",
              " '特': 534,\n",
              " '定': 535,\n",
              " '時': 536,\n",
              " '傳': 537,\n",
              " '記': 538,\n",
              " '評': 539,\n",
              " '論': 540,\n",
              " '띠': 541,\n",
              " '냥': 542,\n",
              " '욕': 543,\n",
              " '저': 544,\n",
              " '므': 545,\n",
              " '황': 546,\n",
              " '켜': 547,\n",
              " '열': 548,\n",
              " '뉘': 549,\n",
              " '엮': 550,\n",
              " '렵': 551,\n",
              " '길': 552,\n",
              " '락': 553,\n",
              " '몬': 554,\n",
              " '참': 555,\n",
              " '化': 556,\n",
              " '광': 557,\n",
              " '맞': 558,\n",
              " '효': 559,\n",
              " '염': 560,\n",
              " '<': 561,\n",
              " 'w': 562,\n",
              " '>': 563,\n",
              " '*': 564,\n",
              " '/': 565,\n",
              " ':': 566,\n",
              " 'B': 567,\n",
              " 'C': 568,\n",
              " '굴': 569,\n",
              " '검': 570,\n",
              " '빛': 571,\n",
              " '끓': 572,\n",
              " '벽': 573,\n",
              " '돌': 574,\n",
              " '녹': 575,\n",
              " '급': 576,\n",
              " 'R': 577,\n",
              " 'b': 578,\n",
              " 'y': 579,\n",
              " '뿌': 580,\n",
              " '님': 581,\n",
              " '온': 582,\n",
              " '폐': 583,\n",
              " '쇄': 584,\n",
              " '압': 585,\n",
              " '례': 586,\n",
              " '《': 587,\n",
              " '》': 588,\n",
              " '획': 589,\n",
              " '믿': 590,\n",
              " '낸': 591,\n",
              " 'é': 592,\n",
              " 'D': 593,\n",
              " '컬': 594,\n",
              " '펌': 595,\n",
              " '컨': 596,\n",
              " '핑': 597,\n",
              " '죽': 598,\n",
              " '턴': 599,\n",
              " '엽': 600,\n",
              " 'p': 601,\n",
              " '붙': 602,\n",
              " '낼': 603,\n",
              " '붕': 604,\n",
              " '괴': 605,\n",
              " 'S': 606,\n",
              " 'A': 607,\n",
              " 'K': 608,\n",
              " '렬': 609,\n",
              " '혹': 610,\n",
              " '겪': 611,\n",
              " '끊': 612,\n",
              " '흡': 613,\n",
              " 'Δ': 614,\n",
              " 'H': 615,\n",
              " '눌': 616,\n",
              " '띤': 617,\n",
              " '륨': 618,\n",
              " 'N': 619,\n",
              " '렇': 620,\n",
              " '액': 621,\n",
              " '겹': 622,\n",
              " '큼': 623,\n",
              " '청': 624,\n",
              " 'O': 625,\n",
              " '욱': 626,\n",
              " '넓': 627,\n",
              " '송': 628,\n",
              " '믹': 629,\n",
              " '램': 630,\n",
              " '끼': 631,\n",
              " '커': 632,\n",
              " 'X': 633,\n",
              " '틱': 634,\n",
              " '첸': 635,\n",
              " '캅': 636,\n",
              " '룹': 637,\n",
              " '섞': 638,\n",
              " '%': 639,\n",
              " '잉': 640,\n",
              " '슈': 641,\n",
              " '젊': 642,\n",
              " '맹': 643,\n",
              " '맥': 644,\n",
              " '웰': 645,\n",
              " 'M': 646,\n",
              " 'x': 647,\n",
              " '方': 648,\n",
              " '程': 649,\n",
              " '式': 650,\n",
              " '츠': 651,\n",
              " '펴': 652,\n",
              " '쿨': 653,\n",
              " '롱': 654,\n",
              " '밝': 655,\n",
              " '혔': 656,\n",
              " '앞': 657,\n",
              " '힌': 658,\n",
              " '척': 659,\n",
              " '닭': 660,\n",
              " '샤': 661,\n",
              " '틀': 662,\n",
              " '곱': 663,\n",
              " '웨': 664,\n",
              " 'W': 665,\n",
              " '뜨': 666,\n",
              " '놓': 667,\n",
              " '둘': 668,\n",
              " '홀': 669,\n",
              " '力': 670,\n",
              " '線': 671,\n",
              " '먼': 672,\n",
              " '헤': 673,\n",
              " '윌': 674,\n",
              " '폭': 675,\n",
              " '쓰': 676,\n",
              " '덧': 677,\n",
              " '場': 678,\n",
              " '멕': 679,\n",
              " '렸': 680,\n",
              " '칼': 681,\n",
              " '케': 682,\n",
              " 'µ': 683,\n",
              " '멀': 684,\n",
              " '훗': 685,\n",
              " '첫': 686,\n",
              " 'G': 687,\n",
              " '超': 688,\n",
              " '越': 689,\n",
              " '항': 690,\n",
              " '빌': 691,\n",
              " '폰': 692,\n",
              " '겔': 693,\n",
              " '앨': 694,\n",
              " '音': 695,\n",
              " '階': 696,\n",
              " 'v': 697,\n",
              " 'd': 698,\n",
              " '半': 699,\n",
              " '뜸': 700,\n",
              " '솔': 701,\n",
              " '黃': 702,\n",
              " '鍾': 703,\n",
              " '♭': 704,\n",
              " '太': 705,\n",
              " '蔟': 706,\n",
              " '仲': 707,\n",
              " '呂': 708,\n",
              " '林': 709,\n",
              " '無': 710,\n",
              " '射': 711,\n",
              " '궁': 712,\n",
              " '變': 713,\n",
              " '徵': 714,\n",
              " '宮': 715,\n",
              " '뽑': 716,\n",
              " '즌': 717,\n",
              " '몽': 718,\n",
              " '총': 719,\n",
              " '넷': 720,\n",
              " '친': 721,\n",
              " '혜': 722,\n",
              " '십': 723,\n",
              " '끄': 724,\n",
              " '\\xa0': 725,\n",
              " '렀': 726,\n",
              " '잃': 727,\n",
              " '륜': 728,\n",
              " '봉': 729,\n",
              " \"'\": 730,\n",
              " '풍': 731,\n",
              " '홍': 732,\n",
              " '럼': 733,\n",
              " '‘': 734,\n",
              " '’': 735,\n",
              " '습': 736,\n",
              " '컵': 737,\n",
              " '혈': 738,\n",
              " '냐': 739,\n",
              " '답': 740,\n",
              " '긍': 741,\n",
              " '꾸': 742,\n",
              " '싸': 743,\n",
              " '빨': 744,\n",
              " '낮': 745,\n",
              " '좋': 746,\n",
              " '씩': 747,\n",
              " '텔': 748,\n",
              " '앤': 749,\n",
              " '섰': 750,\n",
              " '밤': 751,\n",
              " '껴': 752,\n",
              " '끝': 753,\n",
              " '썩': 754,\n",
              " '몰': 755,\n",
              " '咸': 756,\n",
              " '錫': 757,\n",
              " '憲': 758,\n",
              " '릉': 759,\n",
              " '江': 760,\n",
              " '陵': 761,\n",
              " '信': 762,\n",
              " '天': 763,\n",
              " '씨': 764,\n",
              " '육': 765,\n",
              " '숙': 766,\n",
              " '一': 767,\n",
              " '亨': 768,\n",
              " '三': 769,\n",
              " '遷': 770,\n",
              " '齋': 771,\n",
              " '德': 772,\n",
              " '小': 773,\n",
              " '校': 774,\n",
              " '숭': 775,\n",
              " '촌': 776,\n",
              " '州': 777,\n",
              " '五': 778,\n",
              " '山': 779,\n",
              " '곳': 780,\n",
              " '內': 781,\n",
              " '村': 782,\n",
              " '鑑': 783,\n",
              " '金': 784,\n",
              " '敎': 785,\n",
              " '臣': 786,\n",
              " '宋': 787,\n",
              " '斗': 788,\n",
              " '用': 789,\n",
              " '鄭': 790,\n",
              " '相': 791,\n",
              " '勳': 792,\n",
              " '柳': 793,\n",
              " '東': 794,\n",
              " '楊': 795,\n",
              " '仁': 796,\n",
              " '性': 797,\n",
              " '聖': 798,\n",
              " '朝': 799,\n",
              " '鮮': 800,\n",
              " '객': 801,\n",
              " '글': 802,\n",
              " '〈': 803,\n",
              " '〉': 804,\n",
              " '옥': 805,\n",
              " '松': 806,\n",
              " '赫': 807,\n",
              " '鷄': 808,\n",
              " '友': 809,\n",
              " '會': 810,\n",
              " '事': 811,\n",
              " '件': 812,\n",
              " '弔': 813,\n",
              " '蛙': 814,\n",
              " '둑': 815,\n",
              " 'Y': 816,\n",
              " '휴': 817,\n",
              " '익': 818,\n",
              " '놀': 819,\n",
              " '빙': 820,\n",
              " '떻': 821,\n",
              " '랄': 822,\n",
              " '빚': 823,\n",
              " '퀘': 824,\n",
              " 'Q': 825,\n",
              " '派': 826,\n",
              " '좌': 827,\n",
              " '폈': 828,\n",
              " '윤': 829,\n",
              " '뷰': 830,\n",
              " '?': 831,\n",
              " '닙': 832,\n",
              " '옛': 833,\n",
              " '납': 834,\n",
              " '섭': 835,\n",
              " '암': 836,\n",
              " '읍': 837,\n",
              " '곧': 838,\n",
              " '듭': 839,\n",
              " '뤄': 840,\n",
              " '윈': 841,\n",
              " '뮤': 842,\n",
              " '줍': 843,\n",
              " '놈': 844,\n",
              " '빼': 845,\n",
              " '먹': 846,\n",
              " '넌': 847,\n",
              " '센': 848,\n",
              " '맸': 849,\n",
              " '白': 850,\n",
              " '南': 851,\n",
              " '準': 852,\n",
              " '水': 853,\n",
              " '原': 854,\n",
              " '뉴': 855,\n",
              " '쾰': 856,\n",
              " '쿄': 857,\n",
              " '머': 858,\n",
              " '녀': 859,\n",
              " '덴': 860,\n",
              " '쇤': 861,\n",
              " '뮌': 862,\n",
              " '헨': 863,\n",
              " '옮': 864,\n",
              " '션': 865,\n",
              " '릴': 866,\n",
              " '탁': 867,\n",
              " '콜': 868,\n",
              " '숨': 869,\n",
              " '넥': 870,\n",
              " '낭': 871,\n",
              " '젠': 872,\n",
              " '묻': 873,\n",
              " '셉': 874,\n",
              " '럭': 875,\n",
              " '벤': 876,\n",
              " '튜': 877,\n",
              " 'T': 878,\n",
              " 'V': 879,\n",
              " '탕': 880,\n",
              " '갤': 881,\n",
              " '덤': 882,\n",
              " '슐': 883,\n",
              " '릭': 884,\n",
              " '젖': 885,\n",
              " '킹': 886,\n",
              " '펼': 887,\n",
              " '큐': 888,\n",
              " '팅': 889,\n",
              " '봇': 890,\n",
              " '팩': 891,\n",
              " '촬': 892,\n",
              " '첼': 893,\n",
              " '샬': 894,\n",
              " '넣': 895,\n",
              " '섹': 896,\n",
              " '붓': 897,\n",
              " '휘': 898,\n",
              " 'E': 899,\n",
              " '꾀': 900,\n",
              " '굿': 901,\n",
              " '닝': 902,\n",
              " '퐁': 903,\n",
              " '샌': 904,\n",
              " '링': 905,\n",
              " '[': 906,\n",
              " '草': 907,\n",
              " '月': 908,\n",
              " ']': 909,\n",
              " '콘': 910,\n",
              " 'I': 911,\n",
              " '늑': 912,\n",
              " '엇': 913,\n",
              " '쮜': 914,\n",
              " '폴': 915,\n",
              " '틸': 916,\n",
              " '렉': 917,\n",
              " '닉': 918,\n",
              " '뇌': 919,\n",
              " '겐': 920,\n",
              " '눠': 921,\n",
              " '쪽': 922,\n",
              " '헝': 923,\n",
              " '튀': 924,\n",
              " '늄': 925,\n",
              " '段': 926,\n",
              " '狀': 927,\n",
              " '鑛': 928,\n",
              " '泉': 929,\n",
              " '솟': 930,\n",
              " '²': 931,\n",
              " '텝': 932,\n",
              " '흘': 933,\n",
              " '빠': 934,\n",
              " '젬': 935,\n",
              " '켈': 936,\n",
              " '륙': 937,\n",
              " '덜': 938,\n",
              " '덥': 939,\n",
              " 'д': 940,\n",
              " 'е': 941,\n",
              " 'к': 942,\n",
              " 'а': 943,\n",
              " 'и': 944,\n",
              " 'м': 945,\n",
              " 'т': 946,\n",
              " 'о': 947,\n",
              " 'У': 948,\n",
              " 'р': 949,\n",
              " 'н': 950,\n",
              " 'ѓ': 951,\n",
              " 'с': 952,\n",
              " 'л': 953,\n",
              " 'в': 954,\n",
              " 'п': 955,\n",
              " 'у': 956,\n",
              " 'ш': 957,\n",
              " 'з': 958,\n",
              " 'ч': 959,\n",
              " '„': 960,\n",
              " 'г': 961,\n",
              " 'б': 962,\n",
              " 'ј': 963,\n",
              " '얇': 964,\n",
              " '끈': 965,\n",
              " '옷': 966,\n",
              " '삭': 967,\n",
              " '늬': 968,\n",
              " '톱': 969,\n",
              " '렛': 970,\n",
              " '둔': 971,\n",
              " '元': 972,\n",
              " '支': 973,\n",
              " '點': 974,\n",
              " '先': 975,\n",
              " '잎': 976,\n",
              " '綱': 977,\n",
              " '꽃': 978,\n",
              " '잔': 979,\n",
              " '튼': 980,\n",
              " '理': 981,\n",
              " '容': 982,\n",
              " '깎': 983,\n",
              " '쇠': 984,\n",
              " '짧': 985,\n",
              " '탑': 986,\n",
              " '웹': 987,\n",
              " 'ˈ': 988,\n",
              " '꼽': 989,\n",
              " '얽': 990,\n",
              " '돕': 991,\n",
              " '칠': 992,\n",
              " '읽': 993,\n",
              " 'L': 994,\n",
              " '윅': 995,\n",
              " '훼': 996,\n",
              " '쉬': 997,\n",
              " '넘': 998,\n",
              " '챌': 999,\n",
              " ...}"
            ]
          },
          "metadata": {
            "tags": []
          },
          "execution_count": 44
        }
      ]
    },
    {
      "cell_type": "code",
      "metadata": {
        "colab": {
          "base_uri": "https://localhost:8080/"
        },
        "id": "GwQ7o6TGYaMT",
        "outputId": "6258845f-8963-4402-ae55-bae6483cc957"
      },
      "source": [
        "char_to_id['아']"
      ],
      "execution_count": null,
      "outputs": [
        {
          "output_type": "execute_result",
          "data": {
            "text/plain": [
              "45"
            ]
          },
          "metadata": {
            "tags": []
          },
          "execution_count": 42
        }
      ]
    },
    {
      "cell_type": "markdown",
      "metadata": {
        "id": "XuXmTo-RZhLg"
      },
      "source": [
        "-wiki char tokenizer"
      ]
    },
    {
      "cell_type": "code",
      "metadata": {
        "colab": {
          "base_uri": "https://localhost:8080/"
        },
        "id": "BukrkkPrZkQb",
        "outputId": "2c2a2cf7-6df4-4411-b441-df3ec024b2ca"
      },
      "source": [
        "with zipfile.ZipFile(args.corpus) as z:\n",
        "    with z.open(\"kowiki.txt\") as f:\n",
        "        for i, line in enumerate(f):\n",
        "            if i >= 5:\n",
        "                break\n",
        "            line = line.decode('utf-8').strip() #다시 utf-8로 맞춰준다?\n",
        "            print(line)\n",
        "            _id = [char_to_id[c] for c in line]\n",
        "            print(_id)\n",
        "\n"
      ],
      "execution_count": null,
      "outputs": [
        {
          "output_type": "stream",
          "text": [
            "지미 카터\n",
            "[2, 3, 4, 5, 6]\n",
            "제임스 얼 \"지미\" 카터 주니어(, 1924년 10월 1일 ~ )는 민주당 출신 미국 39번째 대통령 (1977년 ~ 1981년)이다.\n",
            "[7, 8, 9, 4, 10, 4, 11, 2, 3, 11, 4, 5, 6, 4, 12, 13, 14, 15, 16, 4, 17, 18, 19, 20, 21, 4, 17, 22, 23, 4, 17, 24, 4, 25, 4, 26, 27, 4, 28, 12, 29, 4, 30, 31, 4, 3, 32, 4, 33, 18, 34, 35, 4, 36, 37, 38, 4, 15, 17, 18, 39, 39, 21, 4, 25, 4, 17, 18, 40, 17, 21, 26, 41, 42, 43]\n",
            "지미 카터는 조지아주 섬터 카운티 플레인스 마을에서 태어났다. 조지아 공과대학교를 졸업하였다. 그 후 해군에 들어가 전함·원자력·잠수함의 승무원으로 일하였다. 1953년 미국 해군 대위로 예편하였고 이후 땅콩·면화 등을 가꿔 많은 돈을 벌었다. 그의 별명이 \"땅콩 농부\" (Peanut Farmer)로 알려졌다.\n",
            "[2, 3, 4, 5, 6, 27, 4, 44, 2, 45, 12, 4, 46, 6, 4, 5, 47, 48, 4, 49, 50, 51, 9, 4, 52, 53, 54, 55, 4, 56, 14, 57, 42, 43, 4, 44, 2, 45, 4, 58, 59, 36, 60, 61, 62, 4, 63, 64, 65, 66, 42, 43, 4, 67, 4, 68, 4, 69, 70, 54, 4, 71, 14, 72, 4, 73, 74, 75, 76, 77, 78, 75, 79, 80, 74, 81, 4, 82, 83, 76, 84, 85, 4, 24, 65, 66, 42, 43, 4, 17, 18, 86, 33, 21, 4, 3, 32, 4, 69, 70, 4, 36, 87, 85, 4, 88, 89, 65, 66, 90, 4, 41, 68, 4, 91, 92, 75, 93, 94, 4, 95, 53, 4, 72, 96, 4, 97, 98, 4, 99, 53, 4, 100, 101, 42, 43, 4, 67, 81, 4, 102, 103, 41, 4, 11, 91, 92, 4, 104, 105, 11, 4, 15, 106, 107, 108, 109, 110, 111, 4, 112, 108, 113, 114, 107, 113, 26, 85, 4, 115, 116, 117, 42, 43]\n",
            "1962년 조지아 주 상원 의원 선거에서 낙선하나 그 선거가 부정선거 였음을 입증하게 되어 당선되고, 1966년 조지아 주 지사 선거에 낙선하지만 1970년 조지아 주 지사를 역임했다. 대통령이 되기 전 조지아주 상원의원을 두번 연임했으며, 1971년부터 1975년까지 조지아 지사로 근무했다. 조지아 주지사로 지내면서, 미국에 사는 흑인 등용법을 내세웠다.\n",
            "[17, 18, 118, 19, 21, 4, 44, 2, 45, 4, 12, 4, 119, 76, 4, 81, 76, 4, 120, 121, 54, 55, 4, 122, 120, 65, 123, 4, 67, 4, 120, 121, 72, 4, 105, 124, 120, 121, 4, 66, 125, 53, 4, 126, 127, 65, 128, 4, 129, 14, 4, 29, 120, 129, 90, 16, 4, 17, 18, 118, 118, 21, 4, 44, 2, 45, 4, 12, 4, 2, 130, 4, 120, 121, 54, 4, 122, 120, 65, 2, 131, 4, 17, 18, 39, 22, 21, 4, 44, 2, 45, 4, 12, 4, 2, 130, 62, 4, 132, 8, 133, 42, 43, 4, 36, 37, 38, 41, 4, 129, 134, 4, 73, 4, 44, 2, 45, 12, 4, 119, 76, 81, 76, 53, 4, 135, 34, 4, 136, 8, 133, 84, 137, 16, 4, 17, 18, 39, 17, 21, 105, 6, 4, 17, 18, 39, 86, 21, 138, 2, 4, 44, 2, 45, 4, 2, 130, 85, 4, 139, 83, 133, 42, 43, 4, 44, 2, 45, 4, 12, 2, 130, 85, 4, 2, 140, 93, 55, 16, 4, 3, 32, 54, 4, 130, 27, 4, 141, 51, 4, 95, 142, 143, 53, 4, 140, 144, 145, 42, 43]\n",
            "1976년 대통령 선거에 민주당 후보로 출마하여 도덕주의 정책으로 내세워, 포드를 누르고 당선되었다.\n",
            "[17, 18, 39, 118, 21, 4, 36, 37, 38, 4, 120, 121, 54, 4, 28, 12, 29, 4, 68, 146, 85, 4, 30, 52, 65, 147, 4, 148, 149, 12, 81, 4, 124, 150, 84, 85, 4, 140, 144, 151, 16, 4, 152, 153, 62, 4, 154, 155, 90, 4, 29, 120, 129, 101, 42, 43]\n"
          ],
          "name": "stdout"
        }
      ]
    },
    {
      "cell_type": "code",
      "metadata": {
        "id": "yMgS-BukbgFI"
      },
      "source": [
        ""
      ],
      "execution_count": null,
      "outputs": []
    },
    {
      "cell_type": "markdown",
      "metadata": {
        "id": "fd9x3UARbtaa"
      },
      "source": [
        "# word tokenizer\n",
        "- 장점 \n",
        " - 띄어쓰기 단위로 분할하기 때문에 token수가 적음\n",
        "- 단점\n",
        " - 어미 변화로 인해 유사 단어들이.."
      ]
    },
    {
      "cell_type": "code",
      "metadata": {
        "id": "MeSW_LpYb_eR"
      },
      "source": [
        "re.sub('([.,!?()`\\\"\\'])', r )"
      ],
      "execution_count": null,
      "outputs": []
    },
    {
      "cell_type": "code",
      "metadata": {
        "colab": {
          "base_uri": "https://localhost:8080/"
        },
        "id": "gU1GLFwkbtab",
        "outputId": "49df80d4-3e83-4785-a76c-18fb7de08a70"
      },
      "source": [
        "word_counter = collections.defaultdict(int)\n",
        "\n",
        "# char 개수 확인\n",
        "with zipfile.ZipFile(args.corpus) as z:\n",
        "    with z.open(\"kowiki.txt\") as f:\n",
        "        for i, line in enumerate(f):\n",
        "            line = line.decode('utf-8').strip() #다시 utf-8로 맞춰준다?\n",
        "            for c in line.split():\n",
        "                word_counter[c] += 1\n",
        "\n",
        "len(word_counter)"
      ],
      "execution_count": null,
      "outputs": [
        {
          "output_type": "execute_result",
          "data": {
            "text/plain": [
              "15581"
            ]
          },
          "metadata": {
            "tags": []
          },
          "execution_count": 20
        }
      ]
    },
    {
      "cell_type": "code",
      "metadata": {
        "colab": {
          "base_uri": "https://localhost:8080/"
        },
        "id": "dhwBkaDsbtad",
        "outputId": "4093f600-f9d4-4a23-bc0c-a1ea8b5b03f7"
      },
      "source": [
        "char_counter.items()\n",
        "# 딕셔너리 형태로...아닌가 리스트 형태로.."
      ],
      "execution_count": null,
      "outputs": [
        {
          "output_type": "execute_result",
          "data": {
            "text/plain": [
              "dict_items([('지', 2166697), ('미', 562050), (' ', 55863103), ('카', 344244), ('터', 458779), ('제', 922179), ('임', 271815), ('스', 1507615), ('얼', 36806), ('\"', 442631), ('주', 957932), ('니', 387945), ('어', 1212226), ('(', 1694211), (',', 3110187), ('1', 2670379), ('9', 1222223), ('2', 1660309), ('4', 684814), ('년', 1556495), ('0', 1825000), ('월', 704972), ('일', 1284035), ('~', 158425), (')', 1694892), ('는', 3848984), ('민', 385830), ('당', 400224), ('출', 276510), ('신', 542831), ('국', 1008970), ('3', 787550), ('번', 191694), ('째', 79742), ('대', 1643852), ('통', 345404), ('령', 129183), ('7', 601185), ('8', 703091), ('이', 5799143), ('다', 5291578), ('.', 4395303), ('조', 621701), ('아', 1259539), ('섬', 48282), ('운', 308499), ('티', 170759), ('플', 94315), ('레', 360531), ('인', 1457894), ('마', 628976), ('을', 2617935), ('에', 4313327), ('서', 2119585), ('태', 219759), ('났', 53798), ('공', 655730), ('과', 995883), ('학', 584039), ('교', 576686), ('를', 1586322), ('졸', 25490), ('업', 218867), ('하', 2989928), ('였', 655952), ('그', 1094927), ('후', 481253), ('해', 977819), ('군', 410746), ('들', 863267), ('가', 2270753), ('전', 1078888), ('함', 256501), ('·', 149621), ('원', 680734), ('자', 1239861), ('력', 204709), ('잠', 26185), ('수', 1160853), ('의', 4228709), ('승', 224241), ('무', 406107), ('으', 1687027), ('로', 3112533), ('5', 707274), ('위', 700962), ('예', 192305), ('편', 145761), ('고', 2196120), ('땅', 15346), ('콩', 16449), ('면', 488439), ('화', 582906), ('등', 473420), ('꿔', 1993), ('많', 120801), ('은', 2009210), ('돈', 20015), ('벌', 60779), ('었', 949639), ('별', 115112), ('명', 502662), ('농', 48385), ('부', 1106607), ('P', 142097), ('e', 735595), ('a', 681913), ('n', 488356), ('u', 293948), ('t', 418742), ('F', 153963), ('r', 547270), ('m', 377670), ('알', 165457), ('려', 248440), ('졌', 93613), ('6', 630425), ('상', 765018), ('선', 664505), ('거', 366327), ('낙', 17632), ('나', 1129308), ('정', 1037665), ('음', 383483), ('입', 207517), ('증', 100984), ('게', 659410), ('되', 1049589), ('사', 1661399), ('만', 627339), ('역', 478512), ('했', 708492), ('기', 1855825), ('두', 261103), ('연', 476403), ('며', 609671), ('까', 211210), ('근', 128097), ('내', 325111), ('흑', 14621), ('용', 449678), ('법', 231546), ('세', 554268), ('웠', 20787), ('보', 627183), ('여', 769904), ('도', 1523500), ('덕', 43635), ('책', 76722), ('워', 86259), ('포', 324708), ('드', 599961), ('누', 60578), ('르', 514813), ('너', 81054), ('개', 503827), ('발', 425387), ('촉', 17554), ('구', 780817), ('반', 332365), ('산', 401323), ('집', 147209), ('트', 613142), ('와', 696769), ('라', 1182856), ('엘', 44197), ('캠', 11205), ('프', 424580), ('데', 378210), ('비', 545579), ('안', 331333), ('메', 174447), ('헴', 587), ('베', 174755), ('긴', 40870), ('께', 92727), ('중', 610416), ('동', 747240), ('평', 156351), ('한', 2102410), ('협', 71463), ('체', 329742), ('결', 250544), ('러', 401728), ('것', 462899), ('유', 561463), ('단', 376403), ('켰', 28952), ('백', 98545), ('악', 105853), ('관', 476585), ('양', 284563), ('간', 346959), ('약', 185608), ('끌', 26586), ('또', 197441), ('소', 566490), ('련', 83804), ('차', 329303), ('략', 24524), ('시', 1630906), ('권', 183981), ('진', 459567), ('키', 236471), ('노', 304186), ('취', 63858), ('계', 487325), ('속', 275086), ('치', 514951), ('란', 158318), ('질', 127055), ('건', 209912), ('실', 271885), ('패', 89503), ('널', 54691), ('져', 95782), ('재', 393702), ('말', 178152), ('탄', 81994), ('침', 57782), ('올', 120928), ('림', 90956), ('픽', 44585), ('콧', 2933), ('요', 282414), ('영', 451378), ('향', 136861), ('쳤', 23118), ('던', 253678), ('문', 520738), ('철', 117486), ('때', 281925), ('불', 207933), ('북', 161820), ('합', 200453), ('창', 106109), ('설', 251240), ('걸', 47653), ('쳐', 58441), ('회', 471590), ('딪', 1565), ('혀', 28540), ('완', 73196), ('감', 159607), ('축', 121281), ('박', 117203), ('희', 51606), ('논', 49884), ('냈', 37005), ('순', 95593), ('방', 390583), ('복', 141999), ('적', 751377), ('격', 167913), ('변', 134427), ('애', 90303), ('매', 190543), ('됐', 32100), ('김', 123115), ('규', 89931), ('앙', 58893), ('장', 794204), ('살', 112184), ('된', 461202), ('큰', 53194), ('충', 80579), ('받', 190998), ('았', 187275), ('밴', 20663), ('절', 100670), ('파', 291145), ('견', 85982), ('쿠', 100607), ('타', 388297), ('초', 229227), ('강', 251550), ('난', 127259), ('득', 49079), ('있', 1191238), ('묵', 7140), ('듯', 12173), ('퇴', 46100), ('극', 86063), ('활', 155375), ('리', 1630897), ('립', 170140), ('뒤', 74398), ('현', 311151), ('및', 99126), ('쿤', 2147), ('병', 133013), ('힘', 26454), ('썼', 8885), ('빈', 35946), ('곤', 22039), ('층', 44694), ('랑', 124792), ('짓', 14211), ('분', 341963), ('쟁', 84988), ('행', 326540), ('핵', 28842), ('코', 232796), ('크', 325376), ('같', 190228), ('최', 193153), ('택', 45088), ('버', 203622), ('깊', 11803), ('표', 246070), ('특', 148344), ('히', 236728), ('성', 797393), ('팔', 34567), ('래', 206730), ('물', 288695), ('직', 215868), ('접', 76126), ('본', 312521), ('갈', 59443), ('야', 263893), ('갔', 33365), ('채', 69077), ('오', 535893), ('슬', 60861), ('처', 160124), ('삼', 83427), ('석', 142844), ('남', 297303), ('갑', 25015), ('망', 90298), ('담', 70428), ('루', 249130), ('못', 73825), ('모', 453606), ('심', 169951), ('엔', 61134), ('판', 170727), ('록', 200801), ('독', 219182), ('린', 148769), ('형', 254394), ('범', 86817), ('죄', 25751), ('경', 588037), ('목', 165877), ('잡', 52238), ('풀', 24604), ('겠', 18732), ('훨', 5174), ('씬', 6169), ('더', 162681), ('존', 121107), ('할', 292227), ('벨', 36625), ('數', 1525), ('學', 15675), ('념', 43017), ('식', 311697), ('추', 157495), ('겨', 61328), ('롯', 26646), ('른', 185569), ('맺', 12670), ('느', 46401), ('달', 156315), ('측', 65036), ('않', 192721), ('론', 114589), ('킬', 17405), ('엄', 35394), ('밀', 69100), ('숫', 6324), ('움', 50245), ('런', 68953), ('찾', 29409), ('볼', 55512), ('클', 83639), ('네', 152446), ('호', 313064), ('작', 394998), ('혁', 40190), ('류', 134589), ('늘', 40527), ('날', 85433), ('뿐', 27820), ('응', 52310), ('써', 40362), ('새', 95290), ('낳', 8297), ('닌', 35085), ('름', 130843), ('우', 563976), ('료', 98773), ('h', 202032), ('i', 532719), ('c', 236445), ('s', 354357), ('뜻', 59894), ('틴', 22241), ('k', 131430), ('o', 586811), ('배', 204868), ('줄', 43530), ('탈', 87072), ('람', 123366), ('•', 1945), ('생', 331996), ('필', 92941), ('든', 90821), ('왔', 44863), ('천', 184145), ('토', 251821), ('량', 94618), ('킨', 40038), ('쓴', 11478), ('훈', 35703), ('종', 295287), ('왕', 179128), ('준', 139572), ('울', 116976), ('왜', 17439), ('손', 80053), ('각', 235409), ('술', 117186), ('밖', 22879), ('칙', 26039), ('페', 121610), ('막', 77111), ('쌍', 14851), ('둥', 20939), ('골', 65203), ('바', 330586), ('흐', 29066), ('랜', 79090), ('럿', 2975), ('얻', 34388), ('쉽', 12338), ('찬', 41629), ('환', 108613), ('외', 152850), ('벡', 7452), ('텐', 18711), ('칭', 61457), ('눈', 24622), ('금', 166144), ('없', 159333), ('컴', 28911), ('퍼', 70782), ('잘', 38807), ('피', 188543), ('높', 58337), ('괄', 6727), ('푸', 30188), ('앵', 5521), ('퓨', 19385), ('색', 87671), ('묘', 38162), ('탐', 18214), ('떠', 28707), ('럽', 62868), ('율', 39795), ('귀', 61445), ('착', 53011), ('될', 43697), ('혼', 64811), ('능', 117870), ('확', 90277), ('“', 33829), ('”', 33710), ('징', 50611), ('몇', 35443), ('칸', 33106), ('브', 165286), ('-', 251453), ('힐', 9018), ('값', 14568), ('롬', 9554), ('딕', 4522), ('맨', 24296), ('즈', 137355), ('슨', 36284), ('f', 154212), ('l', 403445), ('_', 77975), ('갖', 40877), ('文', 12026), ('언', 144857), ('삶', 8439), ('美', 2181), ('的', 2032), ('藝', 819), ('옳', 1439), ('텍', 10657), ('떤', 17991), ('흔', 16111), ('묶', 4344), ('헌', 52341), ('좀', 6822), ('곡', 100664), ('족', 127914), ('띨', 55), ('닐', 8035), ('템', 28917), ('테', 138828), ('꼭', 5270), ('디', 208640), ('털', 21370), ('점', 199407), ('허', 57286), ('품', 103209), ('찰', 60506), ('떨', 26770), ('투', 160380), ('뢰', 13647), ('따', 149971), ('즉', 45054), ('춤', 5916), ('춘', 24828), ('演', 591), ('劇', 755), ('詩', 1665), ('散', 554), ('뉜', 4296), ('즘', 13961), ('흥', 36545), ('씌', 1431), ('雜', 546), ('짜', 12184), ('書', 7290), ('簡', 566), ('험', 61098), ('特', 802), ('定', 3524), ('時', 3117), ('傳', 1959), ('記', 3587), ('評', 389), ('論', 2900), ('띠', 6982), ('냥', 8124), ('욕', 26775), ('저', 148660), ('므', 32736), ('황', 123532), ('켜', 24546), ('열', 151428), ('뉘', 8448), ('엮', 1202), ('렵', 13912), ('길', 66924), ('락', 52539), ('몬', 27158), ('참', 115281), ('化', 3373), ('광', 135602), ('맞', 42832), ('효', 55634), ('염', 32938), ('<', 38428), ('w', 54565), ('>', 39177), ('*', 2785), ('/', 66310), (':', 93822), ('B', 161995), ('C', 242508), ('굴', 26600), ('검', 50571), ('빛', 15890), ('끓', 1854), ('벽', 25084), ('돌', 94442), ('녹', 22138), ('급', 124266), ('R', 107795), ('b', 88952), ('y', 121365), ('뿌', 6631), ('님', 19729), ('온', 105462), ('폐', 44041), ('쇄', 13710), ('압', 44329), ('례', 51070), ('《', 170254), ('》', 170239), ('획', 54482), ('믿', 10892), ('낸', 28935), ('é', 5848), ('D', 137692), ('컬', 22988), ('펌', 2238), ('컨', 19501), ('핑', 11012), ('죽', 57261), ('턴', 38895), ('엽', 10127), ('p', 127280), ('붙', 30137), ('낼', 7369), ('붕', 16978), ('괴', 31621), ('S', 255249), ('A', 242960), ('K', 95237), ('렬', 17162), ('혹', 29122), ('겪', 8738), ('끊', 6628), ('흡', 12543), ('Δ', 456), ('H', 81795), ('눌', 4150), ('띤', 2391), ('륨', 5113), ('N', 105967), ('렇', 22418), ('액', 27997), ('겹', 4208), ('큼', 10964), ('청', 165054), ('O', 99730), ('욱', 18571), ('넓', 18362), ('송', 123404), ('믹', 7654), ('램', 38114), ('끼', 23979), ('커', 59216), ('X', 31238), ('틱', 10215), ('첸', 4097), ('캅', 1294), ('룹', 27470), ('섞', 4247), ('%', 46186), ('잉', 24261), ('슈', 58271), ('젊', 8276), ('맹', 35669), ('맥', 31420), ('웰', 5879), ('M', 171199), ('x', 27469), ('方', 3279), ('程', 480), ('式', 1914), ('츠', 67447), ('펴', 4531), ('쿨', 6753), ('롱', 11268), ('밝', 35361), ('혔', 19554), ('앞', 41582), ('힌', 14694), ('척', 25326), ('닭', 3303), ('샤', 28472), ('틀', 46943), ('곱', 9850), ('웨', 58434), ('W', 63115), ('뜨', 10525), ('놓', 27899), ('둘', 29094), ('홀', 19553), ('力', 1204), ('線', 1621), ('먼', 42706), ('헤', 43624), ('윌', 13743), ('폭', 51209), ('쓰', 97023), ('덧', 4864), ('場', 1365), ('멕', 10166), ('렸', 50894), ('칼', 31840), ('케', 89897), ('µ', 177), ('멀', 11509), ('훗', 4819), ('첫', 57921), ('G', 93822), ('超', 487), ('越', 852), ('항', 159081), ('빌', 35285), ('폰', 21422), ('겔', 5064), ('앨', 36353), ('音', 1934), ('階', 378), ('v', 72077), ('d', 199722), ('半', 947), ('뜸', 1036), ('솔', 20464), ('黃', 2559), ('鍾', 1179), ('♭', 105), ('太', 5300), ('蔟', 1), ('仲', 1061), ('呂', 916), ('林', 4093), ('無', 4425), ('射', 757), ('궁', 36011), ('變', 917), ('徵', 305), ('宮', 3151), ('뽑', 5601), ('즌', 56420), ('몽', 22047), ('총', 117163), ('넷', 19638), ('친', 80978), ('혜', 21466), ('십', 26618), ('끄', 11120), ('\\xa0', 42974), ('렀', 20023), ('잃', 11992), ('륜', 6378), ('봉', 79072), (\"'\", 298720), ('풍', 47183), ('홍', 47268), ('럼', 46367), ('‘', 58953), ('’', 59694), ('습', 65899), ('컵', 33965), ('혈', 19320), ('냐', 19163), ('답', 14653), ('긍', 3956), ('꾸', 21338), ('싸', 26101), ('빨', 10255), ('낮', 19094), ('좋', 31227), ('씩', 12915), ('텔', 32661), ('앤', 19107), ('섰', 7274), ('밤', 13559), ('껴', 2083), ('끝', 45212), ('썩', 974), ('몰', 30782), ('咸', 1083), ('錫', 1445), ('憲', 1904), ('릉', 13990), ('江', 3816), ('陵', 2585), ('信', 3117), ('天', 8143), ('씨', 60508), ('육', 101664), ('숙', 34302), ('一', 6536), ('亨', 639), ('三', 9067), ('遷', 230), ('齋', 1564), ('德', 5304), ('小', 3318), ('校', 9706), ('숭', 12380), ('촌', 23903), ('州', 12174), ('五', 3875), ('山', 17256), ('곳', 63193), ('內', 2552), ('村', 2054), ('鑑', 455), ('金', 17651), ('敎', 4058), ('臣', 3819), ('宋', 2146), ('斗', 833), ('用', 1518), ('鄭', 3750), ('相', 4066), ('勳', 915), ('柳', 2347), ('東', 9250), ('楊', 1442), ('仁', 4752), ('性', 3530), ('聖', 3895), ('朝', 3563), ('鮮', 1884), ('객', 36205), ('글', 88673), ('〈', 40428), ('〉', 40420), ('옥', 34269), ('松', 3236), ('赫', 310), ('鷄', 279), ('友', 836), ('會', 5359), ('事', 7608), ('件', 649), ('弔', 79), ('蛙', 33), ('둑', 5826), ('Y', 23442), ('휴', 23572), ('익', 40096), ('놀', 15579), ('빙', 11749), ('떻', 6177), ('랄', 7974), ('빚', 3352), ('퀘', 4597), ('Q', 10364), ('派', 2333), ('좌', 46512), ('폈', 612), ('윤', 43607), ('뷰', 10239), ('?', 19695), ('닙', 377), ('옛', 12768), ('납', 12818), ('섭', 15910), ('암', 61136), ('읍', 17942), ('곧', 15525), ('듭', 4570), ('뤄', 6945), ('윈', 19284), ('뮤', 22033), ('줍', 332), ('놈', 2453), ('빼', 8182), ('먹', 24639), ('넌', 3788), ('센', 54108), ('맸', 68), ('白', 3884), ('南', 8498), ('準', 615), ('水', 4755), ('原', 5333), ('뉴', 54080), ('쾰', 1220), ('쿄', 19962), ('머', 89627), ('녀', 67493), ('덴', 30593), ('쇤', 380), ('뮌', 4440), ('헨', 18349), ('옮', 16152), ('션', 70166), ('릴', 28215), ('탁', 22070), ('콜', 30993), ('숨', 11910), ('넥', 3976), ('낭', 8861), ('젠', 12767), ('묻', 6091), ('셉', 3997), ('럭', 8939), ('벤', 23076), ('튜', 13584), ('T', 169293), ('V', 79048), ('탕', 20754), ('갤', 4483), ('덤', 10563), ('슐', 4046), ('릭', 39171), ('젖', 2344), ('킹', 14601), ('펼', 10599), ('큐', 13777), ('팅', 19620), ('봇', 4918), ('팩', 6115), ('촬', 8830), ('첼', 6177), ('샬', 2501), ('넣', 16052), ('섹', 3557), ('붓', 2651), ('휘', 35479), ('E', 126238), ('꾀', 2100), ('굿', 2833), ('닝', 15180), ('퐁', 2086), ('샌', 6636), ('링', 36590), ('[', 42992), ('草', 1301), ('月', 2816), (']', 43108), ('콘', 35642), ('I', 148961), ('늑', 3760), ('엇', 7139), ('쮜', 3), ('폴', 45090), ('틸', 9575), ('렉', 22922), ('닉', 13340), ('뇌', 16053), ('겐', 14890), ('눠', 1513), ('쪽', 120846), ('헝', 8432), ('튀', 6992), ('늄', 5835), ('段', 346), ('狀', 690), ('鑛', 141), ('泉', 1154), ('솟', 2305), ('²', 3730), ('텝', 1478), ('흘', 8513), ('빠', 29173), ('젬', 556), ('켈', 8778), ('륙', 21512), ('덜', 16219), ('덥', 551), ('д', 1122), ('е', 2799), ('к', 1996), ('а', 4302), ('и', 3420), ('м', 1142), ('т', 1782), ('о', 3627), ('У', 125), ('р', 2565), ('н', 2765), ('ѓ', 6), ('с', 2227), ('л', 1841), ('в', 1902), ('п', 527), ('у', 1093), ('ш', 349), ('з', 439), ('ч', 519), ('„', 114), ('г', 650), ('б', 520), ('ј', 84), ('얇', 2127), ('끈', 5178), ('옷', 8137), ('삭', 9707), ('늬', 6057), ('톱', 7876), ('렛', 3780), ('둔', 19188), ('元', 6773), ('支', 1167), ('點', 546), ('先', 1453), ('잎', 10799), ('綱', 716), ('꽃', 17936), ('잔', 22970), ('튼', 12759), ('理', 3828), ('容', 1257), ('깎', 1527), ('쇠', 9892), ('짧', 9768), ('탑', 27150), ('웹', 10990), ('ˈ', 238), ('꼽', 5618), ('얽', 1371), ('돕', 3675), ('칠', 23032), ('읽', 7988), ('L', 107539), ('윅', 1329), ('훼', 3669), ('쉬', 13864), ('넘', 31433), ('챌', 1919), ('g', 142621), ('겼', 20918), ('地', 5257), ('球', 782), ('科', 2200), ('섯', 12007), ('젝', 11879), ('쇼', 32742), ('J', 49465), ('롭', 14449), ('멸', 21222), ('춰', 4586), ('캐', 47674), ('正', 6717), ('待', 211), ('ち', 578), ('멈', 3071), ('맡', 41524), ('本', 4959), ('の', 3573), ('未', 564), ('来', 181), ('基', 2572), ('z', 26307), ('꿈', 8232), ('삽', 4408), ('｜', 22), ('ぶ', 198), ('ん', 1188), ('こ', 563), ('庫', 494), ('쓸', 5753), ('j', 11614), ('핀', 25235), ('딩', 14992), ('셀', 19696), ('첩', 8279), ('和', 3746), ('歌', 1691), ('光', 5384), ('源', 2162), ('氏', 8531), ('깝', 3712), ('귄', 1272), ('얘', 2130), ('쥐', 28493), ('팽', 6461), ('넙', 203), ('品', 1097), ('델', 36052), ('혐', 8974), ('般', 356), ('對', 1462), ('률', 27821), ('닥', 12348), ('쏘', 3172), ('셜', 7644), ('−', 853), ('+', 11575), ('덱', 1979), ('캘', 8710), ('켄', 8379), ('톰', 5837), ('U', 69911), ('핸', 3460), ('밍', 10387), ('週', 116), ('期', 751), ('律', 876), ('表', 1039), ('멘', 15736), ('즐', 11082), ('균', 35636), ('슘', 2113), ('튬', 1281), ('슷', 16610), ('딘', 8393), ('긋', 2115), ('웃', 11862), ('뀌', 10264), ('헬', 15018), ('깥', 3922), ('껍', 3140), ('몸', 24666), ('=', 14340), ('α', 3032), ('롤', 18191), ('릿', 9067), ('곁', 2152), (';', 9357), ('랫', 11990), ('変', 120), ('体', 159), ('仮', 53), ('名', 2527), ('룬', 15114), ('뤼', 5808), ('뷔', 31619), ('꼬', 11532), ('굳', 3486), ('벗', 8342), ('옹', 16327), ('젤', 14241), ('앗', 6789), ('돼', 10401), ('듣', 8023), ('뵐', 189), ('ö', 1517), ('『', 10060), ('』', 10081), ('블', 64732), ('룸', 4801), ('펜', 16533), ('≪', 1353), ('≫', 1352), ('듬', 16086), ('덟', 2209), ('벳', 2980), ('겸', 20763), ('多', 1550), ('項', 414), ('꼴', 4313), ('次', 1171), ('푼', 3116), ('\\\\', 669), ('^', 496), ('≠', 57), ('±', 658), ('√', 28), ('角', 1020), ('函', 348), ('恒', 618), ('等', 4957), ('셈', 5842), ('꾼', 4821), ('깔', 5589), ('끔', 4911), ('츰', 967), ('뫼', 1172), ('盧', 1122), ('武', 4972), ('鉉', 588), ('뛰', 23000), ('휩', 2054), ('좁', 5162), ('햇', 1840), ('볕', 475), ('밑', 8774), ('엉', 3166), ('덩', 5157), ('뒷', 7205), ('맏', 1546), ('잦', 1755), ('딸', 20397), ('쌓', 8647), ('쏜', 625), ('葬', 361), ('봤', 2282), ('잇', 11285), ('걱', 2260), ('붐', 1590), ('볐', 76), ('뎌', 404), ('챙', 1155), ('싼', 4426), ('둬', 799), ('넉', 905), ('…', 2631), ('쩍', 564), ('룩', 7663), ('쁜', 2574), ('쁨', 903), ('짐', 10416), ('쁩', 18), ('風', 1569), ('꺾', 4434), ('싶', 8274), ('쪼', 910), ('줬', 2704), ('親', 1754), ('反', 1456), ('非', 1198), ('걀', 1457), ('녁', 3920), ('낀', 2349), ('랍', 8915), ('싱', 42505), ('넬', 6182), ('껄', 159), ('됨', 7890), ('ㆍ', 4689), ('잖', 579), ('쾌', 5916), ('튿', 390), ('앉', 5307), ('낡', 772), ('쯤', 2787), ('죠', 2830), ('쏟', 2063), ('홈', 23461), ('찍', 10855), ('촛', 999), ('댓', 1803), ('쨌', 554), ('쌀', 4323), ('숲', 7181), ('흠', 2330), ('첨', 9244), ('쁘', 1846), ('억', 35844), ('찮', 1156), ('횡', 5342), ('팀', 88306), ('갚', 995), ('랐', 18658), ('융', 16260), ('∼', 6023), ('늦', 5449), ('렁', 2017), ('떡', 1886), ('멱', 735), ('벼', 7110), ('뜯', 777), ('빅', 10463), ('뀐', 1812), ('픔', 1685), ('뜰', 911), ('븐', 6811), ('궐', 4342), ('훌', 4166), ('륭', 4382), ('똥', 774), ('굽', 3089), ('앴', 196), ('앰', 1195), ('촘', 773), ('九', 2286), ('깨', 15734), ('끗', 1403), ('깜', 1053), ('릇', 2640), ('맛', 6554), ('愛', 1334), ('憎', 24), ('줘', 1509), ('딤', 685), ('닷', 3609), ('윽', 802), ('맵', 2144), ('괜', 709), ('봐', 3008), ('띄', 4132), ('低', 180), ('냄', 2297), ('뚜', 4574), ('렷', 2871), ('웅', 13664), ('샀', 1106), ('얏', 348), ('泰', 1976), ('꿨', 1155), ('쩔', 1142), ('왈', 2673), ('竹', 1239), ('島', 3568), ('찌', 6040), ('몫', 1466), ('낱', 2642), ('톨', 18845), ('꺼', 5255), ('옆', 8778), ('틈', 3579), ('大', 22892), ('花', 2090), ('毘', 258), ('殿', 2381), ('셔', 17069), ('윗', 4853), ('탓', 2807), ('폄', 368), ('算', 344), ('術', 1175), ('完', 920), ('全', 3672), ('닫', 5380), ('Ч', 87), ('ы', 661), ('ё', 125), ('짝', 5897), ('팡', 3289), ('딴', 2986), ('삿', 2428), ('π', 708), ('法', 7705), ('則', 571), ('셋', 7041), ('第', 1213), ('面', 3350), ('二', 2955), ('雙', 694), ('曲', 1082), ('렴', 5554), ('빗', 4192), ('空', 1753), ('間', 1561), ('實', 1802), ('複', 247), ('素', 765), ('部', 4970), ('分', 2346), ('룰', 4760), ('셰', 10435), ('物', 2607), ('常', 1511), ('굵', 2108), ('代', 3017), ('켤', 393), ('{', 1240), ('}', 1114), ('!', 21143), ('規', 380), ('布', 700), ('ß', 389), ('Z', 11879), ('攻', 183), ('殻', 18), ('機', 1178), ('動', 1994), ('隊', 734), ('∞', 209), ('級', 313), ('펙', 4607), ('手', 1029), ('Γ', 111), ('γ', 697), ('澄', 256), ('堂', 3344), ('主', 4893), ('人', 8490), ('我', 1179), ('鬼', 383), ('「', 18748), ('」', 18775), ('蜘', 9), ('蛛', 10), ('糸', 27), ('杜', 630), ('子', 9676), ('春', 2223), ('新', 4901), ('敏', 619), ('フ', 402), ('ク', 636), ('辰', 594), ('年', 3002), ('日', 4928), ('龍', 4460), ('之', 3320), ('介', 457), ('助', 648), ('싫', 2550), ('は', 705), ('つ', 514), ('ひ', 283), ('さ', 652), ('쵸', 819), ('キ', 402), ('芥', 25), ('川', 6870), ('道', 9039), ('章', 2086), ('士', 3280), ('族', 1852), ('寄', 150), ('屋', 616), ('坊', 475), ('乙', 896), ('類', 1123), ('井', 1617), ('恭', 983), ('久', 858), ('米', 376), ('雄', 1207), ('思', 1895), ('潮', 257), ('隆', 809), ('봄', 7338), ('帝', 3552), ('國', 11781), ('羅', 3455), ('生', 4472), ('門', 4632), ('鈴', 207), ('木', 2677), ('重', 2672), ('吉', 2482), ('멤', 14403), ('鼻', 231), ('浅', 146), ('野', 2025), ('郎', 1349), ('皇', 3643), ('畔', 24), ('舟', 287), ('市', 2631), ('河', 3195), ('喜', 824), ('煙', 131), ('と', 1003), ('悪', 41), ('魔', 344), ('田', 4854), ('学', 881), ('政', 4589), ('똑', 3637), ('由', 659), ('比', 665), ('ガ', 246), ('浜', 181), ('町', 825), ('誉', 32), ('司', 4440), ('横', 118), ('須', 307), ('賀', 658), ('海', 5872), ('客', 629), ('外', 1962), ('近', 819), ('藤', 1501), ('浩', 746), ('路', 2117), ('永', 3780), ('見', 2159), ('徳', 555), ('上', 5325), ('遊', 571), ('加', 1243), ('志', 1446), ('湯', 263), ('保', 1753), ('も', 500), ('퀴', 7222), ('歯', 23), ('車', 1448), ('갓', 2307), ('童', 478), ('궤', 12399), ('핫', 3020), ('塚', 315), ('八', 2784), ('洲', 499), ('鵠', 36), ('沼', 197), ('也', 442), ('寸', 94), ('家', 4999), ('を', 518), ('借', 140), ('り', 930), ('て', 633), ('か', 1151), ('ら', 808), ('雑', 64), ('簿', 484), ('富', 1022), ('녔', 3941), ('柴', 272), ('悠', 26), ('々', 140), ('荘', 68), ('岸', 298), ('劉', 2802), ('国', 1802), ('虎', 983), ('斎', 115), ('茂', 676), ('土', 1659), ('明', 5863), ('葛', 612), ('巻', 47), ('義', 6626), ('섣', 178), ('믐', 158), ('端', 591), ('西', 5379), ('豊', 1324), ('芸', 135), ('な', 1122), ('、', 2352), ('余', 191), ('に', 813), ('平', 7751), ('麻', 740), ('續', 544), ('続', 58), ('ぼ', 84), ('や', 331), ('し', 1194), ('た', 1026), ('不', 3240), ('安', 8861), ('戒', 684), ('懿', 569), ('院', 6184), ('崇', 1108), ('居', 1171), ('区', 476), ('巣', 15), ('鴨', 110), ('慈', 762), ('眼', 635), ('寺', 7607), ('邪', 560), ('宗', 7156), ('뚱', 1263), ('붉', 6944), ('与', 98), ('햣', 15), ('内', 704), ('百', 1331), ('杖', 191), ('孁', 3), ('貴', 869), ('몹', 959), ('現', 1300), ('亞', 693), ('電', 956), ('視', 357), ('鰐', 11), ('魚', 1033), ('淚', 51), ('浣', 54), ('洗', 176), ('劍', 337), ('錄', 1702), ('情', 990), ('箭', 146), ('寵', 119), ('倪', 29), ('蓓', 1), ('팬', 15029), ('딱', 3570), ('統', 1401), ('計', 660), ('調', 1183), ('査', 327), ('標', 370), ('q', 8575), ('述', 405), ('`', 1820), ('\\u200e', 409), ('뉠', 205), ('펀', 3612), ('컫', 3628), ('꼈', 1445), ('탠', 4270), ('픈', 7365), ('ñ', 426), ('팰', 1203), ('랙', 16085), ('뀜', 169), ('잭', 6869), ('탭', 995), ('횟', 1747), ('젯', 788), ('펄', 3934), ('눅', 2706), ('렌', 33008), ('땄', 1644), ('前', 3620), ('者', 2155), ('쿼', 4566), ('갬', 223), ('죈', 38), ('ε', 1039), ('同', 3197), ('値', 133), ('關', 1314), ('係', 217), ('集', 2384), ('合', 2461), ('自', 2489), ('然', 663), ('哲', 917), ('핼', 862), ('켓', 14255), ('옙', 426), ('ν', 1346), ('λ', 1059), ('깁', 921), ('콥', 3038), ('뺀', 482), ('윳', 368), ('φ', 333), ('積', 505), ('測', 220), ('弦', 59), ('餘', 663), ('切', 458), ('닮', 2793), ('렐', 5388), ('Č', 95), ('킴', 4106), ('行', 4991), ('챔', 14598), ('딥', 885), ('模', 364), ('型', 626), ('렙', 1047), ('톤', 19768), ('둠', 2094), ('힉', 498), ('½', 235), ('겁', 3305), ('⅓', 105), ('⅔', 89), ('×', 4230), ('뀔', 441), ('→', 3498), ('깬', 401), ('깰', 99), ('뱅', 6881), ('왼', 8199), ('婦', 291), ('船', 874), ('色', 1716), ('荷', 213), ('홑', 368), ('갱', 3473), ('形', 1698), ('應', 1862), ('탱', 5755), ('콰', 3417), ('흩', 2130), ('群', 1013), ('結', 982), ('波', 1000), ('速', 456), ('펠', 11484), ('긁', 382), ('왓', 1977), ('웻', 83), ('앱', 1907), ('얹', 1612), ('툴', 3568), ('킷', 3288), ('줌', 1675), ('컷', 7996), ('쉰', 658), ('잊', 2244), ('밌', 246), ('뭔', 599), ('Ω', 116), ('쐐', 609), ('∈', 87), ('∇', 6), ('К', 411), ('И', 241), ('Н', 226), ('О', 162), ('팝', 5273), ('쉐', 2239), ('짙', 2054), ('쿰', 904), ('콤', 8640), ('엑', 7457), ('微', 319), ('細', 583), ('構', 434), ('造', 1951), ('公', 7938), ('列', 715), ('↵', 11), ('座', 790), ('系', 1084), ('四', 3053), ('邊', 891), ('量', 696), ('퀀', 613), ('換', 269), ('在', 1742), ('像', 2834), ('앎', 226), ('훔', 1931), ('確', 114), ('냉', 7814), ('뻔', 1294), ('伏', 335), ('羲', 157), ('神', 4815), ('農', 997), ('女', 2710), ('媧', 7), ('軒', 530), ('轅', 29), ('顓', 12), ('頊', 32), ('高', 8635), ('陽', 5680), ('嚳', 5), ('辛', 654), ('堯', 187), ('放', 726), ('陶', 455), ('唐', 1749), ('舜', 368), ('華', 2782), ('有', 3401), ('虞', 226), ('秦', 1201), ('夏', 1278), ('商', 1282), ('殷', 527), ('周', 2245), ('紂', 55), ('王', 11762), ('秋', 1151), ('戰', 1813), ('齊', 1031), ('桓', 558), ('晉', 1255), ('楚', 420), ('莊', 834), ('吳', 1887), ('闔', 13), ('閭', 252), ('勾', 36), ('踐', 67), ('韓', 4891), ('魏', 1239), ('趙', 3389), ('燕', 899), ('漢', 4017), ('後', 2830), ('北', 5047), ('蜀', 309), ('흉', 5155), ('뤘', 1759), ('十', 3261), ('六', 2310), ('中', 12268), ('套', 13), ('成', 5940), ('涼', 118), ('隋', 207), ('梁', 1711), ('陳', 1532), ('遼', 502), ('淸', 3215), ('民', 3880), ('쑨', 785), ('돤', 167), ('펑', 3755), ('궈', 1204), ('쭤', 327), ('옌', 4327), ('獨', 712), ('秀', 1623), ('쩌', 1994), ('毛', 799), ('澤', 799), ('共', 1104), ('劃', 133), ('育', 1087), ('是', 315), ('口', 1495), ('史', 3710), ('発', 78), ('展', 276), ('必', 277), ('⟨', 30), ('⟩', 30), ('|', 9954), ('ψ', 122), ('—', 850), ('꺽', 355), ('–', 5939), ('듦', 232), ('닿', 2506), ('汗', 212), ('꽤', 1692), ('춥', 316), ('℃', 3448), ('곰', 3526), ('멧', 1527), ('꿩', 296), ('텃', 320), ('石', 5962), ('灰', 109), ('工', 1646), ('業', 2582), ('캤', 12), ('텅', 745), ('걷', 2438), ('뼈', 5297), ('얄', 2188), ('촨', 1802), ('땃', 1589), ('떼', 2869), ('깡', 552), ('팎', 703), ('괌', 940), ('탔', 837), ('옴', 2171), ('럴', 9020), ('・', 5403), ('軍', 7130), ('릎', 2633), ('옵', 3134), ('빵', 3825), ('캄', 6560), ('얀', 7901), ('릅', 925), ('諺', 148), ('廳', 1152), ('ㅡ', 386), ('ㅣ', 290), ('&', 11631), ('技', 583), ('流', 1566), ('랭', 12220), ('尹', 3444), ('致', 1028), ('瑛', 96), ('닳', 196), ('맘', 1712), ('´', 110), ('朴', 4343), ('圭', 673), ('丑', 220), ('拜', 222), ('쉴', 1142), ('賞', 358), ('뢴', 331), ('톡', 3290), ('륀', 338), ('益', 1246), ('號', 2114), ('李', 16377), ('京', 3244), ('粉', 204), ('別', 1924), ('首', 999), ('都', 4835), ('城', 9492), ('府', 6148), ('師', 3046), ('兆', 178), ('善', 3623), ('徐', 1695), ('蔚', 365), ('け', 401), ('い', 1881), ('じ', 359), ('ょ', 248), ('う', 1102), ('쎄', 333), ('°', 4149), ('′', 431), ('룡', 14360), ('뻗', 3059), ('鞍', 98), ('곽', 8847), ('돗', 1099), ('뚝', 1937), ('節', 2049), ('슭', 1774), ('峴', 520), ('治', 2024), ('泥', 243), ('桂', 702), ('洞', 4116), ('觀', 2091), ('象', 1001), ('監', 2290), ('孟', 642), ('紅', 555), ('梨', 280), ('쾨', 1001), ('뿜', 922), ('맑', 1519), ('쬐', 154), ('덮', 6477), ('㎍', 45), ('藏', 1517), ('뚫', 2555), ('Ü', 106), ('랏', 1165), ('뿔', 3748), ('Á', 195), ('κ', 843), ('υ', 492), ('ρ', 1203), ('닻', 149), ('폼', 9166), ('싹', 1106), ('ı', 373), ('띈', 632), ('Ç', 54), ('ç', 592), ('ş', 211), ('펫', 1653), ('벅', 1630), ('Ş', 50), ('İ', 75), ('밋', 1597), ('괵', 152), ('첵', 208), ('쉔', 95), ('ü', 1828), ('츨', 708), ('ğ', 128), ('度', 2213), ('運', 1523), ('볍', 1216), ('윙', 4339), ('깐', 1362), ('짱', 1723), ('뭘', 158), ('벵', 1475), ('읊', 506), ('ぎ', 111), ('く', 675), ('휠', 1863), ('夢', 640), ('濊', 68), ('貊', 48), ('扶', 568), ('古', 3171), ('儉', 203), ('刀', 373), ('錢', 354), ('壤', 429), ('慶', 3798), ('弁', 121), ('룽', 3205), ('失', 406), ('쏠', 649), ('冠', 682), ('帽', 153), ('峰', 959), ('故', 909), ('夫', 3895), ('ㄱ', 514), ('ㅋ', 177), ('ㄲ', 69), ('ㅏ', 142), ('ㅑ', 55), ('ㅐ', 73), ('ㅒ', 34), ('訓', 787), ('字', 2575), ('兩', 640), ('班', 303), ('異', 1208), ('意', 1282), ('語', 1829), ('略', 545), ('ㅿ', 45), ('ㆆ', 33), ('읗', 22), ('ㆁ', 40), ('―', 1185), ('圓', 1046), ('率', 398), ('ι', 1321), ('η', 610), ('ή', 245), ('ς', 1311), ('ί', 510), ('μ', 1162), ('τ', 1131), ('ο', 1660), ('샹', 2673), ('逸', 486), ('∝', 4), ('밟', 1952), ('ア', 641), ('イ', 950), ('ウ', 322), ('片', 249), ('カ', 464), ('タ', 561), ('ナ', 343), ('ヴ', 86), ('ァ', 144), ('ィ', 269), ('ェ', 163), ('ォ', 69), ('헵', 283), ('点', 88), ('ヲ', 36), ('コ', 375), ('ト', 749), ('맣', 149), ('컸', 1854), ('宇', 1079), ('津', 1654), ('譲', 17), ('伴', 195), ('堤', 338), ('納', 458), ('言', 1570), ('虫', 29), ('め', 262), ('づ', 63), ('る', 916), ('姫', 191), ('君', 5484), ('英', 2128), ('햅', 142), ('樣', 190), ('體', 2293), ('局', 1079), ('所', 3935), ('峨', 89), ('흙', 3559), ('껏', 1027), ('낄', 1087), ('턱', 3053), ('흰', 7221), ('胎', 262), ('兒', 693), ('嬰', 73), ('幼', 184), ('身', 2128), ('長', 6158), ('헐', 2426), ('탤', 2046), ('캔', 5451), ('使', 5340), ('許', 1481), ('可', 906), ('팜', 2061), ('듈', 2472), ('펩', 721), ('臭', 13), ('味', 292), ('띰', 3), ('듐', 944), ('ω', 485), ('³', 250), ('샘', 5434), ('갇', 1576), ('뱉', 366), ('꿀', 2830), ('씻', 866), ('界', 1698), ('갸', 646), ('ㅗ', 130), ('ㅛ', 40), ('ㅓ', 84), ('ㅕ', 55), ('ㅇ', 468), ('揭', 25), ('示', 288), ('板', 897), ('뎀', 679), ('報', 1201), ('息', 183), ('밸', 3023), ('從', 1281), ('瓣', 57), ('倍', 177), ('裝', 348), ('置', 421), ('似', 144), ('〔', 267), ('〕', 274), ('－', 994), ('렘', 4875), ('葉', 717), ('軸', 186), ('搖', 25), ('뮬', 3159), ('엠', 5537), ('캣', 1103), ('샵', 986), ('퍠', 2), ('#', 1885), ('\\u3000', 1269), ('«', 909), ('»', 922), ('通', 3075), ('솨', 22), ('츄', 1344), ('햏', 34), ('뷁', 4), ('網', 190), ('햄', 4671), ('랗', 349), ('쭉', 1295), ('뭉', 1951), ('밥', 5355), ('戱', 353), ('剩', 36), ('精', 787), ('說', 1780), ('乳', 232), ('玩', 61), ('具', 815), ('잣', 799), ('郞', 2136), ('①', 804), ('②', 784), ('想', 1233), ('③', 543), ('描', 88), ('畵', 1176), ('④', 314), ('受', 1158), ('⑤', 181), ('⑥', 107), ('經', 4429), ('過', 465), ('댄', 6212), ('밈', 636), ('헉', 186), ('탬', 1134), ('랠', 647), ('팸', 407), ('쉘', 471), ('뤽', 283), ('눗', 378), ('뺄', 196), ('房', 966), ('쥬', 2134), ('낵', 264), ('勞', 517), ('組', 487), ('숍', 907), ('딜', 4267), ('헷', 252), ('榮', 1301), ('愚', 348), ('礎', 89), ('溫', 911), ('議', 2257), ('博', 954), ('郡', 5154), ('嘉', 1268), ('뺨', 486), ('뇨', 2974), ('私', 767), ('財', 584), ('툼', 2566), ('썬', 1604), ('칩', 2610), ('홉', 2695), ('）', 1284), ('＋', 130), ('（', 1186), ('홋', 4735), ('낌', 3746), ('す', 485), ('み', 543), ('ず', 179), ('き', 767), ('ね', 152), ('虛', 419), ('核', 201), ('心', 3531), ('껐', 51), ('켬', 5), ('넨', 3591), ('숏', 258), ('닦', 1432), ('맷', 3331), ('셸', 3355), ('샷', 869), ('핟', 4), ('왑', 151), ('킥', 3480), ('깃', 4731), ('≥', 77), ('σ', 962), ('際', 500), ('務', 1363), ('器', 1297), ('社', 3070), ('勢', 482), ('뭇', 1417), ('낯', 697), ('쥘', 741), ('맴', 804), ('⑦', 75), ('⑧', 53), ('멜', 11381), ('렝', 1128), ('÷', 50), ('總', 1010), ('聯', 719), ('利', 1856), ('敵', 300), ('뮨', 39), ('텼', 152), ('△', 960), ('奇', 813), ('怪', 123), ('竟', 88), ('췌', 902), ('댐', 2558), ('삐', 1076), ('旻', 91), ('낚', 1220), ('듀', 12421), ('整', 241), ('陰', 952), ('汎', 79), ('ℕ', 8), ('뛴', 542), ('닛', 7906), ('뱃', 1236), ('벙', 816), ('캡', 2600), ('쒸', 7), ('솝', 339), ('갯', 935), ('區', 950), ('開', 1946), ('閉', 118), ('限', 348), ('≤', 142), ('겉', 3114), ('絶', 279), ('條', 770), ('퓰', 743), ('쫓', 5414), ('世', 5033), ('誦', 86), ('優', 309), ('趣', 133), ('假', 572), ('戈', 49), ('至', 691), ('距', 80), ('離', 659), ('位', 1666), ('纖', 56), ('層', 815), ('냅', 976), ('@', 858), ('選', 599), ('擇', 192), ('依', 524), ('存', 427), ('域', 934), ('佛', 3154), ('싯', 1617), ('祖', 2758), ('ā', 1569), ('迦', 402), ('修', 1793), ('覺', 984), ('갠', 402), ('ī', 625), ('康', 2007), ('낫', 1383), ('釋', 658), ('랴', 3542), ('륵', 2070), ('備', 754), ('疲', 14), ('짊', 231), ('뜬', 1248), ('찢', 941), ('핍', 1727), ('父', 864), ('뒀', 1690), ('눴', 198), ('췄', 952), ('팟', 1469), ('셱', 32), ('헛', 1046), ('짚', 948), ('典', 1948), ('æ', 353), ('ἐ', 62), ('ύ', 228), ('δ', 639), ('講', 584), ('談', 299), ('習', 430), ('硏', 544), ('究', 603), ('凡', 221), ('館', 2089), ('園', 1290), ('極', 1006), ('出', 1366), ('版', 506), ('←', 468), ('솜', 2117), ('겟', 930), ('早', 229), ('マ', 460), ('ジ', 444), ('ン', 1765), ('副', 1967), ('題', 549), ('譯', 452), ('蔑', 16), ('稱', 294), ('섀', 1104), ('먀', 586), ('멋', 2058), ('팻', 702), ('숀', 1001), ('딧', 944), ('뷸', 258), ('엣', 2392), ('튕', 283), ('잰', 276), ('콕', 3073), ('θ', 514), ('赤', 831), ('征', 513), ('늙', 1080), ('쯔', 1956), ('쑹', 610), ('셴', 1023), ('녠', 80), ('톈', 2128), ('連', 894), ('켐', 704), ('▽', 14), ('七', 1590), ('퀸', 3932), ('活', 399), ('氣', 1272), ('稀', 36), ('單', 654), ('쥔', 676), ('쩐', 730), ('쑥', 477), ('넞', 2), ('م', 570), ('ح', 218), ('د', 435), ('ي', 656), ('ا', 1636), ('س', 298), ('ر', 575), ('ع', 277), ('ب', 397), ('ل', 1059), ('ن', 678), ('ؤ', 7), ('و', 593), ('ف', 184), ('ت', 280), ('ق', 181), ('ة', 158), ('千', 1231), ('円', 124), ('庚', 353), ('申', 1768), ('漱', 30), ('枕', 76), ('徊', 4), ('앓', 1621), ('宣', 2104), ('建', 2228), ('委', 641), ('員', 1322), ('㎞', 201), ('黨', 1173), ('領', 1222), ('導', 383), ('疎', 54), ('遠', 1255), ('롄', 830), ('빩', 2), ('곶', 1438), ('웜', 648), ('˚', 308), ('˝', 16), ('狼', 96), ('脈', 313), ('狄', 134), ('踰', 52), ('嶺', 684), ('妙', 540), ('香', 1027), ('彦', 1033), ('眞', 2098), ('滅', 570), ('惡', 804), ('鏡', 646), ('赴', 62), ('툰', 3629), ('굶', 921), ('엌', 606), ('굉', 2663), ('퉁', 2803), ('냇', 397), ('伊', 1218), ('桑', 145), ('죤', 100), ('슴', 6596), ('冷', 172), ('麵', 58), ('參', 1593), ('緯', 168), ('塘', 202), ('浦', 1751), ('ϕ', 7), ('녜', 938), ('潽', 25), ('敬', 1714), ('葦', 36), ('昭', 1124), ('載', 818), ('鳳', 1449), ('範', 936), ('淑', 944), ('埰', 29), ('謙', 698), ('녕', 6307), ('潑', 36), ('得', 1103), ('엿', 1624), ('塾', 174), ('댔', 266), ('承', 2309), ('晩', 467), ('쏙', 147), ('싣', 1071), ('졔', 30), ('챈', 1041), ('旺', 125), ('댁', 547), ('求', 613), ('姬', 509), ('肺', 47), ('炎', 234), ('協', 938), ('暎', 92), ('퍽', 598), ('孔', 648), ('崔', 3290), ('巨', 531), ('昌', 3581), ('根', 2000), ('뻐', 1230), ('丁', 1125), ('쑤', 2655), ('셨', 2568), ('閔', 771), ('寬', 514), ('植', 1286), ('任', 1477), ('興', 4206), ('淳', 850), ('炳', 545), ('玉', 1887), ('鶴', 903), ('뭐', 832), ('햐', 278), ('熙', 1339), ('洪', 2597), ('팍', 1366), ('칵', 510), ('萬', 2066), ('랬', 1058), ('死', 885), ('衆', 860), ('놨', 304), ('ᆞ', 177), ('꿎', 24), ('訪', 217), ('註', 230), ('兵', 2383), ('벚', 804), ('깍', 364), ('˙', 17), ('꼼', 748), ('뜩', 304), ('돋', 2194), ('팥', 594), ('稻', 75), ('孫', 2597), ('彬', 167), ('뽕', 424), ('火', 1161), ('星', 2120), ('熒', 9), ('惑', 325), ('멍', 4695), ('옅', 472), ('껑', 793), ('※', 2156), ('푹', 876), ('쿽', 8), ('윔', 620), ('탯', 236), ('$', 1588), ('캇', 709), ('텟', 370), ('磁', 433), ('誘', 122), ('퀄', 871), ('Φ', 161), ('å', 200), ('。', 1273), ('옐', 1802), ('†', 179), ('歷', 433), ('ἱ', 5), ('Π', 211), ('Τ', 84), ('ά', 488), ('Ζ', 35), ('Ι', 79), ('ó', 1504), ('賢', 1759), ('ἵ', 3), ('í', 1425), ('ō', 266), ('î', 150), ('뭄', 1088), ('헥', 1437), ('웸', 434), ('랩', 4678), ('漫', 125), ('땡', 382), ('딛', 537), ('튤', 183), ('땀', 723), ('露', 422), ('洋', 771), ('質', 688), ('웁', 470), ('찔', 1450), ('놉', 501), ('둡', 786), ('팁', 413), ('귤', 1215), ('ἄ', 27), ('ό', 476), ('잴', 96), ('Λ', 116), ('짢', 42), ('빴', 300), ('웬', 2229), ('授', 315), ('寫', 498), ('收', 297), ('斂', 41), ('偏', 161), ('郵', 306), ('母', 1006), ('料', 438), ('젓', 719), ('숟', 158), ('浙', 143), ('菜', 234), ('淡', 225), ('杯', 74), ('볶', 848), ('热', 4), ('炒', 13), ('샥', 166), ('짠', 621), ('\\u200b', 2138), ('쟝', 161), ('몐', 153), ('老', 1684), ('炸', 11), ('醬', 68), ('苦', 683), ('둣', 69), ('짬', 160), ('훑', 88), ('礪', 123), ('熱', 387), ('帶', 648), ('壓', 171), ('壁', 396), ('雲', 2524), ('寒', 299), ('潛', 158), ('찹', 312), ('盛', 727), ('阪', 162), ('医', 47), ('専', 70), ('チ', 287), ('ャ', 293), ('帳', 111), ('少', 991), ('聞', 635), ('酒', 589), ('馬', 3782), ('寶', 1876), ('鉄', 147), ('腕', 34), ('ム', 243), ('グ', 256), ('ル', 930), ('リ', 776), ('ボ', 138), ('騎', 565), ('ブ', 230), ('ラ', 840), ('ッ', 679), ('目', 1094), ('が', 502), ('お', 668), ('ダ', 192), ('だ', 567), ('ま', 821), ('樹', 624), ('ド', 507), ('告', 375), ('ぐ', 96), ('様', 78), ('ノ', 299), ('森', 302), ('輝', 387), ('矢', 182), ('萩', 32), ('尾', 615), ('望', 657), ('能', 1035), ('粲', 54), ('県', 444), ('辺', 93), ('宝', 282), ('箕', 308), ('気', 95), ('軌', 250), ('団', 91), ('ミ', 306), ('ー', 2281), ('温', 65), ('パ', 187), ('ホ', 89), ('テ', 304), ('倶', 28), ('楽', 231), ('鳥', 616), ('よ', 444), ('池', 1103), ('丘', 743), ('景', 2190), ('雪', 517), ('附', 335), ('属', 27), ('教', 316), ('잽', 121), ('ヂ', 11), ('쨩', 232), ('ピ', 118), ('那', 722), ('夜', 484), ('寿', 109), ('찜', 278), ('実', 288), ('淀', 46), ('橋', 1287), ('店', 229), ('種', 834), ('昆', 180), ('蟲', 246), ('図', 88), ('譜', 675), ('オ', 363), ('サ', 284), ('シ', 529), ('立', 2525), ('会', 613), ('誌', 592), ('甲', 1463), ('圖', 2686), ('紙', 461), ('砦', 68), ('ど', 177), ('れ', 462), ('舊', 824), ('制', 2194), ('浪', 348), ('숴', 187), ('消', 491), ('去', 290), ('旣', 89), ('約', 652), ('燁', 131), ('뛸', 489), ('뽐', 295), ('헹', 275), ('靜', 686), ('歳', 35), ('勝', 1300), ('戦', 673), ('陣', 288), ('彌', 869), ('咤', 5), ('亜', 41), ('観', 140), ('ヶ', 143), ('祭', 1242), ('票', 123), ('靖', 909), ('総', 166), ('鐵', 1280), ('驛', 2450), ('쿳', 68), ('圈', 169), ('짖', 998), ('陀', 791), ('畿', 405), ('輿', 262), ('補', 639), ('此', 151), ('感', 491), ('ゲ', 61), ('芳', 423), ('里', 4215), ('ネ', 133), ('茨', 28), ('尋', 229), ('笹', 15), ('良', 1789), ('黒', 170), ('宅', 602), ('壮', 9), ('谷', 2269), ('蔵', 280), ('豆', 343), ('顕', 102), ('彰', 232), ('今', 726), ('슌', 909), ('説', 110), ('岡', 691), ('佐', 1380), ('索', 161), ('鹿', 396), ('紋', 372), ('付', 149), ('羽', 680), ('織', 422), ('袴', 19), ('孤', 275), ('饒', 48), ('舌', 314), ('ã', 274), ('빔', 1654), ('ê', 408), ('ô', 337), ('ㅍ', 110), ('밧', 662), ('睡', 123), ('眠', 373), ('逆', 286), ('藥', 641), ('솥', 603), ('씹', 409), ('發', 1026), ('達', 1493), ('認', 197), ('知', 3438), ('엷', 462), ('態', 196), ('遺', 1205), ('돔', 3902), ('얗', 267), ('텀', 1809), ('Å', 138), ('洙', 771), ('麟', 609), ('厚', 578), ('判', 2396), ('莢', 10), ('暻', 22), ('祺', 61), ('뼘', 21), ('莘', 76), ('坪', 371), ('繼', 497), ('翼', 899), ('瑞', 1015), ('儀', 1308), ('落', 438), ('膽', 36), ('命', 1808), ('煥', 792), ('延', 1602), ('季', 526), ('蒙', 469), ('崗', 107), ('鼎', 457), ('柱', 1168), ('湖', 1278), ('駿', 229), ('엎', 880), ('來', 1696), ('蘇', 1000), ('蓮', 939), ('庵', 951), ('텁', 303), ('識', 1373), ('鎭', 2435), ('禹', 833), ('錦', 651), ('豫', 338), ('材', 325), ('培', 267), ('養', 755), ('濟', 2034), ('暢', 39), ('鴻', 342), ('靈', 1420), ('갉', 121), ('福', 2042), ('團', 1347), ('娥', 68), ('珠', 656), ('涉', 160), ('泳', 415), ('孝', 2744), ('삯', 77), ('넸', 128), ('喆', 321), ('鎬', 532), ('幹', 289), ('臨', 810), ('뵙', 100), ('ŏ', 8), ('麗', 1340), ('張', 3728), ('軾', 103), ('琪', 72), ('創', 317), ('改', 684), ('警', 764), ('察', 1320), ('迫', 71), ('害', 358), ('維', 416), ('持', 690), ('曺', 592), ('珪', 202), ('閏', 62), ('筋', 99), ('紀', 1123), ('念', 734), ('떳', 158), ('칫', 635), ('씀', 1854), ('貫', 350), ('他', 263), ('밭', 3995), ('뚤', 179), ('샐', 1152), ('눕', 521), ('梗', 18), ('塞', 123), ('臟', 74), ('痲', 26), ('痺', 13), ('邱', 547), ('廣', 2392), ('․', 1977), ('右', 1587), ('左', 2010), ('号', 314), ('偉', 149), ('崑', 76), ('崐', 4), ('謨', 175), ('將', 3504), ('剛', 630), ('콴', 547), ('쟈', 1392), ('砲', 248), ('忠', 4046), ('旗', 516), ('괘', 1741), ('御', 1746), ('靑', 2322), ('繫', 149), ('辭', 351), ('卦', 117), ('爲', 810), ('下', 3109), ('爻', 42), ('ӕ', 4), ('ə', 310), ('ɪ', 94), ('ð', 163), ('깅', 671), ('牛', 753), ('若', 681), ('朔', 260), ('練', 152), ('留', 631), ('守', 2803), ('㏊', 79), ('倉', 913), ('넋', 283), ('冊', 289), ('勃', 115), ('퀵', 433), ('웍', 1122), ('펭', 897), ('뮐', 862), ('堅', 375), ('뎠', 169), ('맬', 890), ('샨', 1509), ('댈', 989), ('入', 950), ('떴', 280), ('難', 528), ('짤', 378), ('杏', 130), ('헿', 4), ('핳', 2), ('흫', 2), ('ㅎ', 177), ('땐', 484), ('資', 1074), ('營', 1079), ('↔', 164), ('쿡', 1048), ('俊', 1131), ('腦', 106), ('뎃', 332), ('⋅', 141), ('琥', 23), ('珀', 11), ('束', 172), ('密', 1457), ('透', 70), ('쬔', 10), ('꽉', 370), ('接', 314), ('抵', 67), ('抗', 217), ('戸', 385), ('紫', 466), ('レ', 412), ('港', 847), ('飛', 661), ('丈', 255), ('普', 915), ('專', 398), ('沙', 1200), ('鉢', 204), ('覽', 245), ('塔', 1713), ('喊', 9), ('聲', 731), ('默', 270), ('順', 2334), ('彩', 314), ('億', 188), ('乏', 27), ('廬', 118), ('起', 1232), ('進', 1709), ('后', 1858), ('最', 495), ('毅', 428), ('權', 2717), ('弼', 718), ('健', 506), ('卯', 292), ('增', 568), ('試', 1052), ('뮈', 1085), ('契', 501), ('：', 1412), ('舒', 183), ('勛', 42), ('찼', 379), ('敦', 559), ('啓', 588), ('沿', 161), ('謀', 192), ('俄', 29), ('嚴', 1107), ('燮', 484), ('斷', 576), ('指', 582), ('印', 1383), ('哈', 195), ('尔', 54), ('滨', 23), ('爾', 496), ('濱', 117), ('蔡', 961), ('溝', 223), ('秉', 490), ('瓚', 100), ('鎌', 215), ('旅', 491), ('逼', 19), ('甚', 62), ('已', 139), ('寧', 2486), ('亡', 193), ('於', 412), ('忍', 336), ('辱', 43), ('湧', 35), ('腑', 19), ('驅', 97), ('矣', 88), ('漸', 111), ('꿰', 821), ('擧', 542), ('墨', 386), ('讀', 338), ('荊', 218), ('棘', 50), ('慧', 1050), ('果', 1121), ('仔', 83), ('哥', 90), ('飼', 23), ('芽', 73), ('む', 142), ('撃', 42), ('奢', 42), ('わ', 329), ('セ', 157), ('個', 113), ('験', 31), ('풋', 3285), ('뷜', 185), ('쨋', 32), ('뺐', 98), ('쁠', 167), ('幻', 127), ('影', 606), ('잿', 281), ('괼', 38), ('욀', 82), ('쎈', 71), ('俗', 504), ('病', 496), ('偶', 93), ('耗', 21), ('好', 603), ('産', 1015), ('믈', 1008), ('푀', 255), ('뱀', 5857), ('鱗', 101), ('爬', 10), ('羊', 287), ('膜', 132), ('胚', 39), ('뇽', 920), ('両', 38), ('棲', 93), ('얜', 17), ('糖', 137), ('왁', 623), ('β', 1044), ('蛋', 44), ('₂', 71), ('屬', 900), ('鋼', 99), ('妃', 1041), ('즙', 970), ('뺏', 583), ('훤', 1014), ('펨', 323), ('ú', 532), ('뭍', 134), ('퀜', 84), ('뻑', 111), ('늪', 941), ('묽', 119), ('큘', 983), ('硬', 103), ('骨', 563), ('鰭', 20), ('吻', 15), ('軟', 86), ('뾰', 1163), ('耕', 201), ('銀', 901), ('핥', 258), ('넴', 583), ('牧', 981), ('皮', 491), ('肉', 318), ('境', 845), ('銑', 44), ('鄕', 1317), ('愁', 57), ('競', 197), ('뜀', 101), ('꽂', 1067), ('徒', 435), ('操', 344), ('蹴', 59), ('躑', 5), ('踢', 1), ('─', 293), ('슛', 1508), ('늠', 548), ('希', 697), ('臘', 77), ('얕', 1089), ('浸', 42), ('潤', 475), ('Ε', 148), ('Ο', 102), ('Σ', 206), ('đ', 78), ('χ', 251), ('Κ', 176), ('Α', 238), ('ώ', 93), ('á', 2090), ('ý', 155), ('濠', 43), ('斯', 438), ('剌', 75), ('刑', 737), ('邦', 482), ('訴', 225), ('撓', 13), ('壘', 62), ('央', 551), ('渗', 4), ('被', 217), ('賦', 270), ('楯', 31), ('臺', 1892), ('캥', 682), ('疏', 422), ('固', 511), ('因', 997), ('回', 564), ('廊', 134), ('綿', 142), ('油', 295), ('駐', 266), ('歲', 333), ('鏞', 188), ('ć', 322), ('ṓ', 4), ('ē', 256), ('歐', 128), ('巴', 280), ('됭', 345), ('솅', 357), ('宀', 6), ('壇', 873), ('攵', 4), ('仰', 210), ('禮', 2779), ('畏', 101), ('怖', 62), ('巫', 275), ('覡', 15), ('憑', 39), ('淨', 725), ('供', 195), ('犧', 25), ('呪', 173), ('寓', 68), ('話', 556), ('辨', 223), ('悲', 216), ('作', 1735), ('轉', 769), ('移', 379), ('瞥', 2), ('智', 1788), ('唯', 285), ('秘', 354), ('沒', 144), ('婆', 272), ('救', 294), ('解', 1280), ('脫', 303), ('昧', 220), ('幕', 347), ('笑', 153), ('縮', 87), ('笏', 78), ('멓', 18), ('촐', 729), ('螺', 98), ('峯', 395), ('ệ', 153), ('찐', 1271), ('ấ', 27), ('ạ', 88), ('ì', 115), ('讖', 82), ('ộ', 49), ('â', 508), ('潘', 288), ('佩', 51), ('꿘', 11), ('툭', 492), ('쯩', 63), ('à', 589), ('Đ', 215), ('똔', 35), ('省', 1653), ('껀', 123), ('눙', 202), ('綴', 56), ('쭈', 390), ('쩨', 103), ('뗏', 154), ('훙', 1084), ('넵', 359), ('令', 1932), ('숱', 299), ('室', 1101), ('꿇', 422), ('퀼', 879), ('擬', 126), ('官', 4465), ('衒', 4), ('航', 254), ('눔', 983), ('請', 302), ('託', 114), ('ä', 1263), ('À', 27), ('엥', 1125), ('핌', 506), ('É', 524), ('퓔', 72), ('읜', 88), ('뵈', 792), ('è', 904), ('奏', 395), ('走', 191), ('句', 567), ('쳄', 115), ('短', 240), ('遮', 144), ('初', 1985), ('末', 649), ('슝', 829), ('格', 598), ('箴', 45), ('댑', 362), ('願', 506), ('案', 345), ('純', 834), ('粹', 131), ('魂', 201), ('繪', 66), ('遲', 103), ('墳', 393), ('墓', 1254), ('棺', 108), ('肖', 247), ('復', 851), ('歸', 526), ('醇', 45), ('嗜', 15), ('濃', 203), ('暗', 187), ('什', 105), ('塗', 73), ('償', 99), ('各', 209), ('向', 616), ('岩', 1149), ('窟', 178), ('奔', 35), ('障', 324), ('價', 272), ('쭐', 105), ('諦', 486), ('底', 248), ('製', 680), ('橫', 287), ('錯', 75), ('縱', 119), ('찻', 498), ('再', 465), ('始', 1132), ('誇', 12), ('直', 2183), ('截', 24), ('稚', 78), ('拙', 53), ('止', 440), ('苑', 202), ('卽', 188), ('頂', 330), ('配', 393), ('飾', 114), ('櫛', 26), ('抽', 56), ('于', 665), ('男', 1022), ('괭', 212), ('繁', 110), ('殖', 77), ('艦', 215), ('Æ', 38), ('‑', 12), ('ǣ', 1), ('塊', 82), ('炭', 214), ('氷', 211), ('蝕', 69), ('沖', 197), ('灣', 407), ('뚠', 26), ('貨', 266), ('穫', 11), ('械', 88), ('輸', 356), ('ἀ', 76), ('躍', 43), ('革', 539), ('鋒', 77), ('鄧', 183), ('諸', 1300), ('曉', 230), ('댜', 299), ('볜', 274), ('벋', 28), ('援', 376), ('淮', 287), ('麥', 86), ('茶', 560), ('陜', 195), ('徽', 374), ('包', 305), ('頭', 1394), ('瀋', 86), ('賓', 386), ('蘭', 741), ('楡', 65), ('洛', 677), ('廈', 35), ('좡', 731), ('邯', 79), ('鄲', 30), ('烏', 612), ('魯', 772), ('拉', 156), ('蚌', 4), ('埠', 17), ('交', 1094), ('贫', 4), ('战', 31), ('争', 56), ('賣', 207), ('协', 18), ('兰', 21), ('爱', 33), ('务', 21), ('员', 15), ('团', 42), ('督', 850), ('运', 31), ('动', 40), ('護', 1499), ('₄', 19), ('₃', 30), ('Р', 273), ('샾', 22), ('♯', 54), ('Õ', 7), ('킵', 697), ('ㅅ', 240), ('ㅈ', 183), ('⟪', 273), ('⟫', 281), ('凋', 8), ('冶', 103), ('狹', 65), ('녘', 250), ('篇', 319), ('廷', 579), ('좇', 272), ('臆', 7), ('侍', 1933), ('醫', 733), ('꿉', 301), ('證', 575), ('遍', 218), ('饗', 11), ('宴', 201), ('攝', 307), ('燃', 91), ('拂', 45), ('拭', 15), ('惟', 451), ('滑', 85), ('否', 108), ('庸', 233), ('詭', 16), ('辯', 119), ('宜', 556), ('曆', 497), ('ㄏ', 4), ('ㄢ', 3), ('ˋ', 16), ('ㄩ', 6), ('ˇ', 12), ('閩', 81), ('粵', 28), ('了', 259), ('뮴', 489), ('쫑', 74), ('樵', 38), ('翠', 114), ('眉', 180), ('烈', 1340), ('均', 787), ('討', 231), ('伐', 308), ('韶', 92), ('钊', 1), ('陸', 977), ('帥', 381), ('滿', 621), ('除', 231), ('撻', 5), ('虜', 90), ('恢', 37), ('狗', 102), ('干', 381), ('蕩', 71), ('茅', 70), ('盾', 45), ('雁', 76), ('沈', 1429), ('損', 162), ('玄', 1502), ('璧', 89), ('甫', 641), ('防', 998), ('쿵', 604), ('沚', 4), ('矛', 46), ('됩', 614), ('틔', 76), ('祈', 120), ('禱', 47), ('詞', 488), ('頌', 198), ('祝', 231), ('樂', 2823), ('駕', 171), ('갰', 33), ('튐', 9), ('썹', 452), ('핏', 1156), ('郭', 823), ('勉', 122), ('～', 882), ('％', 190), ('翰', 588), ('壽', 1909), ('需', 105), ('髙', 34), ('춧', 411), ('츼', 3), ('챗', 215), ('힙', 3617), ('캉', 1939), ('얌', 530), ('쫄', 151), ('넛', 1041), ('ズ', 258), ('ユ', 79), ('ザ', 95), ('썰', 793), ('食', 582), ('쫀', 23), ('쪄', 142), ('갹', 40), ('臄', 1), ('韻', 310), ('盤', 455), ('腸', 122), ('雌', 31), ('э', 188), ('ц', 253), ('ᄃ', 5), ('ᆡ', 41), ('要', 740), ('饀', 1), ('猪', 78), ('砂', 202), ('烹', 8), ('蒸', 60), ('謏', 3), ('퇘', 55), ('돝', 19), ('빻', 113), ('ᄌ', 8), ('ᆫ', 6), ('뎅', 511), ('串', 112), ('젭', 209), ('쌌', 277), ('앳', 504), ('땜', 307), ('ば', 255), ('챠', 591), ('욘', 1211), ('汝', 652), ('広', 254), ('足', 779), ('ㄹ', 364), ('ㅘ', 28), ('壬', 367), ('誓', 91), ('癸', 253), ('亥', 289), ('冬', 376), ('竝', 66), ('腹', 274), ('籒', 9), ('篆', 164), ('獄', 378), ('吏', 1007), ('邈', 31), ('隸', 112), ('蝌', 1), ('蚪', 2), ('鐘', 451), ('楷', 102), ('筆', 568), ('愼', 715), ('姓', 1063), ('ë', 222), ('뱡', 41), ('킁', 25), ('雷', 212), ('或', 53), ('쏱', 7), ('맙', 264), ('編', 443), ('輯', 106), ('짦', 45), ('誤', 136), ('빤', 163), ('ě', 119), ('Ž', 45), ('ž', 145), ('셍', 225), ('젋', 90), ('ř', 71), ('耳', 363), ('鳴', 394), ('ㅸ', 26), ('龜', 768), ('玆', 48), ('鳩', 129), ('摩', 580), ('拘', 105), ('耆', 224), ('奘', 44), ('訳', 14), ('真', 388), ('経', 278), ('乘', 597), ('纂', 131), ('姚', 149), ('阿', 1727), ('껭', 9), ('旬', 88), ('猶', 109), ('张', 50), ('俺', 24), ('开', 33), ('封', 653), ('犹', 2), ('赐', 3), ('乐', 39), ('业', 40), ('，', 1606), ('藍', 216), ('忽', 167), ('吾', 357), ('朱', 1366), ('乎', 76), ('璋', 154), ('婚', 205), ('욤', 742), ('숯', 271), ('ï', 160), ('曜', 135), ('퓌', 836), ('ø', 313), ('뵘', 78), ('뱌', 624), ('몄', 672), ('묜', 64), ('됸', 27), ('В', 315), ('Е', 93), ('꿋', 266), ('씐', 9), ('П', 332), ('Б', 279), ('Т', 220), ('́', 325), ('й', 995), ('엡', 773), ('街', 410), ('샴', 836), ('何', 385), ('瑜', 128), ('振', 523), ('藩', 718), ('鄒', 106), ('懷', 467), ('兄', 325), ('搗', 11), ('ʊ', 36), ('デ', 212), ('냘', 119), ('破', 315), ('壞', 117), ('問', 625), ('㎏', 182), ('擴', 69), ('播', 177), ('켑', 75), ('븀', 209), ('適', 150), ('룻', 929), ('텨', 164), ('텡', 418), ('έ', 281), ('ὶ', 49), ('놋', 224), ('밉', 92), ('黑', 595), ('薄', 104), ('卍', 60), ('貞', 2002), ('廏', 1), ('署', 1014), ('丞', 596), ('禪', 1386), ('奉', 1876), ('飮', 105), ('曹', 2218), ('琳', 125), ('盟', 510), ('旨', 774), ('덫', 223), ('及', 230), ('煩', 591), ('悶', 17), ('悔', 112), ('譚', 133), ('聚', 164), ('妻', 253), ('詐', 45), ('取', 742), ('亂', 669), ('賊', 369), ('훅', 655), ('닢', 60), ('覇', 145), ('役', 591), ('ℓ', 1342), ('я', 655), ('ь', 614), ('鍵', 72), ('打', 254), ('絃', 148), ('\\xad', 211), ('胴', 32), ('銅', 661), ('泌', 35), ('晶', 183), ('놔', 290), ('ł', 429), ('∙', 381), ('큅', 56), ('퀠', 25), ('匠', 275), ('旋', 130), ('職', 847), ('例', 273), ('Ⅱ', 732), ('Ⅲ', 142), ('썸', 626), ('渴', 51), ('款', 59), ('詢', 43), ('遵', 126), ('勁', 27), ('顔', 305), ('卿', 1016), ('絿', 16), ('濩', 32), ('匡', 461), ('謄', 34), ('晋', 600), ('帖', 330), ('碑', 1626), ('乾', 526), ('飜', 61), ('刻', 494), ('跡', 185), ('拓', 246), ('如', 1494), ('綏', 155), ('讓', 287), ('考', 627), ('翁', 517), ('紹', 336), ('董', 301), ('其', 350), ('爭', 378), ('獸', 180), ('銘', 520), ('塡', 49), ('序', 452), ('莽', 57), ('隷', 82), ('押', 166), ('邕', 79), ('執', 749), ('側', 196), ('勒', 406), ('努', 27), ('策', 516), ('掠', 12), ('啄', 16), ('架', 163), ('穗', 45), ('俯', 15), ('易', 629), ('而', 409), ('聽', 88), ('嚮', 7), ('僧', 890), ('窺', 42), ('觸', 717), ('欲', 671), ('蘊', 438), ('處', 1191), ('옝', 31), ('ę', 83), ('Ⅵ', 20), ('Ⅴ', 40), ('Ⅰ', 264), ('終', 293), ('뗀', 159), ('功', 2400), ('뱄', 4), ('곪', 24), ('搬', 14), ('稼', 30), ('費', 198), ('採', 103), ('स', 46), ('ं', 16), ('घ', 2), ('ṃ', 47), ('ṅ', 14), ('ṇ', 38), ('輪', 545), ('Ó', 59), ('Ú', 45), ('ő', 64), ('ű', 11), ('넒', 29), ('텄', 65), ('멩', 786), ('奧', 117), ('ש', 80), ('ו', 195), ('א', 146), ('ה', 179), ('옉', 7), ('Ł', 41), ('쳉', 112), ('‧', 605), ('ś', 150), ('；', 100), ('说', 3), ('又', 175), ('爆', 99), ('Ǫ', 3), ('Ø', 68), ('ʀ', 3), ('ㄴ', 328), ('ᚹ', 2), ('Ꝩ', 1), ('Ð', 9), ('ȝ', 4), ('Þ', 36), ('ƿ', 2), ('뒬', 113), ('掃', 43), ('č', 214), ('š', 443), ('œ', 52), ('묠', 73), ('候', 343), ('祹', 3), ('莫', 239), ('睿', 316), ('徙', 25), ('輔', 823), ('僚', 88), ('廢', 307), ('降', 331), ('篤', 96), ('牒', 102), ('勇', 416), ('背', 397), ('浮', 438), ('腫', 95), ('症', 454), ('疾', 148), ('婢', 134), ('渾', 221), ('漏', 493), ('壺', 208), ('欽', 506), ('閣', 913), ('寅', 630), ('丙', 556), ('管', 1238), ('尺', 271), ('銃', 174), ('筒', 158), ('慣', 59), ('踶', 7), ('卞', 500), ('楔', 19), ('循', 136), ('檣', 21), ('詳', 166), ('稅', 397), ('撰', 375), ('휼', 370), ('恤', 45), ('凉', 461), ('囚', 64), ('諭', 179), ('刺', 537), ('絞', 33), ('貢', 365), ('負', 166), ('셌', 88), ('諡', 323), ('服', 571), ('殯', 35), ('響', 100), ('括', 252), ('驗', 184), ('禁', 804), ('凝', 120), ('\\ufeff', 143), ('髓', 68), ('솁', 121), ('Ö', 170), ('댕', 742), ('뜷', 18), ('뗄', 105), ('욥', 118), ('뺌', 37), ('탰', 103), ('席', 185), ('썽', 237), ('꽝', 644), ('궂', 193), ('돛', 570), ('ὐ', 33), ('唱', 320), ('決', 359), ('看', 140), ('ㄷ', 362), ('檢', 703), ('ἰ', 30), ('胞', 216), ('尙', 2699), ('洽', 49), ('攴', 3), ('氵', 6), ('台', 854), ('己', 597), ('ю', 137), ('Ц', 74), ('С', 556), ('굼', 247), ('х', 437), ('貿', 132), ('籠', 85), ('徹', 113), ('悅', 198), ('炯', 219), ('旭', 265), ('▣', 4), ('Ж', 56), ('Ю', 43), ('縣', 4716), ('撫', 330), ('떄', 23), ('돐', 13), ('遇', 202), ('祥', 595), ('샅', 139), ('괸', 50), ('듫', 3), ('찧', 107), ('빡', 274), ('謝', 351), ('顚', 50), ('覆', 272), ('꿍', 102), ('ǐ', 31), ('仙', 953), ('漆', 219), ('威', 609), ('惠', 1173), ('恬', 38), ('騈', 12), ('땔', 127), ('Œ', 12), ('빽', 914), ('튈', 115), ('뇰', 648), ('켠', 141), ('륌', 120), ('º', 87), ('渡', 372), ('倂', 108), ('嵯', 52), ('満', 135), ('割', 127), ('據', 95), ('築', 252), ('鎖', 107), ('祿', 655), ('尊', 946), ('攘', 46), ('夷', 616), ('侯', 2544), ('戶', 1005), ('勅', 222), ('凍', 51), ('緊', 33), ('閥', 67), ('排', 192), ('郷', 200), ('덞', 38), ('殊', 238), ('꼰', 331), ('뽁', 36), ('貝', 138), ('苗', 94), ('꿴', 26), ('垂', 198), ('繩', 37), ('Ἀ', 61), ('ㅜ', 90), ('皆', 134), ('環', 598), ('돎', 3), ('衣', 818), ('哀', 316), ('珍', 863), ('施', 414), ('崙', 106), ('潼', 63), ('雅', 552), ('熹', 114), ('奴', 420), ('薰', 202), ('湜', 117), ('雨', 769), ('肅', 691), ('裸', 60), ('踏', 83), ('耀', 93), ('墟', 84), ('홧', 90), ('윷', 111), ('充', 172), ('俱', 277), ('樺', 43), ('才', 446), ('黎', 291), ('喪', 343), ('熏', 33), ('綠', 367), ('嫄', 7), ('審', 283), ('椿', 88), ('潭', 376), ('狂', 126), ('＜', 793), ('＞', 794), ('뿍', 58), ('綸', 59), ('횃', 463), ('驀', 2), ('줏', 234), ('琴', 487), ('닯', 14), ('⑴', 30), ('⑵', 29), ('⑶', 20), ('⑷', 13), ('깽', 83), ('슾', 8), ('삵', 60), ('쟀', 29), ('ㅊ', 127), ('ŋ', 134), ('옻', 270), ('ẚ', 1), ('힝', 342), ('씽', 272), ('蹟', 371), ('僕', 478), ('呼', 187), ('声', 32), ('ヨ', 67), ('メ', 236), ('抱', 123), ('裏', 128), ('聴', 5), ('せ', 184), ('で', 354), ('튠', 802), ('疇', 107), ('零', 132), ('遁', 54), ('裁', 241), ('衛', 2286), ('卑', 200), ('酋', 30), ('槎', 12), ('잼', 772), ('푄', 67), ('챤', 159), ('흄', 234), ('免', 177), ('疫', 97), ('缺', 67), ('㎖', 35), ('漿', 15), ('圍', 108), ('腔', 70), ('隔', 58), ('尖', 71), ('腱', 6), ('똘', 224), ('斜', 122), ('왠', 165), ('脆', 6), ('舍', 1088), ('吟', 68), ('젱', 287), ('募', 66), ('傭', 48), ('蕃', 189), ('宦', 62), ('巢', 100), ('閑', 209), ('清', 604), ('住', 795), ('弘', 1749), ('麿', 39), ('随', 21), ('窮', 103), ('勤', 355), ('꾐', 35), ('♣', 21), ('溶', 112), ('媒', 91), ('燒', 130), ('갛', 129), ('옇', 33), ('ｍ', 459), ('勵', 49), ('效', 193), ('照', 352), ('殺', 444), ('멎', 108), ('痛', 92), ('齒', 297), ('ὄ', 5), ('ζ', 96), ('●', 219), ('¹', 70), ('⁵', 2), ('⁸', 3), ('⁶', 2), ('깆', 4), ('괗', 1), ('옂', 1), ('斤', 141), ('厘', 7), ('步', 377), ('升', 226), ('斛', 37), ('咫', 11), ('儒', 739), ('낟', 61), ('쌉', 26), ('£', 332), ('酸', 249), ('血', 359), ('液', 105), ('弱', 101), ('吸', 81), ('蒼', 146), ('宿', 397), ('羈', 23), ('廟', 769), ('追', 456), ('酌', 47), ('獻', 942), ('焚', 47), ('祀', 241), ('齎', 26), ('穆', 677), ('凸', 49), ('樓', 619), ('幣', 101), ('愍', 264), ('庭', 505), ('枋', 26), ('窓', 95), ('ㅁ', 324), ('툇', 240), ('退', 295), ('享', 350), ('薦', 67), ('謁', 108), ('舞', 823), ('佾', 34), ('登', 523), ('쌈', 349), ('床', 190), ('늉', 188), ('晟', 125), ('迎', 205), ('鼓', 357), ('꽹', 91), ('伽', 344), ('倻', 101), ('岳', 729), ('簫', 27), ('吹', 141), ('廻', 120), ('茄', 14), ('箏', 41), ('阮', 281), ('笛', 82), ('苛', 12), ('醮', 97), ('伎', 125), ('琵', 74), ('琶', 66), ('笙', 29), ('腰', 65), ('履', 208), ('靴', 33), ('抄', 219), ('奈', 349), ('勿', 187), ('稽', 127), ('注', 488), ('梵', 480), ('唄', 36), ('詠', 108), ('丸', 508), ('酉', 274), ('拍', 84), ('鞨', 39), ('倒', 116), ('邑', 979), ('溟', 144), ('芩', 5), ('夕', 92), ('幽', 212), ('克', 618), ('巡', 417), ('歡', 105), ('嶽', 161), ('燈', 374), ('毬', 68), ('每', 91), ('○', 1273), ('戀', 107), ('危', 93), ('瓜', 85), ('亭', 1442), ('艶', 36), ('霞', 145), ('杵', 51), ('深', 462), ('凰', 108), ('呈', 72), ('抛', 33), ('桃', 296), ('竿', 128), ('妓', 109), ('引', 367), ('牙', 305), ('▩', 22), ('抑', 57), ('揚', 379), ('刪', 27), ('與', 392), ('俔', 36), ('暴', 224), ('覲', 29), ('誠', 744), ('憶', 56), ('稍', 6), ('襲', 149), ('勺', 10), ('醉', 98), ('卒', 196), ('掌', 433), ('僉', 570), ('慢', 273), ('謠', 113), ('瑩', 108), ('隍', 41), ('飯', 179), ('設', 521), ('檀', 317), ('恩', 1212), ('飭', 5), ('弄', 49), ('僿', 11), ('勸', 131), ('鷗', 44), ('襄', 532), ('還', 307), ('貧', 86), ('枝', 229), ('膺', 136), ('邏', 24), ('絲', 196), ('叔', 573), ('祚', 387), ('蓑', 8), ('胤', 345), ('謹', 197), ('稿', 250), ('慕', 621), ('渠', 161), ('簧', 12), ('懋', 50), ('午', 355), ('更', 192), ('提', 1088), ('課', 173), ('雉', 88), ('伯', 1372), ('姜', 1320), ('沅', 28), ('株', 505), ('快', 115), ('顧', 154), ('冀', 137), ('奎', 757), ('差', 378), ('柄', 105), ('玟', 51), ('坰', 21), ('兌', 68), ('便', 263), ('贊', 926), ('裕', 562), ('捺', 22), ('采', 206), ('珉', 125), ('廉', 521), ('碩', 420), ('坡', 479), ('允', 815), ('鳶', 20), ('映', 316), ('翡', 15), ('淵', 865), ('Ｆ', 15), ('Ｃ', 8), ('Ｓ', 33), ('畫', 140), ('鉛', 61), ('雀', 149), ('瀝', 10), ('캬', 473), ('窒', 51), ('粘', 49), ('稠', 53), ('燥', 20), ('着', 238), ('褪', 1), ('剝', 40), ('忌', 150), ('硫', 27), ('脂', 109), ('揮', 149), ('栓', 16), ('劑', 153), ('彫', 225), ('諧', 72), ('衝', 171), ('牢', 42), ('빳', 121), ('뻘', 407), ('쉼', 399), ('推', 440), ('倫', 381), ('慮', 137), ('甁', 204), ('裳', 83), ('捕', 145), ('逢', 103), ('ج', 171), ('ك', 124), ('涓', 30), ('뺑', 135), ('賜', 520), ('劦', 11), ('苩', 28), ('藜', 38), ('昔', 123), ('裵', 654), ('薛', 328), ('賤', 129), ('弓', 362), ('訛', 16), ('杉', 221), ('卜', 195), ('僭', 20), ('彭', 262), ('玹', 64), ('籍', 543), ('強', 286), ('避', 123), ('諱', 184), ('娜', 41), ('姸', 26), ('讚', 131), ('筍', 41), ('큔', 49), ('玲', 40), ('别', 9), ('澎', 18), ('轄', 70), ('稷', 329), ('丕', 92), ('婁', 130), ('灌', 152), ('紇', 26), ('尉', 1019), ('巖', 947), ('薩', 1004), ('毌', 44), ('賑', 45), ('貸', 90), ('挹', 10), ('衢', 45), ('黠', 3), ('敷', 102), ('肇', 126), ('蓋', 462), ('鹵', 18), ('突', 233), ('厥', 51), ('臧', 91), ('沛', 113), ('皁', 4), ('鬱', 89), ('折', 246), ('雛', 11), ('褥', 10), ('扃', 8), ('豪', 211), ('給', 270), ('租', 197), ('隧', 38), ('穴', 213), ('穀', 211), ('牟', 248), ('掘', 48), ('瑠', 44), ('璃', 74), ('弗', 95), ('刹', 144), ('楹', 5), ('鬪', 319), ('踊', 69), ('狩', 52), ('獵', 51), ('咨', 47), ('曇', 88), ('挾', 24), ('찡', 81), ('謐', 17), ('堵', 33), ('摂', 73), ('関', 310), ('権', 186), ('衙', 236), ('遣', 126), ('嶼', 63), ('紘', 17), ('倭', 514), ('岐', 407), ('条', 512), ('崩', 82), ('朕', 27), ('當', 405), ('僞', 185), ('奕', 68), ('昱', 78), ('챘', 148), ('敗', 91), ('벰', 173), ('팠', 158), ('뻬', 79), ('펐', 23), ('釜', 576), ('㎧', 5), ('侵', 72), ('寇', 159), ('ἔ', 12), ('Ἑ', 19), ('挽', 13), ('訂', 46), ('到', 83), ('粒', 90), ('醒', 52), ('샛', 419), ('煉', 32), ('숄', 382), ('횔', 123), ('뽀', 637), ('꺅', 13), ('屈', 133), ('菊', 239), ('亀', 121), ('¥', 17), ('Ұ', 3), ('뇬', 42), ('券', 231), ('慰', 166), ('蛇', 142), ('郁', 138), ('瑕', 57), ('腊', 3), ('額', 222), ('滸', 56), ('懇', 16), ('걍', 20), ('퍈', 17), ('撤', 59), ('퉈', 116), ('圏', 15), ('겅', 153), ('랸', 275), ('훠', 155), ('ū', 354), ('覈', 9), ('削', 75), ('稗', 32), ('礼', 57), ('継', 90), ('辞', 38), ('荻', 24), ('売', 44), ('兼', 716), ('隅', 110), ('幡', 236), ('稲', 89), ('垝', 2), ('獲', 104), ('弖', 9), ('豐', 169), ('渟', 11), ('尼', 423), ('并', 24), ('蝦', 78), ('跪', 15), ('幸', 376), ('ほ', 160), ('っ', 381), ('ぽ', 33), ('崎', 398), ('弥', 110), ('云', 184), ('峻', 137), ('恪', 124), ('緣', 739), ('按', 193), ('😘', 1), ('ἴ', 11), ('륄', 377), ('燦', 176), ('帯', 63), ('鵜', 11), ('葺', 15), ('瀬', 180), ('橿', 19), ('漑', 66), ('險', 163), ('樊', 152), ('奚', 64), ('碧', 299), ('畜', 124), ('漁', 295), ('槨', 64), ('殉', 119), ('쇳', 82), ('佟', 35), ('佳', 229), ('柔', 148), ('耶', 344), ('以', 731), ('渤', 117), ('丹', 896), ('乞', 145), ('靺', 37), ('休', 515), ('顯', 1033), ('諲', 6), ('譔', 8), ('庶', 505), ('孼', 34), ('占', 244), ('뒹', 71), ('쳇', 217), ('濁', 74), ('溪', 1620), ('釣', 53), ('ῆ', 29), ('ῖ', 44), ('퉜', 30), ('捧', 32), ('摸', 16), ('敞', 128), ('昕', 82), ('嗣', 358), ('蠻', 86), ('爵', 269), ('綬', 137), ('殼', 52), ('斧', 48), ('隱', 725), ('倣', 25), ('鈕', 41), ('銖', 45), ('耽', 143), ('胡', 702), ('屯', 277), ('Ê', 10), ('꽁', 557), ('숑', 134), ('Β', 92), ('罵', 12), ('ȳ', 3), ('쏴', 334), ('짰', 125), ('鷹', 171), ('磔', 5), ('垣', 174), ('減', 135), ('쾡', 86), ('沃', 243), ('累', 68), ('傾', 61), ('蘆', 141), ('拏', 25), ('峙', 111), ('況', 55), ('潟', 50), ('肢', 61), ('窪', 21), ('晝', 52), ('藪', 32), ('垈', 84), ('裂', 106), ('礫', 29), ('蟻', 12), ('卵', 130), ('ῶ', 40), ('Ῥ', 16), ('ΐ', 8), ('撒', 31), ('菻', 3), ('ط', 91), ('ه', 245), ('Ν', 61), ('ἡ', 11), ('糧', 114), ('泗', 245), ('批', 91), ('椽', 37), ('趨', 11), ('坐', 1190), ('宰', 596), ('幢', 202), ('画', 120), ('朗', 226), ('솽', 167), ('廆', 16), ('皝', 24), ('\\ue650', 1), ('滋', 104), ('蔓', 36), ('焉', 55), ('倮', 4), ('隣', 139), ('慎', 59), ('隙', 12), ('匈', 34), ('肩', 121), ('槐', 233), ('軻', 21), ('俎', 15), ('妬', 10), ('罪', 496), ('蹄', 73), ('凶', 105), ('闕', 127), ('暑', 37), ('駱', 72), ('芝', 335), ('擲', 16), ('毋', 30), ('ⴷ', 4), ('ⵣ', 8), ('ⴰ', 14), ('ⵢ', 3), ('ⴻ', 5), ('ⵔ', 3), ('㎘', 9), ('幾', 155), ('甑', 55), ('萊', 288), ('枾', 15), ('炊', 26), ('巿', 9), ('寂', 285), ('쾅', 70), ('쐈', 84), ('筑', 163), ('柵', 79), ('弟', 380), ('穢', 48), ('旱', 43), ('龕', 83), ('箔', 19), ('杭', 110), ('쏨', 53), ('急', 186), ('瓦', 175), ('敍', 229), ('患', 106), ('聘', 45), ('答', 175), ('刷', 80), ('Я', 79), ('蜂', 68), ('虐', 54), ('빕', 76), ('뷴', 160), ('┼', 1), ('┬', 13), ('│', 15), ('├', 1), ('賴', 212), ('駁', 14), ('混', 168), ('訟', 159), ('控', 29), ('赦', 57), ('買', 177), ('召', 236), ('邵', 118), ('짭', 75), ('궬', 61), ('刊', 424), ('脩', 114), ('諫', 584), ('叛', 35), ('褒', 109), ('貶', 33), ('増', 75), ('将', 339), ('並', 59), ('奨', 4), ('ὖ', 6), ('Χ', 68), ('휜', 224), ('Ẋ', 5), ('헀', 52), ('Ὀ', 7), ('쫒', 248), ('ㄸ', 48), ('ㅃ', 51), ('ㅆ', 63), ('ㅉ', 51), ('ㅖ', 38), ('ㄳ', 11), ('ㅔ', 73), ('₩', 21), ('ㅠ', 48), ('ㅌ', 101), ('ㅢ', 37), ('ㅝ', 19), ('ㅞ', 15), ('ㅙ', 18), ('ㅚ', 31), ('ㅟ', 30), ('ㄿ', 10), ('ㅵ', 5), ('ㅱ', 18), ('ᄴ', 3), ('ㅂ', 212), ('乱', 189), ('燭', 41), ('伝', 164), ('参', 144), ('断', 54), ('替', 71), ('匝', 2), ('尸', 85), ('柒', 28), ('隨', 777), ('繞', 14), ('皐', 128), ('仕', 280), ('摠', 631), ('番', 272), ('衞', 38), ('停', 238), ('俸', 30), ('鋪', 46), ('廛', 40), ('把', 72), ('沓', 26), ('絹', 84), ('巧', 52), ('札', 109), ('湘', 161), ('涅', 208), ('槃', 224), ('聰', 113), ('瞻', 166), ('妹', 80), ('抒', 14), ('儷', 18), ('剎', 26), ('衿', 113), ('矩', 64), ('娑', 61), ('ʌ', 15), ('蘿', 40), ('爀', 99), ('ᄇ', 25), ('ᆰ', 2), ('瓠', 12), ('沮', 91), ('雞', 33), ('閼', 77), ('忒', 8), ('巳', 261), ('ὼ', 3), ('Ὁ', 1), ('ὲ', 18), ('춪', 1), ('ᆢ', 11), ('弩', 68), ('朶', 25), ('耐', 64), ('觜', 9), ('彼', 109), ('祇', 87), ('瓢', 31), ('嵒', 18), ('祉', 132), ('仇', 253), ('乃', 214), ('仍', 56), ('旀', 1), ('吐', 133), ('娘', 136), ('戚', 157), ('烽', 175), ('甘', 461), ('緩', 44), ('柰', 9), ('災', 218), ('悉', 55), ('汁', 37), ('兮', 64), ('谿', 48), ('只', 144), ('瘧', 4), ('鹽', 253), ('沸', 46), ('熊', 439), ('섶', 80), ('扞', 5), ('綢', 5), ('垓', 30), ('柯', 56), ('叱', 91), ('呑', 33), ('且', 58), ('鋌', 7), ('솃', 18), ('냔', 111), ('祗', 114), ('넜', 195), ('湌', 43), ('･', 345), ('輒', 12), ('灼', 32), ('壻', 30), ('飲', 18), ('冢', 15), ('徑', 68), ('歩', 46), ('俾', 3), ('梯', 55), ('儁', 56), ('檄', 34), ('橘', 151), ('箸', 6), ('迹', 40), ('媛', 120), ('Έ', 9), ('畢', 127), ('臼', 58), ('裨', 67), ('胥', 78), ('鑿', 19), ('裴', 118), ('揖', 20), ('韋', 158), ('豢', 4), ('齿', 1), ('缶', 28), ('賁', 81), ('獐', 51), ('슙', 21), ('曷', 22), ('淥', 7), ('鐸', 123), ('彗', 14), ('融', 300), ('往', 154), ('庾', 199), ('怨', 71), ('兜', 68), ('盲', 47), ('芬', 85), ('悼', 141), ('万', 236), ('礬', 10), ('暖', 39), ('艇', 48), ('璞', 23), ('蚩', 21), ('尤', 109), ('魃', 8), ('荀', 166), ('曼', 90), ('倩', 18), ('厭', 98), ('責', 92), ('禖', 1), ('屛', 153), ('柏', 99), ('羿', 6), ('浞', 3), ('ɨ', 52), ('稜', 44), ('煕', 46), ('媵', 3), ('妾', 84), ('嫡', 224), ('戌', 220), ('痴', 28), ('廠', 40), ('耿', 48), ('爺', 25), ('塽', 4), ('琅', 60), ('琿', 26), ('澳', 51), ('靳', 11), ('礽', 16), ('禔', 20), ('毓', 44), ('儲', 47), ('禩', 8), ('禵', 2), ('叟', 78), ('騰', 77), ('訊', 27), ('鞠', 93), ('盡', 188), ('붇', 23), ('雍', 264), ('י', 262), ('ֶ', 12), ('פ', 37), ('ת', 77), ('遂', 260), ('驪', 312), ('峽', 113), ('Ά', 19), ('Ἄ', 6), ('沾', 8), ('翊', 470), ('瀛', 104), ('［', 45), ('牽', 50), ('］', 47), ('蓬', 86), ('祠', 833), ('朋', 114), ('濫', 31), ('栗', 342), ('訖', 17), ('欣', 81), ('⇒', 47), ('煌', 60), ('Ί', 4), ('緋', 31), ('疆', 79), ('彈', 217), ('稟', 44), ('汙', 2), ('傀', 21), ('ɣ', 15), ('曳', 29), ('粟', 58), ('震', 503), ('旦', 129), ('统', 15), ('罗', 27), ('較', 25), ('″', 165), ('ṣ', 91), ('û', 58), ('А', 372), ('븡', 32), ('붜', 10), ('ː', 223), ('ɹ', 17), ('ʁ', 29), ('ɔ', 61), ('잤', 82), ('¼', 52), ('＝', 173), ('좨', 109), ('亮', 437), ('濬', 257), ('兪', 367), ('瑢', 54), ('瑀', 80), ('玧', 10), ('霜', 68), ('昇', 545), ('塤', 16), ('깻', 76), ('冥', 171), ('푯', 44), ('壹', 68), ('귓', 187), ('곯', 7), ('滴', 29), ('措', 22), ('圜', 28), ('긑', 13), ('귈', 263), ('뱁', 61), ('脊', 33), ('椎', 57), ('膈', 1), ('衡', 579), ('羌', 119), ('卓', 298), ('袁', 430), ('符', 313), ('甕', 81), ('霸', 66), ('浚', 204), ('諰', 11), ('鑴', 50), ('㈜', 823), ('㎡', 359), ('菴', 295), ('톳', 99), ('壊', 14), ('鐏', 2), ('콱', 7), ('□', 262), ('溯', 10), ('倡', 71), ('牌', 242), ('輩', 45), ('梅', 596), ('曰', 248), ('傍', 85), ('儺', 46), ('投', 193), ('乭', 40), ('兎', 100), ('鼈', 11), ('釗', 23), ('鞭', 63), ('衰', 93), ('먕', 4), ('넹', 141), ('妖', 73), ('帛', 59), ('宙', 223), ('쐬', 48), ('笠', 219), ('珖', 14), ('瀞', 10), ('堀', 151), ('寛', 185), ('暄', 28), ('㎥', 43), ('㎢', 85), ('酪', 19), ('撈', 16), ('浿', 47), ('恥', 40), ('拒', 40), ('㠱', 1), ('懸', 150), ('菌', 164), ('趾', 122), ('絳', 29), ('脚', 142), ('奮', 180), ('禧', 316), ('曮', 8), ('絅', 34), ('漕', 48), ('藷', 17), ('喬', 178), ('揆', 120), ('崖', 249), ('茗', 13), ('涿', 28), ('晏', 69), ('綰', 16), ('唊', 4), ('塹', 24), ('戊', 264), ('颱', 7), ('≒', 31), ('擾', 44), ('迷', 154), ('巾', 110), ('陛', 37), ('뵌', 29), ('倧', 35), ('宬', 5), ('綾', 219), ('諿', 13), ('賈', 226), ('堉', 26), ('孽', 15), ('贖', 35), ('筵', 239), ('棩', 7), ('㏏', 12), ('燾', 56), ('囑', 8), ('奭', 213), ('冕', 91), ('僴', 3), ('樞', 972), ('䎘', 6), ('翎', 58), ('繕', 80), ('뗐', 51), ('箚', 67), ('另', 8), ('辦', 147), ('遐', 27), ('咳', 4), ('嗽', 1), ('柩', 9), ('垠', 46), ('鍝', 10), ('땠', 45), ('憤', 39), ('嘎', 14), ('呀', 7), ('蔘', 81), ('們', 26), ('勘', 84), ('昖', 3), ('鈞', 103), ('岹', 6), ('薨', 57), ('逝', 59), ('嬪', 402), ('濮', 59), ('奪', 57), ('彧', 55), ('誣', 79), ('鎰', 105), ('禍', 235), ('斬', 122), ('遞', 207), ('琢', 47), ('盆', 123), ('扈', 208), ('适', 45), ('儆', 29), ('游', 133), ('澗', 95), ('밞', 22), ('訥', 153), ('臥', 96), ('虹', 94), ('漲', 4), ('舖', 18), ('鍊', 303), ('墩', 93), ('甬', 12), ('竇', 85), ('甓', 1), ('垛', 1), ('戎', 172), ('畎', 6), ('籤', 25), ('欄', 56), ('謬', 39), ('殘', 91), ('腥', 3), ('塵', 139), ('訣', 140), ('輳', 3), ('跋', 290), ('針', 102), ('謂', 69), ('囯', 5), ('𡆮', 1), ('浥', 1), ('晦', 148), ('睦', 393), ('頃', 177), ('拈', 22), ('叢', 113), ('著', 279), ('©', 11), ('埃', 15), ('ṛ', 32), ('ˁ', 2), ('莎', 29), ('ḥ', 116), ('מ', 111), ('ִ', 42), ('צ', 22), ('ְ', 57), ('ר', 168), ('ַ', 46), ('ם', 51), ('귑', 7), ('ṭ', 108), ('ὑ', 10), ('岬', 54), ('裔', 86), ('紡', 46), ('岫', 9), ('郊', 88), ('瀑', 93), ('焞', 5), ('爌', 2), ('恊', 19), ('昀', 25), ('璜', 74), ('頤', 78), ('就', 232), ('僖', 130), ('禦', 200), ('욜', 565), ('犬', 171), ('봅', 453), ('묄', 279), ('ĝ', 18), ('ɑ', 57), ('ɛ', 73), ('ɶ', 1), ('ɤ', 9), ('ɯ', 17), ('ɒ', 17), ('暐', 23), ('誥', 80), ('沢', 213), ('詮', 107), ('析', 120), ('갗', 49), ('ɸ', 5), ('þ', 43), ('促', 32), ('巘', 10), ('廂', 31), ('魴', 17), ('傘', 55), ('쑈', 57), ('挺', 117), ('髮', 178), ('屆', 5), ('昊', 209), ('鎔', 186), ('胄', 97), ('斌', 73), ('庄', 322), ('賭', 36), ('菱', 67), ('갭', 214), ('毗', 55), ('訶', 73), ('惱', 684), ('盒', 43), ('銍', 7), ('罰', 89), ('浄', 61), ('禄', 122), ('頼', 365), ('奥', 170), ('箱', 83), ('含', 178), ('Ā', 39), ('喻', 17), ('ň', 29), ('妄', 118), ('菩', 931), ('蜜', 170), ('雩', 24), ('訢', 25), ('枯', 38), ('졍', 20), ('뭣', 18), ('＂', 38), ('엾', 50), ('怒', 85), ('峘', 4), ('迪', 173), ('樑', 161), ('懌', 15), ('洵', 59), ('汀', 129), ('沆', 90), ('찿', 18), ('忘', 170), ('敕', 4), ('堆', 68), ('堰', 53), ('郫', 3), ('陝', 104), ('鹹', 8), ('譙', 47), ('緃', 1), ('涪', 32), ('黔', 102), ('青', 346), ('壩', 6), ('礱', 3), ('岷', 19), ('沱', 13), ('冰', 29), ('邛', 15), ('瀘', 8), ('沽', 21), ('蓉', 55), ('户', 14), ('门', 46), ('图', 28), ('锦', 14), ('托', 57), ('举', 1), ('变', 6), ('脸', 2), ('喷', 1), ('吃', 33), ('腐', 64), ('双', 52), ('兔', 10), ('头', 33), ('担', 15), ('龙', 91), ('钟', 5), ('饺', 1), ('韩', 10), ('炮', 14), ('赖', 1), ('汤', 18), ('圆', 5), ('岭', 38), ('沟', 17), ('园', 41), ('寨', 29), ('萨', 8), ('桥', 56), ('芒', 31), ('亚', 20), ('丽', 19), ('护', 12), ('单', 10), ('阳', 107), ('庙', 11), ('庞', 4), ('换', 2), ('马', 40), ('凤', 13), ('坟', 2), ('诸', 7), ('绝', 6), ('蓥', 2), ('华', 84), ('风', 35), ('胜', 23), ('猫', 91), ('웡', 330), ('丝', 11), ('猴', 24), ('顶', 6), ('뤈', 2), ('剑', 9), ('崴', 2), ('东', 159), ('艺', 16), ('术', 25), ('瑰', 10), ('类', 7), ('结', 5), ('旌', 370), ('现', 6), ('娱', 4), ('黄', 186), ('继', 5), ('红', 47), ('观', 24), ('刚', 4), ('场', 112), ('攀', 41), ('甸', 69), ('坝', 10), ('雕', 134), ('钢', 7), ('苏', 46), ('铁', 116), ('级', 32), ('树', 12), ('氡', 1), ('气', 12), ('滩', 3), ('峡', 33), ('长', 69), ('漂', 45), ('玛', 6), ('瑙', 11), ('砚', 2), ('苴', 9), ('却', 59), ('节', 20), ('泼', 1), ('筝', 3), ('咽', 29), ('喉', 50), ('绵', 2), ('环', 24), ('线', 124), ('梓', 85), ('酥', 7), ('饼', 7), ('卷', 582), ('镶', 1), ('碗', 22), ('罐', 11), ('疋', 8), ('鸡', 23), ('锅', 14), ('魁', 35), ('雾', 2), ('险', 2), ('挂', 2), ('鹰', 8), ('爪', 38), ('稳', 2), ('诺', 7), ('临', 13), ('氧', 2), ('吧', 14), ('纪', 19), ('馆', 21), ('库', 21), ('汉', 24), ('鹄', 1), ('鱼', 23), ('糕', 9), ('汪', 66), ('镇', 149), ('宫', 24), ('枇', 9), ('杷', 5), ('肘', 8), ('稣', 1), ('脐', 1), ('橙', 10), ('优', 5), ('甜', 10), ('鸭', 4), ('椒', 90), ('绿', 5), ('种', 16), ('餐', 25), ('烤', 7), ('椪', 3), ('柑', 34), ('棱', 6), ('冻', 1), ('粑', 2), ('刘', 27), ('车', 77), ('渝', 17), ('资', 18), ('绕', 1), ('简', 4), ('陈', 41), ('飞', 9), ('营', 66), ('报', 29), ('砻', 1), ('唇', 8), ('湾', 71), ('伍', 77), ('须', 2), ('泸', 13), ('经', 85), ('跑', 8), ('碉', 2), ('达', 31), ('乡', 37), ('枢', 10), ('纽', 2), ('洁', 14), ('规', 6), ('范', 221), ('畅', 5), ('货', 3), ('奖', 4), ('综', 4), ('诗', 12), ('书', 24), ('广', 148), ('灵', 18), ('瓷', 38), ('脏', 1), ('捷', 103), ('济', 37), ('跃', 4), ('荣', 12), ('젹', 16), ('毯', 5), ('绣', 3), ('绸', 2), ('橄', 14), ('榄', 3), ('蕨', 11), ('菇', 2), ('荪', 1), ('药', 8), ('苍', 4), ('猕', 1), ('柚', 15), ('朵', 8), ('쏸', 6), ('饭', 2), ('禽', 54), ('兽', 1), ('莲', 6), ('稹', 12), ('县', 237), ('萼', 11), ('卫', 26), ('遗', 5), ('址', 781), ('维', 9), ('阙', 2), ('汇', 3), ('韵', 4), ('똣', 11), ('载', 5), ('盐', 5), ('恐', 123), ('灯', 25), ('龚', 4), ('扇', 163), ('扎', 15), ('染', 412), ('剪', 31), ('纸', 2), ('姐', 28), ('贡', 3), ('间', 13), ('传', 22), ('骄', 1), ('傲', 34), ('窖', 4), ('荆', 11), ('纳', 5), ('尧', 2), ('蟾', 33), ('辣', 34), ('酱', 3), ('醋', 26), ('银', 16), ('针', 5), ('荔', 7), ('儿', 45), ('耙', 2), ('蔺', 1), ('醪', 3), ('糟', 11), ('伞', 2), ('泡', 37), ('卤', 1), ('邓', 5), ('锋', 5), ('邻', 3), ('幅', 92), ('铜', 4), ('锣', 2), ('첮', 2), ('谢', 2), ('时', 14), ('宁', 54), ('彝', 22), ('叶', 16), ('姑', 123), ('丧', 1), ('嫁', 36), ('娶', 21), ('箐', 1), ('楼', 43), ('砣', 9), ('杆', 30), ('毕', 4), ('뚯', 4), ('珙', 21), ('桐', 231), ('际', 31), ('鬥', 14), ('씰', 149), ('奬', 64), ('苾', 32), ('蒲', 175), ('臚', 22), ('蕭', 290), ('傷', 151), ('驍', 45), ('龐', 120), ('攷', 43), ('隤', 3), ('霍', 83), ('菟', 25), ('傑', 205), ('馳', 26), ('虯', 7), ('髥', 16), ('迅', 41), ('謊', 3), ('겋', 26), ('뻣', 253), ('蠶', 103), ('撮', 52), ('畀', 2), ('㷩', 1), ('晃', 94), ('巍', 17), ('坤', 226), ('壯', 323), ('搢', 14), ('紳', 76), ('昏', 46), ('軫', 67), ('蹕', 8), ('昰', 22), ('厨', 18), ('璿', 131), ('娼', 32), ('閤', 121), ('汽', 75), ('堡', 144), ('斥', 135), ('霆', 11), ('兇', 18), ('馨', 134), ('寢', 60), ('頑', 12), ('飽', 23), ('嵋', 28), ('坧', 4), ('堈', 39), ('悟', 198), ('邸', 116), ('憂', 162), ('綺', 59), ('偸', 14), ('盜', 135), ('誕', 98), ('晙', 31), ('凱', 96), ('匪', 58), ('梧', 232), ('衫', 53), ('उ', 3), ('प', 35), ('न', 76), ('ि', 50), ('ष', 13), ('द', 37), ('्', 130), ('溥', 98), ('炤', 29), ('쉈', 39), ('匣', 34), ('怛', 16), ('忉', 14), ('燧', 139), ('辻', 72), ('添', 65), ('緖', 172), ('淺', 80), ('稙', 71), ('詔', 159), ('槿', 77), ('楣', 7), ('譏', 12), ('恨', 98), ('ù', 124), ('秒', 15), ('甄', 173), ('萱', 150), ('棟', 114), ('앟', 4), ('詵', 77), ('灘', 173), ('袍', 67), ('띔', 45), ('誡', 35), ('療', 141), ('떢', 1), ('▲', 325), ('汶', 75), ('뤌', 2), ('汾', 56), ('祁', 81), ('斐', 73), ('晴', 191), ('当', 91), ('諏', 40), ('塩', 72), ('尻', 34), ('峠', 29), ('砥', 35), ('曽', 37), ('桶', 41), ('狭', 44), ('騨', 8), ('柿', 23), ('坂', 349), ('俣', 27), ('篠', 40), ('駒', 118), ('恵', 107), ('碁', 28), ('躅', 5), ('読', 34), ('ビ', 189), ('禰', 57), ('寮', 83), ('栖', 59), ('栃', 20), ('滝', 40), ('埴', 21), ('荒', 203), ('虚', 11), ('盃', 35), ('堺', 33), ('犀', 49), ('裾', 5), ('巌', 20), ('髻', 92), ('裡', 59), ('舘', 21), ('厩', 18), ('縄', 42), ('駄', 34), ('状', 58), ('샜', 12), ('簗', 8), ('尚', 210), ('畠', 111), ('そ', 192), ('歴', 46), ('홰', 90), ('鈐', 20), ('纜', 11), ('亦', 106), ('쳔', 35), ('楞', 99), ('惺', 76), ('圃', 127), ('拾', 95), ('傅', 305), ('頓', 168), ('碣', 64), ('ą', 71), ('ń', 126), ('陪', 66), ('瑟', 66), ('歃', 13), ('菁', 37), ('罡', 18), ('績', 102), ('璉', 36), ('琉', 128), ('佑', 293), ('芚', 18), ('爰', 18), ('餠', 47), ('䭏', 1), ('멥', 67), ('탉', 218), ('摘', 23), ('擦', 71), ('匏', 4), ('컹', 274), ('柢', 2), ('喩', 54), ('檮', 7), ('杌', 29), ('｢', 424), ('｣', 425), ('濤', 64), ('쟌', 82), ('≡', 34), ('≢', 1), ('棒', 88), ('⦁', 52), ('磨', 420), ('堊', 10), ('콸', 187), ('送', 497), ('셧', 158), ('룅', 41), ('ῃ', 8), ('魟', 1), ('閱', 109), ('贈', 487), ('瓘', 69), ('滎', 37), ('蹈', 30), ('鷺', 48), ('穡', 95), ('奫', 18), ('륍', 10), ('罷', 67), ('姦', 45), ('悳', 90), ('휨', 137), ('俠', 79), ('陟', 179), ('擊', 220), ('Г', 211), ('准', 45), ('狙', 10), ('ּ', 68), ('ד', 58), ('ָ', 63), ('ק', 58), ('ל', 103), ('ⓐ', 16), ('ⓑ', 14), ('ⓒ', 14), ('ⓓ', 5), ('ⓔ', 3), ('預', 123), ('숩', 53), ('꾹', 155), ('疑', 293), ('獅', 132), ('꿸', 3), ('ش', 128), ('ی', 184), ('哺', 10), ('☞', 33), ('푈', 161), ('푓', 1), ('룀', 478), ('훍', 2), ('豹', 86), ('．', 208), ('旿', 33), ('璣', 29), ('悌', 158), ('옭', 32), ('瀅', 38), ('捉', 21), ('벱', 38), ('瓉', 1), ('餓', 44), ('袖', 68), ('佞', 5), ('酷', 15), ('혓', 74), ('잧', 2), ('茸', 24), ('輕', 258), ('삘', 12), ('鯨', 39), ('麒', 79), ('꼿', 151), ('쉿', 47), ('胸', 82), ('頸', 55), ('쮠', 8), ('쩡', 303), ('ò', 146), ('쌔', 250), ('豚', 25), ('毒', 203), ('麞', 4), ('羔', 2), ('捻', 16), ('駝', 25), ('ᾶ', 10), ('낑', 29), ('슥', 39), ('엹', 9), ('쥰', 187), ('쟘', 2), ('च', 12), ('त', 46), ('र', 130), ('य', 46), ('顆', 28), ('덪', 5), ('돠', 31), ('뻤', 78), ('귐', 39), ('棋', 124), ('爛', 27), ('囲', 7), ('ご', 109), ('薪', 52), ('볏', 259), ('섕', 60), ('폿', 113), ('握', 16), ('胃', 33), ('尿', 49), ('腺', 95), ('濾', 24), ('蝗', 6), ('脣', 112), ('끽', 143), ('頒', 31), ('肝', 56), ('횬', 29), ('앏', 12), ('些', 10), ('鰱', 4), ('へ', 128), ('飡', 82), ('遜', 117), ('戩', 24), ('斡', 38), ('Х', 84), ('چ', 9), ('غ', 60), ('Ṭ', 3), ('셩', 110), ('젼', 303), ('黍', 18), ('娛', 22), ('逐', 70), ('豎', 8), ('襟', 24), ('悽', 1), ('淫', 64), ('佚', 9), ('氈', 19), ('竈', 21), ('爐', 167), ('僑', 76), ('샙', 19), ('予', 106), ('捨', 202), ('쪘', 18), ('齧', 4), ('쥣', 11), ('솎', 44), ('撥', 58), ('站', 459), ('藻', 118), ('뵨', 7), ('∠', 37), ('쳅', 158), ('珥', 113), ('衍', 311), ('途', 59), ('輓', 27), ('晨', 35), ('낻', 5), ('淄', 50), ('糾', 60), ('葵', 37), ('嘗', 33), ('匽', 1), ('郾', 4), ('杼', 11), ('莒', 47), ('紺', 77), ('嬴', 54), ('犨', 5), ('臏', 17), ('雎', 13), ('瑶', 11), ('煖', 32), ('崍', 2), ('渼', 29), ('曦', 55), ('칡', 128), ('넝', 180), ('楓', 86), ('袈', 41), ('覓', 34), ('４', 16), ('ע', 62), ('ב', 108), ('ן', 57), ('ס', 44), ('ף', 6), ('艾', 79), ('菖', 20), ('粧', 58), ('醍', 54), ('醐', 53), ('祛', 2), ('痰', 13), ('痙', 8), ('띌', 55), ('畸', 10), ('闢', 44), ('渦', 35), ('哨', 50), ('鏑', 14), ('♥', 68), ('깼', 410), ('肆', 28), ('섐', 104), ('葡', 47), ('萄', 37), ('桿', 11), ('簇', 11), ('鈸', 3), ('懶', 45), ('暲', 9), ('漣', 72), ('／', 184), ('ふ', 203), ('牡', 87), ('⑨', 36), ('⑩', 27), ('⑪', 17), ('⑫', 14), ('肥', 180), ('潢', 33), ('嵌', 96), ('塼', 66), ('乇', 4), ('粗', 47), ('碎', 33), ('屑', 12), ('㎱', 3), ('賠', 18), ('뙤', 5), ('薔', 23), ('薇', 60), ('榴', 35), ('芷', 6), ('揷', 50), ('뇔', 2), ('횰', 2), ('ḓ', 3), ('े', 30), ('ा', 116), ('ल', 29), ('跳', 33), ('읻', 17), ('쭘', 4), ('붑', 60), ('퀭', 5), ('ແ', 1), ('ຂ', 1), ('ວ', 12), ('ງ', 12), ('ນ', 29), ('ະ', 39), ('ຄ', 2), ('ອ', 11), ('ຫ', 11), ('ລ', 12), ('ķ', 6), ('〜', 397), ('ņ', 43), ('ė', 59), ('궜', 42), ('枓', 31), ('煜', 60), ('쳬', 24), ('俳', 51), ('岑', 129), ('匹', 49), ('瓮', 10), ('隩', 3), ('喙', 11), ('靡', 31), ('楨', 61), ('鵲', 36), ('鷲', 67), ('枚', 39), ('喘', 2), ('ἅ', 2), ('痘', 30), ('瘡', 40), ('媽', 11), ('痔', 5), ('碍', 85), ('礙', 131), ('躁', 9), ('њ', 10), ('힛', 120), ('渫', 13), ('ţ', 37), ('윰', 103), ('ħ', 37), ('М', 333), ('먄', 79), ('짯', 12), ('淹', 16), ('荇', 22), ('罹', 4), ('沫', 54), ('癌', 42), ('묫', 10), ('蒡', 1), ('苞', 74), ('腎', 46), ('淋', 15), ('痳', 1), ('疱', 9), ('疹', 30), ('ʃ', 56), ('촙', 33), ('켕', 82), ('佝', 1), ('僂', 2), ('膝', 37), ('蟯', 3), ('暫', 19), ('懲', 43), ('崒', 1), ('鑄', 148), ('떽', 4), ('劭', 13), ('齡', 340), ('穎', 65), ('欠', 31), ('逋', 8), ('怡', 127), ('삥', 21), ('哉', 94), ('艸', 13), ('朞', 26), ('蔣', 231), ('昻', 51), ('琬', 63), ('璇', 43), ('毆', 12), ('炁', 2), ('筮', 27), ('懐', 46), ('釈', 20), ('劫', 72), ('顗', 39), ('譬', 18), ('橡', 16), ('槪', 79), ('劣', 55), ('剖', 31), ('顎', 40), ('伸', 156), ('翔', 136), ('帙', 19), ('瓿', 5), ('藁', 51), ('蝟', 12), ('뉼', 41), ('遙', 73), ('竺', 113), ('猿', 112), ('眷', 30), ('욈', 5), ('猥', 4), ('懺', 91), ('뭥', 1), ('™', 64), ('儡', 16), ('冽', 5), ('翻', 24), ('룟', 10), ('탸', 265), ('㎐', 11), ('뷘', 71), ('猛', 135), ('옘', 82), ('戲', 37), ('̍', 4), ('넗', 3), ('粱', 14), ('\\U000f0854', 49), ('\\U000f0855', 49), ('互', 127), ('碼', 11), ('쓱', 29), ('Ⅳ', 71), ('戴', 245), ('핬', 12), ('Ţ', 2), ('ă', 226), ('頻', 31), ('겜', 177), ('Д', 197), ('钱', 14), ('ै', 5), ('പ', 2), ('ണ', 1), ('ം', 1), ('ṁ', 5), ('ө', 53), ('ề', 30), ('웩', 95), ('讎', 9), ('풰', 19), ('驥', 55), ('瞋', 331), ('瀾', 27), ('猷', 61), ('曾', 315), ('鬚', 21), ('慾', 50), ('愈', 52), ('顥', 47), ('隻', 11), ('씁', 106), ('歪', 15), ('컥', 52), ('õ', 48), ('Ⓐ', 30), ('諜', 24), ('携', 24), ('膠', 59), ('攣', 31), ('€', 760), ('ʿ', 96), ('얖', 3), ('ㆅ', 9), ('ㆄ', 8), ('ㅹ', 7), ('ᄼ', 4), ('ᄽ', 3), ('ᅎ', 3), ('ᅔ', 4), ('ᅏ', 2), ('ᄾ', 4), ('ᄿ', 3), ('ᅐ', 4), ('ᅕ', 4), ('ᅑ', 3), ('雖', 38), ('ㅭ', 11), ('搄', 1), ('觥', 1), ('肱', 20), ('ㆊ', 7), ('ㆋ', 4), ('蟹', 45), ('彆', 4), ('漠', 60), ('솦', 2), ('㎾', 76), ('ʻ', 75), ('큽', 15), ('틍', 82), ('熟', 207), ('꽅', 5), ('潁', 84), ('횐', 11), ('栢', 148), ('瑪', 49), ('楕', 26), ('븥', 2), ('癡', 308), ('呆', 8), ('墴', 1), ('嗚', 21), ('끙', 27), ('繇', 33), ('擺', 13), ('企', 194), ('輛', 71), ('販', 32), ('燐', 38), ('扮', 25), ('ខ', 4), ('េ', 4), ('ត', 11), ('្', 23), ('얍', 75), ('ز', 117), ('ゆ', 195), ('ソ', 122), ('厲', 57), ('벛', 9), ('彅', 6), ('薙', 18), ('餌', 16), ('㎛', 63), ('룔', 82), ('吽', 13), ('哆', 17), ('哩', 16), ('㖿', 2), ('巽', 45), ('蠣', 11), ('軽', 53), ('紛', 40), ('溢', 26), ('ㆎ', 6), ('죌', 35), ('똬', 16), ('潔', 82), ('禿', 104), ('樸', 31), ('鶻', 21), ('赭', 5), ('엵', 3), ('럇', 6), ('璘', 77), ('宥', 35), ('曔', 3), ('旽', 41), ('珦', 39), ('瑈', 6), ('籬', 40), ('磐', 89), ('癩', 18), ('凌', 98), ('珣', 35), ('鞫', 26), ('誅', 48), ('寃', 77), ('晄', 1), ('澮', 67), ('娎', 2), ('乽', 5), ('琮', 80), ('桀', 23), ('峼', 1), ('墉', 20), ('졋', 6), ('淏', 14), ('讐', 27), ('洬', 2), ('犯', 201), ('⊆', 11), ('⊊', 1), ('膚', 18), ('껫', 118), ('繹', 26), ('櫓', 51), ('濡', 65), ('昑', 4), ('激', 31), ('坦', 97), ('飢', 27), ('籌', 50), ('밎', 9), ('祘', 2), ('敢', 46), ('晸', 13), ('艱', 9), ('憺', 5), ('禎', 259), ('玜', 1), ('僻', 30), ('꾿', 3), ('烉', 1), ('昪', 10), ('裀', 4), ('壙', 32), ('釐', 84), ('憐', 45), ('紗', 108), ('兢', 93), ('瞞', 15), ('俶', 17), ('濕', 81), ('伷', 12), ('杓', 129), ('챕', 316), ('Ъ', 16), ('І', 27), ('Ѥ', 1), ('Ѩ', 1), ('Ѭ', 1), ('Ї', 1), ('Ѡ', 2), ('Ѻ', 1), ('Ѹ', 2), ('Ѿ', 1), ('仟', 3), ('촹', 6), ('貘', 3), ('貔', 1), ('貅', 1), ('퇀', 26), ('Ä', 60), ('珽', 15), ('ヌ', 40), ('幌', 21), ('静', 72), ('Š', 132), ('佗', 27), ('旉', 2), ('辟', 94), ('黏', 5), ('囊', 80), ('℉', 26), ('ɾ', 28), ('ɜ', 7), ('ɡ', 34), ('웽', 94), ('ů', 20), ('Ё', 26), ('ᄉ', 6), ('ᄂ', 15), ('ᄆ', 12), ('ᆯ', 6), ('ᆨ', 5), ('ᆷ', 6), ('듸', 35), ('ᄒ', 9), ('ᇝ', 4), ('Ď', 4), ('ď', 5), ('Ľ', 7), ('ľ', 10), ('Ě', 4), ('Ĺ', 2), ('ĺ', 3), ('Ň', 3), ('Ť', 1), ('ť', 9), ('Ý', 5), ('Ŕ', 1), ('ŕ', 1), ('Ů', 4), ('Ô', 16), ('謔', 17), ('禑', 69), ('蟬', 11), ('碌', 13), ('磻', 38), ('뮹', 3), ('べ', 92), ('嫌', 32), ('鍛', 39), ('몴', 1), ('ң', 31), ('귿', 12), ('헙', 63), ('卨', 58), ('酲', 3), ('荏', 24), ('碏', 4), ('灸', 20), ('鍼', 39), ('繡', 113), ('呉', 52), ('ツ', 167), ('ハ', 241), ('ュ', 264), ('滉', 111), ('瀣', 13), ('聃', 80), ('瓆', 4), ('堣', 12), ('겊', 92), ('暇', 49), ('芑', 27), ('招', 170), ('嘆', 19), ('戡', 37), ('鼠', 45), ('逑', 44), ('檜', 116), ('擢', 18), ('顒', 33), ('晛', 9), ('濂', 79), ('羹', 13), ('墻', 49), ('맗', 2), ('隕', 18), ('Ⅸ', 9), ('Ⅹ', 6), ('Ⅷ', 6), ('駆', 18), ('埋', 78), ('퀌', 8), ('윕', 167), ('Ȝ', 3), ('뗑', 3), ('ʼ', 52), ('ġ', 20), ('گ', 29), ('塏', 12), ('擘', 7), ('璽', 105), ('礩', 12), ('劒', 39), ('崝', 1), ('催', 38), ('誰', 39), ('違', 143), ('叩', 17), ('霑', 6), ('愧', 95), ('徠', 6), ('淇', 29), ('渚', 57), ('硯', 44), ('縉', 30), ('毫', 35), ('歧', 8), ('乂', 46), ('杞', 123), ('喧', 12), ('呵', 14), ('蘖', 4), ('哭', 57), ('昨', 12), ('蝶', 57), ('咏', 7), ('棠', 38), ('郢', 48), ('樽', 26), ('陲', 2), ('錘', 61), ('语', 26), ('ニ', 382), ('ɵ', 8), ('璡', 20), ('祐', 543), ('沔', 89), ('왐', 144), ('툉', 39), ('쭝', 171), ('ủ', 14), ('ị', 73), ('ư', 236), ('ớ', 25), ('ϊ', 20), ('ξ', 114), ('Η', 31), ('Θ', 92), ('Μ', 116), ('Ξ', 23), ('Ρ', 42), ('Υ', 28), ('Ψ', 12), ('Ἰ', 8), ('Ἱ', 5), ('対', 140), ('泊', 83), ('斑', 54), ('壱', 33), ('獣', 18), ('ヒ', 101), ('バ', 295), ('ゴ', 101), ('モ', 256), ('舶', 43), ('え', 475), ('鶏', 26), ('旧', 67), ('鍬', 2), ('鉱', 6), ('酘', 2), ('鎮', 203), ('槻', 15), ('弐', 80), ('庁', 73), ('党', 158), ('応', 166), ('葳', 11), ('糠', 16), ('済', 77), ('従', 120), ('酊', 12), ('禅', 57), ('検', 71), ('鈍', 25), ('詰', 25), ('芋', 21), ('尽', 10), ('騒', 24), ('厳', 72), ('廃', 14), ('潴', 5), ('税', 24), ('繙', 3), ('ὅ', 9), ('큉', 37), ('뎐', 68), ('昶', 81), ('뭡', 15), ('蛟', 14), ('Ы', 19), ('Э', 50), ('Й', 24), ('ж', 208), ('騏', 17), ('נ', 55), ('闓', 11), ('擒', 4), ('楙', 9), ('郃', 25), ('謖', 10), ('郝', 27), ('擁', 22), ('矜', 11), ('惇', 74), ('岱', 50), ('鄴', 92), ('脾', 11), ('蒯', 18), ('瑁', 37), ('琦', 94), ('璝', 7), ('緜', 9), ('恂', 70), ('蓼', 21), ('冏', 18), ('掾', 94), ('虔', 46), ('邽', 23), ('蛾', 8), ('翅', 40), ('渢', 2), ('彊', 71), ('麴', 49), ('歆', 37), ('洮', 31), ('隴', 88), ('枹', 13), ('罕', 49), ('柝', 2), ('郪', 4), ('Ⅶ', 18), ('겝', 9), ('씸', 58), ('쿱', 128), ('劾', 28), ('웟', 18), ('痕', 18), ('硅', 28), ('綜', 188), ('ὁ', 32), ('籃', 8), ('酵', 40), ('ヤ', 128), ('醱', 13), ('榜', 124), ('蔗', 8), ('ख', 6), ('ण', 13), ('ड', 8), ('溜', 25), ('馥', 52), ('¸', 5), ('Û', 6), ('嶠', 42), ('槍', 84), ('ろ', 229), ('！', 119), ('膾', 8), ('渭', 113), ('꽌', 45), ('拼', 11), ('ʲ', 61), ('ɕ', 19), ('薊', 42), ('‰', 92), ('滬', 12), ('许', 5), ('霧', 86), ('隠', 45), ('櫃', 28), ('筧', 3), ('뎬', 314), ('畝', 38), ('頁', 3), ('큠', 8), ('獬', 5), ('廌', 1), ('豸', 4), ('奸', 82), ('벧', 26), ('〃', 11), ('⁄', 33), ('츅', 2), ('ф', 116), ('כ', 45), ('ῦ', 42), ('쌩', 61), ('묀', 308), ('飴', 7), ('爽', 54), ('沘', 23), ('勣', 47), ('愷', 35), ('麾', 8), ('尒', 16), ('肹', 9), ('賻', 33), ('鉗', 14), ('侃', 63), ('戍', 35), ('폽', 28), ('ḏ', 18), ('숌', 29), ('쯕', 42), ('팹', 136), ('Ώ', 1), ('児', 69), ('빰', 56), ('뽄', 12), ('‚', 100), ('⌀', 3), ('∅', 3), ('唾', 10), ('ṯ', 16), ('寡', 57), ('箇', 22), ('鑰', 6), ('琛', 71), ('昺', 12), ('筠', 54), ('侮', 49), ('泓', 76), ('鋏', 7), ('隄', 10), ('熻', 1), ('煒', 21), ('谕', 1), ('絪', 9), ('詗', 4), ('틋', 107), ('ᆖ', 3), ('ᆜ', 3), ('읒', 8), ('읓', 5), ('졩', 1), ('ᅌ', 7), ('ᇰ', 7), ('읏', 14), ('ᅀ', 5), ('ᅵ', 2), ('ᇫ', 3), ('ざ', 73), ('ᅡ', 5), ('穰', 45), ('〮', 4), ('〯', 1), ('鄉', 41), ('膣', 9), ('죗', 12), ('츈', 55), ('疊', 27), ('쎅', 7), ('∃', 6), ('ㄺ', 13), ('ㄼ', 11), ('̃', 39), ('冗', 10), ('ス', 1043), ('强', 159), ('욧', 217), ('錚', 22), ('馮', 177), ('錕', 9), ('孚', 77), ('霖', 86), ('辉', 6), ('왬', 23), ('籙', 7), ('玖', 32), ('怙', 2), ('ĭ', 7), ('큄', 41), ('＆', 76), ('焦', 59), ('粛', 19), ('邁', 33), ('婉', 24), ('鄂', 56), ('繍', 8), ('彪', 72), ('緝', 37), ('叡', 79), ('妊', 18), ('錐', 39), ('톄', 120), ('满', 24), ('鲜', 10), ('锡', 8), ('侗', 11), ('畲', 4), ('傣', 4), ('颇', 2), ('孜', 17), ('仫', 3), ('佬', 4), ('仡', 3), ('伦', 10), ('珞', 31), ('咄', 31), ('扑', 3), ('戏', 6), ('撩', 1), ('拔', 113), ('喇', 45), ('嘛', 5), ('关', 34), ('爷', 3), ('灶', 6), ('硕', 10), ('郑', 9), ('亲', 7), ('ㆉ', 4), ('貯', 45), ('硼', 8), ('₣', 2), ('騷', 32), ('翟', 129), ('扁', 64), ('珏', 39), ('醴', 109), ('霓', 19), ('栱', 13), ('覃', 17), ('秭', 10), ('穿', 32), ('汕', 35), ('ゅ', 128), ('嬖', 9), ('§', 84), ('ח', 52), ('ֹ', 34), ('ḍ', 19), ('أ', 142), ('ض', 25), ('為', 192), ('弧', 65), ('ϝ', 2), ('ʹ', 14), ('ϛ', 2), ('ϟ', 2), ('ϡ', 2), ('⋀', 1), ('⋁', 1), ('쫙', 12), ('ᗐ', 2), ('Ɔ', 7), ('ↀ', 3), ('̯', 19), ('믜', 7), ('볘', 22), ('녓', 79), ('ế', 140), ('ứ', 29), ('ắ', 28), ('棍', 23), ('퓐', 52), ('但', 31), ('讃', 44), ('鎚', 11), ('浴', 81), ('録', 108), ('絡', 53), ('鑞', 5), ('霹', 10), ('靂', 7), ('柘', 8), ('釵', 16), ('釧', 17), ('淝', 17), ('賃', 43), ('萇', 28), ('蕙', 46), ('攬', 10), ('袋', 44), ('〇', 20), ('卄', 5), ('廾', 1), ('腆', 17), ('碟', 4), ('굄', 67), ('먾', 1), ('བ', 76), ('ཀ', 13), ('ྲ', 37), ('་', 322), ('ཤ', 8), ('ི', 67), ('ས', 94), ('ཆ', 8), ('ོ', 85), ('ར', 67), ('ྫ', 2), ('ང', 41), ('樋', 17), ('舎', 62), ('渋', 52), ('瑋', 38), ('雋', 17), ('弊', 48), ('濚', 14), ('潗', 14), ('埈', 71), ('芮', 62), ('鈔', 38), ('긱', 201), ('姻', 33), ('姙', 30), ('蔭', 173), ('鯉', 30), ('恆', 29), ('縫', 20), ('沌', 13), ('Ш', 78), ('袞', 46), ('屎', 13), ('棄', 78), ('됴', 40), ('̞', 4), ('ぢ', 24), ('ʒ', 33), ('敱', 2), ('氐', 42), ('頥', 2), ('珈', 4), ('琲', 3), ('鋸', 20), ('삔', 28), ('あ', 603), ('ゑ', 17), ('刃', 29), ('瞰', 16), ('Ś', 65), ('匿', 21), ('ब', 18), ('ो', 15), ('ध', 15), ('پ', 45), ('롣', 1), ('볈', 1), ('驚', 46), ('蟄', 6), ('ک', 48), ('ﺓ', 2), ('氹', 3), ('ㅺ', 6), ('⊃', 3), ('纛', 16), ('禾', 93), ('杻', 9), ('욺', 6), ('鳧', 10), ('荑', 9), ('繒', 10), ('Ѫ', 1), ('Ѣ', 2), ('Ã', 8), ('Í', 45), ('瀨', 28), ('狎', 16), ('✓', 1), ('꽆', 5), ('⁻', 9), ('弛', 11), ('弑', 14), ('諮', 34), ('筏', 25), ('㎚', 10), ('آ', 31), ('\\u200c', 13), ('خ', 63), ('솀', 101), ('뵤', 220), ('ℤ', 23), ('楮', 59), ('嚆', 6), ('棧', 25), ('顫', 11), ('䀹', 2), ('夾', 58), ('㚒', 6), ('鿃', 2), ('⋯', 3), ('≈', 56), ('鞅', 15), ('凹', 40), ('㎲', 3), ('ẞ', 6), ('셤', 158), ('♇', 1), ('閻', 120), ('ơ', 147), ('옯', 17), ('雯', 8), ('봍', 2), ('넢', 4), ('陂', 53), ('烟', 41), ('☧', 3), ('겇', 5), ('횝', 1), ('♒', 2), ('♈', 1), ('亢', 23), ('♑', 2), ('♊', 1), ('♌', 1), ('秤', 31), ('♎', 2), ('♓', 2), ('♐', 2), ('♏', 2), ('♉', 1), ('昴', 7), ('뎁', 147), ('騫', 14), ('漬', 27), ('牀', 9), ('㎑', 190), ('莖', 80), ('⅖', 1), ('ὴ', 26), ('槽', 52), ('捲', 20), ('鸞', 76), ('蕆', 13), ('廩', 14), ('囹', 3), ('圄', 3), ('崧', 19), ('澣', 24), ('濯', 53), ('鰌', 3), ('鰒', 5), ('蛤', 22), ('皿', 10), ('쎙', 3), ('攪', 15), ('汨', 5), ('捊', 2), ('麪', 4), ('蕫', 1), ('ܡ', 10), ('ܪ', 12), ('ܝ', 13), ('琰', 53), ('璬', 1), ('曌', 3), ('璵', 12), ('嵬', 6), ('罌', 6), ('蒴', 6), ('맟', 25), ('礁', 30), ('艮', 54), ('脇', 71), ('唎', 16), ('鑪', 13), ('探', 181), ('滯', 33), ('苧', 32), ('据', 7), ('熬', 3), ('鰲', 56), ('ʰ', 21), ('͈', 4), ('떫', 61), ('ĸ', 2), ('荼', 19), ('煮', 16), ('덖', 20), ('揉', 3), ('萎', 9), ('渥', 23), ('鮨', 2), ('醢', 14), ('ẓ', 11), ('닸', 3), ('釦', 2), ('楪', 6), ('宏', 183), ('칰', 2), ('麓', 50), ('쓿', 2), ('筰', 5), ('蠟', 30), ('晷', 37), ('？', 138), ('邇', 42), ('稔', 21), ('聡', 21), ('暉', 96), ('拿', 21), ('穌', 3), ('¿', 13), ('ص', 55), ('ء', 41), ('暾', 29), ('澈', 155), ('狐', 72), ('뼛', 79), ('阜', 156), ('끎', 17), ('掛', 166), ('倚', 31), ('∑', 1), ('肤', 1), ('ɲ', 14), ('ર', 2), ('જ', 2), ('હ', 2), ('ૂ', 1), ('ી', 1), ('ૃ', 1), ('樔', 1), ('噴', 43), ('閃', 18), ('뇜', 1), ('糲', 2), ('⑸', 11), ('Ғ', 6), ('ғ', 4), ('З', 93), ('Л', 175), ('Ң', 4), ('Ө', 10), ('Ӯ', 1), ('ӯ', 2), ('Ү', 9), ('ү', 42), ('Ф', 93), ('Ҳ', 2), ('ҳ', 7), ('Ҷ', 3), ('ҷ', 3), ('ъ', 134), ('Ӣ', 3), ('ӣ', 2), ('Қ', 13), ('짇', 39), ('苅', 5), ('♆', 1), ('켁', 104), ('ḫ', 16), ('ǧ', 18), ('Ḥ', 29), ('إ', 40), ('셑', 3), ('俘', 29), ('걲', 7), ('∎', 3), ('\\u2009', 52), ('È', 21), ('갼', 14), ('㎒', 556), ('㎓', 7), ('ḇ', 6), ('믾', 3), ('щ', 84), ('펍', 166), ('냑', 174), ('欧', 18), ('욌', 1), ('蓄', 34), ('叉', 105), ('늴', 12), ('蟣', 1), ('虱', 2), ('穬', 1), ('섄', 48), ('แ', 41), ('ม', 85), ('่', 60), ('น', 143), ('้', 50), ('ำ', 26), ('鉃', 4), ('プ', 247), ('営', 42), ('び', 160), ('ロ', 425), ('∴', 18), ('ḱ', 3), ('ǵ', 4), ('ʷ', 15), ('齵', 1), ('診', 28), ('瘍', 26), ('莞', 86), ('땋', 80), ('倬', 33), ('萌', 63), ('흗', 13), ('湛', 123), ('撑', 13), ('踞', 7), ('麝', 12), ('熔', 14), ('팼', 19), ('篁', 7), ('拱', 71), ('螢', 17), ('鴛', 11), ('鴦', 19), ('泠', 15), ('榧', 6), ('蟠', 22), ('磧', 14), ('麽', 2), ('뤠', 16), ('＇', 54), ('茯', 7), ('鵑', 7), ('Î', 27), ('뿡', 11), ('瓊', 133), ('繆', 40), ('彛', 51), ('醜', 49), ('寥', 6), ('澾', 2), ('瑾', 81), ('쮸', 45), ('䄉', 1), ('禟', 4), ('欺', 32), ('狴', 1), ('愿', 18), ('涇', 50), ('掖', 50), ('势', 9), ('迭', 17), ('鞘', 17), ('鍋', 54), ('鬃', 3), ('챵', 18), ('婿', 11), ('崆', 2), ('峒', 7), ('逵', 57), ('研', 95), ('併', 6), ('屍', 66), ('圣', 7), ('无', 40), ('设', 9), ('没', 19), ('话', 16), ('昼', 5), ('盘', 6), ('卢', 10), ('炉', 11), ('忧', 4), ('鬧', 8), ('闹', 3), ('发', 24), ('∋', 1), ('៧', 2), ('២', 3), ('詝', 2), ('姨', 13), ('祜', 61), ('漪', 14), ('薈', 12), ('冒', 58), ('亶', 36), ('珅', 5), ('歹', 10), ('믄', 83), ('牲', 53), ('詛', 7), ('嫩', 14), ('緑', 25), ('\\u2003', 6), ('ǎ', 60), ('饅', 21), ('廚', 23), ('饌', 31), ('녑', 9), ('ʾ', 40), ('辖', 5), ('拟', 1), ('查', 16), ('臍', 6), ('ย', 59), ('ไ', 24), ('ข', 25), ('ด', 49), ('ง', 95), ('桜', 74), ('瀆', 25), ('ُ', 46), ('ِ', 51), ('ذ', 45), ('َ', 120), ('斉', 64), ('埕', 4), ('띵', 73), ('캑', 36), ('剣', 49), ('炫', 110), ('댠', 16), ('☆', 983), ('亻', 6), ('陞', 73), ('蕓', 9), ('鮑', 53), ('仗', 30), ('춍', 15), ('㎈', 6), ('ɫ', 4), ('엤', 4), ('∨', 20), ('¬', 31), ('数', 67), ('∧', 18), ('⇔', 16), ('휀', 15), ('®', 115), ('ゃ', 224), ('썻', 28), ('ぁ', 38), ('ゼ', 49), ('ョ', 165), ('エ', 282), ('產', 34), ('த', 12), ('ம', 20), ('ி', 30), ('ழ', 1), ('்', 62), ('ப', 20), ('ெ', 4), ('ண', 5), ('ட', 12), ('ர', 33), ('ே', 6), ('ஏ', 1), ('ஃ', 2), ('க', 13), ('ல', 9), ('ṉ', 3), ('ன', 15), ('ṟ', 1), ('ற', 3), ('ḻ', 4), ('வ', 9), ('ா', 18), ('ந', 9), ('ய', 9), ('ள', 6), ('இ', 3), ('ை', 6), ('அ', 1), ('ொ', 1), ('ு', 15), ('ூ', 3), ('ḷ', 5), ('炙', 16), ('骼', 2), ('퓸', 80), ('砍', 1), ('猇', 10), ('驤', 61), ('ギ', 96), ('왱', 12), ('膳', 57), ('刈', 20), ('闇', 36), ('ぞ', 62), ('돟', 6), ('뤵', 1), ('Ē', 12), ('뒴', 41), ('밨', 2), ('멉', 3), ('幇', 18), ('툠', 45), ('瑭', 29), ('肄', 9), ('銓', 111), ('澍', 33), ('耔', 7), ('返', 44), ('塢', 21), ('瀟', 25), ('灑', 16), ('冤', 9), ('몔', 1), ('츳', 39), ('錬', 13), ('偽', 14), ('咎', 29), ('뗬', 3), ('銭', 40), ('偃', 65), ('邳', 34), ('곗', 25), ('뻥', 61), ('閹', 1), ('惜', 35), ('■', 1307), ('皓', 106), ('綝', 24), ('𩅦', 7), ('𩃙', 4), ('壾', 2), ('𠅨', 4), ('俅', 9), ('昚', 4), ('侂', 7), ('藺', 17), ('錮', 41), ('厓', 33), ('屠', 186), ('榕', 11), ('ポ', 102), ('∩', 41), ('★', 495), ('◆', 83), ('⋂', 1), ('∪', 22), ('∖', 1), ('赣', 3), ('紆', 18), ('它', 6), ('馹', 44), ('蔬', 12), ('戮', 18), ('慇', 5), ('湫', 22), ('쳥', 21), ('璐', 7), ('붸', 15), ('쌤', 35), ('☉', 4), ('क', 44), ('ी', 52), ('듄', 159), ('츌', 6), ('뢸', 96), ('鉀', 8), ('곂', 3), ('椵', 10), ('拷', 6), ('摯', 52), ('嗹', 1), ('熾', 74), ('姿', 21), ('繧', 1), ('繝', 1), ('縁', 28), ('畳', 3), ('頬', 1), ('残', 11), ('雇', 61), ('묑', 26), ('奠', 73), ('嵎', 7), ('毁', 40), ('☷', 3), ('☶', 3), ('☵', 3), ('☴', 3), ('☳', 3), ('☲', 3), ('☱', 3), ('☰', 4), ('箋', 85), ('◦', 76), ('췐', 15), ('️', 22), ('湊', 29), ('Ӄ', 1), ('ӄ', 10), ('Ӈ', 2), ('ӈ', 5), ('军', 43), ('拌', 8), ('ญ', 6), ('ล', 50), ('ภ', 19), ('า', 211), ('ษ', 17), ('ช', 44), ('ๆ', 3), ('粕', 8), ('芙', 53), ('薬', 60), ('츤', 100), ('♂', 50), ('嫉', 51), ('妒', 6), ('麼', 8), ('抹', 37), ('뽈', 18), ('쉭', 18), ('컽', 13), ('떵', 36), ('쏭', 62), ('อ', 93), ('เ', 80), ('ต', 60), ('캎', 1), ('ǂ', 17), ('툐', 41), ('栄', 93), ('緒', 48), ('Ż', 20), ('Ć', 13), ('Ź', 7), ('쎴', 1), ('妥', 27), ('購', 16), ('肸', 5), ('膏', 29), ('曙', 79), ('儂', 13), ('얐', 6), ('碻', 2), ('貳', 52), ('ἶ', 2), ('鵬', 142), ('祕', 57), ('誹', 5), ('訕', 2), ('讒', 13), ('韌', 2), ('頹', 23), ('浹', 17), ('兑', 4), ('該', 33), ('怯', 17), ('貌', 37), ('滄', 95), ('鶯', 26), ('뚧', 11), ('焰', 50), ('驕', 21), ('淞', 10), ('狠', 3), ('솰', 1), ('沂', 70), ('췰', 3), ('頫', 9), ('昂', 22), ('絢', 14), ('ぺ', 12), ('澁', 27), ('秩', 108), ('淙', 20), ('积', 4), ('睨', 5), ('泛', 22), ('ƒ', 47), ('瞬', 19), ('윘', 2), ('ᑭ', 1), ('ᓯ', 2), ('ᐢ', 1), ('ᑳ', 1), ('ᒋ', 1), ('ᐘ', 1), ('ᓂ', 1), ('ᐱ', 1), ('ᐩ', 1), ('烋', 17), ('菅', 84), ('毖', 17), ('逃', 37), ('陌', 7), ('ケ', 154), ('껌', 231), ('뉨', 17), ('湄', 17), ('鴉', 28), ('🄓', 1), ('ቀ', 3), ('ይ', 5), ('ሕ', 6), ('ባ', 1), ('ሪ', 3), ('툅', 1), ('뎨', 22), ('茲', 24), ('罽', 8), ('몉', 1), ('獞', 2), ('犭', 2), ('僮', 22), ('岛', 47), ('禺', 10), ('怀', 8), ('钦', 6), ('圳', 26), ('儋', 13), ('贛', 20), ('粤', 14), ('蝨', 9), ('湞', 4), ('粥', 21), ('埔', 53), ('쭌', 62), ('连', 16), ('胶', 8), ('蓝', 10), ('兖', 5), ('牆', 22), ('潍', 1), ('濰', 5), ('亳', 23), ('隶', 4), ('皖', 20), ('滇', 15), ('跤', 1), ('爨', 9), ('棣', 22), ('煬', 58), ('鸟', 2), ('职', 4), ('漳', 38), ('厦', 41), ('詹', 92), ('聿', 10), ('栲', 4), ('甌', 11), ('鹅', 2), ('獼', 2), ('髭', 5), ('铸', 1), ('玻', 3), ('蜡', 3), ('砖', 2), ('压', 4), ('电', 104), ('癀', 1), ('莆', 9), ('巷', 54), ('誼', 89), ('勗', 23), ('沧', 3), ('厂', 9), ('丰', 24), ('宽', 2), ('围', 12), ('滦', 6), ('缕', 1), ('评', 4), ('剧', 10), ('绥', 17), ('冯', 4), ('陆', 13), ('两', 17), ('№', 16), ('쩬', 15), ('匯', 17), ('佘', 7), ('嘴', 14), ('窩', 115), ('澱', 12), ('쌴', 4), ('죵', 10), ('扒', 4), ('实', 10), ('验', 3), ('㎎', 32), ('汐', 22), ('팃', 64), ('ว', 64), ('쑷', 1), ('쌋', 11), ('낏', 33), ('\\u202f', 17), ('銶', 3), ('矮', 23), ('穹', 24), ('远', 10), ('犁', 33), ('绪', 4), ('杨', 35), ('缵', 1), ('锐', 1), ('专', 34), ('盈', 119), ('遯', 27), ('敖', 53), ('簾', 36), ('哪', 18), ('吒', 32), ('睛', 4), ('觔', 1), ('箍', 1), ('姮', 4), ('釘', 26), ('鈀', 7), ('霄', 16), ('뼉', 34), ('ू', 15), ('ờ', 61), ('ỏ', 5), ('肪', 26), ('뱟', 11), ('흭', 21), ('륑', 28), ('겍', 18), ('轍', 75), ('튄', 71), ('橢', 2), ('珂', 20), ('譽', 32), ('硝', 27), ('฿', 1), ('猊', 4), ('묭', 5), ('乗', 43), ('ظ', 18), ('贝', 8), ('欢', 11), ('妮', 15), ('你', 85), ('咱', 1), ('舛', 3), ('杋', 2), ('繭', 5), ('択', 9), ('휫', 66), ('豈', 17), ('縶', 2), ('贍', 43), ('潾', 18), ('婷', 6), ('襦', 11), ('瑊', 7), ('杠', 4), ('駙', 68), ('묏', 25), ('輊', 2), ('⧵', 1), ('ℝ', 18), ('勲', 66), ('某', 80), ('岔', 4), ('擐', 1), ('녈', 10), ('郅', 9), ('羯', 22), ('鞮', 38), ('雒', 40), ('邙', 11), ('奄', 19), ('兗', 53), ('둏', 1), ('봔', 2), ('謳', 3), ('𐤀', 2), ('𐤂', 1), ('ℛ', 3), ('ℳ', 5), ('ﻱ', 1), ('몆', 21), ('垕', 25), ('堧', 10), ('磬', 21), ('汲', 47), ('縡', 14), ('閘', 14), ('灃', 15), ('慘', 28), ('죔', 10), ('栮', 3), ('ᅄ', 7), ('ᅋ', 7), ('랼', 16), ('\\u200f', 9), ('ڈ', 1), ('ى', 71), ('ਲ', 2), ('ਾ', 2), ('ਹ', 1), ('ੌ', 1), ('ਰ', 3), ('媤', 10), ('읃', 5), ('ᇚ', 11), ('몌', 24), ('겿', 4), ('処', 31), ('잋', 3), ('困', 29), ('鸕', 2), ('麁', 12), ('隈', 32), ('杙', 5), ('悰', 21), ('竜', 76), ('戯', 10), ('딨', 31), ('ज', 27), ('ु', 40), ('₨', 1), ('舆', 5), ('坼', 3), ('剋', 28), ('ृ', 6), ('쌰', 11), ('ट', 8), ('ह', 21), ('़', 7), ('Ñ', 14), ('恋', 90), ('裙', 42), ('簪', 17), ('墺', 10), ('ĩ', 35), ('‣', 9), ('Ｅ', 6), ('쟤', 11), ('힜', 2), ('Ἕ', 4), ('Ἔ', 7), ('व', 37), ('ग', 34), ('अ', 13), ('悦', 12), ('璦', 2), ('闡', 46), ('Щ', 19), ('밂', 47), ('胖', 17), ('拳', 259), ('�', 7), ('ᅇ', 2), ('駅', 107), ('卐', 2), ('펏', 30), ('澶', 16), ('暦', 124), ('冑', 36), ('挙', 34), ('叙', 40), ('¾', 8), ('翹', 13), ('ῳ', 6), ('ῷ', 4), ('ῴ', 4), ('ὸ', 29), ('带', 6), ('ワ', 180), ('ペ', 65), ('涙', 19), ('匂', 7), ('ぬ', 107), ('װ', 1), ('ײ', 1), ('ז', 42), ('砕', 5), ('耉', 53), ('禋', 1), ('杰', 61), ('壎', 17), ('彤', 10), ('瀉', 16), ('枰', 31), ('暠', 20), ('頔', 17), ('姆', 9), ('梔', 3), ('瑤', 54), ('泟', 4), ('殤', 32), ('闊', 23), ('磾', 14), ('俁', 5), ('晧', 22), ('旼', 59), ('禳', 4), ('晫', 7), ('碓', 9), ('韺', 1), ('珹', 11), ('祦', 4), ('菙', 1), ('皞', 9), ('竩', 12), ('歟', 7), ('倎', 7), ('淐', 10), ('昛', 1), ('諶', 54), ('賰', 2), ('忙', 9), ('顏', 27), ('胝', 6), ('佇', 25), ('賄', 5), ('賂', 18), ('徭', 13), ('絵', 84), ('戻', 8), ('윟', 3), ('뉵', 10), ('閲', 6), ('覧', 31), ('珊', 30), ('瑚', 40), ('Ә', 9), ('１', 45), ('６', 9), ('퍄', 89), ('髪', 27), ('엶', 5), ('囃', 8), ('瘦', 13), ('⑹', 6), ('⑺', 6), ('⑻', 5), ('⑼', 3), ('⑽', 3), ('⑾', 2), ('⑿', 2), ('欖', 14), ('▪', 43), ('沁', 26), ('ʔ', 28), ('覚', 65), ('鎗', 4), ('笞', 18), ('翕', 35), ('頀', 4), ('ӹ', 2), ('げ', 134), ('긷', 18), ('麦', 7), ('杢', 4), ('逞', 13), ('溺', 4), ('単', 14), ('徇', 6), ('飫', 4), ('夔', 39), ('庆', 18), ('柠', 1), ('吞', 3), ('暨', 8), ('师', 17), ('贸', 7), ('农', 11), ('闐', 11), ('曠', 24), ('惶', 9), ('逕', 5), ('냠', 79), ('솬', 15), ('鮫', 9), ('鯊', 3), ('躄', 1), ('ồ', 52), ('嵩', 76), ('棗', 43), ('矯', 77), ('宛', 77), ('詡', 34), ('庠', 13), ('陇', 5), ('汴', 37), ('寑', 1), ('觉', 4), ('俭', 1), ('츙', 4), ('萃', 14), ('璥', 22), ('佃', 26), ('昞', 19), ('苣', 2), ('蕂', 1), ('嵛', 2), ('楂', 1), ('㎜', 51), ('㏖', 2), ('紐', 19), ('軀', 38), ('菓', 29), ('惣', 40), ('쥠', 15), ('滔', 12), ('梟', 34), ('賚', 24), ('棨', 25), ('貂', 17), ('裘', 6), ('舅', 46), ('坑', 53), ('鬐', 10), ('拯', 48), ('烇', 11), ('搏', 30), ('쉡', 3), ('Ӏ', 19), ('ț', 24), ('毎', 31), ('輻', 19), ('霽', 61), ('祷', 4), ('鈿', 20), ('猨', 2), ('独', 45), ('禊', 7), ('装', 47), ('襠', 3), ('喫', 7), ('摺', 18), ('⌛', 1), ('줴', 43), ('磯', 55), ('晁', 28), ('陷', 27), ('佰', 18), ('佺', 27), ('틑', 12), ('읠', 8), ('휏', 2), ('픕', 6), ('晳', 42), ('薫', 14), ('铉', 1), ('㼁', 4), ('⇄', 7), ('慄', 45), ('暮', 44), ('嶸', 12), ('劔', 1), ('幟', 15), ('薲', 2), ('諄', 13), ('筳', 1), ('暹', 80), ('鏤', 9), ('⇌', 7), ('₁', 8), ('鹷', 1), ('▶', 53), ('懼', 19), ('鼗', 1), ('薺', 16), ('헸', 13), ('喃', 3), ('梪', 3), ('偵', 45), ('檍', 16), ('瑗', 52), ('諒', 40), ('珩', 47), ('璟', 74), ('霙', 7), ('劤', 1), ('孺', 55), ('ⓜ', 2), ('膓', 1), ('鷰', 10), ('苻', 114), ('窯', 135), ('귬', 34), ('价', 24), ('剃', 7), ('捜', 10), ('渕', 10), ('놰', 2), ('룝', 52), ('瞎', 2), ('ў', 12), ('５', 18), ('曝', 12), ('ᄅ', 9), ('낛', 1), ('輦', 51), ('穩', 44), ('羨', 35), ('俵', 5), ('歎', 38), ('洸', 25), ('茹', 13), ('迥', 12), ('邗', 8), ('蛹', 3), ('됀', 7), ('肜', 8), ('荅', 7), ('皂', 9), ('渪', 1), ('彘', 10), ('頎', 16), ('孥', 3), ('頡', 25), ('狛', 9), ('驃', 32), ('麤', 74), ('臂', 35), ('腳', 15), ('Ğ', 6), ('祢', 6), ('寔', 51), ('墮', 27), ('薯', 14), ('篩', 6), ('ḳ', 2), ('ܕ', 7), ('ܣ', 5), ('ܘ', 8), ('ܩ', 2), ('尭', 6), ('檎', 6), ('枉', 5), ('盖', 29), ('읺', 8), ('鞑', 1), ('읔', 8), ('♮', 3), ('孛', 23), ('个', 16), ('奐', 46), ('侶', 38), ('륩', 8), ('綵', 16), ('暈', 7), ('膨', 20), ('脹', 14), ('꾜', 8), ('櫻', 24), ('磚', 8), ('慌', 14), ('ї', 22), ('꽈', 106), ('舵', 11), ('穂', 64), ('藿', 15), ('굣', 16), ('乍', 2), ('猩', 7), ('큹', 1), ('閒', 24), ('탼', 13), ('耄', 2), ('耋', 5), ('牘', 16), ('鄰', 31), ('祔', 21), ('綃', 17), ('밪', 10), ('甎', 1), ('躬', 26), ('厠', 8), ('摛', 4), ('轎', 16), ('饔', 54), ('偰', 66), ('꼇', 2), ('∵', 2), ('勖', 16), ('澀', 3), ('諳', 3), ('劄', 2), ('昃', 1), ('倅', 3), ('颭', 1), ('堇', 6), ('圉', 35), ('赧', 3), ('瘠', 4), ('黧', 1), ('侏', 4), ('耘', 27), ('牴', 1), ('懣', 2), ('兀', 56), ('朮', 7), ('靨', 1), ('溲', 2), ('謾', 8), ('謌', 1), ('騃', 1), ('賽', 18), ('銳', 31), ('闍', 27), ('槌', 5), ('桉', 1), ('孰', 20), ('硃', 4), ('盞', 32), ('蒂', 3), ('仝', 38), ('舉', 57), ('跆', 13), ('∫', 5), ('鬲', 6), ('鬹', 1), ('櫶', 18), ('秊', 18), ('凯', 18), ('鮓', 1), ('贓', 11), ('釀', 16), ('皼', 1), ('‒', 2), ('芦', 18), ('ǔ', 21), ('싈', 2), ('◇', 48), ('▷', 37), ('璠', 19), ('∀', 31), ('㎝', 943), ('２', 47), ('３', 28), ('Ｖ', 10), ('Ｍ', 74), ('８', 6), ('７', 10), ('Ｒ', 8), ('Ｘ', 9), ('９', 7), ('ｋ', 2), ('Ｇ', 4), ('Ɵ', 4), ('姒', 22), ('皋', 24), ('ⁿ', 15), ('秕', 2), ('畯', 14), ('뎰', 4), ('Ř', 8), ('녤', 57), ('餉', 19), ('қ', 17), ('ĕ', 13), ('ベ', 126), ('հ', 14), ('ա', 140), ('յ', 30), ('ե', 58), ('ր', 80), ('ն', 80), ('ث', 36), ('쑬', 8), ('і', 113), ('偕', 17), ('珤', 4), ('壕', 32), ('롑', 2), ('琹', 1), ('灝', 39), ('柞', 7), ('ċ', 10), ('𪸛', 3), ('啟', 16), ('擎', 36), ('畧', 7), ('ҕ', 2), ('뗼', 1), ('Һ', 4), ('ӧ', 8), ('ә', 39), ('ӱ', 3), ('穉', 26), ('烙', 25), ('債', 132), ('愃', 8), ('琔', 6), ('夭', 19), ('䄄', 3), ('跟', 2), ('栫', 1), ('熤', 6), ('莉', 25), ('茉', 16), ('㼅', 3), ('釉', 77), ('禶', 7), ('䄙', 4), ('峸', 4), ('爔', 11), ('烻', 1), ('욍', 3), ('𪸠', 2), ('椐', 1), ('緬', 13), ('妨', 23), ('煊', 11), ('寀', 10), ('禛', 19), ('娣', 6), ('彥', 18), ('嗟', 3), ('鵩', 1), ('泣', 20), ('唏', 2), ('噫', 2), ('憾', 3), ('鐫', 7), ('紓', 3), ('恫', 3), ('昍', 9), ('焜', 12), ('眂', 1), ('珘', 9), ('駉', 3), ('ŭ', 35), ('砧', 17), ('澔', 22), ('塋', 28), ('蘂', 19), ('凞', 11), ('寯', 7), ('砒', 6), ('瞳', 17), ('澯', 16), ('뒸', 2), ('泮', 38), ('Ꭰ', 1), ('ᄀ', 12), ('ښ', 3), ('ʂ', 22), ('̪', 5), ('Ѱ', 1), ('쌘', 67), ('彷', 2), ('徨', 3), ('ᐃ', 4), ('ᖃ', 1), ('ᓗ', 1), ('ᑦ', 2), ('愾', 40), ('庇', 72), ('擄', 5), ('猜', 9), ('猝', 3), ('廐', 15), ('掄', 1), ('慜', 6), ('葟', 1), ('泂', 21), ('獎', 18), ('嘲', 8), ('簒', 14), ('謗', 14), ('軼', 13), ('蓀', 21), ('碔', 1), ('紬', 21), ('侈', 10), ('倨', 6), ('쉥', 65), ('햘', 86), ('閨', 19), ('壼', 6), ('曄', 84), ('霊', 80), ('Ь', 15), ('Ӝ', 1), ('ӝ', 1), ('Ӟ', 3), ('ӟ', 2), ('Ӥ', 1), ('ӥ', 1), ('Ӵ', 1), ('ӵ', 1), ('ӑ', 5), ('ӗ', 2), ('Ӑ', 3), ('Ӗ', 1), ('Ҫ', 3), ('ҫ', 2), ('Ӳ', 1), ('ӳ', 1), ('↑', 84), ('욷', 4), ('繘', 1), ('貽', 13), ('Ӧ', 5), ('ῥ', 5), ('拝', 19), ('汞', 2), ('ད', 43), ('ྷ', 3), ('མ', 38), ('ལ', 50), ('涵', 89), ('俌', 13), ('洑', 29), ('̥', 2), ('ἁ', 3), ('귝', 2), ('̄', 12), ('嬉', 26), ('楠', 83), ('埼', 27), ('戢', 6), ('琇', 22), ('逗', 8), ('珌', 8), ('搜', 53), ('ꡖ', 1), ('ꡍ', 1), ('ꡂ', 1), ('ꡛ', 1), ('ꡌ', 1), ('ぴ', 37), ('饑', 11), ('蕤', 13), ('鶉', 3), ('蜩', 2), ('姤', 1), ('闞', 11), ('坎', 18), ('ÿ', 16), ('芹', 17), ('締', 21), ('徴', 8), ('榎', 6), ('股', 60), ('巂', 12), ('嶲', 11), ('롸', 27), ('湔', 3), ('Â', 24), ('韦', 7), ('ợ', 20), ('Ƿ', 3), ('趺', 96), ('扉', 19), ('ẋ', 17), ('̇', 9), ('ƶ', 4), ('롈', 2), ('姈', 4), ('◎', 45), ('煇', 17), ('⠚', 1), ('⠒', 1), ('⠈', 1), ('⠮', 1), ('⠨', 2), ('⠎', 1), ('⠢', 1), ('ㅲ', 4), ('ㅼ', 5), ('ź', 22), ('熺', 18), ('称', 26), ('叨', 1), ('披', 23), ('佔', 16), ('苟', 14), ('銜', 17), ('暱', 1), ('卹', 2), ('眾', 43), ('쎌', 20), ('⌬', 1), ('⏣', 1), ('ĥ', 18), ('ს', 41), ('ა', 100), ('ქ', 14), ('რ', 42), ('თ', 29), ('ვ', 24), ('ე', 56), ('ლ', 33), ('ო', 38), ('ბ', 14), ('ჭ', 2), ('ც', 4), ('ი', 93), ('ტ', 8), ('უ', 14), ('პ', 3), ('კ', 13), ('뚬', 23), ('竪', 59), ('楒', 2), ('姪', 48), ('烱', 10), ('螽', 1), ('娩', 13), ('癤', 1), ('蠱', 20), ('攸', 79), ('緦', 2), ('싾', 2), ('湺', 2), ('栁', 1), ('ゥ', 19), ('惹', 9), ('좐', 15), ('絕', 15), ('ș', 36), ('Ċ', 6), ('葆', 11), ('滓', 8), ('幫', 5), ('햔', 7), ('ῑ', 1), ('ỉ', 13), ('ặ', 8), ('ố', 83), ('ự', 21), ('롹', 4), ('汚', 91), ('ㄶ', 8), ('ㅀ', 11), ('ễ', 122), ('ọ', 32), ('圻', 14), ('መ', 6), ('ን', 10), ('ግ', 7), ('ሥ', 2), ('ተ', 5), ('፡', 11), ('ኢ', 4), ('ት', 26), ('ዮ', 6), ('ጵ', 4), ('ያ', 5), ('睢', 18), ('쭙', 5), ('戟', 32), ('ћ', 34), ('鹤', 15), ('网', 20), ('ّ', 39), ('ْ', 42), ('幷', 91), ('甥', 22), ('叅', 60), ('쟂', 4), ('枺', 1), ('宵', 25), ('↕', 2), ('ወ', 2), ('ደ', 6), ('ፊ', 1), ('ገ', 3), ('ስ', 8), ('ሺ', 1), ('ው', 2), ('ድ', 4), ('እ', 6), ('ና', 6), ('皙', 1), ('癖', 20), ('臾', 6), ('盎', 12), ('骑', 4), ('况', 2), ('孙', 6), ('椅', 42), ('萍', 18), ('昡', 4), ('뒈', 4), ('逍', 49), ('遥', 20), ('ゞ', 3), ('鴎', 3), ('맇', 1), ('웳', 1), ('괃', 1), ('‥', 15), ('곌', 1), ('緈', 3), ('挑', 16), ('돍', 1), ('덝', 3), ('둙', 1), ('Ĥ', 6), ('鋳', 4), ('逾', 5), ('嶋', 48), ('弉', 4), ('諾', 61), ('勍', 6), ('Ҁ', 2), ('ҁ', 1), ('Ꙗ', 3), ('Ѧ', 2), ('份', 35), ('忻', 24), ('炘', 3), ('侁', 7), ('Ꙟ', 1), ('ѡ', 2), ('ꙋ', 2), ('賡', 3), ('峪', 3), ('霰', 2), ('畓', 28), ('滾', 11), ('憙', 34), ('Ｌ', 8), ('殆', 16), ('ẍ', 1), ('洌', 12), ('縛', 192), ('苔', 46), ('驄', 6), ('沉', 9), ('愉', 28), ('瀁', 6), ('輅', 30), ('陋', 20), ('聾', 34), ('뗴', 3), ('쟉', 6), ('졈', 1), ('텬', 6), ('듕', 6), ('듁', 6), ('셕', 4), ('뎝', 1), ('豺', 6), ('凄', 4), ('몃', 3), ('巒', 17), ('徘', 2), ('迂', 24), ('긔', 20), ('셥', 14), ('駭', 7), ('엊', 10), ('琨', 18), ('碖', 5), ('腧', 1), ('黜', 69), ('澂', 13), ('瀰', 5), ('瑱', 19), ('潝', 10), ('姉', 46), ('肌', 8), ('嬢', 3), ('∂', 17), ('靱', 2), ('쬠', 3), ('邢', 80), ('垢', 73), ('獒', 19), ('ɦ', 2), ('樟', 15), ('姞', 5), ('Җ', 3), ('җ', 17), ('Ў', 9), ('陕', 14), ('ﺣ', 3), ('ﺎ', 5), ('ۆ', 1), ('ڭ', 1), ('苳', 4), ('崁', 9), ('埤', 13), ('厝', 9), ('贅', 16), ('뱐', 45), ('♪', 117), ('Є', 4), ('ℵ', 2), ('岦', 17), ('楫', 33), ('냡', 1), ('娠', 11), ('词', 1), ('弇', 4), ('炆', 5), ('矴', 4), ('鄱', 21), ('饕', 5), ('餮', 5), ('鏐', 6), ('諍', 96), ('↓', 52), ('咬', 16), ('꼳', 8), ('偈', 70), ('沐', 19), ('擥', 10), ('鋈', 4), ('紊', 6), ('즁', 5), ('隹', 2), ('愕', 2), ('Ń', 1), ('ｔ', 9), ('ব', 9), ('া', 23), ('ং', 6), ('ল', 9), ('ಕ', 5), ('ನ', 9), ('್', 15), ('ಡ', 2), ('ଓ', 1), ('ଡ', 1), ('଼', 1), ('ି', 5), ('ଆ', 1), ('ڌ', 2), ('،', 7), ('ھ', 6), ('ⵜ', 8), ('ⵎ', 3), ('ⵉ', 12), ('ⵖ', 2), ('ⵝ', 2), ('ⵗ', 4), ('ਪ', 1), ('ੰ', 1), ('ਜ', 1), ('ਬ', 2), ('ੀ', 4), ('ਗ', 1), ('ੁ', 2), ('ਮ', 1), ('ਖ', 1), ('ہ', 12), ('귁', 15), ('孃', 14), ('Ὄ', 1), ('챨', 6), ('辧', 1), ('厖', 11), ('苯', 48), ('尨', 6), ('菡', 13), ('瀹', 9), ('磊', 8), ('涯', 35), ('宕', 20), ('韜', 39), ('挫', 6), ('鋭', 3), ('堪', 76), ('瀜', 4), ('癃', 1), ('謫', 21), ('啣', 4), ('鉞', 27), ('貪', 528), ('泝', 2), ('凜', 5), ('冲', 80), ('恃', 20), ('慟', 5), ('宸', 36), ('寞', 6), ('濛', 8), ('壟', 8), ('筌', 17), ('酬', 26), ('懈', 47), ('怠', 47), ('捐', 17), ('擔', 75), ('疵', 24), ('쇽', 24), ('湮', 6), ('筬', 10), ('屝', 2), ('鍮', 25), ('渓', 143), ('竣', 9), ('म', 59), ('भ', 10), ('늡', 15), ('遒', 4), ('囈', 2), ('萠', 1), ('棚', 32), ('楗', 19), ('楺', 6), ('璹', 13), ('쥴', 142), ('쨍', 31), ('萁', 2), ('漉', 2), ('菽', 3), ('煎', 39), ('创', 3), ('崂', 4), ('泽', 10), ('栈', 3), ('览', 5), ('봌', 1), ('帰', 27), ('悝', 12), ('熲', 7), ('糜', 20), ('舡', 2), ('綎', 8), ('ۍ', 2), ('؋', 1), ('箜', 6), ('篌', 6), ('闖', 7), ('賎', 1), ('鍠', 26), ('殃', 10), ('쿈', 97), ('亏', 4), ('莂', 2), ('頗', 18), ('崿', 3), ('嵓', 11), ('簽', 35), ('蚊', 23), ('㴭', 8), ('楸', 46), ('亇', 3), ('宷', 4), ('愊', 10), ('畦', 2), ('瘴', 5), ('溱', 12), ('贇', 24), ('꺄', 10), ('銕', 2), ('謚', 12), ('嘯', 17), ('쌕', 33), ('秥', 1), ('篈', 7), ('亘', 52), ('磏', 4), ('ҧ', 4), ('ფ', 10), ('ხ', 15), ('ზ', 11), ('ჟ', 2), ('촤', 9), ('恕', 77), ('퇼', 35), ('侅', 3), ('詣', 27), ('誾', 31), ('寝', 12), ('嚼', 8), ('잛', 9), ('Ŏ', 1), ('几', 44), ('ℂ', 3), ('ℙ', 1), ('ɐ', 21), ('菲', 11), ('ສ', 13), ('າ', 21), ('ທ', 9), ('ັ', 11), ('ດ', 6), ('ປ', 6), ('ຊ', 11), ('ິ', 11), ('ໄ', 9), ('ຕ', 5), ('ົ', 6), ('ພ', 7), ('ບ', 4), ('ເ', 4), ('ກ', 6), ('ຖ', 2), ('찟', 49), ('ژ', 2), ('ـ', 4), ('ږ', 3), ('ړ', 7), ('ډ', 2), ('ㄊ', 5), ('ㄞ', 3), ('ˊ', 14), ('ㄅ', 8), ('ㄟ', 6), ('ㄉ', 7), ('ㄚ', 7), ('ㄓ', 6), ('ㄨ', 17), ('ㄥ', 13), ('ㄐ', 6), ('ㄝ', 5), ('ㄣ', 10), ('ㄒ', 8), ('ㄍ', 6), ('ㄙ', 4), ('貓', 19), ('閬', 16), ('盱', 10), ('眙', 8), ('畇', 5), ('裟', 44), ('斫', 4), ('♍', 1), ('㏄', 8), ('邨', 6), ('肃', 10), ('坚', 2), ('巩', 4), ('鄜', 15), ('琯', 36), ('媚', 15), ('彠', 2), ('蟒', 2), ('깟', 118), ('洹', 29), ('喀', 18), ('誨', 33), ('奵', 2), ('燉', 17), ('ශ', 7), ('්', 28), ('\\u200d', 24), ('ර', 29), ('ී', 15), ('ල', 15), ('ං', 7), ('ක', 19), ('ා', 48), ('ජ', 12), ('ත', 24), ('ි', 30), ('ග', 8), ('ය', 21), ('ම', 44), ('අ', 17), ('ප', 26), ('න', 45), ('ෝ', 18), ('ස', 11), ('ු', 18), ('ද', 11), ('බ', 10), ('ැ', 9), ('ඳ', 1), ('ධ', 3), ('ෙ', 5), ('භ', 4), ('හ', 6), ('ට', 1), ('ව', 22), ('ේ', 12), ('ළ', 2), ('ූ', 2), ('ඔ', 6), ('ආ', 1), ('ණ', 1), ('ඥ', 1), ('ඩ', 2), ('එ', 1), ('ො', 2), ('琈', 4), ('【', 171), ('】', 171), ('↘', 7), ('↗', 5), ('၏', 1), ('煐', 12), ('视', 59), ('藕', 10), ('諝', 18), ('諹', 3), ('倜', 10), ('₈', 10), ('ሸ', 1), ('ዋ', 4), ('뉙', 12), ('괍', 1), ('Ë', 3), ('Ј', 17), ('Ђ', 7), ('ђ', 10), ('ｒ', 2), ('駔', 2), ('ሆ', 1), ('በ', 4), ('ል', 11), ('ሽ', 1), ('ṗ', 2), ('灐', 4), ('譿', 5), ('菆', 2), ('췬', 185), ('ǒ', 11), ('晚', 22), ('磵', 15), ('岊', 10), ('Ș', 8), ('捒', 1), ('跨', 9), ('肚', 10), ('笼', 1), ('鄄', 14), ('鉅', 45), ('掎', 5), ('傕', 16), ('汜', 22), ('煨', 4), ('邾', 38), ('緱', 3), ('檻', 6), ('潞', 28), ('벴', 5), ('峭', 5), ('撾', 1), ('輜', 6), ('━', 17), ('盪', 15), ('斄', 6), ('郿', 21), ('瓌', 7), ('黽', 6), ('鄠', 3), ('鄙', 31), ('玠', 7), ('忿', 60), ('葭', 19), ('豲', 1), ('蠋', 2), ('罾', 2), ('\\x7f', 11), ('ㄽ', 9), ('㉾', 3), ('쓔', 4), ('¡', 52), ('ⓛ', 2), ('ﾞ', 1), ('゚', 2), ('ﾟ', 7), ('श', 26), ('뵉', 1), ('؛', 1), ('џ', 3), ('љ', 14), ('Њ', 11), ('တ', 28), ('ရ', 1), ('ာ', 23), ('း', 21), ('မ', 33), ('ျ', 8), ('ှ', 4), ('လ', 10), ('ွ', 9), ('်', 50), ('ပ', 17), ('ခ', 9), ('ြ', 24), ('င', 14), ('န', 10), ('ဲ', 3), ('့', 22), ('သ', 7), ('ေ', 29), ('၊', 15), ('ိ', 33), ('ု', 31), ('ည', 15), ('ူ', 3), ('စ', 12), ('ဖ', 3), ('ီ', 2), ('ဝ', 3), ('ါ', 4), ('ဒ', 3), ('ထ', 4), ('အ', 12), ('ံ', 3), ('ဓ', 1), ('ဋ', 1), ('္', 2), ('ဌ', 1), ('။', 4), ('က', 11), ('ဘ', 4), ('ယ', 1), ('ဆ', 1), ('进', 16), ('ச', 14), ('ங', 3), ('맽', 7), ('깉', 2), ('蠡', 18), ('潦', 2), ('拐', 8), ('乖', 18), ('█', 210), ('궃', 23), ('罔', 10), ('օ', 2), ('ֆ', 2), ('갘', 2), ('睟', 16), ('墜', 19), ('磼', 4), ('𢈴', 2), ('舫', 8), ('仏', 62), ('棉', 26), ('彙', 40), ('멨', 5), ('꽥', 18), ('韬', 3), ('养', 8), ('阵', 2), ('应', 11), ('决', 8), ('为', 10), ('跛', 8), ('蠢', 3), ('튝', 1), ('쓩', 2), ('暘', 7), ('햤', 5), ('ㅄ', 17), ('똠', 47), ('홥', 3), ('뜽', 5), ('赳', 4), ('삑', 16), ('Į', 4), ('盼', 8), ('縢', 2), ('鑫', 2), ('鬆', 2), ('飇', 3), ('飚', 1), ('迟', 3), ('옸', 6), ('冉', 58), ('褊', 6), ('＊', 189), ('𛀁', 3), ('ゐ', 26), ('褐', 19), ('쇨', 25), ('掩', 14), ('뀨', 5), ('嗀', 1), ('䀹', 1), ('⿰', 8), ('骸', 22), ('牝', 4), ('込', 23), ('忭', 10), ('晥', 14), ('晊', 3), ('囿', 8), ('謡', 14), ('ở', 4), ('縞', 4), ('琄', 4), ('糞', 29), ('葩', 3), ('훵', 31), ('ئ', 30), ('軋', 1), ('蝸', 10), ('螔', 1), ('蝓', 2), ('蚹', 1), ('蠃', 1), ('\\ue38f', 1), ('얆', 3), ('쨈', 8), ('敘', 5), ('ᄯ', 4), ('ᅩ', 2), ('〖', 3), ('〗', 3), ('ұ', 2), ('恁', 8), ('叭', 12), ('빋', 3), ('㎟', 8), ('縦', 11), ('옰', 4), ('곬', 16), ('絨', 11), ('ぜ', 38), ('ヰ', 13), ('ヱ', 6), ('ヅ', 8), ('ᄻ', 2), ('ㄵ', 8), ('읖', 8), ('ㄾ', 8), ('홅', 2), ('埗', 3), ('荃', 9), ('鱲', 2), ('磡', 9), ('蜺', 5), ('ㄻ', 10), ('풂', 13), ('퐝', 1), ('羣', 13), ('粳', 1), ('큭', 16), ('읕', 10), ('湍', 46), ('ᄛ', 3), ('幀', 327), ('磎', 37), ('侑', 21), ('ׁ', 22), ('ぱ', 39), ('弾', 31), ('ᄚ', 2), ('빱', 4), ('걔', 20), ('ĉ', 8), ('ĵ', 9), ('ŝ', 7), ('厅', 12), ('쨔', 11), ('慵', 19), ('黙', 35), ('狸', 8), ('홛', 3), ('貰', 10), ('则', 6), ('续', 2), ('机', 33), ('ㅳ', 5), ('丨', 9), ('丶', 9), ('丿', 8), ('亅', 5), ('亠', 5), ('冂', 4), ('冖', 4), ('冫', 5), ('凵', 4), ('勹', 2), ('卩', 2), ('屮', 1), ('巛', 1), ('幺', 2), ('龠', 7), ('琫', 19), ('ữ', 16), ('ổ', 13), ('煞', 25), ('ֱ', 3), ('\\uea2e', 1), ('\\uea7f', 1), ('슯', 3), ('冪', 25), ('ֻ', 5), ('־', 3), ('ֲ', 9), ('钅', 3), ('琻', 4), ('鍂', 3), ('螵', 2), ('蛸', 3), ('唆', 17), ('Ա', 18), ('զ', 4), ('տ', 22), ('ո', 54), ('ւ', 37), ('կ', 21), ('խ', 6), ('ց', 10), ('Ք', 5), ('մ', 14), ('ը', 2), ('ի', 36), ('ք', 21), ('Պ', 4), ('թ', 10), ('Մ', 9), ('ս', 17), ('բ', 16), ('։', 4), ('Դ', 3), ('դ', 6), ('ռ', 9), ('Բ', 4), ('ձ', 1), ('վ', 15), ('ծ', 2), ('ժ', 2), ('լ', 12), ('Ե', 2), ('պ', 10), ('շ', 6), ('ղ', 11), ('Ղ', 2), ('ջ', 3), ('Թ', 2), ('՝', 1), ('∘', 10), ('𛀆', 2), ('薝', 1), ('褙', 7), ('￥', 4), ('涌', 14), ('¢', 22), ('龑', 3), ('倖', 5), ('Ĉ', 10), ('Ĝ', 7), ('Ĵ', 6), ('Ŝ', 6), ('Ŭ', 4), ('⠠', 1), ('⠉', 1), ('⠩', 1), ('⠛', 1), ('⠻', 1), ('⠬', 1), ('⠥', 1), ('⠺', 1), ('⠾', 1), ('喝', 27), ('挟', 3), ('蛍', 3), ('桟', 4), ('壌', 4), ('挿', 3), ('眺', 8), ('搭', 10), ('瓶', 5), ('雰', 1), ('塀', 6), ('厄', 26), ('癒', 10), ('枠', 6), ('遡', 25), ('毀', 13), ('憚', 6), ('挨', 3), ('曖', 7), ('嵐', 44), ('潰', 18), ('嗅', 12), ('僅', 7), ('惧', 1), ('憬', 21), ('桁', 5), ('舷', 7), ('拶', 3), ('恣', 15), ('𠮟', 1), ('羞', 27), ('憧', 10), ('芯', 7), ('痩', 3), ('踪', 15), ('汰', 25), ('綻', 3), ('緻', 17), ('酎', 6), ('貼', 16), ('捗', 2), ('丼', 14), ('謎', 15), ('氾', 13), ('訃', 20), ('蔽', 20), ('餅', 15), ('頰', 5), ('麺', 14), ('瞭', 6), ('匁', 2), ('싵', 1), ('٪', 1), ('淘', 8), ('냤', 1), ('鑲', 34), ('圀', 11), ('掟', 2), ('槇', 4), ('塙', 8), ('籾', 1), ('圧', 6), ('撲', 13), ('疙', 1), ('롓', 1), ('盗', 24), ('Ấ', 5), ('Ṝ', 1), ('롳', 1), ('쫌', 9), ('ʤ', 7), ('扯', 3), ('惕', 13), ('ŵ', 10), ('逈', 16), ('轘', 6), ('旃', 14), ('̀', 2), ('뎦', 2), ('겯', 5), ('鑼', 8), ('蜉', 2), ('蝣', 2), ('ゾ', 21), ('纏', 121), ('橐', 7), ('櫜', 2), ('♀', 14), ('怊', 1), ('叫', 19), ('ᡩ', 1), ('ᠠ', 3), ('ᡳ', 1), ('聊', 14), ('덨', 1), ('স', 8), ('ত', 8), ('্', 7), ('য', 7), ('জ', 7), ('ি', 8), ('ৎ', 2), ('র', 8), ('়', 6), ('륐', 1), ('蠕', 7), ('왭', 1), ('ǫ', 23), ('퍌', 21), ('夸', 5), ('됙', 15), ('梣', 13), ('蚨', 1), ('弃', 3), ('轼', 2), ('问', 5), ('祯', 2), ('龄', 5), ('趵', 3), ('塑', 92), ('쳰', 16), ('阁', 11), ('轩', 6), ('极', 9), ('诰', 2), ('贞', 3), ('兴', 23), ('鱉', 5), ('Ѓ', 4), ('ɟ', 7), ('ʑ', 8), ('є', 12), ('袗', 9), ('🇸', 1), ('🇬', 1), ('ˆ', 1), ('ส', 65), ('ิ', 71), ('บ', 31), ('ป', 17), ('ั', 80), ('鰓', 23), ('寐', 9), ('陁', 25), ('泚', 4), ('땟', 7), ('쟐', 6), ('큇', 26), ('馭', 7), ('ˠ', 7), ('肋', 21), ('昉', 45), ('伅', 2), ('襃', 6), ('烔', 1), ('틂', 42), ('훓', 4), ('闘', 36), ('吠', 8), ('孩', 16), ('惰', 8), ('肴', 1), ('⭕', 2), ('❌', 2), ('癎', 6), ('鏛', 12), ('ż', 37), ('뭏', 1), ('梶', 19), ('枣', 4), ('沭', 2), ('鐥', 29), ('湟', 41), ('硡', 6), ('礗', 2), ('櫬', 1), ('🔑', 1), ('뎡', 10), ('栽', 40), ('♦', 44), ('𛀇', 1), ('𛀈', 1), ('𛀉', 1), ('涑', 14), ('屏', 30), ('冄', 1), ('ḗ', 3), ('轝', 3), ('泫', 13), ('砬', 10), ('莩', 1), ('乫', 2), ('Ὑ', 2), ('烘', 17), ('舂', 12), ('淯', 7), ('隗', 20), ('껶', 4), ('蘋', 5), ('🔒', 1), ('吝', 14), ('쏫', 4), ('页', 4), ('总', 24), ('醵', 1), ('芾', 3), ('♠', 18), ('佈', 11), ('拮', 1), ('檉', 4), ('寰', 11), ('鈺', 44), ('縊', 2), ('☜', 2), ('蔿', 18), ('＄', 8), ('漎', 1), ('媼', 7), ('噲', 10), ('甯', 21), ('碭', 7), ('酈', 27), ('嶢', 7), ('緞', 30), ('퇸', 10), ('쫏', 6), ('証', 35), ('耦', 4), ('ⓤ', 4), ('♬', 4), ('肯', 62), ('♡', 61), ('蓴', 5), ('꼍', 7), ('雫', 1), ('冨', 7), ('樫', 11), ('畷', 16), ('ぃ', 42), ('ג', 26), ('魅', 21), ('蘗', 8), ('ก', 105), ('โ', 15), ('ท', 62), ('ร', 163), ('ี', 51), ('จ', 27), ('๕', 1), ('켱', 1), ('∥', 8), ('焄', 13), ('짹', 45), ('彞', 1), ('憘', 10), ('泄', 20), ('턔', 8), ('沇', 13), ('劧', 1), ('潧', 2), ('槺', 3), ('럻', 1), ('玏', 7), ('澐', 14), ('褧', 10), ('澥', 5), ('屹', 34), ('튱', 3), ('墾', 24), ('摇', 1), ('滚', 1), ('衷', 41), ('戇', 5), ('잍', 8), ('侊', 5), ('폔', 2), ('闌', 7), ('瑄', 32), ('柶', 2), ('윶', 2), ('眀', 1), ('駹', 2), ('莋', 5), ('醸', 3), ('ヘ', 45), ('搥', 1), ('겄', 5), ('ㄈ', 3), ('ㄜ', 3), ('쩜', 27), ('燔', 9), ('첯', 1), ('閎', 13), ('摹', 30), ('嶝', 8), ('寳', 5), ('龎', 1), ('꿕', 1), ('♚', 1), ('♛', 1), ('♜', 1), ('♞', 1), ('♝', 1), ('♟', 1), ('兕', 2), ('욋', 6), ('廓', 78), ('撞', 25), ('Ｋ', 6), ('Ｏ', 6), ('Ｐ', 9), ('卻', 3), ('阯', 5), ('廋', 1), ('楛', 4), ('砮', 5), ('椁', 1), ('傉', 4), ('⊻', 2), ('⊕', 11), ('㏅', 2), ('켯', 7), ('쬘', 12), ('㣴', 1), ('〒', 10), ('麹', 5), ('豬', 14), ('樾', 5), ('笮', 6), ('騶', 10), ('晞', 6), ('墡', 3), ('￣', 4), ('￢', 8), ('庖', 4), ('‿', 5), ('郰', 4), ('♃', 1), ('瀏', 9), ('Ÿ', 9), ('Ï', 5), ('¨', 10), ('Ə', 8), ('ǝ', 4), ('Ǝ', 5), ('ᵊ', 1), ('ɚ', 12), ('鵂', 6), ('炅', 47), ('啞', 19), ('琓', 15), ('畱', 2), ('攺', 1), ('权', 4), ('䴡', 2), ('\\uf09f', 1), ('蠍', 3), ('넚', 2), ('邀', 12), ('旁', 14), ('剰', 3), ('亙', 3), ('엳', 2), ('蹶', 10), ('륏', 8), ('☠', 1), ('盂', 27), ('洧', 4), ('抚', 8), ('驢', 12), ('嶷', 17), ('髦', 25), ('濳', 1), ('眇', 1), ('＼', 35), ('ﻴ', 2), ('ﺒ', 1), ('獷', 2), ('隃', 3), ('麋', 13), ('汧', 9), ('禕', 29), ('鄳', 2), ('褘', 4), ('𗴂', 1), ('𗹭', 1), ('𗂧', 1), ('𘜶', 1), ('ậ', 75), ('灊', 4), ('騭', 10), ('淩', 15), ('䔉', 3), ('辽', 20), ('ヵ', 3), ('襪', 11), ('禯', 2), ('穠', 3), ('┳', 11), ('┗', 18), ('朐', 16), ('≧', 9), ('醞', 27), ('▨', 56), ('訏', 1), ('纊', 1), ('ꜹ', 1), ('앝', 9), ('蒺', 6), ('껸', 7), ('Ț', 2), ('飣', 2), ('樁', 8), ('숸', 2), ('庥', 8), ('繚', 10), ('醯', 11), ('跏', 83), ('釿', 1), ('菀', 3), ('髢', 6), ('竭', 21), ('襴', 6), ('螭', 32), ('蟋', 2), ('蟀', 4), ('錠', 12), ('瀧', 19), ('瑎', 6), ('ẩ', 7), ('읨', 1), ('푤', 32), ('좆', 38), ('伋', 20), ('咲', 20), ('衜', 4), ('藉', 8), ('旒', 8), ('旄', 4), ('邴', 5), ('靚', 23), ('瑯', 22), ('琊', 16), ('騄', 3), ('鞏', 34), ('₤', 4), ('郤', 29), ('鯤', 10), ('겡', 53), ('≦', 4), ('稈', 2), ('侧', 2), ('윾', 19), ('싀', 4), ('튽', 1), ('젔', 17), ('壥', 1), ('岾', 25), ('땝', 29), ('쫍', 3), ('剮', 2), ('譞', 4), ('湉', 1), ('₱', 1), ('胆', 12), ('槙', 1), ('宍', 9), ('捄', 8), ('쨰', 9), ('씃', 6), ('鯖', 3), ('贄', 20), ('亰', 1), ('鵝', 43), ('榆', 12), ('澆', 5), ('鄯', 15), ('इ', 3), ('錧', 1), ('呎', 1), ('齦', 4), ('帆', 33), ('匕', 5), ('峩', 1), ('吁', 2), ('訔', 24), ('很', 7), ('嗎', 1), ('怕', 6), ('蝴', 10), ('呸', 1), ('怎', 3), ('仉', 1), ('惻', 9), ('릐', 25), ('갣', 3), ('깯', 3), ('Ό', 9), ('☡', 1), ('擣', 1), ('莧', 1), ('枸', 10), ('櫞', 3), ('繅', 1), ('鍫', 1), ('앧', 4), ('歚', 2), ('祏', 7), ('鸚', 11), ('鵡', 9), ('슽', 2), ('脛', 3), ('鄢', 13), ('妲', 16), ('😓', 1), ('΄', 27), ('縷', 5), ('Ō', 19), ('惲', 19), ('玢', 8), ('瑨', 17), ('츕', 2), ('겻', 6), ('닺', 2), ('项', 3), ('癥', 1), ('ט', 31), ('뭴', 1), ('糊', 6), ('俏', 1), ('乌', 13), ('힁', 4), ('ङ', 3), ('仃', 2), ('丠', 1), ('萧', 13), ('煦', 22), ('懹', 2), ('揀', 6), ('伉', 8), ('儼', 43), ('鰍', 7), ('娃', 18), ('섥', 8), ('励', 7), ('ầ', 75), ('岺', 4), ('ნ', 31), ('㏓', 2), ('坛', 6), ('蘑', 2), ('餜', 2), ('甛', 8), ('脑', 4), ('莱', 11), ('蕪', 23), ('罘', 4), ('崳', 1), ('斋', 5), ('韰', 1), ('騖', 1), ('㏈', 10), ('做', 9), ('뒨', 42), ('뙈', 6), ('搾', 7), ('娟', 14), ('殮', 11), ('羑', 2), ('랕', 1), ('왙', 1), ('컅', 1), ('Ī', 7), ('ً', 9), ('윁', 1), ('蒜', 20), ('℧', 2), ('瘤', 8), ('転', 34), ('濔', 1), ('呰', 2), ('畑', 35), ('헣', 1), ('⚽', 1), ('駟', 16), ('裊', 2), ('濞', 3), ('槥', 5), ('肛', 9), ('Կ', 3), ('滞', 1), ('㏃', 9), ('☭', 1), ('夻', 1), ('롼', 64), ('钰', 4), ('볓', 9), ('አ', 5), ('ክ', 6), ('ሱ', 3), ('ም', 10), ('咀', 13), ('≃', 1), ('뚼', 1), ('僊', 10), ('鑒', 34), ('吴', 38), ('饋', 7), ('鰈', 4), ('韙', 12), ('䏰', 2), ('賨', 3), ('墊', 2), ('孕', 4), ('翌', 16), ('햑', 12), ('蕘', 1), ('퐅', 1), ('맻', 9), ('⚊', 1), ('⚋', 1), ('랖', 20), ('ゔ', 2), ('゛', 8), ('ヷ', 1), ('ヸ', 1), ('ヹ', 1), ('ヺ', 1), ('眩', 12), ('ぷ', 19), ('☫', 1), ('탙', 3), ('鏜', 6), ('鉈', 1), ('鐡', 1), ('鏢', 4), ('扣', 3), ('▼', 18), ('ᆝ', 5), ('膿', 11), ('㈁', 1), ('㈃', 1), ('㈄', 1), ('읭', 1), ('맜', 3), ('\\u202c', 4), ('Ἐ', 12), ('魑', 2), ('魍', 3), ('魎', 3), ('騮', 3), ('‽', 2), ('ֵ', 21), ('滁', 7), ('憫', 9), ('惘', 1), ('喚', 23), ('픜', 1), ('滕', 25), ('腾', 8), ('绮', 1), ('Ｗ', 3), ('ｉ', 3), ('Ｕ', 5), ('燎', 9), ('蛻', 2), ('ⅱ', 9), ('ⅰ', 5), ('찯', 1), ('😙', 1), ('緡', 10), ('聶', 34), ('袱', 2), ('ぇ', 12), ('鍪', 5), ('旲', 1), ('礒', 3), ('蔥', 17), ('怱', 1), ('瀷', 40), ('Ḳ', 1), ('琠', 14), ('竅', 3), ('脉', 5), ('壅', 6), ('剿', 13), ('컾', 2), ('잆', 1), ('楢', 5), ('痢', 12), ('糺', 4), ('榊', 12), ('Հ', 11), ('Ս', 11), ('գ', 5), ('븨', 8), ('瑃', 6), ('瓛', 11), ('訸', 1), ('榘', 9), ('俟', 22), ('籜', 1), ('轆', 5), ('轤', 2), ('璚', 1), ('裰', 1), ('쉑', 19), ('옲', 2), ('澪', 4), ('隼', 13), ('刁', 8), ('转', 5), ('ǽ', 6), ('깢', 2), ('揃', 3), ('艘', 2), ('鞆', 6), ('姝', 8), ('逮', 15), ('匱', 31), ('惪', 1), ('漯', 6), ('譎', 1), ('遹', 4), ('践', 4), ('喰', 12), ('渲', 18), ('ᇘ', 4), ('ᅟ', 7), ('ᅠ', 10), ('茜', 10), ('鯱', 5), ('桝', 2), ('챰', 4), ('靏', 2), ('昤', 1), ('鱎', 1), ('嵆', 5), ('伶', 18), ('댤', 1), ('捫', 1), ('氓', 5), ('搓', 2), ('饉', 10), ('鱒', 4), ('齐', 11), ('늗', 3), ('\\uf1fe', 12), ('뇩', 13), ('抜', 24), ('隰', 6), ('膀', 7), ('胱', 7), ('ỳ', 8), ('넡', 2), ('弋', 29), ('慨', 11), ('玫', 9), ('笨', 14), ('褈', 4), ('綽', 41), ('偁', 19), ('枡', 7), ('佶', 32), ('⊂', 17), ('㵧', 2), ('蠾', 1), ('얶', 5), ('蘄', 20), ('ﺗ', 3), ('ﻮ', 3), ('ﺧ', 2), ('ﺘ', 2), ('ﻰ', 2), ('ﯘ', 2), ('ﻧ', 1), ('ﯩ', 1), ('ﺯ', 2), ('ﻣ', 1), ('ﺋ', 1), ('ﺭ', 1), ('ﺕ', 1), ('膵', 3), ('菫', 4), ('銹', 4), ('㺚', 3), ('獺', 21), ('櫽', 1), ('ㅽ', 4), ('ㅾ', 4), ('ᅁ', 3), ('ᅅ', 3), ('ᅂ', 3), ('琸', 2), ('璨', 32), ('鐧', 1), ('鄆', 14), ('渉', 10), ('諷', 23), ('㶏', 6), ('櫝', 1), ('逯', 4), ('即', 22), ('藳', 1), ('艹', 3), ('羡', 4), ('褚', 24), ('葯', 3), ('綦', 4), ('嘔', 6), ('짼', 145), ('ག', 70), ('ཁ', 16), ('འ', 45), ('ཙ', 18), ('ན', 64), ('ྟ', 9), ('ཡ', 5), ('ུ', 45), ('༌', 1), ('།', 38), ('ྡ', 14), ('佯', 6), ('噶', 8), ('赞', 2), ('扬', 14), ('ᄸ', 2), ('ㅶ', 3), ('ㅴ', 4), ('ᄥ', 2), ('朽', 26), ('鬨', 3), ('ˌ', 9), ('献', 26), ('渙', 20), ('쾍', 10), ('讌', 9), ('彀', 2), ('賛', 28), ('잚', 1), ('뉸', 9), ('芻', 11), ('⑬', 8), ('⑭', 6), ('⑮', 6), ('秧', 4), ('犍', 17), ('鞬', 11), ('緄', 6), ('쵹', 4), ('酔', 6), ('穣', 1), ('凧', 1), ('驱', 1), ('论', 6), ('Ū', 9), ('榛', 16), ('纲', 10), ('濒', 1), ('顺', 13), ('泻', 1), ('补', 3), ('떯', 1), ('湿', 4), ('敛', 1), ('涩', 1), ('杀', 4), ('恶', 1), ('鄚', 7), ('┣', 39), ('瓔', 34), ('廖', 25), ('蕈', 3), ('슁', 7), ('럈', 1), ('釴', 6), ('匙', 16), ('玳', 8), ('惃', 2), ('漒', 2), ('妣', 16), ('啜', 10), ('컁', 4), ('嫪', 4), ('毐', 4), ('颺', 7), ('议', 3), ('筹', 2), ('备', 7), ('众', 9), ('赵', 25), ('蕾', 11), ('㦕', 1), ('渰', 3), ('斮', 1), ('𣠶', 1), ('𣋀', 1), ('効', 13), ('塭', 1), ('岁', 5), ('煤', 15), ('赏', 1), ('辑', 2), ('揽', 3), ('攒', 1), ('轴', 1), ('檗', 8), ('飈', 1), ('璄', 1), ('暁', 21), ('앋', 3), ('뫠', 1), ('퐂', 1), ('嫠', 1), ('嫦', 6), ('អ', 2), ('ង', 4), ('គ', 1), ('រ', 23), ('ធ', 1), ('ំ', 5), ('ᆃ', 4), ('싦', 1), ('봘', 2), ('봬', 8), ('쟙', 3), ('빎', 6), ('脳', 10), ('Ϛ', 4), ('ᅶ', 3), ('蹠', 2), ('籀', 7), ('텉', 4), ('뙨', 1), ('褓', 20), ('ⅳ', 3), ('륻', 1), ('￦', 14), ('떰', 12), ('茛', 1), ('ᅮ', 5), ('椰', 9), ('쉣', 1), ('榻', 5), ('폘', 5), ('ʧ', 3), ('歿', 7), ('햠', 6), ('炬', 16), ('뭅', 2), ('鰕', 3), ('轢', 2), ('ך', 2), ('瘟', 23), ('Ḫ', 1), ('듥', 2), ('찝', 13), ('👓', 1), ('🕶', 1), ('竄', 13), ('艤', 5), ('労', 30), ('笈', 4), ('훜', 1), ('㎉', 4), ('㜷', 1), ('깸', 6), ('旟', 1), ('旝', 1), ('饂', 2), ('飩', 6), ('빝', 4), ('₦', 1), ('🏈', 1), ('翦', 7), ('倗', 2), ('㫆', 1), ('粮', 8), ('ʐ', 6), ('͡', 23), ('联', 22), ('璁', 3), ('姥', 6), ('簸', 1), ('焼', 44), ('蓍', 35), ('큎', 1), ('鐙', 9), ('靭', 11), ('魋', 3), ('紒', 2), ('幞', 19), ('秬', 1), ('滃', 2), ('뫂', 1), ('컺', 1), ('왯', 4), ('肠', 1), ('㎠', 5), ('탣', 1), ('훽', 3), ('樗', 19), ('剤', 2), ('撚', 2), ('Ķ', 4), ('囍', 8), ('鄛', 1), ('髑', 2), ('髏', 3), ('玦', 4), ('┌', 4), ('╣', 1), ('鄔', 7), ('⛄', 1), ('⛇', 1), ('巪', 2), ('檃', 7), ('눼', 6), ('һ', 2), ('馴', 13), ('嶪', 5), ('嶙', 2), ('烓', 3), ('魄', 9), ('穽', 2), ('痒', 3), ('俑', 5), ('馣', 9), ('쟛', 5), ('卉', 9), ('왰', 1), ('갶', 1), ('뱆', 2), ('鎣', 4), ('‐', 18), ('Ｊ', 4), ('乀', 2), ('乁', 1), ('＿', 3), ('ព', 11), ('ះ', 7), ('ប', 2), ('ម', 11), ('ា', 15), ('ជ', 5), ('វ', 13), ('ច', 6), ('ុ', 5), ('ទ', 7), ('ី', 5), ('ន', 8), ('ិ', 4), ('ឆ', 1), ('័', 8), ('យ', 5), ('ហ', 2), ('ក', 10), ('ែ', 5), ('ᅷ', 3), ('ᅸ', 3), ('胰', 1), ('臓', 3), ('พ', 46), ('ะ', 34), ('ห', 41), ('갂', 2), ('笳', 4), ('刮', 9), ('酃', 3), ('孱', 7), ('痂', 2), ('琺', 3), ('栞', 8), ('脅', 7), ('₲', 1), ('깂', 2), ('햿', 1), ('ぉ', 2), ('怏', 1), ('茱', 4), ('萸', 4), ('홱', 4), ('딷', 3), ('ⓝ', 2), ('磺', 3), ('諪', 3), ('栂', 1), ('塁', 6), ('険', 18), ('҃', 1), ('蛭', 5), ('轟', 3), ('韮', 4), ('믠', 2), ('梢', 5), ('豉', 9), ('戣', 2), ('淪', 9), ('墍', 6), ('硈', 3), ('藎', 21), ('鉦', 11), ('汭', 3), ('豁', 7), ('嫏', 1), ('邰', 9), ('蛮', 14), ('猟', 6), ('幄', 5), ('轡', 2), ('獯', 3), ('獫', 7), ('蚋', 1), ('衽', 2), ('荐', 2), ('鬢', 1), ('啖', 3), ('躡', 1), ('踵', 1), ('插', 2), ('贤', 7), ('领', 1), ('阶', 2), ('锷', 1), ('ʏ', 1), ('妸', 3), ('淽', 2), ('뗌', 2), ('捶', 2), ('伢', 1), ('芭', 28), ('蕉', 29), ('頴', 6), ('拗', 4), ('穳', 1), ('嶬', 1), ('쎼', 1), ('瀱', 1), ('Ѕ', 12), ('ѕ', 9), ('ꙅ', 1), ('ꙃ', 1), ('Ӡ', 4), ('Ⰷ', 2), ('ѣ', 5), ('Ϝ', 4), ('볿', 1), ('ɰ', 2), ('\\ue560', 4), ('\\ue1a7', 1), ('\\uf85e', 1), ('퐃', 1), ('簑', 4), ('绍', 3), ('횄', 2), ('ꦫ', 2), ('ꦗ', 1), ('ꦺ', 1), ('ꦴ', 1), ('ꦁ', 2), ('ꦒ', 1), ('ꦿ', 1), ('낍', 10), ('ׂ', 3), ('쎕', 1), ('맄', 2), ('렆', 1), ('휙', 24), ('Ụ', 1), ('Ạ', 1), ('쉅', 1), ('嫂', 10), ('桔', 10), ('︶', 2), ('︿', 1), ('宓', 12), ('熈', 6), ('혅', 2), ('Ⱓ', 1), ('Ⱆ', 1), ('燻', 9), ('鯀', 2), ('紮', 2), ('튭', 2), ('嬿', 8), ('＠', 2), ('埇', 1), ('璈', 1), ('쳑', 4), ('鮭', 1), ('굔', 2), ('땨', 3), ('줫', 3), ('쩃', 2), ('蹋', 9), ('횩', 5), ('褶', 14), ('鵙', 1), ('廿', 4), ('约', 5), ('羂', 3), ('臻', 7), ('纓', 23), ('湑', 5), ('髄', 2), ('얅', 2), ('宪', 3), ('젏', 1), ('籩', 3), ('脯', 6), ('膋', 1), ('ㅦ', 4), ('ᇋ', 3), ('ꥸ', 2), ('ퟗ', 1), ('响', 4), ('坖', 1), ('衎', 6), ('雴', 8), ('芿', 4), ('唜', 10), ('翮', 16), ('爕', 2), ('鏶', 11), ('翯', 1), ('峋', 6), ('灦', 2), ('澩', 1), ('𣴴', 1), ('𨥭', 2), ('昈', 2), ('栻', 12), ('潚', 16), ('㵓', 2), ('鏈', 1), ('瀚', 24), ('鍰', 1), ('瑍', 3), ('㴤', 1), ('斆', 1), ('岌', 7), ('邠', 10), ('Ĕ', 1), ('玶', 5), ('휭', 12), ('艙', 4), ('贺', 7), ('檔', 25), ('뻴', 8), ('坵', 21), ('羋', 8), ('𒊩', 1), ('𒌆', 1), ('𒉺', 1), ('𒂅', 1), ('暊', 3), ('꿧', 5), ('ힱ', 2), ('玕', 2), ('鐔', 7), ('㮨', 1), ('玵', 1), ('𣷣', 1), ('琡', 8), ('稑', 1), ('榏', 1), ('榟', 3), ('珵', 2), ('滈', 3), ('䘥', 1), ('䅅', 1), ('紞', 4), ('襐', 1), ('㷽', 1), ('僐', 7), ('鋉', 1), ('烒', 4), ('扆', 1), ('絍', 1), ('㻋', 5), ('㬛', 1), ('橝', 1), ('墢', 1), ('鑌', 4), ('𤫙', 1), ('灄', 2), ('綄', 1), ('錙', 4), ('鞋', 22), ('㑧', 1), ('冈', 6), ('ả', 75), ('珷', 4), ('艷', 4), ('㬀', 1), ('轂', 3), ('衮', 4), ('텽', 2), ('譴', 7), ('剡', 11), ('晬', 6), ('阻', 15), ('輈', 2), ('帑', 5), ('顾', 6), ('蠲', 4), ('ϵ', 5), ('⌊', 1), ('⌋', 2), ('⌈', 2), ('⌉', 1), ('箪', 2), ('晒', 1), ('檳', 7), ('榔', 9), ('猒', 1), ('廡', 29), ('뿅', 13), ('┘', 2), ('ڑ', 1), ('軶', 4), ('밣', 2), ('写', 15), ('粋', 6), ('腋', 4), ('ퟴ', 1), ('‹', 62), ('›', 62), ('倹', 8), ('悊', 4), ('扠', 1), ('ퟻ', 2), ('ꥶ', 2), ('몯', 3), ('怍', 1), ('ᇺ', 2), ('ە', 7), ('ۇ', 2), ('틉', 26), ('郕', 10), ('戾', 18), ('窴', 1), ('昬', 2), ('窈', 3), ('窕', 2), ('茞', 1), ('袐', 1), ('遭', 18), ('옜', 6), ('欒', 25), ('┏', 1), ('虻', 1), ('⊿', 8), ('ɬ', 4), ('脱', 18), ('伺', 107), ('閟', 3), ('篪', 5), ('籥', 3), ('篴', 1), ('ฝ', 2), ('廄', 4), ('擅', 7), ('Ę', 5), ('뇓', 1), ('맕', 1), ('𦳣', 2), ('낢', 9), ('𤲟', 1), ('銇', 1), ('羕', 2), ('댱', 4), ('즛', 3), ('犂', 1), ('犢', 28), ('桧', 2), ('閇', 3), ('珎', 4), ('薿', 2), ('梱', 1), ('嵂', 4), ('鴫', 1), ('鷦', 5), ('鷯', 3), ('黛', 9), ('筐', 2), ('鰹', 2), ('絜', 1), ('咩', 1), ('既', 9), ('淤', 3), ('簀', 1), ('纒', 1), ('這', 13), ('梭', 10), ('鬘', 17), ('饮', 2), ('曁', 9), ('뀝', 2), ('豨', 4), ('蹏', 2), ('菑', 21), ('秣', 10), ('敾', 21), ('夙', 10), ('ེ', 41), ('枛', 1), ('酢', 7), ('枳', 17), ('▵', 8), ('龟', 3), ('兹', 1), ('蹇', 6), ('ល', 5), ('ឃ', 1), ('阴', 8), ('歓', 8), ('懽', 14), ('沪', 23), ('记', 11), ('妈', 4), ('爸', 7), ('们', 6), ('导', 4), ('飄', 9), ('咒', 5), ('屢', 7), ('丱', 1), ('跱', 1), ('喈', 1), ('ϑ', 1), ('뺘', 6), ('Ｙ', 2), ('Ｔ', 12), ('偫', 2), ('瓏', 2), ('埵', 6), ('帕', 9), ('渺', 2), ('径', 5), ('梦', 15), ('盩', 2), ('厔', 2), ('钭', 1), ('픙', 6), ('黥', 6), ('竊', 11), ('麯', 12), ('氛', 2), ('諟', 5), ('놃', 1), ('馰', 1), ('蕰', 4), ('泖', 1), ('掬', 2), ('苓', 11), ('獠', 5), ('澧', 12), ('薗', 2), ('谦', 4), ('廁', 3), ('嬀', 24), ('轨', 14), ('릘', 1), ('蠧', 2), ('秫', 3), ('榭', 2), ('鸳', 1), ('鸯', 1), ('听', 3), ('谁', 3), ('晖', 3), ('袒', 27), ('黟', 5), ('勧', 11), ('澹', 27), ('覬', 2), ('啼', 8), ('墯', 1), ('齲', 1), ('輧', 1), ('幘', 3), ('旂', 1), ('嚬', 3), ('絫', 4), ('嬙', 2), ('횽', 1), ('燼', 3), ('ܢ', 8), ('ܐ', 15), ('鮎', 7), ('垾', 3), ('龔', 27), ('质', 8), ('产', 19), ('縑', 3), ('𝐼', 1), ('触', 11), ('眭', 7), ('紱', 1), ('晤', 8), ('彜', 3), ('嫘', 2), ('싪', 1), ('梆', 3), ('澉', 2), ('籟', 1), ('錡', 20), ('阊', 2), ('寻', 3), ('燿', 5), ('璆', 12), ('复', 13), ('瓓', 2), ('怜', 8), ('긓', 1), ('娄', 1), ('仓', 5), ('闸', 6), ('历', 7), ('甪', 1), ('པ', 31), ('ྨ', 4), ('ྱ', 39), ('𗼎', 1), ('𗾧', 1), ('̱', 2), ('𗼇', 1), ('𘓐', 1), ('閶', 1), ('烜', 8), ('穈', 1), ('罫', 4), ('夹', 6), ('贯', 2), ('澡', 5), ('啸', 1), ('搂', 2), ('읐', 1), ('攽', 3), ('鏘', 3), ('软', 2), ('臙', 5), ('얉', 48), ('鑡', 4), ('➡', 9), ('葫', 17), ('औ', 4), ('＾', 2), ('｀', 5), ('˘', 1), ('˛', 2), ('⁂', 1), ('￠', 1), ('￡', 3), ('¤', 4), ('㎕', 2), ('㎗', 2), ('㎣', 3), ('㎤', 2), ('㎦', 2), ('㎙', 1), ('㎨', 1), ('㎰', 1), ('㎳', 1), ('㎴', 1), ('㎵', 1), ('㎶', 1), ('㎷', 1), ('㎸', 1), ('㎹', 1), ('㎀', 1), ('㎁', 1), ('㎂', 1), ('㎃', 2), ('㎄', 1), ('㎺', 1), ('㎻', 1), ('㎼', 1), ('㎽', 1), ('㎿', 9), ('㎔', 5), ('㏀', 1), ('㏁', 1), ('㎊', 1), ('㎋', 1), ('㎌', 1), ('㎭', 1), ('㎮', 2), ('㎯', 1), ('㏛', 1), ('㎩', 1), ('㎪', 1), ('㎫', 1), ('㎬', 1), ('㏝', 1), ('㏐', 1), ('㏉', 1), ('㏜', 2), ('㏆', 1), ('＃', 8), ('〓', 1), ('◁', 1), ('◀', 1), ('♤', 7), ('♧', 3), ('⊙', 65), ('◈', 36), ('◐', 1), ('◑', 1), ('▒', 1), ('▤', 1), ('▥', 1), ('▧', 1), ('▦', 1), ('♨', 2), ('☏', 1), ('☎', 3), ('¶', 7), ('‡', 27), ('↙', 4), ('↖', 2), ('♩', 5), ('㉿', 1), ('㏇', 1), ('㏂', 2), ('㏘', 2), ('℡', 1), ('ª', 2), ('ⓕ', 1), ('ⓖ', 1), ('ⓗ', 1), ('ⓘ', 1), ('ⓙ', 1), ('ⓚ', 1), ('ⓞ', 1), ('ⓟ', 1), ('ⓠ', 1), ('ⓡ', 1), ('ⓢ', 1), ('ⓣ', 1), ('ⓥ', 1), ('ⓦ', 1), ('ⓧ', 1), ('ⓨ', 1), ('ⓩ', 1), ('⒜', 3), ('⒝', 3), ('⒞', 3), ('⒟', 3), ('⒠', 3), ('⒡', 2), ('⒢', 2), ('⒣', 2), ('⒤', 2), ('⒥', 1), ('⒦', 1), ('⒧', 1), ('⒨', 1), ('⒩', 1), ('⒪', 1), ('⒫', 1), ('⒬', 1), ('⒭', 1), ('⒮', 1), ('⒯', 1), ('⒰', 1), ('⒱', 1), ('⒲', 1), ('⒳', 1), ('⒴', 1), ('⒵', 1), ('⒀', 1), ('⒁', 1), ('⒂', 1), ('０', 12), ('ⅲ', 2), ('ⅴ', 1), ('ⅵ', 1), ('ⅶ', 1), ('ⅷ', 1), ('ⅸ', 1), ('ⅹ', 4), ('⅛', 1), ('⅜', 2), ('⅝', 1), ('⅞', 1), ('⁴', 2), ('ㅥ', 6), ('ㅧ', 2), ('ㅨ', 2), ('ㅩ', 3), ('ㅪ', 2), ('ㅫ', 2), ('ㅬ', 2), ('ㅮ', 2), ('ㅯ', 2), ('ㅰ', 2), ('ㅷ', 2), ('ㅻ', 2), ('ㆀ', 2), ('ㆂ', 2), ('ㆃ', 2), ('ㆇ', 4), ('ㆈ', 2), ('ㆌ', 4), ('Ａ', 14), ('Ｂ', 2), ('Ｄ', 11), ('Ｈ', 3), ('Ｉ', 6), ('Ｎ', 5), ('Ｑ', 1), ('Ｚ', 4), ('ａ', 1), ('ｂ', 1), ('ｃ', 1), ('ｄ', 1), ('ｅ', 1), ('ｆ', 1), ('ｇ', 6), ('ｈ', 1), ('ｊ', 1), ('ｌ', 1), ('ｎ', 1), ('ｏ', 1), ('ｐ', 1), ('ｑ', 1), ('ｓ', 1), ('ｕ', 1), ('ｖ', 1), ('ｗ', 1), ('ｘ', 1), ('ｙ', 2), ('ｚ', 1), ('Ħ', 5), ('Ĳ', 1), ('Ŀ', 1), ('Ŧ', 5), ('Ŋ', 6), ('ĳ', 1), ('ŀ', 1), ('ŧ', 4), ('ŉ', 1), ('ぅ', 5), ('ゎ', 10), ('ヮ', 2), ('ᠲ', 2), ('ᠣ', 1), ('ᠭ', 2), ('洼', 5), ('蝋', 3), ('ˀ', 1), ('ዕ', 4), ('ዝ', 1), ('ʕ', 6), ('ὺ', 10), ('ྒ', 16), ('ཞ', 11), ('ស', 4), ('ណ', 1), ('劈', 4), ('ូ', 2), ('笒', 4), ('疽', 12), ('蛆', 5), ('꾄', 5), ('藹', 4), ('鱹', 1), ('푕', 9), ('臈', 3), ('嫗', 2), ('衾', 5), ('锺', 1), ('拨', 1), ('埥', 1), ('甦', 1), ('ཉ', 3), ('勻', 5), ('섿', 2), ('렡', 2), ('혿', 2), ('솓', 6), ('쿹', 1), ('噛', 2), ('熜', 6), ('杬', 6), ('ठ', 5), ('आ', 2), ('ञ', 3), ('樘', 3), ('韃', 4), ('靼', 5), ('ې', 3), ('亐', 2), ('拋', 1), ('欌', 17), ('樻', 2), ('Ṣ', 8), ('쒀', 20), ('蓚', 1), ('춋', 1), ('먁', 13), ('넀', 2), ('볻', 3), ('瑺', 10), ('柹', 2), ('蔕', 4), ('㾐', 1), ('싄', 1), ('牋', 2), ('愭', 4), ('墀', 10), ('灡', 1), ('\\ued30', 1), ('\\uf136', 1), ('\\uf05c', 1), ('妺', 1), ('챦', 2), ('箒', 3), ('雹', 1), ('溧', 7), ('𡸫', 1), ('𪚰', 1), ('龝', 2), ('◉', 8), ('◯', 50), ('✝', 2), ('觴', 7), ('姁', 4), ('剽', 4), ('悍', 33), ('অ', 1), ('আ', 1), ('ই', 1), ('ঈ', 1), ('উ', 1), ('ঊ', 1), ('ঋ', 1), ('এ', 1), ('ঐ', 1), ('ও', 1), ('ঔ', 1), ('ক', 4), ('খ', 2), ('গ', 1), ('ঘ', 2), ('ঙ', 1), ('চ', 1), ('ছ', 2), ('ঝ', 1), ('ঞ', 1), ('ট', 6), ('ঠ', 2), ('ড', 3), ('ঢ', 2), ('ণ', 1), ('থ', 1), ('দ', 11), ('ধ', 4), ('ন', 11), ('প', 2), ('ফ', 1), ('ভ', 2), ('ম', 5), ('ৰ', 1), ('ৱ', 1), ('শ', 5), ('ষ', 1), ('হ', 1), ('ঃ', 1), ('ঁ', 1), ('Գ', 3), ('Զ', 1), ('Է', 2), ('Ը', 1), ('Ժ', 1), ('Ի', 5), ('Լ', 1), ('Խ', 4), ('Ծ', 2), ('Ձ', 1), ('Ճ', 1), ('Յ', 1), ('Ն', 1), ('Շ', 1), ('Ո', 1), ('Չ', 1), ('Ջ', 1), ('Ռ', 2), ('Վ', 6), ('Տ', 1), ('Ր', 1), ('Ց', 1), ('Ւ', 1), ('Փ', 1), ('Օ', 1), ('Ֆ', 1), ('ܒ', 5), ('ܓ', 2), ('ܗ', 4), ('ܙ', 4), ('ܚ', 1), ('ܛ', 2), ('ܟ', 3), ('ܠ', 2), ('ܥ', 4), ('ܦ', 1), ('ܨ', 2), ('ܫ', 4), ('ܬ', 9), ('გ', 16), ('დ', 11), ('მ', 21), ('ღ', 4), ('ყ', 8), ('შ', 5), ('ჩ', 2), ('ძ', 7), ('წ', 6), ('ჯ', 2), ('ჰ', 1), ('ㄆ', 1), ('ㄇ', 5), ('ㄋ', 1), ('ㄌ', 1), ('ㄎ', 1), ('ㄑ', 1), ('ㄔ', 2), ('ㄕ', 1), ('ㄖ', 1), ('ㄗ', 3), ('ㄘ', 1), ('ㄛ', 2), ('ㄠ', 1), ('ㄡ', 1), ('ㄤ', 5), ('ㄦ', 1), ('ㄧ', 8), ('ㄭ', 1), ('\\u1680', 11), ('ᚁ', 3), ('ᚂ', 1), ('ᚃ', 1), ('ᚄ', 1), ('ᚅ', 1), ('ᚆ', 2), ('ᚇ', 1), ('ᚈ', 1), ('ᚉ', 1), ('ᚊ', 1), ('ᚋ', 1), ('ᚌ', 1), ('ᚍ', 2), ('ᚎ', 2), ('ᚏ', 1), ('ᚐ', 1), ('ᚑ', 1), ('ᚒ', 1), ('ᚓ', 1), ('ᚔ', 1), ('ᚕ', 1), ('ᚖ', 1), ('ᚗ', 1), ('ᚘ', 1), ('ᚙ', 1), ('ᚚ', 1), ('᚛', 1), ('᚜', 1), ('ሀ', 1), ('ለ', 4), ('ሐ', 1), ('ሠ', 1), ('ረ', 2), ('ሰ', 3), ('ኀ', 1), ('ነ', 5), ('ከ', 2), ('ዐ', 1), ('ዘ', 4), ('የ', 2), ('ጠ', 1), ('ጰ', 1), ('ጸ', 2), ('ፀ', 1), ('ፈ', 1), ('ፐ', 1), ('拵', 5), ('蔔', 5), ('섦', 6), ('貉', 5), ('薉', 1), ('岗', 14), ('㪍', 1), ('浑', 5), ('卧', 3), ('钂', 2), ('ὀ', 5), ('榥', 6), ('攤', 1), ('퐷', 1), ('糶', 3), ('糴', 2), ('埜', 6), ('㶞', 2), ('剔', 7), ('샇', 1), ('몀', 6), ('憁', 2), ('粔', 1), ('籹', 1), ('餦', 1), ('餭', 1), ('餳', 1), ('稛', 11), ('仞', 7), ('뿟', 3), ('馝', 4), ('縟', 2), ('븃', 1), ('￼', 11), ('ἥ', 3), ('邉', 374), ('毳', 1), ('袵', 1), ('箫', 3), ('嶮', 3), ('耇', 2), ('綁', 1), ('殂', 2), ('鲍', 2), ('启', 6), ('濶', 5), ('瞽', 1), ('⌃', 1), ('鋤', 17), ('砭', 3), ('棓', 2), ('Ṛ', 1), ('葶', 4), ('藶', 3), ('롖', 1), ('욯', 4), ('烺', 1), ('냣', 13), ('缸', 13), ('譟', 2), ('莭', 1), ('ẵ', 4), ('濙', 1), ('앆', 1), ('箙', 1), ('郯', 18), ('碝', 1), ('纘', 47), ('礏', 1), ('𢙯', 2), ('溎', 2), ('炷', 2), ('컀', 1), ('蝙', 6), ('蝠', 7), ('骷', 1), ('蜥', 2), ('蜴', 1), ('殭', 3), ('ʎ', 6), ('鋿', 1), ('Ћ', 3), ('₯', 2), ('甀', 2), ('湣', 14), ('淖', 8), ('虧', 3), ('吮', 2), ('痤', 2), ('漵', 3), ('奶', 5), ('檸', 3), ('檬', 1), ('閈', 11), ('嘏', 8), ('럄', 4), ('侖', 4), ('黁', 2), ('廞', 5), ('刦', 3), ('㖯', 1), ('乻', 1), ('猗', 13), ('瑆', 1), ('玝', 2), ('廼', 2), ('睹', 2), ('邃', 12), ('觚', 4), ('㮒', 3), ('岵', 3), ('賾', 6), ('蓨', 2), ('滏', 6), ('鵾', 2), ('婺', 14), ('붔', 1), ('劌', 2), ('艅', 7), ('膂', 4), ('褫', 1), ('셖', 3), ('葎', 1), ('鋹', 4), ('鼾', 1), ('异', 3), ('蚕', 6), ('鞱', 2), ('俚', 7), ('묾', 8), ('Ἵ', 1), ('竑', 8), ('禥', 1), ('㬎', 1), ('碙', 1), ('윱', 9), ('廝', 1), ('앹', 1), ('炡', 10), ('뤨', 1), ('俞', 10), ('뺵', 2), ('牖', 3), ('섁', 7), ('뼤', 2), ('딈', 1), ('뵷', 2), ('둄', 2), ('먓', 1), ('働', 23), ('鸿', 7), ('癬', 7), ('鉾', 7), ('倸', 1), ('彔', 3), ('鲁', 18), ('탘', 6), ('掯', 1), ('桎', 5), ('梏', 4), ('离', 16), ('齕', 10), ('蜿', 2), ('蜒', 2), ('囂', 10), ('嬌', 9), ('鏃', 8), ('迺', 4), ('榙', 1), ('慤', 14), ('薑', 20), ('翽', 4), ('颜', 5), ('跌', 4), ('䵍', 1), ('翳', 9), ('棹', 9), ('蒨', 9), ('軹', 9), ('洺', 9), ('闥', 12), ('葱', 8), ('迴', 19), ('嬾', 1), ('咥', 4), ('妍', 5), ('㙉', 9), ('耈', 5), ('꾕', 3), ('Ő', 2), ('萝', 1), ('桦', 4), ('饶', 2), ('辮', 5), ('絆', 13), ('詁', 10), ('㦳', 4), ('疥', 4), ('뫔', 1), ('犒', 1), ('廨', 14), ('聳', 16), ('橒', 6), ('芍', 10), ('虢', 29), ('鄶', 2), ('菔', 1), ('츔', 6), ('㺶', 1), ('┃', 39), ('鵄', 11), ('珚', 5), ('鵺', 1), ('裿', 3), ('悖', 13), ('虬', 3), ('恮', 17), ('恰', 12), ('衱', 1), ('𣉞', 1), ('襻', 1), ('忱', 30), ('縯', 4), ('袡', 1), ('𤎱', 1), ('僶', 1), ('붴', 1), ('玗', 10), ('莪', 4), ('嘘', 3), ('噂', 1), ('矗', 7), ('篳', 1), ('枫', 4), ('泾', 1), ('吓', 1), ('对', 8), ('瘪', 1), ('铺', 4), ('负', 1), ('责', 2), ('处', 7), ('祸', 1), ('鮪', 9), ('卬', 18), ('佻', 3), ('蓩', 2), ('掫', 1), ('碕', 4), ('苒', 4), ('㵜', 1), ('㴢', 1), ('篦', 2), ('搠', 2), ('퇑', 1), ('둚', 2), ('觱', 1), ('篥', 1), ('歙', 19), ('籐', 3), ('ㇼ', 3), ('瑅', 7), ('洩', 6), ('첬', 5), ('齢', 7), ('緘', 6), ('錆', 2), ('蜃', 2), ('鰤', 1), ('倞', 3), ('ℎ', 1), ('笥', 5), ('닽', 4), ('珝', 8), ('繊', 1), ('収', 9), ('튁', 7), ('磋', 5), ('މ', 5), ('ު', 6), ('ހ', 2), ('ަ', 5), ('އ', 3), ('ް', 4), ('ދ', 3), ('ނ', 1), ('ޝ', 1), ('ީ', 2), ('졀', 5), ('縕', 7), ('洤', 3), ('熽', 4), ('垍', 2), ('茝', 2), ('ˑ', 5), ('橃', 18), ('잗', 3), ('鯇', 1), ('鼇', 11), ('諴', 27), ('屺', 1), ('잏', 3), ('滌', 15), ('㷁', 2), ('蘚', 3), ('赁', 2), ('耨', 10), ('藐', 8), ('腻', 2), ('潙', 17), ('锜', 2), ('輗', 5), ('蒹', 3), ('亹', 4), ('蓊', 2), ('櫟', 21), ('鰥', 3), ('噪', 1), ('簷', 11), ('赬', 1), ('筯', 1), ('瑬', 17), ('瀗', 4), ('\\ue85a', 1), ('壑', 9), ('悛', 5), ('瑥', 2), ('綧', 7), ('㠉', 1), ('册', 11), ('霂', 2), ('眈', 5), ('盥', 2), ('餞', 12), ('黿', 11), ('槩', 4), ('覯', 2), ('斃', 4), ('袳', 5), ('鍈', 6), ('癯', 2), ('柟', 4), ('壄', 2), ('俙', 2), ('餃', 7), ('휑', 4), ('茁', 5), ('褂', 1), ('枏', 3), ('翱', 3), ('ᆍ', 4), ('逡', 5), ('輞', 5), ('愔', 9), ('垞', 2), ('坳', 2), ('欹', 2), ('沜', 2), ('朼', 2), ('玔', 1), ('磌', 3), ('\\ue8ec', 1), ('룐', 2), ('歇', 7), ('銒', 2), ('坯', 1), ('嗾', 2), ('琜', 2), ('襁', 1), ('黯', 10), ('굇', 1), ('皎', 15), ('聆', 2), ('忸', 3), ('檠', 3), ('杲', 21), ('槼', 1), ('棐', 4), ('禫', 1), ('渻', 3), ('쐰', 1), ('☐', 3), ('魘', 2), ('믓', 1), ('늇', 2), ('羚', 4), ('슉', 8), ('篔', 2), ('墅', 16), ('蛔', 3), ('쿙', 5), ('蠹', 11), ('祧', 21), ('彎', 18), ('嵇', 5), ('焕', 2), ('橈', 11), ('岏', 3), ('薱', 1), ('㝓', 7), ('寤', 5), ('譓', 6), ('獤', 1), ('萆', 1), ('俛', 5), ('吊', 8), ('悒', 1), ('揲', 2), ('璔', 6), ('崛', 18), ('弸', 1), ('竦', 4), ('櫂', 2), ('珓', 1), ('皴', 10), ('鉤', 29), ('㑳', 1), ('梳', 16), ('崵', 1), ('慍', 1), ('핶', 1), ('錞', 5), ('堦', 2), ('窘', 5), ('豌', 6), ('芎', 5), ('蘼', 1), ('薏', 3), ('苡', 3), ('隘', 10), ('捽', 1), ('떥', 1), ('嬅', 2), ('靷', 6), ('鎧', 9), ('鐎', 4), ('鴟', 5), ('ः', 1), ('諛', 1), ('馱', 11), ('勰', 4), ('☣', 1), ('齮', 4), ('畤', 8), ('遬', 3), ('窋', 2), ('諂', 34), ('囷', 2), ('灢', 1), ('辜', 3), ('翩', 5), ('鋐', 3), ('澕', 13), ('逓', 2), ('愰', 2), ('鄹', 2), ('偪', 5), ('垸', 20), ('슳', 1), ('ᄔ', 3), ('蒿', 3), ('駢', 5), ('簣', 1), ('Ή', 2), ('偓', 1), ('縠', 8), ('秺', 7), ('顙', 3), ('堞', 7), ('荳', 16), ('蔲', 11), ('鴕', 1), ('녯', 2), ('朧', 2), ('翺', 2), ('谭', 3), ('頲', 10), ('笵', 7), ('窿', 5), ('紵', 6), ('旴', 3), ('篋', 11), ('沄', 7), ('굘', 11), ('嗇', 10), ('룍', 1), ('瞿', 17), ('ퟳ', 1), ('ᆠ', 3), ('ꥹ', 2), ('彖', 4), ('巹', 4), ('帔', 3), ('턀', 3), ('鑢', 5), ('檓', 1), ('璱', 2), ('柬', 16), ('蔀', 2), ('蝀', 1), ('敔', 2), ('璩', 8), ('麚', 10), ('゜', 2), ('瘞', 5), ('髷', 2), ('笄', 3), ('褌', 3), ('击', 7), ('켸', 10), ('丫', 4), ('胛', 1), ('坫', 2), ('颪', 1), ('鯛', 3), ('嫇', 1), ('虍', 2), ('늿', 1), ('摭', 3), ('蘘', 3), ('萹', 1), ('兟', 1), ('곹', 2), ('菾', 1), ('쐼', 1), ('핱', 2), ('椶', 4), ('櫚', 7), ('棕', 6), ('暿', 3), ('㫜', 3), ('닜', 2), ('昫', 5), ('邆', 3), ('賧', 3), ('몪', 1), ('鍞', 1), ('𣞗', 1), ('概', 5), ('ਕ', 2), ('֖', 1), ('ᄙ', 3), ('鵯', 1), ('賈', 1), ('偷', 8), ('婬', 22), ('誑', 38), ('䟽', 15), ('읆', 3), ('ឡ', 2), ('縻', 5), ('靉', 1), ('跫', 1), ('栳', 1), ('泪', 5), ('蕷', 1), ('ᆀ', 3), ('媯', 3), ('Ļ', 4), ('뒁', 2), ('簞', 5), ('讜', 9), ('깓', 1), ('ử', 18), ('菘', 2), ('쎔', 2), ('箓', 1), ('鵞', 2), ('揺', 3), ('唵', 7), ('襑', 2), ('ǃ', 66), ('ǀ', 4), ('쾀', 4), ('ے', 1), ('淶', 2), ('닠', 1), ('\\u2028', 35), ('쵣', 1), ('瑣', 7), ('쉉', 1), ('餾', 2), ('鍑', 2), ('潜', 13), ('玀', 1), ('猓', 1), ('\\uf06c', 2), ('洱', 7), ('仄', 5), ('喂', 1), ('銋', 2), ('抢', 1), ('烧', 2), ('礖', 4), ('즑', 1), ('츺', 1), ('瞮', 1), ('酇', 20), ('鵰', 4), ('樅', 1), ('睾', 10), ('綖', 1), ('鍒', 2), ('琭', 1), ('襫', 2), ('炕', 3), ('錥', 5), ('螳', 2), ('螂', 2), ('찱', 1), ('Ὠ', 2), ('ꥼ', 2), ('ퟠ', 1), ('巓', 1), ('贵', 18), ('寏', 2), ('鞸', 1), ('덙', 1), ('庐', 3), ('浊', 2), ('滹', 2), ('郸', 1), ('态', 4), ('誢', 2), ('黌', 6), ('駣', 1), ('茫', 6), ('꼅', 1), ('쨴', 1), ('ཝ', 1), ('犛', 8), ('扱', 3), ('嚈', 1), ('噠', 1), ('栍', 11), ('䴥', 1), ('憔', 1), ('悴', 1), ('툽', 54), ('ἑ', 8), ('थ', 7), ('吼', 14), ('污', 86), ('恚', 58), ('顛', 26), ('逻', 1), ('₮', 1), ('袂', 3), ('裄', 1), ('慷', 9), ('☤', 1), ('耜', 1), ('侠', 6), ('鍍', 22), ('畬', 2), ('僩', 5), ('漓', 2), ('𨍭', 1), ('鲤', 2), ('仪', 6), ('邮', 5), ('调', 4), ('扌', 1), ('谓', 1), ('侨', 4), ('炀', 1), ('镜', 6), ('鉴', 5), ('笔', 5), ('骆', 1), ('宾', 1), ('牂', 11), ('弭', 1), ('愖', 3), ('𤨒', 3), ('諤', 1), ('繻', 7), ('笋', 2), ('缅', 1), ('佖', 6), ('ὔ', 3), ('˨', 3), ('˩', 2), ('阗', 1), ('ྩ', 3), ('阡', 3), ('瞼', 17), ('獜', 4), ('樠', 2), ('橪', 1), ('칳', 1), ('푣', 2), ('괂', 2), ('줓', 1), ('튻', 1), ('싲', 3), ('礡', 3), ('蓂', 7), ('鉸', 1), ('襖', 6), ('衲', 10), ('罇', 2), ('鋧', 6), ('憍', 30), ('銙', 6), ('鰼', 1), ('牁', 2), ('荄', 1), ('蹲', 9), ('䇳', 1), ('埅', 3), ('敭', 2), ('错', 1), ('鈗', 2), ('㕀', 1), ('朦', 1), ('\\ue97d', 1), ('归', 6), ('邂', 5), ('逅', 6), ('灞', 6), ('渷', 4), ('옺', 2), ('窄', 10), ('氅', 5), ('絮', 4), ('胙', 2), ('舃', 1), ('쏩', 2), ('銷', 4), ('죕', 2), ('襆', 1), ('昝', 1), ('茴', 5), ('跬', 2), ('埯', 1), ('瑔', 5), ('얊', 2), ('杳', 2), ('撝', 7), ('壜', 2), ('润', 2), ('驟', 3), ('菰', 2), ('蕊', 2), ('懃', 6), ('珇', 6), ('欞', 2), ('캴', 35), ('눞', 9), ('讲', 5), ('灤', 12), ('ὤ', 11), ('闈', 3), ('⁎', 11), ('덛', 3), ('悤', 6), ('裪', 1), ('琚', 10), ('Ͷ', 1), ('ͷ', 1), ('Ͱ', 2), ('ͱ', 1), ('Ϻ', 2), ('ϻ', 1), ('Ϸ', 3), ('ϸ', 1), ('Ϙ', 2), ('ϙ', 1), ('Ϟ', 1), ('Ͳ', 2), ('ͳ', 1), ('Ϡ', 1), ('翥', 4), ('皚', 1), ('₹', 6), ('ଟ', 3), ('ଙ', 1), ('୍', 1), ('କ', 1), ('ା', 1), ('॰', 1), ('缾', 3), ('婕', 16), ('妤', 15), ('쒜', 1), ('赢', 1), ('劲', 1), ('闵', 11), ('髆', 1), ('ˤ', 9), ('锟', 4), ('狁', 8), ('荈', 1), ('镌', 1), ('误', 2), ('傒', 11), ('桱', 2), ('编', 7), ('犖', 2), ('ⵟ', 2), ('ⵡ', 1), ('ⵏ', 5), ('辫', 1), ('읅', 3), ('焃', 2), ('炟', 2), ('偘', 3), ('匐', 3), ('闽', 6), ('歼', 2), ('屿', 2), ('깠', 3), ('칲', 4), ('嶁', 1), ('窆', 4), ('鋥', 22), ('恺', 2), ('萭', 2), ('\\x99', 1), ('涛', 4), ('뢱', 8), ('昷', 12), ('緇', 22), ('髡', 11), ('蜚', 3), ('涬', 2), ('钧', 3), ('툥', 2), ('햝', 2), ('蚧', 2), ('ṽ', 2), ('綫', 10), ('卡', 17), ('敲', 6), ('翫', 5), ('쾁', 1), ('쾃', 41), ('鄖', 6), ('掉', 63), ('쒼', 1), ('恙', 3), ('鬣', 1), ('疼', 3), ('鄣', 10), ('柤', 3), ('晅', 3), ('ʋ', 3), ('ᐨ', 10), ('숳', 2), ('顱', 1), ('Ἠ', 4), ('Ἤ', 1), ('Ἅ', 2), ('늅', 1), ('螓', 1), ('웆', 1), ('탶', 1), ('믁', 1), ('蒔', 7), ('곷', 2), ('帮', 3), ('皜', 2), ('韉', 1), ('愴', 11), ('遏', 8), ('酣', 1), ('填', 3), ('仅', 3), ('窝', 5), ('檯', 1), ('囎', 1), ('唹', 2), ('霅', 1), ('眜', 2), ('皃', 1), ('姊', 7), ('ܶ', 1), ('ܺ', 1), ('ẽ', 4), ('꺌', 1), ('逖', 7), ('戳', 2), ('灒', 1), ('憩', 66), ('劝', 1), ('帷', 2), ('欑', 1), ('밷', 6), ('鴿', 2), ('涂', 5), ('棵', 2), ('렜', 3), ('뭬', 1), ('瑒', 3), ('悏', 1), ('츩', 2), ('䜌', 3), ('钜', 2), ('薤', 2), ('뱔', 7), ('ڤ', 7), ('믕', 8), ('컈', 2), ('쵼', 4), ('湳', 6), ('葍', 1), ('绛', 3), ('寗', 16), ('堝', 3), ('𝄆', 3), ('𝄇', 3), ('㡣', 1), ('睺', 7), ('फ', 2), ('뫄', 4), ('岢', 2), ('艽', 3), ('ụ', 26), ('煽', 4), ('쐉', 1), ('搦', 2), ('Ǟ', 1), ('ǟ', 1), ('Ḑ', 3), ('ḑ', 3), ('ļ', 14), ('Ņ', 1), ('Ȯ', 1), ('ȯ', 1), ('Ȱ', 1), ('ȱ', 1), ('Ȭ', 1), ('ȭ', 1), ('Ŗ', 3), ('ŗ', 2), ('划', 6), ('罢', 1), ('掲', 3), ('洭', 1), ('窃', 1), ('敌', 1), ('蒋', 4), ('詧', 2), ('뻡', 3), ('뭋', 1), ('吕', 3), ('烝', 5), ('둰', 3), ('톼', 3), ('抓', 1), ('虾', 4), ('儈', 1), ('蒐', 9), ('鄞', 5), ('鄮', 1), ('捌', 8), ('軛', 67), ('Ἡ', 6), ('溤', 1), ('槀', 4), ('濉', 3), ('枞', 1), ('谯', 1), ('͘', 2), ('삠', 3), ('ຈ', 3), ('ູ', 3), ('ມ', 13), ('ີ', 5), ('ຍ', 7), ('湓', 2), ('潯', 3), ('洨', 9), ('逌', 5), ('ู', 17), ('墙', 2), ('馪', 5), ('埁', 4), ('馦', 2), ('邹', 3), ('鼐', 7), ('䵼', 1), ('灇', 1), ('矶', 1), ('慝', 1), ('밫', 2), ('蕢', 1), ('䂮', 1), ('괕', 1), ('蠅', 6), ('栴', 3), ('冼', 4), ('졘', 6), ('斅', 3), ('껼', 1), ('薮', 1), ('桄', 2), ('꽐', 3), ('캰', 18), ('洈', 1), ('鳜', 1), ('边', 4), ('显', 4), ('弈', 2), ('蕲', 1), ('⊞', 1), ('\\uf000', 4), ('拇', 2), ('凢', 1), ('郴', 12), ('濵', 1), ('礐', 1), ('ų', 13), ('ũ', 38), ('茵', 6), ('瘀', 3), ('叮', 4), ('噹', 2), ('啦', 4), ('ো', 1), ('ে', 11), ('膩', 3), ('駮', 1), ('哇', 1), ('琼', 6), ('섈', 48), ('尟', 1), ('鱻', 1), ('𠄩', 2), ('乶', 4), ('乷', 3), ('兺', 1), ('哛', 1), ('焙', 4), ('拠', 7), ('̈', 8), ('义', 9), ('蕖', 2), ('ȟ', 8), ('暆', 1), ('蜈', 3), ('蚣', 3), ('窗', 3), ('錍', 1), ('鉚', 1), ('僰', 2), ('ὕ', 4), ('严', 7), ('쏳', 2), ('栩', 4), ('짔', 4), ('攖', 2), ('딫', 6), ('⊥', 4), ('瞑', 4), ('痼', 1), ('ḵ', 3), ('勐', 1), ('씼', 6), ('껠', 1), ('槟', 3), ('澜', 4), ('狒', 2), ('젇', 5), ('鸣', 2), ('왝', 8), ('髠', 3), ('멂', 3), ('귯', 2), ('檫', 2), ('芼', 8), ('鼂', 4), ('坮', 14), ('䁐', 1), ('싁', 1), ('ڬ', 4), ('习', 6), ('웤', 6), ('뤗', 2), ('瘇', 3), ('롐', 4), ('甗', 1), ('哮', 1), ('歜', 1), ('鄋', 2), ('ሃ', 2), ('ኤ', 12), ('ር', 18), ('ራ', 15), ('𐤌', 1), ('𐤁', 1), ('걈', 3), ('쑴', 2), ('聂', 1), ('梴', 2), ('궉', 27), ('鴌', 7), ('苇', 3), ('涝', 1), ('즞', 1), ('塲', 6), ('樒', 1), ('佼', 5), ('苐', 1), ('嘖', 2), ('逶', 1), ('迤', 1), ('磅', 2), ('祊', 3), ('姱', 1), ('濆', 5), ('웇', 1), ('崢', 1), ('竱', 3), ('蓆', 1), ('鑅', 3), ('蓽', 2), ('뵛', 1), ('寘', 2), ('韭', 1), ('杂', 2), ('韂', 1), ('夋', 2), ('滂', 3), ('翬', 8), ('廙', 5), ('贋', 1), ('ἕ', 2), ('鑠', 3), ('넎', 2), ('譫', 3), ('ྗ', 9), ('郙', 1), ('矬', 1), ('袤', 6), ('儚', 1), ('ៅ', 1), ('̑', 1), ('ʝ', 2), ('ں', 1), ('翖', 1), ('孀', 5), ('仿', 2), ('싰', 1), ('蘴', 2), ('‱', 3), ('䎙', 2), ('𦐄', 1), ('梃', 4), ('Ĭ', 1), ('霔', 4), ('昐', 2), ('衖', 1), ('㥠', 8), ('愹', 2), ('侙', 5), ('趕', 5), ('錟', 1), ('Ґ', 3), ('ґ', 2), ('宲', 1), ('藼', 1), ('̆', 2), ('ᄊ', 3), ('ᵻ', 1), ('ᵿ', 1), ('햡', 1), ('瀕', 7), ('퀏', 1), ('Ⓚ', 1), ('ฺ', 1), ('훕', 9), ('ẻ', 7), ('旛', 2), ('簔', 2), ('杣', 5), ('쵤', 11), ('ẹ', 2), ('껜', 2), ('̊', 1), ('끠', 3), ('𝒩', 8), ('ỗ', 9), ('劻', 6), ('ᓄ', 1), ('Ư', 8), ('彡', 5), ('ỹ', 17), ('衤', 4), ('衄', 1), ('₫', 16), ('畹', 3), ('饃', 5), ('盔', 1), ('麫', 1), ('馒', 2), ('蹊', 3), ('儘', 2), ('穏', 3), ('抃', 13), ('銚', 4), ('₅', 2), ('₆', 15), ('쿌', 26), ('瑳', 1), ('콙', 1), ('焔', 1), ('ื', 10), ('ุ', 40), ('ใ', 9), ('ผ', 10), ('ฒ', 2), ('ธ', 11), ('ศ', 22), ('ถ', 7), ('ค', 31), ('〟', 2), ('긜', 1), ('뇐', 2), ('쿸', 1), ('퐈', 2), ('溏', 5), ('遾', 5), ('ณ', 13), ('埏', 7), ('\\x92', 1), ('熠', 8), ('ฎ', 2), ('侄', 4), ('浻', 3), ('墠', 1), ('ڠ', 8), ('曒', 2), ('ฟ', 4), ('瀿', 4), ('็', 7), ('์', 33), ('潡', 12), ('仐', 1), ('釰', 5), ('饁', 5), ('笭', 2), ('넑', 1), ('抉', 1), ('쪤', 1), ('촥', 4), ('堗', 1), ('珒', 3), ('돚', 2), ('稶', 6), ('蠑', 1), ('蚖', 1), ('嶨', 1), ('蕡', 2), ('𨯶', 3), ('鑂', 2), ('泑', 1), ('싡', 1), ('絛', 2), ('喁', 1), ('鏻', 5), ('腿', 8), ('䜤', 1), ('㤨', 1), ('哄', 1), ('쯊', 1), ('暒', 1), ('遘', 5), ('憓', 1), ('鱓', 1), ('둴', 2), ('뢨', 4), ('䦬', 1), ('蕟', 2), ('棖', 2), ('烿', 1), ('狷', 7), ('峕', 2), ('橚', 5), ('烷', 3), ('탖', 1), ('韠', 2), ('ᆂ', 3), ('槁', 1), ('愬', 2), ('菏', 2), ('긾', 1), ('妠', 2), ('볠', 2), ('⁺', 11), ('㉮', 2), ('㉯', 2), ('㉰', 2), ('\\uea4b', 1), ('ཕ', 17), ('崤', 2), ('玃', 2), ('浤', 3), ('湥', 1), ('勑', 3), ('晠', 1), ('癘', 6), ('砐', 3), ('鮒', 8), ('渇', 1), ('鴈', 5), ('喟', 3), ('釩', 3), ('薳', 3), ('帤', 1), ('㒚', 2), ('㺪', 2), ('鍔', 6), ('㻑', 3), ('㝡', 10), ('帿', 1), ('窠', 3), ('푱', 3), ('褆', 2), ('㴐', 3), ('眄', 1), ('淃', 5), ('倀', 2), ('顴', 2), ('臗', 2), ('懊', 2), ('娍', 1), ('濈', 4), ('漹', 5), ('넖', 3), ('洊', 2), ('篯', 1), ('妘', 4), ('昩', 2), ('祬', 4), ('憼', 3), ('榶', 1), ('茳', 3), ('頵', 4), ('삡', 3), ('薖', 1), ('燊', 2), ('终', 3), ('闅', 1), ('芪', 3), ('☮', 1), ('勀', 3), ('괏', 1), ('̡', 3), ('謜', 2), ('碾', 3), ('磑', 1), ('儞', 1), ('呢', 2), ('咪', 1), ('啊', 2), ('哦', 1), ('咿', 1), ('唔', 4), ('풔', 1), ('ᅒ', 4), ('ᅯ', 2), ('紉', 2), ('孑', 1), ('챱', 5), ('Ƕ', 2), ('ƕ', 1), ('𐍈', 1), ('酆', 10), ('斶', 1), ('涍', 4), ('淅', 4), ('纥', 1), ('𥙿', 1), ('縝', 9), ('柷', 2), ('漼', 2), ('儇', 2), ('槊', 7), ('攜', 6), ('熅', 1), ('瀍', 3), ('阎', 2), ('Ꮝ', 1), ('Ꮟ', 2), ('Ꮙ', 1), ('Ꮿ', 1), ('詺', 1), ('ᛃ', 2), ('ᛜ', 2), ('ᚷ', 1), ('ᚲ', 1), ('耣', 1), ('䎩', 2), ('暋', 2), ('鈇', 2), ('墰', 4), ('漈', 2), ('ἠ', 1), ('ஷ', 3), ('澺', 2), ('𥘉', 1), ('𥙆', 1), ('𥚻', 2), ('‛', 1), ('玿', 2), ('暝', 2), ('䄇', 1), ('裎', 1), ('蓁', 5), ('徂', 4), ('囀', 1), ('걋', 1), ('븅', 1), ('ٍ', 3), ('憨', 6), ('躋', 6), ('뤀', 1), ('햋', 2), ('傻', 1), ('誧', 4), ('煚', 3), ('쇡', 1), ('艀', 2), ('찣', 2), ('ฐ', 4), ('ซ', 3), ('ฬ', 1), ('ฉ', 4), ('崃', 2), ('ዓ', 6), ('ማ', 5), ('ሲ', 1), ('ታ', 2), ('ብ', 8), ('ሓ', 3), ('ቢ', 3), ('።', 5), ('ኺ', 1), ('ሳ', 2), ('ኣ', 4), ('ላ', 4), ('ቲ', 1), ('ጽ', 3), ('ኰ', 1), ('ኑ', 1), ('ዛ', 1), ('ዉ', 1), ('ጹ', 1), ('ኪ', 2), ('ቂ', 1), ('ጨ', 2), ('ጣ', 3), ('ቶ', 2), ('ቡ', 3), ('ኦ', 1), ('ዑ', 1), ('ኒ', 1), ('ህ', 1), ('ጻ', 1), ('ጃ', 1), ('읿', 2), ('ㅤ', 5), ('饍', 2), ('ҹ', 1), ('鄃', 2), ('溍', 9), ('刎', 6), ('澠', 4), ('鄗', 4), ('粁', 1), ('𐍐', 1), ('𐍑', 1), ('깩', 2), ('糀', 1), ('劳', 10), ('蝮', 2), ('ᇧ', 2), ('襸', 2), ('𡐔', 2), ('梠', 1), ('㥽', 2), ('䫨', 3), ('賱', 1), ('枻', 1), ('춉', 17), ('䟆', 1), ('趂', 1), ('鰻', 3), ('酩', 3), ('癲', 3), ('挚', 3), ('穷', 1), ('摰', 1), ('蟜', 4), ('̩', 2), ('斟', 2), ('\\u3130', 1), ('\\u318f', 1), ('ᄁ', 1), ('ᄄ', 1), ('ᄈ', 1), ('ᄋ', 3), ('ᄍ', 2), ('ᄎ', 1), ('ᄏ', 1), ('ᄐ', 1), ('ᄑ', 1), ('ᄓ', 1), ('ᄕ', 1), ('ᄖ', 1), ('ᄗ', 1), ('ᄘ', 1), ('ᄜ', 1), ('ᄝ', 1), ('ᄞ', 1), ('ᄟ', 1), ('ᄠ', 1), ('ᄡ', 1), ('ᄢ', 1), ('ᄣ', 1), ('ᄤ', 1), ('ᄦ', 1), ('ᄧ', 1), ('ᄨ', 1), ('ᄩ', 1), ('ᄪ', 1), ('ᄫ', 1), ('ᄬ', 1), ('ᄭ', 1), ('ᄮ', 1), ('ᄰ', 1), ('ᄱ', 1), ('ᄲ', 1), ('ᄳ', 1), ('ᄵ', 1), ('ᄶ', 1), ('ᄷ', 1), ('ᄹ', 1), ('ᄺ', 1), ('ᅓ', 1), ('ᅖ', 1), ('ᅗ', 1), ('ᅘ', 1), ('ᅙ', 1), ('ᅚ', 1), ('ᅛ', 1), ('ᅜ', 1), ('ᅝ', 1), ('ᅞ', 1), ('ᅢ', 1), ('ᅣ', 1), ('ᅤ', 1), ('ᅥ', 1), ('ᅦ', 1), ('ᅧ', 1), ('ᅨ', 1), ('ᅪ', 1), ('ᅫ', 1), ('ᅬ', 1), ('ᅭ', 1), ('ᅰ', 1), ('ᅱ', 1), ('ᅲ', 1), ('ᅳ', 2), ('ᅴ', 1), ('ᅹ', 1), ('ᅺ', 1), ('ᅻ', 1), ('ᅼ', 1), ('ᅽ', 2), ('ᅾ', 1), ('ᅿ', 1), ('ᆁ', 1), ('ᆄ', 1), ('ᆅ', 1), ('ᆆ', 1), ('ᆇ', 1), ('ᆈ', 1), ('ᆉ', 1), ('ᆊ', 1), ('ᆋ', 3), ('ᆌ', 1), ('ᆎ', 1), ('ᆏ', 1), ('ᆐ', 1), ('ᆑ', 1), ('ᆒ', 1), ('ᆓ', 1), ('ᆔ', 1), ('ᆕ', 1), ('ᆗ', 1), ('ᆘ', 1), ('ᆙ', 1), ('ᆚ', 3), ('ᆛ', 1), ('ᆟ', 1), ('ᆩ', 1), ('ᆪ', 1), ('ᆬ', 1), ('ᆭ', 1), ('ᆮ', 1), ('ᆱ', 1), ('ᆲ', 1), ('ᆳ', 1), ('ᆴ', 1), ('ᆵ', 1), ('ᆶ', 1), ('ᆸ', 1), ('ᆹ', 1), ('ᆺ', 1), ('ᆻ', 3), ('ᆼ', 1), ('ᆽ', 1), ('ᆾ', 1), ('ᆿ', 1), ('ᇀ', 1), ('ᇁ', 1), ('ᇂ', 1), ('ᇃ', 2), ('ᇄ', 1), ('ᇅ', 1), ('ᇆ', 1), ('ᇇ', 1), ('ᇈ', 1), ('ᇉ', 1), ('ᇊ', 1), ('ᇌ', 1), ('ᇍ', 1), ('ᇎ', 1), ('ᇏ', 1), ('ᇐ', 1), ('ᇑ', 1), ('ᇒ', 1), ('ᇓ', 1), ('ᇔ', 1), ('ᇕ', 1), ('ᇖ', 1), ('ᇗ', 1), ('ᇙ', 1), ('ᇛ', 1), ('ᇜ', 1), ('ᇞ', 1), ('ᇟ', 1), ('ᇠ', 1), ('ᇡ', 1), ('ᇢ', 1), ('ᇣ', 1), ('ᇤ', 1), ('ᇥ', 1), ('ᇦ', 1), ('ᇨ', 1), ('ᇩ', 1), ('ᇪ', 1), ('ᇬ', 1), ('ᇭ', 1), ('ᇮ', 1), ('ᇯ', 1), ('ᇱ', 1), ('ᇲ', 1), ('ᇳ', 1), ('ᇴ', 1), ('ᇵ', 1), ('ᇶ', 1), ('ᇷ', 1), ('ᇸ', 1), ('ᇹ', 1), ('ᇻ', 1), ('ᇼ', 1), ('ᇽ', 1), ('ᇾ', 1), ('ᇿ', 2), ('廑', 2), ('곻', 1), ('玘', 4), ('隞', 3), ('戔', 4), ('颂', 2), ('廪', 1), ('嚣', 1), ('沬', 1), ('娀', 3), ('繄', 1), ('囏', 3), ('玁', 4), ('繰', 3), ('蚡', 6), ('匄', 3), ('丐', 5), ('摎', 1), ('\\uf0a7', 1), ('袢', 1), ('頽', 1), ('逨', 1), ('墭', 1), ('殄', 3), ('泵', 2), ('艋', 6), ('舺', 6), ('吶', 3), ('鉝', 1), ('塉', 1), ('嶂', 3), ('墘', 4), ('놘', 16), ('碇', 4), ('嵙', 3), ('捩', 1), ('怵', 2), ('惴', 2), ('澟', 1), ('荖', 5), ('粄', 2), ('巔', 3), ('頚', 2), ('莿', 4), ('圮', 3), ('蝾', 3), ('螈', 3), ('擂', 1), ('ϒ', 1), ('芇', 1), ('懂', 3), ('遴', 5), ('挖', 1), ('壢', 5), ('陥', 2), ('蔴', 3), ('壠', 1), ('囉', 5), ('嘓', 2), ('漚', 2), ('噍', 1), ('哖', 1), ('駰', 6), ('塱', 2), ('洄', 1), ('푁', 31), ('咖', 2), ('啡', 2), ('梀', 1), ('댗', 1), ('咯', 1), ('鰂', 2), ('筲', 2), ('脷', 1), ('鑽', 5), ('滘', 3), ('잌', 15), ('⁰', 5), ('쇵', 4), ('巄', 2), ('屽', 1), ('휄', 3), ('쀼', 6), ('뀠', 1), ('傈', 1), ('僳', 1), ('윥', 1), ('盋', 1), ('螟', 4), ('噉', 1), ('儛', 1), ('擡', 1), ('🇷', 1), ('🇺', 1), ('칱', 1), ('궨', 7), ('煳', 1), ('韞', 3), ('趟', 1), ('让', 1), ('窦', 2), ('闼', 1), ('辅', 1), ('纯', 3), ('叠', 4), ('ᨣ', 1), ('ᩴ', 1), ('ᩤ', 1), ('ᨾ', 1), ('ᩮ', 1), ('ᩥ', 1), ('ᩬ', 1), ('ᨦ', 1), ('喦', 1), ('ừ', 19), ('ằ', 10), ('篙', 3), ('땁', 2), ('涮', 1), ('쾻', 1), ('썅', 4), ('ฯ', 1), ('葷', 4), ('ǰ', 3), ('蘐', 1), ('粢', 1), ('鯗', 1), ('Ă', 7), ('椷', 2), ('蜆', 5), ('蚬', 1), ('㺩', 2), ('壷', 11), ('苫', 3), ('홤', 3), ('𩇕', 2), ('焠', 1), ('걺', 3), ('罃', 6), ('騑', 1), ('絺', 2), ('圂', 2), ('陘', 6), ('芈', 6), ('黶', 3), ('躒', 2), ('遅', 6), ('羆', 1), ('薷', 2), ('驩', 7), ('絰', 3), ('핮', 4), ('덭', 2), ('헰', 2), ('젆', 1), ('늕', 1), ('윛', 2), ('뮺', 1), ('맆', 2), ('팯', 2), ('늒', 1), ('找', 4), ('棊', 2), ('淆', 5), ('穝', 1), ('惛', 63), ('濸', 1), ('燝', 1), ('雚', 1), ('弹', 1), ('舰', 4), ('贴', 1), ('郳', 5), ('駘', 4), ('岠', 1), ('蠆', 3), ('🐍', 1), ('乸', 1), ('ǩ', 2), ('偲', 1), ('輟', 9), ('㡯', 1), ('쫗', 2), ('娵', 1), ('孖', 2), ('봣', 1), ('滲', 3), ('쐑', 1), ('삻', 2), ('粦', 1), ('팑', 1), ('궷', 1), ('湕', 2), ('\\u2061', 9), ('Ą', 2), ('놧', 1), ('ჳ', 1), ('ჲ', 3), ('뺴', 6), ('└', 4), ('┐', 1), ('嫖', 3), ('筽', 5), ('轰', 1), ('鑣', 1), ('蹤', 4), ('㩼', 1), ('ʱ', 1), ('ʈ', 5), ('췡', 1), ('孊', 1), ('袷', 2), ('唳', 1), ('监', 3), ('స', 1), ('ర', 3), ('్', 5), ('వ', 1), ('ే', 1), ('ప', 1), ('ల', 4), ('ి', 2), ('ా', 4), ('ధ', 1), ('క', 2), ('ృ', 1), ('ష', 1), ('ణ', 1), ('醂', 1), ('ץ', 5), ('잂', 1), ('Ӷ', 1), ('ӷ', 1), ('暅', 2), ('ҟ', 1), ('涸', 1), ('舗', 5), ('餺', 1), ('飥', 1), ('ŷ', 2), ('骜', 1), ('ҥ', 2), ('ӡ', 2), ('Ǯ', 1), ('ǯ', 1), ('Ҥ', 1), ('꿏', 2), ('狃', 4), ('琂', 4), ('ể', 23), ('얠', 5), ('旵', 4), ('啚', 2), ('霬', 1), ('䃤', 1), ('巚', 2), ('溆', 1), ('鷫', 1), ('𤦛', 1), ('玎', 10), ('滮', 1), ('澋', 1), ('𤂿', 1), ('𧝀', 1), ('䃏', 2), ('侹', 5), ('摶', 1), ('倓', 2), ('磷', 6), ('裒', 2), ('儐', 2), ('𡷗', 1), ('㠎', 2), ('傪', 1), ('棪', 3), ('驌', 1), ('驊', 1), ('涀', 1), ('銊', 1), ('柅', 1), ('楀', 1), ('𤇜', 1), ('埞', 1), ('𥖭', 1), ('鉐', 3), ('赛', 15), ('组', 9), ('췽', 1), ('諵', 1), ('𤍅', 1), ('输', 4), ('嗄', 2), ('맃', 1), ('钓', 3), ('Ằ', 1), ('Ắ', 1), ('Ẳ', 1), ('ẳ', 2), ('Ẵ', 1), ('Ặ', 1), ('炖', 3), ('왹', 8), ('蛞', 1), ('̝', 5), ('싻', 4), ('뻰', 2), ('頠', 5), ('\\ue8fc', 1), ('蘧', 1), ('\\uf0f0', 1), ('遽', 10), ('굥', 3), ('쳘', 2), ('譁', 1), ('郖', 1), ('卅', 1), ('歂', 3), ('庲', 2), ('郗', 5), ('悺', 1), ('嫻', 2), ('詒', 3), ('愨', 1), ('⑲', 2), ('嶹', 1), ('鑾', 5), ('ẫ', 4), ('ὰ', 11), ('숔', 1), ('☓', 2), ('銢', 1), ('诚', 2), ('睧', 1), ('俰', 1), ('渶', 4), ('쨀', 1), ('褱', 1), ('梂', 1), ('埬', 4), ('栘', 4), ('麊', 2), ('ỷ', 5), ('逴', 2), ('Ứ', 6), ('昵', 3), ('簠', 8), ('簋', 5), ('뇻', 3), ('꺠', 2), ('깖', 1), ('່', 3), ('닞', 1), ('熑', 1), ('픝', 1), ('ٌ', 4), ('𨇗', 1), ('얭', 22), ('됏', 2), ('熿', 3), ('疸', 3), ('虺', 3), ('푠', 10), ('럐', 2), ('殲', 6), ('鑊', 8), ('䧄', 1), ('澅', 2), ('鶹', 1), ('檐', 10), ('榦', 2), ('僥', 1), ('묹', 2), ('옞', 1), ('먽', 2), ('곙', 4), ('팦', 1), ('ฆ', 5), ('洢', 1), ('Ƶ', 1), ('畋', 1), ('瑑', 3), ('褻', 2), ('坽', 2), ('锲', 1), ('뜹', 1), ('垵', 1), ('쟬', 1), ('𢓜', 2), ('詻', 3), ('欚', 2), ('芄', 2), ('芃', 2), ('戬', 1), ('쥑', 1), ('陬', 4), ('燇', 1), ('鑵', 1), ('鮟', 2), ('鱇', 2), ('̣', 1), ('蜷', 4), ('槹', 10), ('砺', 1), ('鴞', 1), ('蕁', 2), ('Ǧ', 5), ('苹', 3), ('犼', 1), ('甍', 1), ('嚥', 4), ('㹜', 2), ('쩩', 1), ('鹦', 1), ('鹉', 1), ('栅', 2), ('雳', 2), ('ڨ', 1), ('頏', 1), ('ʽ', 1), ('봊', 1), ('络', 6), ('எ', 1), ('큥', 16), ('㈎', 2), ('㈏', 1), ('㈐', 1), ('饲', 1), ('囧', 2), ('囗', 4), ('ຼ', 1), ('້', 6), ('ໍ', 5), ('Ẽ', 3), ('Ầ', 1), ('Ẩ', 2), ('Ẫ', 1), ('Ậ', 1), ('Ĩ', 2), ('Ũ', 2), ('搔', 6), ('Ɖ', 2), ('ɖ', 5), ('̧', 10), ('న', 2), ('గ', 1), ('జ', 1), ('ు', 1), ('ొ', 1), ('ం', 1), ('డ', 1), ('腯', 2), ('珑', 1), ('畺', 2), ('į', 6), ('Ỹ', 3), ('녬', 11), ('袾', 1), ('慳', 46), ('흝', 2), ('㈔', 5), ('Ṽ', 2), ('뮝', 1), ('ฤ', 2), ('˥', 1), ('˦', 1), ('˧', 1), ('纔', 8), ('駛', 4), ('ģ', 3), ('戛', 3), ('禸', 1), ('鐤', 1), ('㖋', 1), ('悙', 1), ('ᚦ', 2), ('讞', 3), ('Ė', 3), ('峇', 1), ('轮', 2), ('选', 2), ('ſ', 6), ('Ǎ', 3), ('Ǌ', 2), ('ǋ', 1), ('ǌ', 1), ('輾', 7), ('Ģ', 2), ('⊲', 1), ('냬', 3), ('嗒', 2), ('됬', 4), ('憸', 1), ('盅', 1), ('쎆', 1), ('𢢜', 5), ('軔', 1), ('Ȧ', 2), ('ȧ', 1), ('涎', 2), ('謇', 7), ('Ẃ', 2), ('ẃ', 1), ('穙', 1), ('閖', 1), ('닾', 1), ('Ɨ', 3), ('Џ', 3), ('癢', 2), ('璭', 2), ('𧪚', 1), ('鐳', 2), ('臯', 2), ('㯋', 1), ('貟', 1), ('旰', 3), ('慊', 3), ('鐺', 1), ('Ѵ', 1), ('Ԝ', 1), ('鬻', 3), ('궴', 1), ('羗', 2), ('鷥', 1), ('붏', 1), ('檥', 5), ('𢢝', 1), ('ⵍ', 1), ('ἢ', 6), ('ὧ', 1), ('盝', 2), ('梡', 4), ('𥘺', 1), ('柜', 1), ('盯', 1), ('喋', 3), ('莅', 7), ('抔', 3), ('裶', 3), ('彄', 2), ('☢', 1), ('庈', 1), ('郜', 2), ('寪', 1), ('鄑', 1), ('価', 9), ('矽', 1), ('刕', 3), ('眯', 1), ('禘', 2), ('燽', 3), ('俀', 2), ('̂', 2), ('燬', 1), ('谐', 2), ('裯', 1), ('郈', 1), ('嘿', 1), ('Ԁ', 2), ('ԁ', 1), ('讙', 2), ('Ӹ', 2), ('㳣', 2), ('啾', 2), ('粿', 1), ('Ԅ', 2), ('ԅ', 1), ('Ӕ', 3), ('鞌', 1), ('妟', 2), ('奻', 2), ('鉬', 1), ('夂', 4), ('仌', 1), ('\\ue46c', 1), ('𪊷', 1), ('餒', 1), ('卭', 1), ('Ӻ', 2), ('ӻ', 1), ('Ҙ', 2), ('ҙ', 1), ('Љ', 2), ('👍', 2), ('殳', 3), ('疄', 1), ('鄎', 1), ('砌', 15), ('峀', 2), ('驁', 3), ('嗤', 1), ('煲', 1), ('珲', 5), ('额', 2), ('瑷', 2), ('鸥', 1), ('逊', 2), ('盍', 2), ('ゝ', 1), ('㥛', 1), ('闋', 1), ('泺', 1), ('赉', 2), ('胪', 1), ('뵬', 24), ('Ҝ', 2), ('ҝ', 1), ('엩', 1), ('媳', 1), ('̌', 1), ('懦', 2), ('䆃', 4), ('떪', 1), ('쟇', 1), ('ẗ', 2), ('쇰', 1), ('腩', 1), ('逄', 4), ('ẟ', 2), ('Ǵ', 3), ('Ҭ', 2), ('ҭ', 1), ('瑫', 1), ('璲', 4), ('轑', 3), ('얫', 1), ('Ӽ', 3), ('ӽ', 1), ('Ӿ', 2), ('ӿ', 1), ('է', 4), ('蝂', 1), ('俐', 1), ('盨', 1), ('➜', 1), ('秔', 1), ('\\uf538', 1), ('蘅', 4), ('㵒', 2), ('Ҕ', 2), ('Ҩ', 2), ('ҩ', 1), ('ɥ', 3), ('Ҽ', 2), ('ҽ', 1), ('Ҿ', 1), ('ኔ', 1), ('袉', 1), ('衦', 1), ('Ⱌ', 1), ('Ɯ', 2), ('₇', 7), ('拡', 2), ('届', 6), ('炻', 1), ('옽', 1), ('噜', 1), ('嚕', 1), ('ು', 4), ('ಲ', 4), ('킽', 1), ('矺', 1), ('១', 1), ('혯', 1), ('霌', 1), ('𤣰', 1), ('앛', 1), ('탒', 1), ('់', 2), ('蟇', 1), ('瀦', 2), ('᾽', 4), ('먗', 1), ('உ', 1), ('ஊ', 1), ('‼', 1), ('潏', 1), ('ٹ', 3), ('삳', 2), ('༄', 2), ('ླ', 5), ('걜', 2), ('ཏ', 1), ('ཐ', 8), ('ྣ', 5), ('ཛ', 2), ('ྐ', 7), ('꾱', 2), ('ཚ', 6), ('쾬', 7), ('켭', 1), ('ཅ', 3), ('ྦ', 1), ('ཟ', 5), ('蕎', 1), ('塐', 1), ('郇', 4), ('텦', 4), ('翛', 3), ('褎', 2), ('珛', 2), ('럲', 1), ('餡', 1), ('繃', 1), ('刲', 1), ('곈', 4), ('舳', 7), ('艫', 1), ('筦', 3), ('椧', 4), ('壶', 1), ('횻', 4), ('昣', 1), ('鰾', 1), ('퍙', 6), ('謩', 2), ('坩', 1), ('⁽', 5), ('둿', 2), ('볌', 1), ('흴', 5), ('䌙', 4), ('⫶', 1), ('뎗', 1), ('钁', 1), ('晢', 1), ('댛', 5), ('挻', 3), ('㽔', 2), ('迨', 2), ('ἆ', 1), ('豳', 7), ('쾩', 2), ('핢', 1), ('䌖', 2), ('龢', 2), ('絟', 2), ('忞', 2), ('벹', 1), ('붘', 1), ('翶', 1), ('傚', 1), ('檝', 2), ('쳣', 5), ('璛', 3), ('𤪤', 1), ('熀', 3), ('𣈫', 1), ('嵱', 1), ('鏷', 1), ('焯', 3), ('澓', 1), ('瀡', 1), ('筭', 1), ('傛', 2), ('졶', 2), ('콛', 3), ('慙', 6), ('猌', 1), ('樀', 2), ('㯙', 1), ('梲', 4), ('綮', 2), ('늣', 6), ('㗡', 2), ('𤐌', 1), ('釆', 1), ('𠍱', 2), ('㴒', 3), ('㮋', 1), ('𤋺', 1), ('콀', 4), ('疣', 4), ('噤', 1), ('뻭', 1), ('臀', 2), ('獳', 2), ('黴', 1), ('菤', 2), ('朓', 3), ('喵', 3), ('욎', 1), ('崟', 2), ('壖', 1), ('玒', 1), ('𤥽', 3), ('㤚', 2), ('㦀', 1), ('𪬦', 1), ('밓', 1), ('𩔇', 1), ('癭', 4), ('琁', 1), ('伟', 6), ('϶', 1), ('鋮', 2), ('倔', 1), ('㝅', 1), ('鱣', 2), ('퀑', 10), ('Ơ', 1), ('ຸ', 3), ('¯', 1), ('逷', 1), ('讷', 1), ('皡', 1), ('楱', 1), ('鳃', 2), ('핃', 1), ('夛', 1), ('胠', 1), ('膅', 1), ('荂', 1), ('迗', 1), ('㷃', 1), ('奣', 1), ('😳', 1), ('뤳', 1), ('뻇', 1), ('ई', 2), ('걑', 2), ('耭', 3), ('ຳ', 2), ('煆', 1), ('璖', 2), ('ⵓ', 1), ('隲', 2), ('싨', 1), ('싢', 1), ('핛', 1), ('싮', 1), ('馼', 1), ('ῇ', 1), ('ὡ', 5), ('ὠ', 2), ('ἂ', 2), ('ἃ', 2), ('叺', 3), ('惀', 3), ('璍', 1), ('㬇', 1), ('焌', 2), ('餈', 2), ('熩', 2), ('떱', 2), ('ỡ', 1), ('쌥', 2), ('裹', 2), ('嫣', 2), ('媖', 1), ('鵷', 1), ('鳞', 2), ('鱵', 1), ('鴆', 7), ('뺙', 1), ('頞', 3), ('哳', 1), ('嗢', 5), ('蠔', 1), ('鮞', 1), ('Ἥ', 1), ('ϲ', 2), ('渽', 4), ('녅', 1), ('鈎', 2), ('팈', 2), ('ರ', 4), ('ಜ', 2), ('ೀ', 1), ('ಾ', 5), ('ಂ', 1), ('ತ', 1), ('쾽', 1), ('팉', 2), ('踕', 1), ('찎', 1), ('菎', 3), ('蒻', 4), ('蒟', 1), ('淊', 1), ('薜', 1), ('鄀', 2), ('뜁', 1), ('棼', 1), ('葂', 1), ('쯘', 4), ('㻂', 1), ('慚', 91), ('\\uf0e0', 6), ('珆', 3), ('宖', 1), ('𪣢', 1), ('捿', 3), ('쬬', 2), ('慂', 2), ('榰', 3), ('貲', 1), ('㟓', 2), ('잩', 2), ('菉', 6), ('㻩', 2), ('蜻', 1), ('蛉', 1), ('㸂', 2), ('ྔ', 1), ('𝕡', 1), ('ꜩ', 1), ('ꜭ', 1), ('ꜫ', 1), ('暟', 2), ('㶨', 2), ('淰', 3), ('챡', 9), ('偦', 2), ('罠', 1), ('🎼', 1), ('핦', 1), ('㵑', 1), ('栯', 5), ('झ', 1), ('𡵻', 1), ('卸', 1), ('侾', 3), ('痹', 2), ('濺', 3), ('囁', 1), ('嗓', 2), ('俪', 1), ('凛', 2), ('꽛', 6), ('妞', 2), ('瘋', 4), ('怗', 1), ('曬', 2), ('蜎', 1), ('鷼', 1), ('焱', 1), ('贏', 2), ('靠', 4), ('搆', 15), ('ℏ', 2), ('鄺', 1), ('咁', 2), ('짫', 7), ('嘢', 1), ('撬', 4), ('됫', 3), ('夠', 2), ('젴', 1), ('콫', 1), ('밗', 1), ('狡', 1), ('劬', 5), ('姹', 1), ('叻', 1), ('扼', 5), ('誐', 3), ('嚩', 3), ('㝹', 4), ('곲', 1), ('⁷', 2), ('坌', 1), ('뱜', 2), ('텛', 1), ('릍', 3), ('𐰆', 2), ('𐱃', 4), ('𐰕', 1), ('𐰺', 1), ('佷', 3), ('悷', 1), ('靄', 2), ('爍', 1), ('鞴', 3), ('颯', 7), ('옄', 2), ('栐', 2), ('鞞', 6), ('∆', 9), ('澲', 2), ('澰', 1), ('潒', 1), ('篾', 9), ('𥛚', 1), ('핒', 1), ('凁', 1), ('죳', 1), ('昢', 1), ('椄', 6), ('卮', 1), ('箂', 1), ('릏', 1), ('钉', 1), ('솑', 1), ('娸', 1), ('溙', 1), ('汃', 1), ('璾', 1), ('㫾', 1), ('槲', 1), ('瑴', 9), ('븟', 1), ('땍', 1), ('陴', 1), ('淍', 4), ('筺', 2), ('靫', 2), ('솩', 1), ('嚏', 1), ('塯', 2), ('鐄', 1), ('䈲', 1), ('墷', 1), ('垚', 1), ('곘', 1), ('咕', 1), ('喱', 1), ('ʙ', 1), ('揶', 1), ('揄', 1), ('佉', 2), ('絙', 2), ('紾', 1), ('払', 10), ('♋', 1), ('蝎', 1), ('Ύ', 1), ('𧺝', 2), ('璫', 11), ('ோ', 2), ('⛎', 2), ('̴', 1), ('蕣', 1), ('됌', 1), ('刱', 4), ('圩', 1), ('睔', 1), ('쟃', 1), ('̲', 5), ('̨', 4), ('犫', 1), ('郟', 7), ('笁', 3), ('缽', 3), ('悬', 1), ('∉', 2), ('⊇', 1), ('좍', 1), ('雘', 3), ('킈', 1), ('呟', 1), ('攢', 2), ('臶', 1), ('Ꮵ', 1), ('Ᏻ', 1), ('Ꭶ', 1), ('Ꮕ', 1), ('Ꮒ', 1), ('霏', 1), ('嘸', 1), ('这', 3), ('过', 3), ('队', 5), ('见', 5), ('섻', 1), ('슿', 1), ('☊', 2), ('☋', 2), ('℞', 2), ('恍', 1), ('惚', 1), ('痍', 4), ('ὥ', 1), ('쩝', 3), ('녙', 1), ('慼', 2), ('摞', 1), ('녝', 1), ('剥', 2), ('摄', 1), ('◕', 7), ('猾', 2), ('鸠', 1), ('嗶', 2), ('瀲', 1), ('鶿', 1), ('⟶', 1), ('泯', 3), ('됢', 1), ('冴', 2), ('豔', 2), ('瞯', 1), ('ḡ', 1), ('嗔', 7), ('☌', 1), ('☍', 1), ('匋', 1), ('ˣ', 19), ('ὒ', 2), ('㴠', 1), ('얬', 2), ('瀯', 5), ('谱', 5), ('姃', 2), ('얾', 4), ('盺', 1), ('ী', 8), ('ু', 2), ('撼', 2), ('퍁', 1), ('룯', 1), ('搋', 2), ('썪', 1), ('혱', 1), ('拕', 3), ('拖', 2), ('晓', 5), ('ಮ', 3), ('ೈ', 1), ('ಸ', 4), ('ೂ', 1), ('ಯ', 1), ('从', 1), ('갏', 1), ('얺', 2), ('\\U0010be72', 2), ('嘬', 1), ('抳', 2), ('閡', 1), ('덯', 1), ('뱓', 1), ('娯', 2), ('옾', 2), ('忝', 5), ('迊', 4), ('垄', 1), ('伙', 2), ('财', 14), ('缻', 2), ('珮', 1), ('闫', 2), ('艳', 2), ('뜼', 1), ('训', 2), ('孵', 2), ('檛', 1), ('頣', 2), ('뻿', 1), ('样', 4), ('㘾', 1), ('壔', 1), ('喎', 2), ('攫', 1), ('폳', 2), ('읳', 1), ('륱', 1), ('沕', 1), ('椙', 1), ('鋗', 1), ('\\uf09e', 5), ('礦', 3), ('坨', 1), ('樭', 1), ('륫', 1), ('籁', 2), ('閠', 1), ('刖', 1), ('촣', 1), ('薀', 1), ('숡', 2), ('迵', 1), ('떙', 2), ('邟', 1), ('䧹', 1), ('蚠', 1), ('鬷', 3), ('鄩', 3), ('訾', 7), ('嚚', 2), ('雈', 1), ('鄏', 1), ('鄻', 1), ('蕕', 1), ('撐', 1), ('屐', 4), ('嚭', 1), ('湩', 2), ('椓', 2), ('聵', 1), ('釁', 2), ('祎', 1), ('㶱', 1), ('㖨', 1), ('钗', 1), ('褾', 2), ('襈', 1), ('骻', 1), ('騙', 2), ('Ⓕ', 1), ('鷂', 4), ('㺹', 1), ('䵣', 1), ('럅', 2), ('髸', 1), ('딯', 2), ('퓬', 1), ('耷', 1), ('㵮', 1), ('瀠', 1), ('䄷', 1), ('斁', 1), ('隽', 2), ('핝', 1), ('郄', 1), ('晗', 1), ('㽥', 1), ('맠', 1), ('릫', 1), ('싿', 1), ('垜', 1), ('鈒', 3), ('颖', 3), ('咐', 2), ('≲', 2), ('覸', 1), ('鷳', 2), ('ٔ', 1), ('ƣ', 7), ('鄅', 4), ('牼', 1), ('貙', 1), ('愆', 1), ('妵', 1), ('鼬', 1), ('溷', 1), ('賸', 1), ('茷', 3), ('鉏', 5), ('졷', 1), ('盌', 1), ('襬', 1), ('ќ', 1), ('轓', 1), ('宺', 1), ('穼', 1), ('窙', 1), ('狻', 1), ('筅', 4), ('鎲', 3), ('减', 1), ('阤', 1), ('玪', 1), ('➝', 2), ('솏', 1), ('혠', 11), ('掏', 1), ('쪗', 1), ('莔', 1), ('𧟨', 1), ('㷏', 1), ('咺', 2), ('穨', 1), ('题', 2), ('审', 2), ('试', 3), ('办', 3), ('卖', 1), ('颁', 1), ('释', 3), ('嚢', 1), ('霮', 1), ('봥', 1), ('좧', 1), ('랒', 1), ('娙', 1), ('净', 3), ('倦', 3), ('麏', 2), ('潺', 3), ('湲', 2), ('滙', 1), ('彿', 5), ('뒥', 2), ('竴', 3), ('稧', 23), ('庳', 1), ('섧', 1), ('迿', 1), ('燄', 3), ('쎾', 1), ('翃', 1), ('큣', 1), ('궇', 1), ('섡', 2), ('딲', 1), ('譖', 1), ('禨', 1), ('嶻', 1), ('㒤', 1), ('栒', 4), ('穟', 1), ('逿', 1), ('詎', 1), ('詖', 1), ('牔', 1), ('殴', 2), ('芘', 1), ('揔', 1), ('훝', 2), ('眚', 3), ('汩', 1), ('亟', 6), ('\\ue3a8', 2), ('蚤', 4), ('閫', 4), ('獦', 1), ('瓴', 1), ('獍', 1), ('慠', 1), ('졉', 3), ('秏', 1), ('궅', 1), ('戺', 1), ('艧', 1), ('栿', 2), ('柎', 4), ('櫡', 2), ('좃', 2), ('偗', 1), ('峑', 3), ('婧', 1), ('薍', 1), ('㞳', 1), ('堕', 2), ('緤', 1), ('虡', 3), ('皥', 1), ('鋕', 1), ('扭', 2), ('\\uec05', 1), ('鄫', 1), ('‴', 1), ('誴', 1), ('㙫', 4), ('伾', 2), ('ᆣ', 2), ('馧', 2), ('畛', 5), ('椗', 1), ('楘', 1), ('湝', 1), ('祟', 1), ('馀', 1), ('腄', 2), ('荡', 2), ('褋', 1), ('誄', 4), ('홯', 2), ('켙', 1), ('鋾', 1), ('🧙', 1), ('朸', 1), ('扐', 1), ('𡪿', 1), ('㫻', 1), ('ꕜ', 1), ('礝', 1), ('ℶ', 1), ('㥔', 1), ('骝', 1), ('猖', 1), ('ए', 2), ('鏊', 1), ('昙', 2), ('惔', 1), ('泇', 1), ('标', 3), ('椀', 2), ('밒', 2), ('湙', 3), ('溵', 5), ('譢', 1), ('𧬪', 1), ('멪', 1), ('쳠', 1), ('块', 3), ('贒', 1), ('艎', 5), ('㑽', 1), ('滫', 1), ('㙐', 2), ('鎏', 1), ('戭', 1), ('죨', 1), ('띅', 1), ('궡', 1), ('텥', 2), ('␣', 12), ('鹏', 3), ('计', 10), ('销', 2), ('绘', 1), ('辆', 2), ('测', 1), ('篮', 2), ('奋', 2), ('谨', 1), ('喾', 1), ('չ', 4), ('闟', 3), ('愽', 1), ('𩡝', 1), ('霦', 1), ('沍', 1), ('箎', 1), ('睆', 1), ('鈑', 2), ('숖', 1), ('騵', 1), ('騟', 2), ('툘', 1), ('쐇', 2), ('ἷ', 1), ('睒', 1), ('徯', 1), ('鍹', 1), ('浔', 1), ('슼', 1), ('悸', 1), ('ᾷ', 2), ('ᾴ', 2), ('ῄ', 1), ('璂', 4), ('溭', 3), ('巋', 1), ('¦', 27), ('댇', 1), ('흼', 1), ('罍', 3), ('犴', 2), ('쳡', 1), ('䤴', 1), ('黝', 1), ('짮', 1), ('鮈', 1), ('睃', 1), ('郚', 2), ('뫙', 1), ('瘉', 1), ('䘙', 1), ('愓', 1), ('Ǚ', 1), ('噬', 3), ('嗑', 1), ('굦', 1), ('殇', 1), ('骘', 2), ('聟', 1), ('揅', 1), ('넏', 1), ('겂', 1), ('뉩', 3), ('𐰪', 1), ('𐰸', 2), ('邡', 3), ('䑸', 1), ('䎱', 1), ('辵', 2), ('忄', 7), ('㣺', 1), ('🎉', 1), ('脃', 1), ('赟', 1), ('滢', 1), ('铎', 1), ('얔', 2), ('蘤', 1), ('맫', 1), ('\\u200a', 2), ('걘', 1), ('闺', 2), ('㉠', 2), ('㉡', 2), ('㉢', 1), ('쩄', 3), ('릌', 1), ('ᐅ', 1), ('䶵', 1), ('龡', 1), ('퀍', 5), ('쎘', 1), ('섵', 1), ('杹', 1), ('㬦', 1), ('∓', 2), ('悫', 1), ('枘', 1), ('㵙', 1), ('뇍', 1), ('댸', 1), ('깄', 1), ('豕', 1), ('ᾳ', 1), ('醓', 1), ('凪', 1), ('ℷ', 1), ('滭', 1), ('銲', 1), ('쟎', 1), ('∗', 2), ('傜', 2), ('迸', 1), ('殽', 2), ('谋', 1), ('뿝', 1), ('ȃ', 1), ('曘', 3), ('㥌', 1), ('慥', 1), ('墵', 1), ('瀓', 3), ('檼', 1), ('趼', 1), ('鶚', 2), ('厮', 1), ('쭹', 1), ('嶔', 1), ('𡼾', 1), ('筞', 1), ('爚', 1), ('豰', 1), ('騤', 1), ('蕴', 1), ('ֽ', 2), ('錤', 2), ('瑲', 10), ('〝', 1), ('岉', 2), ('薆', 4), ('硢', 1), ('핲', 1), ('䇏', 1), ('樛', 1), ('譼', 1), ('𧫷', 1), ('ʗ', 1), ('ǁ', 2), ('娡', 1), ('嶚', 1), ('淦', 3), ('ꡒ', 2), ('ꡓ', 1), ('쥤', 1), ('閿', 1), ('떘', 1), ('뢀', 1), ('层', 2), ('频', 11), ('앃', 2), ('돵', 3), ('娫', 2), ('⊔', 1), ('钩', 1), ('듹', 1), ('哱', 2), ('鏗', 2), ('慱', 1), ('𣲲', 1), ('㬐', 1), ('嶈', 1), ('釪', 1), ('禌', 2), ('뷕', 2), ('埱', 1), ('繋', 1), ('鏟', 2), ('贾', 1), ('贼', 1), ('请', 1), ('赇', 1), ('讯', 2), ('狱', 1), ('违', 1), ('㕎', 1), ('馺', 1), ('뷀', 1), ('ɳ', 2), ('끕', 2), ('퇌', 2), ('핔', 2), ('횢', 1), ('묺', 2), ('붛', 1), ('ǖ', 1), ('㰒', 1), ('煃', 1), ('㻶', 3), ('煓', 2), ('忼', 1), ('졜', 2), ('咊', 1), ('𝒮', 2), ('𢈻', 1), ('ῤ', 1), ('鳯', 1), ('㼀', 1), ('栝', 1), ('礿', 1), ('嫕', 1), ('翀', 1), ('拪', 1), ('놂', 2), ('갃', 1), ('佥', 1), ('录', 2), ('读', 1), ('堥', 1), ('삜', 1), ('☃', 12), ('觟', 1), ('阖', 1), ('闾', 1), ('鶩', 2), ('䪸', 1), ('ȵ', 1), ('稺', 1), ('浯', 5), ('懁', 1), ('ᜊ', 5), ('ᜌ', 3), ('ᜒ', 3), ('᜔', 4), ('ᜈ', 1), ('ᜇ', 1), ('ᜎ', 1), ('ᜆ', 1), ('氂', 1), ('벉', 1), ('蝉', 2), ('䋋', 1), ('纉', 1), ('奅', 1), ('𫢓', 3), ('̻', 4), ('Ẓ', 2), ('紈', 2), ('嬛', 2), ('읁', 2), ('뫁', 1), ('칞', 1), ('렂', 1), ('놄', 1), ('椋', 2), ('钮', 2), ('폏', 1), ('拊', 4), ('椴', 3), ('徼', 4), ('闻', 2), ('漷', 1), ('媲', 1), ('섨', 1), ('敺', 1), ('淓', 1), ('⸮', 1), ('؟', 1), ('憖', 1), ('斾', 1), ('邲', 2), ('筥', 1), ('徧', 3), ('斿', 3), ('𨮁', 1), ('榑', 1), ('蘓', 2), ('鯢', 1), ('螴', 1), ('蜳', 1), ('黼', 1), ('黻', 1), ('漙', 1), ('딭', 1), ('𣴓', 1), ('〠', 1), ('⁈', 1), ('⁉', 1), ('ᚨ', 2), ('ᛚ', 1), ('ᚺ', 1), ('ᛉ', 1), ('竢', 2), ('캪', 6), ('寉', 1), ('ሁ', 1), ('ዊ', 1), ('״', 1), ('씜', 1), ('콭', 1), ('晪', 2), ('旕', 1), ('霣', 1), ('雊', 1), ('忔', 1), ('𤈎', 1), ('㷜', 1), ('阝', 2), ('胊', 4), ('𤍤', 2), ('╲', 1), ('晑', 1), ('焴', 1), ('燀', 1), ('狦', 2), ('撣', 2), ('曩', 1), ('숰', 3), ('橑', 1), ('瘣', 1), ('뽓', 2), ('椺', 1), ('柊', 1), ('̟', 6), ('̠', 5), ('ʉ', 1), ('蝿', 1), ('勋', 1), ('杅', 3), ('𣜬', 1), ('堿', 1), ('蘟', 1), ('돽', 2), ('嶰', 1), ('垰', 1), ('喣', 2), ('❍', 3), ('쩽', 2), ('➁', 6), ('➂', 4), ('➃', 2), ('➄', 1), ('渣', 6), ('䕺', 1), ('錀', 1), ('桴', 4), ('裲', 2), ('糹', 1), ('熢', 6), ('嘩', 1), ('焘', 2), ('ڃ', 1), ('ۉ', 1), ('竫', 3), ('媦', 1), ('髒', 1), ('맀', 1), ('㻇', 2), ('冾', 3), ('㞐', 1), ('𨋀', 2), ('瘻', 2), ('帐', 1), ('硤', 1), ('籞', 3), ('㒠', 3), ('짗', 1), ('蓐', 1), ('糿', 1), ('䊵', 1), ('筱', 4), ('吿', 1), ('ᚠ', 1), ('ᚢ', 1), ('ᚬ', 1), ('ᚱ', 1), ('ᚴ', 1), ('뒵', 1), ('豷', 1), ('佸', 3), ('禬', 1), ('㳟', 2), ('娚', 1), ('隳', 1), ('飪', 1), ('瓡', 1), ('앜', 1), ('혤', 4), ('猎', 3), ('筷', 1), ('巇', 1), ('縈', 1), ('ໂ', 4), ('ຣ', 5), ('ໃ', 1), ('ຽ', 2), ('硖', 1), ('帅', 2), ('剉', 3), ('좽', 1), ('톺', 2), ('咋', 2), ('๊', 2), ('嗧', 1), ('㶊', 1), ('茌', 1), ('嬗', 1), ('軑', 4), ('姶', 3), ('﨟', 1), ('嵜', 1), ('﨑', 2), ('穐', 1), ('儻', 2), ('谊', 1), ('ٰ', 3), ('췩', 1), ('굑', 2), ('祫', 1), ('씉', 1), ('롲', 1), ('髀', 1), ('𣈶', 1), ('鱠', 3), ('婸', 1), ('涷', 1), ('ɘ', 1), ('颤', 2), ('齁', 1), ('钵', 2), ('ʅ', 1), ('鳝', 1), ('搞', 3), ('翘', 1), ('屄', 1), ('謱', 1), ('謰', 1), ('崽', 4), ('壳', 1), ('跍', 1), ('酽', 1), ('估', 2), ('谙', 1), ('讨', 1), ('耍', 1), ('给', 3), ('裤', 1), ('还', 2), ('啬', 1), ('㧯', 1), ('𢭃', 1), ('𤆵', 1), ('𨈓', 1), ('𡘧', 1), ('嫑', 1), ('돴', 3), ('섓', 3), ('멏', 1), ('뺩', 2), ('\\U000f0851', 3), ('瘼', 1), ('ꡕ', 9), ('摟', 1), ('篭', 1), ('Ì', 1), ('䃴', 1), ('竀', 2), ('ѧ', 1), ('겆', 1), ('䭔', 1), ('ګ', 3), ('疳', 2), ('➀', 3), ('⇐', 1), ('埮', 1), ('궎', 1), ('ஜ', 1), ('埒', 2), ('泞', 1), ('鯡', 1), ('쨘', 7), ('澬', 1), ('惦', 1), ('她', 1), ('癮', 2), ('飆', 1), ('耒', 2), ('褍', 2), ('鍚', 1), ('읫', 1), ('玽', 1), ('鄨', 1), ('뚸', 1), ('嶌', 1), ('蹻', 2), ('샞', 1), ('쩸', 1), ('젙', 1), ('蘩', 2), ('畨', 1), ('栶', 1), ('怤', 1), ('肰', 1), ('噌', 3), ('룁', 4), ('嶫', 1), ('闲', 2), ('鲨', 1), ('沰', 1), ('Ġ', 2), ('쁌', 1), ('ಫ', 2), ('ೇ', 2), ('ಬ', 2), ('ಗ', 1), ('ೊ', 1), ('ಪ', 1), ('첀', 1), ('짛', 1), ('됮', 2), ('鵓', 1), ('얨', 1), ('\\U000f0852', 5), ('\\U000f0853', 6), ('\\u202a', 1), ('鱟', 1), ('裱', 2), ('轸', 1), ('鬬', 2), ('构', 1), ('皈', 1), ('棅', 1), ('儧', 1), ('寜', 2), ('釷', 1), ('殞', 1), ('琤', 1), ('諼', 1), ('🥈', 1), ('騅', 3), ('邘', 5), ('嚧', 1), ('婀', 1), ('鋎', 2), ('鋺', 3), ('售', 1), ('佲', 1), ('烍', 2), ('熳', 1), ('됟', 1), ('购', 5), ('扰', 1), ('ݢ', 2), ('ቆ', 1), ('ሴ', 1), ('胯', 1), ('綉', 2), ('⌒', 1), ('⍁', 1), ('쵝', 3), ('㧾', 1), ('쓘', 1), ('槧', 1), ('嶧', 4), ('웝', 2), ('ֿ', 1), ('짥', 1), ('픞', 1), ('柂', 1), ('傔', 1), ('杪', 1), ('븍', 1), ('톹', 1), ('샊', 1), ('认', 1), ('钺', 3), ('蹯', 1), ('虒', 1), ('卲', 1), ('眴', 1), ('څ', 1), ('咢', 1), ('﹐', 1), ('葒', 1), ('灏', 1), ('鴇', 1), ('蔷', 1), ('宠', 1), ('乔', 2), ('ၵ', 1), ('ႈ', 1), ('ႆ', 1), ('⨼', 1), ('謵', 2), ('𤉇', 2), ('띳', 2), ('㥄', 1), ('蟆', 3), ('赋', 1), ('陡', 1), ('錣', 1), ('玊', 1), ('嘐', 2), ('돰', 1), ('\\U000f0850', 1), ('軆', 7), ('俉', 2), ('㕙', 1), ('ዶ', 1), ('矼', 1), ('竗', 3), ('𡦗', 1), ('酺', 1), ('慹', 1), ('붊', 1), ('㥧', 1), ('糓', 1), ('糙', 2), ('Ѐ', 1), ('ѐ', 1), ('Ȟ', 2), ('ꟾ', 1), ('Ǐ', 2), ('駥', 1), ('\\U000b0854', 2), ('\\U000b0855', 1), ('렣', 1), ('▴', 18), ('绾', 1), ('诛', 1), ('炼', 2), ('⇨', 3), ('좔', 1), ('뺢', 1), ('棭', 1), ('撸', 1), ('줃', 2), ('㖙', 2), ('癜', 1), ('ɝ', 1), ('嬈', 2), ('ῡ', 1), ('倾', 1), ('𢒰', 2), ('赜', 2), ('⚬', 1), ('۞', 1), ('쟨', 1), ('젗', 1), ('姍', 1), ('ϖ', 1), ('閗', 1), ('粃', 1), ('럔', 2), ('퉤', 1), ('🤡', 1), ('쵀', 1), ('앖', 1), ('ㄪ', 1), ('ㄫ', 1), ('ㄬ', 1), ('둟', 1), ('쩰', 2), ('嫺', 1), ('洒', 2), ('⓵', 1), ('⓶', 1), ('⓷', 1), ('⓸', 1), ('⓹', 1), ('鉆', 1), ('죡', 1), ('⊨', 1), ('鬳', 1), ('᾿', 1), ('̰', 2), ('癰', 2), ('\\U000f0848', 3), ('儔', 1), ('ʬ', 2), ('ʭ', 1), ('臉', 1), ('拄', 1), ('욨', 1), ('뭰', 1), ('ⴼ', 3), ('攄', 3), ('奌', 1), ('蓖', 1), ('녋', 1), ('馗', 5), ('茎', 1), ('𢱿', 3), ('褲', 1), ('ꡔ', 8), ('깹', 2), ('삣', 2), ('择', 1), ('拆', 2), ('苽', 1), ('浟', 1), ('\\ue668', 1), ('\\uf448', 1), ('鏦', 1), ('뱍', 1), ('쨉', 2), ('鐰', 1), ('騧', 2), ('밚', 1), ('綯', 1), ('买', 1), ('뉫', 2), ('\\u2060', 5), ('羘', 1), ('巀', 1), ('椏', 1), ('娳', 1), ('諗', 1), ('눋', 1), ('颿', 1), ('⊋', 1), ('霫', 2), ('궝', 1), ('꽦', 1), ('ˉ', 1), ('퀩', 1), ('餛', 2), ('藫', 3), ('렃', 1), ('븜', 1), ('枦', 1), ('↦', 1), ('㷞', 1), ('縹', 1), ('衉', 1), ('⊖', 1), ('𡸇', 1), ('牯', 1), ('ճ', 2), ('葴', 1), ('䄔', 1), ('鲛', 1), ('湃', 1), ('悩', 3), ('闷', 1), ('仑', 5), ('꼮', 1), ('춭', 2), ('폅', 1), ('訒', 1), ('뇸', 4), ('睍', 1), ('籇', 1), ('麩', 3), ('橓', 1), ('𦨭', 1), ('롶', 3), ('Ϲ', 2), ('厢', 1), ('궘', 1), ('飘', 1), ('值', 2), ('桕', 1), ('⚳', 1), ('⚴', 1), ('⚵', 1), ('Ố', 1), ('﹣', 1), ('ោ', 1), ('Ɛ', 1), ('矧', 2), ('盦', 1), ('뻩', 1), ('惤', 1), ('绒', 2), ('閾', 1), ('Ⅎ', 1), ('ֳ', 1), ('缚', 1), ('놐', 1), ('痞', 1), ('茀', 1), ('妝', 3), ('𤖙', 3), ('𠂤', 3), ('鬴', 1), ('畊', 2), ('ㇺ', 1), ('鏋', 1), ('ㇰ', 1), ('⌜', 1), ('⌟', 1), ('𐩪', 1), ('𐩨', 1), ('𐩱', 1), ('忩', 1), ('茘', 1), ('폶', 1), ('\\U00103867', 1), ('\\U00103911', 1), ('멵', 1), ('뙡', 5), ('溈', 1), ('廮', 1), ('厶', 1), ('𫟉', 1), ('垻', 1), ('伤', 1), ('鹳', 1), ('苺', 1), ('齪', 1), ('涞', 1), ('濼', 4), ('糯', 1), ('夯', 1), ('욿', 1), ('﹒', 1), ('ἤ', 1), ('亿', 1), ('읶', 1), ('疃', 1), ('藨', 1), ('絁', 6), ('莨', 1), ('莠', 1), ('Ḃ', 1), ('ḃ', 1), ('Ḋ', 1), ('ḋ', 1), ('Ḟ', 1), ('ḟ', 1), ('Ṁ', 1), ('Ṗ', 1), ('Ṡ', 1), ('ṡ', 1), ('Ṫ', 1), ('ṫ', 1), ('⁊', 1), ('朷', 1), ('ﻳ', 1), ('ﻗ', 1), ('ﺷ', 1), ('ﯿ', 1), ('琙', 1), ('❰', 2), ('❱', 2), ('媾', 1), ('蔞', 6), ('盭', 1), ('蓯', 2), ('痧', 1), ('椇', 1), ('栏', 1), ('铛', 2), ('껙', 2), ('趮', 1), ('ཨ', 3), ('揵', 1), ('쯧', 1), ('㱈', 1), ('蒭', 1), ('늚', 1), ('픨', 1), ('샆', 1), ('馘', 1), ('骏', 2), ('储', 1), ('抖', 2), ('𨜐', 1), ('垃', 1), ('圾', 1), ('麂', 1), ('ྕ', 1), ('ཧ', 1), ('隁', 1), ('壒', 1), ('乆', 2), ('茇', 1), ('荗', 1), ('𦆭', 3), ('ໜ', 1), ('ື', 1), ('恞', 2), ('ौ', 1), ('˪', 2), ('炔', 1), ('㫝', 2), ('鱘', 1), ('鰉', 1), ('仆', 4), ('苿', 1), ('💎', 1), ('疝', 1), ('鷴', 3), ('蒧', 1), ('툿', 2), ('㷉', 1), ('첟', 1), ('榷', 1), ('塬', 1), ('崕', 1), ('벏', 1), ('刓', 3), ('മ', 1), ('ത', 2), ('്', 3), ('ാ', 1), ('യ', 1), ('ി', 3), ('\\U000f0811', 1), ('\\U000f081a', 2), ('\\U000f0818', 1), ('\\U000f0813', 1), ('໕', 1), ('罈', 1), ('冓', 4), ('㥅', 1), ('䪷', 2), ('桹', 1), ('揤', 5), ('嘠', 1), ('愜', 1), ('諉', 1), ('鏇', 1), ('덣', 2), ('葀', 1), ('疌', 1), ('낲', 1), ('簟', 2), ('騾', 1), ('겣', 1), ('嫈', 1), ('伻', 2), ('湵', 1), ('ި', 2), ('ބ', 1), ('ރ', 1), ('ާ', 2), ('ޙ', 2), ('ޞ', 1), ('ލ', 1), ('幁', 1), ('徃', 1), ('옫', 3), ('쫃', 1), ('빧', 2), ('뻠', 1), ('렫', 2), ('녇', 1), ('샏', 1), ('랟', 2), ('핻', 1), ('찓', 2), ('퇻', 1), ('닏', 2), ('뒫', 1), ('뉻', 2), ('𣫙', 1), ('冧', 1), ('섟', 1), ('낣', 1), ('Ḗ', 1), ('֥', 2), ('छ', 1), ('ਿ', 1), ('ੜ', 1), ('ଝ', 1), ('ପ', 1), ('ഗ', 1), ('വ', 1), ('ള', 1), ('ല', 2), ('బ', 1), ('ಹ', 1), ('ಿ', 1), ('ꠀ', 1), ('ꠟ', 1), ('ꠤ', 1), ('슦', 1), ('릳', 1), ('늰', 1), ('뀍', 10), ('ᛒ', 1), ('𐌁', 1), ('贔', 1), ('屭', 1), ('嗕', 1), ('挴', 1), ('垽', 1), ('呴', 1), ('և', 1), ('띡', 5), ('𣛧', 1), ('𤅷', 2), ('鷓', 1), ('鴣', 1), ('尫', 1), ('糨', 1), ('傰', 1), ('嫋', 1), ('縐', 1), ('璮', 1), ('烦', 1), ('识', 2), ('啤', 1), ('哔', 2), ('\\u206a', 1), ('藭', 1), ('辶', 1), ('疐', 1), ('祋', 1), ('祤', 1), ('毼', 2), ('\\x95', 1), ('賔', 1), ('Ƣ', 2), ('ꝛ', 2), ('Ꝛ', 1), ('譡', 1), ('釭', 2), ('鞰', 1), ('埶', 1), ('繓', 1), ('襜', 1), ('襤', 1), ('匜', 2), ('‖', 1), ('ۈ', 1), ('敝', 1), ('廧', 1), ('⠀', 38), ('韑', 1), ('妫', 1), ('跷', 1), ('勱', 1), ('稾', 1), ('𡾊', 1), ('巑', 1), ('𡶲', 1), ('嵰', 1), ('寊', 1), ('瑂', 1), ('庀', 1), ('麀', 1), ('廘', 1), ('迓', 1), ('쩟', 2), ('Ʒ', 1), ('楃', 1), ('晭', 1), ('臒', 1), ('䊸', 1), ('핧', 1), ('噩', 1), ('蘌', 1), ('핓', 1), ('坏', 1), ('骠', 1), ('茠', 1), ('郧', 1), ('呦', 2), ('밠', 2), ('捞', 1), ('篒', 1), ('揜', 1), ('ㇷ', 1), ('詑', 1), ('绢', 2), ('绫', 1), ('洟', 1), ('₀', 1), ('▮', 3), ('该', 1), ('么', 2), ('ゟ', 4), ('覩', 1), ('琩', 1), ('桢', 1), ('๋', 1), ('虏', 1), ('檭', 1), ('簃', 1), ('莹', 1), ('订', 1), ('屨', 1), ('轔', 1), ('嵕', 1), ('𩢍', 1), ('沴', 1), ('媄', 1), ('颐', 1), ('ํ', 1), ('銛', 1), ('렗', 1), ('皺', 1), ('諠', 1), ('゠', 1), ('짎', 1), ('硐', 2), ('㫕', 1), ('覿', 1), ('蠙', 3), ('頙', 1), ('䥃', 2), ('ɭ', 1), ('夘', 1), ('绑', 1), ('档', 2), ('唖', 1), ('冣', 1), ('藂', 1), ('倏', 1), ('槓', 1), ('ɓ', 1), ('ɗ', 1), ('ฌ', 1), ('铭', 1), ('剂', 1), ('缟', 1), ('辕', 2), ('엗', 1), ('젃', 1), ('挥', 2), ('蹬', 2), ('攔', 1), ('证', 1), ('鏽', 1), ('瑡', 1), ('齣', 1), ('𠐔', 1), ('㫒', 1), ('㮈', 1), ('餙', 1), ('织', 1), ('渊', 1), ('颛', 1), ('跶', 1), ('堃', 1), ('땸', 3), ('섷', 1), ('뷋', 2), ('墑', 1), ('칢', 1), ('币', 1), ('驿', 2), ('费', 1), ('纹', 1), ('ʸ', 2), ('ɻ', 1), ('桭', 1), ('噺', 1), ('覗', 1), ('弯', 1), ('澷', 1), ('왿', 1), ('漾', 2), ('坍', 2), ('砵', 1), ('仛', 1), ('紲', 1), ('숮', 1), ('赠', 1), ('驾', 1), ('ʇ', 1), ('𣱆', 1), ('칯', 1), ('湸', 3), ('嬃', 1), ('牵', 1), ('搶', 1), ('촞', 1), ('謮', 1), ('摧', 1), ('䮕', 1), ('髫', 1), ('慫', 1), ('歛', 1), ('忤', 1), ('殫', 1), ('擠', 1), ('ᱥ', 1), ('ᱟ', 2), ('ᱱ', 1), ('ᱛ', 1), ('ᱲ', 1), ('ᱤ', 1), ('楳', 1), ('崋', 4), ('鴃', 2), ('ຢ', 1), ('辩', 1), ('孪', 1), ('ึ', 1), ('纵', 1), ('矿', 1), ('𢀛', 1), ('𠭯', 1), ('ꡆ', 1), ('ꡃ', 1), ('뗘', 1), ('閦', 1), ('毦', 1), ('곺', 1), ('맔', 1), ('㤙', 1), ('膊', 1), ('ᶍ', 6), ('ǘ', 1), ('徬', 1), ('捍', 1), ('🔰', 1), ('앚', 1), ('𤆬', 1), ('薌', 1), ('缓', 1), ('峦', 2), ('꿑', 1), ('ힰ', 1), ('ힵ', 1), ('ힴ', 1), ('섩', 1), ('٠', 1), ('֛', 1), ('傶', 1), ('菠', 1), ('\\uf204', 1), ('夤', 1), ('٭', 3), ('俒', 1), ('먈', 2), ('ஸ', 1), ('ீ', 1), ('椹', 1)])"
            ]
          },
          "metadata": {
            "tags": []
          },
          "execution_count": 22
        }
      ]
    },
    {
      "cell_type": "markdown",
      "metadata": {
        "id": "jP6Txwv2btae"
      },
      "source": [
        ""
      ]
    },
    {
      "cell_type": "markdown",
      "metadata": {
        "id": "cSPVI83dbtae"
      },
      "source": [
        "## 빈도수 많은 글자"
      ]
    },
    {
      "cell_type": "code",
      "metadata": {
        "colab": {
          "base_uri": "https://localhost:8080/"
        },
        "id": "C4Mypjxabtag",
        "outputId": "aa895ab9-9b8a-421c-ee0f-5414c9a48758"
      },
      "source": [
        "# 빈도수 많은 글자\n",
        "# lambda는 내장함수 \n",
        "\n",
        "most_freq = sorted(char_counter.items(), key = lambda item: item[1], reverse = True)\n",
        "most_freq[:20]"
      ],
      "execution_count": null,
      "outputs": [
        {
          "output_type": "execute_result",
          "data": {
            "text/plain": [
              "[(' ', 55863103),\n",
              " ('이', 5799143),\n",
              " ('다', 5291578),\n",
              " ('.', 4395303),\n",
              " ('에', 4313327),\n",
              " ('의', 4228709),\n",
              " ('는', 3848984),\n",
              " ('로', 3112533),\n",
              " (',', 3110187),\n",
              " ('하', 2989928),\n",
              " ('1', 2670379),\n",
              " ('을', 2617935),\n",
              " ('가', 2270753),\n",
              " ('고', 2196120),\n",
              " ('지', 2166697),\n",
              " ('서', 2119585),\n",
              " ('한', 2102410),\n",
              " ('은', 2009210),\n",
              " ('기', 1855825),\n",
              " ('0', 1825000)]"
            ]
          },
          "metadata": {
            "tags": []
          },
          "execution_count": 26
        }
      ]
    },
    {
      "cell_type": "code",
      "metadata": {
        "colab": {
          "base_uri": "https://localhost:8080/",
          "height": 275
        },
        "id": "iBXpunahbtah",
        "outputId": "0121f29b-df23-4a2e-eea8-603183fc4a1f"
      },
      "source": [
        "top_20 = most_freq[:20]\n",
        "\n",
        "plt.rc('font', family=\"NanumBarunGothic\")\n",
        "plt.rcParams[\"axes.unicode_minus\"] = False # 한글 폰트 사용시 - 깨지는 문제 해결\n",
        "plt.bar(range(len(top_20)), [val[1] for val in top_20]) # counter\n",
        "plt.xticks(range(len(top_20)), [val[0] for val in top_20])\n",
        "plt.show()"
      ],
      "execution_count": null,
      "outputs": [
        {
          "output_type": "display_data",
          "data": {
            "image/png": "[encoded data removed]",
            "text/plain": [
              "<Figure size 432x288 with 1 Axes>"
            ]
          },
          "metadata": {
            "tags": [],
            "needs_background": "light"
          }
        }
      ]
    },
    {
      "cell_type": "markdown",
      "metadata": {
        "id": "M6qiGhhgbtai"
      },
      "source": [
        "## 빈도수 적은 글자"
      ]
    },
    {
      "cell_type": "code",
      "metadata": {
        "colab": {
          "base_uri": "https://localhost:8080/"
        },
        "id": "e07ITGP9btai",
        "outputId": "af881c8d-3efd-45c3-c90c-5fb36f98a82a"
      },
      "source": [
        "most_freq = sorted(char_counter.items(), key = lambda item: item[1], reverse = False)\n",
        "most_freq[:20]"
      ],
      "execution_count": null,
      "outputs": [
        {
          "output_type": "execute_result",
          "data": {
            "text/plain": [
              "[('蔟', 1),\n",
              " ('蓓', 1),\n",
              " ('踢', 1),\n",
              " ('ǣ', 1),\n",
              " ('钊', 1),\n",
              " ('臄', 1),\n",
              " ('饀', 1),\n",
              " ('蝌', 1),\n",
              " ('廏', 1),\n",
              " ('Ꝩ', 1),\n",
              " ('ẚ', 1),\n",
              " ('괗', 1),\n",
              " ('옂', 1),\n",
              " ('褪', 1),\n",
              " ('😘', 1),\n",
              " ('\\ue650', 1),\n",
              " ('┼', 1),\n",
              " ('├', 1),\n",
              " ('Ὁ', 1),\n",
              " ('춪', 1)]"
            ]
          },
          "metadata": {
            "tags": []
          },
          "execution_count": 33
        }
      ]
    },
    {
      "cell_type": "markdown",
      "metadata": {
        "id": "TBkljigabtai"
      },
      "source": [
        "## token 개수\n",
        "- char_to_id 만들기"
      ]
    },
    {
      "cell_type": "code",
      "metadata": {
        "colab": {
          "base_uri": "https://localhost:8080/"
        },
        "id": "LhmN-H7Rbtaj",
        "outputId": "ea55aa18-6c9d-4ed4-957e-437e841bb4e8"
      },
      "source": [
        "count = 0\n",
        "for c,cnt in char_counter.items():\n",
        "    count += cnt\n",
        "count"
      ],
      "execution_count": null,
      "outputs": [
        {
          "output_type": "execute_result",
          "data": {
            "text/plain": [
              "267502382"
            ]
          },
          "metadata": {
            "tags": []
          },
          "execution_count": 34
        }
      ]
    },
    {
      "cell_type": "code",
      "metadata": {
        "colab": {
          "base_uri": "https://localhost:8080/"
        },
        "id": "LaSeENeRbtaj",
        "outputId": "04c7e668-6563-448a-d55a-31ab3146bd3e"
      },
      "source": [
        "# char_vcab\n",
        "char_to_id = {'[PAD]' : 0, '[UNK]' : 1}\n",
        "# len(char_to_id)\n",
        "for c, cnt in char_counter.items():\n",
        "    char_to_id[c] = len(char_to_id) \n",
        "len(char_to_id)"
      ],
      "execution_count": null,
      "outputs": [
        {
          "output_type": "execute_result",
          "data": {
            "text/plain": [
              "15583"
            ]
          },
          "metadata": {
            "tags": []
          },
          "execution_count": 46
        }
      ]
    },
    {
      "cell_type": "code",
      "metadata": {
        "colab": {
          "base_uri": "https://localhost:8080/"
        },
        "id": "AC1RQeNTbtak",
        "outputId": "d398e6ab-006b-40b8-d4e0-fe94942b52ee"
      },
      "source": [
        "char_to_id = {'[PAD]' : 0, '[UNK]' : 1}\n",
        "\n",
        "for c, cnt in char_counter.items():\n",
        "    char_to_id[c] = len(char_to_id) \n",
        "    if len(char_to_id) < 10:\n",
        "        print(char_to_id)\n",
        "len(char_to_id)"
      ],
      "execution_count": null,
      "outputs": [
        {
          "output_type": "stream",
          "text": [
            "{'[PAD]': 0, '[UNK]': 1, '지': 2}\n",
            "{'[PAD]': 0, '[UNK]': 1, '지': 2, '미': 3}\n",
            "{'[PAD]': 0, '[UNK]': 1, '지': 2, '미': 3, ' ': 4}\n",
            "{'[PAD]': 0, '[UNK]': 1, '지': 2, '미': 3, ' ': 4, '카': 5}\n",
            "{'[PAD]': 0, '[UNK]': 1, '지': 2, '미': 3, ' ': 4, '카': 5, '터': 6}\n",
            "{'[PAD]': 0, '[UNK]': 1, '지': 2, '미': 3, ' ': 4, '카': 5, '터': 6, '제': 7}\n",
            "{'[PAD]': 0, '[UNK]': 1, '지': 2, '미': 3, ' ': 4, '카': 5, '터': 6, '제': 7, '임': 8}\n"
          ],
          "name": "stdout"
        },
        {
          "output_type": "execute_result",
          "data": {
            "text/plain": [
              "15583"
            ]
          },
          "metadata": {
            "tags": []
          },
          "execution_count": 47
        }
      ]
    },
    {
      "cell_type": "code",
      "metadata": {
        "colab": {
          "base_uri": "https://localhost:8080/"
        },
        "id": "TUSXnt3abtak",
        "outputId": "af9db275-5759-415e-9ebc-c36b107ea37e"
      },
      "source": [
        "char_to_id"
      ],
      "execution_count": null,
      "outputs": [
        {
          "output_type": "execute_result",
          "data": {
            "text/plain": [
              "{'[PAD]': 0,\n",
              " '[UNK]': 1,\n",
              " '지': 2,\n",
              " '미': 3,\n",
              " ' ': 4,\n",
              " '카': 5,\n",
              " '터': 6,\n",
              " '제': 7,\n",
              " '임': 8,\n",
              " '스': 9,\n",
              " '얼': 10,\n",
              " '\"': 11,\n",
              " '주': 12,\n",
              " '니': 13,\n",
              " '어': 14,\n",
              " '(': 15,\n",
              " ',': 16,\n",
              " '1': 17,\n",
              " '9': 18,\n",
              " '2': 19,\n",
              " '4': 20,\n",
              " '년': 21,\n",
              " '0': 22,\n",
              " '월': 23,\n",
              " '일': 24,\n",
              " '~': 25,\n",
              " ')': 26,\n",
              " '는': 27,\n",
              " '민': 28,\n",
              " '당': 29,\n",
              " '출': 30,\n",
              " '신': 31,\n",
              " '국': 32,\n",
              " '3': 33,\n",
              " '번': 34,\n",
              " '째': 35,\n",
              " '대': 36,\n",
              " '통': 37,\n",
              " '령': 38,\n",
              " '7': 39,\n",
              " '8': 40,\n",
              " '이': 41,\n",
              " '다': 42,\n",
              " '.': 43,\n",
              " '조': 44,\n",
              " '아': 45,\n",
              " '섬': 46,\n",
              " '운': 47,\n",
              " '티': 48,\n",
              " '플': 49,\n",
              " '레': 50,\n",
              " '인': 51,\n",
              " '마': 52,\n",
              " '을': 53,\n",
              " '에': 54,\n",
              " '서': 55,\n",
              " '태': 56,\n",
              " '났': 57,\n",
              " '공': 58,\n",
              " '과': 59,\n",
              " '학': 60,\n",
              " '교': 61,\n",
              " '를': 62,\n",
              " '졸': 63,\n",
              " '업': 64,\n",
              " '하': 65,\n",
              " '였': 66,\n",
              " '그': 67,\n",
              " '후': 68,\n",
              " '해': 69,\n",
              " '군': 70,\n",
              " '들': 71,\n",
              " '가': 72,\n",
              " '전': 73,\n",
              " '함': 74,\n",
              " '·': 75,\n",
              " '원': 76,\n",
              " '자': 77,\n",
              " '력': 78,\n",
              " '잠': 79,\n",
              " '수': 80,\n",
              " '의': 81,\n",
              " '승': 82,\n",
              " '무': 83,\n",
              " '으': 84,\n",
              " '로': 85,\n",
              " '5': 86,\n",
              " '위': 87,\n",
              " '예': 88,\n",
              " '편': 89,\n",
              " '고': 90,\n",
              " '땅': 91,\n",
              " '콩': 92,\n",
              " '면': 93,\n",
              " '화': 94,\n",
              " '등': 95,\n",
              " '꿔': 96,\n",
              " '많': 97,\n",
              " '은': 98,\n",
              " '돈': 99,\n",
              " '벌': 100,\n",
              " '었': 101,\n",
              " '별': 102,\n",
              " '명': 103,\n",
              " '농': 104,\n",
              " '부': 105,\n",
              " 'P': 106,\n",
              " 'e': 107,\n",
              " 'a': 108,\n",
              " 'n': 109,\n",
              " 'u': 110,\n",
              " 't': 111,\n",
              " 'F': 112,\n",
              " 'r': 113,\n",
              " 'm': 114,\n",
              " '알': 115,\n",
              " '려': 116,\n",
              " '졌': 117,\n",
              " '6': 118,\n",
              " '상': 119,\n",
              " '선': 120,\n",
              " '거': 121,\n",
              " '낙': 122,\n",
              " '나': 123,\n",
              " '정': 124,\n",
              " '음': 125,\n",
              " '입': 126,\n",
              " '증': 127,\n",
              " '게': 128,\n",
              " '되': 129,\n",
              " '사': 130,\n",
              " '만': 131,\n",
              " '역': 132,\n",
              " '했': 133,\n",
              " '기': 134,\n",
              " '두': 135,\n",
              " '연': 136,\n",
              " '며': 137,\n",
              " '까': 138,\n",
              " '근': 139,\n",
              " '내': 140,\n",
              " '흑': 141,\n",
              " '용': 142,\n",
              " '법': 143,\n",
              " '세': 144,\n",
              " '웠': 145,\n",
              " '보': 146,\n",
              " '여': 147,\n",
              " '도': 148,\n",
              " '덕': 149,\n",
              " '책': 150,\n",
              " '워': 151,\n",
              " '포': 152,\n",
              " '드': 153,\n",
              " '누': 154,\n",
              " '르': 155,\n",
              " '너': 156,\n",
              " '개': 157,\n",
              " '발': 158,\n",
              " '촉': 159,\n",
              " '구': 160,\n",
              " '반': 161,\n",
              " '산': 162,\n",
              " '집': 163,\n",
              " '트': 164,\n",
              " '와': 165,\n",
              " '라': 166,\n",
              " '엘': 167,\n",
              " '캠': 168,\n",
              " '프': 169,\n",
              " '데': 170,\n",
              " '비': 171,\n",
              " '안': 172,\n",
              " '메': 173,\n",
              " '헴': 174,\n",
              " '베': 175,\n",
              " '긴': 176,\n",
              " '께': 177,\n",
              " '중': 178,\n",
              " '동': 179,\n",
              " '평': 180,\n",
              " '한': 181,\n",
              " '협': 182,\n",
              " '체': 183,\n",
              " '결': 184,\n",
              " '러': 185,\n",
              " '것': 186,\n",
              " '유': 187,\n",
              " '단': 188,\n",
              " '켰': 189,\n",
              " '백': 190,\n",
              " '악': 191,\n",
              " '관': 192,\n",
              " '양': 193,\n",
              " '간': 194,\n",
              " '약': 195,\n",
              " '끌': 196,\n",
              " '또': 197,\n",
              " '소': 198,\n",
              " '련': 199,\n",
              " '차': 200,\n",
              " '략': 201,\n",
              " '시': 202,\n",
              " '권': 203,\n",
              " '진': 204,\n",
              " '키': 205,\n",
              " '노': 206,\n",
              " '취': 207,\n",
              " '계': 208,\n",
              " '속': 209,\n",
              " '치': 210,\n",
              " '란': 211,\n",
              " '질': 212,\n",
              " '건': 213,\n",
              " '실': 214,\n",
              " '패': 215,\n",
              " '널': 216,\n",
              " '져': 217,\n",
              " '재': 218,\n",
              " '말': 219,\n",
              " '탄': 220,\n",
              " '침': 221,\n",
              " '올': 222,\n",
              " '림': 223,\n",
              " '픽': 224,\n",
              " '콧': 225,\n",
              " '요': 226,\n",
              " '영': 227,\n",
              " '향': 228,\n",
              " '쳤': 229,\n",
              " '던': 230,\n",
              " '문': 231,\n",
              " '철': 232,\n",
              " '때': 233,\n",
              " '불': 234,\n",
              " '북': 235,\n",
              " '합': 236,\n",
              " '창': 237,\n",
              " '설': 238,\n",
              " '걸': 239,\n",
              " '쳐': 240,\n",
              " '회': 241,\n",
              " '딪': 242,\n",
              " '혀': 243,\n",
              " '완': 244,\n",
              " '감': 245,\n",
              " '축': 246,\n",
              " '박': 247,\n",
              " '희': 248,\n",
              " '논': 249,\n",
              " '냈': 250,\n",
              " '순': 251,\n",
              " '방': 252,\n",
              " '복': 253,\n",
              " '적': 254,\n",
              " '격': 255,\n",
              " '변': 256,\n",
              " '애': 257,\n",
              " '매': 258,\n",
              " '됐': 259,\n",
              " '김': 260,\n",
              " '규': 261,\n",
              " '앙': 262,\n",
              " '장': 263,\n",
              " '살': 264,\n",
              " '된': 265,\n",
              " '큰': 266,\n",
              " '충': 267,\n",
              " '받': 268,\n",
              " '았': 269,\n",
              " '밴': 270,\n",
              " '절': 271,\n",
              " '파': 272,\n",
              " '견': 273,\n",
              " '쿠': 274,\n",
              " '타': 275,\n",
              " '초': 276,\n",
              " '강': 277,\n",
              " '난': 278,\n",
              " '득': 279,\n",
              " '있': 280,\n",
              " '묵': 281,\n",
              " '듯': 282,\n",
              " '퇴': 283,\n",
              " '극': 284,\n",
              " '활': 285,\n",
              " '리': 286,\n",
              " '립': 287,\n",
              " '뒤': 288,\n",
              " '현': 289,\n",
              " '및': 290,\n",
              " '쿤': 291,\n",
              " '병': 292,\n",
              " '힘': 293,\n",
              " '썼': 294,\n",
              " '빈': 295,\n",
              " '곤': 296,\n",
              " '층': 297,\n",
              " '랑': 298,\n",
              " '짓': 299,\n",
              " '분': 300,\n",
              " '쟁': 301,\n",
              " '행': 302,\n",
              " '핵': 303,\n",
              " '코': 304,\n",
              " '크': 305,\n",
              " '같': 306,\n",
              " '최': 307,\n",
              " '택': 308,\n",
              " '버': 309,\n",
              " '깊': 310,\n",
              " '표': 311,\n",
              " '특': 312,\n",
              " '히': 313,\n",
              " '성': 314,\n",
              " '팔': 315,\n",
              " '래': 316,\n",
              " '물': 317,\n",
              " '직': 318,\n",
              " '접': 319,\n",
              " '본': 320,\n",
              " '갈': 321,\n",
              " '야': 322,\n",
              " '갔': 323,\n",
              " '채': 324,\n",
              " '오': 325,\n",
              " '슬': 326,\n",
              " '처': 327,\n",
              " '삼': 328,\n",
              " '석': 329,\n",
              " '남': 330,\n",
              " '갑': 331,\n",
              " '망': 332,\n",
              " '담': 333,\n",
              " '루': 334,\n",
              " '못': 335,\n",
              " '모': 336,\n",
              " '심': 337,\n",
              " '엔': 338,\n",
              " '판': 339,\n",
              " '록': 340,\n",
              " '독': 341,\n",
              " '린': 342,\n",
              " '형': 343,\n",
              " '범': 344,\n",
              " '죄': 345,\n",
              " '경': 346,\n",
              " '목': 347,\n",
              " '잡': 348,\n",
              " '풀': 349,\n",
              " '겠': 350,\n",
              " '훨': 351,\n",
              " '씬': 352,\n",
              " '더': 353,\n",
              " '존': 354,\n",
              " '할': 355,\n",
              " '벨': 356,\n",
              " '數': 357,\n",
              " '學': 358,\n",
              " '념': 359,\n",
              " '식': 360,\n",
              " '추': 361,\n",
              " '겨': 362,\n",
              " '롯': 363,\n",
              " '른': 364,\n",
              " '맺': 365,\n",
              " '느': 366,\n",
              " '달': 367,\n",
              " '측': 368,\n",
              " '않': 369,\n",
              " '론': 370,\n",
              " '킬': 371,\n",
              " '엄': 372,\n",
              " '밀': 373,\n",
              " '숫': 374,\n",
              " '움': 375,\n",
              " '런': 376,\n",
              " '찾': 377,\n",
              " '볼': 378,\n",
              " '클': 379,\n",
              " '네': 380,\n",
              " '호': 381,\n",
              " '작': 382,\n",
              " '혁': 383,\n",
              " '류': 384,\n",
              " '늘': 385,\n",
              " '날': 386,\n",
              " '뿐': 387,\n",
              " '응': 388,\n",
              " '써': 389,\n",
              " '새': 390,\n",
              " '낳': 391,\n",
              " '닌': 392,\n",
              " '름': 393,\n",
              " '우': 394,\n",
              " '료': 395,\n",
              " 'h': 396,\n",
              " 'i': 397,\n",
              " 'c': 398,\n",
              " 's': 399,\n",
              " '뜻': 400,\n",
              " '틴': 401,\n",
              " 'k': 402,\n",
              " 'o': 403,\n",
              " '배': 404,\n",
              " '줄': 405,\n",
              " '탈': 406,\n",
              " '람': 407,\n",
              " '•': 408,\n",
              " '생': 409,\n",
              " '필': 410,\n",
              " '든': 411,\n",
              " '왔': 412,\n",
              " '천': 413,\n",
              " '토': 414,\n",
              " '량': 415,\n",
              " '킨': 416,\n",
              " '쓴': 417,\n",
              " '훈': 418,\n",
              " '종': 419,\n",
              " '왕': 420,\n",
              " '준': 421,\n",
              " '울': 422,\n",
              " '왜': 423,\n",
              " '손': 424,\n",
              " '각': 425,\n",
              " '술': 426,\n",
              " '밖': 427,\n",
              " '칙': 428,\n",
              " '페': 429,\n",
              " '막': 430,\n",
              " '쌍': 431,\n",
              " '둥': 432,\n",
              " '골': 433,\n",
              " '바': 434,\n",
              " '흐': 435,\n",
              " '랜': 436,\n",
              " '럿': 437,\n",
              " '얻': 438,\n",
              " '쉽': 439,\n",
              " '찬': 440,\n",
              " '환': 441,\n",
              " '외': 442,\n",
              " '벡': 443,\n",
              " '텐': 444,\n",
              " '칭': 445,\n",
              " '눈': 446,\n",
              " '금': 447,\n",
              " '없': 448,\n",
              " '컴': 449,\n",
              " '퍼': 450,\n",
              " '잘': 451,\n",
              " '피': 452,\n",
              " '높': 453,\n",
              " '괄': 454,\n",
              " '푸': 455,\n",
              " '앵': 456,\n",
              " '퓨': 457,\n",
              " '색': 458,\n",
              " '묘': 459,\n",
              " '탐': 460,\n",
              " '떠': 461,\n",
              " '럽': 462,\n",
              " '율': 463,\n",
              " '귀': 464,\n",
              " '착': 465,\n",
              " '될': 466,\n",
              " '혼': 467,\n",
              " '능': 468,\n",
              " '확': 469,\n",
              " '“': 470,\n",
              " '”': 471,\n",
              " '징': 472,\n",
              " '몇': 473,\n",
              " '칸': 474,\n",
              " '브': 475,\n",
              " '-': 476,\n",
              " '힐': 477,\n",
              " '값': 478,\n",
              " '롬': 479,\n",
              " '딕': 480,\n",
              " '맨': 481,\n",
              " '즈': 482,\n",
              " '슨': 483,\n",
              " 'f': 484,\n",
              " 'l': 485,\n",
              " '_': 486,\n",
              " '갖': 487,\n",
              " '文': 488,\n",
              " '언': 489,\n",
              " '삶': 490,\n",
              " '美': 491,\n",
              " '的': 492,\n",
              " '藝': 493,\n",
              " '옳': 494,\n",
              " '텍': 495,\n",
              " '떤': 496,\n",
              " '흔': 497,\n",
              " '묶': 498,\n",
              " '헌': 499,\n",
              " '좀': 500,\n",
              " '곡': 501,\n",
              " '족': 502,\n",
              " '띨': 503,\n",
              " '닐': 504,\n",
              " '템': 505,\n",
              " '테': 506,\n",
              " '꼭': 507,\n",
              " '디': 508,\n",
              " '털': 509,\n",
              " '점': 510,\n",
              " '허': 511,\n",
              " '품': 512,\n",
              " '찰': 513,\n",
              " '떨': 514,\n",
              " '투': 515,\n",
              " '뢰': 516,\n",
              " '따': 517,\n",
              " '즉': 518,\n",
              " '춤': 519,\n",
              " '춘': 520,\n",
              " '演': 521,\n",
              " '劇': 522,\n",
              " '詩': 523,\n",
              " '散': 524,\n",
              " '뉜': 525,\n",
              " '즘': 526,\n",
              " '흥': 527,\n",
              " '씌': 528,\n",
              " '雜': 529,\n",
              " '짜': 530,\n",
              " '書': 531,\n",
              " '簡': 532,\n",
              " '험': 533,\n",
              " '特': 534,\n",
              " '定': 535,\n",
              " '時': 536,\n",
              " '傳': 537,\n",
              " '記': 538,\n",
              " '評': 539,\n",
              " '論': 540,\n",
              " '띠': 541,\n",
              " '냥': 542,\n",
              " '욕': 543,\n",
              " '저': 544,\n",
              " '므': 545,\n",
              " '황': 546,\n",
              " '켜': 547,\n",
              " '열': 548,\n",
              " '뉘': 549,\n",
              " '엮': 550,\n",
              " '렵': 551,\n",
              " '길': 552,\n",
              " '락': 553,\n",
              " '몬': 554,\n",
              " '참': 555,\n",
              " '化': 556,\n",
              " '광': 557,\n",
              " '맞': 558,\n",
              " '효': 559,\n",
              " '염': 560,\n",
              " '<': 561,\n",
              " 'w': 562,\n",
              " '>': 563,\n",
              " '*': 564,\n",
              " '/': 565,\n",
              " ':': 566,\n",
              " 'B': 567,\n",
              " 'C': 568,\n",
              " '굴': 569,\n",
              " '검': 570,\n",
              " '빛': 571,\n",
              " '끓': 572,\n",
              " '벽': 573,\n",
              " '돌': 574,\n",
              " '녹': 575,\n",
              " '급': 576,\n",
              " 'R': 577,\n",
              " 'b': 578,\n",
              " 'y': 579,\n",
              " '뿌': 580,\n",
              " '님': 581,\n",
              " '온': 582,\n",
              " '폐': 583,\n",
              " '쇄': 584,\n",
              " '압': 585,\n",
              " '례': 586,\n",
              " '《': 587,\n",
              " '》': 588,\n",
              " '획': 589,\n",
              " '믿': 590,\n",
              " '낸': 591,\n",
              " 'é': 592,\n",
              " 'D': 593,\n",
              " '컬': 594,\n",
              " '펌': 595,\n",
              " '컨': 596,\n",
              " '핑': 597,\n",
              " '죽': 598,\n",
              " '턴': 599,\n",
              " '엽': 600,\n",
              " 'p': 601,\n",
              " '붙': 602,\n",
              " '낼': 603,\n",
              " '붕': 604,\n",
              " '괴': 605,\n",
              " 'S': 606,\n",
              " 'A': 607,\n",
              " 'K': 608,\n",
              " '렬': 609,\n",
              " '혹': 610,\n",
              " '겪': 611,\n",
              " '끊': 612,\n",
              " '흡': 613,\n",
              " 'Δ': 614,\n",
              " 'H': 615,\n",
              " '눌': 616,\n",
              " '띤': 617,\n",
              " '륨': 618,\n",
              " 'N': 619,\n",
              " '렇': 620,\n",
              " '액': 621,\n",
              " '겹': 622,\n",
              " '큼': 623,\n",
              " '청': 624,\n",
              " 'O': 625,\n",
              " '욱': 626,\n",
              " '넓': 627,\n",
              " '송': 628,\n",
              " '믹': 629,\n",
              " '램': 630,\n",
              " '끼': 631,\n",
              " '커': 632,\n",
              " 'X': 633,\n",
              " '틱': 634,\n",
              " '첸': 635,\n",
              " '캅': 636,\n",
              " '룹': 637,\n",
              " '섞': 638,\n",
              " '%': 639,\n",
              " '잉': 640,\n",
              " '슈': 641,\n",
              " '젊': 642,\n",
              " '맹': 643,\n",
              " '맥': 644,\n",
              " '웰': 645,\n",
              " 'M': 646,\n",
              " 'x': 647,\n",
              " '方': 648,\n",
              " '程': 649,\n",
              " '式': 650,\n",
              " '츠': 651,\n",
              " '펴': 652,\n",
              " '쿨': 653,\n",
              " '롱': 654,\n",
              " '밝': 655,\n",
              " '혔': 656,\n",
              " '앞': 657,\n",
              " '힌': 658,\n",
              " '척': 659,\n",
              " '닭': 660,\n",
              " '샤': 661,\n",
              " '틀': 662,\n",
              " '곱': 663,\n",
              " '웨': 664,\n",
              " 'W': 665,\n",
              " '뜨': 666,\n",
              " '놓': 667,\n",
              " '둘': 668,\n",
              " '홀': 669,\n",
              " '力': 670,\n",
              " '線': 671,\n",
              " '먼': 672,\n",
              " '헤': 673,\n",
              " '윌': 674,\n",
              " '폭': 675,\n",
              " '쓰': 676,\n",
              " '덧': 677,\n",
              " '場': 678,\n",
              " '멕': 679,\n",
              " '렸': 680,\n",
              " '칼': 681,\n",
              " '케': 682,\n",
              " 'µ': 683,\n",
              " '멀': 684,\n",
              " '훗': 685,\n",
              " '첫': 686,\n",
              " 'G': 687,\n",
              " '超': 688,\n",
              " '越': 689,\n",
              " '항': 690,\n",
              " '빌': 691,\n",
              " '폰': 692,\n",
              " '겔': 693,\n",
              " '앨': 694,\n",
              " '音': 695,\n",
              " '階': 696,\n",
              " 'v': 697,\n",
              " 'd': 698,\n",
              " '半': 699,\n",
              " '뜸': 700,\n",
              " '솔': 701,\n",
              " '黃': 702,\n",
              " '鍾': 703,\n",
              " '♭': 704,\n",
              " '太': 705,\n",
              " '蔟': 706,\n",
              " '仲': 707,\n",
              " '呂': 708,\n",
              " '林': 709,\n",
              " '無': 710,\n",
              " '射': 711,\n",
              " '궁': 712,\n",
              " '變': 713,\n",
              " '徵': 714,\n",
              " '宮': 715,\n",
              " '뽑': 716,\n",
              " '즌': 717,\n",
              " '몽': 718,\n",
              " '총': 719,\n",
              " '넷': 720,\n",
              " '친': 721,\n",
              " '혜': 722,\n",
              " '십': 723,\n",
              " '끄': 724,\n",
              " '\\xa0': 725,\n",
              " '렀': 726,\n",
              " '잃': 727,\n",
              " '륜': 728,\n",
              " '봉': 729,\n",
              " \"'\": 730,\n",
              " '풍': 731,\n",
              " '홍': 732,\n",
              " '럼': 733,\n",
              " '‘': 734,\n",
              " '’': 735,\n",
              " '습': 736,\n",
              " '컵': 737,\n",
              " '혈': 738,\n",
              " '냐': 739,\n",
              " '답': 740,\n",
              " '긍': 741,\n",
              " '꾸': 742,\n",
              " '싸': 743,\n",
              " '빨': 744,\n",
              " '낮': 745,\n",
              " '좋': 746,\n",
              " '씩': 747,\n",
              " '텔': 748,\n",
              " '앤': 749,\n",
              " '섰': 750,\n",
              " '밤': 751,\n",
              " '껴': 752,\n",
              " '끝': 753,\n",
              " '썩': 754,\n",
              " '몰': 755,\n",
              " '咸': 756,\n",
              " '錫': 757,\n",
              " '憲': 758,\n",
              " '릉': 759,\n",
              " '江': 760,\n",
              " '陵': 761,\n",
              " '信': 762,\n",
              " '天': 763,\n",
              " '씨': 764,\n",
              " '육': 765,\n",
              " '숙': 766,\n",
              " '一': 767,\n",
              " '亨': 768,\n",
              " '三': 769,\n",
              " '遷': 770,\n",
              " '齋': 771,\n",
              " '德': 772,\n",
              " '小': 773,\n",
              " '校': 774,\n",
              " '숭': 775,\n",
              " '촌': 776,\n",
              " '州': 777,\n",
              " '五': 778,\n",
              " '山': 779,\n",
              " '곳': 780,\n",
              " '內': 781,\n",
              " '村': 782,\n",
              " '鑑': 783,\n",
              " '金': 784,\n",
              " '敎': 785,\n",
              " '臣': 786,\n",
              " '宋': 787,\n",
              " '斗': 788,\n",
              " '用': 789,\n",
              " '鄭': 790,\n",
              " '相': 791,\n",
              " '勳': 792,\n",
              " '柳': 793,\n",
              " '東': 794,\n",
              " '楊': 795,\n",
              " '仁': 796,\n",
              " '性': 797,\n",
              " '聖': 798,\n",
              " '朝': 799,\n",
              " '鮮': 800,\n",
              " '객': 801,\n",
              " '글': 802,\n",
              " '〈': 803,\n",
              " '〉': 804,\n",
              " '옥': 805,\n",
              " '松': 806,\n",
              " '赫': 807,\n",
              " '鷄': 808,\n",
              " '友': 809,\n",
              " '會': 810,\n",
              " '事': 811,\n",
              " '件': 812,\n",
              " '弔': 813,\n",
              " '蛙': 814,\n",
              " '둑': 815,\n",
              " 'Y': 816,\n",
              " '휴': 817,\n",
              " '익': 818,\n",
              " '놀': 819,\n",
              " '빙': 820,\n",
              " '떻': 821,\n",
              " '랄': 822,\n",
              " '빚': 823,\n",
              " '퀘': 824,\n",
              " 'Q': 825,\n",
              " '派': 826,\n",
              " '좌': 827,\n",
              " '폈': 828,\n",
              " '윤': 829,\n",
              " '뷰': 830,\n",
              " '?': 831,\n",
              " '닙': 832,\n",
              " '옛': 833,\n",
              " '납': 834,\n",
              " '섭': 835,\n",
              " '암': 836,\n",
              " '읍': 837,\n",
              " '곧': 838,\n",
              " '듭': 839,\n",
              " '뤄': 840,\n",
              " '윈': 841,\n",
              " '뮤': 842,\n",
              " '줍': 843,\n",
              " '놈': 844,\n",
              " '빼': 845,\n",
              " '먹': 846,\n",
              " '넌': 847,\n",
              " '센': 848,\n",
              " '맸': 849,\n",
              " '白': 850,\n",
              " '南': 851,\n",
              " '準': 852,\n",
              " '水': 853,\n",
              " '原': 854,\n",
              " '뉴': 855,\n",
              " '쾰': 856,\n",
              " '쿄': 857,\n",
              " '머': 858,\n",
              " '녀': 859,\n",
              " '덴': 860,\n",
              " '쇤': 861,\n",
              " '뮌': 862,\n",
              " '헨': 863,\n",
              " '옮': 864,\n",
              " '션': 865,\n",
              " '릴': 866,\n",
              " '탁': 867,\n",
              " '콜': 868,\n",
              " '숨': 869,\n",
              " '넥': 870,\n",
              " '낭': 871,\n",
              " '젠': 872,\n",
              " '묻': 873,\n",
              " '셉': 874,\n",
              " '럭': 875,\n",
              " '벤': 876,\n",
              " '튜': 877,\n",
              " 'T': 878,\n",
              " 'V': 879,\n",
              " '탕': 880,\n",
              " '갤': 881,\n",
              " '덤': 882,\n",
              " '슐': 883,\n",
              " '릭': 884,\n",
              " '젖': 885,\n",
              " '킹': 886,\n",
              " '펼': 887,\n",
              " '큐': 888,\n",
              " '팅': 889,\n",
              " '봇': 890,\n",
              " '팩': 891,\n",
              " '촬': 892,\n",
              " '첼': 893,\n",
              " '샬': 894,\n",
              " '넣': 895,\n",
              " '섹': 896,\n",
              " '붓': 897,\n",
              " '휘': 898,\n",
              " 'E': 899,\n",
              " '꾀': 900,\n",
              " '굿': 901,\n",
              " '닝': 902,\n",
              " '퐁': 903,\n",
              " '샌': 904,\n",
              " '링': 905,\n",
              " '[': 906,\n",
              " '草': 907,\n",
              " '月': 908,\n",
              " ']': 909,\n",
              " '콘': 910,\n",
              " 'I': 911,\n",
              " '늑': 912,\n",
              " '엇': 913,\n",
              " '쮜': 914,\n",
              " '폴': 915,\n",
              " '틸': 916,\n",
              " '렉': 917,\n",
              " '닉': 918,\n",
              " '뇌': 919,\n",
              " '겐': 920,\n",
              " '눠': 921,\n",
              " '쪽': 922,\n",
              " '헝': 923,\n",
              " '튀': 924,\n",
              " '늄': 925,\n",
              " '段': 926,\n",
              " '狀': 927,\n",
              " '鑛': 928,\n",
              " '泉': 929,\n",
              " '솟': 930,\n",
              " '²': 931,\n",
              " '텝': 932,\n",
              " '흘': 933,\n",
              " '빠': 934,\n",
              " '젬': 935,\n",
              " '켈': 936,\n",
              " '륙': 937,\n",
              " '덜': 938,\n",
              " '덥': 939,\n",
              " 'д': 940,\n",
              " 'е': 941,\n",
              " 'к': 942,\n",
              " 'а': 943,\n",
              " 'и': 944,\n",
              " 'м': 945,\n",
              " 'т': 946,\n",
              " 'о': 947,\n",
              " 'У': 948,\n",
              " 'р': 949,\n",
              " 'н': 950,\n",
              " 'ѓ': 951,\n",
              " 'с': 952,\n",
              " 'л': 953,\n",
              " 'в': 954,\n",
              " 'п': 955,\n",
              " 'у': 956,\n",
              " 'ш': 957,\n",
              " 'з': 958,\n",
              " 'ч': 959,\n",
              " '„': 960,\n",
              " 'г': 961,\n",
              " 'б': 962,\n",
              " 'ј': 963,\n",
              " '얇': 964,\n",
              " '끈': 965,\n",
              " '옷': 966,\n",
              " '삭': 967,\n",
              " '늬': 968,\n",
              " '톱': 969,\n",
              " '렛': 970,\n",
              " '둔': 971,\n",
              " '元': 972,\n",
              " '支': 973,\n",
              " '點': 974,\n",
              " '先': 975,\n",
              " '잎': 976,\n",
              " '綱': 977,\n",
              " '꽃': 978,\n",
              " '잔': 979,\n",
              " '튼': 980,\n",
              " '理': 981,\n",
              " '容': 982,\n",
              " '깎': 983,\n",
              " '쇠': 984,\n",
              " '짧': 985,\n",
              " '탑': 986,\n",
              " '웹': 987,\n",
              " 'ˈ': 988,\n",
              " '꼽': 989,\n",
              " '얽': 990,\n",
              " '돕': 991,\n",
              " '칠': 992,\n",
              " '읽': 993,\n",
              " 'L': 994,\n",
              " '윅': 995,\n",
              " '훼': 996,\n",
              " '쉬': 997,\n",
              " '넘': 998,\n",
              " '챌': 999,\n",
              " ...}"
            ]
          },
          "metadata": {
            "tags": []
          },
          "execution_count": 44
        }
      ]
    },
    {
      "cell_type": "code",
      "metadata": {
        "colab": {
          "base_uri": "https://localhost:8080/"
        },
        "id": "7dKABkGlbtak",
        "outputId": "6258845f-8963-4402-ae55-bae6483cc957"
      },
      "source": [
        "char_to_id['아']"
      ],
      "execution_count": null,
      "outputs": [
        {
          "output_type": "execute_result",
          "data": {
            "text/plain": [
              "45"
            ]
          },
          "metadata": {
            "tags": []
          },
          "execution_count": 42
        }
      ]
    },
    {
      "cell_type": "markdown",
      "metadata": {
        "id": "qyOC08Vtbtal"
      },
      "source": [
        "-wiki char tokenizer"
      ]
    },
    {
      "cell_type": "code",
      "metadata": {
        "colab": {
          "base_uri": "https://localhost:8080/"
        },
        "id": "2JG300Sobtal",
        "outputId": "2c2a2cf7-6df4-4411-b441-df3ec024b2ca"
      },
      "source": [
        "with zipfile.ZipFile(args.corpus) as z:\n",
        "    with z.open(\"kowiki.txt\") as f:\n",
        "        for i, line in enumerate(f):\n",
        "            if i >= 5:\n",
        "                break\n",
        "            line = line.decode('utf-8').strip() #다시 utf-8로 맞춰준다?\n",
        "            print(line)\n",
        "            _id = [char_to_id[c] for c in line]\n",
        "            print(_id)\n",
        "\n"
      ],
      "execution_count": null,
      "outputs": [
        {
          "output_type": "stream",
          "text": [
            "지미 카터\n",
            "[2, 3, 4, 5, 6]\n",
            "제임스 얼 \"지미\" 카터 주니어(, 1924년 10월 1일 ~ )는 민주당 출신 미국 39번째 대통령 (1977년 ~ 1981년)이다.\n",
            "[7, 8, 9, 4, 10, 4, 11, 2, 3, 11, 4, 5, 6, 4, 12, 13, 14, 15, 16, 4, 17, 18, 19, 20, 21, 4, 17, 22, 23, 4, 17, 24, 4, 25, 4, 26, 27, 4, 28, 12, 29, 4, 30, 31, 4, 3, 32, 4, 33, 18, 34, 35, 4, 36, 37, 38, 4, 15, 17, 18, 39, 39, 21, 4, 25, 4, 17, 18, 40, 17, 21, 26, 41, 42, 43]\n",
            "지미 카터는 조지아주 섬터 카운티 플레인스 마을에서 태어났다. 조지아 공과대학교를 졸업하였다. 그 후 해군에 들어가 전함·원자력·잠수함의 승무원으로 일하였다. 1953년 미국 해군 대위로 예편하였고 이후 땅콩·면화 등을 가꿔 많은 돈을 벌었다. 그의 별명이 \"땅콩 농부\" (Peanut Farmer)로 알려졌다.\n",
            "[2, 3, 4, 5, 6, 27, 4, 44, 2, 45, 12, 4, 46, 6, 4, 5, 47, 48, 4, 49, 50, 51, 9, 4, 52, 53, 54, 55, 4, 56, 14, 57, 42, 43, 4, 44, 2, 45, 4, 58, 59, 36, 60, 61, 62, 4, 63, 64, 65, 66, 42, 43, 4, 67, 4, 68, 4, 69, 70, 54, 4, 71, 14, 72, 4, 73, 74, 75, 76, 77, 78, 75, 79, 80, 74, 81, 4, 82, 83, 76, 84, 85, 4, 24, 65, 66, 42, 43, 4, 17, 18, 86, 33, 21, 4, 3, 32, 4, 69, 70, 4, 36, 87, 85, 4, 88, 89, 65, 66, 90, 4, 41, 68, 4, 91, 92, 75, 93, 94, 4, 95, 53, 4, 72, 96, 4, 97, 98, 4, 99, 53, 4, 100, 101, 42, 43, 4, 67, 81, 4, 102, 103, 41, 4, 11, 91, 92, 4, 104, 105, 11, 4, 15, 106, 107, 108, 109, 110, 111, 4, 112, 108, 113, 114, 107, 113, 26, 85, 4, 115, 116, 117, 42, 43]\n",
            "1962년 조지아 주 상원 의원 선거에서 낙선하나 그 선거가 부정선거 였음을 입증하게 되어 당선되고, 1966년 조지아 주 지사 선거에 낙선하지만 1970년 조지아 주 지사를 역임했다. 대통령이 되기 전 조지아주 상원의원을 두번 연임했으며, 1971년부터 1975년까지 조지아 지사로 근무했다. 조지아 주지사로 지내면서, 미국에 사는 흑인 등용법을 내세웠다.\n",
            "[17, 18, 118, 19, 21, 4, 44, 2, 45, 4, 12, 4, 119, 76, 4, 81, 76, 4, 120, 121, 54, 55, 4, 122, 120, 65, 123, 4, 67, 4, 120, 121, 72, 4, 105, 124, 120, 121, 4, 66, 125, 53, 4, 126, 127, 65, 128, 4, 129, 14, 4, 29, 120, 129, 90, 16, 4, 17, 18, 118, 118, 21, 4, 44, 2, 45, 4, 12, 4, 2, 130, 4, 120, 121, 54, 4, 122, 120, 65, 2, 131, 4, 17, 18, 39, 22, 21, 4, 44, 2, 45, 4, 12, 4, 2, 130, 62, 4, 132, 8, 133, 42, 43, 4, 36, 37, 38, 41, 4, 129, 134, 4, 73, 4, 44, 2, 45, 12, 4, 119, 76, 81, 76, 53, 4, 135, 34, 4, 136, 8, 133, 84, 137, 16, 4, 17, 18, 39, 17, 21, 105, 6, 4, 17, 18, 39, 86, 21, 138, 2, 4, 44, 2, 45, 4, 2, 130, 85, 4, 139, 83, 133, 42, 43, 4, 44, 2, 45, 4, 12, 2, 130, 85, 4, 2, 140, 93, 55, 16, 4, 3, 32, 54, 4, 130, 27, 4, 141, 51, 4, 95, 142, 143, 53, 4, 140, 144, 145, 42, 43]\n",
            "1976년 대통령 선거에 민주당 후보로 출마하여 도덕주의 정책으로 내세워, 포드를 누르고 당선되었다.\n",
            "[17, 18, 39, 118, 21, 4, 36, 37, 38, 4, 120, 121, 54, 4, 28, 12, 29, 4, 68, 146, 85, 4, 30, 52, 65, 147, 4, 148, 149, 12, 81, 4, 124, 150, 84, 85, 4, 140, 144, 151, 16, 4, 152, 153, 62, 4, 154, 155, 90, 4, 29, 120, 129, 101, 42, 43]\n"
          ],
          "name": "stdout"
        }
      ]
    },
    {
      "cell_type": "code",
      "metadata": {
        "id": "mX4Td5APZkYv"
      },
      "source": [
        ""
      ],
      "execution_count": null,
      "outputs": []
    },
    {
      "cell_type": "markdown",
      "metadata": {
        "id": "uV6DtdNv1D8C"
      },
      "source": [
        "# argparse"
      ]
    },
    {
      "cell_type": "code",
      "metadata": {
        "colab": {
          "base_uri": "https://localhost:8080/"
        },
        "id": "2JTZvb9H1DVK",
        "outputId": "e26222ad-d689-4f18-f869-2e673ea5e6ee"
      },
      "source": [
        "args = {\n",
        "    \"name\": \"aaaa\",\n",
        "    \"value\": 1234,\n",
        "    \"text\": \"nice to meet you\"\n",
        "}\n",
        "args = argparse.Namespace(**args)\n",
        "\n",
        "args"
      ],
      "execution_count": null,
      "outputs": [
        {
          "output_type": "execute_result",
          "data": {
            "text/plain": [
              "Namespace(name='aaaa', text='nice to meet you', value=1234)"
            ]
          },
          "metadata": {
            "tags": []
          },
          "execution_count": 7
        }
      ]
    },
    {
      "cell_type": "code",
      "metadata": {
        "colab": {
          "base_uri": "https://localhost:8080/"
        },
        "id": "osIbEV8xwB7m",
        "outputId": "c8b72a18-0bb1-4ab0-fc81-6cd2f50af705"
      },
      "source": [
        "args.name, args.value"
      ],
      "execution_count": null,
      "outputs": [
        {
          "output_type": "execute_result",
          "data": {
            "text/plain": [
              "('aaaa', 1234)"
            ]
          },
          "metadata": {
            "tags": []
          },
          "execution_count": 9
        }
      ]
    },
    {
      "cell_type": "markdown",
      "metadata": {
        "id": "3P5VZWkXJO-z"
      },
      "source": [
        "# os"
      ]
    },
    {
      "cell_type": "code",
      "metadata": {
        "id": "IwqVKaEiJOql"
      },
      "source": [
        "# 폴더 목록 조회\n",
        "os.listdir(data_dir)"
      ],
      "execution_count": null,
      "outputs": []
    },
    {
      "cell_type": "code",
      "metadata": {
        "id": "2H0BLydCb7lg",
        "colab": {
          "base_uri": "https://localhost:8080/",
          "height": 35
        },
        "outputId": "23e75d89-3fd1-49ce-cd26-9ac8f4e49fa4"
      },
      "source": [
        "# 경로생성\n",
        "temp_path = os.path.join(data_dir, 'aaa')\n",
        "temp_path"
      ],
      "execution_count": null,
      "outputs": [
        {
          "output_type": "execute_result",
          "data": {
            "application/vnd.google.colaboratory.intrinsic+json": {
              "type": "string"
            },
            "text/plain": [
              "'/content/drive/MyDrive/Data/nlp/aaa'"
            ]
          },
          "metadata": {
            "tags": []
          },
          "execution_count": 8
        }
      ]
    },
    {
      "cell_type": "code",
      "metadata": {
        "colab": {
          "base_uri": "https://localhost:8080/"
        },
        "id": "lvDuSrIwKDvy",
        "outputId": "6fff7c83-d6c2-44f6-eeff-b83ea9e02788"
      },
      "source": [
        "# 폴더 생성\n",
        "os.makedirs(temp_path)\n",
        "# 폴더 목록 조회\n",
        "os.listdir(data_dir)"
      ],
      "execution_count": null,
      "outputs": [
        {
          "output_type": "execute_result",
          "data": {
            "text/plain": [
              "['kowiki', 'aaa']"
            ]
          },
          "metadata": {
            "tags": []
          },
          "execution_count": 9
        }
      ]
    },
    {
      "cell_type": "code",
      "metadata": {
        "colab": {
          "base_uri": "https://localhost:8080/"
        },
        "id": "uY1g7kaiKREk",
        "outputId": "7b1b8053-10ed-4d26-dbeb-cd1360a72949"
      },
      "source": [
        "# 폴더 생성\n",
        "os.removedirs(temp_path)\n",
        "# 폴더 목록 조회\n",
        "os.listdir(data_dir)"
      ],
      "execution_count": null,
      "outputs": [
        {
          "output_type": "execute_result",
          "data": {
            "text/plain": [
              "['kowiki']"
            ]
          },
          "metadata": {
            "tags": []
          },
          "execution_count": 10
        }
      ]
    },
    {
      "cell_type": "markdown",
      "metadata": {
        "id": "mUCl87GuJmBA"
      },
      "source": [
        "# random"
      ]
    },
    {
      "cell_type": "code",
      "metadata": {
        "colab": {
          "base_uri": "https://localhost:8080/"
        },
        "id": "13aHAi1rJj37",
        "outputId": "e6f384a4-4721-4eaf-cb36-419336350c65"
      },
      "source": [
        "# random 값 생성 (0 .. 1)\n",
        "random.random()"
      ],
      "execution_count": null,
      "outputs": [
        {
          "output_type": "execute_result",
          "data": {
            "text/plain": [
              "0.9664535356921388"
            ]
          },
          "metadata": {
            "tags": []
          },
          "execution_count": 11
        }
      ]
    },
    {
      "cell_type": "code",
      "metadata": {
        "colab": {
          "base_uri": "https://localhost:8080/"
        },
        "id": "bD_0dAd9LN_n",
        "outputId": "097fcae6-3fad-400e-c76a-b11bf710e57a"
      },
      "source": [
        "# 1..6 사이의 값 random 선택\n",
        "random.randrange(1,7)"
      ],
      "execution_count": null,
      "outputs": [
        {
          "output_type": "execute_result",
          "data": {
            "text/plain": [
              "4"
            ]
          },
          "metadata": {
            "tags": []
          },
          "execution_count": 12
        }
      ]
    },
    {
      "cell_type": "code",
      "metadata": {
        "colab": {
          "base_uri": "https://localhost:8080/"
        },
        "id": "_hz7l_GqLfD3",
        "outputId": "29a02b8e-fa78-45fe-991d-57fed810372b"
      },
      "source": [
        "# random 순서 섞기\n",
        "a = [1, 2, 3, 4, 5, 6]\n",
        "random.shuffle(a)\n",
        "a"
      ],
      "execution_count": null,
      "outputs": [
        {
          "output_type": "execute_result",
          "data": {
            "text/plain": [
              "[2, 4, 3, 5, 6, 1]"
            ]
          },
          "metadata": {
            "tags": []
          },
          "execution_count": 13
        }
      ]
    },
    {
      "cell_type": "markdown",
      "metadata": {
        "id": "rfGkX9Y-L_7Z"
      },
      "source": [
        "# shutil"
      ]
    },
    {
      "cell_type": "code",
      "metadata": {
        "colab": {
          "base_uri": "https://localhost:8080/"
        },
        "id": "9mfdpHreMKsi",
        "outputId": "4c4a8d76-1b55-4e7a-987b-4647083b568b"
      },
      "source": [
        "os.listdir(\"sample_data\")"
      ],
      "execution_count": null,
      "outputs": [
        {
          "output_type": "execute_result",
          "data": {
            "text/plain": [
              "['anscombe.json',\n",
              " 'README.md',\n",
              " 'california_housing_train.csv',\n",
              " 'mnist_train_small.csv',\n",
              " 'mnist_test.csv',\n",
              " 'california_housing_test.csv']"
            ]
          },
          "metadata": {
            "tags": []
          },
          "execution_count": 14
        }
      ]
    },
    {
      "cell_type": "code",
      "metadata": {
        "colab": {
          "base_uri": "https://localhost:8080/"
        },
        "id": "1IkCYwsmMOAy",
        "outputId": "41686584-7db9-40ff-e863-c8ad79ccfb30"
      },
      "source": [
        "os.listdir(data_dir)"
      ],
      "execution_count": null,
      "outputs": [
        {
          "output_type": "execute_result",
          "data": {
            "text/plain": [
              "['kowiki']"
            ]
          },
          "metadata": {
            "tags": []
          },
          "execution_count": 15
        }
      ]
    },
    {
      "cell_type": "code",
      "metadata": {
        "colab": {
          "base_uri": "https://localhost:8080/"
        },
        "id": "3R4o2zD8LwgS",
        "outputId": "6226680d-312a-452d-8bd5-0bf3782faa32"
      },
      "source": [
        "# 복사\n",
        "shutil.copy(os.path.join(\"sample_data\", 'README.md'), os.path.join(data_dir, 'README.md'))\n",
        "os.listdir(data_dir)"
      ],
      "execution_count": null,
      "outputs": [
        {
          "output_type": "execute_result",
          "data": {
            "text/plain": [
              "['kowiki', 'README.md']"
            ]
          },
          "metadata": {
            "tags": []
          },
          "execution_count": 16
        }
      ]
    },
    {
      "cell_type": "code",
      "metadata": {
        "colab": {
          "base_uri": "https://localhost:8080/"
        },
        "id": "byJJlGYFMZZv",
        "outputId": "40e2f682-e7a6-4355-c267-d0a29fc15840"
      },
      "source": [
        "# 이동 (이름변경)\n",
        "shutil.move(os.path.join(data_dir, 'README.md'), 'AAA.md')\n",
        "os.listdir(data_dir)"
      ],
      "execution_count": null,
      "outputs": [
        {
          "output_type": "execute_result",
          "data": {
            "text/plain": [
              "['kowiki']"
            ]
          },
          "metadata": {
            "tags": []
          },
          "execution_count": 17
        }
      ]
    },
    {
      "cell_type": "code",
      "metadata": {
        "colab": {
          "base_uri": "https://localhost:8080/"
        },
        "id": "AOVBXd4-M7m-",
        "outputId": "5f3d2147-ffd0-4dd1-8dee-bd4a767fd779"
      },
      "source": [
        "os.listdir()"
      ],
      "execution_count": null,
      "outputs": [
        {
          "output_type": "execute_result",
          "data": {
            "text/plain": [
              "['.config', 'sample_data']"
            ]
          },
          "metadata": {
            "tags": []
          },
          "execution_count": 13
        }
      ]
    },
    {
      "cell_type": "code",
      "metadata": {
        "colab": {
          "base_uri": "https://localhost:8080/",
          "height": 298
        },
        "id": "0JvW1wpKyKTM",
        "outputId": "73fb2c22-dd71-46a3-eef5-fd4dc852c54c"
      },
      "source": [
        "os.removedirs('sample_data')"
      ],
      "execution_count": null,
      "outputs": [
        {
          "output_type": "error",
          "ename": "OSError",
          "evalue": "ignored",
          "traceback": [
            "\u001b[0;31m---------------------------------------------------------------------------\u001b[0m",
            "\u001b[0;31mOSError\u001b[0m                                   Traceback (most recent call last)",
            "\u001b[0;32m<ipython-input-14-8b69dad48fa8>\u001b[0m in \u001b[0;36m<module>\u001b[0;34m()\u001b[0m\n\u001b[0;32m----> 1\u001b[0;31m \u001b[0mos\u001b[0m\u001b[0;34m.\u001b[0m\u001b[0mremovedirs\u001b[0m\u001b[0;34m(\u001b[0m\u001b[0;34m'sample_data'\u001b[0m\u001b[0;34m)\u001b[0m\u001b[0;34m\u001b[0m\u001b[0;34m\u001b[0m\u001b[0m\n\u001b[0m",
            "\u001b[0;32m/usr/lib/python3.7/os.py\u001b[0m in \u001b[0;36mremovedirs\u001b[0;34m(name)\u001b[0m\n\u001b[1;32m    239\u001b[0m \u001b[0;34m\u001b[0m\u001b[0m\n\u001b[1;32m    240\u001b[0m     \"\"\"\n\u001b[0;32m--> 241\u001b[0;31m     \u001b[0mrmdir\u001b[0m\u001b[0;34m(\u001b[0m\u001b[0mname\u001b[0m\u001b[0;34m)\u001b[0m\u001b[0;34m\u001b[0m\u001b[0;34m\u001b[0m\u001b[0m\n\u001b[0m\u001b[1;32m    242\u001b[0m     \u001b[0mhead\u001b[0m\u001b[0;34m,\u001b[0m \u001b[0mtail\u001b[0m \u001b[0;34m=\u001b[0m \u001b[0mpath\u001b[0m\u001b[0;34m.\u001b[0m\u001b[0msplit\u001b[0m\u001b[0;34m(\u001b[0m\u001b[0mname\u001b[0m\u001b[0;34m)\u001b[0m\u001b[0;34m\u001b[0m\u001b[0;34m\u001b[0m\u001b[0m\n\u001b[1;32m    243\u001b[0m     \u001b[0;32mif\u001b[0m \u001b[0;32mnot\u001b[0m \u001b[0mtail\u001b[0m\u001b[0;34m:\u001b[0m\u001b[0;34m\u001b[0m\u001b[0;34m\u001b[0m\u001b[0m\n",
            "\u001b[0;31mOSError\u001b[0m: [Errno 39] Directory not empty: 'sample_data'"
          ]
        }
      ]
    },
    {
      "cell_type": "code",
      "metadata": {
        "colab": {
          "base_uri": "https://localhost:8080/"
        },
        "id": "bGXBXoA4M-sc",
        "outputId": "8d00ad56-7380-49a1-b58b-8437d2236a56"
      },
      "source": [
        "# 삭제 (사용시 매우 주의 필요)\n",
        "shutil.rmtree('sample_data')\n",
        "os.listdir()"
      ],
      "execution_count": null,
      "outputs": [
        {
          "output_type": "execute_result",
          "data": {
            "text/plain": [
              "['.config']"
            ]
          },
          "metadata": {
            "tags": []
          },
          "execution_count": 15
        }
      ]
    },
    {
      "cell_type": "markdown",
      "metadata": {
        "id": "J56MulAyNkmH"
      },
      "source": [
        "# json"
      ]
    },
    {
      "cell_type": "code",
      "metadata": {
        "colab": {
          "base_uri": "https://localhost:8080/"
        },
        "id": "BtvJtu8CNtNG",
        "outputId": "4cdee29f-23e1-4e19-8e56-fc514ebc6e46"
      },
      "source": [
        "# json 선언\n",
        "a = {\"a\": 1, \"b\": {\"c\": \"2\", \"d\": 3.2}, \"e\": [1, 2, 3]}\n",
        "a, type(a)"
      ],
      "execution_count": null,
      "outputs": [
        {
          "output_type": "execute_result",
          "data": {
            "text/plain": [
              "({'a': 1, 'b': {'c': '2', 'd': 3.2}, 'e': [1, 2, 3]}, dict)"
            ]
          },
          "metadata": {
            "tags": []
          },
          "execution_count": 16
        }
      ]
    },
    {
      "cell_type": "code",
      "metadata": {
        "colab": {
          "base_uri": "https://localhost:8080/"
        },
        "id": "67qD4RxINnO2",
        "outputId": "565e2ebc-020f-4fd9-b9a5-a1f09bc6c630"
      },
      "source": [
        "# json을 string으로 변환\n",
        "a_str = json.dumps(a)\n",
        "a_str, type(a_str)"
      ],
      "execution_count": null,
      "outputs": [
        {
          "output_type": "execute_result",
          "data": {
            "text/plain": [
              "('{\"a\": 1, \"b\": {\"c\": \"2\", \"d\": 3.2}, \"e\": [1, 2, 3]}', str)"
            ]
          },
          "metadata": {
            "tags": []
          },
          "execution_count": 17
        }
      ]
    },
    {
      "cell_type": "code",
      "metadata": {
        "colab": {
          "base_uri": "https://localhost:8080/"
        },
        "id": "U6CIpkjkOCkw",
        "outputId": "44e41b07-e434-4132-9dc8-c7c7fd2aa195"
      },
      "source": [
        "# string을 json으로 변환\n",
        "b = json.loads(a_str)\n",
        "a, type(b)"
      ],
      "execution_count": null,
      "outputs": [
        {
          "output_type": "execute_result",
          "data": {
            "text/plain": [
              "({'a': 1, 'b': {'c': '2', 'd': 3.2}, 'e': [1, 2, 3]}, dict)"
            ]
          },
          "metadata": {
            "tags": []
          },
          "execution_count": 18
        }
      ]
    },
    {
      "cell_type": "code",
      "metadata": {
        "id": "1N02HxasOTUW"
      },
      "source": [
        "# 파일에 json 저장\n",
        "with open(os.path.join(\"a.json\"), \"w\") as f:\n",
        "    json.dump(a, f)"
      ],
      "execution_count": null,
      "outputs": []
    },
    {
      "cell_type": "code",
      "metadata": {
        "colab": {
          "base_uri": "https://localhost:8080/"
        },
        "id": "U5qyv1SkOtoI",
        "outputId": "1e789b1c-d428-4e4a-d3e3-35fc5728c3d8"
      },
      "source": [
        "# 파일에서 1개의 json 읽기\n",
        "with open(os.path.join(\"a.json\")) as f:\n",
        "    c = json.load(f)\n",
        "c, type(c)"
      ],
      "execution_count": null,
      "outputs": [
        {
          "output_type": "execute_result",
          "data": {
            "text/plain": [
              "({'a': 1, 'b': {'c': '2', 'd': 3.2}, 'e': [1, 2, 3]}, dict)"
            ]
          },
          "metadata": {
            "tags": []
          },
          "execution_count": 21
        }
      ]
    },
    {
      "cell_type": "code",
      "metadata": {
        "id": "x09AzY7OPS8I"
      },
      "source": [
        "# 파일에 여러개 json 저장\n",
        "with open(os.path.join(\"b.json\"), \"w\") as f:\n",
        "    f.write(json.dumps(a))\n",
        "    f.write(\"\\n\")\n",
        "    f.write(json.dumps({\"a\": 2, \"b\": {\"c\": \"2\", \"d\": 3.2}, \"e\": [1, 2, 3]}))\n",
        "    f.write(\"\\n\")\n",
        "    f.write(json.dumps({\"a\": 3, \"b\": {\"c\": \"2\", \"d\": 3.2}, \"e\": [1, 2, 3]}))\n",
        "    f.write(\"\\n\")"
      ],
      "execution_count": null,
      "outputs": []
    },
    {
      "cell_type": "code",
      "metadata": {
        "colab": {
          "base_uri": "https://localhost:8080/"
        },
        "id": "Es_WqqZQP5qa",
        "outputId": "2b5b68ca-ce91-43c4-cd0b-7b5c6f141fa6"
      },
      "source": [
        "# 파일에서 여러개 json 읽기\n",
        "with open(os.path.join(\"b.json\")) as f:\n",
        "    for line in f:\n",
        "        print(line.strip())\n",
        "        data = json.loads(line)\n",
        "        print(data)\n",
        "        print()"
      ],
      "execution_count": null,
      "outputs": [
        {
          "output_type": "stream",
          "text": [
            "{\"a\": 1, \"b\": {\"c\": \"2\", \"d\": 3.2}, \"e\": [1, 2, 3]}\n",
            "{'a': 1, 'b': {'c': '2', 'd': 3.2}, 'e': [1, 2, 3]}\n",
            "\n",
            "{\"a\": 2, \"b\": {\"c\": \"2\", \"d\": 3.2}, \"e\": [1, 2, 3]}\n",
            "{'a': 2, 'b': {'c': '2', 'd': 3.2}, 'e': [1, 2, 3]}\n",
            "\n",
            "{\"a\": 3, \"b\": {\"c\": \"2\", \"d\": 3.2}, \"e\": [1, 2, 3]}\n",
            "{'a': 3, 'b': {'c': '2', 'd': 3.2}, 'e': [1, 2, 3]}\n",
            "\n"
          ],
          "name": "stdout"
        }
      ]
    },
    {
      "cell_type": "code",
      "metadata": {
        "colab": {
          "base_uri": "https://localhost:8080/"
        },
        "id": "gWWn2UjVXP4o",
        "outputId": "802b399a-5c92-4f21-e41d-b61bdfbfd1b4"
      },
      "source": [
        "# 파일삭제\n",
        "os.remove(os.path.join(data_dir, \"a.json\"))\n",
        "os.remove(os.path.join(data_dir, \"b.json\"))\n",
        "# 폴더 목록 조회\n",
        "os.listdir(data_dir)"
      ],
      "execution_count": null,
      "outputs": [
        {
          "output_type": "execute_result",
          "data": {
            "text/plain": [
              "['kowiki']"
            ]
          },
          "metadata": {
            "tags": []
          },
          "execution_count": 35
        }
      ]
    },
    {
      "cell_type": "markdown",
      "metadata": {
        "id": "HEFsB0nIQqKu"
      },
      "source": [
        "# zipfile"
      ]
    },
    {
      "cell_type": "code",
      "metadata": {
        "id": "ZjTs9mzdXupz"
      },
      "source": [
        "kowiki_dir = os.path.join(data_dir, \"kowiki\")"
      ],
      "execution_count": null,
      "outputs": []
    },
    {
      "cell_type": "code",
      "metadata": {
        "colab": {
          "base_uri": "https://localhost:8080/"
        },
        "id": "FW5zvQrBQs96",
        "outputId": "33900646-a039-448e-8720-8fb9119f1efe"
      },
      "source": [
        "os.listdir(kowiki_dir)"
      ],
      "execution_count": null,
      "outputs": [
        {
          "output_type": "execute_result",
          "data": {
            "text/plain": [
              "['kowiki.txt.zip']"
            ]
          },
          "metadata": {
            "tags": []
          },
          "execution_count": 27
        }
      ]
    },
    {
      "cell_type": "code",
      "metadata": {
        "id": "vh8rIM65XmF1",
        "colab": {
          "base_uri": "https://localhost:8080/"
        },
        "outputId": "5efba00d-c32b-436a-f607-c53a2f15c1e8"
      },
      "source": [
        "# wiki 내용 확인\n",
        "with zipfile.ZipFile(os.path.join(kowiki_dir, \"kowiki.txt.zip\")) as z:\n",
        "    with z.open(\"kowiki.txt\") as f:\n",
        "        for i, line in enumerate(f):\n",
        "            if  100 < i:\n",
        "                break\n",
        "            line = line.decode('utf-8').strip()\n",
        "            print(line)"
      ],
      "execution_count": null,
      "outputs": [
        {
          "output_type": "stream",
          "text": [
            "지미 카터\n",
            "제임스 얼 \"지미\" 카터 주니어(, 1924년 10월 1일 ~ )는 민주당 출신 미국 39번째 대통령 (1977년 ~ 1981년)이다.\n",
            "지미 카터는 조지아주 섬터 카운티 플레인스 마을에서 태어났다. 조지아 공과대학교를 졸업하였다. 그 후 해군에 들어가 전함·원자력·잠수함의 승무원으로 일하였다. 1953년 미국 해군 대위로 예편하였고 이후 땅콩·면화 등을 가꿔 많은 돈을 벌었다. 그의 별명이 \"땅콩 농부\" (Peanut Farmer)로 알려졌다.\n",
            "1962년 조지아 주 상원 의원 선거에서 낙선하나 그 선거가 부정선거 였음을 입증하게 되어 당선되고, 1966년 조지아 주 지사 선거에 낙선하지만 1970년 조지아 주 지사를 역임했다. 대통령이 되기 전 조지아주 상원의원을 두번 연임했으며, 1971년부터 1975년까지 조지아 지사로 근무했다. 조지아 주지사로 지내면서, 미국에 사는 흑인 등용법을 내세웠다.\n",
            "1976년 대통령 선거에 민주당 후보로 출마하여 도덕주의 정책으로 내세워, 포드를 누르고 당선되었다.\n",
            "카터 대통령은 에너지 개발을 촉구했으나 공화당의 반대로 무산되었다.\n",
            "카터는 이집트와 이스라엘을 조정하여, 캠프 데이비드에서 안와르 사다트 대통령과 메나헴 베긴 수상과 함께 중동 평화를 위한 캠프데이비드 협정을 체결했다.\n",
            "그러나 이것은 공화당과 미국의 유대인 단체의 반발을 일으켰다. 1979년 백악관에서 양국 간의 평화조약으로 이끌어졌다. 또한 소련과 제2차 전략 무기 제한 협상에 조인했다.\n",
            "카터는 1970년대 후반 당시 대한민국 등 인권 후진국의 국민들의 인권을 지키기 위해 노력했으며, 취임 이후 계속해서 도덕정치를 내세웠다.\n",
            "그러나 주 이란 미국 대사관 인질 사건에서 인질 구출 실패를 이유로 1980년 대통령 선거에서 공화당의 로널드 레이건 후보에게 져 결국 재선에 실패했다. 또한 임기 말기에 터진 소련의 아프가니스탄 침공 사건으로 인해 1980년 하계 올림픽에 반공국가들의 보이콧을 내세웠다.\n",
            "지미 카터는 대한민국과의 관계에서도 중요한 영향을 미쳤던 대통령 중 하나다. 인권 문제와 주한미군 철수 문제로 한때 한미 관계가 불편하기도 했다. 1978년 대한민국에 대한 북한의 위협에 대비해 한미연합사를 창설하면서, 1982년까지 3단계에 걸쳐 주한미군을 철수하기로 했다. 그러나 주한미군사령부와 정보기관·의회의 반대에 부딪혀 주한미군은 완전철수 대신 6,000명을 감축하는 데 그쳤다. 또한 박정희 정권의 인권 문제 등과의 논란으로 불협화음을 냈으나, 1979년 6월 하순, 대한민국을 방문하여 관계가 다소 회복되었다.\n",
            "1979년 ~ 1980년 대한민국의 정치적 격변기 당시의 대통령이었던 그는 이에 대해 애매한 태도를 보였고, 이는 후에 대한민국 내에서 고조되는 반미 운동의 한 원인이 됐다. 10월 26일, 박정희 대통령이 김재규 중앙정보부장에 의해 살해된 것에 대해 그는 이 사건으로 큰 충격을 받았으며, 사이러스 밴스 국무장관을 조문사절로 파견했다. 12·12 군사 반란과 5.17 쿠데타에 대해 초기에는 강하게 비난했으나, 미국 정부가 신군부를 설득하는데, 한계가 있었고 결국 묵인하는 듯한 태도를 보이게 됐다.\n",
            "퇴임 이후 민간 자원을 적극 활용한 비영리 기구인 카터 재단을 설립한 뒤 민주주의 실현을 위해 제 3세계의 선거 감시 활동 및 기니 벌레에 의한 드라쿤쿠르스 질병 방재를 위해 힘썼다. 미국의 빈곤층 지원 활동, 사랑의 집짓기 운동, 국제 분쟁 중재 등의 활동도 했다.\n",
            "카터는 카터 행정부 이후 미국이 북핵 위기, 코소보 전쟁, 이라크 전쟁과 같이 미국이 군사적 행동을 최후로 선택하는 전통적 사고를 버리고 군사적 행동을 선행하는 행위에 대해 깊은 유감을 표시 하며 미국의 군사적 활동에 강한 반대 입장을 보이고 있다.\n",
            "특히 국제 분쟁 조정을 위해 북한의 김일성, 아이티의 세드라스 장군, 팔레인스타인의 하마스, 보스니아의 세르비아계 정권 같이 미국 정부에 대해 협상을 거부하면서 사태의 위기를 초래한 인물 및 단체를 직접 만나 분쟁의 원인을 근본적으로 해결하기 위해 힘썼다. 이 과정에서 미국 행정부와 갈등을 보이기도 했지만, 전직 대통령의 권한과 재야 유명 인사들의 활약으로 해결해 나갔다.\n",
            "1978년에 채결된 캠프데이비드 협정의 이행이 지지부진 하자 중동 분쟁 분제를 해결하기 위해 1993년 퇴임 후 직접 이스라엘과 팔레인스타인의 오슬로 협정을 이끌어 내는 데도 성공했다.\n",
            "1993년 1차 북핵 위기 당시 북한에 대한 미국의 군사적 행동이 임박했으나, 미국 전직 대통령으로는 처음으로 북한을 방문하고 미국과 북 양국의 중재에 큰 기여를 해 위기를 해결했다는 평가를 받았다. 또한 이 때 김영삼 대통령과 김일성 주석의 만남을 주선했다. 하지만 그로부터 수주일 후 김일성이 갑자기 사망하여 김일성과 김영삼의 정상회담은 이루어지지 못했다.\n",
            "미국의 관타나모 수용소 문제, 세계의 인권문제에서도 관심이 깊어 유엔에 유엔인권고등판무관의 제도를 시행하도록 노력하여 독재자들의 인권 유린에 대해 제약을 하고, 국제형사재판소를 만드는 데 기여하여 독재자들 같은 인권유린범죄자를 재판소로 회부하여 국제적인 처벌을 받게 하는 등 인권 신장에 크나 큰 기여를 했다.\n",
            "2011년 4월 26일부터 29일까지 북한을 3일간 방문했다.\n",
            "경제문제를 해결하지 못하고 주 이란 미국 대사관 인질 사건에 발목이 잡혀 실패한 대통령으로 평가를 받지만 이란 사태는 미국 내 이란 재산을 풀어주겠다는 조건을 내세워서 사실상 카터가 해결한 것이었고, 사랑의 집짓기 운동 등으로 퇴임 후에 훨씬 더 존경받는 미국 대통령 중에 특이한 인물로 남았다.\n",
            "그는 2002년 말 인권과 중재 역할에 대한 공로를 인정받아 노벨 평화상을 받게 되었다.\n",
            "\n",
            "\n",
            "\n",
            "수학\n",
            "수학(數學, ) 은 양, 구조, 공간, 변화, 미적분 등의 개념을 다루는 학문이다. 현대 수학은 형식 논리를 이용해서 공리로 구성된 추상적 구조를 연구하는 학문으로 여겨지기도 한다. 수학은 그 구조와 발전 과정에서는 자연과학에 속하는 물리학을 비롯한 다른 학문들과 깊은 연관을 맺고 있다. 하지만, 어느 과학의 분야들과는 달리, 자연계에서 관측되지 않는 개념들에 대해서까지 이론을 일반화 및 추상화시킬 수 있다는 차이가 있다고 한다. 수학자들은 그러한 개념들에 대해서 추측을 하고, 적절하게 선택된 정의와 공리로부터의 엄밀한 연역을 통해서 추측들의 진위를 파악한다.\n",
            "수학은 숫자 세기, 계산, 측정 및 물리적 대상의 모양과 움직임을 추상화하고, 이에 논리적 추론을 적용하여 나타났다. 이런 기본 개념들은 고대 이집트, 메소포타미아, 고대 인도, 고대 중국 및 고대 그리스의 수학책에서 찾아볼 수 있다. 그리고, 유클리드의 원론에서는 엄밀한 논증이 발견된다. 이런 발전은 그 뒤로도 계속되어, 16세기의 르네상스에 이르러서는 수학적 발전과 과학적 방법들의 상호 작용이 일어나, 혁명적인 연구들이 진행되며 인류 문명에 큰 영향을 미치게 되었다. 그리고, 이는 현재까지도 계속되고 있다.\n",
            "오늘날 수학은 자연과학, 공학, 의학뿐만 아니라, 경제학 등의 사회과학에서도 중요한 도구로서도 사용된다. 수학을 이런 분야들에 적용한 응용수학은 그 결과로써 수학 자체의 발전을 이끌고 새로운 분야들을 낳았다. 응용이 아닌 수학 자체의 아름다움과 재미를 추구하며 연구하는 것을 순수수학이라 하는데, 긴 시간이 지난 뒤에 순수수학적 연구를 다른 분야에 응용할 방법이 발견된 경우도 많았다고 한다.\n",
            "대부분 자료를 보면, \"mathematics\"는 \"수리적인\"이라는 뜻을 가진 라틴어 mathmaticus와 그리스어 mathematikos에서 유래되었거나, \"학식있는\"을 뜻하는 mathema와 \"배우다\"를 뜻하는 manthanein에서 유래되었다고 한다. 줄여서 \"math\"라고 표현하기도 한다.\n",
            "수학은 기원전 600년 경에 살았던 탈레스로부터 시작됐다. 하지만 탈레스가 태어나기 전에도 수학을 연구한 사람이 있을 수도 있기 때문에, 인류의 역사와 더불어 시작되었다고 할 수 있다. 교역•분배•과세 등의 인류의 사회 생활에 필요한 모든 계산을 수학이 담당해 왔고, 농경 생활에 필수적인 천문 관측과 달력의 제정, 토지의 측량 또한 수학이 직접적으로 관여한 분야이다. 고대 수학을 크게 발전시킨 나라로는 이집트, 인도, 그리스, 중국 등이 있다. 그 중에서도 그리스는 처음으로 수학의 방정식에서 변수를 문자로 쓴 나라이다.\n",
            "한국의 수학은 약 1,500년 전부터 기록으로 보이기 시작한다. 신라 시대에 수학을 가르쳤으며, 탈레스가 최초로 발견한 일식과 월식을 예측할 정도로 발달했다. 조선 시대에 훈민정음을 창제한 세종 대왕은 집현전 학자들에게 수학 연구를 명하는 등, 조선의 수학 수준을 향상시키기 위해서 많은 노력을 기울였다. 하지만 임진왜란으로 많은 서적들이 불타고, 천문학 분야에서 큰 손실을 입었다. 조선 후기의 한국의 수학은 실학자들을 중심으로 다시 발전하였고, 새로운 결과도 성취되었다.\n",
            "수학의 각 분야들은 상업에 필요한 계산을 하기 위해, 숫자들의 관계를 이해하기 위해, 토지를 측량하기 위해, 그리고 천문학적 사건들을 예견하기 위해 발전되어왔다. 이 네 가지 목적은 대략적으로 수학이 다루는 대상인 양, 구조, 공간 및 변화에 대응되며, 이들을 다루는 수학의 분야를 각각 산술, 대수학, 기하학, 해석학이라 한다. 또한 이 밖에도 근대 이후에 나타난 수학기초론과 이산수학 및 응용수학 등이 있다.\n",
            "산술은 자연수와 정수 및 이에 대한 사칙연산에 대한 연구로서 시작했다. 수론은 이런 주제들을 보다 깊게 다루는 학문으로, 그 결과로는 페르마의 마지막 정리 등이 유명하다. 또한 쌍둥이 소수 추측과 골드바흐 추측 등을 비롯해 오랜 세월 동안 해결되지 않고 남아있는 문제들도 여럿 있다.\n",
            "수의 체계가 보다 발전하면서, 정수의 집합을 유리수의 집합의 부분집합으로 여기게 되었다. 또한 유리수의 집합은 실수의 집합의 부분집합이며, 이는 또다시 복소수 집합의 일부분으로 볼 수 있다. 여기에서 더 나아가면 사원수와 팔원수 등의 개념을 생각할 수도 있다. 이와는 약간 다른 방향으로, 자연수를 무한대까지 세어나간다는 개념을 형식화하여 순서수의 개념을 얻으며, 집합의 크기 비교를 이용하여 무한대를 다루기 위한 또다른 방법으로는 기수의 개념도 있다.\n",
            "수 대신 문자를 써서 문제해결을 쉽게 하는 것과, 마찬가지로 수학적 법칙을 일반적이고 간명하게 나타내는 것을 포함한다. 고전대수학은 대수방정식 및 연립방정식의 해법에서 시작하여 군, 환, 체 등의 추상대수학을 거쳐 현대에 와서는 대수계의 구조를 보는 것을 중심으로 하는 선형대수학으로 전개되었다. 수의 집합이나 함수와 같은 많은 수학적 대상들은 내재적인 구조를 보인다. 이러한 대상들의 구조적 특성들이 군론, 환론, 체론 그리고 그 외의 수많은 대수적 구조들을 연구하면서 다루어지며, 그것들 하나하나가 내재적 구조를 지닌 수학적 대상이다. 이 분야에서 중요한 개념은 벡터, 벡터 공간으로의 일반화, 그리고 선형대수학에서의 지식들이다. 벡터의 연구에는 산술, 대수, 기하라는 수학의 중요한 세개의 분야가 조합되어 있다. 벡터 미적분학은 여기에 해석학의 영역이 추가된다. 텐서 미적분학은 대칭성과 회전축의 영향 아래에서 벡터의 움직임을 연구한다. 눈금없는 자와 컴퍼스와 관련된 많은 고대의 미해결 문제들이 갈루아 이론을 사용하여 비로소 해결되었다.\n",
            "공간에 대한 연구는 기하학에서 시작되었고, 특히 유클리드 기하학에서 비롯되었다. 삼각법은 공간과 수들을 결합하였고, 잘 알려진 피타고라스의 정리를 포함한다. 현대에 와서 공간에 대한 연구는, 이러한 개념들은 더 높은 차원의 기하학을 다루기 위해 비유클리드 기하학(상대성이론에서 핵심적인 역할을 함)과 위상수학으로 일반화되었다. 수론과 공간에 대한 이해는 모두 해석 기하학, 미분기하학, 대수기하학에 중요한 역할을 한다. 리 군도 공간과 구조, 변화를 다루는데 사용된다. 위상수학은 20세기 수학의 다양한 지류속에서 괄목할만한 성장을 한 분야이며, 푸앵카레 추측과 인간에 의해서 증명되지 못하고 오직 컴퓨터로만 증명된 4색정리를 포함한다.\n",
            "변화에 대한 이해와 묘사는 자연과학에 있어서 일반적인 주제이며, 미적분학은 변화를 탐구하는 강력한 도구로서 발전되었다. 함수는 변화하는 양을 묘사함에 있어서 중추적인 개념으로써 떠오르게 된다. 실수와 실변수로 구성된 함수의 엄밀한 탐구가 실해석학이라는 분야로 알려지게 되었고, 복소수에 대한 이와 같은 탐구 분야는 복소해석학이라고 한다. 함수해석학은 함수의 공간(특히 무한차원)의 탐구에 주목한다. 함수해석학의 많은 응용분야 중 하나가 양자역학이다. 많은 문제들이 자연스럽게 양과 그 양의 변화율의 관계로 귀착되고, 이러한 문제들이 미분방정식으로 다루어진다. 자연의 많은 현상들이 동역학계로 기술될 수 있다. 혼돈 이론은 이러한 예측 불가능한 현상을 탐구하는 데 상당한 기여를 한다.\n",
            "수학의 기초를 확실히 세우기 위해, 수리논리학과 집합론이 발전하였고, 이와 더불어 범주론이 최근에도 발전되고 있다. “근본 위기”라는 말은 대략 1900년에서 1930년 사이에 일어난, 수학의 엄밀한 기초에 대한 탐구를 상징적으로 보여주는 말이다. 수학의 엄밀한 기초에 대한 몇 가지 의견 불일치는 오늘날에도 계속되고 있다. 수학의 기초에 대한 위기는 그 당시 수많은 논쟁에 의해 촉발되었으며, 그 논쟁에는 칸토어의 집합론과 브라우어-힐베르트 논쟁이 포함되었다.\n",
            "\n",
            "\n",
            "\n",
            "수학 상수\n",
            "수학에서 상수란 그 값이 변하지 않는 불변량으로, 변수의 반대말이다. 물리 상수와는 달리, 수학 상수는 물리적 측정과는 상관없이 정의된다.\n",
            "수학 상수는 대개 실수체나 복소수체의 원소이다. 우리가 이야기할 수 있는 상수는 (거의 대부분 계산 가능한) 정의가능한 수이다.\n",
            "특정 수학 상수, 예를 들면 골롬-딕맨 상수, 프랑세즈-로빈슨 상수, formula_1, 레비 상수같은 상수는 다른 수학상수 또는 함수와 약한 상관관계 또는 강한 상관관계를 갖는다.\n",
            "\n",
            "\n",
            "\n",
            "문학\n",
            "문학(文學)은 언어를 예술적 표현의 제재로 삼아 새로운 의미를 창출하여, 인간과 사회를 진실되게 묘사하는 예술의 하위분야이다. 간단하게 설명하면, 언어를 통해 인간의 삶을 미적(美的)으로 형상화한 것이라고 볼 수 있다. 문학은 원래 문예(文藝)라고 부르는 것이 옳으며, 문학을 학문의 대상으로서 탐구하는 학문의 명칭 역시 문예학이다. 문예학은 음악사학, 미술사학 등과 함께 예술학의 핵심분야로서 인문학의 하위범주에 포함된다.\n",
            "일반적으로 문학의 정의는 텍스트들의 집합이다. 각각의 국가들은 고유한 문학을 가질 수 있으며, 이는 기업이나 철학 조류, 어떤 특정한 역사적 시대도 마찬가지이다. 흔히 한 국가의 문학을 묶어서 분류한다. 예를 들어 고대 그리스어, 성서, 베오울프, 일리아드, 그리고 미국 헌법 등이 그러한 분류의 범주에 들어간다. 좀 더 일반적으로는 문학은 특정한 주제를 가진 이야기, 시, 희곡의 모음이라 할 수 있다. 이 경우, 이야기, 시, 그리고 희곡은 민족주의적인 색채를 띨 수도 아닐 수도 있다. 문학의 한 부분으로서 특정한 아이템을 구분 짓는 일은 매우 어려운 일이다. 어떤 사람들에게 \"문학\"은 어떠한 상징적인 기록의 형태로도 나타날 수 있는 것이다. (이를테면 이미지나 조각, 또는 문자로도 나타날 수 있다.) 그러나 또다른 사람들에게 있어 문학은 오직 문자로 이루어진 텍스트로 구성된 것만을 포함한다. 좀 더 보수적인 사람들은 그 개념이 꼭 물리적인 형태를 가진 텍스트여야 하고, 대개 그러한 형태는 종이 등의 눈에 보이는 매체에서 디지털 미디어까지 다양할 수 있다.\n",
            "더 나아가 보면, \"문학\"과 몇몇 인기있는 기록형태의 작업들, 소위 \"대중문학\" 사이에는 인식가능한 차이점이 존재한다. 이때 \"문학적인 허구성\"과 \"문학적인 재능\"이 종종 개별적인 작품들을 구별하는 데에 사용된다. 예를 들어, 찰스 디킨즈의 작품들은 대부분의 사람들에게 \"문학적인 것\"으로 받아들여지지만, 제프리 아처의 작품들은 영문학이라는 일반적인 범주 아래 두기에는 다소 가치가 떨어지는 것으로 생각된다. 또한 예를 들어 문법과 어법에 서투르거나, 이야기가 혼란스러워 신뢰성을 주지 않거나, 인물들의 성격에 일관성이 없을 경우에도 문학에서 제외될 수 있다. 로맨스, 범죄소설, 과학소설 등의 장르 소설도 때로 \"문학\"이 아닌 것으로 간주되는 경우도 있다. 이들은 대부분 \"대중문학\"의 범주에 포함된다.\n",
            "문학은 분류하는 방법에 따라 다음과 같이 구분한다.\n",
            "이 외에도 편의에 따라 발생적으로 대별하기도 한다.\n",
            "문학은 처음은 유일한 종류, 즉 노래하고, 말하고, 춤춘다는 것이 분화되지 않은 것이었다. 이 춤추는 것을 중심으로 발달한 것이 연극(演劇)이며, 노래하는 것이 발달하여 시(詩), 말하는 것이 발달하여 산문(散文)의 이야기가 되었다. 시는 정형시·자유시·산문시로, 또한 서사시와 서정시로 나뉜다. 산문은 사건을 중심으로 그려진 이야기, 근대 리얼리즘의 수법 이후 인물의 성격을 묘사하는 것을 중심으로 한 소설이 있다. 이야기나 소설과 같이 특별한 구상에 의하지 않고, 작자의 흥미에 의해서 씌어지는 것이 잡문(雜文) 또는 수필이며, 이것이 날짜에 따라 씌어지는 것이 일기, 여행의 과정에 따라 씌어지는 것이 기행문이다. 일기와 마찬가지로 발표의 의도가 작은 것에 서간(書簡)이 있다. 이 밖에 사건의 경험에 따른 회고록, 사건 등의 특정시(特定時)에 한정되지 않는 자서전, 제삼자에 의해서 씌어지는 전기(傳記)가 있다. 또한 이것들을 포함하는 예술작품의 가치평가를 시도하는 것이 평론(評論)이다.\n",
            "대중문학이란 상업성을 띠며 대중을 겨냥하여 그들의 통속적인 흥미와 욕구를 채워주는 문학을 말한다. 대중문학의 하위장르에는 여러가지가 있다.\n",
            "문학을 창작하는 예술가를 문예가라고 부른다. 문예학을 연구하는 사람을 문예학자라고 부른다. 문학을 창작하는 사람을 따로 저술가라고 한다. 문예학자와 언어학자를 합쳐 어문학자로 칭하기도 한다. 그러나 언어와, 언어를 사용한 예술인 문학은 현격한 차이가 있으므로 주의해야 한다.\n",
            "반영론적 관점에 의한 감상은 작품을 창작된 당시 시대 정황과 연결시켜 감상하는 입장이고, 내재적 관점의 감상은 작품의 형식, 내용에 국한하여 감상하는 것이다. 표현론적 관점의 감상은 작가의 전기적 사실과 작품을 연결시켜 감상하는 것이고, 수용론적 관점의 감상은 독자와 작품을 연결시켜 감상하는 것을 말한다.\n",
            "\n",
            "\n",
            "\n",
            "나라 목록\n",
            "이 문서는 나라 목록이며, 전 세계 206개 나라의 각 현황과 주권 승인 정보를 개요 형태로 나열하고 있다.\n",
            "이 목록은 명료화를 위해 두 부분으로 나뉘어 있다.\n",
            "두 목록은 모두 가나다 순이다.\n",
            "일부 국가의 경우 국가로서의 자격에 논쟁의 여부가 있으며, 이 때문에 이러한 목록을 엮는 것은 매우 어렵고 논란이 생길 수 있는 과정이다. 이 목록을 구성하고 있는 국가를 선정하는 기준에 대한 정보는 \"포함 기준\" 단락을 통해 설명하였다. 나라에 대한 일반적인 정보는 \"국가\" 문서에서 설명하고 있다.\n",
            "이 목록은 주권을 주장하고 점유한 영토를 실제로 관리하고 있으나, 많은 국가와 외교관계를 맺지 못한 나라를 설명하고 있다. 극소형 국가는 이 목록에 포함하지 않는다.\n",
            "이 목록에 실린 국가 기준은 1933년 몬테비데오 협약 1장을 참고로 하였다. 협정에 따르면, 국가는 다음의 조건을 만족해야 한다.\n",
            "특히, 마지막 조건은 국제 공동체의 참여 용인을 내포하고 있기 때문에, 다른 나라의 승인이 매우 중요한 역할을 할 수 있다. 이 목록에 포함된 모든 국가는 보통 이 기준을 만족하는 것으로 보이는 자주적이고 독립적인 국가이다. 하지만 몬테비데오 협약 기준을 만족하는지의 여부는 많은 국가가 논쟁이 되고 있는 실정이다. 또한, 몬테비데오 협약 기준만이 국가 지위의 충분한 자격이든 아니든, 국제법의 견해 차이는 존재할 수 있다. 이 물음에 대한 다른 이론에 대한 고리는 아래에서 볼 수 있다.\n",
            "위 기준에 논거하여 이 목록은 다음 206개 국가를 포함하고 있다.\n",
            "위 목록에 포함되지 않은 다음 국가는 몬테비데오 협약의 모든 조건을 만족하지 못하거나, 자주적이고 독립적임을 주장하지 않는 국가이다.\n",
            "\n",
            "\n",
            "\n",
            "화학\n",
            "화학(化學, )은 물질의 성질, 조성, 구조, 변화 및 그에 수반하는 에너지의 변화를 연구하는 자연과학의 한 분야이다. 물리학도 역시 물질을 다루는 학문이지만, 물리학이 원소와 화합물을 모두 포함한 물체의 운동과 에너지, 열적·전기적·광학적·기계적 속성을 다루고 이러한 현상으로부터 통일된 이론을 구축하려는 것과는 달리 화학에서는 물질 자체를 연구 대상으로 한다. 화학은 이미 존재하는 물질을 이용하여 특정한 목적에 맞는 새로운 물질을 합성하는 길을 제공하며, 이는 농작물의 증산, 질병의 치료 및 예방, 에너지 효율 증대, 환경오염 감소 등 여러 가지 이점을 제공한다.\n",
            "고대 화학\n",
            "<nowiki>*</nowiki>\"초기 야금 (야금: 금속을 광석으로부터 추출하고 정련하는 기술)\"\n",
            "인간에 의해 발견된 최초의 기록된 금속은 금인 것으로 보이며 구석기 후기(BC 40,000)에 스페인 동굴에서 소량의 천연 금이 발견되었다고 한다.\n",
            "은, 구리, 주석 및 유성 철 또한 고대 문화에서 제한된 양의 금속 가공을 허용하면서 고대문화로 발견 될 수 있었다. 기원전 3000년경 유성 철제로 만든 이집트 무기는 \"천국의 단검\"으로 높이 평가 받았다.\n",
            "아마도 통제 된 방식으로 사용 된 최초의 화학 반응은 불이였다. 그러나 천년 동안 불는 단순히 열과 빛을 생성하면서 한 물질을 다른 물질 (타는 나무 또는 끓는 물)로 변형시킬 수있는 신비한 힘으로만 알려졌다. 불는 초기 사회의 여러 측면에 영향을 미쳤다. 이들은 요리 및 서식지 조명과 같은 일상 생활의 가장 단순한면에서 도기, 벽돌 및 금속을 녹여 도구를 만드는 것과 같은 고급 기술에 이르기까지 다양했다.\n",
            "유리의 발견과 금속의 정화로 이어지는 불로 인해 야금이 부상했다. 야금의 초기 단계에서 금속의 정화 방법이 요구되었고, 금은 BC 2900 년 초기의 고대 이집트의 귀중한 금속이되었다.\n",
            "17 세기와 18 세기 : 초기 화학\n",
            "\"<nowiki>*</nowiki>로버트 보일\"\n",
            "영국계 미국인 화학자 로버트 보일 (Robert Boyle, 1627-1691)은 연금술에 대한 현대의 과학적 방법을 정제하고 화학을 연금술과 분리한 것으로 생각된다. 그의 연구가 연금술 전통에 뿌리를두고 있음에도 불구하고, 보일은 오늘날 현대의 화학자이자 현대화학의 창시자이자 현대 실험 과학 방법의 선구자 중 한 사람으로 불리고 있다. 보일이 원래 발견자가 아님에도 보일은 1662 년에 제시한 보일의 법칙으로 가장 잘 알려져있다. 보일의 법칙은 온도만 폐쇄된 시스템 내에서 일정하게 유지된다면 가스의 절대 압력과 부피가 반비례함을 의미한다.보일은 또한 화학 분야의 초석으로 간주되는 1661 년의 《의심 많은 화학자》 에 대한 획기적인 저서로 인정받고 있다. 작품에서 보일은 모든 현상이 움직이는 입자의 충돌의 결과라는 가설을 제시한다. 보일 (Boyle)은 화학자들에게 실험을 호소했으며 실험은 지구, 화염, 공기 및 물과 같은 고전적인 4 가지 원소만으로 화학 원소를 제한한다는 것을 부인했다. 그는 또한 화학이 의학이나 연금술에 종속되어 과학의 지위로 부상하는 것을 중단해야한다고 촉구했다. 중요한 것은 과학 실험에 대한 엄격한 접근 방식이라고 주장했다. 그는 모든 이론이 사실로 간주되기 전에 실험적으로 입증되어야한다고 믿었다. 이 작품은 원자, 분자 및 화학 반응의 가장 초기의 현대적인 아이디어를 포함하고 있으며 현대 화학의 역사의 시작을 나타낸다. 보일은 또한 화학 물질을 정제하여 재현 가능한 반응을 얻으려고 시도했다. 그는 재료 물질의 물리적 특성과 상호 작용을 설명하고 정량화하기 위해 René Descartes가 제안한 기계 철학의 보컬 지지자였다. 보일은 원자핵론자 였지만 원자보다 더 많은 입자를 선호했다. 그는 속성이 유지되는 물질의 가장 정밀한 부분은 미립자의 수준에 있다고 논평했다. 그는 또한 공기 펌프로 수 많은 조사를 수행했으며, 공기가 펌프로 퍼져 나감에 따라 수은이 떨어지는 것으로 나타났다. 그는 또한 컨테이너에서 공기를 펌핑하면 화염을 없애고 내부에있는 작은 동물을 죽일 수 있음을 관찰했다.\n",
            "과거 화학에서 더 이상 나뉘지 않는 기초적인 요소가 존재한다고 했는데, 이 기초적인 요소를 원자(atom)라 한다. 원자란 물질을 구성하는 기본적인 입자로 고대 그리스의 데모크리토스에서부터 그 존재가 주장되었는데, 1803년 존 돌턴에 의해서 원자론으로 정리되었다. 20세기 초, 화학자들은 원자를 구성하는 더 작은 입자들, 즉 전자, 양성자, 중성자가 존재한다는 사실을 발견하였다. 전자는 음전하를 띠고 있고, 양성자는 양전하를 띠고 있으며, 중성자는 전하를 띠지 않고 있다. 원자는 양성자와 중성자로 구성되어 있는 원자핵을 가지고 있으며 전자는 이 주변에 오비탈을 이루며 분포되어 있다.\n",
            "원소(element)는 일반적인 화학적, 물리학적 방법으로는 분해되지 않는 물질을 의미한다. 원소는 원자핵에 존재하는 양성자 수로 정의되는 원자 번호로 구별된다. 산소, 황, 주석, 철 등은 원소이다. 19세기 중엽까지 약 80가지의 원소가 발견되었는데, 이들은 주기율에 따라 배열될 수 있다.\n",
            "동위원소는 아이소토프 또는 동위체라고도 한다. 서로 화학적으로는 거의 구별하지 못하지만 그것을 구성하고 있는 원자의 질량이 서로 다른 원소를 동위원소라고 한다. 영어의 isotope는 그리스어인 isos(같은)와 topos(장소)의 합성어인데, 질량은 서로 달라도 원소의 주기율표에서 같은 장소에 배열되는 데서 1901년 영국의 화학자 F. 소디가 isotope라는 명칭을 붙였다. 대부분의 원소는 동위 원소를 가진다. 동위 원소는 원자 번호는 같으나, 중성자수가 다른 원소를 뜻한다. 동위 원소는 화학적인 성질은 동일하나, 원자량의 차이를 이용하여 분리할 수 있다. 자연에서도 발견되는 92개의 원소 중 88개는 동위 원소가 지표면 상에 존재한다. 자연에서 발견되지 않더라도 동위 원소는 핵반응을 이용하여 만들어낼 수 있다. 어떤 동위 원소는 방사능을 가지기도 하는데, 이 경우 동위 원소의 원자핵은 불안정하고 방사선을 방출하며 자연적으로 붕괴된다.\n",
            "동중 원소(isobar)는 원자 질량은 같으나, 양성자수가 다른 원소를 뜻한다. 동중 원소는 화학적, 물리적 성질이 다르며 S, Cl, Ar, K, Ca등이 있다.\n",
            "분자란 원자의 결합체 중 독립 입자로서 작용하는 단위체이다. 일정한 개수의 원자가 특정하게 정렬되어 서로 결합해 분자가 형성된다. 원자가 원소의 최소단위이듯, 분자는 화합물의 최소단위가 된다. 원자가 결합될 때 전자의 재배치가 일어나는데, 이는 화학에서의 중요한 관심사중 하나이다.\n",
            "화학 반응은 원자 혹은 분자가 화학적인 변화를 겪는 일을 말한다. 화학 반응은 원자간의 결합이 끊어지는 일과 다시 이어지는 일을 포함한다. 결합이 끊어질 때는 에너지가 흡수되고, 결합이 이어질 때는 에너지가 방출된다. 화학 반응의 간단한 예로는 수소와 산소가 반응하여 물이 되는 것을 들 수 있다. 반응식은 다음과 같다.\n",
            "반응식에서 알 수 있듯이, 화학 반응에서는 원자가 새로 생성되거나 나타나는 일이 일어나지 않는다. ΔH는 에너지 또는 엔탈피 변화를 뜻한다. 반응은 발열반응일 수도 있고, 흡열반응일 수도 있다. 발열반응은 주위로 열을 방출하는 반응으로 엔탈피 변화가 음수로 나타난다. 반면에 흡열반응은 주위 열을 흡수하는 반응으로 엔탈피 변화가 양수로 나타난다. 위 반응의 경우는 발열반응인데, 이는 계로부터 주위로 열이 이동하였다는 의미이다.\n",
            "화학 결합을 주된 세 가지 부류로 나누어보면 이온 결합, 공유 결합 그리고 금속결합으로 나눌 수 있다. 이온이란 전하를 띤 원자 또는 분자를 뜻한다. 이온 결합은 양전하와 음전하의 전기적인 인력에 의해서 생성되는 화학 결합이다. 예를 들면 염화 나트륨은 양전하를 띤 나트륨 이온(Na)과 음전하를 띤 염화 이온(Cl) 사이의 전기적인 결합으로 이루어진 이온 화합물이다. 이러한 물질을 물에 녹이면 이온은 물 분자에 의해 수화되고 이렇게 해서 만들어진 수용액은 전기전도도를 가진다.\n",
            "공유 결합은 오비탈이 겹쳐진 결과 두 원자가 전자쌍을 공유하게 되어 생성되는 결합을 의미한다. 공유 결합이 형성되는 결합은 발열반응인데, 이때 방출되는 에너지의 양이 그 결합의 결합 에너지이다. 결합 에너지만큼의 에너지를 그 결합에 가해주면 결합은 끊어질 수 있다.\n",
            "금속 결합은 금속 원자에서 전자들이 떨어져 나와 자유전자를 생성하게 되어 생성되는 결합을 의미한다. 금속의 특성인 연성과 전성이 생성되는 이유이기도 하다.\n",
            "화합물은 구성하고 있는 원자의 종류, 수, 배치에 의해서 그 특성이 결정된다. 자연에서 찾을 수 있거나 인공적으로 합성할 수 있는 화합물의 수는 엄청나고, 이들 중 대부분은 유기 화합물이다. 유기 화합물을 이루는 주된 화학 원소인 탄소는 다른 화학 원소와는 다르게 매우 긴 사슬 형태로 정렬될 수 있으며, 같은 수많은 이성질체를 형성할 수 있다. 예를 들어, 분자식 CHO는 약 천 개의 서로 다른 화합물을 뜻할 수 있다.\n",
            "화학은 취급 대상 및 대상의 취급 방법에 따라서 몇 가지 분과로 구분될 수 있다. 물질을 분석하는 분석화학은 크게 물질의 존재를 취급하는 정성 분석과 물질의 양을 결정하는 정량 분석으로 나눌 수 있다. 탄소를 포함한 유기 화합물을 다루는 유기화학과 유기 화합물을 제외한 무기 화합물을 다루는 무기화학도 있다. 물리학과 화학의 경계에는 물리화학이 있고 생물학과의 경계에는 생화학이 있다. 물리화학에서 특히 분자의 구조와 성질과의 관계를 다루는 부분을 구조화학이라고 부르기도 한다. 제2차 세계 대전 이후에는 방사성 물질을 다루는 방사화학이 발전하였고 화학 공업을 다루는 공업화학도 있다. 이 외에도 화학의 분과는 매우 다양하다.\n",
            "화학의 분과는 전통적으로 다음과 같은 5가지로 나눌 수 있으며, 각각의 분과는 더욱 세분화될 수 있다.\n",
            "무기화학은 유기화학에서 다루지 않는 물질을 다루며 주로 금속이나 준금속이 포함된 물질에 대해서 연구한다. 따라서 무기화학에서는 매우 넓은 범위의 화합물을 다루게 된다. 초기에는 광물의 구성이나 새 원소의 발견이 주요 관심사였고 여기서부터 지구화학이 분기되었다. 주로 전이 금속 등을 이용한 촉매나 생물에서 산소 수송, 광합성, 질소 고정 등의 과정에서 중요한 역할을 하는 금속 원자들에 대해 연구하며 이 외에도 세라믹, 복합재료, 초전도체등에 대한 연구를 한다.\n",
            "물리화학은 화학적 현상에 대한 해석과 이를 설명하기 위한 물리적 원리들에 대해 다루는 분과이다. 화학반응에 관련된 열역학적 원리와 물질의 물리학적 성질에 대한 설명은 물리화학이 다루는 고전적인 주제이다. 물리화학은 양자화학의 발전에도 큰 기여를 하였다. 분광계나 자기 공명, 회절 기기 등 물리화학에서 사용하는 실험 장비나 실험 방법들은 다른 화학의 분과에서도 매우 많이 사용된다. 물리화학이 다루는 대상은 유기 화합물, 무기 화합물, 혼합물을 모두 포함한다.\n",
            "분석화학은 물질의 조성이나 혼합물의 구성요소 등을 결정하는 방법에 대해서 연구하는 화학의 분과이다. 혼합물을 이루고 있는 성분의 탐색, 분리, 정량과 분자를 이루고 있는 원자의 비율을 측정하여 분자식을 결정하는 일 등이 분석화학에서 행해진다. 1950년대의 분석화학의 발전은 많은 질량 분석계를 포함한 분석 기구의 등장을 불러일으켰다. 이 외에도 고해상도 크로마토그래피, 전기화학에서의 많은 실험방법 등은 분석화학에 있어서 중요한 분석법이다. 분석화학에 있어서 최종 목표는 더 정확한 측정법이나 측정기기 등을 개발하는 것이다. 분석화학의 발전으로 인해 환경오염 물질 등을 피코그램의 수준에서도 감지하는 것이 가능해졌다.\n"
          ],
          "name": "stdout"
        }
      ]
    },
    {
      "cell_type": "code",
      "metadata": {
        "colab": {
          "base_uri": "https://localhost:8080/"
        },
        "id": "ntJIXow7YNSn",
        "outputId": "76d659e4-3bdb-4c0e-8803-7dfccbbfd7a7"
      },
      "source": [
        "# 파일 복사\n",
        "shutil.copy(os.path.join(kowiki_dir, \"kowiki.txt.zip\"), \"kowiki.txt.zip\")\n",
        "os.listdir()"
      ],
      "execution_count": null,
      "outputs": [
        {
          "output_type": "execute_result",
          "data": {
            "text/plain": [
              "['.config', 'drive', 'a.json', 'kowiki.txt.zip', 'b.json']"
            ]
          },
          "metadata": {
            "tags": []
          },
          "execution_count": 31
        }
      ]
    },
    {
      "cell_type": "code",
      "metadata": {
        "colab": {
          "base_uri": "https://localhost:8080/"
        },
        "id": "xTEn-Z2FYo7P",
        "outputId": "d70f72cb-8aac-40b0-b9d7-4bef4fea73a6"
      },
      "source": [
        "# unzip\n",
        "!unzip kowiki.txt.zip\n",
        "os.listdir()"
      ],
      "execution_count": null,
      "outputs": [
        {
          "output_type": "stream",
          "text": [
            "Archive:  kowiki.txt.zip\n",
            "  inflating: kowiki.txt              \n",
            "  inflating: __MACOSX/._kowiki.txt   \n"
          ],
          "name": "stdout"
        },
        {
          "output_type": "execute_result",
          "data": {
            "text/plain": [
              "['.config',\n",
              " '__MACOSX',\n",
              " 'drive',\n",
              " 'a.json',\n",
              " 'kowiki.txt.zip',\n",
              " 'b.json',\n",
              " 'kowiki.txt']"
            ]
          },
          "metadata": {
            "tags": []
          },
          "execution_count": 32
        }
      ]
    },
    {
      "cell_type": "code",
      "metadata": {
        "id": "xWhw3-tdY0R2",
        "colab": {
          "base_uri": "https://localhost:8080/"
        },
        "outputId": "7b51c0d8-bf22-4fa9-c3dd-5f2081bbc2fa"
      },
      "source": [
        "with open(\"kowiki.txt\") as f:\n",
        "    for i, line in enumerate(f):\n",
        "        if  100 < i:\n",
        "            break\n",
        "        print(line.strip())"
      ],
      "execution_count": null,
      "outputs": [
        {
          "output_type": "stream",
          "text": [
            "지미 카터\n",
            "제임스 얼 \"지미\" 카터 주니어(, 1924년 10월 1일 ~ )는 민주당 출신 미국 39번째 대통령 (1977년 ~ 1981년)이다.\n",
            "지미 카터는 조지아주 섬터 카운티 플레인스 마을에서 태어났다. 조지아 공과대학교를 졸업하였다. 그 후 해군에 들어가 전함·원자력·잠수함의 승무원으로 일하였다. 1953년 미국 해군 대위로 예편하였고 이후 땅콩·면화 등을 가꿔 많은 돈을 벌었다. 그의 별명이 \"땅콩 농부\" (Peanut Farmer)로 알려졌다.\n",
            "1962년 조지아 주 상원 의원 선거에서 낙선하나 그 선거가 부정선거 였음을 입증하게 되어 당선되고, 1966년 조지아 주 지사 선거에 낙선하지만 1970년 조지아 주 지사를 역임했다. 대통령이 되기 전 조지아주 상원의원을 두번 연임했으며, 1971년부터 1975년까지 조지아 지사로 근무했다. 조지아 주지사로 지내면서, 미국에 사는 흑인 등용법을 내세웠다.\n",
            "1976년 대통령 선거에 민주당 후보로 출마하여 도덕주의 정책으로 내세워, 포드를 누르고 당선되었다.\n",
            "카터 대통령은 에너지 개발을 촉구했으나 공화당의 반대로 무산되었다.\n",
            "카터는 이집트와 이스라엘을 조정하여, 캠프 데이비드에서 안와르 사다트 대통령과 메나헴 베긴 수상과 함께 중동 평화를 위한 캠프데이비드 협정을 체결했다.\n",
            "그러나 이것은 공화당과 미국의 유대인 단체의 반발을 일으켰다. 1979년 백악관에서 양국 간의 평화조약으로 이끌어졌다. 또한 소련과 제2차 전략 무기 제한 협상에 조인했다.\n",
            "카터는 1970년대 후반 당시 대한민국 등 인권 후진국의 국민들의 인권을 지키기 위해 노력했으며, 취임 이후 계속해서 도덕정치를 내세웠다.\n",
            "그러나 주 이란 미국 대사관 인질 사건에서 인질 구출 실패를 이유로 1980년 대통령 선거에서 공화당의 로널드 레이건 후보에게 져 결국 재선에 실패했다. 또한 임기 말기에 터진 소련의 아프가니스탄 침공 사건으로 인해 1980년 하계 올림픽에 반공국가들의 보이콧을 내세웠다.\n",
            "지미 카터는 대한민국과의 관계에서도 중요한 영향을 미쳤던 대통령 중 하나다. 인권 문제와 주한미군 철수 문제로 한때 한미 관계가 불편하기도 했다. 1978년 대한민국에 대한 북한의 위협에 대비해 한미연합사를 창설하면서, 1982년까지 3단계에 걸쳐 주한미군을 철수하기로 했다. 그러나 주한미군사령부와 정보기관·의회의 반대에 부딪혀 주한미군은 완전철수 대신 6,000명을 감축하는 데 그쳤다. 또한 박정희 정권의 인권 문제 등과의 논란으로 불협화음을 냈으나, 1979년 6월 하순, 대한민국을 방문하여 관계가 다소 회복되었다.\n",
            "1979년 ~ 1980년 대한민국의 정치적 격변기 당시의 대통령이었던 그는 이에 대해 애매한 태도를 보였고, 이는 후에 대한민국 내에서 고조되는 반미 운동의 한 원인이 됐다. 10월 26일, 박정희 대통령이 김재규 중앙정보부장에 의해 살해된 것에 대해 그는 이 사건으로 큰 충격을 받았으며, 사이러스 밴스 국무장관을 조문사절로 파견했다. 12·12 군사 반란과 5.17 쿠데타에 대해 초기에는 강하게 비난했으나, 미국 정부가 신군부를 설득하는데, 한계가 있었고 결국 묵인하는 듯한 태도를 보이게 됐다.\n",
            "퇴임 이후 민간 자원을 적극 활용한 비영리 기구인 카터 재단을 설립한 뒤 민주주의 실현을 위해 제 3세계의 선거 감시 활동 및 기니 벌레에 의한 드라쿤쿠르스 질병 방재를 위해 힘썼다. 미국의 빈곤층 지원 활동, 사랑의 집짓기 운동, 국제 분쟁 중재 등의 활동도 했다.\n",
            "카터는 카터 행정부 이후 미국이 북핵 위기, 코소보 전쟁, 이라크 전쟁과 같이 미국이 군사적 행동을 최후로 선택하는 전통적 사고를 버리고 군사적 행동을 선행하는 행위에 대해 깊은 유감을 표시 하며 미국의 군사적 활동에 강한 반대 입장을 보이고 있다.\n",
            "특히 국제 분쟁 조정을 위해 북한의 김일성, 아이티의 세드라스 장군, 팔레인스타인의 하마스, 보스니아의 세르비아계 정권 같이 미국 정부에 대해 협상을 거부하면서 사태의 위기를 초래한 인물 및 단체를 직접 만나 분쟁의 원인을 근본적으로 해결하기 위해 힘썼다. 이 과정에서 미국 행정부와 갈등을 보이기도 했지만, 전직 대통령의 권한과 재야 유명 인사들의 활약으로 해결해 나갔다.\n",
            "1978년에 채결된 캠프데이비드 협정의 이행이 지지부진 하자 중동 분쟁 분제를 해결하기 위해 1993년 퇴임 후 직접 이스라엘과 팔레인스타인의 오슬로 협정을 이끌어 내는 데도 성공했다.\n",
            "1993년 1차 북핵 위기 당시 북한에 대한 미국의 군사적 행동이 임박했으나, 미국 전직 대통령으로는 처음으로 북한을 방문하고 미국과 북 양국의 중재에 큰 기여를 해 위기를 해결했다는 평가를 받았다. 또한 이 때 김영삼 대통령과 김일성 주석의 만남을 주선했다. 하지만 그로부터 수주일 후 김일성이 갑자기 사망하여 김일성과 김영삼의 정상회담은 이루어지지 못했다.\n",
            "미국의 관타나모 수용소 문제, 세계의 인권문제에서도 관심이 깊어 유엔에 유엔인권고등판무관의 제도를 시행하도록 노력하여 독재자들의 인권 유린에 대해 제약을 하고, 국제형사재판소를 만드는 데 기여하여 독재자들 같은 인권유린범죄자를 재판소로 회부하여 국제적인 처벌을 받게 하는 등 인권 신장에 크나 큰 기여를 했다.\n",
            "2011년 4월 26일부터 29일까지 북한을 3일간 방문했다.\n",
            "경제문제를 해결하지 못하고 주 이란 미국 대사관 인질 사건에 발목이 잡혀 실패한 대통령으로 평가를 받지만 이란 사태는 미국 내 이란 재산을 풀어주겠다는 조건을 내세워서 사실상 카터가 해결한 것이었고, 사랑의 집짓기 운동 등으로 퇴임 후에 훨씬 더 존경받는 미국 대통령 중에 특이한 인물로 남았다.\n",
            "그는 2002년 말 인권과 중재 역할에 대한 공로를 인정받아 노벨 평화상을 받게 되었다.\n",
            "\n",
            "\n",
            "\n",
            "수학\n",
            "수학(數學, ) 은 양, 구조, 공간, 변화, 미적분 등의 개념을 다루는 학문이다. 현대 수학은 형식 논리를 이용해서 공리로 구성된 추상적 구조를 연구하는 학문으로 여겨지기도 한다. 수학은 그 구조와 발전 과정에서는 자연과학에 속하는 물리학을 비롯한 다른 학문들과 깊은 연관을 맺고 있다. 하지만, 어느 과학의 분야들과는 달리, 자연계에서 관측되지 않는 개념들에 대해서까지 이론을 일반화 및 추상화시킬 수 있다는 차이가 있다고 한다. 수학자들은 그러한 개념들에 대해서 추측을 하고, 적절하게 선택된 정의와 공리로부터의 엄밀한 연역을 통해서 추측들의 진위를 파악한다.\n",
            "수학은 숫자 세기, 계산, 측정 및 물리적 대상의 모양과 움직임을 추상화하고, 이에 논리적 추론을 적용하여 나타났다. 이런 기본 개념들은 고대 이집트, 메소포타미아, 고대 인도, 고대 중국 및 고대 그리스의 수학책에서 찾아볼 수 있다. 그리고, 유클리드의 원론에서는 엄밀한 논증이 발견된다. 이런 발전은 그 뒤로도 계속되어, 16세기의 르네상스에 이르러서는 수학적 발전과 과학적 방법들의 상호 작용이 일어나, 혁명적인 연구들이 진행되며 인류 문명에 큰 영향을 미치게 되었다. 그리고, 이는 현재까지도 계속되고 있다.\n",
            "오늘날 수학은 자연과학, 공학, 의학뿐만 아니라, 경제학 등의 사회과학에서도 중요한 도구로서도 사용된다. 수학을 이런 분야들에 적용한 응용수학은 그 결과로써 수학 자체의 발전을 이끌고 새로운 분야들을 낳았다. 응용이 아닌 수학 자체의 아름다움과 재미를 추구하며 연구하는 것을 순수수학이라 하는데, 긴 시간이 지난 뒤에 순수수학적 연구를 다른 분야에 응용할 방법이 발견된 경우도 많았다고 한다.\n",
            "대부분 자료를 보면, \"mathematics\"는 \"수리적인\"이라는 뜻을 가진 라틴어 mathmaticus와 그리스어 mathematikos에서 유래되었거나, \"학식있는\"을 뜻하는 mathema와 \"배우다\"를 뜻하는 manthanein에서 유래되었다고 한다. 줄여서 \"math\"라고 표현하기도 한다.\n",
            "수학은 기원전 600년 경에 살았던 탈레스로부터 시작됐다. 하지만 탈레스가 태어나기 전에도 수학을 연구한 사람이 있을 수도 있기 때문에, 인류의 역사와 더불어 시작되었다고 할 수 있다. 교역•분배•과세 등의 인류의 사회 생활에 필요한 모든 계산을 수학이 담당해 왔고, 농경 생활에 필수적인 천문 관측과 달력의 제정, 토지의 측량 또한 수학이 직접적으로 관여한 분야이다. 고대 수학을 크게 발전시킨 나라로는 이집트, 인도, 그리스, 중국 등이 있다. 그 중에서도 그리스는 처음으로 수학의 방정식에서 변수를 문자로 쓴 나라이다.\n",
            "한국의 수학은 약 1,500년 전부터 기록으로 보이기 시작한다. 신라 시대에 수학을 가르쳤으며, 탈레스가 최초로 발견한 일식과 월식을 예측할 정도로 발달했다. 조선 시대에 훈민정음을 창제한 세종 대왕은 집현전 학자들에게 수학 연구를 명하는 등, 조선의 수학 수준을 향상시키기 위해서 많은 노력을 기울였다. 하지만 임진왜란으로 많은 서적들이 불타고, 천문학 분야에서 큰 손실을 입었다. 조선 후기의 한국의 수학은 실학자들을 중심으로 다시 발전하였고, 새로운 결과도 성취되었다.\n",
            "수학의 각 분야들은 상업에 필요한 계산을 하기 위해, 숫자들의 관계를 이해하기 위해, 토지를 측량하기 위해, 그리고 천문학적 사건들을 예견하기 위해 발전되어왔다. 이 네 가지 목적은 대략적으로 수학이 다루는 대상인 양, 구조, 공간 및 변화에 대응되며, 이들을 다루는 수학의 분야를 각각 산술, 대수학, 기하학, 해석학이라 한다. 또한 이 밖에도 근대 이후에 나타난 수학기초론과 이산수학 및 응용수학 등이 있다.\n",
            "산술은 자연수와 정수 및 이에 대한 사칙연산에 대한 연구로서 시작했다. 수론은 이런 주제들을 보다 깊게 다루는 학문으로, 그 결과로는 페르마의 마지막 정리 등이 유명하다. 또한 쌍둥이 소수 추측과 골드바흐 추측 등을 비롯해 오랜 세월 동안 해결되지 않고 남아있는 문제들도 여럿 있다.\n",
            "수의 체계가 보다 발전하면서, 정수의 집합을 유리수의 집합의 부분집합으로 여기게 되었다. 또한 유리수의 집합은 실수의 집합의 부분집합이며, 이는 또다시 복소수 집합의 일부분으로 볼 수 있다. 여기에서 더 나아가면 사원수와 팔원수 등의 개념을 생각할 수도 있다. 이와는 약간 다른 방향으로, 자연수를 무한대까지 세어나간다는 개념을 형식화하여 순서수의 개념을 얻으며, 집합의 크기 비교를 이용하여 무한대를 다루기 위한 또다른 방법으로는 기수의 개념도 있다.\n",
            "수 대신 문자를 써서 문제해결을 쉽게 하는 것과, 마찬가지로 수학적 법칙을 일반적이고 간명하게 나타내는 것을 포함한다. 고전대수학은 대수방정식 및 연립방정식의 해법에서 시작하여 군, 환, 체 등의 추상대수학을 거쳐 현대에 와서는 대수계의 구조를 보는 것을 중심으로 하는 선형대수학으로 전개되었다. 수의 집합이나 함수와 같은 많은 수학적 대상들은 내재적인 구조를 보인다. 이러한 대상들의 구조적 특성들이 군론, 환론, 체론 그리고 그 외의 수많은 대수적 구조들을 연구하면서 다루어지며, 그것들 하나하나가 내재적 구조를 지닌 수학적 대상이다. 이 분야에서 중요한 개념은 벡터, 벡터 공간으로의 일반화, 그리고 선형대수학에서의 지식들이다. 벡터의 연구에는 산술, 대수, 기하라는 수학의 중요한 세개의 분야가 조합되어 있다. 벡터 미적분학은 여기에 해석학의 영역이 추가된다. 텐서 미적분학은 대칭성과 회전축의 영향 아래에서 벡터의 움직임을 연구한다. 눈금없는 자와 컴퍼스와 관련된 많은 고대의 미해결 문제들이 갈루아 이론을 사용하여 비로소 해결되었다.\n",
            "공간에 대한 연구는 기하학에서 시작되었고, 특히 유클리드 기하학에서 비롯되었다. 삼각법은 공간과 수들을 결합하였고, 잘 알려진 피타고라스의 정리를 포함한다. 현대에 와서 공간에 대한 연구는, 이러한 개념들은 더 높은 차원의 기하학을 다루기 위해 비유클리드 기하학(상대성이론에서 핵심적인 역할을 함)과 위상수학으로 일반화되었다. 수론과 공간에 대한 이해는 모두 해석 기하학, 미분기하학, 대수기하학에 중요한 역할을 한다. 리 군도 공간과 구조, 변화를 다루는데 사용된다. 위상수학은 20세기 수학의 다양한 지류속에서 괄목할만한 성장을 한 분야이며, 푸앵카레 추측과 인간에 의해서 증명되지 못하고 오직 컴퓨터로만 증명된 4색정리를 포함한다.\n",
            "변화에 대한 이해와 묘사는 자연과학에 있어서 일반적인 주제이며, 미적분학은 변화를 탐구하는 강력한 도구로서 발전되었다. 함수는 변화하는 양을 묘사함에 있어서 중추적인 개념으로써 떠오르게 된다. 실수와 실변수로 구성된 함수의 엄밀한 탐구가 실해석학이라는 분야로 알려지게 되었고, 복소수에 대한 이와 같은 탐구 분야는 복소해석학이라고 한다. 함수해석학은 함수의 공간(특히 무한차원)의 탐구에 주목한다. 함수해석학의 많은 응용분야 중 하나가 양자역학이다. 많은 문제들이 자연스럽게 양과 그 양의 변화율의 관계로 귀착되고, 이러한 문제들이 미분방정식으로 다루어진다. 자연의 많은 현상들이 동역학계로 기술될 수 있다. 혼돈 이론은 이러한 예측 불가능한 현상을 탐구하는 데 상당한 기여를 한다.\n",
            "수학의 기초를 확실히 세우기 위해, 수리논리학과 집합론이 발전하였고, 이와 더불어 범주론이 최근에도 발전되고 있다. “근본 위기”라는 말은 대략 1900년에서 1930년 사이에 일어난, 수학의 엄밀한 기초에 대한 탐구를 상징적으로 보여주는 말이다. 수학의 엄밀한 기초에 대한 몇 가지 의견 불일치는 오늘날에도 계속되고 있다. 수학의 기초에 대한 위기는 그 당시 수많은 논쟁에 의해 촉발되었으며, 그 논쟁에는 칸토어의 집합론과 브라우어-힐베르트 논쟁이 포함되었다.\n",
            "\n",
            "\n",
            "\n",
            "수학 상수\n",
            "수학에서 상수란 그 값이 변하지 않는 불변량으로, 변수의 반대말이다. 물리 상수와는 달리, 수학 상수는 물리적 측정과는 상관없이 정의된다.\n",
            "수학 상수는 대개 실수체나 복소수체의 원소이다. 우리가 이야기할 수 있는 상수는 (거의 대부분 계산 가능한) 정의가능한 수이다.\n",
            "특정 수학 상수, 예를 들면 골롬-딕맨 상수, 프랑세즈-로빈슨 상수, formula_1, 레비 상수같은 상수는 다른 수학상수 또는 함수와 약한 상관관계 또는 강한 상관관계를 갖는다.\n",
            "\n",
            "\n",
            "\n",
            "문학\n",
            "문학(文學)은 언어를 예술적 표현의 제재로 삼아 새로운 의미를 창출하여, 인간과 사회를 진실되게 묘사하는 예술의 하위분야이다. 간단하게 설명하면, 언어를 통해 인간의 삶을 미적(美的)으로 형상화한 것이라고 볼 수 있다. 문학은 원래 문예(文藝)라고 부르는 것이 옳으며, 문학을 학문의 대상으로서 탐구하는 학문의 명칭 역시 문예학이다. 문예학은 음악사학, 미술사학 등과 함께 예술학의 핵심분야로서 인문학의 하위범주에 포함된다.\n",
            "일반적으로 문학의 정의는 텍스트들의 집합이다. 각각의 국가들은 고유한 문학을 가질 수 있으며, 이는 기업이나 철학 조류, 어떤 특정한 역사적 시대도 마찬가지이다. 흔히 한 국가의 문학을 묶어서 분류한다. 예를 들어 고대 그리스어, 성서, 베오울프, 일리아드, 그리고 미국 헌법 등이 그러한 분류의 범주에 들어간다. 좀 더 일반적으로는 문학은 특정한 주제를 가진 이야기, 시, 희곡의 모음이라 할 수 있다. 이 경우, 이야기, 시, 그리고 희곡은 민족주의적인 색채를 띨 수도 아닐 수도 있다. 문학의 한 부분으로서 특정한 아이템을 구분 짓는 일은 매우 어려운 일이다. 어떤 사람들에게 \"문학\"은 어떠한 상징적인 기록의 형태로도 나타날 수 있는 것이다. (이를테면 이미지나 조각, 또는 문자로도 나타날 수 있다.) 그러나 또다른 사람들에게 있어 문학은 오직 문자로 이루어진 텍스트로 구성된 것만을 포함한다. 좀 더 보수적인 사람들은 그 개념이 꼭 물리적인 형태를 가진 텍스트여야 하고, 대개 그러한 형태는 종이 등의 눈에 보이는 매체에서 디지털 미디어까지 다양할 수 있다.\n",
            "더 나아가 보면, \"문학\"과 몇몇 인기있는 기록형태의 작업들, 소위 \"대중문학\" 사이에는 인식가능한 차이점이 존재한다. 이때 \"문학적인 허구성\"과 \"문학적인 재능\"이 종종 개별적인 작품들을 구별하는 데에 사용된다. 예를 들어, 찰스 디킨즈의 작품들은 대부분의 사람들에게 \"문학적인 것\"으로 받아들여지지만, 제프리 아처의 작품들은 영문학이라는 일반적인 범주 아래 두기에는 다소 가치가 떨어지는 것으로 생각된다. 또한 예를 들어 문법과 어법에 서투르거나, 이야기가 혼란스러워 신뢰성을 주지 않거나, 인물들의 성격에 일관성이 없을 경우에도 문학에서 제외될 수 있다. 로맨스, 범죄소설, 과학소설 등의 장르 소설도 때로 \"문학\"이 아닌 것으로 간주되는 경우도 있다. 이들은 대부분 \"대중문학\"의 범주에 포함된다.\n",
            "문학은 분류하는 방법에 따라 다음과 같이 구분한다.\n",
            "이 외에도 편의에 따라 발생적으로 대별하기도 한다.\n",
            "문학은 처음은 유일한 종류, 즉 노래하고, 말하고, 춤춘다는 것이 분화되지 않은 것이었다. 이 춤추는 것을 중심으로 발달한 것이 연극(演劇)이며, 노래하는 것이 발달하여 시(詩), 말하는 것이 발달하여 산문(散文)의 이야기가 되었다. 시는 정형시·자유시·산문시로, 또한 서사시와 서정시로 나뉜다. 산문은 사건을 중심으로 그려진 이야기, 근대 리얼리즘의 수법 이후 인물의 성격을 묘사하는 것을 중심으로 한 소설이 있다. 이야기나 소설과 같이 특별한 구상에 의하지 않고, 작자의 흥미에 의해서 씌어지는 것이 잡문(雜文) 또는 수필이며, 이것이 날짜에 따라 씌어지는 것이 일기, 여행의 과정에 따라 씌어지는 것이 기행문이다. 일기와 마찬가지로 발표의 의도가 작은 것에 서간(書簡)이 있다. 이 밖에 사건의 경험에 따른 회고록, 사건 등의 특정시(特定時)에 한정되지 않는 자서전, 제삼자에 의해서 씌어지는 전기(傳記)가 있다. 또한 이것들을 포함하는 예술작품의 가치평가를 시도하는 것이 평론(評論)이다.\n",
            "대중문학이란 상업성을 띠며 대중을 겨냥하여 그들의 통속적인 흥미와 욕구를 채워주는 문학을 말한다. 대중문학의 하위장르에는 여러가지가 있다.\n",
            "문학을 창작하는 예술가를 문예가라고 부른다. 문예학을 연구하는 사람을 문예학자라고 부른다. 문학을 창작하는 사람을 따로 저술가라고 한다. 문예학자와 언어학자를 합쳐 어문학자로 칭하기도 한다. 그러나 언어와, 언어를 사용한 예술인 문학은 현격한 차이가 있으므로 주의해야 한다.\n",
            "반영론적 관점에 의한 감상은 작품을 창작된 당시 시대 정황과 연결시켜 감상하는 입장이고, 내재적 관점의 감상은 작품의 형식, 내용에 국한하여 감상하는 것이다. 표현론적 관점의 감상은 작가의 전기적 사실과 작품을 연결시켜 감상하는 것이고, 수용론적 관점의 감상은 독자와 작품을 연결시켜 감상하는 것을 말한다.\n",
            "\n",
            "\n",
            "\n",
            "나라 목록\n",
            "이 문서는 나라 목록이며, 전 세계 206개 나라의 각 현황과 주권 승인 정보를 개요 형태로 나열하고 있다.\n",
            "이 목록은 명료화를 위해 두 부분으로 나뉘어 있다.\n",
            "두 목록은 모두 가나다 순이다.\n",
            "일부 국가의 경우 국가로서의 자격에 논쟁의 여부가 있으며, 이 때문에 이러한 목록을 엮는 것은 매우 어렵고 논란이 생길 수 있는 과정이다. 이 목록을 구성하고 있는 국가를 선정하는 기준에 대한 정보는 \"포함 기준\" 단락을 통해 설명하였다. 나라에 대한 일반적인 정보는 \"국가\" 문서에서 설명하고 있다.\n",
            "이 목록은 주권을 주장하고 점유한 영토를 실제로 관리하고 있으나, 많은 국가와 외교관계를 맺지 못한 나라를 설명하고 있다. 극소형 국가는 이 목록에 포함하지 않는다.\n",
            "이 목록에 실린 국가 기준은 1933년 몬테비데오 협약 1장을 참고로 하였다. 협정에 따르면, 국가는 다음의 조건을 만족해야 한다.\n",
            "특히, 마지막 조건은 국제 공동체의 참여 용인을 내포하고 있기 때문에, 다른 나라의 승인이 매우 중요한 역할을 할 수 있다. 이 목록에 포함된 모든 국가는 보통 이 기준을 만족하는 것으로 보이는 자주적이고 독립적인 국가이다. 하지만 몬테비데오 협약 기준을 만족하는지의 여부는 많은 국가가 논쟁이 되고 있는 실정이다. 또한, 몬테비데오 협약 기준만이 국가 지위의 충분한 자격이든 아니든, 국제법의 견해 차이는 존재할 수 있다. 이 물음에 대한 다른 이론에 대한 고리는 아래에서 볼 수 있다.\n",
            "위 기준에 논거하여 이 목록은 다음 206개 국가를 포함하고 있다.\n",
            "위 목록에 포함되지 않은 다음 국가는 몬테비데오 협약의 모든 조건을 만족하지 못하거나, 자주적이고 독립적임을 주장하지 않는 국가이다.\n",
            "\n",
            "\n",
            "\n",
            "화학\n",
            "화학(化學, )은 물질의 성질, 조성, 구조, 변화 및 그에 수반하는 에너지의 변화를 연구하는 자연과학의 한 분야이다. 물리학도 역시 물질을 다루는 학문이지만, 물리학이 원소와 화합물을 모두 포함한 물체의 운동과 에너지, 열적·전기적·광학적·기계적 속성을 다루고 이러한 현상으로부터 통일된 이론을 구축하려는 것과는 달리 화학에서는 물질 자체를 연구 대상으로 한다. 화학은 이미 존재하는 물질을 이용하여 특정한 목적에 맞는 새로운 물질을 합성하는 길을 제공하며, 이는 농작물의 증산, 질병의 치료 및 예방, 에너지 효율 증대, 환경오염 감소 등 여러 가지 이점을 제공한다.\n",
            "고대 화학\n",
            "<nowiki>*</nowiki>\"초기 야금 (야금: 금속을 광석으로부터 추출하고 정련하는 기술)\"\n",
            "인간에 의해 발견된 최초의 기록된 금속은 금인 것으로 보이며 구석기 후기(BC 40,000)에 스페인 동굴에서 소량의 천연 금이 발견되었다고 한다.\n",
            "은, 구리, 주석 및 유성 철 또한 고대 문화에서 제한된 양의 금속 가공을 허용하면서 고대문화로 발견 될 수 있었다. 기원전 3000년경 유성 철제로 만든 이집트 무기는 \"천국의 단검\"으로 높이 평가 받았다.\n",
            "아마도 통제 된 방식으로 사용 된 최초의 화학 반응은 불이였다. 그러나 천년 동안 불는 단순히 열과 빛을 생성하면서 한 물질을 다른 물질 (타는 나무 또는 끓는 물)로 변형시킬 수있는 신비한 힘으로만 알려졌다. 불는 초기 사회의 여러 측면에 영향을 미쳤다. 이들은 요리 및 서식지 조명과 같은 일상 생활의 가장 단순한면에서 도기, 벽돌 및 금속을 녹여 도구를 만드는 것과 같은 고급 기술에 이르기까지 다양했다.\n",
            "유리의 발견과 금속의 정화로 이어지는 불로 인해 야금이 부상했다. 야금의 초기 단계에서 금속의 정화 방법이 요구되었고, 금은 BC 2900 년 초기의 고대 이집트의 귀중한 금속이되었다.\n",
            "17 세기와 18 세기 : 초기 화학\n",
            "\"<nowiki>*</nowiki>로버트 보일\"\n",
            "영국계 미국인 화학자 로버트 보일 (Robert Boyle, 1627-1691)은 연금술에 대한 현대의 과학적 방법을 정제하고 화학을 연금술과 분리한 것으로 생각된다. 그의 연구가 연금술 전통에 뿌리를두고 있음에도 불구하고, 보일은 오늘날 현대의 화학자이자 현대화학의 창시자이자 현대 실험 과학 방법의 선구자 중 한 사람으로 불리고 있다. 보일이 원래 발견자가 아님에도 보일은 1662 년에 제시한 보일의 법칙으로 가장 잘 알려져있다. 보일의 법칙은 온도만 폐쇄된 시스템 내에서 일정하게 유지된다면 가스의 절대 압력과 부피가 반비례함을 의미한다.보일은 또한 화학 분야의 초석으로 간주되는 1661 년의 《의심 많은 화학자》 에 대한 획기적인 저서로 인정받고 있다. 작품에서 보일은 모든 현상이 움직이는 입자의 충돌의 결과라는 가설을 제시한다. 보일 (Boyle)은 화학자들에게 실험을 호소했으며 실험은 지구, 화염, 공기 및 물과 같은 고전적인 4 가지 원소만으로 화학 원소를 제한한다는 것을 부인했다. 그는 또한 화학이 의학이나 연금술에 종속되어 과학의 지위로 부상하는 것을 중단해야한다고 촉구했다. 중요한 것은 과학 실험에 대한 엄격한 접근 방식이라고 주장했다. 그는 모든 이론이 사실로 간주되기 전에 실험적으로 입증되어야한다고 믿었다. 이 작품은 원자, 분자 및 화학 반응의 가장 초기의 현대적인 아이디어를 포함하고 있으며 현대 화학의 역사의 시작을 나타낸다. 보일은 또한 화학 물질을 정제하여 재현 가능한 반응을 얻으려고 시도했다. 그는 재료 물질의 물리적 특성과 상호 작용을 설명하고 정량화하기 위해 René Descartes가 제안한 기계 철학의 보컬 지지자였다. 보일은 원자핵론자 였지만 원자보다 더 많은 입자를 선호했다. 그는 속성이 유지되는 물질의 가장 정밀한 부분은 미립자의 수준에 있다고 논평했다. 그는 또한 공기 펌프로 수 많은 조사를 수행했으며, 공기가 펌프로 퍼져 나감에 따라 수은이 떨어지는 것으로 나타났다. 그는 또한 컨테이너에서 공기를 펌핑하면 화염을 없애고 내부에있는 작은 동물을 죽일 수 있음을 관찰했다.\n",
            "과거 화학에서 더 이상 나뉘지 않는 기초적인 요소가 존재한다고 했는데, 이 기초적인 요소를 원자(atom)라 한다. 원자란 물질을 구성하는 기본적인 입자로 고대 그리스의 데모크리토스에서부터 그 존재가 주장되었는데, 1803년 존 돌턴에 의해서 원자론으로 정리되었다. 20세기 초, 화학자들은 원자를 구성하는 더 작은 입자들, 즉 전자, 양성자, 중성자가 존재한다는 사실을 발견하였다. 전자는 음전하를 띠고 있고, 양성자는 양전하를 띠고 있으며, 중성자는 전하를 띠지 않고 있다. 원자는 양성자와 중성자로 구성되어 있는 원자핵을 가지고 있으며 전자는 이 주변에 오비탈을 이루며 분포되어 있다.\n",
            "원소(element)는 일반적인 화학적, 물리학적 방법으로는 분해되지 않는 물질을 의미한다. 원소는 원자핵에 존재하는 양성자 수로 정의되는 원자 번호로 구별된다. 산소, 황, 주석, 철 등은 원소이다. 19세기 중엽까지 약 80가지의 원소가 발견되었는데, 이들은 주기율에 따라 배열될 수 있다.\n",
            "동위원소는 아이소토프 또는 동위체라고도 한다. 서로 화학적으로는 거의 구별하지 못하지만 그것을 구성하고 있는 원자의 질량이 서로 다른 원소를 동위원소라고 한다. 영어의 isotope는 그리스어인 isos(같은)와 topos(장소)의 합성어인데, 질량은 서로 달라도 원소의 주기율표에서 같은 장소에 배열되는 데서 1901년 영국의 화학자 F. 소디가 isotope라는 명칭을 붙였다. 대부분의 원소는 동위 원소를 가진다. 동위 원소는 원자 번호는 같으나, 중성자수가 다른 원소를 뜻한다. 동위 원소는 화학적인 성질은 동일하나, 원자량의 차이를 이용하여 분리할 수 있다. 자연에서도 발견되는 92개의 원소 중 88개는 동위 원소가 지표면 상에 존재한다. 자연에서 발견되지 않더라도 동위 원소는 핵반응을 이용하여 만들어낼 수 있다. 어떤 동위 원소는 방사능을 가지기도 하는데, 이 경우 동위 원소의 원자핵은 불안정하고 방사선을 방출하며 자연적으로 붕괴된다.\n",
            "동중 원소(isobar)는 원자 질량은 같으나, 양성자수가 다른 원소를 뜻한다. 동중 원소는 화학적, 물리적 성질이 다르며 S, Cl, Ar, K, Ca등이 있다.\n",
            "분자란 원자의 결합체 중 독립 입자로서 작용하는 단위체이다. 일정한 개수의 원자가 특정하게 정렬되어 서로 결합해 분자가 형성된다. 원자가 원소의 최소단위이듯, 분자는 화합물의 최소단위가 된다. 원자가 결합될 때 전자의 재배치가 일어나는데, 이는 화학에서의 중요한 관심사중 하나이다.\n",
            "화학 반응은 원자 혹은 분자가 화학적인 변화를 겪는 일을 말한다. 화학 반응은 원자간의 결합이 끊어지는 일과 다시 이어지는 일을 포함한다. 결합이 끊어질 때는 에너지가 흡수되고, 결합이 이어질 때는 에너지가 방출된다. 화학 반응의 간단한 예로는 수소와 산소가 반응하여 물이 되는 것을 들 수 있다. 반응식은 다음과 같다.\n",
            "반응식에서 알 수 있듯이, 화학 반응에서는 원자가 새로 생성되거나 나타나는 일이 일어나지 않는다. ΔH는 에너지 또는 엔탈피 변화를 뜻한다. 반응은 발열반응일 수도 있고, 흡열반응일 수도 있다. 발열반응은 주위로 열을 방출하는 반응으로 엔탈피 변화가 음수로 나타난다. 반면에 흡열반응은 주위 열을 흡수하는 반응으로 엔탈피 변화가 양수로 나타난다. 위 반응의 경우는 발열반응인데, 이는 계로부터 주위로 열이 이동하였다는 의미이다.\n",
            "화학 결합을 주된 세 가지 부류로 나누어보면 이온 결합, 공유 결합 그리고 금속결합으로 나눌 수 있다. 이온이란 전하를 띤 원자 또는 분자를 뜻한다. 이온 결합은 양전하와 음전하의 전기적인 인력에 의해서 생성되는 화학 결합이다. 예를 들면 염화 나트륨은 양전하를 띤 나트륨 이온(Na)과 음전하를 띤 염화 이온(Cl) 사이의 전기적인 결합으로 이루어진 이온 화합물이다. 이러한 물질을 물에 녹이면 이온은 물 분자에 의해 수화되고 이렇게 해서 만들어진 수용액은 전기전도도를 가진다.\n",
            "공유 결합은 오비탈이 겹쳐진 결과 두 원자가 전자쌍을 공유하게 되어 생성되는 결합을 의미한다. 공유 결합이 형성되는 결합은 발열반응인데, 이때 방출되는 에너지의 양이 그 결합의 결합 에너지이다. 결합 에너지만큼의 에너지를 그 결합에 가해주면 결합은 끊어질 수 있다.\n",
            "금속 결합은 금속 원자에서 전자들이 떨어져 나와 자유전자를 생성하게 되어 생성되는 결합을 의미한다. 금속의 특성인 연성과 전성이 생성되는 이유이기도 하다.\n",
            "화합물은 구성하고 있는 원자의 종류, 수, 배치에 의해서 그 특성이 결정된다. 자연에서 찾을 수 있거나 인공적으로 합성할 수 있는 화합물의 수는 엄청나고, 이들 중 대부분은 유기 화합물이다. 유기 화합물을 이루는 주된 화학 원소인 탄소는 다른 화학 원소와는 다르게 매우 긴 사슬 형태로 정렬될 수 있으며, 같은 수많은 이성질체를 형성할 수 있다. 예를 들어, 분자식 CHO는 약 천 개의 서로 다른 화합물을 뜻할 수 있다.\n",
            "화학은 취급 대상 및 대상의 취급 방법에 따라서 몇 가지 분과로 구분될 수 있다. 물질을 분석하는 분석화학은 크게 물질의 존재를 취급하는 정성 분석과 물질의 양을 결정하는 정량 분석으로 나눌 수 있다. 탄소를 포함한 유기 화합물을 다루는 유기화학과 유기 화합물을 제외한 무기 화합물을 다루는 무기화학도 있다. 물리학과 화학의 경계에는 물리화학이 있고 생물학과의 경계에는 생화학이 있다. 물리화학에서 특히 분자의 구조와 성질과의 관계를 다루는 부분을 구조화학이라고 부르기도 한다. 제2차 세계 대전 이후에는 방사성 물질을 다루는 방사화학이 발전하였고 화학 공업을 다루는 공업화학도 있다. 이 외에도 화학의 분과는 매우 다양하다.\n",
            "화학의 분과는 전통적으로 다음과 같은 5가지로 나눌 수 있으며, 각각의 분과는 더욱 세분화될 수 있다.\n",
            "무기화학은 유기화학에서 다루지 않는 물질을 다루며 주로 금속이나 준금속이 포함된 물질에 대해서 연구한다. 따라서 무기화학에서는 매우 넓은 범위의 화합물을 다루게 된다. 초기에는 광물의 구성이나 새 원소의 발견이 주요 관심사였고 여기서부터 지구화학이 분기되었다. 주로 전이 금속 등을 이용한 촉매나 생물에서 산소 수송, 광합성, 질소 고정 등의 과정에서 중요한 역할을 하는 금속 원자들에 대해 연구하며 이 외에도 세라믹, 복합재료, 초전도체등에 대한 연구를 한다.\n",
            "물리화학은 화학적 현상에 대한 해석과 이를 설명하기 위한 물리적 원리들에 대해 다루는 분과이다. 화학반응에 관련된 열역학적 원리와 물질의 물리학적 성질에 대한 설명은 물리화학이 다루는 고전적인 주제이다. 물리화학은 양자화학의 발전에도 큰 기여를 하였다. 분광계나 자기 공명, 회절 기기 등 물리화학에서 사용하는 실험 장비나 실험 방법들은 다른 화학의 분과에서도 매우 많이 사용된다. 물리화학이 다루는 대상은 유기 화합물, 무기 화합물, 혼합물을 모두 포함한다.\n",
            "분석화학은 물질의 조성이나 혼합물의 구성요소 등을 결정하는 방법에 대해서 연구하는 화학의 분과이다. 혼합물을 이루고 있는 성분의 탐색, 분리, 정량과 분자를 이루고 있는 원자의 비율을 측정하여 분자식을 결정하는 일 등이 분석화학에서 행해진다. 1950년대의 분석화학의 발전은 많은 질량 분석계를 포함한 분석 기구의 등장을 불러일으켰다. 이 외에도 고해상도 크로마토그래피, 전기화학에서의 많은 실험방법 등은 분석화학에 있어서 중요한 분석법이다. 분석화학에 있어서 최종 목표는 더 정확한 측정법이나 측정기기 등을 개발하는 것이다. 분석화학의 발전으로 인해 환경오염 물질 등을 피코그램의 수준에서도 감지하는 것이 가능해졌다.\n"
          ],
          "name": "stdout"
        }
      ]
    },
    {
      "cell_type": "markdown",
      "metadata": {
        "id": "qHuj_OipY_wP"
      },
      "source": [
        "# math"
      ]
    },
    {
      "cell_type": "code",
      "metadata": {
        "colab": {
          "base_uri": "https://localhost:8080/"
        },
        "id": "tVC4Sj0QZCDw",
        "outputId": "d43b88b0-d4e8-449d-fa5c-b0332c4b6e70"
      },
      "source": [
        "math.pi, math.e"
      ],
      "execution_count": null,
      "outputs": [
        {
          "output_type": "execute_result",
          "data": {
            "text/plain": [
              "(3.141592653589793, 2.718281828459045)"
            ]
          },
          "metadata": {
            "tags": []
          },
          "execution_count": 34
        }
      ]
    },
    {
      "cell_type": "code",
      "metadata": {
        "colab": {
          "base_uri": "https://localhost:8080/"
        },
        "id": "jFjMPMbKZQMU",
        "outputId": "f9d24064-07c4-4112-d7a0-a33fc4bd1361"
      },
      "source": [
        "math.log(math.e)"
      ],
      "execution_count": null,
      "outputs": [
        {
          "output_type": "execute_result",
          "data": {
            "text/plain": [
              "1.0"
            ]
          },
          "metadata": {
            "tags": []
          },
          "execution_count": 35
        }
      ]
    },
    {
      "cell_type": "code",
      "metadata": {
        "colab": {
          "base_uri": "https://localhost:8080/"
        },
        "id": "58WiTfCYZSsn",
        "outputId": "821a7381-ebf0-4043-d113-cd2901ef1834"
      },
      "source": [
        "math.exp(1)"
      ],
      "execution_count": null,
      "outputs": [
        {
          "output_type": "execute_result",
          "data": {
            "text/plain": [
              "2.718281828459045"
            ]
          },
          "metadata": {
            "tags": []
          },
          "execution_count": 36
        }
      ]
    },
    {
      "cell_type": "markdown",
      "metadata": {
        "id": "E-DYjVA4ZbP_"
      },
      "source": [
        "# copy"
      ]
    },
    {
      "cell_type": "code",
      "metadata": {
        "id": "c_AoXX5fZctB"
      },
      "source": [
        "a = [0, 1, 2, 3, 4, [5, 6, 7, 8]]\n",
        "b = a"
      ],
      "execution_count": null,
      "outputs": []
    },
    {
      "cell_type": "code",
      "metadata": {
        "colab": {
          "base_uri": "https://localhost:8080/"
        },
        "id": "kVqEGDd3ZgQ6",
        "outputId": "1d2a0826-492c-47cd-f5e1-a3565b2bb69f"
      },
      "source": [
        "# a와 b는 같은 값\n",
        "b[1] = 10\n",
        "a, b"
      ],
      "execution_count": null,
      "outputs": [
        {
          "output_type": "execute_result",
          "data": {
            "text/plain": [
              "([0, 10, 2, 3, 4, [5, 6, 7, 8]], [0, 10, 2, 3, 4, [5, 6, 7, 8]])"
            ]
          },
          "metadata": {
            "tags": []
          },
          "execution_count": 38
        }
      ]
    },
    {
      "cell_type": "code",
      "metadata": {
        "colab": {
          "base_uri": "https://localhost:8080/"
        },
        "id": "Wcbp-z78ZjeZ",
        "outputId": "ed0dad04-b4b0-450b-cd7a-ea5e79f38cbe"
      },
      "source": [
        "# a와 c는 다른 값\n",
        "c = copy.copy(a)\n",
        "c[1] = 20\n",
        "a, c"
      ],
      "execution_count": null,
      "outputs": [
        {
          "output_type": "execute_result",
          "data": {
            "text/plain": [
              "([0, 10, 2, 3, 4, [5, 6, 7, 8]], [0, 20, 2, 3, 4, [5, 6, 7, 8]])"
            ]
          },
          "metadata": {
            "tags": []
          },
          "execution_count": 39
        }
      ]
    },
    {
      "cell_type": "code",
      "metadata": {
        "colab": {
          "base_uri": "https://localhost:8080/"
        },
        "id": "cqNuYUJIaLd3",
        "outputId": "74e38d79-d2b6-463b-d7bb-118f9b2279b9"
      },
      "source": [
        "# a[5]와 c[5]는 같은 값\n",
        "c[5][1] = 23\n",
        "a, c"
      ],
      "execution_count": null,
      "outputs": [
        {
          "output_type": "execute_result",
          "data": {
            "text/plain": [
              "([0, 10, 2, 3, 4, [5, 23, 7, 8]], [0, 20, 2, 3, 4, [5, 23, 7, 8]])"
            ]
          },
          "metadata": {
            "tags": []
          },
          "execution_count": 40
        }
      ]
    },
    {
      "cell_type": "code",
      "metadata": {
        "colab": {
          "base_uri": "https://localhost:8080/"
        },
        "id": "n3sRKOBJaW-g",
        "outputId": "09552ae7-4f96-457b-80cb-0368e253a50f"
      },
      "source": [
        "# a와 d는 다른 값\n",
        "d = copy.deepcopy(a)\n",
        "d[5][1] = 99\n",
        "a, d"
      ],
      "execution_count": null,
      "outputs": [
        {
          "output_type": "execute_result",
          "data": {
            "text/plain": [
              "([0, 10, 2, 3, 4, [5, 23, 7, 8]], [0, 10, 2, 3, 4, [5, 99, 7, 8]])"
            ]
          },
          "metadata": {
            "tags": []
          },
          "execution_count": 41
        }
      ]
    },
    {
      "cell_type": "markdown",
      "metadata": {
        "id": "i2v2CT_dasSs"
      },
      "source": [
        "# collections"
      ]
    },
    {
      "cell_type": "code",
      "metadata": {
        "colab": {
          "base_uri": "https://localhost:8080/",
          "height": 190
        },
        "id": "biuk9GFqat5F",
        "outputId": "ecdca88a-554c-4e75-cf4d-65f30e958491"
      },
      "source": [
        "a = {}\n",
        "a['aa'], a"
      ],
      "execution_count": null,
      "outputs": [
        {
          "output_type": "error",
          "ename": "KeyError",
          "evalue": "ignored",
          "traceback": [
            "\u001b[0;31m---------------------------------------------------------------------------\u001b[0m",
            "\u001b[0;31mKeyError\u001b[0m                                  Traceback (most recent call last)",
            "\u001b[0;32m<ipython-input-42-69cbed6e66f5>\u001b[0m in \u001b[0;36m<module>\u001b[0;34m()\u001b[0m\n\u001b[1;32m      1\u001b[0m \u001b[0ma\u001b[0m \u001b[0;34m=\u001b[0m \u001b[0;34m{\u001b[0m\u001b[0;34m}\u001b[0m\u001b[0;34m\u001b[0m\u001b[0;34m\u001b[0m\u001b[0m\n\u001b[0;32m----> 2\u001b[0;31m \u001b[0ma\u001b[0m\u001b[0;34m[\u001b[0m\u001b[0;34m'aa'\u001b[0m\u001b[0;34m]\u001b[0m\u001b[0;34m,\u001b[0m \u001b[0ma\u001b[0m\u001b[0;34m\u001b[0m\u001b[0;34m\u001b[0m\u001b[0m\n\u001b[0m",
            "\u001b[0;31mKeyError\u001b[0m: 'aa'"
          ]
        }
      ]
    },
    {
      "cell_type": "code",
      "metadata": {
        "colab": {
          "base_uri": "https://localhost:8080/"
        },
        "id": "xh-p6t2Say3r",
        "outputId": "784c1bea-06c0-440b-ff27-a7a87508eda0"
      },
      "source": [
        "b = collections.defaultdict(int)\n",
        "b['aa'], b"
      ],
      "execution_count": null,
      "outputs": [
        {
          "output_type": "execute_result",
          "data": {
            "text/plain": [
              "(0, defaultdict(int, {'aa': 0}))"
            ]
          },
          "metadata": {
            "tags": []
          },
          "execution_count": 43
        }
      ]
    },
    {
      "cell_type": "markdown",
      "metadata": {
        "id": "5vY6fIoRa_CG"
      },
      "source": [
        "# re"
      ]
    },
    {
      "cell_type": "code",
      "metadata": {
        "id": "h82LAi-CbLIu"
      },
      "source": [
        "string = \"홍길의 키는 170 이고 영수는 165 이다.\""
      ],
      "execution_count": null,
      "outputs": []
    },
    {
      "cell_type": "code",
      "metadata": {
        "id": "fUEIK-qCbV3w"
      },
      "source": [
        "re.match(r\"\\d+\", string)"
      ],
      "execution_count": null,
      "outputs": []
    },
    {
      "cell_type": "code",
      "metadata": {
        "colab": {
          "base_uri": "https://localhost:8080/"
        },
        "id": "lNq5RS9OclXS",
        "outputId": "bed630f0-8ee2-4dfa-9b67-283152f00bb6"
      },
      "source": [
        "re.search(r\"\\d+\", string)"
      ],
      "execution_count": null,
      "outputs": [
        {
          "output_type": "execute_result",
          "data": {
            "text/plain": [
              "<re.Match object; span=(7, 10), match='170'>"
            ]
          },
          "metadata": {
            "tags": []
          },
          "execution_count": 47
        }
      ]
    },
    {
      "cell_type": "code",
      "metadata": {
        "colab": {
          "base_uri": "https://localhost:8080/"
        },
        "id": "PmJafSiSd8bt",
        "outputId": "591922f2-ae86-4c41-8bab-0d51ceec100d"
      },
      "source": [
        "re.findall(r\"\\d+\", string)"
      ],
      "execution_count": null,
      "outputs": [
        {
          "output_type": "execute_result",
          "data": {
            "text/plain": [
              "['170', '165']"
            ]
          },
          "metadata": {
            "tags": []
          },
          "execution_count": 48
        }
      ]
    },
    {
      "cell_type": "markdown",
      "metadata": {
        "id": "BjPD2YiAeD6h"
      },
      "source": [
        "# matplotlib.pyplot"
      ]
    },
    {
      "cell_type": "code",
      "metadata": {
        "colab": {
          "base_uri": "https://localhost:8080/",
          "height": 513
        },
        "id": "OkXD7RcXeHD1",
        "outputId": "b250462c-d151-4998-bbae-4e480f44b4ad"
      },
      "source": [
        "# plot\n",
        "plt.figure(figsize=(12, 8))\n",
        "plt.plot([1, 2, 3, 4, 5], \"--g\", label='val 1')\n",
        "plt.plot([5, 4, 3, 2, 1], \"-b\", label='val 2')\n",
        "plt.plot([2, 3, 2, 3, 2], \"or\", label='val 3')\n",
        "plt.plot([3, 2, 3, 1, 3], \"o--k\", label='val 4')\n",
        "plt.title(\"test plot\")\n",
        "plt.xlabel(\"x\")\n",
        "plt.ylabel(\"y\")\n",
        "plt.grid(True)\n",
        "plt.legend()\n",
        "plt.show()"
      ],
      "execution_count": null,
      "outputs": [
        {
          "output_type": "display_data",
          "data": {
            "image/png": "[encoded data removed]",
            "text/plain": [
              "<Figure size 864x576 with 1 Axes>"
            ]
          },
          "metadata": {
            "tags": [],
            "needs_background": "light"
          }
        }
      ]
    },
    {
      "cell_type": "code",
      "metadata": {
        "colab": {
          "base_uri": "https://localhost:8080/",
          "height": 295
        },
        "id": "UXFkuA0Lf8DN",
        "outputId": "d8b55a29-c701-4780-d8bc-9b9269642d99"
      },
      "source": [
        "# bar and plot\n",
        "plt.figure(figsize=(8, 4))\n",
        "plt.bar([0, 1, 2, 3, 4], [2, 3, 4, 5, 6], label='val 1')\n",
        "plt.plot([6, 5, 4, 3, 2], \"--g\", label='val 2')\n",
        "plt.title(\"test plot\")\n",
        "plt.xlabel(\"x\")\n",
        "plt.ylabel(\"y\")\n",
        "plt.grid(True)\n",
        "plt.legend()\n",
        "plt.show()"
      ],
      "execution_count": null,
      "outputs": [
        {
          "output_type": "display_data",
          "data": {
            "image/png": "[encoded data removed]",
            "text/plain": [
              "<Figure size 576x288 with 1 Axes>"
            ]
          },
          "metadata": {
            "tags": [],
            "needs_background": "light"
          }
        }
      ]
    },
    {
      "cell_type": "code",
      "metadata": {
        "colab": {
          "base_uri": "https://localhost:8080/",
          "height": 727
        },
        "id": "DgnYxS9y_yL1",
        "outputId": "2e47dece-d56f-49d2-b9d0-6cebfdb04670"
      },
      "source": [
        "# bar and plot\n",
        "plt.figure(figsize=(8, 4))\n",
        "plt.bar([0, 1, 2, 3, 4], [2, 3, 4, 5, 6], label='값 1')\n",
        "plt.plot([6, 5, 4, 3, 2], \"--g\", label='값 2')\n",
        "plt.title(\"한글 테스트\")\n",
        "plt.xlabel(\"x\")\n",
        "plt.ylabel(\"y\")\n",
        "plt.grid(True)\n",
        "plt.legend()\n",
        "plt.show()"
      ],
      "execution_count": null,
      "outputs": [
        {
          "output_type": "stream",
          "text": [
            "/usr/local/lib/python3.7/dist-packages/matplotlib/backends/backend_agg.py:214: RuntimeWarning: Glyph 54620 missing from current font.\n",
            "  font.set_text(s, 0.0, flags=flags)\n",
            "/usr/local/lib/python3.7/dist-packages/matplotlib/backends/backend_agg.py:214: RuntimeWarning: Glyph 44544 missing from current font.\n",
            "  font.set_text(s, 0.0, flags=flags)\n",
            "/usr/local/lib/python3.7/dist-packages/matplotlib/backends/backend_agg.py:214: RuntimeWarning: Glyph 53580 missing from current font.\n",
            "  font.set_text(s, 0.0, flags=flags)\n",
            "/usr/local/lib/python3.7/dist-packages/matplotlib/backends/backend_agg.py:214: RuntimeWarning: Glyph 49828 missing from current font.\n",
            "  font.set_text(s, 0.0, flags=flags)\n",
            "/usr/local/lib/python3.7/dist-packages/matplotlib/backends/backend_agg.py:214: RuntimeWarning: Glyph 53944 missing from current font.\n",
            "  font.set_text(s, 0.0, flags=flags)\n",
            "/usr/local/lib/python3.7/dist-packages/matplotlib/backends/backend_agg.py:214: RuntimeWarning: Glyph 44050 missing from current font.\n",
            "  font.set_text(s, 0.0, flags=flags)\n",
            "/usr/local/lib/python3.7/dist-packages/matplotlib/backends/backend_agg.py:183: RuntimeWarning: Glyph 54620 missing from current font.\n",
            "  font.set_text(s, 0, flags=flags)\n",
            "/usr/local/lib/python3.7/dist-packages/matplotlib/backends/backend_agg.py:183: RuntimeWarning: Glyph 44544 missing from current font.\n",
            "  font.set_text(s, 0, flags=flags)\n",
            "/usr/local/lib/python3.7/dist-packages/matplotlib/backends/backend_agg.py:183: RuntimeWarning: Glyph 53580 missing from current font.\n",
            "  font.set_text(s, 0, flags=flags)\n",
            "/usr/local/lib/python3.7/dist-packages/matplotlib/backends/backend_agg.py:183: RuntimeWarning: Glyph 49828 missing from current font.\n",
            "  font.set_text(s, 0, flags=flags)\n",
            "/usr/local/lib/python3.7/dist-packages/matplotlib/backends/backend_agg.py:183: RuntimeWarning: Glyph 53944 missing from current font.\n",
            "  font.set_text(s, 0, flags=flags)\n",
            "/usr/local/lib/python3.7/dist-packages/matplotlib/backends/backend_agg.py:183: RuntimeWarning: Glyph 44050 missing from current font.\n",
            "  font.set_text(s, 0, flags=flags)\n"
          ],
          "name": "stderr"
        },
        {
          "output_type": "display_data",
          "data": {
            "image/png": "[encoded data removed]",
            "text/plain": [
              "<Figure size 576x288 with 1 Axes>"
            ]
          },
          "metadata": {
            "tags": [],
            "needs_background": "light"
          }
        }
      ]
    },
    {
      "cell_type": "code",
      "metadata": {
        "colab": {
          "base_uri": "https://localhost:8080/",
          "height": 294
        },
        "id": "Ebcqj9Er_97F",
        "outputId": "9e2eb6a0-58b0-4032-d2f7-289f360b16ea"
      },
      "source": [
        "# 한글 설정\n",
        "plt.rc('font', family=\"NanumBarunGothic\")\n",
        "plt.rcParams[\"axes.unicode_minus\"] = False # 한글 폰트 사용시 - 깨지는 문제 해결\n",
        "# bar and plot\n",
        "plt.figure(figsize=(8, 4))\n",
        "plt.bar([0, 1, 2, 3, 4], [2, 3, 4, 5, 6], label='값 1')\n",
        "plt.plot([6, 5, 4, 3, 2], \"--g\", label='값 2')\n",
        "plt.title(\"한글 테스트\")\n",
        "plt.xlabel(\"x\")\n",
        "plt.ylabel(\"y\")\n",
        "plt.grid(True)\n",
        "plt.legend()\n",
        "plt.show()"
      ],
      "execution_count": null,
      "outputs": [
        {
          "output_type": "display_data",
          "data": {
            "image/png": "[encoded data removed]",
            "text/plain": [
              "<Figure size 576x288 with 1 Axes>"
            ]
          },
          "metadata": {
            "tags": [],
            "needs_background": "light"
          }
        }
      ]
    },
    {
      "cell_type": "markdown",
      "metadata": {
        "id": "cY8fOkQKg49O"
      },
      "source": [
        "# pandas"
      ]
    },
    {
      "cell_type": "code",
      "metadata": {
        "colab": {
          "base_uri": "https://localhost:8080/"
        },
        "id": "htW1r06-h8Qc",
        "outputId": "5d1fb54d-6b27-4761-a0c2-46553bab79b7"
      },
      "source": [
        "# random value\n",
        "values = np.random.rand(6, 4)\n",
        "values"
      ],
      "execution_count": null,
      "outputs": [
        {
          "output_type": "execute_result",
          "data": {
            "text/plain": [
              "array([[0.19151945, 0.62210877, 0.43772774, 0.78535858],\n",
              "       [0.77997581, 0.27259261, 0.27646426, 0.80187218],\n",
              "       [0.95813935, 0.87593263, 0.35781727, 0.50099513],\n",
              "       [0.68346294, 0.71270203, 0.37025075, 0.56119619],\n",
              "       [0.50308317, 0.01376845, 0.77282662, 0.88264119],\n",
              "       [0.36488598, 0.61539618, 0.07538124, 0.36882401]])"
            ]
          },
          "metadata": {
            "tags": []
          },
          "execution_count": 53
        }
      ]
    },
    {
      "cell_type": "code",
      "metadata": {
        "colab": {
          "base_uri": "https://localhost:8080/",
          "height": 235
        },
        "id": "y7xD4dPuhBSg",
        "outputId": "b8e24ca2-ba14-49cb-a12f-0b4e2d2a52c8"
      },
      "source": [
        "# dataframe\n",
        "index = [\"2021-04-19\", \"2021-04-20\", \"2021-04-21\", \"2021-04-22\", \"2021-04-23\", \"2021-04-24\"]\n",
        "df = pd.DataFrame(values, index=index, columns=[\"A\", \"B\", \"C\", \"D\"])\n",
        "df"
      ],
      "execution_count": null,
      "outputs": [
        {
          "output_type": "execute_result",
          "data": {
            "text/html": [
              "<div>\n",
              "<style scoped>\n",
              "    .dataframe tbody tr th:only-of-type {\n",
              "        vertical-align: middle;\n",
              "    }\n",
              "\n",
              "    .dataframe tbody tr th {\n",
              "        vertical-align: top;\n",
              "    }\n",
              "\n",
              "    .dataframe thead th {\n",
              "        text-align: right;\n",
              "    }\n",
              "</style>\n",
              "<table border=\"1\" class=\"dataframe\">\n",
              "  <thead>\n",
              "    <tr style=\"text-align: right;\">\n",
              "      <th></th>\n",
              "      <th>A</th>\n",
              "      <th>B</th>\n",
              "      <th>C</th>\n",
              "      <th>D</th>\n",
              "    </tr>\n",
              "  </thead>\n",
              "  <tbody>\n",
              "    <tr>\n",
              "      <th>2021-04-19</th>\n",
              "      <td>0.191519</td>\n",
              "      <td>0.622109</td>\n",
              "      <td>0.437728</td>\n",
              "      <td>0.785359</td>\n",
              "    </tr>\n",
              "    <tr>\n",
              "      <th>2021-04-20</th>\n",
              "      <td>0.779976</td>\n",
              "      <td>0.272593</td>\n",
              "      <td>0.276464</td>\n",
              "      <td>0.801872</td>\n",
              "    </tr>\n",
              "    <tr>\n",
              "      <th>2021-04-21</th>\n",
              "      <td>0.958139</td>\n",
              "      <td>0.875933</td>\n",
              "      <td>0.357817</td>\n",
              "      <td>0.500995</td>\n",
              "    </tr>\n",
              "    <tr>\n",
              "      <th>2021-04-22</th>\n",
              "      <td>0.683463</td>\n",
              "      <td>0.712702</td>\n",
              "      <td>0.370251</td>\n",
              "      <td>0.561196</td>\n",
              "    </tr>\n",
              "    <tr>\n",
              "      <th>2021-04-23</th>\n",
              "      <td>0.503083</td>\n",
              "      <td>0.013768</td>\n",
              "      <td>0.772827</td>\n",
              "      <td>0.882641</td>\n",
              "    </tr>\n",
              "    <tr>\n",
              "      <th>2021-04-24</th>\n",
              "      <td>0.364886</td>\n",
              "      <td>0.615396</td>\n",
              "      <td>0.075381</td>\n",
              "      <td>0.368824</td>\n",
              "    </tr>\n",
              "  </tbody>\n",
              "</table>\n",
              "</div>"
            ],
            "text/plain": [
              "                   A         B         C         D\n",
              "2021-04-19  0.191519  0.622109  0.437728  0.785359\n",
              "2021-04-20  0.779976  0.272593  0.276464  0.801872\n",
              "2021-04-21  0.958139  0.875933  0.357817  0.500995\n",
              "2021-04-22  0.683463  0.712702  0.370251  0.561196\n",
              "2021-04-23  0.503083  0.013768  0.772827  0.882641\n",
              "2021-04-24  0.364886  0.615396  0.075381  0.368824"
            ]
          },
          "metadata": {
            "tags": []
          },
          "execution_count": 54
        }
      ]
    },
    {
      "cell_type": "code",
      "metadata": {
        "colab": {
          "base_uri": "https://localhost:8080/"
        },
        "id": "THTPyj9rhZ6w",
        "outputId": "fcf5a877-d2ad-467b-9349-aded1e9bafc1"
      },
      "source": [
        "# 기본정보\n",
        "df.info()"
      ],
      "execution_count": null,
      "outputs": [
        {
          "output_type": "stream",
          "text": [
            "<class 'pandas.core.frame.DataFrame'>\n",
            "Index: 6 entries, 2021-04-19 to 2021-04-24\n",
            "Data columns (total 4 columns):\n",
            " #   Column  Non-Null Count  Dtype  \n",
            "---  ------  --------------  -----  \n",
            " 0   A       6 non-null      float64\n",
            " 1   B       6 non-null      float64\n",
            " 2   C       6 non-null      float64\n",
            " 3   D       6 non-null      float64\n",
            "dtypes: float64(4)\n",
            "memory usage: 240.0+ bytes\n"
          ],
          "name": "stdout"
        }
      ]
    },
    {
      "cell_type": "code",
      "metadata": {
        "colab": {
          "base_uri": "https://localhost:8080/",
          "height": 297
        },
        "id": "okyVMMtyiaES",
        "outputId": "c46d20dd-3eaa-4920-e914-72c34aa7991e"
      },
      "source": [
        "# 숫자로 된 값의 정보\n",
        "df.describe()"
      ],
      "execution_count": null,
      "outputs": [
        {
          "output_type": "execute_result",
          "data": {
            "text/html": [
              "<div>\n",
              "<style scoped>\n",
              "    .dataframe tbody tr th:only-of-type {\n",
              "        vertical-align: middle;\n",
              "    }\n",
              "\n",
              "    .dataframe tbody tr th {\n",
              "        vertical-align: top;\n",
              "    }\n",
              "\n",
              "    .dataframe thead th {\n",
              "        text-align: right;\n",
              "    }\n",
              "</style>\n",
              "<table border=\"1\" class=\"dataframe\">\n",
              "  <thead>\n",
              "    <tr style=\"text-align: right;\">\n",
              "      <th></th>\n",
              "      <th>A</th>\n",
              "      <th>B</th>\n",
              "      <th>C</th>\n",
              "      <th>D</th>\n",
              "    </tr>\n",
              "  </thead>\n",
              "  <tbody>\n",
              "    <tr>\n",
              "      <th>count</th>\n",
              "      <td>6.000000</td>\n",
              "      <td>6.000000</td>\n",
              "      <td>6.000000</td>\n",
              "      <td>6.000000</td>\n",
              "    </tr>\n",
              "    <tr>\n",
              "      <th>mean</th>\n",
              "      <td>0.580178</td>\n",
              "      <td>0.518750</td>\n",
              "      <td>0.381745</td>\n",
              "      <td>0.650148</td>\n",
              "    </tr>\n",
              "    <tr>\n",
              "      <th>std</th>\n",
              "      <td>0.281706</td>\n",
              "      <td>0.316487</td>\n",
              "      <td>0.228791</td>\n",
              "      <td>0.202315</td>\n",
              "    </tr>\n",
              "    <tr>\n",
              "      <th>min</th>\n",
              "      <td>0.191519</td>\n",
              "      <td>0.013768</td>\n",
              "      <td>0.075381</td>\n",
              "      <td>0.368824</td>\n",
              "    </tr>\n",
              "    <tr>\n",
              "      <th>25%</th>\n",
              "      <td>0.399435</td>\n",
              "      <td>0.358293</td>\n",
              "      <td>0.296803</td>\n",
              "      <td>0.516045</td>\n",
              "    </tr>\n",
              "    <tr>\n",
              "      <th>50%</th>\n",
              "      <td>0.593273</td>\n",
              "      <td>0.618752</td>\n",
              "      <td>0.364034</td>\n",
              "      <td>0.673277</td>\n",
              "    </tr>\n",
              "    <tr>\n",
              "      <th>75%</th>\n",
              "      <td>0.755848</td>\n",
              "      <td>0.690054</td>\n",
              "      <td>0.420858</td>\n",
              "      <td>0.797744</td>\n",
              "    </tr>\n",
              "    <tr>\n",
              "      <th>max</th>\n",
              "      <td>0.958139</td>\n",
              "      <td>0.875933</td>\n",
              "      <td>0.772827</td>\n",
              "      <td>0.882641</td>\n",
              "    </tr>\n",
              "  </tbody>\n",
              "</table>\n",
              "</div>"
            ],
            "text/plain": [
              "              A         B         C         D\n",
              "count  6.000000  6.000000  6.000000  6.000000\n",
              "mean   0.580178  0.518750  0.381745  0.650148\n",
              "std    0.281706  0.316487  0.228791  0.202315\n",
              "min    0.191519  0.013768  0.075381  0.368824\n",
              "25%    0.399435  0.358293  0.296803  0.516045\n",
              "50%    0.593273  0.618752  0.364034  0.673277\n",
              "75%    0.755848  0.690054  0.420858  0.797744\n",
              "max    0.958139  0.875933  0.772827  0.882641"
            ]
          },
          "metadata": {
            "tags": []
          },
          "execution_count": 56
        }
      ]
    },
    {
      "cell_type": "code",
      "metadata": {
        "colab": {
          "base_uri": "https://localhost:8080/",
          "height": 286
        },
        "id": "lkcucYjvw5ua",
        "outputId": "ccf69b18-2f4a-4cb0-da23-3004b3940507"
      },
      "source": [
        "# plot\n",
        "df.plot()"
      ],
      "execution_count": null,
      "outputs": [
        {
          "output_type": "execute_result",
          "data": {
            "text/plain": [
              "<matplotlib.axes._subplots.AxesSubplot at 0x7fc0c9f8ded0>"
            ]
          },
          "metadata": {
            "tags": []
          },
          "execution_count": 57
        },
        {
          "output_type": "display_data",
          "data": {
            "image/png": "[encoded data removed]",
            "text/plain": [
              "<Figure size 432x288 with 1 Axes>"
            ]
          },
          "metadata": {
            "tags": [],
            "needs_background": "light"
          }
        }
      ]
    },
    {
      "cell_type": "code",
      "metadata": {
        "colab": {
          "base_uri": "https://localhost:8080/",
          "height": 235
        },
        "id": "vj2Lq8fDih9y",
        "outputId": "ec3fca2b-fea0-4424-882b-6fb2e64ef3ca"
      },
      "source": [
        "# index 초기화\n",
        "df2 = df.reset_index()\n",
        "df2"
      ],
      "execution_count": null,
      "outputs": [
        {
          "output_type": "execute_result",
          "data": {
            "text/html": [
              "<div>\n",
              "<style scoped>\n",
              "    .dataframe tbody tr th:only-of-type {\n",
              "        vertical-align: middle;\n",
              "    }\n",
              "\n",
              "    .dataframe tbody tr th {\n",
              "        vertical-align: top;\n",
              "    }\n",
              "\n",
              "    .dataframe thead th {\n",
              "        text-align: right;\n",
              "    }\n",
              "</style>\n",
              "<table border=\"1\" class=\"dataframe\">\n",
              "  <thead>\n",
              "    <tr style=\"text-align: right;\">\n",
              "      <th></th>\n",
              "      <th>index</th>\n",
              "      <th>A</th>\n",
              "      <th>B</th>\n",
              "      <th>C</th>\n",
              "      <th>D</th>\n",
              "    </tr>\n",
              "  </thead>\n",
              "  <tbody>\n",
              "    <tr>\n",
              "      <th>0</th>\n",
              "      <td>2021-04-19</td>\n",
              "      <td>0.191519</td>\n",
              "      <td>0.622109</td>\n",
              "      <td>0.437728</td>\n",
              "      <td>0.785359</td>\n",
              "    </tr>\n",
              "    <tr>\n",
              "      <th>1</th>\n",
              "      <td>2021-04-20</td>\n",
              "      <td>0.779976</td>\n",
              "      <td>0.272593</td>\n",
              "      <td>0.276464</td>\n",
              "      <td>0.801872</td>\n",
              "    </tr>\n",
              "    <tr>\n",
              "      <th>2</th>\n",
              "      <td>2021-04-21</td>\n",
              "      <td>0.958139</td>\n",
              "      <td>0.875933</td>\n",
              "      <td>0.357817</td>\n",
              "      <td>0.500995</td>\n",
              "    </tr>\n",
              "    <tr>\n",
              "      <th>3</th>\n",
              "      <td>2021-04-22</td>\n",
              "      <td>0.683463</td>\n",
              "      <td>0.712702</td>\n",
              "      <td>0.370251</td>\n",
              "      <td>0.561196</td>\n",
              "    </tr>\n",
              "    <tr>\n",
              "      <th>4</th>\n",
              "      <td>2021-04-23</td>\n",
              "      <td>0.503083</td>\n",
              "      <td>0.013768</td>\n",
              "      <td>0.772827</td>\n",
              "      <td>0.882641</td>\n",
              "    </tr>\n",
              "    <tr>\n",
              "      <th>5</th>\n",
              "      <td>2021-04-24</td>\n",
              "      <td>0.364886</td>\n",
              "      <td>0.615396</td>\n",
              "      <td>0.075381</td>\n",
              "      <td>0.368824</td>\n",
              "    </tr>\n",
              "  </tbody>\n",
              "</table>\n",
              "</div>"
            ],
            "text/plain": [
              "        index         A         B         C         D\n",
              "0  2021-04-19  0.191519  0.622109  0.437728  0.785359\n",
              "1  2021-04-20  0.779976  0.272593  0.276464  0.801872\n",
              "2  2021-04-21  0.958139  0.875933  0.357817  0.500995\n",
              "3  2021-04-22  0.683463  0.712702  0.370251  0.561196\n",
              "4  2021-04-23  0.503083  0.013768  0.772827  0.882641\n",
              "5  2021-04-24  0.364886  0.615396  0.075381  0.368824"
            ]
          },
          "metadata": {
            "tags": []
          },
          "execution_count": 58
        }
      ]
    },
    {
      "cell_type": "code",
      "metadata": {
        "colab": {
          "base_uri": "https://localhost:8080/",
          "height": 266
        },
        "id": "PjgUyk_Gip3t",
        "outputId": "c5cf5884-ffd8-464c-b6f0-b86c4ad20ae9"
      },
      "source": [
        "# index 변경\n",
        "df2.set_index(\"A\")"
      ],
      "execution_count": null,
      "outputs": [
        {
          "output_type": "execute_result",
          "data": {
            "text/html": [
              "<div>\n",
              "<style scoped>\n",
              "    .dataframe tbody tr th:only-of-type {\n",
              "        vertical-align: middle;\n",
              "    }\n",
              "\n",
              "    .dataframe tbody tr th {\n",
              "        vertical-align: top;\n",
              "    }\n",
              "\n",
              "    .dataframe thead th {\n",
              "        text-align: right;\n",
              "    }\n",
              "</style>\n",
              "<table border=\"1\" class=\"dataframe\">\n",
              "  <thead>\n",
              "    <tr style=\"text-align: right;\">\n",
              "      <th></th>\n",
              "      <th>index</th>\n",
              "      <th>B</th>\n",
              "      <th>C</th>\n",
              "      <th>D</th>\n",
              "    </tr>\n",
              "    <tr>\n",
              "      <th>A</th>\n",
              "      <th></th>\n",
              "      <th></th>\n",
              "      <th></th>\n",
              "      <th></th>\n",
              "    </tr>\n",
              "  </thead>\n",
              "  <tbody>\n",
              "    <tr>\n",
              "      <th>0.191519</th>\n",
              "      <td>2021-04-19</td>\n",
              "      <td>0.622109</td>\n",
              "      <td>0.437728</td>\n",
              "      <td>0.785359</td>\n",
              "    </tr>\n",
              "    <tr>\n",
              "      <th>0.779976</th>\n",
              "      <td>2021-04-20</td>\n",
              "      <td>0.272593</td>\n",
              "      <td>0.276464</td>\n",
              "      <td>0.801872</td>\n",
              "    </tr>\n",
              "    <tr>\n",
              "      <th>0.958139</th>\n",
              "      <td>2021-04-21</td>\n",
              "      <td>0.875933</td>\n",
              "      <td>0.357817</td>\n",
              "      <td>0.500995</td>\n",
              "    </tr>\n",
              "    <tr>\n",
              "      <th>0.683463</th>\n",
              "      <td>2021-04-22</td>\n",
              "      <td>0.712702</td>\n",
              "      <td>0.370251</td>\n",
              "      <td>0.561196</td>\n",
              "    </tr>\n",
              "    <tr>\n",
              "      <th>0.503083</th>\n",
              "      <td>2021-04-23</td>\n",
              "      <td>0.013768</td>\n",
              "      <td>0.772827</td>\n",
              "      <td>0.882641</td>\n",
              "    </tr>\n",
              "    <tr>\n",
              "      <th>0.364886</th>\n",
              "      <td>2021-04-24</td>\n",
              "      <td>0.615396</td>\n",
              "      <td>0.075381</td>\n",
              "      <td>0.368824</td>\n",
              "    </tr>\n",
              "  </tbody>\n",
              "</table>\n",
              "</div>"
            ],
            "text/plain": [
              "               index         B         C         D\n",
              "A                                                 \n",
              "0.191519  2021-04-19  0.622109  0.437728  0.785359\n",
              "0.779976  2021-04-20  0.272593  0.276464  0.801872\n",
              "0.958139  2021-04-21  0.875933  0.357817  0.500995\n",
              "0.683463  2021-04-22  0.712702  0.370251  0.561196\n",
              "0.503083  2021-04-23  0.013768  0.772827  0.882641\n",
              "0.364886  2021-04-24  0.615396  0.075381  0.368824"
            ]
          },
          "metadata": {
            "tags": []
          },
          "execution_count": 59
        }
      ]
    },
    {
      "cell_type": "code",
      "metadata": {
        "colab": {
          "base_uri": "https://localhost:8080/",
          "height": 235
        },
        "id": "KsX7NPJNjshU",
        "outputId": "c2d6e285-675a-4aaa-c3f3-5da55ab3b9fc"
      },
      "source": [
        "# index 초기화\n",
        "df2 = df.reset_index()\n",
        "df2"
      ],
      "execution_count": null,
      "outputs": [
        {
          "output_type": "execute_result",
          "data": {
            "text/html": [
              "<div>\n",
              "<style scoped>\n",
              "    .dataframe tbody tr th:only-of-type {\n",
              "        vertical-align: middle;\n",
              "    }\n",
              "\n",
              "    .dataframe tbody tr th {\n",
              "        vertical-align: top;\n",
              "    }\n",
              "\n",
              "    .dataframe thead th {\n",
              "        text-align: right;\n",
              "    }\n",
              "</style>\n",
              "<table border=\"1\" class=\"dataframe\">\n",
              "  <thead>\n",
              "    <tr style=\"text-align: right;\">\n",
              "      <th></th>\n",
              "      <th>index</th>\n",
              "      <th>A</th>\n",
              "      <th>B</th>\n",
              "      <th>C</th>\n",
              "      <th>D</th>\n",
              "    </tr>\n",
              "  </thead>\n",
              "  <tbody>\n",
              "    <tr>\n",
              "      <th>0</th>\n",
              "      <td>2021-04-19</td>\n",
              "      <td>0.191519</td>\n",
              "      <td>0.622109</td>\n",
              "      <td>0.437728</td>\n",
              "      <td>0.785359</td>\n",
              "    </tr>\n",
              "    <tr>\n",
              "      <th>1</th>\n",
              "      <td>2021-04-20</td>\n",
              "      <td>0.779976</td>\n",
              "      <td>0.272593</td>\n",
              "      <td>0.276464</td>\n",
              "      <td>0.801872</td>\n",
              "    </tr>\n",
              "    <tr>\n",
              "      <th>2</th>\n",
              "      <td>2021-04-21</td>\n",
              "      <td>0.958139</td>\n",
              "      <td>0.875933</td>\n",
              "      <td>0.357817</td>\n",
              "      <td>0.500995</td>\n",
              "    </tr>\n",
              "    <tr>\n",
              "      <th>3</th>\n",
              "      <td>2021-04-22</td>\n",
              "      <td>0.683463</td>\n",
              "      <td>0.712702</td>\n",
              "      <td>0.370251</td>\n",
              "      <td>0.561196</td>\n",
              "    </tr>\n",
              "    <tr>\n",
              "      <th>4</th>\n",
              "      <td>2021-04-23</td>\n",
              "      <td>0.503083</td>\n",
              "      <td>0.013768</td>\n",
              "      <td>0.772827</td>\n",
              "      <td>0.882641</td>\n",
              "    </tr>\n",
              "    <tr>\n",
              "      <th>5</th>\n",
              "      <td>2021-04-24</td>\n",
              "      <td>0.364886</td>\n",
              "      <td>0.615396</td>\n",
              "      <td>0.075381</td>\n",
              "      <td>0.368824</td>\n",
              "    </tr>\n",
              "  </tbody>\n",
              "</table>\n",
              "</div>"
            ],
            "text/plain": [
              "        index         A         B         C         D\n",
              "0  2021-04-19  0.191519  0.622109  0.437728  0.785359\n",
              "1  2021-04-20  0.779976  0.272593  0.276464  0.801872\n",
              "2  2021-04-21  0.958139  0.875933  0.357817  0.500995\n",
              "3  2021-04-22  0.683463  0.712702  0.370251  0.561196\n",
              "4  2021-04-23  0.503083  0.013768  0.772827  0.882641\n",
              "5  2021-04-24  0.364886  0.615396  0.075381  0.368824"
            ]
          },
          "metadata": {
            "tags": []
          },
          "execution_count": 60
        }
      ]
    },
    {
      "cell_type": "code",
      "metadata": {
        "id": "fMZwbtvHizAt"
      },
      "source": [
        "# csv 파일로 저장\n",
        "df2.to_csv(os.path.join(\"aaa.csv\"), index=False)"
      ],
      "execution_count": null,
      "outputs": []
    },
    {
      "cell_type": "code",
      "metadata": {
        "colab": {
          "base_uri": "https://localhost:8080/",
          "height": 235
        },
        "id": "OW8qcsLijNXp",
        "outputId": "d360fa48-e2ae-463f-a8fb-16839f33d07f"
      },
      "source": [
        "# csv 파일 읽어오기\n",
        "df3 = pd.read_csv(os.path.join(\"aaa.csv\"))\n",
        "df3"
      ],
      "execution_count": null,
      "outputs": [
        {
          "output_type": "execute_result",
          "data": {
            "text/html": [
              "<div>\n",
              "<style scoped>\n",
              "    .dataframe tbody tr th:only-of-type {\n",
              "        vertical-align: middle;\n",
              "    }\n",
              "\n",
              "    .dataframe tbody tr th {\n",
              "        vertical-align: top;\n",
              "    }\n",
              "\n",
              "    .dataframe thead th {\n",
              "        text-align: right;\n",
              "    }\n",
              "</style>\n",
              "<table border=\"1\" class=\"dataframe\">\n",
              "  <thead>\n",
              "    <tr style=\"text-align: right;\">\n",
              "      <th></th>\n",
              "      <th>index</th>\n",
              "      <th>A</th>\n",
              "      <th>B</th>\n",
              "      <th>C</th>\n",
              "      <th>D</th>\n",
              "    </tr>\n",
              "  </thead>\n",
              "  <tbody>\n",
              "    <tr>\n",
              "      <th>0</th>\n",
              "      <td>2021-04-19</td>\n",
              "      <td>0.191519</td>\n",
              "      <td>0.622109</td>\n",
              "      <td>0.437728</td>\n",
              "      <td>0.785359</td>\n",
              "    </tr>\n",
              "    <tr>\n",
              "      <th>1</th>\n",
              "      <td>2021-04-20</td>\n",
              "      <td>0.779976</td>\n",
              "      <td>0.272593</td>\n",
              "      <td>0.276464</td>\n",
              "      <td>0.801872</td>\n",
              "    </tr>\n",
              "    <tr>\n",
              "      <th>2</th>\n",
              "      <td>2021-04-21</td>\n",
              "      <td>0.958139</td>\n",
              "      <td>0.875933</td>\n",
              "      <td>0.357817</td>\n",
              "      <td>0.500995</td>\n",
              "    </tr>\n",
              "    <tr>\n",
              "      <th>3</th>\n",
              "      <td>2021-04-22</td>\n",
              "      <td>0.683463</td>\n",
              "      <td>0.712702</td>\n",
              "      <td>0.370251</td>\n",
              "      <td>0.561196</td>\n",
              "    </tr>\n",
              "    <tr>\n",
              "      <th>4</th>\n",
              "      <td>2021-04-23</td>\n",
              "      <td>0.503083</td>\n",
              "      <td>0.013768</td>\n",
              "      <td>0.772827</td>\n",
              "      <td>0.882641</td>\n",
              "    </tr>\n",
              "    <tr>\n",
              "      <th>5</th>\n",
              "      <td>2021-04-24</td>\n",
              "      <td>0.364886</td>\n",
              "      <td>0.615396</td>\n",
              "      <td>0.075381</td>\n",
              "      <td>0.368824</td>\n",
              "    </tr>\n",
              "  </tbody>\n",
              "</table>\n",
              "</div>"
            ],
            "text/plain": [
              "        index         A         B         C         D\n",
              "0  2021-04-19  0.191519  0.622109  0.437728  0.785359\n",
              "1  2021-04-20  0.779976  0.272593  0.276464  0.801872\n",
              "2  2021-04-21  0.958139  0.875933  0.357817  0.500995\n",
              "3  2021-04-22  0.683463  0.712702  0.370251  0.561196\n",
              "4  2021-04-23  0.503083  0.013768  0.772827  0.882641\n",
              "5  2021-04-24  0.364886  0.615396  0.075381  0.368824"
            ]
          },
          "metadata": {
            "tags": []
          },
          "execution_count": 62
        }
      ]
    },
    {
      "cell_type": "code",
      "metadata": {
        "id": "GGU7BgLC0PTT"
      },
      "source": [
        "# 파일삭제\n",
        "os.remove(os.path.join(data_dir, \"aaa.csv\"))"
      ],
      "execution_count": null,
      "outputs": []
    },
    {
      "cell_type": "markdown",
      "metadata": {
        "id": "YW_IIahqkFyN"
      },
      "source": [
        "# numpy"
      ]
    },
    {
      "cell_type": "code",
      "metadata": {
        "colab": {
          "base_uri": "https://localhost:8080/"
        },
        "id": "eNxtxWyZkQYX",
        "outputId": "27742727-988e-43aa-ea7b-5027aeb97012"
      },
      "source": [
        "# 배열\n",
        "a = [1, 2, 3, 4, 5]\n",
        "a"
      ],
      "execution_count": null,
      "outputs": [
        {
          "output_type": "execute_result",
          "data": {
            "text/plain": [
              "[1, 2, 3, 4, 5]"
            ]
          },
          "metadata": {
            "tags": []
          },
          "execution_count": 63
        }
      ]
    },
    {
      "cell_type": "code",
      "metadata": {
        "colab": {
          "base_uri": "https://localhost:8080/"
        },
        "id": "DyohUDO9kI0d",
        "outputId": "1088ca8e-6c0c-45a1-cd05-b2aaa32606f9"
      },
      "source": [
        "# numpy 배열\n",
        "np.array(a)"
      ],
      "execution_count": null,
      "outputs": [
        {
          "output_type": "execute_result",
          "data": {
            "text/plain": [
              "array([1, 2, 3, 4, 5])"
            ]
          },
          "metadata": {
            "tags": []
          },
          "execution_count": 64
        }
      ]
    },
    {
      "cell_type": "code",
      "metadata": {
        "colab": {
          "base_uri": "https://localhost:8080/"
        },
        "id": "J-TpfJm8kPyl",
        "outputId": "c45fbce7-a470-4d0a-f208-de4af255f343"
      },
      "source": [
        "# random int 배열\n",
        "A = np.random.randint(0, 10, (5, 4))\n",
        "A"
      ],
      "execution_count": null,
      "outputs": [
        {
          "output_type": "execute_result",
          "data": {
            "text/plain": [
              "array([[3, 1, 3, 1],\n",
              "       [3, 7, 1, 7],\n",
              "       [4, 0, 5, 1],\n",
              "       [5, 9, 9, 4],\n",
              "       [0, 9, 8, 8]])"
            ]
          },
          "metadata": {
            "tags": []
          },
          "execution_count": 65
        }
      ]
    },
    {
      "cell_type": "code",
      "metadata": {
        "colab": {
          "base_uri": "https://localhost:8080/"
        },
        "id": "O0H6i-ygxqjS",
        "outputId": "3e9a80e1-9584-4e3b-9536-6962d83a6498"
      },
      "source": [
        "# random 배열 (0, 1)\n",
        "B = np.random.rand(5, 4)\n",
        "B"
      ],
      "execution_count": null,
      "outputs": [
        {
          "output_type": "execute_result",
          "data": {
            "text/plain": [
              "array([[0.92954594, 0.91811655, 0.97530172, 0.39700197],\n",
              "       [0.26262609, 0.43015136, 0.76453077, 0.59973081],\n",
              "       [0.08094696, 0.70454447, 0.16401332, 0.03234935],\n",
              "       [0.32815036, 0.47386   , 0.06808472, 0.3827107 ],\n",
              "       [0.11855414, 0.89632852, 0.76430853, 0.37540494]])"
            ]
          },
          "metadata": {
            "tags": []
          },
          "execution_count": 66
        }
      ]
    },
    {
      "cell_type": "code",
      "metadata": {
        "colab": {
          "base_uri": "https://localhost:8080/"
        },
        "id": "N7Gil_7rxzR5",
        "outputId": "c706459c-0629-4f99-b333-49826999272e"
      },
      "source": [
        "# random 배열 (평균 0, 표준편차 1의 정규분포에서 셈플링)\n",
        "C = np.random.randn(5, 4)\n",
        "C"
      ],
      "execution_count": null,
      "outputs": [
        {
          "output_type": "execute_result",
          "data": {
            "text/plain": [
              "array([[ 0.5312549 ,  1.27528435, -0.68282564, -0.94818614],\n",
              "       [ 0.7773618 ,  0.3251135 , -1.20348608,  1.20954346],\n",
              "       [ 0.15762162, -0.29355482,  0.11155997,  0.59767854],\n",
              "       [-1.270093  ,  0.12094906, -0.19389815,  1.8041719 ],\n",
              "       [-0.23469376,  0.9399084 , -0.17152003, -0.15305462]])"
            ]
          },
          "metadata": {
            "tags": []
          },
          "execution_count": 67
        }
      ]
    },
    {
      "cell_type": "code",
      "metadata": {
        "colab": {
          "base_uri": "https://localhost:8080/"
        },
        "id": "WLfHc-v2yTpp",
        "outputId": "014c5205-004a-4e45-97e0-b9d61cb68983"
      },
      "source": [
        "# row index of array\n",
        "A[1]"
      ],
      "execution_count": null,
      "outputs": [
        {
          "output_type": "execute_result",
          "data": {
            "text/plain": [
              "array([3, 7, 1, 7])"
            ]
          },
          "metadata": {
            "tags": []
          },
          "execution_count": 68
        }
      ]
    },
    {
      "cell_type": "code",
      "metadata": {
        "colab": {
          "base_uri": "https://localhost:8080/"
        },
        "id": "m8_utnQ9yV7A",
        "outputId": "cd00883c-3c90-4fde-9f0f-b50666db0ca5"
      },
      "source": [
        "# row, col index of array\n",
        "A[1, 1]"
      ],
      "execution_count": null,
      "outputs": [
        {
          "output_type": "execute_result",
          "data": {
            "text/plain": [
              "7"
            ]
          },
          "metadata": {
            "tags": []
          },
          "execution_count": 69
        }
      ]
    },
    {
      "cell_type": "code",
      "metadata": {
        "colab": {
          "base_uri": "https://localhost:8080/"
        },
        "id": "LHECdpmNyYgx",
        "outputId": "fde8de56-d0f3-41c3-ec82-32007aed7f5e"
      },
      "source": [
        "# col index of array\n",
        "A[:, 1]"
      ],
      "execution_count": null,
      "outputs": [
        {
          "output_type": "execute_result",
          "data": {
            "text/plain": [
              "array([1, 7, 0, 9, 9])"
            ]
          },
          "metadata": {
            "tags": []
          },
          "execution_count": 70
        }
      ]
    },
    {
      "cell_type": "code",
      "metadata": {
        "colab": {
          "base_uri": "https://localhost:8080/"
        },
        "id": "Pu9KwlgRyoxO",
        "outputId": "8fa5219b-63c1-4b44-e2fe-c945e765390b"
      },
      "source": [
        "# row sub array\n",
        "A[:2]"
      ],
      "execution_count": null,
      "outputs": [
        {
          "output_type": "execute_result",
          "data": {
            "text/plain": [
              "array([[3, 1, 3, 1],\n",
              "       [3, 7, 1, 7]])"
            ]
          },
          "metadata": {
            "tags": []
          },
          "execution_count": 71
        }
      ]
    },
    {
      "cell_type": "code",
      "metadata": {
        "colab": {
          "base_uri": "https://localhost:8080/"
        },
        "id": "gMw1r6AmysbK",
        "outputId": "c6fb1bd0-f5f2-4bc2-be5b-e2945bf19ae2"
      },
      "source": [
        "# col sub array\n",
        "A[:, :2]"
      ],
      "execution_count": null,
      "outputs": [
        {
          "output_type": "execute_result",
          "data": {
            "text/plain": [
              "array([[3, 1],\n",
              "       [3, 7],\n",
              "       [4, 0],\n",
              "       [5, 9],\n",
              "       [0, 9]])"
            ]
          },
          "metadata": {
            "tags": []
          },
          "execution_count": 72
        }
      ]
    },
    {
      "cell_type": "markdown",
      "metadata": {
        "id": "zyOuNeuij9Az"
      },
      "source": [
        "# tqdm, trange"
      ]
    },
    {
      "cell_type": "code",
      "metadata": {
        "id": "AvTcYzkozZA0"
      },
      "source": [
        "# 테스트용\n",
        "import time"
      ],
      "execution_count": null,
      "outputs": []
    },
    {
      "cell_type": "code",
      "metadata": {
        "colab": {
          "base_uri": "https://localhost:8080/",
          "height": 67,
          "referenced_widgets": [
            "19cc80cfa0104bf6a120717b19558a28",
            "9f3613a0d71241bc932f1d067b7ee1e8",
            "1f37c5608e6e490298a705e55336c30b",
            "aabcc099a3fa4c6c9109e607e40ccc11",
            "bca3bd4bc1d4481d98f1caf5a8c37772",
            "c5be5656ae0d4eb4a402b7bcca01680f",
            "91a97e68930a4117a7fff932821ee3f6",
            "d492d674f2e0457397ac6a637603905b"
          ]
        },
        "id": "uRL9LcK1j8s9",
        "outputId": "62eed383-7c82-4b39-ccb3-387e001d02aa"
      },
      "source": [
        "# array progress\n",
        "a = np.arange(0, 200)\n",
        "p_bar = tqdm(a)\n",
        "for v in p_bar:\n",
        "    p_bar.set_description(f\"value={v}\")\n",
        "    time.sleep(0.1)"
      ],
      "execution_count": null,
      "outputs": [
        {
          "output_type": "display_data",
          "data": {
            "application/vnd.jupyter.widget-view+json": {
              "model_id": "19cc80cfa0104bf6a120717b19558a28",
              "version_minor": 0,
              "version_major": 2
            },
            "text/plain": [
              "HBox(children=(FloatProgress(value=0.0, max=200.0), HTML(value='')))"
            ]
          },
          "metadata": {
            "tags": []
          }
        },
        {
          "output_type": "stream",
          "text": [
            "\n"
          ],
          "name": "stdout"
        }
      ]
    },
    {
      "cell_type": "code",
      "metadata": {
        "colab": {
          "base_uri": "https://localhost:8080/",
          "height": 67,
          "referenced_widgets": [
            "1053b23356bd4762b8af57be89b2e19e",
            "370b35c717b24d83b55edf68380cd25a",
            "9db0e1e3c9b446c3b82da3207421f334",
            "3b3392b2ee8b48b895057e464c9c5234",
            "5935d21fdd5b4bf0ab7f7ef2e504fc24",
            "428e76a68ceb48c588ba800fe755490d",
            "222f16aa6f69498bab16274a7aa56d5c",
            "7f9a62a068494fc1888349d436642e81"
          ]
        },
        "id": "33N2J3Zszs7O",
        "outputId": "a2f08de6-20fe-4a63-97a5-25ba82084ed6"
      },
      "source": [
        "# array progress\n",
        "a = np.arange(0, 20)\n",
        "p_bar = tqdm(a, total=10)\n",
        "for v in p_bar:\n",
        "    p_bar.set_description(f\"value={v}\")\n",
        "    time.sleep(1)"
      ],
      "execution_count": null,
      "outputs": [
        {
          "output_type": "display_data",
          "data": {
            "application/vnd.jupyter.widget-view+json": {
              "model_id": "1053b23356bd4762b8af57be89b2e19e",
              "version_minor": 0,
              "version_major": 2
            },
            "text/plain": [
              "HBox(children=(FloatProgress(value=0.0, max=10.0), HTML(value='')))"
            ]
          },
          "metadata": {
            "tags": []
          }
        },
        {
          "output_type": "stream",
          "text": [
            "\n"
          ],
          "name": "stdout"
        }
      ]
    },
    {
      "cell_type": "code",
      "metadata": {
        "colab": {
          "base_uri": "https://localhost:8080/",
          "height": 67,
          "referenced_widgets": [
            "77a6129619e74daa8e36dd1538ec3776",
            "4fcf5489e61b412f8dbbc107bb8dac9f",
            "9e78213aeb8345fdbc0b283399e54893",
            "e1494549738248a6b1a61b95fcb0c5e2",
            "5dca008385cf47c2be525fcd8a5d7800",
            "a2a7a3b347034fa1845136d43091bd81",
            "07154b5b1a9f46889b12e2c489f13fb4",
            "1b139227f37b434cb84a8e3fb5442602"
          ]
        },
        "id": "hKqRxUN8zwFj",
        "outputId": "74eda2f5-8045-4cdc-e0de-f1b78f523dcd"
      },
      "source": [
        "# array progress\n",
        "a = np.arange(0, 20)\n",
        "p_bar = tqdm(a, total=100)\n",
        "for v in p_bar:\n",
        "    p_bar.set_description(f\"value={v}\")\n",
        "    time.sleep(1)"
      ],
      "execution_count": null,
      "outputs": [
        {
          "output_type": "display_data",
          "data": {
            "application/vnd.jupyter.widget-view+json": {
              "model_id": "77a6129619e74daa8e36dd1538ec3776",
              "version_minor": 0,
              "version_major": 2
            },
            "text/plain": [
              "HBox(children=(FloatProgress(value=0.0), HTML(value='')))"
            ]
          },
          "metadata": {
            "tags": []
          }
        },
        {
          "output_type": "stream",
          "text": [
            "\n"
          ],
          "name": "stdout"
        }
      ]
    },
    {
      "cell_type": "code",
      "metadata": {
        "colab": {
          "base_uri": "https://localhost:8080/",
          "height": 67,
          "referenced_widgets": [
            "39d6c63ac2974c42ad3ae439683122a5",
            "2fa50f6c829a42338b5a7e97ac6a8eab",
            "b06fa17c02fc4c218b30f3eb6ec694a1",
            "9d9949d8acac47b18d86da0dd648ca39",
            "19fef8de8b774f4b950516e33ddc822a",
            "8caa2223697b44879a9e345bfd62b62e",
            "0a97d8d2334044979c6a9d123972e64e",
            "419e209f41d34ce58a601837ff9249e5"
          ]
        },
        "id": "79quNpqVz2ah",
        "outputId": "4f3eb457-c366-4fb2-b3df-981b8dddfbfe"
      },
      "source": [
        "# trange progress\n",
        "p_bar = trange(1, 30)\n",
        "for v in p_bar:\n",
        "    p_bar.set_description(f\"value={v}\")\n",
        "    time.sleep(1)"
      ],
      "execution_count": null,
      "outputs": [
        {
          "output_type": "display_data",
          "data": {
            "application/vnd.jupyter.widget-view+json": {
              "model_id": "39d6c63ac2974c42ad3ae439683122a5",
              "version_minor": 0,
              "version_major": 2
            },
            "text/plain": [
              "HBox(children=(FloatProgress(value=0.0, max=29.0), HTML(value='')))"
            ]
          },
          "metadata": {
            "tags": []
          }
        },
        {
          "output_type": "stream",
          "text": [
            "\n"
          ],
          "name": "stdout"
        }
      ]
    },
    {
      "cell_type": "code",
      "metadata": {
        "id": "_5gS7CT-7kZF"
      },
      "source": [
        ""
      ],
      "execution_count": null,
      "outputs": []
    }
  ]
}