{
  "nbformat": 4,
  "nbformat_minor": 0,
  "metadata": {
    "colab": {
      "name": "17-01-songys-chat-attention.ipynb의 사본",
      "provenance": [],
      "collapsed_sections": [
        "1toqkZBj4iqG",
        "0TyJlt-k7yzW",
        "097BJVHG_QfR",
        "WB0cfrHoGOKX",
        "Xv8wb2wgEC05",
        "x83Kl8yPEC1B"
      ]
    },
    "kernelspec": {
      "name": "python3",
      "display_name": "Python 3"
    },
    "language_info": {
      "name": "python"
    },
    "widgets": {
      "application/vnd.jupyter.widget-state+json": {
        "6fd806b7cecf4444b5004bdba8013c66": {
          "model_module": "@jupyter-widgets/controls",
          "model_name": "HBoxModel",
          "state": {
            "_view_name": "HBoxView",
            "_dom_classes": [],
            "_model_name": "HBoxModel",
            "_view_module": "@jupyter-widgets/controls",
            "_model_module_version": "1.5.0",
            "_view_count": null,
            "_view_module_version": "1.5.0",
            "box_style": "",
            "layout": "IPY_MODEL_7db537a03cb14f47a5bc9bbb6b4ee277",
            "_model_module": "@jupyter-widgets/controls",
            "children": [
              "IPY_MODEL_bb6e5a4a40ea4d5a83446c3157b8b0d6",
              "IPY_MODEL_696b6bf335c348518b5003edf764ded8"
            ]
          }
        },
        "7db537a03cb14f47a5bc9bbb6b4ee277": {
          "model_module": "@jupyter-widgets/base",
          "model_name": "LayoutModel",
          "state": {
            "_view_name": "LayoutView",
            "grid_template_rows": null,
            "right": null,
            "justify_content": null,
            "_view_module": "@jupyter-widgets/base",
            "overflow": null,
            "_model_module_version": "1.2.0",
            "_view_count": null,
            "flex_flow": null,
            "width": null,
            "min_width": null,
            "border": null,
            "align_items": null,
            "bottom": null,
            "_model_module": "@jupyter-widgets/base",
            "top": null,
            "grid_column": null,
            "overflow_y": null,
            "overflow_x": null,
            "grid_auto_flow": null,
            "grid_area": null,
            "grid_template_columns": null,
            "flex": null,
            "_model_name": "LayoutModel",
            "justify_items": null,
            "grid_row": null,
            "max_height": null,
            "align_content": null,
            "visibility": null,
            "align_self": null,
            "height": null,
            "min_height": null,
            "padding": null,
            "grid_auto_rows": null,
            "grid_gap": null,
            "max_width": null,
            "order": null,
            "_view_module_version": "1.2.0",
            "grid_template_areas": null,
            "object_position": null,
            "object_fit": null,
            "grid_auto_columns": null,
            "margin": null,
            "display": null,
            "left": null
          }
        },
        "bb6e5a4a40ea4d5a83446c3157b8b0d6": {
          "model_module": "@jupyter-widgets/controls",
          "model_name": "FloatProgressModel",
          "state": {
            "_view_name": "ProgressView",
            "style": "IPY_MODEL_1539592ceed54142814cc018ca969ca4",
            "_dom_classes": [],
            "description": "100%",
            "_model_name": "FloatProgressModel",
            "bar_style": "success",
            "max": 11823,
            "_view_module": "@jupyter-widgets/controls",
            "_model_module_version": "1.5.0",
            "value": 11823,
            "_view_count": null,
            "_view_module_version": "1.5.0",
            "orientation": "horizontal",
            "min": 0,
            "description_tooltip": null,
            "_model_module": "@jupyter-widgets/controls",
            "layout": "IPY_MODEL_0fe0030d5390405e8f5dfab7afb40267"
          }
        },
        "696b6bf335c348518b5003edf764ded8": {
          "model_module": "@jupyter-widgets/controls",
          "model_name": "HTMLModel",
          "state": {
            "_view_name": "HTMLView",
            "style": "IPY_MODEL_63bffceed61a4f90882157c933c4f19c",
            "_dom_classes": [],
            "description": "",
            "_model_name": "HTMLModel",
            "placeholder": "​",
            "_view_module": "@jupyter-widgets/controls",
            "_model_module_version": "1.5.0",
            "value": " 11823/11823 [00:02&lt;00:00, 4403.35it/s]",
            "_view_count": null,
            "_view_module_version": "1.5.0",
            "description_tooltip": null,
            "_model_module": "@jupyter-widgets/controls",
            "layout": "IPY_MODEL_a900015b7c0f428c8df89bda776837df"
          }
        },
        "1539592ceed54142814cc018ca969ca4": {
          "model_module": "@jupyter-widgets/controls",
          "model_name": "ProgressStyleModel",
          "state": {
            "_view_name": "StyleView",
            "_model_name": "ProgressStyleModel",
            "description_width": "initial",
            "_view_module": "@jupyter-widgets/base",
            "_model_module_version": "1.5.0",
            "_view_count": null,
            "_view_module_version": "1.2.0",
            "bar_color": null,
            "_model_module": "@jupyter-widgets/controls"
          }
        },
        "0fe0030d5390405e8f5dfab7afb40267": {
          "model_module": "@jupyter-widgets/base",
          "model_name": "LayoutModel",
          "state": {
            "_view_name": "LayoutView",
            "grid_template_rows": null,
            "right": null,
            "justify_content": null,
            "_view_module": "@jupyter-widgets/base",
            "overflow": null,
            "_model_module_version": "1.2.0",
            "_view_count": null,
            "flex_flow": null,
            "width": null,
            "min_width": null,
            "border": null,
            "align_items": null,
            "bottom": null,
            "_model_module": "@jupyter-widgets/base",
            "top": null,
            "grid_column": null,
            "overflow_y": null,
            "overflow_x": null,
            "grid_auto_flow": null,
            "grid_area": null,
            "grid_template_columns": null,
            "flex": null,
            "_model_name": "LayoutModel",
            "justify_items": null,
            "grid_row": null,
            "max_height": null,
            "align_content": null,
            "visibility": null,
            "align_self": null,
            "height": null,
            "min_height": null,
            "padding": null,
            "grid_auto_rows": null,
            "grid_gap": null,
            "max_width": null,
            "order": null,
            "_view_module_version": "1.2.0",
            "grid_template_areas": null,
            "object_position": null,
            "object_fit": null,
            "grid_auto_columns": null,
            "margin": null,
            "display": null,
            "left": null
          }
        },
        "63bffceed61a4f90882157c933c4f19c": {
          "model_module": "@jupyter-widgets/controls",
          "model_name": "DescriptionStyleModel",
          "state": {
            "_view_name": "StyleView",
            "_model_name": "DescriptionStyleModel",
            "description_width": "",
            "_view_module": "@jupyter-widgets/base",
            "_model_module_version": "1.5.0",
            "_view_count": null,
            "_view_module_version": "1.2.0",
            "_model_module": "@jupyter-widgets/controls"
          }
        },
        "a900015b7c0f428c8df89bda776837df": {
          "model_module": "@jupyter-widgets/base",
          "model_name": "LayoutModel",
          "state": {
            "_view_name": "LayoutView",
            "grid_template_rows": null,
            "right": null,
            "justify_content": null,
            "_view_module": "@jupyter-widgets/base",
            "overflow": null,
            "_model_module_version": "1.2.0",
            "_view_count": null,
            "flex_flow": null,
            "width": null,
            "min_width": null,
            "border": null,
            "align_items": null,
            "bottom": null,
            "_model_module": "@jupyter-widgets/base",
            "top": null,
            "grid_column": null,
            "overflow_y": null,
            "overflow_x": null,
            "grid_auto_flow": null,
            "grid_area": null,
            "grid_template_columns": null,
            "flex": null,
            "_model_name": "LayoutModel",
            "justify_items": null,
            "grid_row": null,
            "max_height": null,
            "align_content": null,
            "visibility": null,
            "align_self": null,
            "height": null,
            "min_height": null,
            "padding": null,
            "grid_auto_rows": null,
            "grid_gap": null,
            "max_width": null,
            "order": null,
            "_view_module_version": "1.2.0",
            "grid_template_areas": null,
            "object_position": null,
            "object_fit": null,
            "grid_auto_columns": null,
            "margin": null,
            "display": null,
            "left": null
          }
        }
      }
    },
    "accelerator": "GPU"
  },
  "cells": [
    {
      "cell_type": "markdown",
      "metadata": {
        "id": "6dfJPT-2XMTB"
      },
      "source": [
        "# Install*"
      ]
    },
    {
      "cell_type": "code",
      "metadata": {
        "id": "a193aGJWVaqb",
        "colab": {
          "base_uri": "https://localhost:8080/"
        },
        "outputId": "8cb2fbf6-6507-4bd1-f746-6668894335a8"
      },
      "source": [
        "# Tokenizer library 설치\n",
        "!pip install sentencepiece"
      ],
      "execution_count": null,
      "outputs": [
        {
          "output_type": "stream",
          "text": [
            "Collecting sentencepiece\n",
            "\u001b[?25l  Downloading https://files.pythonhosted.org/packages/f5/99/e0808cb947ba10f575839c43e8fafc9cc44e4a7a2c8f79c60db48220a577/sentencepiece-0.1.95-cp37-cp37m-manylinux2014_x86_64.whl (1.2MB)\n",
            "\u001b[K     |████████████████████████████████| 1.2MB 2.9MB/s \n",
            "\u001b[?25hInstalling collected packages: sentencepiece\n",
            "Successfully installed sentencepiece-0.1.95\n"
          ],
          "name": "stdout"
        }
      ]
    },
    {
      "cell_type": "markdown",
      "metadata": {
        "id": "JHkHg6XAXoyK"
      },
      "source": [
        "# Evn*"
      ]
    },
    {
      "cell_type": "code",
      "metadata": {
        "id": "WkYXFwcBXJDG"
      },
      "source": [
        "# imports\n",
        "import argparse\n",
        "import os\n",
        "import random\n",
        "import shutil\n",
        "import json\n",
        "import zipfile\n",
        "import math\n",
        "import copy\n",
        "import collections\n",
        "import re\n",
        "\n",
        "import matplotlib.pyplot as plt\n",
        "import pandas as pd\n",
        "import numpy as np\n",
        "import sentencepiece as spm\n",
        "import tensorflow as tf\n",
        "import tensorflow.keras.backend as K\n",
        "\n",
        "from tqdm.notebook import tqdm, trange"
      ],
      "execution_count": null,
      "outputs": []
    },
    {
      "cell_type": "code",
      "metadata": {
        "id": "BF-NLGZTGvTR",
        "colab": {
          "base_uri": "https://localhost:8080/"
        },
        "outputId": "2e4c1c3a-00fd-4f22-da2a-baad15c43ab2"
      },
      "source": [
        "# 환경 설정\n",
        "args = {\n",
        "    # random seed value\n",
        "    \"seed\": 1234\n",
        "}\n",
        "args = argparse.Namespace(**args)\n",
        "\n",
        "print(args)"
      ],
      "execution_count": null,
      "outputs": [
        {
          "output_type": "stream",
          "text": [
            "Namespace(seed=1234)\n"
          ],
          "name": "stdout"
        }
      ]
    },
    {
      "cell_type": "code",
      "metadata": {
        "id": "nvjyruUlXtlR"
      },
      "source": [
        "# random seed 설정\n",
        "random.seed(args.seed)\n",
        "np.random.seed(args.seed)\n",
        "tf.random.set_seed(args.seed)"
      ],
      "execution_count": null,
      "outputs": []
    },
    {
      "cell_type": "code",
      "metadata": {
        "id": "BC3fXkhdYcYt",
        "colab": {
          "base_uri": "https://localhost:8080/"
        },
        "outputId": "790947e9-2943-4f55-dca3-37c00c8fb23b"
      },
      "source": [
        "# gpu 사용량 확인\n",
        "!nvidia-smi"
      ],
      "execution_count": null,
      "outputs": [
        {
          "output_type": "stream",
          "text": [
            "Fri May 28 10:15:21 2021       \n",
            "+-----------------------------------------------------------------------------+\n",
            "| NVIDIA-SMI 465.19.01    Driver Version: 460.32.03    CUDA Version: 11.2     |\n",
            "|-------------------------------+----------------------+----------------------+\n",
            "| GPU  Name        Persistence-M| Bus-Id        Disp.A | Volatile Uncorr. ECC |\n",
            "| Fan  Temp  Perf  Pwr:Usage/Cap|         Memory-Usage | GPU-Util  Compute M. |\n",
            "|                               |                      |               MIG M. |\n",
            "|===============================+======================+======================|\n",
            "|   0  Tesla K80           Off  | 00000000:00:04.0 Off |                    0 |\n",
            "| N/A   49C    P8    31W / 149W |      0MiB / 11441MiB |      0%      Default |\n",
            "|                               |                      |                  N/A |\n",
            "+-------------------------------+----------------------+----------------------+\n",
            "                                                                               \n",
            "+-----------------------------------------------------------------------------+\n",
            "| Processes:                                                                  |\n",
            "|  GPU   GI   CI        PID   Type   Process name                  GPU Memory |\n",
            "|        ID   ID                                                   Usage      |\n",
            "|=============================================================================|\n",
            "|  No running processes found                                                 |\n",
            "+-----------------------------------------------------------------------------+\n"
          ],
          "name": "stdout"
        }
      ]
    },
    {
      "cell_type": "code",
      "metadata": {
        "id": "xVRdxYReYeQj",
        "colab": {
          "base_uri": "https://localhost:8080/"
        },
        "outputId": "e1110e43-7fb3-4190-deb2-18cf22a10286"
      },
      "source": [
        "# google drive mount\n",
        "from google.colab import drive\n",
        "drive.mount('/content/drive')"
      ],
      "execution_count": null,
      "outputs": [
        {
          "output_type": "stream",
          "text": [
            "Mounted at /content/drive\n"
          ],
          "name": "stdout"
        }
      ]
    },
    {
      "cell_type": "code",
      "metadata": {
        "id": "byCIiLJBbFHh",
        "colab": {
          "base_uri": "https://localhost:8080/"
        },
        "outputId": "3a74dadc-d83e-44af-b749-ebd2490b0ad8"
      },
      "source": [
        "# data dir\n",
        "# data_dir = '/content/drive/MyDrive/Data/nlp'\n",
        "data_dir = '/content/drive/MyDrive/ict-ai-복합고급언어-nlp/data'\n",
        "os.listdir(data_dir)"
      ],
      "execution_count": null,
      "outputs": [
        {
          "output_type": "execute_result",
          "data": {
            "text/plain": [
              "['data-20210420T111231Z-001.zip',\n",
              " 'kowiki',\n",
              " 'kowiki_32000.model',\n",
              " 'kowiki_32000.vocab',\n",
              " 'kowiki_mecab_32000.model',\n",
              " 'kowiki_mecab_32000.vocab',\n",
              " 'nsmc',\n",
              " 'question_pair',\n",
              " 'songys-chat']"
            ]
          },
          "metadata": {
            "tags": []
          },
          "execution_count": 7
        }
      ]
    },
    {
      "cell_type": "code",
      "metadata": {
        "colab": {
          "base_uri": "https://localhost:8080/"
        },
        "id": "Y_uejAndANVD",
        "outputId": "91a19990-fe99-410c-eef6-d53fe285f6ac"
      },
      "source": [
        "sychat_dir = os.path.join(data_dir, \"songys-chat\")\n",
        "if not os.path.isdir(sychat_dir):\n",
        "    os.makedirs(sychat_dir)\n",
        "os.listdir(sychat_dir)"
      ],
      "execution_count": null,
      "outputs": [
        {
          "output_type": "execute_result",
          "data": {
            "text/plain": [
              "['lstm.hdf5', 'lstm.csv', 'lstm_dot.csv', 'lstm_dot.hdf5']"
            ]
          },
          "metadata": {
            "tags": []
          },
          "execution_count": 8
        }
      ]
    },
    {
      "cell_type": "markdown",
      "metadata": {
        "id": "1toqkZBj4iqG"
      },
      "source": [
        "# Tutorial"
      ]
    },
    {
      "cell_type": "code",
      "metadata": {
        "id": "g3vPIEAW4g3Q"
      },
      "source": [
        "# 입력 문장\n",
        "sentences = [\n",
        "    ['나는 오늘 기분이 좋아', '네가 기분이 좋으니 나도 좋아'],\n",
        "    ['나는 오늘 행복해', '나도 행복하다'],\n",
        "]"
      ],
      "execution_count": null,
      "outputs": []
    },
    {
      "cell_type": "code",
      "metadata": {
        "id": "jHEm99xa5IQa",
        "colab": {
          "base_uri": "https://localhost:8080/"
        },
        "outputId": "25dc693d-df4e-4dbf-89c0-ea187817bb2d"
      },
      "source": [
        "# 각 문장을 띄어쓰기 단위로 분할\n",
        "words = []\n",
        "for pair in sentences:\n",
        "    for sentence in pair:\n",
        "        words.extend(sentence.split())\n",
        "\n",
        "# 중복 단어 제거\n",
        "words = list(dict.fromkeys(words))\n",
        "\n",
        "# 각 단어별 고유한 번호 부여\n",
        "word_to_id = {'[PAD]': 0, '[UNK]': 1, '[BOS]': 2, '[EOS]': 3}\n",
        "for word in words:\n",
        "    word_to_id[word] = len(word_to_id)\n",
        "\n",
        "# 각 숫자별 단어 부여\n",
        "id_to_word = {_id:word for word, _id in word_to_id.items()}\n",
        "\n",
        "word_to_id, id_to_word"
      ],
      "execution_count": null,
      "outputs": [
        {
          "output_type": "execute_result",
          "data": {
            "text/plain": [
              "({'[BOS]': 2,\n",
              "  '[EOS]': 3,\n",
              "  '[PAD]': 0,\n",
              "  '[UNK]': 1,\n",
              "  '기분이': 6,\n",
              "  '나는': 4,\n",
              "  '나도': 10,\n",
              "  '네가': 8,\n",
              "  '오늘': 5,\n",
              "  '좋아': 7,\n",
              "  '좋으니': 9,\n",
              "  '행복하다': 12,\n",
              "  '행복해': 11},\n",
              " {0: '[PAD]',\n",
              "  1: '[UNK]',\n",
              "  2: '[BOS]',\n",
              "  3: '[EOS]',\n",
              "  4: '나는',\n",
              "  5: '오늘',\n",
              "  6: '기분이',\n",
              "  7: '좋아',\n",
              "  8: '네가',\n",
              "  9: '좋으니',\n",
              "  10: '나도',\n",
              "  11: '행복해',\n",
              "  12: '행복하다'})"
            ]
          },
          "metadata": {
            "tags": []
          },
          "execution_count": 10
        }
      ]
    },
    {
      "cell_type": "code",
      "metadata": {
        "id": "e1n4AkfH5O1F"
      },
      "source": [
        "# train source, target 데이터 생성\n",
        "train_src_ids, tarin_tgt_ids = [], []\n",
        "for pair in sentences:\n",
        "    train_src_ids.append([word_to_id[word] for word in pair[0].split()]) # index0이 소스\n",
        "    tarin_tgt_ids.append([word_to_id[word] for word in pair[1].split()]) # index 1 이 target"
      ],
      "execution_count": null,
      "outputs": []
    },
    {
      "cell_type": "code",
      "metadata": {
        "colab": {
          "base_uri": "https://localhost:8080/"
        },
        "id": "U-CMX8WjcLze",
        "outputId": "19f14457-d9af-4df7-a57c-8344ca6c990c"
      },
      "source": [
        "# train enc_inputs, dec_inputs, dec_label 생성\n",
        "# 3가지가 필요하지\n",
        "\n",
        "train_enc_inputs, train_dec_inputs, train_dec_labels = [], [], []\n",
        "for source_id, target_id in zip(train_src_ids, tarin_tgt_ids):\n",
        "    train_enc_inputs.append(source_id)\n",
        "    train_dec_inputs.append([word_to_id['[BOS]']] + target_id)\n",
        "    train_dec_labels.append(target_id + [word_to_id['[EOS]']])\n",
        "train_enc_inputs, train_dec_inputs, train_dec_labels"
      ],
      "execution_count": null,
      "outputs": [
        {
          "output_type": "execute_result",
          "data": {
            "text/plain": [
              "([[4, 5, 6, 7], [4, 5, 11]],\n",
              " [[2, 8, 6, 9, 10, 7], [2, 10, 12]],\n",
              " [[8, 6, 9, 10, 7, 3], [10, 12, 3]])"
            ]
          },
          "metadata": {
            "tags": []
          },
          "execution_count": 12
        }
      ]
    },
    {
      "cell_type": "code",
      "metadata": {
        "id": "wfVjB9UVcjXQ",
        "colab": {
          "base_uri": "https://localhost:8080/"
        },
        "outputId": "816df852-91cb-4ce7-9b0c-afbfede48618"
      },
      "source": [
        "# 이때 encoder와 decoder의 길이가 달라도 돼지 꿀꿀\n",
        "\n",
        "# 문장의 길이를 모두 동일하게 변경 (최대길이 4)\n",
        "for row in train_enc_inputs:\n",
        "    row += [0] * (4 - len(row))\n",
        "\n",
        "# 문장의 길이를 모두 동일하게 변경 (최대길이 6)\n",
        "for row in train_dec_inputs:\n",
        "    row += [0] * (6 - len(row))\n",
        "\n",
        "# 문장의 길이를 모두 동일하게 변경 (최대길이 6)\n",
        "for row in train_dec_labels:\n",
        "    row += [0] * (6 - len(row))\n",
        "\n",
        "train_enc_inputs, train_dec_inputs, train_dec_labels\n",
        "\n",
        "# batch size가 2이지 지금"
      ],
      "execution_count": null,
      "outputs": [
        {
          "output_type": "execute_result",
          "data": {
            "text/plain": [
              "([[4, 5, 6, 7], [4, 5, 11, 0]],\n",
              " [[2, 8, 6, 9, 10, 7], [2, 10, 12, 0, 0, 0]],\n",
              " [[8, 6, 9, 10, 7, 3], [10, 12, 3, 0, 0, 0]])"
            ]
          },
          "metadata": {
            "tags": []
          },
          "execution_count": 13
        }
      ]
    },
    {
      "cell_type": "code",
      "metadata": {
        "id": "oA9OvrUgc6p7",
        "colab": {
          "base_uri": "https://localhost:8080/"
        },
        "outputId": "267d60f8-3781-497f-d8a0-15a67e654e41"
      },
      "source": [
        "# numpy array로 변환\n",
        "train_enc_inputs = np.array(train_enc_inputs)\n",
        "train_dec_inputs = np.array(train_dec_inputs)\n",
        "train_dec_labels = np.array(train_dec_labels)\n",
        "\n",
        "train_enc_inputs, train_dec_inputs, train_dec_labels"
      ],
      "execution_count": null,
      "outputs": [
        {
          "output_type": "execute_result",
          "data": {
            "text/plain": [
              "(array([[ 4,  5,  6,  7],\n",
              "        [ 4,  5, 11,  0]]), array([[ 2,  8,  6,  9, 10,  7],\n",
              "        [ 2, 10, 12,  0,  0,  0]]), array([[ 8,  6,  9, 10,  7,  3],\n",
              "        [10, 12,  3,  0,  0,  0]]))"
            ]
          },
          "metadata": {
            "tags": []
          },
          "execution_count": 14
        }
      ]
    },
    {
      "cell_type": "code",
      "metadata": {
        "id": "pLGUCemf5Uvl"
      },
      "source": [
        "# 단어를 벡터로 변환\n",
        "embedding = tf.keras.layers.Embedding(len(word_to_id), 4)"
      ],
      "execution_count": null,
      "outputs": []
    },
    {
      "cell_type": "code",
      "metadata": {
        "id": "Ly2MyblddKi2",
        "colab": {
          "base_uri": "https://localhost:8080/"
        },
        "outputId": "abbcc945-1841-42aa-bf67-9e24326f8d5c"
      },
      "source": [
        "# encoder inputs 단어 벡터\n",
        "enc_hidden = embedding(train_enc_inputs)  # (bs, n_seq, 4)\n",
        "enc_hidden"
      ],
      "execution_count": null,
      "outputs": [
        {
          "output_type": "execute_result",
          "data": {
            "text/plain": [
              "<tf.Tensor: shape=(2, 4, 4), dtype=float32, numpy=\n",
              "array([[[ 0.04810704, -0.03535189,  0.04945729,  0.02813626],\n",
              "        [-0.02798697, -0.00110071,  0.0133124 ,  0.00637371],\n",
              "        [-0.00963336, -0.01013004,  0.01826939,  0.02741292],\n",
              "        [-0.00544795, -0.04431503, -0.02540476, -0.0194685 ]],\n",
              "\n",
              "       [[ 0.04810704, -0.03535189,  0.04945729,  0.02813626],\n",
              "        [-0.02798697, -0.00110071,  0.0133124 ,  0.00637371],\n",
              "        [ 0.01447895, -0.01838874,  0.04926274,  0.02590281],\n",
              "        [ 0.00380393, -0.01353813,  0.00816301, -0.02561716]]],\n",
              "      dtype=float32)>"
            ]
          },
          "metadata": {
            "tags": []
          },
          "execution_count": 16
        }
      ]
    },
    {
      "cell_type": "code",
      "metadata": {
        "id": "TcQ8_EhndZin"
      },
      "source": [
        "# encoder LSTM\n",
        "enc_lstm = tf.keras.layers.LSTM(units=5, return_sequences=True, return_state=True)"
      ],
      "execution_count": null,
      "outputs": []
    },
    {
      "cell_type": "code",
      "metadata": {
        "id": "iDV8vPeTdubf",
        "colab": {
          "base_uri": "https://localhost:8080/"
        },
        "outputId": "fa699322-68ba-4f7d-9a76-c5c33c9d34d4"
      },
      "source": [
        "# encoder LSTM 실행\n",
        "enc_hidden, enc_h_state, enc_c_state = enc_lstm(enc_hidden) #(bs, encoder_n_seq, units), (bs, units), (bs,units)\n",
        "enc_hidden, enc_h_state, enc_c_state"
      ],
      "execution_count": null,
      "outputs": [
        {
          "output_type": "execute_result",
          "data": {
            "text/plain": [
              "(<tf.Tensor: shape=(2, 4, 5), dtype=float32, numpy=\n",
              " array([[[ 0.00674607, -0.00427691, -0.00097439, -0.00361581,\n",
              "           0.0076882 ],\n",
              "         [ 0.0061851 , -0.00406212,  0.00337887, -0.00694199,\n",
              "           0.00673266],\n",
              "         [ 0.00728057, -0.0055119 ,  0.00644331, -0.0111077 ,\n",
              "           0.00897955],\n",
              "         [-0.00082123, -0.00522853, -0.0018438 , -0.00625095,\n",
              "          -0.00216456]],\n",
              " \n",
              "        [[ 0.00674607, -0.00427691, -0.00097439, -0.00361581,\n",
              "           0.0076882 ],\n",
              "         [ 0.0061851 , -0.00406212,  0.00337887, -0.00694199,\n",
              "           0.00673266],\n",
              "         [ 0.01071408, -0.0061357 ,  0.00598182, -0.01119013,\n",
              "           0.01287855],\n",
              "         [ 0.00559843, -0.00374473,  0.00191227, -0.00659619,\n",
              "           0.00712104]]], dtype=float32)>,\n",
              " <tf.Tensor: shape=(2, 5), dtype=float32, numpy=\n",
              " array([[-0.00082123, -0.00522853, -0.0018438 , -0.00625095, -0.00216456],\n",
              "        [ 0.00559843, -0.00374473,  0.00191227, -0.00659619,  0.00712104]],\n",
              "       dtype=float32)>,\n",
              " <tf.Tensor: shape=(2, 5), dtype=float32, numpy=\n",
              " array([[-0.00164527, -0.01057572, -0.00372739, -0.01243458, -0.00428836],\n",
              "        [ 0.01112364, -0.00752604,  0.00385827, -0.0132431 ,  0.01415312]],\n",
              "       dtype=float32)>)"
            ]
          },
          "metadata": {
            "tags": []
          },
          "execution_count": 18
        }
      ]
    },
    {
      "cell_type": "code",
      "metadata": {
        "id": "AN_tjE9PdOQ2",
        "colab": {
          "base_uri": "https://localhost:8080/"
        },
        "outputId": "16bd447d-f553-4cb7-ca7d-04509e77eea6"
      },
      "source": [
        "# decoder inputs 단어 벡터\n",
        "dec_hidden = embedding(train_dec_inputs)  # (bs, n_seq, 4)\n",
        "dec_hidden"
      ],
      "execution_count": null,
      "outputs": [
        {
          "output_type": "execute_result",
          "data": {
            "text/plain": [
              "<tf.Tensor: shape=(2, 6, 4), dtype=float32, numpy=\n",
              "array([[[ 0.02788493,  0.00853021,  0.02688133, -0.00167429],\n",
              "        [-0.01826397, -0.03069841,  0.03251565,  0.00923193],\n",
              "        [-0.00963336, -0.01013004,  0.01826939,  0.02741292],\n",
              "        [-0.01256046,  0.0343336 , -0.02595751,  0.03221213],\n",
              "        [-0.03375109, -0.02327753, -0.00871272,  0.00912046],\n",
              "        [-0.00544795, -0.04431503, -0.02540476, -0.0194685 ]],\n",
              "\n",
              "       [[ 0.02788493,  0.00853021,  0.02688133, -0.00167429],\n",
              "        [-0.03375109, -0.02327753, -0.00871272,  0.00912046],\n",
              "        [-0.00891924, -0.02965369, -0.00554544, -0.04765527],\n",
              "        [ 0.00380393, -0.01353813,  0.00816301, -0.02561716],\n",
              "        [ 0.00380393, -0.01353813,  0.00816301, -0.02561716],\n",
              "        [ 0.00380393, -0.01353813,  0.00816301, -0.02561716]]],\n",
              "      dtype=float32)>"
            ]
          },
          "metadata": {
            "tags": []
          },
          "execution_count": 19
        }
      ]
    },
    {
      "cell_type": "code",
      "metadata": {
        "id": "DrmKRLFG5npM"
      },
      "source": [
        "# decoder LSTM\n",
        "dec_lstm = tf.keras.layers.LSTM(units=5, return_sequences=True)"
      ],
      "execution_count": null,
      "outputs": []
    },
    {
      "cell_type": "code",
      "metadata": {
        "id": "8NXITsbfd61w",
        "colab": {
          "base_uri": "https://localhost:8080/"
        },
        "outputId": "5519c462-8a93-4037-879f-8d98b64e6344"
      },
      "source": [
        "# decoder LSTM 실행\n",
        "dec_hidden = dec_lstm(dec_hidden, initial_state=[enc_h_state, enc_c_state])\n",
        "dec_hidden"
      ],
      "execution_count": null,
      "outputs": [
        {
          "output_type": "execute_result",
          "data": {
            "text/plain": [
              "<tf.Tensor: shape=(2, 6, 5), dtype=float32, numpy=\n",
              "array([[[-0.00249466, -0.00307995, -0.00327494, -0.00725164,\n",
              "         -0.00462817],\n",
              "        [-0.00511247,  0.00286553, -0.00707264, -0.0032672 ,\n",
              "         -0.00169703],\n",
              "        [-0.00767549,  0.00277027, -0.00691308, -0.00053027,\n",
              "          0.00276191],\n",
              "        [-0.00805463, -0.00475024, -0.0011885 ,  0.00294018,\n",
              "          0.00863971],\n",
              "        [-0.00565409, -0.00261588, -0.00060706,  0.00615305,\n",
              "          0.01086102],\n",
              "        [ 0.00350298,  0.00040876,  0.00140416,  0.00345753,\n",
              "          0.0058279 ]],\n",
              "\n",
              "       [[ 0.00139186, -0.00246246,  0.00072242, -0.00765236,\n",
              "          0.00218469],\n",
              "        [ 0.00048451, -0.00028243,  0.00063642, -0.00177618,\n",
              "          0.00576928],\n",
              "        [ 0.00671119,  0.00474663, -0.00099277, -0.00274028,\n",
              "         -0.00089224],\n",
              "        [ 0.00684098,  0.0068049 , -0.00256293, -0.00404436,\n",
              "         -0.00430562],\n",
              "        [ 0.00700419,  0.00854143, -0.0040837 , -0.00513259,\n",
              "         -0.00682055],\n",
              "        [ 0.00714516,  0.00996371, -0.00548327, -0.00603737,\n",
              "         -0.00864539]]], dtype=float32)>"
            ]
          },
          "metadata": {
            "tags": []
          },
          "execution_count": 21
        }
      ]
    },
    {
      "cell_type": "markdown",
      "metadata": {
        "id": "7q4jNwYI22DS"
      },
      "source": [
        "Attention score: $e = s^Th \\in \\mathbb{R}^{m \\times n}$"
      ]
    },
    {
      "cell_type": "code",
      "metadata": {
        "id": "eV7VNw5M2y0b",
        "colab": {
          "base_uri": "https://localhost:8080/"
        },
        "outputId": "d6b14b6f-35c9-4331-daed-e1186f1ccdfc"
      },
      "source": [
        "# attention score\n",
        "attn_score = tf.matmul(dec_hidden, enc_hidden, transpose_b=True) # S의 전치 = decoder_hidden, h의 전치 =  encoder_hidden\n",
        "attn_score\n",
        "\n",
        "#  nxh, mxh\n",
        "# encoder, decoder\n",
        "# 2x4x5, 2x6x5\n",
        "\n",
        "# 수식은 행백터로 표현해서ㅋㅋ\n",
        "# 컴터는 열백터로 하는거라서 너가 헷갈렸을거야ㅋㅋ"
      ],
      "execution_count": null,
      "outputs": [
        {
          "output_type": "execute_result",
          "data": {
            "text/plain": [
              "<tf.Tensor: shape=(2, 6, 4), dtype=float32, numpy=\n",
              "array([[[-9.82723213e-06,  5.19671084e-06,  1.67024555e-05,\n",
              "          7.95382293e-05],\n",
              "        [-4.10866960e-05, -5.59033979e-05, -7.75348381e-05,\n",
              "          2.63530346e-05],\n",
              "        [-3.37400488e-05, -5.98090846e-05, -8.50036740e-05,\n",
              "          1.90159790e-06],\n",
              "        [ 2.29300204e-05,  3.21904372e-06,  4.80469316e-06,\n",
              "         -3.43731881e-06],\n",
              "        [ 3.48899921e-05,  4.01285797e-06, -1.47714309e-06,\n",
              "         -4.25319595e-05],\n",
              "        [ 5.28192832e-05,  3.99855417e-05,  4.62249227e-05,\n",
              "         -4.18306408e-05]],\n",
              "\n",
              "       [[ 6.36831683e-05,  8.88839713e-05,  1.48109350e-04,\n",
              "          8.44286405e-05],\n",
              "        [ 5.46340598e-05,  5.74672376e-05,  1.04906605e-04,\n",
              "          5.77864448e-05],\n",
              "        [ 2.89891213e-05,  3.18894163e-05,  5.60150802e-05,\n",
              "          2.96205944e-05],\n",
              "        [ 1.06422885e-06,  5.09770689e-06,  6.01786815e-06,\n",
              "          3.93219671e-06],\n",
              "        [-1.91804720e-05, -1.54630943e-05, -3.21966800e-05,\n",
              "         -1.52958855e-05],\n",
              "        [-3.37069723e-05, -3.11026488e-05, -6.11616269e-05,\n",
              "         -2.95357277e-05]]], dtype=float32)>"
            ]
          },
          "metadata": {
            "tags": []
          },
          "execution_count": 22
        }
      ]
    },
    {
      "cell_type": "markdown",
      "metadata": {
        "id": "7WOdidgP4ESY"
      },
      "source": [
        "Attention prob: $\\alpha = softmax(e) \\in \\mathbb{R}^{m \\times n}$"
      ]
    },
    {
      "cell_type": "code",
      "metadata": {
        "id": "8kuM4dIT4OFY",
        "colab": {
          "base_uri": "https://localhost:8080/"
        },
        "outputId": "23ab27ca-accf-491b-d2e2-880bb1aecdd6"
      },
      "source": [
        "# attention prob\n",
        "attn_prob = tf.nn.softmax(attn_score, axis=-1) # 가로축으로 더하면 다 1이지\n",
        "attn_prob"
      ],
      "execution_count": null,
      "outputs": [
        {
          "output_type": "execute_result",
          "data": {
            "text/plain": [
              "<tf.Tensor: shape=(2, 6, 4), dtype=float32, numpy=\n",
              "array([[[0.24999182, 0.24999557, 0.24999845, 0.25001416],\n",
              "        [0.249999  , 0.24999529, 0.24998988, 0.25001585],\n",
              "        [0.2500026 , 0.24999608, 0.24998978, 0.2500115 ],\n",
              "        [0.25000402, 0.24999909, 0.2499995 , 0.24999744],\n",
              "        [0.25000903, 0.2500013 , 0.24999996, 0.24998969],\n",
              "        [0.25000712, 0.2500039 , 0.25000548, 0.24998346]],\n",
              "\n",
              "       [[0.24999185, 0.24999815, 0.25001296, 0.24999703],\n",
              "        [0.24999648, 0.24999721, 0.25000906, 0.24999727],\n",
              "        [0.2499981 , 0.24999882, 0.25000486, 0.24999824],\n",
              "        [0.24999927, 0.25000027, 0.2500005 , 0.24999997],\n",
              "        [0.25000036, 0.25000125, 0.24999708, 0.2500013 ],\n",
              "        [0.25000128, 0.25000194, 0.24999443, 0.25000232]]], dtype=float32)>"
            ]
          },
          "metadata": {
            "tags": []
          },
          "execution_count": 23
        }
      ]
    },
    {
      "cell_type": "markdown",
      "metadata": {
        "id": "Hn7MyyeV8XZZ"
      },
      "source": [
        "Attention output: $a = h \\alpha^T \\in \\mathbb{R}^{h \\times m}$"
      ]
    },
    {
      "cell_type": "code",
      "metadata": {
        "id": "VpxRmZrh60nt",
        "colab": {
          "base_uri": "https://localhost:8080/"
        },
        "outputId": "e19db857-4323-4070-e503-1d0de32ff707"
      },
      "source": [
        "# attention output\n",
        "attn_out = tf.matmul(enc_hidden, attn_prob, transpose_a=True, transpose_b=True)  # (bs,n_dec_sec,bs) (bs,n_dec_seq, inits)\n",
        "attn_out\n",
        "\n"
      ],
      "execution_count": null,
      "outputs": [
        {
          "output_type": "execute_result",
          "data": {
            "text/plain": [
              "<tf.Tensor: shape=(2, 5, 6), dtype=float32, numpy=\n",
              "array([[[ 0.00484752,  0.0048475 ,  0.00484754,  0.00484765,\n",
              "          0.0048477 ,  0.00484775],\n",
              "        [-0.00476988, -0.00476987, -0.00476987, -0.00476986,\n",
              "         -0.00476986, -0.00476986],\n",
              "        [ 0.00175095,  0.00175089,  0.00175089,  0.00175099,\n",
              "          0.00175101,  0.00175107],\n",
              "        [-0.00697912, -0.00697906, -0.00697905, -0.0069791 ,\n",
              "         -0.00697909, -0.00697912],\n",
              "        [ 0.00530883,  0.0053088 ,  0.00530884,  0.00530899,\n",
              "          0.00530906,  0.00530913]],\n",
              "\n",
              "       [[ 0.00731098,  0.00731096,  0.00731094,  0.00731092,\n",
              "          0.00731091,  0.00731089],\n",
              "        [-0.00455489, -0.00455489, -0.00455488, -0.00455487,\n",
              "         -0.00455486, -0.00455485],\n",
              "        [ 0.00257471,  0.00257468,  0.00257466,  0.00257465,\n",
              "          0.00257463,  0.00257462],\n",
              "        [-0.00708611, -0.00708608, -0.00708606, -0.00708604,\n",
              "         -0.00708602, -0.007086  ],\n",
              "        [ 0.00860519,  0.00860517,  0.00860514,  0.00860512,\n",
              "          0.0086051 ,  0.00860508]]], dtype=float32)>"
            ]
          },
          "metadata": {
            "tags": []
          },
          "execution_count": 24
        }
      ]
    },
    {
      "cell_type": "code",
      "metadata": {
        "colab": {
          "base_uri": "https://localhost:8080/"
        },
        "id": "fr802K05pGC1",
        "outputId": "c9a81505-8317-449f-efc0-4e0042c23950"
      },
      "source": [
        "attn_out.shape"
      ],
      "execution_count": null,
      "outputs": [
        {
          "output_type": "execute_result",
          "data": {
            "text/plain": [
              "TensorShape([2, 5, 6])"
            ]
          },
          "metadata": {
            "tags": []
          },
          "execution_count": 25
        }
      ]
    },
    {
      "cell_type": "code",
      "metadata": {
        "id": "gOVk4vrLpKg1"
      },
      "source": [
        "# tf.transpose(attn_out).shape"
      ],
      "execution_count": null,
      "outputs": []
    },
    {
      "cell_type": "code",
      "metadata": {
        "id": "ZcuTgIkA8nnq",
        "colab": {
          "base_uri": "https://localhost:8080/"
        },
        "outputId": "66f1430e-40fb-4e03-88a0-5ed7bdf47032"
      },
      "source": [
        "tf.transpose(attn_out, perm=[0, 2, 1]) # 5하고 6을 바꾼거야 # 행과 열을 바꾼거지"
      ],
      "execution_count": null,
      "outputs": [
        {
          "output_type": "execute_result",
          "data": {
            "text/plain": [
              "<tf.Tensor: shape=(2, 6, 5), dtype=float32, numpy=\n",
              "array([[[ 0.00484752, -0.00476988,  0.00175095, -0.00697912,\n",
              "          0.00530883],\n",
              "        [ 0.0048475 , -0.00476987,  0.00175089, -0.00697906,\n",
              "          0.0053088 ],\n",
              "        [ 0.00484754, -0.00476987,  0.00175089, -0.00697905,\n",
              "          0.00530884],\n",
              "        [ 0.00484765, -0.00476986,  0.00175099, -0.0069791 ,\n",
              "          0.00530899],\n",
              "        [ 0.0048477 , -0.00476986,  0.00175101, -0.00697909,\n",
              "          0.00530906],\n",
              "        [ 0.00484775, -0.00476986,  0.00175107, -0.00697912,\n",
              "          0.00530913]],\n",
              "\n",
              "       [[ 0.00731098, -0.00455489,  0.00257471, -0.00708611,\n",
              "          0.00860519],\n",
              "        [ 0.00731096, -0.00455489,  0.00257468, -0.00708608,\n",
              "          0.00860517],\n",
              "        [ 0.00731094, -0.00455488,  0.00257466, -0.00708606,\n",
              "          0.00860514],\n",
              "        [ 0.00731092, -0.00455487,  0.00257465, -0.00708604,\n",
              "          0.00860512],\n",
              "        [ 0.00731091, -0.00455486,  0.00257463, -0.00708602,\n",
              "          0.0086051 ],\n",
              "        [ 0.00731089, -0.00455485,  0.00257462, -0.007086  ,\n",
              "          0.00860508]]], dtype=float32)>"
            ]
          },
          "metadata": {
            "tags": []
          },
          "execution_count": 27
        }
      ]
    },
    {
      "cell_type": "code",
      "metadata": {
        "id": "DZgi0atH9o6n",
        "colab": {
          "base_uri": "https://localhost:8080/"
        },
        "outputId": "0cfa9173-d8fb-4fcf-cd09-f943071e02e9"
      },
      "source": [
        "# attention output (transpose)\n",
        "attn_out = tf.matmul(attn_prob, enc_hidden)\n",
        "attn_out"
      ],
      "execution_count": null,
      "outputs": [
        {
          "output_type": "execute_result",
          "data": {
            "text/plain": [
              "<tf.Tensor: shape=(2, 6, 5), dtype=float32, numpy=\n",
              "array([[[ 0.00484752, -0.00476988,  0.00175095, -0.00697912,\n",
              "          0.00530883],\n",
              "        [ 0.0048475 , -0.00476987,  0.00175089, -0.00697906,\n",
              "          0.0053088 ],\n",
              "        [ 0.00484754, -0.00476987,  0.00175089, -0.00697905,\n",
              "          0.00530884],\n",
              "        [ 0.00484765, -0.00476986,  0.00175099, -0.0069791 ,\n",
              "          0.00530899],\n",
              "        [ 0.0048477 , -0.00476986,  0.00175101, -0.00697909,\n",
              "          0.00530906],\n",
              "        [ 0.00484775, -0.00476986,  0.00175107, -0.00697912,\n",
              "          0.00530913]],\n",
              "\n",
              "       [[ 0.00731098, -0.00455489,  0.00257471, -0.00708611,\n",
              "          0.00860518],\n",
              "        [ 0.00731096, -0.00455489,  0.00257468, -0.00708608,\n",
              "          0.00860517],\n",
              "        [ 0.00731094, -0.00455488,  0.00257466, -0.00708606,\n",
              "          0.00860514],\n",
              "        [ 0.00731092, -0.00455487,  0.00257465, -0.00708604,\n",
              "          0.00860512],\n",
              "        [ 0.00731091, -0.00455486,  0.00257463, -0.00708602,\n",
              "          0.0086051 ],\n",
              "        [ 0.00731089, -0.00455485,  0.00257462, -0.007086  ,\n",
              "          0.00860508]]], dtype=float32)>"
            ]
          },
          "metadata": {
            "tags": []
          },
          "execution_count": 28
        }
      ]
    },
    {
      "cell_type": "code",
      "metadata": {
        "id": "9Bkk0UBt91gE",
        "colab": {
          "base_uri": "https://localhost:8080/"
        },
        "outputId": "76e33acd-226e-4b7c-fcde-4cb6129a9185"
      },
      "source": [
        "# concat\n",
        "cat_hidden = tf.concat([attn_out, dec_hidden], axis=-1)\n",
        "cat_hidden"
      ],
      "execution_count": null,
      "outputs": [
        {
          "output_type": "execute_result",
          "data": {
            "text/plain": [
              "<tf.Tensor: shape=(2, 6, 10), dtype=float32, numpy=\n",
              "array([[[ 0.00484752, -0.00476988,  0.00175095, -0.00697912,\n",
              "          0.00530883, -0.00249466, -0.00307995, -0.00327494,\n",
              "         -0.00725164, -0.00462817],\n",
              "        [ 0.0048475 , -0.00476987,  0.00175089, -0.00697906,\n",
              "          0.0053088 , -0.00511247,  0.00286553, -0.00707264,\n",
              "         -0.0032672 , -0.00169703],\n",
              "        [ 0.00484754, -0.00476987,  0.00175089, -0.00697905,\n",
              "          0.00530884, -0.00767549,  0.00277027, -0.00691308,\n",
              "         -0.00053027,  0.00276191],\n",
              "        [ 0.00484765, -0.00476986,  0.00175099, -0.0069791 ,\n",
              "          0.00530899, -0.00805463, -0.00475024, -0.0011885 ,\n",
              "          0.00294018,  0.00863971],\n",
              "        [ 0.0048477 , -0.00476986,  0.00175101, -0.00697909,\n",
              "          0.00530906, -0.00565409, -0.00261588, -0.00060706,\n",
              "          0.00615305,  0.01086102],\n",
              "        [ 0.00484775, -0.00476986,  0.00175107, -0.00697912,\n",
              "          0.00530913,  0.00350298,  0.00040876,  0.00140416,\n",
              "          0.00345753,  0.0058279 ]],\n",
              "\n",
              "       [[ 0.00731098, -0.00455489,  0.00257471, -0.00708611,\n",
              "          0.00860518,  0.00139186, -0.00246246,  0.00072242,\n",
              "         -0.00765236,  0.00218469],\n",
              "        [ 0.00731096, -0.00455489,  0.00257468, -0.00708608,\n",
              "          0.00860517,  0.00048451, -0.00028243,  0.00063642,\n",
              "         -0.00177618,  0.00576928],\n",
              "        [ 0.00731094, -0.00455488,  0.00257466, -0.00708606,\n",
              "          0.00860514,  0.00671119,  0.00474663, -0.00099277,\n",
              "         -0.00274028, -0.00089224],\n",
              "        [ 0.00731092, -0.00455487,  0.00257465, -0.00708604,\n",
              "          0.00860512,  0.00684098,  0.0068049 , -0.00256293,\n",
              "         -0.00404436, -0.00430562],\n",
              "        [ 0.00731091, -0.00455486,  0.00257463, -0.00708602,\n",
              "          0.0086051 ,  0.00700419,  0.00854143, -0.0040837 ,\n",
              "         -0.00513259, -0.00682055],\n",
              "        [ 0.00731089, -0.00455485,  0.00257462, -0.007086  ,\n",
              "          0.00860508,  0.00714516,  0.00996371, -0.00548327,\n",
              "         -0.00603737, -0.00864539]]], dtype=float32)>"
            ]
          },
          "metadata": {
            "tags": []
          },
          "execution_count": 29
        }
      ]
    },
    {
      "cell_type": "code",
      "metadata": {
        "id": "6aiBkFMk5YHg"
      },
      "source": [
        "# 다음단어 예측 layer\n",
        "linear = tf.keras.layers.Dense(len(word_to_id), activation=tf.nn.softmax)"
      ],
      "execution_count": null,
      "outputs": []
    },
    {
      "cell_type": "code",
      "metadata": {
        "id": "X2QV9om2eTjJ",
        "colab": {
          "base_uri": "https://localhost:8080/"
        },
        "outputId": "dd7692f6-7404-4361-ec3c-ce40153d3ed6"
      },
      "source": [
        "# 다음단어 예측 실행\n",
        "y_pred = linear(cat_hidden)\n",
        "y_pred"
      ],
      "execution_count": null,
      "outputs": [
        {
          "output_type": "execute_result",
          "data": {
            "text/plain": [
              "<tf.Tensor: shape=(2, 6, 13), dtype=float32, numpy=\n",
              "array([[[0.07696161, 0.07688614, 0.07703319, 0.07697453, 0.07717065,\n",
              "         0.07726438, 0.07668928, 0.07626903, 0.07684494, 0.07679106,\n",
              "         0.07684816, 0.07727565, 0.07699136],\n",
              "        [0.07697198, 0.07683742, 0.07699774, 0.0773268 , 0.0770435 ,\n",
              "         0.07707373, 0.076556  , 0.07639791, 0.07689474, 0.07698385,\n",
              "         0.07677305, 0.07710201, 0.07704127],\n",
              "        [0.07683374, 0.0766208 , 0.07693142, 0.07749578, 0.07703826,\n",
              "         0.07700106, 0.07661939, 0.07650181, 0.07700925, 0.07705079,\n",
              "         0.07674829, 0.077163  , 0.07698645],\n",
              "        [0.07664758, 0.07621954, 0.07691881, 0.07740667, 0.07709381,\n",
              "         0.07703914, 0.07693395, 0.07664837, 0.07716767, 0.07697786,\n",
              "         0.07673007, 0.07740995, 0.07680654],\n",
              "        [0.07674626, 0.07621909, 0.07700715, 0.07746752, 0.07702118,\n",
              "         0.07683183, 0.07685622, 0.07682854, 0.07714281, 0.07705139,\n",
              "         0.07675774, 0.07728659, 0.07678367],\n",
              "        [0.07709851, 0.07666735, 0.07724986, 0.07715917, 0.07701712,\n",
              "         0.07661787, 0.07657524, 0.07688636, 0.07688106, 0.07696977,\n",
              "         0.07696019, 0.07707346, 0.07684402]],\n",
              "\n",
              "       [[0.07680117, 0.07681891, 0.077227  , 0.07702897, 0.07739244,\n",
              "         0.07679176, 0.07658585, 0.07638305, 0.07691334, 0.07679646,\n",
              "         0.07706795, 0.07749664, 0.07669652],\n",
              "        [0.07684667, 0.07665947, 0.07725851, 0.07725327, 0.0772391 ,\n",
              "         0.07663916, 0.07659077, 0.07658283, 0.07699374, 0.07691195,\n",
              "         0.07694446, 0.07737789, 0.07670219],\n",
              "        [0.07725313, 0.07710626, 0.0774661 , 0.0771177 , 0.07710657,\n",
              "         0.07653593, 0.07632447, 0.07657354, 0.07675309, 0.07691909,\n",
              "         0.07695927, 0.07704366, 0.07684123],\n",
              "        [0.07735511, 0.07726327, 0.07748234, 0.07711472, 0.07706137,\n",
              "         0.07658191, 0.07623858, 0.07649115, 0.07669803, 0.0769096 ,\n",
              "         0.07691434, 0.0769533 , 0.07693627],\n",
              "        [0.07743122, 0.07739068, 0.07749367, 0.0771163 , 0.07703166,\n",
              "         0.07661097, 0.07616615, 0.07642686, 0.07664823, 0.07691347,\n",
              "         0.07689098, 0.0768782 , 0.07700165],\n",
              "        [0.07748587, 0.07749164, 0.07750037, 0.07712082, 0.07701346,\n",
              "         0.07662948, 0.07610705, 0.07637636, 0.07660541, 0.07692469,\n",
              "         0.07688139, 0.07681804, 0.07704543]]], dtype=float32)>"
            ]
          },
          "metadata": {
            "tags": []
          },
          "execution_count": 31
        }
      ]
    },
    {
      "cell_type": "code",
      "metadata": {
        "id": "CO9GDq2m6Luc",
        "colab": {
          "base_uri": "https://localhost:8080/"
        },
        "outputId": "a48456b9-127c-4f68-d2f0-adc1042ccb63"
      },
      "source": [
        "# CE loss\n",
        "tf.keras.losses.SparseCategoricalCrossentropy()(train_dec_labels, y_pred)"
      ],
      "execution_count": null,
      "outputs": [
        {
          "output_type": "execute_result",
          "data": {
            "text/plain": [
              "<tf.Tensor: shape=(), dtype=float32, numpy=2.5636003>"
            ]
          },
          "metadata": {
            "tags": []
          },
          "execution_count": 32
        }
      ]
    },
    {
      "cell_type": "code",
      "metadata": {
        "colab": {
          "base_uri": "https://localhost:8080/"
        },
        "id": "N4-Sr6JNE78t",
        "outputId": "dbb33dc3-038e-4692-99de-f62380b1e5e2"
      },
      "source": [
        "args.n_vocab = len(word_to_id)\n",
        "args.d_model = 32\n",
        "args"
      ],
      "execution_count": null,
      "outputs": [
        {
          "output_type": "execute_result",
          "data": {
            "text/plain": [
              "Namespace(d_model=32, n_vocab=13, seed=1234)"
            ]
          },
          "metadata": {
            "tags": []
          },
          "execution_count": 33
        }
      ]
    },
    {
      "cell_type": "code",
      "metadata": {
        "id": "C91Ciiz-PDGf"
      },
      "source": [
        "def build_model(args):\n",
        "    enc_inputs = tf.keras.layers.Input((None,), name=\"enc_inputs\")  # (bs, n_enc_seq)\n",
        "    dec_inputs = tf.keras.layers.Input((None,), name=\"dec_inputs\")  # (bs, n_dec_seq)\n",
        "    ################################\n",
        "    # Embedding\n",
        "    ################################\n",
        "    embedding = tf.keras.layers.Embedding(args.n_vocab, args.d_model, name=\"embedding\")\n",
        "    enc_hidden = embedding(enc_inputs)  # (bs, n_enc_seq, d_model)\n",
        "    dec_hidden = embedding(dec_inputs)  # (bs, n_dec_seq, d_model)\n",
        "    ################################\n",
        "    # Encoder\n",
        "    ################################\n",
        "    enc_lstm = tf.keras.layers.LSTM(units=args.d_model,return_sequences = True,  return_state=True, name=\"enc_lstm\")\n",
        "    enc_hidden, enc_h_state, enc_c_state = enc_lstm(enc_hidden)  # (bs, n_enc_seq, units), (bs, units), (bs, units)\n",
        "    ################################\n",
        "    # Decoder\n",
        "    ################################\n",
        "    dec_lstm = tf.keras.layers.LSTM(units=args.d_model, return_sequences=True, name=\"dec_lstm\")\n",
        "    dec_hidden = dec_lstm(dec_hidden, initial_state=[enc_h_state, enc_c_state])  # (bs, n_dec_seq, units)\n",
        "    ################################\n",
        "    # Attention\n",
        "    ################################\n",
        "    attn_score = tf.matmul(dec_hidden, enc_hidden, transpose_b=True)  # (bs, n_dec_seq, n_enc_seq)\n",
        "    attn_prob = tf.nn.softmax(attn_score, axis=-1)  # (bs, n_dec_seq, n_enc_seq)\n",
        "    attn_out = tf.matmul(attn_prob, enc_hidden) # (bs, n_dec_seq, units)\n",
        "    cat_hidden = tf.concat([attn_out, dec_hidden], axis=-1)  # (bs, n_dec_seq, units * 2)\n",
        "    ################################\n",
        "    # Next word prediction\n",
        "    ################################\n",
        "    linear = tf.keras.layers.Dense(args.n_vocab, activation=tf.nn.softmax, name=\"out_linear\")\n",
        "    y_pred = linear(cat_hidden)\n",
        "    ################################\n",
        "    # Model\n",
        "    ################################\n",
        "    model = tf.keras.Model(inputs=(enc_inputs, dec_inputs), outputs=y_pred)\n",
        "    return model"
      ],
      "execution_count": null,
      "outputs": []
    },
    {
      "cell_type": "code",
      "metadata": {
        "colab": {
          "base_uri": "https://localhost:8080/"
        },
        "id": "eiRF0EalPi3K",
        "outputId": "5d141181-1a73-42e4-8568-8e530209bf57"
      },
      "source": [
        "model = build_model(args)\n",
        "tf.keras.utils.plot_model(model, 'model.png', show_shapes=True)"
      ],
      "execution_count": null,
      "outputs": [
        {
          "output_type": "execute_result",
          "data": {
            "image/png": "[encoded data removed]",
            "text/plain": [
              "<IPython.core.display.Image object>"
            ]
          },
          "metadata": {
            "tags": []
          },
          "execution_count": 35
        }
      ]
    },
    {
      "cell_type": "code",
      "metadata": {
        "id": "RJ24Cvpv7nXW",
        "colab": {
          "base_uri": "https://localhost:8080/"
        },
        "outputId": "98f6b464-f8c3-439b-eadf-b943f024c0f4"
      },
      "source": [
        "model.predict((train_enc_inputs, train_dec_inputs))"
      ],
      "execution_count": null,
      "outputs": [
        {
          "output_type": "execute_result",
          "data": {
            "text/plain": [
              "array([[[0.07640307, 0.07717407, 0.07895681, 0.07690413, 0.0759858 ,\n",
              "         0.07614148, 0.07750902, 0.07568109, 0.0775845 , 0.07707043,\n",
              "         0.07657784, 0.07769681, 0.07631495],\n",
              "        [0.07664734, 0.07691878, 0.07846681, 0.07730111, 0.07612614,\n",
              "         0.07619733, 0.07702775, 0.07575921, 0.07744698, 0.07716408,\n",
              "         0.07668602, 0.07755723, 0.07670119],\n",
              "        [0.07711226, 0.07717799, 0.07806176, 0.07701518, 0.07606589,\n",
              "         0.07628407, 0.0772878 , 0.07563908, 0.07778222, 0.07712504,\n",
              "         0.07651297, 0.07680983, 0.07712592],\n",
              "        [0.0776232 , 0.07667298, 0.07768542, 0.07670252, 0.07617043,\n",
              "         0.07618449, 0.07652988, 0.0759107 , 0.07799137, 0.07734597,\n",
              "         0.07729486, 0.07704251, 0.07684563],\n",
              "        [0.07752907, 0.07728468, 0.07808127, 0.07698986, 0.07615297,\n",
              "         0.07616232, 0.07726314, 0.07598674, 0.07788286, 0.07671013,\n",
              "         0.07641358, 0.07669763, 0.07684574],\n",
              "        [0.07742814, 0.07710431, 0.07790755, 0.07687847, 0.07619965,\n",
              "         0.07610089, 0.07690621, 0.0758595 , 0.07774007, 0.07696192,\n",
              "         0.07672583, 0.07675566, 0.07743187]],\n",
              "\n",
              "       [[0.0766688 , 0.07713403, 0.07858097, 0.07667021, 0.07657786,\n",
              "         0.07642976, 0.07649697, 0.07626949, 0.07708966, 0.07720648,\n",
              "         0.07670034, 0.07765608, 0.0765194 ],\n",
              "        [0.07679777, 0.07768609, 0.07853489, 0.07700662, 0.07658355,\n",
              "         0.07645754, 0.0771617 , 0.07625538, 0.07720501, 0.07647688,\n",
              "         0.07593521, 0.07718061, 0.07671879],\n",
              "        [0.07682545, 0.07675394, 0.07780427, 0.07716018, 0.07694297,\n",
              "         0.07666726, 0.07710574, 0.07612628, 0.07707687, 0.07679091,\n",
              "         0.07643297, 0.07742639, 0.07688674],\n",
              "        [0.0761433 , 0.07700383, 0.07790618, 0.07747747, 0.07673677,\n",
              "         0.07695891, 0.0773563 , 0.07580674, 0.07711934, 0.0770727 ,\n",
              "         0.07622034, 0.07740659, 0.07679144],\n",
              "        [0.07567199, 0.07716782, 0.07793008, 0.07770971, 0.07663086,\n",
              "         0.0771515 , 0.07753298, 0.0755595 , 0.07711829, 0.0772508 ,\n",
              "         0.0761017 , 0.07739304, 0.07678174],\n",
              "        [0.07534222, 0.07727363, 0.07792156, 0.07786912, 0.07657723,\n",
              "         0.07727984, 0.0776519 , 0.07537362, 0.07709956, 0.07736768,\n",
              "         0.07604016, 0.07739148, 0.07681197]]], dtype=float32)"
            ]
          },
          "metadata": {
            "tags": []
          },
          "execution_count": 36
        }
      ]
    },
    {
      "cell_type": "markdown",
      "metadata": {
        "id": "0TyJlt-k7yzW"
      },
      "source": [
        "# Vocabulary*"
      ]
    },
    {
      "cell_type": "code",
      "metadata": {
        "colab": {
          "base_uri": "https://localhost:8080/"
        },
        "id": "har00GjJ71ZH",
        "outputId": "144b875e-716f-412d-adda-deb96be48f78"
      },
      "source": [
        "# vocab loading\n",
        "vocab = spm.SentencePieceProcessor()\n",
        "vocab.load(os.path.join(data_dir, 'kowiki', 'kowiki_32000.model'))"
      ],
      "execution_count": null,
      "outputs": [
        {
          "output_type": "execute_result",
          "data": {
            "text/plain": [
              "True"
            ]
          },
          "metadata": {
            "tags": []
          },
          "execution_count": 37
        }
      ]
    },
    {
      "cell_type": "markdown",
      "metadata": {
        "id": "097BJVHG_QfR"
      },
      "source": [
        "# Data*"
      ]
    },
    {
      "cell_type": "code",
      "metadata": {
        "colab": {
          "base_uri": "https://localhost:8080/"
        },
        "id": "BvBz82afgule",
        "outputId": "61c92ce8-93c1-4d0c-84a0-f07ed0acd183"
      },
      "source": [
        "# 파일 다운로드 및 목록 확인\n",
        "!wget https://github.com/songys/Chatbot_data/raw/master/ChatbotData%20.csv\n",
        "os.listdir('./')"
      ],
      "execution_count": null,
      "outputs": [
        {
          "output_type": "stream",
          "text": [
            "--2021-05-28 10:16:57--  https://github.com/songys/Chatbot_data/raw/master/ChatbotData%20.csv\n",
            "Resolving github.com (github.com)... 192.30.255.113\n",
            "Connecting to github.com (github.com)|192.30.255.113|:443... connected.\n",
            "HTTP request sent, awaiting response... 302 Found\n",
            "Location: https://raw.githubusercontent.com/songys/Chatbot_data/master/ChatbotData%20.csv [following]\n",
            "--2021-05-28 10:16:57--  https://raw.githubusercontent.com/songys/Chatbot_data/master/ChatbotData%20.csv\n",
            "Resolving raw.githubusercontent.com (raw.githubusercontent.com)... 185.199.108.133, 185.199.111.133, 185.199.109.133, ...\n",
            "Connecting to raw.githubusercontent.com (raw.githubusercontent.com)|185.199.108.133|:443... connected.\n",
            "HTTP request sent, awaiting response... 200 OK\n",
            "Length: 889842 (869K) [text/plain]\n",
            "Saving to: ‘ChatbotData .csv’\n",
            "\n",
            "ChatbotData .csv    100%[===================>] 868.99K  --.-KB/s    in 0.1s    \n",
            "\n",
            "2021-05-28 10:16:58 (6.56 MB/s) - ‘ChatbotData .csv’ saved [889842/889842]\n",
            "\n"
          ],
          "name": "stdout"
        },
        {
          "output_type": "execute_result",
          "data": {
            "text/plain": [
              "['.config', 'model.png', 'drive', 'ChatbotData .csv', 'sample_data']"
            ]
          },
          "metadata": {
            "tags": []
          },
          "execution_count": 38
        }
      ]
    },
    {
      "cell_type": "code",
      "metadata": {
        "id": "K-pDfgP5DBtH",
        "colab": {
          "base_uri": "https://localhost:8080/"
        },
        "outputId": "e865a61d-b811-4fc7-ff4a-b72f7d2f2fea"
      },
      "source": [
        "# 파일명 변경 및 목록 확인\n",
        "!mv 'ChatbotData .csv' ChatbotData.csv\n",
        "os.listdir('./') # 띄어쓰기 없앨겡ㅋ"
      ],
      "execution_count": null,
      "outputs": [
        {
          "output_type": "execute_result",
          "data": {
            "text/plain": [
              "['.config', 'model.png', 'drive', 'ChatbotData.csv', 'sample_data']"
            ]
          },
          "metadata": {
            "tags": []
          },
          "execution_count": 39
        }
      ]
    },
    {
      "cell_type": "markdown",
      "metadata": {
        "id": "WB0cfrHoGOKX"
      },
      "source": [
        "# Loss & Acc*"
      ]
    },
    {
      "cell_type": "code",
      "metadata": {
        "id": "ao1Ukq5MGabJ"
      },
      "source": [
        "def lm_loss(y_true, y_pred):\n",
        "    \"\"\"\n",
        "    pad 부분을 제외하고 loss를 계산하는 함수\n",
        "    :param y_true: 정답\n",
        "    :param y_pred: 예측 값\n",
        "    :retrun loss: pad 부분이 제외된 loss 값\n",
        "    \"\"\"\n",
        "    # loss = sparse_entropy = tf.keras.losses.SparseCategoricalCrossentropy()(y_true, y_pred)\n",
        "    loss = tf.keras.losses.SparseCategoricalCrossentropy(reduction=tf.keras.losses.Reduction.NONE)(y_true, y_pred)\n",
        "    mask = tf.not_equal(y_true, 0)\n",
        "    mask = tf.cast(mask, tf.float32)\n",
        "    # print(mask)\n",
        "    loss *= mask\n",
        "    return loss"
      ],
      "execution_count": null,
      "outputs": []
    },
    {
      "cell_type": "code",
      "metadata": {
        "id": "FpCq4L65Gqs5"
      },
      "source": [
        "def lm_acc(y_true, y_pred):\n",
        "    \"\"\"\n",
        "    pad 부분을 제외하고 accuracy를 계산하는 함수\n",
        "    :param y_true: 정답\n",
        "    :param y_pred: 예측 값\n",
        "    :retrun loss: pad 부분이 제외된 accuracy 값\n",
        "    \"\"\"\n",
        "    y_true = tf.cast(y_true, tf.float32)\n",
        "    # print(y_true)\n",
        "    y_pred_class = tf.cast(tf.argmax(y_pred, axis=-1), tf.float32)\n",
        "    # print(y_pred_class)\n",
        "    matches = tf.cast(tf.equal(y_true, y_pred_class), tf.float32)\n",
        "    # print(matches)\n",
        "    mask = tf.not_equal(y_true, 0)\n",
        "    mask = tf.cast(mask, tf.float32)\n",
        "    # print(mask)\n",
        "    matches *= mask\n",
        "    # print(matches)\n",
        "    # accuracy = tf.reduce_sum(matches) / tf.maximum(tf.reduce_sum(tf.ones_like(matches)), 1)\n",
        "    accuracy = tf.reduce_sum(matches) / tf.maximum(tf.reduce_sum(mask), 1)\n",
        "    return accuracy"
      ],
      "execution_count": null,
      "outputs": []
    },
    {
      "cell_type": "markdown",
      "metadata": {
        "id": "w_ch3BI9EC05"
      },
      "source": [
        "# All Data Project"
      ]
    },
    {
      "cell_type": "markdown",
      "metadata": {
        "id": "Xv8wb2wgEC05"
      },
      "source": [
        "## Train 데이터 생성"
      ]
    },
    {
      "cell_type": "code",
      "metadata": {
        "colab": {
          "base_uri": "https://localhost:8080/"
        },
        "id": "JEmOCQUiEC06",
        "outputId": "1d54cc3b-cebe-40cd-e1be-5fd7c829d405"
      },
      "source": [
        "# data load\n",
        "df_train = pd.read_csv('ChatbotData.csv')\n",
        "df_train"
      ],
      "execution_count": null,
      "outputs": [
        {
          "output_type": "execute_result",
          "data": {
            "text/html": [
              "<div>\n",
              "<style scoped>\n",
              "    .dataframe tbody tr th:only-of-type {\n",
              "        vertical-align: middle;\n",
              "    }\n",
              "\n",
              "    .dataframe tbody tr th {\n",
              "        vertical-align: top;\n",
              "    }\n",
              "\n",
              "    .dataframe thead th {\n",
              "        text-align: right;\n",
              "    }\n",
              "</style>\n",
              "<table border=\"1\" class=\"dataframe\">\n",
              "  <thead>\n",
              "    <tr style=\"text-align: right;\">\n",
              "      <th></th>\n",
              "      <th>Q</th>\n",
              "      <th>A</th>\n",
              "      <th>label</th>\n",
              "    </tr>\n",
              "  </thead>\n",
              "  <tbody>\n",
              "    <tr>\n",
              "      <th>0</th>\n",
              "      <td>12시 땡!</td>\n",
              "      <td>하루가 또 가네요.</td>\n",
              "      <td>0</td>\n",
              "    </tr>\n",
              "    <tr>\n",
              "      <th>1</th>\n",
              "      <td>1지망 학교 떨어졌어</td>\n",
              "      <td>위로해 드립니다.</td>\n",
              "      <td>0</td>\n",
              "    </tr>\n",
              "    <tr>\n",
              "      <th>2</th>\n",
              "      <td>3박4일 놀러가고 싶다</td>\n",
              "      <td>여행은 언제나 좋죠.</td>\n",
              "      <td>0</td>\n",
              "    </tr>\n",
              "    <tr>\n",
              "      <th>3</th>\n",
              "      <td>3박4일 정도 놀러가고 싶다</td>\n",
              "      <td>여행은 언제나 좋죠.</td>\n",
              "      <td>0</td>\n",
              "    </tr>\n",
              "    <tr>\n",
              "      <th>4</th>\n",
              "      <td>PPL 심하네</td>\n",
              "      <td>눈살이 찌푸려지죠.</td>\n",
              "      <td>0</td>\n",
              "    </tr>\n",
              "    <tr>\n",
              "      <th>...</th>\n",
              "      <td>...</td>\n",
              "      <td>...</td>\n",
              "      <td>...</td>\n",
              "    </tr>\n",
              "    <tr>\n",
              "      <th>11818</th>\n",
              "      <td>훔쳐보는 것도 눈치 보임.</td>\n",
              "      <td>티가 나니까 눈치가 보이는 거죠!</td>\n",
              "      <td>2</td>\n",
              "    </tr>\n",
              "    <tr>\n",
              "      <th>11819</th>\n",
              "      <td>훔쳐보는 것도 눈치 보임.</td>\n",
              "      <td>훔쳐보는 거 티나나봐요.</td>\n",
              "      <td>2</td>\n",
              "    </tr>\n",
              "    <tr>\n",
              "      <th>11820</th>\n",
              "      <td>흑기사 해주는 짝남.</td>\n",
              "      <td>설렜겠어요.</td>\n",
              "      <td>2</td>\n",
              "    </tr>\n",
              "    <tr>\n",
              "      <th>11821</th>\n",
              "      <td>힘든 연애 좋은 연애라는게 무슨 차이일까?</td>\n",
              "      <td>잘 헤어질 수 있는 사이 여부인 거 같아요.</td>\n",
              "      <td>2</td>\n",
              "    </tr>\n",
              "    <tr>\n",
              "      <th>11822</th>\n",
              "      <td>힘들어서 결혼할까봐</td>\n",
              "      <td>도피성 결혼은 하지 않길 바라요.</td>\n",
              "      <td>2</td>\n",
              "    </tr>\n",
              "  </tbody>\n",
              "</table>\n",
              "<p>11823 rows × 3 columns</p>\n",
              "</div>"
            ],
            "text/plain": [
              "                             Q                         A  label\n",
              "0                       12시 땡!                하루가 또 가네요.      0\n",
              "1                  1지망 학교 떨어졌어                 위로해 드립니다.      0\n",
              "2                 3박4일 놀러가고 싶다               여행은 언제나 좋죠.      0\n",
              "3              3박4일 정도 놀러가고 싶다               여행은 언제나 좋죠.      0\n",
              "4                      PPL 심하네                눈살이 찌푸려지죠.      0\n",
              "...                        ...                       ...    ...\n",
              "11818           훔쳐보는 것도 눈치 보임.        티가 나니까 눈치가 보이는 거죠!      2\n",
              "11819           훔쳐보는 것도 눈치 보임.             훔쳐보는 거 티나나봐요.      2\n",
              "11820              흑기사 해주는 짝남.                    설렜겠어요.      2\n",
              "11821  힘든 연애 좋은 연애라는게 무슨 차이일까?  잘 헤어질 수 있는 사이 여부인 거 같아요.      2\n",
              "11822               힘들어서 결혼할까봐        도피성 결혼은 하지 않길 바라요.      2\n",
              "\n",
              "[11823 rows x 3 columns]"
            ]
          },
          "metadata": {
            "tags": []
          },
          "execution_count": 42
        }
      ]
    },
    {
      "cell_type": "code",
      "metadata": {
        "colab": {
          "base_uri": "https://localhost:8080/"
        },
        "id": "rElE7QP0EC06",
        "outputId": "79c277f2-d119-4486-df85-21657a39b3ce"
      },
      "source": [
        "# null 제거\n",
        "df_train = df_train.dropna()\n",
        "df_train"
      ],
      "execution_count": null,
      "outputs": [
        {
          "output_type": "execute_result",
          "data": {
            "text/html": [
              "<div>\n",
              "<style scoped>\n",
              "    .dataframe tbody tr th:only-of-type {\n",
              "        vertical-align: middle;\n",
              "    }\n",
              "\n",
              "    .dataframe tbody tr th {\n",
              "        vertical-align: top;\n",
              "    }\n",
              "\n",
              "    .dataframe thead th {\n",
              "        text-align: right;\n",
              "    }\n",
              "</style>\n",
              "<table border=\"1\" class=\"dataframe\">\n",
              "  <thead>\n",
              "    <tr style=\"text-align: right;\">\n",
              "      <th></th>\n",
              "      <th>Q</th>\n",
              "      <th>A</th>\n",
              "      <th>label</th>\n",
              "    </tr>\n",
              "  </thead>\n",
              "  <tbody>\n",
              "    <tr>\n",
              "      <th>0</th>\n",
              "      <td>12시 땡!</td>\n",
              "      <td>하루가 또 가네요.</td>\n",
              "      <td>0</td>\n",
              "    </tr>\n",
              "    <tr>\n",
              "      <th>1</th>\n",
              "      <td>1지망 학교 떨어졌어</td>\n",
              "      <td>위로해 드립니다.</td>\n",
              "      <td>0</td>\n",
              "    </tr>\n",
              "    <tr>\n",
              "      <th>2</th>\n",
              "      <td>3박4일 놀러가고 싶다</td>\n",
              "      <td>여행은 언제나 좋죠.</td>\n",
              "      <td>0</td>\n",
              "    </tr>\n",
              "    <tr>\n",
              "      <th>3</th>\n",
              "      <td>3박4일 정도 놀러가고 싶다</td>\n",
              "      <td>여행은 언제나 좋죠.</td>\n",
              "      <td>0</td>\n",
              "    </tr>\n",
              "    <tr>\n",
              "      <th>4</th>\n",
              "      <td>PPL 심하네</td>\n",
              "      <td>눈살이 찌푸려지죠.</td>\n",
              "      <td>0</td>\n",
              "    </tr>\n",
              "    <tr>\n",
              "      <th>...</th>\n",
              "      <td>...</td>\n",
              "      <td>...</td>\n",
              "      <td>...</td>\n",
              "    </tr>\n",
              "    <tr>\n",
              "      <th>11818</th>\n",
              "      <td>훔쳐보는 것도 눈치 보임.</td>\n",
              "      <td>티가 나니까 눈치가 보이는 거죠!</td>\n",
              "      <td>2</td>\n",
              "    </tr>\n",
              "    <tr>\n",
              "      <th>11819</th>\n",
              "      <td>훔쳐보는 것도 눈치 보임.</td>\n",
              "      <td>훔쳐보는 거 티나나봐요.</td>\n",
              "      <td>2</td>\n",
              "    </tr>\n",
              "    <tr>\n",
              "      <th>11820</th>\n",
              "      <td>흑기사 해주는 짝남.</td>\n",
              "      <td>설렜겠어요.</td>\n",
              "      <td>2</td>\n",
              "    </tr>\n",
              "    <tr>\n",
              "      <th>11821</th>\n",
              "      <td>힘든 연애 좋은 연애라는게 무슨 차이일까?</td>\n",
              "      <td>잘 헤어질 수 있는 사이 여부인 거 같아요.</td>\n",
              "      <td>2</td>\n",
              "    </tr>\n",
              "    <tr>\n",
              "      <th>11822</th>\n",
              "      <td>힘들어서 결혼할까봐</td>\n",
              "      <td>도피성 결혼은 하지 않길 바라요.</td>\n",
              "      <td>2</td>\n",
              "    </tr>\n",
              "  </tbody>\n",
              "</table>\n",
              "<p>11823 rows × 3 columns</p>\n",
              "</div>"
            ],
            "text/plain": [
              "                             Q                         A  label\n",
              "0                       12시 땡!                하루가 또 가네요.      0\n",
              "1                  1지망 학교 떨어졌어                 위로해 드립니다.      0\n",
              "2                 3박4일 놀러가고 싶다               여행은 언제나 좋죠.      0\n",
              "3              3박4일 정도 놀러가고 싶다               여행은 언제나 좋죠.      0\n",
              "4                      PPL 심하네                눈살이 찌푸려지죠.      0\n",
              "...                        ...                       ...    ...\n",
              "11818           훔쳐보는 것도 눈치 보임.        티가 나니까 눈치가 보이는 거죠!      2\n",
              "11819           훔쳐보는 것도 눈치 보임.             훔쳐보는 거 티나나봐요.      2\n",
              "11820              흑기사 해주는 짝남.                    설렜겠어요.      2\n",
              "11821  힘든 연애 좋은 연애라는게 무슨 차이일까?  잘 헤어질 수 있는 사이 여부인 거 같아요.      2\n",
              "11822               힘들어서 결혼할까봐        도피성 결혼은 하지 않길 바라요.      2\n",
              "\n",
              "[11823 rows x 3 columns]"
            ]
          },
          "metadata": {
            "tags": []
          },
          "execution_count": 43
        }
      ]
    },
    {
      "cell_type": "code",
      "metadata": {
        "colab": {
          "base_uri": "https://localhost:8080/"
        },
        "id": "U7EuG-p4EC07",
        "outputId": "922f5e1b-f516-4565-8a6b-236db73dc936"
      },
      "source": [
        "# Q 길이\n",
        "q_length = df_train[\"Q\"].astype(\"str\").apply(lambda x:len(vocab.encode_as_pieces(x)))\n",
        "q_length.head(10), q_length.max()"
      ],
      "execution_count": null,
      "outputs": [
        {
          "output_type": "execute_result",
          "data": {
            "text/plain": [
              "(0     5\n",
              " 1     6\n",
              " 2     9\n",
              " 3    10\n",
              " 4     5\n",
              " 5     7\n",
              " 6     5\n",
              " 7     7\n",
              " 8    11\n",
              " 9     9\n",
              " Name: Q, dtype: int64, 27)"
            ]
          },
          "metadata": {
            "tags": []
          },
          "execution_count": 44
        }
      ]
    },
    {
      "cell_type": "code",
      "metadata": {
        "colab": {
          "base_uri": "https://localhost:8080/"
        },
        "id": "afZqZQRhEC07",
        "outputId": "c39276ee-8aba-4c72-c772-d5d445fd0297"
      },
      "source": [
        "# A 길이\n",
        "a_length = df_train[\"A\"].astype(\"str\").apply(lambda x:len(vocab.encode_as_pieces(x)))\n",
        "a_length.head(10), a_length.max()"
      ],
      "execution_count": null,
      "outputs": [
        {
          "output_type": "execute_result",
          "data": {
            "text/plain": [
              "(0    6\n",
              " 1    6\n",
              " 2    6\n",
              " 3    6\n",
              " 4    9\n",
              " 5    9\n",
              " 6    9\n",
              " 7    7\n",
              " 8    6\n",
              " 9    6\n",
              " Name: A, dtype: int64, 39)"
            ]
          },
          "metadata": {
            "tags": []
          },
          "execution_count": 45
        }
      ]
    },
    {
      "cell_type": "code",
      "metadata": {
        "id": "RfzLzjDCEC08"
      },
      "source": [
        "def make_data(df, vocab, n_enc_seq, n_dec_seq):\n",
        "    \"\"\"\n",
        "    chat 학습 데이터 생성\n",
        "    :param df: data frame\n",
        "    :param df: vocab\n",
        "    :param n_enc_seq: number of encoder sequence\n",
        "    :param n_dec_seq: number of decoder sequence\n",
        "    :return enc_inputs: encoder input data\n",
        "    :return dec_inputs: decoder input data\n",
        "    :return dec_labels: decoder label data\n",
        "    \"\"\"\n",
        "    n_enc_max = n_enc_seq\n",
        "    n_dec_max = n_dec_seq - 1  # [BOS] or [EOS]\n",
        "    # inputa & labels\n",
        "    enc_inputs = []\n",
        "    dec_inputs = []\n",
        "    dec_labels = []\n",
        "    # 데이터 생성\n",
        "    for i, row in tqdm(df.iterrows(), total=len(df)):\n",
        "        Q = row['Q']\n",
        "        A = row['A']\n",
        "        # print(Q, '/', A)\n",
        "        # tokenize\n",
        "        tokens_q = vocab.encode_as_ids(Q)\n",
        "        # print(len(tokens_q), ':', tokens_q)\n",
        "        tokens_a = vocab.encode_as_ids(A)\n",
        "        # print(len(tokens_a), ':', tokens_a)\n",
        "        # 최대 길이로 자르기\n",
        "        tokens_q = tokens_q[:n_enc_max]\n",
        "        # print(len(tokens_q), ':', tokens_q)\n",
        "        tokens_a = tokens_a[:n_dec_max]\n",
        "        # print(len(tokens_a), ':', tokens_a)\n",
        "        # input & label 정의\n",
        "        enc_input = tokens_q\n",
        "        # print(len(enc_input), ':', enc_input)\n",
        "        dec_input = [vocab.bos_id()] + tokens_a\n",
        "        # print(len(dec_input), ':', dec_input)\n",
        "        dec_label = tokens_a + [vocab.eos_id()]\n",
        "        # print(len(dec_label), ':', dec_label)\n",
        "        # pad 추가\n",
        "        enc_input += [0] * (n_enc_seq - len(enc_input))\n",
        "        # print(len(enc_input), ':', enc_input)\n",
        "        dec_input += [0] * (n_dec_seq - len(dec_input))\n",
        "        # print(len(dec_input), ':', dec_input)\n",
        "        dec_label += [0] * (n_dec_seq - len(dec_label))\n",
        "        # print(len(dec_label), ':', dec_label)\n",
        "        # 값 저장\n",
        "        enc_inputs.append(enc_input)\n",
        "        dec_inputs.append(dec_input)\n",
        "        dec_labels.append(dec_label)\n",
        "    # to numpy array\n",
        "    enc_inputs = np.array(enc_inputs)\n",
        "    dec_inputs = np.array(dec_inputs)\n",
        "    dec_labels = np.array(dec_labels)\n",
        "    return enc_inputs, dec_inputs, dec_labels"
      ],
      "execution_count": null,
      "outputs": []
    },
    {
      "cell_type": "code",
      "metadata": {
        "colab": {
          "base_uri": "https://localhost:8080/",
          "referenced_widgets": [
            "6fd806b7cecf4444b5004bdba8013c66",
            "7db537a03cb14f47a5bc9bbb6b4ee277",
            "bb6e5a4a40ea4d5a83446c3157b8b0d6",
            "696b6bf335c348518b5003edf764ded8",
            "1539592ceed54142814cc018ca969ca4",
            "0fe0030d5390405e8f5dfab7afb40267",
            "63bffceed61a4f90882157c933c4f19c",
            "a900015b7c0f428c8df89bda776837df"
          ]
        },
        "id": "QlYKvQUjEC08",
        "outputId": "13492a72-2516-4978-95d1-f769a8635a2c"
      },
      "source": [
        "train_enc_inputs, train_dec_inputs, train_dec_labels = make_data(df_train, vocab, 27, 40)\n",
        "train_enc_inputs, train_dec_inputs, train_dec_labels"
      ],
      "execution_count": null,
      "outputs": [
        {
          "output_type": "display_data",
          "data": {
            "application/vnd.jupyter.widget-view+json": {
              "model_id": "6fd806b7cecf4444b5004bdba8013c66",
              "version_minor": 0,
              "version_major": 2
            },
            "text/plain": [
              "HBox(children=(FloatProgress(value=0.0, max=11823.0), HTML(value='')))"
            ]
          },
          "metadata": {
            "tags": []
          }
        },
        {
          "output_type": "stream",
          "text": [
            "\n"
          ],
          "name": "stdout"
        },
        {
          "output_type": "execute_result",
          "data": {
            "text/plain": [
              "(array([[   92,    56,    10, ...,     0,     0,     0],\n",
              "        [   36,    44,  1075, ...,     0,     0,     0],\n",
              "        [   39,   999,   387, ...,     0,     0,     0],\n",
              "        ...,\n",
              "        [ 3531,  8607, 18488, ...,     0,     0,     0],\n",
              "        [10149,  7479,  1232, ...,     0,     0,     0],\n",
              "        [21584,    71,  1113, ...,     0,     0,     0]]),\n",
              " array([[    2,  2424,    19, ...,     0,     0,     0],\n",
              "        [    2,  3975,    61, ...,     0,     0,     0],\n",
              "        [    2,  1910,    18, ...,     0,     0,     0],\n",
              "        ...,\n",
              "        [    2,  1695,     1, ...,     0,     0,     0],\n",
              "        [    2,   423,  9250, ...,     0,     0,     0],\n",
              "        [    2, 14787,    98, ...,     0,     0,     0]]),\n",
              " array([[ 2424,    19,   345, ...,     0,     0,     0],\n",
              "        [ 3975,    61,   976, ...,     0,     0,     0],\n",
              "        [ 1910,    18,  8244, ...,     0,     0,     0],\n",
              "        ...,\n",
              "        [ 1695,     1,  8406, ...,     0,     0,     0],\n",
              "        [  423,  9250,   507, ...,     0,     0,     0],\n",
              "        [14787,    98,  1113, ...,     0,     0,     0]]))"
            ]
          },
          "metadata": {
            "tags": []
          },
          "execution_count": 47
        }
      ]
    },
    {
      "cell_type": "markdown",
      "metadata": {
        "id": "q9TJovagEC08"
      },
      "source": [
        "## Modeling"
      ]
    },
    {
      "cell_type": "code",
      "metadata": {
        "colab": {
          "base_uri": "https://localhost:8080/"
        },
        "id": "W0gy8R-DEC0-",
        "outputId": "535f0f8c-c454-4ef4-955e-f7850e86a3bf"
      },
      "source": [
        "args.n_vocab = len(vocab)\n",
        "args.d_model = 256\n",
        "args"
      ],
      "execution_count": null,
      "outputs": [
        {
          "output_type": "execute_result",
          "data": {
            "text/plain": [
              "Namespace(d_model=256, n_vocab=32007, seed=1234)"
            ]
          },
          "metadata": {
            "tags": []
          },
          "execution_count": 48
        }
      ]
    },
    {
      "cell_type": "code",
      "metadata": {
        "id": "PoWmXeVPEC0-"
      },
      "source": [
        "def build_model(args):\n",
        "    enc_inputs = tf.keras.layers.Input((None,), name=\"enc_inputs\")  # (bs, n_enc_seq)\n",
        "    dec_inputs = tf.keras.layers.Input((None,), name=\"dec_inputs\")  # (bs, n_dec_seq)\n",
        "    ################################\n",
        "    # Embedding\n",
        "    ################################\n",
        "    embedding = tf.keras.layers.Embedding(args.n_vocab, args.d_model, name=\"embedding\")\n",
        "    enc_hidden = embedding(enc_inputs)  # (bs, n_enc_seq, d_model)\n",
        "    dec_hidden = embedding(dec_inputs)  # (bs, n_dec_seq, d_model)\n",
        "    ################################\n",
        "    # Encoder\n",
        "    ################################\n",
        "    enc_lstm = tf.keras.layers.LSTM(units=args.d_model, return_state=True, name=\"enc_lstm\")\n",
        "    enc_hidden, enc_h_state, enc_c_state = enc_lstm(enc_hidden)  # (bs, n_enc_seq, units), (bs, units), (bs, units)\n",
        "    ################################\n",
        "    # Decoder\n",
        "    ################################\n",
        "    dec_lstm = tf.keras.layers.LSTM(units=args.d_model, return_sequences=True, name=\"dec_lstm\")\n",
        "    dec_hidden = dec_lstm(dec_hidden, initial_state=[enc_h_state, enc_c_state])  # (bs, n_dec_seq, units)\n",
        "    ################################\n",
        "    # Attention\n",
        "    ################################\n",
        "    attn_score = tf.matmul(dec_hidden, enc_hidden, transpose_b=True)  # (bs, n_dec_seq, n_enc_seq)\n",
        "    attn_prob = tf.nn.softmax(attn_score, axis=-1)  # (bs, n_dec_seq, n_enc_seq)\n",
        "    attn_out = tf.matmul(attn_prob, enc_hidden) # (bs, n_dec_seq, units)\n",
        "    cat_hidden = tf.concat([attn_out, dec_hidden], axis=-1)  # (bs, n_dec_seq, units * 2)\n",
        "    ################################\n",
        "    # Next word prediction\n",
        "    ################################\n",
        "    linear = tf.keras.layers.Dense(args.n_vocab, activation=tf.nn.softmax, name=\"out_linear\")\n",
        "    y_pred = linear(cat_hidden)\n",
        "    ################################\n",
        "    # Model\n",
        "    ################################\n",
        "    model = tf.keras.Model(inputs=(enc_inputs, dec_inputs), outputs=y_pred)\n",
        "    return model"
      ],
      "execution_count": null,
      "outputs": []
    },
    {
      "cell_type": "code",
      "metadata": {
        "colab": {
          "base_uri": "https://localhost:8080/",
          "height": 893
        },
        "id": "Gx3NzXUoEC0-",
        "outputId": "6465d9ee-d5a8-4b3c-ef8d-5e3eaa4116a2"
      },
      "source": [
        "model = build_model(args)\n",
        "tf.keras.utils.plot_model(model, 'model.png', show_shapes=True)"
      ],
      "execution_count": null,
      "outputs": [
        {
          "output_type": "execute_result",
          "data": {
            "image/png": "[encoded data removed]",
            "text/plain": [
              "<IPython.core.display.Image object>"
            ]
          },
          "metadata": {
            "tags": []
          },
          "execution_count": 50
        }
      ]
    },
    {
      "cell_type": "code",
      "metadata": {
        "id": "1tXRCzp0EC0-",
        "colab": {
          "base_uri": "https://localhost:8080/"
        },
        "outputId": "7fd9618b-dafa-44a1-d6e6-3a43ce4047bb"
      },
      "source": [
        "model.predict((train_enc_inputs[:4], train_dec_inputs[:4]))"
      ],
      "execution_count": null,
      "outputs": [
        {
          "output_type": "execute_result",
          "data": {
            "text/plain": [
              "array([[[3.1064279e-05, 3.1148342e-05, 3.1195428e-05, ...,\n",
              "         3.1248623e-05, 3.1232146e-05, 3.1253676e-05],\n",
              "        [3.1086631e-05, 3.1165764e-05, 3.1190750e-05, ...,\n",
              "         3.1274081e-05, 3.1247273e-05, 3.1275638e-05],\n",
              "        [3.1123025e-05, 3.1146315e-05, 3.1173844e-05, ...,\n",
              "         3.1284315e-05, 3.1253723e-05, 3.1273430e-05],\n",
              "        ...,\n",
              "        [3.1049865e-05, 3.1107680e-05, 3.1108822e-05, ...,\n",
              "         3.1268479e-05, 3.1284773e-05, 3.1363703e-05],\n",
              "        [3.1049836e-05, 3.1107669e-05, 3.1108881e-05, ...,\n",
              "         3.1268388e-05, 3.1284791e-05, 3.1363816e-05],\n",
              "        [3.1049811e-05, 3.1107658e-05, 3.1108935e-05, ...,\n",
              "         3.1268315e-05, 3.1284810e-05, 3.1363910e-05]],\n",
              "\n",
              "       [[3.1064308e-05, 3.1148807e-05, 3.1195781e-05, ...,\n",
              "         3.1248619e-05, 3.1231397e-05, 3.1253679e-05],\n",
              "        [3.1058848e-05, 3.1150925e-05, 3.1168816e-05, ...,\n",
              "         3.1263535e-05, 3.1225558e-05, 3.1285155e-05],\n",
              "        [3.1081971e-05, 3.1129191e-05, 3.1156302e-05, ...,\n",
              "         3.1284864e-05, 3.1245971e-05, 3.1294796e-05],\n",
              "        ...,\n",
              "        [3.1049916e-05, 3.1107636e-05, 3.1108775e-05, ...,\n",
              "         3.1268733e-05, 3.1284799e-05, 3.1363819e-05],\n",
              "        [3.1049873e-05, 3.1107629e-05, 3.1108848e-05, ...,\n",
              "         3.1268610e-05, 3.1284813e-05, 3.1363932e-05],\n",
              "        [3.1049836e-05, 3.1107618e-05, 3.1108906e-05, ...,\n",
              "         3.1268508e-05, 3.1284824e-05, 3.1364016e-05]],\n",
              "\n",
              "       [[3.1064323e-05, 3.1149779e-05, 3.1196221e-05, ...,\n",
              "         3.1248066e-05, 3.1229443e-05, 3.1254760e-05],\n",
              "        [3.1094143e-05, 3.1127565e-05, 3.1187381e-05, ...,\n",
              "         3.1261912e-05, 3.1222778e-05, 3.1268970e-05],\n",
              "        [3.1091036e-05, 3.1130392e-05, 3.1216550e-05, ...,\n",
              "         3.1236654e-05, 3.1229414e-05, 3.1267835e-05],\n",
              "        ...,\n",
              "        [3.1049774e-05, 3.1107626e-05, 3.1108833e-05, ...,\n",
              "         3.1268544e-05, 3.1284868e-05, 3.1363790e-05],\n",
              "        [3.1049753e-05, 3.1107626e-05, 3.1108902e-05, ...,\n",
              "         3.1268446e-05, 3.1284875e-05, 3.1363899e-05],\n",
              "        [3.1049734e-05, 3.1107626e-05, 3.1108957e-05, ...,\n",
              "         3.1268359e-05, 3.1284879e-05, 3.1363979e-05]],\n",
              "\n",
              "       [[3.1064159e-05, 3.1150328e-05, 3.1196290e-05, ...,\n",
              "         3.1247699e-05, 3.1228443e-05, 3.1254840e-05],\n",
              "        [3.1094056e-05, 3.1128071e-05, 3.1187465e-05, ...,\n",
              "         3.1261596e-05, 3.1222069e-05, 3.1269046e-05],\n",
              "        [3.1090985e-05, 3.1130854e-05, 3.1216616e-05, ...,\n",
              "         3.1236388e-05, 3.1228905e-05, 3.1267922e-05],\n",
              "        ...,\n",
              "        [3.1049774e-05, 3.1107626e-05, 3.1108833e-05, ...,\n",
              "         3.1268548e-05, 3.1284868e-05, 3.1363790e-05],\n",
              "        [3.1049749e-05, 3.1107622e-05, 3.1108899e-05, ...,\n",
              "         3.1268442e-05, 3.1284872e-05, 3.1363896e-05],\n",
              "        [3.1049738e-05, 3.1107626e-05, 3.1108957e-05, ...,\n",
              "         3.1268362e-05, 3.1284879e-05, 3.1363979e-05]]], dtype=float32)"
            ]
          },
          "metadata": {
            "tags": []
          },
          "execution_count": 51
        }
      ]
    },
    {
      "cell_type": "markdown",
      "metadata": {
        "id": "j3pUWwz0EC0_"
      },
      "source": [
        "## Train"
      ]
    },
    {
      "cell_type": "code",
      "metadata": {
        "id": "3Bug3D6kEC0_"
      },
      "source": [
        "model = build_model(args)\n",
        "tf.keras.utils.plot_model(model, 'model.png', show_shapes=True)"
      ],
      "execution_count": null,
      "outputs": []
    },
    {
      "cell_type": "code",
      "metadata": {
        "id": "a-1MKIIDEC0_"
      },
      "source": [
        "model.compile(loss=lm_loss, optimizer=\"adam\", metrics=[lm_acc])"
      ],
      "execution_count": null,
      "outputs": []
    },
    {
      "cell_type": "code",
      "metadata": {
        "id": "Kl22OLVJEC0_"
      },
      "source": [
        "early_stopping = tf.keras.callbacks.EarlyStopping(monitor='lm_acc', patience=30)\n",
        "save_weights = tf.keras.callbacks.ModelCheckpoint(os.path.join(sychat_dir, \"lstm_dot.hdf5\"),\n",
        "                                                  monitor='lm_acc',\n",
        "                                                  verbose=1,\n",
        "                                                  save_best_only=True,\n",
        "                                                  mode=\"max\",\n",
        "                                                  save_freq=\"epoch\",\n",
        "                                                  save_weights_only=True)\n",
        "csv_logger = tf.keras.callbacks.CSVLogger(os.path.join(sychat_dir, \"lstm_dot.csv\"))"
      ],
      "execution_count": null,
      "outputs": []
    },
    {
      "cell_type": "code",
      "metadata": {
        "colab": {
          "base_uri": "https://localhost:8080/"
        },
        "id": "SJlGRJmhEC0_",
        "outputId": "3fe77401-0221-4d17-9500-0a1ffd192bb5"
      },
      "source": [
        "history = model.fit((train_enc_inputs, train_dec_inputs),\n",
        "                    train_dec_labels,\n",
        "                    epochs=100,\n",
        "                    batch_size=256,\n",
        "                    callbacks=[early_stopping, save_weights, csv_logger])"
      ],
      "execution_count": null,
      "outputs": [
        {
          "output_type": "stream",
          "text": [
            "Epoch 1/100\n",
            "47/47 [==============================] - 25s 453ms/step - loss: 1.6461 - lm_acc: 0.1059\n",
            "\n",
            "Epoch 00001: lm_acc improved from -inf to 0.10593, saving model to /content/drive/MyDrive/ict-ai-복합고급언어-nlp/data/songys-chat/lstm_dot.hdf5\n",
            "Epoch 2/100\n",
            "47/47 [==============================] - 22s 469ms/step - loss: 1.2968 - lm_acc: 0.1595\n",
            "\n",
            "Epoch 00002: lm_acc improved from 0.10593 to 0.15948, saving model to /content/drive/MyDrive/ict-ai-복합고급언어-nlp/data/songys-chat/lstm_dot.hdf5\n",
            "Epoch 3/100\n",
            "47/47 [==============================] - 22s 477ms/step - loss: 1.1887 - lm_acc: 0.2596\n",
            "\n",
            "Epoch 00003: lm_acc improved from 0.15948 to 0.25959, saving model to /content/drive/MyDrive/ict-ai-복합고급언어-nlp/data/songys-chat/lstm_dot.hdf5\n",
            "Epoch 4/100\n",
            "47/47 [==============================] - 22s 464ms/step - loss: 1.1242 - lm_acc: 0.2858\n",
            "\n",
            "Epoch 00004: lm_acc improved from 0.25959 to 0.28580, saving model to /content/drive/MyDrive/ict-ai-복합고급언어-nlp/data/songys-chat/lstm_dot.hdf5\n",
            "Epoch 5/100\n",
            "47/47 [==============================] - 22s 462ms/step - loss: 1.0673 - lm_acc: 0.3227\n",
            "\n",
            "Epoch 00005: lm_acc improved from 0.28580 to 0.32274, saving model to /content/drive/MyDrive/ict-ai-복합고급언어-nlp/data/songys-chat/lstm_dot.hdf5\n",
            "Epoch 6/100\n",
            "47/47 [==============================] - 22s 467ms/step - loss: 1.0128 - lm_acc: 0.3477\n",
            "\n",
            "Epoch 00006: lm_acc improved from 0.32274 to 0.34766, saving model to /content/drive/MyDrive/ict-ai-복합고급언어-nlp/data/songys-chat/lstm_dot.hdf5\n",
            "Epoch 7/100\n",
            "47/47 [==============================] - 22s 470ms/step - loss: 0.9690 - lm_acc: 0.3691\n",
            "\n",
            "Epoch 00007: lm_acc improved from 0.34766 to 0.36907, saving model to /content/drive/MyDrive/ict-ai-복합고급언어-nlp/data/songys-chat/lstm_dot.hdf5\n",
            "Epoch 8/100\n",
            "47/47 [==============================] - 22s 464ms/step - loss: 0.9318 - lm_acc: 0.3874\n",
            "\n",
            "Epoch 00008: lm_acc improved from 0.36907 to 0.38738, saving model to /content/drive/MyDrive/ict-ai-복합고급언어-nlp/data/songys-chat/lstm_dot.hdf5\n",
            "Epoch 9/100\n",
            "47/47 [==============================] - 22s 464ms/step - loss: 0.8994 - lm_acc: 0.4004\n",
            "\n",
            "Epoch 00009: lm_acc improved from 0.38738 to 0.40037, saving model to /content/drive/MyDrive/ict-ai-복합고급언어-nlp/data/songys-chat/lstm_dot.hdf5\n",
            "Epoch 10/100\n",
            "47/47 [==============================] - 22s 467ms/step - loss: 0.8708 - lm_acc: 0.4123\n",
            "\n",
            "Epoch 00010: lm_acc improved from 0.40037 to 0.41234, saving model to /content/drive/MyDrive/ict-ai-복합고급언어-nlp/data/songys-chat/lstm_dot.hdf5\n",
            "Epoch 11/100\n",
            "47/47 [==============================] - 22s 468ms/step - loss: 0.8454 - lm_acc: 0.4223\n",
            "\n",
            "Epoch 00011: lm_acc improved from 0.41234 to 0.42231, saving model to /content/drive/MyDrive/ict-ai-복합고급언어-nlp/data/songys-chat/lstm_dot.hdf5\n",
            "Epoch 12/100\n",
            "47/47 [==============================] - 22s 465ms/step - loss: 0.8225 - lm_acc: 0.4294\n",
            "\n",
            "Epoch 00012: lm_acc improved from 0.42231 to 0.42938, saving model to /content/drive/MyDrive/ict-ai-복합고급언어-nlp/data/songys-chat/lstm_dot.hdf5\n",
            "Epoch 13/100\n",
            "47/47 [==============================] - 22s 465ms/step - loss: 0.8022 - lm_acc: 0.4364\n",
            "\n",
            "Epoch 00013: lm_acc improved from 0.42938 to 0.43643, saving model to /content/drive/MyDrive/ict-ai-복합고급언어-nlp/data/songys-chat/lstm_dot.hdf5\n",
            "Epoch 14/100\n",
            "47/47 [==============================] - 22s 467ms/step - loss: 0.7829 - lm_acc: 0.4435\n",
            "\n",
            "Epoch 00014: lm_acc improved from 0.43643 to 0.44347, saving model to /content/drive/MyDrive/ict-ai-복합고급언어-nlp/data/songys-chat/lstm_dot.hdf5\n",
            "Epoch 15/100\n",
            "47/47 [==============================] - 22s 466ms/step - loss: 0.7649 - lm_acc: 0.4506\n",
            "\n",
            "Epoch 00015: lm_acc improved from 0.44347 to 0.45059, saving model to /content/drive/MyDrive/ict-ai-복합고급언어-nlp/data/songys-chat/lstm_dot.hdf5\n",
            "Epoch 16/100\n",
            "47/47 [==============================] - 22s 469ms/step - loss: 0.7480 - lm_acc: 0.4581\n",
            "\n",
            "Epoch 00016: lm_acc improved from 0.45059 to 0.45809, saving model to /content/drive/MyDrive/ict-ai-복합고급언어-nlp/data/songys-chat/lstm_dot.hdf5\n",
            "Epoch 17/100\n",
            "47/47 [==============================] - 22s 467ms/step - loss: 0.7321 - lm_acc: 0.4653\n",
            "\n",
            "Epoch 00017: lm_acc improved from 0.45809 to 0.46535, saving model to /content/drive/MyDrive/ict-ai-복합고급언어-nlp/data/songys-chat/lstm_dot.hdf5\n",
            "Epoch 18/100\n",
            "47/47 [==============================] - 22s 465ms/step - loss: 0.7177 - lm_acc: 0.4718\n",
            "\n",
            "Epoch 00018: lm_acc improved from 0.46535 to 0.47178, saving model to /content/drive/MyDrive/ict-ai-복합고급언어-nlp/data/songys-chat/lstm_dot.hdf5\n",
            "Epoch 19/100\n",
            "47/47 [==============================] - 22s 465ms/step - loss: 0.7029 - lm_acc: 0.4787\n",
            "\n",
            "Epoch 00019: lm_acc improved from 0.47178 to 0.47873, saving model to /content/drive/MyDrive/ict-ai-복합고급언어-nlp/data/songys-chat/lstm_dot.hdf5\n",
            "Epoch 20/100\n",
            "47/47 [==============================] - 22s 467ms/step - loss: 0.6893 - lm_acc: 0.4860\n",
            "\n",
            "Epoch 00020: lm_acc improved from 0.47873 to 0.48595, saving model to /content/drive/MyDrive/ict-ai-복합고급언어-nlp/data/songys-chat/lstm_dot.hdf5\n",
            "Epoch 21/100\n",
            "47/47 [==============================] - 22s 465ms/step - loss: 0.6760 - lm_acc: 0.4918\n",
            "\n",
            "Epoch 00021: lm_acc improved from 0.48595 to 0.49179, saving model to /content/drive/MyDrive/ict-ai-복합고급언어-nlp/data/songys-chat/lstm_dot.hdf5\n",
            "Epoch 22/100\n",
            "47/47 [==============================] - 22s 468ms/step - loss: 0.6633 - lm_acc: 0.4984\n",
            "\n",
            "Epoch 00022: lm_acc improved from 0.49179 to 0.49835, saving model to /content/drive/MyDrive/ict-ai-복합고급언어-nlp/data/songys-chat/lstm_dot.hdf5\n",
            "Epoch 23/100\n",
            "47/47 [==============================] - 22s 465ms/step - loss: 0.6514 - lm_acc: 0.5057\n",
            "\n",
            "Epoch 00023: lm_acc improved from 0.49835 to 0.50569, saving model to /content/drive/MyDrive/ict-ai-복합고급언어-nlp/data/songys-chat/lstm_dot.hdf5\n",
            "Epoch 24/100\n",
            "47/47 [==============================] - 22s 466ms/step - loss: 0.6395 - lm_acc: 0.5125\n",
            "\n",
            "Epoch 00024: lm_acc improved from 0.50569 to 0.51245, saving model to /content/drive/MyDrive/ict-ai-복합고급언어-nlp/data/songys-chat/lstm_dot.hdf5\n",
            "Epoch 25/100\n",
            "47/47 [==============================] - 22s 467ms/step - loss: 0.6284 - lm_acc: 0.5190\n",
            "\n",
            "Epoch 00025: lm_acc improved from 0.51245 to 0.51899, saving model to /content/drive/MyDrive/ict-ai-복합고급언어-nlp/data/songys-chat/lstm_dot.hdf5\n",
            "Epoch 26/100\n",
            "47/47 [==============================] - 22s 469ms/step - loss: 0.6174 - lm_acc: 0.5250\n",
            "\n",
            "Epoch 00026: lm_acc improved from 0.51899 to 0.52496, saving model to /content/drive/MyDrive/ict-ai-복합고급언어-nlp/data/songys-chat/lstm_dot.hdf5\n",
            "Epoch 27/100\n",
            "47/47 [==============================] - 22s 470ms/step - loss: 0.6066 - lm_acc: 0.5304\n",
            "\n",
            "Epoch 00027: lm_acc improved from 0.52496 to 0.53044, saving model to /content/drive/MyDrive/ict-ai-복합고급언어-nlp/data/songys-chat/lstm_dot.hdf5\n",
            "Epoch 28/100\n",
            "47/47 [==============================] - 22s 469ms/step - loss: 0.5966 - lm_acc: 0.5367\n",
            "\n",
            "Epoch 00028: lm_acc improved from 0.53044 to 0.53671, saving model to /content/drive/MyDrive/ict-ai-복합고급언어-nlp/data/songys-chat/lstm_dot.hdf5\n",
            "Epoch 29/100\n",
            "47/47 [==============================] - 22s 468ms/step - loss: 0.5868 - lm_acc: 0.5422\n",
            "\n",
            "Epoch 00029: lm_acc improved from 0.53671 to 0.54221, saving model to /content/drive/MyDrive/ict-ai-복합고급언어-nlp/data/songys-chat/lstm_dot.hdf5\n",
            "Epoch 30/100\n",
            "47/47 [==============================] - 22s 467ms/step - loss: 0.5771 - lm_acc: 0.5502\n",
            "\n",
            "Epoch 00030: lm_acc improved from 0.54221 to 0.55015, saving model to /content/drive/MyDrive/ict-ai-복합고급언어-nlp/data/songys-chat/lstm_dot.hdf5\n",
            "Epoch 31/100\n",
            "47/47 [==============================] - 22s 468ms/step - loss: 0.5678 - lm_acc: 0.5563\n",
            "\n",
            "Epoch 00031: lm_acc improved from 0.55015 to 0.55628, saving model to /content/drive/MyDrive/ict-ai-복합고급언어-nlp/data/songys-chat/lstm_dot.hdf5\n",
            "Epoch 32/100\n",
            "47/47 [==============================] - 22s 468ms/step - loss: 0.5586 - lm_acc: 0.5618\n",
            "\n",
            "Epoch 00032: lm_acc improved from 0.55628 to 0.56181, saving model to /content/drive/MyDrive/ict-ai-복합고급언어-nlp/data/songys-chat/lstm_dot.hdf5\n",
            "Epoch 33/100\n",
            "47/47 [==============================] - 22s 468ms/step - loss: 0.5501 - lm_acc: 0.5670\n",
            "\n",
            "Epoch 00033: lm_acc improved from 0.56181 to 0.56699, saving model to /content/drive/MyDrive/ict-ai-복합고급언어-nlp/data/songys-chat/lstm_dot.hdf5\n",
            "Epoch 34/100\n",
            "47/47 [==============================] - 22s 466ms/step - loss: 0.5417 - lm_acc: 0.5722\n",
            "\n",
            "Epoch 00034: lm_acc improved from 0.56699 to 0.57222, saving model to /content/drive/MyDrive/ict-ai-복합고급언어-nlp/data/songys-chat/lstm_dot.hdf5\n",
            "Epoch 35/100\n",
            "47/47 [==============================] - 22s 467ms/step - loss: 0.5333 - lm_acc: 0.5792\n",
            "\n",
            "Epoch 00035: lm_acc improved from 0.57222 to 0.57918, saving model to /content/drive/MyDrive/ict-ai-복합고급언어-nlp/data/songys-chat/lstm_dot.hdf5\n",
            "Epoch 36/100\n",
            "47/47 [==============================] - 22s 467ms/step - loss: 0.5255 - lm_acc: 0.5837\n",
            "\n",
            "Epoch 00036: lm_acc improved from 0.57918 to 0.58371, saving model to /content/drive/MyDrive/ict-ai-복합고급언어-nlp/data/songys-chat/lstm_dot.hdf5\n",
            "Epoch 37/100\n",
            "47/47 [==============================] - 22s 468ms/step - loss: 0.5176 - lm_acc: 0.5895\n",
            "\n",
            "Epoch 00037: lm_acc improved from 0.58371 to 0.58946, saving model to /content/drive/MyDrive/ict-ai-복합고급언어-nlp/data/songys-chat/lstm_dot.hdf5\n",
            "Epoch 38/100\n",
            "47/47 [==============================] - 22s 465ms/step - loss: 0.5105 - lm_acc: 0.5950\n",
            "\n",
            "Epoch 00038: lm_acc improved from 0.58946 to 0.59497, saving model to /content/drive/MyDrive/ict-ai-복합고급언어-nlp/data/songys-chat/lstm_dot.hdf5\n",
            "Epoch 39/100\n",
            "47/47 [==============================] - 22s 464ms/step - loss: 0.5031 - lm_acc: 0.6003\n",
            "\n",
            "Epoch 00039: lm_acc improved from 0.59497 to 0.60027, saving model to /content/drive/MyDrive/ict-ai-복합고급언어-nlp/data/songys-chat/lstm_dot.hdf5\n",
            "Epoch 40/100\n",
            "47/47 [==============================] - 22s 467ms/step - loss: 0.4956 - lm_acc: 0.6067\n",
            "\n",
            "Epoch 00040: lm_acc improved from 0.60027 to 0.60673, saving model to /content/drive/MyDrive/ict-ai-복합고급언어-nlp/data/songys-chat/lstm_dot.hdf5\n",
            "Epoch 41/100\n",
            "47/47 [==============================] - 22s 467ms/step - loss: 0.4887 - lm_acc: 0.6119\n",
            "\n",
            "Epoch 00041: lm_acc improved from 0.60673 to 0.61193, saving model to /content/drive/MyDrive/ict-ai-복합고급언어-nlp/data/songys-chat/lstm_dot.hdf5\n",
            "Epoch 42/100\n",
            "47/47 [==============================] - 22s 468ms/step - loss: 0.4822 - lm_acc: 0.6162\n",
            "\n",
            "Epoch 00042: lm_acc improved from 0.61193 to 0.61623, saving model to /content/drive/MyDrive/ict-ai-복합고급언어-nlp/data/songys-chat/lstm_dot.hdf5\n",
            "Epoch 43/100\n",
            "47/47 [==============================] - 22s 467ms/step - loss: 0.4753 - lm_acc: 0.6226\n",
            "\n",
            "Epoch 00043: lm_acc improved from 0.61623 to 0.62263, saving model to /content/drive/MyDrive/ict-ai-복합고급언어-nlp/data/songys-chat/lstm_dot.hdf5\n",
            "Epoch 44/100\n",
            "47/47 [==============================] - 22s 466ms/step - loss: 0.4688 - lm_acc: 0.6256\n",
            "\n",
            "Epoch 00044: lm_acc improved from 0.62263 to 0.62555, saving model to /content/drive/MyDrive/ict-ai-복합고급언어-nlp/data/songys-chat/lstm_dot.hdf5\n",
            "Epoch 45/100\n",
            "47/47 [==============================] - 22s 466ms/step - loss: 0.4626 - lm_acc: 0.6312\n",
            "\n",
            "Epoch 00045: lm_acc improved from 0.62555 to 0.63124, saving model to /content/drive/MyDrive/ict-ai-복합고급언어-nlp/data/songys-chat/lstm_dot.hdf5\n",
            "Epoch 46/100\n",
            "47/47 [==============================] - 22s 467ms/step - loss: 0.4564 - lm_acc: 0.6362\n",
            "\n",
            "Epoch 00046: lm_acc improved from 0.63124 to 0.63624, saving model to /content/drive/MyDrive/ict-ai-복합고급언어-nlp/data/songys-chat/lstm_dot.hdf5\n",
            "Epoch 47/100\n",
            "47/47 [==============================] - 22s 467ms/step - loss: 0.4504 - lm_acc: 0.6412\n",
            "\n",
            "Epoch 00047: lm_acc improved from 0.63624 to 0.64123, saving model to /content/drive/MyDrive/ict-ai-복합고급언어-nlp/data/songys-chat/lstm_dot.hdf5\n",
            "Epoch 48/100\n",
            "47/47 [==============================] - 22s 466ms/step - loss: 0.4447 - lm_acc: 0.6449\n",
            "\n",
            "Epoch 00048: lm_acc improved from 0.64123 to 0.64493, saving model to /content/drive/MyDrive/ict-ai-복합고급언어-nlp/data/songys-chat/lstm_dot.hdf5\n",
            "Epoch 49/100\n",
            "47/47 [==============================] - 22s 467ms/step - loss: 0.4390 - lm_acc: 0.6497\n",
            "\n",
            "Epoch 00049: lm_acc improved from 0.64493 to 0.64969, saving model to /content/drive/MyDrive/ict-ai-복합고급언어-nlp/data/songys-chat/lstm_dot.hdf5\n",
            "Epoch 50/100\n",
            "47/47 [==============================] - 22s 468ms/step - loss: 0.4335 - lm_acc: 0.6538\n",
            "\n",
            "Epoch 00050: lm_acc improved from 0.64969 to 0.65379, saving model to /content/drive/MyDrive/ict-ai-복합고급언어-nlp/data/songys-chat/lstm_dot.hdf5\n",
            "Epoch 51/100\n",
            "47/47 [==============================] - 22s 466ms/step - loss: 0.4281 - lm_acc: 0.6581\n",
            "\n",
            "Epoch 00051: lm_acc improved from 0.65379 to 0.65810, saving model to /content/drive/MyDrive/ict-ai-복합고급언어-nlp/data/songys-chat/lstm_dot.hdf5\n",
            "Epoch 52/100\n",
            "47/47 [==============================] - 22s 468ms/step - loss: 0.4231 - lm_acc: 0.6617\n",
            "\n",
            "Epoch 00052: lm_acc improved from 0.65810 to 0.66166, saving model to /content/drive/MyDrive/ict-ai-복합고급언어-nlp/data/songys-chat/lstm_dot.hdf5\n",
            "Epoch 53/100\n",
            "47/47 [==============================] - 22s 466ms/step - loss: 0.4182 - lm_acc: 0.6654\n",
            "\n",
            "Epoch 00053: lm_acc improved from 0.66166 to 0.66536, saving model to /content/drive/MyDrive/ict-ai-복합고급언어-nlp/data/songys-chat/lstm_dot.hdf5\n",
            "Epoch 54/100\n",
            "47/47 [==============================] - 22s 467ms/step - loss: 0.4130 - lm_acc: 0.6695\n",
            "\n",
            "Epoch 00054: lm_acc improved from 0.66536 to 0.66952, saving model to /content/drive/MyDrive/ict-ai-복합고급언어-nlp/data/songys-chat/lstm_dot.hdf5\n",
            "Epoch 55/100\n",
            "47/47 [==============================] - 22s 468ms/step - loss: 0.4081 - lm_acc: 0.6741\n",
            "\n",
            "Epoch 00055: lm_acc improved from 0.66952 to 0.67409, saving model to /content/drive/MyDrive/ict-ai-복합고급언어-nlp/data/songys-chat/lstm_dot.hdf5\n",
            "Epoch 56/100\n",
            "47/47 [==============================] - 22s 467ms/step - loss: 0.4033 - lm_acc: 0.6777\n",
            "\n",
            "Epoch 00056: lm_acc improved from 0.67409 to 0.67770, saving model to /content/drive/MyDrive/ict-ai-복합고급언어-nlp/data/songys-chat/lstm_dot.hdf5\n",
            "Epoch 57/100\n",
            "47/47 [==============================] - 22s 468ms/step - loss: 0.3987 - lm_acc: 0.6821\n",
            "\n",
            "Epoch 00057: lm_acc improved from 0.67770 to 0.68208, saving model to /content/drive/MyDrive/ict-ai-복합고급언어-nlp/data/songys-chat/lstm_dot.hdf5\n",
            "Epoch 58/100\n",
            "47/47 [==============================] - 22s 466ms/step - loss: 0.3942 - lm_acc: 0.6845\n",
            "\n",
            "Epoch 00058: lm_acc improved from 0.68208 to 0.68445, saving model to /content/drive/MyDrive/ict-ai-복합고급언어-nlp/data/songys-chat/lstm_dot.hdf5\n",
            "Epoch 59/100\n",
            "47/47 [==============================] - 22s 466ms/step - loss: 0.3894 - lm_acc: 0.6888\n",
            "\n",
            "Epoch 00059: lm_acc improved from 0.68445 to 0.68882, saving model to /content/drive/MyDrive/ict-ai-복합고급언어-nlp/data/songys-chat/lstm_dot.hdf5\n",
            "Epoch 60/100\n",
            "47/47 [==============================] - 22s 467ms/step - loss: 0.3849 - lm_acc: 0.6923\n",
            "\n",
            "Epoch 00060: lm_acc improved from 0.68882 to 0.69232, saving model to /content/drive/MyDrive/ict-ai-복합고급언어-nlp/data/songys-chat/lstm_dot.hdf5\n",
            "Epoch 61/100\n",
            "47/47 [==============================] - 22s 468ms/step - loss: 0.3805 - lm_acc: 0.6962\n",
            "\n",
            "Epoch 00061: lm_acc improved from 0.69232 to 0.69622, saving model to /content/drive/MyDrive/ict-ai-복합고급언어-nlp/data/songys-chat/lstm_dot.hdf5\n",
            "Epoch 62/100\n",
            "47/47 [==============================] - 22s 466ms/step - loss: 0.3758 - lm_acc: 0.6997\n",
            "\n",
            "Epoch 00062: lm_acc improved from 0.69622 to 0.69965, saving model to /content/drive/MyDrive/ict-ai-복합고급언어-nlp/data/songys-chat/lstm_dot.hdf5\n",
            "Epoch 63/100\n",
            "47/47 [==============================] - 22s 466ms/step - loss: 0.3717 - lm_acc: 0.7026\n",
            "\n",
            "Epoch 00063: lm_acc improved from 0.69965 to 0.70261, saving model to /content/drive/MyDrive/ict-ai-복합고급언어-nlp/data/songys-chat/lstm_dot.hdf5\n",
            "Epoch 64/100\n",
            "47/47 [==============================] - 22s 466ms/step - loss: 0.3674 - lm_acc: 0.7062\n",
            "\n",
            "Epoch 00064: lm_acc improved from 0.70261 to 0.70619, saving model to /content/drive/MyDrive/ict-ai-복합고급언어-nlp/data/songys-chat/lstm_dot.hdf5\n",
            "Epoch 65/100\n",
            "47/47 [==============================] - 22s 468ms/step - loss: 0.3628 - lm_acc: 0.7094\n",
            "\n",
            "Epoch 00065: lm_acc improved from 0.70619 to 0.70936, saving model to /content/drive/MyDrive/ict-ai-복합고급언어-nlp/data/songys-chat/lstm_dot.hdf5\n",
            "Epoch 66/100\n",
            "47/47 [==============================] - 22s 468ms/step - loss: 0.3589 - lm_acc: 0.7114\n",
            "\n",
            "Epoch 00066: lm_acc improved from 0.70936 to 0.71136, saving model to /content/drive/MyDrive/ict-ai-복합고급언어-nlp/data/songys-chat/lstm_dot.hdf5\n",
            "Epoch 67/100\n",
            "47/47 [==============================] - 22s 468ms/step - loss: 0.3548 - lm_acc: 0.7150\n",
            "\n",
            "Epoch 00067: lm_acc improved from 0.71136 to 0.71499, saving model to /content/drive/MyDrive/ict-ai-복합고급언어-nlp/data/songys-chat/lstm_dot.hdf5\n",
            "Epoch 68/100\n",
            "47/47 [==============================] - 22s 466ms/step - loss: 0.3508 - lm_acc: 0.7190\n",
            "\n",
            "Epoch 00068: lm_acc improved from 0.71499 to 0.71899, saving model to /content/drive/MyDrive/ict-ai-복합고급언어-nlp/data/songys-chat/lstm_dot.hdf5\n",
            "Epoch 69/100\n",
            "47/47 [==============================] - 22s 466ms/step - loss: 0.3472 - lm_acc: 0.7214\n",
            "\n",
            "Epoch 00069: lm_acc improved from 0.71899 to 0.72138, saving model to /content/drive/MyDrive/ict-ai-복합고급언어-nlp/data/songys-chat/lstm_dot.hdf5\n",
            "Epoch 70/100\n",
            "47/47 [==============================] - 22s 468ms/step - loss: 0.3431 - lm_acc: 0.7246\n",
            "\n",
            "Epoch 00070: lm_acc improved from 0.72138 to 0.72460, saving model to /content/drive/MyDrive/ict-ai-복합고급언어-nlp/data/songys-chat/lstm_dot.hdf5\n",
            "Epoch 71/100\n",
            "47/47 [==============================] - 22s 467ms/step - loss: 0.3392 - lm_acc: 0.7270\n",
            "\n",
            "Epoch 00071: lm_acc improved from 0.72460 to 0.72697, saving model to /content/drive/MyDrive/ict-ai-복합고급언어-nlp/data/songys-chat/lstm_dot.hdf5\n",
            "Epoch 72/100\n",
            "47/47 [==============================] - 22s 466ms/step - loss: 0.3353 - lm_acc: 0.7314\n",
            "\n",
            "Epoch 00072: lm_acc improved from 0.72697 to 0.73135, saving model to /content/drive/MyDrive/ict-ai-복합고급언어-nlp/data/songys-chat/lstm_dot.hdf5\n",
            "Epoch 73/100\n",
            "47/47 [==============================] - 22s 468ms/step - loss: 0.3318 - lm_acc: 0.7340\n",
            "\n",
            "Epoch 00073: lm_acc improved from 0.73135 to 0.73404, saving model to /content/drive/MyDrive/ict-ai-복합고급언어-nlp/data/songys-chat/lstm_dot.hdf5\n",
            "Epoch 74/100\n",
            "47/47 [==============================] - 22s 466ms/step - loss: 0.3278 - lm_acc: 0.7372\n",
            "\n",
            "Epoch 00074: lm_acc improved from 0.73404 to 0.73724, saving model to /content/drive/MyDrive/ict-ai-복합고급언어-nlp/data/songys-chat/lstm_dot.hdf5\n",
            "Epoch 75/100\n",
            "47/47 [==============================] - 22s 466ms/step - loss: 0.3245 - lm_acc: 0.7394\n",
            "\n",
            "Epoch 00075: lm_acc improved from 0.73724 to 0.73942, saving model to /content/drive/MyDrive/ict-ai-복합고급언어-nlp/data/songys-chat/lstm_dot.hdf5\n",
            "Epoch 76/100\n",
            "47/47 [==============================] - 22s 468ms/step - loss: 0.3213 - lm_acc: 0.7409\n",
            "\n",
            "Epoch 00076: lm_acc improved from 0.73942 to 0.74091, saving model to /content/drive/MyDrive/ict-ai-복합고급언어-nlp/data/songys-chat/lstm_dot.hdf5\n",
            "Epoch 77/100\n",
            "47/47 [==============================] - 22s 467ms/step - loss: 0.3173 - lm_acc: 0.7456\n",
            "\n",
            "Epoch 00077: lm_acc improved from 0.74091 to 0.74558, saving model to /content/drive/MyDrive/ict-ai-복합고급언어-nlp/data/songys-chat/lstm_dot.hdf5\n",
            "Epoch 78/100\n",
            "47/47 [==============================] - 22s 466ms/step - loss: 0.3136 - lm_acc: 0.7484\n",
            "\n",
            "Epoch 00078: lm_acc improved from 0.74558 to 0.74841, saving model to /content/drive/MyDrive/ict-ai-복합고급언어-nlp/data/songys-chat/lstm_dot.hdf5\n",
            "Epoch 79/100\n",
            "47/47 [==============================] - 22s 467ms/step - loss: 0.3101 - lm_acc: 0.7511\n",
            "\n",
            "Epoch 00079: lm_acc improved from 0.74841 to 0.75115, saving model to /content/drive/MyDrive/ict-ai-복합고급언어-nlp/data/songys-chat/lstm_dot.hdf5\n",
            "Epoch 80/100\n",
            "47/47 [==============================] - 22s 468ms/step - loss: 0.3068 - lm_acc: 0.7530\n",
            "\n",
            "Epoch 00080: lm_acc improved from 0.75115 to 0.75301, saving model to /content/drive/MyDrive/ict-ai-복합고급언어-nlp/data/songys-chat/lstm_dot.hdf5\n",
            "Epoch 81/100\n",
            "47/47 [==============================] - 22s 467ms/step - loss: 0.3037 - lm_acc: 0.7556\n",
            "\n",
            "Epoch 00081: lm_acc improved from 0.75301 to 0.75558, saving model to /content/drive/MyDrive/ict-ai-복합고급언어-nlp/data/songys-chat/lstm_dot.hdf5\n",
            "Epoch 82/100\n",
            "47/47 [==============================] - 22s 467ms/step - loss: 0.3007 - lm_acc: 0.7584\n",
            "\n",
            "Epoch 00082: lm_acc improved from 0.75558 to 0.75841, saving model to /content/drive/MyDrive/ict-ai-복합고급언어-nlp/data/songys-chat/lstm_dot.hdf5\n",
            "Epoch 83/100\n",
            "47/47 [==============================] - 22s 468ms/step - loss: 0.2975 - lm_acc: 0.7598\n",
            "\n",
            "Epoch 00083: lm_acc improved from 0.75841 to 0.75977, saving model to /content/drive/MyDrive/ict-ai-복합고급언어-nlp/data/songys-chat/lstm_dot.hdf5\n",
            "Epoch 84/100\n",
            "47/47 [==============================] - 22s 469ms/step - loss: 0.2944 - lm_acc: 0.7633\n",
            "\n",
            "Epoch 00084: lm_acc improved from 0.75977 to 0.76333, saving model to /content/drive/MyDrive/ict-ai-복합고급언어-nlp/data/songys-chat/lstm_dot.hdf5\n",
            "Epoch 85/100\n",
            "47/47 [==============================] - 22s 466ms/step - loss: 0.2919 - lm_acc: 0.7642\n",
            "\n",
            "Epoch 00085: lm_acc improved from 0.76333 to 0.76420, saving model to /content/drive/MyDrive/ict-ai-복합고급언어-nlp/data/songys-chat/lstm_dot.hdf5\n",
            "Epoch 86/100\n",
            "47/47 [==============================] - 22s 468ms/step - loss: 0.2884 - lm_acc: 0.7666\n",
            "\n",
            "Epoch 00086: lm_acc improved from 0.76420 to 0.76662, saving model to /content/drive/MyDrive/ict-ai-복합고급언어-nlp/data/songys-chat/lstm_dot.hdf5\n",
            "Epoch 87/100\n",
            "47/47 [==============================] - 22s 466ms/step - loss: 0.2852 - lm_acc: 0.7696\n",
            "\n",
            "Epoch 00087: lm_acc improved from 0.76662 to 0.76961, saving model to /content/drive/MyDrive/ict-ai-복합고급언어-nlp/data/songys-chat/lstm_dot.hdf5\n",
            "Epoch 88/100\n",
            "47/47 [==============================] - 22s 466ms/step - loss: 0.2826 - lm_acc: 0.7724\n",
            "\n",
            "Epoch 00088: lm_acc improved from 0.76961 to 0.77236, saving model to /content/drive/MyDrive/ict-ai-복합고급언어-nlp/data/songys-chat/lstm_dot.hdf5\n",
            "Epoch 89/100\n",
            "47/47 [==============================] - 22s 468ms/step - loss: 0.2789 - lm_acc: 0.7757\n",
            "\n",
            "Epoch 00089: lm_acc improved from 0.77236 to 0.77567, saving model to /content/drive/MyDrive/ict-ai-복합고급언어-nlp/data/songys-chat/lstm_dot.hdf5\n",
            "Epoch 90/100\n",
            "47/47 [==============================] - 22s 470ms/step - loss: 0.2758 - lm_acc: 0.7786\n",
            "\n",
            "Epoch 00090: lm_acc improved from 0.77567 to 0.77860, saving model to /content/drive/MyDrive/ict-ai-복합고급언어-nlp/data/songys-chat/lstm_dot.hdf5\n",
            "Epoch 91/100\n",
            "47/47 [==============================] - 22s 468ms/step - loss: 0.2737 - lm_acc: 0.7793\n",
            "\n",
            "Epoch 00091: lm_acc improved from 0.77860 to 0.77931, saving model to /content/drive/MyDrive/ict-ai-복합고급언어-nlp/data/songys-chat/lstm_dot.hdf5\n",
            "Epoch 92/100\n",
            "47/47 [==============================] - 22s 467ms/step - loss: 0.2704 - lm_acc: 0.7822\n",
            "\n",
            "Epoch 00092: lm_acc improved from 0.77931 to 0.78223, saving model to /content/drive/MyDrive/ict-ai-복합고급언어-nlp/data/songys-chat/lstm_dot.hdf5\n",
            "Epoch 93/100\n",
            "47/47 [==============================] - 22s 469ms/step - loss: 0.2677 - lm_acc: 0.7827\n",
            "\n",
            "Epoch 00093: lm_acc improved from 0.78223 to 0.78272, saving model to /content/drive/MyDrive/ict-ai-복합고급언어-nlp/data/songys-chat/lstm_dot.hdf5\n",
            "Epoch 94/100\n",
            "47/47 [==============================] - 22s 467ms/step - loss: 0.2647 - lm_acc: 0.7858\n",
            "\n",
            "Epoch 00094: lm_acc improved from 0.78272 to 0.78579, saving model to /content/drive/MyDrive/ict-ai-복합고급언어-nlp/data/songys-chat/lstm_dot.hdf5\n",
            "Epoch 95/100\n",
            "47/47 [==============================] - 22s 468ms/step - loss: 0.2615 - lm_acc: 0.7885\n",
            "\n",
            "Epoch 00095: lm_acc improved from 0.78579 to 0.78847, saving model to /content/drive/MyDrive/ict-ai-복합고급언어-nlp/data/songys-chat/lstm_dot.hdf5\n",
            "Epoch 96/100\n",
            "47/47 [==============================] - 22s 470ms/step - loss: 0.2587 - lm_acc: 0.7912\n",
            "\n",
            "Epoch 00096: lm_acc improved from 0.78847 to 0.79120, saving model to /content/drive/MyDrive/ict-ai-복합고급언어-nlp/data/songys-chat/lstm_dot.hdf5\n",
            "Epoch 97/100\n",
            "47/47 [==============================] - 22s 473ms/step - loss: 0.2563 - lm_acc: 0.7936\n",
            "\n",
            "Epoch 00097: lm_acc improved from 0.79120 to 0.79357, saving model to /content/drive/MyDrive/ict-ai-복합고급언어-nlp/data/songys-chat/lstm_dot.hdf5\n",
            "Epoch 98/100\n",
            "47/47 [==============================] - 22s 470ms/step - loss: 0.2528 - lm_acc: 0.7947\n",
            "\n",
            "Epoch 00098: lm_acc improved from 0.79357 to 0.79466, saving model to /content/drive/MyDrive/ict-ai-복합고급언어-nlp/data/songys-chat/lstm_dot.hdf5\n",
            "Epoch 99/100\n",
            "47/47 [==============================] - 22s 468ms/step - loss: 0.2520 - lm_acc: 0.7958\n",
            "\n",
            "Epoch 00099: lm_acc improved from 0.79466 to 0.79580, saving model to /content/drive/MyDrive/ict-ai-복합고급언어-nlp/data/songys-chat/lstm_dot.hdf5\n",
            "Epoch 100/100\n",
            "47/47 [==============================] - 22s 471ms/step - loss: 0.2473 - lm_acc: 0.7992\n",
            "\n",
            "Epoch 00100: lm_acc improved from 0.79580 to 0.79924, saving model to /content/drive/MyDrive/ict-ai-복합고급언어-nlp/data/songys-chat/lstm_dot.hdf5\n"
          ],
          "name": "stdout"
        }
      ]
    },
    {
      "cell_type": "code",
      "metadata": {
        "colab": {
          "base_uri": "https://localhost:8080/",
          "height": 265
        },
        "id": "hSIHos9GEC0_",
        "outputId": "5e7c565e-8729-4084-ca87-11b726cdeb9e"
      },
      "source": [
        "plt.figure(figsize=(12, 4))\n",
        "\n",
        "plt.subplot(1, 2, 1)\n",
        "plt.plot(history.history['loss'], 'b-', label='loss')\n",
        "\n",
        "plt.subplot(1, 2, 2)\n",
        "plt.plot(history.history['lm_acc'], 'g-', label='accuracy')\n",
        "\n",
        "plt.show()"
      ],
      "execution_count": null,
      "outputs": [
        {
          "output_type": "display_data",
          "data": {
            "image/png": "[encoded data removed]",
            "text/plain": [
              "<Figure size 864x288 with 2 Axes>"
            ]
          },
          "metadata": {
            "tags": [],
            "needs_background": "light"
          }
        }
      ]
    },
    {
      "cell_type": "markdown",
      "metadata": {
        "id": "hMoKqFvLEC1A"
      },
      "source": [
        "## BLEU"
      ]
    },
    {
      "cell_type": "code",
      "metadata": {
        "id": "tmTAHlpeEC1A"
      },
      "source": [
        "def get_ngram(tokens, ngram):\n",
        "    # tokens n-gram\n",
        "    counter = collections.defaultdict(int)\n",
        "    for i in range(len(tokens) - ngram + 1):\n",
        "        # n-gram 별 count\n",
        "        key = tuple(tokens[i:i+ngram])\n",
        "        counter[key] += 1\n",
        "    return  counter"
      ],
      "execution_count": null,
      "outputs": []
    },
    {
      "cell_type": "code",
      "metadata": {
        "id": "7x4MGadgEC1A"
      },
      "source": [
        "def get_ngram_clip(candidate, references, ngram):\n",
        "    # max ref counter\n",
        "    max_counter = collections.defaultdict(int)\n",
        "    # check max count\n",
        "    for ref in references:\n",
        "        ref_counter = get_ngram(ref, ngram)\n",
        "        for key, cnt in ref_counter.items():\n",
        "            max_counter[key] = max(max_counter[key], ref_counter.get(key, 0))\n",
        "    \n",
        "    # candidate counter\n",
        "    can_counter = get_ngram(candidate, ngram)\n",
        "    # clip counter\n",
        "    clip_counter = collections.defaultdict(int)\n",
        "    for key, cnt in can_counter.items():\n",
        "        clip_counter[key] = min(can_counter[key], max_counter.get(key, 0))\n",
        "    return clip_counter"
      ],
      "execution_count": null,
      "outputs": []
    },
    {
      "cell_type": "code",
      "metadata": {
        "id": "wlPV_T9VEC1A"
      },
      "source": [
        "def get_ngram_precision(candidate, references, ngram):\n",
        "    # clip counter\n",
        "    clip_counter = get_ngram_clip(candidate, references, ngram) \n",
        "    n_clip = sum(clip_counter.values())\n",
        "    # ref counter\n",
        "    can_counter = get_ngram(candidate, ngram)\n",
        "    n_total = sum(can_counter.values())\n",
        "\n",
        "    return n_clip / max(n_total, 1)  # 분모 0 방지"
      ],
      "execution_count": null,
      "outputs": []
    },
    {
      "cell_type": "code",
      "metadata": {
        "id": "Y6Td0wskEC1A"
      },
      "source": [
        "def get_brevity_penalty(candidate, references):\n",
        "    can_len = len(candidate)\n",
        "    ref_len = min([len(reference) for reference in references])\n",
        "\n",
        "    if can_len == 0:  # empty string\n",
        "        return 0\n",
        "    elif can_len > ref_len:\n",
        "        return 1\n",
        "    else:\n",
        "        return np.exp(1 - ref_len / can_len)"
      ],
      "execution_count": null,
      "outputs": []
    },
    {
      "cell_type": "code",
      "metadata": {
        "id": "FzHJFZ5SEC1A"
      },
      "source": [
        "def get_bleu_score(candidate, references, weights=[0.25, 0.25, 0.25, 0.25]):\n",
        "    bp = get_brevity_penalty(candidate, references) # BP\n",
        "    p_n = []\n",
        "    for i in range(len(weights)):\n",
        "        p_n.append(get_ngram_precision(candidate, references, i + 1))\n",
        "    score = [w * np.log(p) if p != 0 else 0 for p, w in zip(p_n, weights)]\n",
        "    score = np.sum(score)\n",
        "    score = bp * np.exp(score)\n",
        "    return score"
      ],
      "execution_count": null,
      "outputs": []
    },
    {
      "cell_type": "code",
      "metadata": {
        "id": "zgMUesK4EC1A"
      },
      "source": [
        "import nltk.translate.bleu_score as bleu\n",
        "from nltk import ngrams"
      ],
      "execution_count": null,
      "outputs": []
    },
    {
      "cell_type": "markdown",
      "metadata": {
        "id": "x83Kl8yPEC1B"
      },
      "source": [
        "## 평가"
      ]
    },
    {
      "cell_type": "code",
      "metadata": {
        "id": "5dIjXrXoEC1B"
      },
      "source": [
        "model = build_model(args)\n",
        "model.load_weights(os.path.join(sychat_dir, \"lstm_dot.hdf5\"))"
      ],
      "execution_count": null,
      "outputs": []
    },
    {
      "cell_type": "code",
      "metadata": {
        "id": "XMCPHTqfEC1C"
      },
      "source": [
        "model.compile(loss=lm_loss, optimizer=\"adam\", metrics=[lm_acc])"
      ],
      "execution_count": null,
      "outputs": []
    },
    {
      "cell_type": "code",
      "metadata": {
        "id": "DTV6Qmh8EC1C"
      },
      "source": [
        "# 100개만 확인\n",
        "valid_enc_inputs = train_enc_inputs[:100]\n",
        "valid_dec_inputs = train_dec_inputs[:100]\n",
        "valid_dec_labels = train_dec_labels[:100]"
      ],
      "execution_count": null,
      "outputs": []
    },
    {
      "cell_type": "code",
      "metadata": {
        "colab": {
          "base_uri": "https://localhost:8080/"
        },
        "id": "gPrE6FngEC1D",
        "outputId": "6d8ca559-9e4e-413a-b884-e876a5c6013f"
      },
      "source": [
        "# 평가\n",
        "model.evaluate((valid_enc_inputs, valid_dec_inputs), valid_dec_labels, batch_size=128)"
      ],
      "execution_count": null,
      "outputs": [
        {
          "output_type": "stream",
          "text": [
            "1/1 [==============================] - 1s 1s/step - loss: 0.1921 - lm_acc: 0.8414\n"
          ],
          "name": "stdout"
        },
        {
          "output_type": "execute_result",
          "data": {
            "text/plain": [
              "[0.19209447503089905, 0.8414239287376404]"
            ]
          },
          "metadata": {
            "tags": []
          },
          "execution_count": 38
        }
      ]
    },
    {
      "cell_type": "code",
      "metadata": {
        "id": "M5a2hly_EC1D",
        "colab": {
          "base_uri": "https://localhost:8080/"
        },
        "outputId": "483f71c8-9971-4b78-c52f-3bd5bd7b2e62"
      },
      "source": [
        "references = []\n",
        "for row in valid_dec_labels:\n",
        "    ids = []\n",
        "    for i in row:\n",
        "        if i == vocab.eos_id():\n",
        "            break\n",
        "        ids.append(int(i))\n",
        "    string = vocab.id_to_piece(ids)\n",
        "    references.append(string)\n",
        "references"
      ],
      "execution_count": null,
      "outputs": [
        {
          "output_type": "execute_result",
          "data": {
            "text/plain": [
              "[['▁하루', '가', '▁또', '▁가네', '요', '.'],\n",
              " ['▁위로', '해', '▁드', '립', '니다', '.'],\n",
              " ['▁여행', '은', '▁언제나', '▁좋', '죠', '.'],\n",
              " ['▁여행', '은', '▁언제나', '▁좋', '죠', '.'],\n",
              " ['▁눈', '살이', '▁', '찌', '푸', '려', '지', '죠', '.'],\n",
              " ['▁다시', '▁새로', '▁사는', '▁게', '▁마음', '▁편', '해', '요', '.'],\n",
              " ['▁다시', '▁새로', '▁사는', '▁게', '▁마음', '▁편', '해', '요', '.'],\n",
              " ['▁잘', '▁모르고', '▁있을', '▁수도', '▁있어', '요', '.'],\n",
              " ['▁시간을', '▁정하고', '▁해', '보', '세요', '.'],\n",
              " ['▁시간을', '▁정하고', '▁해', '보', '세요', '.'],\n",
              " ['▁자랑하는', '▁자리', '니까', '요', '.'],\n",
              " ['▁그', '▁사람도', '▁그럴', '▁거', '예', '요', '.'],\n",
              " ['▁그', '▁사람도', '▁그럴', '▁거', '예', '요', '.'],\n",
              " ['▁혼자', '를', '▁즐기', '세요', '.'],\n",
              " ['▁돈', '은', '▁다시', '▁들어올', '▁거', '예', '요', '.'],\n",
              " ['▁땀', '을', '▁식', '혀', '주', '세요', '.'],\n",
              " ['▁', '어서', '▁', '잊', '고', '▁새', '출', '발', '▁하', '세요', '.'],\n",
              " ['▁빨리', '▁집에', '▁돌아가', '서', '▁끄', '고', '▁나오', '세요', '.'],\n",
              " ['▁빨리', '▁집에', '▁돌아가', '서', '▁끄', '고', '▁나오', '세요', '.'],\n",
              " ['▁다음', '▁달', '에는', '▁더', '▁절약', '해', '봐', '요', '.'],\n",
              " ['▁따뜻하', '게', '▁사', '세요', '!'],\n",
              " ['▁다음', '▁달', '에는', '▁더', '▁절약', '해', '봐', '요', '.'],\n",
              " ['▁가장',\n",
              "  '▁',\n",
              "  '확실한',\n",
              "  '▁시간',\n",
              "  '은',\n",
              "  '▁오늘',\n",
              "  '이',\n",
              "  '에',\n",
              "  '요',\n",
              "  '.',\n",
              "  '▁어',\n",
              "  '제와',\n",
              "  '▁내',\n",
              "  '일',\n",
              "  '을',\n",
              "  '▁놓고',\n",
              "  '▁고민',\n",
              "  '하느라',\n",
              "  '▁시간을',\n",
              "  '▁낭비',\n",
              "  '하지',\n",
              "  '▁마',\n",
              "  '세요',\n",
              "  '.'],\n",
              " ['▁온', '▁가족이', '▁모두', '▁마음에', '▁드는', '▁곳으로', '▁가', '보', '세요', '.'],\n",
              " ['▁온', '▁가족이', '▁모두', '▁마음에', '▁드는', '▁곳으로', '▁가', '보', '세요', '.'],\n",
              " ['▁온', '▁가족이', '▁모두', '▁마음에', '▁드는', '▁곳으로', '▁가', '보', '세요', '.'],\n",
              " ['▁저',\n",
              "  '를',\n",
              "  '▁만들어',\n",
              "  '▁준',\n",
              "  '▁사람',\n",
              "  '을',\n",
              "  '▁부모님',\n",
              "  ',',\n",
              "  '▁저',\n",
              "  '랑',\n",
              "  '▁이야기',\n",
              "  '해',\n",
              "  '▁주는',\n",
              "  '▁사람',\n",
              "  '을',\n",
              "  '▁친구',\n",
              "  '로',\n",
              "  '▁생각하고',\n",
              "  '▁있어',\n",
              "  '요'],\n",
              " ['▁저',\n",
              "  '를',\n",
              "  '▁만들어',\n",
              "  '▁준',\n",
              "  '▁사람',\n",
              "  '을',\n",
              "  '▁부모님',\n",
              "  ',',\n",
              "  '▁저',\n",
              "  '랑',\n",
              "  '▁이야기',\n",
              "  '해',\n",
              "  '▁주는',\n",
              "  '▁사람',\n",
              "  '을',\n",
              "  '▁친구',\n",
              "  '로',\n",
              "  '▁생각하고',\n",
              "  '▁있어',\n",
              "  '요'],\n",
              " ['▁더', '▁가까워', '질', '▁기회', '가', '▁되', '겠', '네', '요', '.'],\n",
              " ['▁저', '도', '요', '.'],\n",
              " ['▁다',\n",
              "  '들',\n",
              "  '▁바',\n",
              "  '빠',\n",
              "  '서',\n",
              "  '▁이야기',\n",
              "  '할',\n",
              "  '▁시간이',\n",
              "  '▁부족',\n",
              "  '했',\n",
              "  '나',\n",
              "  '봐',\n",
              "  '요',\n",
              "  '.'],\n",
              " ['▁다',\n",
              "  '들',\n",
              "  '▁바',\n",
              "  '빠',\n",
              "  '서',\n",
              "  '▁이야기',\n",
              "  '할',\n",
              "  '▁시간이',\n",
              "  '▁부족',\n",
              "  '했',\n",
              "  '나',\n",
              "  '봐',\n",
              "  '요',\n",
              "  '.'],\n",
              " ['▁온', '▁가족이', '▁모두', '▁마음에', '▁드는', '▁곳으로', '▁가', '보', '세요', '.'],\n",
              " ['▁좋은', '▁생각이', '에', '요', '.'],\n",
              " ['▁더', '▁가까워', '질', '▁기회', '가', '▁되', '겠', '네', '요', '.'],\n",
              " ['▁저',\n",
              "  '를',\n",
              "  '▁만들어',\n",
              "  '▁준',\n",
              "  '▁사람',\n",
              "  '을',\n",
              "  '▁부모님',\n",
              "  ',',\n",
              "  '▁저',\n",
              "  '랑',\n",
              "  '▁이야기',\n",
              "  '해',\n",
              "  '▁주는',\n",
              "  '▁사람',\n",
              "  '을',\n",
              "  '▁친구',\n",
              "  '로',\n",
              "  '▁생각하고',\n",
              "  '▁있어',\n",
              "  '요'],\n",
              " ['▁좋은', '▁생각이', '에', '요', '.'],\n",
              " ['▁정말', '▁후', '회', '할', '▁습관', '이', '에', '요', '.'],\n",
              " ['▁무', '모', '한', '▁결정', '을', '▁내리', '지', '▁마', '세요', '.'],\n",
              " ['▁선생님', '이나', '▁기관', '에', '▁연락', '해', '보', '세요', '.'],\n",
              " ['▁떨', '리는', '▁감정', '은', '▁그', '▁자체', '로', '▁소중', '해', '요', '.'],\n",
              " ['▁득', '템', '했', '길', '▁바라', '요', '.'],\n",
              " ['▁휴식', '도', '▁필요', '하', '죠', '.'],\n",
              " ['▁단', '짠', '으로', '▁두', '▁개', '▁사는', '게', '▁진리', '죠', '.'],\n",
              " ['▁단', '짠', '으로', '▁두', '▁개', '▁사는', '게', '▁진리', '죠', '.'],\n",
              " ['▁맛', '있게', '▁드', '세요', '.'],\n",
              " ['▁저', '도', '▁싫어', '요', '.'],\n",
              " ['▁가', '세요', '.'],\n",
              " ['▁가', '세요', '.'],\n",
              " ['▁맛', '있게', '▁드', '세요', '.'],\n",
              " ['▁맛', '있게', '▁드', '세요', '.'],\n",
              " ['▁병원', '가', '세요', '.'],\n",
              " ['▁이', '럴', '▁때', '▁잘', '▁쉬', '는', '▁게', '▁중요', '해', '요', '.'],\n",
              " ['▁이', '럴', '▁때', '▁잘', '▁쉬', '는', '▁게', '▁중요', '해', '요', '.'],\n",
              " ['▁이', '럴', '▁때', '▁잘', '▁쉬', '는', '▁게', '▁중요', '해', '요', '.'],\n",
              " ['▁따뜻하', '게', '▁관리', '하', '세요', '.'],\n",
              " ['▁병원', '가', '세요', '.'],\n",
              " ['▁병원', '가', '세요', '.'],\n",
              " ['▁저', '도', '▁듣고', '▁', '싶', '네', '요', '.'],\n",
              " ['▁자신', '을', '▁더', '▁사랑', '해', '주', '세요', '.'],\n",
              " ['▁그', '건', '▁습관', '이', '에', '요', '.'],\n",
              " ['▁그', '건', '▁습관', '이', '에', '요', '.'],\n",
              " ['▁', '콕', '▁집', '어서', '▁물어', '보', '세요', '.'],\n",
              " ['▁좋은', '▁생각', '만', '▁하', '세요', '.'],\n",
              " ['▁마음이', '▁아', '픈', '가', '요', '.'],\n",
              " ['▁갑작스러', '웠', '나', '봐', '요', '.'],\n",
              " ['▁관계', '의', '▁변화', '가', '▁왔', '나', '봅', '니다', '.'],\n",
              " ['▁처음',\n",
              "  '▁3',\n",
              "  '초',\n",
              "  '가',\n",
              "  '▁중요',\n",
              "  '해',\n",
              "  '요',\n",
              "  '.',\n",
              "  '▁당신',\n",
              "  '의',\n",
              "  '▁매력',\n",
              "  '을',\n",
              "  '▁어',\n",
              "  '필',\n",
              "  '해',\n",
              "  '보',\n",
              "  '세요',\n",
              "  '.'],\n",
              " ['▁책임', '질', '▁수', '▁있을', '▁때', '▁키워', '▁보', '세요', '.'],\n",
              " ['▁먼저', '▁생활', '패', '턴', '을', '▁살펴', '▁보', '세요', '.'],\n",
              " ['▁먼저', '▁생활', '패', '턴', '을', '▁살펴', '▁보', '세요', '.'],\n",
              " ['▁책임', '질', '▁수', '▁있을', '▁때', '▁키워', '▁보', '세요', '.'],\n",
              " ['▁아름다운', '▁곳이', '죠', '.'],\n",
              " ['▁안', '▁될', '▁것도', '▁없', '죠', '.'],\n",
              " ['▁혼자', '도', '▁좋아', '요', '.'],\n",
              " ['▁연인',\n",
              "  '은',\n",
              "  '▁살',\n",
              "  '쪄',\n",
              "  '도',\n",
              "  '▁잘',\n",
              "  '▁알아차리',\n",
              "  '지',\n",
              "  '▁못하고',\n",
              "  '▁알아',\n",
              "  '차',\n",
              "  '려',\n",
              "  '도',\n",
              "  '▁싫어하',\n",
              "  '지',\n",
              "  '▁않을',\n",
              "  '▁거',\n",
              "  '예',\n",
              "  '요',\n",
              "  '.'],\n",
              " ['▁즐거', '운', '▁시간', '▁보내고', '▁오', '세요', '!'],\n",
              " ['▁질', '질', '▁끌', '지', '▁마', '세요', '.'],\n",
              " ['▁말해', '보', '세요', '.'],\n",
              " ['▁함께', '하면', '▁서로', '를', '▁더', '▁많이', '▁알게', '▁될', '▁거', '예', '요', '.'],\n",
              " ['▁개시', '해', '보', '세요', '.'],\n",
              " ['▁개시', '해', '보', '세요', '.'],\n",
              " ['▁곧', '▁방', '학', '이', '예', '요', '.'],\n",
              " ['▁방', '학', '이', '▁참', '▁', '짧', '죠', '.'],\n",
              " ['▁벗어나', '는', '▁게', '▁좋', '겠', '네', '요', '.'],\n",
              " ['▁벗어나', '는', '▁게', '▁좋', '겠', '네', '요', '.'],\n",
              " ['▁세', '수', '하고', '▁오', '세요', '.'],\n",
              " ['▁그', '게', '▁제일', '▁중요한', '▁건', '데', '요', '.'],\n",
              " ['▁그', '게', '▁제일', '▁중요한', '▁건', '데', '요', '.'],\n",
              " ['▁다음', '부터는', '▁더', '▁많이', '▁아', '세요', '.'],\n",
              " ['▁갑작스러', '웠', '나', '봐', '요', '.'],\n",
              " ['▁공', '적인', '▁', '일부터', '▁하', '세요', '.'],\n",
              " ['▁공', '적인', '▁', '일부터', '▁하', '세요', '.'],\n",
              " ['▁낮', '잠', '을', '▁잠깐', '▁자', '도', '▁', '괜', '찮', '아', '요', '.'],\n",
              " ['▁저', '도', '▁좋아', '해', '주', '세요', '.'],\n",
              " ['▁친구들', '이', '▁보고', '싶', '었', '나', '봐', '요', '.'],\n",
              " ['▁되도록', '▁만나', '지', '▁마', '세요', '.'],\n",
              " ['▁당신', '이', '요', '.'],\n",
              " ['▁당신', '의', '▁운', '을', '▁믿어', '보', '세요', '.'],\n",
              " ['▁일', '▁못하는', '▁사람이', '▁있으면', '▁옆에', '▁있는', '▁사람이', '▁더', '▁힘들', '죠', '.']]"
            ]
          },
          "metadata": {
            "tags": []
          },
          "execution_count": 39
        }
      ]
    },
    {
      "cell_type": "code",
      "metadata": {
        "id": "mmQf6zEpEC1D",
        "colab": {
          "base_uri": "https://localhost:8080/"
        },
        "outputId": "8550675d-de0a-463e-9c5e-5e30e4386145"
      },
      "source": [
        "# 예측\n",
        "y_pred = model.predict((valid_enc_inputs, valid_dec_inputs))\n",
        "y_pred"
      ],
      "execution_count": null,
      "outputs": [
        {
          "output_type": "execute_result",
          "data": {
            "text/plain": [
              "array([[[8.82112072e-09, 2.12228747e-06, 7.65261721e-09, ...,\n",
              "         7.07499037e-09, 2.65199169e-08, 8.64424532e-09],\n",
              "        [3.83470233e-09, 7.44930003e-05, 3.88405086e-09, ...,\n",
              "         3.10250003e-09, 3.59265506e-08, 3.69877928e-09],\n",
              "        [1.14420362e-09, 6.66978076e-06, 1.21349297e-09, ...,\n",
              "         1.00338993e-09, 5.50792379e-07, 1.12483922e-09],\n",
              "        ...,\n",
              "        [6.31473807e-09, 1.78466649e-07, 5.58460078e-09, ...,\n",
              "         6.55055210e-09, 8.29490546e-06, 7.42898010e-09],\n",
              "        [7.09363768e-09, 1.96826022e-07, 6.22291108e-09, ...,\n",
              "         7.36974703e-09, 1.63973855e-05, 8.40312175e-09],\n",
              "        [8.32076186e-09, 2.37439750e-07, 7.25997573e-09, ...,\n",
              "         8.64371152e-09, 3.07671326e-05, 9.91709914e-09]],\n",
              "\n",
              "       [[2.04701838e-08, 7.02763998e-07, 2.03824069e-08, ...,\n",
              "         1.92867446e-08, 3.58524122e-09, 1.97207637e-08],\n",
              "        [1.74649628e-10, 2.91534352e-08, 1.69978309e-10, ...,\n",
              "         1.59019700e-10, 3.79215909e-10, 1.75044479e-10],\n",
              "        [4.79765117e-10, 2.39992073e-06, 4.12047174e-10, ...,\n",
              "         4.02925360e-10, 1.01500923e-07, 4.36859382e-10],\n",
              "        ...,\n",
              "        [1.38852210e-08, 1.79625943e-06, 1.18013510e-08, ...,\n",
              "         1.43303867e-08, 1.49125393e-04, 1.63437601e-08],\n",
              "        [1.41151579e-08, 3.18425396e-06, 1.19447447e-08, ...,\n",
              "         1.42178633e-08, 2.22276198e-04, 1.64844867e-08],\n",
              "        [1.33530040e-08, 4.79562323e-06, 1.12422116e-08, ...,\n",
              "         1.29925555e-08, 3.25965229e-04, 1.54062523e-08]],\n",
              "\n",
              "       [[1.52697641e-08, 4.49029983e-07, 1.49727057e-08, ...,\n",
              "         1.57945248e-08, 5.59647040e-09, 1.64595821e-08],\n",
              "        [3.39882056e-09, 2.73667258e-08, 3.64082875e-09, ...,\n",
              "         3.31489858e-09, 1.94153259e-07, 3.38187789e-09],\n",
              "        [1.97670746e-09, 2.76430768e-07, 1.84680027e-09, ...,\n",
              "         1.91045335e-09, 2.22974404e-06, 1.90628202e-09],\n",
              "        ...,\n",
              "        [1.10709548e-08, 5.00626243e-07, 9.48405798e-09, ...,\n",
              "         1.16528254e-08, 4.91675200e-05, 1.33341658e-08],\n",
              "        [1.26489859e-08, 6.63035507e-07, 1.08087939e-08, ...,\n",
              "         1.33591005e-08, 7.25859936e-05, 1.52794897e-08],\n",
              "        [1.30560576e-08, 8.81162123e-07, 1.11312435e-08, ...,\n",
              "         1.37378331e-08, 9.06219138e-05, 1.56138995e-08]],\n",
              "\n",
              "       ...,\n",
              "\n",
              "       [[6.46205010e-08, 1.53028864e-07, 6.13771149e-08, ...,\n",
              "         5.72713361e-08, 1.77143022e-07, 6.16501410e-08],\n",
              "        [7.93671906e-10, 2.81977492e-07, 9.88830240e-10, ...,\n",
              "         7.48322571e-10, 5.44378675e-09, 8.48298709e-10],\n",
              "        [1.22403465e-09, 1.07551642e-07, 1.29485944e-09, ...,\n",
              "         1.04791731e-09, 6.94941264e-05, 1.21179489e-09],\n",
              "        ...,\n",
              "        [4.76783990e-09, 2.05100989e-07, 4.16568957e-09, ...,\n",
              "         4.75246908e-09, 5.01653813e-06, 5.40101164e-09],\n",
              "        [4.81868945e-09, 2.28325604e-07, 4.23553637e-09, ...,\n",
              "         4.76494888e-09, 4.99691760e-06, 5.53924728e-09],\n",
              "        [4.67023975e-09, 2.16767120e-07, 4.12159062e-09, ...,\n",
              "         4.61464156e-09, 4.28708245e-06, 5.42475975e-09]],\n",
              "\n",
              "       [[6.14758688e-09, 3.35858857e-07, 5.48477130e-09, ...,\n",
              "         5.31570832e-09, 2.61511115e-08, 6.09548945e-09],\n",
              "        [8.11102741e-10, 6.13370219e-07, 9.99461847e-10, ...,\n",
              "         8.70073347e-10, 4.21130991e-10, 9.46681289e-10],\n",
              "        [1.07990452e-08, 9.95092364e-08, 1.23451587e-08, ...,\n",
              "         1.09951426e-08, 3.71705546e-08, 1.24326132e-08],\n",
              "        ...,\n",
              "        [9.08760089e-09, 6.68290852e-07, 7.71537145e-09, ...,\n",
              "         9.33303657e-09, 4.58593531e-05, 1.10449321e-08],\n",
              "        [9.65345404e-09, 8.69667701e-07, 8.17247425e-09, ...,\n",
              "         9.89229854e-09, 6.14336386e-05, 1.16544205e-08],\n",
              "        [1.14362786e-08, 1.27828639e-06, 9.67595604e-09, ...,\n",
              "         1.16470122e-08, 8.52238809e-05, 1.36747254e-08]],\n",
              "\n",
              "       [[2.79716605e-08, 2.26434622e-06, 2.80830150e-08, ...,\n",
              "         2.63333142e-08, 5.47775825e-09, 2.71909979e-08],\n",
              "        [1.25304140e-08, 1.66184236e-05, 1.34989016e-08, ...,\n",
              "         1.27697088e-08, 1.08678115e-07, 1.30621167e-08],\n",
              "        [1.31792888e-09, 1.46326408e-06, 1.42634526e-09, ...,\n",
              "         1.38019796e-09, 1.67819181e-07, 1.44213763e-09],\n",
              "        ...,\n",
              "        [6.70982159e-09, 5.21571167e-07, 5.73375392e-09, ...,\n",
              "         6.81431578e-09, 2.76263036e-05, 8.06561928e-09],\n",
              "        [7.79102916e-09, 5.95816005e-07, 6.65151312e-09, ...,\n",
              "         7.93563792e-09, 3.28107708e-05, 9.40301081e-09],\n",
              "        [8.66433503e-09, 6.34076457e-07, 7.37419681e-09, ...,\n",
              "         8.86302232e-09, 3.87836917e-05, 1.05038627e-08]]], dtype=float32)"
            ]
          },
          "metadata": {
            "tags": []
          },
          "execution_count": 40
        }
      ]
    },
    {
      "cell_type": "code",
      "metadata": {
        "id": "orKtftWeEC1D",
        "colab": {
          "base_uri": "https://localhost:8080/"
        },
        "outputId": "79d4033f-18f2-45b2-db23-889b85e4706a"
      },
      "source": [
        "# greedy decoding\n",
        "y_pred_class = tf.argmax(y_pred, axis=-1).numpy()\n",
        "y_pred_class"
      ],
      "execution_count": null,
      "outputs": [
        {
          "output_type": "execute_result",
          "data": {
            "text/plain": [
              "array([[ 1025,    19,   345, ...,  2944,  2944, 26829],\n",
              "       [  423,    15,   976, ...,  2944,  2944,  2944],\n",
              "       [ 1232,    18,  8244, ..., 26829, 26829,     9],\n",
              "       ...,\n",
              "       [  983,    20,   506, ...,  2944,  2944,  2944],\n",
              "       [   10,    20,  2489, ...,  2944,  2944,  2944],\n",
              "       [ 2944,  4853,  1316, ..., 26829, 26829,  2944]])"
            ]
          },
          "metadata": {
            "tags": []
          },
          "execution_count": 41
        }
      ]
    },
    {
      "cell_type": "code",
      "metadata": {
        "id": "8P4G0HorEC1D",
        "colab": {
          "base_uri": "https://localhost:8080/"
        },
        "outputId": "291a3901-4713-4a15-e2b4-79030320a744"
      },
      "source": [
        "candidates = []\n",
        "for row in y_pred_class:\n",
        "    ids = []\n",
        "    for i in row:\n",
        "        if i == vocab.eos_id():\n",
        "            break\n",
        "        ids.append(int(i))\n",
        "    string = vocab.id_to_piece(ids)\n",
        "    candidates.append(string)\n",
        "candidates"
      ],
      "execution_count": null,
      "outputs": [
        {
          "output_type": "execute_result",
          "data": {
            "text/plain": [
              "[['▁저', '가', '▁또', '▁가네', '요', '.'],\n",
              " ['▁잘', '를', '▁드', '립', '니다', '.'],\n",
              " ['▁좋은', '은', '▁언제나', '▁좋', '죠', '.'],\n",
              " ['▁좋은', '은', '▁언제나', '▁좋', '죠', '.'],\n",
              " ['▁좋은', '을', '▁', '찌', '푸', '려', '지', '죠', '.'],\n",
              " ['▁', '▁아침', '▁사는', '▁게', '▁있어', '▁편', '해', '요', '.'],\n",
              " ['▁', '▁아침', '▁사는', '▁게', '▁있어', '▁편', '해', '요', '.'],\n",
              " ['▁먼저', '하고', '▁있을', '▁수도', '▁있어', '요', '.'],\n",
              " ['▁그런', '▁정하고', '▁해', '보', '세요', '.'],\n",
              " ['▁그런', '▁정하고', '▁해', '보', '세요', '.'],\n",
              " ['▁', '▁자리', '니까', '요', '.'],\n",
              " ['▁', '게', '▁당신', '▁거', '예', '요', '.'],\n",
              " ['▁', '▁사람', '▁당신', '▁거', '예', '요', '.'],\n",
              " ['▁', '만', '▁즐기', '세요', '.'],\n",
              " ['▁좋은', '은', '▁다시', '▁들어올', '▁거', '예', '요', '.'],\n",
              " ['▁좋은', '을', '▁식', '혀', '주', '세요', '.'],\n",
              " ['▁', '괜', '▁따', '잊', '고', '▁새', '출', '발', '▁하', '세요', '.'],\n",
              " ['▁', '▁집에', '▁돌아가', '서', '▁끄', '고', '▁나오', '세요', '.'],\n",
              " ['▁', '▁집에', '▁돌아가', '서', '▁끄', '고', '▁나오', '세요', '.'],\n",
              " ['▁저', '에는', '에는', '▁더', '▁절약', '해', '봐', '요', '.'],\n",
              " ['▁좋은', '게', '▁사', '세요', '!'],\n",
              " ['▁저', '에는', '에는', '▁더', '▁절약', '해', '봐', '요', '.'],\n",
              " ['▁사랑', '▁', '확실한', '▁시간', '은', '▁오늘', '이', '에', '요', '.'],\n",
              " ['▁좋은', '▁가족이', '▁모두', '▁마음에', '▁드는', '▁곳으로', '▁가', '보', '세요', '.'],\n",
              " ['▁잘', '▁가족이', '▁모두', '▁마음에', '▁드는', '▁곳으로', '▁가', '보', '세요', '.'],\n",
              " ['▁좋은', '▁가족이', '▁모두', '▁마음에', '▁드는', '▁곳으로', '▁가', '보', '세요', '.'],\n",
              " ['▁저',\n",
              "  '도',\n",
              "  '▁만들어',\n",
              "  '▁준',\n",
              "  '▁사람',\n",
              "  '을',\n",
              "  '▁부모님',\n",
              "  ',',\n",
              "  '▁저',\n",
              "  '랑',\n",
              "  '▁이야기',\n",
              "  '해',\n",
              "  '▁주는',\n",
              "  '▁사람',\n",
              "  '을',\n",
              "  '▁친구',\n",
              "  '로',\n",
              "  '▁생각하고',\n",
              "  '▁있어',\n",
              "  '요'],\n",
              " ['▁저',\n",
              "  '도',\n",
              "  '▁만들어',\n",
              "  '▁준',\n",
              "  '▁사람',\n",
              "  '을',\n",
              "  '▁부모님',\n",
              "  ',',\n",
              "  '▁저',\n",
              "  '랑',\n",
              "  '▁이야기',\n",
              "  '해',\n",
              "  '▁주는',\n",
              "  '▁사람',\n",
              "  '을',\n",
              "  '▁친구',\n",
              "  '로',\n",
              "  '▁생각하고',\n",
              "  '▁있어',\n",
              "  '요'],\n",
              " ['▁좋은', '▁좋은', '질', '▁기회', '가', '▁되', '겠', '네', '요', '.'],\n",
              " ['▁좋은', '도', '▁딸', '!'],\n",
              " ['▁좋은',\n",
              "  '▁잘',\n",
              "  '▁바',\n",
              "  '빠',\n",
              "  '서',\n",
              "  '▁이야기',\n",
              "  '할',\n",
              "  '▁시간이',\n",
              "  '▁부족',\n",
              "  '했',\n",
              "  '나',\n",
              "  '봐',\n",
              "  '요',\n",
              "  '.'],\n",
              " ['▁좋은',\n",
              "  '▁잘',\n",
              "  '▁바',\n",
              "  '빠',\n",
              "  '서',\n",
              "  '▁이야기',\n",
              "  '할',\n",
              "  '▁시간이',\n",
              "  '▁부족',\n",
              "  '했',\n",
              "  '나',\n",
              "  '봐',\n",
              "  '요',\n",
              "  '.'],\n",
              " ['▁좋은', '▁가족이', '▁모두', '▁마음에', '▁드는', '▁곳으로', '▁가', '보', '세요', '.'],\n",
              " ['▁좋은', '▁생각이', '에', '요', '.'],\n",
              " ['▁좋은', '▁좋은', '질', '▁기회', '가', '▁되', '겠', '네', '요', '.'],\n",
              " ['▁좋은',\n",
              "  '도',\n",
              "  '▁만들어',\n",
              "  '▁준',\n",
              "  '▁사람',\n",
              "  '을',\n",
              "  '▁부모님',\n",
              "  ',',\n",
              "  '▁저',\n",
              "  '랑',\n",
              "  '▁이야기',\n",
              "  '해',\n",
              "  '▁주는',\n",
              "  '▁사람',\n",
              "  '을',\n",
              "  '▁친구',\n",
              "  '로',\n",
              "  '▁생각하고',\n",
              "  '▁있어',\n",
              "  '요'],\n",
              " ['▁좋은', '▁생각이', '에', '요', '.'],\n",
              " ['▁잘', '▁섭', '회', '할', '▁습관', '이', '에', '요', '.'],\n",
              " ['▁사랑', '뎌', '한', '▁결정', '을', '▁내리', '지', '▁마', '세요', '.'],\n",
              " ['▁', '도', '▁기관', '에', '▁연락', '해', '보', '세요', '.'],\n",
              " ['▁좋은', '리는', '▁감정', '은', '▁다', '▁자체', '로', '▁소중', '해', '요', '.'],\n",
              " ['▁저', '템', '했', '길', '▁바라', '요', '.'],\n",
              " ['▁저', '도', '▁필요', '하', '죠', '.'],\n",
              " ['▁좋은', '수가', '으로', '▁두', '▁개', '▁사는', '게', '▁진리', '죠', '.'],\n",
              " ['▁잘', '수가', '으로', '▁두', '▁개', '▁사는', '게', '▁진리', '죠', '.'],\n",
              " ['▁좋은', '있게', '▁드', '세요', '.'],\n",
              " ['▁맛', '도', '요', '요', '.'],\n",
              " ['▁좋은', '세요', '.'],\n",
              " ['▁좋은', '세요', '.'],\n",
              " ['▁맛', '있게', '▁드', '세요', '.'],\n",
              " ['▁좋은', '있게', '▁드', '세요', '.'],\n",
              " ['▁저', '가', '세요', '.'],\n",
              " ['▁잘', '젠', '▁때', '▁잘', '▁쉬', '는', '▁게', '▁중요', '해', '요', '.'],\n",
              " ['▁잘', '젠', '▁때', '▁잘', '▁쉬', '는', '▁게', '▁중요', '해', '요', '.'],\n",
              " ['▁저', '별', '▁때', '▁잘', '▁쉬', '는', '▁게', '▁중요', '해', '요', '.'],\n",
              " ['▁맛', '게', '▁드', '하', '세요', '.'],\n",
              " ['▁저', '가', '세요', '.'],\n",
              " ['▁저', '가', '세요', '.'],\n",
              " ['▁좋은', '도', '▁듣고', '▁싶어', '싶', '네', '요', '.'],\n",
              " ['▁사람', '을', '▁위한', '▁사랑', '해', '주', '세요', '.'],\n",
              " ['▁그', '게', '▁아닐', '이', '에', '요', '.'],\n",
              " ['▁그', '게', '▁아닐', '이', '에', '요', '.'],\n",
              " ['▁', '괜', '▁집', '어서', '▁물어', '보', '세요', '.'],\n",
              " ['▁좋은', '▁생각이', '만', '▁하', '세요', '.'],\n",
              " ['▁더', '▁복잡', '픈', '가', '요', '.'],\n",
              " ['▁직접', '웠', '나', '봐', '요', '.'],\n",
              " ['▁이', '의', '▁개선', '가', '▁왔', '나', '봅', '니다', '.'],\n",
              " ['▁좋은', '부터', '초', '가', '▁중요', '해', '요', '.'],\n",
              " ['▁맛', '질', '▁수', '▁있을', '▁때', '▁키워', '▁보', '세요', '.'],\n",
              " ['▁잘', '▁생활', '패', '턴', '을', '▁살펴', '▁보', '세요', '.'],\n",
              " ['▁맛', '▁말', '패', '턴', '을', '▁살펴', '▁보', '세요', '.'],\n",
              " ['▁맛', '질', '▁수', '▁있을', '▁때', '▁키워', '▁보', '세요', '.'],\n",
              " ['▁좋은', '▁곳이', '죠', '.'],\n",
              " ['▁저', '갈', '▁것도', '▁없', '죠', '.'],\n",
              " ['▁', '도', '▁함께', '요', '.'],\n",
              " ['▁',\n",
              "  '은',\n",
              "  '▁살',\n",
              "  '쪄',\n",
              "  '도',\n",
              "  '▁잘',\n",
              "  '▁알아차리',\n",
              "  '지',\n",
              "  '▁못하고',\n",
              "  '▁알아',\n",
              "  '차',\n",
              "  '려',\n",
              "  '도',\n",
              "  '▁싫어하',\n",
              "  '지',\n",
              "  '▁않을',\n",
              "  '▁거',\n",
              "  '예',\n",
              "  '요',\n",
              "  '.'],\n",
              " ['▁좋은', '운', '▁시간', '▁보내고', '▁오', '세요', '!'],\n",
              " ['▁그', '질', '▁끌', '지', '▁마', '세요', '.'],\n",
              " ['▁직접', '보', '세요', '.'],\n",
              " ['▁잘', '한', '▁더', '를', '▁더', '▁많이', '▁알게', '▁될', '▁거', '예', '요', '.'],\n",
              " ['▁좋은', '해', '보', '세요', '.'],\n",
              " ['▁좋은', '해', '보', '세요', '.'],\n",
              " ['▁저', '▁끝나', '학', '이', '예', '요', '.'],\n",
              " ['▁이', '학', '이', '▁참', '▁', '짧', '죠', '.'],\n",
              " ['▁저', '는', '▁게', '▁좋', '겠', '네', '요', '.'],\n",
              " ['▁', '는', '▁게', '▁좋', '겠', '네', '요', '.'],\n",
              " ['▁좋은', '수', '하고', '▁오', '세요', '.'],\n",
              " ['▁그', '게', '▁최고', '▁중요한', '▁건', '데', '요', '.'],\n",
              " ['▁좋은', '게', '▁제일', '▁중요한', '▁건', '데', '요', '.'],\n",
              " ['▁좋은', '에는', '▁더', '▁많이', '▁아', '세요', '.'],\n",
              " ['▁', '웠', '나', '봐', '요', '.'],\n",
              " ['▁사랑', '적인', '▁', '일부터', '▁하', '세요', '.'],\n",
              " ['▁사랑', '적인', '▁', '일부터', '▁하', '세요', '.'],\n",
              " ['▁저', '잠', '을', '▁잠깐', '▁자', '도', '▁', '괜', '찮', '아', '요', '.'],\n",
              " ['▁저', '도', '▁듣고', '해', '주', '세요', '.'],\n",
              " ['▁이', '이', '▁보고', '싶', '었', '나', '봐', '요', '.'],\n",
              " ['▁저', '▁만나', '지', '▁마', '세요', '.'],\n",
              " ['▁의미', '이', '요', '.'],\n",
              " ['▁', '이', '▁운', '을', '▁믿어', '보', '세요', '.'],\n",
              " ['▁그런', '▁못하는', '▁사람이', '▁있으면', '▁옆에', '▁있는', '▁사람이', '▁더', '▁힘들', '죠', '.']]"
            ]
          },
          "metadata": {
            "tags": []
          },
          "execution_count": 42
        }
      ]
    },
    {
      "cell_type": "code",
      "metadata": {
        "colab": {
          "base_uri": "https://localhost:8080/"
        },
        "id": "4ppKgAprEC1E",
        "outputId": "31f80406-9b14-46be-96bc-4b551abbd7d8"
      },
      "source": [
        "bleu_scores = []\n",
        "for reference, candidate in zip(references, candidates):\n",
        "    bleu_score = bleu.sentence_bleu([reference], candidate)\n",
        "    bleu_scores.append(bleu_score)\n",
        "    print(bleu_score, \":\", reference, \"/\", candidate)\n",
        "np.mean(bleu_scores)"
      ],
      "execution_count": null,
      "outputs": [
        {
          "output_type": "stream",
          "text": [
            "0.7598356856515925 : ['▁하루', '가', '▁또', '▁가네', '요', '.'] / ['▁저', '가', '▁또', '▁가네', '요', '.']\n",
            "0.5081327481546147 : ['▁위로', '해', '▁드', '립', '니다', '.'] / ['▁잘', '를', '▁드', '립', '니다', '.']\n",
            "0.7598356856515925 : ['▁여행', '은', '▁언제나', '▁좋', '죠', '.'] / ['▁좋은', '은', '▁언제나', '▁좋', '죠', '.']\n",
            "0.7598356856515925 : ['▁여행', '은', '▁언제나', '▁좋', '죠', '.'] / ['▁좋은', '은', '▁언제나', '▁좋', '죠', '.']\n",
            "0.7259795291154771 : ['▁눈', '살이', '▁', '찌', '푸', '려', '지', '죠', '.'] / ['▁좋은', '을', '▁', '찌', '푸', '려', '지', '죠', '.']\n",
            "0.3549481056010053 : ['▁다시', '▁새로', '▁사는', '▁게', '▁마음', '▁편', '해', '요', '.'] / ['▁', '▁아침', '▁사는', '▁게', '▁있어', '▁편', '해', '요', '.']\n",
            "0.3549481056010053 : ['▁다시', '▁새로', '▁사는', '▁게', '▁마음', '▁편', '해', '요', '.'] / ['▁', '▁아침', '▁사는', '▁게', '▁있어', '▁편', '해', '요', '.']\n",
            "0.6147881529512643 : ['▁잘', '▁모르고', '▁있을', '▁수도', '▁있어', '요', '.'] / ['▁먼저', '하고', '▁있을', '▁수도', '▁있어', '요', '.']\n",
            "0.7598356856515925 : ['▁시간을', '▁정하고', '▁해', '보', '세요', '.'] / ['▁그런', '▁정하고', '▁해', '보', '세요', '.']\n",
            "0.7598356856515925 : ['▁시간을', '▁정하고', '▁해', '보', '세요', '.'] / ['▁그런', '▁정하고', '▁해', '보', '세요', '.']\n",
            "0.668740304976422 : ['▁자랑하는', '▁자리', '니까', '요', '.'] / ['▁', '▁자리', '니까', '요', '.']\n",
            "0.41113361690051975 : ['▁그', '▁사람도', '▁그럴', '▁거', '예', '요', '.'] / ['▁', '게', '▁당신', '▁거', '예', '요', '.']\n",
            "0.41113361690051975 : ['▁그', '▁사람도', '▁그럴', '▁거', '예', '요', '.'] / ['▁', '▁사람', '▁당신', '▁거', '예', '요', '.']\n",
            "0.5623413251903491 : ['▁혼자', '를', '▁즐기', '세요', '.'] / ['▁', '만', '▁즐기', '세요', '.']\n",
            "0.8408964152537145 : ['▁돈', '은', '▁다시', '▁들어올', '▁거', '예', '요', '.'] / ['▁좋은', '은', '▁다시', '▁들어올', '▁거', '예', '요', '.']\n",
            "0.8091067115702212 : ['▁땀', '을', '▁식', '혀', '주', '세요', '.'] / ['▁좋은', '을', '▁식', '혀', '주', '세요', '.']\n",
            "0.6989307622784944 : ['▁', '어서', '▁', '잊', '고', '▁새', '출', '발', '▁하', '세요', '.'] / ['▁', '괜', '▁따', '잊', '고', '▁새', '출', '발', '▁하', '세요', '.']\n",
            "0.8633400213704505 : ['▁빨리', '▁집에', '▁돌아가', '서', '▁끄', '고', '▁나오', '세요', '.'] / ['▁', '▁집에', '▁돌아가', '서', '▁끄', '고', '▁나오', '세요', '.']\n",
            "0.8633400213704505 : ['▁빨리', '▁집에', '▁돌아가', '서', '▁끄', '고', '▁나오', '세요', '.'] / ['▁', '▁집에', '▁돌아가', '서', '▁끄', '고', '▁나오', '세요', '.']\n",
            "0.7259795291154771 : ['▁다음', '▁달', '에는', '▁더', '▁절약', '해', '봐', '요', '.'] / ['▁저', '에는', '에는', '▁더', '▁절약', '해', '봐', '요', '.']\n",
            "0.668740304976422 : ['▁따뜻하', '게', '▁사', '세요', '!'] / ['▁좋은', '게', '▁사', '세요', '!']\n",
            "0.7259795291154771 : ['▁다음', '▁달', '에는', '▁더', '▁절약', '해', '봐', '요', '.'] / ['▁저', '에는', '에는', '▁더', '▁절약', '해', '봐', '요', '.']\n",
            "0.2170328822226251 : ['▁가장', '▁', '확실한', '▁시간', '은', '▁오늘', '이', '에', '요', '.', '▁어', '제와', '▁내', '일', '을', '▁놓고', '▁고민', '하느라', '▁시간을', '▁낭비', '하지', '▁마', '세요', '.'] / ['▁사랑', '▁', '확실한', '▁시간', '은', '▁오늘', '이', '에', '요', '.']\n",
            "0.8801117367933934 : ['▁온', '▁가족이', '▁모두', '▁마음에', '▁드는', '▁곳으로', '▁가', '보', '세요', '.'] / ['▁좋은', '▁가족이', '▁모두', '▁마음에', '▁드는', '▁곳으로', '▁가', '보', '세요', '.']\n",
            "0.8801117367933934 : ['▁온', '▁가족이', '▁모두', '▁마음에', '▁드는', '▁곳으로', '▁가', '보', '세요', '.'] / ['▁잘', '▁가족이', '▁모두', '▁마음에', '▁드는', '▁곳으로', '▁가', '보', '세요', '.']\n",
            "0.8801117367933934 : ['▁온', '▁가족이', '▁모두', '▁마음에', '▁드는', '▁곳으로', '▁가', '보', '세요', '.'] / ['▁좋은', '▁가족이', '▁모두', '▁마음에', '▁드는', '▁곳으로', '▁가', '보', '세요', '.']\n",
            "0.9036020036098448 : ['▁저', '를', '▁만들어', '▁준', '▁사람', '을', '▁부모님', ',', '▁저', '랑', '▁이야기', '해', '▁주는', '▁사람', '을', '▁친구', '로', '▁생각하고', '▁있어', '요'] / ['▁저', '도', '▁만들어', '▁준', '▁사람', '을', '▁부모님', ',', '▁저', '랑', '▁이야기', '해', '▁주는', '▁사람', '을', '▁친구', '로', '▁생각하고', '▁있어', '요']\n",
            "0.9036020036098448 : ['▁저', '를', '▁만들어', '▁준', '▁사람', '을', '▁부모님', ',', '▁저', '랑', '▁이야기', '해', '▁주는', '▁사람', '을', '▁친구', '로', '▁생각하고', '▁있어', '요'] / ['▁저', '도', '▁만들어', '▁준', '▁사람', '을', '▁부모님', ',', '▁저', '랑', '▁이야기', '해', '▁주는', '▁사람', '을', '▁친구', '로', '▁생각하고', '▁있어', '요']\n",
            "0.7598356856515925 : ['▁더', '▁가까워', '질', '▁기회', '가', '▁되', '겠', '네', '요', '.'] / ['▁좋은', '▁좋은', '질', '▁기회', '가', '▁되', '겠', '네', '요', '.']\n",
            "0.7071067811865476 : ['▁저', '도', '요', '.'] / ['▁좋은', '도', '▁딸', '!']\n",
            "0.8385766789076257 : ['▁다', '들', '▁바', '빠', '서', '▁이야기', '할', '▁시간이', '▁부족', '했', '나', '봐', '요', '.'] / ['▁좋은', '▁잘', '▁바', '빠', '서', '▁이야기', '할', '▁시간이', '▁부족', '했', '나', '봐', '요', '.']\n",
            "0.8385766789076257 : ['▁다', '들', '▁바', '빠', '서', '▁이야기', '할', '▁시간이', '▁부족', '했', '나', '봐', '요', '.'] / ['▁좋은', '▁잘', '▁바', '빠', '서', '▁이야기', '할', '▁시간이', '▁부족', '했', '나', '봐', '요', '.']\n",
            "0.8801117367933934 : ['▁온', '▁가족이', '▁모두', '▁마음에', '▁드는', '▁곳으로', '▁가', '보', '세요', '.'] / ['▁좋은', '▁가족이', '▁모두', '▁마음에', '▁드는', '▁곳으로', '▁가', '보', '세요', '.']\n",
            "1.0 : ['▁좋은', '▁생각이', '에', '요', '.'] / ['▁좋은', '▁생각이', '에', '요', '.']\n",
            "0.7598356856515925 : ['▁더', '▁가까워', '질', '▁기회', '가', '▁되', '겠', '네', '요', '.'] / ['▁좋은', '▁좋은', '질', '▁기회', '가', '▁되', '겠', '네', '요', '.']\n",
            "0.8914703664390793 : ['▁저', '를', '▁만들어', '▁준', '▁사람', '을', '▁부모님', ',', '▁저', '랑', '▁이야기', '해', '▁주는', '▁사람', '을', '▁친구', '로', '▁생각하고', '▁있어', '요'] / ['▁좋은', '도', '▁만들어', '▁준', '▁사람', '을', '▁부모님', ',', '▁저', '랑', '▁이야기', '해', '▁주는', '▁사람', '을', '▁친구', '로', '▁생각하고', '▁있어', '요']\n",
            "1.0 : ['▁좋은', '▁생각이', '에', '요', '.'] / ['▁좋은', '▁생각이', '에', '요', '.']\n",
            "0.7259795291154771 : ['▁정말', '▁후', '회', '할', '▁습관', '이', '에', '요', '.'] / ['▁잘', '▁섭', '회', '할', '▁습관', '이', '에', '요', '.']\n",
            "0.7598356856515925 : ['▁무', '모', '한', '▁결정', '을', '▁내리', '지', '▁마', '세요', '.'] / ['▁사랑', '뎌', '한', '▁결정', '을', '▁내리', '지', '▁마', '세요', '.']\n",
            "0.7259795291154771 : ['▁선생님', '이나', '▁기관', '에', '▁연락', '해', '보', '세요', '.'] / ['▁', '도', '▁기관', '에', '▁연락', '해', '보', '세요', '.']\n",
            "0.587728372510532 : ['▁떨', '리는', '▁감정', '은', '▁그', '▁자체', '로', '▁소중', '해', '요', '.'] / ['▁좋은', '리는', '▁감정', '은', '▁다', '▁자체', '로', '▁소중', '해', '요', '.']\n",
            "0.8091067115702212 : ['▁득', '템', '했', '길', '▁바라', '요', '.'] / ['▁저', '템', '했', '길', '▁바라', '요', '.']\n",
            "0.7598356856515925 : ['▁휴식', '도', '▁필요', '하', '죠', '.'] / ['▁저', '도', '▁필요', '하', '죠', '.']\n",
            "0.7598356856515925 : ['▁단', '짠', '으로', '▁두', '▁개', '▁사는', '게', '▁진리', '죠', '.'] / ['▁좋은', '수가', '으로', '▁두', '▁개', '▁사는', '게', '▁진리', '죠', '.']\n",
            "0.7598356856515925 : ['▁단', '짠', '으로', '▁두', '▁개', '▁사는', '게', '▁진리', '죠', '.'] / ['▁잘', '수가', '으로', '▁두', '▁개', '▁사는', '게', '▁진리', '죠', '.']\n",
            "0.668740304976422 : ['▁맛', '있게', '▁드', '세요', '.'] / ['▁좋은', '있게', '▁드', '세요', '.']\n",
            "0.6223329772884784 : ['▁저', '도', '▁싫어', '요', '.'] / ['▁맛', '도', '요', '요', '.']\n",
            "0.7598356856515925 : ['▁가', '세요', '.'] / ['▁좋은', '세요', '.']\n",
            "0.7598356856515925 : ['▁가', '세요', '.'] / ['▁좋은', '세요', '.']\n",
            "1.0 : ['▁맛', '있게', '▁드', '세요', '.'] / ['▁맛', '있게', '▁드', '세요', '.']\n",
            "0.668740304976422 : ['▁맛', '있게', '▁드', '세요', '.'] / ['▁좋은', '있게', '▁드', '세요', '.']\n",
            "0.7071067811865476 : ['▁병원', '가', '세요', '.'] / ['▁저', '가', '세요', '.']\n",
            "0.7860753021519787 : ['▁이', '럴', '▁때', '▁잘', '▁쉬', '는', '▁게', '▁중요', '해', '요', '.'] / ['▁잘', '젠', '▁때', '▁잘', '▁쉬', '는', '▁게', '▁중요', '해', '요', '.']\n",
            "0.7860753021519787 : ['▁이', '럴', '▁때', '▁잘', '▁쉬', '는', '▁게', '▁중요', '해', '요', '.'] / ['▁잘', '젠', '▁때', '▁잘', '▁쉬', '는', '▁게', '▁중요', '해', '요', '.']\n",
            "0.7860753021519787 : ['▁이', '럴', '▁때', '▁잘', '▁쉬', '는', '▁게', '▁중요', '해', '요', '.'] / ['▁저', '별', '▁때', '▁잘', '▁쉬', '는', '▁게', '▁중요', '해', '요', '.']\n",
            "0.5081327481546147 : ['▁따뜻하', '게', '▁관리', '하', '세요', '.'] / ['▁맛', '게', '▁드', '하', '세요', '.']\n",
            "0.7071067811865476 : ['▁병원', '가', '세요', '.'] / ['▁저', '가', '세요', '.']\n",
            "0.7071067811865476 : ['▁병원', '가', '세요', '.'] / ['▁저', '가', '세요', '.']\n",
            "0.4111336169005197 : ['▁저', '도', '▁듣고', '▁', '싶', '네', '요', '.'] / ['▁좋은', '도', '▁듣고', '▁싶어', '싶', '네', '요', '.']\n",
            "0.5410822690539396 : ['▁자신', '을', '▁더', '▁사랑', '해', '주', '세요', '.'] / ['▁사람', '을', '▁위한', '▁사랑', '해', '주', '세요', '.']\n",
            "0.4347208719449914 : ['▁그', '건', '▁습관', '이', '에', '요', '.'] / ['▁그', '게', '▁아닐', '이', '에', '요', '.']\n",
            "0.4347208719449914 : ['▁그', '건', '▁습관', '이', '에', '요', '.'] / ['▁그', '게', '▁아닐', '이', '에', '요', '.']\n",
            "0.7071067811865475 : ['▁', '콕', '▁집', '어서', '▁물어', '보', '세요', '.'] / ['▁', '괜', '▁집', '어서', '▁물어', '보', '세요', '.']\n",
            "0.537284965911771 : ['▁좋은', '▁생각', '만', '▁하', '세요', '.'] / ['▁좋은', '▁생각이', '만', '▁하', '세요', '.']\n",
            "0.5081327481546147 : ['▁마음이', '▁아', '픈', '가', '요', '.'] / ['▁더', '▁복잡', '픈', '가', '요', '.']\n",
            "0.7598356856515925 : ['▁갑작스러', '웠', '나', '봐', '요', '.'] / ['▁직접', '웠', '나', '봐', '요', '.']\n",
            "0.6104735835807844 : ['▁관계', '의', '▁변화', '가', '▁왔', '나', '봅', '니다', '.'] / ['▁이', '의', '▁개선', '가', '▁왔', '나', '봅', '니다', '.']\n",
            "0.19493068205878689 : ['▁처음', '▁3', '초', '가', '▁중요', '해', '요', '.', '▁당신', '의', '▁매력', '을', '▁어', '필', '해', '보', '세요', '.'] / ['▁좋은', '부터', '초', '가', '▁중요', '해', '요', '.']\n",
            "0.8633400213704505 : ['▁책임', '질', '▁수', '▁있을', '▁때', '▁키워', '▁보', '세요', '.'] / ['▁맛', '질', '▁수', '▁있을', '▁때', '▁키워', '▁보', '세요', '.']\n",
            "0.8633400213704505 : ['▁먼저', '▁생활', '패', '턴', '을', '▁살펴', '▁보', '세요', '.'] / ['▁잘', '▁생활', '패', '턴', '을', '▁살펴', '▁보', '세요', '.']\n",
            "0.7259795291154771 : ['▁먼저', '▁생활', '패', '턴', '을', '▁살펴', '▁보', '세요', '.'] / ['▁맛', '▁말', '패', '턴', '을', '▁살펴', '▁보', '세요', '.']\n",
            "0.8633400213704505 : ['▁책임', '질', '▁수', '▁있을', '▁때', '▁키워', '▁보', '세요', '.'] / ['▁맛', '질', '▁수', '▁있을', '▁때', '▁키워', '▁보', '세요', '.']\n",
            "0.7071067811865476 : ['▁아름다운', '▁곳이', '죠', '.'] / ['▁좋은', '▁곳이', '죠', '.']\n",
            "0.5081327481546147 : ['▁안', '▁될', '▁것도', '▁없', '죠', '.'] / ['▁저', '갈', '▁것도', '▁없', '죠', '.']\n",
            "0.6223329772884784 : ['▁혼자', '도', '▁좋아', '요', '.'] / ['▁', '도', '▁함께', '요', '.']\n",
            "0.9457416090031758 : ['▁연인', '은', '▁살', '쪄', '도', '▁잘', '▁알아차리', '지', '▁못하고', '▁알아', '차', '려', '도', '▁싫어하', '지', '▁않을', '▁거', '예', '요', '.'] / ['▁', '은', '▁살', '쪄', '도', '▁잘', '▁알아차리', '지', '▁못하고', '▁알아', '차', '려', '도', '▁싫어하', '지', '▁않을', '▁거', '예', '요', '.']\n",
            "0.8091067115702212 : ['▁즐거', '운', '▁시간', '▁보내고', '▁오', '세요', '!'] / ['▁좋은', '운', '▁시간', '▁보내고', '▁오', '세요', '!']\n",
            "0.8091067115702212 : ['▁질', '질', '▁끌', '지', '▁마', '세요', '.'] / ['▁그', '질', '▁끌', '지', '▁마', '세요', '.']\n",
            "0.7071067811865476 : ['▁말해', '보', '세요', '.'] / ['▁직접', '보', '세요', '.']\n",
            "0.7102992180127422 : ['▁함께', '하면', '▁서로', '를', '▁더', '▁많이', '▁알게', '▁될', '▁거', '예', '요', '.'] / ['▁잘', '한', '▁더', '를', '▁더', '▁많이', '▁알게', '▁될', '▁거', '예', '요', '.']\n",
            "0.668740304976422 : ['▁개시', '해', '보', '세요', '.'] / ['▁좋은', '해', '보', '세요', '.']\n",
            "0.668740304976422 : ['▁개시', '해', '보', '세요', '.'] / ['▁좋은', '해', '보', '세요', '.']\n",
            "0.6147881529512643 : ['▁곧', '▁방', '학', '이', '예', '요', '.'] / ['▁저', '▁끝나', '학', '이', '예', '요', '.']\n",
            "0.8408964152537145 : ['▁방', '학', '이', '▁참', '▁', '짧', '죠', '.'] / ['▁이', '학', '이', '▁참', '▁', '짧', '죠', '.']\n",
            "0.8408964152537145 : ['▁벗어나', '는', '▁게', '▁좋', '겠', '네', '요', '.'] / ['▁저', '는', '▁게', '▁좋', '겠', '네', '요', '.']\n",
            "0.8408964152537145 : ['▁벗어나', '는', '▁게', '▁좋', '겠', '네', '요', '.'] / ['▁', '는', '▁게', '▁좋', '겠', '네', '요', '.']\n",
            "0.7598356856515925 : ['▁세', '수', '하고', '▁오', '세요', '.'] / ['▁좋은', '수', '하고', '▁오', '세요', '.']\n",
            "0.5946035575013605 : ['▁그', '게', '▁제일', '▁중요한', '▁건', '데', '요', '.'] / ['▁그', '게', '▁최고', '▁중요한', '▁건', '데', '요', '.']\n",
            "0.8408964152537145 : ['▁그', '게', '▁제일', '▁중요한', '▁건', '데', '요', '.'] / ['▁좋은', '게', '▁제일', '▁중요한', '▁건', '데', '요', '.']\n",
            "0.6147881529512643 : ['▁다음', '부터는', '▁더', '▁많이', '▁아', '세요', '.'] / ['▁좋은', '에는', '▁더', '▁많이', '▁아', '세요', '.']\n",
            "0.7598356856515925 : ['▁갑작스러', '웠', '나', '봐', '요', '.'] / ['▁', '웠', '나', '봐', '요', '.']\n",
            "0.8091067115702212 : ['▁공', '적인', '▁', '일부터', '▁하', '세요', '.'] / ['▁사랑', '적인', '▁', '일부터', '▁하', '세요', '.']\n",
            "0.8091067115702212 : ['▁공', '적인', '▁', '일부터', '▁하', '세요', '.'] / ['▁사랑', '적인', '▁', '일부터', '▁하', '세요', '.']\n",
            "0.9036020036098448 : ['▁낮', '잠', '을', '▁잠깐', '▁자', '도', '▁', '괜', '찮', '아', '요', '.'] / ['▁저', '잠', '을', '▁잠깐', '▁자', '도', '▁', '괜', '찮', '아', '요', '.']\n",
            "0.488923022434901 : ['▁저', '도', '▁좋아', '해', '주', '세요', '.'] / ['▁저', '도', '▁듣고', '해', '주', '세요', '.']\n",
            "0.8633400213704505 : ['▁친구들', '이', '▁보고', '싶', '었', '나', '봐', '요', '.'] / ['▁이', '이', '▁보고', '싶', '었', '나', '봐', '요', '.']\n",
            "0.7598356856515925 : ['▁되도록', '▁만나', '지', '▁마', '세요', '.'] / ['▁저', '▁만나', '지', '▁마', '세요', '.']\n",
            "0.7071067811865476 : ['▁당신', '이', '요', '.'] / ['▁의미', '이', '요', '.']\n",
            "0.6803749333171202 : ['▁당신', '의', '▁운', '을', '▁믿어', '보', '세요', '.'] / ['▁', '이', '▁운', '을', '▁믿어', '보', '세요', '.']\n",
            "0.8931539818068694 : ['▁일', '▁못하는', '▁사람이', '▁있으면', '▁옆에', '▁있는', '▁사람이', '▁더', '▁힘들', '죠', '.'] / ['▁그런', '▁못하는', '▁사람이', '▁있으면', '▁옆에', '▁있는', '▁사람이', '▁더', '▁힘들', '죠', '.']\n"
          ],
          "name": "stdout"
        },
        {
          "output_type": "stream",
          "text": [
            "/usr/local/lib/python3.7/dist-packages/nltk/translate/bleu_score.py:490: UserWarning: \n",
            "Corpus/Sentence contains 0 counts of 4-gram overlaps.\n",
            "BLEU scores might be undesirable; use SmoothingFunction().\n",
            "  warnings.warn(_msg)\n",
            "/usr/local/lib/python3.7/dist-packages/nltk/translate/bleu_score.py:490: UserWarning: \n",
            "Corpus/Sentence contains 0 counts of 2-gram overlaps.\n",
            "BLEU scores might be undesirable; use SmoothingFunction().\n",
            "  warnings.warn(_msg)\n",
            "/usr/local/lib/python3.7/dist-packages/nltk/translate/bleu_score.py:490: UserWarning: \n",
            "Corpus/Sentence contains 0 counts of 3-gram overlaps.\n",
            "BLEU scores might be undesirable; use SmoothingFunction().\n",
            "  warnings.warn(_msg)\n"
          ],
          "name": "stderr"
        },
        {
          "output_type": "execute_result",
          "data": {
            "text/plain": [
              "0.7153684634947307"
            ]
          },
          "metadata": {
            "tags": []
          },
          "execution_count": 43
        }
      ]
    },
    {
      "cell_type": "markdown",
      "metadata": {
        "id": "MWob-9sOEC1E"
      },
      "source": [
        "## 배포"
      ]
    },
    {
      "cell_type": "code",
      "metadata": {
        "id": "uVEoNdQqEC1E"
      },
      "source": [
        "model = build_model(args)\n",
        "model.load_weights(os.path.join(sychat_dir, \"lstm_dot.hdf5\"))"
      ],
      "execution_count": null,
      "outputs": []
    },
    {
      "cell_type": "code",
      "metadata": {
        "id": "_yKs49rOEC1E"
      },
      "source": [
        "def do_chat(vocab, model, n_dec_seq, string):\n",
        "    \"\"\"\n",
        "    seq2seq chat\n",
        "    :param vocab: vocab\n",
        "    :param model: model\n",
        "    :param n_dec_seq: number of dec seqence\n",
        "    :param string: inpust string\n",
        "    \"\"\"\n",
        "    # qeustion\n",
        "    q = vocab.encode_as_pieces(string)\n",
        "    q_id = [vocab.piece_to_id(p) for p in q]\n",
        "    q_id += [0] * (27 - len(q_id)) # pad를 넣어줌\n",
        "    #아 이게 학습할때는 padding까지 잘들어간 data로 학습을 했지만\n",
        "    # 실제 저희가 학습된 모델을 사용할때 들어간 q는 padding이 들어가지 않은 상태로 들어가서 이전에 없었던 패턴으로 인식해서 잘 안된상태라는 말씀이시죠?\n",
        "    \n",
        "    assert len(q_id) == 27\n",
        "    # answer\n",
        "    a_id = [vocab.bos_id()]\n",
        "\n",
        "    # 처음부터 예측\n",
        "    start_idx = 0\n",
        "\n",
        "    for _ in range(start_idx, n_dec_seq - 1):\n",
        "        # print(q_id)\n",
        "        # print(a_id)\n",
        "        outputs = model.predict((np.array([q_id]), np.array([a_id])))\n",
        "        prob = outputs[0][start_idx]\n",
        "        word_id = int(np.argmax(prob))\n",
        "        # print(word_id)\n",
        "        if word_id == vocab.eos_id():\n",
        "            break\n",
        "        a_id.append(word_id)\n",
        "        start_idx += 1\n",
        "    predict_id = a_id[1:start_idx + 1]\n",
        "    # print(predict_id)\n",
        "    predict_str = vocab.decode_ids(predict_id)\n",
        "    return predict_str"
      ],
      "execution_count": null,
      "outputs": []
    },
    {
      "cell_type": "code",
      "metadata": {
        "colab": {
          "base_uri": "https://localhost:8080/",
          "height": 35
        },
        "id": "MA2cow0_EC1E",
        "outputId": "88efae5a-4a69-4cbe-b8bf-5eb20661818c"
      },
      "source": [
        "string = '남에게 피해주지 않는 건 기본이죠.'\n",
        "do_chat(vocab, model, 40, string)"
      ],
      "execution_count": null,
      "outputs": [
        {
          "output_type": "execute_result",
          "data": {
            "application/vnd.google.colaboratory.intrinsic+json": {
              "type": "string"
            },
            "text/plain": [
              "'아무것도 안해도 재밌을 거예요.'"
            ]
          },
          "metadata": {
            "tags": []
          },
          "execution_count": 57
        }
      ]
    },
    {
      "cell_type": "code",
      "metadata": {
        "colab": {
          "base_uri": "https://localhost:8080/"
        },
        "id": "l0clPQylEC1E",
        "outputId": "f5dbb859-5366-4c09-9dbe-e42a6158157e"
      },
      "source": [
        "while True:\n",
        "    string = input('질문 > ')\n",
        "    string = string.strip()\n",
        "    if len(string) == 0:\n",
        "        break\n",
        "    predict_str = do_chat(vocab, model, 40, string)\n",
        "    print(f'답변 > {predict_str}')"
      ],
      "execution_count": null,
      "outputs": [
        {
          "output_type": "stream",
          "text": [
            "질문 > 안녕\n",
            "답변 > 제가 아직 많이 부족합니다.\n",
            "질문 > 무엇이 부족하니\n",
            "답변 > 그게 최고죠.\n",
            "질문 > 너는 누구니\n",
            "답변 > 괜찮아요.\n",
            "질문 > 뭐가 괜찮아?\n",
            "답변 > 연락해도 상관없지만 자신을 비하하지는 마세요.\n",
            "질문 > 무슨 말이야?\n",
            "답변 > 사랑은 따지는 게 아니고 다 주고도 더 주지 못해 미안해하는 거예요.\n",
            "질문 > 기분이 좋아\n",
            "답변 > 저도요!\n"
          ],
          "name": "stdout"
        }
      ]
    },
    {
      "cell_type": "code",
      "metadata": {
        "id": "H_OC7zJDLkGh"
      },
      "source": [
        ""
      ],
      "execution_count": null,
      "outputs": []
    }
  ]
}