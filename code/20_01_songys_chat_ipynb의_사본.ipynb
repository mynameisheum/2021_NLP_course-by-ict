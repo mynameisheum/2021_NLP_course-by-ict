{
  "nbformat": 4,
  "nbformat_minor": 0,
  "metadata": {
    "colab": {
      "name": "20-01-songys-chat.ipynb의 사본",
      "provenance": [],
      "collapsed_sections": [
        "6dfJPT-2XMTB",
        "e2AsK811dKKh",
        "ffFq5_Avbsq-"
      ]
    },
    "kernelspec": {
      "name": "python3",
      "display_name": "Python 3"
    },
    "language_info": {
      "name": "python"
    },
    "widgets": {
      "application/vnd.jupyter.widget-state+json": {
        "5dac6dfc4eda4df4a7e162dfbc41b0f9": {
          "model_module": "@jupyter-widgets/controls",
          "model_name": "HBoxModel",
          "state": {
            "_view_name": "HBoxView",
            "_dom_classes": [],
            "_model_name": "HBoxModel",
            "_view_module": "@jupyter-widgets/controls",
            "_model_module_version": "1.5.0",
            "_view_count": null,
            "_view_module_version": "1.5.0",
            "box_style": "",
            "layout": "IPY_MODEL_580fa261e3684773ad99ec5e76d822cd",
            "_model_module": "@jupyter-widgets/controls",
            "children": [
              "IPY_MODEL_b5475c2ec57e44b895fa8e1518d8beb7",
              "IPY_MODEL_e55333c6040442a692a2fa752f780c0e"
            ]
          }
        },
        "580fa261e3684773ad99ec5e76d822cd": {
          "model_module": "@jupyter-widgets/base",
          "model_name": "LayoutModel",
          "state": {
            "_view_name": "LayoutView",
            "grid_template_rows": null,
            "right": null,
            "justify_content": null,
            "_view_module": "@jupyter-widgets/base",
            "overflow": null,
            "_model_module_version": "1.2.0",
            "_view_count": null,
            "flex_flow": null,
            "width": null,
            "min_width": null,
            "border": null,
            "align_items": null,
            "bottom": null,
            "_model_module": "@jupyter-widgets/base",
            "top": null,
            "grid_column": null,
            "overflow_y": null,
            "overflow_x": null,
            "grid_auto_flow": null,
            "grid_area": null,
            "grid_template_columns": null,
            "flex": null,
            "_model_name": "LayoutModel",
            "justify_items": null,
            "grid_row": null,
            "max_height": null,
            "align_content": null,
            "visibility": null,
            "align_self": null,
            "height": null,
            "min_height": null,
            "padding": null,
            "grid_auto_rows": null,
            "grid_gap": null,
            "max_width": null,
            "order": null,
            "_view_module_version": "1.2.0",
            "grid_template_areas": null,
            "object_position": null,
            "object_fit": null,
            "grid_auto_columns": null,
            "margin": null,
            "display": null,
            "left": null
          }
        },
        "b5475c2ec57e44b895fa8e1518d8beb7": {
          "model_module": "@jupyter-widgets/controls",
          "model_name": "FloatProgressModel",
          "state": {
            "_view_name": "ProgressView",
            "style": "IPY_MODEL_d19ffc420b47409a958849503d229310",
            "_dom_classes": [],
            "description": "100%",
            "_model_name": "FloatProgressModel",
            "bar_style": "success",
            "max": 10,
            "_view_module": "@jupyter-widgets/controls",
            "_model_module_version": "1.5.0",
            "value": 10,
            "_view_count": null,
            "_view_module_version": "1.5.0",
            "orientation": "horizontal",
            "min": 0,
            "description_tooltip": null,
            "_model_module": "@jupyter-widgets/controls",
            "layout": "IPY_MODEL_689c31de99c849eb916553a89e40c374"
          }
        },
        "e55333c6040442a692a2fa752f780c0e": {
          "model_module": "@jupyter-widgets/controls",
          "model_name": "HTMLModel",
          "state": {
            "_view_name": "HTMLView",
            "style": "IPY_MODEL_1c2fc262ff9d4a5f87128a66fcb324a1",
            "_dom_classes": [],
            "description": "",
            "_model_name": "HTMLModel",
            "placeholder": "​",
            "_view_module": "@jupyter-widgets/controls",
            "_model_module_version": "1.5.0",
            "value": " 10/10 [00:00&lt;00:00, 105.36it/s]",
            "_view_count": null,
            "_view_module_version": "1.5.0",
            "description_tooltip": null,
            "_model_module": "@jupyter-widgets/controls",
            "layout": "IPY_MODEL_f7a2ee6258484bac92d5ca02a6791e12"
          }
        },
        "d19ffc420b47409a958849503d229310": {
          "model_module": "@jupyter-widgets/controls",
          "model_name": "ProgressStyleModel",
          "state": {
            "_view_name": "StyleView",
            "_model_name": "ProgressStyleModel",
            "description_width": "initial",
            "_view_module": "@jupyter-widgets/base",
            "_model_module_version": "1.5.0",
            "_view_count": null,
            "_view_module_version": "1.2.0",
            "bar_color": null,
            "_model_module": "@jupyter-widgets/controls"
          }
        },
        "689c31de99c849eb916553a89e40c374": {
          "model_module": "@jupyter-widgets/base",
          "model_name": "LayoutModel",
          "state": {
            "_view_name": "LayoutView",
            "grid_template_rows": null,
            "right": null,
            "justify_content": null,
            "_view_module": "@jupyter-widgets/base",
            "overflow": null,
            "_model_module_version": "1.2.0",
            "_view_count": null,
            "flex_flow": null,
            "width": null,
            "min_width": null,
            "border": null,
            "align_items": null,
            "bottom": null,
            "_model_module": "@jupyter-widgets/base",
            "top": null,
            "grid_column": null,
            "overflow_y": null,
            "overflow_x": null,
            "grid_auto_flow": null,
            "grid_area": null,
            "grid_template_columns": null,
            "flex": null,
            "_model_name": "LayoutModel",
            "justify_items": null,
            "grid_row": null,
            "max_height": null,
            "align_content": null,
            "visibility": null,
            "align_self": null,
            "height": null,
            "min_height": null,
            "padding": null,
            "grid_auto_rows": null,
            "grid_gap": null,
            "max_width": null,
            "order": null,
            "_view_module_version": "1.2.0",
            "grid_template_areas": null,
            "object_position": null,
            "object_fit": null,
            "grid_auto_columns": null,
            "margin": null,
            "display": null,
            "left": null
          }
        },
        "1c2fc262ff9d4a5f87128a66fcb324a1": {
          "model_module": "@jupyter-widgets/controls",
          "model_name": "DescriptionStyleModel",
          "state": {
            "_view_name": "StyleView",
            "_model_name": "DescriptionStyleModel",
            "description_width": "",
            "_view_module": "@jupyter-widgets/base",
            "_model_module_version": "1.5.0",
            "_view_count": null,
            "_view_module_version": "1.2.0",
            "_model_module": "@jupyter-widgets/controls"
          }
        },
        "f7a2ee6258484bac92d5ca02a6791e12": {
          "model_module": "@jupyter-widgets/base",
          "model_name": "LayoutModel",
          "state": {
            "_view_name": "LayoutView",
            "grid_template_rows": null,
            "right": null,
            "justify_content": null,
            "_view_module": "@jupyter-widgets/base",
            "overflow": null,
            "_model_module_version": "1.2.0",
            "_view_count": null,
            "flex_flow": null,
            "width": null,
            "min_width": null,
            "border": null,
            "align_items": null,
            "bottom": null,
            "_model_module": "@jupyter-widgets/base",
            "top": null,
            "grid_column": null,
            "overflow_y": null,
            "overflow_x": null,
            "grid_auto_flow": null,
            "grid_area": null,
            "grid_template_columns": null,
            "flex": null,
            "_model_name": "LayoutModel",
            "justify_items": null,
            "grid_row": null,
            "max_height": null,
            "align_content": null,
            "visibility": null,
            "align_self": null,
            "height": null,
            "min_height": null,
            "padding": null,
            "grid_auto_rows": null,
            "grid_gap": null,
            "max_width": null,
            "order": null,
            "_view_module_version": "1.2.0",
            "grid_template_areas": null,
            "object_position": null,
            "object_fit": null,
            "grid_auto_columns": null,
            "margin": null,
            "display": null,
            "left": null
          }
        }
      }
    }
  },
  "cells": [
    {
      "cell_type": "markdown",
      "metadata": {
        "id": "6dfJPT-2XMTB"
      },
      "source": [
        "# Install*"
      ]
    },
    {
      "cell_type": "code",
      "metadata": {
        "id": "a193aGJWVaqb",
        "colab": {
          "base_uri": "https://localhost:8080/"
        },
        "outputId": "857a168b-582e-41ad-a12a-099194b5ace6"
      },
      "source": [
        "# Tokenizer library 설치\n",
        "!pip install sentencepiece"
      ],
      "execution_count": null,
      "outputs": [
        {
          "output_type": "stream",
          "text": [
            "Collecting sentencepiece\n",
            "\u001b[?25l  Downloading https://files.pythonhosted.org/packages/f5/99/e0808cb947ba10f575839c43e8fafc9cc44e4a7a2c8f79c60db48220a577/sentencepiece-0.1.95-cp37-cp37m-manylinux2014_x86_64.whl (1.2MB)\n",
            "\u001b[K     |████████████████████████████████| 1.2MB 2.9MB/s \n",
            "\u001b[?25hInstalling collected packages: sentencepiece\n",
            "Successfully installed sentencepiece-0.1.95\n"
          ],
          "name": "stdout"
        }
      ]
    },
    {
      "cell_type": "markdown",
      "metadata": {
        "id": "JHkHg6XAXoyK"
      },
      "source": [
        "# Evn*"
      ]
    },
    {
      "cell_type": "code",
      "metadata": {
        "id": "WkYXFwcBXJDG"
      },
      "source": [
        "# imports\n",
        "import argparse\n",
        "import os\n",
        "import random\n",
        "import shutil\n",
        "import json\n",
        "import zipfile\n",
        "import math\n",
        "import copy\n",
        "\n",
        "import collections\n",
        "import re\n",
        "\n",
        "import matplotlib.pyplot as plt\n",
        "import pandas as pd\n",
        "import numpy as np\n",
        "import sentencepiece as spm\n",
        "import tensorflow as tf\n",
        "import tensorflow.keras.backend as K\n",
        "\n",
        "from tqdm.notebook import tqdm, trange"
      ],
      "execution_count": null,
      "outputs": []
    },
    {
      "cell_type": "code",
      "metadata": {
        "id": "BF-NLGZTGvTR",
        "colab": {
          "base_uri": "https://localhost:8080/"
        },
        "outputId": "a9e4a3e7-fc57-48f8-de9c-1304cbc381a8"
      },
      "source": [
        "# 환경 설정\n",
        "args = {\n",
        "    # random seed value\n",
        "    \"seed\": 1234\n",
        "}\n",
        "args = argparse.Namespace(**args)\n",
        "\n",
        "print(args)"
      ],
      "execution_count": null,
      "outputs": [
        {
          "output_type": "stream",
          "text": [
            "Namespace(seed=1234)\n"
          ],
          "name": "stdout"
        }
      ]
    },
    {
      "cell_type": "code",
      "metadata": {
        "id": "nvjyruUlXtlR"
      },
      "source": [
        "# random seed 설정\n",
        "random.seed(args.seed)\n",
        "np.random.seed(args.seed)\n",
        "tf.random.set_seed(args.seed)"
      ],
      "execution_count": null,
      "outputs": []
    },
    {
      "cell_type": "code",
      "metadata": {
        "id": "BC3fXkhdYcYt",
        "colab": {
          "base_uri": "https://localhost:8080/"
        },
        "outputId": "dc63781c-064c-41a6-f0fc-cd23982d5635"
      },
      "source": [
        "# gpu 사용량 확인\n",
        "!nvidia-smi"
      ],
      "execution_count": null,
      "outputs": [
        {
          "output_type": "stream",
          "text": [
            "NVIDIA-SMI has failed because it couldn't communicate with the NVIDIA driver. Make sure that the latest NVIDIA driver is installed and running.\n",
            "\n"
          ],
          "name": "stdout"
        }
      ]
    },
    {
      "cell_type": "code",
      "metadata": {
        "id": "xVRdxYReYeQj",
        "colab": {
          "base_uri": "https://localhost:8080/"
        },
        "outputId": "08d2001a-6dd1-4c32-85ef-7315ee068e6e"
      },
      "source": [
        "# google drive mount\n",
        "from google.colab import drive\n",
        "drive.mount('/content/drive')"
      ],
      "execution_count": null,
      "outputs": [
        {
          "output_type": "stream",
          "text": [
            "Mounted at /content/drive\n"
          ],
          "name": "stdout"
        }
      ]
    },
    {
      "cell_type": "code",
      "metadata": {
        "id": "byCIiLJBbFHh",
        "colab": {
          "base_uri": "https://localhost:8080/"
        },
        "outputId": "46f865d4-9d51-427d-db15-514506170614"
      },
      "source": [
        "# data dir\n",
        "# data_dir = '/content/drive/MyDrive/Data/nlp'\n",
        "data_dir = '/content/drive/MyDrive/ict-ai-복합고급언어-nlp/data'\n",
        "os.listdir(data_dir)"
      ],
      "execution_count": null,
      "outputs": [
        {
          "output_type": "execute_result",
          "data": {
            "text/plain": [
              "['data-20210420T111231Z-001.zip',\n",
              " 'kowiki',\n",
              " 'kowiki_32000.model',\n",
              " 'kowiki_32000.vocab',\n",
              " 'kowiki_mecab_32000.model',\n",
              " 'kowiki_mecab_32000.vocab',\n",
              " 'nsmc',\n",
              " 'question_pair',\n",
              " 'songys-chat']"
            ]
          },
          "metadata": {
            "tags": []
          },
          "execution_count": 7
        }
      ]
    },
    {
      "cell_type": "code",
      "metadata": {
        "colab": {
          "base_uri": "https://localhost:8080/"
        },
        "id": "Y_uejAndANVD",
        "outputId": "45e842aa-0af8-46aa-d3de-a60227eb4089"
      },
      "source": [
        "sychat_dir = os.path.join(data_dir, \"songys-chat\")\n",
        "if not os.path.isdir(sychat_dir):\n",
        "    os.makedirs(sychat_dir)\n",
        "os.listdir(sychat_dir)"
      ],
      "execution_count": null,
      "outputs": [
        {
          "output_type": "execute_result",
          "data": {
            "text/plain": [
              "['lstm.hdf5', 'lstm.csv', 'lstm_dot.csv', 'lstm_dot.hdf5']"
            ]
          },
          "metadata": {
            "tags": []
          },
          "execution_count": 8
        }
      ]
    },
    {
      "cell_type": "markdown",
      "metadata": {
        "id": "1toqkZBj4iqG"
      },
      "source": [
        "# Tutorial"
      ]
    },
    {
      "cell_type": "code",
      "metadata": {
        "id": "g3vPIEAW4g3Q"
      },
      "source": [
        "# 입력 문장\n",
        "sentences = [\n",
        "    ['나는 오늘 기분이 좋아', '네가 기분이 좋으니 나도 좋아'], # 앞은 사용자의 말, 뒤는 챗봇이 나와야되는말\n",
        "    ['나는 오늘 행복해', '나도 행복하다'],\n",
        "]"
      ],
      "execution_count": null,
      "outputs": []
    },
    {
      "cell_type": "code",
      "metadata": {
        "id": "jHEm99xa5IQa",
        "colab": {
          "base_uri": "https://localhost:8080/"
        },
        "outputId": "4313b420-3a13-41d1-df62-f07e6ed81427"
      },
      "source": [
        "# 각 문장을 띄어쓰기 단위로 분할\n",
        "words = []\n",
        "for pair in sentences:\n",
        "    for sentence in pair:\n",
        "        words.extend(sentence.split())\n",
        "print(words)\n",
        "\n",
        "# 중복 단어 제거\n",
        "words = list(dict.fromkeys(words))\n",
        "print(words)\n",
        "\n",
        "# 각 단어별 고유한 번호 부여\n",
        "word_to_id = {'[PAD]': 0, '[UNK]': 1, '[BOS]': 2, '[EOS]': 3}\n",
        "for word in words:\n",
        "    word_to_id[word] = len(word_to_id)\n",
        "print(word_to_id)\n",
        "print(word_to_id.items())\n",
        "# 각 숫자별 단어 부여\n",
        "id_to_word = {_id:word for word, _id in word_to_id.items()} # id하고 word를 ㄹ바꿔주는거지\n",
        "                                                            # dictionary로 바꿔주고\n",
        "print(id_to_word)\n",
        "\n",
        "\n",
        "# word_to_id, id_to_word"
      ],
      "execution_count": null,
      "outputs": [
        {
          "output_type": "stream",
          "text": [
            "['나는', '오늘', '기분이', '좋아', '네가', '기분이', '좋으니', '나도', '좋아', '나는', '오늘', '행복해', '나도', '행복하다']\n",
            "['나는', '오늘', '기분이', '좋아', '네가', '좋으니', '나도', '행복해', '행복하다']\n",
            "{'[PAD]': 0, '[UNK]': 1, '[BOS]': 2, '[EOS]': 3, '나는': 4, '오늘': 5, '기분이': 6, '좋아': 7, '네가': 8, '좋으니': 9, '나도': 10, '행복해': 11, '행복하다': 12}\n",
            "dict_items([('[PAD]', 0), ('[UNK]', 1), ('[BOS]', 2), ('[EOS]', 3), ('나는', 4), ('오늘', 5), ('기분이', 6), ('좋아', 7), ('네가', 8), ('좋으니', 9), ('나도', 10), ('행복해', 11), ('행복하다', 12)])\n",
            "{0: '[PAD]', 1: '[UNK]', 2: '[BOS]', 3: '[EOS]', 4: '나는', 5: '오늘', 6: '기분이', 7: '좋아', 8: '네가', 9: '좋으니', 10: '나도', 11: '행복해', 12: '행복하다'}\n"
          ],
          "name": "stdout"
        }
      ]
    },
    {
      "cell_type": "code",
      "metadata": {
        "id": "e1n4AkfH5O1F",
        "colab": {
          "base_uri": "https://localhost:8080/"
        },
        "outputId": "3e654b3e-0f60-48ed-8eeb-1f7a45f92b71"
      },
      "source": [
        "# train source, target 데이터 생성\n",
        "train_src_ids, tarin_tgt_ids = [], [] \n",
        "for pair in sentences:\n",
        "    # train_src_ids.append([word_to_id[word] for word in pair[0].split()])\n",
        "    train_src_ids.append([word for word in pair[0].split()])\n",
        "    # tarin_tgt_ids.append([word_to_id[word] for word in pair[1].split()])\n",
        "    tarin_tgt_ids.append([word for word in pair[1].split()])\n",
        "\n",
        "print(train_src_ids)\n",
        "print(tarin_tgt_ids)\n",
        "\n"
      ],
      "execution_count": null,
      "outputs": [
        {
          "output_type": "stream",
          "text": [
            "[['나는', '오늘', '기분이', '좋아'], ['나는', '오늘', '행복해']]\n",
            "[['네가', '기분이', '좋으니', '나도', '좋아'], ['나도', '행복하다']]\n"
          ],
          "name": "stdout"
        }
      ]
    },
    {
      "cell_type": "code",
      "metadata": {
        "colab": {
          "base_uri": "https://localhost:8080/"
        },
        "id": "MQ_mAfw2KqzL",
        "outputId": "1ce53d42-ad78-49f0-9df8-b3ff2cb4c37c"
      },
      "source": [
        "# 근데 학습은 숫자니까 숫자로 다시\n",
        "# train source, target 데이터 생성\n",
        "train_src_ids, tarin_tgt_ids = [], [] \n",
        "for pair in sentences:\n",
        "    train_src_ids.append([word_to_id[word] for word in pair[0].split()])\n",
        "    # train_src_ids.append([word for word in pair[0].split()])\n",
        "    tarin_tgt_ids.append([word_to_id[word] for word in pair[1].split()])\n",
        "    # tarin_tgt_ids.append([word for word in pair[1].split()])\n",
        "\n",
        "print(train_src_ids)\n",
        "print(tarin_tgt_ids)\n"
      ],
      "execution_count": null,
      "outputs": [
        {
          "output_type": "stream",
          "text": [
            "[[4, 5, 6, 7], [4, 5, 11]]\n",
            "[[8, 6, 9, 10, 7], [10, 12]]\n"
          ],
          "name": "stdout"
        }
      ]
    },
    {
      "cell_type": "code",
      "metadata": {
        "colab": {
          "base_uri": "https://localhost:8080/"
        },
        "id": "U-CMX8WjcLze",
        "outputId": "d009c47b-003e-45d0-b8b0-6b72af673660"
      },
      "source": [
        "# train enc_inputs, dec_inputs, dec_label 생성\n",
        "# encoder input, decoder input, decoder label 3개의 input이 필요\n",
        "\n",
        "train_enc_inputs, train_dec_inputs, train_dec_labels = [], [], []\n",
        "for source_id, target_id in zip(train_src_ids, tarin_tgt_ids):\n",
        "    train_enc_inputs.append(source_id)\n",
        "    train_dec_inputs.append([word_to_id['[BOS]']] + target_id) # decoder input에는 bos들어가야지\n",
        "    train_dec_labels.append(target_id + [word_to_id['[EOS]']]) # decodr output에는 eos 들어가고\n",
        "train_enc_inputs, train_dec_inputs, train_dec_labels"
      ],
      "execution_count": null,
      "outputs": [
        {
          "output_type": "execute_result",
          "data": {
            "text/plain": [
              "([[4, 5, 6, 7], [4, 5, 11]],\n",
              " [[2, 8, 6, 9, 10, 7], [2, 10, 12]],\n",
              " [[8, 6, 9, 10, 7, 3], [10, 12, 3]])"
            ]
          },
          "metadata": {
            "tags": []
          },
          "execution_count": 13
        }
      ]
    },
    {
      "cell_type": "code",
      "metadata": {
        "id": "wfVjB9UVcjXQ",
        "colab": {
          "base_uri": "https://localhost:8080/"
        },
        "outputId": "4dd27c92-d77f-4ede-e1a5-45791c695dc4"
      },
      "source": [
        "# encoder의 길이는 달라도됨!\n",
        "# decoder만 고려! ( input, output)\n",
        "\n",
        "# 문장의 길이를 모두 동일하게 변경 (최대길이 4)\n",
        "for row in train_enc_inputs:\n",
        "    row += [0] * (4 - len(row))\n",
        "\n",
        "# 문장의 길이를 모두 동일하게 변경 (최대길이 6)\n",
        "for row in train_dec_inputs:\n",
        "    row += [0] * (6 - len(row))\n",
        "\n",
        "# 문장의 길이를 모두 동일하게 변경 (최대길이 6)\n",
        "for row in train_dec_labels:\n",
        "    row += [0] * (6 - len(row))\n",
        "\n",
        "train_enc_inputs, train_dec_inputs, train_dec_labels"
      ],
      "execution_count": null,
      "outputs": [
        {
          "output_type": "execute_result",
          "data": {
            "text/plain": [
              "([[4, 5, 6, 7], [4, 5, 11, 0]],\n",
              " [[2, 8, 6, 9, 10, 7], [2, 10, 12, 0, 0, 0]],\n",
              " [[8, 6, 9, 10, 7, 3], [10, 12, 3, 0, 0, 0]])"
            ]
          },
          "metadata": {
            "tags": []
          },
          "execution_count": 14
        }
      ]
    },
    {
      "cell_type": "code",
      "metadata": {
        "id": "oA9OvrUgc6p7",
        "colab": {
          "base_uri": "https://localhost:8080/"
        },
        "outputId": "99da63db-a896-4383-e028-54a804cfa79d"
      },
      "source": [
        "# numpy array로 변환\n",
        "train_enc_inputs = np.array(train_enc_inputs)\n",
        "train_dec_inputs = np.array(train_dec_inputs)\n",
        "train_dec_labels = np.array(train_dec_labels)\n",
        "\n",
        "train_enc_inputs, train_dec_inputs, train_dec_labels"
      ],
      "execution_count": null,
      "outputs": [
        {
          "output_type": "execute_result",
          "data": {
            "text/plain": [
              "(array([[ 4,  5,  6,  7],\n",
              "        [ 4,  5, 11,  0]]), array([[ 2,  8,  6,  9, 10,  7],\n",
              "        [ 2, 10, 12,  0,  0,  0]]), array([[ 8,  6,  9, 10,  7,  3],\n",
              "        [10, 12,  3,  0,  0,  0]]))"
            ]
          },
          "metadata": {
            "tags": []
          },
          "execution_count": 15
        }
      ]
    },
    {
      "cell_type": "code",
      "metadata": {
        "id": "pLGUCemf5Uvl"
      },
      "source": [
        "# 단어를 벡터로 변환\n",
        "embedding = tf.keras.layers.Embedding(len(word_to_id), 4) # hiddens layer의 size가 4인거지"
      ],
      "execution_count": null,
      "outputs": []
    },
    {
      "cell_type": "code",
      "metadata": {
        "id": "Ly2MyblddKi2",
        "colab": {
          "base_uri": "https://localhost:8080/"
        },
        "outputId": "9c2fbbfa-6088-4e5b-d99b-d227913897d5"
      },
      "source": [
        "# encoder inputs 단어 벡터\n",
        "enc_hidden = embedding(train_enc_inputs)  # (bs, n_seq, 4)\n",
        "enc_hidden"
      ],
      "execution_count": null,
      "outputs": [
        {
          "output_type": "execute_result",
          "data": {
            "text/plain": [
              "<tf.Tensor: shape=(2, 4, 4), dtype=float32, numpy=\n",
              "array([[[ 0.04810704, -0.03535189,  0.04945729,  0.02813626],\n",
              "        [-0.02798697, -0.00110071,  0.0133124 ,  0.00637371],\n",
              "        [-0.00963336, -0.01013004,  0.01826939,  0.02741292],\n",
              "        [-0.00544795, -0.04431503, -0.02540476, -0.0194685 ]],\n",
              "\n",
              "       [[ 0.04810704, -0.03535189,  0.04945729,  0.02813626],\n",
              "        [-0.02798697, -0.00110071,  0.0133124 ,  0.00637371],\n",
              "        [ 0.01447895, -0.01838874,  0.04926274,  0.02590281],\n",
              "        [ 0.00380393, -0.01353813,  0.00816301, -0.02561716]]],\n",
              "      dtype=float32)>"
            ]
          },
          "metadata": {
            "tags": []
          },
          "execution_count": 17
        }
      ]
    },
    {
      "cell_type": "code",
      "metadata": {
        "id": "TcQ8_EhndZin"
      },
      "source": [
        "# encoder LSTM\n",
        "enc_lstm = tf.keras.layers.LSTM(units=5, return_state=True)\n",
        "\n",
        "# 마지막 lstm의 state를 뽑아야지!"
      ],
      "execution_count": null,
      "outputs": []
    },
    {
      "cell_type": "code",
      "metadata": {
        "id": "iDV8vPeTdubf",
        "colab": {
          "base_uri": "https://localhost:8080/"
        },
        "outputId": "b9cf7c5c-9ed4-43b7-b653-7e6110bfed44"
      },
      "source": [
        "# encoder LSTM 실행\n",
        "enc_hidden, enc_h_state, enc_c_state = enc_lstm(enc_hidden) # (bs,units),(bs,units),(bs,units)\n",
        "enc_hidden, enc_h_state, enc_c_state"
      ],
      "execution_count": null,
      "outputs": [
        {
          "output_type": "execute_result",
          "data": {
            "text/plain": [
              "(<tf.Tensor: shape=(2, 5), dtype=float32, numpy=\n",
              " array([[-0.00082123, -0.00522853, -0.0018438 , -0.00625095, -0.00216456],\n",
              "        [ 0.00559843, -0.00374473,  0.00191227, -0.00659619,  0.00712104]],\n",
              "       dtype=float32)>, <tf.Tensor: shape=(2, 5), dtype=float32, numpy=\n",
              " array([[-0.00082123, -0.00522853, -0.0018438 , -0.00625095, -0.00216456],\n",
              "        [ 0.00559843, -0.00374473,  0.00191227, -0.00659619,  0.00712104]],\n",
              "       dtype=float32)>, <tf.Tensor: shape=(2, 5), dtype=float32, numpy=\n",
              " array([[-0.00164527, -0.01057572, -0.00372739, -0.01243457, -0.00428837],\n",
              "        [ 0.01112364, -0.00752604,  0.00385827, -0.0132431 ,  0.01415311]],\n",
              "       dtype=float32)>)"
            ]
          },
          "metadata": {
            "tags": []
          },
          "execution_count": 19
        }
      ]
    },
    {
      "cell_type": "code",
      "metadata": {
        "id": "AN_tjE9PdOQ2",
        "colab": {
          "base_uri": "https://localhost:8080/"
        },
        "outputId": "644eec0a-3f48-47bb-e8d7-a4cfa1e916aa"
      },
      "source": [
        "# decoder inputs 단어 벡터도 embedding해야지!\n",
        "\n",
        "dec_hidden = embedding(train_dec_inputs)  # (bs, n_seq, 4) # (bs, decoder sequence , unit)\n",
        "dec_hidden"
      ],
      "execution_count": null,
      "outputs": [
        {
          "output_type": "execute_result",
          "data": {
            "text/plain": [
              "<tf.Tensor: shape=(2, 6, 4), dtype=float32, numpy=\n",
              "array([[[ 0.02788493,  0.00853021,  0.02688133, -0.00167429],\n",
              "        [-0.01826397, -0.03069841,  0.03251565,  0.00923193],\n",
              "        [-0.00963336, -0.01013004,  0.01826939,  0.02741292],\n",
              "        [-0.01256046,  0.0343336 , -0.02595751,  0.03221213],\n",
              "        [-0.03375109, -0.02327753, -0.00871272,  0.00912046],\n",
              "        [-0.00544795, -0.04431503, -0.02540476, -0.0194685 ]],\n",
              "\n",
              "       [[ 0.02788493,  0.00853021,  0.02688133, -0.00167429],\n",
              "        [-0.03375109, -0.02327753, -0.00871272,  0.00912046],\n",
              "        [-0.00891924, -0.02965369, -0.00554544, -0.04765527],\n",
              "        [ 0.00380393, -0.01353813,  0.00816301, -0.02561716],\n",
              "        [ 0.00380393, -0.01353813,  0.00816301, -0.02561716],\n",
              "        [ 0.00380393, -0.01353813,  0.00816301, -0.02561716]]],\n",
              "      dtype=float32)>"
            ]
          },
          "metadata": {
            "tags": []
          },
          "execution_count": 20
        }
      ]
    },
    {
      "cell_type": "code",
      "metadata": {
        "id": "DrmKRLFG5npM"
      },
      "source": [
        "# decoder LSTM\n",
        "dec_lstm = tf.keras.layers.LSTM(units=5, return_sequences=True)\n",
        "\n",
        "# 여기서는 각 단어에 대해서 output이랑 매칭을 해야지!\n",
        "# 그래서 이번엔s return_Sequences = True한거야!"
      ],
      "execution_count": null,
      "outputs": []
    },
    {
      "cell_type": "code",
      "metadata": {
        "id": "8NXITsbfd61w",
        "colab": {
          "base_uri": "https://localhost:8080/"
        },
        "outputId": "b19964b1-2e8e-4542-c552-fada7f5f3eb9"
      },
      "source": [
        "# decoder LSTM 실행\n",
        "dec_hidden = dec_lstm(dec_hidden, initial_state=[enc_h_state, enc_c_state]) # 초기값을 encoder의 hiddend이랑 cell의 state로 해준거지!\n",
        "dec_hidden"
      ],
      "execution_count": null,
      "outputs": [
        {
          "output_type": "execute_result",
          "data": {
            "text/plain": [
              "<tf.Tensor: shape=(2, 6, 5), dtype=float32, numpy=\n",
              "array([[[-0.00249466, -0.00307995, -0.00327494, -0.00725163,\n",
              "         -0.00462817],\n",
              "        [-0.00511247,  0.00286553, -0.00707264, -0.0032672 ,\n",
              "         -0.00169703],\n",
              "        [-0.00767548,  0.00277027, -0.00691308, -0.00053027,\n",
              "          0.00276191],\n",
              "        [-0.00805463, -0.00475023, -0.0011885 ,  0.00294018,\n",
              "          0.00863971],\n",
              "        [-0.00565409, -0.00261588, -0.00060706,  0.00615305,\n",
              "          0.01086101],\n",
              "        [ 0.00350298,  0.00040876,  0.00140416,  0.00345753,\n",
              "          0.0058279 ]],\n",
              "\n",
              "       [[ 0.00139186, -0.00246246,  0.00072242, -0.00765236,\n",
              "          0.00218469],\n",
              "        [ 0.00048451, -0.00028243,  0.00063642, -0.00177618,\n",
              "          0.00576928],\n",
              "        [ 0.00671119,  0.00474663, -0.00099277, -0.00274028,\n",
              "         -0.00089224],\n",
              "        [ 0.00684098,  0.0068049 , -0.00256293, -0.00404436,\n",
              "         -0.00430561],\n",
              "        [ 0.00700419,  0.00854143, -0.0040837 , -0.00513258,\n",
              "         -0.00682055],\n",
              "        [ 0.00714516,  0.0099637 , -0.00548327, -0.00603737,\n",
              "         -0.00864539]]], dtype=float32)>"
            ]
          },
          "metadata": {
            "tags": []
          },
          "execution_count": 22
        }
      ]
    },
    {
      "cell_type": "code",
      "metadata": {
        "id": "6aiBkFMk5YHg"
      },
      "source": [
        "# 다음단어 예측 layer\n",
        "linear = tf.keras.layers.Dense(len(word_to_id), activation=tf.nn.softmax)"
      ],
      "execution_count": null,
      "outputs": []
    },
    {
      "cell_type": "code",
      "metadata": {
        "id": "X2QV9om2eTjJ",
        "colab": {
          "base_uri": "https://localhost:8080/"
        },
        "outputId": "bcfa706f-eb05-498b-9bf6-7d69ff3dfffe"
      },
      "source": [
        "# 다음단어 예측 실행\n",
        "y_pred = linear(dec_hidden)\n",
        "y_pred\n",
        "# 다음 단어를 예측한 확률 분포를 나타낸거지"
      ],
      "execution_count": null,
      "outputs": [
        {
          "output_type": "execute_result",
          "data": {
            "text/plain": [
              "<tf.Tensor: shape=(2, 6, 13), dtype=float32, numpy=\n",
              "array([[[0.07716898, 0.07661305, 0.07664085, 0.07680578, 0.07687765,\n",
              "         0.07710789, 0.07645434, 0.07708682, 0.07674611, 0.07692434,\n",
              "         0.07732236, 0.07680716, 0.07744462],\n",
              "        [0.07708991, 0.07633257, 0.07666312, 0.07673548, 0.07697012,\n",
              "         0.07704493, 0.07661941, 0.07711019, 0.07692874, 0.07712539,\n",
              "         0.07735518, 0.07677006, 0.07725497],\n",
              "        [0.07718163, 0.07624134, 0.07670059, 0.07662452, 0.07713697,\n",
              "         0.07705553, 0.07661742, 0.0769958 , 0.07691862, 0.07714893,\n",
              "         0.07736775, 0.07677548, 0.07723553],\n",
              "        [0.07740643, 0.07661386, 0.07679015, 0.07650935, 0.07729886,\n",
              "         0.07711311, 0.07660066, 0.07663357, 0.07675718, 0.07688096,\n",
              "         0.07722329, 0.07688156, 0.077291  ],\n",
              "        [0.07727183, 0.07674201, 0.07694732, 0.07661077, 0.07727483,\n",
              "         0.07700405, 0.07685293, 0.07651459, 0.07691538, 0.07688915,\n",
              "         0.07700407, 0.07696856, 0.07700453],\n",
              "        [0.07687404, 0.0770582 , 0.07718701, 0.07705379, 0.07696061,\n",
              "         0.07680263, 0.07714467, 0.0766004 , 0.07710733, 0.0768804 ,\n",
              "         0.07661778, 0.07710159, 0.07661159]],\n",
              "\n",
              "       [[0.07706868, 0.07658818, 0.07706013, 0.07706939, 0.07703971,\n",
              "         0.07694644, 0.0765078 , 0.07688123, 0.07680626, 0.07697119,\n",
              "         0.07696158, 0.07699542, 0.07710407],\n",
              "        [0.07700936, 0.07667296, 0.07712987, 0.07700672, 0.07710489,\n",
              "         0.07688446, 0.07676916, 0.07675774, 0.07693086, 0.07699032,\n",
              "         0.07684501, 0.07702247, 0.07687613],\n",
              "        [0.07664645, 0.07686487, 0.07718278, 0.07729413, 0.07676027,\n",
              "         0.07673731, 0.07708789, 0.07692847, 0.07717467, 0.07704122,\n",
              "         0.07664732, 0.07705802, 0.07657663],\n",
              "        [0.07655963, 0.07680661, 0.07711063, 0.07732259, 0.07666997,\n",
              "         0.0767319 , 0.07710024, 0.07709409, 0.0771997 , 0.07710472,\n",
              "         0.07671147, 0.07700101, 0.07658747],\n",
              "        [0.07649691, 0.07674187, 0.07705601, 0.07734704, 0.07659836,\n",
              "         0.07672681, 0.07710601, 0.07721372, 0.07723175, 0.07715989,\n",
              "         0.07676461, 0.07696077, 0.07659625],\n",
              "        [0.07645371, 0.07667596, 0.07701413, 0.07736628, 0.07654327,\n",
              "         0.07672313, 0.07710557, 0.07729921, 0.07726461, 0.07720681,\n",
              "         0.07680972, 0.07693224, 0.07660536]]], dtype=float32)>"
            ]
          },
          "metadata": {
            "tags": []
          },
          "execution_count": 24
        }
      ]
    },
    {
      "cell_type": "code",
      "metadata": {
        "colab": {
          "base_uri": "https://localhost:8080/"
        },
        "id": "SA-gYi3SQA-v",
        "outputId": "1ce1265b-a4e9-43f0-9e93-b8b98cad69a8"
      },
      "source": [
        "train_dec_labels"
      ],
      "execution_count": null,
      "outputs": [
        {
          "output_type": "execute_result",
          "data": {
            "text/plain": [
              "array([[ 8,  6,  9, 10,  7,  3],\n",
              "       [10, 12,  3,  0,  0,  0]])"
            ]
          },
          "metadata": {
            "tags": []
          },
          "execution_count": 25
        }
      ]
    },
    {
      "cell_type": "code",
      "metadata": {
        "colab": {
          "base_uri": "https://localhost:8080/"
        },
        "id": "CO9GDq2m6Luc",
        "outputId": "2e5cad06-eafd-4334-f93c-a0acc38c89af"
      },
      "source": [
        "# CE loss\n",
        "tf.keras.losses.SparseCategoricalCrossentropy()(train_dec_labels, y_pred)\n",
        "\n",
        "# 실제 label을 one-hot-vector로 바꿔서 crossentropy까지 계산해주는걸 한번에 해주는거지"
      ],
      "execution_count": null,
      "outputs": [
        {
          "output_type": "execute_result",
          "data": {
            "text/plain": [
              "<tf.Tensor: shape=(), dtype=float32, numpy=2.56618>"
            ]
          },
          "metadata": {
            "tags": []
          },
          "execution_count": 26
        }
      ]
    },
    {
      "cell_type": "code",
      "metadata": {
        "colab": {
          "base_uri": "https://localhost:8080/"
        },
        "id": "YIdNCKyYP70w",
        "outputId": "b3895e14-3db8-4c29-e568-d12f6e298839"
      },
      "source": [
        "train_dec_labels"
      ],
      "execution_count": null,
      "outputs": [
        {
          "output_type": "execute_result",
          "data": {
            "text/plain": [
              "array([[ 8,  6,  9, 10,  7,  3],\n",
              "       [10, 12,  3,  0,  0,  0]])"
            ]
          },
          "metadata": {
            "tags": []
          },
          "execution_count": 27
        }
      ]
    },
    {
      "cell_type": "code",
      "metadata": {
        "colab": {
          "base_uri": "https://localhost:8080/"
        },
        "id": "N4-Sr6JNE78t",
        "outputId": "7ddf50a4-07c0-4742-fbb6-e6acaeb36b54"
      },
      "source": [
        "args.n_vocab = len(word_to_id)\n",
        "args.d_model = 32\n",
        "args"
      ],
      "execution_count": null,
      "outputs": [
        {
          "output_type": "execute_result",
          "data": {
            "text/plain": [
              "Namespace(d_model=32, n_vocab=13, seed=1234)"
            ]
          },
          "metadata": {
            "tags": []
          },
          "execution_count": 28
        }
      ]
    },
    {
      "cell_type": "code",
      "metadata": {
        "id": "C91Ciiz-PDGf"
      },
      "source": [
        "def build_model(args):\n",
        "    enc_inputs = tf.keras.layers.Input((None,), name=\"enc_inputs\")  # (bs, n_enc_seq)\n",
        "    dec_inputs = tf.keras.layers.Input((None,), name=\"dec_inputs\")  # (bs, n_dec_seq)\n",
        "    ################################\n",
        "    # Embedding\n",
        "    ################################\n",
        "    embedding = tf.keras.layers.Embedding(args.n_vocab, args.d_model, name=\"embedding\")\n",
        "    enc_hidden = embedding(enc_inputs)  # (bs, n_enc_seq, d_model)\n",
        "    dec_hidden = embedding(dec_inputs)  # (bs, n_dec_seq, d_model)\n",
        "    ################################\n",
        "    # Encoder\n",
        "    ################################\n",
        "    enc_lstm = tf.keras.layers.LSTM(units=args.d_model, return_state=True, name=\"enc_lstm\")\n",
        "    enc_hidden, enc_h_state, enc_c_state = enc_lstm(enc_hidden) # (bs,units),(bs,units),(bs,units)\n",
        "    ################################\n",
        "    # Decoder\n",
        "    ################################\n",
        "    dec_lstm = tf.keras.layers.LSTM(units=args.d_model, return_sequences=True, name=\"dec_lstm\")\n",
        "    dec_hidden = dec_lstm(dec_hidden, initial_state=[enc_h_state, enc_c_state]) # (bs,n_dec_seq,units) # encoding의 input size랑 decoding의 input size는 다르니까 신경쓴거지!\n",
        "    ################################\n",
        "    # Next word prediction\n",
        "    ################################\n",
        "    linear = tf.keras.layers.Dense(args.n_vocab, activation=tf.nn.softmax, name=\"out_linear\")\n",
        "    y_pred = linear(dec_hidden) # (bs,n_dec_seq, n_vocab)\n",
        "    ################################\n",
        "    # Model\n",
        "    ################################\n",
        "    model = tf.keras.Model(inputs=(enc_inputs, dec_inputs), outputs=y_pred)\n",
        "    return model"
      ],
      "execution_count": null,
      "outputs": []
    },
    {
      "cell_type": "code",
      "metadata": {
        "colab": {
          "base_uri": "https://localhost:8080/",
          "height": 496
        },
        "id": "eiRF0EalPi3K",
        "outputId": "1b97653f-55d3-43cf-a025-3dec81d09064"
      },
      "source": [
        "model = build_model(args)\n",
        "tf.keras.utils.plot_model(model, 'model.png', show_shapes=True)"
      ],
      "execution_count": null,
      "outputs": [
        {
          "output_type": "execute_result",
          "data": {
            "image/png": "[encoded data removed]",
            "text/plain": [
              "<IPython.core.display.Image object>"
            ]
          },
          "metadata": {
            "tags": []
          },
          "execution_count": 30
        }
      ]
    },
    {
      "cell_type": "code",
      "metadata": {
        "id": "RJ24Cvpv7nXW",
        "colab": {
          "base_uri": "https://localhost:8080/"
        },
        "outputId": "3d85013b-b6a7-4cc4-aee5-7ea4e6740bb3"
      },
      "source": [
        "model.predict((train_enc_inputs[:4], train_dec_inputs[:4]))"
      ],
      "execution_count": null,
      "outputs": [
        {
          "output_type": "execute_result",
          "data": {
            "text/plain": [
              "array([[[0.07669406, 0.0775681 , 0.07841668, 0.07774511, 0.07592772,\n",
              "         0.07592671, 0.07651905, 0.07630295, 0.07631198, 0.07770398,\n",
              "         0.07634444, 0.07688932, 0.07764991],\n",
              "        [0.07621206, 0.07743   , 0.07751198, 0.077186  , 0.07684258,\n",
              "         0.07621063, 0.07682218, 0.0764806 , 0.07627117, 0.07767154,\n",
              "         0.07674176, 0.07715047, 0.07746906],\n",
              "        [0.07598892, 0.07785373, 0.07687035, 0.07758692, 0.07719386,\n",
              "         0.07609461, 0.07720447, 0.07734662, 0.07655492, 0.07611506,\n",
              "         0.07648488, 0.07717209, 0.0775336 ],\n",
              "        [0.07662675, 0.07782743, 0.07643627, 0.07771534, 0.07682704,\n",
              "         0.07663181, 0.07699468, 0.07758946, 0.07679745, 0.07601063,\n",
              "         0.07722942, 0.07666283, 0.07665085],\n",
              "        [0.07663194, 0.07811173, 0.07691   , 0.07660309, 0.07662018,\n",
              "         0.07641372, 0.07684214, 0.07735501, 0.07614087, 0.07601038,\n",
              "         0.07704445, 0.07738463, 0.07793189],\n",
              "        [0.07657768, 0.07768619, 0.0766004 , 0.07722843, 0.07729631,\n",
              "         0.07656581, 0.07754703, 0.07686061, 0.07583359, 0.07653115,\n",
              "         0.07697245, 0.07719583, 0.07710455]],\n",
              "\n",
              "       [[0.07691278, 0.07833443, 0.07757954, 0.07714383, 0.0763282 ,\n",
              "         0.07686857, 0.07628255, 0.07639378, 0.07624925, 0.07756385,\n",
              "         0.07614279, 0.07727174, 0.07692872],\n",
              "        [0.07688116, 0.07851197, 0.07777814, 0.07619331, 0.07631424,\n",
              "         0.07651309, 0.07627571, 0.07624388, 0.07582603, 0.07714993,\n",
              "         0.07622085, 0.07782114, 0.07827061],\n",
              "        [0.07699177, 0.07850271, 0.07772221, 0.07724823, 0.07653441,\n",
              "         0.07635182, 0.07563732, 0.07613184, 0.07664989, 0.07684201,\n",
              "         0.07665259, 0.07682642, 0.0779088 ],\n",
              "        [0.07681121, 0.07815984, 0.07769943, 0.07708644, 0.07626327,\n",
              "         0.07623042, 0.07544309, 0.07628995, 0.07705402, 0.07724292,\n",
              "         0.07688158, 0.07678375, 0.07805403],\n",
              "        [0.07665632, 0.07794001, 0.0776776 , 0.07700351, 0.07607903,\n",
              "         0.07613029, 0.0753224 , 0.07641578, 0.07742537, 0.07749063,\n",
              "         0.07703003, 0.0766849 , 0.07814406],\n",
              "        [0.07653666, 0.07779259, 0.07765996, 0.07696417, 0.07595266,\n",
              "         0.07605457, 0.07525265, 0.07652787, 0.07774794, 0.07764303,\n",
              "         0.07711881, 0.07655958, 0.07818947]]], dtype=float32)"
            ]
          },
          "metadata": {
            "tags": []
          },
          "execution_count": 31
        }
      ]
    },
    {
      "cell_type": "markdown",
      "metadata": {
        "id": "0TyJlt-k7yzW"
      },
      "source": [
        "# Vocabulary*"
      ]
    },
    {
      "cell_type": "code",
      "metadata": {
        "colab": {
          "base_uri": "https://localhost:8080/"
        },
        "id": "har00GjJ71ZH",
        "outputId": "ddf948a4-7edb-4868-c865-81ea4e2bf726"
      },
      "source": [
        "# vocab loading\n",
        "vocab = spm.SentencePieceProcessor()\n",
        "vocab.load(os.path.join(data_dir, 'kowiki', 'kowiki_32000.model'))"
      ],
      "execution_count": null,
      "outputs": [
        {
          "output_type": "execute_result",
          "data": {
            "text/plain": [
              "True"
            ]
          },
          "metadata": {
            "tags": []
          },
          "execution_count": 32
        }
      ]
    },
    {
      "cell_type": "markdown",
      "metadata": {
        "id": "097BJVHG_QfR"
      },
      "source": [
        "# Data*"
      ]
    },
    {
      "cell_type": "code",
      "metadata": {
        "colab": {
          "base_uri": "https://localhost:8080/"
        },
        "id": "BvBz82afgule",
        "outputId": "8fb9dd4e-1f4b-4078-e449-bcc55beb6d8a"
      },
      "source": [
        "# 파일 다운로드 및 목록 확인\n",
        "!wget https://github.com/songys/Chatbot_data/raw/master/ChatbotData%20.csv\n",
        "os.listdir('./')\n",
        "\n",
        "# label은 안쓸거고 q, a만 쓸거ㅣㅁ"
      ],
      "execution_count": null,
      "outputs": [
        {
          "output_type": "stream",
          "text": [
            "--2021-05-28 10:03:47--  https://github.com/songys/Chatbot_data/raw/master/ChatbotData%20.csv\n",
            "Resolving github.com (github.com)... 52.69.186.44\n",
            "Connecting to github.com (github.com)|52.69.186.44|:443... connected.\n",
            "HTTP request sent, awaiting response... 302 Found\n",
            "Location: https://raw.githubusercontent.com/songys/Chatbot_data/master/ChatbotData%20.csv [following]\n",
            "--2021-05-28 10:03:48--  https://raw.githubusercontent.com/songys/Chatbot_data/master/ChatbotData%20.csv\n",
            "Resolving raw.githubusercontent.com (raw.githubusercontent.com)... 185.199.108.133, 185.199.109.133, 185.199.110.133, ...\n",
            "Connecting to raw.githubusercontent.com (raw.githubusercontent.com)|185.199.108.133|:443... connected.\n",
            "HTTP request sent, awaiting response... 200 OK\n",
            "Length: 889842 (869K) [text/plain]\n",
            "Saving to: ‘ChatbotData .csv’\n",
            "\n",
            "ChatbotData .csv    100%[===================>] 868.99K  --.-KB/s    in 0.1s    \n",
            "\n",
            "2021-05-28 10:03:48 (6.52 MB/s) - ‘ChatbotData .csv’ saved [889842/889842]\n",
            "\n"
          ],
          "name": "stdout"
        },
        {
          "output_type": "execute_result",
          "data": {
            "text/plain": [
              "['.config', 'model.png', 'drive', 'ChatbotData .csv', 'sample_data']"
            ]
          },
          "metadata": {
            "tags": []
          },
          "execution_count": 33
        }
      ]
    },
    {
      "cell_type": "code",
      "metadata": {
        "id": "K-pDfgP5DBtH",
        "colab": {
          "base_uri": "https://localhost:8080/"
        },
        "outputId": "1aecfca2-19e0-4478-8fa1-e728f4abc765"
      },
      "source": [
        "# 파일명 변경 및 목록 확인\n",
        "!mv 'ChatbotData .csv' ChatbotData.csv # 파일명의 공백을 공백 없이 바꿔라!\n",
        "os.listdir('./')"
      ],
      "execution_count": null,
      "outputs": [
        {
          "output_type": "execute_result",
          "data": {
            "text/plain": [
              "['.config', 'model.png', 'ChatbotData.csv', 'drive', 'sample_data']"
            ]
          },
          "metadata": {
            "tags": []
          },
          "execution_count": 34
        }
      ]
    },
    {
      "cell_type": "markdown",
      "metadata": {
        "id": "WB0cfrHoGOKX"
      },
      "source": [
        "# Loss & Acc*"
      ]
    },
    {
      "cell_type": "code",
      "metadata": {
        "id": "ao1Ukq5MGabJ"
      },
      "source": [
        "def lm_loss(y_true, y_pred):\n",
        "    \"\"\"\n",
        "    pad 부분을 제외하고 loss를 계산하는 함수\n",
        "    :param y_true: 정답\n",
        "    :param y_pred: 예측 값\n",
        "    :retrun loss: pad 부분이 제외된 loss 값\n",
        "    \"\"\"\n",
        "    # loss = sparse_entropy = tf.keras.losses.SparseCategoricalCrossentropy()(y_true, y_pred)\n",
        "    loss = tf.keras.losses.SparseCategoricalCrossentropy(reduction=tf.keras.losses.Reduction.NONE)(y_true, y_pred)\n",
        "    mask = tf.not_equal(y_true, 0)\n",
        "    mask = tf.cast(mask, tf.float32)\n",
        "    # print(mask)\n",
        "    loss *= mask\n",
        "    return loss\n",
        "\n",
        "    # 여기서는 padding을 빼는 방법이지?"
      ],
      "execution_count": null,
      "outputs": []
    },
    {
      "cell_type": "code",
      "metadata": {
        "id": "FpCq4L65Gqs5"
      },
      "source": [
        "def lm_acc(y_true, y_pred):\n",
        "    \"\"\"\n",
        "    pad 부분을 제외하고 accuracy를 계산하는 함수\n",
        "    :param y_true: 정답\n",
        "    :param y_pred: 예측 값\n",
        "    :retrun loss: pad 부분이 제외된 accuracy 값\n",
        "    \"\"\"\n",
        "    y_true = tf.cast(y_true, tf.float32)\n",
        "    # print(y_true)\n",
        "    y_pred_class = tf.cast(tf.argmax(y_pred, axis=-1), tf.float32)\n",
        "    # print(y_pred_class)\n",
        "    matches = tf.cast(tf.equal(y_true, y_pred_class), tf.float32)\n",
        "    # print(matches)\n",
        "    mask = tf.not_equal(y_true, 0)\n",
        "    mask = tf.cast(mask, tf.float32)\n",
        "    # print(mask)\n",
        "    matches *= mask\n",
        "    # print(matches)\n",
        "    # accuracy = tf.reduce_sum(matches) / tf.maximum(tf.reduce_sum(tf.ones_like(matches)), 1)\n",
        "    accuracy = tf.reduce_sum(matches) / tf.maximum(tf.reduce_sum(mask), 1)\n",
        "    return accuracy\n",
        "\n",
        "    # 마찬가지로 accuracy도 padding을 뺀채로 해주는거제?"
      ],
      "execution_count": null,
      "outputs": []
    },
    {
      "cell_type": "code",
      "metadata": {
        "id": "jOJ4MUfzhDor"
      },
      "source": [
        ""
      ],
      "execution_count": null,
      "outputs": []
    },
    {
      "cell_type": "markdown",
      "metadata": {
        "id": "LvylK3P37t6w"
      },
      "source": [
        "# Small Data Project"
      ]
    },
    {
      "cell_type": "markdown",
      "metadata": {
        "id": "Vwjo-BxiCiki"
      },
      "source": [
        "## Train 데이터 생성"
      ]
    },
    {
      "cell_type": "code",
      "metadata": {
        "id": "Gcar2P0R9UGO",
        "colab": {
          "base_uri": "https://localhost:8080/",
          "height": 419
        },
        "outputId": "bf723e72-17fc-4984-dd0d-e73c389a3485"
      },
      "source": [
        "# data load\n",
        "df_train = pd.read_csv('ChatbotData.csv')\n",
        "df_train"
      ],
      "execution_count": null,
      "outputs": [
        {
          "output_type": "execute_result",
          "data": {
            "text/html": [
              "<div>\n",
              "<style scoped>\n",
              "    .dataframe tbody tr th:only-of-type {\n",
              "        vertical-align: middle;\n",
              "    }\n",
              "\n",
              "    .dataframe tbody tr th {\n",
              "        vertical-align: top;\n",
              "    }\n",
              "\n",
              "    .dataframe thead th {\n",
              "        text-align: right;\n",
              "    }\n",
              "</style>\n",
              "<table border=\"1\" class=\"dataframe\">\n",
              "  <thead>\n",
              "    <tr style=\"text-align: right;\">\n",
              "      <th></th>\n",
              "      <th>Q</th>\n",
              "      <th>A</th>\n",
              "      <th>label</th>\n",
              "    </tr>\n",
              "  </thead>\n",
              "  <tbody>\n",
              "    <tr>\n",
              "      <th>0</th>\n",
              "      <td>12시 땡!</td>\n",
              "      <td>하루가 또 가네요.</td>\n",
              "      <td>0</td>\n",
              "    </tr>\n",
              "    <tr>\n",
              "      <th>1</th>\n",
              "      <td>1지망 학교 떨어졌어</td>\n",
              "      <td>위로해 드립니다.</td>\n",
              "      <td>0</td>\n",
              "    </tr>\n",
              "    <tr>\n",
              "      <th>2</th>\n",
              "      <td>3박4일 놀러가고 싶다</td>\n",
              "      <td>여행은 언제나 좋죠.</td>\n",
              "      <td>0</td>\n",
              "    </tr>\n",
              "    <tr>\n",
              "      <th>3</th>\n",
              "      <td>3박4일 정도 놀러가고 싶다</td>\n",
              "      <td>여행은 언제나 좋죠.</td>\n",
              "      <td>0</td>\n",
              "    </tr>\n",
              "    <tr>\n",
              "      <th>4</th>\n",
              "      <td>PPL 심하네</td>\n",
              "      <td>눈살이 찌푸려지죠.</td>\n",
              "      <td>0</td>\n",
              "    </tr>\n",
              "    <tr>\n",
              "      <th>...</th>\n",
              "      <td>...</td>\n",
              "      <td>...</td>\n",
              "      <td>...</td>\n",
              "    </tr>\n",
              "    <tr>\n",
              "      <th>11818</th>\n",
              "      <td>훔쳐보는 것도 눈치 보임.</td>\n",
              "      <td>티가 나니까 눈치가 보이는 거죠!</td>\n",
              "      <td>2</td>\n",
              "    </tr>\n",
              "    <tr>\n",
              "      <th>11819</th>\n",
              "      <td>훔쳐보는 것도 눈치 보임.</td>\n",
              "      <td>훔쳐보는 거 티나나봐요.</td>\n",
              "      <td>2</td>\n",
              "    </tr>\n",
              "    <tr>\n",
              "      <th>11820</th>\n",
              "      <td>흑기사 해주는 짝남.</td>\n",
              "      <td>설렜겠어요.</td>\n",
              "      <td>2</td>\n",
              "    </tr>\n",
              "    <tr>\n",
              "      <th>11821</th>\n",
              "      <td>힘든 연애 좋은 연애라는게 무슨 차이일까?</td>\n",
              "      <td>잘 헤어질 수 있는 사이 여부인 거 같아요.</td>\n",
              "      <td>2</td>\n",
              "    </tr>\n",
              "    <tr>\n",
              "      <th>11822</th>\n",
              "      <td>힘들어서 결혼할까봐</td>\n",
              "      <td>도피성 결혼은 하지 않길 바라요.</td>\n",
              "      <td>2</td>\n",
              "    </tr>\n",
              "  </tbody>\n",
              "</table>\n",
              "<p>11823 rows × 3 columns</p>\n",
              "</div>"
            ],
            "text/plain": [
              "                             Q                         A  label\n",
              "0                       12시 땡!                하루가 또 가네요.      0\n",
              "1                  1지망 학교 떨어졌어                 위로해 드립니다.      0\n",
              "2                 3박4일 놀러가고 싶다               여행은 언제나 좋죠.      0\n",
              "3              3박4일 정도 놀러가고 싶다               여행은 언제나 좋죠.      0\n",
              "4                      PPL 심하네                눈살이 찌푸려지죠.      0\n",
              "...                        ...                       ...    ...\n",
              "11818           훔쳐보는 것도 눈치 보임.        티가 나니까 눈치가 보이는 거죠!      2\n",
              "11819           훔쳐보는 것도 눈치 보임.             훔쳐보는 거 티나나봐요.      2\n",
              "11820              흑기사 해주는 짝남.                    설렜겠어요.      2\n",
              "11821  힘든 연애 좋은 연애라는게 무슨 차이일까?  잘 헤어질 수 있는 사이 여부인 거 같아요.      2\n",
              "11822               힘들어서 결혼할까봐        도피성 결혼은 하지 않길 바라요.      2\n",
              "\n",
              "[11823 rows x 3 columns]"
            ]
          },
          "metadata": {
            "tags": []
          },
          "execution_count": 37
        }
      ]
    },
    {
      "cell_type": "code",
      "metadata": {
        "id": "CCsj2ubSIWnW",
        "colab": {
          "base_uri": "https://localhost:8080/",
          "height": 419
        },
        "outputId": "f03ede4f-213c-450c-a609-dae0cd3c6c4c"
      },
      "source": [
        "# null 제거\n",
        "df_train = df_train.dropna()\n",
        "df_train"
      ],
      "execution_count": null,
      "outputs": [
        {
          "output_type": "execute_result",
          "data": {
            "text/html": [
              "<div>\n",
              "<style scoped>\n",
              "    .dataframe tbody tr th:only-of-type {\n",
              "        vertical-align: middle;\n",
              "    }\n",
              "\n",
              "    .dataframe tbody tr th {\n",
              "        vertical-align: top;\n",
              "    }\n",
              "\n",
              "    .dataframe thead th {\n",
              "        text-align: right;\n",
              "    }\n",
              "</style>\n",
              "<table border=\"1\" class=\"dataframe\">\n",
              "  <thead>\n",
              "    <tr style=\"text-align: right;\">\n",
              "      <th></th>\n",
              "      <th>Q</th>\n",
              "      <th>A</th>\n",
              "      <th>label</th>\n",
              "    </tr>\n",
              "  </thead>\n",
              "  <tbody>\n",
              "    <tr>\n",
              "      <th>0</th>\n",
              "      <td>12시 땡!</td>\n",
              "      <td>하루가 또 가네요.</td>\n",
              "      <td>0</td>\n",
              "    </tr>\n",
              "    <tr>\n",
              "      <th>1</th>\n",
              "      <td>1지망 학교 떨어졌어</td>\n",
              "      <td>위로해 드립니다.</td>\n",
              "      <td>0</td>\n",
              "    </tr>\n",
              "    <tr>\n",
              "      <th>2</th>\n",
              "      <td>3박4일 놀러가고 싶다</td>\n",
              "      <td>여행은 언제나 좋죠.</td>\n",
              "      <td>0</td>\n",
              "    </tr>\n",
              "    <tr>\n",
              "      <th>3</th>\n",
              "      <td>3박4일 정도 놀러가고 싶다</td>\n",
              "      <td>여행은 언제나 좋죠.</td>\n",
              "      <td>0</td>\n",
              "    </tr>\n",
              "    <tr>\n",
              "      <th>4</th>\n",
              "      <td>PPL 심하네</td>\n",
              "      <td>눈살이 찌푸려지죠.</td>\n",
              "      <td>0</td>\n",
              "    </tr>\n",
              "    <tr>\n",
              "      <th>...</th>\n",
              "      <td>...</td>\n",
              "      <td>...</td>\n",
              "      <td>...</td>\n",
              "    </tr>\n",
              "    <tr>\n",
              "      <th>11818</th>\n",
              "      <td>훔쳐보는 것도 눈치 보임.</td>\n",
              "      <td>티가 나니까 눈치가 보이는 거죠!</td>\n",
              "      <td>2</td>\n",
              "    </tr>\n",
              "    <tr>\n",
              "      <th>11819</th>\n",
              "      <td>훔쳐보는 것도 눈치 보임.</td>\n",
              "      <td>훔쳐보는 거 티나나봐요.</td>\n",
              "      <td>2</td>\n",
              "    </tr>\n",
              "    <tr>\n",
              "      <th>11820</th>\n",
              "      <td>흑기사 해주는 짝남.</td>\n",
              "      <td>설렜겠어요.</td>\n",
              "      <td>2</td>\n",
              "    </tr>\n",
              "    <tr>\n",
              "      <th>11821</th>\n",
              "      <td>힘든 연애 좋은 연애라는게 무슨 차이일까?</td>\n",
              "      <td>잘 헤어질 수 있는 사이 여부인 거 같아요.</td>\n",
              "      <td>2</td>\n",
              "    </tr>\n",
              "    <tr>\n",
              "      <th>11822</th>\n",
              "      <td>힘들어서 결혼할까봐</td>\n",
              "      <td>도피성 결혼은 하지 않길 바라요.</td>\n",
              "      <td>2</td>\n",
              "    </tr>\n",
              "  </tbody>\n",
              "</table>\n",
              "<p>11823 rows × 3 columns</p>\n",
              "</div>"
            ],
            "text/plain": [
              "                             Q                         A  label\n",
              "0                       12시 땡!                하루가 또 가네요.      0\n",
              "1                  1지망 학교 떨어졌어                 위로해 드립니다.      0\n",
              "2                 3박4일 놀러가고 싶다               여행은 언제나 좋죠.      0\n",
              "3              3박4일 정도 놀러가고 싶다               여행은 언제나 좋죠.      0\n",
              "4                      PPL 심하네                눈살이 찌푸려지죠.      0\n",
              "...                        ...                       ...    ...\n",
              "11818           훔쳐보는 것도 눈치 보임.        티가 나니까 눈치가 보이는 거죠!      2\n",
              "11819           훔쳐보는 것도 눈치 보임.             훔쳐보는 거 티나나봐요.      2\n",
              "11820              흑기사 해주는 짝남.                    설렜겠어요.      2\n",
              "11821  힘든 연애 좋은 연애라는게 무슨 차이일까?  잘 헤어질 수 있는 사이 여부인 거 같아요.      2\n",
              "11822               힘들어서 결혼할까봐        도피성 결혼은 하지 않길 바라요.      2\n",
              "\n",
              "[11823 rows x 3 columns]"
            ]
          },
          "metadata": {
            "tags": []
          },
          "execution_count": 38
        }
      ]
    },
    {
      "cell_type": "code",
      "metadata": {
        "colab": {
          "base_uri": "https://localhost:8080/"
        },
        "id": "izsNoSMHifaf",
        "outputId": "a8baaa96-14c5-4cec-f4b5-d3bdbf947b95"
      },
      "source": [
        "# Q 길이\n",
        "q_length = df_train[\"Q\"].astype(\"str\").apply(lambda x:len(vocab.encode_as_pieces(x)))\n",
        "q_length.head(10), q_length.max()"
      ],
      "execution_count": null,
      "outputs": [
        {
          "output_type": "execute_result",
          "data": {
            "text/plain": [
              "(0     5\n",
              " 1     6\n",
              " 2     9\n",
              " 3    10\n",
              " 4     5\n",
              " 5     7\n",
              " 6     5\n",
              " 7     7\n",
              " 8    11\n",
              " 9     9\n",
              " Name: Q, dtype: int64, 27)"
            ]
          },
          "metadata": {
            "tags": []
          },
          "execution_count": 39
        }
      ]
    },
    {
      "cell_type": "code",
      "metadata": {
        "colab": {
          "base_uri": "https://localhost:8080/"
        },
        "id": "YJYgWW-FjLIH",
        "outputId": "c4a52743-ffdb-430b-ca40-c3c37c1cc3ea"
      },
      "source": [
        "# A 길이\n",
        "a_length = df_train[\"A\"].astype(\"str\").apply(lambda x:len(vocab.encode_as_pieces(x)))\n",
        "a_length.head(10), a_length.max()"
      ],
      "execution_count": null,
      "outputs": [
        {
          "output_type": "execute_result",
          "data": {
            "text/plain": [
              "(0    6\n",
              " 1    6\n",
              " 2    6\n",
              " 3    6\n",
              " 4    9\n",
              " 5    9\n",
              " 6    9\n",
              " 7    7\n",
              " 8    6\n",
              " 9    6\n",
              " Name: A, dtype: int64, 39)"
            ]
          },
          "metadata": {
            "tags": []
          },
          "execution_count": 40
        }
      ]
    },
    {
      "cell_type": "code",
      "metadata": {
        "colab": {
          "base_uri": "https://localhost:8080/",
          "height": 359
        },
        "id": "ZDgQxumohVwu",
        "outputId": "8468988a-f603-4b72-a1ba-b43961c5e826"
      },
      "source": [
        "# 랜덤하게 10개만 확인\n",
        "df_train = df_train.sample(10)\n",
        "df_train"
      ],
      "execution_count": null,
      "outputs": [
        {
          "output_type": "execute_result",
          "data": {
            "text/html": [
              "<div>\n",
              "<style scoped>\n",
              "    .dataframe tbody tr th:only-of-type {\n",
              "        vertical-align: middle;\n",
              "    }\n",
              "\n",
              "    .dataframe tbody tr th {\n",
              "        vertical-align: top;\n",
              "    }\n",
              "\n",
              "    .dataframe thead th {\n",
              "        text-align: right;\n",
              "    }\n",
              "</style>\n",
              "<table border=\"1\" class=\"dataframe\">\n",
              "  <thead>\n",
              "    <tr style=\"text-align: right;\">\n",
              "      <th></th>\n",
              "      <th>Q</th>\n",
              "      <th>A</th>\n",
              "      <th>label</th>\n",
              "    </tr>\n",
              "  </thead>\n",
              "  <tbody>\n",
              "    <tr>\n",
              "      <th>11761</th>\n",
              "      <td>하루종일 썸남 생각만 해. 괜찮을까?</td>\n",
              "      <td>그것 또한 감정의 일부니까요.</td>\n",
              "      <td>2</td>\n",
              "    </tr>\n",
              "    <tr>\n",
              "      <th>924</th>\n",
              "      <td>냉장고에 먹을 게 하나도 없네</td>\n",
              "      <td>슈퍼라도 가서 쇼핑하고 오세요.</td>\n",
              "      <td>0</td>\n",
              "    </tr>\n",
              "    <tr>\n",
              "      <th>3763</th>\n",
              "      <td>인사드리러 갔는데 파혼하는게 나을것 같아</td>\n",
              "      <td>이혼이 아니라 다행입니다.</td>\n",
              "      <td>0</td>\n",
              "    </tr>\n",
              "    <tr>\n",
              "      <th>341</th>\n",
              "      <td>금값 어때</td>\n",
              "      <td>비싸요.</td>\n",
              "      <td>0</td>\n",
              "    </tr>\n",
              "    <tr>\n",
              "      <th>10736</th>\n",
              "      <td>연애상담하더니 둘이 사귀더라</td>\n",
              "      <td>대화를 하다가 친해졌나봐요.</td>\n",
              "      <td>2</td>\n",
              "    </tr>\n",
              "    <tr>\n",
              "      <th>5140</th>\n",
              "      <td>혼자 노래방 가면 어색할 거 같은데</td>\n",
              "      <td>신나는 노래로 분위기를 띄어보세요.</td>\n",
              "      <td>0</td>\n",
              "    </tr>\n",
              "    <tr>\n",
              "      <th>5713</th>\n",
              "      <td>기회도 없네.</td>\n",
              "      <td>다른 기회가 올 거예요.</td>\n",
              "      <td>1</td>\n",
              "    </tr>\n",
              "    <tr>\n",
              "      <th>9996</th>\n",
              "      <td>사랑한 만큼 배려해야했어</td>\n",
              "      <td>이제야 깨달았나봐요.</td>\n",
              "      <td>2</td>\n",
              "    </tr>\n",
              "    <tr>\n",
              "      <th>3168</th>\n",
              "      <td>여자친구가 전화를 안해</td>\n",
              "      <td>다른 연락을 많이 하거나 더 자주 만나세요.</td>\n",
              "      <td>0</td>\n",
              "    </tr>\n",
              "    <tr>\n",
              "      <th>9762</th>\n",
              "      <td>못생긴 남자를 좋아하는 여자가 있을지.</td>\n",
              "      <td>외모가 중요한 시대는 끝났어요.</td>\n",
              "      <td>2</td>\n",
              "    </tr>\n",
              "  </tbody>\n",
              "</table>\n",
              "</div>"
            ],
            "text/plain": [
              "                            Q                         A  label\n",
              "11761    하루종일 썸남 생각만 해. 괜찮을까?          그것 또한 감정의 일부니까요.      2\n",
              "924          냉장고에 먹을 게 하나도 없네         슈퍼라도 가서 쇼핑하고 오세요.      0\n",
              "3763   인사드리러 갔는데 파혼하는게 나을것 같아            이혼이 아니라 다행입니다.      0\n",
              "341                     금값 어때                      비싸요.      0\n",
              "10736         연애상담하더니 둘이 사귀더라           대화를 하다가 친해졌나봐요.      2\n",
              "5140      혼자 노래방 가면 어색할 거 같은데       신나는 노래로 분위기를 띄어보세요.      0\n",
              "5713                  기회도 없네.             다른 기회가 올 거예요.      1\n",
              "9996            사랑한 만큼 배려해야했어               이제야 깨달았나봐요.      2\n",
              "3168             여자친구가 전화를 안해  다른 연락을 많이 하거나 더 자주 만나세요.      0\n",
              "9762    못생긴 남자를 좋아하는 여자가 있을지.         외모가 중요한 시대는 끝났어요.      2"
            ]
          },
          "metadata": {
            "tags": []
          },
          "execution_count": 41
        }
      ]
    },
    {
      "cell_type": "code",
      "metadata": {
        "id": "4D23Glig9IDq"
      },
      "source": [
        "def make_data(df, vocab, n_enc_seq, n_dec_seq): # data를 3개를 만들어야함\n",
        "    \"\"\"\n",
        "    chat 학습 데이터 생성\n",
        "    :param df: data frame\n",
        "    :param df: vocab\n",
        "    :param n_enc_seq: number of encoder sequence\n",
        "    :param n_dec_seq: number of decoder sequence\n",
        "    :return enc_inputs: encoder input data\n",
        "    :return dec_inputs: decoder input data\n",
        "    :return dec_labels: decoder label data\n",
        "    \"\"\"\n",
        "    \n",
        "    n_enc_max = n_enc_seq\n",
        "    n_dec_max = n_dec_seq - 1  # [BOS] or [EOS]\n",
        "    # inputa & labels\n",
        "    enc_inputs = []\n",
        "    dec_inputs = []\n",
        "    dec_labels = []\n",
        "    # 데이터 생성\n",
        "    for i, row in tqdm(df.iterrows(), total=len(df)):\n",
        "        Q = row['Q']\n",
        "        A = row['A']\n",
        "        # print(Q, '/', A)\n",
        "        # tokenize\n",
        "        tokens_q = vocab.encode_as_ids(Q)\n",
        "        # print(len(tokens_q), ':', tokens_q)\n",
        "        tokens_a = vocab.encode_as_ids(A)\n",
        "        # print(len(tokens_a), ':', tokens_a)\n",
        "        # 최대 길이로 자르기\n",
        "        tokens_q = tokens_q[:n_enc_max]\n",
        "        # print(len(tokens_q), ':', tokens_q)\n",
        "        tokens_a = tokens_a[:n_dec_max]\n",
        "        # print(len(tokens_a), ':', tokens_a)\n",
        "        # input & label 정의\n",
        "        enc_input = tokens_q\n",
        "        # print(len(enc_input), ':', enc_input)\n",
        "        dec_input = [vocab.bos_id()] + tokens_a\n",
        "        # print(len(dec_input), ':', dec_input)\n",
        "        dec_label = tokens_a + [vocab.eos_id()]\n",
        "        # print(len(dec_label), ':', dec_label)\n",
        "        # pad 추가\n",
        "        enc_input += [0] * (n_enc_seq - len(enc_input))\n",
        "        # print(len(enc_input), ':', enc_input)\n",
        "        dec_input += [0] * (n_dec_seq - len(dec_input))\n",
        "        # print(len(dec_input), ':', dec_input)\n",
        "        dec_label += [0] * (n_dec_seq - len(dec_label))\n",
        "        # print(len(dec_label), ':', dec_label)\n",
        "        # 값 저장\n",
        "        enc_inputs.append(enc_input)\n",
        "        dec_inputs.append(dec_input)\n",
        "        dec_labels.append(dec_label)\n",
        "    # to numpy array\n",
        "    enc_inputs = np.array(enc_inputs)\n",
        "    dec_inputs = np.array(dec_inputs)\n",
        "    dec_labels = np.array(dec_labels)\n",
        "    return enc_inputs, dec_inputs, dec_labels"
      ],
      "execution_count": null,
      "outputs": []
    },
    {
      "cell_type": "code",
      "metadata": {
        "id": "3GbH-piGC3tJ",
        "colab": {
          "base_uri": "https://localhost:8080/",
          "height": 1000,
          "referenced_widgets": [
            "5dac6dfc4eda4df4a7e162dfbc41b0f9",
            "580fa261e3684773ad99ec5e76d822cd",
            "b5475c2ec57e44b895fa8e1518d8beb7",
            "e55333c6040442a692a2fa752f780c0e",
            "d19ffc420b47409a958849503d229310",
            "689c31de99c849eb916553a89e40c374",
            "1c2fc262ff9d4a5f87128a66fcb324a1",
            "f7a2ee6258484bac92d5ca02a6791e12"
          ]
        },
        "outputId": "f9a2f34a-7223-433c-9410-556a6dcabe5b"
      },
      "source": [
        "train_enc_inputs, train_dec_inputs, train_dec_labels = make_data(df_train, vocab, 27, 40)\n",
        "train_enc_inputs, train_dec_inputs, train_dec_labels"
      ],
      "execution_count": null,
      "outputs": [
        {
          "output_type": "display_data",
          "data": {
            "application/vnd.jupyter.widget-view+json": {
              "model_id": "5dac6dfc4eda4df4a7e162dfbc41b0f9",
              "version_minor": 0,
              "version_major": 2
            },
            "text/plain": [
              "HBox(children=(FloatProgress(value=0.0, max=10.0), HTML(value='')))"
            ]
          },
          "metadata": {
            "tags": []
          }
        },
        {
          "output_type": "stream",
          "text": [
            "\n"
          ],
          "name": "stdout"
        },
        {
          "output_type": "execute_result",
          "data": {
            "text/plain": [
              "(array([[ 2424,   378,    30,    10, 27556,   486,  1028,    59,   209,\n",
              "             7,    10, 31855, 14969,    11,  3083,  2138,     0,     0,\n",
              "             0,     0,     0,     0,     0,     0,     0,     0,     0],\n",
              "        [ 6740,   159,    37,    14,  9956,  1717,   477,    32,  5639,\n",
              "           377,     0,     0,     0,     0,     0,     0,     0,     0,\n",
              "             0,     0,     0,     0,     0,     0,     0,     0,     0],\n",
              "        [ 2482,  6720,   479, 10227,   680,   522,  2193,    42,    87,\n",
              "           349,    11,  6119, 14380,     0,     0,     0,     0,     0,\n",
              "             0,     0,     0,     0,     0,     0,     0,     0,     0],\n",
              "        [  653,  3441,   542,  1433,     0,     0,     0,     0,     0,\n",
              "             0,     0,     0,     0,     0,     0,     0,     0,     0,\n",
              "             0,     0,     0,     0,     0,     0,     0,     0,     0],\n",
              "        [ 7479,   128,  1119,   277, 10922,  1687,    20, 19010,   576,\n",
              "           105,     0,     0,     0,     0,     0,     0,     0,     0,\n",
              "             0,     0,     0,     0,     0,     0,     0,     0,     0],\n",
              "        [ 8165,   864,   415,  8817,   542,   797,    52,  1146,    94,\n",
              "           379,     0,     0,     0,     0,     0,     0,     0,     0,\n",
              "             0,     0,     0,     0,     0,     0,     0,     0,     0],\n",
              "        [ 2145,    32,  5639,   377,     7,     0,     0,     0,     0,\n",
              "             0,     0,     0,     0,     0,     0,     0,     0,     0,\n",
              "             0,     0,     0,     0,     0,     0,     0,     0,     0],\n",
              "        [ 1599,    33,  2596, 12719,   816,  5609,   107,     0,     0,\n",
              "             0,     0,     0,     0,     0,     0,     0,     0,     0,\n",
              "             0,     0,     0,     0,     0,     0,     0,     0,     0],\n",
              "        [17544,    19,  3993,    15,   298,    61,     0,     0,     0,\n",
              "             0,     0,     0,     0,     0,     0,     0,     0,     0,\n",
              "             0,     0,     0,     0,     0,     0,     0,     0,     0],\n",
              "        [ 1260,   612,  1912,  1024,    15,  7840,   671,    19,   831,\n",
              "            44,     7,     0,     0,     0,     0,     0,     0,     0,\n",
              "             0,     0,     0,     0,     0,     0,     0,     0,     0]]),\n",
              " array([[    2,  1752,   117,  3327,     8,   341, 10561,   506,     7,\n",
              "             0,     0,     0,     0,     0,     0,     0,     0,     0,\n",
              "             0,     0,     0,     0,     0,     0,     0,     0,     0,\n",
              "             0,     0,     0,     0,     0,     0,     0,     0,     0,\n",
              "             0,     0,     0,     0],\n",
              "        [    2,  2388,  4841,  3719, 15645,    48,   200, 17059,     7,\n",
              "             0,     0,     0,     0,     0,     0,     0,     0,     0,\n",
              "             0,     0,     0,     0,     0,     0,     0,     0,     0,\n",
              "             0,     0,     0,     0,     0,     0,     0,     0,     0,\n",
              "             0,     0,     0,     0],\n",
              "        [    2,  4515,    20,   467,   311,   745,  5859,     7,     0,\n",
              "             0,     0,     0,     0,     0,     0,     0,     0,     0,\n",
              "             0,     0,     0,     0,     0,     0,     0,     0,     0,\n",
              "             0,     0,     0,     0,     0,     0,     0,     0,     0,\n",
              "             0,     0,     0,     0],\n",
              "        [    2, 17578,   506,     7,     0,     0,     0,     0,     0,\n",
              "             0,     0,     0,     0,     0,     0,     0,     0,     0,\n",
              "             0,     0,     0,     0,     0,     0,     0,     0,     0,\n",
              "             0,     0,     0,     0,     0,     0,     0,     0,     0,\n",
              "             0,     0,     0,     0],\n",
              "        [    2,  4387,    15,  6678,  1329,    61, 10540,    57,  9180,\n",
              "           506,     7,     0,     0,     0,     0,     0,     0,     0,\n",
              "             0,     0,     0,     0,     0,     0,     0,     0,     0,\n",
              "             0,     0,     0,     0,     0,     0,     0,     0,     0,\n",
              "             0,     0,     0,     0],\n",
              "        [    2,   215,    57,    12, 15044,  3976,    15,    10, 31951,\n",
              "           107,   191, 17059,     7,     0,     0,     0,     0,     0,\n",
              "             0,     0,     0,     0,     0,     0,     0,     0,     0,\n",
              "             0,     0,     0,     0,     0,     0,     0,     0,     0,\n",
              "             0,     0,     0,     0],\n",
              "        [    2,    91,  2145,    19,  1589,  1146,   729,   506,     7,\n",
              "             0,     0,     0,     0,     0,     0,     0,     0,     0,\n",
              "             0,     0,     0,     0,     0,     0,     0,     0,     0,\n",
              "             0,     0,     0,     0,     0,     0,     0,     0,     0,\n",
              "             0,     0,     0,     0],\n",
              "        [    2,  2535,   187, 28919,    57,  9180,   506,     7,     0,\n",
              "             0,     0,     0,     0,     0,     0,     0,     0,     0,\n",
              "             0,     0,     0,     0,     0,     0,     0,     0,     0,\n",
              "             0,     0,     0,     0,     0,     0,     0,     0,     0,\n",
              "             0,     0,     0,     0],\n",
              "        [    2,    91,  4765,    11,   520,  9680,   157,  1429,  1994,\n",
              "         17059,     7,     0,     0,     0,     0,     0,     0,     0,\n",
              "             0,     0,     0,     0,     0,     0,     0,     0,     0,\n",
              "             0,     0,     0,     0,     0,     0,     0,     0,     0,\n",
              "             0,     0,     0,     0],\n",
              "        [    2,  9672,    19,   750,   735,    12,  2490, 31997, 18102,\n",
              "             7,     0,     0,     0,     0,     0,     0,     0,     0,\n",
              "             0,     0,     0,     0,     0,     0,     0,     0,     0,\n",
              "             0,     0,     0,     0,     0,     0,     0,     0,     0,\n",
              "             0,     0,     0,     0]]),\n",
              " array([[ 1752,   117,  3327,     8,   341, 10561,   506,     7,     3,\n",
              "             0,     0,     0,     0,     0,     0,     0,     0,     0,\n",
              "             0,     0,     0,     0,     0,     0,     0,     0,     0,\n",
              "             0,     0,     0,     0,     0,     0,     0,     0,     0,\n",
              "             0,     0,     0,     0],\n",
              "        [ 2388,  4841,  3719, 15645,    48,   200, 17059,     7,     3,\n",
              "             0,     0,     0,     0,     0,     0,     0,     0,     0,\n",
              "             0,     0,     0,     0,     0,     0,     0,     0,     0,\n",
              "             0,     0,     0,     0,     0,     0,     0,     0,     0,\n",
              "             0,     0,     0,     0],\n",
              "        [ 4515,    20,   467,   311,   745,  5859,     7,     3,     0,\n",
              "             0,     0,     0,     0,     0,     0,     0,     0,     0,\n",
              "             0,     0,     0,     0,     0,     0,     0,     0,     0,\n",
              "             0,     0,     0,     0,     0,     0,     0,     0,     0,\n",
              "             0,     0,     0,     0],\n",
              "        [17578,   506,     7,     3,     0,     0,     0,     0,     0,\n",
              "             0,     0,     0,     0,     0,     0,     0,     0,     0,\n",
              "             0,     0,     0,     0,     0,     0,     0,     0,     0,\n",
              "             0,     0,     0,     0,     0,     0,     0,     0,     0,\n",
              "             0,     0,     0,     0],\n",
              "        [ 4387,    15,  6678,  1329,    61, 10540,    57,  9180,   506,\n",
              "             7,     3,     0,     0,     0,     0,     0,     0,     0,\n",
              "             0,     0,     0,     0,     0,     0,     0,     0,     0,\n",
              "             0,     0,     0,     0,     0,     0,     0,     0,     0,\n",
              "             0,     0,     0,     0],\n",
              "        [  215,    57,    12, 15044,  3976,    15,    10, 31951,   107,\n",
              "           191, 17059,     7,     3,     0,     0,     0,     0,     0,\n",
              "             0,     0,     0,     0,     0,     0,     0,     0,     0,\n",
              "             0,     0,     0,     0,     0,     0,     0,     0,     0,\n",
              "             0,     0,     0,     0],\n",
              "        [   91,  2145,    19,  1589,  1146,   729,   506,     7,     3,\n",
              "             0,     0,     0,     0,     0,     0,     0,     0,     0,\n",
              "             0,     0,     0,     0,     0,     0,     0,     0,     0,\n",
              "             0,     0,     0,     0,     0,     0,     0,     0,     0,\n",
              "             0,     0,     0,     0],\n",
              "        [ 2535,   187, 28919,    57,  9180,   506,     7,     3,     0,\n",
              "             0,     0,     0,     0,     0,     0,     0,     0,     0,\n",
              "             0,     0,     0,     0,     0,     0,     0,     0,     0,\n",
              "             0,     0,     0,     0,     0,     0,     0,     0,     0,\n",
              "             0,     0,     0,     0],\n",
              "        [   91,  4765,    11,   520,  9680,   157,  1429,  1994, 17059,\n",
              "             7,     3,     0,     0,     0,     0,     0,     0,     0,\n",
              "             0,     0,     0,     0,     0,     0,     0,     0,     0,\n",
              "             0,     0,     0,     0,     0,     0,     0,     0,     0,\n",
              "             0,     0,     0,     0],\n",
              "        [ 9672,    19,   750,   735,    12,  2490, 31997, 18102,     7,\n",
              "             3,     0,     0,     0,     0,     0,     0,     0,     0,\n",
              "             0,     0,     0,     0,     0,     0,     0,     0,     0,\n",
              "             0,     0,     0,     0,     0,     0,     0,     0,     0,\n",
              "             0,     0,     0,     0]]))"
            ]
          },
          "metadata": {
            "tags": []
          },
          "execution_count": 43
        }
      ]
    },
    {
      "cell_type": "markdown",
      "metadata": {
        "id": "UcCJTiPNKwMD"
      },
      "source": [
        "## Modeling"
      ]
    },
    {
      "cell_type": "code",
      "metadata": {
        "id": "i5-p1TjVIdaK",
        "colab": {
          "base_uri": "https://localhost:8080/"
        },
        "outputId": "8e23859c-4790-4fd6-bcba-86242d3c7861"
      },
      "source": [
        "args.n_vocab = len(vocab)\n",
        "args.d_model = 256\n",
        "args"
      ],
      "execution_count": null,
      "outputs": [
        {
          "output_type": "execute_result",
          "data": {
            "text/plain": [
              "Namespace(d_model=256, n_vocab=32007, seed=1234)"
            ]
          },
          "metadata": {
            "tags": []
          },
          "execution_count": 44
        }
      ]
    },
    {
      "cell_type": "code",
      "metadata": {
        "id": "jIEOY8KU8rfv"
      },
      "source": [
        "def build_model(args):\n",
        "    enc_inputs = tf.keras.layers.Input((None,), name=\"enc_inputs\")  # (bs, n_enc_seq)\n",
        "    dec_inputs = tf.keras.layers.Input((None,), name=\"dec_inputs\")  # (bs, n_dec_seq)\n",
        "    ################################\n",
        "    # Embedding\n",
        "    ################################\n",
        "    embedding = tf.keras.layers.Embedding(args.n_vocab, args.d_model, name=\"embedding\")\n",
        "    enc_hidden = embedding(enc_inputs)  # (bs, n_enc_seq, d_model)\n",
        "    dec_hidden = embedding(dec_inputs)  # (bs, n_dec_seq, d_model)\n",
        "    ################################\n",
        "    # Encoder\n",
        "    ################################\n",
        "    enc_lstm = tf.keras.layers.LSTM(units=args.d_model, return_state=True, name=\"enc_lstm\")\n",
        "    enc_hidden, enc_h_state, enc_c_state = enc_lstm(enc_hidden)\n",
        "    # _, enc_h_state, enc_c_state = enc_lstm(enc_hidden) 안쓰면 이렇게 변수명 막으면됨\n",
        "    ################################\n",
        "    # Decoder\n",
        "    ################################\n",
        "    dec_lstm = tf.keras.layers.LSTM(units=args.d_model, return_sequences=True, name=\"dec_lstm\")\n",
        "    dec_hidden = dec_lstm(dec_hidden, initial_state=[enc_h_state, enc_c_state])\n",
        "    ################################\n",
        "    # Next word prediction\n",
        "    ################################\n",
        "    linear = tf.keras.layers.Dense(args.n_vocab, activation=tf.nn.softmax, name=\"out_linear\")\n",
        "    y_pred = linear(dec_hidden)\n",
        "    ################################\n",
        "    # Model\n",
        "    ################################\n",
        "    model = tf.keras.Model(inputs=(enc_inputs, dec_inputs), outputs=y_pred)\n",
        "    return model"
      ],
      "execution_count": null,
      "outputs": []
    },
    {
      "cell_type": "code",
      "metadata": {
        "colab": {
          "base_uri": "https://localhost:8080/",
          "height": 444
        },
        "id": "0VVfRTKn8rfv",
        "outputId": "58f7ee3e-6a6c-45d5-b892-3b322bff43a7"
      },
      "source": [
        "model = build_model(args)\n",
        "tf.keras.utils.plot_model(model, 'model.png', show_shapes=True)"
      ],
      "execution_count": null,
      "outputs": [
        {
          "output_type": "execute_result",
          "data": {
            "image/png": "[encoded data removed]",
            "text/plain": [
              "<IPython.core.display.Image object>"
            ]
          },
          "metadata": {
            "tags": []
          },
          "execution_count": 64
        }
      ]
    },
    {
      "cell_type": "code",
      "metadata": {
        "id": "Y6YINRMmQQ8H",
        "colab": {
          "base_uri": "https://localhost:8080/"
        },
        "outputId": "fb9b2473-6724-4f78-843d-bd3bf68e8862"
      },
      "source": [
        "model.predict((train_enc_inputs[:4], train_dec_inputs[:4]))"
      ],
      "execution_count": null,
      "outputs": [
        {
          "output_type": "execute_result",
          "data": {
            "text/plain": [
              "array([[[3.1187854e-05, 3.1203606e-05, 3.1298761e-05, ...,\n",
              "         3.1258249e-05, 3.1166532e-05, 3.1246782e-05],\n",
              "        [3.1158328e-05, 3.1231215e-05, 3.1320258e-05, ...,\n",
              "         3.1286898e-05, 3.1214571e-05, 3.1255229e-05],\n",
              "        [3.1185598e-05, 3.1251911e-05, 3.1322190e-05, ...,\n",
              "         3.1294341e-05, 3.1200583e-05, 3.1282023e-05],\n",
              "        ...,\n",
              "        [3.1357238e-05, 3.1162916e-05, 3.1342461e-05, ...,\n",
              "         3.1220839e-05, 3.1220727e-05, 3.1311716e-05],\n",
              "        [3.1357209e-05, 3.1162850e-05, 3.1342457e-05, ...,\n",
              "         3.1220945e-05, 3.1220748e-05, 3.1311643e-05],\n",
              "        [3.1357191e-05, 3.1162799e-05, 3.1342453e-05, ...,\n",
              "         3.1221032e-05, 3.1220767e-05, 3.1311574e-05]],\n",
              "\n",
              "       [[3.1176463e-05, 3.1202482e-05, 3.1300657e-05, ...,\n",
              "         3.1263091e-05, 3.1170843e-05, 3.1243861e-05],\n",
              "        [3.1188596e-05, 3.1225813e-05, 3.1260563e-05, ...,\n",
              "         3.1275747e-05, 3.1176016e-05, 3.1233089e-05],\n",
              "        [3.1177660e-05, 3.1241907e-05, 3.1264852e-05, ...,\n",
              "         3.1299904e-05, 3.1236628e-05, 3.1238575e-05],\n",
              "        ...,\n",
              "        [3.1356860e-05, 3.1163221e-05, 3.1342319e-05, ...,\n",
              "         3.1220352e-05, 3.1220829e-05, 3.1312062e-05],\n",
              "        [3.1356889e-05, 3.1163094e-05, 3.1342330e-05, ...,\n",
              "         3.1220530e-05, 3.1220836e-05, 3.1311938e-05],\n",
              "        [3.1356911e-05, 3.1162988e-05, 3.1342341e-05, ...,\n",
              "         3.1220683e-05, 3.1220839e-05, 3.1311825e-05]],\n",
              "\n",
              "       [[3.1179035e-05, 3.1201464e-05, 3.1299664e-05, ...,\n",
              "         3.1260173e-05, 3.1170130e-05, 3.1242475e-05],\n",
              "        [3.1183936e-05, 3.1210027e-05, 3.1257779e-05, ...,\n",
              "         3.1268562e-05, 3.1168016e-05, 3.1239884e-05],\n",
              "        [3.1192896e-05, 3.1229571e-05, 3.1243104e-05, ...,\n",
              "         3.1274260e-05, 3.1210624e-05, 3.1239859e-05],\n",
              "        ...,\n",
              "        [3.1356984e-05, 3.1163145e-05, 3.1342293e-05, ...,\n",
              "         3.1220603e-05, 3.1220658e-05, 3.1311913e-05],\n",
              "        [3.1356994e-05, 3.1163032e-05, 3.1342319e-05, ...,\n",
              "         3.1220748e-05, 3.1220690e-05, 3.1311803e-05],\n",
              "        [3.1357013e-05, 3.1162945e-05, 3.1342341e-05, ...,\n",
              "         3.1220879e-05, 3.1220723e-05, 3.1311713e-05]],\n",
              "\n",
              "       [[3.1175627e-05, 3.1199575e-05, 3.1300006e-05, ...,\n",
              "         3.1264135e-05, 3.1172061e-05, 3.1245450e-05],\n",
              "        [3.1212934e-05, 3.1228210e-05, 3.1267264e-05, ...,\n",
              "         3.1280128e-05, 3.1199303e-05, 3.1228647e-05],\n",
              "        [3.1207925e-05, 3.1213964e-05, 3.1240743e-05, ...,\n",
              "         3.1312084e-05, 3.1203326e-05, 3.1218333e-05],\n",
              "        ...,\n",
              "        [3.1357104e-05, 3.1162770e-05, 3.1342424e-05, ...,\n",
              "         3.1221112e-05, 3.1220778e-05, 3.1311578e-05],\n",
              "        [3.1357104e-05, 3.1162726e-05, 3.1342421e-05, ...,\n",
              "         3.1221181e-05, 3.1220792e-05, 3.1311505e-05],\n",
              "        [3.1357104e-05, 3.1162694e-05, 3.1342417e-05, ...,\n",
              "         3.1221236e-05, 3.1220803e-05, 3.1311443e-05]]], dtype=float32)"
            ]
          },
          "metadata": {
            "tags": []
          },
          "execution_count": 65
        }
      ]
    },
    {
      "cell_type": "markdown",
      "metadata": {
        "id": "gWkJRJPUUVnu"
      },
      "source": [
        "## Train"
      ]
    },
    {
      "cell_type": "code",
      "metadata": {
        "colab": {
          "base_uri": "https://localhost:8080/",
          "height": 444
        },
        "id": "o694YCd8RYmR",
        "outputId": "35d21171-6ddb-4aee-d7e0-7799ad4123ad"
      },
      "source": [
        "model = build_model(args)\n",
        "tf.keras.utils.plot_model(model, 'model.png', show_shapes=True)"
      ],
      "execution_count": null,
      "outputs": [
        {
          "output_type": "execute_result",
          "data": {
            "image/png": "[encoded data removed]",
            "text/plain": [
              "<IPython.core.display.Image object>"
            ]
          },
          "metadata": {
            "tags": []
          },
          "execution_count": 66
        }
      ]
    },
    {
      "cell_type": "code",
      "metadata": {
        "id": "l6VXTtmTUXnR"
      },
      "source": [
        "model.compile(loss=lm_loss, optimizer=\"adam\", metrics=[lm_acc])"
      ],
      "execution_count": null,
      "outputs": []
    },
    {
      "cell_type": "code",
      "metadata": {
        "id": "lGZkY40DXnRP"
      },
      "source": [
        "early_stopping = tf.keras.callbacks.EarlyStopping(monitor='lm_acc', patience=30)\n",
        "save_weights = tf.keras.callbacks.ModelCheckpoint(os.path.join(sychat_dir, \"lstm.hdf5\"), # 채팅 디렉토리안에 lstm이란 이름으로 저장\n",
        "                                                  monitor='lm_acc',\n",
        "                                                  verbose=1,\n",
        "                                                  save_best_only=True,\n",
        "                                                  mode=\"max\",\n",
        "                                                  save_freq=\"epoch\",\n",
        "                                                  save_weights_only=True)\n",
        "csv_logger = tf.keras.callbacks.CSVLogger(os.path.join(sychat_dir, \"lstm.csv\"))"
      ],
      "execution_count": null,
      "outputs": []
    },
    {
      "cell_type": "code",
      "metadata": {
        "id": "J3-azx5XUtaR",
        "colab": {
          "base_uri": "https://localhost:8080/"
        },
        "outputId": "7a893a8c-aed9-469e-cec0-764f604ce737"
      },
      "source": [
        "history = model.fit((train_enc_inputs, train_dec_inputs),\n",
        "                    train_dec_labels,\n",
        "                    epochs=100,\n",
        "                    batch_size=64,\n",
        "                    callbacks=[early_stopping, save_weights, csv_logger])"
      ],
      "execution_count": null,
      "outputs": [
        {
          "output_type": "stream",
          "text": [
            "Epoch 1/100\n",
            "1/1 [==============================] - 4s 4s/step - loss: 2.3860 - lm_acc: 0.0000e+00\n",
            "\n",
            "Epoch 00001: lm_acc improved from -inf to 0.00000, saving model to /content/drive/MyDrive/ict-ai-복합고급언어-nlp/data/songys-chat/lstm.hdf5\n",
            "Epoch 2/100\n",
            "1/1 [==============================] - 1s 816ms/step - loss: 2.3849 - lm_acc: 0.1304\n",
            "\n",
            "Epoch 00002: lm_acc improved from 0.00000 to 0.13043, saving model to /content/drive/MyDrive/ict-ai-복합고급언어-nlp/data/songys-chat/lstm.hdf5\n",
            "Epoch 3/100\n",
            "1/1 [==============================] - 1s 820ms/step - loss: 2.3836 - lm_acc: 0.2500\n",
            "\n",
            "Epoch 00003: lm_acc improved from 0.13043 to 0.25000, saving model to /content/drive/MyDrive/ict-ai-복합고급언어-nlp/data/songys-chat/lstm.hdf5\n",
            "Epoch 4/100\n",
            "1/1 [==============================] - 1s 796ms/step - loss: 2.3817 - lm_acc: 0.2391\n",
            "\n",
            "Epoch 00004: lm_acc did not improve from 0.25000\n",
            "Epoch 5/100\n",
            "1/1 [==============================] - 1s 783ms/step - loss: 2.3784 - lm_acc: 0.2609\n",
            "\n",
            "Epoch 00005: lm_acc improved from 0.25000 to 0.26087, saving model to /content/drive/MyDrive/ict-ai-복합고급언어-nlp/data/songys-chat/lstm.hdf5\n",
            "Epoch 6/100\n",
            "1/1 [==============================] - 1s 802ms/step - loss: 2.3724 - lm_acc: 0.2500\n",
            "\n",
            "Epoch 00006: lm_acc did not improve from 0.26087\n",
            "Epoch 7/100\n",
            "1/1 [==============================] - 1s 825ms/step - loss: 2.3602 - lm_acc: 0.2500\n",
            "\n",
            "Epoch 00007: lm_acc did not improve from 0.26087\n",
            "Epoch 8/100\n",
            "1/1 [==============================] - 1s 784ms/step - loss: 2.3348 - lm_acc: 0.1957\n",
            "\n",
            "Epoch 00008: lm_acc did not improve from 0.26087\n",
            "Epoch 9/100\n",
            "1/1 [==============================] - 1s 786ms/step - loss: 2.2866 - lm_acc: 0.0870\n",
            "\n",
            "Epoch 00009: lm_acc did not improve from 0.26087\n",
            "Epoch 10/100\n",
            "1/1 [==============================] - 1s 774ms/step - loss: 2.2188 - lm_acc: 0.0652\n",
            "\n",
            "Epoch 00010: lm_acc did not improve from 0.26087\n",
            "Epoch 11/100\n",
            "1/1 [==============================] - 1s 769ms/step - loss: 2.1467 - lm_acc: 0.0652\n",
            "\n",
            "Epoch 00011: lm_acc did not improve from 0.26087\n",
            "Epoch 12/100\n",
            "1/1 [==============================] - 1s 771ms/step - loss: 2.0741 - lm_acc: 0.0652\n",
            "\n",
            "Epoch 00012: lm_acc did not improve from 0.26087\n",
            "Epoch 13/100\n",
            "1/1 [==============================] - 1s 843ms/step - loss: 1.9959 - lm_acc: 0.0652\n",
            "\n",
            "Epoch 00013: lm_acc did not improve from 0.26087\n",
            "Epoch 14/100\n",
            "1/1 [==============================] - 1s 894ms/step - loss: 1.9089 - lm_acc: 0.0761\n",
            "\n",
            "Epoch 00014: lm_acc did not improve from 0.26087\n",
            "Epoch 15/100\n",
            "1/1 [==============================] - 1s 778ms/step - loss: 1.8118 - lm_acc: 0.0652\n",
            "\n",
            "Epoch 00015: lm_acc did not improve from 0.26087\n",
            "Epoch 16/100\n",
            "1/1 [==============================] - 1s 802ms/step - loss: 1.7050 - lm_acc: 0.0652\n",
            "\n",
            "Epoch 00016: lm_acc did not improve from 0.26087\n",
            "Epoch 17/100\n",
            "1/1 [==============================] - 1s 780ms/step - loss: 1.5898 - lm_acc: 0.0652\n",
            "\n",
            "Epoch 00017: lm_acc did not improve from 0.26087\n",
            "Epoch 18/100\n",
            "1/1 [==============================] - 1s 756ms/step - loss: 1.4697 - lm_acc: 0.0652\n",
            "\n",
            "Epoch 00018: lm_acc did not improve from 0.26087\n",
            "Epoch 19/100\n",
            "1/1 [==============================] - 1s 769ms/step - loss: 1.3502 - lm_acc: 0.0435\n",
            "\n",
            "Epoch 00019: lm_acc did not improve from 0.26087\n",
            "Epoch 20/100\n",
            "1/1 [==============================] - 1s 773ms/step - loss: 1.2382 - lm_acc: 0.0435\n",
            "\n",
            "Epoch 00020: lm_acc did not improve from 0.26087\n",
            "Epoch 21/100\n",
            "1/1 [==============================] - 1s 813ms/step - loss: 1.1395 - lm_acc: 0.0435\n",
            "\n",
            "Epoch 00021: lm_acc did not improve from 0.26087\n",
            "Epoch 22/100\n",
            "1/1 [==============================] - 1s 762ms/step - loss: 1.0582 - lm_acc: 0.0435\n",
            "\n",
            "Epoch 00022: lm_acc did not improve from 0.26087\n",
            "Epoch 23/100\n",
            "1/1 [==============================] - 1s 765ms/step - loss: 0.9954 - lm_acc: 0.0435\n",
            "\n",
            "Epoch 00023: lm_acc did not improve from 0.26087\n",
            "Epoch 24/100\n",
            "1/1 [==============================] - 1s 781ms/step - loss: 0.9491 - lm_acc: 0.0652\n",
            "\n",
            "Epoch 00024: lm_acc did not improve from 0.26087\n",
            "Epoch 25/100\n",
            "1/1 [==============================] - 1s 774ms/step - loss: 0.9152 - lm_acc: 0.0761\n",
            "\n",
            "Epoch 00025: lm_acc did not improve from 0.26087\n",
            "Epoch 26/100\n",
            "1/1 [==============================] - 1s 776ms/step - loss: 0.8900 - lm_acc: 0.0761\n",
            "\n",
            "Epoch 00026: lm_acc did not improve from 0.26087\n",
            "Epoch 27/100\n",
            "1/1 [==============================] - 1s 793ms/step - loss: 0.8702 - lm_acc: 0.0761\n",
            "\n",
            "Epoch 00027: lm_acc did not improve from 0.26087\n",
            "Epoch 28/100\n",
            "1/1 [==============================] - 1s 770ms/step - loss: 0.8535 - lm_acc: 0.0652\n",
            "\n",
            "Epoch 00028: lm_acc did not improve from 0.26087\n",
            "Epoch 29/100\n",
            "1/1 [==============================] - 1s 785ms/step - loss: 0.8391 - lm_acc: 0.0652\n",
            "\n",
            "Epoch 00029: lm_acc did not improve from 0.26087\n",
            "Epoch 30/100\n",
            "1/1 [==============================] - 1s 755ms/step - loss: 0.8271 - lm_acc: 0.0652\n",
            "\n",
            "Epoch 00030: lm_acc did not improve from 0.26087\n",
            "Epoch 31/100\n",
            "1/1 [==============================] - 1s 753ms/step - loss: 0.8172 - lm_acc: 0.1304\n",
            "\n",
            "Epoch 00031: lm_acc did not improve from 0.26087\n",
            "Epoch 32/100\n",
            "1/1 [==============================] - 1s 766ms/step - loss: 0.8090 - lm_acc: 0.1196\n",
            "\n",
            "Epoch 00032: lm_acc did not improve from 0.26087\n",
            "Epoch 33/100\n",
            "1/1 [==============================] - 1s 784ms/step - loss: 0.8018 - lm_acc: 0.1196\n",
            "\n",
            "Epoch 00033: lm_acc did not improve from 0.26087\n",
            "Epoch 34/100\n",
            "1/1 [==============================] - 1s 775ms/step - loss: 0.7955 - lm_acc: 0.1196\n",
            "\n",
            "Epoch 00034: lm_acc did not improve from 0.26087\n",
            "Epoch 35/100\n",
            "1/1 [==============================] - 1s 769ms/step - loss: 0.7902 - lm_acc: 0.1304\n",
            "\n",
            "Epoch 00035: lm_acc did not improve from 0.26087\n"
          ],
          "name": "stdout"
        }
      ]
    },
    {
      "cell_type": "code",
      "metadata": {
        "colab": {
          "base_uri": "https://localhost:8080/",
          "height": 265
        },
        "id": "1cTSE4OyVHbD",
        "outputId": "67707acb-1588-4b3c-c0c4-230a545c7fda"
      },
      "source": [
        "plt.figure(figsize=(12, 4))\n",
        "\n",
        "plt.subplot(1, 2, 1)\n",
        "plt.plot(history.history['loss'], 'b-', label='loss')\n",
        "\n",
        "plt.subplot(1, 2, 2)\n",
        "plt.plot(history.history['lm_acc'], 'g-', label='accuracy')\n",
        "\n",
        "plt.show()"
      ],
      "execution_count": null,
      "outputs": [
        {
          "output_type": "display_data",
          "data": {
            "image/png": "[encoded data removed]",
            "text/plain": [
              "<Figure size 864x288 with 2 Axes>"
            ]
          },
          "metadata": {
            "tags": [],
            "needs_background": "light"
          }
        }
      ]
    },
    {
      "cell_type": "markdown",
      "metadata": {
        "id": "NkjDHsVHrn6x"
      },
      "source": [
        "## BLEU"
      ]
    },
    {
      "cell_type": "code",
      "metadata": {
        "id": "-Qijx7W-wD7S"
      },
      "source": [
        "candidate = 'the the the the the the the'.split()\n",
        "references = [\n",
        "    'the cat is on the mat'.split(),\n",
        "    'there is a cat on the mat'.split()\n",
        "]"
      ],
      "execution_count": null,
      "outputs": []
    },
    {
      "cell_type": "code",
      "metadata": {
        "colab": {
          "base_uri": "https://localhost:8080/"
        },
        "id": "xGztijXPkTcT",
        "outputId": "da9108ed-4a19-4860-c759-c543defb177d"
      },
      "source": [
        "candidate, references"
      ],
      "execution_count": null,
      "outputs": [
        {
          "output_type": "execute_result",
          "data": {
            "text/plain": [
              "(['the', 'the', 'the', 'the', 'the', 'the', 'the'],\n",
              " [['the', 'cat', 'is', 'on', 'the', 'mat'],\n",
              "  ['there', 'is', 'a', 'cat', 'on', 'the', 'mat']])"
            ]
          },
          "metadata": {
            "tags": []
          },
          "execution_count": 73
        }
      ]
    },
    {
      "cell_type": "code",
      "metadata": {
        "colab": {
          "base_uri": "https://localhost:8080/"
        },
        "id": "G-6FwSE4nFyM",
        "outputId": "accb7a17-d0f2-4a76-9f8e-a81e9fa38ef4"
      },
      "source": [
        "a = collections.defaultdict(int) # 없는 값이 나오면 초기값을 제공함!\n",
        "a['c']\n",
        "a['d']\n",
        "a"
      ],
      "execution_count": null,
      "outputs": [
        {
          "output_type": "execute_result",
          "data": {
            "text/plain": [
              "defaultdict(int, {'c': 0, 'd': 0})"
            ]
          },
          "metadata": {
            "tags": []
          },
          "execution_count": 96
        }
      ]
    },
    {
      "cell_type": "code",
      "metadata": {
        "colab": {
          "base_uri": "https://localhost:8080/"
        },
        "id": "Rm0NfFy0nLAy",
        "outputId": "0f3e5615-5670-405d-b7d3-c63a98c155c5"
      },
      "source": [
        "b = {} # 기본 딕셔너리는 오류가 걸리지만\n",
        "b"
      ],
      "execution_count": null,
      "outputs": [
        {
          "output_type": "execute_result",
          "data": {
            "text/plain": [
              "{}"
            ]
          },
          "metadata": {
            "tags": []
          },
          "execution_count": 91
        }
      ]
    },
    {
      "cell_type": "code",
      "metadata": {
        "id": "w0FbXo13tAvB"
      },
      "source": [
        "def get_ngram(tokens, ngram):\n",
        "    # tokens n-gram\n",
        "    counter = collections.defaultdict(int)\n",
        "    # print(counter)\n",
        "    for i in range(len(tokens) - ngram + 1):\n",
        "        # n-gram 별 count\n",
        "        key = tuple(tokens[i:i+ngram])\n",
        "        # print(key)\n",
        "        counter[key] += 1\n",
        "        print(i, key, counter)\n",
        "    return  counter"
      ],
      "execution_count": null,
      "outputs": []
    },
    {
      "cell_type": "code",
      "metadata": {
        "colab": {
          "base_uri": "https://localhost:8080/"
        },
        "id": "2HXgBjZntaqj",
        "outputId": "09a9f053-9ca3-474b-b9cd-3a2b4b5f9d59"
      },
      "source": [
        "get_ngram(candidate, 1)"
      ],
      "execution_count": null,
      "outputs": [
        {
          "output_type": "stream",
          "text": [
            "0 ('the',) defaultdict(<class 'int'>, {('the',): 1})\n",
            "1 ('the',) defaultdict(<class 'int'>, {('the',): 2})\n",
            "2 ('the',) defaultdict(<class 'int'>, {('the',): 3})\n",
            "3 ('the',) defaultdict(<class 'int'>, {('the',): 4})\n",
            "4 ('the',) defaultdict(<class 'int'>, {('the',): 5})\n",
            "5 ('the',) defaultdict(<class 'int'>, {('the',): 6})\n",
            "6 ('the',) defaultdict(<class 'int'>, {('the',): 7})\n"
          ],
          "name": "stdout"
        },
        {
          "output_type": "execute_result",
          "data": {
            "text/plain": [
              "defaultdict(int, {('the',): 7})"
            ]
          },
          "metadata": {
            "tags": []
          },
          "execution_count": 110
        }
      ]
    },
    {
      "cell_type": "code",
      "metadata": {
        "colab": {
          "base_uri": "https://localhost:8080/"
        },
        "id": "nmcAjMsakqzq",
        "outputId": "6a4f5757-5dfa-4310-fd62-6ed264cbc4f5"
      },
      "source": [
        "get_ngram(candidate, 2)"
      ],
      "execution_count": null,
      "outputs": [
        {
          "output_type": "stream",
          "text": [
            "0 ('the', 'the') defaultdict(<class 'int'>, {('the', 'the'): 1})\n",
            "1 ('the', 'the') defaultdict(<class 'int'>, {('the', 'the'): 2})\n",
            "2 ('the', 'the') defaultdict(<class 'int'>, {('the', 'the'): 3})\n",
            "3 ('the', 'the') defaultdict(<class 'int'>, {('the', 'the'): 4})\n",
            "4 ('the', 'the') defaultdict(<class 'int'>, {('the', 'the'): 5})\n",
            "5 ('the', 'the') defaultdict(<class 'int'>, {('the', 'the'): 6})\n"
          ],
          "name": "stdout"
        },
        {
          "output_type": "execute_result",
          "data": {
            "text/plain": [
              "defaultdict(int, {('the', 'the'): 6})"
            ]
          },
          "metadata": {
            "tags": []
          },
          "execution_count": 111
        }
      ]
    },
    {
      "cell_type": "code",
      "metadata": {
        "colab": {
          "base_uri": "https://localhost:8080/"
        },
        "id": "RzzRDV0Vks2c",
        "outputId": "1d452ceb-81db-4af4-d0ba-692abcd5b851"
      },
      "source": [
        "get_ngram(candidate, 3)"
      ],
      "execution_count": null,
      "outputs": [
        {
          "output_type": "stream",
          "text": [
            "0 ('the', 'the', 'the') defaultdict(<class 'int'>, {('the', 'the', 'the'): 1})\n",
            "1 ('the', 'the', 'the') defaultdict(<class 'int'>, {('the', 'the', 'the'): 2})\n",
            "2 ('the', 'the', 'the') defaultdict(<class 'int'>, {('the', 'the', 'the'): 3})\n",
            "3 ('the', 'the', 'the') defaultdict(<class 'int'>, {('the', 'the', 'the'): 4})\n",
            "4 ('the', 'the', 'the') defaultdict(<class 'int'>, {('the', 'the', 'the'): 5})\n"
          ],
          "name": "stdout"
        },
        {
          "output_type": "execute_result",
          "data": {
            "text/plain": [
              "defaultdict(int, {('the', 'the', 'the'): 5})"
            ]
          },
          "metadata": {
            "tags": []
          },
          "execution_count": 112
        }
      ]
    },
    {
      "cell_type": "code",
      "metadata": {
        "id": "aVj2RVSYvHWG"
      },
      "source": [
        "# cliping = 래퍼런스의 max값\n",
        "\n",
        "\n",
        "def get_ngram_clip(candidate, references, ngram):\n",
        "    # max ref counter\n",
        "    max_counter = collections.defaultdict(int)\n",
        "    # check max count\n",
        "    for ref in references: # 래퍼런스가 여러개니까\n",
        "        ref_counter = get_ngram(ref, ngram)\n",
        "        print(ref)\n",
        "        print(ref_counter) # dict으로 중복없이, 중복된거는 count해주고\n",
        "\n",
        "        for key, cnt in ref_counter.items():\n",
        "            max_counter[key] = max(max_counter[key], ref_counter.get(key, 0)) # none이 있을때 get함수를 통해 0으로 줘라!\n",
        "            print(key, ref_counter.get)\n",
        "\n",
        "    # candidate counter\n",
        "    can_counter = get_ngram(candidate, ngram)\n",
        "    # print(max_counter)\n",
        "    # print(can_counter)\n",
        "\n",
        "    # 위에 max count랑 ,candidate counter 구했으니까 min값 구해야지\n",
        "    # clip counter 그 2개의 minimum값을 구하는거지\n",
        "\n",
        "    clip_counter = collections.defaultdict(int)\n",
        "    for key, cnt in can_counter.items():\n",
        "        clip_counter[key] = min(can_counter[key], max_counter.get(key, 0)) \n",
        "    return clip_counter"
      ],
      "execution_count": null,
      "outputs": []
    },
    {
      "cell_type": "code",
      "metadata": {
        "colab": {
          "base_uri": "https://localhost:8080/"
        },
        "id": "m6eNQA70vblC",
        "outputId": "7a577bc2-5b31-41ca-c4fe-8ff747ac3102"
      },
      "source": [
        "get_ngram_clip(candidate, references, 1)"
      ],
      "execution_count": null,
      "outputs": [
        {
          "output_type": "stream",
          "text": [
            "['the', 'cat', 'is', 'on', 'the', 'mat']\n",
            "defaultdict(<class 'int'>, {('the',): 2, ('cat',): 1, ('is',): 1, ('on',): 1, ('mat',): 1})\n",
            "defaultdict(<class 'int'>, {('the',): 2, ('cat',): 1, ('is',): 1, ('on',): 1, ('mat',): 1})\n",
            "['there', 'is', 'a', 'cat', 'on', 'the', 'mat']\n",
            "defaultdict(<class 'int'>, {('there',): 1, ('is',): 1, ('a',): 1, ('cat',): 1, ('on',): 1, ('the',): 1, ('mat',): 1})\n",
            "defaultdict(<class 'int'>, {('the',): 2, ('cat',): 1, ('is',): 1, ('on',): 1, ('mat',): 1, ('there',): 1, ('a',): 1})\n"
          ],
          "name": "stdout"
        }
      ]
    },
    {
      "cell_type": "code",
      "metadata": {
        "id": "C9fJAXZ9xy08"
      },
      "source": [
        "# FP/TP + FP => positive 예측중에 정답 비율\n",
        "\n",
        "def get_ngram_precision(candidate, references, ngram):\n",
        "    # clip counter\n",
        "    clip_counter = get_ngram_clip(candidate, references, ngram) \n",
        "    print(clip_counter)\n",
        "    n_clip = sum(clip_counter.values())\n",
        "    print(n_clip)\n",
        "\n",
        "    # ref counter\n",
        "    can_counter = get_ngram(candidate, ngram)\n",
        "    print(can_counter)\n",
        "    n_total = sum(can_counter.values())\n",
        "\n",
        "    return n_clip / max(n_total, 1)  # 분모 0 방지"
      ],
      "execution_count": null,
      "outputs": []
    },
    {
      "cell_type": "code",
      "metadata": {
        "colab": {
          "base_uri": "https://localhost:8080/"
        },
        "id": "MGt_oS8lx4ef",
        "outputId": "e403e179-7c14-4537-9b15-0b89d5f69cfa"
      },
      "source": [
        "get_ngram_precision(candidate, references, 1)"
      ],
      "execution_count": null,
      "outputs": [
        {
          "output_type": "stream",
          "text": [
            "defaultdict(<class 'int'>, {})\n",
            "('the',)\n",
            "('cat',)\n",
            "('is',)\n",
            "('on',)\n",
            "('the',)\n",
            "('mat',)\n",
            "['the', 'cat', 'is', 'on', 'the', 'mat']\n",
            "defaultdict(<class 'int'>, {('the',): 2, ('cat',): 1, ('is',): 1, ('on',): 1, ('mat',): 1})\n",
            "defaultdict(<class 'int'>, {('the',): 2, ('cat',): 1, ('is',): 1, ('on',): 1, ('mat',): 1})\n",
            "defaultdict(<class 'int'>, {})\n",
            "('there',)\n",
            "('is',)\n",
            "('a',)\n",
            "('cat',)\n",
            "('on',)\n",
            "('the',)\n",
            "('mat',)\n",
            "['there', 'is', 'a', 'cat', 'on', 'the', 'mat']\n",
            "defaultdict(<class 'int'>, {('there',): 1, ('is',): 1, ('a',): 1, ('cat',): 1, ('on',): 1, ('the',): 1, ('mat',): 1})\n",
            "defaultdict(<class 'int'>, {('the',): 2, ('cat',): 1, ('is',): 1, ('on',): 1, ('mat',): 1, ('there',): 1, ('a',): 1})\n",
            "defaultdict(<class 'int'>, {})\n",
            "('the',)\n",
            "('the',)\n",
            "('the',)\n",
            "('the',)\n",
            "('the',)\n",
            "('the',)\n",
            "('the',)\n",
            "defaultdict(<class 'int'>, {('the',): 2, ('cat',): 1, ('is',): 1, ('on',): 1, ('mat',): 1, ('there',): 1, ('a',): 1})\n",
            "defaultdict(<class 'int'>, {('the',): 7})\n",
            "defaultdict(<class 'int'>, {('the',): 2})\n",
            "2\n",
            "defaultdict(<class 'int'>, {})\n",
            "('the',)\n",
            "('the',)\n",
            "('the',)\n",
            "('the',)\n",
            "('the',)\n",
            "('the',)\n",
            "('the',)\n",
            "defaultdict(<class 'int'>, {('the',): 7})\n"
          ],
          "name": "stdout"
        },
        {
          "output_type": "execute_result",
          "data": {
            "text/plain": [
              "0.2857142857142857"
            ]
          },
          "metadata": {
            "tags": []
          },
          "execution_count": 98
        }
      ]
    },
    {
      "cell_type": "code",
      "metadata": {
        "id": "scot8QcyT9ub"
      },
      "source": [
        "def get_brevity_penalty(candidate, references):\n",
        "    can_len = len(candidate)\n",
        "    ref_len = min([len(reference) for reference in references])\n",
        "\n",
        "    if can_len == 0:  # empty string\n",
        "        return 0\n",
        "    elif can_len > ref_len:\n",
        "        return 1\n",
        "    else:\n",
        "        return np.exp(1 - ref_len / can_len)"
      ],
      "execution_count": null,
      "outputs": []
    },
    {
      "cell_type": "code",
      "metadata": {
        "colab": {
          "base_uri": "https://localhost:8080/"
        },
        "id": "SDRu4vFry1oq",
        "outputId": "f0e6127a-d456-4ceb-e62e-fb95f2706f6f"
      },
      "source": [
        "get_brevity_penalty(candidate, references)"
      ],
      "execution_count": null,
      "outputs": [
        {
          "output_type": "execute_result",
          "data": {
            "text/plain": [
              "1"
            ]
          },
          "metadata": {
            "tags": []
          },
          "execution_count": 38
        }
      ]
    },
    {
      "cell_type": "code",
      "metadata": {
        "id": "3UOgcmCyVavR"
      },
      "source": [
        "def get_bleu_score(candidate, references, weights=[0.25, 0.25, 0.25, 0.25]):\n",
        "    bp = get_brevity_penalty(candidate, references) # BP\n",
        "    p_n = []\n",
        "    for i in range(len(weights)):\n",
        "        p_n.append(get_ngram_precision(candidate, references, i + 1))\n",
        "    score = [w * np.log(p) if p != 0 else 0 for p, w in zip(p_n, weights)]\n",
        "    score = np.sum(score)\n",
        "    score = bp * np.exp(score)\n",
        "    return score"
      ],
      "execution_count": null,
      "outputs": []
    },
    {
      "cell_type": "code",
      "metadata": {
        "colab": {
          "base_uri": "https://localhost:8080/"
        },
        "id": "qk3Cknz2WB75",
        "outputId": "a544ee6f-eb4a-47a5-b3b2-fa4b36477e48"
      },
      "source": [
        "get_bleu_score(candidate, references)"
      ],
      "execution_count": null,
      "outputs": [
        {
          "output_type": "execute_result",
          "data": {
            "text/plain": [
              "0.7311104457090247"
            ]
          },
          "metadata": {
            "tags": []
          },
          "execution_count": 40
        }
      ]
    },
    {
      "cell_type": "code",
      "metadata": {
        "id": "hn8n9Q7tI7XF"
      },
      "source": [
        "import nltk.translate.bleu_score as bleu\n",
        "from nltk import ngrams"
      ],
      "execution_count": null,
      "outputs": []
    },
    {
      "cell_type": "code",
      "metadata": {
        "colab": {
          "base_uri": "https://localhost:8080/"
        },
        "id": "P7p5kTlsI9PI",
        "outputId": "2021baef-a243-4bb6-f931-fc627cf9ebda"
      },
      "source": [
        "bleu.sentence_bleu(references, candidate)"
      ],
      "execution_count": null,
      "outputs": [
        {
          "output_type": "stream",
          "text": [
            "/usr/local/lib/python3.7/dist-packages/nltk/translate/bleu_score.py:490: UserWarning: \n",
            "Corpus/Sentence contains 0 counts of 2-gram overlaps.\n",
            "BLEU scores might be undesirable; use SmoothingFunction().\n",
            "  warnings.warn(_msg)\n"
          ],
          "name": "stderr"
        },
        {
          "output_type": "execute_result",
          "data": {
            "text/plain": [
              "0.7311104457090247"
            ]
          },
          "metadata": {
            "tags": []
          },
          "execution_count": 42
        }
      ]
    },
    {
      "cell_type": "code",
      "metadata": {
        "id": "DUs2khTUJB32"
      },
      "source": [
        "candidate = 'It is a guide to action which ensures that the military always obeys the commands of the party'.split()\n",
        "references = [\n",
        "    'It is a guide to action that ensures that the military will forever heed Party commands'.split(),\n",
        "    'It is the guiding principle which guarantees the military forces always being under the command of the Party'.split(),\n",
        "    'It is the practical guide for the army always to heed the directions of the party'.split()\n",
        "]"
      ],
      "execution_count": null,
      "outputs": []
    },
    {
      "cell_type": "code",
      "metadata": {
        "colab": {
          "base_uri": "https://localhost:8080/"
        },
        "id": "5gk9ON5xJDvg",
        "outputId": "60dfbf95-f3b7-4343-b002-a66ae93df552"
      },
      "source": [
        "get_bleu_score(candidate, references)"
      ],
      "execution_count": null,
      "outputs": [
        {
          "output_type": "execute_result",
          "data": {
            "text/plain": [
              "0.5045666840058485"
            ]
          },
          "metadata": {
            "tags": []
          },
          "execution_count": 44
        }
      ]
    },
    {
      "cell_type": "code",
      "metadata": {
        "colab": {
          "base_uri": "https://localhost:8080/"
        },
        "id": "sHu2sWKUJFXi",
        "outputId": "d9d111e3-8e6d-4555-baac-ca64e798f09c"
      },
      "source": [
        "bleu.sentence_bleu(references, candidate)"
      ],
      "execution_count": null,
      "outputs": [
        {
          "output_type": "execute_result",
          "data": {
            "text/plain": [
              "0.5045666840058485"
            ]
          },
          "metadata": {
            "tags": []
          },
          "execution_count": 45
        }
      ]
    },
    {
      "cell_type": "markdown",
      "metadata": {
        "id": "e2AsK811dKKh"
      },
      "source": [
        "## 평가"
      ]
    },
    {
      "cell_type": "code",
      "metadata": {
        "id": "9Al2X9gFdKKk"
      },
      "source": [
        "model = build_model(args)\n",
        "model.load_weights(os.path.join(sychat_dir, \"lstm.hdf5\"))"
      ],
      "execution_count": null,
      "outputs": []
    },
    {
      "cell_type": "code",
      "metadata": {
        "id": "9tdf5LCwdKKk"
      },
      "source": [
        "model.compile(loss=lm_loss, optimizer=\"adam\", metrics=[lm_acc])"
      ],
      "execution_count": null,
      "outputs": []
    },
    {
      "cell_type": "code",
      "metadata": {
        "id": "LgvfqKqIdKKk"
      },
      "source": [
        "# 100개만 확인\n",
        "valid_enc_inputs = train_enc_inputs[:100]\n",
        "valid_dec_inputs = train_dec_inputs[:100]\n",
        "valid_dec_labels = train_dec_labels[:100]"
      ],
      "execution_count": null,
      "outputs": []
    },
    {
      "cell_type": "code",
      "metadata": {
        "id": "_oH2Qxr1dKKl",
        "colab": {
          "base_uri": "https://localhost:8080/"
        },
        "outputId": "25a19971-e0a8-4200-ac5c-f6db97b58a97"
      },
      "source": [
        "# 평가\n",
        "model.evaluate((valid_enc_inputs, valid_dec_inputs), valid_dec_labels, batch_size=128)"
      ],
      "execution_count": null,
      "outputs": [
        {
          "output_type": "stream",
          "text": [
            "1/1 [==============================] - 1s 1s/step - loss: 2.3758 - lm_acc: 0.2174\n"
          ],
          "name": "stdout"
        },
        {
          "output_type": "execute_result",
          "data": {
            "text/plain": [
              "[2.3757660388946533, 0.21739129722118378]"
            ]
          },
          "metadata": {
            "tags": []
          },
          "execution_count": 49
        }
      ]
    },
    {
      "cell_type": "code",
      "metadata": {
        "colab": {
          "base_uri": "https://localhost:8080/"
        },
        "id": "zc0p1STqUIeL",
        "outputId": "b98ff37e-4c1a-4129-b742-be601ecbd685"
      },
      "source": [
        "references = []\n",
        "for row in valid_dec_labels:\n",
        "    ids = []\n",
        "    for i in row:\n",
        "        if i == vocab.eos_id():\n",
        "            break\n",
        "        ids.append(int(i))\n",
        "    string = vocab.id_to_piece(ids)\n",
        "    references.append(string)\n",
        "references"
      ],
      "execution_count": null,
      "outputs": [
        {
          "output_type": "execute_result",
          "data": {
            "text/plain": [
              "[['▁그것', '▁또한', '▁감정', '의', '▁일부', '니까', '요', '.'],\n",
              " ['▁슈퍼', '라도', '▁가서', '▁쇼핑', '하고', '▁오', '세요', '.'],\n",
              " ['▁이혼', '이', '▁아니라', '▁다', '행', '입니다', '.'],\n",
              " ['▁비싸', '요', '.'],\n",
              " ['▁대화', '를', '▁하다가', '▁친', '해', '졌', '나', '봐', '요', '.'],\n",
              " ['▁신', '나', '는', '▁노래로', '▁분위기', '를', '▁', '띄', '어', '보', '세요', '.'],\n",
              " ['▁다른', '▁기회', '가', '▁올', '▁거', '예', '요', '.'],\n",
              " ['▁이제', '야', '▁깨달았', '나', '봐', '요', '.'],\n",
              " ['▁다른', '▁연락', '을', '▁많이', '▁하거나', '▁더', '▁자주', '▁만나', '세요', '.'],\n",
              " ['▁외모', '가', '▁중요한', '▁시대', '는', '▁끝', '났', '어요', '.']]"
            ]
          },
          "metadata": {
            "tags": []
          },
          "execution_count": 50
        }
      ]
    },
    {
      "cell_type": "code",
      "metadata": {
        "id": "ZfLqPNkgUYGy"
      },
      "source": [
        "# 예측\n",
        "y_pred = model.predict((valid_enc_inputs, valid_dec_inputs))\n",
        "y_pred"
      ],
      "execution_count": null,
      "outputs": []
    },
    {
      "cell_type": "code",
      "metadata": {
        "id": "CplwXmtFUmJI"
      },
      "source": [
        "# greedy decoding\n",
        "y_pred_class = tf.argmax(y_pred, axis=-1).numpy()\n",
        "y_pred_class"
      ],
      "execution_count": null,
      "outputs": []
    },
    {
      "cell_type": "code",
      "metadata": {
        "id": "qButgrE7UnjN"
      },
      "source": [
        "candidates = []\n",
        "for row in y_pred_class:\n",
        "    ids = []\n",
        "    for i in row:\n",
        "        if i == vocab.eos_id():\n",
        "            break\n",
        "        ids.append(int(i))\n",
        "    string = vocab.id_to_piece(ids)\n",
        "    candidates.append(string)\n",
        "candidates"
      ],
      "execution_count": null,
      "outputs": []
    },
    {
      "cell_type": "code",
      "metadata": {
        "id": "kXowpSiVU5dL"
      },
      "source": [
        "bleu_scores = []\n",
        "for reference, candidate in zip(references, candidates):\n",
        "    bleu_score = bleu.sentence_bleu([reference], candidate)\n",
        "    bleu_scores.append(bleu_score)\n",
        "    print(bleu_score, \":\", reference, \"/\", candidate)\n",
        "np.mean(bleu_scores)"
      ],
      "execution_count": null,
      "outputs": []
    },
    {
      "cell_type": "markdown",
      "metadata": {
        "id": "ffFq5_Avbsq-"
      },
      "source": [
        "## 배포"
      ]
    },
    {
      "cell_type": "code",
      "metadata": {
        "id": "TNaP7jXrfhxa"
      },
      "source": [
        "model = build_model(args)\n",
        "model.load_weights(os.path.join(sychat_dir, \"lstm.hdf5\"))"
      ],
      "execution_count": null,
      "outputs": []
    },
    {
      "cell_type": "code",
      "metadata": {
        "id": "gW2zniiaafwi"
      },
      "source": [
        "def do_chat(vocab, model, n_dec_seq, string):\n",
        "    \"\"\"\n",
        "    seq2seq chat\n",
        "    :param vocab: vocab\n",
        "    :param model: model\n",
        "    :param n_dec_seq: number of dec seqence\n",
        "    :param string: inpust string\n",
        "    \"\"\"\n",
        "    # qeustion\n",
        "    q = vocab.encode_as_pieces(string)\n",
        "    q_id = [vocab.piece_to_id(p) for p in q]\n",
        "\n",
        "    # answer\n",
        "    a_id = [vocab.bos_id()]\n",
        "\n",
        "    # 처음부터 예측\n",
        "    start_idx = 0\n",
        "\n",
        "    for _ in range(start_idx, n_dec_seq - 1):\n",
        "        # print(q_id)\n",
        "        # print(a_id)\n",
        "        outputs = model.predict((np.array([q_id]), np.array([a_id])))\n",
        "        prob = outputs[0][start_idx]\n",
        "        word_id = int(np.argmax(prob))\n",
        "        # print(word_id)\n",
        "        if word_id == vocab.eos_id():\n",
        "            break\n",
        "        a_id.append(word_id)\n",
        "        start_idx += 1\n",
        "    predict_id = a_id[1:start_idx + 1]\n",
        "    # print(predict_id)\n",
        "    predict_str = vocab.decode_ids(predict_id)\n",
        "    return predict_str"
      ],
      "execution_count": null,
      "outputs": []
    },
    {
      "cell_type": "code",
      "metadata": {
        "id": "un7tDdUTbzg2",
        "colab": {
          "base_uri": "https://localhost:8080/"
        },
        "outputId": "98d1318b-36d0-4faa-e113-31dd16f307e6"
      },
      "source": [
        "string = '남에게 피해주지 않는 건 기본이죠.'\n",
        "do_chat(vocab, model, 40, string)"
      ],
      "execution_count": null,
      "outputs": [
        {
          "output_type": "execute_result",
          "data": {
            "application/vnd.google.colaboratory.intrinsic+json": {
              "type": "string"
            },
            "text/plain": [
              "'슈퍼요.'"
            ]
          },
          "metadata": {
            "tags": []
          },
          "execution_count": 73
        }
      ]
    },
    {
      "cell_type": "code",
      "metadata": {
        "id": "lhx1jrwNCjKy",
        "colab": {
          "base_uri": "https://localhost:8080/"
        },
        "outputId": "2daa7b50-48d1-47be-ba14-45026d7e0564"
      },
      "source": [
        "while True:\n",
        "    string = input('질문 > ')\n",
        "    string = string.strip()\n",
        "    if len(string) == 0:\n",
        "        break\n",
        "    predict_str = do_chat(vocab, model, 40, string)\n",
        "    print(f'답변 > {predict_str}')"
      ],
      "execution_count": null,
      "outputs": [
        {
          "output_type": "stream",
          "text": [
            "질문 > 너는 누구니\n",
            "WARNING:tensorflow:5 out of the last 14 calls to <function Model.make_predict_function.<locals>.predict_function at 0x7f4db5b10e60> triggered tf.function retracing. Tracing is expensive and the excessive number of tracings could be due to (1) creating @tf.function repeatedly in a loop, (2) passing tensors with different shapes, (3) passing Python objects instead of tensors. For (1), please define your @tf.function outside of the loop. For (2), @tf.function has experimental_relax_shapes=True option that relaxes argument shapes that can avoid unnecessary retracing. For (3), please refer to https://www.tensorflow.org/guide/function#controlling_retracing and https://www.tensorflow.org/api_docs/python/tf/function for  more details.\n",
            "답변 > 이혼 연락요.\n",
            "질문 > \n"
          ],
          "name": "stdout"
        }
      ]
    },
    {
      "cell_type": "markdown",
      "metadata": {
        "id": "C5aPxAv7W4uP"
      },
      "source": [
        "# All Data Project"
      ]
    }
  ]
}