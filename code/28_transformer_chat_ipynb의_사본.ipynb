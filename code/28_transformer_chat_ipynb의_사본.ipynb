{
  "nbformat": 4,
  "nbformat_minor": 0,
  "metadata": {
    "colab": {
      "name": "28-transformer-chat.ipynb의 사본",
      "provenance": [],
      "collapsed_sections": [
        "6dfJPT-2XMTB",
        "0TyJlt-k7yzW"
      ]
    },
    "kernelspec": {
      "name": "python3",
      "display_name": "Python 3"
    },
    "language_info": {
      "name": "python"
    },
    "accelerator": "GPU",
    "widgets": {
      "application/vnd.jupyter.widget-state+json": {
        "f3e3bb836f72421884f2692676bbc6d9": {
          "model_module": "@jupyter-widgets/controls",
          "model_name": "HBoxModel",
          "state": {
            "_view_name": "HBoxView",
            "_dom_classes": [],
            "_model_name": "HBoxModel",
            "_view_module": "@jupyter-widgets/controls",
            "_model_module_version": "1.5.0",
            "_view_count": null,
            "_view_module_version": "1.5.0",
            "box_style": "",
            "layout": "IPY_MODEL_de844da0339649bc8486ea3fab316abe",
            "_model_module": "@jupyter-widgets/controls",
            "children": [
              "IPY_MODEL_d4684bb27dca4d598ef264cefe5f2c69",
              "IPY_MODEL_4bad8b63a93842359f0ba70fe8983a97"
            ]
          }
        },
        "de844da0339649bc8486ea3fab316abe": {
          "model_module": "@jupyter-widgets/base",
          "model_name": "LayoutModel",
          "state": {
            "_view_name": "LayoutView",
            "grid_template_rows": null,
            "right": null,
            "justify_content": null,
            "_view_module": "@jupyter-widgets/base",
            "overflow": null,
            "_model_module_version": "1.2.0",
            "_view_count": null,
            "flex_flow": null,
            "width": null,
            "min_width": null,
            "border": null,
            "align_items": null,
            "bottom": null,
            "_model_module": "@jupyter-widgets/base",
            "top": null,
            "grid_column": null,
            "overflow_y": null,
            "overflow_x": null,
            "grid_auto_flow": null,
            "grid_area": null,
            "grid_template_columns": null,
            "flex": null,
            "_model_name": "LayoutModel",
            "justify_items": null,
            "grid_row": null,
            "max_height": null,
            "align_content": null,
            "visibility": null,
            "align_self": null,
            "height": null,
            "min_height": null,
            "padding": null,
            "grid_auto_rows": null,
            "grid_gap": null,
            "max_width": null,
            "order": null,
            "_view_module_version": "1.2.0",
            "grid_template_areas": null,
            "object_position": null,
            "object_fit": null,
            "grid_auto_columns": null,
            "margin": null,
            "display": null,
            "left": null
          }
        },
        "d4684bb27dca4d598ef264cefe5f2c69": {
          "model_module": "@jupyter-widgets/controls",
          "model_name": "FloatProgressModel",
          "state": {
            "_view_name": "ProgressView",
            "style": "IPY_MODEL_3521f5bded71447e968250d248463c4b",
            "_dom_classes": [],
            "description": "100%",
            "_model_name": "FloatProgressModel",
            "bar_style": "success",
            "max": 11823,
            "_view_module": "@jupyter-widgets/controls",
            "_model_module_version": "1.5.0",
            "value": 11823,
            "_view_count": null,
            "_view_module_version": "1.5.0",
            "orientation": "horizontal",
            "min": 0,
            "description_tooltip": null,
            "_model_module": "@jupyter-widgets/controls",
            "layout": "IPY_MODEL_436fa115090d4c05917a7c2f0395d2bc"
          }
        },
        "4bad8b63a93842359f0ba70fe8983a97": {
          "model_module": "@jupyter-widgets/controls",
          "model_name": "HTMLModel",
          "state": {
            "_view_name": "HTMLView",
            "style": "IPY_MODEL_f0319270ecf6428e8c682173764f1691",
            "_dom_classes": [],
            "description": "",
            "_model_name": "HTMLModel",
            "placeholder": "​",
            "_view_module": "@jupyter-widgets/controls",
            "_model_module_version": "1.5.0",
            "value": " 11823/11823 [00:59&lt;00:00, 199.99it/s]",
            "_view_count": null,
            "_view_module_version": "1.5.0",
            "description_tooltip": null,
            "_model_module": "@jupyter-widgets/controls",
            "layout": "IPY_MODEL_3748626dec0c499696bb20c3d5a81164"
          }
        },
        "3521f5bded71447e968250d248463c4b": {
          "model_module": "@jupyter-widgets/controls",
          "model_name": "ProgressStyleModel",
          "state": {
            "_view_name": "StyleView",
            "_model_name": "ProgressStyleModel",
            "description_width": "initial",
            "_view_module": "@jupyter-widgets/base",
            "_model_module_version": "1.5.0",
            "_view_count": null,
            "_view_module_version": "1.2.0",
            "bar_color": null,
            "_model_module": "@jupyter-widgets/controls"
          }
        },
        "436fa115090d4c05917a7c2f0395d2bc": {
          "model_module": "@jupyter-widgets/base",
          "model_name": "LayoutModel",
          "state": {
            "_view_name": "LayoutView",
            "grid_template_rows": null,
            "right": null,
            "justify_content": null,
            "_view_module": "@jupyter-widgets/base",
            "overflow": null,
            "_model_module_version": "1.2.0",
            "_view_count": null,
            "flex_flow": null,
            "width": null,
            "min_width": null,
            "border": null,
            "align_items": null,
            "bottom": null,
            "_model_module": "@jupyter-widgets/base",
            "top": null,
            "grid_column": null,
            "overflow_y": null,
            "overflow_x": null,
            "grid_auto_flow": null,
            "grid_area": null,
            "grid_template_columns": null,
            "flex": null,
            "_model_name": "LayoutModel",
            "justify_items": null,
            "grid_row": null,
            "max_height": null,
            "align_content": null,
            "visibility": null,
            "align_self": null,
            "height": null,
            "min_height": null,
            "padding": null,
            "grid_auto_rows": null,
            "grid_gap": null,
            "max_width": null,
            "order": null,
            "_view_module_version": "1.2.0",
            "grid_template_areas": null,
            "object_position": null,
            "object_fit": null,
            "grid_auto_columns": null,
            "margin": null,
            "display": null,
            "left": null
          }
        },
        "f0319270ecf6428e8c682173764f1691": {
          "model_module": "@jupyter-widgets/controls",
          "model_name": "DescriptionStyleModel",
          "state": {
            "_view_name": "StyleView",
            "_model_name": "DescriptionStyleModel",
            "description_width": "",
            "_view_module": "@jupyter-widgets/base",
            "_model_module_version": "1.5.0",
            "_view_count": null,
            "_view_module_version": "1.2.0",
            "_model_module": "@jupyter-widgets/controls"
          }
        },
        "3748626dec0c499696bb20c3d5a81164": {
          "model_module": "@jupyter-widgets/base",
          "model_name": "LayoutModel",
          "state": {
            "_view_name": "LayoutView",
            "grid_template_rows": null,
            "right": null,
            "justify_content": null,
            "_view_module": "@jupyter-widgets/base",
            "overflow": null,
            "_model_module_version": "1.2.0",
            "_view_count": null,
            "flex_flow": null,
            "width": null,
            "min_width": null,
            "border": null,
            "align_items": null,
            "bottom": null,
            "_model_module": "@jupyter-widgets/base",
            "top": null,
            "grid_column": null,
            "overflow_y": null,
            "overflow_x": null,
            "grid_auto_flow": null,
            "grid_area": null,
            "grid_template_columns": null,
            "flex": null,
            "_model_name": "LayoutModel",
            "justify_items": null,
            "grid_row": null,
            "max_height": null,
            "align_content": null,
            "visibility": null,
            "align_self": null,
            "height": null,
            "min_height": null,
            "padding": null,
            "grid_auto_rows": null,
            "grid_gap": null,
            "max_width": null,
            "order": null,
            "_view_module_version": "1.2.0",
            "grid_template_areas": null,
            "object_position": null,
            "object_fit": null,
            "grid_auto_columns": null,
            "margin": null,
            "display": null,
            "left": null
          }
        }
      }
    }
  },
  "cells": [
    {
      "cell_type": "markdown",
      "metadata": {
        "id": "6dfJPT-2XMTB"
      },
      "source": [
        "# Install*"
      ]
    },
    {
      "cell_type": "code",
      "metadata": {
        "id": "a193aGJWVaqb",
        "colab": {
          "base_uri": "https://localhost:8080/"
        },
        "outputId": "68beca1e-5582-4bca-83a7-e5e282c34eb0"
      },
      "source": [
        "# Tokenizer library 설치\n",
        "!pip install sentencepiece"
      ],
      "execution_count": null,
      "outputs": [
        {
          "output_type": "stream",
          "text": [
            "Collecting sentencepiece\n",
            "\u001b[?25l  Downloading https://files.pythonhosted.org/packages/f5/99/e0808cb947ba10f575839c43e8fafc9cc44e4a7a2c8f79c60db48220a577/sentencepiece-0.1.95-cp37-cp37m-manylinux2014_x86_64.whl (1.2MB)\n",
            "\r\u001b[K     |▎                               | 10kB 17.5MB/s eta 0:00:01\r\u001b[K     |▌                               | 20kB 21.7MB/s eta 0:00:01\r\u001b[K     |▉                               | 30kB 24.0MB/s eta 0:00:01\r\u001b[K     |█                               | 40kB 18.8MB/s eta 0:00:01\r\u001b[K     |█▍                              | 51kB 9.7MB/s eta 0:00:01\r\u001b[K     |█▋                              | 61kB 9.9MB/s eta 0:00:01\r\u001b[K     |██                              | 71kB 9.9MB/s eta 0:00:01\r\u001b[K     |██▏                             | 81kB 10.9MB/s eta 0:00:01\r\u001b[K     |██▌                             | 92kB 11.2MB/s eta 0:00:01\r\u001b[K     |██▊                             | 102kB 9.0MB/s eta 0:00:01\r\u001b[K     |███                             | 112kB 9.0MB/s eta 0:00:01\r\u001b[K     |███▎                            | 122kB 9.0MB/s eta 0:00:01\r\u001b[K     |███▌                            | 133kB 9.0MB/s eta 0:00:01\r\u001b[K     |███▉                            | 143kB 9.0MB/s eta 0:00:01\r\u001b[K     |████                            | 153kB 9.0MB/s eta 0:00:01\r\u001b[K     |████▍                           | 163kB 9.0MB/s eta 0:00:01\r\u001b[K     |████▋                           | 174kB 9.0MB/s eta 0:00:01\r\u001b[K     |█████                           | 184kB 9.0MB/s eta 0:00:01\r\u001b[K     |█████▏                          | 194kB 9.0MB/s eta 0:00:01\r\u001b[K     |█████▌                          | 204kB 9.0MB/s eta 0:00:01\r\u001b[K     |█████▊                          | 215kB 9.0MB/s eta 0:00:01\r\u001b[K     |██████                          | 225kB 9.0MB/s eta 0:00:01\r\u001b[K     |██████▎                         | 235kB 9.0MB/s eta 0:00:01\r\u001b[K     |██████▌                         | 245kB 9.0MB/s eta 0:00:01\r\u001b[K     |██████▉                         | 256kB 9.0MB/s eta 0:00:01\r\u001b[K     |███████                         | 266kB 9.0MB/s eta 0:00:01\r\u001b[K     |███████▍                        | 276kB 9.0MB/s eta 0:00:01\r\u001b[K     |███████▋                        | 286kB 9.0MB/s eta 0:00:01\r\u001b[K     |████████                        | 296kB 9.0MB/s eta 0:00:01\r\u001b[K     |████████▏                       | 307kB 9.0MB/s eta 0:00:01\r\u001b[K     |████████▍                       | 317kB 9.0MB/s eta 0:00:01\r\u001b[K     |████████▊                       | 327kB 9.0MB/s eta 0:00:01\r\u001b[K     |█████████                       | 337kB 9.0MB/s eta 0:00:01\r\u001b[K     |█████████▎                      | 348kB 9.0MB/s eta 0:00:01\r\u001b[K     |█████████▌                      | 358kB 9.0MB/s eta 0:00:01\r\u001b[K     |█████████▉                      | 368kB 9.0MB/s eta 0:00:01\r\u001b[K     |██████████                      | 378kB 9.0MB/s eta 0:00:01\r\u001b[K     |██████████▍                     | 389kB 9.0MB/s eta 0:00:01\r\u001b[K     |██████████▋                     | 399kB 9.0MB/s eta 0:00:01\r\u001b[K     |███████████                     | 409kB 9.0MB/s eta 0:00:01\r\u001b[K     |███████████▏                    | 419kB 9.0MB/s eta 0:00:01\r\u001b[K     |███████████▍                    | 430kB 9.0MB/s eta 0:00:01\r\u001b[K     |███████████▊                    | 440kB 9.0MB/s eta 0:00:01\r\u001b[K     |████████████                    | 450kB 9.0MB/s eta 0:00:01\r\u001b[K     |████████████▎                   | 460kB 9.0MB/s eta 0:00:01\r\u001b[K     |████████████▌                   | 471kB 9.0MB/s eta 0:00:01\r\u001b[K     |████████████▉                   | 481kB 9.0MB/s eta 0:00:01\r\u001b[K     |█████████████                   | 491kB 9.0MB/s eta 0:00:01\r\u001b[K     |█████████████▍                  | 501kB 9.0MB/s eta 0:00:01\r\u001b[K     |█████████████▋                  | 512kB 9.0MB/s eta 0:00:01\r\u001b[K     |█████████████▉                  | 522kB 9.0MB/s eta 0:00:01\r\u001b[K     |██████████████▏                 | 532kB 9.0MB/s eta 0:00:01\r\u001b[K     |██████████████▍                 | 542kB 9.0MB/s eta 0:00:01\r\u001b[K     |██████████████▊                 | 552kB 9.0MB/s eta 0:00:01\r\u001b[K     |███████████████                 | 563kB 9.0MB/s eta 0:00:01\r\u001b[K     |███████████████▎                | 573kB 9.0MB/s eta 0:00:01\r\u001b[K     |███████████████▌                | 583kB 9.0MB/s eta 0:00:01\r\u001b[K     |███████████████▉                | 593kB 9.0MB/s eta 0:00:01\r\u001b[K     |████████████████                | 604kB 9.0MB/s eta 0:00:01\r\u001b[K     |████████████████▍               | 614kB 9.0MB/s eta 0:00:01\r\u001b[K     |████████████████▋               | 624kB 9.0MB/s eta 0:00:01\r\u001b[K     |████████████████▉               | 634kB 9.0MB/s eta 0:00:01\r\u001b[K     |█████████████████▏              | 645kB 9.0MB/s eta 0:00:01\r\u001b[K     |█████████████████▍              | 655kB 9.0MB/s eta 0:00:01\r\u001b[K     |█████████████████▊              | 665kB 9.0MB/s eta 0:00:01\r\u001b[K     |██████████████████              | 675kB 9.0MB/s eta 0:00:01\r\u001b[K     |██████████████████▎             | 686kB 9.0MB/s eta 0:00:01\r\u001b[K     |██████████████████▌             | 696kB 9.0MB/s eta 0:00:01\r\u001b[K     |██████████████████▉             | 706kB 9.0MB/s eta 0:00:01\r\u001b[K     |███████████████████             | 716kB 9.0MB/s eta 0:00:01\r\u001b[K     |███████████████████▎            | 727kB 9.0MB/s eta 0:00:01\r\u001b[K     |███████████████████▋            | 737kB 9.0MB/s eta 0:00:01\r\u001b[K     |███████████████████▉            | 747kB 9.0MB/s eta 0:00:01\r\u001b[K     |████████████████████▏           | 757kB 9.0MB/s eta 0:00:01\r\u001b[K     |████████████████████▍           | 768kB 9.0MB/s eta 0:00:01\r\u001b[K     |████████████████████▊           | 778kB 9.0MB/s eta 0:00:01\r\u001b[K     |█████████████████████           | 788kB 9.0MB/s eta 0:00:01\r\u001b[K     |█████████████████████▎          | 798kB 9.0MB/s eta 0:00:01\r\u001b[K     |█████████████████████▌          | 808kB 9.0MB/s eta 0:00:01\r\u001b[K     |█████████████████████▉          | 819kB 9.0MB/s eta 0:00:01\r\u001b[K     |██████████████████████          | 829kB 9.0MB/s eta 0:00:01\r\u001b[K     |██████████████████████▎         | 839kB 9.0MB/s eta 0:00:01\r\u001b[K     |██████████████████████▋         | 849kB 9.0MB/s eta 0:00:01\r\u001b[K     |██████████████████████▉         | 860kB 9.0MB/s eta 0:00:01\r\u001b[K     |███████████████████████▏        | 870kB 9.0MB/s eta 0:00:01\r\u001b[K     |███████████████████████▍        | 880kB 9.0MB/s eta 0:00:01\r\u001b[K     |███████████████████████▊        | 890kB 9.0MB/s eta 0:00:01\r\u001b[K     |████████████████████████        | 901kB 9.0MB/s eta 0:00:01\r\u001b[K     |████████████████████████▎       | 911kB 9.0MB/s eta 0:00:01\r\u001b[K     |████████████████████████▌       | 921kB 9.0MB/s eta 0:00:01\r\u001b[K     |████████████████████████▊       | 931kB 9.0MB/s eta 0:00:01\r\u001b[K     |█████████████████████████       | 942kB 9.0MB/s eta 0:00:01\r\u001b[K     |█████████████████████████▎      | 952kB 9.0MB/s eta 0:00:01\r\u001b[K     |█████████████████████████▋      | 962kB 9.0MB/s eta 0:00:01\r\u001b[K     |█████████████████████████▉      | 972kB 9.0MB/s eta 0:00:01\r\u001b[K     |██████████████████████████▏     | 983kB 9.0MB/s eta 0:00:01\r\u001b[K     |██████████████████████████▍     | 993kB 9.0MB/s eta 0:00:01\r\u001b[K     |██████████████████████████▊     | 1.0MB 9.0MB/s eta 0:00:01\r\u001b[K     |███████████████████████████     | 1.0MB 9.0MB/s eta 0:00:01\r\u001b[K     |███████████████████████████▎    | 1.0MB 9.0MB/s eta 0:00:01\r\u001b[K     |███████████████████████████▌    | 1.0MB 9.0MB/s eta 0:00:01\r\u001b[K     |███████████████████████████▊    | 1.0MB 9.0MB/s eta 0:00:01\r\u001b[K     |████████████████████████████    | 1.1MB 9.0MB/s eta 0:00:01\r\u001b[K     |████████████████████████████▎   | 1.1MB 9.0MB/s eta 0:00:01\r\u001b[K     |████████████████████████████▋   | 1.1MB 9.0MB/s eta 0:00:01\r\u001b[K     |████████████████████████████▉   | 1.1MB 9.0MB/s eta 0:00:01\r\u001b[K     |█████████████████████████████▏  | 1.1MB 9.0MB/s eta 0:00:01\r\u001b[K     |█████████████████████████████▍  | 1.1MB 9.0MB/s eta 0:00:01\r\u001b[K     |█████████████████████████████▊  | 1.1MB 9.0MB/s eta 0:00:01\r\u001b[K     |██████████████████████████████  | 1.1MB 9.0MB/s eta 0:00:01\r\u001b[K     |██████████████████████████████▏ | 1.1MB 9.0MB/s eta 0:00:01\r\u001b[K     |██████████████████████████████▌ | 1.1MB 9.0MB/s eta 0:00:01\r\u001b[K     |██████████████████████████████▊ | 1.2MB 9.0MB/s eta 0:00:01\r\u001b[K     |███████████████████████████████ | 1.2MB 9.0MB/s eta 0:00:01\r\u001b[K     |███████████████████████████████▎| 1.2MB 9.0MB/s eta 0:00:01\r\u001b[K     |███████████████████████████████▋| 1.2MB 9.0MB/s eta 0:00:01\r\u001b[K     |███████████████████████████████▉| 1.2MB 9.0MB/s eta 0:00:01\r\u001b[K     |████████████████████████████████| 1.2MB 9.0MB/s \n",
            "\u001b[?25hInstalling collected packages: sentencepiece\n",
            "Successfully installed sentencepiece-0.1.95\n"
          ],
          "name": "stdout"
        }
      ]
    },
    {
      "cell_type": "markdown",
      "metadata": {
        "id": "JHkHg6XAXoyK"
      },
      "source": [
        "# Evn*"
      ]
    },
    {
      "cell_type": "code",
      "metadata": {
        "id": "WkYXFwcBXJDG"
      },
      "source": [
        "# imports\n",
        "import argparse\n",
        "import os\n",
        "import random\n",
        "import shutil\n",
        "import json\n",
        "import zipfile\n",
        "import math\n",
        "import copy\n",
        "import collections\n",
        "import re\n",
        "\n",
        "import matplotlib.pyplot as plt\n",
        "import pandas as pd\n",
        "import numpy as np\n",
        "import sentencepiece as spm\n",
        "import tensorflow as tf\n",
        "import tensorflow.keras.backend as K\n",
        "\n",
        "from tqdm.notebook import tqdm, trange"
      ],
      "execution_count": null,
      "outputs": []
    },
    {
      "cell_type": "code",
      "metadata": {
        "id": "BF-NLGZTGvTR",
        "colab": {
          "base_uri": "https://localhost:8080/"
        },
        "outputId": "06bd71b5-0b65-44c1-8e68-4588c2a6e6af"
      },
      "source": [
        "# 환경 설정\n",
        "args = {\n",
        "    # random seed value\n",
        "    \"seed\": 1234\n",
        "}\n",
        "args = argparse.Namespace(**args)\n",
        "\n",
        "print(args)"
      ],
      "execution_count": null,
      "outputs": [
        {
          "output_type": "stream",
          "text": [
            "Namespace(seed=1234)\n"
          ],
          "name": "stdout"
        }
      ]
    },
    {
      "cell_type": "code",
      "metadata": {
        "id": "nvjyruUlXtlR"
      },
      "source": [
        "# random seed 설정\n",
        "random.seed(args.seed)\n",
        "np.random.seed(args.seed)\n",
        "tf.random.set_seed(args.seed)"
      ],
      "execution_count": null,
      "outputs": []
    },
    {
      "cell_type": "code",
      "metadata": {
        "id": "BC3fXkhdYcYt",
        "colab": {
          "base_uri": "https://localhost:8080/"
        },
        "outputId": "efc045a0-f33d-4f96-e3eb-8020c496b16e"
      },
      "source": [
        "# gpu 사용량 확인\n",
        "!nvidia-smi"
      ],
      "execution_count": null,
      "outputs": [
        {
          "output_type": "stream",
          "text": [
            "Wed Jun  2 10:52:53 2021       \n",
            "+-----------------------------------------------------------------------------+\n",
            "| NVIDIA-SMI 465.19.01    Driver Version: 460.32.03    CUDA Version: 11.2     |\n",
            "|-------------------------------+----------------------+----------------------+\n",
            "| GPU  Name        Persistence-M| Bus-Id        Disp.A | Volatile Uncorr. ECC |\n",
            "| Fan  Temp  Perf  Pwr:Usage/Cap|         Memory-Usage | GPU-Util  Compute M. |\n",
            "|                               |                      |               MIG M. |\n",
            "|===============================+======================+======================|\n",
            "|   0  Tesla T4            Off  | 00000000:00:04.0 Off |                    0 |\n",
            "| N/A   58C    P8    10W /  70W |      0MiB / 15109MiB |      0%      Default |\n",
            "|                               |                      |                  N/A |\n",
            "+-------------------------------+----------------------+----------------------+\n",
            "                                                                               \n",
            "+-----------------------------------------------------------------------------+\n",
            "| Processes:                                                                  |\n",
            "|  GPU   GI   CI        PID   Type   Process name                  GPU Memory |\n",
            "|        ID   ID                                                   Usage      |\n",
            "|=============================================================================|\n",
            "|  No running processes found                                                 |\n",
            "+-----------------------------------------------------------------------------+\n"
          ],
          "name": "stdout"
        }
      ]
    },
    {
      "cell_type": "code",
      "metadata": {
        "id": "xVRdxYReYeQj",
        "colab": {
          "base_uri": "https://localhost:8080/"
        },
        "outputId": "7492a7f6-d0e8-4679-a45a-29ce85903994"
      },
      "source": [
        "# google drive mount\n",
        "from google.colab import drive\n",
        "drive.mount('/content/drive')"
      ],
      "execution_count": null,
      "outputs": [
        {
          "output_type": "stream",
          "text": [
            "Mounted at /content/drive\n"
          ],
          "name": "stdout"
        }
      ]
    },
    {
      "cell_type": "code",
      "metadata": {
        "id": "byCIiLJBbFHh",
        "colab": {
          "base_uri": "https://localhost:8080/"
        },
        "outputId": "27407520-5fbf-442b-ce96-dc3e6866a19a"
      },
      "source": [
        "# data dir\n",
        "# data_dir = '/content/drive/MyDrive/Data/nlp'\n",
        "data_dir = '/content/drive/MyDrive/ict-ai-복합고급언어-nlp/data'\n",
        "os.listdir(data_dir)"
      ],
      "execution_count": null,
      "outputs": [
        {
          "output_type": "execute_result",
          "data": {
            "text/plain": [
              "['data-20210420T111231Z-001.zip',\n",
              " 'kowiki',\n",
              " 'kowiki_32000.model',\n",
              " 'kowiki_32000.vocab',\n",
              " 'kowiki_mecab_32000.model',\n",
              " 'kowiki_mecab_32000.vocab',\n",
              " 'nsmc',\n",
              " 'question_pair',\n",
              " 'songys-chat']"
            ]
          },
          "metadata": {
            "tags": []
          },
          "execution_count": 8
        }
      ]
    },
    {
      "cell_type": "code",
      "metadata": {
        "colab": {
          "base_uri": "https://localhost:8080/"
        },
        "id": "Y_uejAndANVD",
        "outputId": "2ebffd9d-b5fb-4eb8-c2df-918517decaf7"
      },
      "source": [
        "sychat_dir = os.path.join(data_dir, \"songys-chat\")\n",
        "if not os.path.isdir(sychat_dir):\n",
        "    os.makedirs(sychat_dir)\n",
        "os.listdir(sychat_dir)"
      ],
      "execution_count": null,
      "outputs": [
        {
          "output_type": "execute_result",
          "data": {
            "text/plain": [
              "['lstm.hdf5', 'lstm.csv', 'lstm_dot.csv', 'lstm_dot.hdf5']"
            ]
          },
          "metadata": {
            "tags": []
          },
          "execution_count": 9
        }
      ]
    },
    {
      "cell_type": "markdown",
      "metadata": {
        "id": "0TyJlt-k7yzW"
      },
      "source": [
        "# Vocabulary*"
      ]
    },
    {
      "cell_type": "code",
      "metadata": {
        "colab": {
          "base_uri": "https://localhost:8080/"
        },
        "id": "har00GjJ71ZH",
        "outputId": "b9842d12-40d8-469f-b522-d8efd51275c4"
      },
      "source": [
        "# vocab loading\n",
        "vocab = spm.SentencePieceProcessor()\n",
        "vocab.load(os.path.join(data_dir, 'kowiki', 'kowiki_32000.model'))"
      ],
      "execution_count": null,
      "outputs": [
        {
          "output_type": "execute_result",
          "data": {
            "text/plain": [
              "True"
            ]
          },
          "metadata": {
            "tags": []
          },
          "execution_count": 10
        }
      ]
    },
    {
      "cell_type": "markdown",
      "metadata": {
        "id": "1toqkZBj4iqG"
      },
      "source": [
        "# Transformer"
      ]
    },
    {
      "cell_type": "code",
      "metadata": {
        "id": "g3vPIEAW4g3Q",
        "colab": {
          "base_uri": "https://localhost:8080/"
        },
        "outputId": "b154bef2-89be-419d-aacd-87dd4b7e3385"
      },
      "source": [
        "args.d_model = 256  # d_model: model hidden dim\n",
        "args.n_head = 4  # n_head: multi head attention head number\n",
        "args.d_head = 64  # d_head: multi head attention head dim\n",
        "args.dropout = 0.1  # dropout: dropout rate\n",
        "args.d_ff = 1024  # d_ff: feed forward dim\n",
        "args.norm_eps = 1e-9  # norm_eps: layernormal epsilon\n",
        "args.n_layer = 3  # n_layer: layer number\n",
        "args.n_seq = 128  # n_seq: sequence max number\n",
        "args.n_vocab = len(vocab)  # n_vocab: vocab count\n",
        "args.i_pad = vocab.pad_id()  # i_pad: vocab pad id\n",
        "\n",
        "args"
      ],
      "execution_count": null,
      "outputs": [
        {
          "output_type": "execute_result",
          "data": {
            "text/plain": [
              "Namespace(d_ff=1024, d_head=64, d_model=256, dropout=0.1, i_pad=0, n_head=4, n_layer=3, n_seq=128, n_vocab=32007, norm_eps=1e-09, seed=1234)"
            ]
          },
          "metadata": {
            "tags": []
          },
          "execution_count": 11
        }
      ]
    },
    {
      "cell_type": "code",
      "metadata": {
        "id": "j5cEzVnUdZeY"
      },
      "source": [
        "def get_pad_mask(tokens, i_pad=0):\n",
        "    \"\"\"\n",
        "    pad mask 계산하는 함수\n",
        "    :param tokens: tokens (bs, n_seq)\n",
        "    :param i_pad: id of pad\n",
        "    :return mask: pad mask (pad: 1, other: 0)\n",
        "    \"\"\"\n",
        "    # 0인 부분 확인\n",
        "    mask = tf.math.equal(tokens, i_pad)\n",
        "    # boolean -> float 32\n",
        "    mask = tf.cast(mask, tf.float32)\n",
        "    # expand dimension for n_seq\n",
        "    mask = tf.expand_dims(mask, axis=1)\n",
        "    return mask"
      ],
      "execution_count": null,
      "outputs": []
    },
    {
      "cell_type": "code",
      "metadata": {
        "id": "arxRhssHdeL_"
      },
      "source": [
        "def get_causal_mask(tokens, i_pad=0):\n",
        "    \"\"\"\n",
        "    causal mask 계산하는 함수\n",
        "    :param tokens: tokens (bs, n_seq)\n",
        "    :param i_pad: id of pad\n",
        "    :return mask: causal and pad mask (causal or pad: 1, other: 0)\n",
        "    \"\"\"\n",
        "    # 개수 조회\n",
        "    n_seq = tf.shape(tokens)[1]\n",
        "    # make ahead mask\n",
        "    mask = 1 - tf.linalg.band_part(tf.ones((n_seq, n_seq)), -1, 0)\n",
        "    # expand dim for bs\n",
        "    mask = tf.expand_dims(mask, axis=0)\n",
        "    # get pad_mask\n",
        "    pad_mask = get_pad_mask(tokens, i_pad)\n",
        "    # mask all ahead_mask or pad_mask\n",
        "    mask = tf.maximum(mask, pad_mask)\n",
        "    return mask"
      ],
      "execution_count": null,
      "outputs": []
    },
    {
      "cell_type": "code",
      "metadata": {
        "id": "w6WHOHHNdeHp"
      },
      "source": [
        "class ScaleDotProductAttention(tf.keras.layers.Layer):\n",
        "    \"\"\"\n",
        "    Scale Dot Product Attention Class\n",
        "    \"\"\"\n",
        "    def __init__(self, name=\"scale_dot_product_attention\"):\n",
        "        \"\"\"\n",
        "        생성자\n",
        "        :param name: layer name\n",
        "        \"\"\"\n",
        "        super().__init__(name=name)\n",
        "\n",
        "    def call(self, inputs):\n",
        "        \"\"\"\n",
        "        layer 실행\n",
        "        :param inputs: Q, K, V, attn_mask tuple\n",
        "        :return attn_out: attention 실행 결과\n",
        "        \"\"\"\n",
        "        Q, K, V, attn_mask = inputs\n",
        "        # matmul Q, K (transpose_b=True)\n",
        "        attn_score = tf.matmul(Q, K, transpose_b=True)\n",
        "        # get scale = d_model ** 0.5\n",
        "        scale = tf.math.sqrt(tf.cast(tf.shape(K)[-1], tf.float32))\n",
        "        # divide by scale\n",
        "        attn_scale = tf.math.divide(attn_score, scale)\n",
        "        # do mask (subtract 1e-9 for masked value)\n",
        "        attn_scale -= 1.e9 * attn_mask\n",
        "        # calculate attention prob\n",
        "        attn_prob = tf.nn.softmax(attn_scale, axis=-1)\n",
        "        # weighted sum of V\n",
        "        attn_out = tf.matmul(attn_prob, V)\n",
        "        return attn_out"
      ],
      "execution_count": null,
      "outputs": []
    },
    {
      "cell_type": "code",
      "metadata": {
        "id": "Xo6k1OANdeDt"
      },
      "source": [
        "class MultiHeadAttention(tf.keras.layers.Layer):\n",
        "    \"\"\"\n",
        "    Multi Head Attention Class\n",
        "    \"\"\"\n",
        "    def __init__(self, args, name=\"multi_head_attention\"):\n",
        "        \"\"\"\n",
        "        생성자\n",
        "        :param args: Args 객체\n",
        "        :param name: layer name\n",
        "        \"\"\"\n",
        "        super().__init__(name=name)\n",
        "\n",
        "        self.d_model = args.d_model\n",
        "        self.n_head = args.n_head\n",
        "        self.d_head = args.d_head\n",
        "\n",
        "        # Q, K, V input dense layer\n",
        "        self.W_Q = tf.keras.layers.Dense(self.n_head * self.d_head)\n",
        "        self.W_K = tf.keras.layers.Dense(self.n_head * self.d_head)\n",
        "        self.W_V = tf.keras.layers.Dense(self.n_head * self.d_head)\n",
        "        # Scale Dot Product Attention class\n",
        "        self.attention = ScaleDotProductAttention(name=\"self_attention\")\n",
        "        # output dense layer\n",
        "        self.W_O = tf.keras.layers.Dense(self.d_model)\n",
        "\n",
        "    def call(self, inputs):\n",
        "        \"\"\"\n",
        "        layer 실행\n",
        "        :param inputs: Q, K, V, attn_mask tuple\n",
        "        :return attn_out: attention 실행 결과\n",
        "        \"\"\"\n",
        "        Q, K, V, attn_mask = inputs\n",
        "        # build multihead Q, K, V\n",
        "        Q_m = tf.transpose(tf.reshape(self.W_Q(Q), [-1, tf.shape(Q)[1], self.n_head, self.d_head]), [0, 2, 1, 3])  # (bs, n_head, Q_len, d_head)\n",
        "        K_m = tf.transpose(tf.reshape(self.W_K(K), [-1, tf.shape(K)[1], self.n_head, self.d_head]), [0, 2, 1, 3])  # (bs, n_head, K_len, d_head)\n",
        "        V_m = tf.transpose(tf.reshape(self.W_V(V), [-1, tf.shape(V)[1], self.n_head, self.d_head]), [0, 2, 1, 3])  # (bs, n_head, K_len, d_head)\n",
        "        # build multihead mask\n",
        "        attn_mask_m = tf.expand_dims(attn_mask, axis=1)\n",
        "        # Scale Dot Product Attention with multi head Q, K, V, attn_mask\n",
        "        attn_out_m = self.attention((Q_m, K_m, V_m, attn_mask_m))  # (bs, n_head, Q_len, d_head)\n",
        "        # transpose and reshape\n",
        "        attn_out_t = tf.transpose(attn_out_m, perm=[0, 2, 1, 3])  # (bs, Q_len, n_head, d_head)\n",
        "        attn_out_c = tf.reshape(attn_out_t, [-1, tf.shape(Q)[1], self.n_head * self.d_head])  # (bs, Q_len, d_model)\n",
        "        # linear for output\n",
        "        attn_out = self.W_O(attn_out_c) # (bs, Q_len, d_model)\n",
        "        return attn_out"
      ],
      "execution_count": null,
      "outputs": []
    },
    {
      "cell_type": "code",
      "metadata": {
        "id": "Q5QYqafRdd_Y"
      },
      "source": [
        "class PositionWiseFeedForward(tf.keras.layers.Layer):\n",
        "    \"\"\"\n",
        "    Position Wise Feed Forward Class\n",
        "    \"\"\"\n",
        "    def __init__(self, args, name=\"feed_forward\"):\n",
        "        \"\"\"\n",
        "        생성자\n",
        "        :param args: Args 객체\n",
        "        :param name: layer name\n",
        "        \"\"\"\n",
        "        super().__init__(name=name)\n",
        "\n",
        "        self.W_1 = tf.keras.layers.Dense(args.d_ff, activation=tf.nn.relu)\n",
        "        self.W_2 = tf.keras.layers.Dense(args.d_model)\n",
        "\n",
        "    def call(self, inputs):\n",
        "        \"\"\"\n",
        "        layer 실행\n",
        "        :param inputs: inputs\n",
        "        :return ff_val: feed forward 실행 결과\n",
        "        \"\"\"\n",
        "        # linear W_1 and W_2\n",
        "        ff_val = self.W_1(inputs)\n",
        "        ff_val = self.W_2(ff_val)\n",
        "        return ff_val"
      ],
      "execution_count": null,
      "outputs": []
    },
    {
      "cell_type": "code",
      "metadata": {
        "id": "ai50zAahdd9P"
      },
      "source": [
        "class EncoderLayer(tf.keras.layers.Layer):\n",
        "    \"\"\"\n",
        "    Encoder Layer Class\n",
        "    \"\"\"\n",
        "    def __init__(self, args, name='encoder_layer'):\n",
        "        \"\"\"\n",
        "        생성자\n",
        "        :param args: Args 객체\n",
        "        :param name: layer name\n",
        "        \"\"\"\n",
        "        super().__init__(name=name)\n",
        "\n",
        "        self.self_attention = MultiHeadAttention(args)\n",
        "        self.norm1 = tf.keras.layers.LayerNormalization(epsilon=args.norm_eps)\n",
        "\n",
        "        self.ffn = PositionWiseFeedForward(args)\n",
        "        self.norm2 = tf.keras.layers.LayerNormalization(epsilon=args.norm_eps)\n",
        "\n",
        "        self.dropout = tf.keras.layers.Dropout(args.dropout)\n",
        " \n",
        "    def call(self, inputs):\n",
        "        \"\"\"\n",
        "        layer 실행\n",
        "        :param inputs: enc_hidden, self_mask tuple\n",
        "        :return enc_out: EncoderLayer 실행 결과\n",
        "        \"\"\"\n",
        "        enc_hidden, self_mask = inputs\n",
        "        # self attention\n",
        "        self_attn_val = self.self_attention((enc_hidden, enc_hidden, enc_hidden, self_mask))\n",
        "        # add and layer normal\n",
        "        norm1_val = self.norm1(enc_hidden + self.dropout(self_attn_val))\n",
        "        \n",
        "        # feed forward\n",
        "        ffn_val = self.ffn(norm1_val)\n",
        "        # add and layer normal\n",
        "        enc_out = self.norm2(norm1_val + self.dropout(ffn_val))\n",
        "\n",
        "        return enc_out"
      ],
      "execution_count": null,
      "outputs": []
    },
    {
      "cell_type": "code",
      "metadata": {
        "id": "SOp436lXdd4p"
      },
      "source": [
        "class DecoderLayer(tf.keras.layers.Layer):\n",
        "    \"\"\"\n",
        "    Decoder Layer Class\n",
        "    \"\"\"\n",
        "    def __init__(self, args, name='decoder_layer'):\n",
        "        \"\"\"\n",
        "        생성자\n",
        "        :param args: Args 객체\n",
        "        :param name: layer name\n",
        "        \"\"\"\n",
        "        super().__init__(name=name)\n",
        "\n",
        "        self.self_attention = MultiHeadAttention(args)\n",
        "        self.norm1 = tf.keras.layers.LayerNormalization(epsilon=args.norm_eps)\n",
        "\n",
        "        self.ende_attn = MultiHeadAttention(args)\n",
        "        self.norm2 = tf.keras.layers.LayerNormalization(epsilon=args.norm_eps)\n",
        "\n",
        "        self.ffn = PositionWiseFeedForward(args)\n",
        "        self.norm3 = tf.keras.layers.LayerNormalization(epsilon=args.norm_eps)\n",
        "\n",
        "        self.dropout = tf.keras.layers.Dropout(args.dropout)\n",
        "\n",
        "    def call(self, inputs):\n",
        "        \"\"\"\n",
        "        layer 실행\n",
        "        :param inputs: dec_hidden, enc_out, self_mask, ende_mask tuple\n",
        "        :return dec_out: DecoderLayer 실행 결과\n",
        "        \"\"\"\n",
        "        dec_hidden, enc_out, self_mask, ende_mask = inputs\n",
        "        # self attention\n",
        "        self_attn_val = self.self_attention((dec_hidden, dec_hidden, dec_hidden, self_mask))\n",
        "        # add and layer normal\n",
        "        norm1_val = self.norm1(dec_hidden + self.dropout(self_attn_val))\n",
        "\n",
        "        # encoder and decoder attention\n",
        "        ende_attn_val = self.ende_attn((norm1_val, enc_out, enc_out, ende_mask))\n",
        "        # add and layer normal\n",
        "        norm2_val = self.norm2(norm1_val + self.dropout(ende_attn_val))\n",
        "\n",
        "        # feed forward\n",
        "        ffn_val = self.ffn(norm2_val)\n",
        "        # add and layer normal\n",
        "        dec_out = self.norm3(norm2_val + self.dropout(ffn_val))\n",
        "\n",
        "        return dec_out"
      ],
      "execution_count": null,
      "outputs": []
    },
    {
      "cell_type": "code",
      "metadata": {
        "id": "z4nAbHAedd1m"
      },
      "source": [
        "class SharedEmbedding(tf.keras.layers.Layer):\n",
        "    \"\"\"\n",
        "    Weighed Shaed Embedding Class\n",
        "    \"\"\"\n",
        "    def __init__(self, args, name='weight_shared_embedding'):\n",
        "        \"\"\"\n",
        "        생성자\n",
        "        :param args: Args 객체\n",
        "        :param name: layer name\n",
        "        \"\"\"\n",
        "        super().__init__(name=name)\n",
        "\n",
        "        self.n_vocab = args.n_vocab\n",
        "        self.d_model = args.d_model\n",
        "    \n",
        "    def build(self, input_shape):\n",
        "        \"\"\"\n",
        "        shared weight 생성\n",
        "        :param input_shape: Tensor Shape (not used)\n",
        "        \"\"\"\n",
        "        with tf.name_scope('shared_embedding_weight'):\n",
        "            self.shared_weights = self.add_weight(\n",
        "                'weights',\n",
        "                shape=[self.n_vocab, self.d_model],\n",
        "                initializer=tf.keras.initializers.TruncatedNormal(stddev=self.d_model ** -0.5)\n",
        "            )\n",
        "\n",
        "    def call(self, inputs, mode='embedding'):\n",
        "        \"\"\"\n",
        "        layer 실행\n",
        "        :param inputs: 입력\n",
        "        :param mode: 실행 모드\n",
        "        :return: embedding or linear 실행 결과\n",
        "        \"\"\"\n",
        "        # mode가 embedding일 경우 embedding lookup 실행\n",
        "        if mode == 'embedding':\n",
        "            return self._embedding(inputs)\n",
        "        # mode가 linear일 경우 linear 실행\n",
        "        elif mode == 'linear':\n",
        "            return self._linear(inputs)\n",
        "        # mode가 기타일 경우 오류 발생\n",
        "        else:\n",
        "            raise ValueError(f'mode {mode} is not valid.')\n",
        "    \n",
        "    def _embedding(self, inputs):\n",
        "        \"\"\"\n",
        "        embedding lookup\n",
        "        :param inputs: 입력\n",
        "        \"\"\"\n",
        "        # lookup by gather\n",
        "        embed = tf.gather(self.shared_weights, tf.cast(inputs, tf.int32))\n",
        "        # muliply d_model ** 0.5\n",
        "        embed *= self.d_model ** 0.5\n",
        "        return embed\n",
        "\n",
        "    def _linear(self, inputs):  # (bs, n_seq, d_model)\n",
        "        \"\"\"\n",
        "        linear 실행\n",
        "        :param inputs: 입력\n",
        "        \"\"\"\n",
        "        # matmul inputs, shared_weights (transpose_b=True)\n",
        "        outputs = tf.matmul(inputs, self.shared_weights, transpose_b=True) # \n",
        "        return outputs"
      ],
      "execution_count": null,
      "outputs": []
    },
    {
      "cell_type": "code",
      "metadata": {
        "id": "sUDe_qOHddvP"
      },
      "source": [
        "class PositionalEmbedding(tf.keras.layers.Layer):\n",
        "    \"\"\"\n",
        "    Positional Embedding Class\n",
        "    \"\"\"\n",
        "    def __init__(self, args, name='position_embedding'):\n",
        "        \"\"\"\n",
        "        생성자\n",
        "        :param args: Args 객체\n",
        "        :param name: layer name\n",
        "        \"\"\"\n",
        "        super().__init__(name=name)\n",
        "        \n",
        "        pos_encoding = PositionalEmbedding.get_sinusoid_encoding(args.n_seq, args.d_model)\n",
        "        self.embedding = tf.keras.layers.Embedding(args.n_seq, args.d_model, trainable=False, weights=[pos_encoding]) # 학습이 안되게 trainable = False\n",
        "\n",
        "    def call(self, inputs):\n",
        "        \"\"\"\n",
        "        layer 실행\n",
        "        :param inputs: 입력\n",
        "        :return embed: positional embedding lookup 결과\n",
        "        \"\"\"\n",
        "        # make position (0...n_seq)\n",
        "        position = tf.math.cumsum(tf.ones_like(inputs), axis=1, exclusive=True) # [1,1,1,1,1] -> [1,2,3,4,5] ->[0,1,2,3,4]\n",
        "        position = tf.cast(position, tf.int32)\n",
        "        # embedding lookup\n",
        "        embed = self.embedding(position)\n",
        "        return embed\n",
        "\n",
        "    @staticmethod\n",
        "    def get_sinusoid_encoding(n_seq, d_model): # 바로 호출가능, class 만들지 않아도\n",
        "        \"\"\"\n",
        "        sinusoid encoding 생성\n",
        "        :param n_seq: sequence number\n",
        "        :param n_seq: model hidden dimension\n",
        "        :return: positional encoding table\n",
        "        \"\"\"\n",
        "        # calculate angle\n",
        "        exs = np.array([2 * (i_ang // 2) / d_model for i_ang in range(d_model)])\n",
        "        angles = np.power(10000, exs)\n",
        "        pos = np.array([[i] for i in range(n_seq)])\n",
        "        pos_encoding = pos / angles\n",
        "        # sin even number\n",
        "        pos_encoding[:, 0::2] = np.sin(pos_encoding[:, 0::2])\n",
        "        # cos odd number\n",
        "        pos_encoding[:, 1::2] = np.cos(pos_encoding[:, 1::2])\n",
        "        return tf.cast(pos_encoding, tf.float32)"
      ],
      "execution_count": null,
      "outputs": []
    },
    {
      "cell_type": "code",
      "metadata": {
        "id": "9ra5pGArddfi"
      },
      "source": [
        "class Transformer(tf.keras.Model):\n",
        "    \"\"\"\n",
        "    Transformer Class\n",
        "    \"\"\"\n",
        "    def __init__(self, args, name='transformer'):\n",
        "        \"\"\"\n",
        "        생성자\n",
        "        :param args: Args 객체\n",
        "        :param name: layer name\n",
        "        \"\"\"\n",
        "        super().__init__(name=name)\n",
        "\n",
        "        self.i_pad = args.i_pad\n",
        "        self.embedding = SharedEmbedding(args)\n",
        "        self.position = PositionalEmbedding(args)\n",
        "        \n",
        "        self.encoder_layers = [EncoderLayer(args, name=f'encoder_layer_{i}') for i in range(args.n_layer)]\n",
        "        self.decoder_layers = [DecoderLayer(args, name=f'decoder_layer_{i}') for i in range(args.n_layer)]\n",
        "\n",
        "        self.dropout = tf.keras.layers.Dropout(args.dropout) # embedding 이 attention에 들어가기 전에  dropout\n",
        "\n",
        "    def call(self, inputs):\n",
        "        \"\"\"\n",
        "        layer 실행\n",
        "        :param inputs: enc_tokens, dec_tokens tuple\n",
        "        :return logits: dec_tokens에 대한 다음 토큰 예측 결과 logits\n",
        "        \"\"\"\n",
        "        enc_tokens, dec_tokens = inputs\n",
        "        # encoder self attention mask\n",
        "        enc_self_mask = get_pad_mask(enc_tokens, self.i_pad)\n",
        "        # decoder self attention mask\n",
        "        dec_self_mask = get_causal_mask(dec_tokens, self.i_pad)\n",
        "        # encoder and decoder attention mask\n",
        "        enc_dec_mask = get_pad_mask(enc_tokens, self.i_pad)\n",
        "\n",
        "        # enc_tokens, dec_tokens embedding lookup\n",
        "        enc_embed = self.get_embedding(enc_tokens)\n",
        "        dec_embed = self.get_embedding(dec_tokens)\n",
        "\n",
        "        # dropout for enc_embed\n",
        "        enc_hidden = self.dropout(enc_embed)\n",
        "        # call encoder layers\n",
        "        for encoder_layer in self.encoder_layers:\n",
        "            enc_hidden = encoder_layer((enc_hidden, enc_self_mask))\n",
        "        \n",
        "        # dropout for dec_embed\n",
        "        dec_hidden = self.dropout(dec_embed)\n",
        "        # call decoder layers\n",
        "        for decoder_layer in self.decoder_layers:\n",
        "            dec_hidden = decoder_layer((dec_hidden, enc_hidden, dec_self_mask, enc_dec_mask))\n",
        "\n",
        "        # call weight shared embedding (model=linear)\n",
        "        logits = self.embedding(dec_hidden, mode='linear')\n",
        "        return logits\n",
        "    \n",
        "    def get_embedding(self, tokens):\n",
        "        \"\"\"\n",
        "        token embedding, position embedding lookup\n",
        "        :param tokens: 입력 tokens\n",
        "        :return embed: embedding 결과\n",
        "        \"\"\"\n",
        "        embed = self.embedding(tokens) + self.position(tokens)\n",
        "        return embed"
      ],
      "execution_count": null,
      "outputs": []
    },
    {
      "cell_type": "code",
      "metadata": {
        "id": "MW2cNlE3d_8e"
      },
      "source": [
        "def build_model(args):\n",
        "    \"\"\"\n",
        "    Transformer Model\n",
        "    :param args: Args 객체\n",
        "    \"\"\"\n",
        "    enc_inputs = tf.keras.layers.Input((None,))  # (bs, ?)\n",
        "    dec_inputs = tf.keras.layers.Input((None,))  # (bs, ?)\n",
        "\n",
        "    transformer = Transformer(args)\n",
        "    logits = transformer((enc_inputs, dec_inputs))\n",
        "    y_pred = tf.keras.layers.Softmax(name=\"lm\")(logits)\n",
        "\n",
        "    model = tf.keras.Model(inputs=(enc_inputs, dec_inputs), outputs=y_pred)\n",
        "    return model"
      ],
      "execution_count": null,
      "outputs": []
    },
    {
      "cell_type": "markdown",
      "metadata": {
        "id": "097BJVHG_QfR"
      },
      "source": [
        "# Data*"
      ]
    },
    {
      "cell_type": "code",
      "metadata": {
        "colab": {
          "base_uri": "https://localhost:8080/"
        },
        "id": "BvBz82afgule",
        "outputId": "c49434d7-48e1-47aa-9bbc-613b27faa75a"
      },
      "source": [
        "# 파일 다운로드 및 목록 확인\n",
        "!wget https://github.com/songys/Chatbot_data/raw/master/ChatbotData%20.csv\n",
        "os.listdir('./')"
      ],
      "execution_count": null,
      "outputs": [
        {
          "output_type": "stream",
          "text": [
            "--2021-06-02 11:17:32--  https://github.com/songys/Chatbot_data/raw/master/ChatbotData%20.csv\n",
            "Resolving github.com (github.com)... 192.30.255.113\n",
            "Connecting to github.com (github.com)|192.30.255.113|:443... connected.\n",
            "HTTP request sent, awaiting response... 302 Found\n",
            "Location: https://raw.githubusercontent.com/songys/Chatbot_data/master/ChatbotData%20.csv [following]\n",
            "--2021-06-02 11:17:32--  https://raw.githubusercontent.com/songys/Chatbot_data/master/ChatbotData%20.csv\n",
            "Resolving raw.githubusercontent.com (raw.githubusercontent.com)... 185.199.108.133, 185.199.109.133, 185.199.110.133, ...\n",
            "Connecting to raw.githubusercontent.com (raw.githubusercontent.com)|185.199.108.133|:443... connected.\n",
            "HTTP request sent, awaiting response... 200 OK\n",
            "Length: 889842 (869K) [text/plain]\n",
            "Saving to: ‘ChatbotData .csv’\n",
            "\n",
            "ChatbotData .csv    100%[===================>] 868.99K  --.-KB/s    in 0.05s   \n",
            "\n",
            "2021-06-02 11:17:33 (16.6 MB/s) - ‘ChatbotData .csv’ saved [889842/889842]\n",
            "\n"
          ],
          "name": "stdout"
        },
        {
          "output_type": "execute_result",
          "data": {
            "text/plain": [
              "['.config', 'drive', 'ChatbotData .csv', 'sample_data']"
            ]
          },
          "metadata": {
            "tags": []
          },
          "execution_count": 22
        }
      ]
    },
    {
      "cell_type": "code",
      "metadata": {
        "id": "K-pDfgP5DBtH",
        "colab": {
          "base_uri": "https://localhost:8080/"
        },
        "outputId": "22fd5712-6ff8-46fc-fba9-d0d3d3fee363"
      },
      "source": [
        "# 파일명 변경 및 목록 확인\n",
        "!mv 'ChatbotData .csv' ChatbotData.csv\n",
        "os.listdir('./')"
      ],
      "execution_count": null,
      "outputs": [
        {
          "output_type": "execute_result",
          "data": {
            "text/plain": [
              "['.config', 'drive', 'ChatbotData.csv', 'sample_data']"
            ]
          },
          "metadata": {
            "tags": []
          },
          "execution_count": 23
        }
      ]
    },
    {
      "cell_type": "markdown",
      "metadata": {
        "id": "WB0cfrHoGOKX"
      },
      "source": [
        "# Loss & Acc*"
      ]
    },
    {
      "cell_type": "code",
      "metadata": {
        "id": "ao1Ukq5MGabJ"
      },
      "source": [
        "def lm_loss(y_true, y_pred):\n",
        "    \"\"\"\n",
        "    pad 부분을 제외하고 loss를 계산하는 함수\n",
        "    :param y_true: 정답\n",
        "    :param y_pred: 예측 값\n",
        "    :retrun loss: pad 부분이 제외된 loss 값\n",
        "    \"\"\"\n",
        "    # loss = sparse_entropy = tf.keras.losses.SparseCategoricalCrossentropy()(y_true, y_pred)\n",
        "    loss = tf.keras.losses.SparseCategoricalCrossentropy(reduction=tf.keras.losses.Reduction.NONE)(y_true, y_pred)\n",
        "    mask = tf.not_equal(y_true, 0)\n",
        "    mask = tf.cast(mask, tf.float32)\n",
        "    # print(mask)\n",
        "    loss *= mask\n",
        "    return loss"
      ],
      "execution_count": null,
      "outputs": []
    },
    {
      "cell_type": "code",
      "metadata": {
        "id": "FpCq4L65Gqs5"
      },
      "source": [
        "def lm_acc(y_true, y_pred):\n",
        "    \"\"\"\n",
        "    pad 부분을 제외하고 accuracy를 계산하는 함수\n",
        "    :param y_true: 정답\n",
        "    :param y_pred: 예측 값\n",
        "    :retrun loss: pad 부분이 제외된 accuracy 값\n",
        "    \"\"\"\n",
        "    y_true = tf.cast(y_true, tf.float32)\n",
        "    # print(y_true)\n",
        "    y_pred_class = tf.cast(tf.argmax(y_pred, axis=-1), tf.float32)\n",
        "    # print(y_pred_class)\n",
        "    matches = tf.cast(tf.equal(y_true, y_pred_class), tf.float32)\n",
        "    # print(matches)\n",
        "    mask = tf.not_equal(y_true, 0)\n",
        "    mask = tf.cast(mask, tf.float32)\n",
        "    # print(mask)\n",
        "    matches *= mask\n",
        "    # print(matches)\n",
        "    # accuracy = tf.reduce_sum(matches) / tf.maximum(tf.reduce_sum(tf.ones_like(matches)), 1)\n",
        "    accuracy = tf.reduce_sum(matches) / tf.maximum(tf.reduce_sum(mask), 1)\n",
        "    return accuracy"
      ],
      "execution_count": null,
      "outputs": []
    },
    {
      "cell_type": "markdown",
      "metadata": {
        "id": "auGUODYIiSxK"
      },
      "source": [
        "# Scheduler"
      ]
    },
    {
      "cell_type": "code",
      "metadata": {
        "id": "53eYgvRNiSdq"
      },
      "source": [
        "class InverseSquareRootSchedule(tf.keras.optimizers.schedules.LearningRateSchedule):\n",
        "    \"\"\"\n",
        "    TransformerSchedule class\n",
        "    \"\"\"\n",
        "    def __init__(self, d_model, warmup_steps=4000):\n",
        "        \"\"\"\n",
        "        생성자\n",
        "        :param d_model: 모델 hidden\n",
        "        :param warmup_steps: warmup steps\n",
        "        \"\"\"\n",
        "        super().__init__()\n",
        "\n",
        "        self.d_model = tf.cast(d_model, tf.float32)\n",
        "        self.warmup_steps = tf.cast(warmup_steps, tf.float32)\n",
        "\n",
        "    def __call__(self, step_num):\n",
        "        \"\"\"\n",
        "        learning rate 계산\n",
        "        :param step_num: 현재 step number\n",
        "        :retrun: 계산된 learning rate\n",
        "        \"\"\"\n",
        "        # calculate arg1 step_num ** -0.5\n",
        "        arg1 = tf.math.rsqrt(step_num) # 분모에 루트\n",
        "        # print(arg1)\n",
        "        # calculate arg2 step_num * warmup_steps ** -1.5\n",
        "        arg2 = step_num * (self.warmup_steps**-1.5)\n",
        "        # print(arg2)\n",
        "        # calcualte arg (min arg1 vs arg2)\n",
        "        arg = tf.math.minimum(arg1, arg2)\n",
        "        # print(arg)\n",
        "        # calcualte lr (d_model ** -0.5 * arg)\n",
        "        lr = tf.math.rsqrt(self.d_model) * arg\n",
        "        return lr"
      ],
      "execution_count": null,
      "outputs": []
    },
    {
      "cell_type": "code",
      "metadata": {
        "colab": {
          "base_uri": "https://localhost:8080/"
        },
        "id": "Ozw2a2JBigXC",
        "outputId": "9d4e3a5d-3286-4f45-9212-8ba18f2c5a8b"
      },
      "source": [
        "schedule = InverseSquareRootSchedule(args.d_model, warmup_steps=100)\n",
        "schedule(float(101))"
      ],
      "execution_count": null,
      "outputs": [
        {
          "output_type": "execute_result",
          "data": {
            "text/plain": [
              "<tf.Tensor: shape=(), dtype=float32, numpy=0.0062189824>"
            ]
          },
          "metadata": {
            "tags": []
          },
          "execution_count": 36
        }
      ]
    },
    {
      "cell_type": "code",
      "metadata": {
        "colab": {
          "base_uri": "https://localhost:8080/",
          "height": 279
        },
        "id": "wtVjIb2mimTY",
        "outputId": "8ee2d73e-387e-496f-81ba-bf7d60f9b855"
      },
      "source": [
        "# compute lr\n",
        "test_schedule = InverseSquareRootSchedule(args.d_model, warmup_steps=100)\n",
        "lrs = []\n",
        "for step in range(1000):\n",
        "    lrs.append(test_schedule(float(step)).numpy())\n",
        "\n",
        "# draw\n",
        "plt.plot(lrs, 'r-', label='learning_rate')\n",
        "plt.xlabel('Step')\n",
        "plt.show()"
      ],
      "execution_count": null,
      "outputs": [
        {
          "output_type": "display_data",
          "data": {
            "image/png": "[encoded data removed]",
            "text/plain": [
              "<Figure size 432x288 with 1 Axes>"
            ]
          },
          "metadata": {
            "tags": [],
            "needs_background": "light"
          }
        }
      ]
    },
    {
      "cell_type": "markdown",
      "metadata": {
        "id": "w_ch3BI9EC05"
      },
      "source": [
        "# All Data Project"
      ]
    },
    {
      "cell_type": "markdown",
      "metadata": {
        "id": "Xv8wb2wgEC05"
      },
      "source": [
        "## Train 데이터 생성"
      ]
    },
    {
      "cell_type": "code",
      "metadata": {
        "colab": {
          "base_uri": "https://localhost:8080/",
          "height": 399
        },
        "id": "JEmOCQUiEC06",
        "outputId": "c664713a-b569-43f7-daa4-78b2a51468d3"
      },
      "source": [
        "# data load\n",
        "df_train = pd.read_csv('ChatbotData.csv')\n",
        "df_train"
      ],
      "execution_count": null,
      "outputs": [
        {
          "output_type": "execute_result",
          "data": {
            "text/html": [
              "<div>\n",
              "<style scoped>\n",
              "    .dataframe tbody tr th:only-of-type {\n",
              "        vertical-align: middle;\n",
              "    }\n",
              "\n",
              "    .dataframe tbody tr th {\n",
              "        vertical-align: top;\n",
              "    }\n",
              "\n",
              "    .dataframe thead th {\n",
              "        text-align: right;\n",
              "    }\n",
              "</style>\n",
              "<table border=\"1\" class=\"dataframe\">\n",
              "  <thead>\n",
              "    <tr style=\"text-align: right;\">\n",
              "      <th></th>\n",
              "      <th>Q</th>\n",
              "      <th>A</th>\n",
              "      <th>label</th>\n",
              "    </tr>\n",
              "  </thead>\n",
              "  <tbody>\n",
              "    <tr>\n",
              "      <th>0</th>\n",
              "      <td>12시 땡!</td>\n",
              "      <td>하루가 또 가네요.</td>\n",
              "      <td>0</td>\n",
              "    </tr>\n",
              "    <tr>\n",
              "      <th>1</th>\n",
              "      <td>1지망 학교 떨어졌어</td>\n",
              "      <td>위로해 드립니다.</td>\n",
              "      <td>0</td>\n",
              "    </tr>\n",
              "    <tr>\n",
              "      <th>2</th>\n",
              "      <td>3박4일 놀러가고 싶다</td>\n",
              "      <td>여행은 언제나 좋죠.</td>\n",
              "      <td>0</td>\n",
              "    </tr>\n",
              "    <tr>\n",
              "      <th>3</th>\n",
              "      <td>3박4일 정도 놀러가고 싶다</td>\n",
              "      <td>여행은 언제나 좋죠.</td>\n",
              "      <td>0</td>\n",
              "    </tr>\n",
              "    <tr>\n",
              "      <th>4</th>\n",
              "      <td>PPL 심하네</td>\n",
              "      <td>눈살이 찌푸려지죠.</td>\n",
              "      <td>0</td>\n",
              "    </tr>\n",
              "    <tr>\n",
              "      <th>...</th>\n",
              "      <td>...</td>\n",
              "      <td>...</td>\n",
              "      <td>...</td>\n",
              "    </tr>\n",
              "    <tr>\n",
              "      <th>11818</th>\n",
              "      <td>훔쳐보는 것도 눈치 보임.</td>\n",
              "      <td>티가 나니까 눈치가 보이는 거죠!</td>\n",
              "      <td>2</td>\n",
              "    </tr>\n",
              "    <tr>\n",
              "      <th>11819</th>\n",
              "      <td>훔쳐보는 것도 눈치 보임.</td>\n",
              "      <td>훔쳐보는 거 티나나봐요.</td>\n",
              "      <td>2</td>\n",
              "    </tr>\n",
              "    <tr>\n",
              "      <th>11820</th>\n",
              "      <td>흑기사 해주는 짝남.</td>\n",
              "      <td>설렜겠어요.</td>\n",
              "      <td>2</td>\n",
              "    </tr>\n",
              "    <tr>\n",
              "      <th>11821</th>\n",
              "      <td>힘든 연애 좋은 연애라는게 무슨 차이일까?</td>\n",
              "      <td>잘 헤어질 수 있는 사이 여부인 거 같아요.</td>\n",
              "      <td>2</td>\n",
              "    </tr>\n",
              "    <tr>\n",
              "      <th>11822</th>\n",
              "      <td>힘들어서 결혼할까봐</td>\n",
              "      <td>도피성 결혼은 하지 않길 바라요.</td>\n",
              "      <td>2</td>\n",
              "    </tr>\n",
              "  </tbody>\n",
              "</table>\n",
              "<p>11823 rows × 3 columns</p>\n",
              "</div>"
            ],
            "text/plain": [
              "                             Q                         A  label\n",
              "0                       12시 땡!                하루가 또 가네요.      0\n",
              "1                  1지망 학교 떨어졌어                 위로해 드립니다.      0\n",
              "2                 3박4일 놀러가고 싶다               여행은 언제나 좋죠.      0\n",
              "3              3박4일 정도 놀러가고 싶다               여행은 언제나 좋죠.      0\n",
              "4                      PPL 심하네                눈살이 찌푸려지죠.      0\n",
              "...                        ...                       ...    ...\n",
              "11818           훔쳐보는 것도 눈치 보임.        티가 나니까 눈치가 보이는 거죠!      2\n",
              "11819           훔쳐보는 것도 눈치 보임.             훔쳐보는 거 티나나봐요.      2\n",
              "11820              흑기사 해주는 짝남.                    설렜겠어요.      2\n",
              "11821  힘든 연애 좋은 연애라는게 무슨 차이일까?  잘 헤어질 수 있는 사이 여부인 거 같아요.      2\n",
              "11822               힘들어서 결혼할까봐        도피성 결혼은 하지 않길 바라요.      2\n",
              "\n",
              "[11823 rows x 3 columns]"
            ]
          },
          "metadata": {
            "tags": []
          },
          "execution_count": 40
        }
      ]
    },
    {
      "cell_type": "code",
      "metadata": {
        "colab": {
          "base_uri": "https://localhost:8080/",
          "height": 399
        },
        "id": "rElE7QP0EC06",
        "outputId": "c13de418-5587-4ca2-9bf7-05155a221775"
      },
      "source": [
        "# null 제거\n",
        "df_train = df_train.dropna()\n",
        "df_train"
      ],
      "execution_count": null,
      "outputs": [
        {
          "output_type": "execute_result",
          "data": {
            "text/html": [
              "<div>\n",
              "<style scoped>\n",
              "    .dataframe tbody tr th:only-of-type {\n",
              "        vertical-align: middle;\n",
              "    }\n",
              "\n",
              "    .dataframe tbody tr th {\n",
              "        vertical-align: top;\n",
              "    }\n",
              "\n",
              "    .dataframe thead th {\n",
              "        text-align: right;\n",
              "    }\n",
              "</style>\n",
              "<table border=\"1\" class=\"dataframe\">\n",
              "  <thead>\n",
              "    <tr style=\"text-align: right;\">\n",
              "      <th></th>\n",
              "      <th>Q</th>\n",
              "      <th>A</th>\n",
              "      <th>label</th>\n",
              "    </tr>\n",
              "  </thead>\n",
              "  <tbody>\n",
              "    <tr>\n",
              "      <th>0</th>\n",
              "      <td>12시 땡!</td>\n",
              "      <td>하루가 또 가네요.</td>\n",
              "      <td>0</td>\n",
              "    </tr>\n",
              "    <tr>\n",
              "      <th>1</th>\n",
              "      <td>1지망 학교 떨어졌어</td>\n",
              "      <td>위로해 드립니다.</td>\n",
              "      <td>0</td>\n",
              "    </tr>\n",
              "    <tr>\n",
              "      <th>2</th>\n",
              "      <td>3박4일 놀러가고 싶다</td>\n",
              "      <td>여행은 언제나 좋죠.</td>\n",
              "      <td>0</td>\n",
              "    </tr>\n",
              "    <tr>\n",
              "      <th>3</th>\n",
              "      <td>3박4일 정도 놀러가고 싶다</td>\n",
              "      <td>여행은 언제나 좋죠.</td>\n",
              "      <td>0</td>\n",
              "    </tr>\n",
              "    <tr>\n",
              "      <th>4</th>\n",
              "      <td>PPL 심하네</td>\n",
              "      <td>눈살이 찌푸려지죠.</td>\n",
              "      <td>0</td>\n",
              "    </tr>\n",
              "    <tr>\n",
              "      <th>...</th>\n",
              "      <td>...</td>\n",
              "      <td>...</td>\n",
              "      <td>...</td>\n",
              "    </tr>\n",
              "    <tr>\n",
              "      <th>11818</th>\n",
              "      <td>훔쳐보는 것도 눈치 보임.</td>\n",
              "      <td>티가 나니까 눈치가 보이는 거죠!</td>\n",
              "      <td>2</td>\n",
              "    </tr>\n",
              "    <tr>\n",
              "      <th>11819</th>\n",
              "      <td>훔쳐보는 것도 눈치 보임.</td>\n",
              "      <td>훔쳐보는 거 티나나봐요.</td>\n",
              "      <td>2</td>\n",
              "    </tr>\n",
              "    <tr>\n",
              "      <th>11820</th>\n",
              "      <td>흑기사 해주는 짝남.</td>\n",
              "      <td>설렜겠어요.</td>\n",
              "      <td>2</td>\n",
              "    </tr>\n",
              "    <tr>\n",
              "      <th>11821</th>\n",
              "      <td>힘든 연애 좋은 연애라는게 무슨 차이일까?</td>\n",
              "      <td>잘 헤어질 수 있는 사이 여부인 거 같아요.</td>\n",
              "      <td>2</td>\n",
              "    </tr>\n",
              "    <tr>\n",
              "      <th>11822</th>\n",
              "      <td>힘들어서 결혼할까봐</td>\n",
              "      <td>도피성 결혼은 하지 않길 바라요.</td>\n",
              "      <td>2</td>\n",
              "    </tr>\n",
              "  </tbody>\n",
              "</table>\n",
              "<p>11823 rows × 3 columns</p>\n",
              "</div>"
            ],
            "text/plain": [
              "                             Q                         A  label\n",
              "0                       12시 땡!                하루가 또 가네요.      0\n",
              "1                  1지망 학교 떨어졌어                 위로해 드립니다.      0\n",
              "2                 3박4일 놀러가고 싶다               여행은 언제나 좋죠.      0\n",
              "3              3박4일 정도 놀러가고 싶다               여행은 언제나 좋죠.      0\n",
              "4                      PPL 심하네                눈살이 찌푸려지죠.      0\n",
              "...                        ...                       ...    ...\n",
              "11818           훔쳐보는 것도 눈치 보임.        티가 나니까 눈치가 보이는 거죠!      2\n",
              "11819           훔쳐보는 것도 눈치 보임.             훔쳐보는 거 티나나봐요.      2\n",
              "11820              흑기사 해주는 짝남.                    설렜겠어요.      2\n",
              "11821  힘든 연애 좋은 연애라는게 무슨 차이일까?  잘 헤어질 수 있는 사이 여부인 거 같아요.      2\n",
              "11822               힘들어서 결혼할까봐        도피성 결혼은 하지 않길 바라요.      2\n",
              "\n",
              "[11823 rows x 3 columns]"
            ]
          },
          "metadata": {
            "tags": []
          },
          "execution_count": 41
        }
      ]
    },
    {
      "cell_type": "code",
      "metadata": {
        "colab": {
          "base_uri": "https://localhost:8080/"
        },
        "id": "U7EuG-p4EC07",
        "outputId": "417437fa-5255-4dd4-c5fd-09404c76f3e7"
      },
      "source": [
        "# Q 길이\n",
        "q_length = df_train[\"Q\"].astype(\"str\").apply(lambda x:len(vocab.encode_as_pieces(x)))\n",
        "q_length.head(10), q_length.max()"
      ],
      "execution_count": null,
      "outputs": [
        {
          "output_type": "execute_result",
          "data": {
            "text/plain": [
              "(0     5\n",
              " 1     6\n",
              " 2     9\n",
              " 3    10\n",
              " 4     5\n",
              " 5     7\n",
              " 6     5\n",
              " 7     7\n",
              " 8    11\n",
              " 9     9\n",
              " Name: Q, dtype: int64, 27)"
            ]
          },
          "metadata": {
            "tags": []
          },
          "execution_count": 42
        }
      ]
    },
    {
      "cell_type": "code",
      "metadata": {
        "colab": {
          "base_uri": "https://localhost:8080/"
        },
        "id": "afZqZQRhEC07",
        "outputId": "5f353fe3-829a-459f-fbb2-5fbd8fa264e1"
      },
      "source": [
        "# A 길이\n",
        "a_length = df_train[\"A\"].astype(\"str\").apply(lambda x:len(vocab.encode_as_pieces(x)))\n",
        "a_length.head(10), a_length.max()"
      ],
      "execution_count": null,
      "outputs": [
        {
          "output_type": "execute_result",
          "data": {
            "text/plain": [
              "(0    6\n",
              " 1    6\n",
              " 2    6\n",
              " 3    6\n",
              " 4    9\n",
              " 5    9\n",
              " 6    9\n",
              " 7    7\n",
              " 8    6\n",
              " 9    6\n",
              " Name: A, dtype: int64, 39)"
            ]
          },
          "metadata": {
            "tags": []
          },
          "execution_count": 43
        }
      ]
    },
    {
      "cell_type": "code",
      "metadata": {
        "id": "RfzLzjDCEC08"
      },
      "source": [
        "def make_data(df, vocab, n_enc_seq, n_dec_seq):\n",
        "    \"\"\"\n",
        "    chat 학습 데이터 생성\n",
        "    :param df: data frame\n",
        "    :param df: vocab\n",
        "    :param n_enc_seq: number of encoder sequence\n",
        "    :param n_dec_seq: number of decoder sequence\n",
        "    :return enc_inputs: encoder input data\n",
        "    :return dec_inputs: decoder input data\n",
        "    :return dec_labels: decoder label data\n",
        "    \"\"\"\n",
        "    n_enc_max = n_enc_seq\n",
        "    n_dec_max = n_dec_seq - 1  # [BOS] or [EOS]\n",
        "    # inputa & labels\n",
        "    enc_inputs = []\n",
        "    dec_inputs = []\n",
        "    dec_labels = []\n",
        "    # 데이터 생성\n",
        "    for i, row in tqdm(df.iterrows(), total=len(df)):\n",
        "        Q = row['Q']\n",
        "        A = row['A']\n",
        "        # print(Q, '/', A)\n",
        "        # tokenize\n",
        "        tokens_q = vocab.encode_as_ids(Q)\n",
        "        # print(len(tokens_q), ':', tokens_q)\n",
        "        tokens_a = vocab.encode_as_ids(A)\n",
        "        # print(len(tokens_a), ':', tokens_a)\n",
        "       \n",
        "        # 최대 길이로 자르기\n",
        "        tokens_q = tokens_q[:n_enc_max]\n",
        "        # print(len(tokens_q), ':', tokens_q)\n",
        "        tokens_a = tokens_a[:n_dec_max]\n",
        "        # print(len(tokens_a), ':', tokens_a)\n",
        "       \n",
        "        # input & label 정의\n",
        "        enc_input = tokens_q\n",
        "        # print(len(enc_input), ':', enc_input)\n",
        "        dec_input = [vocab.bos_id()] + tokens_a\n",
        "        # print(len(dec_input), ':', dec_input)\n",
        "        dec_label = tokens_a + [vocab.eos_id()]\n",
        "        # print(len(dec_label), ':', dec_label)\n",
        "       \n",
        "        # pad 추가\n",
        "        enc_input += [0] * (n_enc_seq - len(enc_input))\n",
        "        # print(len(enc_input), ':', enc_input)\n",
        "        dec_input += [0] * (n_dec_seq - len(dec_input))\n",
        "        # print(len(dec_input), ':', dec_input)\n",
        "        dec_label += [0] * (n_dec_seq - len(dec_label))\n",
        "        # print(len(dec_label), ':', dec_label)\n",
        "       \n",
        "        # 값 저장\n",
        "        enc_inputs.append(enc_input)\n",
        "        dec_inputs.append(dec_input)\n",
        "        dec_labels.append(dec_label)\n",
        "    # to numpy array\n",
        "    enc_inputs = np.array(enc_inputs)\n",
        "    dec_inputs = np.array(dec_inputs)\n",
        "    dec_labels = np.array(dec_labels)\n",
        "    return enc_inputs, dec_inputs, dec_labels"
      ],
      "execution_count": null,
      "outputs": []
    },
    {
      "cell_type": "code",
      "metadata": {
        "colab": {
          "base_uri": "https://localhost:8080/",
          "height": 440,
          "referenced_widgets": [
            "f3e3bb836f72421884f2692676bbc6d9",
            "de844da0339649bc8486ea3fab316abe",
            "d4684bb27dca4d598ef264cefe5f2c69",
            "4bad8b63a93842359f0ba70fe8983a97",
            "3521f5bded71447e968250d248463c4b",
            "436fa115090d4c05917a7c2f0395d2bc",
            "f0319270ecf6428e8c682173764f1691",
            "3748626dec0c499696bb20c3d5a81164"
          ]
        },
        "id": "QlYKvQUjEC08",
        "outputId": "25d125b2-201a-48e2-e5ba-f2372f7f72dd"
      },
      "source": [
        "train_enc_inputs, train_dec_inputs, train_dec_labels = make_data(df_train, vocab, 27, 40)\n",
        "train_enc_inputs, train_dec_inputs, train_dec_labels"
      ],
      "execution_count": null,
      "outputs": [
        {
          "output_type": "display_data",
          "data": {
            "application/vnd.jupyter.widget-view+json": {
              "model_id": "f3e3bb836f72421884f2692676bbc6d9",
              "version_minor": 0,
              "version_major": 2
            },
            "text/plain": [
              "HBox(children=(FloatProgress(value=0.0, max=11823.0), HTML(value='')))"
            ]
          },
          "metadata": {
            "tags": []
          }
        },
        {
          "output_type": "stream",
          "text": [
            "\n"
          ],
          "name": "stdout"
        },
        {
          "output_type": "execute_result",
          "data": {
            "text/plain": [
              "(array([[   92,    56,    10, ...,     0,     0,     0],\n",
              "        [   36,    44,  1075, ...,     0,     0,     0],\n",
              "        [   39,   999,   387, ...,     0,     0,     0],\n",
              "        ...,\n",
              "        [ 3531,  8607, 18488, ...,     0,     0,     0],\n",
              "        [10149,  7479,  1232, ...,     0,     0,     0],\n",
              "        [21584,    71,  1113, ...,     0,     0,     0]]),\n",
              " array([[    2,  2424,    19, ...,     0,     0,     0],\n",
              "        [    2,  3975,    61, ...,     0,     0,     0],\n",
              "        [    2,  1910,    18, ...,     0,     0,     0],\n",
              "        ...,\n",
              "        [    2,  1695,     1, ...,     0,     0,     0],\n",
              "        [    2,   423,  9250, ...,     0,     0,     0],\n",
              "        [    2, 14787,    98, ...,     0,     0,     0]]),\n",
              " array([[ 2424,    19,   345, ...,     0,     0,     0],\n",
              "        [ 3975,    61,   976, ...,     0,     0,     0],\n",
              "        [ 1910,    18,  8244, ...,     0,     0,     0],\n",
              "        ...,\n",
              "        [ 1695,     1,  8406, ...,     0,     0,     0],\n",
              "        [  423,  9250,   507, ...,     0,     0,     0],\n",
              "        [14787,    98,  1113, ...,     0,     0,     0]]))"
            ]
          },
          "metadata": {
            "tags": []
          },
          "execution_count": 46
        }
      ]
    },
    {
      "cell_type": "markdown",
      "metadata": {
        "id": "q9TJovagEC08"
      },
      "source": [
        "## Modeling"
      ]
    },
    {
      "cell_type": "code",
      "metadata": {
        "colab": {
          "base_uri": "https://localhost:8080/",
          "height": 273
        },
        "id": "Gx3NzXUoEC0-",
        "outputId": "f7186374-3e99-49b2-e533-f654a1c5ef9a"
      },
      "source": [
        "model = build_model(args)\n",
        "tf.keras.utils.plot_model(model, 'model.png', show_shapes=True)"
      ],
      "execution_count": null,
      "outputs": [
        {
          "output_type": "execute_result",
          "data": {
            "image/png": "[encoded data removed]",
            "text/plain": [
              "<IPython.core.display.Image object>"
            ]
          },
          "metadata": {
            "tags": []
          },
          "execution_count": 70
        }
      ]
    },
    {
      "cell_type": "code",
      "metadata": {
        "id": "1tXRCzp0EC0-",
        "colab": {
          "base_uri": "https://localhost:8080/"
        },
        "outputId": "3250064c-b478-4895-add1-68f1b3a30389"
      },
      "source": [
        "model.predict((train_enc_inputs[:4], train_dec_inputs[:4]))"
      ],
      "execution_count": null,
      "outputs": [
        {
          "output_type": "execute_result",
          "data": {
            "text/plain": [
              "array([[[6.74611219e-05, 1.25326324e-05, 4.78840448e-05, ...,\n",
              "         2.23014886e-05, 1.71486914e-04, 1.78506525e-05],\n",
              "        [7.25571808e-05, 1.83953762e-05, 3.09448806e-05, ...,\n",
              "         1.99326423e-05, 1.65173566e-04, 1.41503488e-05],\n",
              "        [6.53285388e-05, 1.49690995e-05, 2.03654945e-05, ...,\n",
              "         2.67667074e-05, 1.47942905e-04, 1.24827920e-05],\n",
              "        ...,\n",
              "        [1.85566081e-04, 1.20641753e-05, 2.59813787e-05, ...,\n",
              "         1.96272886e-05, 1.24595128e-04, 1.38284995e-05],\n",
              "        [1.91732703e-04, 1.26169789e-05, 2.63877428e-05, ...,\n",
              "         1.97374193e-05, 1.25737060e-04, 1.35339706e-05],\n",
              "        [2.03265387e-04, 1.32374089e-05, 2.65446542e-05, ...,\n",
              "         1.99157184e-05, 1.28062748e-04, 1.35072305e-05]],\n",
              "\n",
              "       [[2.35212374e-05, 1.73176704e-05, 5.26429285e-05, ...,\n",
              "         1.70876501e-05, 5.56314517e-05, 1.65091351e-05],\n",
              "        [2.61086570e-05, 2.17876714e-05, 1.40578650e-05, ...,\n",
              "         1.86028046e-05, 6.64280087e-05, 1.31311008e-05],\n",
              "        [2.18900059e-05, 1.59378251e-05, 1.76531030e-05, ...,\n",
              "         1.64700705e-05, 6.97409414e-05, 1.74872766e-05],\n",
              "        ...,\n",
              "        [7.79979819e-05, 1.67646776e-05, 1.90963219e-05, ...,\n",
              "         1.66775299e-05, 7.90117920e-05, 1.26680752e-05],\n",
              "        [8.05354357e-05, 1.76109297e-05, 1.95863595e-05, ...,\n",
              "         1.66727077e-05, 7.77796740e-05, 1.20970326e-05],\n",
              "        [8.34614038e-05, 1.87331698e-05, 2.03657401e-05, ...,\n",
              "         1.65712536e-05, 7.78142930e-05, 1.19140022e-05]],\n",
              "\n",
              "       [[1.58756920e-05, 3.25561778e-05, 7.86334131e-05, ...,\n",
              "         2.17343641e-05, 1.17657837e-04, 2.04227472e-05],\n",
              "        [1.25473189e-05, 4.29306601e-05, 2.36027681e-05, ...,\n",
              "         1.94529021e-05, 1.05832245e-04, 1.28011252e-05],\n",
              "        [1.06435118e-05, 3.87262371e-05, 2.46994150e-05, ...,\n",
              "         1.90411574e-05, 1.15074443e-04, 1.64130888e-05],\n",
              "        ...,\n",
              "        [4.63219621e-05, 4.23555830e-05, 4.37709896e-05, ...,\n",
              "         1.31914667e-05, 1.29242195e-04, 1.50362303e-05],\n",
              "        [4.76856767e-05, 4.48927785e-05, 4.41947741e-05, ...,\n",
              "         1.32969926e-05, 1.24481987e-04, 1.49175839e-05],\n",
              "        [5.07120676e-05, 4.73042855e-05, 4.33460555e-05, ...,\n",
              "         1.33709991e-05, 1.22245765e-04, 1.52048287e-05]],\n",
              "\n",
              "       [[1.65796355e-05, 2.88451411e-05, 7.27035294e-05, ...,\n",
              "         2.27494929e-05, 1.03403749e-04, 2.13046387e-05],\n",
              "        [1.29857726e-05, 4.19472890e-05, 2.34448235e-05, ...,\n",
              "         1.84809378e-05, 9.32824551e-05, 1.33821859e-05],\n",
              "        [1.11133213e-05, 3.61399798e-05, 2.38709035e-05, ...,\n",
              "         1.85950630e-05, 1.02081198e-04, 1.72658583e-05],\n",
              "        ...,\n",
              "        [4.78513939e-05, 3.83129518e-05, 3.75384589e-05, ...,\n",
              "         1.37050183e-05, 1.13286107e-04, 1.62007327e-05],\n",
              "        [4.90919665e-05, 4.05655264e-05, 3.82339749e-05, ...,\n",
              "         1.37787492e-05, 1.09004344e-04, 1.60688523e-05],\n",
              "        [5.12515398e-05, 4.28552339e-05, 3.76269272e-05, ...,\n",
              "         1.37898523e-05, 1.06865198e-04, 1.65007114e-05]]], dtype=float32)"
            ]
          },
          "metadata": {
            "tags": []
          },
          "execution_count": 71
        }
      ]
    },
    {
      "cell_type": "markdown",
      "metadata": {
        "id": "j3pUWwz0EC0_"
      },
      "source": [
        "## Train"
      ]
    },
    {
      "cell_type": "code",
      "metadata": {
        "colab": {
          "base_uri": "https://localhost:8080/",
          "height": 273
        },
        "id": "3Bug3D6kEC0_",
        "outputId": "85319b98-255f-4ea3-a2b3-6a38d13482a5"
      },
      "source": [
        "model = build_model(args)\n",
        "tf.keras.utils.plot_model(model, 'model.png', show_shapes=True)"
      ],
      "execution_count": null,
      "outputs": [
        {
          "output_type": "execute_result",
          "data": {
            "image/png": "[encoded data removed]",
            "text/plain": [
              "<IPython.core.display.Image object>"
            ]
          },
          "metadata": {
            "tags": []
          },
          "execution_count": 72
        }
      ]
    },
    {
      "cell_type": "code",
      "metadata": {
        "id": "g6baiThSmsMY"
      },
      "source": [
        "learning_rate = InverseSquareRootSchedule(args.d_model, warmup_steps=1000) # peak점\n",
        "optimizer = tf.keras.optimizers.Adam(learning_rate, beta_1=0.9, beta_2=0.98, epsilon=1e-9)"
      ],
      "execution_count": null,
      "outputs": []
    },
    {
      "cell_type": "code",
      "metadata": {
        "id": "a-1MKIIDEC0_"
      },
      "source": [
        "model.compile(loss=lm_loss, optimizer=optimizer, metrics=[lm_acc])\n",
        "# model.compile(loss=lm_loss, optimizer='adam', metrics=[lm_acc])\n"
      ],
      "execution_count": null,
      "outputs": []
    },
    {
      "cell_type": "code",
      "metadata": {
        "id": "Kl22OLVJEC0_"
      },
      "source": [
        "early_stopping = tf.keras.callbacks.EarlyStopping(monitor='lm_acc', patience=30)\n",
        "save_weights = tf.keras.callbacks.ModelCheckpoint(os.path.join(sychat_dir, \"transformer.hdf5\"),\n",
        "                                                  monitor='lm_acc',\n",
        "                                                  verbose=1,\n",
        "                                                  save_best_only=True,\n",
        "                                                  mode=\"max\",\n",
        "                                                  save_freq=\"epoch\",\n",
        "                                                  save_weights_only=True)\n",
        "csv_logger = tf.keras.callbacks.CSVLogger(os.path.join(sychat_dir, \"transformer.csv\"))"
      ],
      "execution_count": null,
      "outputs": []
    },
    {
      "cell_type": "code",
      "metadata": {
        "colab": {
          "base_uri": "https://localhost:8080/"
        },
        "id": "SJlGRJmhEC0_",
        "outputId": "376797a8-96db-4d4c-92d7-a685979e529b"
      },
      "source": [
        "history = model.fit((train_enc_inputs, train_dec_inputs),\n",
        "                    train_dec_labels,\n",
        "                    epochs=50,\n",
        "                    batch_size=256,\n",
        "                    callbacks=[early_stopping, save_weights, csv_logger])\n",
        "\n",
        " #47 step을 해서 한 epoch당  47번 업데이트 되는거지 -> loss,im acc도 47번 업뎃되는거야 한 epoch당\n",
        " # 보통 한번에 안끝내고 논문에서는\n",
        " # 5회해서 평균내고 ,편자를 내는 식으로 함\n",
        " # 학습이 안되면 무조건 데이터 부터\n",
        " # 일단 무조건 작은 model부터 만들어서 작은 data로 학습이 되는지 확인하고\n",
        " # 되면 조금씩 둘다 늘려가는 방법을 채택\n",
        " # layer를 24개씩 쌓는거지.. 그게 GPT3 유형인거고\n",
        " # schedular를 안쓰면 학습이 잘 안되는 경우도 있음 -> but 다양한 유형의 schedular가 잇음"
      ],
      "execution_count": null,
      "outputs": [
        {
          "output_type": "stream",
          "text": [
            "Epoch 1/50\n",
            "47/47 [==============================] - 35s 566ms/step - loss: 2.2483 - lm_acc: 0.0749\n",
            "\n",
            "Epoch 00001: lm_acc improved from -inf to 0.07494, saving model to /content/drive/MyDrive/ict-ai-복합고급언어-nlp/data/songys-chat/transformer.hdf5\n",
            "Epoch 2/50\n",
            "47/47 [==============================] - 26s 560ms/step - loss: 1.7079 - lm_acc: 0.2147\n",
            "\n",
            "Epoch 00002: lm_acc improved from 0.07494 to 0.21474, saving model to /content/drive/MyDrive/ict-ai-복합고급언어-nlp/data/songys-chat/transformer.hdf5\n",
            "Epoch 3/50\n",
            "47/47 [==============================] - 26s 547ms/step - loss: 1.2809 - lm_acc: 0.2903\n",
            "\n",
            "Epoch 00003: lm_acc improved from 0.21474 to 0.29027, saving model to /content/drive/MyDrive/ict-ai-복합고급언어-nlp/data/songys-chat/transformer.hdf5\n",
            "Epoch 4/50\n",
            "47/47 [==============================] - 26s 555ms/step - loss: 1.1293 - lm_acc: 0.3358\n",
            "\n",
            "Epoch 00004: lm_acc improved from 0.29027 to 0.33580, saving model to /content/drive/MyDrive/ict-ai-복합고급언어-nlp/data/songys-chat/transformer.hdf5\n",
            "Epoch 5/50\n",
            "47/47 [==============================] - 26s 557ms/step - loss: 1.0390 - lm_acc: 0.3743\n",
            "\n",
            "Epoch 00005: lm_acc improved from 0.33580 to 0.37432, saving model to /content/drive/MyDrive/ict-ai-복합고급언어-nlp/data/songys-chat/transformer.hdf5\n",
            "Epoch 6/50\n",
            "47/47 [==============================] - 26s 554ms/step - loss: 0.9487 - lm_acc: 0.4062\n",
            "\n",
            "Epoch 00006: lm_acc improved from 0.37432 to 0.40620, saving model to /content/drive/MyDrive/ict-ai-복합고급언어-nlp/data/songys-chat/transformer.hdf5\n",
            "Epoch 7/50\n",
            "47/47 [==============================] - 26s 557ms/step - loss: 0.8596 - lm_acc: 0.4363\n",
            "\n",
            "Epoch 00007: lm_acc improved from 0.40620 to 0.43633, saving model to /content/drive/MyDrive/ict-ai-복합고급언어-nlp/data/songys-chat/transformer.hdf5\n",
            "Epoch 8/50\n",
            "47/47 [==============================] - 26s 557ms/step - loss: 0.7815 - lm_acc: 0.4655\n",
            "\n",
            "Epoch 00008: lm_acc improved from 0.43633 to 0.46545, saving model to /content/drive/MyDrive/ict-ai-복합고급언어-nlp/data/songys-chat/transformer.hdf5\n",
            "Epoch 9/50\n",
            "47/47 [==============================] - 26s 556ms/step - loss: 0.7152 - lm_acc: 0.4934\n",
            "\n",
            "Epoch 00009: lm_acc improved from 0.46545 to 0.49335, saving model to /content/drive/MyDrive/ict-ai-복합고급언어-nlp/data/songys-chat/transformer.hdf5\n",
            "Epoch 10/50\n",
            "47/47 [==============================] - 26s 555ms/step - loss: 0.6528 - lm_acc: 0.5225\n",
            "\n",
            "Epoch 00010: lm_acc improved from 0.49335 to 0.52249, saving model to /content/drive/MyDrive/ict-ai-복합고급언어-nlp/data/songys-chat/transformer.hdf5\n",
            "Epoch 11/50\n",
            "47/47 [==============================] - 26s 554ms/step - loss: 0.5938 - lm_acc: 0.5518\n",
            "\n",
            "Epoch 00011: lm_acc improved from 0.52249 to 0.55177, saving model to /content/drive/MyDrive/ict-ai-복합고급언어-nlp/data/songys-chat/transformer.hdf5\n",
            "Epoch 12/50\n",
            "47/47 [==============================] - 26s 554ms/step - loss: 0.5387 - lm_acc: 0.5823\n",
            "\n",
            "Epoch 00012: lm_acc improved from 0.55177 to 0.58234, saving model to /content/drive/MyDrive/ict-ai-복합고급언어-nlp/data/songys-chat/transformer.hdf5\n",
            "Epoch 13/50\n",
            "47/47 [==============================] - 26s 556ms/step - loss: 0.4889 - lm_acc: 0.6101\n",
            "\n",
            "Epoch 00013: lm_acc improved from 0.58234 to 0.61010, saving model to /content/drive/MyDrive/ict-ai-복합고급언어-nlp/data/songys-chat/transformer.hdf5\n",
            "Epoch 14/50\n",
            "47/47 [==============================] - 26s 557ms/step - loss: 0.4389 - lm_acc: 0.6404\n",
            "\n",
            "Epoch 00014: lm_acc improved from 0.61010 to 0.64042, saving model to /content/drive/MyDrive/ict-ai-복합고급언어-nlp/data/songys-chat/transformer.hdf5\n",
            "Epoch 15/50\n",
            "47/47 [==============================] - 26s 555ms/step - loss: 0.3952 - lm_acc: 0.6680\n",
            "\n",
            "Epoch 00015: lm_acc improved from 0.64042 to 0.66802, saving model to /content/drive/MyDrive/ict-ai-복합고급언어-nlp/data/songys-chat/transformer.hdf5\n",
            "Epoch 16/50\n",
            "47/47 [==============================] - 26s 554ms/step - loss: 0.3573 - lm_acc: 0.6900\n",
            "\n",
            "Epoch 00016: lm_acc improved from 0.66802 to 0.69001, saving model to /content/drive/MyDrive/ict-ai-복합고급언어-nlp/data/songys-chat/transformer.hdf5\n",
            "Epoch 17/50\n",
            "47/47 [==============================] - 26s 556ms/step - loss: 0.3258 - lm_acc: 0.7098\n",
            "\n",
            "Epoch 00017: lm_acc improved from 0.69001 to 0.70981, saving model to /content/drive/MyDrive/ict-ai-복합고급언어-nlp/data/songys-chat/transformer.hdf5\n",
            "Epoch 18/50\n",
            "47/47 [==============================] - 26s 557ms/step - loss: 0.2952 - lm_acc: 0.7281\n",
            "\n",
            "Epoch 00018: lm_acc improved from 0.70981 to 0.72810, saving model to /content/drive/MyDrive/ict-ai-복합고급언어-nlp/data/songys-chat/transformer.hdf5\n",
            "Epoch 19/50\n",
            "47/47 [==============================] - 26s 556ms/step - loss: 0.2733 - lm_acc: 0.7432\n",
            "\n",
            "Epoch 00019: lm_acc improved from 0.72810 to 0.74321, saving model to /content/drive/MyDrive/ict-ai-복합고급언어-nlp/data/songys-chat/transformer.hdf5\n",
            "Epoch 20/50\n",
            "47/47 [==============================] - 26s 555ms/step - loss: 0.2525 - lm_acc: 0.7576\n",
            "\n",
            "Epoch 00020: lm_acc improved from 0.74321 to 0.75764, saving model to /content/drive/MyDrive/ict-ai-복합고급언어-nlp/data/songys-chat/transformer.hdf5\n",
            "Epoch 21/50\n",
            "47/47 [==============================] - 26s 556ms/step - loss: 0.2355 - lm_acc: 0.7670\n",
            "\n",
            "Epoch 00021: lm_acc improved from 0.75764 to 0.76704, saving model to /content/drive/MyDrive/ict-ai-복합고급언어-nlp/data/songys-chat/transformer.hdf5\n",
            "Epoch 22/50\n",
            "47/47 [==============================] - 26s 556ms/step - loss: 0.2218 - lm_acc: 0.7764\n",
            "\n",
            "Epoch 00022: lm_acc improved from 0.76704 to 0.77640, saving model to /content/drive/MyDrive/ict-ai-복합고급언어-nlp/data/songys-chat/transformer.hdf5\n",
            "Epoch 23/50\n",
            "47/47 [==============================] - 26s 555ms/step - loss: 0.2027 - lm_acc: 0.7920\n",
            "\n",
            "Epoch 00023: lm_acc improved from 0.77640 to 0.79202, saving model to /content/drive/MyDrive/ict-ai-복합고급언어-nlp/data/songys-chat/transformer.hdf5\n",
            "Epoch 24/50\n",
            "47/47 [==============================] - 26s 555ms/step - loss: 0.1799 - lm_acc: 0.8107\n",
            "\n",
            "Epoch 00024: lm_acc improved from 0.79202 to 0.81069, saving model to /content/drive/MyDrive/ict-ai-복합고급언어-nlp/data/songys-chat/transformer.hdf5\n",
            "Epoch 25/50\n",
            "47/47 [==============================] - 26s 555ms/step - loss: 0.1634 - lm_acc: 0.8255\n",
            "\n",
            "Epoch 00025: lm_acc improved from 0.81069 to 0.82550, saving model to /content/drive/MyDrive/ict-ai-복합고급언어-nlp/data/songys-chat/transformer.hdf5\n",
            "Epoch 26/50\n",
            "47/47 [==============================] - 26s 556ms/step - loss: 0.1499 - lm_acc: 0.8362\n",
            "\n",
            "Epoch 00026: lm_acc improved from 0.82550 to 0.83617, saving model to /content/drive/MyDrive/ict-ai-복합고급언어-nlp/data/songys-chat/transformer.hdf5\n",
            "Epoch 27/50\n",
            "47/47 [==============================] - 26s 557ms/step - loss: 0.1368 - lm_acc: 0.8482\n",
            "\n",
            "Epoch 00027: lm_acc improved from 0.83617 to 0.84818, saving model to /content/drive/MyDrive/ict-ai-복합고급언어-nlp/data/songys-chat/transformer.hdf5\n",
            "Epoch 28/50\n",
            "47/47 [==============================] - 26s 556ms/step - loss: 0.1285 - lm_acc: 0.8562\n",
            "\n",
            "Epoch 00028: lm_acc improved from 0.84818 to 0.85621, saving model to /content/drive/MyDrive/ict-ai-복합고급언어-nlp/data/songys-chat/transformer.hdf5\n",
            "Epoch 29/50\n",
            "47/47 [==============================] - 26s 556ms/step - loss: 0.1174 - lm_acc: 0.8667\n",
            "\n",
            "Epoch 00029: lm_acc improved from 0.85621 to 0.86670, saving model to /content/drive/MyDrive/ict-ai-복합고급언어-nlp/data/songys-chat/transformer.hdf5\n",
            "Epoch 30/50\n",
            "47/47 [==============================] - 26s 555ms/step - loss: 0.1079 - lm_acc: 0.8759\n",
            "\n",
            "Epoch 00030: lm_acc improved from 0.86670 to 0.87590, saving model to /content/drive/MyDrive/ict-ai-복합고급언어-nlp/data/songys-chat/transformer.hdf5\n",
            "Epoch 31/50\n",
            "47/47 [==============================] - 26s 556ms/step - loss: 0.1004 - lm_acc: 0.8830\n",
            "\n",
            "Epoch 00031: lm_acc improved from 0.87590 to 0.88297, saving model to /content/drive/MyDrive/ict-ai-복합고급언어-nlp/data/songys-chat/transformer.hdf5\n",
            "Epoch 32/50\n",
            "47/47 [==============================] - 26s 555ms/step - loss: 0.0947 - lm_acc: 0.8892\n",
            "\n",
            "Epoch 00032: lm_acc improved from 0.88297 to 0.88925, saving model to /content/drive/MyDrive/ict-ai-복합고급언어-nlp/data/songys-chat/transformer.hdf5\n",
            "Epoch 33/50\n",
            "47/47 [==============================] - 26s 555ms/step - loss: 0.0898 - lm_acc: 0.8946\n",
            "\n",
            "Epoch 00033: lm_acc improved from 0.88925 to 0.89461, saving model to /content/drive/MyDrive/ict-ai-복합고급언어-nlp/data/songys-chat/transformer.hdf5\n",
            "Epoch 34/50\n",
            "47/47 [==============================] - 26s 555ms/step - loss: 0.0837 - lm_acc: 0.9005\n",
            "\n",
            "Epoch 00034: lm_acc improved from 0.89461 to 0.90054, saving model to /content/drive/MyDrive/ict-ai-복합고급언어-nlp/data/songys-chat/transformer.hdf5\n",
            "Epoch 35/50\n",
            "47/47 [==============================] - 26s 556ms/step - loss: 0.0812 - lm_acc: 0.9040\n",
            "\n",
            "Epoch 00035: lm_acc improved from 0.90054 to 0.90405, saving model to /content/drive/MyDrive/ict-ai-복합고급언어-nlp/data/songys-chat/transformer.hdf5\n",
            "Epoch 36/50\n",
            "47/47 [==============================] - 26s 555ms/step - loss: 0.0750 - lm_acc: 0.9105\n",
            "\n",
            "Epoch 00036: lm_acc improved from 0.90405 to 0.91048, saving model to /content/drive/MyDrive/ict-ai-복합고급언어-nlp/data/songys-chat/transformer.hdf5\n",
            "Epoch 37/50\n",
            "47/47 [==============================] - 26s 554ms/step - loss: 0.0699 - lm_acc: 0.9161\n",
            "\n",
            "Epoch 00037: lm_acc improved from 0.91048 to 0.91607, saving model to /content/drive/MyDrive/ict-ai-복합고급언어-nlp/data/songys-chat/transformer.hdf5\n",
            "Epoch 38/50\n",
            "47/47 [==============================] - 26s 555ms/step - loss: 0.0664 - lm_acc: 0.9207\n",
            "\n",
            "Epoch 00038: lm_acc improved from 0.91607 to 0.92067, saving model to /content/drive/MyDrive/ict-ai-복합고급언어-nlp/data/songys-chat/transformer.hdf5\n",
            "Epoch 39/50\n",
            "47/47 [==============================] - 26s 555ms/step - loss: 0.0641 - lm_acc: 0.9238\n",
            "\n",
            "Epoch 00039: lm_acc improved from 0.92067 to 0.92383, saving model to /content/drive/MyDrive/ict-ai-복합고급언어-nlp/data/songys-chat/transformer.hdf5\n",
            "Epoch 40/50\n",
            "47/47 [==============================] - 26s 556ms/step - loss: 0.0613 - lm_acc: 0.9265\n",
            "\n",
            "Epoch 00040: lm_acc improved from 0.92383 to 0.92654, saving model to /content/drive/MyDrive/ict-ai-복합고급언어-nlp/data/songys-chat/transformer.hdf5\n",
            "Epoch 41/50\n",
            "47/47 [==============================] - 26s 555ms/step - loss: 0.0594 - lm_acc: 0.9285\n",
            "\n",
            "Epoch 00041: lm_acc improved from 0.92654 to 0.92853, saving model to /content/drive/MyDrive/ict-ai-복합고급언어-nlp/data/songys-chat/transformer.hdf5\n",
            "Epoch 42/50\n",
            "47/47 [==============================] - 26s 556ms/step - loss: 0.0562 - lm_acc: 0.9324\n",
            "\n",
            "Epoch 00042: lm_acc improved from 0.92853 to 0.93242, saving model to /content/drive/MyDrive/ict-ai-복합고급언어-nlp/data/songys-chat/transformer.hdf5\n",
            "Epoch 43/50\n",
            "47/47 [==============================] - 26s 555ms/step - loss: 0.0546 - lm_acc: 0.9349\n",
            "\n",
            "Epoch 00043: lm_acc improved from 0.93242 to 0.93485, saving model to /content/drive/MyDrive/ict-ai-복합고급언어-nlp/data/songys-chat/transformer.hdf5\n",
            "Epoch 44/50\n",
            "47/47 [==============================] - 26s 556ms/step - loss: 0.0518 - lm_acc: 0.9365\n",
            "\n",
            "Epoch 00044: lm_acc improved from 0.93485 to 0.93653, saving model to /content/drive/MyDrive/ict-ai-복합고급언어-nlp/data/songys-chat/transformer.hdf5\n",
            "Epoch 45/50\n",
            "47/47 [==============================] - 26s 555ms/step - loss: 0.0528 - lm_acc: 0.9351\n",
            "\n",
            "Epoch 00045: lm_acc did not improve from 0.93653\n",
            "Epoch 46/50\n",
            "47/47 [==============================] - 26s 556ms/step - loss: 0.0487 - lm_acc: 0.9413\n",
            "\n",
            "Epoch 00046: lm_acc improved from 0.93653 to 0.94128, saving model to /content/drive/MyDrive/ict-ai-복합고급언어-nlp/data/songys-chat/transformer.hdf5\n",
            "Epoch 47/50\n",
            "47/47 [==============================] - 26s 557ms/step - loss: 0.0459 - lm_acc: 0.9442\n",
            "\n",
            "Epoch 00047: lm_acc improved from 0.94128 to 0.94421, saving model to /content/drive/MyDrive/ict-ai-복합고급언어-nlp/data/songys-chat/transformer.hdf5\n",
            "Epoch 48/50\n",
            "47/47 [==============================] - 26s 556ms/step - loss: 0.0463 - lm_acc: 0.9435\n",
            "\n",
            "Epoch 00048: lm_acc did not improve from 0.94421\n",
            "Epoch 49/50\n",
            "47/47 [==============================] - 26s 555ms/step - loss: 0.0444 - lm_acc: 0.9451\n",
            "\n",
            "Epoch 00049: lm_acc improved from 0.94421 to 0.94509, saving model to /content/drive/MyDrive/ict-ai-복합고급언어-nlp/data/songys-chat/transformer.hdf5\n",
            "Epoch 50/50\n",
            "47/47 [==============================] - 26s 555ms/step - loss: 0.0432 - lm_acc: 0.9476\n",
            "\n",
            "Epoch 00050: lm_acc improved from 0.94509 to 0.94762, saving model to /content/drive/MyDrive/ict-ai-복합고급언어-nlp/data/songys-chat/transformer.hdf5\n"
          ],
          "name": "stdout"
        }
      ]
    },
    {
      "cell_type": "code",
      "metadata": {
        "colab": {
          "base_uri": "https://localhost:8080/",
          "height": 265
        },
        "id": "hSIHos9GEC0_",
        "outputId": "207e50c1-6d0b-478c-e4bd-ee19a0664563"
      },
      "source": [
        "plt.figure(figsize=(12, 4))\n",
        "\n",
        "plt.subplot(1, 2, 1)\n",
        "plt.plot(history.history['loss'], 'b-', label='loss')\n",
        "\n",
        "plt.subplot(1, 2, 2)\n",
        "plt.plot(history.history['lm_acc'], 'g-', label='accuracy')\n",
        "\n",
        "plt.show()"
      ],
      "execution_count": null,
      "outputs": [
        {
          "output_type": "display_data",
          "data": {
            "image/png": "[encoded data removed]",
            "text/plain": [
              "<Figure size 864x288 with 2 Axes>"
            ]
          },
          "metadata": {
            "tags": [],
            "needs_background": "light"
          }
        }
      ]
    },
    {
      "cell_type": "markdown",
      "metadata": {
        "id": "hMoKqFvLEC1A"
      },
      "source": [
        "## BLEU"
      ]
    },
    {
      "cell_type": "code",
      "metadata": {
        "id": "tmTAHlpeEC1A"
      },
      "source": [
        "def get_ngram(tokens, ngram):\n",
        "    # tokens n-gram\n",
        "    counter = collections.defaultdict(int)\n",
        "    for i in range(len(tokens) - ngram + 1):\n",
        "        # n-gram 별 count\n",
        "        key = tuple(tokens[i:i+ngram])\n",
        "        counter[key] += 1\n",
        "    return  counter"
      ],
      "execution_count": null,
      "outputs": []
    },
    {
      "cell_type": "code",
      "metadata": {
        "id": "7x4MGadgEC1A"
      },
      "source": [
        "def get_ngram_clip(candidate, references, ngram):\n",
        "    # max ref counter\n",
        "    max_counter = collections.defaultdict(int)\n",
        "    # check max count\n",
        "    for ref in references:\n",
        "        ref_counter = get_ngram(ref, ngram)\n",
        "        for key, cnt in ref_counter.items():\n",
        "            max_counter[key] = max(max_counter[key], ref_counter.get(key, 0))\n",
        "    \n",
        "    # candidate counter\n",
        "    can_counter = get_ngram(candidate, ngram)\n",
        "    # clip counter\n",
        "    clip_counter = collections.defaultdict(int)\n",
        "    for key, cnt in can_counter.items():\n",
        "        clip_counter[key] = min(can_counter[key], max_counter.get(key, 0))\n",
        "    return clip_counter"
      ],
      "execution_count": null,
      "outputs": []
    },
    {
      "cell_type": "code",
      "metadata": {
        "id": "wlPV_T9VEC1A"
      },
      "source": [
        "def get_ngram_precision(candidate, references, ngram):\n",
        "    # clip counter\n",
        "    clip_counter = get_ngram_clip(candidate, references, ngram) \n",
        "    n_clip = sum(clip_counter.values())\n",
        "    # ref counter\n",
        "    can_counter = get_ngram(candidate, ngram)\n",
        "    n_total = sum(can_counter.values())\n",
        "\n",
        "    return n_clip / max(n_total, 1)  # 분모 0 방지"
      ],
      "execution_count": null,
      "outputs": []
    },
    {
      "cell_type": "code",
      "metadata": {
        "id": "Y6Td0wskEC1A"
      },
      "source": [
        "def get_brevity_penalty(candidate, references):\n",
        "    can_len = len(candidate)\n",
        "    ref_len = min([len(reference) for reference in references])\n",
        "\n",
        "    if can_len == 0:  # empty string\n",
        "        return 0\n",
        "    elif can_len > ref_len:\n",
        "        return 1\n",
        "    else:\n",
        "        return np.exp(1 - ref_len / can_len)"
      ],
      "execution_count": null,
      "outputs": []
    },
    {
      "cell_type": "code",
      "metadata": {
        "id": "FzHJFZ5SEC1A"
      },
      "source": [
        "def get_bleu_score(candidate, references, weights=[0.25, 0.25, 0.25, 0.25]):\n",
        "    bp = get_brevity_penalty(candidate, references) # BP\n",
        "    p_n = []\n",
        "    for i in range(len(weights)):\n",
        "        p_n.append(get_ngram_precision(candidate, references, i + 1))\n",
        "    score = [w * np.log(p) if p != 0 else 0 for p, w in zip(p_n, weights)]\n",
        "    score = np.sum(score)\n",
        "    score = bp * np.exp(score)\n",
        "    return score"
      ],
      "execution_count": null,
      "outputs": []
    },
    {
      "cell_type": "code",
      "metadata": {
        "id": "zgMUesK4EC1A"
      },
      "source": [
        "import nltk.translate.bleu_score as bleu\n",
        "from nltk import ngrams"
      ],
      "execution_count": null,
      "outputs": []
    },
    {
      "cell_type": "markdown",
      "metadata": {
        "id": "x83Kl8yPEC1B"
      },
      "source": [
        "## 평가"
      ]
    },
    {
      "cell_type": "code",
      "metadata": {
        "id": "5dIjXrXoEC1B"
      },
      "source": [
        "model = build_model(args)\n",
        "model.load_weights(os.path.join(sychat_dir, \"transformer.hdf5\"))"
      ],
      "execution_count": null,
      "outputs": []
    },
    {
      "cell_type": "code",
      "metadata": {
        "id": "XMCPHTqfEC1C"
      },
      "source": [
        "model.compile(loss=lm_loss, optimizer=optimizer, metrics=[lm_acc])"
      ],
      "execution_count": null,
      "outputs": []
    },
    {
      "cell_type": "code",
      "metadata": {
        "id": "DTV6Qmh8EC1C"
      },
      "source": [
        "# 100개만 확인\n",
        "valid_enc_inputs = train_enc_inputs[:100]\n",
        "valid_dec_inputs = train_dec_inputs[:100]\n",
        "valid_dec_labels = train_dec_labels[:100]"
      ],
      "execution_count": null,
      "outputs": []
    },
    {
      "cell_type": "code",
      "metadata": {
        "colab": {
          "base_uri": "https://localhost:8080/"
        },
        "id": "gPrE6FngEC1D",
        "outputId": "cdcd2dc1-931a-4167-ca8d-18a533cc34d6"
      },
      "source": [
        "# 평가\n",
        "model.evaluate((valid_enc_inputs, valid_dec_inputs), valid_dec_labels, batch_size=128)"
      ],
      "execution_count": null,
      "outputs": [
        {
          "output_type": "stream",
          "text": [
            "1/1 [==============================] - 3s 3s/step - loss: 0.0032 - lm_acc: 0.9957\n"
          ],
          "name": "stdout"
        },
        {
          "output_type": "execute_result",
          "data": {
            "text/plain": [
              "[0.0032065268605947495, 0.9956849813461304]"
            ]
          },
          "metadata": {
            "tags": []
          },
          "execution_count": 87
        }
      ]
    },
    {
      "cell_type": "code",
      "metadata": {
        "id": "M5a2hly_EC1D",
        "colab": {
          "base_uri": "https://localhost:8080/"
        },
        "outputId": "4bd8a6e8-3806-4541-e47a-b34df8e9eda7"
      },
      "source": [
        "references = []\n",
        "for row in valid_dec_labels:\n",
        "    ids = []\n",
        "    for i in row:\n",
        "        if i == vocab.eos_id():\n",
        "            break\n",
        "        ids.append(int(i))\n",
        "    string = vocab.id_to_piece(ids)\n",
        "    references.append(string)\n",
        "references"
      ],
      "execution_count": null,
      "outputs": [
        {
          "output_type": "execute_result",
          "data": {
            "text/plain": [
              "[['▁하루', '가', '▁또', '▁가네', '요', '.'],\n",
              " ['▁위로', '해', '▁드', '립', '니다', '.'],\n",
              " ['▁여행', '은', '▁언제나', '▁좋', '죠', '.'],\n",
              " ['▁여행', '은', '▁언제나', '▁좋', '죠', '.'],\n",
              " ['▁눈', '살이', '▁', '찌', '푸', '려', '지', '죠', '.'],\n",
              " ['▁다시', '▁새로', '▁사는', '▁게', '▁마음', '▁편', '해', '요', '.'],\n",
              " ['▁다시', '▁새로', '▁사는', '▁게', '▁마음', '▁편', '해', '요', '.'],\n",
              " ['▁잘', '▁모르고', '▁있을', '▁수도', '▁있어', '요', '.'],\n",
              " ['▁시간을', '▁정하고', '▁해', '보', '세요', '.'],\n",
              " ['▁시간을', '▁정하고', '▁해', '보', '세요', '.'],\n",
              " ['▁자랑하는', '▁자리', '니까', '요', '.'],\n",
              " ['▁그', '▁사람도', '▁그럴', '▁거', '예', '요', '.'],\n",
              " ['▁그', '▁사람도', '▁그럴', '▁거', '예', '요', '.'],\n",
              " ['▁혼자', '를', '▁즐기', '세요', '.'],\n",
              " ['▁돈', '은', '▁다시', '▁들어올', '▁거', '예', '요', '.'],\n",
              " ['▁땀', '을', '▁식', '혀', '주', '세요', '.'],\n",
              " ['▁', '어서', '▁', '잊', '고', '▁새', '출', '발', '▁하', '세요', '.'],\n",
              " ['▁빨리', '▁집에', '▁돌아가', '서', '▁끄', '고', '▁나오', '세요', '.'],\n",
              " ['▁빨리', '▁집에', '▁돌아가', '서', '▁끄', '고', '▁나오', '세요', '.'],\n",
              " ['▁다음', '▁달', '에는', '▁더', '▁절약', '해', '봐', '요', '.'],\n",
              " ['▁따뜻하', '게', '▁사', '세요', '!'],\n",
              " ['▁다음', '▁달', '에는', '▁더', '▁절약', '해', '봐', '요', '.'],\n",
              " ['▁가장',\n",
              "  '▁',\n",
              "  '확실한',\n",
              "  '▁시간',\n",
              "  '은',\n",
              "  '▁오늘',\n",
              "  '이',\n",
              "  '에',\n",
              "  '요',\n",
              "  '.',\n",
              "  '▁어',\n",
              "  '제와',\n",
              "  '▁내',\n",
              "  '일',\n",
              "  '을',\n",
              "  '▁놓고',\n",
              "  '▁고민',\n",
              "  '하느라',\n",
              "  '▁시간을',\n",
              "  '▁낭비',\n",
              "  '하지',\n",
              "  '▁마',\n",
              "  '세요',\n",
              "  '.'],\n",
              " ['▁온', '▁가족이', '▁모두', '▁마음에', '▁드는', '▁곳으로', '▁가', '보', '세요', '.'],\n",
              " ['▁온', '▁가족이', '▁모두', '▁마음에', '▁드는', '▁곳으로', '▁가', '보', '세요', '.'],\n",
              " ['▁온', '▁가족이', '▁모두', '▁마음에', '▁드는', '▁곳으로', '▁가', '보', '세요', '.'],\n",
              " ['▁저',\n",
              "  '를',\n",
              "  '▁만들어',\n",
              "  '▁준',\n",
              "  '▁사람',\n",
              "  '을',\n",
              "  '▁부모님',\n",
              "  ',',\n",
              "  '▁저',\n",
              "  '랑',\n",
              "  '▁이야기',\n",
              "  '해',\n",
              "  '▁주는',\n",
              "  '▁사람',\n",
              "  '을',\n",
              "  '▁친구',\n",
              "  '로',\n",
              "  '▁생각하고',\n",
              "  '▁있어',\n",
              "  '요'],\n",
              " ['▁저',\n",
              "  '를',\n",
              "  '▁만들어',\n",
              "  '▁준',\n",
              "  '▁사람',\n",
              "  '을',\n",
              "  '▁부모님',\n",
              "  ',',\n",
              "  '▁저',\n",
              "  '랑',\n",
              "  '▁이야기',\n",
              "  '해',\n",
              "  '▁주는',\n",
              "  '▁사람',\n",
              "  '을',\n",
              "  '▁친구',\n",
              "  '로',\n",
              "  '▁생각하고',\n",
              "  '▁있어',\n",
              "  '요'],\n",
              " ['▁더', '▁가까워', '질', '▁기회', '가', '▁되', '겠', '네', '요', '.'],\n",
              " ['▁저', '도', '요', '.'],\n",
              " ['▁다',\n",
              "  '들',\n",
              "  '▁바',\n",
              "  '빠',\n",
              "  '서',\n",
              "  '▁이야기',\n",
              "  '할',\n",
              "  '▁시간이',\n",
              "  '▁부족',\n",
              "  '했',\n",
              "  '나',\n",
              "  '봐',\n",
              "  '요',\n",
              "  '.'],\n",
              " ['▁다',\n",
              "  '들',\n",
              "  '▁바',\n",
              "  '빠',\n",
              "  '서',\n",
              "  '▁이야기',\n",
              "  '할',\n",
              "  '▁시간이',\n",
              "  '▁부족',\n",
              "  '했',\n",
              "  '나',\n",
              "  '봐',\n",
              "  '요',\n",
              "  '.'],\n",
              " ['▁온', '▁가족이', '▁모두', '▁마음에', '▁드는', '▁곳으로', '▁가', '보', '세요', '.'],\n",
              " ['▁좋은', '▁생각이', '에', '요', '.'],\n",
              " ['▁더', '▁가까워', '질', '▁기회', '가', '▁되', '겠', '네', '요', '.'],\n",
              " ['▁저',\n",
              "  '를',\n",
              "  '▁만들어',\n",
              "  '▁준',\n",
              "  '▁사람',\n",
              "  '을',\n",
              "  '▁부모님',\n",
              "  ',',\n",
              "  '▁저',\n",
              "  '랑',\n",
              "  '▁이야기',\n",
              "  '해',\n",
              "  '▁주는',\n",
              "  '▁사람',\n",
              "  '을',\n",
              "  '▁친구',\n",
              "  '로',\n",
              "  '▁생각하고',\n",
              "  '▁있어',\n",
              "  '요'],\n",
              " ['▁좋은', '▁생각이', '에', '요', '.'],\n",
              " ['▁정말', '▁후', '회', '할', '▁습관', '이', '에', '요', '.'],\n",
              " ['▁무', '모', '한', '▁결정', '을', '▁내리', '지', '▁마', '세요', '.'],\n",
              " ['▁선생님', '이나', '▁기관', '에', '▁연락', '해', '보', '세요', '.'],\n",
              " ['▁떨', '리는', '▁감정', '은', '▁그', '▁자체', '로', '▁소중', '해', '요', '.'],\n",
              " ['▁득', '템', '했', '길', '▁바라', '요', '.'],\n",
              " ['▁휴식', '도', '▁필요', '하', '죠', '.'],\n",
              " ['▁단', '짠', '으로', '▁두', '▁개', '▁사는', '게', '▁진리', '죠', '.'],\n",
              " ['▁단', '짠', '으로', '▁두', '▁개', '▁사는', '게', '▁진리', '죠', '.'],\n",
              " ['▁맛', '있게', '▁드', '세요', '.'],\n",
              " ['▁저', '도', '▁싫어', '요', '.'],\n",
              " ['▁가', '세요', '.'],\n",
              " ['▁가', '세요', '.'],\n",
              " ['▁맛', '있게', '▁드', '세요', '.'],\n",
              " ['▁맛', '있게', '▁드', '세요', '.'],\n",
              " ['▁병원', '가', '세요', '.'],\n",
              " ['▁이', '럴', '▁때', '▁잘', '▁쉬', '는', '▁게', '▁중요', '해', '요', '.'],\n",
              " ['▁이', '럴', '▁때', '▁잘', '▁쉬', '는', '▁게', '▁중요', '해', '요', '.'],\n",
              " ['▁이', '럴', '▁때', '▁잘', '▁쉬', '는', '▁게', '▁중요', '해', '요', '.'],\n",
              " ['▁따뜻하', '게', '▁관리', '하', '세요', '.'],\n",
              " ['▁병원', '가', '세요', '.'],\n",
              " ['▁병원', '가', '세요', '.'],\n",
              " ['▁저', '도', '▁듣고', '▁', '싶', '네', '요', '.'],\n",
              " ['▁자신', '을', '▁더', '▁사랑', '해', '주', '세요', '.'],\n",
              " ['▁그', '건', '▁습관', '이', '에', '요', '.'],\n",
              " ['▁그', '건', '▁습관', '이', '에', '요', '.'],\n",
              " ['▁', '콕', '▁집', '어서', '▁물어', '보', '세요', '.'],\n",
              " ['▁좋은', '▁생각', '만', '▁하', '세요', '.'],\n",
              " ['▁마음이', '▁아', '픈', '가', '요', '.'],\n",
              " ['▁갑작스러', '웠', '나', '봐', '요', '.'],\n",
              " ['▁관계', '의', '▁변화', '가', '▁왔', '나', '봅', '니다', '.'],\n",
              " ['▁처음',\n",
              "  '▁3',\n",
              "  '초',\n",
              "  '가',\n",
              "  '▁중요',\n",
              "  '해',\n",
              "  '요',\n",
              "  '.',\n",
              "  '▁당신',\n",
              "  '의',\n",
              "  '▁매력',\n",
              "  '을',\n",
              "  '▁어',\n",
              "  '필',\n",
              "  '해',\n",
              "  '보',\n",
              "  '세요',\n",
              "  '.'],\n",
              " ['▁책임', '질', '▁수', '▁있을', '▁때', '▁키워', '▁보', '세요', '.'],\n",
              " ['▁먼저', '▁생활', '패', '턴', '을', '▁살펴', '▁보', '세요', '.'],\n",
              " ['▁먼저', '▁생활', '패', '턴', '을', '▁살펴', '▁보', '세요', '.'],\n",
              " ['▁책임', '질', '▁수', '▁있을', '▁때', '▁키워', '▁보', '세요', '.'],\n",
              " ['▁아름다운', '▁곳이', '죠', '.'],\n",
              " ['▁안', '▁될', '▁것도', '▁없', '죠', '.'],\n",
              " ['▁혼자', '도', '▁좋아', '요', '.'],\n",
              " ['▁연인',\n",
              "  '은',\n",
              "  '▁살',\n",
              "  '쪄',\n",
              "  '도',\n",
              "  '▁잘',\n",
              "  '▁알아차리',\n",
              "  '지',\n",
              "  '▁못하고',\n",
              "  '▁알아',\n",
              "  '차',\n",
              "  '려',\n",
              "  '도',\n",
              "  '▁싫어하',\n",
              "  '지',\n",
              "  '▁않을',\n",
              "  '▁거',\n",
              "  '예',\n",
              "  '요',\n",
              "  '.'],\n",
              " ['▁즐거', '운', '▁시간', '▁보내고', '▁오', '세요', '!'],\n",
              " ['▁질', '질', '▁끌', '지', '▁마', '세요', '.'],\n",
              " ['▁말해', '보', '세요', '.'],\n",
              " ['▁함께', '하면', '▁서로', '를', '▁더', '▁많이', '▁알게', '▁될', '▁거', '예', '요', '.'],\n",
              " ['▁개시', '해', '보', '세요', '.'],\n",
              " ['▁개시', '해', '보', '세요', '.'],\n",
              " ['▁곧', '▁방', '학', '이', '예', '요', '.'],\n",
              " ['▁방', '학', '이', '▁참', '▁', '짧', '죠', '.'],\n",
              " ['▁벗어나', '는', '▁게', '▁좋', '겠', '네', '요', '.'],\n",
              " ['▁벗어나', '는', '▁게', '▁좋', '겠', '네', '요', '.'],\n",
              " ['▁세', '수', '하고', '▁오', '세요', '.'],\n",
              " ['▁그', '게', '▁제일', '▁중요한', '▁건', '데', '요', '.'],\n",
              " ['▁그', '게', '▁제일', '▁중요한', '▁건', '데', '요', '.'],\n",
              " ['▁다음', '부터는', '▁더', '▁많이', '▁아', '세요', '.'],\n",
              " ['▁갑작스러', '웠', '나', '봐', '요', '.'],\n",
              " ['▁공', '적인', '▁', '일부터', '▁하', '세요', '.'],\n",
              " ['▁공', '적인', '▁', '일부터', '▁하', '세요', '.'],\n",
              " ['▁낮', '잠', '을', '▁잠깐', '▁자', '도', '▁', '괜', '찮', '아', '요', '.'],\n",
              " ['▁저', '도', '▁좋아', '해', '주', '세요', '.'],\n",
              " ['▁친구들', '이', '▁보고', '싶', '었', '나', '봐', '요', '.'],\n",
              " ['▁되도록', '▁만나', '지', '▁마', '세요', '.'],\n",
              " ['▁당신', '이', '요', '.'],\n",
              " ['▁당신', '의', '▁운', '을', '▁믿어', '보', '세요', '.'],\n",
              " ['▁일', '▁못하는', '▁사람이', '▁있으면', '▁옆에', '▁있는', '▁사람이', '▁더', '▁힘들', '죠', '.']]"
            ]
          },
          "metadata": {
            "tags": []
          },
          "execution_count": 88
        }
      ]
    },
    {
      "cell_type": "code",
      "metadata": {
        "id": "mmQf6zEpEC1D",
        "colab": {
          "base_uri": "https://localhost:8080/"
        },
        "outputId": "d2832415-63ed-443e-b21a-4ae46809cf03"
      },
      "source": [
        "# 예측\n",
        "y_pred = model.predict((valid_enc_inputs, valid_dec_inputs))\n",
        "y_pred"
      ],
      "execution_count": null,
      "outputs": [
        {
          "output_type": "execute_result",
          "data": {
            "text/plain": [
              "array([[[3.07084020e-17, 4.93074366e-11, 2.90353880e-10, ...,\n",
              "         2.68522745e-17, 2.76004570e-08, 1.40241988e-16],\n",
              "        [2.58740756e-17, 4.06224776e-10, 3.65813796e-10, ...,\n",
              "         1.71493434e-17, 3.18322191e-09, 7.68779610e-17],\n",
              "        [5.14460879e-17, 2.46310802e-11, 1.27445188e-09, ...,\n",
              "         5.30694431e-17, 1.66294853e-07, 8.62970997e-17],\n",
              "        ...,\n",
              "        [3.97934967e-16, 5.16116438e-09, 5.04054114e-08, ...,\n",
              "         7.57978616e-17, 2.88963406e-07, 3.56679560e-15],\n",
              "        [5.29692901e-16, 7.69400099e-09, 5.90932139e-08, ...,\n",
              "         1.02080288e-16, 4.58682905e-07, 5.02717781e-15],\n",
              "        [7.47658671e-16, 1.61708300e-08, 7.93809392e-08, ...,\n",
              "         1.52838850e-16, 9.11384177e-07, 7.12939754e-15]],\n",
              "\n",
              "       [[8.48156113e-15, 2.39779474e-10, 2.80396115e-08, ...,\n",
              "         6.92490558e-15, 1.30805522e-09, 2.18086115e-14],\n",
              "        [9.34468784e-17, 9.86126545e-13, 1.71483262e-11, ...,\n",
              "         1.27456118e-16, 6.91729035e-11, 5.25479071e-16],\n",
              "        [9.68648879e-16, 1.99671768e-12, 4.55215813e-12, ...,\n",
              "         2.88202791e-15, 3.35209616e-13, 1.18396465e-15],\n",
              "        ...,\n",
              "        [8.50477864e-14, 5.60885249e-09, 6.62801313e-07, ...,\n",
              "         9.58847937e-14, 1.05590225e-09, 3.41328880e-13],\n",
              "        [1.00115134e-13, 7.30647320e-09, 8.33465492e-07, ...,\n",
              "         1.08644525e-13, 1.40780021e-09, 4.13419624e-13],\n",
              "        [1.10188815e-13, 8.10401790e-09, 8.52714606e-07, ...,\n",
              "         1.11004325e-13, 2.30443487e-09, 4.31295191e-13]],\n",
              "\n",
              "       [[1.63722125e-16, 5.40659392e-11, 3.12856546e-11, ...,\n",
              "         2.19096944e-16, 1.71857181e-11, 1.39496257e-15],\n",
              "        [4.10562968e-15, 2.12926032e-09, 3.64641928e-10, ...,\n",
              "         1.15595908e-14, 2.48154777e-07, 8.57853624e-15],\n",
              "        [1.70252084e-17, 6.02507350e-11, 7.60522233e-13, ...,\n",
              "         2.68671069e-16, 1.78776265e-13, 2.96734514e-16],\n",
              "        ...,\n",
              "        [1.06362122e-14, 7.76665559e-08, 6.68895495e-07, ...,\n",
              "         4.40134244e-15, 1.15679619e-10, 5.49359176e-14],\n",
              "        [1.66220035e-14, 1.20198550e-07, 7.72214833e-07, ...,\n",
              "         7.34986158e-15, 2.01989717e-10, 9.49743756e-14],\n",
              "        [2.51666872e-14, 2.11280366e-07, 8.19843478e-07, ...,\n",
              "         1.16379286e-14, 4.71200023e-10, 1.33728437e-13]],\n",
              "\n",
              "       ...,\n",
              "\n",
              "       [[1.44638362e-20, 1.35489290e-13, 7.87812090e-12, ...,\n",
              "         3.92596818e-20, 3.81221015e-13, 2.54888468e-20],\n",
              "        [5.66255050e-18, 1.66602288e-08, 3.88029431e-09, ...,\n",
              "         1.05250585e-17, 1.64340486e-10, 3.42790230e-17],\n",
              "        [7.07669227e-17, 1.91088595e-12, 7.18678839e-10, ...,\n",
              "         3.21829076e-17, 1.91025817e-09, 1.76933999e-17],\n",
              "        ...,\n",
              "        [6.77014080e-15, 1.12573817e-08, 3.61179275e-07, ...,\n",
              "         1.89597420e-15, 6.48056664e-10, 7.79202718e-15],\n",
              "        [6.18096967e-15, 1.01915054e-08, 3.47024439e-07, ...,\n",
              "         1.66720023e-15, 7.51560092e-10, 7.43343663e-15],\n",
              "        [6.16514074e-15, 1.34054163e-08, 3.91460446e-07, ...,\n",
              "         1.63282086e-15, 1.34904654e-09, 7.47851234e-15]],\n",
              "\n",
              "       [[1.23799813e-17, 7.33529643e-12, 3.49494496e-11, ...,\n",
              "         1.50821264e-17, 4.20715735e-13, 1.92187226e-17],\n",
              "        [1.74222476e-18, 3.73149867e-09, 3.70363566e-11, ...,\n",
              "         2.84349788e-18, 2.23857350e-13, 4.87133859e-18],\n",
              "        [4.64809330e-16, 1.33813155e-10, 2.53698295e-11, ...,\n",
              "         1.08871600e-16, 1.00441147e-13, 9.20305334e-17],\n",
              "        ...,\n",
              "        [2.65225870e-14, 2.24033684e-07, 1.35613971e-06, ...,\n",
              "         8.33391566e-15, 7.34107133e-12, 1.22103247e-14],\n",
              "        [2.58037474e-14, 2.51849997e-07, 1.37163136e-06, ...,\n",
              "         8.86489775e-15, 7.99562239e-12, 1.21941294e-14],\n",
              "        [2.17384026e-14, 3.65638698e-07, 1.33532365e-06, ...,\n",
              "         7.65286306e-15, 1.08826143e-11, 1.01540717e-14]],\n",
              "\n",
              "       [[5.06125264e-18, 2.98745111e-15, 1.48441207e-11, ...,\n",
              "         1.05629318e-17, 2.58250973e-12, 4.37714466e-17],\n",
              "        [1.15438841e-13, 3.56059230e-13, 8.96240287e-12, ...,\n",
              "         1.06718081e-13, 1.47078877e-12, 5.92347785e-13],\n",
              "        [4.53500328e-16, 2.86157410e-14, 3.98253208e-13, ...,\n",
              "         2.01145139e-16, 1.25249976e-13, 1.06182653e-15],\n",
              "        ...,\n",
              "        [1.58327928e-15, 6.35754782e-11, 2.92620882e-07, ...,\n",
              "         9.28549069e-16, 7.01910318e-12, 7.09069280e-15],\n",
              "        [1.22810407e-15, 5.59174408e-11, 2.30838168e-07, ...,\n",
              "         7.42063701e-16, 7.10106930e-12, 5.52067699e-15],\n",
              "        [6.00132160e-16, 3.73191929e-11, 1.10045725e-07, ...,\n",
              "         3.70966894e-16, 6.20954156e-12, 2.40669271e-15]]], dtype=float32)"
            ]
          },
          "metadata": {
            "tags": []
          },
          "execution_count": 89
        }
      ]
    },
    {
      "cell_type": "code",
      "metadata": {
        "id": "orKtftWeEC1D",
        "colab": {
          "base_uri": "https://localhost:8080/"
        },
        "outputId": "a89116b8-e201-44b3-9bb7-27606094f746"
      },
      "source": [
        "# greedy decoding\n",
        "y_pred_class = tf.argmax(y_pred, axis=-1).numpy()\n",
        "y_pred_class"
      ],
      "execution_count": null,
      "outputs": [
        {
          "output_type": "execute_result",
          "data": {
            "text/plain": [
              "array([[2424,   19,  345, ..., 2424, 2424, 2424],\n",
              "       [3975,   61,  976, ..., 7509, 7509, 7509],\n",
              "       [1910,   18, 8244, ...,   10,   10,   10],\n",
              "       ...,\n",
              "       [7288,   20,  506, ..., 7288, 7288, 7288],\n",
              "       [7288,    8, 2489, ..., 9537, 9537, 9537],\n",
              "       [ 289, 4853, 1316, ...,   10,  120,  120]])"
            ]
          },
          "metadata": {
            "tags": []
          },
          "execution_count": 90
        }
      ]
    },
    {
      "cell_type": "code",
      "metadata": {
        "id": "8P4G0HorEC1D",
        "colab": {
          "base_uri": "https://localhost:8080/"
        },
        "outputId": "d6dec8bb-af40-4b35-f7b6-9491d5e7685c"
      },
      "source": [
        "candidates = []\n",
        "for row in y_pred_class:\n",
        "    ids = []\n",
        "    for i in row:\n",
        "        if i == vocab.eos_id():\n",
        "            break\n",
        "        ids.append(int(i))\n",
        "    string = vocab.id_to_piece(ids)\n",
        "    candidates.append(string)\n",
        "candidates"
      ],
      "execution_count": null,
      "outputs": [
        {
          "output_type": "execute_result",
          "data": {
            "text/plain": [
              "[['▁하루', '가', '▁또', '▁가네', '요', '.'],\n",
              " ['▁위로', '해', '▁드', '립', '니다', '.'],\n",
              " ['▁여행', '은', '▁언제나', '▁좋', '죠', '.'],\n",
              " ['▁여행', '은', '▁언제나', '▁좋', '죠', '.'],\n",
              " ['▁눈', '살이', '▁', '찌', '푸', '려', '지', '죠', '.'],\n",
              " ['▁다시', '▁새로', '▁사는', '▁게', '▁마음', '▁편', '해', '요', '.'],\n",
              " ['▁다시', '▁새로', '▁사는', '▁게', '▁마음', '▁편', '해', '요', '.'],\n",
              " ['▁잘', '▁모르고', '▁있을', '▁수도', '▁있어', '요', '.'],\n",
              " ['▁시간을', '▁정하고', '▁해', '보', '세요', '.'],\n",
              " ['▁시간을', '▁정하고', '▁해', '보', '세요', '.'],\n",
              " ['▁자랑하는', '▁자리', '니까', '요', '.'],\n",
              " ['▁그', '▁사람도', '▁그럴', '▁거', '예', '요', '.'],\n",
              " ['▁그', '▁사람도', '▁그럴', '▁거', '예', '요', '.'],\n",
              " ['▁혼자', '를', '▁즐기', '세요', '.'],\n",
              " ['▁돈', '은', '▁다시', '▁들어올', '▁거', '예', '요', '.'],\n",
              " ['▁땀', '을', '▁식', '혀', '주', '세요', '.'],\n",
              " ['▁', '어서', '▁', '잊', '고', '▁새', '출', '발', '▁하', '세요', '.'],\n",
              " ['▁빨리', '▁집에', '▁돌아가', '서', '▁끄', '고', '▁나오', '세요', '.'],\n",
              " ['▁빨리', '▁집에', '▁돌아가', '서', '▁끄', '고', '▁나오', '세요', '.'],\n",
              " ['▁다음', '▁달', '에는', '▁더', '▁절약', '해', '봐', '요', '.'],\n",
              " ['▁따뜻하', '게', '▁사', '세요', '!'],\n",
              " ['▁다음', '▁달', '에는', '▁더', '▁절약', '해', '봐', '요', '.'],\n",
              " ['▁가장',\n",
              "  '▁',\n",
              "  '확실한',\n",
              "  '▁시간',\n",
              "  '은',\n",
              "  '▁오늘',\n",
              "  '이',\n",
              "  '에',\n",
              "  '요',\n",
              "  '.',\n",
              "  '▁어',\n",
              "  '제와',\n",
              "  '▁내',\n",
              "  '일',\n",
              "  '을',\n",
              "  '▁놓고',\n",
              "  '▁고민',\n",
              "  '하느라',\n",
              "  '▁시간을',\n",
              "  '▁낭비',\n",
              "  '하지',\n",
              "  '▁마',\n",
              "  '세요',\n",
              "  '.'],\n",
              " ['▁온', '▁가족이', '▁모두', '▁마음에', '▁드는', '▁곳으로', '▁가', '보', '세요', '.'],\n",
              " ['▁온', '▁가족이', '▁모두', '▁마음에', '▁드는', '▁곳으로', '▁가', '보', '세요', '.'],\n",
              " ['▁온', '▁가족이', '▁모두', '▁마음에', '▁드는', '▁곳으로', '▁가', '보', '세요', '.'],\n",
              " ['▁저',\n",
              "  '를',\n",
              "  '▁만들어',\n",
              "  '▁준',\n",
              "  '▁사람',\n",
              "  '을',\n",
              "  '▁부모님',\n",
              "  ',',\n",
              "  '▁저',\n",
              "  '랑',\n",
              "  '▁이야기',\n",
              "  '해',\n",
              "  '▁주는',\n",
              "  '▁사람',\n",
              "  '을',\n",
              "  '▁친구',\n",
              "  '로',\n",
              "  '▁생각하고',\n",
              "  '▁있어',\n",
              "  '요'],\n",
              " ['▁저',\n",
              "  '를',\n",
              "  '▁만들어',\n",
              "  '▁준',\n",
              "  '▁사람',\n",
              "  '을',\n",
              "  '▁부모님',\n",
              "  ',',\n",
              "  '▁저',\n",
              "  '랑',\n",
              "  '▁이야기',\n",
              "  '해',\n",
              "  '▁주는',\n",
              "  '▁사람',\n",
              "  '을',\n",
              "  '▁친구',\n",
              "  '로',\n",
              "  '▁생각하고',\n",
              "  '▁있어',\n",
              "  '요'],\n",
              " ['▁더', '▁가까워', '질', '▁기회', '가', '▁되', '겠', '네', '요', '.'],\n",
              " ['▁저', '도', '요', '.'],\n",
              " ['▁다',\n",
              "  '들',\n",
              "  '들',\n",
              "  '빠',\n",
              "  '서',\n",
              "  '▁이야기',\n",
              "  '할',\n",
              "  '▁시간이',\n",
              "  '▁부족',\n",
              "  '했',\n",
              "  '나',\n",
              "  '봐',\n",
              "  '요',\n",
              "  '.'],\n",
              " ['▁다',\n",
              "  '들',\n",
              "  '▁바',\n",
              "  '빠',\n",
              "  '서',\n",
              "  '▁이야기',\n",
              "  '할',\n",
              "  '▁시간이',\n",
              "  '▁부족',\n",
              "  '했',\n",
              "  '나',\n",
              "  '봐',\n",
              "  '요',\n",
              "  '.'],\n",
              " ['▁온', '▁가족이', '▁모두', '▁마음에', '▁드는', '▁곳으로', '▁가', '보', '세요', '.'],\n",
              " ['▁좋은', '▁생각이', '에', '요', '.'],\n",
              " ['▁더', '▁가까워', '질', '▁기회', '가', '▁되', '겠', '네', '요', '.'],\n",
              " ['▁저',\n",
              "  '를',\n",
              "  '▁만들어',\n",
              "  '▁준',\n",
              "  '▁사람',\n",
              "  '을',\n",
              "  '▁부모님',\n",
              "  ',',\n",
              "  '▁저',\n",
              "  '랑',\n",
              "  '▁이야기',\n",
              "  '해',\n",
              "  '▁주는',\n",
              "  '▁사람',\n",
              "  '을',\n",
              "  '▁친구',\n",
              "  '로',\n",
              "  '▁생각하고',\n",
              "  '▁있어',\n",
              "  '요'],\n",
              " ['▁좋은', '▁생각이', '에', '요', '.'],\n",
              " ['▁정말', '▁후', '회', '할', '▁습관', '이', '에', '요', '.'],\n",
              " ['▁무', '모', '한', '▁결정', '을', '▁내리', '지', '▁마', '세요', '.'],\n",
              " ['▁선생님', '이나', '▁기관', '에', '▁연락', '해', '보', '세요', '.'],\n",
              " ['▁떨', '리는', '▁감정', '은', '▁그', '▁자체', '로', '▁소중', '해', '요', '.'],\n",
              " ['▁득', '템', '했', '길', '▁바라', '요', '.'],\n",
              " ['▁휴식', '도', '▁필요', '하', '죠', '.'],\n",
              " ['▁단', '짠', '으로', '▁두', '▁개', '▁사는', '게', '▁진리', '죠', '.'],\n",
              " ['▁단', '짠', '으로', '▁두', '▁개', '▁사는', '게', '▁진리', '죠', '.'],\n",
              " ['▁맛', '있게', '▁드', '세요', '.'],\n",
              " ['▁저', '도', '▁싫어', '요', '.'],\n",
              " ['▁가', '세요', '.'],\n",
              " ['▁가', '세요', '.'],\n",
              " ['▁맛', '있게', '▁드', '세요', '.'],\n",
              " ['▁맛', '있게', '▁드', '세요', '.'],\n",
              " ['▁병원', '가', '세요', '.'],\n",
              " ['▁이', '럴', '▁때', '▁잘', '▁쉬', '는', '▁게', '▁중요', '해', '요', '.'],\n",
              " ['▁이', '럴', '▁때', '▁잘', '▁쉬', '는', '▁게', '▁중요', '해', '요', '.'],\n",
              " ['▁이', '럴', '▁때', '▁잘', '▁쉬', '는', '▁게', '▁중요', '해', '요', '.'],\n",
              " ['▁따뜻하', '게', '▁관리', '하', '세요', '.'],\n",
              " ['▁병원', '가', '세요', '.'],\n",
              " ['▁병원', '가', '세요', '.'],\n",
              " ['▁저', '도', '▁듣고', '▁', '싶', '네', '요', '.'],\n",
              " ['▁자신', '을', '▁더', '▁사랑', '해', '주', '세요', '.'],\n",
              " ['▁그', '건', '▁습관', '이', '에', '요', '.'],\n",
              " ['▁그', '건', '▁습관', '이', '에', '요', '.'],\n",
              " ['▁', '콕', '▁집', '어서', '▁물어', '보', '세요', '.'],\n",
              " ['▁좋은', '▁생각', '만', '▁하', '세요', '.'],\n",
              " ['▁마음이', '▁아', '픈', '가', '요', '.'],\n",
              " ['▁갑작스러', '웠', '나', '봐', '요', '.'],\n",
              " ['▁관계', '의', '▁변화', '가', '▁왔', '나', '봅', '니다', '.'],\n",
              " ['▁처음',\n",
              "  '▁3',\n",
              "  '초',\n",
              "  '가',\n",
              "  '▁중요',\n",
              "  '해',\n",
              "  '요',\n",
              "  '.',\n",
              "  '▁당신',\n",
              "  '의',\n",
              "  '▁매력',\n",
              "  '을',\n",
              "  '▁어',\n",
              "  '필',\n",
              "  '해',\n",
              "  '보',\n",
              "  '세요',\n",
              "  '.'],\n",
              " ['▁책임', '질', '▁수', '▁있을', '▁때', '▁키워', '▁보', '세요', '.'],\n",
              " ['▁책임', '▁생활', '패', '턴', '을', '▁살펴', '▁보', '세요', '.'],\n",
              " ['▁책임', '▁생활', '패', '턴', '을', '▁살펴', '▁보', '세요', '.'],\n",
              " ['▁책임', '질', '▁수', '▁있을', '▁때', '▁키워', '▁보', '세요', '.'],\n",
              " ['▁아름다운', '▁곳이', '죠', '.'],\n",
              " ['▁안', '▁될', '▁것도', '▁없', '죠', '.'],\n",
              " ['▁혼자', '도', '▁좋아', '요', '.'],\n",
              " ['▁연인',\n",
              "  '은',\n",
              "  '▁살',\n",
              "  '쪄',\n",
              "  '도',\n",
              "  '▁잘',\n",
              "  '▁알아차리',\n",
              "  '지',\n",
              "  '▁못하고',\n",
              "  '▁알아',\n",
              "  '차',\n",
              "  '려',\n",
              "  '도',\n",
              "  '▁싫어하',\n",
              "  '지',\n",
              "  '▁않을',\n",
              "  '▁거',\n",
              "  '예',\n",
              "  '요',\n",
              "  '.'],\n",
              " ['▁즐거', '운', '▁시간', '▁보내고', '▁오', '세요', '!'],\n",
              " ['▁질', '질', '▁끌', '지', '▁마', '세요', '.'],\n",
              " ['▁말해', '▁말해', '세요', '.'],\n",
              " ['▁함께', '하면', '▁서로', '를', '▁더', '▁많이', '▁알게', '▁될', '▁거', '예', '요', '.'],\n",
              " ['▁개시', '해', '보', '세요', '.'],\n",
              " ['▁개시', '해', '보', '세요', '.'],\n",
              " ['▁곧', '▁방', '학', '이', '예', '요', '.'],\n",
              " ['▁방', '학', '이', '▁참', '▁', '짧', '죠', '.'],\n",
              " ['▁벗어나', '는', '▁게', '▁좋', '겠', '네', '요', '.'],\n",
              " ['▁벗어나', '는', '▁게', '▁좋', '겠', '네', '요', '.'],\n",
              " ['▁세', '수', '하고', '▁오', '세요', '.'],\n",
              " ['▁그', '게', '▁제일', '▁중요한', '▁건', '데', '요', '.'],\n",
              " ['▁그', '게', '▁제일', '▁중요한', '▁건', '데', '요', '.'],\n",
              " ['▁다음', '부터는', '▁더', '▁많이', '▁아', '세요', '.'],\n",
              " ['▁갑작스러', '웠', '나', '봐', '요', '.'],\n",
              " ['▁공', '적인', '▁', '일부터', '▁하', '세요', '.'],\n",
              " ['▁공', '적인', '▁', '일부터', '▁하', '세요', '.'],\n",
              " ['▁낮', '잠', '을', '▁잠깐', '▁자', '도', '▁', '괜', '찮', '아', '요', '.'],\n",
              " ['▁저', '도', '▁좋아', '해', '주', '세요', '.'],\n",
              " ['▁친구들', '이', '▁보고', '싶', '었', '나', '봐', '요', '.'],\n",
              " ['▁되도록', '▁만나', '지', '▁마', '세요', '.'],\n",
              " ['▁당신', '이', '요', '.'],\n",
              " ['▁당신', '의', '▁운', '을', '▁믿어', '보', '세요', '.'],\n",
              " ['▁일', '▁못하는', '▁사람이', '▁있으면', '▁옆에', '▁있는', '▁사람이', '▁더', '▁힘들', '죠', '.']]"
            ]
          },
          "metadata": {
            "tags": []
          },
          "execution_count": 91
        }
      ]
    },
    {
      "cell_type": "code",
      "metadata": {
        "colab": {
          "base_uri": "https://localhost:8080/"
        },
        "id": "4ppKgAprEC1E",
        "outputId": "c96f8719-f25e-49b6-970b-a4041037c5cd"
      },
      "source": [
        "bleu_scores = []\n",
        "for reference, candidate in zip(references, candidates):\n",
        "    bleu_score = bleu.sentence_bleu([reference], candidate)\n",
        "    bleu_scores.append(bleu_score)\n",
        "    print(bleu_score, \":\", reference, \"/\", candidate)\n",
        "np.mean(bleu_scores)"
      ],
      "execution_count": null,
      "outputs": [
        {
          "output_type": "stream",
          "text": [
            "1.0 : ['▁하루', '가', '▁또', '▁가네', '요', '.'] / ['▁하루', '가', '▁또', '▁가네', '요', '.']\n",
            "1.0 : ['▁위로', '해', '▁드', '립', '니다', '.'] / ['▁위로', '해', '▁드', '립', '니다', '.']\n",
            "1.0 : ['▁여행', '은', '▁언제나', '▁좋', '죠', '.'] / ['▁여행', '은', '▁언제나', '▁좋', '죠', '.']\n",
            "1.0 : ['▁여행', '은', '▁언제나', '▁좋', '죠', '.'] / ['▁여행', '은', '▁언제나', '▁좋', '죠', '.']\n",
            "1.0 : ['▁눈', '살이', '▁', '찌', '푸', '려', '지', '죠', '.'] / ['▁눈', '살이', '▁', '찌', '푸', '려', '지', '죠', '.']\n",
            "1.0 : ['▁다시', '▁새로', '▁사는', '▁게', '▁마음', '▁편', '해', '요', '.'] / ['▁다시', '▁새로', '▁사는', '▁게', '▁마음', '▁편', '해', '요', '.']\n",
            "1.0 : ['▁다시', '▁새로', '▁사는', '▁게', '▁마음', '▁편', '해', '요', '.'] / ['▁다시', '▁새로', '▁사는', '▁게', '▁마음', '▁편', '해', '요', '.']\n",
            "1.0 : ['▁잘', '▁모르고', '▁있을', '▁수도', '▁있어', '요', '.'] / ['▁잘', '▁모르고', '▁있을', '▁수도', '▁있어', '요', '.']\n",
            "1.0 : ['▁시간을', '▁정하고', '▁해', '보', '세요', '.'] / ['▁시간을', '▁정하고', '▁해', '보', '세요', '.']\n",
            "1.0 : ['▁시간을', '▁정하고', '▁해', '보', '세요', '.'] / ['▁시간을', '▁정하고', '▁해', '보', '세요', '.']\n",
            "1.0 : ['▁자랑하는', '▁자리', '니까', '요', '.'] / ['▁자랑하는', '▁자리', '니까', '요', '.']\n",
            "1.0 : ['▁그', '▁사람도', '▁그럴', '▁거', '예', '요', '.'] / ['▁그', '▁사람도', '▁그럴', '▁거', '예', '요', '.']\n",
            "1.0 : ['▁그', '▁사람도', '▁그럴', '▁거', '예', '요', '.'] / ['▁그', '▁사람도', '▁그럴', '▁거', '예', '요', '.']\n",
            "1.0 : ['▁혼자', '를', '▁즐기', '세요', '.'] / ['▁혼자', '를', '▁즐기', '세요', '.']\n",
            "1.0 : ['▁돈', '은', '▁다시', '▁들어올', '▁거', '예', '요', '.'] / ['▁돈', '은', '▁다시', '▁들어올', '▁거', '예', '요', '.']\n",
            "1.0 : ['▁땀', '을', '▁식', '혀', '주', '세요', '.'] / ['▁땀', '을', '▁식', '혀', '주', '세요', '.']\n",
            "1.0 : ['▁', '어서', '▁', '잊', '고', '▁새', '출', '발', '▁하', '세요', '.'] / ['▁', '어서', '▁', '잊', '고', '▁새', '출', '발', '▁하', '세요', '.']\n",
            "1.0 : ['▁빨리', '▁집에', '▁돌아가', '서', '▁끄', '고', '▁나오', '세요', '.'] / ['▁빨리', '▁집에', '▁돌아가', '서', '▁끄', '고', '▁나오', '세요', '.']\n",
            "1.0 : ['▁빨리', '▁집에', '▁돌아가', '서', '▁끄', '고', '▁나오', '세요', '.'] / ['▁빨리', '▁집에', '▁돌아가', '서', '▁끄', '고', '▁나오', '세요', '.']\n",
            "1.0 : ['▁다음', '▁달', '에는', '▁더', '▁절약', '해', '봐', '요', '.'] / ['▁다음', '▁달', '에는', '▁더', '▁절약', '해', '봐', '요', '.']\n",
            "1.0 : ['▁따뜻하', '게', '▁사', '세요', '!'] / ['▁따뜻하', '게', '▁사', '세요', '!']\n",
            "1.0 : ['▁다음', '▁달', '에는', '▁더', '▁절약', '해', '봐', '요', '.'] / ['▁다음', '▁달', '에는', '▁더', '▁절약', '해', '봐', '요', '.']\n",
            "1.0 : ['▁가장', '▁', '확실한', '▁시간', '은', '▁오늘', '이', '에', '요', '.', '▁어', '제와', '▁내', '일', '을', '▁놓고', '▁고민', '하느라', '▁시간을', '▁낭비', '하지', '▁마', '세요', '.'] / ['▁가장', '▁', '확실한', '▁시간', '은', '▁오늘', '이', '에', '요', '.', '▁어', '제와', '▁내', '일', '을', '▁놓고', '▁고민', '하느라', '▁시간을', '▁낭비', '하지', '▁마', '세요', '.']\n",
            "1.0 : ['▁온', '▁가족이', '▁모두', '▁마음에', '▁드는', '▁곳으로', '▁가', '보', '세요', '.'] / ['▁온', '▁가족이', '▁모두', '▁마음에', '▁드는', '▁곳으로', '▁가', '보', '세요', '.']\n",
            "1.0 : ['▁온', '▁가족이', '▁모두', '▁마음에', '▁드는', '▁곳으로', '▁가', '보', '세요', '.'] / ['▁온', '▁가족이', '▁모두', '▁마음에', '▁드는', '▁곳으로', '▁가', '보', '세요', '.']\n",
            "1.0 : ['▁온', '▁가족이', '▁모두', '▁마음에', '▁드는', '▁곳으로', '▁가', '보', '세요', '.'] / ['▁온', '▁가족이', '▁모두', '▁마음에', '▁드는', '▁곳으로', '▁가', '보', '세요', '.']\n",
            "1.0 : ['▁저', '를', '▁만들어', '▁준', '▁사람', '을', '▁부모님', ',', '▁저', '랑', '▁이야기', '해', '▁주는', '▁사람', '을', '▁친구', '로', '▁생각하고', '▁있어', '요'] / ['▁저', '를', '▁만들어', '▁준', '▁사람', '을', '▁부모님', ',', '▁저', '랑', '▁이야기', '해', '▁주는', '▁사람', '을', '▁친구', '로', '▁생각하고', '▁있어', '요']\n",
            "1.0 : ['▁저', '를', '▁만들어', '▁준', '▁사람', '을', '▁부모님', ',', '▁저', '랑', '▁이야기', '해', '▁주는', '▁사람', '을', '▁친구', '로', '▁생각하고', '▁있어', '요'] / ['▁저', '를', '▁만들어', '▁준', '▁사람', '을', '▁부모님', ',', '▁저', '랑', '▁이야기', '해', '▁주는', '▁사람', '을', '▁친구', '로', '▁생각하고', '▁있어', '요']\n",
            "1.0 : ['▁더', '▁가까워', '질', '▁기회', '가', '▁되', '겠', '네', '요', '.'] / ['▁더', '▁가까워', '질', '▁기회', '가', '▁되', '겠', '네', '요', '.']\n",
            "1.0 : ['▁저', '도', '요', '.'] / ['▁저', '도', '요', '.']\n",
            "0.8091067115702212 : ['▁다', '들', '▁바', '빠', '서', '▁이야기', '할', '▁시간이', '▁부족', '했', '나', '봐', '요', '.'] / ['▁다', '들', '들', '빠', '서', '▁이야기', '할', '▁시간이', '▁부족', '했', '나', '봐', '요', '.']\n",
            "1.0 : ['▁다', '들', '▁바', '빠', '서', '▁이야기', '할', '▁시간이', '▁부족', '했', '나', '봐', '요', '.'] / ['▁다', '들', '▁바', '빠', '서', '▁이야기', '할', '▁시간이', '▁부족', '했', '나', '봐', '요', '.']\n",
            "1.0 : ['▁온', '▁가족이', '▁모두', '▁마음에', '▁드는', '▁곳으로', '▁가', '보', '세요', '.'] / ['▁온', '▁가족이', '▁모두', '▁마음에', '▁드는', '▁곳으로', '▁가', '보', '세요', '.']\n",
            "1.0 : ['▁좋은', '▁생각이', '에', '요', '.'] / ['▁좋은', '▁생각이', '에', '요', '.']\n",
            "1.0 : ['▁더', '▁가까워', '질', '▁기회', '가', '▁되', '겠', '네', '요', '.'] / ['▁더', '▁가까워', '질', '▁기회', '가', '▁되', '겠', '네', '요', '.']\n",
            "1.0 : ['▁저', '를', '▁만들어', '▁준', '▁사람', '을', '▁부모님', ',', '▁저', '랑', '▁이야기', '해', '▁주는', '▁사람', '을', '▁친구', '로', '▁생각하고', '▁있어', '요'] / ['▁저', '를', '▁만들어', '▁준', '▁사람', '을', '▁부모님', ',', '▁저', '랑', '▁이야기', '해', '▁주는', '▁사람', '을', '▁친구', '로', '▁생각하고', '▁있어', '요']\n",
            "1.0 : ['▁좋은', '▁생각이', '에', '요', '.'] / ['▁좋은', '▁생각이', '에', '요', '.']\n",
            "1.0 : ['▁정말', '▁후', '회', '할', '▁습관', '이', '에', '요', '.'] / ['▁정말', '▁후', '회', '할', '▁습관', '이', '에', '요', '.']\n",
            "1.0 : ['▁무', '모', '한', '▁결정', '을', '▁내리', '지', '▁마', '세요', '.'] / ['▁무', '모', '한', '▁결정', '을', '▁내리', '지', '▁마', '세요', '.']\n",
            "1.0 : ['▁선생님', '이나', '▁기관', '에', '▁연락', '해', '보', '세요', '.'] / ['▁선생님', '이나', '▁기관', '에', '▁연락', '해', '보', '세요', '.']\n",
            "1.0 : ['▁떨', '리는', '▁감정', '은', '▁그', '▁자체', '로', '▁소중', '해', '요', '.'] / ['▁떨', '리는', '▁감정', '은', '▁그', '▁자체', '로', '▁소중', '해', '요', '.']\n",
            "1.0 : ['▁득', '템', '했', '길', '▁바라', '요', '.'] / ['▁득', '템', '했', '길', '▁바라', '요', '.']\n",
            "1.0 : ['▁휴식', '도', '▁필요', '하', '죠', '.'] / ['▁휴식', '도', '▁필요', '하', '죠', '.']\n",
            "1.0 : ['▁단', '짠', '으로', '▁두', '▁개', '▁사는', '게', '▁진리', '죠', '.'] / ['▁단', '짠', '으로', '▁두', '▁개', '▁사는', '게', '▁진리', '죠', '.']\n",
            "1.0 : ['▁단', '짠', '으로', '▁두', '▁개', '▁사는', '게', '▁진리', '죠', '.'] / ['▁단', '짠', '으로', '▁두', '▁개', '▁사는', '게', '▁진리', '죠', '.']\n",
            "1.0 : ['▁맛', '있게', '▁드', '세요', '.'] / ['▁맛', '있게', '▁드', '세요', '.']\n",
            "1.0 : ['▁저', '도', '▁싫어', '요', '.'] / ['▁저', '도', '▁싫어', '요', '.']\n",
            "1.0 : ['▁가', '세요', '.'] / ['▁가', '세요', '.']\n",
            "1.0 : ['▁가', '세요', '.'] / ['▁가', '세요', '.']\n",
            "1.0 : ['▁맛', '있게', '▁드', '세요', '.'] / ['▁맛', '있게', '▁드', '세요', '.']\n",
            "1.0 : ['▁맛', '있게', '▁드', '세요', '.'] / ['▁맛', '있게', '▁드', '세요', '.']\n",
            "1.0 : ['▁병원', '가', '세요', '.'] / ['▁병원', '가', '세요', '.']\n",
            "1.0 : ['▁이', '럴', '▁때', '▁잘', '▁쉬', '는', '▁게', '▁중요', '해', '요', '.'] / ['▁이', '럴', '▁때', '▁잘', '▁쉬', '는', '▁게', '▁중요', '해', '요', '.']\n",
            "1.0 : ['▁이', '럴', '▁때', '▁잘', '▁쉬', '는', '▁게', '▁중요', '해', '요', '.'] / ['▁이', '럴', '▁때', '▁잘', '▁쉬', '는', '▁게', '▁중요', '해', '요', '.']\n",
            "1.0 : ['▁이', '럴', '▁때', '▁잘', '▁쉬', '는', '▁게', '▁중요', '해', '요', '.'] / ['▁이', '럴', '▁때', '▁잘', '▁쉬', '는', '▁게', '▁중요', '해', '요', '.']\n",
            "1.0 : ['▁따뜻하', '게', '▁관리', '하', '세요', '.'] / ['▁따뜻하', '게', '▁관리', '하', '세요', '.']\n",
            "1.0 : ['▁병원', '가', '세요', '.'] / ['▁병원', '가', '세요', '.']\n",
            "1.0 : ['▁병원', '가', '세요', '.'] / ['▁병원', '가', '세요', '.']\n",
            "1.0 : ['▁저', '도', '▁듣고', '▁', '싶', '네', '요', '.'] / ['▁저', '도', '▁듣고', '▁', '싶', '네', '요', '.']\n",
            "1.0 : ['▁자신', '을', '▁더', '▁사랑', '해', '주', '세요', '.'] / ['▁자신', '을', '▁더', '▁사랑', '해', '주', '세요', '.']\n",
            "1.0 : ['▁그', '건', '▁습관', '이', '에', '요', '.'] / ['▁그', '건', '▁습관', '이', '에', '요', '.']\n",
            "1.0 : ['▁그', '건', '▁습관', '이', '에', '요', '.'] / ['▁그', '건', '▁습관', '이', '에', '요', '.']\n",
            "1.0 : ['▁', '콕', '▁집', '어서', '▁물어', '보', '세요', '.'] / ['▁', '콕', '▁집', '어서', '▁물어', '보', '세요', '.']\n",
            "1.0 : ['▁좋은', '▁생각', '만', '▁하', '세요', '.'] / ['▁좋은', '▁생각', '만', '▁하', '세요', '.']\n",
            "1.0 : ['▁마음이', '▁아', '픈', '가', '요', '.'] / ['▁마음이', '▁아', '픈', '가', '요', '.']\n",
            "1.0 : ['▁갑작스러', '웠', '나', '봐', '요', '.'] / ['▁갑작스러', '웠', '나', '봐', '요', '.']\n",
            "1.0 : ['▁관계', '의', '▁변화', '가', '▁왔', '나', '봅', '니다', '.'] / ['▁관계', '의', '▁변화', '가', '▁왔', '나', '봅', '니다', '.']\n",
            "1.0 : ['▁처음', '▁3', '초', '가', '▁중요', '해', '요', '.', '▁당신', '의', '▁매력', '을', '▁어', '필', '해', '보', '세요', '.'] / ['▁처음', '▁3', '초', '가', '▁중요', '해', '요', '.', '▁당신', '의', '▁매력', '을', '▁어', '필', '해', '보', '세요', '.']\n",
            "1.0 : ['▁책임', '질', '▁수', '▁있을', '▁때', '▁키워', '▁보', '세요', '.'] / ['▁책임', '질', '▁수', '▁있을', '▁때', '▁키워', '▁보', '세요', '.']\n",
            "0.8633400213704505 : ['▁먼저', '▁생활', '패', '턴', '을', '▁살펴', '▁보', '세요', '.'] / ['▁책임', '▁생활', '패', '턴', '을', '▁살펴', '▁보', '세요', '.']\n",
            "0.8633400213704505 : ['▁먼저', '▁생활', '패', '턴', '을', '▁살펴', '▁보', '세요', '.'] / ['▁책임', '▁생활', '패', '턴', '을', '▁살펴', '▁보', '세요', '.']\n",
            "1.0 : ['▁책임', '질', '▁수', '▁있을', '▁때', '▁키워', '▁보', '세요', '.'] / ['▁책임', '질', '▁수', '▁있을', '▁때', '▁키워', '▁보', '세요', '.']\n",
            "1.0 : ['▁아름다운', '▁곳이', '죠', '.'] / ['▁아름다운', '▁곳이', '죠', '.']\n",
            "1.0 : ['▁안', '▁될', '▁것도', '▁없', '죠', '.'] / ['▁안', '▁될', '▁것도', '▁없', '죠', '.']\n",
            "1.0 : ['▁혼자', '도', '▁좋아', '요', '.'] / ['▁혼자', '도', '▁좋아', '요', '.']\n",
            "1.0 : ['▁연인', '은', '▁살', '쪄', '도', '▁잘', '▁알아차리', '지', '▁못하고', '▁알아', '차', '려', '도', '▁싫어하', '지', '▁않을', '▁거', '예', '요', '.'] / ['▁연인', '은', '▁살', '쪄', '도', '▁잘', '▁알아차리', '지', '▁못하고', '▁알아', '차', '려', '도', '▁싫어하', '지', '▁않을', '▁거', '예', '요', '.']\n",
            "1.0 : ['▁즐거', '운', '▁시간', '▁보내고', '▁오', '세요', '!'] / ['▁즐거', '운', '▁시간', '▁보내고', '▁오', '세요', '!']\n",
            "1.0 : ['▁질', '질', '▁끌', '지', '▁마', '세요', '.'] / ['▁질', '질', '▁끌', '지', '▁마', '세요', '.']\n",
            "0.7071067811865475 : ['▁말해', '보', '세요', '.'] / ['▁말해', '▁말해', '세요', '.']\n",
            "1.0 : ['▁함께', '하면', '▁서로', '를', '▁더', '▁많이', '▁알게', '▁될', '▁거', '예', '요', '.'] / ['▁함께', '하면', '▁서로', '를', '▁더', '▁많이', '▁알게', '▁될', '▁거', '예', '요', '.']\n",
            "1.0 : ['▁개시', '해', '보', '세요', '.'] / ['▁개시', '해', '보', '세요', '.']\n",
            "1.0 : ['▁개시', '해', '보', '세요', '.'] / ['▁개시', '해', '보', '세요', '.']\n",
            "1.0 : ['▁곧', '▁방', '학', '이', '예', '요', '.'] / ['▁곧', '▁방', '학', '이', '예', '요', '.']\n",
            "1.0 : ['▁방', '학', '이', '▁참', '▁', '짧', '죠', '.'] / ['▁방', '학', '이', '▁참', '▁', '짧', '죠', '.']\n",
            "1.0 : ['▁벗어나', '는', '▁게', '▁좋', '겠', '네', '요', '.'] / ['▁벗어나', '는', '▁게', '▁좋', '겠', '네', '요', '.']\n",
            "1.0 : ['▁벗어나', '는', '▁게', '▁좋', '겠', '네', '요', '.'] / ['▁벗어나', '는', '▁게', '▁좋', '겠', '네', '요', '.']\n",
            "1.0 : ['▁세', '수', '하고', '▁오', '세요', '.'] / ['▁세', '수', '하고', '▁오', '세요', '.']\n",
            "1.0 : ['▁그', '게', '▁제일', '▁중요한', '▁건', '데', '요', '.'] / ['▁그', '게', '▁제일', '▁중요한', '▁건', '데', '요', '.']\n",
            "1.0 : ['▁그', '게', '▁제일', '▁중요한', '▁건', '데', '요', '.'] / ['▁그', '게', '▁제일', '▁중요한', '▁건', '데', '요', '.']\n",
            "1.0 : ['▁다음', '부터는', '▁더', '▁많이', '▁아', '세요', '.'] / ['▁다음', '부터는', '▁더', '▁많이', '▁아', '세요', '.']\n",
            "1.0 : ['▁갑작스러', '웠', '나', '봐', '요', '.'] / ['▁갑작스러', '웠', '나', '봐', '요', '.']\n",
            "1.0 : ['▁공', '적인', '▁', '일부터', '▁하', '세요', '.'] / ['▁공', '적인', '▁', '일부터', '▁하', '세요', '.']\n",
            "1.0 : ['▁공', '적인', '▁', '일부터', '▁하', '세요', '.'] / ['▁공', '적인', '▁', '일부터', '▁하', '세요', '.']\n",
            "1.0 : ['▁낮', '잠', '을', '▁잠깐', '▁자', '도', '▁', '괜', '찮', '아', '요', '.'] / ['▁낮', '잠', '을', '▁잠깐', '▁자', '도', '▁', '괜', '찮', '아', '요', '.']\n",
            "1.0 : ['▁저', '도', '▁좋아', '해', '주', '세요', '.'] / ['▁저', '도', '▁좋아', '해', '주', '세요', '.']\n",
            "1.0 : ['▁친구들', '이', '▁보고', '싶', '었', '나', '봐', '요', '.'] / ['▁친구들', '이', '▁보고', '싶', '었', '나', '봐', '요', '.']\n",
            "1.0 : ['▁되도록', '▁만나', '지', '▁마', '세요', '.'] / ['▁되도록', '▁만나', '지', '▁마', '세요', '.']\n",
            "1.0 : ['▁당신', '이', '요', '.'] / ['▁당신', '이', '요', '.']\n",
            "1.0 : ['▁당신', '의', '▁운', '을', '▁믿어', '보', '세요', '.'] / ['▁당신', '의', '▁운', '을', '▁믿어', '보', '세요', '.']\n",
            "1.0 : ['▁일', '▁못하는', '▁사람이', '▁있으면', '▁옆에', '▁있는', '▁사람이', '▁더', '▁힘들', '죠', '.'] / ['▁일', '▁못하는', '▁사람이', '▁있으면', '▁옆에', '▁있는', '▁사람이', '▁더', '▁힘들', '죠', '.']\n"
          ],
          "name": "stdout"
        },
        {
          "output_type": "stream",
          "text": [
            "/usr/local/lib/python3.7/dist-packages/nltk/translate/bleu_score.py:490: UserWarning: \n",
            "Corpus/Sentence contains 0 counts of 4-gram overlaps.\n",
            "BLEU scores might be undesirable; use SmoothingFunction().\n",
            "  warnings.warn(_msg)\n",
            "/usr/local/lib/python3.7/dist-packages/nltk/translate/bleu_score.py:490: UserWarning: \n",
            "Corpus/Sentence contains 0 counts of 3-gram overlaps.\n",
            "BLEU scores might be undesirable; use SmoothingFunction().\n",
            "  warnings.warn(_msg)\n"
          ],
          "name": "stderr"
        },
        {
          "output_type": "execute_result",
          "data": {
            "text/plain": [
              "0.9924289353549767"
            ]
          },
          "metadata": {
            "tags": []
          },
          "execution_count": 92
        }
      ]
    },
    {
      "cell_type": "markdown",
      "metadata": {
        "id": "MWob-9sOEC1E"
      },
      "source": [
        "## 배포"
      ]
    },
    {
      "cell_type": "code",
      "metadata": {
        "id": "uVEoNdQqEC1E"
      },
      "source": [
        "model = build_model(args)\n",
        "model.load_weights(os.path.join(sychat_dir, \"transformer.hdf5\"))"
      ],
      "execution_count": null,
      "outputs": []
    },
    {
      "cell_type": "code",
      "metadata": {
        "id": "_yKs49rOEC1E"
      },
      "source": [
        "def do_chat(vocab, model, n_dec_seq, string):\n",
        "    \"\"\"\n",
        "    seq2seq chat\n",
        "    :param vocab: vocab\n",
        "    :param model: model\n",
        "    :param n_dec_seq: number of dec seqence\n",
        "    :param string: inpust string\n",
        "    \"\"\"\n",
        "    # qeustion\n",
        "    q_id = vocab.encode_as_ids(string) # encoder self attention에서 mask로 다 막아줘서 굳이 input으로 pad 안만들어줘도 되지\n",
        "    # q_id = vocab.encode_as_ids(string)\n",
        "\n",
        "    # answer\n",
        "    a_id = [vocab.bos_id()]\n",
        "\n",
        "    # 처음부터 예측\n",
        "    start_idx = 0\n",
        "\n",
        "    for _ in range(start_idx, n_dec_seq - 1):\n",
        "        # print(q_id)\n",
        "        # print(a_id)\n",
        "        outputs = model.predict((np.array([q_id]), np.array([a_id])))\n",
        "        prob = outputs[0][start_idx]\n",
        "        word_id = int(np.argmax(prob))\n",
        "        # print(word_id)\n",
        "        if word_id == vocab.eos_id():\n",
        "            break\n",
        "        a_id.append(word_id)\n",
        "        start_idx += 1\n",
        "    predict_id = a_id[1:start_idx + 1]\n",
        "    # print(predict_id)\n",
        "    predict_str = vocab.decode_ids(predict_id)\n",
        "    return predict_str"
      ],
      "execution_count": null,
      "outputs": []
    },
    {
      "cell_type": "code",
      "metadata": {
        "colab": {
          "base_uri": "https://localhost:8080/",
          "height": 90
        },
        "id": "MA2cow0_EC1E",
        "outputId": "82f7193d-8390-4a89-f2e6-049944aba248"
      },
      "source": [
        "string = '남에게 피해주지 않는 건 기본이죠.'\n",
        "do_chat(vocab, model, 40, string)"
      ],
      "execution_count": null,
      "outputs": [
        {
          "output_type": "stream",
          "text": [
            "WARNING:tensorflow:5 out of the last 8 calls to <function Model.make_predict_function.<locals>.predict_function at 0x7f6869f71710> triggered tf.function retracing. Tracing is expensive and the excessive number of tracings could be due to (1) creating @tf.function repeatedly in a loop, (2) passing tensors with different shapes, (3) passing Python objects instead of tensors. For (1), please define your @tf.function outside of the loop. For (2), @tf.function has experimental_relax_shapes=True option that relaxes argument shapes that can avoid unnecessary retracing. For (3), please refer to https://www.tensorflow.org/guide/function#controlling_retracing and https://www.tensorflow.org/api_docs/python/tf/function for  more details.\n",
            "WARNING:tensorflow:6 out of the last 9 calls to <function Model.make_predict_function.<locals>.predict_function at 0x7f6869f71710> triggered tf.function retracing. Tracing is expensive and the excessive number of tracings could be due to (1) creating @tf.function repeatedly in a loop, (2) passing tensors with different shapes, (3) passing Python objects instead of tensors. For (1), please define your @tf.function outside of the loop. For (2), @tf.function has experimental_relax_shapes=True option that relaxes argument shapes that can avoid unnecessary retracing. For (3), please refer to https://www.tensorflow.org/guide/function#controlling_retracing and https://www.tensorflow.org/api_docs/python/tf/function for  more details.\n"
          ],
          "name": "stdout"
        },
        {
          "output_type": "execute_result",
          "data": {
            "application/vnd.google.colaboratory.intrinsic+json": {
              "type": "string"
            },
            "text/plain": [
              "'남이니 신경쓰지 마세요.'"
            ]
          },
          "metadata": {
            "tags": []
          },
          "execution_count": 95
        }
      ]
    },
    {
      "cell_type": "code",
      "metadata": {
        "colab": {
          "base_uri": "https://localhost:8080/",
          "height": 798
        },
        "id": "l0clPQylEC1E",
        "outputId": "f2f7d525-ab8a-47cb-e454-c8447c1d4e55"
      },
      "source": [
        "while True:\n",
        "    string = input('질문 > ')\n",
        "    string = string.strip()\n",
        "    if len(string) == 0:\n",
        "        break\n",
        "    predict_str = do_chat(vocab, model, 40, string)\n",
        "    print(f'답변 > {predict_str}')"
      ],
      "execution_count": null,
      "outputs": [
        {
          "output_type": "stream",
          "text": [
            "질문 > 기분이 좋지 않아\n",
            "답변 > 음\n",
            "질문 > 너는 기분이 어때?\n",
            "답변 > 모두 제 잘못입니다.\n",
            "질문 > 노래좀 틀어줘\n",
            "답변 > 감기 조심하세요.\n",
            "질문 > 나 몸이 조금 안좋아\n",
            "답변 > 피로를 풀어야 할 것 같아요.\n",
            "질문 > 어떻게 피로를 풀면 될까?\n",
            "답변 > 미래는 배우자가 아니라면 그렇죠.\n",
            "질문 > 사랑해\n",
            "답변 > 하늘 만큼 땅 만큼 사랑해요.\n"
          ],
          "name": "stdout"
        },
        {
          "output_type": "error",
          "ename": "KeyboardInterrupt",
          "evalue": "ignored",
          "traceback": [
            "\u001b[0;31m---------------------------------------------------------------------------\u001b[0m",
            "\u001b[0;31mKeyboardInterrupt\u001b[0m                         Traceback (most recent call last)",
            "\u001b[0;32m/usr/local/lib/python3.7/dist-packages/ipykernel/kernelbase.py\u001b[0m in \u001b[0;36m_input_request\u001b[0;34m(self, prompt, ident, parent, password)\u001b[0m\n\u001b[1;32m    728\u001b[0m             \u001b[0;32mtry\u001b[0m\u001b[0;34m:\u001b[0m\u001b[0;34m\u001b[0m\u001b[0;34m\u001b[0m\u001b[0m\n\u001b[0;32m--> 729\u001b[0;31m                 \u001b[0mident\u001b[0m\u001b[0;34m,\u001b[0m \u001b[0mreply\u001b[0m \u001b[0;34m=\u001b[0m \u001b[0mself\u001b[0m\u001b[0;34m.\u001b[0m\u001b[0msession\u001b[0m\u001b[0;34m.\u001b[0m\u001b[0mrecv\u001b[0m\u001b[0;34m(\u001b[0m\u001b[0mself\u001b[0m\u001b[0;34m.\u001b[0m\u001b[0mstdin_socket\u001b[0m\u001b[0;34m,\u001b[0m \u001b[0;36m0\u001b[0m\u001b[0;34m)\u001b[0m\u001b[0;34m\u001b[0m\u001b[0;34m\u001b[0m\u001b[0m\n\u001b[0m\u001b[1;32m    730\u001b[0m             \u001b[0;32mexcept\u001b[0m \u001b[0mException\u001b[0m\u001b[0;34m:\u001b[0m\u001b[0;34m\u001b[0m\u001b[0;34m\u001b[0m\u001b[0m\n",
            "\u001b[0;32m/usr/local/lib/python3.7/dist-packages/jupyter_client/session.py\u001b[0m in \u001b[0;36mrecv\u001b[0;34m(self, socket, mode, content, copy)\u001b[0m\n\u001b[1;32m    802\u001b[0m         \u001b[0;32mtry\u001b[0m\u001b[0;34m:\u001b[0m\u001b[0;34m\u001b[0m\u001b[0;34m\u001b[0m\u001b[0m\n\u001b[0;32m--> 803\u001b[0;31m             \u001b[0mmsg_list\u001b[0m \u001b[0;34m=\u001b[0m \u001b[0msocket\u001b[0m\u001b[0;34m.\u001b[0m\u001b[0mrecv_multipart\u001b[0m\u001b[0;34m(\u001b[0m\u001b[0mmode\u001b[0m\u001b[0;34m,\u001b[0m \u001b[0mcopy\u001b[0m\u001b[0;34m=\u001b[0m\u001b[0mcopy\u001b[0m\u001b[0;34m)\u001b[0m\u001b[0;34m\u001b[0m\u001b[0;34m\u001b[0m\u001b[0m\n\u001b[0m\u001b[1;32m    804\u001b[0m         \u001b[0;32mexcept\u001b[0m \u001b[0mzmq\u001b[0m\u001b[0;34m.\u001b[0m\u001b[0mZMQError\u001b[0m \u001b[0;32mas\u001b[0m \u001b[0me\u001b[0m\u001b[0;34m:\u001b[0m\u001b[0;34m\u001b[0m\u001b[0;34m\u001b[0m\u001b[0m\n",
            "\u001b[0;32m/usr/local/lib/python3.7/dist-packages/zmq/sugar/socket.py\u001b[0m in \u001b[0;36mrecv_multipart\u001b[0;34m(self, flags, copy, track)\u001b[0m\n\u001b[1;32m    582\u001b[0m         \"\"\"\n\u001b[0;32m--> 583\u001b[0;31m         \u001b[0mparts\u001b[0m \u001b[0;34m=\u001b[0m \u001b[0;34m[\u001b[0m\u001b[0mself\u001b[0m\u001b[0;34m.\u001b[0m\u001b[0mrecv\u001b[0m\u001b[0;34m(\u001b[0m\u001b[0mflags\u001b[0m\u001b[0;34m,\u001b[0m \u001b[0mcopy\u001b[0m\u001b[0;34m=\u001b[0m\u001b[0mcopy\u001b[0m\u001b[0;34m,\u001b[0m \u001b[0mtrack\u001b[0m\u001b[0;34m=\u001b[0m\u001b[0mtrack\u001b[0m\u001b[0;34m)\u001b[0m\u001b[0;34m]\u001b[0m\u001b[0;34m\u001b[0m\u001b[0;34m\u001b[0m\u001b[0m\n\u001b[0m\u001b[1;32m    584\u001b[0m         \u001b[0;31m# have first part already, only loop while more to receive\u001b[0m\u001b[0;34m\u001b[0m\u001b[0;34m\u001b[0m\u001b[0;34m\u001b[0m\u001b[0m\n",
            "\u001b[0;32mzmq/backend/cython/socket.pyx\u001b[0m in \u001b[0;36mzmq.backend.cython.socket.Socket.recv\u001b[0;34m()\u001b[0m\n",
            "\u001b[0;32mzmq/backend/cython/socket.pyx\u001b[0m in \u001b[0;36mzmq.backend.cython.socket.Socket.recv\u001b[0;34m()\u001b[0m\n",
            "\u001b[0;32mzmq/backend/cython/socket.pyx\u001b[0m in \u001b[0;36mzmq.backend.cython.socket._recv_copy\u001b[0;34m()\u001b[0m\n",
            "\u001b[0;32m/usr/local/lib/python3.7/dist-packages/zmq/backend/cython/checkrc.pxd\u001b[0m in \u001b[0;36mzmq.backend.cython.checkrc._check_rc\u001b[0;34m()\u001b[0m\n",
            "\u001b[0;31mKeyboardInterrupt\u001b[0m: ",
            "\nDuring handling of the above exception, another exception occurred:\n",
            "\u001b[0;31mKeyboardInterrupt\u001b[0m                         Traceback (most recent call last)",
            "\u001b[0;32m<ipython-input-96-ec9d48269dde>\u001b[0m in \u001b[0;36m<module>\u001b[0;34m()\u001b[0m\n\u001b[1;32m      1\u001b[0m \u001b[0;32mwhile\u001b[0m \u001b[0;32mTrue\u001b[0m\u001b[0;34m:\u001b[0m\u001b[0;34m\u001b[0m\u001b[0;34m\u001b[0m\u001b[0m\n\u001b[0;32m----> 2\u001b[0;31m     \u001b[0mstring\u001b[0m \u001b[0;34m=\u001b[0m \u001b[0minput\u001b[0m\u001b[0;34m(\u001b[0m\u001b[0;34m'질문 > '\u001b[0m\u001b[0;34m)\u001b[0m\u001b[0;34m\u001b[0m\u001b[0;34m\u001b[0m\u001b[0m\n\u001b[0m\u001b[1;32m      3\u001b[0m     \u001b[0mstring\u001b[0m \u001b[0;34m=\u001b[0m \u001b[0mstring\u001b[0m\u001b[0;34m.\u001b[0m\u001b[0mstrip\u001b[0m\u001b[0;34m(\u001b[0m\u001b[0;34m)\u001b[0m\u001b[0;34m\u001b[0m\u001b[0;34m\u001b[0m\u001b[0m\n\u001b[1;32m      4\u001b[0m     \u001b[0;32mif\u001b[0m \u001b[0mlen\u001b[0m\u001b[0;34m(\u001b[0m\u001b[0mstring\u001b[0m\u001b[0;34m)\u001b[0m \u001b[0;34m==\u001b[0m \u001b[0;36m0\u001b[0m\u001b[0;34m:\u001b[0m\u001b[0;34m\u001b[0m\u001b[0;34m\u001b[0m\u001b[0m\n\u001b[1;32m      5\u001b[0m         \u001b[0;32mbreak\u001b[0m\u001b[0;34m\u001b[0m\u001b[0;34m\u001b[0m\u001b[0m\n",
            "\u001b[0;32m/usr/local/lib/python3.7/dist-packages/ipykernel/kernelbase.py\u001b[0m in \u001b[0;36mraw_input\u001b[0;34m(self, prompt)\u001b[0m\n\u001b[1;32m    702\u001b[0m             \u001b[0mself\u001b[0m\u001b[0;34m.\u001b[0m\u001b[0m_parent_ident\u001b[0m\u001b[0;34m,\u001b[0m\u001b[0;34m\u001b[0m\u001b[0;34m\u001b[0m\u001b[0m\n\u001b[1;32m    703\u001b[0m             \u001b[0mself\u001b[0m\u001b[0;34m.\u001b[0m\u001b[0m_parent_header\u001b[0m\u001b[0;34m,\u001b[0m\u001b[0;34m\u001b[0m\u001b[0;34m\u001b[0m\u001b[0m\n\u001b[0;32m--> 704\u001b[0;31m             \u001b[0mpassword\u001b[0m\u001b[0;34m=\u001b[0m\u001b[0;32mFalse\u001b[0m\u001b[0;34m,\u001b[0m\u001b[0;34m\u001b[0m\u001b[0;34m\u001b[0m\u001b[0m\n\u001b[0m\u001b[1;32m    705\u001b[0m         )\n\u001b[1;32m    706\u001b[0m \u001b[0;34m\u001b[0m\u001b[0m\n",
            "\u001b[0;32m/usr/local/lib/python3.7/dist-packages/ipykernel/kernelbase.py\u001b[0m in \u001b[0;36m_input_request\u001b[0;34m(self, prompt, ident, parent, password)\u001b[0m\n\u001b[1;32m    732\u001b[0m             \u001b[0;32mexcept\u001b[0m \u001b[0mKeyboardInterrupt\u001b[0m\u001b[0;34m:\u001b[0m\u001b[0;34m\u001b[0m\u001b[0;34m\u001b[0m\u001b[0m\n\u001b[1;32m    733\u001b[0m                 \u001b[0;31m# re-raise KeyboardInterrupt, to truncate traceback\u001b[0m\u001b[0;34m\u001b[0m\u001b[0;34m\u001b[0m\u001b[0;34m\u001b[0m\u001b[0m\n\u001b[0;32m--> 734\u001b[0;31m                 \u001b[0;32mraise\u001b[0m \u001b[0mKeyboardInterrupt\u001b[0m\u001b[0;34m\u001b[0m\u001b[0;34m\u001b[0m\u001b[0m\n\u001b[0m\u001b[1;32m    735\u001b[0m             \u001b[0;32melse\u001b[0m\u001b[0;34m:\u001b[0m\u001b[0;34m\u001b[0m\u001b[0;34m\u001b[0m\u001b[0m\n\u001b[1;32m    736\u001b[0m                 \u001b[0;32mbreak\u001b[0m\u001b[0;34m\u001b[0m\u001b[0;34m\u001b[0m\u001b[0m\n",
            "\u001b[0;31mKeyboardInterrupt\u001b[0m: "
          ]
        }
      ]
    },
    {
      "cell_type": "code",
      "metadata": {
        "id": "H_OC7zJDLkGh"
      },
      "source": [
        ""
      ],
      "execution_count": null,
      "outputs": []
    }
  ]
}