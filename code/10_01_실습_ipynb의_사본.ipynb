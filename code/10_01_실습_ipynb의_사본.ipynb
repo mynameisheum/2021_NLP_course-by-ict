{
  "nbformat": 4,
  "nbformat_minor": 0,
  "metadata": {
    "colab": {
      "name": "10-01-실습.ipynb의 사본",
      "provenance": [],
      "collapsed_sections": [
        "qrLHpteG7Ui_",
        "6dfJPT-2XMTB",
        "JHkHg6XAXoyK",
        "OTxTHlIUnlaW",
        "097BJVHG_QfR",
        "46KoI5zMBaA5",
        "Vwjo-BxiCiki",
        "ffFq5_Avbsq-"
      ]
    },
    "kernelspec": {
      "name": "python3",
      "display_name": "Python 3"
    },
    "language_info": {
      "name": "python"
    }
  },
  "cells": [
    {
      "cell_type": "markdown",
      "metadata": {
        "id": "qrLHpteG7Ui_"
      },
      "source": [
        "# 한글폰트"
      ]
    },
    {
      "cell_type": "code",
      "metadata": {
        "id": "SBb2dcDv7T_3",
        "colab": {
          "base_uri": "https://localhost:8080/"
        },
        "outputId": "fe1ac074-841a-4fe4-fa08-23050eadd13e"
      },
      "source": [
        "# 폰트 설치\n",
        "!apt-get update -qq # 나눔고딕 설치\n",
        "!apt-get install fonts-nanum* -qq\n",
        "\n",
        "import matplotlib as mpl\n",
        "import matplotlib.pyplot as plt\n",
        "import matplotlib.font_manager as fm\n",
        "\n",
        "fontpath = '/usr/share/fonts/truetype/nanum/NanumBarunGothic.ttf'\n",
        "font = fm.FontProperties(fname=fontpath, size=9)\n",
        "plt.rc('font', family='NanumBarunGothic') \n",
        "mpl.font_manager._rebuild()\n",
        "# 여기까지 실행 후 \"런타임 다시 시작...\" 실행 (이 부분은 실행할 필요 없음)"
      ],
      "execution_count": null,
      "outputs": [
        {
          "output_type": "stream",
          "text": [
            "Selecting previously unselected package fonts-nanum.\n",
            "(Reading database ... 160690 files and directories currently installed.)\n",
            "Preparing to unpack .../fonts-nanum_20170925-1_all.deb ...\n",
            "Unpacking fonts-nanum (20170925-1) ...\n",
            "Selecting previously unselected package fonts-nanum-eco.\n",
            "Preparing to unpack .../fonts-nanum-eco_1.000-6_all.deb ...\n",
            "Unpacking fonts-nanum-eco (1.000-6) ...\n",
            "Selecting previously unselected package fonts-nanum-extra.\n",
            "Preparing to unpack .../fonts-nanum-extra_20170925-1_all.deb ...\n",
            "Unpacking fonts-nanum-extra (20170925-1) ...\n",
            "Selecting previously unselected package fonts-nanum-coding.\n",
            "Preparing to unpack .../fonts-nanum-coding_2.5-1_all.deb ...\n",
            "Unpacking fonts-nanum-coding (2.5-1) ...\n",
            "Setting up fonts-nanum-extra (20170925-1) ...\n",
            "Setting up fonts-nanum (20170925-1) ...\n",
            "Setting up fonts-nanum-coding (2.5-1) ...\n",
            "Setting up fonts-nanum-eco (1.000-6) ...\n",
            "Processing triggers for fontconfig (2.12.6-0ubuntu2) ...\n"
          ],
          "name": "stdout"
        }
      ]
    },
    {
      "cell_type": "markdown",
      "metadata": {
        "id": "6dfJPT-2XMTB"
      },
      "source": [
        "# Install"
      ]
    },
    {
      "cell_type": "code",
      "metadata": {
        "id": "a193aGJWVaqb",
        "colab": {
          "base_uri": "https://localhost:8080/"
        },
        "outputId": "272cc09c-c72d-47d9-a854-e29ce587b3d1"
      },
      "source": [
        "# Tokenizer library 설치\n",
        "!pip install sentencepiece"
      ],
      "execution_count": null,
      "outputs": [
        {
          "output_type": "stream",
          "text": [
            "Requirement already satisfied: sentencepiece in /usr/local/lib/python3.7/dist-packages (0.1.95)\n"
          ],
          "name": "stdout"
        }
      ]
    },
    {
      "cell_type": "markdown",
      "metadata": {
        "id": "JHkHg6XAXoyK"
      },
      "source": [
        "# Evn"
      ]
    },
    {
      "cell_type": "code",
      "metadata": {
        "id": "WkYXFwcBXJDG"
      },
      "source": [
        "# imports\n",
        "import argparse\n",
        "import os\n",
        "import random\n",
        "import shutil\n",
        "import json\n",
        "import zipfile\n",
        "import math\n",
        "import copy\n",
        "import collections\n",
        "import re\n",
        "\n",
        "import matplotlib.pyplot as plt\n",
        "import pandas as pd\n",
        "import numpy as np\n",
        "import sentencepiece as spm\n",
        "import tensorflow as tf\n",
        "import tensorflow.keras.backend as K\n",
        "\n",
        "from tqdm.notebook import tqdm, trange"
      ],
      "execution_count": null,
      "outputs": []
    },
    {
      "cell_type": "code",
      "metadata": {
        "id": "BF-NLGZTGvTR",
        "colab": {
          "base_uri": "https://localhost:8080/"
        },
        "outputId": "638359eb-1284-4d06-c140-0b05828fdf90"
      },
      "source": [
        "# 환경 설정\n",
        "args = {\n",
        "    # random seed value\n",
        "    \"seed\": 1234\n",
        "}\n",
        "args = argparse.Namespace(**args)\n",
        "\n",
        "print(args)"
      ],
      "execution_count": null,
      "outputs": [
        {
          "output_type": "stream",
          "text": [
            "Namespace(seed=1234)\n"
          ],
          "name": "stdout"
        }
      ]
    },
    {
      "cell_type": "code",
      "metadata": {
        "id": "nvjyruUlXtlR"
      },
      "source": [
        "# random seed 설정\n",
        "random.seed(args.seed)\n",
        "np.random.seed(args.seed)\n",
        "tf.random.set_seed(args.seed)"
      ],
      "execution_count": null,
      "outputs": []
    },
    {
      "cell_type": "code",
      "metadata": {
        "id": "BC3fXkhdYcYt",
        "colab": {
          "base_uri": "https://localhost:8080/"
        },
        "outputId": "41a94b24-b5f5-4a51-981e-643deb7c5ed7"
      },
      "source": [
        "# gpu 사용량 확인\n",
        "!nvidia-smi"
      ],
      "execution_count": null,
      "outputs": [
        {
          "output_type": "stream",
          "text": [
            "NVIDIA-SMI has failed because it couldn't communicate with the NVIDIA driver. Make sure that the latest NVIDIA driver is installed and running.\n",
            "\n"
          ],
          "name": "stdout"
        }
      ]
    },
    {
      "cell_type": "code",
      "metadata": {
        "id": "xVRdxYReYeQj",
        "colab": {
          "base_uri": "https://localhost:8080/"
        },
        "outputId": "9fdebd67-31f6-40b9-ec69-a04ce03ec6da"
      },
      "source": [
        "# google drive mount\n",
        "from google.colab import drive\n",
        "drive.mount('/content/drive')"
      ],
      "execution_count": null,
      "outputs": [
        {
          "output_type": "stream",
          "text": [
            "Drive already mounted at /content/drive; to attempt to forcibly remount, call drive.mount(\"/content/drive\", force_remount=True).\n"
          ],
          "name": "stdout"
        }
      ]
    },
    {
      "cell_type": "code",
      "metadata": {
        "id": "byCIiLJBbFHh",
        "colab": {
          "base_uri": "https://localhost:8080/"
        },
        "outputId": "95af4fed-3475-4f4e-e9f8-4a4c92605193"
      },
      "source": [
        "# data dir\n",
        "# data_dir = '/content/drive/MyDrive/Data/nlp'\n",
        "data_dir = '/content/drive/MyDrive/ict-ai-복합고급언어-nlp/data'\n",
        "os.listdir(data_dir)"
      ],
      "execution_count": null,
      "outputs": [
        {
          "output_type": "execute_result",
          "data": {
            "text/plain": [
              "['data-20210420T111231Z-001.zip', 'kowiki']"
            ]
          },
          "metadata": {
            "tags": []
          },
          "execution_count": 7
        }
      ]
    },
    {
      "cell_type": "markdown",
      "metadata": {
        "id": "ZVKwNdy7m-rv"
      },
      "source": [
        "# Word2Vec"
      ]
    },
    {
      "cell_type": "markdown",
      "metadata": {
        "id": "OTxTHlIUnlaW"
      },
      "source": [
        "## Tutorial"
      ]
    },
    {
      "cell_type": "code",
      "metadata": {
        "id": "8qrZqgwdnn_N"
      },
      "source": [
        "# 입력 문장\n",
        "sentences = [\n",
        "    \"나는 학생 입니다\",\n",
        "    \"당신은 수학 선생님 입니다\",\n",
        "    \"나는 선생님 입니다\",\n",
        "    \"당신은 수학 학생 입니다\"\n",
        "]"
      ],
      "execution_count": null,
      "outputs": []
    },
    {
      "cell_type": "code",
      "metadata": {
        "colab": {
          "base_uri": "https://localhost:8080/"
        },
        "id": "z8npLZDonutC",
        "outputId": "cf94c15f-c7bf-4dfd-8241-38dcd45da089"
      },
      "source": [
        "words = []\n",
        "for line in sentences:\n",
        "    for w in line.split():\n",
        "        words.append(w)\n",
        "\n",
        "words = list(dict.fromkeys(words))\n",
        "words"
      ],
      "execution_count": null,
      "outputs": [
        {
          "output_type": "execute_result",
          "data": {
            "text/plain": [
              "['나는', '학생', '입니다', '당신은', '수학', '선생님']"
            ]
          },
          "metadata": {
            "tags": []
          },
          "execution_count": 9
        }
      ]
    },
    {
      "cell_type": "code",
      "metadata": {
        "colab": {
          "base_uri": "https://localhost:8080/"
        },
        "id": "CvZTS900n65K",
        "outputId": "3e64e794-43f1-425b-e2d0-805be84e20fb"
      },
      "source": [
        "word_to_id = {}\n",
        "for w in words:\n",
        "    if w not in word_to_id:\n",
        "        word_to_id[w] = len(word_to_id)\n",
        "word_to_id"
      ],
      "execution_count": null,
      "outputs": [
        {
          "output_type": "execute_result",
          "data": {
            "text/plain": [
              "{'나는': 0, '당신은': 3, '선생님': 5, '수학': 4, '입니다': 2, '학생': 1}"
            ]
          },
          "metadata": {
            "tags": []
          },
          "execution_count": 10
        }
      ]
    },
    {
      "cell_type": "code",
      "metadata": {
        "colab": {
          "base_uri": "https://localhost:8080/"
        },
        "id": "mYm71ecXoptV",
        "outputId": "80025420-790d-4061-dbd0-565efe65cd68"
      },
      "source": [
        "inputs = np.array([word_to_id[\"수학\"]])\n",
        "labels = np.array([word_to_id[\"선생님\"]])\n",
        "inputs, labels"
      ],
      "execution_count": null,
      "outputs": [
        {
          "output_type": "execute_result",
          "data": {
            "text/plain": [
              "(array([4]), array([5]))"
            ]
          },
          "metadata": {
            "tags": []
          },
          "execution_count": 11
        }
      ]
    },
    {
      "cell_type": "code",
      "metadata": {
        "id": "gy-ZueFzq6X6"
      },
      "source": [
        "n_vocab = len(word_to_id)"
      ],
      "execution_count": null,
      "outputs": []
    },
    {
      "cell_type": "code",
      "metadata": {
        "colab": {
          "base_uri": "https://localhost:8080/"
        },
        "id": "cwxYG2iFpIuD",
        "outputId": "6038da32-2871-425f-8bda-495043987cc2"
      },
      "source": [
        "V = tf.keras.layers.Embedding(n_vocab, 4)\n",
        "v_c = V(inputs)\n",
        "v_c"
      ],
      "execution_count": null,
      "outputs": [
        {
          "output_type": "execute_result",
          "data": {
            "text/plain": [
              "<tf.Tensor: shape=(1, 4), dtype=float32, numpy=\n",
              "array([[ 0.04810704, -0.03535189,  0.04945729,  0.02813626]],\n",
              "      dtype=float32)>"
            ]
          },
          "metadata": {
            "tags": []
          },
          "execution_count": 13
        }
      ]
    },
    {
      "cell_type": "code",
      "metadata": {
        "colab": {
          "base_uri": "https://localhost:8080/"
        },
        "id": "Nv4X32aopg0t",
        "outputId": "9710322f-a59e-43b7-f581-a07ec66bac5c"
      },
      "source": [
        "V.get_weights()[0].shape"
      ],
      "execution_count": null,
      "outputs": [
        {
          "output_type": "execute_result",
          "data": {
            "text/plain": [
              "(6, 4)"
            ]
          },
          "metadata": {
            "tags": []
          },
          "execution_count": 14
        }
      ]
    },
    {
      "cell_type": "code",
      "metadata": {
        "id": "SIPXWAtDSMVv"
      },
      "source": [
        ""
      ],
      "execution_count": null,
      "outputs": []
    },
    {
      "cell_type": "code",
      "metadata": {
        "id": "3qVLfxGaSM27"
      },
      "source": [
        ""
      ],
      "execution_count": null,
      "outputs": []
    },
    {
      "cell_type": "code",
      "metadata": {
        "colab": {
          "base_uri": "https://localhost:8080/"
        },
        "id": "HTwjBeskrEiM",
        "outputId": "a9adca33-7b84-45e4-a43e-887ace47efd8"
      },
      "source": [
        "U = tf.keras.layers.Dense(n_vocab, use_bias=False)\n",
        "vU = U(v_c)\n",
        "vU"
      ],
      "execution_count": null,
      "outputs": [
        {
          "output_type": "execute_result",
          "data": {
            "text/plain": [
              "<tf.Tensor: shape=(1, 6), dtype=float32, numpy=\n",
              "array([[-0.03733963, -0.0234975 ,  0.04844721,  0.01608931,  0.00769082,\n",
              "         0.01284879]], dtype=float32)>"
            ]
          },
          "metadata": {
            "tags": []
          },
          "execution_count": 15
        }
      ]
    },
    {
      "cell_type": "code",
      "metadata": {
        "colab": {
          "base_uri": "https://localhost:8080/"
        },
        "id": "3hhkMeddrVpi",
        "outputId": "3d863342-83fb-4578-e5ad-953b36040c19"
      },
      "source": [
        "U.get_weights()[0].shape"
      ],
      "execution_count": null,
      "outputs": [
        {
          "output_type": "execute_result",
          "data": {
            "text/plain": [
              "(4, 6)"
            ]
          },
          "metadata": {
            "tags": []
          },
          "execution_count": 16
        }
      ]
    },
    {
      "cell_type": "code",
      "metadata": {
        "colab": {
          "base_uri": "https://localhost:8080/"
        },
        "id": "vqfuXmAarhfE",
        "outputId": "ac6ae57b-865a-4e5f-8cd0-84195f4d806b"
      },
      "source": [
        "vU_exp = tf.exp(vU)\n",
        "vU_exp"
      ],
      "execution_count": null,
      "outputs": [
        {
          "output_type": "execute_result",
          "data": {
            "text/plain": [
              "<tf.Tensor: shape=(1, 6), dtype=float32, numpy=\n",
              "array([[0.9633489, 0.9767764, 1.0496399, 1.0162195, 1.0077205, 1.0129317]],\n",
              "      dtype=float32)>"
            ]
          },
          "metadata": {
            "tags": []
          },
          "execution_count": 17
        }
      ]
    },
    {
      "cell_type": "code",
      "metadata": {
        "colab": {
          "base_uri": "https://localhost:8080/"
        },
        "id": "XZ0gj9M2tMpk",
        "outputId": "73543f93-d98a-419b-8184-990a7400570d"
      },
      "source": [
        "vU_sum = tf.reduce_sum(vU_exp, axis=-1)\n",
        "vU_sum"
      ],
      "execution_count": null,
      "outputs": [
        {
          "output_type": "execute_result",
          "data": {
            "text/plain": [
              "<tf.Tensor: shape=(1,), dtype=float32, numpy=array([6.026637], dtype=float32)>"
            ]
          },
          "metadata": {
            "tags": []
          },
          "execution_count": 18
        }
      ]
    },
    {
      "cell_type": "code",
      "metadata": {
        "colab": {
          "base_uri": "https://localhost:8080/"
        },
        "id": "tnpWI0n9tgCt",
        "outputId": "c2cdd459-84d2-470c-85f5-fc19ac49c19a"
      },
      "source": [
        "y_prob = vU_exp / vU_sum\n",
        "y_prob"
      ],
      "execution_count": null,
      "outputs": [
        {
          "output_type": "execute_result",
          "data": {
            "text/plain": [
              "<tf.Tensor: shape=(1, 6), dtype=float32, numpy=\n",
              "array([[0.15984851, 0.16207653, 0.17416677, 0.16862132, 0.16721107,\n",
              "        0.16807577]], dtype=float32)>"
            ]
          },
          "metadata": {
            "tags": []
          },
          "execution_count": 19
        }
      ]
    },
    {
      "cell_type": "code",
      "metadata": {
        "colab": {
          "base_uri": "https://localhost:8080/"
        },
        "id": "y_HWJY_Rtq3s",
        "outputId": "ee89fc90-468f-4c86-a8ce-e57fe914d78c"
      },
      "source": [
        "tf.nn.softmax(vU)"
      ],
      "execution_count": null,
      "outputs": [
        {
          "output_type": "execute_result",
          "data": {
            "text/plain": [
              "<tf.Tensor: shape=(1, 6), dtype=float32, numpy=\n",
              "array([[0.15984851, 0.16207653, 0.17416678, 0.16862132, 0.16721109,\n",
              "        0.16807579]], dtype=float32)>"
            ]
          },
          "metadata": {
            "tags": []
          },
          "execution_count": 20
        }
      ]
    },
    {
      "cell_type": "code",
      "metadata": {
        "id": "MCH3kAnTvaOh",
        "colab": {
          "base_uri": "https://localhost:8080/"
        },
        "outputId": "a9d7b8f8-e048-4596-8b00-c0c8ccbcfebd"
      },
      "source": [
        "labels"
      ],
      "execution_count": null,
      "outputs": [
        {
          "output_type": "execute_result",
          "data": {
            "text/plain": [
              "array([5])"
            ]
          },
          "metadata": {
            "tags": []
          },
          "execution_count": 21
        }
      ]
    },
    {
      "cell_type": "code",
      "metadata": {
        "colab": {
          "base_uri": "https://localhost:8080/"
        },
        "id": "pyyOXrOqujjM",
        "outputId": "039b0cfa-4e94-4f54-aa97-5a85a529c1a2"
      },
      "source": [
        "y_true = tf.one_hot(labels, n_vocab)\n",
        "y_true"
      ],
      "execution_count": null,
      "outputs": [
        {
          "output_type": "execute_result",
          "data": {
            "text/plain": [
              "<tf.Tensor: shape=(1, 6), dtype=float32, numpy=array([[0., 0., 0., 0., 0., 1.]], dtype=float32)>"
            ]
          },
          "metadata": {
            "tags": []
          },
          "execution_count": 22
        }
      ]
    },
    {
      "cell_type": "code",
      "metadata": {
        "colab": {
          "base_uri": "https://localhost:8080/"
        },
        "id": "98ynsC_vus1N",
        "outputId": "12283ee6-ad3d-4744-8127-647b0c6b3cec"
      },
      "source": [
        "loss = - y_true * tf.math.log(y_prob)\n",
        "loss"
      ],
      "execution_count": null,
      "outputs": [
        {
          "output_type": "execute_result",
          "data": {
            "text/plain": [
              "<tf.Tensor: shape=(1, 6), dtype=float32, numpy=\n",
              "array([[0.       , 0.       , 0.       , 0.       , 0.       , 1.7833403]],\n",
              "      dtype=float32)>"
            ]
          },
          "metadata": {
            "tags": []
          },
          "execution_count": 23
        }
      ]
    },
    {
      "cell_type": "code",
      "metadata": {
        "colab": {
          "base_uri": "https://localhost:8080/"
        },
        "id": "E-NbN8SUu5S8",
        "outputId": "43dd1a68-e5d8-419a-f1cd-6ee06634e3e2"
      },
      "source": [
        "loss = tf.reduce_sum(loss, axis=-1)\n",
        "loss"
      ],
      "execution_count": null,
      "outputs": [
        {
          "output_type": "execute_result",
          "data": {
            "text/plain": [
              "<tf.Tensor: shape=(1,), dtype=float32, numpy=array([1.7833403], dtype=float32)>"
            ]
          },
          "metadata": {
            "tags": []
          },
          "execution_count": 24
        }
      ]
    },
    {
      "cell_type": "code",
      "metadata": {
        "colab": {
          "base_uri": "https://localhost:8080/"
        },
        "id": "RUqpF4JXu_2V",
        "outputId": "59a63e30-f3e4-44d2-edb5-dd372d3e9a2d"
      },
      "source": [
        "tf.keras.losses.SparseCategoricalCrossentropy()(labels, y_prob)"
      ],
      "execution_count": null,
      "outputs": [
        {
          "output_type": "execute_result",
          "data": {
            "text/plain": [
              "<tf.Tensor: shape=(), dtype=float32, numpy=1.7833403>"
            ]
          },
          "metadata": {
            "tags": []
          },
          "execution_count": 25
        }
      ]
    },
    {
      "cell_type": "code",
      "metadata": {
        "id": "QegIsSs3Ssyl"
      },
      "source": [
        "def bulid_model(n_vocab, d_model):\n",
        "    inputs = tf.keras.layers.Input(shape = (None,))\n",
        "\n",
        "    v = tf.keras.layers.Embedding(n_vocab, d_model)\n",
        "    v_c = v(inputs)\n",
        "\n",
        "    U = tf.keras.layers.Dense(n_vocab, use_bias = False, activation = tf.nn.softmax)\n",
        "    y_pred = U(v_c)\n",
        "\n",
        "    model = tf.keras.Model(inputs = inputs, outputs = y_pred)\n",
        "    return model"
      ],
      "execution_count": null,
      "outputs": []
    },
    {
      "cell_type": "code",
      "metadata": {
        "colab": {
          "base_uri": "https://localhost:8080/"
        },
        "id": "KqMe5V0dTR1x",
        "outputId": "36c4f2ac-97dc-499e-8950-fb296f263881"
      },
      "source": [
        "model = bulid_model(n_vocab , 16)\n",
        "tf.keras.utils.plot_model(model, 'model.png', show_shapes=True)"
      ],
      "execution_count": null,
      "outputs": [
        {
          "output_type": "execute_result",
          "data": {
            "image/png": "[encoded data removed]",
            "text/plain": [
              "<IPython.core.display.Image object>"
            ]
          },
          "metadata": {
            "tags": []
          },
          "execution_count": 27
        }
      ]
    },
    {
      "cell_type": "code",
      "metadata": {
        "id": "-vSb1HcpTR_X"
      },
      "source": [
        ""
      ],
      "execution_count": null,
      "outputs": []
    },
    {
      "cell_type": "code",
      "metadata": {
        "id": "UvlMxqquTSAg"
      },
      "source": [
        ""
      ],
      "execution_count": null,
      "outputs": []
    },
    {
      "cell_type": "markdown",
      "metadata": {
        "id": "097BJVHG_QfR"
      },
      "source": [
        "## Data"
      ]
    },
    {
      "cell_type": "code",
      "metadata": {
        "id": "6awgkMxJUoTn"
      },
      "source": [
        "text = \"\"\"수학은 수식이 복잡해서 어렵다\n",
        "수학은 공식이 많아서 어렵다\n",
        "수학은 수식이 이해되면 쉽다\n",
        "수학은 공식이 능통하면 쉽다\n",
        "영어는 단어가 많아서 어렵다\n",
        "영어는 듣기가 복잡해서 어렵다\n",
        "영어는 단어가 이해되면 쉽다\n",
        "영어는 듣기가 능통하면 쉽다\n",
        "국어는 지문이 복잡해서 어렵다\n",
        "국어는 한문이 많아서 어렵다\n",
        "국어는 지문이 이해되면 쉽다\n",
        "국어는 한문이 능통하면 쉽다\"\"\""
      ],
      "execution_count": null,
      "outputs": []
    },
    {
      "cell_type": "markdown",
      "metadata": {
        "id": "46KoI5zMBaA5"
      },
      "source": [
        "## vocabulary"
      ]
    },
    {
      "cell_type": "code",
      "metadata": {
        "colab": {
          "base_uri": "https://localhost:8080/"
        },
        "id": "G8-m53e2Atxf",
        "outputId": "2b8d8fc6-dd0c-4e00-bd3e-c708eb0f2a9b"
      },
      "source": [
        "words = []\n",
        "\n",
        "for w in text.split():\n",
        "    words.append(w)\n",
        "\n",
        "words = list(dict.fromkeys(words))\n",
        "# words = dict.fromkeys(words)\n",
        "words"
      ],
      "execution_count": null,
      "outputs": [
        {
          "output_type": "execute_result",
          "data": {
            "text/plain": [
              "['수학은',\n",
              " '수식이',\n",
              " '복잡해서',\n",
              " '어렵다',\n",
              " '공식이',\n",
              " '많아서',\n",
              " '이해되면',\n",
              " '쉽다',\n",
              " '능통하면',\n",
              " '영어는',\n",
              " '단어가',\n",
              " '듣기가',\n",
              " '국어는',\n",
              " '지문이',\n",
              " '한문이']"
            ]
          },
          "metadata": {
            "tags": []
          },
          "execution_count": 32
        }
      ]
    },
    {
      "cell_type": "code",
      "metadata": {
        "id": "HLtsaSARBoD0",
        "colab": {
          "base_uri": "https://localhost:8080/"
        },
        "outputId": "57c63821-88e4-4c4a-dff4-9037516c20e8"
      },
      "source": [
        "word_to_id = {\"[PAD]\": 0, \"[UNK]\": 1}\n",
        "for w in words:\n",
        "    if w not in word_to_id:\n",
        "        word_to_id[w] = len(word_to_id)\n",
        "word_to_id"
      ],
      "execution_count": null,
      "outputs": [
        {
          "output_type": "execute_result",
          "data": {
            "text/plain": [
              "{'[PAD]': 0,\n",
              " '[UNK]': 1,\n",
              " '공식이': 6,\n",
              " '국어는': 14,\n",
              " '능통하면': 10,\n",
              " '단어가': 12,\n",
              " '듣기가': 13,\n",
              " '많아서': 7,\n",
              " '복잡해서': 4,\n",
              " '수식이': 3,\n",
              " '수학은': 2,\n",
              " '쉽다': 9,\n",
              " '어렵다': 5,\n",
              " '영어는': 11,\n",
              " '이해되면': 8,\n",
              " '지문이': 15,\n",
              " '한문이': 16}"
            ]
          },
          "metadata": {
            "tags": []
          },
          "execution_count": 33
        }
      ]
    },
    {
      "cell_type": "code",
      "metadata": {
        "colab": {
          "base_uri": "https://localhost:8080/"
        },
        "id": "UdqpiulDB5Wj",
        "outputId": "43ac05a6-a37b-4a85-ddda-6e5a8977faa9"
      },
      "source": [
        "id_to_word = {_id:w for w, _id in word_to_id.items()}\n",
        "id_to_word"
      ],
      "execution_count": null,
      "outputs": [
        {
          "output_type": "execute_result",
          "data": {
            "text/plain": [
              "{0: '[PAD]',\n",
              " 1: '[UNK]',\n",
              " 2: '수학은',\n",
              " 3: '수식이',\n",
              " 4: '복잡해서',\n",
              " 5: '어렵다',\n",
              " 6: '공식이',\n",
              " 7: '많아서',\n",
              " 8: '이해되면',\n",
              " 9: '쉽다',\n",
              " 10: '능통하면',\n",
              " 11: '영어는',\n",
              " 12: '단어가',\n",
              " 13: '듣기가',\n",
              " 14: '국어는',\n",
              " 15: '지문이',\n",
              " 16: '한문이'}"
            ]
          },
          "metadata": {
            "tags": []
          },
          "execution_count": 34
        }
      ]
    },
    {
      "cell_type": "markdown",
      "metadata": {
        "id": "Vwjo-BxiCiki"
      },
      "source": [
        "## Train, Valid, Test 데이터 생성"
      ]
    },
    {
      "cell_type": "code",
      "metadata": {
        "colab": {
          "base_uri": "https://localhost:8080/"
        },
        "id": "sI6C0Nb2WLnw",
        "outputId": "15c01be5-34c1-4283-fca1-89da3fe65f59"
      },
      "source": [
        "src = text.split('\\n')\n",
        "src"
      ],
      "execution_count": null,
      "outputs": [
        {
          "output_type": "execute_result",
          "data": {
            "text/plain": [
              "['수학은 수식이 복잡해서 어렵다',\n",
              " '수학은 공식이 많아서 어렵다',\n",
              " '수학은 수식이 이해되면 쉽다',\n",
              " '수학은 공식이 능통하면 쉽다',\n",
              " '영어는 단어가 많아서 어렵다',\n",
              " '영어는 듣기가 복잡해서 어렵다',\n",
              " '영어는 단어가 이해되면 쉽다',\n",
              " '영어는 듣기가 능통하면 쉽다',\n",
              " '국어는 지문이 복잡해서 어렵다',\n",
              " '국어는 한문이 많아서 어렵다',\n",
              " '국어는 지문이 이해되면 쉽다',\n",
              " '국어는 한문이 능통하면 쉽다']"
            ]
          },
          "metadata": {
            "tags": []
          },
          "execution_count": 35
        }
      ]
    },
    {
      "cell_type": "code",
      "metadata": {
        "colab": {
          "base_uri": "https://localhost:8080/"
        },
        "id": "-_p3K9loacAD",
        "outputId": "72dd1327-9f49-47a5-fc07-3d7aac62c220"
      },
      "source": [
        "def make_data(src, n_win):\n",
        "    inputs, labels = [], []\n",
        "\n",
        "    for s in src:\n",
        "        print(s)\n",
        "\n",
        "    inputs = np.array(inputs)\n",
        "    labels = np.array(labels)\n",
        "    return inputs, labels\n",
        "\n",
        "train_inputs, train_labels = make_data(src,2)\n",
        "train_inputs, train_labels\n"
      ],
      "execution_count": null,
      "outputs": [
        {
          "output_type": "stream",
          "text": [
            "수학은 수식이 복잡해서 어렵다\n",
            "수학은 공식이 많아서 어렵다\n",
            "수학은 수식이 이해되면 쉽다\n",
            "수학은 공식이 능통하면 쉽다\n",
            "영어는 단어가 많아서 어렵다\n",
            "영어는 듣기가 복잡해서 어렵다\n",
            "영어는 단어가 이해되면 쉽다\n",
            "영어는 듣기가 능통하면 쉽다\n",
            "국어는 지문이 복잡해서 어렵다\n",
            "국어는 한문이 많아서 어렵다\n",
            "국어는 지문이 이해되면 쉽다\n",
            "국어는 한문이 능통하면 쉽다\n"
          ],
          "name": "stdout"
        },
        {
          "output_type": "execute_result",
          "data": {
            "text/plain": [
              "(array([], dtype=float64), array([], dtype=float64))"
            ]
          },
          "metadata": {
            "tags": []
          },
          "execution_count": 36
        }
      ]
    },
    {
      "cell_type": "code",
      "metadata": {
        "id": "tt5fab4cCBrN"
      },
      "source": [
        "def make_data(src, n_win):\n",
        "    inputs, labels = [], []\n",
        "\n",
        "    for s in src:\n",
        "        tokens = s.split()\n",
        "        for i, c in enumerate(tokens):\n",
        "            print(i,c)\n",
        "\n",
        "    inputs = np.array(inputs)\n",
        "    labels = np.array(labels)\n",
        "    return inputs, labels"
      ],
      "execution_count": null,
      "outputs": []
    },
    {
      "cell_type": "code",
      "metadata": {
        "colab": {
          "base_uri": "https://localhost:8080/"
        },
        "id": "3GbH-piGC3tJ",
        "outputId": "2f2dd05e-388a-4f0d-ab66-218fb0b3d100"
      },
      "source": [
        "train_inputs, train_labels = make_data(src,2)\n",
        "train_inputs, train_labels\n",
        "\n",
        "# center word를 각각 문장마다 만들엇어"
      ],
      "execution_count": null,
      "outputs": [
        {
          "output_type": "stream",
          "text": [
            "0 수학은\n",
            "1 수식이\n",
            "2 복잡해서\n",
            "3 어렵다\n",
            "0 수학은\n",
            "1 공식이\n",
            "2 많아서\n",
            "3 어렵다\n",
            "0 수학은\n",
            "1 수식이\n",
            "2 이해되면\n",
            "3 쉽다\n",
            "0 수학은\n",
            "1 공식이\n",
            "2 능통하면\n",
            "3 쉽다\n",
            "0 영어는\n",
            "1 단어가\n",
            "2 많아서\n",
            "3 어렵다\n",
            "0 영어는\n",
            "1 듣기가\n",
            "2 복잡해서\n",
            "3 어렵다\n",
            "0 영어는\n",
            "1 단어가\n",
            "2 이해되면\n",
            "3 쉽다\n",
            "0 영어는\n",
            "1 듣기가\n",
            "2 능통하면\n",
            "3 쉽다\n",
            "0 국어는\n",
            "1 지문이\n",
            "2 복잡해서\n",
            "3 어렵다\n",
            "0 국어는\n",
            "1 한문이\n",
            "2 많아서\n",
            "3 어렵다\n",
            "0 국어는\n",
            "1 지문이\n",
            "2 이해되면\n",
            "3 쉽다\n",
            "0 국어는\n",
            "1 한문이\n",
            "2 능통하면\n",
            "3 쉽다\n"
          ],
          "name": "stdout"
        },
        {
          "output_type": "execute_result",
          "data": {
            "text/plain": [
              "(array([], dtype=float64), array([], dtype=float64))"
            ]
          },
          "metadata": {
            "tags": []
          },
          "execution_count": 38
        }
      ]
    },
    {
      "cell_type": "code",
      "metadata": {
        "id": "Cm_OusZfakDx"
      },
      "source": [
        "# window 만들기\n",
        "\n",
        "def make_data(src, n_win):\n",
        "    inputs, labels = [], []\n",
        "\n",
        "    for s in src:\n",
        "        tokens = s.split()\n",
        "        for i, c in enumerate(tokens):\n",
        "            left = max(i - n_win, 0) # 0보다 작은건 없애야 되니까\n",
        "            right = min(i+n_win, len(tokens)-1) # len 보다 더 큰건 없어야되니까 \n",
        "\n",
        "            print(i,c, left, right)\n",
        "\n",
        "    # inputs = np.array(inputs)\n",
        "    # labels = np.array(labels)\n",
        "    return inputs, labels"
      ],
      "execution_count": null,
      "outputs": []
    },
    {
      "cell_type": "code",
      "metadata": {
        "colab": {
          "base_uri": "https://localhost:8080/"
        },
        "id": "qM-P48kSbBf5",
        "outputId": "274fc9c9-63bc-4f34-e67e-fd35bb7ea852"
      },
      "source": [
        "train_inputs, train_labels = make_data(src,2)\n",
        "train_inputs\n",
        "train_labels\n"
      ],
      "execution_count": null,
      "outputs": [
        {
          "output_type": "stream",
          "text": [
            "0 수학은 0 2\n",
            "1 수식이 0 3\n",
            "2 복잡해서 0 3\n",
            "3 어렵다 1 3\n",
            "0 수학은 0 2\n",
            "1 공식이 0 3\n",
            "2 많아서 0 3\n",
            "3 어렵다 1 3\n",
            "0 수학은 0 2\n",
            "1 수식이 0 3\n",
            "2 이해되면 0 3\n",
            "3 쉽다 1 3\n",
            "0 수학은 0 2\n",
            "1 공식이 0 3\n",
            "2 능통하면 0 3\n",
            "3 쉽다 1 3\n",
            "0 영어는 0 2\n",
            "1 단어가 0 3\n",
            "2 많아서 0 3\n",
            "3 어렵다 1 3\n",
            "0 영어는 0 2\n",
            "1 듣기가 0 3\n",
            "2 복잡해서 0 3\n",
            "3 어렵다 1 3\n",
            "0 영어는 0 2\n",
            "1 단어가 0 3\n",
            "2 이해되면 0 3\n",
            "3 쉽다 1 3\n",
            "0 영어는 0 2\n",
            "1 듣기가 0 3\n",
            "2 능통하면 0 3\n",
            "3 쉽다 1 3\n",
            "0 국어는 0 2\n",
            "1 지문이 0 3\n",
            "2 복잡해서 0 3\n",
            "3 어렵다 1 3\n",
            "0 국어는 0 2\n",
            "1 한문이 0 3\n",
            "2 많아서 0 3\n",
            "3 어렵다 1 3\n",
            "0 국어는 0 2\n",
            "1 지문이 0 3\n",
            "2 이해되면 0 3\n",
            "3 쉽다 1 3\n",
            "0 국어는 0 2\n",
            "1 한문이 0 3\n",
            "2 능통하면 0 3\n",
            "3 쉽다 1 3\n"
          ],
          "name": "stdout"
        },
        {
          "output_type": "execute_result",
          "data": {
            "text/plain": [
              "[]"
            ]
          },
          "metadata": {
            "tags": []
          },
          "execution_count": 40
        }
      ]
    },
    {
      "cell_type": "code",
      "metadata": {
        "id": "Gm3ddHkkcnts"
      },
      "source": [
        ""
      ],
      "execution_count": null,
      "outputs": []
    },
    {
      "cell_type": "code",
      "metadata": {
        "id": "K1Zdf5ZibdOI"
      },
      "source": [
        "# window 만들기\n",
        "\n",
        "def make_data(src, n_win):\n",
        "    inputs, labels = [], []\n",
        "\n",
        "    for s in src:\n",
        "        tokens = s.split()\n",
        "        for i, c in enumerate(tokens):\n",
        "            left = max(i - n_win, 0) # 0보다 작은건 없애야 되니까\n",
        "            right = min(i+n_win, len(tokens)-1) # len 보다 더 큰건 없어야되니까 \n",
        "            os = [tokens[j] for j in range(left, right + 1) if i != j]\n",
        "            print(i,c, os)\n",
        "\n",
        "    # inputs = np.array(inputs)\n",
        "    # labels = np.array(labels)\n",
        "    return inputs, labels"
      ],
      "execution_count": null,
      "outputs": []
    },
    {
      "cell_type": "code",
      "metadata": {
        "colab": {
          "base_uri": "https://localhost:8080/"
        },
        "id": "Wus0XXpXbolO",
        "outputId": "6b79153f-9e1f-42ea-f4df-f4d5f3eb96dc"
      },
      "source": [
        "train_inputs, train_labels = make_data(src,2)\n",
        "train_inputs, train_labels"
      ],
      "execution_count": null,
      "outputs": [
        {
          "output_type": "stream",
          "text": [
            "0 수학은 ['수식이', '복잡해서']\n",
            "1 수식이 ['수학은', '복잡해서', '어렵다']\n",
            "2 복잡해서 ['수학은', '수식이', '어렵다']\n",
            "3 어렵다 ['수식이', '복잡해서']\n",
            "0 수학은 ['공식이', '많아서']\n",
            "1 공식이 ['수학은', '많아서', '어렵다']\n",
            "2 많아서 ['수학은', '공식이', '어렵다']\n",
            "3 어렵다 ['공식이', '많아서']\n",
            "0 수학은 ['수식이', '이해되면']\n",
            "1 수식이 ['수학은', '이해되면', '쉽다']\n",
            "2 이해되면 ['수학은', '수식이', '쉽다']\n",
            "3 쉽다 ['수식이', '이해되면']\n",
            "0 수학은 ['공식이', '능통하면']\n",
            "1 공식이 ['수학은', '능통하면', '쉽다']\n",
            "2 능통하면 ['수학은', '공식이', '쉽다']\n",
            "3 쉽다 ['공식이', '능통하면']\n",
            "0 영어는 ['단어가', '많아서']\n",
            "1 단어가 ['영어는', '많아서', '어렵다']\n",
            "2 많아서 ['영어는', '단어가', '어렵다']\n",
            "3 어렵다 ['단어가', '많아서']\n",
            "0 영어는 ['듣기가', '복잡해서']\n",
            "1 듣기가 ['영어는', '복잡해서', '어렵다']\n",
            "2 복잡해서 ['영어는', '듣기가', '어렵다']\n",
            "3 어렵다 ['듣기가', '복잡해서']\n",
            "0 영어는 ['단어가', '이해되면']\n",
            "1 단어가 ['영어는', '이해되면', '쉽다']\n",
            "2 이해되면 ['영어는', '단어가', '쉽다']\n",
            "3 쉽다 ['단어가', '이해되면']\n",
            "0 영어는 ['듣기가', '능통하면']\n",
            "1 듣기가 ['영어는', '능통하면', '쉽다']\n",
            "2 능통하면 ['영어는', '듣기가', '쉽다']\n",
            "3 쉽다 ['듣기가', '능통하면']\n",
            "0 국어는 ['지문이', '복잡해서']\n",
            "1 지문이 ['국어는', '복잡해서', '어렵다']\n",
            "2 복잡해서 ['국어는', '지문이', '어렵다']\n",
            "3 어렵다 ['지문이', '복잡해서']\n",
            "0 국어는 ['한문이', '많아서']\n",
            "1 한문이 ['국어는', '많아서', '어렵다']\n",
            "2 많아서 ['국어는', '한문이', '어렵다']\n",
            "3 어렵다 ['한문이', '많아서']\n",
            "0 국어는 ['지문이', '이해되면']\n",
            "1 지문이 ['국어는', '이해되면', '쉽다']\n",
            "2 이해되면 ['국어는', '지문이', '쉽다']\n",
            "3 쉽다 ['지문이', '이해되면']\n",
            "0 국어는 ['한문이', '능통하면']\n",
            "1 한문이 ['국어는', '능통하면', '쉽다']\n",
            "2 능통하면 ['국어는', '한문이', '쉽다']\n",
            "3 쉽다 ['한문이', '능통하면']\n"
          ],
          "name": "stdout"
        },
        {
          "output_type": "execute_result",
          "data": {
            "text/plain": [
              "([], [])"
            ]
          },
          "metadata": {
            "tags": []
          },
          "execution_count": 42
        }
      ]
    },
    {
      "cell_type": "code",
      "metadata": {
        "id": "hSrzRFmRcswX"
      },
      "source": [
        "def make_data(src, n_win):\n",
        "    inputs, labels = [], []\n",
        "\n",
        "    for s in src:\n",
        "        tokens = s.split()\n",
        "        for i, c in enumerate(tokens):\n",
        "            left = max(i - n_win, 0) # 0보다 작은건 없애야 되니까\n",
        "            right = min(i+n_win, len(tokens)-1) # len 보다 더 큰건 없어야되니까 \n",
        "            os = [tokens[j] for j in range(left, right + 1) if i != j]\n",
        "            for o in os:\n",
        "                inputs.append(c) # 기준단어\n",
        "                labels.append(o) # 윈도우 단어들?\n",
        "                \n",
        "    inputs = np.array(inputs)\n",
        "    labels = np.array(labels)\n",
        "    return inputs, labels"
      ],
      "execution_count": null,
      "outputs": []
    },
    {
      "cell_type": "code",
      "metadata": {
        "colab": {
          "base_uri": "https://localhost:8080/"
        },
        "id": "P1Wcz-Lyc2c6",
        "outputId": "7a8bbb1a-8557-4756-a8a5-097937b45e46"
      },
      "source": [
        "train_inputs, train_labels = make_data(src,2)\n",
        "print(train_inputs)\n",
        "print(train_labels)\n"
      ],
      "execution_count": null,
      "outputs": [
        {
          "output_type": "stream",
          "text": [
            "['수학은' '수학은' '수식이' '수식이' '수식이' '복잡해서' '복잡해서' '복잡해서' '어렵다' '어렵다' '수학은'\n",
            " '수학은' '공식이' '공식이' '공식이' '많아서' '많아서' '많아서' '어렵다' '어렵다' '수학은' '수학은' '수식이'\n",
            " '수식이' '수식이' '이해되면' '이해되면' '이해되면' '쉽다' '쉽다' '수학은' '수학은' '공식이' '공식이' '공식이'\n",
            " '능통하면' '능통하면' '능통하면' '쉽다' '쉽다' '영어는' '영어는' '단어가' '단어가' '단어가' '많아서' '많아서'\n",
            " '많아서' '어렵다' '어렵다' '영어는' '영어는' '듣기가' '듣기가' '듣기가' '복잡해서' '복잡해서' '복잡해서'\n",
            " '어렵다' '어렵다' '영어는' '영어는' '단어가' '단어가' '단어가' '이해되면' '이해되면' '이해되면' '쉽다' '쉽다'\n",
            " '영어는' '영어는' '듣기가' '듣기가' '듣기가' '능통하면' '능통하면' '능통하면' '쉽다' '쉽다' '국어는' '국어는'\n",
            " '지문이' '지문이' '지문이' '복잡해서' '복잡해서' '복잡해서' '어렵다' '어렵다' '국어는' '국어는' '한문이'\n",
            " '한문이' '한문이' '많아서' '많아서' '많아서' '어렵다' '어렵다' '국어는' '국어는' '지문이' '지문이' '지문이'\n",
            " '이해되면' '이해되면' '이해되면' '쉽다' '쉽다' '국어는' '국어는' '한문이' '한문이' '한문이' '능통하면'\n",
            " '능통하면' '능통하면' '쉽다' '쉽다']\n",
            "['수식이' '복잡해서' '수학은' '복잡해서' '어렵다' '수학은' '수식이' '어렵다' '수식이' '복잡해서' '공식이'\n",
            " '많아서' '수학은' '많아서' '어렵다' '수학은' '공식이' '어렵다' '공식이' '많아서' '수식이' '이해되면' '수학은'\n",
            " '이해되면' '쉽다' '수학은' '수식이' '쉽다' '수식이' '이해되면' '공식이' '능통하면' '수학은' '능통하면' '쉽다'\n",
            " '수학은' '공식이' '쉽다' '공식이' '능통하면' '단어가' '많아서' '영어는' '많아서' '어렵다' '영어는' '단어가'\n",
            " '어렵다' '단어가' '많아서' '듣기가' '복잡해서' '영어는' '복잡해서' '어렵다' '영어는' '듣기가' '어렵다' '듣기가'\n",
            " '복잡해서' '단어가' '이해되면' '영어는' '이해되면' '쉽다' '영어는' '단어가' '쉽다' '단어가' '이해되면' '듣기가'\n",
            " '능통하면' '영어는' '능통하면' '쉽다' '영어는' '듣기가' '쉽다' '듣기가' '능통하면' '지문이' '복잡해서' '국어는'\n",
            " '복잡해서' '어렵다' '국어는' '지문이' '어렵다' '지문이' '복잡해서' '한문이' '많아서' '국어는' '많아서' '어렵다'\n",
            " '국어는' '한문이' '어렵다' '한문이' '많아서' '지문이' '이해되면' '국어는' '이해되면' '쉽다' '국어는' '지문이'\n",
            " '쉽다' '지문이' '이해되면' '한문이' '능통하면' '국어는' '능통하면' '쉽다' '국어는' '한문이' '쉽다' '한문이'\n",
            " '능통하면']\n"
          ],
          "name": "stdout"
        }
      ]
    },
    {
      "cell_type": "code",
      "metadata": {
        "colab": {
          "base_uri": "https://localhost:8080/"
        },
        "id": "d7GdE_tfc_a3",
        "outputId": "ea6b0a5f-21e5-4dcc-9ce1-83f8c2faaef2"
      },
      "source": [
        "src"
      ],
      "execution_count": null,
      "outputs": [
        {
          "output_type": "execute_result",
          "data": {
            "text/plain": [
              "['수학은 수식이 복잡해서 어렵다',\n",
              " '수학은 공식이 많아서 어렵다',\n",
              " '수학은 수식이 이해되면 쉽다',\n",
              " '수학은 공식이 능통하면 쉽다',\n",
              " '영어는 단어가 많아서 어렵다',\n",
              " '영어는 듣기가 복잡해서 어렵다',\n",
              " '영어는 단어가 이해되면 쉽다',\n",
              " '영어는 듣기가 능통하면 쉽다',\n",
              " '국어는 지문이 복잡해서 어렵다',\n",
              " '국어는 한문이 많아서 어렵다',\n",
              " '국어는 지문이 이해되면 쉽다',\n",
              " '국어는 한문이 능통하면 쉽다']"
            ]
          },
          "metadata": {
            "tags": []
          },
          "execution_count": 45
        }
      ]
    },
    {
      "cell_type": "code",
      "metadata": {
        "id": "igFjRyrrdF-b"
      },
      "source": [
        "def make_data(src, n_win):\n",
        "    inputs, labels = [], []\n",
        "\n",
        "    for s in src:\n",
        "        tokens = s.split()\n",
        "        for i, c in enumerate(tokens):\n",
        "            left = max(i - n_win, 0) # 0보다 작은건 없애야 되니까\n",
        "            right = min(i+n_win, len(tokens)-1) # len 보다 더 큰건 없어야되니까 \n",
        "            os = [tokens[j] for j in range(left, right + 1) if i != j]\n",
        "            for o in os:\n",
        "                inputs.append(word_to_id[c])\n",
        "                labels.append(word_to_id[o])\n",
        "                \n",
        "    inputs = np.array(inputs)\n",
        "    labels = np.array(labels)\n",
        "    return inputs, labels"
      ],
      "execution_count": null,
      "outputs": []
    },
    {
      "cell_type": "code",
      "metadata": {
        "colab": {
          "base_uri": "https://localhost:8080/"
        },
        "id": "_n8NrtX8dWGL",
        "outputId": "71db8523-9de7-415b-dd0e-46c54ade1fa2"
      },
      "source": [
        "train_inputs, train_labels = make_data(src,2)\n",
        "print(train_inputs)\n",
        "print(train_labels)\n"
      ],
      "execution_count": null,
      "outputs": [
        {
          "output_type": "stream",
          "text": [
            "[ 2  2  3  3  3  4  4  4  5  5  2  2  6  6  6  7  7  7  5  5  2  2  3  3\n",
            "  3  8  8  8  9  9  2  2  6  6  6 10 10 10  9  9 11 11 12 12 12  7  7  7\n",
            "  5  5 11 11 13 13 13  4  4  4  5  5 11 11 12 12 12  8  8  8  9  9 11 11\n",
            " 13 13 13 10 10 10  9  9 14 14 15 15 15  4  4  4  5  5 14 14 16 16 16  7\n",
            "  7  7  5  5 14 14 15 15 15  8  8  8  9  9 14 14 16 16 16 10 10 10  9  9]\n",
            "[ 3  4  2  4  5  2  3  5  3  4  6  7  2  7  5  2  6  5  6  7  3  8  2  8\n",
            "  9  2  3  9  3  8  6 10  2 10  9  2  6  9  6 10 12  7 11  7  5 11 12  5\n",
            " 12  7 13  4 11  4  5 11 13  5 13  4 12  8 11  8  9 11 12  9 12  8 13 10\n",
            " 11 10  9 11 13  9 13 10 15  4 14  4  5 14 15  5 15  4 16  7 14  7  5 14\n",
            " 16  5 16  7 15  8 14  8  9 14 15  9 15  8 16 10 14 10  9 14 16  9 16 10]\n"
          ],
          "name": "stdout"
        }
      ]
    },
    {
      "cell_type": "code",
      "metadata": {
        "id": "ybmN4VVWDDZ0"
      },
      "source": [
        "# valid_inputs, valid_labels = make_data(valid_src, valid_tgt, 6)\n",
        "# valid_inputs, valid_labels"
      ],
      "execution_count": null,
      "outputs": []
    },
    {
      "cell_type": "code",
      "metadata": {
        "id": "ZFQN6ZI_IP9j"
      },
      "source": [
        "# test_inputs, test_labels = make_data(test_src, test_tgt, 4)\n",
        "# test_inputs, test_labels"
      ],
      "execution_count": null,
      "outputs": []
    },
    {
      "cell_type": "markdown",
      "metadata": {
        "id": "UcCJTiPNKwMD"
      },
      "source": [
        "## Modeling"
      ]
    },
    {
      "cell_type": "code",
      "metadata": {
        "colab": {
          "base_uri": "https://localhost:8080/"
        },
        "id": "7kihVICBPQwN",
        "outputId": "55b0483e-7dd2-446d-f7a0-fd8b1ef4b8b4"
      },
      "source": [
        "args.n_vocab = len(word_to_id)\n",
        "args.d_model = 32\n",
        "\n",
        "args"
      ],
      "execution_count": null,
      "outputs": [
        {
          "output_type": "execute_result",
          "data": {
            "text/plain": [
              "Namespace(d_model=32, n_vocab=17, seed=1234)"
            ]
          },
          "metadata": {
            "tags": []
          },
          "execution_count": 50
        }
      ]
    },
    {
      "cell_type": "code",
      "metadata": {
        "id": "C91Ciiz-PDGf"
      },
      "source": [
        "\n",
        "def build_model(args):\n",
        "    inputs = tf.keras.layers.Input(shape = (None,))\n",
        "\n",
        "    V = tf.keras.layers.Embedding(args.n_vocab, args.d_model)\n",
        "    v_c = V(inputs)\n",
        "\n",
        "    U = tf.keras.layers.Dense(args.n_vocab, use_bias = False, activation = tf.nn.softmax)\n",
        "    y_pred = U(v_c)\n",
        "\n",
        "    model = tf.keras.Model(inputs = inputs, outputs = y_pred)\n",
        "    return model ,V"
      ],
      "execution_count": null,
      "outputs": []
    },
    {
      "cell_type": "code",
      "metadata": {
        "colab": {
          "base_uri": "https://localhost:8080/",
          "height": 312
        },
        "id": "eiRF0EalPi3K",
        "outputId": "0699f171-9063-49e5-8f90-85a0ff7290bb"
      },
      "source": [
        "model,V = build_model(args)\n",
        "tf.keras.utils.plot_model(model, 'model.png', show_shapes=True)"
      ],
      "execution_count": null,
      "outputs": [
        {
          "output_type": "execute_result",
          "data": {
            "image/png": "[encoded data removed]",
            "text/plain": [
              "<IPython.core.display.Image object>"
            ]
          },
          "metadata": {
            "tags": []
          },
          "execution_count": 77
        }
      ]
    },
    {
      "cell_type": "markdown",
      "metadata": {
        "id": "MWJ0khBehU2E"
      },
      "source": [
        "## 백터 출력"
      ]
    },
    {
      "cell_type": "code",
      "metadata": {
        "id": "1yO4fSWUhU-e"
      },
      "source": [
        "from sklearn.decomposition import PCA\n"
      ],
      "execution_count": null,
      "outputs": []
    },
    {
      "cell_type": "code",
      "metadata": {
        "id": "-96mQqy1hVH6"
      },
      "source": [
        "def plot_embedding(v , word_to_id):\n",
        "    plt.figure(figsize = (8,8))\n",
        "    plt.rc('font', family = 'NanumBarunGothic')\n",
        "    plt.rcParams['axes.unicode_minus'] = False # 한글 폰트 사용시- 깨지는 문제 해결\n",
        "\n",
        "    vectors = []\n",
        "    words = []\n",
        "    for word, _id in word_to_id.items():\n",
        "        print(word, _id)\n",
        "        \n"
      ],
      "execution_count": null,
      "outputs": []
    },
    {
      "cell_type": "code",
      "metadata": {
        "id": "JUpmXfXthVP9"
      },
      "source": [
        "embed = tf.keras.layers.Embedding(args.n_vocab, args.d_model)"
      ],
      "execution_count": null,
      "outputs": []
    },
    {
      "cell_type": "code",
      "metadata": {
        "colab": {
          "base_uri": "https://localhost:8080/",
          "height": 337
        },
        "id": "_1_dOAM7h-H9",
        "outputId": "993ecf4f-1cf4-48ab-f003-0190daa6f203"
      },
      "source": [
        "plot_embedding(embed, word_to_id)"
      ],
      "execution_count": null,
      "outputs": [
        {
          "output_type": "stream",
          "text": [
            "[PAD] 0\n",
            "[UNK] 1\n",
            "수학은 2\n",
            "수식이 3\n",
            "복잡해서 4\n",
            "어렵다 5\n",
            "공식이 6\n",
            "많아서 7\n",
            "이해되면 8\n",
            "쉽다 9\n",
            "능통하면 10\n",
            "영어는 11\n",
            "단어가 12\n",
            "듣기가 13\n",
            "국어는 14\n",
            "지문이 15\n",
            "한문이 16\n"
          ],
          "name": "stdout"
        },
        {
          "output_type": "display_data",
          "data": {
            "text/plain": [
              "<Figure size 576x576 with 0 Axes>"
            ]
          },
          "metadata": {
            "tags": []
          }
        }
      ]
    },
    {
      "cell_type": "code",
      "metadata": {
        "id": "mzn5MAWfl87n"
      },
      "source": [
        "def plot_embedding(v , word_to_id):\n",
        "    plt.figure(figsize = (8,8))\n",
        "    plt.rc('font', family = 'NanumBarunGothic')\n",
        "    plt.rcParams['axes.unicode_minus'] = False # 한글 폰트 사용시- 깨지는 문제 해결\n",
        "\n",
        "    vectors = []\n",
        "    words = []\n",
        "    for word, _id in word_to_id.items():\n",
        "        if 1 < _id:\n",
        "            vectors.append(v(_id))\n",
        "            words.append(word)\n",
        "            \n",
        "    print(vectors)\n",
        "    print(words)"
      ],
      "execution_count": null,
      "outputs": []
    },
    {
      "cell_type": "code",
      "metadata": {
        "colab": {
          "base_uri": "https://localhost:8080/",
          "height": 1000
        },
        "id": "yu9pT9triBjg",
        "outputId": "6eff802e-b1f8-45e6-870c-aed82a5f8873"
      },
      "source": [
        "plot_embedding(embed, word_to_id)"
      ],
      "execution_count": null,
      "outputs": [
        {
          "output_type": "stream",
          "text": [
            "[<tf.Tensor: shape=(32,), dtype=float32, numpy=\n",
            "array([-0.02696644,  0.02260647,  0.01062956, -0.04740093, -0.04329621,\n",
            "        0.0052838 ,  0.01617347, -0.04441366,  0.04973597,  0.02107234,\n",
            "        0.01476629, -0.03926431,  0.01426322, -0.04107127, -0.02626084,\n",
            "       -0.02395394, -0.02078225, -0.03866898,  0.00536219, -0.03451126,\n",
            "       -0.04116478, -0.03110768, -0.00336798,  0.02939374, -0.00384907,\n",
            "       -0.02763172,  0.01591932, -0.01311845,  0.03692505,  0.0414484 ,\n",
            "       -0.01221111, -0.01739891], dtype=float32)>, <tf.Tensor: shape=(32,), dtype=float32, numpy=\n",
            "array([ 0.04383499, -0.00708938, -0.03699385, -0.02875987, -0.01364012,\n",
            "       -0.02384666,  0.03288158, -0.03738077, -0.02849819, -0.03913441,\n",
            "       -0.04544015, -0.00341319,  0.034396  ,  0.02263136,  0.02549123,\n",
            "       -0.04262656,  0.03866441, -0.01650457, -0.0216445 ,  0.02020346,\n",
            "        0.0038653 ,  0.00437702,  0.01181028, -0.01945369, -0.01788511,\n",
            "       -0.00820525,  0.01422581,  0.02365283, -0.03109006,  0.01815653,\n",
            "        0.01994251, -0.01855618], dtype=float32)>, <tf.Tensor: shape=(32,), dtype=float32, numpy=\n",
            "array([-1.9336820e-02, -2.0366861e-02,  4.4330087e-02,  2.4755482e-02,\n",
            "        4.4132359e-03, -3.0242264e-02, -4.2289685e-02, -4.4081021e-02,\n",
            "       -1.3332926e-02, -4.0547203e-02, -4.6122242e-02, -6.3325651e-03,\n",
            "       -2.9634072e-02, -3.9662611e-02, -3.6679208e-05,  7.5526722e-03,\n",
            "        1.8418957e-02, -1.9131994e-02,  8.9359283e-04, -8.8453889e-03,\n",
            "        4.4937637e-02,  2.4535190e-02, -2.9108632e-02, -2.6192689e-02,\n",
            "        6.6225901e-03,  1.4215793e-02,  1.0098673e-02, -1.4789924e-03,\n",
            "       -5.3047426e-03,  8.3478577e-03, -3.4310304e-02,  8.0561526e-03],\n",
            "      dtype=float32)>, <tf.Tensor: shape=(32,), dtype=float32, numpy=\n",
            "array([ 0.00921422, -0.0312654 ,  0.02403078,  0.04530824, -0.04545735,\n",
            "       -0.04631966,  0.03372324,  0.04079621,  0.01408475, -0.03418823,\n",
            "       -0.04218242, -0.03048087, -0.03025687,  0.0079568 ,  0.02256021,\n",
            "        0.03778375,  0.03111397,  0.01196786,  0.04483112,  0.0021672 ,\n",
            "       -0.00186442, -0.03064002, -0.03812907, -0.00501802,  0.04646059,\n",
            "        0.03808323,  0.0358143 ,  0.04458798, -0.04878408,  0.03641899,\n",
            "       -0.0458979 ,  0.01518941], dtype=float32)>, <tf.Tensor: shape=(32,), dtype=float32, numpy=\n",
            "array([-0.01440154, -0.03297973, -0.03171157, -0.04991161,  0.00297836,\n",
            "        0.02685117, -0.00630636, -0.03391477, -0.00489296, -0.04932077,\n",
            "       -0.0131725 ,  0.02331759, -0.00208756, -0.03302335,  0.0499731 ,\n",
            "       -0.00434919, -0.02200874, -0.01827889,  0.02536987,  0.00203288,\n",
            "       -0.04766362,  0.00383171,  0.0211024 ,  0.01089374,  0.03205664,\n",
            "        0.0138754 ,  0.01739575, -0.0394255 , -0.03426725, -0.03881043,\n",
            "       -0.03762249, -0.04499098], dtype=float32)>, <tf.Tensor: shape=(32,), dtype=float32, numpy=\n",
            "array([-0.01461458,  0.02675449, -0.0319884 , -0.01231777,  0.01068561,\n",
            "       -0.03778182,  0.01583792,  0.02675773, -0.01287026,  0.0236107 ,\n",
            "        0.02661261, -0.04902506,  0.02186965, -0.04608602,  0.04503096,\n",
            "        0.04259921,  0.03462814,  0.0031761 ,  0.02508441,  0.01952381,\n",
            "       -0.0060944 , -0.0046036 , -0.04426739,  0.04777268, -0.04375635,\n",
            "       -0.00901406, -0.0065202 , -0.02392955, -0.03717456,  0.04382319,\n",
            "       -0.04789471,  0.01118648], dtype=float32)>, <tf.Tensor: shape=(32,), dtype=float32, numpy=\n",
            "array([-0.02196192, -0.02506644,  0.04921557, -0.02222931, -0.00091577,\n",
            "       -0.00025797,  0.00716388, -0.02518146, -0.00843065,  0.03081038,\n",
            "        0.00768321, -0.03713174, -0.04174882, -0.0294294 ,  0.02931019,\n",
            "       -0.03006207,  0.04116743,  0.03152982, -0.02364805,  0.02332545,\n",
            "       -0.03147221, -0.03132781,  0.02497799, -0.04164387, -0.02786113,\n",
            "        0.02645378, -0.02910629,  0.03180229,  0.02882942,  0.0324784 ,\n",
            "       -0.01980966, -0.01546646], dtype=float32)>, <tf.Tensor: shape=(32,), dtype=float32, numpy=\n",
            "array([-0.02624294,  0.04046767, -0.01793076,  0.00986693, -0.00441552,\n",
            "       -0.00701933,  0.0237883 ,  0.03888161, -0.04014115,  0.00045711,\n",
            "       -0.01896249,  0.00849702,  0.00361479,  0.02659747, -0.04707701,\n",
            "       -0.01662798, -0.006629  ,  0.01178554,  0.0385721 ,  0.04223314,\n",
            "        0.03580255,  0.00381552,  0.02615441,  0.04559821,  0.02659944,\n",
            "       -0.04382054, -0.00616365, -0.00324633, -0.0099879 , -0.04187251,\n",
            "       -0.01223566,  0.01344964], dtype=float32)>, <tf.Tensor: shape=(32,), dtype=float32, numpy=\n",
            "array([ 0.02194666,  0.01058575,  0.00255487, -0.04899437,  0.02953507,\n",
            "       -0.003184  , -0.0255496 ,  0.01075377,  0.0293272 , -0.00415813,\n",
            "        0.01583618,  0.01874478, -0.02125076, -0.04574582,  0.0005221 ,\n",
            "       -0.02357004, -0.02087516, -0.01186163,  0.00505624, -0.04878726,\n",
            "        0.0025336 ,  0.02165778, -0.04564361, -0.04378437, -0.03577401,\n",
            "        0.03872022, -0.00463481,  0.00315348,  0.00814755, -0.01840188,\n",
            "        0.02106315, -0.04956168], dtype=float32)>, <tf.Tensor: shape=(32,), dtype=float32, numpy=\n",
            "array([-0.01890507, -0.00473164, -0.0299181 , -0.04772344,  0.04602695,\n",
            "        0.00580258,  0.00048582,  0.02357719,  0.01277249,  0.03348703,\n",
            "       -0.04969452,  0.00714583, -0.0466743 ,  0.01304711,  0.00511546,\n",
            "       -0.0292027 , -0.0436545 , -0.01999852,  0.02242282,  0.0459659 ,\n",
            "        0.00743395, -0.0198444 , -0.02651047,  0.04739258, -0.00696509,\n",
            "        0.02929575, -0.00623238, -0.04222737,  0.04136015, -0.00104716,\n",
            "        0.01741532, -0.04302428], dtype=float32)>, <tf.Tensor: shape=(32,), dtype=float32, numpy=\n",
            "array([ 0.00315167, -0.02081901,  0.04901958,  0.0373114 , -0.02283336,\n",
            "        0.02809766, -0.03688418,  0.0064913 , -0.00254305, -0.04159711,\n",
            "        0.01170772,  0.00631369,  0.03714349,  0.03893162,  0.03349644,\n",
            "       -0.00837878,  0.04664576, -0.04173302,  0.03454777, -0.03921714,\n",
            "        0.00125774, -0.04260191,  0.03634535, -0.02814896,  0.03236792,\n",
            "       -0.03418943,  0.04913517, -0.04663801, -0.00314705, -0.02546695,\n",
            "       -0.00168276,  0.02456255], dtype=float32)>, <tf.Tensor: shape=(32,), dtype=float32, numpy=\n",
            "array([ 4.8500005e-02, -8.2476847e-03, -3.2162145e-02, -9.0478733e-04,\n",
            "       -1.9612825e-02,  7.5027347e-03, -1.2013316e-03,  9.6771494e-03,\n",
            "       -3.9447237e-02, -4.9937595e-02,  4.0396675e-03, -3.2982696e-02,\n",
            "       -3.9728560e-02,  1.0214187e-02,  3.1958904e-02, -2.6359105e-02,\n",
            "        4.0255487e-05,  1.0622703e-02,  1.8146858e-03,  3.6312666e-02,\n",
            "       -1.8030714e-02, -2.3964250e-02, -3.9204706e-02,  1.4744762e-02,\n",
            "        1.5005361e-02,  4.9776260e-02,  3.0845515e-03,  2.4113920e-02,\n",
            "       -8.5315816e-03,  2.2522118e-02,  4.6450246e-02,  3.9493117e-02],\n",
            "      dtype=float32)>, <tf.Tensor: shape=(32,), dtype=float32, numpy=\n",
            "array([ 0.00804253,  0.01860103,  0.02845135,  0.04116908,  0.02786673,\n",
            "       -0.03232365, -0.04382489,  0.02537933,  0.03528536, -0.0294621 ,\n",
            "       -0.0435993 , -0.03073909,  0.03725828, -0.02911966, -0.03696817,\n",
            "       -0.02781986,  0.02886214, -0.00022491, -0.03193178, -0.03817142,\n",
            "        0.03037237, -0.04643091, -0.01789806, -0.02762789,  0.01404202,\n",
            "        0.00875285,  0.03296549, -0.02988845,  0.00738964, -0.03736447,\n",
            "        0.03984454, -0.00408716], dtype=float32)>, <tf.Tensor: shape=(32,), dtype=float32, numpy=\n",
            "array([ 0.04622111, -0.03124282,  0.04675931,  0.00343985,  0.04262764,\n",
            "        0.02059278,  0.0081696 , -0.0359929 ,  0.03877975, -0.04923985,\n",
            "        0.03883642, -0.0203733 ,  0.02616621,  0.03042721, -0.01431513,\n",
            "        0.02091321,  0.00596653,  0.01623554,  0.00201701,  0.02919478,\n",
            "       -0.02775623, -0.04056008,  0.00254739,  0.04037367, -0.00614453,\n",
            "        0.04620839,  0.03460673,  0.0105405 ,  0.0138889 ,  0.0092629 ,\n",
            "        0.04738182,  0.01533345], dtype=float32)>, <tf.Tensor: shape=(32,), dtype=float32, numpy=\n",
            "array([ 0.04611557,  0.04338643, -0.00736387, -0.03970987,  0.03400786,\n",
            "       -0.0337914 , -0.00746533,  0.00436072,  0.03744522,  0.02268268,\n",
            "       -0.00603272,  0.01629564, -0.03526532, -0.03582548, -0.0138584 ,\n",
            "       -0.03744407, -0.04904603,  0.04925385,  0.01571575,  0.02944234,\n",
            "       -0.03656904,  0.02987869, -0.01238904,  0.00555034,  0.04769815,\n",
            "        0.00633725,  0.00437386,  0.03438343,  0.03857596, -0.04610042,\n",
            "        0.00086363,  0.00591531], dtype=float32)>]\n",
            "['수학은', '수식이', '복잡해서', '어렵다', '공식이', '많아서', '이해되면', '쉽다', '능통하면', '영어는', '단어가', '듣기가', '국어는', '지문이', '한문이']\n"
          ],
          "name": "stdout"
        },
        {
          "output_type": "display_data",
          "data": {
            "text/plain": [
              "<Figure size 576x576 with 0 Axes>"
            ]
          },
          "metadata": {
            "tags": []
          }
        }
      ]
    },
    {
      "cell_type": "code",
      "metadata": {
        "id": "nBdYQ7EciBtL"
      },
      "source": [
        "def plot_embedding(v , word_to_id):\n",
        "    plt.figure(figsize = (8,8))\n",
        "    plt.rc('font', family = 'NanumBarunGothic')\n",
        "    plt.rcParams['axes.unicode_minus'] = False # 한글 폰트 사용시- 깨지는 문제 해결\n",
        "\n",
        "    vectors = []\n",
        "    words = []\n",
        "    for word, _id in word_to_id.items():\n",
        "        vectors.append(v(_id))\n",
        "        words.append(word)\n",
        "    vectors = PCA().fit_transform(vectors)[:, :2]\n",
        "\n",
        "    for word, vector in zip(words, vectors):\n",
        "        plt.scatter(vector[0], vector[1])\n",
        "        plt.text(vector[0], vector[1], word)\n",
        "    \n",
        "\n",
        "    plt.show()"
      ],
      "execution_count": null,
      "outputs": []
    },
    {
      "cell_type": "code",
      "metadata": {
        "colab": {
          "base_uri": "https://localhost:8080/",
          "height": 483
        },
        "id": "lAOYBiBsiB0d",
        "outputId": "f69862ab-d655-415d-b81b-ad017235c123"
      },
      "source": [
        "plot_embedding(embed, word_to_id)"
      ],
      "execution_count": null,
      "outputs": [
        {
          "output_type": "display_data",
          "data": {
            "image/png": "[encoded data removed]",
            "text/plain": [
              "<Figure size 576x576 with 1 Axes>"
            ]
          },
          "metadata": {
            "tags": [],
            "needs_background": "light"
          }
        }
      ]
    },
    {
      "cell_type": "code",
      "metadata": {
        "id": "23VfdTQRqy17"
      },
      "source": [
        "def build_model(args):\n",
        "    inputs = tf.keras.layers.Input(shape=(None,))\n",
        "\n",
        "    V = tf.keras.layers.Embedding(args.n_vocab, args.d_model)\n",
        "    v_c = V(inputs)\n",
        "\n",
        "    U = tf.keras.layers.Dense(args.n_vocab, use_bias=False, activation=tf.nn.softmax)\n",
        "    y_pred = U(v_c)\n",
        "\n",
        "    model = tf.keras.Model(inputs=inputs, outputs=y_pred)\n",
        "    return model, V\n"
      ],
      "execution_count": null,
      "outputs": []
    },
    {
      "cell_type": "code",
      "metadata": {
        "colab": {
          "base_uri": "https://localhost:8080/",
          "height": 312
        },
        "id": "ed8iedGyp-V1",
        "outputId": "2841883c-5bd0-440f-a041-a36c40b015b8"
      },
      "source": [
        "model, V = build_model(args)\n",
        "tf.keras.utils.plot_model(model, 'model.png', show_shapes = True)"
      ],
      "execution_count": null,
      "outputs": [
        {
          "output_type": "execute_result",
          "data": {
            "image/png": "[encoded data removed]",
            "text/plain": [
              "<IPython.core.display.Image object>"
            ]
          },
          "metadata": {
            "tags": []
          },
          "execution_count": 71
        }
      ]
    },
    {
      "cell_type": "code",
      "metadata": {
        "id": "CLzYdmdkqIAq"
      },
      "source": [
        "model.compile(loss = 'sparse_categorical_crossentropy', \n",
        "              optimizer = 'adam',\n",
        "              metrics = ['accuracy'])\n"
      ],
      "execution_count": null,
      "outputs": []
    },
    {
      "cell_type": "code",
      "metadata": {
        "colab": {
          "base_uri": "https://localhost:8080/",
          "height": 1000
        },
        "id": "3qXWBfqhp-0T",
        "outputId": "1eb3d1d2-7f02-4e67-ed7d-9f41511864cd"
      },
      "source": [
        "for i in range(10):\n",
        "    history = model.fit(train_inputs, train_labels,\n",
        "                        epochs = 100,\n",
        "                        batch_size = 8,\n",
        "                        verbose = 0)\n",
        "    plot_embedding(V, word_to_id)\n",
        "\n",
        "# 비지도 학습인거지"
      ],
      "execution_count": null,
      "outputs": [
        {
          "output_type": "display_data",
          "data": {
            "image/png": "[encoded data removed]",
            "text/plain": [
              "<Figure size 576x576 with 1 Axes>"
            ]
          },
          "metadata": {
            "tags": [],
            "needs_background": "light"
          }
        },
        {
          "output_type": "display_data",
          "data": {
            "image/png": "[encoded data removed]",
            "text/plain": [
              "<Figure size 576x576 with 1 Axes>"
            ]
          },
          "metadata": {
            "tags": [],
            "needs_background": "light"
          }
        },
        {
          "output_type": "display_data",
          "data": {
            "image/png": "[encoded data removed]",
            "text/plain": [
              "<Figure size 576x576 with 1 Axes>"
            ]
          },
          "metadata": {
            "tags": [],
            "needs_background": "light"
          }
        },
        {
          "output_type": "display_data",
          "data": {
            "image/png": "[encoded data removed]",
            "text/plain": [
              "<Figure size 576x576 with 1 Axes>"
            ]
          },
          "metadata": {
            "tags": [],
            "needs_background": "light"
          }
        },
        {
          "output_type": "display_data",
          "data": {
            "image/png": "[encoded data removed]",
            "text/plain": [
              "<Figure size 576x576 with 1 Axes>"
            ]
          },
          "metadata": {
            "tags": [],
            "needs_background": "light"
          }
        },
        {
          "output_type": "display_data",
          "data": {
            "image/png": "[encoded data removed]",
            "text/plain": [
              "<Figure size 576x576 with 1 Axes>"
            ]
          },
          "metadata": {
            "tags": [],
            "needs_background": "light"
          }
        },
        {
          "output_type": "display_data",
          "data": {
            "image/png": "[encoded data removed]",
            "text/plain": [
              "<Figure size 576x576 with 1 Axes>"
            ]
          },
          "metadata": {
            "tags": [],
            "needs_background": "light"
          }
        },
        {
          "output_type": "display_data",
          "data": {
            "image/png": "[encoded data removed]",
            "text/plain": [
              "<Figure size 576x576 with 1 Axes>"
            ]
          },
          "metadata": {
            "tags": [],
            "needs_background": "light"
          }
        },
        {
          "output_type": "display_data",
          "data": {
            "image/png": "[encoded data removed]",
            "text/plain": [
              "<Figure size 576x576 with 1 Axes>"
            ]
          },
          "metadata": {
            "tags": [],
            "needs_background": "light"
          }
        },
        {
          "output_type": "display_data",
          "data": {
            "image/png": "[encoded data removed]",
            "text/plain": [
              "<Figure size 576x576 with 1 Axes>"
            ]
          },
          "metadata": {
            "tags": [],
            "needs_background": "light"
          }
        }
      ]
    },
    {
      "cell_type": "markdown",
      "metadata": {
        "id": "w83br7Odp-7L"
      },
      "source": [
        "## Gensim"
      ]
    },
    {
      "cell_type": "code",
      "metadata": {
        "id": "Lav8ft2fp_EM"
      },
      "source": [
        "import gensim\n",
        "import gensim.downloader as api"
      ],
      "execution_count": null,
      "outputs": []
    },
    {
      "cell_type": "code",
      "metadata": {
        "colab": {
          "base_uri": "https://localhost:8080/"
        },
        "id": "iMKNmZivyRP_",
        "outputId": "6e905301-2840-4d8e-be61-3b76e87da64f"
      },
      "source": [
        "wv = api.load('glove-wiki-gigaword-100') # 128m"
      ],
      "execution_count": null,
      "outputs": [
        {
          "output_type": "stream",
          "text": [
            "[==================================================] 100.0% 128.1/128.1MB downloaded\n"
          ],
          "name": "stdout"
        }
      ]
    },
    {
      "cell_type": "code",
      "metadata": {
        "colab": {
          "base_uri": "https://localhost:8080/"
        },
        "id": "6KKkAP_YyRU3",
        "outputId": "02f69f66-57e9-4604-fd0b-954bb69e5e47"
      },
      "source": [
        "len(wv.vocab)"
      ],
      "execution_count": null,
      "outputs": [
        {
          "output_type": "execute_result",
          "data": {
            "text/plain": [
              "400000"
            ]
          },
          "metadata": {
            "tags": []
          },
          "execution_count": 81
        }
      ]
    },
    {
      "cell_type": "code",
      "metadata": {
        "colab": {
          "base_uri": "https://localhost:8080/"
        },
        "id": "8JY14liVyRao",
        "outputId": "6f1d4ee2-a9e3-42e2-a9f7-9e3d053d1f4f"
      },
      "source": [
        "for i,word in enumerate(wv.vocab):\n",
        "    if i >= 20:\n",
        "        break\n",
        "    print(word)"
      ],
      "execution_count": null,
      "outputs": [
        {
          "output_type": "stream",
          "text": [
            "the\n",
            ",\n",
            ".\n",
            "of\n",
            "to\n",
            "and\n",
            "in\n",
            "a\n",
            "\"\n",
            "'s\n",
            "for\n",
            "-\n",
            "that\n",
            "on\n",
            "is\n",
            "was\n",
            "said\n",
            "with\n",
            "he\n",
            "as\n"
          ],
          "name": "stdout"
        }
      ]
    },
    {
      "cell_type": "code",
      "metadata": {
        "colab": {
          "base_uri": "https://localhost:8080/"
        },
        "id": "NIwVsnbPyRcM",
        "outputId": "5620aee6-a512-44a8-f713-cd83c3ae42bf"
      },
      "source": [
        "wv.most_similar('obama')"
      ],
      "execution_count": null,
      "outputs": [
        {
          "output_type": "execute_result",
          "data": {
            "text/plain": [
              "[('barack', 0.937216579914093),\n",
              " ('bush', 0.927285373210907),\n",
              " ('clinton', 0.8960003852844238),\n",
              " ('mccain', 0.8875633478164673),\n",
              " ('gore', 0.8000321388244629),\n",
              " ('hillary', 0.7933663129806519),\n",
              " ('dole', 0.7851964235305786),\n",
              " ('rodham', 0.751889705657959),\n",
              " ('romney', 0.7488929629325867),\n",
              " ('kerry', 0.7472623586654663)]"
            ]
          },
          "metadata": {
            "tags": []
          },
          "execution_count": 83
        }
      ]
    },
    {
      "cell_type": "code",
      "metadata": {
        "colab": {
          "base_uri": "https://localhost:8080/"
        },
        "id": "b3SNLMEC04Wl",
        "outputId": "6612106a-5c08-443b-83c5-3a80fb77388b"
      },
      "source": [
        "wv.most_similar(positive = ['woman', 'king'], negative = ['man'])"
      ],
      "execution_count": null,
      "outputs": [
        {
          "output_type": "execute_result",
          "data": {
            "text/plain": [
              "[('queen', 0.7698541283607483),\n",
              " ('monarch', 0.6843380928039551),\n",
              " ('throne', 0.6755735874176025),\n",
              " ('daughter', 0.6594556570053101),\n",
              " ('princess', 0.6520534753799438),\n",
              " ('prince', 0.6517034769058228),\n",
              " ('elizabeth', 0.6464517712593079),\n",
              " ('mother', 0.6311717629432678),\n",
              " ('emperor', 0.6106470823287964),\n",
              " ('wife', 0.6098655462265015)]"
            ]
          },
          "metadata": {
            "tags": []
          },
          "execution_count": 84
        }
      ]
    },
    {
      "cell_type": "code",
      "metadata": {
        "id": "sgaSD4TD04dk"
      },
      "source": [
        "def analogy(p1, n1, p2):\n",
        "    result = wv.most_similar(positive = [p2,p1], negative = ['n1'])\n",
        "    return result"
      ],
      "execution_count": null,
      "outputs": []
    },
    {
      "cell_type": "code",
      "metadata": {
        "colab": {
          "base_uri": "https://localhost:8080/"
        },
        "id": "x4AD5T0c04jX",
        "outputId": "352faa88-90ab-4427-f37a-073f0f919ecb"
      },
      "source": [
        "analogy('king', 'man','woman')"
      ],
      "execution_count": null,
      "outputs": [
        {
          "output_type": "execute_result",
          "data": {
            "text/plain": [
              "[('father', 0.7743557691574097),\n",
              " ('mother', 0.7680771350860596),\n",
              " ('wife', 0.7235965728759766),\n",
              " ('brother', 0.7223226428031921),\n",
              " ('man', 0.7187163829803467),\n",
              " ('husband', 0.7148180603981018),\n",
              " ('son', 0.704011082649231),\n",
              " ('daughter', 0.7018743753433228),\n",
              " ('couple', 0.7002776861190796),\n",
              " ('friend', 0.6941061019897461)]"
            ]
          },
          "metadata": {
            "tags": []
          },
          "execution_count": 89
        }
      ]
    },
    {
      "cell_type": "code",
      "metadata": {
        "colab": {
          "base_uri": "https://localhost:8080/"
        },
        "id": "Ox85yrZN2IiO",
        "outputId": "5ac0003d-4cf7-4447-87df-1ecd562b3cea"
      },
      "source": [
        "analogy('american', 'korean', 'japanese')"
      ],
      "execution_count": null,
      "outputs": [
        {
          "output_type": "execute_result",
          "data": {
            "text/plain": [
              "[('u.s.', 0.6680246591567993),\n",
              " ('canadian', 0.6572072505950928),\n",
              " ('british', 0.6471949219703674),\n",
              " ('chinese', 0.6395125389099121),\n",
              " ('americans', 0.6386282444000244),\n",
              " ('german', 0.6364268064498901),\n",
              " ('foreign', 0.6197013258934021),\n",
              " ('well', 0.6073771119117737),\n",
              " ('even', 0.6067825555801392),\n",
              " ('ago', 0.6059406995773315)]"
            ]
          },
          "metadata": {
            "tags": []
          },
          "execution_count": 92
        }
      ]
    },
    {
      "cell_type": "code",
      "metadata": {
        "id": "bGm0dD032In0"
      },
      "source": [
        ""
      ],
      "execution_count": null,
      "outputs": []
    },
    {
      "cell_type": "code",
      "metadata": {
        "id": "nNxa-p9v2IrD"
      },
      "source": [
        ""
      ],
      "execution_count": null,
      "outputs": []
    },
    {
      "cell_type": "code",
      "metadata": {
        "id": "xSLnxOAX2I0e"
      },
      "source": [
        ""
      ],
      "execution_count": null,
      "outputs": []
    },
    {
      "cell_type": "markdown",
      "metadata": {
        "id": "ffFq5_Avbsq-"
      },
      "source": [
        "## 배포"
      ]
    },
    {
      "cell_type": "code",
      "metadata": {
        "id": "TNaP7jXrfhxa"
      },
      "source": [
        "model = build_model(args)\n",
        "model.load_weights(\"stub.hdf5\")"
      ],
      "execution_count": null,
      "outputs": []
    },
    {
      "cell_type": "code",
      "metadata": {
        "id": "gW2zniiaafwi"
      },
      "source": [
        "string = \"수학 당신은 선생님 입니다\""
      ],
      "execution_count": null,
      "outputs": []
    },
    {
      "cell_type": "code",
      "metadata": {
        "colab": {
          "base_uri": "https://localhost:8080/"
        },
        "id": "un7tDdUTbzg2",
        "outputId": "094728ca-c5d7-4126-b499-a71eca466c0c"
      },
      "source": [
        "infer_input = [word_to_id[w] for w in string.split()]\n",
        "infer_input = np.array([infer_input])\n",
        "infer_input"
      ],
      "execution_count": null,
      "outputs": [
        {
          "output_type": "execute_result",
          "data": {
            "text/plain": [
              "array([[6, 5, 7, 4]])"
            ]
          },
          "metadata": {
            "tags": []
          },
          "execution_count": 155
        }
      ]
    },
    {
      "cell_type": "code",
      "metadata": {
        "colab": {
          "base_uri": "https://localhost:8080/"
        },
        "id": "l8PnzyH6cDa2",
        "outputId": "193ba7b2-5fa7-48bf-a3dd-76e1e29554de"
      },
      "source": [
        "train_inputs.shape, infer_input.shape"
      ],
      "execution_count": null,
      "outputs": [
        {
          "output_type": "execute_result",
          "data": {
            "text/plain": [
              "((2, 5), (1, 4))"
            ]
          },
          "metadata": {
            "tags": []
          },
          "execution_count": 156
        }
      ]
    },
    {
      "cell_type": "code",
      "metadata": {
        "colab": {
          "base_uri": "https://localhost:8080/"
        },
        "id": "unqdoXkNb6XQ",
        "outputId": "ac4c421d-2c9a-4f5d-b769-343940bfef8b"
      },
      "source": [
        "y_pred = model.predict(infer_input)\n",
        "y_pred"
      ],
      "execution_count": null,
      "outputs": [
        {
          "output_type": "stream",
          "text": [
            "WARNING:tensorflow:8 out of the last 9 calls to <function Model.make_predict_function.<locals>.predict_function at 0x7f541166b830> triggered tf.function retracing. Tracing is expensive and the excessive number of tracings could be due to (1) creating @tf.function repeatedly in a loop, (2) passing tensors with different shapes, (3) passing Python objects instead of tensors. For (1), please define your @tf.function outside of the loop. For (2), @tf.function has experimental_relax_shapes=True option that relaxes argument shapes that can avoid unnecessary retracing. For (3), please refer to https://www.tensorflow.org/guide/function#controlling_retracing and https://www.tensorflow.org/api_docs/python/tf/function for  more details.\n"
          ],
          "name": "stdout"
        },
        {
          "output_type": "execute_result",
          "data": {
            "text/plain": [
              "array([[[0.43229845, 0.5677016 ],\n",
              "        [0.5931056 , 0.40689442],\n",
              "        [0.458534  , 0.541466  ],\n",
              "        [0.5983461 , 0.40165392]]], dtype=float32)"
            ]
          },
          "metadata": {
            "tags": []
          },
          "execution_count": 157
        }
      ]
    },
    {
      "cell_type": "code",
      "metadata": {
        "colab": {
          "base_uri": "https://localhost:8080/"
        },
        "id": "HrSv52ZlcTlX",
        "outputId": "c2523730-c16d-4829-9c43-379664c780ae"
      },
      "source": [
        "y_class = np.argmax(y_pred, axis=-1)\n",
        "y_class"
      ],
      "execution_count": null,
      "outputs": [
        {
          "output_type": "execute_result",
          "data": {
            "text/plain": [
              "array([[1, 0, 1, 0]])"
            ]
          },
          "metadata": {
            "tags": []
          },
          "execution_count": 158
        }
      ]
    },
    {
      "cell_type": "code",
      "metadata": {
        "colab": {
          "base_uri": "https://localhost:8080/"
        },
        "id": "sNHvIQ56fw-I",
        "outputId": "a3f8e0d2-6342-429e-86c6-444d722609cb"
      },
      "source": [
        "for row in y_class:\n",
        "    for val in row:\n",
        "        print(f\"{val} : {id_to_label[val]}\")"
      ],
      "execution_count": null,
      "outputs": [
        {
          "output_type": "stream",
          "text": [
            "1 : 명사\n",
            "0 : 기타\n",
            "1 : 명사\n",
            "0 : 기타\n"
          ],
          "name": "stdout"
        }
      ]
    },
    {
      "cell_type": "code",
      "metadata": {
        "id": "YCnuHYzMgBf7"
      },
      "source": [
        "def do_predict(model, string):\n",
        "    tokens = string.split()\n",
        "    infer_input = []\n",
        "    for w in tokens:\n",
        "        infer_input.append(word_to_id.get(w, 1))\n",
        "    infer_input = np.array([infer_input])\n",
        "    y_pred = model.predict(infer_input)\n",
        "    y_class = np.argmax(y_pred, axis=-1)[0]\n",
        "    result = []\n",
        "    for w, c in zip(tokens, y_class):\n",
        "        result.append([w, id_to_label[c]])\n",
        "    return result"
      ],
      "execution_count": null,
      "outputs": []
    },
    {
      "cell_type": "code",
      "metadata": {
        "colab": {
          "base_uri": "https://localhost:8080/"
        },
        "id": "bxVuQxtAh0jv",
        "outputId": "26246e5e-07cf-4f72-96e0-7bd09a6c7415"
      },
      "source": [
        "do_predict(model, \"수학 당신은 과학 선생님 입니다\")"
      ],
      "execution_count": null,
      "outputs": [
        {
          "output_type": "execute_result",
          "data": {
            "text/plain": [
              "[['수학', '명사'], ['당신은', '기타'], ['과학', '기타'], ['선생님', '명사'], ['입니다', '기타']]"
            ]
          },
          "metadata": {
            "tags": []
          },
          "execution_count": 184
        }
      ]
    },
    {
      "cell_type": "code",
      "metadata": {
        "colab": {
          "base_uri": "https://localhost:8080/"
        },
        "id": "sPqa_Z2Oh3hU",
        "outputId": "4eb32d1d-6c5d-492c-90f6-5ada1d8c1d8a"
      },
      "source": [
        "while True:\n",
        "    print(\"input> \", end=\"\")\n",
        "    string = str(input())\n",
        "    if len(string) == 0:\n",
        "        break\n",
        "    result = do_predict(model, string)\n",
        "    print(result)"
      ],
      "execution_count": null,
      "outputs": [
        {
          "output_type": "stream",
          "text": [
            "input> 나는 중학생 입니다\n",
            "WARNING:tensorflow:7 out of the last 11 calls to <function Model.make_predict_function.<locals>.predict_function at 0x7f541166b830> triggered tf.function retracing. Tracing is expensive and the excessive number of tracings could be due to (1) creating @tf.function repeatedly in a loop, (2) passing tensors with different shapes, (3) passing Python objects instead of tensors. For (1), please define your @tf.function outside of the loop. For (2), @tf.function has experimental_relax_shapes=True option that relaxes argument shapes that can avoid unnecessary retracing. For (3), please refer to https://www.tensorflow.org/guide/function#controlling_retracing and https://www.tensorflow.org/api_docs/python/tf/function for  more details.\n",
            "[['나는', '기타'], ['중학생', '기타'], ['입니다', '기타']]\n",
            "input> 당신은 우리학교 선생님 입니다.\n",
            "[['당신은', '기타'], ['우리학교', '기타'], ['선생님', '명사'], ['입니다.', '기타']]\n",
            "input> \n"
          ],
          "name": "stdout"
        }
      ]
    },
    {
      "cell_type": "code",
      "metadata": {
        "id": "MFRFpb7diRrw"
      },
      "source": [
        ""
      ],
      "execution_count": null,
      "outputs": []
    }
  ]
}