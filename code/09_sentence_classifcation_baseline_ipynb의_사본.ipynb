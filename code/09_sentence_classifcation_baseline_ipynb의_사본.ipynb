{
  "nbformat": 4,
  "nbformat_minor": 0,
  "metadata": {
    "colab": {
      "name": "9-sentence-classifcation-baseline.ipynb의 사본",
      "provenance": [],
      "collapsed_sections": [
        "qrLHpteG7Ui_"
      ]
    },
    "kernelspec": {
      "name": "python3",
      "display_name": "Python 3"
    },
    "language_info": {
      "name": "python"
    }
  },
  "cells": [
    {
      "cell_type": "markdown",
      "metadata": {
        "id": "qrLHpteG7Ui_"
      },
      "source": [
        "# 한글폰트"
      ]
    },
    {
      "cell_type": "code",
      "metadata": {
        "id": "SBb2dcDv7T_3",
        "colab": {
          "base_uri": "https://localhost:8080/"
        },
        "outputId": "0a833648-7244-4cbf-8be1-373b976276a4"
      },
      "source": [
        "# 폰트 설치\n",
        "!apt-get update -qq # 나눔고딕 설치\n",
        "!apt-get install fonts-nanum* -qq\n",
        "\n",
        "import matplotlib as mpl\n",
        "import matplotlib.pyplot as plt\n",
        "import matplotlib.font_manager as fm\n",
        "\n",
        "fontpath = '/usr/share/fonts/truetype/nanum/NanumBarunGothic.ttf'\n",
        "font = fm.FontProperties(fname=fontpath, size=9)\n",
        "plt.rc('font', family='NanumBarunGothic') \n",
        "mpl.font_manager._rebuild()\n",
        "# 여기까지 실행 후 \"런타임 다시 시작...\" 실행 (이 부분은 실행할 필요 없음)"
      ],
      "execution_count": null,
      "outputs": [
        {
          "output_type": "stream",
          "text": [
            "Selecting previously unselected package fonts-nanum.\n",
            "(Reading database ... 160690 files and directories currently installed.)\n",
            "Preparing to unpack .../fonts-nanum_20170925-1_all.deb ...\n",
            "Unpacking fonts-nanum (20170925-1) ...\n",
            "Selecting previously unselected package fonts-nanum-eco.\n",
            "Preparing to unpack .../fonts-nanum-eco_1.000-6_all.deb ...\n",
            "Unpacking fonts-nanum-eco (1.000-6) ...\n",
            "Selecting previously unselected package fonts-nanum-extra.\n",
            "Preparing to unpack .../fonts-nanum-extra_20170925-1_all.deb ...\n",
            "Unpacking fonts-nanum-extra (20170925-1) ...\n",
            "Selecting previously unselected package fonts-nanum-coding.\n",
            "Preparing to unpack .../fonts-nanum-coding_2.5-1_all.deb ...\n",
            "Unpacking fonts-nanum-coding (2.5-1) ...\n",
            "Setting up fonts-nanum-extra (20170925-1) ...\n",
            "Setting up fonts-nanum (20170925-1) ...\n",
            "Setting up fonts-nanum-coding (2.5-1) ...\n",
            "Setting up fonts-nanum-eco (1.000-6) ...\n",
            "Processing triggers for fontconfig (2.12.6-0ubuntu2) ...\n"
          ],
          "name": "stdout"
        }
      ]
    },
    {
      "cell_type": "markdown",
      "metadata": {
        "id": "6dfJPT-2XMTB"
      },
      "source": [
        "# Install"
      ]
    },
    {
      "cell_type": "code",
      "metadata": {
        "id": "a193aGJWVaqb",
        "colab": {
          "base_uri": "https://localhost:8080/"
        },
        "outputId": "2eced59e-7218-46f6-d820-6bbf0b762867"
      },
      "source": [
        "# Tokenizer library 설치\n",
        "!pip install sentencepiece"
      ],
      "execution_count": null,
      "outputs": [
        {
          "output_type": "stream",
          "text": [
            "Collecting sentencepiece\n",
            "\u001b[?25l  Downloading https://files.pythonhosted.org/packages/f5/99/e0808cb947ba10f575839c43e8fafc9cc44e4a7a2c8f79c60db48220a577/sentencepiece-0.1.95-cp37-cp37m-manylinux2014_x86_64.whl (1.2MB)\n",
            "\r\u001b[K     |▎                               | 10kB 14.2MB/s eta 0:00:01\r\u001b[K     |▌                               | 20kB 12.2MB/s eta 0:00:01\r\u001b[K     |▉                               | 30kB 7.8MB/s eta 0:00:01\r\u001b[K     |█                               | 40kB 3.6MB/s eta 0:00:01\r\u001b[K     |█▍                              | 51kB 4.2MB/s eta 0:00:01\r\u001b[K     |█▋                              | 61kB 5.0MB/s eta 0:00:01\r\u001b[K     |██                              | 71kB 5.1MB/s eta 0:00:01\r\u001b[K     |██▏                             | 81kB 5.4MB/s eta 0:00:01\r\u001b[K     |██▌                             | 92kB 5.1MB/s eta 0:00:01\r\u001b[K     |██▊                             | 102kB 5.6MB/s eta 0:00:01\r\u001b[K     |███                             | 112kB 5.6MB/s eta 0:00:01\r\u001b[K     |███▎                            | 122kB 5.6MB/s eta 0:00:01\r\u001b[K     |███▌                            | 133kB 5.6MB/s eta 0:00:01\r\u001b[K     |███▉                            | 143kB 5.6MB/s eta 0:00:01\r\u001b[K     |████                            | 153kB 5.6MB/s eta 0:00:01\r\u001b[K     |████▍                           | 163kB 5.6MB/s eta 0:00:01\r\u001b[K     |████▋                           | 174kB 5.6MB/s eta 0:00:01\r\u001b[K     |█████                           | 184kB 5.6MB/s eta 0:00:01\r\u001b[K     |█████▏                          | 194kB 5.6MB/s eta 0:00:01\r\u001b[K     |█████▌                          | 204kB 5.6MB/s eta 0:00:01\r\u001b[K     |█████▊                          | 215kB 5.6MB/s eta 0:00:01\r\u001b[K     |██████                          | 225kB 5.6MB/s eta 0:00:01\r\u001b[K     |██████▎                         | 235kB 5.6MB/s eta 0:00:01\r\u001b[K     |██████▌                         | 245kB 5.6MB/s eta 0:00:01\r\u001b[K     |██████▉                         | 256kB 5.6MB/s eta 0:00:01\r\u001b[K     |███████                         | 266kB 5.6MB/s eta 0:00:01\r\u001b[K     |███████▍                        | 276kB 5.6MB/s eta 0:00:01\r\u001b[K     |███████▋                        | 286kB 5.6MB/s eta 0:00:01\r\u001b[K     |████████                        | 296kB 5.6MB/s eta 0:00:01\r\u001b[K     |████████▏                       | 307kB 5.6MB/s eta 0:00:01\r\u001b[K     |████████▍                       | 317kB 5.6MB/s eta 0:00:01\r\u001b[K     |████████▊                       | 327kB 5.6MB/s eta 0:00:01\r\u001b[K     |█████████                       | 337kB 5.6MB/s eta 0:00:01\r\u001b[K     |█████████▎                      | 348kB 5.6MB/s eta 0:00:01\r\u001b[K     |█████████▌                      | 358kB 5.6MB/s eta 0:00:01\r\u001b[K     |█████████▉                      | 368kB 5.6MB/s eta 0:00:01\r\u001b[K     |██████████                      | 378kB 5.6MB/s eta 0:00:01\r\u001b[K     |██████████▍                     | 389kB 5.6MB/s eta 0:00:01\r\u001b[K     |██████████▋                     | 399kB 5.6MB/s eta 0:00:01\r\u001b[K     |███████████                     | 409kB 5.6MB/s eta 0:00:01\r\u001b[K     |███████████▏                    | 419kB 5.6MB/s eta 0:00:01\r\u001b[K     |███████████▍                    | 430kB 5.6MB/s eta 0:00:01\r\u001b[K     |███████████▊                    | 440kB 5.6MB/s eta 0:00:01\r\u001b[K     |████████████                    | 450kB 5.6MB/s eta 0:00:01\r\u001b[K     |████████████▎                   | 460kB 5.6MB/s eta 0:00:01\r\u001b[K     |████████████▌                   | 471kB 5.6MB/s eta 0:00:01\r\u001b[K     |████████████▉                   | 481kB 5.6MB/s eta 0:00:01\r\u001b[K     |█████████████                   | 491kB 5.6MB/s eta 0:00:01\r\u001b[K     |█████████████▍                  | 501kB 5.6MB/s eta 0:00:01\r\u001b[K     |█████████████▋                  | 512kB 5.6MB/s eta 0:00:01\r\u001b[K     |█████████████▉                  | 522kB 5.6MB/s eta 0:00:01\r\u001b[K     |██████████████▏                 | 532kB 5.6MB/s eta 0:00:01\r\u001b[K     |██████████████▍                 | 542kB 5.6MB/s eta 0:00:01\r\u001b[K     |██████████████▊                 | 552kB 5.6MB/s eta 0:00:01\r\u001b[K     |███████████████                 | 563kB 5.6MB/s eta 0:00:01\r\u001b[K     |███████████████▎                | 573kB 5.6MB/s eta 0:00:01\r\u001b[K     |███████████████▌                | 583kB 5.6MB/s eta 0:00:01\r\u001b[K     |███████████████▉                | 593kB 5.6MB/s eta 0:00:01\r\u001b[K     |████████████████                | 604kB 5.6MB/s eta 0:00:01\r\u001b[K     |████████████████▍               | 614kB 5.6MB/s eta 0:00:01\r\u001b[K     |████████████████▋               | 624kB 5.6MB/s eta 0:00:01\r\u001b[K     |████████████████▉               | 634kB 5.6MB/s eta 0:00:01\r\u001b[K     |█████████████████▏              | 645kB 5.6MB/s eta 0:00:01\r\u001b[K     |█████████████████▍              | 655kB 5.6MB/s eta 0:00:01\r\u001b[K     |█████████████████▊              | 665kB 5.6MB/s eta 0:00:01\r\u001b[K     |██████████████████              | 675kB 5.6MB/s eta 0:00:01\r\u001b[K     |██████████████████▎             | 686kB 5.6MB/s eta 0:00:01\r\u001b[K     |██████████████████▌             | 696kB 5.6MB/s eta 0:00:01\r\u001b[K     |██████████████████▉             | 706kB 5.6MB/s eta 0:00:01\r\u001b[K     |███████████████████             | 716kB 5.6MB/s eta 0:00:01\r\u001b[K     |███████████████████▎            | 727kB 5.6MB/s eta 0:00:01\r\u001b[K     |███████████████████▋            | 737kB 5.6MB/s eta 0:00:01\r\u001b[K     |███████████████████▉            | 747kB 5.6MB/s eta 0:00:01\r\u001b[K     |████████████████████▏           | 757kB 5.6MB/s eta 0:00:01\r\u001b[K     |████████████████████▍           | 768kB 5.6MB/s eta 0:00:01\r\u001b[K     |████████████████████▊           | 778kB 5.6MB/s eta 0:00:01\r\u001b[K     |█████████████████████           | 788kB 5.6MB/s eta 0:00:01\r\u001b[K     |█████████████████████▎          | 798kB 5.6MB/s eta 0:00:01\r\u001b[K     |█████████████████████▌          | 808kB 5.6MB/s eta 0:00:01\r\u001b[K     |█████████████████████▉          | 819kB 5.6MB/s eta 0:00:01\r\u001b[K     |██████████████████████          | 829kB 5.6MB/s eta 0:00:01\r\u001b[K     |██████████████████████▎         | 839kB 5.6MB/s eta 0:00:01\r\u001b[K     |██████████████████████▋         | 849kB 5.6MB/s eta 0:00:01\r\u001b[K     |██████████████████████▉         | 860kB 5.6MB/s eta 0:00:01\r\u001b[K     |███████████████████████▏        | 870kB 5.6MB/s eta 0:00:01\r\u001b[K     |███████████████████████▍        | 880kB 5.6MB/s eta 0:00:01\r\u001b[K     |███████████████████████▊        | 890kB 5.6MB/s eta 0:00:01\r\u001b[K     |████████████████████████        | 901kB 5.6MB/s eta 0:00:01\r\u001b[K     |████████████████████████▎       | 911kB 5.6MB/s eta 0:00:01\r\u001b[K     |████████████████████████▌       | 921kB 5.6MB/s eta 0:00:01\r\u001b[K     |████████████████████████▊       | 931kB 5.6MB/s eta 0:00:01\r\u001b[K     |█████████████████████████       | 942kB 5.6MB/s eta 0:00:01\r\u001b[K     |█████████████████████████▎      | 952kB 5.6MB/s eta 0:00:01\r\u001b[K     |█████████████████████████▋      | 962kB 5.6MB/s eta 0:00:01\r\u001b[K     |█████████████████████████▉      | 972kB 5.6MB/s eta 0:00:01\r\u001b[K     |██████████████████████████▏     | 983kB 5.6MB/s eta 0:00:01\r\u001b[K     |██████████████████████████▍     | 993kB 5.6MB/s eta 0:00:01\r\u001b[K     |██████████████████████████▊     | 1.0MB 5.6MB/s eta 0:00:01\r\u001b[K     |███████████████████████████     | 1.0MB 5.6MB/s eta 0:00:01\r\u001b[K     |███████████████████████████▎    | 1.0MB 5.6MB/s eta 0:00:01\r\u001b[K     |███████████████████████████▌    | 1.0MB 5.6MB/s eta 0:00:01\r\u001b[K     |███████████████████████████▊    | 1.0MB 5.6MB/s eta 0:00:01\r\u001b[K     |████████████████████████████    | 1.1MB 5.6MB/s eta 0:00:01\r\u001b[K     |████████████████████████████▎   | 1.1MB 5.6MB/s eta 0:00:01\r\u001b[K     |████████████████████████████▋   | 1.1MB 5.6MB/s eta 0:00:01\r\u001b[K     |████████████████████████████▉   | 1.1MB 5.6MB/s eta 0:00:01\r\u001b[K     |█████████████████████████████▏  | 1.1MB 5.6MB/s eta 0:00:01\r\u001b[K     |█████████████████████████████▍  | 1.1MB 5.6MB/s eta 0:00:01\r\u001b[K     |█████████████████████████████▊  | 1.1MB 5.6MB/s eta 0:00:01\r\u001b[K     |██████████████████████████████  | 1.1MB 5.6MB/s eta 0:00:01\r\u001b[K     |██████████████████████████████▏ | 1.1MB 5.6MB/s eta 0:00:01\r\u001b[K     |██████████████████████████████▌ | 1.1MB 5.6MB/s eta 0:00:01\r\u001b[K     |██████████████████████████████▊ | 1.2MB 5.6MB/s eta 0:00:01\r\u001b[K     |███████████████████████████████ | 1.2MB 5.6MB/s eta 0:00:01\r\u001b[K     |███████████████████████████████▎| 1.2MB 5.6MB/s eta 0:00:01\r\u001b[K     |███████████████████████████████▋| 1.2MB 5.6MB/s eta 0:00:01\r\u001b[K     |███████████████████████████████▉| 1.2MB 5.6MB/s eta 0:00:01\r\u001b[K     |████████████████████████████████| 1.2MB 5.6MB/s \n",
            "\u001b[?25hInstalling collected packages: sentencepiece\n",
            "Successfully installed sentencepiece-0.1.95\n"
          ],
          "name": "stdout"
        }
      ]
    },
    {
      "cell_type": "markdown",
      "metadata": {
        "id": "JHkHg6XAXoyK"
      },
      "source": [
        "# Evn"
      ]
    },
    {
      "cell_type": "code",
      "metadata": {
        "id": "WkYXFwcBXJDG"
      },
      "source": [
        "# imports\n",
        "import argparse\n",
        "import os\n",
        "import random\n",
        "import shutil\n",
        "import json\n",
        "import zipfile\n",
        "import math\n",
        "import copy\n",
        "import collections\n",
        "import re\n",
        "\n",
        "import matplotlib.pyplot as plt\n",
        "import pandas as pd\n",
        "import numpy as np\n",
        "# import sentencepiece as spm\n",
        "import tensorflow as tf\n",
        "import tensorflow.keras.backend as K\n",
        "\n",
        "from tqdm.notebook import tqdm, trange"
      ],
      "execution_count": null,
      "outputs": []
    },
    {
      "cell_type": "code",
      "metadata": {
        "id": "BF-NLGZTGvTR",
        "colab": {
          "base_uri": "https://localhost:8080/"
        },
        "outputId": "353af614-7c9b-4f77-a0d7-78ecf60dba1f"
      },
      "source": [
        "# 환경 설정\n",
        "args = {\n",
        "    # random seed value\n",
        "    \"seed\": 1234\n",
        "}\n",
        "args = argparse.Namespace(**args)\n",
        "\n",
        "print(args)"
      ],
      "execution_count": null,
      "outputs": [
        {
          "output_type": "stream",
          "text": [
            "Namespace(seed=1234)\n"
          ],
          "name": "stdout"
        }
      ]
    },
    {
      "cell_type": "code",
      "metadata": {
        "id": "nvjyruUlXtlR"
      },
      "source": [
        "# random seed 설정\n",
        "random.seed(args.seed)\n",
        "np.random.seed(args.seed)\n",
        "tf.random.set_seed(args.seed)"
      ],
      "execution_count": null,
      "outputs": []
    },
    {
      "cell_type": "code",
      "metadata": {
        "id": "BC3fXkhdYcYt",
        "colab": {
          "base_uri": "https://localhost:8080/"
        },
        "outputId": "2b9d4483-3f96-4d2f-f360-d68e97f84009"
      },
      "source": [
        "# gpu 사용량 확인\n",
        "!nvidia-smi"
      ],
      "execution_count": null,
      "outputs": [
        {
          "output_type": "stream",
          "text": [
            "NVIDIA-SMI has failed because it couldn't communicate with the NVIDIA driver. Make sure that the latest NVIDIA driver is installed and running.\n",
            "\n"
          ],
          "name": "stdout"
        }
      ]
    },
    {
      "cell_type": "code",
      "metadata": {
        "id": "xVRdxYReYeQj",
        "colab": {
          "base_uri": "https://localhost:8080/"
        },
        "outputId": "8ac90bdf-6596-4ef9-f08e-3f5e63e090b4"
      },
      "source": [
        "# google drive mount\n",
        "from google.colab import drive\n",
        "drive.mount('/content/drive')"
      ],
      "execution_count": null,
      "outputs": [
        {
          "output_type": "stream",
          "text": [
            "Mounted at /content/drive\n"
          ],
          "name": "stdout"
        }
      ]
    },
    {
      "cell_type": "code",
      "metadata": {
        "id": "byCIiLJBbFHh",
        "colab": {
          "base_uri": "https://localhost:8080/"
        },
        "outputId": "0b18ef98-30c6-4755-baab-7b5593fdbc67"
      },
      "source": [
        "# data dir\n",
        "# data_dir = '/content/drive/MyDrive/Data/nlp'\n",
        "data_dir = '/content/drive/MyDrive/ict-ai-복합고급언어-nlp/data'\n",
        "os.listdir(data_dir)\n"
      ],
      "execution_count": null,
      "outputs": [
        {
          "output_type": "execute_result",
          "data": {
            "text/plain": [
              "['data-20210420T111231Z-001.zip', 'kowiki']"
            ]
          },
          "metadata": {
            "tags": []
          },
          "execution_count": 6
        }
      ]
    },
    {
      "cell_type": "markdown",
      "metadata": {
        "id": "097BJVHG_QfR"
      },
      "source": [
        "# Data"
      ]
    },
    {
      "cell_type": "code",
      "metadata": {
        "id": "uchiwDt--yPY"
      },
      "source": [
        "# 입력 문장\n",
        "sentences = [\n",
        "    \"나는 학생 입니다\",\n",
        "    \"당신은 수학 선생님 입니다\",\n",
        "    \"나는 선생님 입니다\",\n",
        "    \"당신은 수학 학생 입니다\"\n",
        "]\n",
        "\n",
        "# 출력 정답\n",
        "targets = [0,1,1,0]  # 학생(0), 선생님(1)"
      ],
      "execution_count": null,
      "outputs": []
    },
    {
      "cell_type": "code",
      "metadata": {
        "id": "7fXLc2Yl_ULF"
      },
      "source": [
        "id_to_label = {0: \"학생\", 1: \"선생님\"}"
      ],
      "execution_count": null,
      "outputs": []
    },
    {
      "cell_type": "code",
      "metadata": {
        "id": "-rlbq9sn_W82",
        "colab": {
          "base_uri": "https://localhost:8080/"
        },
        "outputId": "f901e5ef-5c9f-4ae8-f8b1-a997f65645c7"
      },
      "source": [
        "train_src = sentences[:2]\n",
        "train_tgt = targets[:2]\n",
        "\n",
        "train_src, train_tgt"
      ],
      "execution_count": null,
      "outputs": [
        {
          "output_type": "execute_result",
          "data": {
            "text/plain": [
              "(['나는 학생 입니다', '당신은 수학 선생님 입니다'], [0, 1])"
            ]
          },
          "metadata": {
            "tags": []
          },
          "execution_count": 9
        }
      ]
    },
    {
      "cell_type": "code",
      "metadata": {
        "id": "rjJUH0CoAW8H",
        "colab": {
          "base_uri": "https://localhost:8080/"
        },
        "outputId": "0770efa9-662f-461e-9e48-6c99e1e6ae4d"
      },
      "source": [
        "valid_src = sentences[2:3]\n",
        "valid_tgt = targets[2:3]\n",
        "\n",
        "valid_src, valid_tgt"
      ],
      "execution_count": null,
      "outputs": [
        {
          "output_type": "execute_result",
          "data": {
            "text/plain": [
              "(['나는 선생님 입니다'], [1])"
            ]
          },
          "metadata": {
            "tags": []
          },
          "execution_count": 10
        }
      ]
    },
    {
      "cell_type": "code",
      "metadata": {
        "colab": {
          "base_uri": "https://localhost:8080/"
        },
        "id": "UbsEs2nWAjl5",
        "outputId": "b21cbdce-9679-49e4-aca3-f2da730b6760"
      },
      "source": [
        "test_src = sentences[3:]\n",
        "test_tgt = targets[3:]\n",
        "\n",
        "test_src, test_tgt"
      ],
      "execution_count": null,
      "outputs": [
        {
          "output_type": "execute_result",
          "data": {
            "text/plain": [
              "(['당신은 수학 학생 입니다'], [0])"
            ]
          },
          "metadata": {
            "tags": []
          },
          "execution_count": 11
        }
      ]
    },
    {
      "cell_type": "markdown",
      "metadata": {
        "id": "46KoI5zMBaA5"
      },
      "source": [
        "# vocabulary"
      ]
    },
    {
      "cell_type": "code",
      "metadata": {
        "colab": {
          "base_uri": "https://localhost:8080/"
        },
        "id": "G8-m53e2Atxf",
        "outputId": "89747c3a-91e8-436d-c212-84d6199f7733"
      },
      "source": [
        "words = []\n",
        "for line in sentences:\n",
        "    for w in line.split():\n",
        "        words.append(w)\n",
        "\n",
        "words = list(dict.fromkeys(words))\n",
        "# words = dict.fromkeys(words)\n",
        "words"
      ],
      "execution_count": null,
      "outputs": [
        {
          "output_type": "execute_result",
          "data": {
            "text/plain": [
              "['나는', '학생', '입니다', '당신은', '수학', '선생님']"
            ]
          },
          "metadata": {
            "tags": []
          },
          "execution_count": 12
        }
      ]
    },
    {
      "cell_type": "code",
      "metadata": {
        "id": "F5Kp3wZzKFwR"
      },
      "source": [
        ""
      ],
      "execution_count": null,
      "outputs": []
    },
    {
      "cell_type": "code",
      "metadata": {
        "id": "HLtsaSARBoD0",
        "colab": {
          "base_uri": "https://localhost:8080/"
        },
        "outputId": "20cf1a0e-b7c3-457e-b88b-52446c5d22e7"
      },
      "source": [
        "word_to_id = {\"[PAD]\": 0, \"[UNK]\": 1}\n",
        "for w in words:\n",
        "    if w not in word_to_id:\n",
        "        word_to_id[w] = len(word_to_id)\n",
        "word_to_id"
      ],
      "execution_count": null,
      "outputs": [
        {
          "output_type": "execute_result",
          "data": {
            "text/plain": [
              "{'[PAD]': 0,\n",
              " '[UNK]': 1,\n",
              " '나는': 2,\n",
              " '당신은': 5,\n",
              " '선생님': 7,\n",
              " '수학': 6,\n",
              " '입니다': 4,\n",
              " '학생': 3}"
            ]
          },
          "metadata": {
            "tags": []
          },
          "execution_count": 13
        }
      ]
    },
    {
      "cell_type": "code",
      "metadata": {
        "colab": {
          "base_uri": "https://localhost:8080/"
        },
        "id": "UdqpiulDB5Wj",
        "outputId": "12ad25cb-e24c-46bb-c3f5-5b1be84fdd2c"
      },
      "source": [
        "id_to_word = {_id:w for w, _id in word_to_id.items()}\n",
        "id_to_word"
      ],
      "execution_count": null,
      "outputs": [
        {
          "output_type": "execute_result",
          "data": {
            "text/plain": [
              "{0: '[PAD]',\n",
              " 1: '[UNK]',\n",
              " 2: '나는',\n",
              " 3: '학생',\n",
              " 4: '입니다',\n",
              " 5: '당신은',\n",
              " 6: '수학',\n",
              " 7: '선생님'}"
            ]
          },
          "metadata": {
            "tags": []
          },
          "execution_count": 14
        }
      ]
    },
    {
      "cell_type": "markdown",
      "metadata": {
        "id": "Vwjo-BxiCiki"
      },
      "source": [
        "# Train, Valid, Test 데이터 생성"
      ]
    },
    {
      "cell_type": "code",
      "metadata": {
        "id": "tt5fab4cCBrN"
      },
      "source": [
        "def make_data(src, tgt, n_seq):\n",
        "    inputs, labels = [], []\n",
        "\n",
        "    for s, t in zip(src, tgt):\n",
        "        # print(s)\n",
        "        print(t)\n",
        "        _input = [word_to_id[w] for w in s.split()]\n",
        "        _input = _input[:n_seq]\n",
        "        _input = _input + [0] * (n_seq - len(_input))\n",
        "        inputs.append(_input)\n",
        "\n",
        "        _label = t\n",
        "        labels.append(_label)\n",
        "\n",
        "    inputs = np.array(inputs)\n",
        "    labels = np.array(labels)\n",
        "    return inputs, labels"
      ],
      "execution_count": null,
      "outputs": []
    },
    {
      "cell_type": "code",
      "metadata": {
        "colab": {
          "base_uri": "https://localhost:8080/"
        },
        "id": "3GbH-piGC3tJ",
        "outputId": "69287078-f2e4-450c-f5d7-35547801d281"
      },
      "source": [
        "train_inputs, train_labels = make_data(train_src, train_tgt, 5)\n",
        "train_inputs, train_labels"
      ],
      "execution_count": null,
      "outputs": [
        {
          "output_type": "stream",
          "text": [
            "0\n",
            "1\n"
          ],
          "name": "stdout"
        },
        {
          "output_type": "execute_result",
          "data": {
            "text/plain": [
              "(array([[2, 3, 4, 0, 0],\n",
              "        [5, 6, 7, 4, 0]]), array([0, 1]))"
            ]
          },
          "metadata": {
            "tags": []
          },
          "execution_count": 18
        }
      ]
    },
    {
      "cell_type": "code",
      "metadata": {
        "colab": {
          "base_uri": "https://localhost:8080/"
        },
        "id": "ybmN4VVWDDZ0",
        "outputId": "8cb7f971-0e0c-445c-876c-264160b88ac5"
      },
      "source": [
        "valid_inputs, valid_labels = make_data(valid_src, valid_tgt, 6)\n",
        "valid_inputs, valid_labels"
      ],
      "execution_count": null,
      "outputs": [
        {
          "output_type": "stream",
          "text": [
            "1\n"
          ],
          "name": "stdout"
        },
        {
          "output_type": "execute_result",
          "data": {
            "text/plain": [
              "(array([[2, 7, 4, 0, 0, 0]]), array([1]))"
            ]
          },
          "metadata": {
            "tags": []
          },
          "execution_count": 19
        }
      ]
    },
    {
      "cell_type": "code",
      "metadata": {
        "colab": {
          "base_uri": "https://localhost:8080/"
        },
        "id": "ZFQN6ZI_IP9j",
        "outputId": "a7a9b119-d1dd-441f-b900-6b072e579055"
      },
      "source": [
        "test_inputs, test_labels = make_data(test_src, test_tgt, 4)\n",
        "test_inputs, test_labels"
      ],
      "execution_count": null,
      "outputs": [
        {
          "output_type": "stream",
          "text": [
            "0\n"
          ],
          "name": "stdout"
        },
        {
          "output_type": "execute_result",
          "data": {
            "text/plain": [
              "(array([[5, 6, 3, 4]]), array([0]))"
            ]
          },
          "metadata": {
            "tags": []
          },
          "execution_count": 20
        }
      ]
    },
    {
      "cell_type": "markdown",
      "metadata": {
        "id": "UcCJTiPNKwMD"
      },
      "source": [
        "# Modeling"
      ]
    },
    {
      "cell_type": "code",
      "metadata": {
        "colab": {
          "base_uri": "https://localhost:8080/"
        },
        "id": "MVMPR8KiLv7x",
        "outputId": "84978264-b5a3-41e4-c4ae-483a40e579c0"
      },
      "source": [
        "train_inputs = np.random.randint(0, 8, (2, 5))\n",
        "train_labels = np.random.randint(0, 2, (2,))\n",
        "train_inputs, train_labels"
      ],
      "execution_count": null,
      "outputs": [
        {
          "output_type": "execute_result",
          "data": {
            "text/plain": [
              "(array([[5, 0, 1, 0, 0],\n",
              "        [4, 6, 0, 6, 4]]), array([0, 1]))"
            ]
          },
          "metadata": {
            "tags": []
          },
          "execution_count": 80
        }
      ]
    },
    {
      "cell_type": "code",
      "metadata": {
        "colab": {
          "base_uri": "https://localhost:8080/"
        },
        "id": "TgwlZ956Mk2k",
        "outputId": "66c292e4-0dbc-4d04-b4e2-678ae4f998ee"
      },
      "source": [
        "valid_inputs = np.random.randint(0, 8, (1, 6))\n",
        "valid_labels = np.random.randint(0, 2, (1))\n",
        "valid_inputs, valid_labels"
      ],
      "execution_count": null,
      "outputs": [
        {
          "output_type": "execute_result",
          "data": {
            "text/plain": [
              "(array([[7, 1, 2, 5, 6, 2]]), array([1]))"
            ]
          },
          "metadata": {
            "tags": []
          },
          "execution_count": 81
        }
      ]
    },
    {
      "cell_type": "code",
      "metadata": {
        "colab": {
          "base_uri": "https://localhost:8080/"
        },
        "id": "agDgckejMuBE",
        "outputId": "090b2c9b-cea9-4f98-9087-45cd32411b51"
      },
      "source": [
        "test_inputs = np.random.randint(0, 8, (1, 4))\n",
        "test_labels = np.random.randint(0, 2, (1))\n",
        "test_inputs, test_labels"
      ],
      "execution_count": null,
      "outputs": [
        {
          "output_type": "execute_result",
          "data": {
            "text/plain": [
              "(array([[5, 6, 7, 4]]), array([1]))"
            ]
          },
          "metadata": {
            "tags": []
          },
          "execution_count": 82
        }
      ]
    },
    {
      "cell_type": "code",
      "metadata": {
        "id": "i5-p1TjVIdaK",
        "colab": {
          "base_uri": "https://localhost:8080/"
        },
        "outputId": "a099a53f-245d-4433-ddab-44823871a30b"
      },
      "source": [
        "embedding = tf.keras.layers.Embedding(len(word_to_id), 3)\n",
        "hidden = embedding(train_inputs)\n",
        "hidden"
      ],
      "execution_count": null,
      "outputs": [
        {
          "output_type": "execute_result",
          "data": {
            "text/plain": [
              "<tf.Tensor: shape=(2, 5, 3), dtype=float32, numpy=\n",
              "array([[[-0.01878542,  0.02515935, -0.01021639],\n",
              "        [-0.0228891 , -0.01006486, -0.04771255],\n",
              "        [ 0.00926401,  0.04009868, -0.03501823],\n",
              "        [-0.0228891 , -0.01006486, -0.04771255],\n",
              "        [-0.0228891 , -0.01006486, -0.04771255]],\n",
              "\n",
              "       [[ 0.03785111,  0.00722358,  0.03167399],\n",
              "        [-0.03761582,  0.04714661,  0.0157624 ],\n",
              "        [-0.0228891 , -0.01006486, -0.04771255],\n",
              "        [-0.03761582,  0.04714661,  0.0157624 ],\n",
              "        [ 0.03785111,  0.00722358,  0.03167399]]], dtype=float32)>"
            ]
          },
          "metadata": {
            "tags": []
          },
          "execution_count": 83
        }
      ]
    },
    {
      "cell_type": "code",
      "metadata": {
        "id": "beher0USLHf4",
        "colab": {
          "base_uri": "https://localhost:8080/"
        },
        "outputId": "2e0f4ae6-b563-4118-dad1-ee27b40405e9"
      },
      "source": [
        "weight = embedding.get_weights()[0]\n",
        "weight"
      ],
      "execution_count": null,
      "outputs": [
        {
          "output_type": "execute_result",
          "data": {
            "text/plain": [
              "array([[-0.0228891 , -0.01006486, -0.04771255],\n",
              "       [ 0.00926401,  0.04009868, -0.03501823],\n",
              "       [-0.03032173,  0.02436017, -0.0146642 ],\n",
              "       [ 0.01639814, -0.03328501, -0.00766789],\n",
              "       [ 0.03785111,  0.00722358,  0.03167399],\n",
              "       [-0.01878542,  0.02515935, -0.01021639],\n",
              "       [-0.03761582,  0.04714661,  0.0157624 ],\n",
              "       [-0.03124894,  0.03201384,  0.0077284 ]], dtype=float32)"
            ]
          },
          "metadata": {
            "tags": []
          },
          "execution_count": 84
        }
      ]
    },
    {
      "cell_type": "code",
      "metadata": {
        "id": "UibTcnNHLQnw",
        "colab": {
          "base_uri": "https://localhost:8080/"
        },
        "outputId": "2757e6f3-d939-4a4f-f319-9f3c04aaac38"
      },
      "source": [
        "weight[train_inputs]"
      ],
      "execution_count": null,
      "outputs": [
        {
          "output_type": "execute_result",
          "data": {
            "text/plain": [
              "array([[[-0.01878542,  0.02515935, -0.01021639],\n",
              "        [-0.0228891 , -0.01006486, -0.04771255],\n",
              "        [ 0.00926401,  0.04009868, -0.03501823],\n",
              "        [-0.0228891 , -0.01006486, -0.04771255],\n",
              "        [-0.0228891 , -0.01006486, -0.04771255]],\n",
              "\n",
              "       [[ 0.03785111,  0.00722358,  0.03167399],\n",
              "        [-0.03761582,  0.04714661,  0.0157624 ],\n",
              "        [-0.0228891 , -0.01006486, -0.04771255],\n",
              "        [-0.03761582,  0.04714661,  0.0157624 ],\n",
              "        [ 0.03785111,  0.00722358,  0.03167399]]], dtype=float32)"
            ]
          },
          "metadata": {
            "tags": []
          },
          "execution_count": 85
        }
      ]
    },
    {
      "cell_type": "code",
      "metadata": {
        "id": "tgZGkDItLnBk"
      },
      "source": [
        "# RNN, CNN, Attention"
      ],
      "execution_count": null,
      "outputs": []
    },
    {
      "cell_type": "code",
      "metadata": {
        "colab": {
          "base_uri": "https://localhost:8080/"
        },
        "id": "-oZSSRKRLA3o",
        "outputId": "207c782b-3c45-4543-9073-fefc793fe64d"
      },
      "source": [
        "pool = tf.keras.layers.GlobalMaxPooling1D()\n",
        "hidden = pool(hidden)\n",
        "hidden"
      ],
      "execution_count": null,
      "outputs": [
        {
          "output_type": "execute_result",
          "data": {
            "text/plain": [
              "<tf.Tensor: shape=(2, 3), dtype=float32, numpy=\n",
              "array([[ 0.00926401,  0.04009868, -0.01021639],\n",
              "       [ 0.03785111,  0.04714661,  0.03167399]], dtype=float32)>"
            ]
          },
          "metadata": {
            "tags": []
          },
          "execution_count": 87
        }
      ]
    },
    {
      "cell_type": "code",
      "metadata": {
        "id": "xdwWdpzHNigH",
        "colab": {
          "base_uri": "https://localhost:8080/"
        },
        "outputId": "b6647a3e-0bd1-47dc-9116-0f47fbfeac05"
      },
      "source": [
        "linear = tf.keras.layers.Dense(2)\n",
        "logits = linear(hidden)\n",
        "logits"
      ],
      "execution_count": null,
      "outputs": [
        {
          "output_type": "execute_result",
          "data": {
            "text/plain": [
              "<tf.Tensor: shape=(2, 2), dtype=float32, numpy=\n",
              "array([[-0.04032616,  0.0457767 ],\n",
              "       [-0.01881896,  0.01685425]], dtype=float32)>"
            ]
          },
          "metadata": {
            "tags": []
          },
          "execution_count": 88
        }
      ]
    },
    {
      "cell_type": "code",
      "metadata": {
        "id": "5BxNFmG8NwnR",
        "colab": {
          "base_uri": "https://localhost:8080/"
        },
        "outputId": "44abdf16-d5a0-471e-d820-72fb60858d59"
      },
      "source": [
        "# y = Wx + b\n",
        "weight, bias = linear.get_weights()\n",
        "weight, bias"
      ],
      "execution_count": null,
      "outputs": [
        {
          "output_type": "execute_result",
          "data": {
            "text/plain": [
              "(array([[ 0.45690572,  0.32294822],\n",
              "        [-1.0163004 ,  0.80061126],\n",
              "        [ 0.3726014 , -1.0455203 ]], dtype=float32),\n",
              " array([0., 0.], dtype=float32))"
            ]
          },
          "metadata": {
            "tags": []
          },
          "execution_count": 89
        }
      ]
    },
    {
      "cell_type": "code",
      "metadata": {
        "id": "JquoTv2qOCVe",
        "colab": {
          "base_uri": "https://localhost:8080/"
        },
        "outputId": "b303bf82-3714-488e-c6c0-8257fa1ef311"
      },
      "source": [
        "tf.matmul(hidden, weight) + bias"
      ],
      "execution_count": null,
      "outputs": [
        {
          "output_type": "execute_result",
          "data": {
            "text/plain": [
              "<tf.Tensor: shape=(2, 2), dtype=float32, numpy=\n",
              "array([[-0.04032616,  0.0457767 ],\n",
              "       [-0.01881896,  0.01685425]], dtype=float32)>"
            ]
          },
          "metadata": {
            "tags": []
          },
          "execution_count": 90
        }
      ]
    },
    {
      "cell_type": "code",
      "metadata": {
        "id": "l-CsGz44OLud",
        "colab": {
          "base_uri": "https://localhost:8080/"
        },
        "outputId": "a6f54e15-ae91-40e5-81d0-c5e6846d93de"
      },
      "source": [
        "y_pred = tf.nn.softmax(logits, axis=-1)\n",
        "y_pred"
      ],
      "execution_count": null,
      "outputs": [
        {
          "output_type": "execute_result",
          "data": {
            "text/plain": [
              "<tf.Tensor: shape=(2, 2), dtype=float32, numpy=\n",
              "array([[0.47848758, 0.52151245],\n",
              "       [0.4910826 , 0.50891733]], dtype=float32)>"
            ]
          },
          "metadata": {
            "tags": []
          },
          "execution_count": 91
        }
      ]
    },
    {
      "cell_type": "code",
      "metadata": {
        "id": "wN7M4a5UOV41",
        "colab": {
          "base_uri": "https://localhost:8080/"
        },
        "outputId": "23d8ef0f-d8a1-4e6a-9b8e-2081eb58177d"
      },
      "source": [
        "linear = tf.keras.layers.Dense(2, activation=tf.nn.softmax)\n",
        "y_pred = linear(hidden)\n",
        "y_pred"
      ],
      "execution_count": null,
      "outputs": [
        {
          "output_type": "execute_result",
          "data": {
            "text/plain": [
              "<tf.Tensor: shape=(2, 2), dtype=float32, numpy=\n",
              "array([[0.4943787 , 0.50562125],\n",
              "       [0.48183218, 0.5181678 ]], dtype=float32)>"
            ]
          },
          "metadata": {
            "tags": []
          },
          "execution_count": 92
        }
      ]
    },
    {
      "cell_type": "code",
      "metadata": {
        "colab": {
          "base_uri": "https://localhost:8080/"
        },
        "id": "7kihVICBPQwN",
        "outputId": "448e0a84-cee3-42ed-9aac-d26c8846b0a7"
      },
      "source": [
        "args.n_vocab = len(word_to_id)\n",
        "args.d_model = 32\n",
        "args.n_out = 2\n",
        "args"
      ],
      "execution_count": null,
      "outputs": [
        {
          "output_type": "execute_result",
          "data": {
            "text/plain": [
              "Namespace(d_model=32, n_out=2, n_vocab=8, seed=1234)"
            ]
          },
          "metadata": {
            "tags": []
          },
          "execution_count": 93
        }
      ]
    },
    {
      "cell_type": "code",
      "metadata": {
        "id": "C91Ciiz-PDGf"
      },
      "source": [
        "def build_model(args):\n",
        "\n",
        "    inputs = tf.keras.layers.Input((None,))\n",
        "    embedding = tf.keras.layers.Embedding(args.n_vocab, args.d_model)\n",
        "    pool = tf.keras.layers.GlobalMaxPooling1D()\n",
        "    linear = tf.keras.layers.Dense(args.n_out, activation=tf.nn.softmax)\n",
        "\n",
        "    hidden = embedding(inputs)\n",
        "    #\n",
        "    # RNN, CNN, Attention, Linear\n",
        "    #\n",
        "    hidden = pool(hidden)\n",
        "\n",
        "    y_pred = linear(hidden)\n",
        "\n",
        "    model = tf.keras.Model(inputs=inputs, outputs=y_pred)\n",
        "    return model"
      ],
      "execution_count": null,
      "outputs": []
    },
    {
      "cell_type": "code",
      "metadata": {
        "colab": {
          "base_uri": "https://localhost:8080/",
          "height": 422
        },
        "id": "eiRF0EalPi3K",
        "outputId": "4d637d64-3bec-4953-c4a4-c6bc0c294542"
      },
      "source": [
        "model = build_model(args)\n",
        "tf.keras.utils.plot_model(model, 'model.png', show_shapes=True)"
      ],
      "execution_count": null,
      "outputs": [
        {
          "output_type": "execute_result",
          "data": {
            "image/png": "[encoded data removed]",
            "text/plain": [
              "<IPython.core.display.Image object>"
            ]
          },
          "metadata": {
            "tags": []
          },
          "execution_count": 95
        }
      ]
    },
    {
      "cell_type": "code",
      "metadata": {
        "id": "Y6YINRMmQQ8H",
        "colab": {
          "base_uri": "https://localhost:8080/"
        },
        "outputId": "309ce5b8-d4fb-4c30-dd9a-4067065f2869"
      },
      "source": [
        "model.predict(train_inputs)"
      ],
      "execution_count": null,
      "outputs": [
        {
          "output_type": "stream",
          "text": [
            "WARNING:tensorflow:8 out of the last 11 calls to <function Model.make_predict_function.<locals>.predict_function at 0x7ff08c01add0> triggered tf.function retracing. Tracing is expensive and the excessive number of tracings could be due to (1) creating @tf.function repeatedly in a loop, (2) passing tensors with different shapes, (3) passing Python objects instead of tensors. For (1), please define your @tf.function outside of the loop. For (2), @tf.function has experimental_relax_shapes=True option that relaxes argument shapes that can avoid unnecessary retracing. For (3), please refer to https://www.tensorflow.org/guide/function#controlling_retracing and https://www.tensorflow.org/api_docs/python/tf/function for  more details.\n"
          ],
          "name": "stdout"
        },
        {
          "output_type": "execute_result",
          "data": {
            "text/plain": [
              "array([[0.51790667, 0.48209336],\n",
              "       [0.5250456 , 0.4749544 ]], dtype=float32)"
            ]
          },
          "metadata": {
            "tags": []
          },
          "execution_count": 96
        }
      ]
    },
    {
      "cell_type": "code",
      "metadata": {
        "id": "evtGsxdrRQWU",
        "colab": {
          "base_uri": "https://localhost:8080/"
        },
        "outputId": "41708aea-f85b-46bf-b119-b81be62c7625"
      },
      "source": [
        "model.predict(valid_inputs)"
      ],
      "execution_count": null,
      "outputs": [
        {
          "output_type": "stream",
          "text": [
            "WARNING:tensorflow:8 out of the last 11 calls to <function Model.make_predict_function.<locals>.predict_function at 0x7ff08c01add0> triggered tf.function retracing. Tracing is expensive and the excessive number of tracings could be due to (1) creating @tf.function repeatedly in a loop, (2) passing tensors with different shapes, (3) passing Python objects instead of tensors. For (1), please define your @tf.function outside of the loop. For (2), @tf.function has experimental_relax_shapes=True option that relaxes argument shapes that can avoid unnecessary retracing. For (3), please refer to https://www.tensorflow.org/guide/function#controlling_retracing and https://www.tensorflow.org/api_docs/python/tf/function for  more details.\n"
          ],
          "name": "stdout"
        },
        {
          "output_type": "execute_result",
          "data": {
            "text/plain": [
              "array([[0.5377, 0.4623]], dtype=float32)"
            ]
          },
          "metadata": {
            "tags": []
          },
          "execution_count": 97
        }
      ]
    },
    {
      "cell_type": "code",
      "metadata": {
        "id": "p_2EGl1cRTlK",
        "colab": {
          "base_uri": "https://localhost:8080/"
        },
        "outputId": "122cc947-3493-44dc-cb25-0b29e4555381"
      },
      "source": [
        "model.predict(test_inputs)"
      ],
      "execution_count": null,
      "outputs": [
        {
          "output_type": "stream",
          "text": [
            "WARNING:tensorflow:9 out of the last 12 calls to <function Model.make_predict_function.<locals>.predict_function at 0x7ff08c01add0> triggered tf.function retracing. Tracing is expensive and the excessive number of tracings could be due to (1) creating @tf.function repeatedly in a loop, (2) passing tensors with different shapes, (3) passing Python objects instead of tensors. For (1), please define your @tf.function outside of the loop. For (2), @tf.function has experimental_relax_shapes=True option that relaxes argument shapes that can avoid unnecessary retracing. For (3), please refer to https://www.tensorflow.org/guide/function#controlling_retracing and https://www.tensorflow.org/api_docs/python/tf/function for  more details.\n"
          ],
          "name": "stdout"
        },
        {
          "output_type": "execute_result",
          "data": {
            "text/plain": [
              "array([[0.52817965, 0.47182035]], dtype=float32)"
            ]
          },
          "metadata": {
            "tags": []
          },
          "execution_count": 98
        }
      ]
    },
    {
      "cell_type": "markdown",
      "metadata": {
        "id": "gWkJRJPUUVnu"
      },
      "source": [
        "# Train"
      ]
    },
    {
      "cell_type": "code",
      "metadata": {
        "colab": {
          "base_uri": "https://localhost:8080/",
          "height": 422
        },
        "id": "o694YCd8RYmR",
        "outputId": "87ce189b-3981-44a0-8631-ed22a30b01b9"
      },
      "source": [
        "model = build_model(args)\n",
        "tf.keras.utils.plot_model(model, 'model.png', show_shapes=True)"
      ],
      "execution_count": null,
      "outputs": [
        {
          "output_type": "execute_result",
          "data": {
            "image/png": "[encoded data removed]",
            "text/plain": [
              "<IPython.core.display.Image object>"
            ]
          },
          "metadata": {
            "tags": []
          },
          "execution_count": 99
        }
      ]
    },
    {
      "cell_type": "code",
      "metadata": {
        "id": "l6VXTtmTUXnR"
      },
      "source": [
        "model.compile(loss=\"sparse_categorical_crossentropy\", optimizer=\"adam\", metrics=[\"accuracy\"])"
      ],
      "execution_count": null,
      "outputs": []
    },
    {
      "cell_type": "code",
      "metadata": {
        "colab": {
          "base_uri": "https://localhost:8080/"
        },
        "id": "Ld1CJ0W6WW2-",
        "outputId": "1a1d0e2d-f82c-49ca-8447-e710717e8de6"
      },
      "source": [
        "train_inputs.shape, train_labels.shape, valid_inputs.shape, valid_labels.shape"
      ],
      "execution_count": null,
      "outputs": [
        {
          "output_type": "execute_result",
          "data": {
            "text/plain": [
              "((2, 5), (2,), (1, 6), (1,))"
            ]
          },
          "metadata": {
            "tags": []
          },
          "execution_count": 112
        }
      ]
    },
    {
      "cell_type": "code",
      "metadata": {
        "id": "lGZkY40DXnRP"
      },
      "source": [
        "early_stopping = tf.keras.callbacks.EarlyStopping(monitor='val_accuracy', patience=20)\n",
        "save_weights = tf.keras.callbacks.ModelCheckpoint(\"stub.hdf5\",\n",
        "                                                  monitor='val_accuracy',\n",
        "                                                  verbose=1,\n",
        "                                                  save_best_only=True,\n",
        "                                                  mode=\"max\",\n",
        "                                                  save_freq=\"epoch\",\n",
        "                                                  save_weights_only=True)\n",
        "csv_logger = tf.keras.callbacks.CSVLogger(\"stub.csv\")"
      ],
      "execution_count": null,
      "outputs": []
    },
    {
      "cell_type": "code",
      "metadata": {
        "id": "J3-azx5XUtaR",
        "colab": {
          "base_uri": "https://localhost:8080/"
        },
        "outputId": "d63e21c8-39a0-4bd1-e348-69515fe4d94c"
      },
      "source": [
        "history = model.fit(train_inputs, train_labels,\n",
        "                    epochs=100,\n",
        "                    batch_size=8,\n",
        "                    validation_data=(valid_inputs, valid_labels),\n",
        "                    callbacks=[early_stopping, save_weights, csv_logger])"
      ],
      "execution_count": null,
      "outputs": [
        {
          "output_type": "stream",
          "text": [
            "Epoch 1/100\n",
            "1/1 [==============================] - 1s 595ms/step - loss: 0.6882 - accuracy: 0.5000 - val_loss: 0.7086 - val_accuracy: 0.0000e+00\n",
            "\n",
            "Epoch 00001: val_accuracy improved from -inf to 0.00000, saving model to stub.hdf5\n",
            "Epoch 2/100\n",
            "1/1 [==============================] - 0s 43ms/step - loss: 0.6843 - accuracy: 0.5000 - val_loss: 0.7083 - val_accuracy: 0.0000e+00\n",
            "\n",
            "Epoch 00002: val_accuracy did not improve from 0.00000\n",
            "Epoch 3/100\n",
            "1/1 [==============================] - 0s 50ms/step - loss: 0.6804 - accuracy: 1.0000 - val_loss: 0.7080 - val_accuracy: 0.0000e+00\n",
            "\n",
            "Epoch 00003: val_accuracy did not improve from 0.00000\n",
            "Epoch 4/100\n",
            "1/1 [==============================] - 0s 42ms/step - loss: 0.6767 - accuracy: 1.0000 - val_loss: 0.7081 - val_accuracy: 0.0000e+00\n",
            "\n",
            "Epoch 00004: val_accuracy did not improve from 0.00000\n",
            "Epoch 5/100\n",
            "1/1 [==============================] - 0s 45ms/step - loss: 0.6730 - accuracy: 1.0000 - val_loss: 0.7084 - val_accuracy: 0.0000e+00\n",
            "\n",
            "Epoch 00005: val_accuracy did not improve from 0.00000\n",
            "Epoch 6/100\n",
            "1/1 [==============================] - 0s 61ms/step - loss: 0.6693 - accuracy: 1.0000 - val_loss: 0.7091 - val_accuracy: 0.0000e+00\n",
            "\n",
            "Epoch 00006: val_accuracy did not improve from 0.00000\n",
            "Epoch 7/100\n",
            "1/1 [==============================] - 0s 47ms/step - loss: 0.6655 - accuracy: 1.0000 - val_loss: 0.7100 - val_accuracy: 0.0000e+00\n",
            "\n",
            "Epoch 00007: val_accuracy did not improve from 0.00000\n",
            "Epoch 8/100\n",
            "1/1 [==============================] - 0s 53ms/step - loss: 0.6619 - accuracy: 1.0000 - val_loss: 0.7113 - val_accuracy: 0.0000e+00\n",
            "\n",
            "Epoch 00008: val_accuracy did not improve from 0.00000\n",
            "Epoch 9/100\n",
            "1/1 [==============================] - 0s 51ms/step - loss: 0.6585 - accuracy: 1.0000 - val_loss: 0.7125 - val_accuracy: 0.0000e+00\n",
            "\n",
            "Epoch 00009: val_accuracy did not improve from 0.00000\n",
            "Epoch 10/100\n",
            "1/1 [==============================] - 0s 49ms/step - loss: 0.6551 - accuracy: 1.0000 - val_loss: 0.7139 - val_accuracy: 0.0000e+00\n",
            "\n",
            "Epoch 00010: val_accuracy did not improve from 0.00000\n",
            "Epoch 11/100\n",
            "1/1 [==============================] - 0s 48ms/step - loss: 0.6518 - accuracy: 1.0000 - val_loss: 0.7155 - val_accuracy: 0.0000e+00\n",
            "\n",
            "Epoch 00011: val_accuracy did not improve from 0.00000\n",
            "Epoch 12/100\n",
            "1/1 [==============================] - 0s 49ms/step - loss: 0.6485 - accuracy: 1.0000 - val_loss: 0.7171 - val_accuracy: 0.0000e+00\n",
            "\n",
            "Epoch 00012: val_accuracy did not improve from 0.00000\n",
            "Epoch 13/100\n",
            "1/1 [==============================] - 0s 56ms/step - loss: 0.6453 - accuracy: 1.0000 - val_loss: 0.7186 - val_accuracy: 0.0000e+00\n",
            "\n",
            "Epoch 00013: val_accuracy did not improve from 0.00000\n",
            "Epoch 14/100\n",
            "1/1 [==============================] - 0s 53ms/step - loss: 0.6423 - accuracy: 1.0000 - val_loss: 0.7202 - val_accuracy: 0.0000e+00\n",
            "\n",
            "Epoch 00014: val_accuracy did not improve from 0.00000\n",
            "Epoch 15/100\n",
            "1/1 [==============================] - 0s 46ms/step - loss: 0.6392 - accuracy: 1.0000 - val_loss: 0.7218 - val_accuracy: 0.0000e+00\n",
            "\n",
            "Epoch 00015: val_accuracy did not improve from 0.00000\n",
            "Epoch 16/100\n",
            "1/1 [==============================] - 0s 53ms/step - loss: 0.6361 - accuracy: 1.0000 - val_loss: 0.7236 - val_accuracy: 0.0000e+00\n",
            "\n",
            "Epoch 00016: val_accuracy did not improve from 0.00000\n",
            "Epoch 17/100\n",
            "1/1 [==============================] - 0s 49ms/step - loss: 0.6330 - accuracy: 1.0000 - val_loss: 0.7255 - val_accuracy: 0.0000e+00\n",
            "\n",
            "Epoch 00017: val_accuracy did not improve from 0.00000\n",
            "Epoch 18/100\n",
            "1/1 [==============================] - 0s 49ms/step - loss: 0.6299 - accuracy: 1.0000 - val_loss: 0.7273 - val_accuracy: 0.0000e+00\n",
            "\n",
            "Epoch 00018: val_accuracy did not improve from 0.00000\n",
            "Epoch 19/100\n",
            "1/1 [==============================] - 0s 50ms/step - loss: 0.6268 - accuracy: 1.0000 - val_loss: 0.7292 - val_accuracy: 0.0000e+00\n",
            "\n",
            "Epoch 00019: val_accuracy did not improve from 0.00000\n",
            "Epoch 20/100\n",
            "1/1 [==============================] - 0s 52ms/step - loss: 0.6237 - accuracy: 1.0000 - val_loss: 0.7311 - val_accuracy: 0.0000e+00\n",
            "\n",
            "Epoch 00020: val_accuracy did not improve from 0.00000\n",
            "Epoch 21/100\n",
            "1/1 [==============================] - 0s 52ms/step - loss: 0.6205 - accuracy: 1.0000 - val_loss: 0.7328 - val_accuracy: 0.0000e+00\n",
            "\n",
            "Epoch 00021: val_accuracy did not improve from 0.00000\n"
          ],
          "name": "stdout"
        }
      ]
    },
    {
      "cell_type": "code",
      "metadata": {
        "colab": {
          "base_uri": "https://localhost:8080/",
          "height": 265
        },
        "id": "1cTSE4OyVHbD",
        "outputId": "60a38d26-ca17-498a-cce4-85bb06ef2895"
      },
      "source": [
        "plt.figure(figsize=(12, 4))\n",
        "\n",
        "plt.subplot(1, 2, 1)\n",
        "plt.plot(history.history['loss'], 'b-', label='loss')\n",
        "plt.plot(history.history['val_loss'], 'r--', label='val_loss')\n",
        "\n",
        "plt.subplot(1, 2, 2)\n",
        "plt.plot(history.history['accuracy'], 'g-', label='accuracy')\n",
        "plt.plot(history.history['val_accuracy'], 'k--', label='val_accuracy')\n",
        "\n",
        "plt.show()"
      ],
      "execution_count": null,
      "outputs": [
        {
          "output_type": "display_data",
          "data": {
            "image/png": "[encoded data removed]",
            "text/plain": [
              "<Figure size 864x288 with 2 Axes>"
            ]
          },
          "metadata": {
            "tags": [],
            "needs_background": "light"
          }
        }
      ]
    },
    {
      "cell_type": "markdown",
      "metadata": {
        "id": "mUww_hyZaSnH"
      },
      "source": [
        "# 평가"
      ]
    },
    {
      "cell_type": "code",
      "metadata": {
        "id": "_bX2Yv0caUnO"
      },
      "source": [
        "model = build_model(args)\n",
        "model.load_weights(\"stub.hdf5\")"
      ],
      "execution_count": null,
      "outputs": []
    },
    {
      "cell_type": "code",
      "metadata": {
        "id": "HVJl8AVJaUnP"
      },
      "source": [
        "model.compile(loss=\"sparse_categorical_crossentropy\", optimizer=\"adam\", metrics=[\"accuracy\"])"
      ],
      "execution_count": null,
      "outputs": []
    },
    {
      "cell_type": "code",
      "metadata": {
        "colab": {
          "base_uri": "https://localhost:8080/"
        },
        "id": "Xxp1VLSVabrh",
        "outputId": "551718d1-8859-49ff-8503-346e60a7e780"
      },
      "source": [
        "model.evaluate(test_inputs, test_labels)"
      ],
      "execution_count": null,
      "outputs": [
        {
          "output_type": "stream",
          "text": [
            "1/1 [==============================] - 0s 192ms/step - loss: 0.6928 - accuracy: 1.0000\n"
          ],
          "name": "stdout"
        },
        {
          "output_type": "execute_result",
          "data": {
            "text/plain": [
              "[0.6928495168685913, 1.0]"
            ]
          },
          "metadata": {
            "tags": []
          },
          "execution_count": 118
        }
      ]
    },
    {
      "cell_type": "markdown",
      "metadata": {
        "id": "ffFq5_Avbsq-"
      },
      "source": [
        "# 배포"
      ]
    },
    {
      "cell_type": "code",
      "metadata": {
        "id": "TNaP7jXrfhxa"
      },
      "source": [
        "model = build_model(args)\n",
        "model.load_weights(\"stub.hdf5\")"
      ],
      "execution_count": null,
      "outputs": []
    },
    {
      "cell_type": "code",
      "metadata": {
        "id": "gW2zniiaafwi"
      },
      "source": [
        "string = \"수학 당신은 선생님 입니다\""
      ],
      "execution_count": null,
      "outputs": []
    },
    {
      "cell_type": "code",
      "metadata": {
        "colab": {
          "base_uri": "https://localhost:8080/"
        },
        "id": "un7tDdUTbzg2",
        "outputId": "7d0b8f62-54d4-498c-9ade-6bcd1dc464e9"
      },
      "source": [
        "infer_input = [word_to_id[w] for w in string.split()]\n",
        "infer_input = np.array([infer_input]) # 현재 배치가 1인 데이터\n",
        "infer_input"
      ],
      "execution_count": null,
      "outputs": [
        {
          "output_type": "execute_result",
          "data": {
            "text/plain": [
              "array([[6, 5, 7, 4]])"
            ]
          },
          "metadata": {
            "tags": []
          },
          "execution_count": 121
        }
      ]
    },
    {
      "cell_type": "code",
      "metadata": {
        "colab": {
          "base_uri": "https://localhost:8080/"
        },
        "id": "l8PnzyH6cDa2",
        "outputId": "b9e9e6e0-2154-45d8-ab49-74c6eca518e6"
      },
      "source": [
        "train_inputs.shape, infer_input.shape"
      ],
      "execution_count": null,
      "outputs": [
        {
          "output_type": "execute_result",
          "data": {
            "text/plain": [
              "((2, 5), (1, 4))"
            ]
          },
          "metadata": {
            "tags": []
          },
          "execution_count": 122
        }
      ]
    },
    {
      "cell_type": "code",
      "metadata": {
        "colab": {
          "base_uri": "https://localhost:8080/"
        },
        "id": "unqdoXkNb6XQ",
        "outputId": "11b58ac9-169c-4fb3-ada4-d2a6dac0208f"
      },
      "source": [
        "y_pred = model.predict(infer_input)\n",
        "y_pred\n",
        "\n",
        "# 오늘은 문장단위니까 1개"
      ],
      "execution_count": null,
      "outputs": [
        {
          "output_type": "stream",
          "text": [
            "WARNING:tensorflow:10 out of the last 13 calls to <function Model.make_predict_function.<locals>.predict_function at 0x7ff09636e9e0> triggered tf.function retracing. Tracing is expensive and the excessive number of tracings could be due to (1) creating @tf.function repeatedly in a loop, (2) passing tensors with different shapes, (3) passing Python objects instead of tensors. For (1), please define your @tf.function outside of the loop. For (2), @tf.function has experimental_relax_shapes=True option that relaxes argument shapes that can avoid unnecessary retracing. For (3), please refer to https://www.tensorflow.org/guide/function#controlling_retracing and https://www.tensorflow.org/api_docs/python/tf/function for  more details.\n"
          ],
          "name": "stdout"
        },
        {
          "output_type": "execute_result",
          "data": {
            "text/plain": [
              "array([[0.49985114, 0.50014883]], dtype=float32)"
            ]
          },
          "metadata": {
            "tags": []
          },
          "execution_count": 123
        }
      ]
    },
    {
      "cell_type": "code",
      "metadata": {
        "colab": {
          "base_uri": "https://localhost:8080/"
        },
        "id": "HrSv52ZlcTlX",
        "outputId": "eae239e8-7ea5-4f72-b125-6be962300a41"
      },
      "source": [
        "y_class = np.argmax(y_pred, axis=-1)\n",
        "y_class"
      ],
      "execution_count": null,
      "outputs": [
        {
          "output_type": "execute_result",
          "data": {
            "text/plain": [
              "array([1])"
            ]
          },
          "metadata": {
            "tags": []
          },
          "execution_count": 124
        }
      ]
    },
    {
      "cell_type": "code",
      "metadata": {
        "colab": {
          "base_uri": "https://localhost:8080/"
        },
        "id": "sNHvIQ56fw-I",
        "outputId": "fc2ef2d9-188e-4228-91b4-44056314e914"
      },
      "source": [
        "for val in y_class:\n",
        "    print(f\"{val} : {id_to_label[val]}\")"
      ],
      "execution_count": null,
      "outputs": [
        {
          "output_type": "stream",
          "text": [
            "1 : 선생님\n"
          ],
          "name": "stdout"
        }
      ]
    },
    {
      "cell_type": "code",
      "metadata": {
        "id": "YCnuHYzMgBf7"
      },
      "source": [
        "def do_predict(model, string):\n",
        "    tokens = string.split()\n",
        "    infer_input = []\n",
        "    for w in tokens:\n",
        "        infer_input.append(word_to_id.get(w, 1))\n",
        "        # infer_input.append(word_to_id.[w]\n",
        "    infer_input = np.array([infer_input])\n",
        "    y_pred = model.predict(infer_input)\n",
        "    y_class = np.argmax(y_pred, axis=-1)[0]\n",
        "    # return y_class\n",
        "    # result = []\n",
        "    # for w, c in zip(tokens, y_class):\n",
        "    #     result.append([w, id_to_label[c]])\n",
        "    return [string, id_to_label[y_class]]"
      ],
      "execution_count": null,
      "outputs": []
    },
    {
      "cell_type": "code",
      "metadata": {
        "colab": {
          "base_uri": "https://localhost:8080/"
        },
        "id": "bxVuQxtAh0jv",
        "outputId": "83656549-d128-4457-82b2-a0861fe91520"
      },
      "source": [
        "do_predict(model, \"수학 당신은 과학 선생님 입니다\")"
      ],
      "execution_count": null,
      "outputs": [
        {
          "output_type": "execute_result",
          "data": {
            "text/plain": [
              "['수학 당신은 과학 선생님 입니다', '학생']"
            ]
          },
          "metadata": {
            "tags": []
          },
          "execution_count": 132
        }
      ]
    },
    {
      "cell_type": "code",
      "metadata": {
        "colab": {
          "base_uri": "https://localhost:8080/",
          "height": 747
        },
        "id": "sPqa_Z2Oh3hU",
        "outputId": "3be860d0-1761-4cee-f89a-cb70a51b6912"
      },
      "source": [
        "while True:\n",
        "    print(\"input> \", end=\"\")\n",
        "    string = str(input())\n",
        "    if len(string) == 0:\n",
        "        break\n",
        "    result = do_predict(model, string)\n",
        "    print(result)"
      ],
      "execution_count": null,
      "outputs": [
        {
          "output_type": "stream",
          "text": [
            "input> 나는 중학생 입니다\n",
            "WARNING:tensorflow:9 out of the last 11 calls to <function Model.make_predict_function.<locals>.predict_function at 0x7ff09636e9e0> triggered tf.function retracing. Tracing is expensive and the excessive number of tracings could be due to (1) creating @tf.function repeatedly in a loop, (2) passing tensors with different shapes, (3) passing Python objects instead of tensors. For (1), please define your @tf.function outside of the loop. For (2), @tf.function has experimental_relax_shapes=True option that relaxes argument shapes that can avoid unnecessary retracing. For (3), please refer to https://www.tensorflow.org/guide/function#controlling_retracing and https://www.tensorflow.org/api_docs/python/tf/function for  more details.\n",
            "['나는 중학생 입니다', '학생']\n",
            "input> 나는 중학생입니다\n",
            "['나는 중학생입니다', '학생']\n",
            "input> 나는 중학생 입니다\n",
            "['나는 중학생 입니다', '학생']\n",
            "input> "
          ],
          "name": "stdout"
        },
        {
          "output_type": "error",
          "ename": "KeyboardInterrupt",
          "evalue": "ignored",
          "traceback": [
            "\u001b[0;31m---------------------------------------------------------------------------\u001b[0m",
            "\u001b[0;31mKeyboardInterrupt\u001b[0m                         Traceback (most recent call last)",
            "\u001b[0;32m/usr/local/lib/python3.7/dist-packages/ipykernel/kernelbase.py\u001b[0m in \u001b[0;36m_input_request\u001b[0;34m(self, prompt, ident, parent, password)\u001b[0m\n\u001b[1;32m    728\u001b[0m             \u001b[0;32mtry\u001b[0m\u001b[0;34m:\u001b[0m\u001b[0;34m\u001b[0m\u001b[0;34m\u001b[0m\u001b[0m\n\u001b[0;32m--> 729\u001b[0;31m                 \u001b[0mident\u001b[0m\u001b[0;34m,\u001b[0m \u001b[0mreply\u001b[0m \u001b[0;34m=\u001b[0m \u001b[0mself\u001b[0m\u001b[0;34m.\u001b[0m\u001b[0msession\u001b[0m\u001b[0;34m.\u001b[0m\u001b[0mrecv\u001b[0m\u001b[0;34m(\u001b[0m\u001b[0mself\u001b[0m\u001b[0;34m.\u001b[0m\u001b[0mstdin_socket\u001b[0m\u001b[0;34m,\u001b[0m \u001b[0;36m0\u001b[0m\u001b[0;34m)\u001b[0m\u001b[0;34m\u001b[0m\u001b[0;34m\u001b[0m\u001b[0m\n\u001b[0m\u001b[1;32m    730\u001b[0m             \u001b[0;32mexcept\u001b[0m \u001b[0mException\u001b[0m\u001b[0;34m:\u001b[0m\u001b[0;34m\u001b[0m\u001b[0;34m\u001b[0m\u001b[0m\n",
            "\u001b[0;32m/usr/local/lib/python3.7/dist-packages/jupyter_client/session.py\u001b[0m in \u001b[0;36mrecv\u001b[0;34m(self, socket, mode, content, copy)\u001b[0m\n\u001b[1;32m    802\u001b[0m         \u001b[0;32mtry\u001b[0m\u001b[0;34m:\u001b[0m\u001b[0;34m\u001b[0m\u001b[0;34m\u001b[0m\u001b[0m\n\u001b[0;32m--> 803\u001b[0;31m             \u001b[0mmsg_list\u001b[0m \u001b[0;34m=\u001b[0m \u001b[0msocket\u001b[0m\u001b[0;34m.\u001b[0m\u001b[0mrecv_multipart\u001b[0m\u001b[0;34m(\u001b[0m\u001b[0mmode\u001b[0m\u001b[0;34m,\u001b[0m \u001b[0mcopy\u001b[0m\u001b[0;34m=\u001b[0m\u001b[0mcopy\u001b[0m\u001b[0;34m)\u001b[0m\u001b[0;34m\u001b[0m\u001b[0;34m\u001b[0m\u001b[0m\n\u001b[0m\u001b[1;32m    804\u001b[0m         \u001b[0;32mexcept\u001b[0m \u001b[0mzmq\u001b[0m\u001b[0;34m.\u001b[0m\u001b[0mZMQError\u001b[0m \u001b[0;32mas\u001b[0m \u001b[0me\u001b[0m\u001b[0;34m:\u001b[0m\u001b[0;34m\u001b[0m\u001b[0;34m\u001b[0m\u001b[0m\n",
            "\u001b[0;32m/usr/local/lib/python3.7/dist-packages/zmq/sugar/socket.py\u001b[0m in \u001b[0;36mrecv_multipart\u001b[0;34m(self, flags, copy, track)\u001b[0m\n\u001b[1;32m    582\u001b[0m         \"\"\"\n\u001b[0;32m--> 583\u001b[0;31m         \u001b[0mparts\u001b[0m \u001b[0;34m=\u001b[0m \u001b[0;34m[\u001b[0m\u001b[0mself\u001b[0m\u001b[0;34m.\u001b[0m\u001b[0mrecv\u001b[0m\u001b[0;34m(\u001b[0m\u001b[0mflags\u001b[0m\u001b[0;34m,\u001b[0m \u001b[0mcopy\u001b[0m\u001b[0;34m=\u001b[0m\u001b[0mcopy\u001b[0m\u001b[0;34m,\u001b[0m \u001b[0mtrack\u001b[0m\u001b[0;34m=\u001b[0m\u001b[0mtrack\u001b[0m\u001b[0;34m)\u001b[0m\u001b[0;34m]\u001b[0m\u001b[0;34m\u001b[0m\u001b[0;34m\u001b[0m\u001b[0m\n\u001b[0m\u001b[1;32m    584\u001b[0m         \u001b[0;31m# have first part already, only loop while more to receive\u001b[0m\u001b[0;34m\u001b[0m\u001b[0;34m\u001b[0m\u001b[0;34m\u001b[0m\u001b[0m\n",
            "\u001b[0;32mzmq/backend/cython/socket.pyx\u001b[0m in \u001b[0;36mzmq.backend.cython.socket.Socket.recv\u001b[0;34m()\u001b[0m\n",
            "\u001b[0;32mzmq/backend/cython/socket.pyx\u001b[0m in \u001b[0;36mzmq.backend.cython.socket.Socket.recv\u001b[0;34m()\u001b[0m\n",
            "\u001b[0;32mzmq/backend/cython/socket.pyx\u001b[0m in \u001b[0;36mzmq.backend.cython.socket._recv_copy\u001b[0;34m()\u001b[0m\n",
            "\u001b[0;32m/usr/local/lib/python3.7/dist-packages/zmq/backend/cython/checkrc.pxd\u001b[0m in \u001b[0;36mzmq.backend.cython.checkrc._check_rc\u001b[0;34m()\u001b[0m\n",
            "\u001b[0;31mKeyboardInterrupt\u001b[0m: ",
            "\nDuring handling of the above exception, another exception occurred:\n",
            "\u001b[0;31mKeyboardInterrupt\u001b[0m                         Traceback (most recent call last)",
            "\u001b[0;32m<ipython-input-133-b3e759b8659b>\u001b[0m in \u001b[0;36m<module>\u001b[0;34m()\u001b[0m\n\u001b[1;32m      1\u001b[0m \u001b[0;32mwhile\u001b[0m \u001b[0;32mTrue\u001b[0m\u001b[0;34m:\u001b[0m\u001b[0;34m\u001b[0m\u001b[0;34m\u001b[0m\u001b[0m\n\u001b[1;32m      2\u001b[0m     \u001b[0mprint\u001b[0m\u001b[0;34m(\u001b[0m\u001b[0;34m\"input> \"\u001b[0m\u001b[0;34m,\u001b[0m \u001b[0mend\u001b[0m\u001b[0;34m=\u001b[0m\u001b[0;34m\"\"\u001b[0m\u001b[0;34m)\u001b[0m\u001b[0;34m\u001b[0m\u001b[0;34m\u001b[0m\u001b[0m\n\u001b[0;32m----> 3\u001b[0;31m     \u001b[0mstring\u001b[0m \u001b[0;34m=\u001b[0m \u001b[0mstr\u001b[0m\u001b[0;34m(\u001b[0m\u001b[0minput\u001b[0m\u001b[0;34m(\u001b[0m\u001b[0;34m)\u001b[0m\u001b[0;34m)\u001b[0m\u001b[0;34m\u001b[0m\u001b[0;34m\u001b[0m\u001b[0m\n\u001b[0m\u001b[1;32m      4\u001b[0m     \u001b[0;32mif\u001b[0m \u001b[0mlen\u001b[0m\u001b[0;34m(\u001b[0m\u001b[0mstring\u001b[0m\u001b[0;34m)\u001b[0m \u001b[0;34m==\u001b[0m \u001b[0;36m0\u001b[0m\u001b[0;34m:\u001b[0m\u001b[0;34m\u001b[0m\u001b[0;34m\u001b[0m\u001b[0m\n\u001b[1;32m      5\u001b[0m         \u001b[0;32mbreak\u001b[0m\u001b[0;34m\u001b[0m\u001b[0;34m\u001b[0m\u001b[0m\n",
            "\u001b[0;32m/usr/local/lib/python3.7/dist-packages/ipykernel/kernelbase.py\u001b[0m in \u001b[0;36mraw_input\u001b[0;34m(self, prompt)\u001b[0m\n\u001b[1;32m    702\u001b[0m             \u001b[0mself\u001b[0m\u001b[0;34m.\u001b[0m\u001b[0m_parent_ident\u001b[0m\u001b[0;34m,\u001b[0m\u001b[0;34m\u001b[0m\u001b[0;34m\u001b[0m\u001b[0m\n\u001b[1;32m    703\u001b[0m             \u001b[0mself\u001b[0m\u001b[0;34m.\u001b[0m\u001b[0m_parent_header\u001b[0m\u001b[0;34m,\u001b[0m\u001b[0;34m\u001b[0m\u001b[0;34m\u001b[0m\u001b[0m\n\u001b[0;32m--> 704\u001b[0;31m             \u001b[0mpassword\u001b[0m\u001b[0;34m=\u001b[0m\u001b[0;32mFalse\u001b[0m\u001b[0;34m,\u001b[0m\u001b[0;34m\u001b[0m\u001b[0;34m\u001b[0m\u001b[0m\n\u001b[0m\u001b[1;32m    705\u001b[0m         )\n\u001b[1;32m    706\u001b[0m \u001b[0;34m\u001b[0m\u001b[0m\n",
            "\u001b[0;32m/usr/local/lib/python3.7/dist-packages/ipykernel/kernelbase.py\u001b[0m in \u001b[0;36m_input_request\u001b[0;34m(self, prompt, ident, parent, password)\u001b[0m\n\u001b[1;32m    732\u001b[0m             \u001b[0;32mexcept\u001b[0m \u001b[0mKeyboardInterrupt\u001b[0m\u001b[0;34m:\u001b[0m\u001b[0;34m\u001b[0m\u001b[0;34m\u001b[0m\u001b[0m\n\u001b[1;32m    733\u001b[0m                 \u001b[0;31m# re-raise KeyboardInterrupt, to truncate traceback\u001b[0m\u001b[0;34m\u001b[0m\u001b[0;34m\u001b[0m\u001b[0;34m\u001b[0m\u001b[0m\n\u001b[0;32m--> 734\u001b[0;31m                 \u001b[0;32mraise\u001b[0m \u001b[0mKeyboardInterrupt\u001b[0m\u001b[0;34m\u001b[0m\u001b[0;34m\u001b[0m\u001b[0m\n\u001b[0m\u001b[1;32m    735\u001b[0m             \u001b[0;32melse\u001b[0m\u001b[0;34m:\u001b[0m\u001b[0;34m\u001b[0m\u001b[0;34m\u001b[0m\u001b[0m\n\u001b[1;32m    736\u001b[0m                 \u001b[0;32mbreak\u001b[0m\u001b[0;34m\u001b[0m\u001b[0;34m\u001b[0m\u001b[0m\n",
            "\u001b[0;31mKeyboardInterrupt\u001b[0m: "
          ]
        }
      ]
    },
    {
      "cell_type": "code",
      "metadata": {
        "id": "MFRFpb7diRrw",
        "colab": {
          "base_uri": "https://localhost:8080/"
        },
        "outputId": "33f7072f-515f-4125-ed4f-0a3d9bd8552e"
      },
      "source": [
        "id_to_word"
      ],
      "execution_count": null,
      "outputs": [
        {
          "output_type": "execute_result",
          "data": {
            "text/plain": [
              "{0: '[PAD]',\n",
              " 1: '[UNK]',\n",
              " 2: '나는',\n",
              " 3: '학생',\n",
              " 4: '입니다',\n",
              " 5: '당신은',\n",
              " 6: '수학',\n",
              " 7: '선생님'}"
            ]
          },
          "metadata": {
            "tags": []
          },
          "execution_count": 134
        }
      ]
    }
  ]
}