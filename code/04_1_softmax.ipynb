{
  "nbformat": 4,
  "nbformat_minor": 0,
  "metadata": {
    "colab": {
      "name": "4 -1-softmax",
      "provenance": [],
      "collapsed_sections": []
    },
    "kernelspec": {
      "name": "python3",
      "display_name": "Python 3"
    },
    "language_info": {
      "name": "python"
    }
  },
  "cells": [
    {
      "cell_type": "code",
      "metadata": {
        "id": "-OFYUIe2GNt2"
      },
      "source": [
        ""
      ],
      "execution_count": null,
      "outputs": []
    },
    {
      "cell_type": "markdown",
      "metadata": {
        "id": "JHkHg6XAXoyK"
      },
      "source": [
        "# Evn"
      ]
    },
    {
      "cell_type": "code",
      "metadata": {
        "id": "WkYXFwcBXJDG"
      },
      "source": [
        "# imports\n",
        "import argparse\n",
        "import os\n",
        "import random\n",
        "import shutil\n",
        "import json\n",
        "import zipfile\n",
        "import math\n",
        "import copy\n",
        "import collections\n",
        "import re\n",
        "\n",
        "import matplotlib.pyplot as plt\n",
        "import pandas as pd\n",
        "import numpy as np\n",
        "# import sentencepiece as spm\n",
        "import tensorflow as tf\n",
        "import tensorflow.keras.backend as K\n",
        "\n",
        "from tqdm.notebook import tqdm, trange"
      ],
      "execution_count": null,
      "outputs": []
    },
    {
      "cell_type": "code",
      "metadata": {
        "id": "BF-NLGZTGvTR",
        "colab": {
          "base_uri": "https://localhost:8080/"
        },
        "outputId": "db78513c-df59-4e3b-c7bf-0c710563ed96"
      },
      "source": [
        "# 환경 설정\n",
        "args = {\n",
        "    # random seed value\n",
        "    \"seed\": 1234\n",
        "}\n",
        "args = argparse.Namespace(**args)\n",
        "\n",
        "print(args)"
      ],
      "execution_count": null,
      "outputs": [
        {
          "output_type": "stream",
          "text": [
            "Namespace(seed=1234)\n"
          ],
          "name": "stdout"
        }
      ]
    },
    {
      "cell_type": "code",
      "metadata": {
        "id": "nvjyruUlXtlR"
      },
      "source": [
        "# random seed 설정\n",
        "random.seed(args.seed)\n",
        "np.random.seed(args.seed)\n",
        "tf.random.set_seed(args.seed)"
      ],
      "execution_count": null,
      "outputs": []
    },
    {
      "cell_type": "code",
      "metadata": {
        "id": "BC3fXkhdYcYt",
        "colab": {
          "base_uri": "https://localhost:8080/"
        },
        "outputId": "834630d7-bed1-44f6-d846-ad90bd7ea4da"
      },
      "source": [
        "# gpu 사용량 확인\n",
        "!nvidia-smi"
      ],
      "execution_count": null,
      "outputs": [
        {
          "output_type": "stream",
          "text": [
            "NVIDIA-SMI has failed because it couldn't communicate with the NVIDIA driver. Make sure that the latest NVIDIA driver is installed and running.\n",
            "\n"
          ],
          "name": "stdout"
        }
      ]
    },
    {
      "cell_type": "markdown",
      "metadata": {
        "id": "zCtWS4vqHLgA"
      },
      "source": [
        "# softmax"
      ]
    },
    {
      "cell_type": "code",
      "metadata": {
        "colab": {
          "base_uri": "https://localhost:8080/"
        },
        "id": "f0XoiljfHNuD",
        "outputId": "3797c72c-2f4f-48dd-e631-935346ce2abb"
      },
      "source": [
        "x = np.random.randn(5,3)\n",
        "x\n",
        "# sample이 5개"
      ],
      "execution_count": null,
      "outputs": [
        {
          "output_type": "execute_result",
          "data": {
            "text/plain": [
              "array([[ 0.47143516, -1.19097569,  1.43270697],\n",
              "       [-0.3126519 , -0.72058873,  0.88716294],\n",
              "       [ 0.85958841, -0.6365235 ,  0.01569637],\n",
              "       [-2.24268495,  1.15003572,  0.99194602],\n",
              "       [ 0.95332413, -2.02125482, -0.33407737]])"
            ]
          },
          "metadata": {
            "tags": []
          },
          "execution_count": 5
        }
      ]
    },
    {
      "cell_type": "code",
      "metadata": {
        "colab": {
          "base_uri": "https://localhost:8080/"
        },
        "id": "F4JAC59BHN1p",
        "outputId": "2cdb1511-b5d7-4597-dbb5-5049cba6db57"
      },
      "source": [
        "exp_x = np.exp(x)\n",
        "exp_x"
      ],
      "execution_count": null,
      "outputs": [
        {
          "output_type": "execute_result",
          "data": {
            "text/plain": [
              "array([[1.6022921 , 0.30392458, 4.19002612],\n",
              "       [0.73150451, 0.48646577, 2.42823083],\n",
              "       [2.36218825, 0.52912874, 1.01582021],\n",
              "       [0.10617305, 3.15830574, 2.69647677],\n",
              "       [2.59431919, 0.13248911, 0.71599839]])"
            ]
          },
          "metadata": {
            "tags": []
          },
          "execution_count": 6
        }
      ]
    },
    {
      "cell_type": "code",
      "metadata": {
        "colab": {
          "base_uri": "https://localhost:8080/"
        },
        "id": "MqLyeFgLHnZH",
        "outputId": "046cd00c-4c8a-491a-82db-1147d70b44a4"
      },
      "source": [
        "sum_x = np.sum(exp_x, axis = -1)\n",
        "sum_x = np.expand_dims(sum_x , axis = -1)\n",
        "\n",
        "a = sum_x.reshape(5,1)\n",
        "a.shape\n",
        "\n",
        "sum_x.shape\n",
        "# 분모 구했고\n",
        "# 이제 나눠야지"
      ],
      "execution_count": null,
      "outputs": [
        {
          "output_type": "execute_result",
          "data": {
            "text/plain": [
              "(5, 1)"
            ]
          },
          "metadata": {
            "tags": []
          },
          "execution_count": 32
        }
      ]
    },
    {
      "cell_type": "code",
      "metadata": {
        "colab": {
          "base_uri": "https://localhost:8080/"
        },
        "id": "g7TyvLpYH5Wh",
        "outputId": "17e9f871-dac4-4517-acc6-ba0c72fa5878"
      },
      "source": [
        "y_pred = exp_x / sum_x\n",
        "y_pred\n"
      ],
      "execution_count": null,
      "outputs": [
        {
          "output_type": "execute_result",
          "data": {
            "text/plain": [
              "array([[0.26283272, 0.04985441, 0.68731287],\n",
              "       [0.200621  , 0.13341715, 0.66596185],\n",
              "       [0.60458288, 0.1354262 , 0.25999092],\n",
              "       [0.01781141, 0.52983212, 0.45235646],\n",
              "       [0.75354774, 0.03848288, 0.20796938]])"
            ]
          },
          "metadata": {
            "tags": []
          },
          "execution_count": 33
        }
      ]
    },
    {
      "cell_type": "code",
      "metadata": {
        "colab": {
          "base_uri": "https://localhost:8080/"
        },
        "id": "D0UeEzPTKE9k",
        "outputId": "d8742b9a-d58e-4c1b-cebf-8cb2859c3cb4"
      },
      "source": [
        "np.sum(y_pred, axis = -1)\n",
        "#확인 ㅇㅋ"
      ],
      "execution_count": null,
      "outputs": [
        {
          "output_type": "execute_result",
          "data": {
            "text/plain": [
              "array([1., 1., 1., 1., 1.])"
            ]
          },
          "metadata": {
            "tags": []
          },
          "execution_count": 34
        }
      ]
    },
    {
      "cell_type": "code",
      "metadata": {
        "colab": {
          "base_uri": "https://localhost:8080/"
        },
        "id": "jBcuDWPYIFk6",
        "outputId": "d73492e0-09ab-4c9f-9774-cc645d4a8498"
      },
      "source": [
        "tf.nn.softmax(x)\n",
        "# 값 같네!"
      ],
      "execution_count": null,
      "outputs": [
        {
          "output_type": "execute_result",
          "data": {
            "text/plain": [
              "<tf.Tensor: shape=(5, 3), dtype=float64, numpy=\n",
              "array([[0.26283272, 0.04985441, 0.68731287],\n",
              "       [0.200621  , 0.13341715, 0.66596185],\n",
              "       [0.60458288, 0.1354262 , 0.25999092],\n",
              "       [0.01781141, 0.52983212, 0.45235646],\n",
              "       [0.75354774, 0.03848288, 0.20796938]])>"
            ]
          },
          "metadata": {
            "tags": []
          },
          "execution_count": 24
        }
      ]
    },
    {
      "cell_type": "code",
      "metadata": {
        "colab": {
          "base_uri": "https://localhost:8080/"
        },
        "id": "NJ4WXKBjKBg9",
        "outputId": "2de06f0e-c631-40d4-eb91-d1a41e1e9666"
      },
      "source": [
        "log_y_pred = np.log(y_pred)\n",
        "log_y_pred"
      ],
      "execution_count": null,
      "outputs": [
        {
          "output_type": "execute_result",
          "data": {
            "text/plain": [
              "array([[-1.33623748, -2.99864834, -0.37496568],\n",
              "       [-1.60633773, -2.01427457, -0.40652289],\n",
              "       [-0.50321652, -1.99932844, -1.34710856],\n",
              "       [-4.02791575, -0.63519507, -0.79328478],\n",
              "       [-0.28296291, -3.25754186, -1.5703644 ]])"
            ]
          },
          "metadata": {
            "tags": []
          },
          "execution_count": 35
        }
      ]
    },
    {
      "cell_type": "code",
      "metadata": {
        "id": "R7A4qI44KTJ6"
      },
      "source": [
        "y_true = np.array([\n",
        "                   [0,0,1],\n",
        "                   [1,0,0],\n",
        "                   [0,0,1],\n",
        "                   [0,1,0],\n",
        "                   [1,0,0]\n",
        "])"
      ],
      "execution_count": null,
      "outputs": []
    },
    {
      "cell_type": "code",
      "metadata": {
        "colab": {
          "base_uri": "https://localhost:8080/"
        },
        "id": "ZKEsQP7QKg6G",
        "outputId": "8b4c0acd-8482-4d26-8076-6e90194495e8"
      },
      "source": [
        "ce = - (y_true * log_y_pred)\n",
        "ce"
      ],
      "execution_count": null,
      "outputs": [
        {
          "output_type": "execute_result",
          "data": {
            "text/plain": [
              "array([[0.        , 0.        , 0.37496568],\n",
              "       [1.60633773, 0.        , 0.        ],\n",
              "       [0.        , 0.        , 1.34710856],\n",
              "       [0.        , 0.63519507, 0.        ],\n",
              "       [0.28296291, 0.        , 0.        ]])"
            ]
          },
          "metadata": {
            "tags": []
          },
          "execution_count": 37
        }
      ]
    },
    {
      "cell_type": "code",
      "metadata": {
        "colab": {
          "base_uri": "https://localhost:8080/"
        },
        "id": "W6D6xvrIKujY",
        "outputId": "cca9030b-4449-4346-8d07-f8d9dee74bf4"
      },
      "source": [
        "ce1 = np.sum(ce, axis = -1)\n",
        "ce1"
      ],
      "execution_count": null,
      "outputs": [
        {
          "output_type": "execute_result",
          "data": {
            "text/plain": [
              "array([0.37496568, 1.60633773, 1.34710856, 0.63519507, 0.28296291])"
            ]
          },
          "metadata": {
            "tags": []
          },
          "execution_count": 38
        }
      ]
    },
    {
      "cell_type": "code",
      "metadata": {
        "colab": {
          "base_uri": "https://localhost:8080/"
        },
        "id": "Ru6Pnxn9KyF3",
        "outputId": "f971714f-53b8-4973-80e1-e13a3bb2dbdb"
      },
      "source": [
        "np.mean(ce1)"
      ],
      "execution_count": null,
      "outputs": [
        {
          "output_type": "execute_result",
          "data": {
            "text/plain": [
              "0.8493139901628297"
            ]
          },
          "metadata": {
            "tags": []
          },
          "execution_count": 39
        }
      ]
    },
    {
      "cell_type": "code",
      "metadata": {
        "colab": {
          "base_uri": "https://localhost:8080/"
        },
        "id": "YjAFSGGQK0jb",
        "outputId": "d9db397d-5886-479b-9860-b7b284144adb"
      },
      "source": [
        "tf.keras.losses.CategoricalCrossentropy()(y_true, y_pred)"
      ],
      "execution_count": null,
      "outputs": [
        {
          "output_type": "execute_result",
          "data": {
            "text/plain": [
              "<tf.Tensor: shape=(), dtype=float64, numpy=0.8493140339851379>"
            ]
          },
          "metadata": {
            "tags": []
          },
          "execution_count": 40
        }
      ]
    },
    {
      "cell_type": "code",
      "metadata": {
        "colab": {
          "base_uri": "https://localhost:8080/"
        },
        "id": "TAM_nnVuK0wK",
        "outputId": "976ab715-241a-4b23-f843-4b323703a295"
      },
      "source": [
        "# 확률 구하기 전 값가지고 바로 하겠다\n",
        "# from_logit을 통해 x에서 바로 구하겠다\n",
        "tf.keras.losses.CategoricalCrossentropy(from_logits=True)(y_true, x)"
      ],
      "execution_count": null,
      "outputs": [
        {
          "output_type": "execute_result",
          "data": {
            "text/plain": [
              "<tf.Tensor: shape=(), dtype=float64, numpy=0.8493140339851379>"
            ]
          },
          "metadata": {
            "tags": []
          },
          "execution_count": 41
        }
      ]
    },
    {
      "cell_type": "code",
      "metadata": {
        "colab": {
          "base_uri": "https://localhost:8080/"
        },
        "id": "8OTTMI32OqSS",
        "outputId": "d0377868-aab9-4fd2-b115-4c24a70648d7"
      },
      "source": [
        "# 굳이 ont-hot vector로 안만들어줘도 sparse categorical cross entropy로 한다다\n",
        "\n",
        "tf.keras.losses.SparseCategoricalCrossentropy(from_logits=True)([2,0,2,1,0], x)\n"
      ],
      "execution_count": null,
      "outputs": [
        {
          "output_type": "execute_result",
          "data": {
            "text/plain": [
              "<tf.Tensor: shape=(), dtype=float64, numpy=0.8493140339851379>"
            ]
          },
          "metadata": {
            "tags": []
          },
          "execution_count": 43
        }
      ]
    },
    {
      "cell_type": "markdown",
      "metadata": {
        "id": "zfECPIoIJ-Ra"
      },
      "source": [
        ""
      ]
    },
    {
      "cell_type": "markdown",
      "metadata": {
        "id": "eKWs0PZEzyD5"
      },
      "source": [
        ""
      ]
    }
  ]
}