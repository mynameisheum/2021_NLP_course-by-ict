{
  "nbformat": 4,
  "nbformat_minor": 0,
  "metadata": {
    "colab": {
      "name": "32-01-실습.ipynb의 사본",
      "provenance": [],
      "collapsed_sections": [
        "6dfJPT-2XMTB",
        "JHkHg6XAXoyK",
        "097BJVHG_QfR",
        "0TyJlt-k7yzW",
        "Xur3d8B1mDtq",
        "FDOF4yLnIOS7",
        "QEWYzCnwIxdd",
        "5J7mKomVJrcR",
        "MueuVweArNg5",
        "uSs8BOkarNg7",
        "mUww_hyZaSnH",
        "ffFq5_Avbsq-"
      ]
    },
    "kernelspec": {
      "name": "python3",
      "display_name": "Python 3"
    },
    "language_info": {
      "name": "python"
    },
    "accelerator": "GPU",
    "widgets": {
      "application/vnd.jupyter.widget-state+json": {
        "36200d9788f344879a34976ad54c18f2": {
          "model_module": "@jupyter-widgets/controls",
          "model_name": "HBoxModel",
          "state": {
            "_view_name": "HBoxView",
            "_dom_classes": [],
            "_model_name": "HBoxModel",
            "_view_module": "@jupyter-widgets/controls",
            "_model_module_version": "1.5.0",
            "_view_count": null,
            "_view_module_version": "1.5.0",
            "box_style": "",
            "layout": "IPY_MODEL_cac4ef71c530428fb1c644c5b2a98a8c",
            "_model_module": "@jupyter-widgets/controls",
            "children": [
              "IPY_MODEL_07a9ad84a76044528621d9a37cd07e57",
              "IPY_MODEL_c74570aaa2a1462386395778ca60442b"
            ]
          }
        },
        "cac4ef71c530428fb1c644c5b2a98a8c": {
          "model_module": "@jupyter-widgets/base",
          "model_name": "LayoutModel",
          "state": {
            "_view_name": "LayoutView",
            "grid_template_rows": null,
            "right": null,
            "justify_content": null,
            "_view_module": "@jupyter-widgets/base",
            "overflow": null,
            "_model_module_version": "1.2.0",
            "_view_count": null,
            "flex_flow": null,
            "width": null,
            "min_width": null,
            "border": null,
            "align_items": null,
            "bottom": null,
            "_model_module": "@jupyter-widgets/base",
            "top": null,
            "grid_column": null,
            "overflow_y": null,
            "overflow_x": null,
            "grid_auto_flow": null,
            "grid_area": null,
            "grid_template_columns": null,
            "flex": null,
            "_model_name": "LayoutModel",
            "justify_items": null,
            "grid_row": null,
            "max_height": null,
            "align_content": null,
            "visibility": null,
            "align_self": null,
            "height": null,
            "min_height": null,
            "padding": null,
            "grid_auto_rows": null,
            "grid_gap": null,
            "max_width": null,
            "order": null,
            "_view_module_version": "1.2.0",
            "grid_template_areas": null,
            "object_position": null,
            "object_fit": null,
            "grid_auto_columns": null,
            "margin": null,
            "display": null,
            "left": null
          }
        },
        "07a9ad84a76044528621d9a37cd07e57": {
          "model_module": "@jupyter-widgets/controls",
          "model_name": "FloatProgressModel",
          "state": {
            "_view_name": "ProgressView",
            "style": "IPY_MODEL_3c8f88c6125f4e908d3a01aabb9942ac",
            "_dom_classes": [],
            "description": "100%",
            "_model_name": "FloatProgressModel",
            "bar_style": "success",
            "max": 935537,
            "_view_module": "@jupyter-widgets/controls",
            "_model_module_version": "1.5.0",
            "value": 935537,
            "_view_count": null,
            "_view_module_version": "1.5.0",
            "orientation": "horizontal",
            "min": 0,
            "description_tooltip": null,
            "_model_module": "@jupyter-widgets/controls",
            "layout": "IPY_MODEL_e62bafbcbe8644eebc234b08d65af66a"
          }
        },
        "c74570aaa2a1462386395778ca60442b": {
          "model_module": "@jupyter-widgets/controls",
          "model_name": "HTMLModel",
          "state": {
            "_view_name": "HTMLView",
            "style": "IPY_MODEL_bf12e82e7cb84cb0ba4c3295f1ed706d",
            "_dom_classes": [],
            "description": "",
            "_model_name": "HTMLModel",
            "placeholder": "​",
            "_view_module": "@jupyter-widgets/controls",
            "_model_module_version": "1.5.0",
            "value": " 935537/935537 [01:46&lt;00:00, 8820.79it/s]",
            "_view_count": null,
            "_view_module_version": "1.5.0",
            "description_tooltip": null,
            "_model_module": "@jupyter-widgets/controls",
            "layout": "IPY_MODEL_41ce9f1881b44837b83dd6dc31841f5f"
          }
        },
        "3c8f88c6125f4e908d3a01aabb9942ac": {
          "model_module": "@jupyter-widgets/controls",
          "model_name": "ProgressStyleModel",
          "state": {
            "_view_name": "StyleView",
            "_model_name": "ProgressStyleModel",
            "description_width": "initial",
            "_view_module": "@jupyter-widgets/base",
            "_model_module_version": "1.5.0",
            "_view_count": null,
            "_view_module_version": "1.2.0",
            "bar_color": null,
            "_model_module": "@jupyter-widgets/controls"
          }
        },
        "e62bafbcbe8644eebc234b08d65af66a": {
          "model_module": "@jupyter-widgets/base",
          "model_name": "LayoutModel",
          "state": {
            "_view_name": "LayoutView",
            "grid_template_rows": null,
            "right": null,
            "justify_content": null,
            "_view_module": "@jupyter-widgets/base",
            "overflow": null,
            "_model_module_version": "1.2.0",
            "_view_count": null,
            "flex_flow": null,
            "width": null,
            "min_width": null,
            "border": null,
            "align_items": null,
            "bottom": null,
            "_model_module": "@jupyter-widgets/base",
            "top": null,
            "grid_column": null,
            "overflow_y": null,
            "overflow_x": null,
            "grid_auto_flow": null,
            "grid_area": null,
            "grid_template_columns": null,
            "flex": null,
            "_model_name": "LayoutModel",
            "justify_items": null,
            "grid_row": null,
            "max_height": null,
            "align_content": null,
            "visibility": null,
            "align_self": null,
            "height": null,
            "min_height": null,
            "padding": null,
            "grid_auto_rows": null,
            "grid_gap": null,
            "max_width": null,
            "order": null,
            "_view_module_version": "1.2.0",
            "grid_template_areas": null,
            "object_position": null,
            "object_fit": null,
            "grid_auto_columns": null,
            "margin": null,
            "display": null,
            "left": null
          }
        },
        "bf12e82e7cb84cb0ba4c3295f1ed706d": {
          "model_module": "@jupyter-widgets/controls",
          "model_name": "DescriptionStyleModel",
          "state": {
            "_view_name": "StyleView",
            "_model_name": "DescriptionStyleModel",
            "description_width": "",
            "_view_module": "@jupyter-widgets/base",
            "_model_module_version": "1.5.0",
            "_view_count": null,
            "_view_module_version": "1.2.0",
            "_model_module": "@jupyter-widgets/controls"
          }
        },
        "41ce9f1881b44837b83dd6dc31841f5f": {
          "model_module": "@jupyter-widgets/base",
          "model_name": "LayoutModel",
          "state": {
            "_view_name": "LayoutView",
            "grid_template_rows": null,
            "right": null,
            "justify_content": null,
            "_view_module": "@jupyter-widgets/base",
            "overflow": null,
            "_model_module_version": "1.2.0",
            "_view_count": null,
            "flex_flow": null,
            "width": null,
            "min_width": null,
            "border": null,
            "align_items": null,
            "bottom": null,
            "_model_module": "@jupyter-widgets/base",
            "top": null,
            "grid_column": null,
            "overflow_y": null,
            "overflow_x": null,
            "grid_auto_flow": null,
            "grid_area": null,
            "grid_template_columns": null,
            "flex": null,
            "_model_name": "LayoutModel",
            "justify_items": null,
            "grid_row": null,
            "max_height": null,
            "align_content": null,
            "visibility": null,
            "align_self": null,
            "height": null,
            "min_height": null,
            "padding": null,
            "grid_auto_rows": null,
            "grid_gap": null,
            "max_width": null,
            "order": null,
            "_view_module_version": "1.2.0",
            "grid_template_areas": null,
            "object_position": null,
            "object_fit": null,
            "grid_auto_columns": null,
            "margin": null,
            "display": null,
            "left": null
          }
        },
        "b2cd35a58acf44ae865f657de6ecb213": {
          "model_module": "@jupyter-widgets/controls",
          "model_name": "HBoxModel",
          "state": {
            "_view_name": "HBoxView",
            "_dom_classes": [],
            "_model_name": "HBoxModel",
            "_view_module": "@jupyter-widgets/controls",
            "_model_module_version": "1.5.0",
            "_view_count": null,
            "_view_module_version": "1.5.0",
            "box_style": "",
            "layout": "IPY_MODEL_0a77013f0b454b07a6dc37214e766c47",
            "_model_module": "@jupyter-widgets/controls",
            "children": [
              "IPY_MODEL_14e8c60a9e514d22ae3ddc34a91ad1d9",
              "IPY_MODEL_99ee5e9087224f18b10ec5aafe296b3b"
            ]
          }
        },
        "0a77013f0b454b07a6dc37214e766c47": {
          "model_module": "@jupyter-widgets/base",
          "model_name": "LayoutModel",
          "state": {
            "_view_name": "LayoutView",
            "grid_template_rows": null,
            "right": null,
            "justify_content": null,
            "_view_module": "@jupyter-widgets/base",
            "overflow": null,
            "_model_module_version": "1.2.0",
            "_view_count": null,
            "flex_flow": null,
            "width": null,
            "min_width": null,
            "border": null,
            "align_items": null,
            "bottom": null,
            "_model_module": "@jupyter-widgets/base",
            "top": null,
            "grid_column": null,
            "overflow_y": null,
            "overflow_x": null,
            "grid_auto_flow": null,
            "grid_area": null,
            "grid_template_columns": null,
            "flex": null,
            "_model_name": "LayoutModel",
            "justify_items": null,
            "grid_row": null,
            "max_height": null,
            "align_content": null,
            "visibility": null,
            "align_self": null,
            "height": null,
            "min_height": null,
            "padding": null,
            "grid_auto_rows": null,
            "grid_gap": null,
            "max_width": null,
            "order": null,
            "_view_module_version": "1.2.0",
            "grid_template_areas": null,
            "object_position": null,
            "object_fit": null,
            "grid_auto_columns": null,
            "margin": null,
            "display": null,
            "left": null
          }
        },
        "14e8c60a9e514d22ae3ddc34a91ad1d9": {
          "model_module": "@jupyter-widgets/controls",
          "model_name": "FloatProgressModel",
          "state": {
            "_view_name": "ProgressView",
            "style": "IPY_MODEL_032b10a3b63348a6bdc9931c6ecf92c7",
            "_dom_classes": [],
            "description": "100%",
            "_model_name": "FloatProgressModel",
            "bar_style": "success",
            "max": 1570,
            "_view_module": "@jupyter-widgets/controls",
            "_model_module_version": "1.5.0",
            "value": 1570,
            "_view_count": null,
            "_view_module_version": "1.5.0",
            "orientation": "horizontal",
            "min": 0,
            "description_tooltip": null,
            "_model_module": "@jupyter-widgets/controls",
            "layout": "IPY_MODEL_c7360469ee694e979272563b38713891"
          }
        },
        "99ee5e9087224f18b10ec5aafe296b3b": {
          "model_module": "@jupyter-widgets/controls",
          "model_name": "HTMLModel",
          "state": {
            "_view_name": "HTMLView",
            "style": "IPY_MODEL_6bbcf583cd124c719d17a56926820d9e",
            "_dom_classes": [],
            "description": "",
            "_model_name": "HTMLModel",
            "placeholder": "​",
            "_view_module": "@jupyter-widgets/controls",
            "_model_module_version": "1.5.0",
            "value": " 1570/1570 [00:00&lt;00:00, 2940.04it/s]",
            "_view_count": null,
            "_view_module_version": "1.5.0",
            "description_tooltip": null,
            "_model_module": "@jupyter-widgets/controls",
            "layout": "IPY_MODEL_df40c0e0643247cc89bff3fc545efbb8"
          }
        },
        "032b10a3b63348a6bdc9931c6ecf92c7": {
          "model_module": "@jupyter-widgets/controls",
          "model_name": "ProgressStyleModel",
          "state": {
            "_view_name": "StyleView",
            "_model_name": "ProgressStyleModel",
            "description_width": "initial",
            "_view_module": "@jupyter-widgets/base",
            "_model_module_version": "1.5.0",
            "_view_count": null,
            "_view_module_version": "1.2.0",
            "bar_color": null,
            "_model_module": "@jupyter-widgets/controls"
          }
        },
        "c7360469ee694e979272563b38713891": {
          "model_module": "@jupyter-widgets/base",
          "model_name": "LayoutModel",
          "state": {
            "_view_name": "LayoutView",
            "grid_template_rows": null,
            "right": null,
            "justify_content": null,
            "_view_module": "@jupyter-widgets/base",
            "overflow": null,
            "_model_module_version": "1.2.0",
            "_view_count": null,
            "flex_flow": null,
            "width": null,
            "min_width": null,
            "border": null,
            "align_items": null,
            "bottom": null,
            "_model_module": "@jupyter-widgets/base",
            "top": null,
            "grid_column": null,
            "overflow_y": null,
            "overflow_x": null,
            "grid_auto_flow": null,
            "grid_area": null,
            "grid_template_columns": null,
            "flex": null,
            "_model_name": "LayoutModel",
            "justify_items": null,
            "grid_row": null,
            "max_height": null,
            "align_content": null,
            "visibility": null,
            "align_self": null,
            "height": null,
            "min_height": null,
            "padding": null,
            "grid_auto_rows": null,
            "grid_gap": null,
            "max_width": null,
            "order": null,
            "_view_module_version": "1.2.0",
            "grid_template_areas": null,
            "object_position": null,
            "object_fit": null,
            "grid_auto_columns": null,
            "margin": null,
            "display": null,
            "left": null
          }
        },
        "6bbcf583cd124c719d17a56926820d9e": {
          "model_module": "@jupyter-widgets/controls",
          "model_name": "DescriptionStyleModel",
          "state": {
            "_view_name": "StyleView",
            "_model_name": "DescriptionStyleModel",
            "description_width": "",
            "_view_module": "@jupyter-widgets/base",
            "_model_module_version": "1.5.0",
            "_view_count": null,
            "_view_module_version": "1.2.0",
            "_model_module": "@jupyter-widgets/controls"
          }
        },
        "df40c0e0643247cc89bff3fc545efbb8": {
          "model_module": "@jupyter-widgets/base",
          "model_name": "LayoutModel",
          "state": {
            "_view_name": "LayoutView",
            "grid_template_rows": null,
            "right": null,
            "justify_content": null,
            "_view_module": "@jupyter-widgets/base",
            "overflow": null,
            "_model_module_version": "1.2.0",
            "_view_count": null,
            "flex_flow": null,
            "width": null,
            "min_width": null,
            "border": null,
            "align_items": null,
            "bottom": null,
            "_model_module": "@jupyter-widgets/base",
            "top": null,
            "grid_column": null,
            "overflow_y": null,
            "overflow_x": null,
            "grid_auto_flow": null,
            "grid_area": null,
            "grid_template_columns": null,
            "flex": null,
            "_model_name": "LayoutModel",
            "justify_items": null,
            "grid_row": null,
            "max_height": null,
            "align_content": null,
            "visibility": null,
            "align_self": null,
            "height": null,
            "min_height": null,
            "padding": null,
            "grid_auto_rows": null,
            "grid_gap": null,
            "max_width": null,
            "order": null,
            "_view_module_version": "1.2.0",
            "grid_template_areas": null,
            "object_position": null,
            "object_fit": null,
            "grid_auto_columns": null,
            "margin": null,
            "display": null,
            "left": null
          }
        },
        "615d29261fc14ae893ad2243bacd5730": {
          "model_module": "@jupyter-widgets/controls",
          "model_name": "HBoxModel",
          "state": {
            "_view_name": "HBoxView",
            "_dom_classes": [],
            "_model_name": "HBoxModel",
            "_view_module": "@jupyter-widgets/controls",
            "_model_module_version": "1.5.0",
            "_view_count": null,
            "_view_module_version": "1.5.0",
            "box_style": "",
            "layout": "IPY_MODEL_fea2750f05854a438d7ae3cd5e531f41",
            "_model_module": "@jupyter-widgets/controls",
            "children": [
              "IPY_MODEL_7049a8ef591341cc88226f23679faa03",
              "IPY_MODEL_a486a24bb53d461c9d16eafc2c22fe86"
            ]
          }
        },
        "fea2750f05854a438d7ae3cd5e531f41": {
          "model_module": "@jupyter-widgets/base",
          "model_name": "LayoutModel",
          "state": {
            "_view_name": "LayoutView",
            "grid_template_rows": null,
            "right": null,
            "justify_content": null,
            "_view_module": "@jupyter-widgets/base",
            "overflow": null,
            "_model_module_version": "1.2.0",
            "_view_count": null,
            "flex_flow": null,
            "width": null,
            "min_width": null,
            "border": null,
            "align_items": null,
            "bottom": null,
            "_model_module": "@jupyter-widgets/base",
            "top": null,
            "grid_column": null,
            "overflow_y": null,
            "overflow_x": null,
            "grid_auto_flow": null,
            "grid_area": null,
            "grid_template_columns": null,
            "flex": null,
            "_model_name": "LayoutModel",
            "justify_items": null,
            "grid_row": null,
            "max_height": null,
            "align_content": null,
            "visibility": null,
            "align_self": null,
            "height": null,
            "min_height": null,
            "padding": null,
            "grid_auto_rows": null,
            "grid_gap": null,
            "max_width": null,
            "order": null,
            "_view_module_version": "1.2.0",
            "grid_template_areas": null,
            "object_position": null,
            "object_fit": null,
            "grid_auto_columns": null,
            "margin": null,
            "display": null,
            "left": null
          }
        },
        "7049a8ef591341cc88226f23679faa03": {
          "model_module": "@jupyter-widgets/controls",
          "model_name": "FloatProgressModel",
          "state": {
            "_view_name": "ProgressView",
            "style": "IPY_MODEL_fbec3904ec5b43aea8f8a2202a747765",
            "_dom_classes": [],
            "description": "100%",
            "_model_name": "FloatProgressModel",
            "bar_style": "success",
            "max": 4954,
            "_view_module": "@jupyter-widgets/controls",
            "_model_module_version": "1.5.0",
            "value": 4954,
            "_view_count": null,
            "_view_module_version": "1.5.0",
            "orientation": "horizontal",
            "min": 0,
            "description_tooltip": null,
            "_model_module": "@jupyter-widgets/controls",
            "layout": "IPY_MODEL_23c05878937142d58ece848975bad968"
          }
        },
        "a486a24bb53d461c9d16eafc2c22fe86": {
          "model_module": "@jupyter-widgets/controls",
          "model_name": "HTMLModel",
          "state": {
            "_view_name": "HTMLView",
            "style": "IPY_MODEL_0ddc7aeb5d6f45929c8f541dbcce8b6f",
            "_dom_classes": [],
            "description": "",
            "_model_name": "HTMLModel",
            "placeholder": "​",
            "_view_module": "@jupyter-widgets/controls",
            "_model_module_version": "1.5.0",
            "value": " 4954/4954 [00:00&lt;00:00, 8127.96it/s]",
            "_view_count": null,
            "_view_module_version": "1.5.0",
            "description_tooltip": null,
            "_model_module": "@jupyter-widgets/controls",
            "layout": "IPY_MODEL_4e95742b96854e84baf31ba75f995335"
          }
        },
        "fbec3904ec5b43aea8f8a2202a747765": {
          "model_module": "@jupyter-widgets/controls",
          "model_name": "ProgressStyleModel",
          "state": {
            "_view_name": "StyleView",
            "_model_name": "ProgressStyleModel",
            "description_width": "initial",
            "_view_module": "@jupyter-widgets/base",
            "_model_module_version": "1.5.0",
            "_view_count": null,
            "_view_module_version": "1.2.0",
            "bar_color": null,
            "_model_module": "@jupyter-widgets/controls"
          }
        },
        "23c05878937142d58ece848975bad968": {
          "model_module": "@jupyter-widgets/base",
          "model_name": "LayoutModel",
          "state": {
            "_view_name": "LayoutView",
            "grid_template_rows": null,
            "right": null,
            "justify_content": null,
            "_view_module": "@jupyter-widgets/base",
            "overflow": null,
            "_model_module_version": "1.2.0",
            "_view_count": null,
            "flex_flow": null,
            "width": null,
            "min_width": null,
            "border": null,
            "align_items": null,
            "bottom": null,
            "_model_module": "@jupyter-widgets/base",
            "top": null,
            "grid_column": null,
            "overflow_y": null,
            "overflow_x": null,
            "grid_auto_flow": null,
            "grid_area": null,
            "grid_template_columns": null,
            "flex": null,
            "_model_name": "LayoutModel",
            "justify_items": null,
            "grid_row": null,
            "max_height": null,
            "align_content": null,
            "visibility": null,
            "align_self": null,
            "height": null,
            "min_height": null,
            "padding": null,
            "grid_auto_rows": null,
            "grid_gap": null,
            "max_width": null,
            "order": null,
            "_view_module_version": "1.2.0",
            "grid_template_areas": null,
            "object_position": null,
            "object_fit": null,
            "grid_auto_columns": null,
            "margin": null,
            "display": null,
            "left": null
          }
        },
        "0ddc7aeb5d6f45929c8f541dbcce8b6f": {
          "model_module": "@jupyter-widgets/controls",
          "model_name": "DescriptionStyleModel",
          "state": {
            "_view_name": "StyleView",
            "_model_name": "DescriptionStyleModel",
            "description_width": "",
            "_view_module": "@jupyter-widgets/base",
            "_model_module_version": "1.5.0",
            "_view_count": null,
            "_view_module_version": "1.2.0",
            "_model_module": "@jupyter-widgets/controls"
          }
        },
        "4e95742b96854e84baf31ba75f995335": {
          "model_module": "@jupyter-widgets/base",
          "model_name": "LayoutModel",
          "state": {
            "_view_name": "LayoutView",
            "grid_template_rows": null,
            "right": null,
            "justify_content": null,
            "_view_module": "@jupyter-widgets/base",
            "overflow": null,
            "_model_module_version": "1.2.0",
            "_view_count": null,
            "flex_flow": null,
            "width": null,
            "min_width": null,
            "border": null,
            "align_items": null,
            "bottom": null,
            "_model_module": "@jupyter-widgets/base",
            "top": null,
            "grid_column": null,
            "overflow_y": null,
            "overflow_x": null,
            "grid_auto_flow": null,
            "grid_area": null,
            "grid_template_columns": null,
            "flex": null,
            "_model_name": "LayoutModel",
            "justify_items": null,
            "grid_row": null,
            "max_height": null,
            "align_content": null,
            "visibility": null,
            "align_self": null,
            "height": null,
            "min_height": null,
            "padding": null,
            "grid_auto_rows": null,
            "grid_gap": null,
            "max_width": null,
            "order": null,
            "_view_module_version": "1.2.0",
            "grid_template_areas": null,
            "object_position": null,
            "object_fit": null,
            "grid_auto_columns": null,
            "margin": null,
            "display": null,
            "left": null
          }
        }
      }
    }
  },
  "cells": [
    {
      "cell_type": "markdown",
      "metadata": {
        "id": "6dfJPT-2XMTB"
      },
      "source": [
        "# Install*"
      ]
    },
    {
      "cell_type": "code",
      "metadata": {
        "colab": {
          "base_uri": "https://localhost:8080/"
        },
        "id": "C3G7hU64f7SG",
        "outputId": "049af0dd-f22c-4bf7-b489-d1b3fef9553b"
      },
      "source": [
        "# Tokenizer library 설치\n",
        "!pip install sentencepiece"
      ],
      "execution_count": null,
      "outputs": [
        {
          "output_type": "stream",
          "text": [
            "Collecting sentencepiece\n",
            "\u001b[?25l  Downloading https://files.pythonhosted.org/packages/f5/99/e0808cb947ba10f575839c43e8fafc9cc44e4a7a2c8f79c60db48220a577/sentencepiece-0.1.95-cp37-cp37m-manylinux2014_x86_64.whl (1.2MB)\n",
            "\r\u001b[K     |▎                               | 10kB 19.8MB/s eta 0:00:01\r\u001b[K     |▌                               | 20kB 24.1MB/s eta 0:00:01\r\u001b[K     |▉                               | 30kB 27.0MB/s eta 0:00:01\r\u001b[K     |█                               | 40kB 23.6MB/s eta 0:00:01\r\u001b[K     |█▍                              | 51kB 15.0MB/s eta 0:00:01\r\u001b[K     |█▋                              | 61kB 16.5MB/s eta 0:00:01\r\u001b[K     |██                              | 71kB 15.0MB/s eta 0:00:01\r\u001b[K     |██▏                             | 81kB 14.7MB/s eta 0:00:01\r\u001b[K     |██▌                             | 92kB 15.8MB/s eta 0:00:01\r\u001b[K     |██▊                             | 102kB 14.2MB/s eta 0:00:01\r\u001b[K     |███                             | 112kB 14.2MB/s eta 0:00:01\r\u001b[K     |███▎                            | 122kB 14.2MB/s eta 0:00:01\r\u001b[K     |███▌                            | 133kB 14.2MB/s eta 0:00:01\r\u001b[K     |███▉                            | 143kB 14.2MB/s eta 0:00:01\r\u001b[K     |████                            | 153kB 14.2MB/s eta 0:00:01\r\u001b[K     |████▍                           | 163kB 14.2MB/s eta 0:00:01\r\u001b[K     |████▋                           | 174kB 14.2MB/s eta 0:00:01\r\u001b[K     |█████                           | 184kB 14.2MB/s eta 0:00:01\r\u001b[K     |█████▏                          | 194kB 14.2MB/s eta 0:00:01\r\u001b[K     |█████▌                          | 204kB 14.2MB/s eta 0:00:01\r\u001b[K     |█████▊                          | 215kB 14.2MB/s eta 0:00:01\r\u001b[K     |██████                          | 225kB 14.2MB/s eta 0:00:01\r\u001b[K     |██████▎                         | 235kB 14.2MB/s eta 0:00:01\r\u001b[K     |██████▌                         | 245kB 14.2MB/s eta 0:00:01\r\u001b[K     |██████▉                         | 256kB 14.2MB/s eta 0:00:01\r\u001b[K     |███████                         | 266kB 14.2MB/s eta 0:00:01\r\u001b[K     |███████▍                        | 276kB 14.2MB/s eta 0:00:01\r\u001b[K     |███████▋                        | 286kB 14.2MB/s eta 0:00:01\r\u001b[K     |████████                        | 296kB 14.2MB/s eta 0:00:01\r\u001b[K     |████████▏                       | 307kB 14.2MB/s eta 0:00:01\r\u001b[K     |████████▍                       | 317kB 14.2MB/s eta 0:00:01\r\u001b[K     |████████▊                       | 327kB 14.2MB/s eta 0:00:01\r\u001b[K     |█████████                       | 337kB 14.2MB/s eta 0:00:01\r\u001b[K     |█████████▎                      | 348kB 14.2MB/s eta 0:00:01\r\u001b[K     |█████████▌                      | 358kB 14.2MB/s eta 0:00:01\r\u001b[K     |█████████▉                      | 368kB 14.2MB/s eta 0:00:01\r\u001b[K     |██████████                      | 378kB 14.2MB/s eta 0:00:01\r\u001b[K     |██████████▍                     | 389kB 14.2MB/s eta 0:00:01\r\u001b[K     |██████████▋                     | 399kB 14.2MB/s eta 0:00:01\r\u001b[K     |███████████                     | 409kB 14.2MB/s eta 0:00:01\r\u001b[K     |███████████▏                    | 419kB 14.2MB/s eta 0:00:01\r\u001b[K     |███████████▍                    | 430kB 14.2MB/s eta 0:00:01\r\u001b[K     |███████████▊                    | 440kB 14.2MB/s eta 0:00:01\r\u001b[K     |████████████                    | 450kB 14.2MB/s eta 0:00:01\r\u001b[K     |████████████▎                   | 460kB 14.2MB/s eta 0:00:01\r\u001b[K     |████████████▌                   | 471kB 14.2MB/s eta 0:00:01\r\u001b[K     |████████████▉                   | 481kB 14.2MB/s eta 0:00:01\r\u001b[K     |█████████████                   | 491kB 14.2MB/s eta 0:00:01\r\u001b[K     |█████████████▍                  | 501kB 14.2MB/s eta 0:00:01\r\u001b[K     |█████████████▋                  | 512kB 14.2MB/s eta 0:00:01\r\u001b[K     |█████████████▉                  | 522kB 14.2MB/s eta 0:00:01\r\u001b[K     |██████████████▏                 | 532kB 14.2MB/s eta 0:00:01\r\u001b[K     |██████████████▍                 | 542kB 14.2MB/s eta 0:00:01\r\u001b[K     |██████████████▊                 | 552kB 14.2MB/s eta 0:00:01\r\u001b[K     |███████████████                 | 563kB 14.2MB/s eta 0:00:01\r\u001b[K     |███████████████▎                | 573kB 14.2MB/s eta 0:00:01\r\u001b[K     |███████████████▌                | 583kB 14.2MB/s eta 0:00:01\r\u001b[K     |███████████████▉                | 593kB 14.2MB/s eta 0:00:01\r\u001b[K     |████████████████                | 604kB 14.2MB/s eta 0:00:01\r\u001b[K     |████████████████▍               | 614kB 14.2MB/s eta 0:00:01\r\u001b[K     |████████████████▋               | 624kB 14.2MB/s eta 0:00:01\r\u001b[K     |████████████████▉               | 634kB 14.2MB/s eta 0:00:01\r\u001b[K     |█████████████████▏              | 645kB 14.2MB/s eta 0:00:01\r\u001b[K     |█████████████████▍              | 655kB 14.2MB/s eta 0:00:01\r\u001b[K     |█████████████████▊              | 665kB 14.2MB/s eta 0:00:01\r\u001b[K     |██████████████████              | 675kB 14.2MB/s eta 0:00:01\r\u001b[K     |██████████████████▎             | 686kB 14.2MB/s eta 0:00:01\r\u001b[K     |██████████████████▌             | 696kB 14.2MB/s eta 0:00:01\r\u001b[K     |██████████████████▉             | 706kB 14.2MB/s eta 0:00:01\r\u001b[K     |███████████████████             | 716kB 14.2MB/s eta 0:00:01\r\u001b[K     |███████████████████▎            | 727kB 14.2MB/s eta 0:00:01\r\u001b[K     |███████████████████▋            | 737kB 14.2MB/s eta 0:00:01\r\u001b[K     |███████████████████▉            | 747kB 14.2MB/s eta 0:00:01\r\u001b[K     |████████████████████▏           | 757kB 14.2MB/s eta 0:00:01\r\u001b[K     |████████████████████▍           | 768kB 14.2MB/s eta 0:00:01\r\u001b[K     |████████████████████▊           | 778kB 14.2MB/s eta 0:00:01\r\u001b[K     |█████████████████████           | 788kB 14.2MB/s eta 0:00:01\r\u001b[K     |█████████████████████▎          | 798kB 14.2MB/s eta 0:00:01\r\u001b[K     |█████████████████████▌          | 808kB 14.2MB/s eta 0:00:01\r\u001b[K     |█████████████████████▉          | 819kB 14.2MB/s eta 0:00:01\r\u001b[K     |██████████████████████          | 829kB 14.2MB/s eta 0:00:01\r\u001b[K     |██████████████████████▎         | 839kB 14.2MB/s eta 0:00:01\r\u001b[K     |██████████████████████▋         | 849kB 14.2MB/s eta 0:00:01\r\u001b[K     |██████████████████████▉         | 860kB 14.2MB/s eta 0:00:01\r\u001b[K     |███████████████████████▏        | 870kB 14.2MB/s eta 0:00:01\r\u001b[K     |███████████████████████▍        | 880kB 14.2MB/s eta 0:00:01\r\u001b[K     |███████████████████████▊        | 890kB 14.2MB/s eta 0:00:01\r\u001b[K     |████████████████████████        | 901kB 14.2MB/s eta 0:00:01\r\u001b[K     |████████████████████████▎       | 911kB 14.2MB/s eta 0:00:01\r\u001b[K     |████████████████████████▌       | 921kB 14.2MB/s eta 0:00:01\r\u001b[K     |████████████████████████▊       | 931kB 14.2MB/s eta 0:00:01\r\u001b[K     |█████████████████████████       | 942kB 14.2MB/s eta 0:00:01\r\u001b[K     |█████████████████████████▎      | 952kB 14.2MB/s eta 0:00:01\r\u001b[K     |█████████████████████████▋      | 962kB 14.2MB/s eta 0:00:01\r\u001b[K     |█████████████████████████▉      | 972kB 14.2MB/s eta 0:00:01\r\u001b[K     |██████████████████████████▏     | 983kB 14.2MB/s eta 0:00:01\r\u001b[K     |██████████████████████████▍     | 993kB 14.2MB/s eta 0:00:01\r\u001b[K     |██████████████████████████▊     | 1.0MB 14.2MB/s eta 0:00:01\r\u001b[K     |███████████████████████████     | 1.0MB 14.2MB/s eta 0:00:01\r\u001b[K     |███████████████████████████▎    | 1.0MB 14.2MB/s eta 0:00:01\r\u001b[K     |███████████████████████████▌    | 1.0MB 14.2MB/s eta 0:00:01\r\u001b[K     |███████████████████████████▊    | 1.0MB 14.2MB/s eta 0:00:01\r\u001b[K     |████████████████████████████    | 1.1MB 14.2MB/s eta 0:00:01\r\u001b[K     |████████████████████████████▎   | 1.1MB 14.2MB/s eta 0:00:01\r\u001b[K     |████████████████████████████▋   | 1.1MB 14.2MB/s eta 0:00:01\r\u001b[K     |████████████████████████████▉   | 1.1MB 14.2MB/s eta 0:00:01\r\u001b[K     |█████████████████████████████▏  | 1.1MB 14.2MB/s eta 0:00:01\r\u001b[K     |█████████████████████████████▍  | 1.1MB 14.2MB/s eta 0:00:01\r\u001b[K     |█████████████████████████████▊  | 1.1MB 14.2MB/s eta 0:00:01\r\u001b[K     |██████████████████████████████  | 1.1MB 14.2MB/s eta 0:00:01\r\u001b[K     |██████████████████████████████▏ | 1.1MB 14.2MB/s eta 0:00:01\r\u001b[K     |██████████████████████████████▌ | 1.1MB 14.2MB/s eta 0:00:01\r\u001b[K     |██████████████████████████████▊ | 1.2MB 14.2MB/s eta 0:00:01\r\u001b[K     |███████████████████████████████ | 1.2MB 14.2MB/s eta 0:00:01\r\u001b[K     |███████████████████████████████▎| 1.2MB 14.2MB/s eta 0:00:01\r\u001b[K     |███████████████████████████████▋| 1.2MB 14.2MB/s eta 0:00:01\r\u001b[K     |███████████████████████████████▉| 1.2MB 14.2MB/s eta 0:00:01\r\u001b[K     |████████████████████████████████| 1.2MB 14.2MB/s \n",
            "\u001b[?25hInstalling collected packages: sentencepiece\n",
            "Successfully installed sentencepiece-0.1.95\n"
          ],
          "name": "stdout"
        }
      ]
    },
    {
      "cell_type": "markdown",
      "metadata": {
        "id": "JHkHg6XAXoyK"
      },
      "source": [
        "# Evn*"
      ]
    },
    {
      "cell_type": "code",
      "metadata": {
        "id": "WkYXFwcBXJDG"
      },
      "source": [
        "# imports\n",
        "import argparse\n",
        "import os\n",
        "import random\n",
        "import shutil\n",
        "import json\n",
        "import zipfile\n",
        "import math\n",
        "import copy\n",
        "import collections\n",
        "import re\n",
        "\n",
        "import matplotlib.pyplot as plt\n",
        "import pandas as pd\n",
        "import numpy as np\n",
        "import sentencepiece as spm\n",
        "import tensorflow as tf\n",
        "import tensorflow.keras.backend as K\n",
        "\n",
        "from tqdm.notebook import tqdm, trange"
      ],
      "execution_count": null,
      "outputs": []
    },
    {
      "cell_type": "code",
      "metadata": {
        "id": "BF-NLGZTGvTR",
        "colab": {
          "base_uri": "https://localhost:8080/"
        },
        "outputId": "6bb19798-ecd0-4646-f4f0-2bd8db48e967"
      },
      "source": [
        "# 환경 설정\n",
        "args = {\n",
        "    # random seed value\n",
        "    \"seed\": 1234\n",
        "}\n",
        "args = argparse.Namespace(**args)\n",
        "\n",
        "print(args)"
      ],
      "execution_count": null,
      "outputs": [
        {
          "output_type": "stream",
          "text": [
            "Namespace(seed=1234)\n"
          ],
          "name": "stdout"
        }
      ]
    },
    {
      "cell_type": "code",
      "metadata": {
        "id": "nvjyruUlXtlR"
      },
      "source": [
        "# random seed 설정\n",
        "random.seed(args.seed)\n",
        "np.random.seed(args.seed)\n",
        "tf.random.set_seed(args.seed)"
      ],
      "execution_count": null,
      "outputs": []
    },
    {
      "cell_type": "code",
      "metadata": {
        "id": "BC3fXkhdYcYt",
        "colab": {
          "base_uri": "https://localhost:8080/"
        },
        "outputId": "c34730d0-e303-429d-b2d6-615f77dec3a7"
      },
      "source": [
        "# gpu 사용량 확인\n",
        "!nvidia-smi"
      ],
      "execution_count": null,
      "outputs": [
        {
          "output_type": "stream",
          "text": [
            "Tue Jun  8 10:47:46 2021       \n",
            "+-----------------------------------------------------------------------------+\n",
            "| NVIDIA-SMI 465.27       Driver Version: 460.32.03    CUDA Version: 11.2     |\n",
            "|-------------------------------+----------------------+----------------------+\n",
            "| GPU  Name        Persistence-M| Bus-Id        Disp.A | Volatile Uncorr. ECC |\n",
            "| Fan  Temp  Perf  Pwr:Usage/Cap|         Memory-Usage | GPU-Util  Compute M. |\n",
            "|                               |                      |               MIG M. |\n",
            "|===============================+======================+======================|\n",
            "|   0  Tesla P100-PCIE...  Off  | 00000000:00:04.0 Off |                    0 |\n",
            "| N/A   37C    P0    27W / 250W |      0MiB / 16280MiB |      0%      Default |\n",
            "|                               |                      |                  N/A |\n",
            "+-------------------------------+----------------------+----------------------+\n",
            "                                                                               \n",
            "+-----------------------------------------------------------------------------+\n",
            "| Processes:                                                                  |\n",
            "|  GPU   GI   CI        PID   Type   Process name                  GPU Memory |\n",
            "|        ID   ID                                                   Usage      |\n",
            "|=============================================================================|\n",
            "|  No running processes found                                                 |\n",
            "+-----------------------------------------------------------------------------+\n"
          ],
          "name": "stdout"
        }
      ]
    },
    {
      "cell_type": "code",
      "metadata": {
        "id": "xVRdxYReYeQj",
        "colab": {
          "base_uri": "https://localhost:8080/"
        },
        "outputId": "f2eeaf11-a93d-4df5-f93d-e4557357629e"
      },
      "source": [
        "# google drive mount\n",
        "from google.colab import drive\n",
        "drive.mount('/content/drive')"
      ],
      "execution_count": null,
      "outputs": [
        {
          "output_type": "stream",
          "text": [
            "Mounted at /content/drive\n"
          ],
          "name": "stdout"
        }
      ]
    },
    {
      "cell_type": "code",
      "metadata": {
        "id": "byCIiLJBbFHh",
        "colab": {
          "base_uri": "https://localhost:8080/"
        },
        "outputId": "e5a6b7eb-e121-4d52-97d3-085bac26c5c3"
      },
      "source": [
        "# data dir\n",
        "data_dir = '/content/drive/MyDrive/Data/nlp'\n",
        "os.listdir(data_dir)"
      ],
      "execution_count": null,
      "outputs": [
        {
          "output_type": "execute_result",
          "data": {
            "text/plain": [
              "['kowiki', 'nsmc', 'question_pair', 'songys-chat', 'kornli', 'ner']"
            ]
          },
          "metadata": {
            "tags": []
          },
          "execution_count": 17
        }
      ]
    },
    {
      "cell_type": "code",
      "metadata": {
        "colab": {
          "base_uri": "https://localhost:8080/"
        },
        "id": "_4rnIO-Bgqef",
        "outputId": "c5c715cc-9626-45ee-f91d-1a378ea93130"
      },
      "source": [
        "kornli_dir = os.path.join(data_dir, \"kornli\")\n",
        "if not os.path.isdir(kornli_dir):\n",
        "    os.makedirs(kornli_dir)\n",
        "os.listdir(kornli_dir)"
      ],
      "execution_count": null,
      "outputs": [
        {
          "output_type": "execute_result",
          "data": {
            "text/plain": [
              "['kornli_16000.model', 'kornli_16000.vocab', 'baseline.hdf5', 'baseline.csv']"
            ]
          },
          "metadata": {
            "tags": []
          },
          "execution_count": 18
        }
      ]
    },
    {
      "cell_type": "markdown",
      "metadata": {
        "id": "097BJVHG_QfR"
      },
      "source": [
        "# Data*"
      ]
    },
    {
      "cell_type": "code",
      "metadata": {
        "colab": {
          "base_uri": "https://localhost:8080/"
        },
        "id": "iuDoJXvqhI-V",
        "outputId": "05c8b86f-dda0-4134-b6b7-f3daa036b551"
      },
      "source": [
        "!wget https://github.com/kakaobrain/KorNLUDatasets/raw/master/KorNLI/multinli.train.ko.tsv\n",
        "!wget https://github.com/kakaobrain/KorNLUDatasets/raw/master/KorNLI/snli_1.0_train.ko.tsv\n",
        "!wget https://github.com/kakaobrain/KorNLUDatasets/raw/master/KorNLI/xnli.dev.ko.tsv\n",
        "!wget https://github.com/kakaobrain/KorNLUDatasets/raw/master/KorNLI/xnli.test.ko.tsv"
      ],
      "execution_count": null,
      "outputs": [
        {
          "output_type": "stream",
          "text": [
            "--2021-06-08 10:48:44--  https://github.com/kakaobrain/KorNLUDatasets/raw/master/KorNLI/xnli.dev.ko.tsv\n",
            "Resolving github.com (github.com)... 140.82.121.4\n",
            "Connecting to github.com (github.com)|140.82.121.4|:443... connected.\n",
            "HTTP request sent, awaiting response... 302 Found\n",
            "Location: https://raw.githubusercontent.com/kakaobrain/KorNLUDatasets/master/KorNLI/xnli.dev.ko.tsv [following]\n",
            "--2021-06-08 10:48:44--  https://raw.githubusercontent.com/kakaobrain/KorNLUDatasets/master/KorNLI/xnli.dev.ko.tsv\n",
            "Resolving raw.githubusercontent.com (raw.githubusercontent.com)... 185.199.110.133, 185.199.109.133, 185.199.108.133, ...\n",
            "Connecting to raw.githubusercontent.com (raw.githubusercontent.com)|185.199.110.133|:443... connected.\n",
            "HTTP request sent, awaiting response... 200 OK\n",
            "Length: 511383 (499K) [text/plain]\n",
            "Saving to: ‘xnli.dev.ko.tsv’\n",
            "\n",
            "xnli.dev.ko.tsv     100%[===================>] 499.40K  --.-KB/s    in 0.03s   \n",
            "\n",
            "2021-06-08 10:48:46 (19.4 MB/s) - ‘xnli.dev.ko.tsv’ saved [511383/511383]\n",
            "\n"
          ],
          "name": "stdout"
        }
      ]
    },
    {
      "cell_type": "code",
      "metadata": {
        "colab": {
          "base_uri": "https://localhost:8080/"
        },
        "id": "gOIKSfwV3sA2",
        "outputId": "e4bc0fad-d74e-4aae-c9ca-587a1de58893"
      },
      "source": [
        "os.listdir('./')"
      ],
      "execution_count": null,
      "outputs": [
        {
          "output_type": "execute_result",
          "data": {
            "text/plain": [
              "['.config',\n",
              " 'xnli.dev.ko.tsv',\n",
              " 'snli_1.0_train.ko.tsv',\n",
              " 'multinli.train.ko.tsv',\n",
              " 'drive',\n",
              " 'xnli.test.ko.tsv',\n",
              " 'sample_data']"
            ]
          },
          "metadata": {
            "tags": []
          },
          "execution_count": 23
        }
      ]
    },
    {
      "cell_type": "markdown",
      "metadata": {
        "id": "0TyJlt-k7yzW"
      },
      "source": [
        "# Vocabulary 학습 (참고 Day-06 실습)"
      ]
    },
    {
      "cell_type": "code",
      "metadata": {
        "colab": {
          "base_uri": "https://localhost:8080/",
          "height": 464
        },
        "id": "dkcvAcq134e2",
        "outputId": "d03a95b8-b943-4c07-edb8-64502e97b789"
      },
      "source": [
        "df_multinli = pd.read_csv('multinli.train.ko.tsv', sep='\\t', error_bad_lines=False)\n",
        "df_multinli = df_multinli.dropna()\n",
        "df_multinli"
      ],
      "execution_count": null,
      "outputs": [
        {
          "output_type": "stream",
          "text": [
            "b'Skipping line 24426: expected 3 fields, saw 4\\nSkipping line 156343: expected 3 fields, saw 4\\nSkipping line 218766: expected 3 fields, saw 4\\nSkipping line 232318: expected 3 fields, saw 4\\nSkipping line 253493: expected 3 fields, saw 4\\n'\n",
            "b'Skipping line 265734: expected 3 fields, saw 4\\nSkipping line 282588: expected 3 fields, saw 4\\nSkipping line 350969: expected 3 fields, saw 4\\n'\n"
          ],
          "name": "stderr"
        },
        {
          "output_type": "execute_result",
          "data": {
            "text/html": [
              "<div>\n",
              "<style scoped>\n",
              "    .dataframe tbody tr th:only-of-type {\n",
              "        vertical-align: middle;\n",
              "    }\n",
              "\n",
              "    .dataframe tbody tr th {\n",
              "        vertical-align: top;\n",
              "    }\n",
              "\n",
              "    .dataframe thead th {\n",
              "        text-align: right;\n",
              "    }\n",
              "</style>\n",
              "<table border=\"1\" class=\"dataframe\">\n",
              "  <thead>\n",
              "    <tr style=\"text-align: right;\">\n",
              "      <th></th>\n",
              "      <th>sentence1</th>\n",
              "      <th>sentence2</th>\n",
              "      <th>gold_label</th>\n",
              "    </tr>\n",
              "  </thead>\n",
              "  <tbody>\n",
              "    <tr>\n",
              "      <th>0</th>\n",
              "      <td>개념적으로 크림 스키밍은 제품과 지리라는 두 가지 기본 차원을 가지고 있다.</td>\n",
              "      <td>제품과 지리학은 크림 스키밍을 작동시키는 것이다.</td>\n",
              "      <td>neutral</td>\n",
              "    </tr>\n",
              "    <tr>\n",
              "      <th>1</th>\n",
              "      <td>시즌 중에 알고 있는 거 알아? 네 레벨에서 다음 레벨로 잃어버리는 거야 브레이브스...</td>\n",
              "      <td>사람들이 기억하면 다음 수준으로 물건을 잃는다.</td>\n",
              "      <td>entailment</td>\n",
              "    </tr>\n",
              "    <tr>\n",
              "      <th>2</th>\n",
              "      <td>우리 번호 중 하나가 당신의 지시를 세밀하게 수행할 것이다.</td>\n",
              "      <td>우리 팀의 일원이 당신의 명령을 엄청나게 정확하게 실행할 것이다.</td>\n",
              "      <td>entailment</td>\n",
              "    </tr>\n",
              "    <tr>\n",
              "      <th>3</th>\n",
              "      <td>어떻게 아세요? 이 모든 것이 다시 그들의 정보다.</td>\n",
              "      <td>이 정보는 그들의 것이다.</td>\n",
              "      <td>entailment</td>\n",
              "    </tr>\n",
              "    <tr>\n",
              "      <th>4</th>\n",
              "      <td>그래, 만약 네가 테니스화 몇 개를 사러 간다면, 나는 왜 그들이 100달러대에서 ...</td>\n",
              "      <td>테니스화의 가격은 다양하다.</td>\n",
              "      <td>neutral</td>\n",
              "    </tr>\n",
              "    <tr>\n",
              "      <th>...</th>\n",
              "      <td>...</td>\n",
              "      <td>...</td>\n",
              "      <td>...</td>\n",
              "    </tr>\n",
              "    <tr>\n",
              "      <th>385489</th>\n",
              "      <td>분명히, 캘리포니아는 더 잘 할 수 있고, 더 잘해야 한다.</td>\n",
              "      <td>캘리포니아는 더 잘할 수 없다.</td>\n",
              "      <td>contradiction</td>\n",
              "    </tr>\n",
              "    <tr>\n",
              "      <th>385490</th>\n",
              "      <td>한때 유럽에서 가장 아름다운 거리로 여겨졌는데, 이는 원래의 많은 건물들이 교체되었...</td>\n",
              "      <td>그래서 원래의 많은 건물들이 편의점으로 대체되었다.</td>\n",
              "      <td>neutral</td>\n",
              "    </tr>\n",
              "    <tr>\n",
              "      <th>385491</th>\n",
              "      <td>하우스보트는 영국 라지의 전성기의 아름답게 보존된 전통이다.</td>\n",
              "      <td>하우스보트의 전통은 영국 라지가 여전히 강해지는 동안 시작되었다.</td>\n",
              "      <td>entailment</td>\n",
              "    </tr>\n",
              "    <tr>\n",
              "      <th>385492</th>\n",
              "      <td>사망 기사는 그의 평론가의 신디케이트 TV 쇼에서 동료 검토 자 Roger Eber...</td>\n",
              "      <td>부고문은 아름다웠고 연예계에서의 그의 업적에 대해 현물로 쓰여졌다.</td>\n",
              "      <td>neutral</td>\n",
              "    </tr>\n",
              "    <tr>\n",
              "      <th>385493</th>\n",
              "      <td>내가 해야 한다는 걸 알거나, 아니면 누가 하라고 하는 것보다 그녀를 밀고하는 것에...</td>\n",
              "      <td>남편이 요즘 너무 과로해서 이 근처에서 많은 일을 부탁할 용기가 나지 않는다.</td>\n",
              "      <td>neutral</td>\n",
              "    </tr>\n",
              "  </tbody>\n",
              "</table>\n",
              "<p>385391 rows × 3 columns</p>\n",
              "</div>"
            ],
            "text/plain": [
              "                                                sentence1  ...     gold_label\n",
              "0              개념적으로 크림 스키밍은 제품과 지리라는 두 가지 기본 차원을 가지고 있다.  ...        neutral\n",
              "1       시즌 중에 알고 있는 거 알아? 네 레벨에서 다음 레벨로 잃어버리는 거야 브레이브스...  ...     entailment\n",
              "2                       우리 번호 중 하나가 당신의 지시를 세밀하게 수행할 것이다.  ...     entailment\n",
              "3                            어떻게 아세요? 이 모든 것이 다시 그들의 정보다.  ...     entailment\n",
              "4       그래, 만약 네가 테니스화 몇 개를 사러 간다면, 나는 왜 그들이 100달러대에서 ...  ...        neutral\n",
              "...                                                   ...  ...            ...\n",
              "385489                  분명히, 캘리포니아는 더 잘 할 수 있고, 더 잘해야 한다.  ...  contradiction\n",
              "385490  한때 유럽에서 가장 아름다운 거리로 여겨졌는데, 이는 원래의 많은 건물들이 교체되었...  ...        neutral\n",
              "385491                  하우스보트는 영국 라지의 전성기의 아름답게 보존된 전통이다.  ...     entailment\n",
              "385492  사망 기사는 그의 평론가의 신디케이트 TV 쇼에서 동료 검토 자 Roger Eber...  ...        neutral\n",
              "385493  내가 해야 한다는 걸 알거나, 아니면 누가 하라고 하는 것보다 그녀를 밀고하는 것에...  ...        neutral\n",
              "\n",
              "[385391 rows x 3 columns]"
            ]
          },
          "metadata": {
            "tags": []
          },
          "execution_count": 44
        }
      ]
    },
    {
      "cell_type": "code",
      "metadata": {
        "colab": {
          "base_uri": "https://localhost:8080/",
          "height": 407
        },
        "id": "Ls3BYKDR4b8m",
        "outputId": "78530425-0ddc-4461-9797-81299c00c32d"
      },
      "source": [
        "df_snli = pd.read_csv('snli_1.0_train.ko.tsv', sep='\\t', error_bad_lines=False)\n",
        "df_snli = df_snli.dropna()\n",
        "df_snli"
      ],
      "execution_count": null,
      "outputs": [
        {
          "output_type": "execute_result",
          "data": {
            "text/html": [
              "<div>\n",
              "<style scoped>\n",
              "    .dataframe tbody tr th:only-of-type {\n",
              "        vertical-align: middle;\n",
              "    }\n",
              "\n",
              "    .dataframe tbody tr th {\n",
              "        vertical-align: top;\n",
              "    }\n",
              "\n",
              "    .dataframe thead th {\n",
              "        text-align: right;\n",
              "    }\n",
              "</style>\n",
              "<table border=\"1\" class=\"dataframe\">\n",
              "  <thead>\n",
              "    <tr style=\"text-align: right;\">\n",
              "      <th></th>\n",
              "      <th>sentence1</th>\n",
              "      <th>sentence2</th>\n",
              "      <th>gold_label</th>\n",
              "    </tr>\n",
              "  </thead>\n",
              "  <tbody>\n",
              "    <tr>\n",
              "      <th>0</th>\n",
              "      <td>말을 탄 사람이 고장난 비행기 위로 뛰어오른다.</td>\n",
              "      <td>한 사람이 경쟁을 위해 말을 훈련시키고 있다.</td>\n",
              "      <td>neutral</td>\n",
              "    </tr>\n",
              "    <tr>\n",
              "      <th>1</th>\n",
              "      <td>말을 탄 사람이 고장난 비행기 위로 뛰어오른다.</td>\n",
              "      <td>한 사람이 식당에서 오믈렛을 주문하고 있다.</td>\n",
              "      <td>contradiction</td>\n",
              "    </tr>\n",
              "    <tr>\n",
              "      <th>2</th>\n",
              "      <td>말을 탄 사람이 고장난 비행기 위로 뛰어오른다.</td>\n",
              "      <td>사람은 야외에서 말을 타고 있다.</td>\n",
              "      <td>entailment</td>\n",
              "    </tr>\n",
              "    <tr>\n",
              "      <th>3</th>\n",
              "      <td>카메라에 웃고 손을 흔드는 아이들</td>\n",
              "      <td>그들은 부모님을 보고 웃고 있다</td>\n",
              "      <td>neutral</td>\n",
              "    </tr>\n",
              "    <tr>\n",
              "      <th>4</th>\n",
              "      <td>카메라에 웃고 손을 흔드는 아이들</td>\n",
              "      <td>아이들이 있다</td>\n",
              "      <td>entailment</td>\n",
              "    </tr>\n",
              "    <tr>\n",
              "      <th>...</th>\n",
              "      <td>...</td>\n",
              "      <td>...</td>\n",
              "      <td>...</td>\n",
              "    </tr>\n",
              "    <tr>\n",
              "      <th>550147</th>\n",
              "      <td>네 명의 더러운 맨발의 아이들.</td>\n",
              "      <td>4명의 아이들이 '가장 깨끗한 발'로 상을 받았다</td>\n",
              "      <td>contradiction</td>\n",
              "    </tr>\n",
              "    <tr>\n",
              "      <th>550148</th>\n",
              "      <td>네 명의 더러운 맨발의 아이들.</td>\n",
              "      <td>네 명의 노숙자 아이들이 신발을 도둑맞아서 그들의 발이 더러워졌다.</td>\n",
              "      <td>neutral</td>\n",
              "    </tr>\n",
              "    <tr>\n",
              "      <th>550149</th>\n",
              "      <td>한 남자가 아름다운 푸른 물에서 바디슈트를 입고 서핑을 하고 있다.</td>\n",
              "      <td>바디슈트를 입은 남자가 서핑 대회에 참가하고 있다.</td>\n",
              "      <td>neutral</td>\n",
              "    </tr>\n",
              "    <tr>\n",
              "      <th>550150</th>\n",
              "      <td>한 남자가 아름다운 푸른 물에서 바디슈트를 입고 서핑을 하고 있다.</td>\n",
              "      <td>비즈니스 슈트를 입은 남자가 이사회로 향하고 있다.</td>\n",
              "      <td>contradiction</td>\n",
              "    </tr>\n",
              "    <tr>\n",
              "      <th>550151</th>\n",
              "      <td>한 남자가 아름다운 푸른 물에서 바디슈트를 입고 서핑을 하고 있다.</td>\n",
              "      <td>아름다운 푸른 물 위에는 바디슈트를 입은 남자가 서핑을 하고 있다.</td>\n",
              "      <td>entailment</td>\n",
              "    </tr>\n",
              "  </tbody>\n",
              "</table>\n",
              "<p>550146 rows × 3 columns</p>\n",
              "</div>"
            ],
            "text/plain": [
              "                                    sentence1  ...     gold_label\n",
              "0                  말을 탄 사람이 고장난 비행기 위로 뛰어오른다.  ...        neutral\n",
              "1                  말을 탄 사람이 고장난 비행기 위로 뛰어오른다.  ...  contradiction\n",
              "2                  말을 탄 사람이 고장난 비행기 위로 뛰어오른다.  ...     entailment\n",
              "3                          카메라에 웃고 손을 흔드는 아이들  ...        neutral\n",
              "4                          카메라에 웃고 손을 흔드는 아이들  ...     entailment\n",
              "...                                       ...  ...            ...\n",
              "550147                      네 명의 더러운 맨발의 아이들.  ...  contradiction\n",
              "550148                      네 명의 더러운 맨발의 아이들.  ...        neutral\n",
              "550149  한 남자가 아름다운 푸른 물에서 바디슈트를 입고 서핑을 하고 있다.  ...        neutral\n",
              "550150  한 남자가 아름다운 푸른 물에서 바디슈트를 입고 서핑을 하고 있다.  ...  contradiction\n",
              "550151  한 남자가 아름다운 푸른 물에서 바디슈트를 입고 서핑을 하고 있다.  ...     entailment\n",
              "\n",
              "[550146 rows x 3 columns]"
            ]
          },
          "metadata": {
            "tags": []
          },
          "execution_count": 45
        }
      ]
    },
    {
      "cell_type": "code",
      "metadata": {
        "colab": {
          "base_uri": "https://localhost:8080/",
          "height": 407
        },
        "id": "PPrCW4EE4r01",
        "outputId": "29f05f44-2d87-4d22-adae-1f20af2cfcfc"
      },
      "source": [
        "df_dev = pd.read_csv('xnli.dev.ko.tsv', sep='\\t', error_bad_lines=False)\n",
        "df_dev = df_dev.dropna()\n",
        "df_dev"
      ],
      "execution_count": null,
      "outputs": [
        {
          "output_type": "execute_result",
          "data": {
            "text/html": [
              "<div>\n",
              "<style scoped>\n",
              "    .dataframe tbody tr th:only-of-type {\n",
              "        vertical-align: middle;\n",
              "    }\n",
              "\n",
              "    .dataframe tbody tr th {\n",
              "        vertical-align: top;\n",
              "    }\n",
              "\n",
              "    .dataframe thead th {\n",
              "        text-align: right;\n",
              "    }\n",
              "</style>\n",
              "<table border=\"1\" class=\"dataframe\">\n",
              "  <thead>\n",
              "    <tr style=\"text-align: right;\">\n",
              "      <th></th>\n",
              "      <th>sentence1</th>\n",
              "      <th>sentence2</th>\n",
              "      <th>gold_label</th>\n",
              "    </tr>\n",
              "  </thead>\n",
              "  <tbody>\n",
              "    <tr>\n",
              "      <th>0</th>\n",
              "      <td>그리고 그가 말했다, \"엄마, 저 왔어요.\"</td>\n",
              "      <td>그는 학교 버스가 그를 내려주자마자 엄마에게 전화를 걸었다.</td>\n",
              "      <td>neutral</td>\n",
              "    </tr>\n",
              "    <tr>\n",
              "      <th>1</th>\n",
              "      <td>그리고 그가 말했다, \"엄마, 저 왔어요.\"</td>\n",
              "      <td>그는 한마디도 하지 않았다.</td>\n",
              "      <td>contradiction</td>\n",
              "    </tr>\n",
              "    <tr>\n",
              "      <th>2</th>\n",
              "      <td>그리고 그가 말했다, \"엄마, 저 왔어요.\"</td>\n",
              "      <td>그는 엄마에게 집에 갔다고 말했다.</td>\n",
              "      <td>entailment</td>\n",
              "    </tr>\n",
              "    <tr>\n",
              "      <th>3</th>\n",
              "      <td>내가 무엇을 위해 가고 있는지 또는 어떤 것을 위해 있는지 몰랐기 때문에 워싱턴의 ...</td>\n",
              "      <td>나는 워싱턴에 가본 적이 없어서 거기 배정을 받았을 때 그 장소를 찾으려다가 길을 ...</td>\n",
              "      <td>neutral</td>\n",
              "    </tr>\n",
              "    <tr>\n",
              "      <th>4</th>\n",
              "      <td>내가 무엇을 위해 가고 있는지 또는 어떤 것을 위해 있는지 몰랐기 때문에 워싱턴의 ...</td>\n",
              "      <td>워싱턴으로 진군하면서 해야 할 일이 무엇인지 정확히 알고 있었다.</td>\n",
              "      <td>contradiction</td>\n",
              "    </tr>\n",
              "    <tr>\n",
              "      <th>...</th>\n",
              "      <td>...</td>\n",
              "      <td>...</td>\n",
              "      <td>...</td>\n",
              "    </tr>\n",
              "    <tr>\n",
              "      <th>1566</th>\n",
              "      <td>피스티는 피즐처럼 중간 영어의 피스틴으로 시작되어 방귀를 뀌기 위해 주먹을 쥐었다.</td>\n",
              "      <td>Fiesty는 100년 동안 존재해 왔다.</td>\n",
              "      <td>neutral</td>\n",
              "    </tr>\n",
              "    <tr>\n",
              "      <th>1567</th>\n",
              "      <td>피스티는 피즐처럼 중간 영어의 피스틴으로 시작되어 방귀를 뀌기 위해 주먹을 쥐었다.</td>\n",
              "      <td>Fiesty는 주먹질과는 무관하다.</td>\n",
              "      <td>contradiction</td>\n",
              "    </tr>\n",
              "    <tr>\n",
              "      <th>1568</th>\n",
              "      <td>진술이 더 나은 반면, 대답은 완성의 정신적 그림을 준다.</td>\n",
              "      <td>진술은 더 자세한 내용을 알려준다.</td>\n",
              "      <td>neutral</td>\n",
              "    </tr>\n",
              "    <tr>\n",
              "      <th>1569</th>\n",
              "      <td>진술이 더 나은 반면, 대답은 완성의 정신적 그림을 준다.</td>\n",
              "      <td>진술이 더 나은 것은 아니다.</td>\n",
              "      <td>contradiction</td>\n",
              "    </tr>\n",
              "    <tr>\n",
              "      <th>1570</th>\n",
              "      <td>진술이 더 나은 반면, 대답은 완성의 정신적 그림을 준다.</td>\n",
              "      <td>진술이 더 좋다.</td>\n",
              "      <td>entailment</td>\n",
              "    </tr>\n",
              "  </tbody>\n",
              "</table>\n",
              "<p>1570 rows × 3 columns</p>\n",
              "</div>"
            ],
            "text/plain": [
              "                                              sentence1  ...     gold_label\n",
              "0                              그리고 그가 말했다, \"엄마, 저 왔어요.\"  ...        neutral\n",
              "1                              그리고 그가 말했다, \"엄마, 저 왔어요.\"  ...  contradiction\n",
              "2                              그리고 그가 말했다, \"엄마, 저 왔어요.\"  ...     entailment\n",
              "3     내가 무엇을 위해 가고 있는지 또는 어떤 것을 위해 있는지 몰랐기 때문에 워싱턴의 ...  ...        neutral\n",
              "4     내가 무엇을 위해 가고 있는지 또는 어떤 것을 위해 있는지 몰랐기 때문에 워싱턴의 ...  ...  contradiction\n",
              "...                                                 ...  ...            ...\n",
              "1566     피스티는 피즐처럼 중간 영어의 피스틴으로 시작되어 방귀를 뀌기 위해 주먹을 쥐었다.  ...        neutral\n",
              "1567     피스티는 피즐처럼 중간 영어의 피스틴으로 시작되어 방귀를 뀌기 위해 주먹을 쥐었다.  ...  contradiction\n",
              "1568                   진술이 더 나은 반면, 대답은 완성의 정신적 그림을 준다.  ...        neutral\n",
              "1569                   진술이 더 나은 반면, 대답은 완성의 정신적 그림을 준다.  ...  contradiction\n",
              "1570                   진술이 더 나은 반면, 대답은 완성의 정신적 그림을 준다.  ...     entailment\n",
              "\n",
              "[1570 rows x 3 columns]"
            ]
          },
          "metadata": {
            "tags": []
          },
          "execution_count": 46
        }
      ]
    },
    {
      "cell_type": "code",
      "metadata": {
        "colab": {
          "base_uri": "https://localhost:8080/",
          "height": 407
        },
        "id": "soEuOe8K41rW",
        "outputId": "0106f1e4-b005-49c2-d8b1-b14fe702de61"
      },
      "source": [
        "df_test = pd.read_csv('xnli.test.ko.tsv', sep='\\t', error_bad_lines=False)\n",
        "df_test = df_test.dropna()\n",
        "df_test"
      ],
      "execution_count": null,
      "outputs": [
        {
          "output_type": "execute_result",
          "data": {
            "text/html": [
              "<div>\n",
              "<style scoped>\n",
              "    .dataframe tbody tr th:only-of-type {\n",
              "        vertical-align: middle;\n",
              "    }\n",
              "\n",
              "    .dataframe tbody tr th {\n",
              "        vertical-align: top;\n",
              "    }\n",
              "\n",
              "    .dataframe thead th {\n",
              "        text-align: right;\n",
              "    }\n",
              "</style>\n",
              "<table border=\"1\" class=\"dataframe\">\n",
              "  <thead>\n",
              "    <tr style=\"text-align: right;\">\n",
              "      <th></th>\n",
              "      <th>sentence1</th>\n",
              "      <th>sentence2</th>\n",
              "      <th>gold_label</th>\n",
              "    </tr>\n",
              "  </thead>\n",
              "  <tbody>\n",
              "    <tr>\n",
              "      <th>0</th>\n",
              "      <td>글쎄, 나는 그것에 관해 생각조차 하지 않았지만, 나는 너무 좌절했고, 결국 그에게...</td>\n",
              "      <td>나는 그와 다시 이야기하지 않았다.</td>\n",
              "      <td>contradiction</td>\n",
              "    </tr>\n",
              "    <tr>\n",
              "      <th>1</th>\n",
              "      <td>글쎄, 나는 그것에 관해 생각조차 하지 않았지만, 나는 너무 좌절했고, 결국 그에게...</td>\n",
              "      <td>나는 다시 그와 이야기를 하기 시작했다는 것에 너무 화가 났다.</td>\n",
              "      <td>entailment</td>\n",
              "    </tr>\n",
              "    <tr>\n",
              "      <th>2</th>\n",
              "      <td>글쎄, 나는 그것에 관해 생각조차 하지 않았지만, 나는 너무 좌절했고, 결국 그에게...</td>\n",
              "      <td>우리는 좋은 대화를 나눴다.</td>\n",
              "      <td>neutral</td>\n",
              "    </tr>\n",
              "    <tr>\n",
              "      <th>3</th>\n",
              "      <td>그리고 저는 그것이 특권이라고 생각했습니다, 그리고 여전히, 여전히, 당시 저는 A...</td>\n",
              "      <td>그날 현장에 나만 있었던 게 아니라는 걸 몰랐던 것이다.</td>\n",
              "      <td>neutral</td>\n",
              "    </tr>\n",
              "    <tr>\n",
              "      <th>4</th>\n",
              "      <td>그리고 저는 그것이 특권이라고 생각했습니다, 그리고 여전히, 여전히, 당시 저는 A...</td>\n",
              "      <td>나는 AFFC 공군 경력 분야에서 그 번호를 가진 유일한 사람이라는 인상을 가지고 ...</td>\n",
              "      <td>entailment</td>\n",
              "    </tr>\n",
              "    <tr>\n",
              "      <th>...</th>\n",
              "      <td>...</td>\n",
              "      <td>...</td>\n",
              "      <td>...</td>\n",
              "    </tr>\n",
              "    <tr>\n",
              "      <th>4949</th>\n",
              "      <td>데이비슨은 스콘의 발음을 '뼈'와 운을 맞추기 위해 채택해서는 안 된다. 어쨌든 그...</td>\n",
              "      <td>Davidson은 뼈와 스콘이 같은 소리를 내는 방식으로 말하면 안 된다.</td>\n",
              "      <td>entailment</td>\n",
              "    </tr>\n",
              "    <tr>\n",
              "      <th>4950</th>\n",
              "      <td>데이비슨은 스콘의 발음을 '뼈'와 운을 맞추기 위해 채택해서는 안 된다. 어쨌든 그...</td>\n",
              "      <td>Davidson이 스콘과 뼈라는 단어에 운율을 맞추는 편이 나을 것이다.</td>\n",
              "      <td>contradiction</td>\n",
              "    </tr>\n",
              "    <tr>\n",
              "      <th>4951</th>\n",
              "      <td>25달러에 20만 단어의 평균 소설은 달러당 8,000단어로 적용된다.</td>\n",
              "      <td>25달러짜리 20만 단어 소설은 공정한 가격이다.</td>\n",
              "      <td>neutral</td>\n",
              "    </tr>\n",
              "    <tr>\n",
              "      <th>4952</th>\n",
              "      <td>25달러에 20만 단어의 평균 소설은 달러당 8,000단어로 적용된다.</td>\n",
              "      <td>25달러짜리 20만 단어 소설은 달러당 4천 단어다.</td>\n",
              "      <td>contradiction</td>\n",
              "    </tr>\n",
              "    <tr>\n",
              "      <th>4953</th>\n",
              "      <td>25달러에 20만 단어의 평균 소설은 달러당 8,000단어로 적용된다.</td>\n",
              "      <td>25달러짜리 20만 단어 소설은 달러당 8,000 단어다.</td>\n",
              "      <td>entailment</td>\n",
              "    </tr>\n",
              "  </tbody>\n",
              "</table>\n",
              "<p>4954 rows × 3 columns</p>\n",
              "</div>"
            ],
            "text/plain": [
              "                                              sentence1  ...     gold_label\n",
              "0     글쎄, 나는 그것에 관해 생각조차 하지 않았지만, 나는 너무 좌절했고, 결국 그에게...  ...  contradiction\n",
              "1     글쎄, 나는 그것에 관해 생각조차 하지 않았지만, 나는 너무 좌절했고, 결국 그에게...  ...     entailment\n",
              "2     글쎄, 나는 그것에 관해 생각조차 하지 않았지만, 나는 너무 좌절했고, 결국 그에게...  ...        neutral\n",
              "3     그리고 저는 그것이 특권이라고 생각했습니다, 그리고 여전히, 여전히, 당시 저는 A...  ...        neutral\n",
              "4     그리고 저는 그것이 특권이라고 생각했습니다, 그리고 여전히, 여전히, 당시 저는 A...  ...     entailment\n",
              "...                                                 ...  ...            ...\n",
              "4949  데이비슨은 스콘의 발음을 '뼈'와 운을 맞추기 위해 채택해서는 안 된다. 어쨌든 그...  ...     entailment\n",
              "4950  데이비슨은 스콘의 발음을 '뼈'와 운을 맞추기 위해 채택해서는 안 된다. 어쨌든 그...  ...  contradiction\n",
              "4951            25달러에 20만 단어의 평균 소설은 달러당 8,000단어로 적용된다.  ...        neutral\n",
              "4952            25달러에 20만 단어의 평균 소설은 달러당 8,000단어로 적용된다.  ...  contradiction\n",
              "4953            25달러에 20만 단어의 평균 소설은 달러당 8,000단어로 적용된다.  ...     entailment\n",
              "\n",
              "[4954 rows x 3 columns]"
            ]
          },
          "metadata": {
            "tags": []
          },
          "execution_count": 47
        }
      ]
    },
    {
      "cell_type": "code",
      "metadata": {
        "id": "SQPF32tf5lbW"
      },
      "source": [
        "df_train = pd.concat([df_multinli, df_snli, df_dev, df_test], ignore_index=True)\n",
        "df_train"
      ],
      "execution_count": null,
      "outputs": []
    },
    {
      "cell_type": "code",
      "metadata": {
        "colab": {
          "base_uri": "https://localhost:8080/"
        },
        "id": "IGmMgzS-5rPG",
        "outputId": "e0477267-d121-41f2-e9e0-4e8c6e18c7c9"
      },
      "source": [
        "aa = df_train['sentence1']\n",
        "bb = df_train['sentence2']\n",
        "corpus = pd.Series(aa + bb)\n",
        "corpus"
      ],
      "execution_count": null,
      "outputs": [
        {
          "output_type": "execute_result",
          "data": {
            "text/plain": [
              "0         개념적으로 크림 스키밍은 제품과 지리라는 두 가지 기본 차원을 가지고 있다.제품과 ...\n",
              "1         시즌 중에 알고 있는 거 알아? 네 레벨에서 다음 레벨로 잃어버리는 거야 브레이브스...\n",
              "2         우리 번호 중 하나가 당신의 지시를 세밀하게 수행할 것이다.우리 팀의 일원이 당신의...\n",
              "3                어떻게 아세요? 이 모든 것이 다시 그들의 정보다.이 정보는 그들의 것이다.\n",
              "4         그래, 만약 네가 테니스화 몇 개를 사러 간다면, 나는 왜 그들이 100달러대에서 ...\n",
              "                                ...                        \n",
              "942056    데이비슨은 스콘의 발음을 '뼈'와 운을 맞추기 위해 채택해서는 안 된다. 어쨌든 그...\n",
              "942057    데이비슨은 스콘의 발음을 '뼈'와 운을 맞추기 위해 채택해서는 안 된다. 어쨌든 그...\n",
              "942058    25달러에 20만 단어의 평균 소설은 달러당 8,000단어로 적용된다.25달러짜리 ...\n",
              "942059    25달러에 20만 단어의 평균 소설은 달러당 8,000단어로 적용된다.25달러짜리 ...\n",
              "942060    25달러에 20만 단어의 평균 소설은 달러당 8,000단어로 적용된다.25달러짜리 ...\n",
              "Length: 942061, dtype: object"
            ]
          },
          "metadata": {
            "tags": []
          },
          "execution_count": 51
        }
      ]
    },
    {
      "cell_type": "code",
      "metadata": {
        "id": "BswY9DtS6Iuv"
      },
      "source": [
        "with open('corpus.txt', 'w') as f:\n",
        "    for i, w in enumerate(corpus):\n",
        "        f.write(w)\n",
        "        f.write('\\n')"
      ],
      "execution_count": null,
      "outputs": []
    },
    {
      "cell_type": "code",
      "metadata": {
        "id": "V_uWubl47R5e"
      },
      "source": [
        "df_list = [df_multinli, df_snli, df_dev, df_test]"
      ],
      "execution_count": null,
      "outputs": []
    },
    {
      "cell_type": "code",
      "metadata": {
        "id": "9osj3OZ84-pV"
      },
      "source": [
        "with open('corpus.txt', 'w') as f:\n",
        "    for df in df_list:\n",
        "        for i, row in df.iterrows():\n",
        "            sentence1 = row['sentence1']\n",
        "            sentence2 = row['sentence2']\n",
        "            f.write(sentence1)\n",
        "            f.write('\\n')\n",
        "            f.write(sentence2)\n",
        "            f.write('\\n')"
      ],
      "execution_count": null,
      "outputs": []
    },
    {
      "cell_type": "code",
      "metadata": {
        "colab": {
          "base_uri": "https://localhost:8080/"
        },
        "id": "vCqckglB5pXM",
        "outputId": "a1009130-05cb-4db8-b16f-f791cb11d08a"
      },
      "source": [
        "count = 0\n",
        "with open('corpus.txt') as f:\n",
        "    for line in f:\n",
        "        count += 1\n",
        "count"
      ],
      "execution_count": null,
      "outputs": [
        {
          "output_type": "execute_result",
          "data": {
            "text/plain": [
              "1890550"
            ]
          },
          "metadata": {
            "tags": []
          },
          "execution_count": 49
        }
      ]
    },
    {
      "cell_type": "code",
      "metadata": {
        "id": "2wg1XLlk78DG"
      },
      "source": [
        "def train_sentencepiece(corpus, prefix, vocab_size=32000):\n",
        "    \"\"\"\n",
        "    sentencepiece를 이용해 vocab 학습\n",
        "    :param corpus: 학습할 말뭉치\n",
        "    :param prefix: 저장할 vocab 이름\n",
        "    :param vocab_size: vocab 개수\n",
        "    \"\"\"\n",
        "    spm.SentencePieceTrainer.train(\n",
        "        f\"--input={corpus} --model_prefix={prefix} --vocab_size={vocab_size + 7}\" +  # 7은 특수문자 개수\n",
        "        \" --model_type=unigram\" +\n",
        "        \" --max_sentence_length=999999\" +  # 문장 최대 길이\n",
        "        \" --pad_id=0 --pad_piece=[PAD]\" +  # pad token 및 id 지정\n",
        "        \" --unk_id=1 --unk_piece=[UNK]\" +  # unknown token 및 id 지정\n",
        "        \" --bos_id=2 --bos_piece=[BOS]\" +  # begin of sequence token 및 id 지정\n",
        "        \" --eos_id=3 --eos_piece=[EOS]\" +  # end of sequence token 및 id 지정\n",
        "        \" --user_defined_symbols=[SEP],[CLS],[MASK]\" +  # 기타 추가 토큰 SEP: 4, CLS: 5, MASK: 6\n",
        "        \" --input_sentence_size=100000\" +  # 말뭉치에서 셈플링해서 학습\n",
        "        \" --shuffle_input_sentence=true\")  # 셈플링한 말뭉치 shuffle"
      ],
      "execution_count": null,
      "outputs": []
    },
    {
      "cell_type": "code",
      "metadata": {
        "id": "axSjcu428AV2"
      },
      "source": [
        "train_sentencepiece(\"corpus.txt\", \"kornli_16000\", vocab_size=16000)"
      ],
      "execution_count": null,
      "outputs": []
    },
    {
      "cell_type": "code",
      "metadata": {
        "id": "fPW_UN8c8R9B"
      },
      "source": [
        "os.listdir('.')"
      ],
      "execution_count": null,
      "outputs": []
    },
    {
      "cell_type": "code",
      "metadata": {
        "colab": {
          "base_uri": "https://localhost:8080/",
          "height": 35
        },
        "id": "elalXRgu8YgO",
        "outputId": "f79fd453-61f1-454d-faba-df2bcea12be1"
      },
      "source": [
        "shutil.copy(\"kornli_16000.model\", kornli_dir)\n",
        "shutil.copy(\"kornli_16000.vocab\", kornli_dir)"
      ],
      "execution_count": null,
      "outputs": [
        {
          "output_type": "execute_result",
          "data": {
            "application/vnd.google.colaboratory.intrinsic+json": {
              "type": "string"
            },
            "text/plain": [
              "'/content/drive/MyDrive/Data/nlp/kornli/kornli_16000.vocab'"
            ]
          },
          "metadata": {
            "tags": []
          },
          "execution_count": 53
        }
      ]
    },
    {
      "cell_type": "code",
      "metadata": {
        "colab": {
          "base_uri": "https://localhost:8080/"
        },
        "id": "0n9hPGdE8iGZ",
        "outputId": "7949706d-3150-4d47-8d9d-4c0f6f5ff729"
      },
      "source": [
        "os.listdir(kornli_dir)"
      ],
      "execution_count": null,
      "outputs": [
        {
          "output_type": "execute_result",
          "data": {
            "text/plain": [
              "['kornli_16000.model', 'kornli_16000.vocab']"
            ]
          },
          "metadata": {
            "tags": []
          },
          "execution_count": 54
        }
      ]
    },
    {
      "cell_type": "markdown",
      "metadata": {
        "id": "Xur3d8B1mDtq"
      },
      "source": [
        "# Vocabulary*"
      ]
    },
    {
      "cell_type": "code",
      "metadata": {
        "colab": {
          "base_uri": "https://localhost:8080/"
        },
        "id": "Ku5mkU1E8mS1",
        "outputId": "53316384-fc35-48e5-e297-8184ddc5644b"
      },
      "source": [
        "vocab = spm.SentencePieceProcessor()\n",
        "vocab.load('/content/drive/MyDrive/Data/nlp/kornli/kornli_16000.model')"
      ],
      "execution_count": null,
      "outputs": [
        {
          "output_type": "execute_result",
          "data": {
            "text/plain": [
              "True"
            ]
          },
          "metadata": {
            "tags": []
          },
          "execution_count": 50
        }
      ]
    },
    {
      "cell_type": "code",
      "metadata": {
        "colab": {
          "base_uri": "https://localhost:8080/"
        },
        "id": "azerz-CD8xEc",
        "outputId": "47dc0719-cd7c-421c-8d08-e1592976e80b"
      },
      "source": [
        "len(vocab)"
      ],
      "execution_count": null,
      "outputs": [
        {
          "output_type": "execute_result",
          "data": {
            "text/plain": [
              "16007"
            ]
          },
          "metadata": {
            "tags": []
          },
          "execution_count": 25
        }
      ]
    },
    {
      "cell_type": "code",
      "metadata": {
        "colab": {
          "base_uri": "https://localhost:8080/"
        },
        "id": "QM_NKxEu8zH6",
        "outputId": "4b465b6d-5af2-41b9-bb90-8421cfe744af"
      },
      "source": [
        "vocab.encode_as_pieces(\"아버지가방에들어가신다\")"
      ],
      "execution_count": null,
      "outputs": [
        {
          "output_type": "execute_result",
          "data": {
            "text/plain": [
              "['▁아버지', '가', '방', '에', '들', '어', '가', '신다']"
            ]
          },
          "metadata": {
            "tags": []
          },
          "execution_count": 26
        }
      ]
    },
    {
      "cell_type": "code",
      "metadata": {
        "id": "OoKAHka483pu",
        "colab": {
          "base_uri": "https://localhost:8080/"
        },
        "outputId": "268080dd-f88b-4fdf-abb1-9c7668619633"
      },
      "source": [
        "vocab.encode_as_ids(\"아버지가방에들어가신다\")"
      ],
      "execution_count": null,
      "outputs": [
        {
          "output_type": "execute_result",
          "data": {
            "text/plain": [
              "[1043, 10, 1587, 20, 293, 146, 10, 7465]"
            ]
          },
          "metadata": {
            "tags": []
          },
          "execution_count": 27
        }
      ]
    },
    {
      "cell_type": "markdown",
      "metadata": {
        "id": "FDOF4yLnIOS7"
      },
      "source": [
        "# EDA"
      ]
    },
    {
      "cell_type": "code",
      "metadata": {
        "id": "rqjRi-x6qiB2",
        "colab": {
          "base_uri": "https://localhost:8080/",
          "height": 464
        },
        "outputId": "7c13a04a-452d-4416-87ce-d02e9ecafc8f"
      },
      "source": [
        "df_multinli = pd.read_csv('multinli.train.ko.tsv', sep='\\t', error_bad_lines=False)\n",
        "df_multinli = df_multinli.dropna()\n",
        "df_multinli"
      ],
      "execution_count": null,
      "outputs": [
        {
          "output_type": "stream",
          "text": [
            "b'Skipping line 24426: expected 3 fields, saw 4\\nSkipping line 156343: expected 3 fields, saw 4\\nSkipping line 218766: expected 3 fields, saw 4\\nSkipping line 232318: expected 3 fields, saw 4\\nSkipping line 253493: expected 3 fields, saw 4\\n'\n",
            "b'Skipping line 265734: expected 3 fields, saw 4\\nSkipping line 282588: expected 3 fields, saw 4\\nSkipping line 350969: expected 3 fields, saw 4\\n'\n"
          ],
          "name": "stderr"
        },
        {
          "output_type": "execute_result",
          "data": {
            "text/html": [
              "<div>\n",
              "<style scoped>\n",
              "    .dataframe tbody tr th:only-of-type {\n",
              "        vertical-align: middle;\n",
              "    }\n",
              "\n",
              "    .dataframe tbody tr th {\n",
              "        vertical-align: top;\n",
              "    }\n",
              "\n",
              "    .dataframe thead th {\n",
              "        text-align: right;\n",
              "    }\n",
              "</style>\n",
              "<table border=\"1\" class=\"dataframe\">\n",
              "  <thead>\n",
              "    <tr style=\"text-align: right;\">\n",
              "      <th></th>\n",
              "      <th>sentence1</th>\n",
              "      <th>sentence2</th>\n",
              "      <th>gold_label</th>\n",
              "    </tr>\n",
              "  </thead>\n",
              "  <tbody>\n",
              "    <tr>\n",
              "      <th>0</th>\n",
              "      <td>개념적으로 크림 스키밍은 제품과 지리라는 두 가지 기본 차원을 가지고 있다.</td>\n",
              "      <td>제품과 지리학은 크림 스키밍을 작동시키는 것이다.</td>\n",
              "      <td>neutral</td>\n",
              "    </tr>\n",
              "    <tr>\n",
              "      <th>1</th>\n",
              "      <td>시즌 중에 알고 있는 거 알아? 네 레벨에서 다음 레벨로 잃어버리는 거야 브레이브스...</td>\n",
              "      <td>사람들이 기억하면 다음 수준으로 물건을 잃는다.</td>\n",
              "      <td>entailment</td>\n",
              "    </tr>\n",
              "    <tr>\n",
              "      <th>2</th>\n",
              "      <td>우리 번호 중 하나가 당신의 지시를 세밀하게 수행할 것이다.</td>\n",
              "      <td>우리 팀의 일원이 당신의 명령을 엄청나게 정확하게 실행할 것이다.</td>\n",
              "      <td>entailment</td>\n",
              "    </tr>\n",
              "    <tr>\n",
              "      <th>3</th>\n",
              "      <td>어떻게 아세요? 이 모든 것이 다시 그들의 정보다.</td>\n",
              "      <td>이 정보는 그들의 것이다.</td>\n",
              "      <td>entailment</td>\n",
              "    </tr>\n",
              "    <tr>\n",
              "      <th>4</th>\n",
              "      <td>그래, 만약 네가 테니스화 몇 개를 사러 간다면, 나는 왜 그들이 100달러대에서 ...</td>\n",
              "      <td>테니스화의 가격은 다양하다.</td>\n",
              "      <td>neutral</td>\n",
              "    </tr>\n",
              "    <tr>\n",
              "      <th>...</th>\n",
              "      <td>...</td>\n",
              "      <td>...</td>\n",
              "      <td>...</td>\n",
              "    </tr>\n",
              "    <tr>\n",
              "      <th>385489</th>\n",
              "      <td>분명히, 캘리포니아는 더 잘 할 수 있고, 더 잘해야 한다.</td>\n",
              "      <td>캘리포니아는 더 잘할 수 없다.</td>\n",
              "      <td>contradiction</td>\n",
              "    </tr>\n",
              "    <tr>\n",
              "      <th>385490</th>\n",
              "      <td>한때 유럽에서 가장 아름다운 거리로 여겨졌는데, 이는 원래의 많은 건물들이 교체되었...</td>\n",
              "      <td>그래서 원래의 많은 건물들이 편의점으로 대체되었다.</td>\n",
              "      <td>neutral</td>\n",
              "    </tr>\n",
              "    <tr>\n",
              "      <th>385491</th>\n",
              "      <td>하우스보트는 영국 라지의 전성기의 아름답게 보존된 전통이다.</td>\n",
              "      <td>하우스보트의 전통은 영국 라지가 여전히 강해지는 동안 시작되었다.</td>\n",
              "      <td>entailment</td>\n",
              "    </tr>\n",
              "    <tr>\n",
              "      <th>385492</th>\n",
              "      <td>사망 기사는 그의 평론가의 신디케이트 TV 쇼에서 동료 검토 자 Roger Eber...</td>\n",
              "      <td>부고문은 아름다웠고 연예계에서의 그의 업적에 대해 현물로 쓰여졌다.</td>\n",
              "      <td>neutral</td>\n",
              "    </tr>\n",
              "    <tr>\n",
              "      <th>385493</th>\n",
              "      <td>내가 해야 한다는 걸 알거나, 아니면 누가 하라고 하는 것보다 그녀를 밀고하는 것에...</td>\n",
              "      <td>남편이 요즘 너무 과로해서 이 근처에서 많은 일을 부탁할 용기가 나지 않는다.</td>\n",
              "      <td>neutral</td>\n",
              "    </tr>\n",
              "  </tbody>\n",
              "</table>\n",
              "<p>385391 rows × 3 columns</p>\n",
              "</div>"
            ],
            "text/plain": [
              "                                                sentence1  ...     gold_label\n",
              "0              개념적으로 크림 스키밍은 제품과 지리라는 두 가지 기본 차원을 가지고 있다.  ...        neutral\n",
              "1       시즌 중에 알고 있는 거 알아? 네 레벨에서 다음 레벨로 잃어버리는 거야 브레이브스...  ...     entailment\n",
              "2                       우리 번호 중 하나가 당신의 지시를 세밀하게 수행할 것이다.  ...     entailment\n",
              "3                            어떻게 아세요? 이 모든 것이 다시 그들의 정보다.  ...     entailment\n",
              "4       그래, 만약 네가 테니스화 몇 개를 사러 간다면, 나는 왜 그들이 100달러대에서 ...  ...        neutral\n",
              "...                                                   ...  ...            ...\n",
              "385489                  분명히, 캘리포니아는 더 잘 할 수 있고, 더 잘해야 한다.  ...  contradiction\n",
              "385490  한때 유럽에서 가장 아름다운 거리로 여겨졌는데, 이는 원래의 많은 건물들이 교체되었...  ...        neutral\n",
              "385491                  하우스보트는 영국 라지의 전성기의 아름답게 보존된 전통이다.  ...     entailment\n",
              "385492  사망 기사는 그의 평론가의 신디케이트 TV 쇼에서 동료 검토 자 Roger Eber...  ...        neutral\n",
              "385493  내가 해야 한다는 걸 알거나, 아니면 누가 하라고 하는 것보다 그녀를 밀고하는 것에...  ...        neutral\n",
              "\n",
              "[385391 rows x 3 columns]"
            ]
          },
          "metadata": {
            "tags": []
          },
          "execution_count": 47
        }
      ]
    },
    {
      "cell_type": "code",
      "metadata": {
        "id": "8Of_7eRLqr8D",
        "colab": {
          "base_uri": "https://localhost:8080/",
          "height": 407
        },
        "outputId": "3d4ea0db-8c7d-4c9a-8687-ec70b72a7067"
      },
      "source": [
        "df_snli = pd.read_csv('snli_1.0_train.ko.tsv', sep='\\t', error_bad_lines=False)\n",
        "df_snli = df_snli.dropna()\n",
        "df_snli"
      ],
      "execution_count": null,
      "outputs": [
        {
          "output_type": "execute_result",
          "data": {
            "text/html": [
              "<div>\n",
              "<style scoped>\n",
              "    .dataframe tbody tr th:only-of-type {\n",
              "        vertical-align: middle;\n",
              "    }\n",
              "\n",
              "    .dataframe tbody tr th {\n",
              "        vertical-align: top;\n",
              "    }\n",
              "\n",
              "    .dataframe thead th {\n",
              "        text-align: right;\n",
              "    }\n",
              "</style>\n",
              "<table border=\"1\" class=\"dataframe\">\n",
              "  <thead>\n",
              "    <tr style=\"text-align: right;\">\n",
              "      <th></th>\n",
              "      <th>sentence1</th>\n",
              "      <th>sentence2</th>\n",
              "      <th>gold_label</th>\n",
              "    </tr>\n",
              "  </thead>\n",
              "  <tbody>\n",
              "    <tr>\n",
              "      <th>0</th>\n",
              "      <td>말을 탄 사람이 고장난 비행기 위로 뛰어오른다.</td>\n",
              "      <td>한 사람이 경쟁을 위해 말을 훈련시키고 있다.</td>\n",
              "      <td>neutral</td>\n",
              "    </tr>\n",
              "    <tr>\n",
              "      <th>1</th>\n",
              "      <td>말을 탄 사람이 고장난 비행기 위로 뛰어오른다.</td>\n",
              "      <td>한 사람이 식당에서 오믈렛을 주문하고 있다.</td>\n",
              "      <td>contradiction</td>\n",
              "    </tr>\n",
              "    <tr>\n",
              "      <th>2</th>\n",
              "      <td>말을 탄 사람이 고장난 비행기 위로 뛰어오른다.</td>\n",
              "      <td>사람은 야외에서 말을 타고 있다.</td>\n",
              "      <td>entailment</td>\n",
              "    </tr>\n",
              "    <tr>\n",
              "      <th>3</th>\n",
              "      <td>카메라에 웃고 손을 흔드는 아이들</td>\n",
              "      <td>그들은 부모님을 보고 웃고 있다</td>\n",
              "      <td>neutral</td>\n",
              "    </tr>\n",
              "    <tr>\n",
              "      <th>4</th>\n",
              "      <td>카메라에 웃고 손을 흔드는 아이들</td>\n",
              "      <td>아이들이 있다</td>\n",
              "      <td>entailment</td>\n",
              "    </tr>\n",
              "    <tr>\n",
              "      <th>...</th>\n",
              "      <td>...</td>\n",
              "      <td>...</td>\n",
              "      <td>...</td>\n",
              "    </tr>\n",
              "    <tr>\n",
              "      <th>550147</th>\n",
              "      <td>네 명의 더러운 맨발의 아이들.</td>\n",
              "      <td>4명의 아이들이 '가장 깨끗한 발'로 상을 받았다</td>\n",
              "      <td>contradiction</td>\n",
              "    </tr>\n",
              "    <tr>\n",
              "      <th>550148</th>\n",
              "      <td>네 명의 더러운 맨발의 아이들.</td>\n",
              "      <td>네 명의 노숙자 아이들이 신발을 도둑맞아서 그들의 발이 더러워졌다.</td>\n",
              "      <td>neutral</td>\n",
              "    </tr>\n",
              "    <tr>\n",
              "      <th>550149</th>\n",
              "      <td>한 남자가 아름다운 푸른 물에서 바디슈트를 입고 서핑을 하고 있다.</td>\n",
              "      <td>바디슈트를 입은 남자가 서핑 대회에 참가하고 있다.</td>\n",
              "      <td>neutral</td>\n",
              "    </tr>\n",
              "    <tr>\n",
              "      <th>550150</th>\n",
              "      <td>한 남자가 아름다운 푸른 물에서 바디슈트를 입고 서핑을 하고 있다.</td>\n",
              "      <td>비즈니스 슈트를 입은 남자가 이사회로 향하고 있다.</td>\n",
              "      <td>contradiction</td>\n",
              "    </tr>\n",
              "    <tr>\n",
              "      <th>550151</th>\n",
              "      <td>한 남자가 아름다운 푸른 물에서 바디슈트를 입고 서핑을 하고 있다.</td>\n",
              "      <td>아름다운 푸른 물 위에는 바디슈트를 입은 남자가 서핑을 하고 있다.</td>\n",
              "      <td>entailment</td>\n",
              "    </tr>\n",
              "  </tbody>\n",
              "</table>\n",
              "<p>550146 rows × 3 columns</p>\n",
              "</div>"
            ],
            "text/plain": [
              "                                    sentence1  ...     gold_label\n",
              "0                  말을 탄 사람이 고장난 비행기 위로 뛰어오른다.  ...        neutral\n",
              "1                  말을 탄 사람이 고장난 비행기 위로 뛰어오른다.  ...  contradiction\n",
              "2                  말을 탄 사람이 고장난 비행기 위로 뛰어오른다.  ...     entailment\n",
              "3                          카메라에 웃고 손을 흔드는 아이들  ...        neutral\n",
              "4                          카메라에 웃고 손을 흔드는 아이들  ...     entailment\n",
              "...                                       ...  ...            ...\n",
              "550147                      네 명의 더러운 맨발의 아이들.  ...  contradiction\n",
              "550148                      네 명의 더러운 맨발의 아이들.  ...        neutral\n",
              "550149  한 남자가 아름다운 푸른 물에서 바디슈트를 입고 서핑을 하고 있다.  ...        neutral\n",
              "550150  한 남자가 아름다운 푸른 물에서 바디슈트를 입고 서핑을 하고 있다.  ...  contradiction\n",
              "550151  한 남자가 아름다운 푸른 물에서 바디슈트를 입고 서핑을 하고 있다.  ...     entailment\n",
              "\n",
              "[550146 rows x 3 columns]"
            ]
          },
          "metadata": {
            "tags": []
          },
          "execution_count": 48
        }
      ]
    },
    {
      "cell_type": "code",
      "metadata": {
        "id": "SjVfmxOFqr8G",
        "colab": {
          "base_uri": "https://localhost:8080/",
          "height": 407
        },
        "outputId": "3c6fc490-d11a-422d-965f-352c063bfafe"
      },
      "source": [
        "df_dev = pd.read_csv('xnli.dev.ko.tsv', sep='\\t', error_bad_lines=False)\n",
        "df_dev = df_dev.dropna()\n",
        "df_dev"
      ],
      "execution_count": null,
      "outputs": [
        {
          "output_type": "execute_result",
          "data": {
            "text/html": [
              "<div>\n",
              "<style scoped>\n",
              "    .dataframe tbody tr th:only-of-type {\n",
              "        vertical-align: middle;\n",
              "    }\n",
              "\n",
              "    .dataframe tbody tr th {\n",
              "        vertical-align: top;\n",
              "    }\n",
              "\n",
              "    .dataframe thead th {\n",
              "        text-align: right;\n",
              "    }\n",
              "</style>\n",
              "<table border=\"1\" class=\"dataframe\">\n",
              "  <thead>\n",
              "    <tr style=\"text-align: right;\">\n",
              "      <th></th>\n",
              "      <th>sentence1</th>\n",
              "      <th>sentence2</th>\n",
              "      <th>gold_label</th>\n",
              "    </tr>\n",
              "  </thead>\n",
              "  <tbody>\n",
              "    <tr>\n",
              "      <th>0</th>\n",
              "      <td>그리고 그가 말했다, \"엄마, 저 왔어요.\"</td>\n",
              "      <td>그는 학교 버스가 그를 내려주자마자 엄마에게 전화를 걸었다.</td>\n",
              "      <td>neutral</td>\n",
              "    </tr>\n",
              "    <tr>\n",
              "      <th>1</th>\n",
              "      <td>그리고 그가 말했다, \"엄마, 저 왔어요.\"</td>\n",
              "      <td>그는 한마디도 하지 않았다.</td>\n",
              "      <td>contradiction</td>\n",
              "    </tr>\n",
              "    <tr>\n",
              "      <th>2</th>\n",
              "      <td>그리고 그가 말했다, \"엄마, 저 왔어요.\"</td>\n",
              "      <td>그는 엄마에게 집에 갔다고 말했다.</td>\n",
              "      <td>entailment</td>\n",
              "    </tr>\n",
              "    <tr>\n",
              "      <th>3</th>\n",
              "      <td>내가 무엇을 위해 가고 있는지 또는 어떤 것을 위해 있는지 몰랐기 때문에 워싱턴의 ...</td>\n",
              "      <td>나는 워싱턴에 가본 적이 없어서 거기 배정을 받았을 때 그 장소를 찾으려다가 길을 ...</td>\n",
              "      <td>neutral</td>\n",
              "    </tr>\n",
              "    <tr>\n",
              "      <th>4</th>\n",
              "      <td>내가 무엇을 위해 가고 있는지 또는 어떤 것을 위해 있는지 몰랐기 때문에 워싱턴의 ...</td>\n",
              "      <td>워싱턴으로 진군하면서 해야 할 일이 무엇인지 정확히 알고 있었다.</td>\n",
              "      <td>contradiction</td>\n",
              "    </tr>\n",
              "    <tr>\n",
              "      <th>...</th>\n",
              "      <td>...</td>\n",
              "      <td>...</td>\n",
              "      <td>...</td>\n",
              "    </tr>\n",
              "    <tr>\n",
              "      <th>1566</th>\n",
              "      <td>피스티는 피즐처럼 중간 영어의 피스틴으로 시작되어 방귀를 뀌기 위해 주먹을 쥐었다.</td>\n",
              "      <td>Fiesty는 100년 동안 존재해 왔다.</td>\n",
              "      <td>neutral</td>\n",
              "    </tr>\n",
              "    <tr>\n",
              "      <th>1567</th>\n",
              "      <td>피스티는 피즐처럼 중간 영어의 피스틴으로 시작되어 방귀를 뀌기 위해 주먹을 쥐었다.</td>\n",
              "      <td>Fiesty는 주먹질과는 무관하다.</td>\n",
              "      <td>contradiction</td>\n",
              "    </tr>\n",
              "    <tr>\n",
              "      <th>1568</th>\n",
              "      <td>진술이 더 나은 반면, 대답은 완성의 정신적 그림을 준다.</td>\n",
              "      <td>진술은 더 자세한 내용을 알려준다.</td>\n",
              "      <td>neutral</td>\n",
              "    </tr>\n",
              "    <tr>\n",
              "      <th>1569</th>\n",
              "      <td>진술이 더 나은 반면, 대답은 완성의 정신적 그림을 준다.</td>\n",
              "      <td>진술이 더 나은 것은 아니다.</td>\n",
              "      <td>contradiction</td>\n",
              "    </tr>\n",
              "    <tr>\n",
              "      <th>1570</th>\n",
              "      <td>진술이 더 나은 반면, 대답은 완성의 정신적 그림을 준다.</td>\n",
              "      <td>진술이 더 좋다.</td>\n",
              "      <td>entailment</td>\n",
              "    </tr>\n",
              "  </tbody>\n",
              "</table>\n",
              "<p>1570 rows × 3 columns</p>\n",
              "</div>"
            ],
            "text/plain": [
              "                                              sentence1  ...     gold_label\n",
              "0                              그리고 그가 말했다, \"엄마, 저 왔어요.\"  ...        neutral\n",
              "1                              그리고 그가 말했다, \"엄마, 저 왔어요.\"  ...  contradiction\n",
              "2                              그리고 그가 말했다, \"엄마, 저 왔어요.\"  ...     entailment\n",
              "3     내가 무엇을 위해 가고 있는지 또는 어떤 것을 위해 있는지 몰랐기 때문에 워싱턴의 ...  ...        neutral\n",
              "4     내가 무엇을 위해 가고 있는지 또는 어떤 것을 위해 있는지 몰랐기 때문에 워싱턴의 ...  ...  contradiction\n",
              "...                                                 ...  ...            ...\n",
              "1566     피스티는 피즐처럼 중간 영어의 피스틴으로 시작되어 방귀를 뀌기 위해 주먹을 쥐었다.  ...        neutral\n",
              "1567     피스티는 피즐처럼 중간 영어의 피스틴으로 시작되어 방귀를 뀌기 위해 주먹을 쥐었다.  ...  contradiction\n",
              "1568                   진술이 더 나은 반면, 대답은 완성의 정신적 그림을 준다.  ...        neutral\n",
              "1569                   진술이 더 나은 반면, 대답은 완성의 정신적 그림을 준다.  ...  contradiction\n",
              "1570                   진술이 더 나은 반면, 대답은 완성의 정신적 그림을 준다.  ...     entailment\n",
              "\n",
              "[1570 rows x 3 columns]"
            ]
          },
          "metadata": {
            "tags": []
          },
          "execution_count": 49
        }
      ]
    },
    {
      "cell_type": "code",
      "metadata": {
        "id": "qMFogbk-qr8H",
        "colab": {
          "base_uri": "https://localhost:8080/",
          "height": 407
        },
        "outputId": "9820bdd8-a5b8-4892-a922-c6e1da81ed68"
      },
      "source": [
        "df_test = pd.read_csv('xnli.test.ko.tsv', sep='\\t', error_bad_lines=False)\n",
        "df_test = df_test.dropna()\n",
        "df_test"
      ],
      "execution_count": null,
      "outputs": [
        {
          "output_type": "execute_result",
          "data": {
            "text/html": [
              "<div>\n",
              "<style scoped>\n",
              "    .dataframe tbody tr th:only-of-type {\n",
              "        vertical-align: middle;\n",
              "    }\n",
              "\n",
              "    .dataframe tbody tr th {\n",
              "        vertical-align: top;\n",
              "    }\n",
              "\n",
              "    .dataframe thead th {\n",
              "        text-align: right;\n",
              "    }\n",
              "</style>\n",
              "<table border=\"1\" class=\"dataframe\">\n",
              "  <thead>\n",
              "    <tr style=\"text-align: right;\">\n",
              "      <th></th>\n",
              "      <th>sentence1</th>\n",
              "      <th>sentence2</th>\n",
              "      <th>gold_label</th>\n",
              "    </tr>\n",
              "  </thead>\n",
              "  <tbody>\n",
              "    <tr>\n",
              "      <th>0</th>\n",
              "      <td>글쎄, 나는 그것에 관해 생각조차 하지 않았지만, 나는 너무 좌절했고, 결국 그에게...</td>\n",
              "      <td>나는 그와 다시 이야기하지 않았다.</td>\n",
              "      <td>contradiction</td>\n",
              "    </tr>\n",
              "    <tr>\n",
              "      <th>1</th>\n",
              "      <td>글쎄, 나는 그것에 관해 생각조차 하지 않았지만, 나는 너무 좌절했고, 결국 그에게...</td>\n",
              "      <td>나는 다시 그와 이야기를 하기 시작했다는 것에 너무 화가 났다.</td>\n",
              "      <td>entailment</td>\n",
              "    </tr>\n",
              "    <tr>\n",
              "      <th>2</th>\n",
              "      <td>글쎄, 나는 그것에 관해 생각조차 하지 않았지만, 나는 너무 좌절했고, 결국 그에게...</td>\n",
              "      <td>우리는 좋은 대화를 나눴다.</td>\n",
              "      <td>neutral</td>\n",
              "    </tr>\n",
              "    <tr>\n",
              "      <th>3</th>\n",
              "      <td>그리고 저는 그것이 특권이라고 생각했습니다, 그리고 여전히, 여전히, 당시 저는 A...</td>\n",
              "      <td>그날 현장에 나만 있었던 게 아니라는 걸 몰랐던 것이다.</td>\n",
              "      <td>neutral</td>\n",
              "    </tr>\n",
              "    <tr>\n",
              "      <th>4</th>\n",
              "      <td>그리고 저는 그것이 특권이라고 생각했습니다, 그리고 여전히, 여전히, 당시 저는 A...</td>\n",
              "      <td>나는 AFFC 공군 경력 분야에서 그 번호를 가진 유일한 사람이라는 인상을 가지고 ...</td>\n",
              "      <td>entailment</td>\n",
              "    </tr>\n",
              "    <tr>\n",
              "      <th>...</th>\n",
              "      <td>...</td>\n",
              "      <td>...</td>\n",
              "      <td>...</td>\n",
              "    </tr>\n",
              "    <tr>\n",
              "      <th>4949</th>\n",
              "      <td>데이비슨은 스콘의 발음을 '뼈'와 운을 맞추기 위해 채택해서는 안 된다. 어쨌든 그...</td>\n",
              "      <td>Davidson은 뼈와 스콘이 같은 소리를 내는 방식으로 말하면 안 된다.</td>\n",
              "      <td>entailment</td>\n",
              "    </tr>\n",
              "    <tr>\n",
              "      <th>4950</th>\n",
              "      <td>데이비슨은 스콘의 발음을 '뼈'와 운을 맞추기 위해 채택해서는 안 된다. 어쨌든 그...</td>\n",
              "      <td>Davidson이 스콘과 뼈라는 단어에 운율을 맞추는 편이 나을 것이다.</td>\n",
              "      <td>contradiction</td>\n",
              "    </tr>\n",
              "    <tr>\n",
              "      <th>4951</th>\n",
              "      <td>25달러에 20만 단어의 평균 소설은 달러당 8,000단어로 적용된다.</td>\n",
              "      <td>25달러짜리 20만 단어 소설은 공정한 가격이다.</td>\n",
              "      <td>neutral</td>\n",
              "    </tr>\n",
              "    <tr>\n",
              "      <th>4952</th>\n",
              "      <td>25달러에 20만 단어의 평균 소설은 달러당 8,000단어로 적용된다.</td>\n",
              "      <td>25달러짜리 20만 단어 소설은 달러당 4천 단어다.</td>\n",
              "      <td>contradiction</td>\n",
              "    </tr>\n",
              "    <tr>\n",
              "      <th>4953</th>\n",
              "      <td>25달러에 20만 단어의 평균 소설은 달러당 8,000단어로 적용된다.</td>\n",
              "      <td>25달러짜리 20만 단어 소설은 달러당 8,000 단어다.</td>\n",
              "      <td>entailment</td>\n",
              "    </tr>\n",
              "  </tbody>\n",
              "</table>\n",
              "<p>4954 rows × 3 columns</p>\n",
              "</div>"
            ],
            "text/plain": [
              "                                              sentence1  ...     gold_label\n",
              "0     글쎄, 나는 그것에 관해 생각조차 하지 않았지만, 나는 너무 좌절했고, 결국 그에게...  ...  contradiction\n",
              "1     글쎄, 나는 그것에 관해 생각조차 하지 않았지만, 나는 너무 좌절했고, 결국 그에게...  ...     entailment\n",
              "2     글쎄, 나는 그것에 관해 생각조차 하지 않았지만, 나는 너무 좌절했고, 결국 그에게...  ...        neutral\n",
              "3     그리고 저는 그것이 특권이라고 생각했습니다, 그리고 여전히, 여전히, 당시 저는 A...  ...        neutral\n",
              "4     그리고 저는 그것이 특권이라고 생각했습니다, 그리고 여전히, 여전히, 당시 저는 A...  ...     entailment\n",
              "...                                                 ...  ...            ...\n",
              "4949  데이비슨은 스콘의 발음을 '뼈'와 운을 맞추기 위해 채택해서는 안 된다. 어쨌든 그...  ...     entailment\n",
              "4950  데이비슨은 스콘의 발음을 '뼈'와 운을 맞추기 위해 채택해서는 안 된다. 어쨌든 그...  ...  contradiction\n",
              "4951            25달러에 20만 단어의 평균 소설은 달러당 8,000단어로 적용된다.  ...        neutral\n",
              "4952            25달러에 20만 단어의 평균 소설은 달러당 8,000단어로 적용된다.  ...  contradiction\n",
              "4953            25달러에 20만 단어의 평균 소설은 달러당 8,000단어로 적용된다.  ...     entailment\n",
              "\n",
              "[4954 rows x 3 columns]"
            ]
          },
          "metadata": {
            "tags": []
          },
          "execution_count": 50
        }
      ]
    },
    {
      "cell_type": "code",
      "metadata": {
        "id": "_LTS2pbbqh0-",
        "colab": {
          "base_uri": "https://localhost:8080/",
          "height": 407
        },
        "outputId": "6f887054-b61d-4822-e9c5-473db20f6d9a"
      },
      "source": [
        "df_train = pd.concat([df_multinli, df_snli], ignore_index=True)\n",
        "df_train"
      ],
      "execution_count": null,
      "outputs": [
        {
          "output_type": "execute_result",
          "data": {
            "text/html": [
              "<div>\n",
              "<style scoped>\n",
              "    .dataframe tbody tr th:only-of-type {\n",
              "        vertical-align: middle;\n",
              "    }\n",
              "\n",
              "    .dataframe tbody tr th {\n",
              "        vertical-align: top;\n",
              "    }\n",
              "\n",
              "    .dataframe thead th {\n",
              "        text-align: right;\n",
              "    }\n",
              "</style>\n",
              "<table border=\"1\" class=\"dataframe\">\n",
              "  <thead>\n",
              "    <tr style=\"text-align: right;\">\n",
              "      <th></th>\n",
              "      <th>sentence1</th>\n",
              "      <th>sentence2</th>\n",
              "      <th>gold_label</th>\n",
              "    </tr>\n",
              "  </thead>\n",
              "  <tbody>\n",
              "    <tr>\n",
              "      <th>0</th>\n",
              "      <td>개념적으로 크림 스키밍은 제품과 지리라는 두 가지 기본 차원을 가지고 있다.</td>\n",
              "      <td>제품과 지리학은 크림 스키밍을 작동시키는 것이다.</td>\n",
              "      <td>neutral</td>\n",
              "    </tr>\n",
              "    <tr>\n",
              "      <th>1</th>\n",
              "      <td>시즌 중에 알고 있는 거 알아? 네 레벨에서 다음 레벨로 잃어버리는 거야 브레이브스...</td>\n",
              "      <td>사람들이 기억하면 다음 수준으로 물건을 잃는다.</td>\n",
              "      <td>entailment</td>\n",
              "    </tr>\n",
              "    <tr>\n",
              "      <th>2</th>\n",
              "      <td>우리 번호 중 하나가 당신의 지시를 세밀하게 수행할 것이다.</td>\n",
              "      <td>우리 팀의 일원이 당신의 명령을 엄청나게 정확하게 실행할 것이다.</td>\n",
              "      <td>entailment</td>\n",
              "    </tr>\n",
              "    <tr>\n",
              "      <th>3</th>\n",
              "      <td>어떻게 아세요? 이 모든 것이 다시 그들의 정보다.</td>\n",
              "      <td>이 정보는 그들의 것이다.</td>\n",
              "      <td>entailment</td>\n",
              "    </tr>\n",
              "    <tr>\n",
              "      <th>4</th>\n",
              "      <td>그래, 만약 네가 테니스화 몇 개를 사러 간다면, 나는 왜 그들이 100달러대에서 ...</td>\n",
              "      <td>테니스화의 가격은 다양하다.</td>\n",
              "      <td>neutral</td>\n",
              "    </tr>\n",
              "    <tr>\n",
              "      <th>...</th>\n",
              "      <td>...</td>\n",
              "      <td>...</td>\n",
              "      <td>...</td>\n",
              "    </tr>\n",
              "    <tr>\n",
              "      <th>935532</th>\n",
              "      <td>네 명의 더러운 맨발의 아이들.</td>\n",
              "      <td>4명의 아이들이 '가장 깨끗한 발'로 상을 받았다</td>\n",
              "      <td>contradiction</td>\n",
              "    </tr>\n",
              "    <tr>\n",
              "      <th>935533</th>\n",
              "      <td>네 명의 더러운 맨발의 아이들.</td>\n",
              "      <td>네 명의 노숙자 아이들이 신발을 도둑맞아서 그들의 발이 더러워졌다.</td>\n",
              "      <td>neutral</td>\n",
              "    </tr>\n",
              "    <tr>\n",
              "      <th>935534</th>\n",
              "      <td>한 남자가 아름다운 푸른 물에서 바디슈트를 입고 서핑을 하고 있다.</td>\n",
              "      <td>바디슈트를 입은 남자가 서핑 대회에 참가하고 있다.</td>\n",
              "      <td>neutral</td>\n",
              "    </tr>\n",
              "    <tr>\n",
              "      <th>935535</th>\n",
              "      <td>한 남자가 아름다운 푸른 물에서 바디슈트를 입고 서핑을 하고 있다.</td>\n",
              "      <td>비즈니스 슈트를 입은 남자가 이사회로 향하고 있다.</td>\n",
              "      <td>contradiction</td>\n",
              "    </tr>\n",
              "    <tr>\n",
              "      <th>935536</th>\n",
              "      <td>한 남자가 아름다운 푸른 물에서 바디슈트를 입고 서핑을 하고 있다.</td>\n",
              "      <td>아름다운 푸른 물 위에는 바디슈트를 입은 남자가 서핑을 하고 있다.</td>\n",
              "      <td>entailment</td>\n",
              "    </tr>\n",
              "  </tbody>\n",
              "</table>\n",
              "<p>935537 rows × 3 columns</p>\n",
              "</div>"
            ],
            "text/plain": [
              "                                                sentence1  ...     gold_label\n",
              "0              개념적으로 크림 스키밍은 제품과 지리라는 두 가지 기본 차원을 가지고 있다.  ...        neutral\n",
              "1       시즌 중에 알고 있는 거 알아? 네 레벨에서 다음 레벨로 잃어버리는 거야 브레이브스...  ...     entailment\n",
              "2                       우리 번호 중 하나가 당신의 지시를 세밀하게 수행할 것이다.  ...     entailment\n",
              "3                            어떻게 아세요? 이 모든 것이 다시 그들의 정보다.  ...     entailment\n",
              "4       그래, 만약 네가 테니스화 몇 개를 사러 간다면, 나는 왜 그들이 100달러대에서 ...  ...        neutral\n",
              "...                                                   ...  ...            ...\n",
              "935532                                  네 명의 더러운 맨발의 아이들.  ...  contradiction\n",
              "935533                                  네 명의 더러운 맨발의 아이들.  ...        neutral\n",
              "935534              한 남자가 아름다운 푸른 물에서 바디슈트를 입고 서핑을 하고 있다.  ...        neutral\n",
              "935535              한 남자가 아름다운 푸른 물에서 바디슈트를 입고 서핑을 하고 있다.  ...  contradiction\n",
              "935536              한 남자가 아름다운 푸른 물에서 바디슈트를 입고 서핑을 하고 있다.  ...     entailment\n",
              "\n",
              "[935537 rows x 3 columns]"
            ]
          },
          "metadata": {
            "tags": []
          },
          "execution_count": 53
        }
      ]
    },
    {
      "cell_type": "code",
      "metadata": {
        "colab": {
          "base_uri": "https://localhost:8080/"
        },
        "id": "QezlEuBbQZMt",
        "outputId": "b5be2ee7-7ede-4603-8b31-80dc9e268164"
      },
      "source": [
        "aa = df_train['sentence1']\n",
        "bb = df_train['sentence2']\n",
        "\n",
        "cc = aa + bb\n",
        "cc"
      ],
      "execution_count": null,
      "outputs": [
        {
          "output_type": "execute_result",
          "data": {
            "text/plain": [
              "0         개념적으로 크림 스키밍은 제품과 지리라는 두 가지 기본 차원을 가지고 있다.제품과 ...\n",
              "1         시즌 중에 알고 있는 거 알아? 네 레벨에서 다음 레벨로 잃어버리는 거야 브레이브스...\n",
              "2         우리 번호 중 하나가 당신의 지시를 세밀하게 수행할 것이다.우리 팀의 일원이 당신의...\n",
              "3                어떻게 아세요? 이 모든 것이 다시 그들의 정보다.이 정보는 그들의 것이다.\n",
              "4         그래, 만약 네가 테니스화 몇 개를 사러 간다면, 나는 왜 그들이 100달러대에서 ...\n",
              "                                ...                        \n",
              "935532         네 명의 더러운 맨발의 아이들.4명의 아이들이 '가장 깨끗한 발'로 상을 받았다\n",
              "935533    네 명의 더러운 맨발의 아이들.네 명의 노숙자 아이들이 신발을 도둑맞아서 그들의 발...\n",
              "935534    한 남자가 아름다운 푸른 물에서 바디슈트를 입고 서핑을 하고 있다.바디슈트를 입은 ...\n",
              "935535    한 남자가 아름다운 푸른 물에서 바디슈트를 입고 서핑을 하고 있다.비즈니스 슈트를 ...\n",
              "935536    한 남자가 아름다운 푸른 물에서 바디슈트를 입고 서핑을 하고 있다.아름다운 푸른 물...\n",
              "Length: 935537, dtype: object"
            ]
          },
          "metadata": {
            "tags": []
          },
          "execution_count": 54
        }
      ]
    },
    {
      "cell_type": "code",
      "metadata": {
        "colab": {
          "base_uri": "https://localhost:8080/"
        },
        "id": "Njx2S-oura8V",
        "outputId": "2dfc72f0-d608-48dd-e4a9-d9a826128b94"
      },
      "source": [
        "# data 합치기\n",
        "q_train = pd.Series(df_train['sentence1'].tolist() + df_train['sentence2'].tolist()).astype(str)\n",
        "len(q_train), q_train.head(10)"
      ],
      "execution_count": null,
      "outputs": [
        {
          "output_type": "execute_result",
          "data": {
            "text/plain": [
              "(1871074, 0           개념적으로 크림 스키밍은 제품과 지리라는 두 가지 기본 차원을 가지고 있다.\n",
              " 1    시즌 중에 알고 있는 거 알아? 네 레벨에서 다음 레벨로 잃어버리는 거야 브레이브스...\n",
              " 2                    우리 번호 중 하나가 당신의 지시를 세밀하게 수행할 것이다.\n",
              " 3                         어떻게 아세요? 이 모든 것이 다시 그들의 정보다.\n",
              " 4    그래, 만약 네가 테니스화 몇 개를 사러 간다면, 나는 왜 그들이 100달러대에서 ...\n",
              " 5              내 워커가 고장나서 지금 화가 났어. 스테레오를 정말 크게 틀어야 해.\n",
              " 6    그러나 apse 위에서 살아남은 기독교 모자이크 몇 개는 아기 예수와 함께 성모인데...\n",
              " 7                     (슬레이트에 대한 읽기는 잭슨의 연구 결과를 받아들인다.)\n",
              " 8                                          게이들과 레즈비언들.\n",
              " 9    Rue des Francs-Bourgeois의 끝에는 많은 사람들이 돌과 붉은 벽돌...\n",
              " dtype: object)"
            ]
          },
          "metadata": {
            "tags": []
          },
          "execution_count": 52
        }
      ]
    },
    {
      "cell_type": "markdown",
      "metadata": {
        "id": "QEWYzCnwIxdd"
      },
      "source": [
        "## char length"
      ]
    },
    {
      "cell_type": "code",
      "metadata": {
        "colab": {
          "base_uri": "https://localhost:8080/"
        },
        "id": "9MSy9WxLI0PS",
        "outputId": "3f99779e-754c-4a56-f793-3109eb001b2f"
      },
      "source": [
        "# char 길이 데이터\n",
        "train_length = q_train.apply(len)\n",
        "train_length.head(10)"
      ],
      "execution_count": null,
      "outputs": [
        {
          "output_type": "execute_result",
          "data": {
            "text/plain": [
              "0     42\n",
              "1    134\n",
              "2     33\n",
              "3     28\n",
              "4     70\n",
              "5     39\n",
              "6    107\n",
              "7     32\n",
              "8     11\n",
              "9    104\n",
              "dtype: int64"
            ]
          },
          "metadata": {
            "tags": []
          },
          "execution_count": 23
        }
      ]
    },
    {
      "cell_type": "code",
      "metadata": {
        "colab": {
          "base_uri": "https://localhost:8080/",
          "height": 295
        },
        "id": "EQr9jGodJAER",
        "outputId": "8cc988ef-9784-4ca3-cbd4-b435bfb12735"
      },
      "source": [
        "plt.figure(figsize=(8, 4))\n",
        "plt.hist(train_length, bins=200, range=[0, 200], facecolor='r', label='char')\n",
        "plt.title('Lengh of char')\n",
        "plt.xlabel('Number of char')\n",
        "plt.ylabel('Count of review')\n",
        "plt.show()"
      ],
      "execution_count": null,
      "outputs": [
        {
          "output_type": "display_data",
          "data": {
            "image/png": "[encoded data removed]",
            "text/plain": [
              "<Figure size 576x288 with 1 Axes>"
            ]
          },
          "metadata": {
            "tags": [],
            "needs_background": "light"
          }
        }
      ]
    },
    {
      "cell_type": "code",
      "metadata": {
        "colab": {
          "base_uri": "https://localhost:8080/"
        },
        "id": "edNf9KmcJTvX",
        "outputId": "c787acc0-d6c1-49e2-f42c-22423cb5c491"
      },
      "source": [
        "# 데이터 길이\n",
        "print(f\"char 길이 최대:    {np.max(train_length):4d}\")\n",
        "print(f\"char 길이 최소:    {np.min(train_length):4d}\")\n",
        "print(f\"char 길이 평균:    {np.mean(train_length):7.2f}\")\n",
        "print(f\"char 길이 표준편차: {np.std(train_length):7.2f}\")"
      ],
      "execution_count": null,
      "outputs": [
        {
          "output_type": "stream",
          "text": [
            "char 길이 최대:    16542\n",
            "char 길이 최소:       1\n",
            "char 길이 평균:      32.99\n",
            "char 길이 표준편차:   46.12\n"
          ],
          "name": "stdout"
        }
      ]
    },
    {
      "cell_type": "code",
      "metadata": {
        "colab": {
          "base_uri": "https://localhost:8080/"
        },
        "id": "KqgC3VinJMSn",
        "outputId": "628496f4-08cc-49ff-e443-69d7e8e3046f"
      },
      "source": [
        "percentile25 = np.percentile(train_length, 25)\n",
        "percentile50 = np.percentile(train_length, 50)\n",
        "percentile75 = np.percentile(train_length, 75)\n",
        "percentileIQR = percentile75 - percentile25\n",
        "percentileMAX = percentile75 + percentileIQR * 1.5\n",
        "print(f\"char 25/100분위:  {percentile25:7.2f}\")\n",
        "print(f\"char 50/100분위:  {percentile50:7.2f}\")\n",
        "print(f\"char 75/100분위:  {percentile75:7.2f}\")\n",
        "print(f\"char IQR:        {percentileIQR:7.2f}\")\n",
        "print(f\"char MAX/100분위: {percentileMAX:7.2f}\")"
      ],
      "execution_count": null,
      "outputs": [
        {
          "output_type": "stream",
          "text": [
            "char 25/100분위:    19.00\n",
            "char 50/100분위:    26.00\n",
            "char 75/100분위:    39.00\n",
            "char IQR:          20.00\n",
            "char MAX/100분위:   69.00\n"
          ],
          "name": "stdout"
        }
      ]
    },
    {
      "cell_type": "code",
      "metadata": {
        "colab": {
          "base_uri": "https://localhost:8080/",
          "height": 374
        },
        "id": "vlBMo18GJbSG",
        "outputId": "c461fafb-03b7-4834-9056-0baaca2df41f"
      },
      "source": [
        "plt.figure(figsize=(4, 6))\n",
        "plt.boxplot(train_length, labels=['char counts'], showmeans=True)\n",
        "plt.show()"
      ],
      "execution_count": null,
      "outputs": [
        {
          "output_type": "display_data",
          "data": {
            "image/png": "[encoded data removed]",
            "text/plain": [
              "<Figure size 288x432 with 1 Axes>"
            ]
          },
          "metadata": {
            "tags": [],
            "needs_background": "light"
          }
        }
      ]
    },
    {
      "cell_type": "markdown",
      "metadata": {
        "id": "5J7mKomVJrcR"
      },
      "source": [
        "## word length"
      ]
    },
    {
      "cell_type": "code",
      "metadata": {
        "colab": {
          "base_uri": "https://localhost:8080/"
        },
        "id": "pTn7llNmJrcS",
        "outputId": "169fe189-4b1d-4165-9c76-af930613c69e"
      },
      "source": [
        "# word 길이 데이터\n",
        "train_length = q_train.apply(lambda x:len(x.split()))\n",
        "train_length.head(10)"
      ],
      "execution_count": null,
      "outputs": [
        {
          "output_type": "execute_result",
          "data": {
            "text/plain": [
              "0    11\n",
              "1    34\n",
              "2     9\n",
              "3     8\n",
              "4    20\n",
              "5    11\n",
              "6    26\n",
              "7     7\n",
              "8     2\n",
              "9    22\n",
              "dtype: int64"
            ]
          },
          "metadata": {
            "tags": []
          },
          "execution_count": 30
        }
      ]
    },
    {
      "cell_type": "code",
      "metadata": {
        "colab": {
          "base_uri": "https://localhost:8080/",
          "height": 295
        },
        "id": "UxTIm3_sJrcS",
        "outputId": "ed9df760-c886-477c-9b88-fcba29fb1957"
      },
      "source": [
        "plt.figure(figsize=(8, 4))\n",
        "plt.hist(train_length, bins=40, range=[0, 40], facecolor='r', label='word')\n",
        "plt.title('Lengh of word')\n",
        "plt.xlabel('Number of word')\n",
        "plt.ylabel('Count of review')\n",
        "plt.show()"
      ],
      "execution_count": null,
      "outputs": [
        {
          "output_type": "display_data",
          "data": {
            "image/png": "[encoded data removed]",
            "text/plain": [
              "<Figure size 576x288 with 1 Axes>"
            ]
          },
          "metadata": {
            "tags": [],
            "needs_background": "light"
          }
        }
      ]
    },
    {
      "cell_type": "code",
      "metadata": {
        "colab": {
          "base_uri": "https://localhost:8080/"
        },
        "id": "mc_09rgGJrcT",
        "outputId": "b3ebb1c7-a7fc-4344-e214-ce30cac00ba3"
      },
      "source": [
        "# 데이터 길이\n",
        "print(f\"word 길이 최대:    {np.max(train_length):4d}\")\n",
        "print(f\"word 길이 최소:    {np.min(train_length):4d}\")\n",
        "print(f\"word 길이 평균:    {np.mean(train_length):7.2f}\")\n",
        "print(f\"word 길이 표준편차: {np.std(train_length):7.2f}\")"
      ],
      "execution_count": null,
      "outputs": [
        {
          "output_type": "stream",
          "text": [
            "word 길이 최대:    3805\n",
            "word 길이 최소:       1\n",
            "word 길이 평균:       8.65\n",
            "word 길이 표준편차:   10.75\n"
          ],
          "name": "stdout"
        }
      ]
    },
    {
      "cell_type": "code",
      "metadata": {
        "colab": {
          "base_uri": "https://localhost:8080/"
        },
        "id": "JenJCAxLJrcT",
        "outputId": "050db6b5-a11a-4744-a33d-110018737ba4"
      },
      "source": [
        "percentile25 = np.percentile(train_length, 25)\n",
        "percentile50 = np.percentile(train_length, 50)\n",
        "percentile75 = np.percentile(train_length, 75)\n",
        "percentileIQR = percentile75 - percentile25\n",
        "percentileMAX = percentile75 + percentileIQR * 1.5\n",
        "print(f\"word 25/100분위:  {percentile25:7.2f}\")\n",
        "print(f\"word 50/100분위:  {percentile50:7.2f}\")\n",
        "print(f\"word 75/100분위:  {percentile75:7.2f}\")\n",
        "print(f\"word IQR:        {percentileIQR:7.2f}\")\n",
        "print(f\"word MAX/100분위: {percentileMAX:7.2f}\")"
      ],
      "execution_count": null,
      "outputs": [
        {
          "output_type": "stream",
          "text": [
            "word 25/100분위:     5.00\n",
            "word 50/100분위:     7.00\n",
            "word 75/100분위:    10.00\n",
            "word IQR:           5.00\n",
            "word MAX/100분위:   17.50\n"
          ],
          "name": "stdout"
        }
      ]
    },
    {
      "cell_type": "code",
      "metadata": {
        "colab": {
          "base_uri": "https://localhost:8080/",
          "height": 374
        },
        "id": "i2v4jJp6JrcT",
        "outputId": "224c7393-a531-4269-f126-5fbc60d60e10"
      },
      "source": [
        "plt.figure(figsize=(4, 6))\n",
        "plt.boxplot(train_length, labels=['word counts'], showmeans=True)\n",
        "plt.show()"
      ],
      "execution_count": null,
      "outputs": [
        {
          "output_type": "display_data",
          "data": {
            "image/png": "[encoded data removed]",
            "text/plain": [
              "<Figure size 288x432 with 1 Axes>"
            ]
          },
          "metadata": {
            "tags": [],
            "needs_background": "light"
          }
        }
      ]
    },
    {
      "cell_type": "markdown",
      "metadata": {
        "id": "MueuVweArNg5"
      },
      "source": [
        "## token length"
      ]
    },
    {
      "cell_type": "code",
      "metadata": {
        "id": "zbs235C4KQqH"
      },
      "source": [
        "# document 길이 데이터\n",
        "train_length = q_train.apply(lambda x:len(vocab.encode_as_pieces(x)))\n",
        "train_length.head(10)"
      ],
      "execution_count": null,
      "outputs": []
    },
    {
      "cell_type": "code",
      "metadata": {
        "colab": {
          "base_uri": "https://localhost:8080/",
          "height": 295
        },
        "id": "coLzU6iZKQqI",
        "outputId": "203ee800-2dfb-48a0-a25b-93f74a4b6147"
      },
      "source": [
        "plt.figure(figsize=(8, 4))\n",
        "plt.hist(train_length, bins=100, range=[0, 100], facecolor='r', label='word')\n",
        "plt.title('Lengh of word')\n",
        "plt.xlabel('Number of word')\n",
        "plt.ylabel('Count of review')\n",
        "plt.show()"
      ],
      "execution_count": null,
      "outputs": [
        {
          "output_type": "display_data",
          "data": {
            "image/png": "[encoded data removed]",
            "text/plain": [
              "<Figure size 576x288 with 1 Axes>"
            ]
          },
          "metadata": {
            "tags": [],
            "needs_background": "light"
          }
        }
      ]
    },
    {
      "cell_type": "code",
      "metadata": {
        "colab": {
          "base_uri": "https://localhost:8080/"
        },
        "id": "i8J-abm_KQqI",
        "outputId": "d3fbe626-7b94-4c1b-dbb1-6f8c3d814ed1"
      },
      "source": [
        "# 데이터 길이\n",
        "print(f\"token 길이 최대:    {np.max(train_length):4d}\")\n",
        "print(f\"token 길이 최소:    {np.min(train_length):4d}\")\n",
        "print(f\"token 길이 평균:    {np.mean(train_length):7.2f}\")\n",
        "print(f\"token 길이 표준편차: {np.std(train_length):7.2f}\")"
      ],
      "execution_count": null,
      "outputs": [
        {
          "output_type": "stream",
          "text": [
            "token 길이 최대:    6919\n",
            "token 길이 최소:       1\n",
            "token 길이 평균:      14.54\n",
            "token 길이 표준편차:   19.65\n"
          ],
          "name": "stdout"
        }
      ]
    },
    {
      "cell_type": "code",
      "metadata": {
        "colab": {
          "base_uri": "https://localhost:8080/"
        },
        "id": "ktpCiXJnKQqJ",
        "outputId": "223914ff-00f7-4067-b1ad-5c5caae5b309"
      },
      "source": [
        "percentile25 = np.percentile(train_length, 25)\n",
        "percentile50 = np.percentile(train_length, 50)\n",
        "percentile75 = np.percentile(train_length, 75)\n",
        "percentileIQR = percentile75 - percentile25\n",
        "percentileMAX = percentile75 + percentileIQR * 1.5\n",
        "print(f\"token 25/100분위:  {percentile25:7.2f}\")\n",
        "print(f\"token 50/100분위:  {percentile50:7.2f}\")\n",
        "print(f\"token 75/100분위:  {percentile75:7.2f}\")\n",
        "print(f\"token IQR:        {percentileIQR:7.2f}\")\n",
        "print(f\"token MAX/100분위: {percentileMAX:7.2f}\")"
      ],
      "execution_count": null,
      "outputs": [
        {
          "output_type": "stream",
          "text": [
            "token 25/100분위:     8.00\n",
            "token 50/100분위:    12.00\n",
            "token 75/100분위:    17.00\n",
            "token IQR:           9.00\n",
            "token MAX/100분위:   30.50\n"
          ],
          "name": "stdout"
        }
      ]
    },
    {
      "cell_type": "code",
      "metadata": {
        "colab": {
          "base_uri": "https://localhost:8080/",
          "height": 374
        },
        "id": "Zxe6wfX_KQqJ",
        "outputId": "fc7033c7-d248-4753-f581-f1e30b7754c0"
      },
      "source": [
        "plt.figure(figsize=(4, 6))\n",
        "plt.boxplot(train_length, labels=['token counts'], showmeans=True)\n",
        "plt.show()"
      ],
      "execution_count": null,
      "outputs": [
        {
          "output_type": "display_data",
          "data": {
            "image/png": "[encoded data removed]",
            "text/plain": [
              "<Figure size 288x432 with 1 Axes>"
            ]
          },
          "metadata": {
            "tags": [],
            "needs_background": "light"
          }
        }
      ]
    },
    {
      "cell_type": "markdown",
      "metadata": {
        "id": "uSs8BOkarNg7"
      },
      "source": [
        "## Label Count"
      ]
    },
    {
      "cell_type": "code",
      "metadata": {
        "colab": {
          "base_uri": "https://localhost:8080/"
        },
        "id": "LaygcvJoK7ez",
        "outputId": "a6f496c7-17bd-4fb5-bc4c-93dae440a801"
      },
      "source": [
        "label_count = df_train['gold_label'].value_counts()\n",
        "label_count"
      ],
      "execution_count": null,
      "outputs": [
        {
          "output_type": "execute_result",
          "data": {
            "text/plain": [
              "contradiction    311870\n",
              "neutral          311847\n",
              "entailment       311820\n",
              "Name: gold_label, dtype: int64"
            ]
          },
          "metadata": {
            "tags": []
          },
          "execution_count": 42
        }
      ]
    },
    {
      "cell_type": "code",
      "metadata": {
        "colab": {
          "base_uri": "https://localhost:8080/",
          "height": 265
        },
        "id": "KAqNfqYiLOFA",
        "outputId": "f1b34df1-a74b-4133-bc83-270a74ed773a"
      },
      "source": [
        "plt.bar([\"contradiction\", \"neutral\", \"entailment\"], label_count)\n",
        "plt.show()"
      ],
      "execution_count": null,
      "outputs": [
        {
          "output_type": "display_data",
          "data": {
            "image/png": "[encoded data removed]",
            "text/plain": [
              "<Figure size 432x288 with 1 Axes>"
            ]
          },
          "metadata": {
            "tags": [],
            "needs_background": "light"
          }
        }
      ]
    },
    {
      "cell_type": "markdown",
      "metadata": {
        "id": "LvylK3P37t6w"
      },
      "source": [
        "# Small Data Project (참고 Day-18 실습)"
      ]
    },
    {
      "cell_type": "markdown",
      "metadata": {
        "id": "Vwjo-BxiCiki"
      },
      "source": [
        "## Train, Dev, Test 데이터 생성"
      ]
    },
    {
      "cell_type": "code",
      "metadata": {
        "id": "5fo87r0bCWli",
        "colab": {
          "base_uri": "https://localhost:8080/",
          "height": 464
        },
        "outputId": "f7ce9607-b2dc-4bd4-b075-db1467b8fe32"
      },
      "source": [
        "df_multinli = pd.read_csv('multinli.train.ko.tsv', sep='\\t', error_bad_lines=False)\n",
        "df_multinli = df_multinli.dropna()\n",
        "df_multinli"
      ],
      "execution_count": null,
      "outputs": [
        {
          "output_type": "stream",
          "text": [
            "b'Skipping line 24426: expected 3 fields, saw 4\\nSkipping line 156343: expected 3 fields, saw 4\\nSkipping line 218766: expected 3 fields, saw 4\\nSkipping line 232318: expected 3 fields, saw 4\\nSkipping line 253493: expected 3 fields, saw 4\\n'\n",
            "b'Skipping line 265734: expected 3 fields, saw 4\\nSkipping line 282588: expected 3 fields, saw 4\\nSkipping line 350969: expected 3 fields, saw 4\\n'\n"
          ],
          "name": "stderr"
        },
        {
          "output_type": "execute_result",
          "data": {
            "text/html": [
              "<div>\n",
              "<style scoped>\n",
              "    .dataframe tbody tr th:only-of-type {\n",
              "        vertical-align: middle;\n",
              "    }\n",
              "\n",
              "    .dataframe tbody tr th {\n",
              "        vertical-align: top;\n",
              "    }\n",
              "\n",
              "    .dataframe thead th {\n",
              "        text-align: right;\n",
              "    }\n",
              "</style>\n",
              "<table border=\"1\" class=\"dataframe\">\n",
              "  <thead>\n",
              "    <tr style=\"text-align: right;\">\n",
              "      <th></th>\n",
              "      <th>sentence1</th>\n",
              "      <th>sentence2</th>\n",
              "      <th>gold_label</th>\n",
              "    </tr>\n",
              "  </thead>\n",
              "  <tbody>\n",
              "    <tr>\n",
              "      <th>0</th>\n",
              "      <td>개념적으로 크림 스키밍은 제품과 지리라는 두 가지 기본 차원을 가지고 있다.</td>\n",
              "      <td>제품과 지리학은 크림 스키밍을 작동시키는 것이다.</td>\n",
              "      <td>neutral</td>\n",
              "    </tr>\n",
              "    <tr>\n",
              "      <th>1</th>\n",
              "      <td>시즌 중에 알고 있는 거 알아? 네 레벨에서 다음 레벨로 잃어버리는 거야 브레이브스...</td>\n",
              "      <td>사람들이 기억하면 다음 수준으로 물건을 잃는다.</td>\n",
              "      <td>entailment</td>\n",
              "    </tr>\n",
              "    <tr>\n",
              "      <th>2</th>\n",
              "      <td>우리 번호 중 하나가 당신의 지시를 세밀하게 수행할 것이다.</td>\n",
              "      <td>우리 팀의 일원이 당신의 명령을 엄청나게 정확하게 실행할 것이다.</td>\n",
              "      <td>entailment</td>\n",
              "    </tr>\n",
              "    <tr>\n",
              "      <th>3</th>\n",
              "      <td>어떻게 아세요? 이 모든 것이 다시 그들의 정보다.</td>\n",
              "      <td>이 정보는 그들의 것이다.</td>\n",
              "      <td>entailment</td>\n",
              "    </tr>\n",
              "    <tr>\n",
              "      <th>4</th>\n",
              "      <td>그래, 만약 네가 테니스화 몇 개를 사러 간다면, 나는 왜 그들이 100달러대에서 ...</td>\n",
              "      <td>테니스화의 가격은 다양하다.</td>\n",
              "      <td>neutral</td>\n",
              "    </tr>\n",
              "    <tr>\n",
              "      <th>...</th>\n",
              "      <td>...</td>\n",
              "      <td>...</td>\n",
              "      <td>...</td>\n",
              "    </tr>\n",
              "    <tr>\n",
              "      <th>385489</th>\n",
              "      <td>분명히, 캘리포니아는 더 잘 할 수 있고, 더 잘해야 한다.</td>\n",
              "      <td>캘리포니아는 더 잘할 수 없다.</td>\n",
              "      <td>contradiction</td>\n",
              "    </tr>\n",
              "    <tr>\n",
              "      <th>385490</th>\n",
              "      <td>한때 유럽에서 가장 아름다운 거리로 여겨졌는데, 이는 원래의 많은 건물들이 교체되었...</td>\n",
              "      <td>그래서 원래의 많은 건물들이 편의점으로 대체되었다.</td>\n",
              "      <td>neutral</td>\n",
              "    </tr>\n",
              "    <tr>\n",
              "      <th>385491</th>\n",
              "      <td>하우스보트는 영국 라지의 전성기의 아름답게 보존된 전통이다.</td>\n",
              "      <td>하우스보트의 전통은 영국 라지가 여전히 강해지는 동안 시작되었다.</td>\n",
              "      <td>entailment</td>\n",
              "    </tr>\n",
              "    <tr>\n",
              "      <th>385492</th>\n",
              "      <td>사망 기사는 그의 평론가의 신디케이트 TV 쇼에서 동료 검토 자 Roger Eber...</td>\n",
              "      <td>부고문은 아름다웠고 연예계에서의 그의 업적에 대해 현물로 쓰여졌다.</td>\n",
              "      <td>neutral</td>\n",
              "    </tr>\n",
              "    <tr>\n",
              "      <th>385493</th>\n",
              "      <td>내가 해야 한다는 걸 알거나, 아니면 누가 하라고 하는 것보다 그녀를 밀고하는 것에...</td>\n",
              "      <td>남편이 요즘 너무 과로해서 이 근처에서 많은 일을 부탁할 용기가 나지 않는다.</td>\n",
              "      <td>neutral</td>\n",
              "    </tr>\n",
              "  </tbody>\n",
              "</table>\n",
              "<p>385391 rows × 3 columns</p>\n",
              "</div>"
            ],
            "text/plain": [
              "                                                sentence1  ...     gold_label\n",
              "0              개념적으로 크림 스키밍은 제품과 지리라는 두 가지 기본 차원을 가지고 있다.  ...        neutral\n",
              "1       시즌 중에 알고 있는 거 알아? 네 레벨에서 다음 레벨로 잃어버리는 거야 브레이브스...  ...     entailment\n",
              "2                       우리 번호 중 하나가 당신의 지시를 세밀하게 수행할 것이다.  ...     entailment\n",
              "3                            어떻게 아세요? 이 모든 것이 다시 그들의 정보다.  ...     entailment\n",
              "4       그래, 만약 네가 테니스화 몇 개를 사러 간다면, 나는 왜 그들이 100달러대에서 ...  ...        neutral\n",
              "...                                                   ...  ...            ...\n",
              "385489                  분명히, 캘리포니아는 더 잘 할 수 있고, 더 잘해야 한다.  ...  contradiction\n",
              "385490  한때 유럽에서 가장 아름다운 거리로 여겨졌는데, 이는 원래의 많은 건물들이 교체되었...  ...        neutral\n",
              "385491                  하우스보트는 영국 라지의 전성기의 아름답게 보존된 전통이다.  ...     entailment\n",
              "385492  사망 기사는 그의 평론가의 신디케이트 TV 쇼에서 동료 검토 자 Roger Eber...  ...        neutral\n",
              "385493  내가 해야 한다는 걸 알거나, 아니면 누가 하라고 하는 것보다 그녀를 밀고하는 것에...  ...        neutral\n",
              "\n",
              "[385391 rows x 3 columns]"
            ]
          },
          "metadata": {
            "tags": []
          },
          "execution_count": 15
        }
      ]
    },
    {
      "cell_type": "code",
      "metadata": {
        "id": "_73xHw4GCWli",
        "colab": {
          "base_uri": "https://localhost:8080/",
          "height": 407
        },
        "outputId": "33bea333-1c7d-4149-bb68-0326ff2c4685"
      },
      "source": [
        "df_snli = pd.read_csv('snli_1.0_train.ko.tsv', sep='\\t', error_bad_lines=False)\n",
        "df_snli = df_snli.dropna()\n",
        "df_snli"
      ],
      "execution_count": null,
      "outputs": [
        {
          "output_type": "execute_result",
          "data": {
            "text/html": [
              "<div>\n",
              "<style scoped>\n",
              "    .dataframe tbody tr th:only-of-type {\n",
              "        vertical-align: middle;\n",
              "    }\n",
              "\n",
              "    .dataframe tbody tr th {\n",
              "        vertical-align: top;\n",
              "    }\n",
              "\n",
              "    .dataframe thead th {\n",
              "        text-align: right;\n",
              "    }\n",
              "</style>\n",
              "<table border=\"1\" class=\"dataframe\">\n",
              "  <thead>\n",
              "    <tr style=\"text-align: right;\">\n",
              "      <th></th>\n",
              "      <th>sentence1</th>\n",
              "      <th>sentence2</th>\n",
              "      <th>gold_label</th>\n",
              "    </tr>\n",
              "  </thead>\n",
              "  <tbody>\n",
              "    <tr>\n",
              "      <th>0</th>\n",
              "      <td>말을 탄 사람이 고장난 비행기 위로 뛰어오른다.</td>\n",
              "      <td>한 사람이 경쟁을 위해 말을 훈련시키고 있다.</td>\n",
              "      <td>neutral</td>\n",
              "    </tr>\n",
              "    <tr>\n",
              "      <th>1</th>\n",
              "      <td>말을 탄 사람이 고장난 비행기 위로 뛰어오른다.</td>\n",
              "      <td>한 사람이 식당에서 오믈렛을 주문하고 있다.</td>\n",
              "      <td>contradiction</td>\n",
              "    </tr>\n",
              "    <tr>\n",
              "      <th>2</th>\n",
              "      <td>말을 탄 사람이 고장난 비행기 위로 뛰어오른다.</td>\n",
              "      <td>사람은 야외에서 말을 타고 있다.</td>\n",
              "      <td>entailment</td>\n",
              "    </tr>\n",
              "    <tr>\n",
              "      <th>3</th>\n",
              "      <td>카메라에 웃고 손을 흔드는 아이들</td>\n",
              "      <td>그들은 부모님을 보고 웃고 있다</td>\n",
              "      <td>neutral</td>\n",
              "    </tr>\n",
              "    <tr>\n",
              "      <th>4</th>\n",
              "      <td>카메라에 웃고 손을 흔드는 아이들</td>\n",
              "      <td>아이들이 있다</td>\n",
              "      <td>entailment</td>\n",
              "    </tr>\n",
              "    <tr>\n",
              "      <th>...</th>\n",
              "      <td>...</td>\n",
              "      <td>...</td>\n",
              "      <td>...</td>\n",
              "    </tr>\n",
              "    <tr>\n",
              "      <th>550147</th>\n",
              "      <td>네 명의 더러운 맨발의 아이들.</td>\n",
              "      <td>4명의 아이들이 '가장 깨끗한 발'로 상을 받았다</td>\n",
              "      <td>contradiction</td>\n",
              "    </tr>\n",
              "    <tr>\n",
              "      <th>550148</th>\n",
              "      <td>네 명의 더러운 맨발의 아이들.</td>\n",
              "      <td>네 명의 노숙자 아이들이 신발을 도둑맞아서 그들의 발이 더러워졌다.</td>\n",
              "      <td>neutral</td>\n",
              "    </tr>\n",
              "    <tr>\n",
              "      <th>550149</th>\n",
              "      <td>한 남자가 아름다운 푸른 물에서 바디슈트를 입고 서핑을 하고 있다.</td>\n",
              "      <td>바디슈트를 입은 남자가 서핑 대회에 참가하고 있다.</td>\n",
              "      <td>neutral</td>\n",
              "    </tr>\n",
              "    <tr>\n",
              "      <th>550150</th>\n",
              "      <td>한 남자가 아름다운 푸른 물에서 바디슈트를 입고 서핑을 하고 있다.</td>\n",
              "      <td>비즈니스 슈트를 입은 남자가 이사회로 향하고 있다.</td>\n",
              "      <td>contradiction</td>\n",
              "    </tr>\n",
              "    <tr>\n",
              "      <th>550151</th>\n",
              "      <td>한 남자가 아름다운 푸른 물에서 바디슈트를 입고 서핑을 하고 있다.</td>\n",
              "      <td>아름다운 푸른 물 위에는 바디슈트를 입은 남자가 서핑을 하고 있다.</td>\n",
              "      <td>entailment</td>\n",
              "    </tr>\n",
              "  </tbody>\n",
              "</table>\n",
              "<p>550146 rows × 3 columns</p>\n",
              "</div>"
            ],
            "text/plain": [
              "                                    sentence1  ...     gold_label\n",
              "0                  말을 탄 사람이 고장난 비행기 위로 뛰어오른다.  ...        neutral\n",
              "1                  말을 탄 사람이 고장난 비행기 위로 뛰어오른다.  ...  contradiction\n",
              "2                  말을 탄 사람이 고장난 비행기 위로 뛰어오른다.  ...     entailment\n",
              "3                          카메라에 웃고 손을 흔드는 아이들  ...        neutral\n",
              "4                          카메라에 웃고 손을 흔드는 아이들  ...     entailment\n",
              "...                                       ...  ...            ...\n",
              "550147                      네 명의 더러운 맨발의 아이들.  ...  contradiction\n",
              "550148                      네 명의 더러운 맨발의 아이들.  ...        neutral\n",
              "550149  한 남자가 아름다운 푸른 물에서 바디슈트를 입고 서핑을 하고 있다.  ...        neutral\n",
              "550150  한 남자가 아름다운 푸른 물에서 바디슈트를 입고 서핑을 하고 있다.  ...  contradiction\n",
              "550151  한 남자가 아름다운 푸른 물에서 바디슈트를 입고 서핑을 하고 있다.  ...     entailment\n",
              "\n",
              "[550146 rows x 3 columns]"
            ]
          },
          "metadata": {
            "tags": []
          },
          "execution_count": 16
        }
      ]
    },
    {
      "cell_type": "code",
      "metadata": {
        "id": "Kv80j6IACZD1",
        "colab": {
          "base_uri": "https://localhost:8080/",
          "height": 407
        },
        "outputId": "3ee9b693-9f47-4a1e-f824-573198f143d3"
      },
      "source": [
        "df_train = pd.concat([df_multinli, df_snli], ignore_index=True)\n",
        "df_train"
      ],
      "execution_count": null,
      "outputs": [
        {
          "output_type": "execute_result",
          "data": {
            "text/html": [
              "<div>\n",
              "<style scoped>\n",
              "    .dataframe tbody tr th:only-of-type {\n",
              "        vertical-align: middle;\n",
              "    }\n",
              "\n",
              "    .dataframe tbody tr th {\n",
              "        vertical-align: top;\n",
              "    }\n",
              "\n",
              "    .dataframe thead th {\n",
              "        text-align: right;\n",
              "    }\n",
              "</style>\n",
              "<table border=\"1\" class=\"dataframe\">\n",
              "  <thead>\n",
              "    <tr style=\"text-align: right;\">\n",
              "      <th></th>\n",
              "      <th>sentence1</th>\n",
              "      <th>sentence2</th>\n",
              "      <th>gold_label</th>\n",
              "    </tr>\n",
              "  </thead>\n",
              "  <tbody>\n",
              "    <tr>\n",
              "      <th>0</th>\n",
              "      <td>개념적으로 크림 스키밍은 제품과 지리라는 두 가지 기본 차원을 가지고 있다.</td>\n",
              "      <td>제품과 지리학은 크림 스키밍을 작동시키는 것이다.</td>\n",
              "      <td>neutral</td>\n",
              "    </tr>\n",
              "    <tr>\n",
              "      <th>1</th>\n",
              "      <td>시즌 중에 알고 있는 거 알아? 네 레벨에서 다음 레벨로 잃어버리는 거야 브레이브스...</td>\n",
              "      <td>사람들이 기억하면 다음 수준으로 물건을 잃는다.</td>\n",
              "      <td>entailment</td>\n",
              "    </tr>\n",
              "    <tr>\n",
              "      <th>2</th>\n",
              "      <td>우리 번호 중 하나가 당신의 지시를 세밀하게 수행할 것이다.</td>\n",
              "      <td>우리 팀의 일원이 당신의 명령을 엄청나게 정확하게 실행할 것이다.</td>\n",
              "      <td>entailment</td>\n",
              "    </tr>\n",
              "    <tr>\n",
              "      <th>3</th>\n",
              "      <td>어떻게 아세요? 이 모든 것이 다시 그들의 정보다.</td>\n",
              "      <td>이 정보는 그들의 것이다.</td>\n",
              "      <td>entailment</td>\n",
              "    </tr>\n",
              "    <tr>\n",
              "      <th>4</th>\n",
              "      <td>그래, 만약 네가 테니스화 몇 개를 사러 간다면, 나는 왜 그들이 100달러대에서 ...</td>\n",
              "      <td>테니스화의 가격은 다양하다.</td>\n",
              "      <td>neutral</td>\n",
              "    </tr>\n",
              "    <tr>\n",
              "      <th>...</th>\n",
              "      <td>...</td>\n",
              "      <td>...</td>\n",
              "      <td>...</td>\n",
              "    </tr>\n",
              "    <tr>\n",
              "      <th>935532</th>\n",
              "      <td>네 명의 더러운 맨발의 아이들.</td>\n",
              "      <td>4명의 아이들이 '가장 깨끗한 발'로 상을 받았다</td>\n",
              "      <td>contradiction</td>\n",
              "    </tr>\n",
              "    <tr>\n",
              "      <th>935533</th>\n",
              "      <td>네 명의 더러운 맨발의 아이들.</td>\n",
              "      <td>네 명의 노숙자 아이들이 신발을 도둑맞아서 그들의 발이 더러워졌다.</td>\n",
              "      <td>neutral</td>\n",
              "    </tr>\n",
              "    <tr>\n",
              "      <th>935534</th>\n",
              "      <td>한 남자가 아름다운 푸른 물에서 바디슈트를 입고 서핑을 하고 있다.</td>\n",
              "      <td>바디슈트를 입은 남자가 서핑 대회에 참가하고 있다.</td>\n",
              "      <td>neutral</td>\n",
              "    </tr>\n",
              "    <tr>\n",
              "      <th>935535</th>\n",
              "      <td>한 남자가 아름다운 푸른 물에서 바디슈트를 입고 서핑을 하고 있다.</td>\n",
              "      <td>비즈니스 슈트를 입은 남자가 이사회로 향하고 있다.</td>\n",
              "      <td>contradiction</td>\n",
              "    </tr>\n",
              "    <tr>\n",
              "      <th>935536</th>\n",
              "      <td>한 남자가 아름다운 푸른 물에서 바디슈트를 입고 서핑을 하고 있다.</td>\n",
              "      <td>아름다운 푸른 물 위에는 바디슈트를 입은 남자가 서핑을 하고 있다.</td>\n",
              "      <td>entailment</td>\n",
              "    </tr>\n",
              "  </tbody>\n",
              "</table>\n",
              "<p>935537 rows × 3 columns</p>\n",
              "</div>"
            ],
            "text/plain": [
              "                                                sentence1  ...     gold_label\n",
              "0              개념적으로 크림 스키밍은 제품과 지리라는 두 가지 기본 차원을 가지고 있다.  ...        neutral\n",
              "1       시즌 중에 알고 있는 거 알아? 네 레벨에서 다음 레벨로 잃어버리는 거야 브레이브스...  ...     entailment\n",
              "2                       우리 번호 중 하나가 당신의 지시를 세밀하게 수행할 것이다.  ...     entailment\n",
              "3                            어떻게 아세요? 이 모든 것이 다시 그들의 정보다.  ...     entailment\n",
              "4       그래, 만약 네가 테니스화 몇 개를 사러 간다면, 나는 왜 그들이 100달러대에서 ...  ...        neutral\n",
              "...                                                   ...  ...            ...\n",
              "935532                                  네 명의 더러운 맨발의 아이들.  ...  contradiction\n",
              "935533                                  네 명의 더러운 맨발의 아이들.  ...        neutral\n",
              "935534              한 남자가 아름다운 푸른 물에서 바디슈트를 입고 서핑을 하고 있다.  ...        neutral\n",
              "935535              한 남자가 아름다운 푸른 물에서 바디슈트를 입고 서핑을 하고 있다.  ...  contradiction\n",
              "935536              한 남자가 아름다운 푸른 물에서 바디슈트를 입고 서핑을 하고 있다.  ...     entailment\n",
              "\n",
              "[935537 rows x 3 columns]"
            ]
          },
          "metadata": {
            "tags": []
          },
          "execution_count": 17
        }
      ]
    },
    {
      "cell_type": "code",
      "metadata": {
        "id": "H2M0T-SqCfaD",
        "colab": {
          "base_uri": "https://localhost:8080/",
          "height": 348
        },
        "outputId": "3342ea1a-cdd2-4317-b443-becad2074ae8"
      },
      "source": [
        "df_train = df_train.sample(10)\n",
        "df_train"
      ],
      "execution_count": null,
      "outputs": [
        {
          "output_type": "execute_result",
          "data": {
            "text/html": [
              "<div>\n",
              "<style scoped>\n",
              "    .dataframe tbody tr th:only-of-type {\n",
              "        vertical-align: middle;\n",
              "    }\n",
              "\n",
              "    .dataframe tbody tr th {\n",
              "        vertical-align: top;\n",
              "    }\n",
              "\n",
              "    .dataframe thead th {\n",
              "        text-align: right;\n",
              "    }\n",
              "</style>\n",
              "<table border=\"1\" class=\"dataframe\">\n",
              "  <thead>\n",
              "    <tr style=\"text-align: right;\">\n",
              "      <th></th>\n",
              "      <th>sentence1</th>\n",
              "      <th>sentence2</th>\n",
              "      <th>gold_label</th>\n",
              "    </tr>\n",
              "  </thead>\n",
              "  <tbody>\n",
              "    <tr>\n",
              "      <th>206273</th>\n",
              "      <td>그리고 당신은 정말로 우리를 도울 건가요?</td>\n",
              "      <td>저희 좀 도와주시겠어요?</td>\n",
              "      <td>neutral</td>\n",
              "    </tr>\n",
              "    <tr>\n",
              "      <th>913847</th>\n",
              "      <td>두 명의 여성이 두 마리의 개와 함께 열린 들판에 서 있고, 한 명의 여성은 양동이...</td>\n",
              "      <td>두 여자는 야외에 있다.</td>\n",
              "      <td>entailment</td>\n",
              "    </tr>\n",
              "    <tr>\n",
              "      <th>616498</th>\n",
              "      <td>물고기가 가득한 배를 가진 어부.</td>\n",
              "      <td>물고기로 가득 찬 배.</td>\n",
              "      <td>entailment</td>\n",
              "    </tr>\n",
              "    <tr>\n",
              "      <th>413539</th>\n",
              "      <td>한 가족이 해질녘에 해변가를 걷고 있다.</td>\n",
              "      <td>어떤 사람들은 여름 저녁에 해변을 걷고 있다.</td>\n",
              "      <td>neutral</td>\n",
              "    </tr>\n",
              "    <tr>\n",
              "      <th>361152</th>\n",
              "      <td>어떻게요? 카다안이 놀라며 말했다.</td>\n",
              "      <td>카다안은 이해하지 못했어요.</td>\n",
              "      <td>entailment</td>\n",
              "    </tr>\n",
              "    <tr>\n",
              "      <th>908978</th>\n",
              "      <td>쇼핑에서 돌아오는 한 가족과 한 신사가 그의 신문을 길가로 읽고 있다.</td>\n",
              "      <td>그 신사는 18대의 휠러를 몰고 거리를 내려가고 있다.</td>\n",
              "      <td>contradiction</td>\n",
              "    </tr>\n",
              "    <tr>\n",
              "      <th>10179</th>\n",
              "      <td>그는 아마도 가로채고 싶은 마음으로 서둘러 출발하기 시작했다.</td>\n",
              "      <td>그는 가로채기에 충분한 시간이 있기를 바라며 도망쳤다.</td>\n",
              "      <td>neutral</td>\n",
              "    </tr>\n",
              "    <tr>\n",
              "      <th>860650</th>\n",
              "      <td>둑에 서 있는 두 남자가 거대한 유람선을 따라 옆으로 당겨진 작은 배를 바라보고 있다.</td>\n",
              "      <td>공룡이 쥬라기 공원에서 차를 쫓는다.</td>\n",
              "      <td>contradiction</td>\n",
              "    </tr>\n",
              "    <tr>\n",
              "      <th>446607</th>\n",
              "      <td>한 사람이 숲에서 뛰어오르고 있고, 그들은 빨간 스웨터와 노란색 바지를 입고 있고,...</td>\n",
              "      <td>한 사람이 숲에 앉아 있다.</td>\n",
              "      <td>contradiction</td>\n",
              "    </tr>\n",
              "    <tr>\n",
              "      <th>140924</th>\n",
              "      <td>이 출판물은 또한 앤더슨이 이혼을 계속할 계획이며 그녀가 결코 이씨를 용서할 수 없...</td>\n",
              "      <td>그 출판물은 사람들의 개인적인 일에 대한 이야기를 하지 않는다.</td>\n",
              "      <td>contradiction</td>\n",
              "    </tr>\n",
              "  </tbody>\n",
              "</table>\n",
              "</div>"
            ],
            "text/plain": [
              "                                                sentence1  ...     gold_label\n",
              "206273                            그리고 당신은 정말로 우리를 도울 건가요?  ...        neutral\n",
              "913847  두 명의 여성이 두 마리의 개와 함께 열린 들판에 서 있고, 한 명의 여성은 양동이...  ...     entailment\n",
              "616498                                 물고기가 가득한 배를 가진 어부.  ...     entailment\n",
              "413539                             한 가족이 해질녘에 해변가를 걷고 있다.  ...        neutral\n",
              "361152                                어떻게요? 카다안이 놀라며 말했다.  ...     entailment\n",
              "908978            쇼핑에서 돌아오는 한 가족과 한 신사가 그의 신문을 길가로 읽고 있다.  ...  contradiction\n",
              "10179                  그는 아마도 가로채고 싶은 마음으로 서둘러 출발하기 시작했다.  ...        neutral\n",
              "860650   둑에 서 있는 두 남자가 거대한 유람선을 따라 옆으로 당겨진 작은 배를 바라보고 있다.  ...  contradiction\n",
              "446607  한 사람이 숲에서 뛰어오르고 있고, 그들은 빨간 스웨터와 노란색 바지를 입고 있고,...  ...  contradiction\n",
              "140924  이 출판물은 또한 앤더슨이 이혼을 계속할 계획이며 그녀가 결코 이씨를 용서할 수 없...  ...  contradiction\n",
              "\n",
              "[10 rows x 3 columns]"
            ]
          },
          "metadata": {
            "tags": []
          },
          "execution_count": 18
        }
      ]
    },
    {
      "cell_type": "code",
      "metadata": {
        "id": "onwUPnAgCWlj",
        "colab": {
          "base_uri": "https://localhost:8080/",
          "height": 407
        },
        "outputId": "cef10e17-0331-462f-fec1-203c35a0ad3d"
      },
      "source": [
        "df_dev = pd.read_csv('xnli.dev.ko.tsv', sep='\\t', error_bad_lines=False)\n",
        "df_dev = df_dev.dropna()\n",
        "df_dev"
      ],
      "execution_count": null,
      "outputs": [
        {
          "output_type": "execute_result",
          "data": {
            "text/html": [
              "<div>\n",
              "<style scoped>\n",
              "    .dataframe tbody tr th:only-of-type {\n",
              "        vertical-align: middle;\n",
              "    }\n",
              "\n",
              "    .dataframe tbody tr th {\n",
              "        vertical-align: top;\n",
              "    }\n",
              "\n",
              "    .dataframe thead th {\n",
              "        text-align: right;\n",
              "    }\n",
              "</style>\n",
              "<table border=\"1\" class=\"dataframe\">\n",
              "  <thead>\n",
              "    <tr style=\"text-align: right;\">\n",
              "      <th></th>\n",
              "      <th>sentence1</th>\n",
              "      <th>sentence2</th>\n",
              "      <th>gold_label</th>\n",
              "    </tr>\n",
              "  </thead>\n",
              "  <tbody>\n",
              "    <tr>\n",
              "      <th>0</th>\n",
              "      <td>그리고 그가 말했다, \"엄마, 저 왔어요.\"</td>\n",
              "      <td>그는 학교 버스가 그를 내려주자마자 엄마에게 전화를 걸었다.</td>\n",
              "      <td>neutral</td>\n",
              "    </tr>\n",
              "    <tr>\n",
              "      <th>1</th>\n",
              "      <td>그리고 그가 말했다, \"엄마, 저 왔어요.\"</td>\n",
              "      <td>그는 한마디도 하지 않았다.</td>\n",
              "      <td>contradiction</td>\n",
              "    </tr>\n",
              "    <tr>\n",
              "      <th>2</th>\n",
              "      <td>그리고 그가 말했다, \"엄마, 저 왔어요.\"</td>\n",
              "      <td>그는 엄마에게 집에 갔다고 말했다.</td>\n",
              "      <td>entailment</td>\n",
              "    </tr>\n",
              "    <tr>\n",
              "      <th>3</th>\n",
              "      <td>내가 무엇을 위해 가고 있는지 또는 어떤 것을 위해 있는지 몰랐기 때문에 워싱턴의 ...</td>\n",
              "      <td>나는 워싱턴에 가본 적이 없어서 거기 배정을 받았을 때 그 장소를 찾으려다가 길을 ...</td>\n",
              "      <td>neutral</td>\n",
              "    </tr>\n",
              "    <tr>\n",
              "      <th>4</th>\n",
              "      <td>내가 무엇을 위해 가고 있는지 또는 어떤 것을 위해 있는지 몰랐기 때문에 워싱턴의 ...</td>\n",
              "      <td>워싱턴으로 진군하면서 해야 할 일이 무엇인지 정확히 알고 있었다.</td>\n",
              "      <td>contradiction</td>\n",
              "    </tr>\n",
              "    <tr>\n",
              "      <th>...</th>\n",
              "      <td>...</td>\n",
              "      <td>...</td>\n",
              "      <td>...</td>\n",
              "    </tr>\n",
              "    <tr>\n",
              "      <th>1566</th>\n",
              "      <td>피스티는 피즐처럼 중간 영어의 피스틴으로 시작되어 방귀를 뀌기 위해 주먹을 쥐었다.</td>\n",
              "      <td>Fiesty는 100년 동안 존재해 왔다.</td>\n",
              "      <td>neutral</td>\n",
              "    </tr>\n",
              "    <tr>\n",
              "      <th>1567</th>\n",
              "      <td>피스티는 피즐처럼 중간 영어의 피스틴으로 시작되어 방귀를 뀌기 위해 주먹을 쥐었다.</td>\n",
              "      <td>Fiesty는 주먹질과는 무관하다.</td>\n",
              "      <td>contradiction</td>\n",
              "    </tr>\n",
              "    <tr>\n",
              "      <th>1568</th>\n",
              "      <td>진술이 더 나은 반면, 대답은 완성의 정신적 그림을 준다.</td>\n",
              "      <td>진술은 더 자세한 내용을 알려준다.</td>\n",
              "      <td>neutral</td>\n",
              "    </tr>\n",
              "    <tr>\n",
              "      <th>1569</th>\n",
              "      <td>진술이 더 나은 반면, 대답은 완성의 정신적 그림을 준다.</td>\n",
              "      <td>진술이 더 나은 것은 아니다.</td>\n",
              "      <td>contradiction</td>\n",
              "    </tr>\n",
              "    <tr>\n",
              "      <th>1570</th>\n",
              "      <td>진술이 더 나은 반면, 대답은 완성의 정신적 그림을 준다.</td>\n",
              "      <td>진술이 더 좋다.</td>\n",
              "      <td>entailment</td>\n",
              "    </tr>\n",
              "  </tbody>\n",
              "</table>\n",
              "<p>1570 rows × 3 columns</p>\n",
              "</div>"
            ],
            "text/plain": [
              "                                              sentence1  ...     gold_label\n",
              "0                              그리고 그가 말했다, \"엄마, 저 왔어요.\"  ...        neutral\n",
              "1                              그리고 그가 말했다, \"엄마, 저 왔어요.\"  ...  contradiction\n",
              "2                              그리고 그가 말했다, \"엄마, 저 왔어요.\"  ...     entailment\n",
              "3     내가 무엇을 위해 가고 있는지 또는 어떤 것을 위해 있는지 몰랐기 때문에 워싱턴의 ...  ...        neutral\n",
              "4     내가 무엇을 위해 가고 있는지 또는 어떤 것을 위해 있는지 몰랐기 때문에 워싱턴의 ...  ...  contradiction\n",
              "...                                                 ...  ...            ...\n",
              "1566     피스티는 피즐처럼 중간 영어의 피스틴으로 시작되어 방귀를 뀌기 위해 주먹을 쥐었다.  ...        neutral\n",
              "1567     피스티는 피즐처럼 중간 영어의 피스틴으로 시작되어 방귀를 뀌기 위해 주먹을 쥐었다.  ...  contradiction\n",
              "1568                   진술이 더 나은 반면, 대답은 완성의 정신적 그림을 준다.  ...        neutral\n",
              "1569                   진술이 더 나은 반면, 대답은 완성의 정신적 그림을 준다.  ...  contradiction\n",
              "1570                   진술이 더 나은 반면, 대답은 완성의 정신적 그림을 준다.  ...     entailment\n",
              "\n",
              "[1570 rows x 3 columns]"
            ]
          },
          "metadata": {
            "tags": []
          },
          "execution_count": 19
        }
      ]
    },
    {
      "cell_type": "code",
      "metadata": {
        "id": "CekYQLdKCnTN",
        "colab": {
          "base_uri": "https://localhost:8080/",
          "height": 348
        },
        "outputId": "6e958305-aa72-47bc-d0f2-6d9aa0ca991a"
      },
      "source": [
        "df_dev = df_dev.sample(10)\n",
        "df_dev"
      ],
      "execution_count": null,
      "outputs": [
        {
          "output_type": "execute_result",
          "data": {
            "text/html": [
              "<div>\n",
              "<style scoped>\n",
              "    .dataframe tbody tr th:only-of-type {\n",
              "        vertical-align: middle;\n",
              "    }\n",
              "\n",
              "    .dataframe tbody tr th {\n",
              "        vertical-align: top;\n",
              "    }\n",
              "\n",
              "    .dataframe thead th {\n",
              "        text-align: right;\n",
              "    }\n",
              "</style>\n",
              "<table border=\"1\" class=\"dataframe\">\n",
              "  <thead>\n",
              "    <tr style=\"text-align: right;\">\n",
              "      <th></th>\n",
              "      <th>sentence1</th>\n",
              "      <th>sentence2</th>\n",
              "      <th>gold_label</th>\n",
              "    </tr>\n",
              "  </thead>\n",
              "  <tbody>\n",
              "    <tr>\n",
              "      <th>1030</th>\n",
              "      <td>연구소에 주는 모든 선물과 마찬가지로, 당신의 기부금의 100%가 연구에 직접 사용...</td>\n",
              "      <td>우리는 행정비용으로 돈의 절반을 쓴다.</td>\n",
              "      <td>contradiction</td>\n",
              "    </tr>\n",
              "    <tr>\n",
              "      <th>58</th>\n",
              "      <td>그녀는 아직 그 안에 있었다.</td>\n",
              "      <td>그녀는 여전히 근처에 있었다.</td>\n",
              "      <td>entailment</td>\n",
              "    </tr>\n",
              "    <tr>\n",
              "      <th>1445</th>\n",
              "      <td>관련 언어에 관해 익숙하지 않은 사람들은 아마도 이러한 수사적 질문에 대한 해답을 ...</td>\n",
              "      <td>그들이 언어를 말할 수 없더라도, 그들은 질문에 대답할 수 있어야 한다.</td>\n",
              "      <td>contradiction</td>\n",
              "    </tr>\n",
              "    <tr>\n",
              "      <th>175</th>\n",
              "      <td>그들은 몇 가지 질문을 했고 나는 대답했고 그들은 \"수하물을 챙겨 즉시 그곳을 떠나...</td>\n",
              "      <td>그들은 내게 가방을 챙기라고 했어요.</td>\n",
              "      <td>entailment</td>\n",
              "    </tr>\n",
              "    <tr>\n",
              "      <th>1138</th>\n",
              "      <td>너가 누구 편인지 너를 확실히 알 수 없는 것 같은데.</td>\n",
              "      <td>우린 당신이 누구를 지지하는지 몰라요.</td>\n",
              "      <td>entailment</td>\n",
              "    </tr>\n",
              "    <tr>\n",
              "      <th>850</th>\n",
              "      <td>포트 로열에서 2주를 보냈다, 자메이카 비행 중대에서 그의 배는 이제 사실상 부대가...</td>\n",
              "      <td>그는 포트 로열에서 2주를 보냈다.</td>\n",
              "      <td>entailment</td>\n",
              "    </tr>\n",
              "    <tr>\n",
              "      <th>1371</th>\n",
              "      <td>또한 시간의 개념은 선형이 아닌 원형이므로 시간의 흐름을 표시하는 것은 계절적 사건...</td>\n",
              "      <td>그들은 시간을 원형으로 보기 때문에 계절적 사건의 반환이 그들에게 더 중요하다.</td>\n",
              "      <td>entailment</td>\n",
              "    </tr>\n",
              "    <tr>\n",
              "      <th>145</th>\n",
              "      <td>오늘 내가 이야기할 이야기는 아버지에 관한 것과 그가 미국으로 이주했을 때 가졌던 ...</td>\n",
              "      <td>저는 이민자로서의 저의 아버지 경험에 관해 말씀드리겠습니다.</td>\n",
              "      <td>entailment</td>\n",
              "    </tr>\n",
              "    <tr>\n",
              "      <th>723</th>\n",
              "      <td>릴라조는 농담 관계, 즉 농담을 앞뒤로 묘사할 수 있는데, 웃음을 통해 긴장을 완화...</td>\n",
              "      <td>릴라조는 전혀 재미가 없다.</td>\n",
              "      <td>contradiction</td>\n",
              "    </tr>\n",
              "    <tr>\n",
              "      <th>3</th>\n",
              "      <td>내가 무엇을 위해 가고 있는지 또는 어떤 것을 위해 있는지 몰랐기 때문에 워싱턴의 ...</td>\n",
              "      <td>나는 워싱턴에 가본 적이 없어서 거기 배정을 받았을 때 그 장소를 찾으려다가 길을 ...</td>\n",
              "      <td>neutral</td>\n",
              "    </tr>\n",
              "  </tbody>\n",
              "</table>\n",
              "</div>"
            ],
            "text/plain": [
              "                                              sentence1  ...     gold_label\n",
              "1030  연구소에 주는 모든 선물과 마찬가지로, 당신의 기부금의 100%가 연구에 직접 사용...  ...  contradiction\n",
              "58                                     그녀는 아직 그 안에 있었다.  ...     entailment\n",
              "1445  관련 언어에 관해 익숙하지 않은 사람들은 아마도 이러한 수사적 질문에 대한 해답을 ...  ...  contradiction\n",
              "175   그들은 몇 가지 질문을 했고 나는 대답했고 그들은 \"수하물을 챙겨 즉시 그곳을 떠나...  ...     entailment\n",
              "1138                     너가 누구 편인지 너를 확실히 알 수 없는 것 같은데.  ...     entailment\n",
              "850   포트 로열에서 2주를 보냈다, 자메이카 비행 중대에서 그의 배는 이제 사실상 부대가...  ...     entailment\n",
              "1371  또한 시간의 개념은 선형이 아닌 원형이므로 시간의 흐름을 표시하는 것은 계절적 사건...  ...     entailment\n",
              "145   오늘 내가 이야기할 이야기는 아버지에 관한 것과 그가 미국으로 이주했을 때 가졌던 ...  ...     entailment\n",
              "723   릴라조는 농담 관계, 즉 농담을 앞뒤로 묘사할 수 있는데, 웃음을 통해 긴장을 완화...  ...  contradiction\n",
              "3     내가 무엇을 위해 가고 있는지 또는 어떤 것을 위해 있는지 몰랐기 때문에 워싱턴의 ...  ...        neutral\n",
              "\n",
              "[10 rows x 3 columns]"
            ]
          },
          "metadata": {
            "tags": []
          },
          "execution_count": 20
        }
      ]
    },
    {
      "cell_type": "code",
      "metadata": {
        "id": "CbUbWlW-CWlj",
        "colab": {
          "base_uri": "https://localhost:8080/",
          "height": 407
        },
        "outputId": "d4255b36-10ea-411d-8062-3f09941616f3"
      },
      "source": [
        "df_test = pd.read_csv('xnli.test.ko.tsv', sep='\\t', error_bad_lines=False)\n",
        "df_test = df_test.dropna()\n",
        "df_test"
      ],
      "execution_count": null,
      "outputs": [
        {
          "output_type": "execute_result",
          "data": {
            "text/html": [
              "<div>\n",
              "<style scoped>\n",
              "    .dataframe tbody tr th:only-of-type {\n",
              "        vertical-align: middle;\n",
              "    }\n",
              "\n",
              "    .dataframe tbody tr th {\n",
              "        vertical-align: top;\n",
              "    }\n",
              "\n",
              "    .dataframe thead th {\n",
              "        text-align: right;\n",
              "    }\n",
              "</style>\n",
              "<table border=\"1\" class=\"dataframe\">\n",
              "  <thead>\n",
              "    <tr style=\"text-align: right;\">\n",
              "      <th></th>\n",
              "      <th>sentence1</th>\n",
              "      <th>sentence2</th>\n",
              "      <th>gold_label</th>\n",
              "    </tr>\n",
              "  </thead>\n",
              "  <tbody>\n",
              "    <tr>\n",
              "      <th>0</th>\n",
              "      <td>글쎄, 나는 그것에 관해 생각조차 하지 않았지만, 나는 너무 좌절했고, 결국 그에게...</td>\n",
              "      <td>나는 그와 다시 이야기하지 않았다.</td>\n",
              "      <td>contradiction</td>\n",
              "    </tr>\n",
              "    <tr>\n",
              "      <th>1</th>\n",
              "      <td>글쎄, 나는 그것에 관해 생각조차 하지 않았지만, 나는 너무 좌절했고, 결국 그에게...</td>\n",
              "      <td>나는 다시 그와 이야기를 하기 시작했다는 것에 너무 화가 났다.</td>\n",
              "      <td>entailment</td>\n",
              "    </tr>\n",
              "    <tr>\n",
              "      <th>2</th>\n",
              "      <td>글쎄, 나는 그것에 관해 생각조차 하지 않았지만, 나는 너무 좌절했고, 결국 그에게...</td>\n",
              "      <td>우리는 좋은 대화를 나눴다.</td>\n",
              "      <td>neutral</td>\n",
              "    </tr>\n",
              "    <tr>\n",
              "      <th>3</th>\n",
              "      <td>그리고 저는 그것이 특권이라고 생각했습니다, 그리고 여전히, 여전히, 당시 저는 A...</td>\n",
              "      <td>그날 현장에 나만 있었던 게 아니라는 걸 몰랐던 것이다.</td>\n",
              "      <td>neutral</td>\n",
              "    </tr>\n",
              "    <tr>\n",
              "      <th>4</th>\n",
              "      <td>그리고 저는 그것이 특권이라고 생각했습니다, 그리고 여전히, 여전히, 당시 저는 A...</td>\n",
              "      <td>나는 AFFC 공군 경력 분야에서 그 번호를 가진 유일한 사람이라는 인상을 가지고 ...</td>\n",
              "      <td>entailment</td>\n",
              "    </tr>\n",
              "    <tr>\n",
              "      <th>...</th>\n",
              "      <td>...</td>\n",
              "      <td>...</td>\n",
              "      <td>...</td>\n",
              "    </tr>\n",
              "    <tr>\n",
              "      <th>4949</th>\n",
              "      <td>데이비슨은 스콘의 발음을 '뼈'와 운을 맞추기 위해 채택해서는 안 된다. 어쨌든 그...</td>\n",
              "      <td>Davidson은 뼈와 스콘이 같은 소리를 내는 방식으로 말하면 안 된다.</td>\n",
              "      <td>entailment</td>\n",
              "    </tr>\n",
              "    <tr>\n",
              "      <th>4950</th>\n",
              "      <td>데이비슨은 스콘의 발음을 '뼈'와 운을 맞추기 위해 채택해서는 안 된다. 어쨌든 그...</td>\n",
              "      <td>Davidson이 스콘과 뼈라는 단어에 운율을 맞추는 편이 나을 것이다.</td>\n",
              "      <td>contradiction</td>\n",
              "    </tr>\n",
              "    <tr>\n",
              "      <th>4951</th>\n",
              "      <td>25달러에 20만 단어의 평균 소설은 달러당 8,000단어로 적용된다.</td>\n",
              "      <td>25달러짜리 20만 단어 소설은 공정한 가격이다.</td>\n",
              "      <td>neutral</td>\n",
              "    </tr>\n",
              "    <tr>\n",
              "      <th>4952</th>\n",
              "      <td>25달러에 20만 단어의 평균 소설은 달러당 8,000단어로 적용된다.</td>\n",
              "      <td>25달러짜리 20만 단어 소설은 달러당 4천 단어다.</td>\n",
              "      <td>contradiction</td>\n",
              "    </tr>\n",
              "    <tr>\n",
              "      <th>4953</th>\n",
              "      <td>25달러에 20만 단어의 평균 소설은 달러당 8,000단어로 적용된다.</td>\n",
              "      <td>25달러짜리 20만 단어 소설은 달러당 8,000 단어다.</td>\n",
              "      <td>entailment</td>\n",
              "    </tr>\n",
              "  </tbody>\n",
              "</table>\n",
              "<p>4954 rows × 3 columns</p>\n",
              "</div>"
            ],
            "text/plain": [
              "                                              sentence1  ...     gold_label\n",
              "0     글쎄, 나는 그것에 관해 생각조차 하지 않았지만, 나는 너무 좌절했고, 결국 그에게...  ...  contradiction\n",
              "1     글쎄, 나는 그것에 관해 생각조차 하지 않았지만, 나는 너무 좌절했고, 결국 그에게...  ...     entailment\n",
              "2     글쎄, 나는 그것에 관해 생각조차 하지 않았지만, 나는 너무 좌절했고, 결국 그에게...  ...        neutral\n",
              "3     그리고 저는 그것이 특권이라고 생각했습니다, 그리고 여전히, 여전히, 당시 저는 A...  ...        neutral\n",
              "4     그리고 저는 그것이 특권이라고 생각했습니다, 그리고 여전히, 여전히, 당시 저는 A...  ...     entailment\n",
              "...                                                 ...  ...            ...\n",
              "4949  데이비슨은 스콘의 발음을 '뼈'와 운을 맞추기 위해 채택해서는 안 된다. 어쨌든 그...  ...     entailment\n",
              "4950  데이비슨은 스콘의 발음을 '뼈'와 운을 맞추기 위해 채택해서는 안 된다. 어쨌든 그...  ...  contradiction\n",
              "4951            25달러에 20만 단어의 평균 소설은 달러당 8,000단어로 적용된다.  ...        neutral\n",
              "4952            25달러에 20만 단어의 평균 소설은 달러당 8,000단어로 적용된다.  ...  contradiction\n",
              "4953            25달러에 20만 단어의 평균 소설은 달러당 8,000단어로 적용된다.  ...     entailment\n",
              "\n",
              "[4954 rows x 3 columns]"
            ]
          },
          "metadata": {
            "tags": []
          },
          "execution_count": 21
        }
      ]
    },
    {
      "cell_type": "code",
      "metadata": {
        "id": "phfjneoACtMf",
        "colab": {
          "base_uri": "https://localhost:8080/",
          "height": 348
        },
        "outputId": "a05714a4-4bbc-4db5-fa00-df53299debb9"
      },
      "source": [
        "df_test = df_test.sample(10)\n",
        "df_test"
      ],
      "execution_count": null,
      "outputs": [
        {
          "output_type": "execute_result",
          "data": {
            "text/html": [
              "<div>\n",
              "<style scoped>\n",
              "    .dataframe tbody tr th:only-of-type {\n",
              "        vertical-align: middle;\n",
              "    }\n",
              "\n",
              "    .dataframe tbody tr th {\n",
              "        vertical-align: top;\n",
              "    }\n",
              "\n",
              "    .dataframe thead th {\n",
              "        text-align: right;\n",
              "    }\n",
              "</style>\n",
              "<table border=\"1\" class=\"dataframe\">\n",
              "  <thead>\n",
              "    <tr style=\"text-align: right;\">\n",
              "      <th></th>\n",
              "      <th>sentence1</th>\n",
              "      <th>sentence2</th>\n",
              "      <th>gold_label</th>\n",
              "    </tr>\n",
              "  </thead>\n",
              "  <tbody>\n",
              "    <tr>\n",
              "      <th>2254</th>\n",
              "      <td>원래 행동과 여전히 클론 다이크 시대에 가장 생생한 증언을 제공하는 도슨 시티의 신...</td>\n",
              "      <td>화이트호스는 영토의 수도였다.</td>\n",
              "      <td>entailment</td>\n",
              "    </tr>\n",
              "    <tr>\n",
              "      <th>1759</th>\n",
              "      <td>그리고 그 모든 것에도 불구하고, 그는 겉으로는 단호한 평정을 잃지 않았고, 두려움...</td>\n",
              "      <td>그의 마음은 안도감으로 가득 차 있었기 때문에 그의 평정은 변함없이 유지되었다.</td>\n",
              "      <td>contradiction</td>\n",
              "    </tr>\n",
              "    <tr>\n",
              "      <th>3227</th>\n",
              "      <td>캠프가 폐쇄될 것이라는 소식을 듣고 그와 다른 사람들은 칸다하르 근처의 알 파루크 ...</td>\n",
              "      <td>칸다하르 근처에는 캠프가 없었다.</td>\n",
              "      <td>contradiction</td>\n",
              "    </tr>\n",
              "    <tr>\n",
              "      <th>3403</th>\n",
              "      <td>2003년 7월 1일, KSM의 정보 보고서, 심문, 2003년 9월 5일.</td>\n",
              "      <td>KSM은 2003년에 심문을 받았다.</td>\n",
              "      <td>entailment</td>\n",
              "    </tr>\n",
              "    <tr>\n",
              "      <th>3173</th>\n",
              "      <td>라이스 장관 등은 \"파리 잡는 데 지쳤다\"라고 하는 대통령의 발언을 회상했다.</td>\n",
              "      <td>라이스 장관은 대통령이 짜증을 냈던 것을 기억했다.</td>\n",
              "      <td>entailment</td>\n",
              "    </tr>\n",
              "    <tr>\n",
              "      <th>327</th>\n",
              "      <td>그럼 그녀의 여동생의 남편도 피부가 밝은 가요?</td>\n",
              "      <td>그녀의 여동생은 흑인 남자와 결혼했다.</td>\n",
              "      <td>neutral</td>\n",
              "    </tr>\n",
              "    <tr>\n",
              "      <th>2767</th>\n",
              "      <td>이러한 결정이 내려지면 CIO 조직은 자원 할당과 일상적인 책임 실행을 통해 효과적...</td>\n",
              "      <td>CIO는 자원 할당 결정에 관여하지 않는다.</td>\n",
              "      <td>contradiction</td>\n",
              "    </tr>\n",
              "    <tr>\n",
              "      <th>2059</th>\n",
              "      <td>나폴레옹은 카탈로니아의 신성한 신전인 몽세라트의 수도원을 공격하여 파괴했다.</td>\n",
              "      <td>나폴레옹은 몽세라트 수도원의 파괴에 책임이 있었다.</td>\n",
              "      <td>entailment</td>\n",
              "    </tr>\n",
              "    <tr>\n",
              "      <th>1338</th>\n",
              "      <td>평등에 대한 미국의 접근 방식의 역설은 경제적 평등과 부의 차별에 대한 우리의 우려...</td>\n",
              "      <td>미국은 경제적 평등에 관한 문제에 관해 유럽 사회를 이끌고 있다.</td>\n",
              "      <td>contradiction</td>\n",
              "    </tr>\n",
              "    <tr>\n",
              "      <th>1163</th>\n",
              "      <td>그것은 일련의 안뜰 주변에서 계획된 그림 같은 Jacobean 부흥 단지는 Quad...</td>\n",
              "      <td>쿼드는 학생 기숙사입니다.</td>\n",
              "      <td>entailment</td>\n",
              "    </tr>\n",
              "  </tbody>\n",
              "</table>\n",
              "</div>"
            ],
            "text/plain": [
              "                                              sentence1  ...     gold_label\n",
              "2254  원래 행동과 여전히 클론 다이크 시대에 가장 생생한 증언을 제공하는 도슨 시티의 신...  ...     entailment\n",
              "1759  그리고 그 모든 것에도 불구하고, 그는 겉으로는 단호한 평정을 잃지 않았고, 두려움...  ...  contradiction\n",
              "3227  캠프가 폐쇄될 것이라는 소식을 듣고 그와 다른 사람들은 칸다하르 근처의 알 파루크 ...  ...  contradiction\n",
              "3403         2003년 7월 1일, KSM의 정보 보고서, 심문, 2003년 9월 5일.  ...     entailment\n",
              "3173        라이스 장관 등은 \"파리 잡는 데 지쳤다\"라고 하는 대통령의 발언을 회상했다.  ...     entailment\n",
              "327                          그럼 그녀의 여동생의 남편도 피부가 밝은 가요?  ...        neutral\n",
              "2767  이러한 결정이 내려지면 CIO 조직은 자원 할당과 일상적인 책임 실행을 통해 효과적...  ...  contradiction\n",
              "2059         나폴레옹은 카탈로니아의 신성한 신전인 몽세라트의 수도원을 공격하여 파괴했다.  ...     entailment\n",
              "1338  평등에 대한 미국의 접근 방식의 역설은 경제적 평등과 부의 차별에 대한 우리의 우려...  ...  contradiction\n",
              "1163  그것은 일련의 안뜰 주변에서 계획된 그림 같은 Jacobean 부흥 단지는 Quad...  ...     entailment\n",
              "\n",
              "[10 rows x 3 columns]"
            ]
          },
          "metadata": {
            "tags": []
          },
          "execution_count": 22
        }
      ]
    },
    {
      "cell_type": "code",
      "metadata": {
        "colab": {
          "base_uri": "https://localhost:8080/"
        },
        "id": "MJZwvPLwCz6G",
        "outputId": "fe8eabb1-4566-464e-8e72-e521837b52f8"
      },
      "source": [
        "label_to_id = {'contradiction': 0, 'neutral': 1, 'entailment': 2}\n",
        "id_to_label = {_id:label for label, _id in label_to_id.items()}\n",
        "\n",
        "label_to_id, id_to_label"
      ],
      "execution_count": null,
      "outputs": [
        {
          "output_type": "execute_result",
          "data": {
            "text/plain": [
              "({'contradiction': 0, 'entailment': 2, 'neutral': 1},\n",
              " {0: 'contradiction', 1: 'neutral', 2: 'entailment'})"
            ]
          },
          "metadata": {
            "tags": []
          },
          "execution_count": 23
        }
      ]
    },
    {
      "cell_type": "code",
      "metadata": {
        "id": "4-cT9xcxECIq"
      },
      "source": [
        "def make_data_1(df, vocab, n_seq):\n",
        "    inputs, labels = [], []\n",
        "    n_max = n_seq - 1 # sep\n",
        "\n",
        "    for i, row in tqdm(df.iterrows(), total=len(df)):\n",
        "        gold_label = label_to_id[row[\"gold_label\"]]\n",
        "        sentence1 = row[\"sentence1\"]\n",
        "        sentence2 = row[\"sentence2\"]\n",
        "\n",
        "        token1 = vocab.encode_as_ids(sentence1)\n",
        "        token2 = vocab.encode_as_ids(sentence2)\n",
        "        while n_max < len(token1) + len(token2):\n",
        "            if len(token1) > len(token2):\n",
        "                del token1[-1]\n",
        "            else:\n",
        "                del token2[-1]\n",
        "\n",
        "        token = token1 + [vocab.piece_to_id('[SEP]')] + token2\n",
        "        token = token + [0] * (n_seq - len(token))\n",
        "        assert len(token) == n_seq\n",
        "\n",
        "        print(gold_label, len(token), token)\n",
        "        inputs.append(token)\n",
        "        labels.append(gold_label)\n",
        "\n",
        "    inputs = np.array(inputs)\n",
        "    labels = np.array(labels)\n",
        "    return inputs, labels"
      ],
      "execution_count": null,
      "outputs": []
    },
    {
      "cell_type": "code",
      "metadata": {
        "id": "T-DHp5m_EGml"
      },
      "source": [
        "train_inputs, train_labels = make_data_1(df_train, vocab, 64)\n",
        "train_inputs, train_labels"
      ],
      "execution_count": null,
      "outputs": []
    },
    {
      "cell_type": "code",
      "metadata": {
        "id": "0IbWqUwVC7GN"
      },
      "source": [
        "def make_data_2(df, vocab, n_seq):\n",
        "    inputs_1, inputs_2, labels = [], [], []\n",
        "\n",
        "    for i, row in tqdm(df.iterrows(), total=len(df)):\n",
        "        gold_label = label_to_id[row[\"gold_label\"]]\n",
        "        sentence1 = row[\"sentence1\"]\n",
        "        sentence2 = row[\"sentence2\"]\n",
        "\n",
        "        token1 = vocab.encode_as_ids(sentence1)[:n_seq]\n",
        "        token1 = token1 + [0] * (n_seq - len(token1))\n",
        "        token2 = vocab.encode_as_ids(sentence2)[:n_seq]\n",
        "        token2 = token2 + [0] * (n_seq - len(token2))\n",
        "\n",
        "        assert len(token1) == n_seq\n",
        "        assert len(token2) == n_seq\n",
        "\n",
        "        print(gold_label, len(token1), token1, len(token2), token2)\n",
        "        inputs_1.append(token1)\n",
        "        inputs_2.append(token2)\n",
        "        labels.append(gold_label)\n",
        "\n",
        "    inputs_1 = np.array(inputs_1)\n",
        "    inputs_2 = np.array(inputs_2)\n",
        "    labels = np.array(labels)\n",
        "    return inputs_1, inputs_2, labels"
      ],
      "execution_count": null,
      "outputs": []
    },
    {
      "cell_type": "code",
      "metadata": {
        "id": "oLCd5TswC_lW"
      },
      "source": [
        "train_inputs_1, train_inputs_2, train_labels = make_data_2(df_train, vocab, 32)\n",
        "train_inputs_1, train_inputs_2, train_labels"
      ],
      "execution_count": null,
      "outputs": []
    },
    {
      "cell_type": "code",
      "metadata": {
        "id": "tNMMBYNZGJKm"
      },
      "source": [
        "dev_inputs_1, dev_inputs_2, dev_labels = make_data_2(df_dev, vocab, 32)\n",
        "dev_inputs_1, dev_inputs_2, dev_labels"
      ],
      "execution_count": null,
      "outputs": []
    },
    {
      "cell_type": "code",
      "metadata": {
        "id": "6fpMWhKAGMUm"
      },
      "source": [
        "test_inputs_1, test_inputs_2, test_labels = make_data_2(df_test, vocab, 32)\n",
        "test_inputs_1, test_inputs_2, test_labels"
      ],
      "execution_count": null,
      "outputs": []
    },
    {
      "cell_type": "markdown",
      "metadata": {
        "id": "UcCJTiPNKwMD"
      },
      "source": [
        "## Modeling"
      ]
    },
    {
      "cell_type": "code",
      "metadata": {
        "colab": {
          "base_uri": "https://localhost:8080/"
        },
        "id": "hKiVF9x0HOTu",
        "outputId": "88459e13-fe9a-4be4-e1ba-3618fdca74e7"
      },
      "source": [
        "args.n_vocab = len(vocab)\n",
        "args.d_model = 256\n",
        "args.n_out = 3\n",
        "args"
      ],
      "execution_count": null,
      "outputs": [
        {
          "output_type": "execute_result",
          "data": {
            "text/plain": [
              "Namespace(d_model=256, n_out=3, n_vocab=16007, seed=1234)"
            ]
          },
          "metadata": {
            "tags": []
          },
          "execution_count": 34
        }
      ]
    },
    {
      "cell_type": "code",
      "metadata": {
        "id": "nALdKsHKHSY2"
      },
      "source": [
        "def build_model_type1(args):\n",
        "    inputs_1 = tf.keras.layers.Input((None,), name=\"input_1\")  # (bs, n_seq_1)\n",
        "    inputs_2 = tf.keras.layers.Input((None,), name=\"input_2\")  # (bs, n_seq_2)\n",
        "\n",
        "    embedding = tf.keras.layers.Embedding(args.n_vocab, args.d_model, name=\"embedding\")\n",
        "    hidden_1 = embedding(inputs_1)  # (bs, n_seq_1, d_model)\n",
        "    hidden_2 = embedding(inputs_2)  # (bs, n_seq_2, d_model)\n",
        "    \n",
        "    lstm = tf.keras.layers.LSTM(units=args.d_model, go_backwards=True, name=\"LSTM\")\n",
        "    hidden_1 = lstm(hidden_1)  # (bs, unit)\n",
        "    hidden_2 = lstm(hidden_2)  # (bs, unit)\n",
        "\n",
        "    hidden = tf.concat([hidden_1, hidden_2, tf.abs(hidden_1 - hidden_2), hidden_1 * hidden_2], axis=-1)  # (bs, 4 * unit)\n",
        "\n",
        "    linear = tf.keras.layers.Dense(args.n_out, activation=tf.nn.softmax, name=\"out_linear\")\n",
        "    y_pred = linear(hidden)  # (bs, n_out)\n",
        "\n",
        "    model = tf.keras.Model(inputs=(inputs_1, inputs_2), outputs=y_pred)\n",
        "    return model"
      ],
      "execution_count": null,
      "outputs": []
    },
    {
      "cell_type": "code",
      "metadata": {
        "id": "KizpDBjSIIOG"
      },
      "source": [
        "model = build_model_type1(args)\n",
        "tf.keras.utils.plot_model(model, 'model.png', show_shapes=True)"
      ],
      "execution_count": null,
      "outputs": []
    },
    {
      "cell_type": "code",
      "metadata": {
        "colab": {
          "base_uri": "https://localhost:8080/"
        },
        "id": "2_yC8JzvIZ_l",
        "outputId": "1e45eec5-baa1-4d2f-94be-c6f6a021dc27"
      },
      "source": [
        "model.predict((train_inputs_1[:4], train_inputs_2[:4]))"
      ],
      "execution_count": null,
      "outputs": [
        {
          "output_type": "execute_result",
          "data": {
            "text/plain": [
              "array([[0.3348931 , 0.3309267 , 0.33418024],\n",
              "       [0.33485982, 0.33245075, 0.33268946],\n",
              "       [0.3339894 , 0.33116353, 0.33484715],\n",
              "       [0.3318387 , 0.33680362, 0.3313577 ]], dtype=float32)"
            ]
          },
          "metadata": {
            "tags": []
          },
          "execution_count": 37
        }
      ]
    },
    {
      "cell_type": "markdown",
      "metadata": {
        "id": "gWkJRJPUUVnu"
      },
      "source": [
        "## Train"
      ]
    },
    {
      "cell_type": "code",
      "metadata": {
        "id": "g0F3eGLCIcSn"
      },
      "source": [
        "model = build_model_type1(args)\n",
        "tf.keras.utils.plot_model(model, 'model.png', show_shapes=True)"
      ],
      "execution_count": null,
      "outputs": []
    },
    {
      "cell_type": "code",
      "metadata": {
        "id": "vEzYzYfDIigb"
      },
      "source": [
        "model.compile(loss=\"sparse_categorical_crossentropy\", optimizer=\"adam\", metrics=[\"accuracy\"])"
      ],
      "execution_count": null,
      "outputs": []
    },
    {
      "cell_type": "code",
      "metadata": {
        "id": "-yQDhbsgIt_v"
      },
      "source": [
        "early_stopping = tf.keras.callbacks.EarlyStopping(monitor='val_accuracy', patience=20)\n",
        "save_weights = tf.keras.callbacks.ModelCheckpoint(os.path.join(kornli_dir, \"baseline.hdf5\"),\n",
        "                                                  monitor='val_accuracy',\n",
        "                                                  verbose=1,\n",
        "                                                  save_best_only=True,\n",
        "                                                  mode=\"max\",\n",
        "                                                  save_freq=\"epoch\",\n",
        "                                                  save_weights_only=True)\n",
        "csv_logger = tf.keras.callbacks.CSVLogger(os.path.join(kornli_dir, \"baseline.csv\"))"
      ],
      "execution_count": null,
      "outputs": []
    },
    {
      "cell_type": "code",
      "metadata": {
        "id": "I3RkTIZSJI3Y"
      },
      "source": [
        "history = model.fit((train_inputs_1, train_inputs_2), train_labels,\n",
        "                    epochs=100,\n",
        "                    batch_size=64,\n",
        "                    validation_data=((dev_inputs_1, dev_inputs_2), dev_labels),\n",
        "                    callbacks=[early_stopping, save_weights, csv_logger])"
      ],
      "execution_count": null,
      "outputs": []
    },
    {
      "cell_type": "code",
      "metadata": {
        "colab": {
          "base_uri": "https://localhost:8080/",
          "height": 265
        },
        "id": "RHx_efrkJYbD",
        "outputId": "f0a3efad-fcd9-4fd3-e2db-9227a44e09fe"
      },
      "source": [
        "plt.figure(figsize=(12, 4))\n",
        "\n",
        "plt.subplot(1, 2, 1)\n",
        "plt.plot(history.history['loss'], 'b-', label='loss')\n",
        "plt.plot(history.history['val_loss'], 'r--', label='val_loss')\n",
        "\n",
        "plt.subplot(1, 2, 2)\n",
        "plt.plot(history.history['accuracy'], 'g-', label='accuracy')\n",
        "plt.plot(history.history['val_accuracy'], 'k--', label='val_accuracy')\n",
        "\n",
        "plt.show()"
      ],
      "execution_count": null,
      "outputs": [
        {
          "output_type": "display_data",
          "data": {
            "image/png": "[encoded data removed]",
            "text/plain": [
              "<Figure size 864x288 with 2 Axes>"
            ]
          },
          "metadata": {
            "tags": [],
            "needs_background": "light"
          }
        }
      ]
    },
    {
      "cell_type": "markdown",
      "metadata": {
        "id": "mUww_hyZaSnH"
      },
      "source": [
        "## 평가"
      ]
    },
    {
      "cell_type": "code",
      "metadata": {
        "id": "jCXgQ_SNdbfU"
      },
      "source": [
        "model = build_model_type1(args)\n",
        "model.load_weights(os.path.join(kornli_dir, \"baseline.hdf5\"))"
      ],
      "execution_count": null,
      "outputs": []
    },
    {
      "cell_type": "code",
      "metadata": {
        "id": "A67j5Lbmdenr"
      },
      "source": [
        "model.compile(loss=\"sparse_categorical_crossentropy\", optimizer=\"adam\", metrics=[\"accuracy\"])"
      ],
      "execution_count": null,
      "outputs": []
    },
    {
      "cell_type": "code",
      "metadata": {
        "colab": {
          "base_uri": "https://localhost:8080/"
        },
        "id": "xWIVwrOBdha0",
        "outputId": "0f11d0d8-e45f-46dd-99e4-1704ee38b87b"
      },
      "source": [
        "model.evaluate((test_inputs_1, test_inputs_2), test_labels)"
      ],
      "execution_count": null,
      "outputs": [
        {
          "output_type": "stream",
          "text": [
            "1/1 [==============================] - 2s 2s/step - loss: 1.0874 - accuracy: 0.5000\n"
          ],
          "name": "stdout"
        },
        {
          "output_type": "execute_result",
          "data": {
            "text/plain": [
              "[1.0874181985855103, 0.5]"
            ]
          },
          "metadata": {
            "tags": []
          },
          "execution_count": 57
        }
      ]
    },
    {
      "cell_type": "code",
      "metadata": {
        "colab": {
          "base_uri": "https://localhost:8080/"
        },
        "id": "y13-PXY0drxl",
        "outputId": "f89443b1-8349-42f6-a639-9feac04d6f0f"
      },
      "source": [
        "y_pred = model.predict((test_inputs_1, test_inputs_2))\n",
        "y_pred"
      ],
      "execution_count": null,
      "outputs": [
        {
          "output_type": "execute_result",
          "data": {
            "text/plain": [
              "array([[0.3402231 , 0.3213822 , 0.3383947 ],\n",
              "       [0.34178668, 0.3274646 , 0.33074868],\n",
              "       [0.33578038, 0.32578528, 0.33843434],\n",
              "       [0.3364123 , 0.3234649 , 0.3401228 ],\n",
              "       [0.3378685 , 0.33106658, 0.3310649 ],\n",
              "       [0.33472675, 0.32946122, 0.33581212],\n",
              "       [0.34080195, 0.3232355 , 0.33596256],\n",
              "       [0.33590662, 0.32945773, 0.33463565],\n",
              "       [0.3394408 , 0.3247037 , 0.33585548],\n",
              "       [0.3378986 , 0.3224935 , 0.33960786]], dtype=float32)"
            ]
          },
          "metadata": {
            "tags": []
          },
          "execution_count": 58
        }
      ]
    },
    {
      "cell_type": "code",
      "metadata": {
        "colab": {
          "base_uri": "https://localhost:8080/"
        },
        "id": "VKN7rIpUdvY-",
        "outputId": "c32b80f2-c704-4b5c-dbaa-767265c2bd84"
      },
      "source": [
        "y_class = np.argmax(y_pred, axis=-1)\n",
        "y_class"
      ],
      "execution_count": null,
      "outputs": [
        {
          "output_type": "execute_result",
          "data": {
            "text/plain": [
              "array([0, 0, 2, 2, 0, 2, 0, 0, 0, 2])"
            ]
          },
          "metadata": {
            "tags": []
          },
          "execution_count": 59
        }
      ]
    },
    {
      "cell_type": "code",
      "metadata": {
        "colab": {
          "base_uri": "https://localhost:8080/"
        },
        "id": "ZSQnxA18d4At",
        "outputId": "682e1b73-5569-4f9e-8ac0-d89dfff309b2"
      },
      "source": [
        "cf_matrix = np.zeros((3, 3)).astype(np.int)\n",
        "cf_matrix"
      ],
      "execution_count": null,
      "outputs": [
        {
          "output_type": "execute_result",
          "data": {
            "text/plain": [
              "array([[0, 0, 0],\n",
              "       [0, 0, 0],\n",
              "       [0, 0, 0]])"
            ]
          },
          "metadata": {
            "tags": []
          },
          "execution_count": 60
        }
      ]
    },
    {
      "cell_type": "code",
      "metadata": {
        "colab": {
          "base_uri": "https://localhost:8080/"
        },
        "id": "bq-EmCe3eId1",
        "outputId": "858f5f9e-8261-4d88-bece-aae5c49fd90c"
      },
      "source": [
        "for y_true, y_pred in zip(test_labels, y_class):\n",
        "    cf_matrix[int(y_true), int(y_pred)] += 1\n",
        "cf_matrix"
      ],
      "execution_count": null,
      "outputs": [
        {
          "output_type": "execute_result",
          "data": {
            "text/plain": [
              "array([[3, 0, 1],\n",
              "       [0, 0, 1],\n",
              "       [3, 0, 2]])"
            ]
          },
          "metadata": {
            "tags": []
          },
          "execution_count": 61
        }
      ]
    },
    {
      "cell_type": "markdown",
      "metadata": {
        "id": "ffFq5_Avbsq-"
      },
      "source": [
        "## 배포"
      ]
    },
    {
      "cell_type": "code",
      "metadata": {
        "id": "gP2-Aya9eQ2k"
      },
      "source": [
        "model = build_model_type1(args)\n",
        "model.load_weights(os.path.join(kornli_dir, \"baseline.hdf5\"))"
      ],
      "execution_count": null,
      "outputs": []
    },
    {
      "cell_type": "code",
      "metadata": {
        "id": "xk5jnXSueRRD"
      },
      "source": [
        "def do_predict(model, string1, string2):\n",
        "    infer_input_1 = vocab.encode_as_ids(string1)\n",
        "    infer_input_1 = np.array([infer_input_1])\n",
        "\n",
        "    infer_input_2 = vocab.encode_as_ids(string2)\n",
        "    infer_input_2 = np.array([infer_input_2])\n",
        "\n",
        "    y_pred = model.predict((infer_input_1, infer_input_2))\n",
        "    y_class = np.argmax(y_pred, axis=-1)[0]\n",
        "    return id_to_label[y_class]"
      ],
      "execution_count": null,
      "outputs": []
    },
    {
      "cell_type": "code",
      "metadata": {
        "colab": {
          "base_uri": "https://localhost:8080/"
        },
        "id": "H04Q_CuIekVQ",
        "outputId": "658533ca-fb9a-43fe-cf12-55cd1cd24e99"
      },
      "source": [
        "while True:\n",
        "    print(\"input 1> \", end=\"\")\n",
        "    string1 = str(input())\n",
        "    if len(string1) == 0:\n",
        "        break\n",
        "    print(\"input 2> \", end=\"\")\n",
        "    string2 = str(input())\n",
        "    if len(string2) == 0:\n",
        "        break\n",
        "    result = do_predict(model, string1, string2)\n",
        "    print(result)"
      ],
      "execution_count": null,
      "outputs": [
        {
          "output_type": "stream",
          "text": [
            "input 1> 나는 배가 고프다\n",
            "input 2> 나는 배가 부르다\n",
            "contradiction\n",
            "input 1> \n"
          ],
          "name": "stdout"
        }
      ]
    },
    {
      "cell_type": "markdown",
      "metadata": {
        "id": "nvWVwnBfG0nN"
      },
      "source": [
        "# All Data Project"
      ]
    },
    {
      "cell_type": "markdown",
      "metadata": {
        "id": "O0uVuL-XG0nN"
      },
      "source": [
        "## Train, Dev, Test 데이터 생성"
      ]
    },
    {
      "cell_type": "code",
      "metadata": {
        "colab": {
          "base_uri": "https://localhost:8080/",
          "height": 464
        },
        "id": "c1A4t7xyG0nO",
        "outputId": "c9a52242-617c-4bd1-d1df-1b020eeb0ec5"
      },
      "source": [
        "df_multinli = pd.read_csv('multinli.train.ko.tsv', sep='\\t', error_bad_lines=False)\n",
        "df_multinli = df_multinli.dropna()\n",
        "df_multinli"
      ],
      "execution_count": null,
      "outputs": [
        {
          "output_type": "stream",
          "text": [
            "b'Skipping line 24426: expected 3 fields, saw 4\\nSkipping line 156343: expected 3 fields, saw 4\\nSkipping line 218766: expected 3 fields, saw 4\\nSkipping line 232318: expected 3 fields, saw 4\\nSkipping line 253493: expected 3 fields, saw 4\\n'\n",
            "b'Skipping line 265734: expected 3 fields, saw 4\\nSkipping line 282588: expected 3 fields, saw 4\\nSkipping line 350969: expected 3 fields, saw 4\\n'\n"
          ],
          "name": "stderr"
        },
        {
          "output_type": "execute_result",
          "data": {
            "text/html": [
              "<div>\n",
              "<style scoped>\n",
              "    .dataframe tbody tr th:only-of-type {\n",
              "        vertical-align: middle;\n",
              "    }\n",
              "\n",
              "    .dataframe tbody tr th {\n",
              "        vertical-align: top;\n",
              "    }\n",
              "\n",
              "    .dataframe thead th {\n",
              "        text-align: right;\n",
              "    }\n",
              "</style>\n",
              "<table border=\"1\" class=\"dataframe\">\n",
              "  <thead>\n",
              "    <tr style=\"text-align: right;\">\n",
              "      <th></th>\n",
              "      <th>sentence1</th>\n",
              "      <th>sentence2</th>\n",
              "      <th>gold_label</th>\n",
              "    </tr>\n",
              "  </thead>\n",
              "  <tbody>\n",
              "    <tr>\n",
              "      <th>0</th>\n",
              "      <td>개념적으로 크림 스키밍은 제품과 지리라는 두 가지 기본 차원을 가지고 있다.</td>\n",
              "      <td>제품과 지리학은 크림 스키밍을 작동시키는 것이다.</td>\n",
              "      <td>neutral</td>\n",
              "    </tr>\n",
              "    <tr>\n",
              "      <th>1</th>\n",
              "      <td>시즌 중에 알고 있는 거 알아? 네 레벨에서 다음 레벨로 잃어버리는 거야 브레이브스...</td>\n",
              "      <td>사람들이 기억하면 다음 수준으로 물건을 잃는다.</td>\n",
              "      <td>entailment</td>\n",
              "    </tr>\n",
              "    <tr>\n",
              "      <th>2</th>\n",
              "      <td>우리 번호 중 하나가 당신의 지시를 세밀하게 수행할 것이다.</td>\n",
              "      <td>우리 팀의 일원이 당신의 명령을 엄청나게 정확하게 실행할 것이다.</td>\n",
              "      <td>entailment</td>\n",
              "    </tr>\n",
              "    <tr>\n",
              "      <th>3</th>\n",
              "      <td>어떻게 아세요? 이 모든 것이 다시 그들의 정보다.</td>\n",
              "      <td>이 정보는 그들의 것이다.</td>\n",
              "      <td>entailment</td>\n",
              "    </tr>\n",
              "    <tr>\n",
              "      <th>4</th>\n",
              "      <td>그래, 만약 네가 테니스화 몇 개를 사러 간다면, 나는 왜 그들이 100달러대에서 ...</td>\n",
              "      <td>테니스화의 가격은 다양하다.</td>\n",
              "      <td>neutral</td>\n",
              "    </tr>\n",
              "    <tr>\n",
              "      <th>...</th>\n",
              "      <td>...</td>\n",
              "      <td>...</td>\n",
              "      <td>...</td>\n",
              "    </tr>\n",
              "    <tr>\n",
              "      <th>385489</th>\n",
              "      <td>분명히, 캘리포니아는 더 잘 할 수 있고, 더 잘해야 한다.</td>\n",
              "      <td>캘리포니아는 더 잘할 수 없다.</td>\n",
              "      <td>contradiction</td>\n",
              "    </tr>\n",
              "    <tr>\n",
              "      <th>385490</th>\n",
              "      <td>한때 유럽에서 가장 아름다운 거리로 여겨졌는데, 이는 원래의 많은 건물들이 교체되었...</td>\n",
              "      <td>그래서 원래의 많은 건물들이 편의점으로 대체되었다.</td>\n",
              "      <td>neutral</td>\n",
              "    </tr>\n",
              "    <tr>\n",
              "      <th>385491</th>\n",
              "      <td>하우스보트는 영국 라지의 전성기의 아름답게 보존된 전통이다.</td>\n",
              "      <td>하우스보트의 전통은 영국 라지가 여전히 강해지는 동안 시작되었다.</td>\n",
              "      <td>entailment</td>\n",
              "    </tr>\n",
              "    <tr>\n",
              "      <th>385492</th>\n",
              "      <td>사망 기사는 그의 평론가의 신디케이트 TV 쇼에서 동료 검토 자 Roger Eber...</td>\n",
              "      <td>부고문은 아름다웠고 연예계에서의 그의 업적에 대해 현물로 쓰여졌다.</td>\n",
              "      <td>neutral</td>\n",
              "    </tr>\n",
              "    <tr>\n",
              "      <th>385493</th>\n",
              "      <td>내가 해야 한다는 걸 알거나, 아니면 누가 하라고 하는 것보다 그녀를 밀고하는 것에...</td>\n",
              "      <td>남편이 요즘 너무 과로해서 이 근처에서 많은 일을 부탁할 용기가 나지 않는다.</td>\n",
              "      <td>neutral</td>\n",
              "    </tr>\n",
              "  </tbody>\n",
              "</table>\n",
              "<p>385391 rows × 3 columns</p>\n",
              "</div>"
            ],
            "text/plain": [
              "                                                sentence1  ...     gold_label\n",
              "0              개념적으로 크림 스키밍은 제품과 지리라는 두 가지 기본 차원을 가지고 있다.  ...        neutral\n",
              "1       시즌 중에 알고 있는 거 알아? 네 레벨에서 다음 레벨로 잃어버리는 거야 브레이브스...  ...     entailment\n",
              "2                       우리 번호 중 하나가 당신의 지시를 세밀하게 수행할 것이다.  ...     entailment\n",
              "3                            어떻게 아세요? 이 모든 것이 다시 그들의 정보다.  ...     entailment\n",
              "4       그래, 만약 네가 테니스화 몇 개를 사러 간다면, 나는 왜 그들이 100달러대에서 ...  ...        neutral\n",
              "...                                                   ...  ...            ...\n",
              "385489                  분명히, 캘리포니아는 더 잘 할 수 있고, 더 잘해야 한다.  ...  contradiction\n",
              "385490  한때 유럽에서 가장 아름다운 거리로 여겨졌는데, 이는 원래의 많은 건물들이 교체되었...  ...        neutral\n",
              "385491                  하우스보트는 영국 라지의 전성기의 아름답게 보존된 전통이다.  ...     entailment\n",
              "385492  사망 기사는 그의 평론가의 신디케이트 TV 쇼에서 동료 검토 자 Roger Eber...  ...        neutral\n",
              "385493  내가 해야 한다는 걸 알거나, 아니면 누가 하라고 하는 것보다 그녀를 밀고하는 것에...  ...        neutral\n",
              "\n",
              "[385391 rows x 3 columns]"
            ]
          },
          "metadata": {
            "tags": []
          },
          "execution_count": 29
        }
      ]
    },
    {
      "cell_type": "code",
      "metadata": {
        "colab": {
          "base_uri": "https://localhost:8080/",
          "height": 407
        },
        "id": "HmjDeH9KG0nO",
        "outputId": "5afa6a96-3a26-419f-d66c-053a03d22dde"
      },
      "source": [
        "df_snli = pd.read_csv('snli_1.0_train.ko.tsv', sep='\\t', error_bad_lines=False)\n",
        "df_snli = df_snli.dropna()\n",
        "df_snli"
      ],
      "execution_count": null,
      "outputs": [
        {
          "output_type": "execute_result",
          "data": {
            "text/html": [
              "<div>\n",
              "<style scoped>\n",
              "    .dataframe tbody tr th:only-of-type {\n",
              "        vertical-align: middle;\n",
              "    }\n",
              "\n",
              "    .dataframe tbody tr th {\n",
              "        vertical-align: top;\n",
              "    }\n",
              "\n",
              "    .dataframe thead th {\n",
              "        text-align: right;\n",
              "    }\n",
              "</style>\n",
              "<table border=\"1\" class=\"dataframe\">\n",
              "  <thead>\n",
              "    <tr style=\"text-align: right;\">\n",
              "      <th></th>\n",
              "      <th>sentence1</th>\n",
              "      <th>sentence2</th>\n",
              "      <th>gold_label</th>\n",
              "    </tr>\n",
              "  </thead>\n",
              "  <tbody>\n",
              "    <tr>\n",
              "      <th>0</th>\n",
              "      <td>말을 탄 사람이 고장난 비행기 위로 뛰어오른다.</td>\n",
              "      <td>한 사람이 경쟁을 위해 말을 훈련시키고 있다.</td>\n",
              "      <td>neutral</td>\n",
              "    </tr>\n",
              "    <tr>\n",
              "      <th>1</th>\n",
              "      <td>말을 탄 사람이 고장난 비행기 위로 뛰어오른다.</td>\n",
              "      <td>한 사람이 식당에서 오믈렛을 주문하고 있다.</td>\n",
              "      <td>contradiction</td>\n",
              "    </tr>\n",
              "    <tr>\n",
              "      <th>2</th>\n",
              "      <td>말을 탄 사람이 고장난 비행기 위로 뛰어오른다.</td>\n",
              "      <td>사람은 야외에서 말을 타고 있다.</td>\n",
              "      <td>entailment</td>\n",
              "    </tr>\n",
              "    <tr>\n",
              "      <th>3</th>\n",
              "      <td>카메라에 웃고 손을 흔드는 아이들</td>\n",
              "      <td>그들은 부모님을 보고 웃고 있다</td>\n",
              "      <td>neutral</td>\n",
              "    </tr>\n",
              "    <tr>\n",
              "      <th>4</th>\n",
              "      <td>카메라에 웃고 손을 흔드는 아이들</td>\n",
              "      <td>아이들이 있다</td>\n",
              "      <td>entailment</td>\n",
              "    </tr>\n",
              "    <tr>\n",
              "      <th>...</th>\n",
              "      <td>...</td>\n",
              "      <td>...</td>\n",
              "      <td>...</td>\n",
              "    </tr>\n",
              "    <tr>\n",
              "      <th>550147</th>\n",
              "      <td>네 명의 더러운 맨발의 아이들.</td>\n",
              "      <td>4명의 아이들이 '가장 깨끗한 발'로 상을 받았다</td>\n",
              "      <td>contradiction</td>\n",
              "    </tr>\n",
              "    <tr>\n",
              "      <th>550148</th>\n",
              "      <td>네 명의 더러운 맨발의 아이들.</td>\n",
              "      <td>네 명의 노숙자 아이들이 신발을 도둑맞아서 그들의 발이 더러워졌다.</td>\n",
              "      <td>neutral</td>\n",
              "    </tr>\n",
              "    <tr>\n",
              "      <th>550149</th>\n",
              "      <td>한 남자가 아름다운 푸른 물에서 바디슈트를 입고 서핑을 하고 있다.</td>\n",
              "      <td>바디슈트를 입은 남자가 서핑 대회에 참가하고 있다.</td>\n",
              "      <td>neutral</td>\n",
              "    </tr>\n",
              "    <tr>\n",
              "      <th>550150</th>\n",
              "      <td>한 남자가 아름다운 푸른 물에서 바디슈트를 입고 서핑을 하고 있다.</td>\n",
              "      <td>비즈니스 슈트를 입은 남자가 이사회로 향하고 있다.</td>\n",
              "      <td>contradiction</td>\n",
              "    </tr>\n",
              "    <tr>\n",
              "      <th>550151</th>\n",
              "      <td>한 남자가 아름다운 푸른 물에서 바디슈트를 입고 서핑을 하고 있다.</td>\n",
              "      <td>아름다운 푸른 물 위에는 바디슈트를 입은 남자가 서핑을 하고 있다.</td>\n",
              "      <td>entailment</td>\n",
              "    </tr>\n",
              "  </tbody>\n",
              "</table>\n",
              "<p>550146 rows × 3 columns</p>\n",
              "</div>"
            ],
            "text/plain": [
              "                                    sentence1  ...     gold_label\n",
              "0                  말을 탄 사람이 고장난 비행기 위로 뛰어오른다.  ...        neutral\n",
              "1                  말을 탄 사람이 고장난 비행기 위로 뛰어오른다.  ...  contradiction\n",
              "2                  말을 탄 사람이 고장난 비행기 위로 뛰어오른다.  ...     entailment\n",
              "3                          카메라에 웃고 손을 흔드는 아이들  ...        neutral\n",
              "4                          카메라에 웃고 손을 흔드는 아이들  ...     entailment\n",
              "...                                       ...  ...            ...\n",
              "550147                      네 명의 더러운 맨발의 아이들.  ...  contradiction\n",
              "550148                      네 명의 더러운 맨발의 아이들.  ...        neutral\n",
              "550149  한 남자가 아름다운 푸른 물에서 바디슈트를 입고 서핑을 하고 있다.  ...        neutral\n",
              "550150  한 남자가 아름다운 푸른 물에서 바디슈트를 입고 서핑을 하고 있다.  ...  contradiction\n",
              "550151  한 남자가 아름다운 푸른 물에서 바디슈트를 입고 서핑을 하고 있다.  ...     entailment\n",
              "\n",
              "[550146 rows x 3 columns]"
            ]
          },
          "metadata": {
            "tags": []
          },
          "execution_count": 30
        }
      ]
    },
    {
      "cell_type": "code",
      "metadata": {
        "colab": {
          "base_uri": "https://localhost:8080/",
          "height": 407
        },
        "id": "yhsMttYeG0nP",
        "outputId": "2d62c271-f0cc-4724-ae52-72184cb38b2f"
      },
      "source": [
        "df_train = pd.concat([df_multinli, df_snli], ignore_index=True)\n",
        "df_train"
      ],
      "execution_count": null,
      "outputs": [
        {
          "output_type": "execute_result",
          "data": {
            "text/html": [
              "<div>\n",
              "<style scoped>\n",
              "    .dataframe tbody tr th:only-of-type {\n",
              "        vertical-align: middle;\n",
              "    }\n",
              "\n",
              "    .dataframe tbody tr th {\n",
              "        vertical-align: top;\n",
              "    }\n",
              "\n",
              "    .dataframe thead th {\n",
              "        text-align: right;\n",
              "    }\n",
              "</style>\n",
              "<table border=\"1\" class=\"dataframe\">\n",
              "  <thead>\n",
              "    <tr style=\"text-align: right;\">\n",
              "      <th></th>\n",
              "      <th>sentence1</th>\n",
              "      <th>sentence2</th>\n",
              "      <th>gold_label</th>\n",
              "    </tr>\n",
              "  </thead>\n",
              "  <tbody>\n",
              "    <tr>\n",
              "      <th>0</th>\n",
              "      <td>개념적으로 크림 스키밍은 제품과 지리라는 두 가지 기본 차원을 가지고 있다.</td>\n",
              "      <td>제품과 지리학은 크림 스키밍을 작동시키는 것이다.</td>\n",
              "      <td>neutral</td>\n",
              "    </tr>\n",
              "    <tr>\n",
              "      <th>1</th>\n",
              "      <td>시즌 중에 알고 있는 거 알아? 네 레벨에서 다음 레벨로 잃어버리는 거야 브레이브스...</td>\n",
              "      <td>사람들이 기억하면 다음 수준으로 물건을 잃는다.</td>\n",
              "      <td>entailment</td>\n",
              "    </tr>\n",
              "    <tr>\n",
              "      <th>2</th>\n",
              "      <td>우리 번호 중 하나가 당신의 지시를 세밀하게 수행할 것이다.</td>\n",
              "      <td>우리 팀의 일원이 당신의 명령을 엄청나게 정확하게 실행할 것이다.</td>\n",
              "      <td>entailment</td>\n",
              "    </tr>\n",
              "    <tr>\n",
              "      <th>3</th>\n",
              "      <td>어떻게 아세요? 이 모든 것이 다시 그들의 정보다.</td>\n",
              "      <td>이 정보는 그들의 것이다.</td>\n",
              "      <td>entailment</td>\n",
              "    </tr>\n",
              "    <tr>\n",
              "      <th>4</th>\n",
              "      <td>그래, 만약 네가 테니스화 몇 개를 사러 간다면, 나는 왜 그들이 100달러대에서 ...</td>\n",
              "      <td>테니스화의 가격은 다양하다.</td>\n",
              "      <td>neutral</td>\n",
              "    </tr>\n",
              "    <tr>\n",
              "      <th>...</th>\n",
              "      <td>...</td>\n",
              "      <td>...</td>\n",
              "      <td>...</td>\n",
              "    </tr>\n",
              "    <tr>\n",
              "      <th>935532</th>\n",
              "      <td>네 명의 더러운 맨발의 아이들.</td>\n",
              "      <td>4명의 아이들이 '가장 깨끗한 발'로 상을 받았다</td>\n",
              "      <td>contradiction</td>\n",
              "    </tr>\n",
              "    <tr>\n",
              "      <th>935533</th>\n",
              "      <td>네 명의 더러운 맨발의 아이들.</td>\n",
              "      <td>네 명의 노숙자 아이들이 신발을 도둑맞아서 그들의 발이 더러워졌다.</td>\n",
              "      <td>neutral</td>\n",
              "    </tr>\n",
              "    <tr>\n",
              "      <th>935534</th>\n",
              "      <td>한 남자가 아름다운 푸른 물에서 바디슈트를 입고 서핑을 하고 있다.</td>\n",
              "      <td>바디슈트를 입은 남자가 서핑 대회에 참가하고 있다.</td>\n",
              "      <td>neutral</td>\n",
              "    </tr>\n",
              "    <tr>\n",
              "      <th>935535</th>\n",
              "      <td>한 남자가 아름다운 푸른 물에서 바디슈트를 입고 서핑을 하고 있다.</td>\n",
              "      <td>비즈니스 슈트를 입은 남자가 이사회로 향하고 있다.</td>\n",
              "      <td>contradiction</td>\n",
              "    </tr>\n",
              "    <tr>\n",
              "      <th>935536</th>\n",
              "      <td>한 남자가 아름다운 푸른 물에서 바디슈트를 입고 서핑을 하고 있다.</td>\n",
              "      <td>아름다운 푸른 물 위에는 바디슈트를 입은 남자가 서핑을 하고 있다.</td>\n",
              "      <td>entailment</td>\n",
              "    </tr>\n",
              "  </tbody>\n",
              "</table>\n",
              "<p>935537 rows × 3 columns</p>\n",
              "</div>"
            ],
            "text/plain": [
              "                                                sentence1  ...     gold_label\n",
              "0              개념적으로 크림 스키밍은 제품과 지리라는 두 가지 기본 차원을 가지고 있다.  ...        neutral\n",
              "1       시즌 중에 알고 있는 거 알아? 네 레벨에서 다음 레벨로 잃어버리는 거야 브레이브스...  ...     entailment\n",
              "2                       우리 번호 중 하나가 당신의 지시를 세밀하게 수행할 것이다.  ...     entailment\n",
              "3                            어떻게 아세요? 이 모든 것이 다시 그들의 정보다.  ...     entailment\n",
              "4       그래, 만약 네가 테니스화 몇 개를 사러 간다면, 나는 왜 그들이 100달러대에서 ...  ...        neutral\n",
              "...                                                   ...  ...            ...\n",
              "935532                                  네 명의 더러운 맨발의 아이들.  ...  contradiction\n",
              "935533                                  네 명의 더러운 맨발의 아이들.  ...        neutral\n",
              "935534              한 남자가 아름다운 푸른 물에서 바디슈트를 입고 서핑을 하고 있다.  ...        neutral\n",
              "935535              한 남자가 아름다운 푸른 물에서 바디슈트를 입고 서핑을 하고 있다.  ...  contradiction\n",
              "935536              한 남자가 아름다운 푸른 물에서 바디슈트를 입고 서핑을 하고 있다.  ...     entailment\n",
              "\n",
              "[935537 rows x 3 columns]"
            ]
          },
          "metadata": {
            "tags": []
          },
          "execution_count": 31
        }
      ]
    },
    {
      "cell_type": "code",
      "metadata": {
        "colab": {
          "base_uri": "https://localhost:8080/",
          "height": 407
        },
        "id": "1am_naVVG0nQ",
        "outputId": "585a2e2a-e9c1-4f5b-b8f2-2ed93d59bf0c"
      },
      "source": [
        "df_dev = pd.read_csv('xnli.dev.ko.tsv', sep='\\t', error_bad_lines=False)\n",
        "df_dev = df_dev.dropna()\n",
        "df_dev"
      ],
      "execution_count": null,
      "outputs": [
        {
          "output_type": "execute_result",
          "data": {
            "text/html": [
              "<div>\n",
              "<style scoped>\n",
              "    .dataframe tbody tr th:only-of-type {\n",
              "        vertical-align: middle;\n",
              "    }\n",
              "\n",
              "    .dataframe tbody tr th {\n",
              "        vertical-align: top;\n",
              "    }\n",
              "\n",
              "    .dataframe thead th {\n",
              "        text-align: right;\n",
              "    }\n",
              "</style>\n",
              "<table border=\"1\" class=\"dataframe\">\n",
              "  <thead>\n",
              "    <tr style=\"text-align: right;\">\n",
              "      <th></th>\n",
              "      <th>sentence1</th>\n",
              "      <th>sentence2</th>\n",
              "      <th>gold_label</th>\n",
              "    </tr>\n",
              "  </thead>\n",
              "  <tbody>\n",
              "    <tr>\n",
              "      <th>0</th>\n",
              "      <td>그리고 그가 말했다, \"엄마, 저 왔어요.\"</td>\n",
              "      <td>그는 학교 버스가 그를 내려주자마자 엄마에게 전화를 걸었다.</td>\n",
              "      <td>neutral</td>\n",
              "    </tr>\n",
              "    <tr>\n",
              "      <th>1</th>\n",
              "      <td>그리고 그가 말했다, \"엄마, 저 왔어요.\"</td>\n",
              "      <td>그는 한마디도 하지 않았다.</td>\n",
              "      <td>contradiction</td>\n",
              "    </tr>\n",
              "    <tr>\n",
              "      <th>2</th>\n",
              "      <td>그리고 그가 말했다, \"엄마, 저 왔어요.\"</td>\n",
              "      <td>그는 엄마에게 집에 갔다고 말했다.</td>\n",
              "      <td>entailment</td>\n",
              "    </tr>\n",
              "    <tr>\n",
              "      <th>3</th>\n",
              "      <td>내가 무엇을 위해 가고 있는지 또는 어떤 것을 위해 있는지 몰랐기 때문에 워싱턴의 ...</td>\n",
              "      <td>나는 워싱턴에 가본 적이 없어서 거기 배정을 받았을 때 그 장소를 찾으려다가 길을 ...</td>\n",
              "      <td>neutral</td>\n",
              "    </tr>\n",
              "    <tr>\n",
              "      <th>4</th>\n",
              "      <td>내가 무엇을 위해 가고 있는지 또는 어떤 것을 위해 있는지 몰랐기 때문에 워싱턴의 ...</td>\n",
              "      <td>워싱턴으로 진군하면서 해야 할 일이 무엇인지 정확히 알고 있었다.</td>\n",
              "      <td>contradiction</td>\n",
              "    </tr>\n",
              "    <tr>\n",
              "      <th>...</th>\n",
              "      <td>...</td>\n",
              "      <td>...</td>\n",
              "      <td>...</td>\n",
              "    </tr>\n",
              "    <tr>\n",
              "      <th>1566</th>\n",
              "      <td>피스티는 피즐처럼 중간 영어의 피스틴으로 시작되어 방귀를 뀌기 위해 주먹을 쥐었다.</td>\n",
              "      <td>Fiesty는 100년 동안 존재해 왔다.</td>\n",
              "      <td>neutral</td>\n",
              "    </tr>\n",
              "    <tr>\n",
              "      <th>1567</th>\n",
              "      <td>피스티는 피즐처럼 중간 영어의 피스틴으로 시작되어 방귀를 뀌기 위해 주먹을 쥐었다.</td>\n",
              "      <td>Fiesty는 주먹질과는 무관하다.</td>\n",
              "      <td>contradiction</td>\n",
              "    </tr>\n",
              "    <tr>\n",
              "      <th>1568</th>\n",
              "      <td>진술이 더 나은 반면, 대답은 완성의 정신적 그림을 준다.</td>\n",
              "      <td>진술은 더 자세한 내용을 알려준다.</td>\n",
              "      <td>neutral</td>\n",
              "    </tr>\n",
              "    <tr>\n",
              "      <th>1569</th>\n",
              "      <td>진술이 더 나은 반면, 대답은 완성의 정신적 그림을 준다.</td>\n",
              "      <td>진술이 더 나은 것은 아니다.</td>\n",
              "      <td>contradiction</td>\n",
              "    </tr>\n",
              "    <tr>\n",
              "      <th>1570</th>\n",
              "      <td>진술이 더 나은 반면, 대답은 완성의 정신적 그림을 준다.</td>\n",
              "      <td>진술이 더 좋다.</td>\n",
              "      <td>entailment</td>\n",
              "    </tr>\n",
              "  </tbody>\n",
              "</table>\n",
              "<p>1570 rows × 3 columns</p>\n",
              "</div>"
            ],
            "text/plain": [
              "                                              sentence1  ...     gold_label\n",
              "0                              그리고 그가 말했다, \"엄마, 저 왔어요.\"  ...        neutral\n",
              "1                              그리고 그가 말했다, \"엄마, 저 왔어요.\"  ...  contradiction\n",
              "2                              그리고 그가 말했다, \"엄마, 저 왔어요.\"  ...     entailment\n",
              "3     내가 무엇을 위해 가고 있는지 또는 어떤 것을 위해 있는지 몰랐기 때문에 워싱턴의 ...  ...        neutral\n",
              "4     내가 무엇을 위해 가고 있는지 또는 어떤 것을 위해 있는지 몰랐기 때문에 워싱턴의 ...  ...  contradiction\n",
              "...                                                 ...  ...            ...\n",
              "1566     피스티는 피즐처럼 중간 영어의 피스틴으로 시작되어 방귀를 뀌기 위해 주먹을 쥐었다.  ...        neutral\n",
              "1567     피스티는 피즐처럼 중간 영어의 피스틴으로 시작되어 방귀를 뀌기 위해 주먹을 쥐었다.  ...  contradiction\n",
              "1568                   진술이 더 나은 반면, 대답은 완성의 정신적 그림을 준다.  ...        neutral\n",
              "1569                   진술이 더 나은 반면, 대답은 완성의 정신적 그림을 준다.  ...  contradiction\n",
              "1570                   진술이 더 나은 반면, 대답은 완성의 정신적 그림을 준다.  ...     entailment\n",
              "\n",
              "[1570 rows x 3 columns]"
            ]
          },
          "metadata": {
            "tags": []
          },
          "execution_count": 32
        }
      ]
    },
    {
      "cell_type": "code",
      "metadata": {
        "colab": {
          "base_uri": "https://localhost:8080/",
          "height": 407
        },
        "id": "F2yKH2fjG0nQ",
        "outputId": "c38f7154-bfeb-4434-891e-617fc42bfebf"
      },
      "source": [
        "df_test = pd.read_csv('xnli.test.ko.tsv', sep='\\t', error_bad_lines=False)\n",
        "df_test = df_test.dropna()\n",
        "df_test"
      ],
      "execution_count": null,
      "outputs": [
        {
          "output_type": "execute_result",
          "data": {
            "text/html": [
              "<div>\n",
              "<style scoped>\n",
              "    .dataframe tbody tr th:only-of-type {\n",
              "        vertical-align: middle;\n",
              "    }\n",
              "\n",
              "    .dataframe tbody tr th {\n",
              "        vertical-align: top;\n",
              "    }\n",
              "\n",
              "    .dataframe thead th {\n",
              "        text-align: right;\n",
              "    }\n",
              "</style>\n",
              "<table border=\"1\" class=\"dataframe\">\n",
              "  <thead>\n",
              "    <tr style=\"text-align: right;\">\n",
              "      <th></th>\n",
              "      <th>sentence1</th>\n",
              "      <th>sentence2</th>\n",
              "      <th>gold_label</th>\n",
              "    </tr>\n",
              "  </thead>\n",
              "  <tbody>\n",
              "    <tr>\n",
              "      <th>0</th>\n",
              "      <td>글쎄, 나는 그것에 관해 생각조차 하지 않았지만, 나는 너무 좌절했고, 결국 그에게...</td>\n",
              "      <td>나는 그와 다시 이야기하지 않았다.</td>\n",
              "      <td>contradiction</td>\n",
              "    </tr>\n",
              "    <tr>\n",
              "      <th>1</th>\n",
              "      <td>글쎄, 나는 그것에 관해 생각조차 하지 않았지만, 나는 너무 좌절했고, 결국 그에게...</td>\n",
              "      <td>나는 다시 그와 이야기를 하기 시작했다는 것에 너무 화가 났다.</td>\n",
              "      <td>entailment</td>\n",
              "    </tr>\n",
              "    <tr>\n",
              "      <th>2</th>\n",
              "      <td>글쎄, 나는 그것에 관해 생각조차 하지 않았지만, 나는 너무 좌절했고, 결국 그에게...</td>\n",
              "      <td>우리는 좋은 대화를 나눴다.</td>\n",
              "      <td>neutral</td>\n",
              "    </tr>\n",
              "    <tr>\n",
              "      <th>3</th>\n",
              "      <td>그리고 저는 그것이 특권이라고 생각했습니다, 그리고 여전히, 여전히, 당시 저는 A...</td>\n",
              "      <td>그날 현장에 나만 있었던 게 아니라는 걸 몰랐던 것이다.</td>\n",
              "      <td>neutral</td>\n",
              "    </tr>\n",
              "    <tr>\n",
              "      <th>4</th>\n",
              "      <td>그리고 저는 그것이 특권이라고 생각했습니다, 그리고 여전히, 여전히, 당시 저는 A...</td>\n",
              "      <td>나는 AFFC 공군 경력 분야에서 그 번호를 가진 유일한 사람이라는 인상을 가지고 ...</td>\n",
              "      <td>entailment</td>\n",
              "    </tr>\n",
              "    <tr>\n",
              "      <th>...</th>\n",
              "      <td>...</td>\n",
              "      <td>...</td>\n",
              "      <td>...</td>\n",
              "    </tr>\n",
              "    <tr>\n",
              "      <th>4949</th>\n",
              "      <td>데이비슨은 스콘의 발음을 '뼈'와 운을 맞추기 위해 채택해서는 안 된다. 어쨌든 그...</td>\n",
              "      <td>Davidson은 뼈와 스콘이 같은 소리를 내는 방식으로 말하면 안 된다.</td>\n",
              "      <td>entailment</td>\n",
              "    </tr>\n",
              "    <tr>\n",
              "      <th>4950</th>\n",
              "      <td>데이비슨은 스콘의 발음을 '뼈'와 운을 맞추기 위해 채택해서는 안 된다. 어쨌든 그...</td>\n",
              "      <td>Davidson이 스콘과 뼈라는 단어에 운율을 맞추는 편이 나을 것이다.</td>\n",
              "      <td>contradiction</td>\n",
              "    </tr>\n",
              "    <tr>\n",
              "      <th>4951</th>\n",
              "      <td>25달러에 20만 단어의 평균 소설은 달러당 8,000단어로 적용된다.</td>\n",
              "      <td>25달러짜리 20만 단어 소설은 공정한 가격이다.</td>\n",
              "      <td>neutral</td>\n",
              "    </tr>\n",
              "    <tr>\n",
              "      <th>4952</th>\n",
              "      <td>25달러에 20만 단어의 평균 소설은 달러당 8,000단어로 적용된다.</td>\n",
              "      <td>25달러짜리 20만 단어 소설은 달러당 4천 단어다.</td>\n",
              "      <td>contradiction</td>\n",
              "    </tr>\n",
              "    <tr>\n",
              "      <th>4953</th>\n",
              "      <td>25달러에 20만 단어의 평균 소설은 달러당 8,000단어로 적용된다.</td>\n",
              "      <td>25달러짜리 20만 단어 소설은 달러당 8,000 단어다.</td>\n",
              "      <td>entailment</td>\n",
              "    </tr>\n",
              "  </tbody>\n",
              "</table>\n",
              "<p>4954 rows × 3 columns</p>\n",
              "</div>"
            ],
            "text/plain": [
              "                                              sentence1  ...     gold_label\n",
              "0     글쎄, 나는 그것에 관해 생각조차 하지 않았지만, 나는 너무 좌절했고, 결국 그에게...  ...  contradiction\n",
              "1     글쎄, 나는 그것에 관해 생각조차 하지 않았지만, 나는 너무 좌절했고, 결국 그에게...  ...     entailment\n",
              "2     글쎄, 나는 그것에 관해 생각조차 하지 않았지만, 나는 너무 좌절했고, 결국 그에게...  ...        neutral\n",
              "3     그리고 저는 그것이 특권이라고 생각했습니다, 그리고 여전히, 여전히, 당시 저는 A...  ...        neutral\n",
              "4     그리고 저는 그것이 특권이라고 생각했습니다, 그리고 여전히, 여전히, 당시 저는 A...  ...     entailment\n",
              "...                                                 ...  ...            ...\n",
              "4949  데이비슨은 스콘의 발음을 '뼈'와 운을 맞추기 위해 채택해서는 안 된다. 어쨌든 그...  ...     entailment\n",
              "4950  데이비슨은 스콘의 발음을 '뼈'와 운을 맞추기 위해 채택해서는 안 된다. 어쨌든 그...  ...  contradiction\n",
              "4951            25달러에 20만 단어의 평균 소설은 달러당 8,000단어로 적용된다.  ...        neutral\n",
              "4952            25달러에 20만 단어의 평균 소설은 달러당 8,000단어로 적용된다.  ...  contradiction\n",
              "4953            25달러에 20만 단어의 평균 소설은 달러당 8,000단어로 적용된다.  ...     entailment\n",
              "\n",
              "[4954 rows x 3 columns]"
            ]
          },
          "metadata": {
            "tags": []
          },
          "execution_count": 33
        }
      ]
    },
    {
      "cell_type": "code",
      "metadata": {
        "colab": {
          "base_uri": "https://localhost:8080/"
        },
        "id": "Elk8h9NkG0nR",
        "outputId": "9a09c78e-43c3-45d5-af6d-645b5f25d71e"
      },
      "source": [
        "label_to_id = {'contradiction': 0, 'neutral': 1, 'entailment': 2}\n",
        "id_to_label = {_id:label for label, _id in label_to_id.items()}\n",
        "\n",
        "label_to_id, id_to_label"
      ],
      "execution_count": null,
      "outputs": [
        {
          "output_type": "execute_result",
          "data": {
            "text/plain": [
              "({'contradiction': 0, 'entailment': 2, 'neutral': 1},\n",
              " {0: 'contradiction', 1: 'neutral', 2: 'entailment'})"
            ]
          },
          "metadata": {
            "tags": []
          },
          "execution_count": 34
        }
      ]
    },
    {
      "cell_type": "code",
      "metadata": {
        "id": "Pb5y_K5fG0nT"
      },
      "source": [
        "def make_data_2(df, vocab, n_seq):\n",
        "    inputs_1, inputs_2, labels = [], [], []\n",
        "\n",
        "    for i, row in tqdm(df.iterrows(), total=len(df)):\n",
        "        gold_label = label_to_id[row[\"gold_label\"]]\n",
        "        sentence1 = row[\"sentence1\"]\n",
        "        sentence2 = row[\"sentence2\"]\n",
        "\n",
        "        token1 = vocab.encode_as_ids(sentence1)[:n_seq]\n",
        "        token1 = token1 + [0] * (n_seq - len(token1))\n",
        "        token2 = vocab.encode_as_ids(sentence2)[:n_seq]\n",
        "        token2 = token2 + [0] * (n_seq - len(token2))\n",
        "\n",
        "        assert len(token1) == n_seq\n",
        "        assert len(token2) == n_seq\n",
        "\n",
        "        # print(gold_label, len(token1), token1, len(token2), token2)\n",
        "        inputs_1.append(token1)\n",
        "        inputs_2.append(token2)\n",
        "        labels.append(gold_label)\n",
        "\n",
        "    inputs_1 = np.array(inputs_1)\n",
        "    inputs_2 = np.array(inputs_2)\n",
        "    labels = np.array(labels)\n",
        "    return inputs_1, inputs_2, labels"
      ],
      "execution_count": null,
      "outputs": []
    },
    {
      "cell_type": "code",
      "metadata": {
        "colab": {
          "base_uri": "https://localhost:8080/",
          "height": 340,
          "referenced_widgets": [
            "36200d9788f344879a34976ad54c18f2",
            "cac4ef71c530428fb1c644c5b2a98a8c",
            "07a9ad84a76044528621d9a37cd07e57",
            "c74570aaa2a1462386395778ca60442b",
            "3c8f88c6125f4e908d3a01aabb9942ac",
            "e62bafbcbe8644eebc234b08d65af66a",
            "bf12e82e7cb84cb0ba4c3295f1ed706d",
            "41ce9f1881b44837b83dd6dc31841f5f"
          ]
        },
        "id": "UFUjJq-sG0nT",
        "outputId": "ba74b62f-d03e-4ca2-c923-5097896fee21"
      },
      "source": [
        "train_inputs_1, train_inputs_2, train_labels = make_data_2(df_train, vocab, 32)\n",
        "train_inputs_1, train_inputs_2, train_labels"
      ],
      "execution_count": null,
      "outputs": [
        {
          "output_type": "display_data",
          "data": {
            "application/vnd.jupyter.widget-view+json": {
              "model_id": "36200d9788f344879a34976ad54c18f2",
              "version_minor": 0,
              "version_major": 2
            },
            "text/plain": [
              "HBox(children=(FloatProgress(value=0.0, max=935537.0), HTML(value='')))"
            ]
          },
          "metadata": {
            "tags": []
          }
        },
        {
          "output_type": "stream",
          "text": [
            "\n"
          ],
          "name": "stdout"
        },
        {
          "output_type": "execute_result",
          "data": {
            "text/plain": [
              "(array([[2409,  390, 3957, ...,    0,    0,    0],\n",
              "        [3179,  894,  163, ..., 1514, 8133,   21],\n",
              "        [  52, 2755,  118, ...,    0,    0,    0],\n",
              "        ...,\n",
              "        [  17,   18,   10, ...,    0,    0,    0],\n",
              "        [  17,   18,   10, ...,    0,    0,    0],\n",
              "        [  17,   18,   10, ...,    0,    0,    0]]),\n",
              " array([[  879,    30,   461, ...,     0,     0,     0],\n",
              "        [   40,  4526,   179, ...,     0,     0,     0],\n",
              "        [   52,   498,    13, ...,     0,     0,     0],\n",
              "        ...,\n",
              "        [12185,  8679,     9, ...,     0,     0,     0],\n",
              "        [ 1288,  6538,     9, ...,     0,     0,     0],\n",
              "        [  872,   156,   830, ...,     0,     0,     0]]),\n",
              " array([1, 2, 2, ..., 1, 0, 2]))"
            ]
          },
          "metadata": {
            "tags": []
          },
          "execution_count": 36
        }
      ]
    },
    {
      "cell_type": "code",
      "metadata": {
        "colab": {
          "base_uri": "https://localhost:8080/",
          "height": 340,
          "referenced_widgets": [
            "b2cd35a58acf44ae865f657de6ecb213",
            "0a77013f0b454b07a6dc37214e766c47",
            "14e8c60a9e514d22ae3ddc34a91ad1d9",
            "99ee5e9087224f18b10ec5aafe296b3b",
            "032b10a3b63348a6bdc9931c6ecf92c7",
            "c7360469ee694e979272563b38713891",
            "6bbcf583cd124c719d17a56926820d9e",
            "df40c0e0643247cc89bff3fc545efbb8"
          ]
        },
        "id": "a6bCSwwDG0nU",
        "outputId": "bd32446a-1591-418e-af6d-b5022324690a"
      },
      "source": [
        "dev_inputs_1, dev_inputs_2, dev_labels = make_data_2(df_dev, vocab, 32)\n",
        "dev_inputs_1, dev_inputs_2, dev_labels"
      ],
      "execution_count": null,
      "outputs": [
        {
          "output_type": "display_data",
          "data": {
            "application/vnd.jupyter.widget-view+json": {
              "model_id": "b2cd35a58acf44ae865f657de6ecb213",
              "version_minor": 0,
              "version_major": 2
            },
            "text/plain": [
              "HBox(children=(FloatProgress(value=0.0, max=1570.0), HTML(value='')))"
            ]
          },
          "metadata": {
            "tags": []
          }
        },
        {
          "output_type": "stream",
          "text": [
            "\n"
          ],
          "name": "stdout"
        },
        {
          "output_type": "execute_result",
          "data": {
            "text/plain": [
              "(array([[  79,   22,   10, ...,    0,    0,    0],\n",
              "        [  79,   22,   10, ...,    0,    0,    0],\n",
              "        [  79,   22,   10, ...,    0,    0,    0],\n",
              "        ...,\n",
              "        [2443,   21,   63, ...,    0,    0,    0],\n",
              "        [2443,   21,   63, ...,    0,    0,    0],\n",
              "        [2443,   21,   63, ...,    0,    0,    0]]),\n",
              " array([[  82,  754,  601, ...,    0,    0,    0],\n",
              "        [  82,   17,  591, ...,    0,    0,    0],\n",
              "        [  82,  814,   90, ...,    0,    0,    0],\n",
              "        ...,\n",
              "        [2443,   14,   63, ...,    0,    0,    0],\n",
              "        [2443,   21,   63, ...,    0,    0,    0],\n",
              "        [2443,   21,   63, ...,    0,    0,    0]]),\n",
              " array([1, 0, 2, ..., 1, 0, 2]))"
            ]
          },
          "metadata": {
            "tags": []
          },
          "execution_count": 37
        }
      ]
    },
    {
      "cell_type": "code",
      "metadata": {
        "colab": {
          "base_uri": "https://localhost:8080/",
          "height": 340,
          "referenced_widgets": [
            "615d29261fc14ae893ad2243bacd5730",
            "fea2750f05854a438d7ae3cd5e531f41",
            "7049a8ef591341cc88226f23679faa03",
            "a486a24bb53d461c9d16eafc2c22fe86",
            "fbec3904ec5b43aea8f8a2202a747765",
            "23c05878937142d58ece848975bad968",
            "0ddc7aeb5d6f45929c8f541dbcce8b6f",
            "4e95742b96854e84baf31ba75f995335"
          ]
        },
        "id": "VHHEWHSuG0nU",
        "outputId": "4376f7ae-80e0-4487-f63a-d1b55f6560cc"
      },
      "source": [
        "test_inputs_1, test_inputs_2, test_labels = make_data_2(df_test, vocab, 32)\n",
        "test_inputs_1, test_inputs_2, test_labels"
      ],
      "execution_count": null,
      "outputs": [
        {
          "output_type": "display_data",
          "data": {
            "application/vnd.jupyter.widget-view+json": {
              "model_id": "615d29261fc14ae893ad2243bacd5730",
              "version_minor": 0,
              "version_major": 2
            },
            "text/plain": [
              "HBox(children=(FloatProgress(value=0.0, max=4954.0), HTML(value='')))"
            ]
          },
          "metadata": {
            "tags": []
          }
        },
        {
          "output_type": "stream",
          "text": [
            "\n"
          ],
          "name": "stdout"
        },
        {
          "output_type": "execute_result",
          "data": {
            "text/plain": [
              "(array([[2202,   16,   39, ...,    0,    0,    0],\n",
              "        [2202,   16,   39, ...,    0,    0,    0],\n",
              "        [2202,   16,   39, ...,    0,    0,    0],\n",
              "        ...,\n",
              "        [2340, 6771,  644, ...,    0,    0,    0],\n",
              "        [2340, 6771,  644, ...,    0,    0,    0],\n",
              "        [2340, 6771,  644, ...,    0,    0,    0]]),\n",
              " array([[  39,   22,   29, ...,    0,    0,    0],\n",
              "        [  39,  339,   22, ...,    0,    0,    0],\n",
              "        [  52,   12,  194, ...,    0,    0,    0],\n",
              "        ...,\n",
              "        [2340,  864, 4689, ...,    0,    0,    0],\n",
              "        [2340,  864, 4689, ...,    0,    0,    0],\n",
              "        [2340,  864, 4689, ...,    0,    0,    0]]),\n",
              " array([0, 2, 1, ..., 1, 0, 2]))"
            ]
          },
          "metadata": {
            "tags": []
          },
          "execution_count": 38
        }
      ]
    },
    {
      "cell_type": "markdown",
      "metadata": {
        "id": "Gu-KVy1QG0nU"
      },
      "source": [
        "## Modeling"
      ]
    },
    {
      "cell_type": "code",
      "metadata": {
        "colab": {
          "base_uri": "https://localhost:8080/"
        },
        "id": "903X8mPbG0nU",
        "outputId": "0d571d38-f91c-49c7-e5f8-2a2ff047a796"
      },
      "source": [
        "args.n_vocab = len(vocab)\n",
        "args.d_model = 256\n",
        "args.n_out = 3\n",
        "args"
      ],
      "execution_count": null,
      "outputs": [
        {
          "output_type": "execute_result",
          "data": {
            "text/plain": [
              "Namespace(d_model=256, n_out=3, n_vocab=16007, seed=1234)"
            ]
          },
          "metadata": {
            "tags": []
          },
          "execution_count": 39
        }
      ]
    },
    {
      "cell_type": "code",
      "metadata": {
        "id": "ctSRBdAeG7xd"
      },
      "source": [
        "def get_pad_mask(tokens, i_pad=0):\n",
        "    \"\"\"\n",
        "    pad mask 계산하는 함수\n",
        "    :param tokens: tokens (bs, n_seq)\n",
        "    :param i_pad: id of pad\n",
        "    :return mask: pad mask (pad: 1, other: 0)\n",
        "    \"\"\"\n",
        "    # 0인 부분 확인\n",
        "    mask = tf.math.equal(tokens, i_pad)\n",
        "    # boolean -> float 32\n",
        "    mask = tf.cast(mask, tf.float32)\n",
        "    # expand dimension for n_seq\n",
        "    mask = tf.expand_dims(mask, axis=1)\n",
        "    # print(mask)\n",
        "    return mask"
      ],
      "execution_count": null,
      "outputs": []
    },
    {
      "cell_type": "code",
      "metadata": {
        "id": "IFkp9rLd_Etz"
      },
      "source": [
        "class ScaleDotProductAttention(tf.keras.layers.Layer):\n",
        "    \"\"\"\n",
        "    Scale Dot Product Attention Class\n",
        "    \"\"\"\n",
        "    def __init__(self, name=\"scale_dot_product_attention\"):\n",
        "        \"\"\"\n",
        "        생성자\n",
        "        :param name: layer name\n",
        "        \"\"\"\n",
        "        super().__init__(name=name)\n",
        "\n",
        "    def call(self, inputs):\n",
        "        \"\"\"\n",
        "        layer 실행\n",
        "        :param inputs: Q, K, V, attn_mask tuple\n",
        "        :return attn_out: attention 실행 결과\n",
        "        \"\"\"\n",
        "        Q, K, V, attn_mask = inputs\n",
        "        # matmul Q, K (transpose_b=True)\n",
        "        attn_score = tf.matmul(Q, K, transpose_b=True)\n",
        "        # get scale = d_model ** 0.5\n",
        "        scale = tf.math.sqrt(tf.cast(tf.shape(K)[-1], tf.float32))\n",
        "        # divide by scale\n",
        "        attn_scale = tf.math.divide(attn_score, scale)\n",
        "        # do mask (subtract 1e-9 for masked value)\n",
        "        attn_scale -= 1.e9 * attn_mask\n",
        "        # calculate attention prob\n",
        "        attn_prob = tf.nn.softmax(attn_scale, axis=-1)\n",
        "        # weighted sum of V\n",
        "        attn_out = tf.matmul(attn_prob, V)\n",
        "        return attn_out"
      ],
      "execution_count": null,
      "outputs": []
    },
    {
      "cell_type": "code",
      "metadata": {
        "id": "xaE9wkcaG0nU"
      },
      "source": [
        "def build_model_type1(args):\n",
        "    inputs_1 = tf.keras.layers.Input((None,), name=\"input_1\")  # (bs, n_seq_1)\n",
        "    inputs_2 = tf.keras.layers.Input((None,), name=\"input_2\")  # (bs, n_seq_2)\n",
        "\n",
        "    mask_1 = get_pad_mask(inputs_1)\n",
        "    mask_2 = get_pad_mask(inputs_2)\n",
        "\n",
        "    embedding = tf.keras.layers.Embedding(args.n_vocab, args.d_model, name=\"embedding\")\n",
        "    hidden_1 = embedding(inputs_1)  # (bs, n_seq_1, d_model)\n",
        "    hidden_2 = embedding(inputs_2)  # (bs, n_seq_2, d_model)\n",
        "    \n",
        "    lstm = tf.keras.layers.LSTM(units=args.d_model, return_sequences=True, go_backwards=True, name=\"LSTM\")\n",
        "    hidden_1 = lstm(hidden_1)  # (bs, n_seq_1, unit)\n",
        "    hidden_2 = lstm(hidden_2)  # (bs, n_seq_2, unit)\n",
        "\n",
        "    attention = ScaleDotProductAttention()\n",
        "    attn_1 = attention((hidden_1, hidden_2, hidden_2, mask_2))\n",
        "    attn_2 = attention((hidden_2, hidden_1, hidden_1, mask_1))\n",
        "\n",
        "    pool = tf.keras.layers.GlobalMaxPool1D()\n",
        "    hidden_1 = pool(hidden_1)\n",
        "    hidden_2 = pool(hidden_2)\n",
        "    attn_1 = pool(attn_1)\n",
        "    attn_2 = pool(attn_2)\n",
        "\n",
        "    hidden = tf.concat([hidden_1, hidden_2, attn_1, attn_2], axis=-1)  # (bs, 4 * unit)\n",
        "    linear = tf.keras.layers.Dense(args.d_model, activation=tf.nn.relu)\n",
        "    hidden = linear(hidden)\n",
        "\n",
        "    linear = tf.keras.layers.Dense(args.n_out, activation=tf.nn.softmax, name=\"out_linear\")\n",
        "    y_pred = linear(hidden)  # (bs, n_out)\n",
        "\n",
        "    model = tf.keras.Model(inputs=(inputs_1, inputs_2), outputs=y_pred)\n",
        "    return model"
      ],
      "execution_count": null,
      "outputs": []
    },
    {
      "cell_type": "code",
      "metadata": {
        "colab": {
          "base_uri": "https://localhost:8080/",
          "height": 976
        },
        "id": "IT4Ft8DmG0nV",
        "outputId": "3d8d7b56-3165-441f-f858-42c565e30c25"
      },
      "source": [
        "model = build_model_type1(args)\n",
        "tf.keras.utils.plot_model(model, 'model.png', show_shapes=True)"
      ],
      "execution_count": null,
      "outputs": [
        {
          "output_type": "execute_result",
          "data": {
            "image/png": "[encoded data removed]",
            "text/plain": [
              "<IPython.core.display.Image object>"
            ]
          },
          "metadata": {
            "tags": []
          },
          "execution_count": 43
        }
      ]
    },
    {
      "cell_type": "code",
      "metadata": {
        "colab": {
          "base_uri": "https://localhost:8080/"
        },
        "id": "a7wztY6DG0nV",
        "outputId": "fb94293e-0450-4e25-d1cd-eb88d893af84"
      },
      "source": [
        "model.predict((train_inputs_1[:4], train_inputs_2[:4]))"
      ],
      "execution_count": null,
      "outputs": [
        {
          "output_type": "execute_result",
          "data": {
            "text/plain": [
              "array([[0.33201614, 0.334019  , 0.3339648 ],\n",
              "       [0.33284402, 0.33493695, 0.332219  ],\n",
              "       [0.33077398, 0.33385557, 0.33537045],\n",
              "       [0.33179367, 0.33379737, 0.33440894]], dtype=float32)"
            ]
          },
          "metadata": {
            "tags": []
          },
          "execution_count": 44
        }
      ]
    },
    {
      "cell_type": "markdown",
      "metadata": {
        "id": "cCclL-kAG0nV"
      },
      "source": [
        "## Train"
      ]
    },
    {
      "cell_type": "code",
      "metadata": {
        "colab": {
          "base_uri": "https://localhost:8080/",
          "height": 976
        },
        "id": "cPmv0bCHG0nV",
        "outputId": "346d4d67-3494-4ba9-b461-49d6a286d67d"
      },
      "source": [
        "model = build_model_type1(args)\n",
        "tf.keras.utils.plot_model(model, 'model.png', show_shapes=True)"
      ],
      "execution_count": null,
      "outputs": [
        {
          "output_type": "execute_result",
          "data": {
            "image/png": "[encoded data removed]",
            "text/plain": [
              "<IPython.core.display.Image object>"
            ]
          },
          "metadata": {
            "tags": []
          },
          "execution_count": 45
        }
      ]
    },
    {
      "cell_type": "code",
      "metadata": {
        "id": "KgX_yYv4G0nW"
      },
      "source": [
        "model.compile(loss=\"sparse_categorical_crossentropy\", optimizer=\"adam\", metrics=[\"accuracy\"])"
      ],
      "execution_count": null,
      "outputs": []
    },
    {
      "cell_type": "code",
      "metadata": {
        "id": "a-f7GDNmG0nW"
      },
      "source": [
        "early_stopping = tf.keras.callbacks.EarlyStopping(monitor='val_accuracy', patience=20)\n",
        "save_weights = tf.keras.callbacks.ModelCheckpoint(os.path.join(kornli_dir, \"baseline.hdf5\"),\n",
        "                                                  monitor='val_accuracy',\n",
        "                                                  verbose=1,\n",
        "                                                  save_best_only=True,\n",
        "                                                  mode=\"max\",\n",
        "                                                  save_freq=\"epoch\",\n",
        "                                                  save_weights_only=True)\n",
        "csv_logger = tf.keras.callbacks.CSVLogger(os.path.join(kornli_dir, \"baseline.csv\"))"
      ],
      "execution_count": null,
      "outputs": []
    },
    {
      "cell_type": "code",
      "metadata": {
        "colab": {
          "base_uri": "https://localhost:8080/"
        },
        "id": "0-hf72fUG0nW",
        "outputId": "be727307-7497-4dcf-9c01-21e3e969206d"
      },
      "source": [
        "history = model.fit((train_inputs_1, train_inputs_2), train_labels,\n",
        "                    epochs=2,\n",
        "                    batch_size=512,\n",
        "                    validation_data=((dev_inputs_1, dev_inputs_2), dev_labels),\n",
        "                    callbacks=[early_stopping, save_weights, csv_logger])"
      ],
      "execution_count": null,
      "outputs": [
        {
          "output_type": "stream",
          "text": [
            "Epoch 1/2\n",
            "1828/1828 [==============================] - 152s 81ms/step - loss: 0.8447 - accuracy: 0.6089 - val_loss: 0.8653 - val_accuracy: 0.5994\n",
            "\n",
            "Epoch 00001: val_accuracy improved from -inf to 0.59936, saving model to /content/drive/MyDrive/Data/nlp/kornli/baseline.hdf5\n",
            "Epoch 2/2\n",
            "1828/1828 [==============================] - 147s 80ms/step - loss: 0.7372 - accuracy: 0.6769 - val_loss: 0.8444 - val_accuracy: 0.6134\n",
            "\n",
            "Epoch 00002: val_accuracy improved from 0.59936 to 0.61338, saving model to /content/drive/MyDrive/Data/nlp/kornli/baseline.hdf5\n"
          ],
          "name": "stdout"
        }
      ]
    },
    {
      "cell_type": "code",
      "metadata": {
        "colab": {
          "base_uri": "https://localhost:8080/",
          "height": 267
        },
        "id": "nuvaF9sqG0nW",
        "outputId": "8495123e-542d-407e-9961-b467e25eeac9"
      },
      "source": [
        "plt.figure(figsize=(12, 4))\n",
        "\n",
        "plt.subplot(1, 2, 1)\n",
        "plt.plot(history.history['loss'], 'b-', label='loss')\n",
        "plt.plot(history.history['val_loss'], 'r--', label='val_loss')\n",
        "\n",
        "plt.subplot(1, 2, 2)\n",
        "plt.plot(history.history['accuracy'], 'g-', label='accuracy')\n",
        "plt.plot(history.history['val_accuracy'], 'k--', label='val_accuracy')\n",
        "\n",
        "plt.show()"
      ],
      "execution_count": null,
      "outputs": [
        {
          "output_type": "display_data",
          "data": {
            "image/png": "[encoded data removed]",
            "text/plain": [
              "<Figure size 864x288 with 2 Axes>"
            ]
          },
          "metadata": {
            "tags": [],
            "needs_background": "light"
          }
        }
      ]
    },
    {
      "cell_type": "markdown",
      "metadata": {
        "id": "AmQvhkFsG0nX"
      },
      "source": [
        "## 평가"
      ]
    },
    {
      "cell_type": "code",
      "metadata": {
        "id": "0V6nt6ymG0nX"
      },
      "source": [
        "model = build_model_type1(args)\n",
        "model.load_weights(os.path.join(kornli_dir, \"baseline.hdf5\"))"
      ],
      "execution_count": null,
      "outputs": []
    },
    {
      "cell_type": "code",
      "metadata": {
        "id": "23Ge4ycGG0nX"
      },
      "source": [
        "model.compile(loss=\"sparse_categorical_crossentropy\", optimizer=\"adam\", metrics=[\"accuracy\"])"
      ],
      "execution_count": null,
      "outputs": []
    },
    {
      "cell_type": "code",
      "metadata": {
        "id": "9V-G3CPMG0nX"
      },
      "source": [
        "model.evaluate((test_inputs_1, test_inputs_2), test_labels)"
      ],
      "execution_count": null,
      "outputs": []
    },
    {
      "cell_type": "code",
      "metadata": {
        "id": "966A5vobG0nY"
      },
      "source": [
        "y_pred = model.predict((test_inputs_1, test_inputs_2))\n",
        "y_pred"
      ],
      "execution_count": null,
      "outputs": []
    },
    {
      "cell_type": "code",
      "metadata": {
        "id": "9D2EsmcXG0nY"
      },
      "source": [
        "y_class = np.argmax(y_pred, axis=-1)\n",
        "y_class"
      ],
      "execution_count": null,
      "outputs": []
    },
    {
      "cell_type": "code",
      "metadata": {
        "id": "kLaD8XVcG0nY"
      },
      "source": [
        "cf_matrix = np.zeros((3, 3)).astype(np.int)\n",
        "cf_matrix"
      ],
      "execution_count": null,
      "outputs": []
    },
    {
      "cell_type": "code",
      "metadata": {
        "id": "q_E3GGqYG0nZ"
      },
      "source": [
        "for y_true, y_pred in zip(test_labels, y_class):\n",
        "    cf_matrix[int(y_true), int(y_pred)] += 1\n",
        "cf_matrix"
      ],
      "execution_count": null,
      "outputs": []
    },
    {
      "cell_type": "markdown",
      "metadata": {
        "id": "vgM-p41kG0nZ"
      },
      "source": [
        "## 배포"
      ]
    },
    {
      "cell_type": "code",
      "metadata": {
        "id": "BDxe1rF5G0nZ"
      },
      "source": [
        "model = build_model_type1(args)\n",
        "model.load_weights(os.path.join(kornli_dir, \"baseline.hdf5\"))"
      ],
      "execution_count": null,
      "outputs": []
    },
    {
      "cell_type": "code",
      "metadata": {
        "id": "9kTW3PDwG0na"
      },
      "source": [
        "def do_predict(model, string1, string2):\n",
        "    infer_input_1 = vocab.encode_as_ids(string1)\n",
        "    infer_input_1 = np.array([infer_input_1])\n",
        "\n",
        "    infer_input_2 = vocab.encode_as_ids(string2)\n",
        "    infer_input_2 = np.array([infer_input_2])\n",
        "\n",
        "    y_pred = model.predict((infer_input_1, infer_input_2))\n",
        "    y_class = np.argmax(y_pred, axis=-1)[0]\n",
        "    return id_to_label[y_class]"
      ],
      "execution_count": null,
      "outputs": []
    },
    {
      "cell_type": "code",
      "metadata": {
        "colab": {
          "base_uri": "https://localhost:8080/"
        },
        "id": "3gU5Eva_G0na",
        "outputId": "658533ca-fb9a-43fe-cf12-55cd1cd24e99"
      },
      "source": [
        "while True:\n",
        "    print(\"input 1> \", end=\"\")\n",
        "    string1 = str(input())\n",
        "    if len(string1) == 0:\n",
        "        break\n",
        "    print(\"input 2> \", end=\"\")\n",
        "    string2 = str(input())\n",
        "    if len(string2) == 0:\n",
        "        break\n",
        "    result = do_predict(model, string1, string2)\n",
        "    print(result)"
      ],
      "execution_count": null,
      "outputs": [
        {
          "output_type": "stream",
          "text": [
            "input 1> 나는 배가 고프다\n",
            "input 2> 나는 배가 부르다\n",
            "contradiction\n",
            "input 1> \n"
          ],
          "name": "stdout"
        }
      ]
    },
    {
      "cell_type": "code",
      "metadata": {
        "id": "wB1R3x4tG0nb"
      },
      "source": [
        ""
      ],
      "execution_count": null,
      "outputs": []
    }
  ]
}